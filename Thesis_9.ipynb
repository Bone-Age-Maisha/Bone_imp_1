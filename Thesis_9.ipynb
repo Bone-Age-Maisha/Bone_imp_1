{
  "nbformat": 4,
  "nbformat_minor": 0,
  "metadata": {
    "colab": {
      "provenance": [],
      "machine_shape": "hm",
      "authorship_tag": "ABX9TyPNY1t9mf8NEfM3mxTTSrLg",
      "include_colab_link": true
    },
    "kernelspec": {
      "name": "python3",
      "display_name": "Python 3"
    },
    "language_info": {
      "name": "python"
    },
    "accelerator": "GPU",
    "gpuClass": "standard"
  },
  "cells": [
    {
      "cell_type": "markdown",
      "metadata": {
        "id": "view-in-github",
        "colab_type": "text"
      },
      "source": [
        "<a href=\"https://colab.research.google.com/github/Bone-Age-Maisha/Bone_imp_1/blob/main/Thesis_9.ipynb\" target=\"_parent\"><img src=\"https://colab.research.google.com/assets/colab-badge.svg\" alt=\"Open In Colab\"/></a>"
      ]
    },
    {
      "cell_type": "code",
      "execution_count": null,
      "metadata": {
        "id": "UvCMAP68Bcxn"
      },
      "outputs": [],
      "source": []
    },
    {
      "cell_type": "code",
      "execution_count": null,
      "metadata": {
        "colab": {
          "base_uri": "https://localhost:8080/"
        },
        "id": "vGU48tq_tcdT",
        "outputId": "1f7b7593-c587-4c44-80c4-6c76d939acc8"
      },
      "outputs": [
        {
          "output_type": "stream",
          "name": "stdout",
          "text": [
            "Drive already mounted at /content/drive; to attempt to forcibly remount, call drive.mount(\"/content/drive\", force_remount=True).\n"
          ]
        }
      ],
      "source": [
        "from google.colab import drive\n",
        "drive.mount('/content/drive')"
      ]
    },
    {
      "cell_type": "code",
      "execution_count": null,
      "metadata": {
        "id": "MFsSxjDQ7ag1"
      },
      "outputs": [],
      "source": [
        "import numpy as np\n",
        "import cv2\n",
        "import os\n",
        "import pandas as pd"
      ]
    },
    {
      "cell_type": "code",
      "execution_count": null,
      "metadata": {
        "id": "rZOk3IJS74QP"
      },
      "outputs": [],
      "source": [
        "import pandas as pd\n",
        "train_dir = '/content/drive/MyDrive/boneage-training-dataset'\n",
        "df = pd.read_csv('/content/drive/MyDrive/boneage-training-dataset.csv')"
      ]
    },
    {
      "cell_type": "code",
      "execution_count": null,
      "metadata": {
        "colab": {
          "base_uri": "https://localhost:8080/"
        },
        "id": "x5WUmhGp_eqe",
        "outputId": "1dd4f177-7d9f-4e43-daef-3d72d8672a79"
      },
      "outputs": [
        {
          "output_type": "stream",
          "name": "stdout",
          "text": [
            "Thu Feb  9 03:45:00 2023       \n",
            "+-----------------------------------------------------------------------------+\n",
            "| NVIDIA-SMI 510.47.03    Driver Version: 510.47.03    CUDA Version: 11.6     |\n",
            "|-------------------------------+----------------------+----------------------+\n",
            "| GPU  Name        Persistence-M| Bus-Id        Disp.A | Volatile Uncorr. ECC |\n",
            "| Fan  Temp  Perf  Pwr:Usage/Cap|         Memory-Usage | GPU-Util  Compute M. |\n",
            "|                               |                      |               MIG M. |\n",
            "|===============================+======================+======================|\n",
            "|   0  Tesla T4            Off  | 00000000:00:04.0 Off |                    0 |\n",
            "| N/A   47C    P0    26W /  70W |      0MiB / 15360MiB |      0%      Default |\n",
            "|                               |                      |                  N/A |\n",
            "+-------------------------------+----------------------+----------------------+\n",
            "                                                                               \n",
            "+-----------------------------------------------------------------------------+\n",
            "| Processes:                                                                  |\n",
            "|  GPU   GI   CI        PID   Type   Process name                  GPU Memory |\n",
            "|        ID   ID                                                   Usage      |\n",
            "|=============================================================================|\n",
            "|  No running processes found                                                 |\n",
            "+-----------------------------------------------------------------------------+\n"
          ]
        }
      ],
      "source": [
        "!nvidia-smi"
      ]
    },
    {
      "cell_type": "code",
      "execution_count": null,
      "metadata": {
        "colab": {
          "base_uri": "https://localhost:8080/"
        },
        "id": "4o1wzbqb9XlZ",
        "outputId": "bd8a278e-9093-45dd-d57b-cfc2c57e1685"
      },
      "outputs": [
        {
          "output_type": "stream",
          "name": "stdout",
          "text": [
            "Thu Feb  9 03:45:00 2023       \n",
            "+-----------------------------------------------------------------------------+\n",
            "| NVIDIA-SMI 510.47.03    Driver Version: 510.47.03    CUDA Version: 11.6     |\n",
            "|-------------------------------+----------------------+----------------------+\n",
            "| GPU  Name        Persistence-M| Bus-Id        Disp.A | Volatile Uncorr. ECC |\n",
            "| Fan  Temp  Perf  Pwr:Usage/Cap|         Memory-Usage | GPU-Util  Compute M. |\n",
            "|                               |                      |               MIG M. |\n",
            "|===============================+======================+======================|\n",
            "|   0  Tesla T4            Off  | 00000000:00:04.0 Off |                    0 |\n",
            "| N/A   47C    P0    26W /  70W |      0MiB / 15360MiB |      0%      Default |\n",
            "|                               |                      |                  N/A |\n",
            "+-------------------------------+----------------------+----------------------+\n",
            "                                                                               \n",
            "+-----------------------------------------------------------------------------+\n",
            "| Processes:                                                                  |\n",
            "|  GPU   GI   CI        PID   Type   Process name                  GPU Memory |\n",
            "|        ID   ID                                                   Usage      |\n",
            "|=============================================================================|\n",
            "|  No running processes found                                                 |\n",
            "+-----------------------------------------------------------------------------+\n"
          ]
        }
      ],
      "source": [
        "!nvidia-smi"
      ]
    },
    {
      "cell_type": "code",
      "execution_count": null,
      "metadata": {
        "id": "pk25ubPJ77rD"
      },
      "outputs": [],
      "source": [
        "import os\n",
        "age_df = df \n",
        "age_df['path'] = age_df['id'].map(lambda x: os.path.join(train_dir,'{}.png'.format(x)))\n",
        "#age_df['exists'] = age_df['path'].map(os.path.exists)"
      ]
    },
    {
      "cell_type": "code",
      "execution_count": null,
      "metadata": {
        "id": "p9A1OCGX8Lap"
      },
      "outputs": [],
      "source": [
        "\n",
        "\n",
        "age1=age_df"
      ]
    },
    {
      "cell_type": "code",
      "execution_count": null,
      "metadata": {
        "colab": {
          "base_uri": "https://localhost:8080/",
          "height": 423
        },
        "id": "YNJQZy598Vxg",
        "outputId": "86583fad-e3fb-432b-927e-8ce5827909cd"
      },
      "outputs": [
        {
          "output_type": "execute_result",
          "data": {
            "text/plain": [
              "          id  boneage   male  \\\n",
              "0       1377      180  False   \n",
              "1       1378       12  False   \n",
              "2       1379       94  False   \n",
              "3       1380      120   True   \n",
              "4       1381       82  False   \n",
              "...      ...      ...    ...   \n",
              "12606  15605       50  False   \n",
              "12607  15606      113  False   \n",
              "12608  15608       55  False   \n",
              "12609  15609      150   True   \n",
              "12610  15610      132   True   \n",
              "\n",
              "                                                    path  \n",
              "0      /content/drive/MyDrive/boneage-training-datase...  \n",
              "1      /content/drive/MyDrive/boneage-training-datase...  \n",
              "2      /content/drive/MyDrive/boneage-training-datase...  \n",
              "3      /content/drive/MyDrive/boneage-training-datase...  \n",
              "4      /content/drive/MyDrive/boneage-training-datase...  \n",
              "...                                                  ...  \n",
              "12606  /content/drive/MyDrive/boneage-training-datase...  \n",
              "12607  /content/drive/MyDrive/boneage-training-datase...  \n",
              "12608  /content/drive/MyDrive/boneage-training-datase...  \n",
              "12609  /content/drive/MyDrive/boneage-training-datase...  \n",
              "12610  /content/drive/MyDrive/boneage-training-datase...  \n",
              "\n",
              "[12611 rows x 4 columns]"
            ],
            "text/html": [
              "\n",
              "  <div id=\"df-fb068007-9ab8-4abb-8062-4c4295153637\">\n",
              "    <div class=\"colab-df-container\">\n",
              "      <div>\n",
              "<style scoped>\n",
              "    .dataframe tbody tr th:only-of-type {\n",
              "        vertical-align: middle;\n",
              "    }\n",
              "\n",
              "    .dataframe tbody tr th {\n",
              "        vertical-align: top;\n",
              "    }\n",
              "\n",
              "    .dataframe thead th {\n",
              "        text-align: right;\n",
              "    }\n",
              "</style>\n",
              "<table border=\"1\" class=\"dataframe\">\n",
              "  <thead>\n",
              "    <tr style=\"text-align: right;\">\n",
              "      <th></th>\n",
              "      <th>id</th>\n",
              "      <th>boneage</th>\n",
              "      <th>male</th>\n",
              "      <th>path</th>\n",
              "    </tr>\n",
              "  </thead>\n",
              "  <tbody>\n",
              "    <tr>\n",
              "      <th>0</th>\n",
              "      <td>1377</td>\n",
              "      <td>180</td>\n",
              "      <td>False</td>\n",
              "      <td>/content/drive/MyDrive/boneage-training-datase...</td>\n",
              "    </tr>\n",
              "    <tr>\n",
              "      <th>1</th>\n",
              "      <td>1378</td>\n",
              "      <td>12</td>\n",
              "      <td>False</td>\n",
              "      <td>/content/drive/MyDrive/boneage-training-datase...</td>\n",
              "    </tr>\n",
              "    <tr>\n",
              "      <th>2</th>\n",
              "      <td>1379</td>\n",
              "      <td>94</td>\n",
              "      <td>False</td>\n",
              "      <td>/content/drive/MyDrive/boneage-training-datase...</td>\n",
              "    </tr>\n",
              "    <tr>\n",
              "      <th>3</th>\n",
              "      <td>1380</td>\n",
              "      <td>120</td>\n",
              "      <td>True</td>\n",
              "      <td>/content/drive/MyDrive/boneage-training-datase...</td>\n",
              "    </tr>\n",
              "    <tr>\n",
              "      <th>4</th>\n",
              "      <td>1381</td>\n",
              "      <td>82</td>\n",
              "      <td>False</td>\n",
              "      <td>/content/drive/MyDrive/boneage-training-datase...</td>\n",
              "    </tr>\n",
              "    <tr>\n",
              "      <th>...</th>\n",
              "      <td>...</td>\n",
              "      <td>...</td>\n",
              "      <td>...</td>\n",
              "      <td>...</td>\n",
              "    </tr>\n",
              "    <tr>\n",
              "      <th>12606</th>\n",
              "      <td>15605</td>\n",
              "      <td>50</td>\n",
              "      <td>False</td>\n",
              "      <td>/content/drive/MyDrive/boneage-training-datase...</td>\n",
              "    </tr>\n",
              "    <tr>\n",
              "      <th>12607</th>\n",
              "      <td>15606</td>\n",
              "      <td>113</td>\n",
              "      <td>False</td>\n",
              "      <td>/content/drive/MyDrive/boneage-training-datase...</td>\n",
              "    </tr>\n",
              "    <tr>\n",
              "      <th>12608</th>\n",
              "      <td>15608</td>\n",
              "      <td>55</td>\n",
              "      <td>False</td>\n",
              "      <td>/content/drive/MyDrive/boneage-training-datase...</td>\n",
              "    </tr>\n",
              "    <tr>\n",
              "      <th>12609</th>\n",
              "      <td>15609</td>\n",
              "      <td>150</td>\n",
              "      <td>True</td>\n",
              "      <td>/content/drive/MyDrive/boneage-training-datase...</td>\n",
              "    </tr>\n",
              "    <tr>\n",
              "      <th>12610</th>\n",
              "      <td>15610</td>\n",
              "      <td>132</td>\n",
              "      <td>True</td>\n",
              "      <td>/content/drive/MyDrive/boneage-training-datase...</td>\n",
              "    </tr>\n",
              "  </tbody>\n",
              "</table>\n",
              "<p>12611 rows × 4 columns</p>\n",
              "</div>\n",
              "      <button class=\"colab-df-convert\" onclick=\"convertToInteractive('df-fb068007-9ab8-4abb-8062-4c4295153637')\"\n",
              "              title=\"Convert this dataframe to an interactive table.\"\n",
              "              style=\"display:none;\">\n",
              "        \n",
              "  <svg xmlns=\"http://www.w3.org/2000/svg\" height=\"24px\"viewBox=\"0 0 24 24\"\n",
              "       width=\"24px\">\n",
              "    <path d=\"M0 0h24v24H0V0z\" fill=\"none\"/>\n",
              "    <path d=\"M18.56 5.44l.94 2.06.94-2.06 2.06-.94-2.06-.94-.94-2.06-.94 2.06-2.06.94zm-11 1L8.5 8.5l.94-2.06 2.06-.94-2.06-.94L8.5 2.5l-.94 2.06-2.06.94zm10 10l.94 2.06.94-2.06 2.06-.94-2.06-.94-.94-2.06-.94 2.06-2.06.94z\"/><path d=\"M17.41 7.96l-1.37-1.37c-.4-.4-.92-.59-1.43-.59-.52 0-1.04.2-1.43.59L10.3 9.45l-7.72 7.72c-.78.78-.78 2.05 0 2.83L4 21.41c.39.39.9.59 1.41.59.51 0 1.02-.2 1.41-.59l7.78-7.78 2.81-2.81c.8-.78.8-2.07 0-2.86zM5.41 20L4 18.59l7.72-7.72 1.47 1.35L5.41 20z\"/>\n",
              "  </svg>\n",
              "      </button>\n",
              "      \n",
              "  <style>\n",
              "    .colab-df-container {\n",
              "      display:flex;\n",
              "      flex-wrap:wrap;\n",
              "      gap: 12px;\n",
              "    }\n",
              "\n",
              "    .colab-df-convert {\n",
              "      background-color: #E8F0FE;\n",
              "      border: none;\n",
              "      border-radius: 50%;\n",
              "      cursor: pointer;\n",
              "      display: none;\n",
              "      fill: #1967D2;\n",
              "      height: 32px;\n",
              "      padding: 0 0 0 0;\n",
              "      width: 32px;\n",
              "    }\n",
              "\n",
              "    .colab-df-convert:hover {\n",
              "      background-color: #E2EBFA;\n",
              "      box-shadow: 0px 1px 2px rgba(60, 64, 67, 0.3), 0px 1px 3px 1px rgba(60, 64, 67, 0.15);\n",
              "      fill: #174EA6;\n",
              "    }\n",
              "\n",
              "    [theme=dark] .colab-df-convert {\n",
              "      background-color: #3B4455;\n",
              "      fill: #D2E3FC;\n",
              "    }\n",
              "\n",
              "    [theme=dark] .colab-df-convert:hover {\n",
              "      background-color: #434B5C;\n",
              "      box-shadow: 0px 1px 3px 1px rgba(0, 0, 0, 0.15);\n",
              "      filter: drop-shadow(0px 1px 2px rgba(0, 0, 0, 0.3));\n",
              "      fill: #FFFFFF;\n",
              "    }\n",
              "  </style>\n",
              "\n",
              "      <script>\n",
              "        const buttonEl =\n",
              "          document.querySelector('#df-fb068007-9ab8-4abb-8062-4c4295153637 button.colab-df-convert');\n",
              "        buttonEl.style.display =\n",
              "          google.colab.kernel.accessAllowed ? 'block' : 'none';\n",
              "\n",
              "        async function convertToInteractive(key) {\n",
              "          const element = document.querySelector('#df-fb068007-9ab8-4abb-8062-4c4295153637');\n",
              "          const dataTable =\n",
              "            await google.colab.kernel.invokeFunction('convertToInteractive',\n",
              "                                                     [key], {});\n",
              "          if (!dataTable) return;\n",
              "\n",
              "          const docLinkHtml = 'Like what you see? Visit the ' +\n",
              "            '<a target=\"_blank\" href=https://colab.research.google.com/notebooks/data_table.ipynb>data table notebook</a>'\n",
              "            + ' to learn more about interactive tables.';\n",
              "          element.innerHTML = '';\n",
              "          dataTable['output_type'] = 'display_data';\n",
              "          await google.colab.output.renderOutput(dataTable, element);\n",
              "          const docLink = document.createElement('div');\n",
              "          docLink.innerHTML = docLinkHtml;\n",
              "          element.appendChild(docLink);\n",
              "        }\n",
              "      </script>\n",
              "    </div>\n",
              "  </div>\n",
              "  "
            ]
          },
          "metadata": {},
          "execution_count": 9
        }
      ],
      "source": [
        "\n",
        "age1"
      ]
    },
    {
      "cell_type": "code",
      "execution_count": null,
      "metadata": {
        "colab": {
          "base_uri": "https://localhost:8080/"
        },
        "id": "c-rTo2av8YsK",
        "outputId": "b69680f8-40e2-4bd0-93d4-4135b4c5db40"
      },
      "outputs": [
        {
          "output_type": "execute_result",
          "data": {
            "text/plain": [
              "(160,)"
            ]
          },
          "metadata": {},
          "execution_count": 10
        }
      ],
      "source": [
        "ag=age1.boneage.unique()\n",
        "ag.shape"
      ]
    },
    {
      "cell_type": "code",
      "execution_count": null,
      "metadata": {
        "id": "JTr3aQlu8aJq"
      },
      "outputs": [],
      "source": [
        "\n",
        "\n",
        "\n",
        "\n",
        "\n",
        "age1.drop(df[(age1['male'] == False)].index, inplace=True)"
      ]
    },
    {
      "cell_type": "code",
      "execution_count": null,
      "metadata": {
        "colab": {
          "base_uri": "https://localhost:8080/",
          "height": 423
        },
        "id": "TWFHhu9I8d5K",
        "outputId": "8b8c7b54-a1b8-487a-a4f6-779247986a4b"
      },
      "outputs": [
        {
          "output_type": "execute_result",
          "data": {
            "text/plain": [
              "          id  boneage  male                                               path\n",
              "3       1380      120  True  /content/drive/MyDrive/boneage-training-datase...\n",
              "5       1382      138  True  /content/drive/MyDrive/boneage-training-datase...\n",
              "6       1383      150  True  /content/drive/MyDrive/boneage-training-datase...\n",
              "7       1384      156  True  /content/drive/MyDrive/boneage-training-datase...\n",
              "8       1385       36  True  /content/drive/MyDrive/boneage-training-datase...\n",
              "...      ...      ...   ...                                                ...\n",
              "12599  15597      192  True  /content/drive/MyDrive/boneage-training-datase...\n",
              "12601  15599       36  True  /content/drive/MyDrive/boneage-training-datase...\n",
              "12605  15604      168  True  /content/drive/MyDrive/boneage-training-datase...\n",
              "12609  15609      150  True  /content/drive/MyDrive/boneage-training-datase...\n",
              "12610  15610      132  True  /content/drive/MyDrive/boneage-training-datase...\n",
              "\n",
              "[6833 rows x 4 columns]"
            ],
            "text/html": [
              "\n",
              "  <div id=\"df-27543943-edcf-44c8-a8ca-b78387d1c2d0\">\n",
              "    <div class=\"colab-df-container\">\n",
              "      <div>\n",
              "<style scoped>\n",
              "    .dataframe tbody tr th:only-of-type {\n",
              "        vertical-align: middle;\n",
              "    }\n",
              "\n",
              "    .dataframe tbody tr th {\n",
              "        vertical-align: top;\n",
              "    }\n",
              "\n",
              "    .dataframe thead th {\n",
              "        text-align: right;\n",
              "    }\n",
              "</style>\n",
              "<table border=\"1\" class=\"dataframe\">\n",
              "  <thead>\n",
              "    <tr style=\"text-align: right;\">\n",
              "      <th></th>\n",
              "      <th>id</th>\n",
              "      <th>boneage</th>\n",
              "      <th>male</th>\n",
              "      <th>path</th>\n",
              "    </tr>\n",
              "  </thead>\n",
              "  <tbody>\n",
              "    <tr>\n",
              "      <th>3</th>\n",
              "      <td>1380</td>\n",
              "      <td>120</td>\n",
              "      <td>True</td>\n",
              "      <td>/content/drive/MyDrive/boneage-training-datase...</td>\n",
              "    </tr>\n",
              "    <tr>\n",
              "      <th>5</th>\n",
              "      <td>1382</td>\n",
              "      <td>138</td>\n",
              "      <td>True</td>\n",
              "      <td>/content/drive/MyDrive/boneage-training-datase...</td>\n",
              "    </tr>\n",
              "    <tr>\n",
              "      <th>6</th>\n",
              "      <td>1383</td>\n",
              "      <td>150</td>\n",
              "      <td>True</td>\n",
              "      <td>/content/drive/MyDrive/boneage-training-datase...</td>\n",
              "    </tr>\n",
              "    <tr>\n",
              "      <th>7</th>\n",
              "      <td>1384</td>\n",
              "      <td>156</td>\n",
              "      <td>True</td>\n",
              "      <td>/content/drive/MyDrive/boneage-training-datase...</td>\n",
              "    </tr>\n",
              "    <tr>\n",
              "      <th>8</th>\n",
              "      <td>1385</td>\n",
              "      <td>36</td>\n",
              "      <td>True</td>\n",
              "      <td>/content/drive/MyDrive/boneage-training-datase...</td>\n",
              "    </tr>\n",
              "    <tr>\n",
              "      <th>...</th>\n",
              "      <td>...</td>\n",
              "      <td>...</td>\n",
              "      <td>...</td>\n",
              "      <td>...</td>\n",
              "    </tr>\n",
              "    <tr>\n",
              "      <th>12599</th>\n",
              "      <td>15597</td>\n",
              "      <td>192</td>\n",
              "      <td>True</td>\n",
              "      <td>/content/drive/MyDrive/boneage-training-datase...</td>\n",
              "    </tr>\n",
              "    <tr>\n",
              "      <th>12601</th>\n",
              "      <td>15599</td>\n",
              "      <td>36</td>\n",
              "      <td>True</td>\n",
              "      <td>/content/drive/MyDrive/boneage-training-datase...</td>\n",
              "    </tr>\n",
              "    <tr>\n",
              "      <th>12605</th>\n",
              "      <td>15604</td>\n",
              "      <td>168</td>\n",
              "      <td>True</td>\n",
              "      <td>/content/drive/MyDrive/boneage-training-datase...</td>\n",
              "    </tr>\n",
              "    <tr>\n",
              "      <th>12609</th>\n",
              "      <td>15609</td>\n",
              "      <td>150</td>\n",
              "      <td>True</td>\n",
              "      <td>/content/drive/MyDrive/boneage-training-datase...</td>\n",
              "    </tr>\n",
              "    <tr>\n",
              "      <th>12610</th>\n",
              "      <td>15610</td>\n",
              "      <td>132</td>\n",
              "      <td>True</td>\n",
              "      <td>/content/drive/MyDrive/boneage-training-datase...</td>\n",
              "    </tr>\n",
              "  </tbody>\n",
              "</table>\n",
              "<p>6833 rows × 4 columns</p>\n",
              "</div>\n",
              "      <button class=\"colab-df-convert\" onclick=\"convertToInteractive('df-27543943-edcf-44c8-a8ca-b78387d1c2d0')\"\n",
              "              title=\"Convert this dataframe to an interactive table.\"\n",
              "              style=\"display:none;\">\n",
              "        \n",
              "  <svg xmlns=\"http://www.w3.org/2000/svg\" height=\"24px\"viewBox=\"0 0 24 24\"\n",
              "       width=\"24px\">\n",
              "    <path d=\"M0 0h24v24H0V0z\" fill=\"none\"/>\n",
              "    <path d=\"M18.56 5.44l.94 2.06.94-2.06 2.06-.94-2.06-.94-.94-2.06-.94 2.06-2.06.94zm-11 1L8.5 8.5l.94-2.06 2.06-.94-2.06-.94L8.5 2.5l-.94 2.06-2.06.94zm10 10l.94 2.06.94-2.06 2.06-.94-2.06-.94-.94-2.06-.94 2.06-2.06.94z\"/><path d=\"M17.41 7.96l-1.37-1.37c-.4-.4-.92-.59-1.43-.59-.52 0-1.04.2-1.43.59L10.3 9.45l-7.72 7.72c-.78.78-.78 2.05 0 2.83L4 21.41c.39.39.9.59 1.41.59.51 0 1.02-.2 1.41-.59l7.78-7.78 2.81-2.81c.8-.78.8-2.07 0-2.86zM5.41 20L4 18.59l7.72-7.72 1.47 1.35L5.41 20z\"/>\n",
              "  </svg>\n",
              "      </button>\n",
              "      \n",
              "  <style>\n",
              "    .colab-df-container {\n",
              "      display:flex;\n",
              "      flex-wrap:wrap;\n",
              "      gap: 12px;\n",
              "    }\n",
              "\n",
              "    .colab-df-convert {\n",
              "      background-color: #E8F0FE;\n",
              "      border: none;\n",
              "      border-radius: 50%;\n",
              "      cursor: pointer;\n",
              "      display: none;\n",
              "      fill: #1967D2;\n",
              "      height: 32px;\n",
              "      padding: 0 0 0 0;\n",
              "      width: 32px;\n",
              "    }\n",
              "\n",
              "    .colab-df-convert:hover {\n",
              "      background-color: #E2EBFA;\n",
              "      box-shadow: 0px 1px 2px rgba(60, 64, 67, 0.3), 0px 1px 3px 1px rgba(60, 64, 67, 0.15);\n",
              "      fill: #174EA6;\n",
              "    }\n",
              "\n",
              "    [theme=dark] .colab-df-convert {\n",
              "      background-color: #3B4455;\n",
              "      fill: #D2E3FC;\n",
              "    }\n",
              "\n",
              "    [theme=dark] .colab-df-convert:hover {\n",
              "      background-color: #434B5C;\n",
              "      box-shadow: 0px 1px 3px 1px rgba(0, 0, 0, 0.15);\n",
              "      filter: drop-shadow(0px 1px 2px rgba(0, 0, 0, 0.3));\n",
              "      fill: #FFFFFF;\n",
              "    }\n",
              "  </style>\n",
              "\n",
              "      <script>\n",
              "        const buttonEl =\n",
              "          document.querySelector('#df-27543943-edcf-44c8-a8ca-b78387d1c2d0 button.colab-df-convert');\n",
              "        buttonEl.style.display =\n",
              "          google.colab.kernel.accessAllowed ? 'block' : 'none';\n",
              "\n",
              "        async function convertToInteractive(key) {\n",
              "          const element = document.querySelector('#df-27543943-edcf-44c8-a8ca-b78387d1c2d0');\n",
              "          const dataTable =\n",
              "            await google.colab.kernel.invokeFunction('convertToInteractive',\n",
              "                                                     [key], {});\n",
              "          if (!dataTable) return;\n",
              "\n",
              "          const docLinkHtml = 'Like what you see? Visit the ' +\n",
              "            '<a target=\"_blank\" href=https://colab.research.google.com/notebooks/data_table.ipynb>data table notebook</a>'\n",
              "            + ' to learn more about interactive tables.';\n",
              "          element.innerHTML = '';\n",
              "          dataTable['output_type'] = 'display_data';\n",
              "          await google.colab.output.renderOutput(dataTable, element);\n",
              "          const docLink = document.createElement('div');\n",
              "          docLink.innerHTML = docLinkHtml;\n",
              "          element.appendChild(docLink);\n",
              "        }\n",
              "      </script>\n",
              "    </div>\n",
              "  </div>\n",
              "  "
            ]
          },
          "metadata": {},
          "execution_count": 12
        }
      ],
      "source": [
        "age1"
      ]
    },
    {
      "cell_type": "code",
      "execution_count": null,
      "metadata": {
        "colab": {
          "base_uri": "https://localhost:8080/"
        },
        "id": "K_NKe5Kw8p0B",
        "outputId": "da1309f6-cbbc-4782-eb2a-881c6400bed9"
      },
      "outputs": [
        {
          "output_type": "execute_result",
          "data": {
            "text/plain": [
              "(131,)"
            ]
          },
          "metadata": {},
          "execution_count": 13
        }
      ],
      "source": [
        "ag=age1.boneage.unique()\n",
        "ag.shape"
      ]
    },
    {
      "cell_type": "code",
      "execution_count": null,
      "metadata": {
        "colab": {
          "base_uri": "https://localhost:8080/"
        },
        "id": "g_H1blDn8rZJ",
        "outputId": "f9e8bb18-5c5c-41b1-f485-e5c85c326e3f"
      },
      "outputs": [
        {
          "output_type": "execute_result",
          "data": {
            "text/plain": [
              "168    738\n",
              "156    725\n",
              "150    595\n",
              "162    491\n",
              "138    428\n",
              "      ... \n",
              "133      1\n",
              "33       1\n",
              "14       1\n",
              "130      1\n",
              "81       1\n",
              "Name: boneage, Length: 131, dtype: int64"
            ]
          },
          "metadata": {},
          "execution_count": 14
        }
      ],
      "source": [
        "age1['boneage'].value_counts()"
      ]
    },
    {
      "cell_type": "code",
      "execution_count": null,
      "metadata": {
        "id": "xS4ttx4698WR"
      },
      "outputs": [],
      "source": [
        "points=age1.boneage.unique()"
      ]
    },
    {
      "cell_type": "code",
      "execution_count": null,
      "metadata": {
        "colab": {
          "base_uri": "https://localhost:8080/"
        },
        "id": "TczCKLG_-JAL",
        "outputId": "0b81d118-8f52-4f9c-92a1-4319b9c4817f"
      },
      "outputs": [
        {
          "output_type": "stream",
          "name": "stdout",
          "text": [
            "(131,)\n"
          ]
        },
        {
          "output_type": "execute_result",
          "data": {
            "text/plain": [
              "array([120, 138, 150, 156,  36, 180,  57, 126, 149,  78, 162,  88,  32,\n",
              "        54, 174,  33, 170, 108, 165,  60,  42,  21, 132,  90, 192,  84,\n",
              "        96, 216, 100,  72,  48, 139,  24,  69, 186,  13, 135, 146, 189,\n",
              "        12,  27, 144,  51, 102, 134, 168,  64, 129, 147,  14,  45,  28,\n",
              "       128, 210, 222,  66, 198, 200, 104,  80,   9, 114, 112, 204, 159,\n",
              "       154,  58,  67, 116, 101, 124,  56, 130, 158, 136, 228,  38, 164,\n",
              "       137,  15, 172,  18, 184, 143,  76, 169, 121, 214, 115,  75,  17,\n",
              "        34, 106, 151, 194, 177,  81, 105, 183, 152, 125, 176, 133, 153,\n",
              "        82, 141, 173, 196, 160, 118,  20,  62, 212,   1,  10,  63, 163,\n",
              "        87,  52, 182, 142, 179,  16,  93,  39,  40, 206,  37,  30, 161,\n",
              "        94])"
            ]
          },
          "metadata": {},
          "execution_count": 16
        }
      ],
      "source": [
        "\n",
        "print(points.shape)\n",
        "points"
      ]
    },
    {
      "cell_type": "code",
      "execution_count": null,
      "metadata": {
        "id": "srj5kAzZ838S"
      },
      "outputs": [],
      "source": [
        "import numpy as np\n",
        "point=[]\n",
        "for i in range (131):\n",
        "  if((age1['boneage'].value_counts()[points[i]])<3):\n",
        "    point.append(points[i])\n",
        "  #print(df['boneage'].value_counts()[points[i]])\n",
        "point=np.asarray(point)"
      ]
    },
    {
      "cell_type": "code",
      "execution_count": null,
      "metadata": {
        "colab": {
          "base_uri": "https://localhost:8080/"
        },
        "id": "q0jfheL8-jEf",
        "outputId": "9c888942-6294-4409-c044-246076acd412"
      },
      "outputs": [
        {
          "output_type": "stream",
          "name": "stdout",
          "text": [
            "(63,)\n"
          ]
        },
        {
          "output_type": "execute_result",
          "data": {
            "text/plain": [
              "array([149,  88,  33, 139,  13,  64, 129,  14, 128, 222, 200, 104,  80,\n",
              "       112,  67, 116, 101,  56, 130, 136,  38, 137, 172, 143,  76, 169,\n",
              "       121, 214, 115,  17, 151, 194, 177,  81, 105, 152, 125, 133, 141,\n",
              "       173, 196, 160, 118,  20,  62, 212,   1,  10,  63, 163,  87,  52,\n",
              "       182, 142, 179,  16,  93,  40, 206,  37,  30, 161,  94])"
            ]
          },
          "metadata": {},
          "execution_count": 18
        }
      ],
      "source": [
        "\n",
        "print(point.shape)\n",
        "point"
      ]
    },
    {
      "cell_type": "code",
      "execution_count": null,
      "metadata": {
        "id": "v2B59jo9-uhH"
      },
      "outputs": [],
      "source": [
        "for t in range(3):\n",
        "  for i in range(63):\n",
        "    x=df.id[df.boneage == point[i]].tolist()[0]\n",
        "    y=df.boneage[df.boneage == point[i]].tolist()[0]\n",
        "    m=df.male[df.boneage == point[i]].tolist()[0]\n",
        "    z=df.path[df.boneage== point[i]].tolist()[0]\n",
        "    #y=df['boneage']\n",
        "    #m=df['male']\n",
        "    new_row = {'id': x, 'boneage':y, 'male':m , 'path':z}\n",
        "    age1 = age1.append(new_row, ignore_index=True)"
      ]
    },
    {
      "cell_type": "code",
      "execution_count": null,
      "metadata": {
        "colab": {
          "base_uri": "https://localhost:8080/",
          "height": 423
        },
        "id": "BVu3WWAW_JE5",
        "outputId": "128e308d-4af5-40b2-aee7-3854973f9ee3"
      },
      "outputs": [
        {
          "output_type": "execute_result",
          "data": {
            "text/plain": [
              "         id  boneage  male                                               path\n",
              "0      1380      120  True  /content/drive/MyDrive/boneage-training-datase...\n",
              "1      1382      138  True  /content/drive/MyDrive/boneage-training-datase...\n",
              "2      1383      150  True  /content/drive/MyDrive/boneage-training-datase...\n",
              "3      1384      156  True  /content/drive/MyDrive/boneage-training-datase...\n",
              "4      1385       36  True  /content/drive/MyDrive/boneage-training-datase...\n",
              "...     ...      ...   ...                                                ...\n",
              "7017  10474      206  True  /content/drive/MyDrive/boneage-training-datase...\n",
              "7018  11355       37  True  /content/drive/MyDrive/boneage-training-datase...\n",
              "7019  12027       30  True  /content/drive/MyDrive/boneage-training-datase...\n",
              "7020  12566      161  True  /content/drive/MyDrive/boneage-training-datase...\n",
              "7021  12920       94  True  /content/drive/MyDrive/boneage-training-datase...\n",
              "\n",
              "[7022 rows x 4 columns]"
            ],
            "text/html": [
              "\n",
              "  <div id=\"df-0a1c32f3-c1f6-45fe-b651-4caacfa15c0b\">\n",
              "    <div class=\"colab-df-container\">\n",
              "      <div>\n",
              "<style scoped>\n",
              "    .dataframe tbody tr th:only-of-type {\n",
              "        vertical-align: middle;\n",
              "    }\n",
              "\n",
              "    .dataframe tbody tr th {\n",
              "        vertical-align: top;\n",
              "    }\n",
              "\n",
              "    .dataframe thead th {\n",
              "        text-align: right;\n",
              "    }\n",
              "</style>\n",
              "<table border=\"1\" class=\"dataframe\">\n",
              "  <thead>\n",
              "    <tr style=\"text-align: right;\">\n",
              "      <th></th>\n",
              "      <th>id</th>\n",
              "      <th>boneage</th>\n",
              "      <th>male</th>\n",
              "      <th>path</th>\n",
              "    </tr>\n",
              "  </thead>\n",
              "  <tbody>\n",
              "    <tr>\n",
              "      <th>0</th>\n",
              "      <td>1380</td>\n",
              "      <td>120</td>\n",
              "      <td>True</td>\n",
              "      <td>/content/drive/MyDrive/boneage-training-datase...</td>\n",
              "    </tr>\n",
              "    <tr>\n",
              "      <th>1</th>\n",
              "      <td>1382</td>\n",
              "      <td>138</td>\n",
              "      <td>True</td>\n",
              "      <td>/content/drive/MyDrive/boneage-training-datase...</td>\n",
              "    </tr>\n",
              "    <tr>\n",
              "      <th>2</th>\n",
              "      <td>1383</td>\n",
              "      <td>150</td>\n",
              "      <td>True</td>\n",
              "      <td>/content/drive/MyDrive/boneage-training-datase...</td>\n",
              "    </tr>\n",
              "    <tr>\n",
              "      <th>3</th>\n",
              "      <td>1384</td>\n",
              "      <td>156</td>\n",
              "      <td>True</td>\n",
              "      <td>/content/drive/MyDrive/boneage-training-datase...</td>\n",
              "    </tr>\n",
              "    <tr>\n",
              "      <th>4</th>\n",
              "      <td>1385</td>\n",
              "      <td>36</td>\n",
              "      <td>True</td>\n",
              "      <td>/content/drive/MyDrive/boneage-training-datase...</td>\n",
              "    </tr>\n",
              "    <tr>\n",
              "      <th>...</th>\n",
              "      <td>...</td>\n",
              "      <td>...</td>\n",
              "      <td>...</td>\n",
              "      <td>...</td>\n",
              "    </tr>\n",
              "    <tr>\n",
              "      <th>7017</th>\n",
              "      <td>10474</td>\n",
              "      <td>206</td>\n",
              "      <td>True</td>\n",
              "      <td>/content/drive/MyDrive/boneage-training-datase...</td>\n",
              "    </tr>\n",
              "    <tr>\n",
              "      <th>7018</th>\n",
              "      <td>11355</td>\n",
              "      <td>37</td>\n",
              "      <td>True</td>\n",
              "      <td>/content/drive/MyDrive/boneage-training-datase...</td>\n",
              "    </tr>\n",
              "    <tr>\n",
              "      <th>7019</th>\n",
              "      <td>12027</td>\n",
              "      <td>30</td>\n",
              "      <td>True</td>\n",
              "      <td>/content/drive/MyDrive/boneage-training-datase...</td>\n",
              "    </tr>\n",
              "    <tr>\n",
              "      <th>7020</th>\n",
              "      <td>12566</td>\n",
              "      <td>161</td>\n",
              "      <td>True</td>\n",
              "      <td>/content/drive/MyDrive/boneage-training-datase...</td>\n",
              "    </tr>\n",
              "    <tr>\n",
              "      <th>7021</th>\n",
              "      <td>12920</td>\n",
              "      <td>94</td>\n",
              "      <td>True</td>\n",
              "      <td>/content/drive/MyDrive/boneage-training-datase...</td>\n",
              "    </tr>\n",
              "  </tbody>\n",
              "</table>\n",
              "<p>7022 rows × 4 columns</p>\n",
              "</div>\n",
              "      <button class=\"colab-df-convert\" onclick=\"convertToInteractive('df-0a1c32f3-c1f6-45fe-b651-4caacfa15c0b')\"\n",
              "              title=\"Convert this dataframe to an interactive table.\"\n",
              "              style=\"display:none;\">\n",
              "        \n",
              "  <svg xmlns=\"http://www.w3.org/2000/svg\" height=\"24px\"viewBox=\"0 0 24 24\"\n",
              "       width=\"24px\">\n",
              "    <path d=\"M0 0h24v24H0V0z\" fill=\"none\"/>\n",
              "    <path d=\"M18.56 5.44l.94 2.06.94-2.06 2.06-.94-2.06-.94-.94-2.06-.94 2.06-2.06.94zm-11 1L8.5 8.5l.94-2.06 2.06-.94-2.06-.94L8.5 2.5l-.94 2.06-2.06.94zm10 10l.94 2.06.94-2.06 2.06-.94-2.06-.94-.94-2.06-.94 2.06-2.06.94z\"/><path d=\"M17.41 7.96l-1.37-1.37c-.4-.4-.92-.59-1.43-.59-.52 0-1.04.2-1.43.59L10.3 9.45l-7.72 7.72c-.78.78-.78 2.05 0 2.83L4 21.41c.39.39.9.59 1.41.59.51 0 1.02-.2 1.41-.59l7.78-7.78 2.81-2.81c.8-.78.8-2.07 0-2.86zM5.41 20L4 18.59l7.72-7.72 1.47 1.35L5.41 20z\"/>\n",
              "  </svg>\n",
              "      </button>\n",
              "      \n",
              "  <style>\n",
              "    .colab-df-container {\n",
              "      display:flex;\n",
              "      flex-wrap:wrap;\n",
              "      gap: 12px;\n",
              "    }\n",
              "\n",
              "    .colab-df-convert {\n",
              "      background-color: #E8F0FE;\n",
              "      border: none;\n",
              "      border-radius: 50%;\n",
              "      cursor: pointer;\n",
              "      display: none;\n",
              "      fill: #1967D2;\n",
              "      height: 32px;\n",
              "      padding: 0 0 0 0;\n",
              "      width: 32px;\n",
              "    }\n",
              "\n",
              "    .colab-df-convert:hover {\n",
              "      background-color: #E2EBFA;\n",
              "      box-shadow: 0px 1px 2px rgba(60, 64, 67, 0.3), 0px 1px 3px 1px rgba(60, 64, 67, 0.15);\n",
              "      fill: #174EA6;\n",
              "    }\n",
              "\n",
              "    [theme=dark] .colab-df-convert {\n",
              "      background-color: #3B4455;\n",
              "      fill: #D2E3FC;\n",
              "    }\n",
              "\n",
              "    [theme=dark] .colab-df-convert:hover {\n",
              "      background-color: #434B5C;\n",
              "      box-shadow: 0px 1px 3px 1px rgba(0, 0, 0, 0.15);\n",
              "      filter: drop-shadow(0px 1px 2px rgba(0, 0, 0, 0.3));\n",
              "      fill: #FFFFFF;\n",
              "    }\n",
              "  </style>\n",
              "\n",
              "      <script>\n",
              "        const buttonEl =\n",
              "          document.querySelector('#df-0a1c32f3-c1f6-45fe-b651-4caacfa15c0b button.colab-df-convert');\n",
              "        buttonEl.style.display =\n",
              "          google.colab.kernel.accessAllowed ? 'block' : 'none';\n",
              "\n",
              "        async function convertToInteractive(key) {\n",
              "          const element = document.querySelector('#df-0a1c32f3-c1f6-45fe-b651-4caacfa15c0b');\n",
              "          const dataTable =\n",
              "            await google.colab.kernel.invokeFunction('convertToInteractive',\n",
              "                                                     [key], {});\n",
              "          if (!dataTable) return;\n",
              "\n",
              "          const docLinkHtml = 'Like what you see? Visit the ' +\n",
              "            '<a target=\"_blank\" href=https://colab.research.google.com/notebooks/data_table.ipynb>data table notebook</a>'\n",
              "            + ' to learn more about interactive tables.';\n",
              "          element.innerHTML = '';\n",
              "          dataTable['output_type'] = 'display_data';\n",
              "          await google.colab.output.renderOutput(dataTable, element);\n",
              "          const docLink = document.createElement('div');\n",
              "          docLink.innerHTML = docLinkHtml;\n",
              "          element.appendChild(docLink);\n",
              "        }\n",
              "      </script>\n",
              "    </div>\n",
              "  </div>\n",
              "  "
            ]
          },
          "metadata": {},
          "execution_count": 20
        }
      ],
      "source": [
        "\n",
        "age1"
      ]
    },
    {
      "cell_type": "code",
      "execution_count": null,
      "metadata": {
        "colab": {
          "base_uri": "https://localhost:8080/"
        },
        "id": "78T4_RIVgahz",
        "outputId": "840f9fe6-a7ff-49af-d687-06d445eeade1"
      },
      "outputs": [
        {
          "output_type": "stream",
          "name": "stdout",
          "text": [
            "train 4476 validation 1054 1492\n"
          ]
        }
      ],
      "source": [
        "from sklearn.model_selection import train_test_split\n",
        "train_test1, valid1 = train_test_split(age1, \n",
        "                                   test_size = 0.15, \n",
        "                                   random_state = 2018,\n",
        "                                   stratify = age1['boneage'])\n",
        "#print('train', raw_train_df.shape[0], 'validation', valid_df.shape[0])\n",
        "train1, test1 = train_test_split(train_test1, \n",
        "                                   test_size = 0.25, \n",
        "                                   random_state = 2018,\n",
        "                                   stratify = train_test1['boneage'])\n",
        "print('train', train1.shape[0], 'validation', valid1.shape[0],test1.shape[0])"
      ]
    },
    {
      "cell_type": "code",
      "execution_count": null,
      "metadata": {
        "id": "rgXaGEEShK2u"
      },
      "outputs": [],
      "source": [
        "from keras.preprocessing.image import ImageDataGenerator\n",
        "IMG_SIZE = (256,256)\n",
        "core_idg = ImageDataGenerator(rotation_range=20,width_shift_range=0.15,height_shift_range=0.15,zoom_range=0.2,horizontal_flip=True)"
      ]
    },
    {
      "cell_type": "code",
      "execution_count": null,
      "metadata": {
        "id": "fBvY-nRZ9fUy"
      },
      "outputs": [],
      "source": [
        "#from keras.preprocessing.image import ImageDataGenerator\n",
        "#IMG_SIZE = (500,500)\n",
        "#core_idg = ImageDataGenerator(rotation_range=20,width_shift_range=0.15,height_shift_range=0.15,zoom_range=0.2,horizontal_flip=True)"
      ]
    },
    {
      "cell_type": "code",
      "execution_count": null,
      "metadata": {
        "id": "it_INY2thRLt"
      },
      "outputs": [],
      "source": [
        "def flow_from_dataframe(img_data_gen, in_df, path_col, y_col, **dflow_args):\n",
        "    base_dir = os.path.dirname(in_df[path_col].values[0])\n",
        "    print('## Ignore next message from keras, values are replaced anyways')\n",
        "    df_gen = img_data_gen.flow_from_directory(base_dir, \n",
        "                                     class_mode = 'sparse',\n",
        "                                    **dflow_args)\n",
        "    df_gen.filenames = in_df[path_col].values\n",
        "    df_gen.filepaths.extend(df_gen.filenames)\n",
        "    df_gen.classes = np.stack(in_df[y_col].values)\n",
        "    df_gen.samples = in_df.shape[0]\n",
        "    df_gen.n = in_df.shape[0]\n",
        "    df_gen._set_index_array()\n",
        "    df_gen.directory = '' \n",
        "    gen=np.ones(df_gen.samples)\n",
        "    print('Reinserting dataframe: {} images'.format(in_df.shape[0]))\n",
        "    #print(df_gen.samples)\n",
        "    #yield (df_gen,gen)\n",
        "    return df_gen"
      ]
    },
    {
      "cell_type": "code",
      "execution_count": null,
      "metadata": {
        "colab": {
          "base_uri": "https://localhost:8080/"
        },
        "id": "u7pfG4-FhYU3",
        "outputId": "0bed3634-d0a4-418f-b344-40c22e13b23e"
      },
      "outputs": [
        {
          "output_type": "stream",
          "name": "stdout",
          "text": [
            "## Ignore next message from keras, values are replaced anyways\n",
            "Found 0 images belonging to 0 classes.\n",
            "Reinserting dataframe: 4476 images\n"
          ]
        }
      ],
      "source": [
        "train1_gen = flow_from_dataframe( core_idg, train1, \n",
        "                             path_col = 'path',\n",
        "                            y_col = 'boneage', \n",
        "                            target_size = IMG_SIZE,\n",
        "                             color_mode = 'rgb',\n",
        "                            batch_size = 4476)"
      ]
    },
    {
      "cell_type": "code",
      "execution_count": null,
      "metadata": {
        "colab": {
          "base_uri": "https://localhost:8080/"
        },
        "id": "IGccOe-qhird",
        "outputId": "2812295e-b78a-4c3c-cbf4-e72bc7166604"
      },
      "outputs": [
        {
          "output_type": "stream",
          "name": "stdout",
          "text": [
            "## Ignore next message from keras, values are replaced anyways\n",
            "Found 0 images belonging to 0 classes.\n",
            "Reinserting dataframe: 1054 images\n"
          ]
        }
      ],
      "source": [
        "valid1_gen = flow_from_dataframe(core_idg, valid1, \n",
        "                             path_col = 'path',\n",
        "                            y_col = 'boneage', \n",
        "                            target_size = IMG_SIZE,\n",
        "                             color_mode = 'rgb',\n",
        "                            batch_size = 1054) "
      ]
    },
    {
      "cell_type": "code",
      "execution_count": null,
      "metadata": {
        "id": "bqb6-OqtLFHz"
      },
      "outputs": [],
      "source": [
        "\n",
        "testcore_idg = ImageDataGenerator(rotation_range=20,width_shift_range=0.15,height_shift_range=0.15,zoom_range=0.2,horizontal_flip=True)"
      ]
    },
    {
      "cell_type": "code",
      "execution_count": null,
      "metadata": {
        "colab": {
          "base_uri": "https://localhost:8080/"
        },
        "id": "fnPAVjuXLFHz",
        "outputId": "f95e2042-deee-48ba-f290-a34e5db6bece"
      },
      "outputs": [
        {
          "output_type": "stream",
          "name": "stdout",
          "text": [
            "## Ignore next message from keras, values are replaced anyways\n",
            "Found 0 images belonging to 0 classes.\n",
            "Reinserting dataframe: 1492 images\n"
          ]
        }
      ],
      "source": [
        "test1_gen = flow_from_dataframe(testcore_idg, \n",
        "                              test1, \n",
        "                             path_col = 'path',\n",
        "                            y_col = 'boneage', \n",
        "                            target_size = IMG_SIZE,\n",
        "                             color_mode = 'rgb',\n",
        "                            batch_size = 1492)"
      ]
    },
    {
      "cell_type": "code",
      "execution_count": null,
      "metadata": {
        "id": "TGRGhrMlhSNa"
      },
      "outputs": [],
      "source": [
        "train1_X, train1_Y = next(train1_gen)"
      ]
    },
    {
      "cell_type": "code",
      "execution_count": null,
      "metadata": {
        "colab": {
          "base_uri": "https://localhost:8080/"
        },
        "id": "ZwAUKKc8kbFw",
        "outputId": "565ebd20-36e0-4fa3-d382-b651013db779"
      },
      "outputs": [
        {
          "data": {
            "text/plain": [
              "(4476, 256, 256, 3)"
            ]
          },
          "execution_count": 30,
          "metadata": {},
          "output_type": "execute_result"
        }
      ],
      "source": [
        "train1_X.shape"
      ]
    },
    {
      "cell_type": "code",
      "execution_count": null,
      "metadata": {
        "id": "KxRK-aGYk3Gz"
      },
      "outputs": [],
      "source": [
        "valid1_X, valid1_Y = next(valid1_gen)"
      ]
    },
    {
      "cell_type": "code",
      "execution_count": null,
      "metadata": {
        "id": "YrzIkZL_k4OT"
      },
      "outputs": [],
      "source": [
        "valid1_X.shape"
      ]
    },
    {
      "cell_type": "code",
      "execution_count": null,
      "metadata": {
        "id": "fcr4PLs1lDer"
      },
      "outputs": [],
      "source": [
        "test1_X, test1_Y = next(test1_gen)"
      ]
    },
    {
      "cell_type": "code",
      "execution_count": null,
      "metadata": {
        "colab": {
          "base_uri": "https://localhost:8080/"
        },
        "id": "REnaZedJlatT",
        "outputId": "d1d2de84-7080-4ff8-9d16-c67d7da266d3"
      },
      "outputs": [
        {
          "output_type": "execute_result",
          "data": {
            "text/plain": [
              "(1492, 256, 256, 3)"
            ]
          },
          "metadata": {},
          "execution_count": 34
        }
      ],
      "source": [
        "\n",
        "test1_X.shape"
      ]
    },
    {
      "cell_type": "code",
      "execution_count": null,
      "metadata": {
        "id": "h4ZPp2fG_f6U"
      },
      "outputs": [],
      "source": [
        "import pandas as pd\n",
        "train_dir = '/content/drive/MyDrive/boneage-training-dataset'\n",
        "df = pd.read_csv('/content/drive/MyDrive/boneage-training-dataset.csv')"
      ]
    },
    {
      "cell_type": "code",
      "execution_count": null,
      "metadata": {
        "id": "8SPN47Vl_f6X"
      },
      "outputs": [],
      "source": [
        "import os\n",
        "age_df = df \n",
        "age_df['path'] = age_df['id'].map(lambda x: os.path.join(train_dir,\n",
        "                                                         '{}.png'.format(x)))\n",
        "age_df['exists'] = age_df['path'].map(os.path.exists)"
      ]
    },
    {
      "cell_type": "code",
      "execution_count": null,
      "metadata": {
        "id": "L2n5Bpp8_f6Y"
      },
      "outputs": [],
      "source": [
        "age0=age_df"
      ]
    },
    {
      "cell_type": "code",
      "execution_count": null,
      "metadata": {
        "colab": {
          "base_uri": "https://localhost:8080/",
          "height": 423
        },
        "id": "eJkaXEGR_f6Y",
        "outputId": "34142c2a-27b0-41fa-92dd-b0c0af4cb0f4"
      },
      "outputs": [
        {
          "output_type": "execute_result",
          "data": {
            "text/plain": [
              "          id  boneage   male  \\\n",
              "0       1377      180  False   \n",
              "1       1378       12  False   \n",
              "2       1379       94  False   \n",
              "3       1380      120   True   \n",
              "4       1381       82  False   \n",
              "...      ...      ...    ...   \n",
              "12606  15605       50  False   \n",
              "12607  15606      113  False   \n",
              "12608  15608       55  False   \n",
              "12609  15609      150   True   \n",
              "12610  15610      132   True   \n",
              "\n",
              "                                                    path  exists  \n",
              "0      /content/drive/MyDrive/boneage-training-datase...    True  \n",
              "1      /content/drive/MyDrive/boneage-training-datase...    True  \n",
              "2      /content/drive/MyDrive/boneage-training-datase...    True  \n",
              "3      /content/drive/MyDrive/boneage-training-datase...    True  \n",
              "4      /content/drive/MyDrive/boneage-training-datase...    True  \n",
              "...                                                  ...     ...  \n",
              "12606  /content/drive/MyDrive/boneage-training-datase...    True  \n",
              "12607  /content/drive/MyDrive/boneage-training-datase...    True  \n",
              "12608  /content/drive/MyDrive/boneage-training-datase...    True  \n",
              "12609  /content/drive/MyDrive/boneage-training-datase...    True  \n",
              "12610  /content/drive/MyDrive/boneage-training-datase...    True  \n",
              "\n",
              "[12611 rows x 5 columns]"
            ],
            "text/html": [
              "\n",
              "  <div id=\"df-b728160f-f144-4a0a-b707-6716622c9893\">\n",
              "    <div class=\"colab-df-container\">\n",
              "      <div>\n",
              "<style scoped>\n",
              "    .dataframe tbody tr th:only-of-type {\n",
              "        vertical-align: middle;\n",
              "    }\n",
              "\n",
              "    .dataframe tbody tr th {\n",
              "        vertical-align: top;\n",
              "    }\n",
              "\n",
              "    .dataframe thead th {\n",
              "        text-align: right;\n",
              "    }\n",
              "</style>\n",
              "<table border=\"1\" class=\"dataframe\">\n",
              "  <thead>\n",
              "    <tr style=\"text-align: right;\">\n",
              "      <th></th>\n",
              "      <th>id</th>\n",
              "      <th>boneage</th>\n",
              "      <th>male</th>\n",
              "      <th>path</th>\n",
              "      <th>exists</th>\n",
              "    </tr>\n",
              "  </thead>\n",
              "  <tbody>\n",
              "    <tr>\n",
              "      <th>0</th>\n",
              "      <td>1377</td>\n",
              "      <td>180</td>\n",
              "      <td>False</td>\n",
              "      <td>/content/drive/MyDrive/boneage-training-datase...</td>\n",
              "      <td>True</td>\n",
              "    </tr>\n",
              "    <tr>\n",
              "      <th>1</th>\n",
              "      <td>1378</td>\n",
              "      <td>12</td>\n",
              "      <td>False</td>\n",
              "      <td>/content/drive/MyDrive/boneage-training-datase...</td>\n",
              "      <td>True</td>\n",
              "    </tr>\n",
              "    <tr>\n",
              "      <th>2</th>\n",
              "      <td>1379</td>\n",
              "      <td>94</td>\n",
              "      <td>False</td>\n",
              "      <td>/content/drive/MyDrive/boneage-training-datase...</td>\n",
              "      <td>True</td>\n",
              "    </tr>\n",
              "    <tr>\n",
              "      <th>3</th>\n",
              "      <td>1380</td>\n",
              "      <td>120</td>\n",
              "      <td>True</td>\n",
              "      <td>/content/drive/MyDrive/boneage-training-datase...</td>\n",
              "      <td>True</td>\n",
              "    </tr>\n",
              "    <tr>\n",
              "      <th>4</th>\n",
              "      <td>1381</td>\n",
              "      <td>82</td>\n",
              "      <td>False</td>\n",
              "      <td>/content/drive/MyDrive/boneage-training-datase...</td>\n",
              "      <td>True</td>\n",
              "    </tr>\n",
              "    <tr>\n",
              "      <th>...</th>\n",
              "      <td>...</td>\n",
              "      <td>...</td>\n",
              "      <td>...</td>\n",
              "      <td>...</td>\n",
              "      <td>...</td>\n",
              "    </tr>\n",
              "    <tr>\n",
              "      <th>12606</th>\n",
              "      <td>15605</td>\n",
              "      <td>50</td>\n",
              "      <td>False</td>\n",
              "      <td>/content/drive/MyDrive/boneage-training-datase...</td>\n",
              "      <td>True</td>\n",
              "    </tr>\n",
              "    <tr>\n",
              "      <th>12607</th>\n",
              "      <td>15606</td>\n",
              "      <td>113</td>\n",
              "      <td>False</td>\n",
              "      <td>/content/drive/MyDrive/boneage-training-datase...</td>\n",
              "      <td>True</td>\n",
              "    </tr>\n",
              "    <tr>\n",
              "      <th>12608</th>\n",
              "      <td>15608</td>\n",
              "      <td>55</td>\n",
              "      <td>False</td>\n",
              "      <td>/content/drive/MyDrive/boneage-training-datase...</td>\n",
              "      <td>True</td>\n",
              "    </tr>\n",
              "    <tr>\n",
              "      <th>12609</th>\n",
              "      <td>15609</td>\n",
              "      <td>150</td>\n",
              "      <td>True</td>\n",
              "      <td>/content/drive/MyDrive/boneage-training-datase...</td>\n",
              "      <td>True</td>\n",
              "    </tr>\n",
              "    <tr>\n",
              "      <th>12610</th>\n",
              "      <td>15610</td>\n",
              "      <td>132</td>\n",
              "      <td>True</td>\n",
              "      <td>/content/drive/MyDrive/boneage-training-datase...</td>\n",
              "      <td>True</td>\n",
              "    </tr>\n",
              "  </tbody>\n",
              "</table>\n",
              "<p>12611 rows × 5 columns</p>\n",
              "</div>\n",
              "      <button class=\"colab-df-convert\" onclick=\"convertToInteractive('df-b728160f-f144-4a0a-b707-6716622c9893')\"\n",
              "              title=\"Convert this dataframe to an interactive table.\"\n",
              "              style=\"display:none;\">\n",
              "        \n",
              "  <svg xmlns=\"http://www.w3.org/2000/svg\" height=\"24px\"viewBox=\"0 0 24 24\"\n",
              "       width=\"24px\">\n",
              "    <path d=\"M0 0h24v24H0V0z\" fill=\"none\"/>\n",
              "    <path d=\"M18.56 5.44l.94 2.06.94-2.06 2.06-.94-2.06-.94-.94-2.06-.94 2.06-2.06.94zm-11 1L8.5 8.5l.94-2.06 2.06-.94-2.06-.94L8.5 2.5l-.94 2.06-2.06.94zm10 10l.94 2.06.94-2.06 2.06-.94-2.06-.94-.94-2.06-.94 2.06-2.06.94z\"/><path d=\"M17.41 7.96l-1.37-1.37c-.4-.4-.92-.59-1.43-.59-.52 0-1.04.2-1.43.59L10.3 9.45l-7.72 7.72c-.78.78-.78 2.05 0 2.83L4 21.41c.39.39.9.59 1.41.59.51 0 1.02-.2 1.41-.59l7.78-7.78 2.81-2.81c.8-.78.8-2.07 0-2.86zM5.41 20L4 18.59l7.72-7.72 1.47 1.35L5.41 20z\"/>\n",
              "  </svg>\n",
              "      </button>\n",
              "      \n",
              "  <style>\n",
              "    .colab-df-container {\n",
              "      display:flex;\n",
              "      flex-wrap:wrap;\n",
              "      gap: 12px;\n",
              "    }\n",
              "\n",
              "    .colab-df-convert {\n",
              "      background-color: #E8F0FE;\n",
              "      border: none;\n",
              "      border-radius: 50%;\n",
              "      cursor: pointer;\n",
              "      display: none;\n",
              "      fill: #1967D2;\n",
              "      height: 32px;\n",
              "      padding: 0 0 0 0;\n",
              "      width: 32px;\n",
              "    }\n",
              "\n",
              "    .colab-df-convert:hover {\n",
              "      background-color: #E2EBFA;\n",
              "      box-shadow: 0px 1px 2px rgba(60, 64, 67, 0.3), 0px 1px 3px 1px rgba(60, 64, 67, 0.15);\n",
              "      fill: #174EA6;\n",
              "    }\n",
              "\n",
              "    [theme=dark] .colab-df-convert {\n",
              "      background-color: #3B4455;\n",
              "      fill: #D2E3FC;\n",
              "    }\n",
              "\n",
              "    [theme=dark] .colab-df-convert:hover {\n",
              "      background-color: #434B5C;\n",
              "      box-shadow: 0px 1px 3px 1px rgba(0, 0, 0, 0.15);\n",
              "      filter: drop-shadow(0px 1px 2px rgba(0, 0, 0, 0.3));\n",
              "      fill: #FFFFFF;\n",
              "    }\n",
              "  </style>\n",
              "\n",
              "      <script>\n",
              "        const buttonEl =\n",
              "          document.querySelector('#df-b728160f-f144-4a0a-b707-6716622c9893 button.colab-df-convert');\n",
              "        buttonEl.style.display =\n",
              "          google.colab.kernel.accessAllowed ? 'block' : 'none';\n",
              "\n",
              "        async function convertToInteractive(key) {\n",
              "          const element = document.querySelector('#df-b728160f-f144-4a0a-b707-6716622c9893');\n",
              "          const dataTable =\n",
              "            await google.colab.kernel.invokeFunction('convertToInteractive',\n",
              "                                                     [key], {});\n",
              "          if (!dataTable) return;\n",
              "\n",
              "          const docLinkHtml = 'Like what you see? Visit the ' +\n",
              "            '<a target=\"_blank\" href=https://colab.research.google.com/notebooks/data_table.ipynb>data table notebook</a>'\n",
              "            + ' to learn more about interactive tables.';\n",
              "          element.innerHTML = '';\n",
              "          dataTable['output_type'] = 'display_data';\n",
              "          await google.colab.output.renderOutput(dataTable, element);\n",
              "          const docLink = document.createElement('div');\n",
              "          docLink.innerHTML = docLinkHtml;\n",
              "          element.appendChild(docLink);\n",
              "        }\n",
              "      </script>\n",
              "    </div>\n",
              "  </div>\n",
              "  "
            ]
          },
          "metadata": {},
          "execution_count": 38
        }
      ],
      "source": [
        "age0"
      ]
    },
    {
      "cell_type": "code",
      "execution_count": null,
      "metadata": {
        "colab": {
          "base_uri": "https://localhost:8080/"
        },
        "id": "jZmYFjRo_f6Z",
        "outputId": "b6bf5a46-3d4d-446c-c545-283add6cfdd1"
      },
      "outputs": [
        {
          "output_type": "execute_result",
          "data": {
            "text/plain": [
              "(160,)"
            ]
          },
          "metadata": {},
          "execution_count": 39
        }
      ],
      "source": [
        "ag=age0.boneage.unique()\n",
        "ag.shape"
      ]
    },
    {
      "cell_type": "code",
      "execution_count": null,
      "metadata": {
        "id": "NSVq8Tpo_f6a"
      },
      "outputs": [],
      "source": [
        "age0.drop(df[(age0['male'] == True)].index, inplace=True)"
      ]
    },
    {
      "cell_type": "code",
      "execution_count": null,
      "metadata": {
        "colab": {
          "base_uri": "https://localhost:8080/",
          "height": 423
        },
        "id": "ekW-lTn3_f6d",
        "outputId": "f7063558-6070-4ce6-932e-5a69f9a83098"
      },
      "outputs": [
        {
          "output_type": "execute_result",
          "data": {
            "text/plain": [
              "          id  boneage   male  \\\n",
              "0       1377      180  False   \n",
              "1       1378       12  False   \n",
              "2       1379       94  False   \n",
              "4       1381       82  False   \n",
              "10      1388      126  False   \n",
              "...      ...      ...    ...   \n",
              "12603  15602       82  False   \n",
              "12604  15603      106  False   \n",
              "12606  15605       50  False   \n",
              "12607  15606      113  False   \n",
              "12608  15608       55  False   \n",
              "\n",
              "                                                    path  exists  \n",
              "0      /content/drive/MyDrive/boneage-training-datase...    True  \n",
              "1      /content/drive/MyDrive/boneage-training-datase...    True  \n",
              "2      /content/drive/MyDrive/boneage-training-datase...    True  \n",
              "4      /content/drive/MyDrive/boneage-training-datase...    True  \n",
              "10     /content/drive/MyDrive/boneage-training-datase...    True  \n",
              "...                                                  ...     ...  \n",
              "12603  /content/drive/MyDrive/boneage-training-datase...    True  \n",
              "12604  /content/drive/MyDrive/boneage-training-datase...    True  \n",
              "12606  /content/drive/MyDrive/boneage-training-datase...    True  \n",
              "12607  /content/drive/MyDrive/boneage-training-datase...    True  \n",
              "12608  /content/drive/MyDrive/boneage-training-datase...    True  \n",
              "\n",
              "[5778 rows x 5 columns]"
            ],
            "text/html": [
              "\n",
              "  <div id=\"df-0a7cd10d-2b6c-447a-b409-88005966dbb1\">\n",
              "    <div class=\"colab-df-container\">\n",
              "      <div>\n",
              "<style scoped>\n",
              "    .dataframe tbody tr th:only-of-type {\n",
              "        vertical-align: middle;\n",
              "    }\n",
              "\n",
              "    .dataframe tbody tr th {\n",
              "        vertical-align: top;\n",
              "    }\n",
              "\n",
              "    .dataframe thead th {\n",
              "        text-align: right;\n",
              "    }\n",
              "</style>\n",
              "<table border=\"1\" class=\"dataframe\">\n",
              "  <thead>\n",
              "    <tr style=\"text-align: right;\">\n",
              "      <th></th>\n",
              "      <th>id</th>\n",
              "      <th>boneage</th>\n",
              "      <th>male</th>\n",
              "      <th>path</th>\n",
              "      <th>exists</th>\n",
              "    </tr>\n",
              "  </thead>\n",
              "  <tbody>\n",
              "    <tr>\n",
              "      <th>0</th>\n",
              "      <td>1377</td>\n",
              "      <td>180</td>\n",
              "      <td>False</td>\n",
              "      <td>/content/drive/MyDrive/boneage-training-datase...</td>\n",
              "      <td>True</td>\n",
              "    </tr>\n",
              "    <tr>\n",
              "      <th>1</th>\n",
              "      <td>1378</td>\n",
              "      <td>12</td>\n",
              "      <td>False</td>\n",
              "      <td>/content/drive/MyDrive/boneage-training-datase...</td>\n",
              "      <td>True</td>\n",
              "    </tr>\n",
              "    <tr>\n",
              "      <th>2</th>\n",
              "      <td>1379</td>\n",
              "      <td>94</td>\n",
              "      <td>False</td>\n",
              "      <td>/content/drive/MyDrive/boneage-training-datase...</td>\n",
              "      <td>True</td>\n",
              "    </tr>\n",
              "    <tr>\n",
              "      <th>4</th>\n",
              "      <td>1381</td>\n",
              "      <td>82</td>\n",
              "      <td>False</td>\n",
              "      <td>/content/drive/MyDrive/boneage-training-datase...</td>\n",
              "      <td>True</td>\n",
              "    </tr>\n",
              "    <tr>\n",
              "      <th>10</th>\n",
              "      <td>1388</td>\n",
              "      <td>126</td>\n",
              "      <td>False</td>\n",
              "      <td>/content/drive/MyDrive/boneage-training-datase...</td>\n",
              "      <td>True</td>\n",
              "    </tr>\n",
              "    <tr>\n",
              "      <th>...</th>\n",
              "      <td>...</td>\n",
              "      <td>...</td>\n",
              "      <td>...</td>\n",
              "      <td>...</td>\n",
              "      <td>...</td>\n",
              "    </tr>\n",
              "    <tr>\n",
              "      <th>12603</th>\n",
              "      <td>15602</td>\n",
              "      <td>82</td>\n",
              "      <td>False</td>\n",
              "      <td>/content/drive/MyDrive/boneage-training-datase...</td>\n",
              "      <td>True</td>\n",
              "    </tr>\n",
              "    <tr>\n",
              "      <th>12604</th>\n",
              "      <td>15603</td>\n",
              "      <td>106</td>\n",
              "      <td>False</td>\n",
              "      <td>/content/drive/MyDrive/boneage-training-datase...</td>\n",
              "      <td>True</td>\n",
              "    </tr>\n",
              "    <tr>\n",
              "      <th>12606</th>\n",
              "      <td>15605</td>\n",
              "      <td>50</td>\n",
              "      <td>False</td>\n",
              "      <td>/content/drive/MyDrive/boneage-training-datase...</td>\n",
              "      <td>True</td>\n",
              "    </tr>\n",
              "    <tr>\n",
              "      <th>12607</th>\n",
              "      <td>15606</td>\n",
              "      <td>113</td>\n",
              "      <td>False</td>\n",
              "      <td>/content/drive/MyDrive/boneage-training-datase...</td>\n",
              "      <td>True</td>\n",
              "    </tr>\n",
              "    <tr>\n",
              "      <th>12608</th>\n",
              "      <td>15608</td>\n",
              "      <td>55</td>\n",
              "      <td>False</td>\n",
              "      <td>/content/drive/MyDrive/boneage-training-datase...</td>\n",
              "      <td>True</td>\n",
              "    </tr>\n",
              "  </tbody>\n",
              "</table>\n",
              "<p>5778 rows × 5 columns</p>\n",
              "</div>\n",
              "      <button class=\"colab-df-convert\" onclick=\"convertToInteractive('df-0a7cd10d-2b6c-447a-b409-88005966dbb1')\"\n",
              "              title=\"Convert this dataframe to an interactive table.\"\n",
              "              style=\"display:none;\">\n",
              "        \n",
              "  <svg xmlns=\"http://www.w3.org/2000/svg\" height=\"24px\"viewBox=\"0 0 24 24\"\n",
              "       width=\"24px\">\n",
              "    <path d=\"M0 0h24v24H0V0z\" fill=\"none\"/>\n",
              "    <path d=\"M18.56 5.44l.94 2.06.94-2.06 2.06-.94-2.06-.94-.94-2.06-.94 2.06-2.06.94zm-11 1L8.5 8.5l.94-2.06 2.06-.94-2.06-.94L8.5 2.5l-.94 2.06-2.06.94zm10 10l.94 2.06.94-2.06 2.06-.94-2.06-.94-.94-2.06-.94 2.06-2.06.94z\"/><path d=\"M17.41 7.96l-1.37-1.37c-.4-.4-.92-.59-1.43-.59-.52 0-1.04.2-1.43.59L10.3 9.45l-7.72 7.72c-.78.78-.78 2.05 0 2.83L4 21.41c.39.39.9.59 1.41.59.51 0 1.02-.2 1.41-.59l7.78-7.78 2.81-2.81c.8-.78.8-2.07 0-2.86zM5.41 20L4 18.59l7.72-7.72 1.47 1.35L5.41 20z\"/>\n",
              "  </svg>\n",
              "      </button>\n",
              "      \n",
              "  <style>\n",
              "    .colab-df-container {\n",
              "      display:flex;\n",
              "      flex-wrap:wrap;\n",
              "      gap: 12px;\n",
              "    }\n",
              "\n",
              "    .colab-df-convert {\n",
              "      background-color: #E8F0FE;\n",
              "      border: none;\n",
              "      border-radius: 50%;\n",
              "      cursor: pointer;\n",
              "      display: none;\n",
              "      fill: #1967D2;\n",
              "      height: 32px;\n",
              "      padding: 0 0 0 0;\n",
              "      width: 32px;\n",
              "    }\n",
              "\n",
              "    .colab-df-convert:hover {\n",
              "      background-color: #E2EBFA;\n",
              "      box-shadow: 0px 1px 2px rgba(60, 64, 67, 0.3), 0px 1px 3px 1px rgba(60, 64, 67, 0.15);\n",
              "      fill: #174EA6;\n",
              "    }\n",
              "\n",
              "    [theme=dark] .colab-df-convert {\n",
              "      background-color: #3B4455;\n",
              "      fill: #D2E3FC;\n",
              "    }\n",
              "\n",
              "    [theme=dark] .colab-df-convert:hover {\n",
              "      background-color: #434B5C;\n",
              "      box-shadow: 0px 1px 3px 1px rgba(0, 0, 0, 0.15);\n",
              "      filter: drop-shadow(0px 1px 2px rgba(0, 0, 0, 0.3));\n",
              "      fill: #FFFFFF;\n",
              "    }\n",
              "  </style>\n",
              "\n",
              "      <script>\n",
              "        const buttonEl =\n",
              "          document.querySelector('#df-0a7cd10d-2b6c-447a-b409-88005966dbb1 button.colab-df-convert');\n",
              "        buttonEl.style.display =\n",
              "          google.colab.kernel.accessAllowed ? 'block' : 'none';\n",
              "\n",
              "        async function convertToInteractive(key) {\n",
              "          const element = document.querySelector('#df-0a7cd10d-2b6c-447a-b409-88005966dbb1');\n",
              "          const dataTable =\n",
              "            await google.colab.kernel.invokeFunction('convertToInteractive',\n",
              "                                                     [key], {});\n",
              "          if (!dataTable) return;\n",
              "\n",
              "          const docLinkHtml = 'Like what you see? Visit the ' +\n",
              "            '<a target=\"_blank\" href=https://colab.research.google.com/notebooks/data_table.ipynb>data table notebook</a>'\n",
              "            + ' to learn more about interactive tables.';\n",
              "          element.innerHTML = '';\n",
              "          dataTable['output_type'] = 'display_data';\n",
              "          await google.colab.output.renderOutput(dataTable, element);\n",
              "          const docLink = document.createElement('div');\n",
              "          docLink.innerHTML = docLinkHtml;\n",
              "          element.appendChild(docLink);\n",
              "        }\n",
              "      </script>\n",
              "    </div>\n",
              "  </div>\n",
              "  "
            ]
          },
          "metadata": {},
          "execution_count": 41
        }
      ],
      "source": [
        "age0"
      ]
    },
    {
      "cell_type": "code",
      "execution_count": null,
      "metadata": {
        "colab": {
          "base_uri": "https://localhost:8080/"
        },
        "id": "757QL8zO_f6e",
        "outputId": "43edbdfd-22e0-4e79-9bc2-a51a134f7469"
      },
      "outputs": [
        {
          "data": {
            "text/plain": [
              "(110,)"
            ]
          },
          "execution_count": 42,
          "metadata": {},
          "output_type": "execute_result"
        }
      ],
      "source": [
        "ag=age0.boneage.unique()\n",
        "ag.shape"
      ]
    },
    {
      "cell_type": "code",
      "execution_count": null,
      "metadata": {
        "colab": {
          "base_uri": "https://localhost:8080/"
        },
        "id": "ehftfPKb_f6e",
        "outputId": "d02ecf73-f593-4413-f759-38f9248a6495"
      },
      "outputs": [
        {
          "data": {
            "text/plain": [
              "132    689\n",
              "120    635\n",
              "144    542\n",
              "94     490\n",
              "106    474\n",
              "      ... \n",
              "121      1\n",
              "139      1\n",
              "49       1\n",
              "74       1\n",
              "43       1\n",
              "Name: boneage, Length: 110, dtype: int64"
            ]
          },
          "execution_count": 43,
          "metadata": {},
          "output_type": "execute_result"
        }
      ],
      "source": [
        "age0['boneage'].value_counts()"
      ]
    },
    {
      "cell_type": "code",
      "execution_count": null,
      "metadata": {
        "id": "y_zJN3YI_f6f"
      },
      "outputs": [],
      "source": [
        "points=age0.boneage.unique()"
      ]
    },
    {
      "cell_type": "code",
      "execution_count": null,
      "metadata": {
        "colab": {
          "base_uri": "https://localhost:8080/"
        },
        "id": "LdGDEkDD_f6f",
        "outputId": "ff351158-e874-4eb1-95c0-71c6ca2641c7"
      },
      "outputs": [
        {
          "metadata": {
            "tags": null
          },
          "name": "stdout",
          "output_type": "stream",
          "text": [
            "(110,)\n"
          ]
        },
        {
          "data": {
            "text/plain": [
              "array([180,  12,  94,  82, 126, 132, 120, 188,   4,  36,  24,  60, 159,\n",
              "       106,  30,  33, 156,  88, 162, 144,  27, 113, 136,  42, 150,  69,\n",
              "        50,  21,  84, 138, 140, 100, 168, 174,  90, 192,  39, 165, 104,\n",
              "        18,  86, 153, 110,  55,  54, 186,  64, 109, 148,  13, 102, 118,\n",
              "         9, 139, 111, 123,  29, 210, 117, 108, 169, 166, 130, 112, 137,\n",
              "       204,  15,  78, 163, 125,  74,  96,  75, 114,  91, 135,  87,  16,\n",
              "       128, 152,  72,  32, 197, 171, 167, 121, 115, 216,  49,  67, 101,\n",
              "        10, 147, 164,   6, 160, 183,  76,  48,  70,  46, 198, 107,  81,\n",
              "        45,  65, 103,  77,  62,  43])"
            ]
          },
          "execution_count": 45,
          "metadata": {},
          "output_type": "execute_result"
        }
      ],
      "source": [
        "print(points.shape)\n",
        "points"
      ]
    },
    {
      "cell_type": "code",
      "execution_count": null,
      "metadata": {
        "id": "566_Y_QH_f6g"
      },
      "outputs": [],
      "source": [
        "import numpy as np\n",
        "point=[]\n",
        "for i in range (110):\n",
        "  if((age0['boneage'].value_counts()[points[i]])<3):\n",
        "    point.append(points[i])\n",
        "  #print(df['boneage'].value_counts()[points[i]])\n",
        "point=np.asarray(point)"
      ]
    },
    {
      "cell_type": "code",
      "execution_count": null,
      "metadata": {
        "colab": {
          "base_uri": "https://localhost:8080/"
        },
        "id": "ltInz4xw_f6g",
        "outputId": "b4aa0af3-459f-40dd-f37d-19ea3c8d4464"
      },
      "outputs": [
        {
          "output_type": "stream",
          "name": "stdout",
          "text": [
            "(51,)\n"
          ]
        },
        {
          "output_type": "execute_result",
          "data": {
            "text/plain": [
              "array([188,   4, 104,  86, 153, 110, 109, 148,  13, 102, 118,   9, 139,\n",
              "       111, 123,  29, 210, 117, 108, 169, 166, 130,  78, 163,  74,  91,\n",
              "       135,  87,  16, 128,  32, 197, 171, 167, 121,  49,  67, 101,  10,\n",
              "       164,   6, 160, 183, 107,  81,  45,  65, 103,  77,  62,  43])"
            ]
          },
          "metadata": {},
          "execution_count": 47
        }
      ],
      "source": [
        "print(point.shape)\n",
        "point"
      ]
    },
    {
      "cell_type": "code",
      "execution_count": null,
      "metadata": {
        "id": "mEdGRxPM_f6h"
      },
      "outputs": [],
      "source": [
        "for t in range(3):\n",
        "  for i in range(51):\n",
        "    x=df.id[df.boneage == point[i]].tolist()[0]\n",
        "    y=df.boneage[df.boneage == point[i]].tolist()[0]\n",
        "    m=df.male[df.boneage == point[i]].tolist()[0]\n",
        "    z=df.path[df.boneage== point[i]].tolist()[0]\n",
        "    #y=df['boneage']\n",
        "    #m=df['male']\n",
        "    new_row = {'id': x, 'boneage':y, 'male':m , 'path':z}\n",
        "    age0= age0.append(new_row, ignore_index=True)"
      ]
    },
    {
      "cell_type": "code",
      "execution_count": null,
      "metadata": {
        "colab": {
          "base_uri": "https://localhost:8080/",
          "height": 423
        },
        "id": "CZRdBg1W_f6h",
        "outputId": "4ebc70c7-bbaa-4ba0-eb38-9fc5b679dca4"
      },
      "outputs": [
        {
          "output_type": "execute_result",
          "data": {
            "text/plain": [
              "         id  boneage   male  \\\n",
              "0      1377      180  False   \n",
              "1      1378       12  False   \n",
              "2      1379       94  False   \n",
              "3      1381       82  False   \n",
              "4      1388      126  False   \n",
              "...     ...      ...    ...   \n",
              "5926  11112       65  False   \n",
              "5927  12621      103  False   \n",
              "5928  12799       77  False   \n",
              "5929  13097       62  False   \n",
              "5930  13125       43  False   \n",
              "\n",
              "                                                   path  exists  \n",
              "0     /content/drive/MyDrive/boneage-training-datase...     1.0  \n",
              "1     /content/drive/MyDrive/boneage-training-datase...     1.0  \n",
              "2     /content/drive/MyDrive/boneage-training-datase...     1.0  \n",
              "3     /content/drive/MyDrive/boneage-training-datase...     1.0  \n",
              "4     /content/drive/MyDrive/boneage-training-datase...     1.0  \n",
              "...                                                 ...     ...  \n",
              "5926  /content/drive/MyDrive/boneage-training-datase...     NaN  \n",
              "5927  /content/drive/MyDrive/boneage-training-datase...     NaN  \n",
              "5928  /content/drive/MyDrive/boneage-training-datase...     NaN  \n",
              "5929  /content/drive/MyDrive/boneage-training-datase...     NaN  \n",
              "5930  /content/drive/MyDrive/boneage-training-datase...     NaN  \n",
              "\n",
              "[5931 rows x 5 columns]"
            ],
            "text/html": [
              "\n",
              "  <div id=\"df-b4e33882-e697-4f71-8e5f-8223ba48a74c\">\n",
              "    <div class=\"colab-df-container\">\n",
              "      <div>\n",
              "<style scoped>\n",
              "    .dataframe tbody tr th:only-of-type {\n",
              "        vertical-align: middle;\n",
              "    }\n",
              "\n",
              "    .dataframe tbody tr th {\n",
              "        vertical-align: top;\n",
              "    }\n",
              "\n",
              "    .dataframe thead th {\n",
              "        text-align: right;\n",
              "    }\n",
              "</style>\n",
              "<table border=\"1\" class=\"dataframe\">\n",
              "  <thead>\n",
              "    <tr style=\"text-align: right;\">\n",
              "      <th></th>\n",
              "      <th>id</th>\n",
              "      <th>boneage</th>\n",
              "      <th>male</th>\n",
              "      <th>path</th>\n",
              "      <th>exists</th>\n",
              "    </tr>\n",
              "  </thead>\n",
              "  <tbody>\n",
              "    <tr>\n",
              "      <th>0</th>\n",
              "      <td>1377</td>\n",
              "      <td>180</td>\n",
              "      <td>False</td>\n",
              "      <td>/content/drive/MyDrive/boneage-training-datase...</td>\n",
              "      <td>1.0</td>\n",
              "    </tr>\n",
              "    <tr>\n",
              "      <th>1</th>\n",
              "      <td>1378</td>\n",
              "      <td>12</td>\n",
              "      <td>False</td>\n",
              "      <td>/content/drive/MyDrive/boneage-training-datase...</td>\n",
              "      <td>1.0</td>\n",
              "    </tr>\n",
              "    <tr>\n",
              "      <th>2</th>\n",
              "      <td>1379</td>\n",
              "      <td>94</td>\n",
              "      <td>False</td>\n",
              "      <td>/content/drive/MyDrive/boneage-training-datase...</td>\n",
              "      <td>1.0</td>\n",
              "    </tr>\n",
              "    <tr>\n",
              "      <th>3</th>\n",
              "      <td>1381</td>\n",
              "      <td>82</td>\n",
              "      <td>False</td>\n",
              "      <td>/content/drive/MyDrive/boneage-training-datase...</td>\n",
              "      <td>1.0</td>\n",
              "    </tr>\n",
              "    <tr>\n",
              "      <th>4</th>\n",
              "      <td>1388</td>\n",
              "      <td>126</td>\n",
              "      <td>False</td>\n",
              "      <td>/content/drive/MyDrive/boneage-training-datase...</td>\n",
              "      <td>1.0</td>\n",
              "    </tr>\n",
              "    <tr>\n",
              "      <th>...</th>\n",
              "      <td>...</td>\n",
              "      <td>...</td>\n",
              "      <td>...</td>\n",
              "      <td>...</td>\n",
              "      <td>...</td>\n",
              "    </tr>\n",
              "    <tr>\n",
              "      <th>5926</th>\n",
              "      <td>11112</td>\n",
              "      <td>65</td>\n",
              "      <td>False</td>\n",
              "      <td>/content/drive/MyDrive/boneage-training-datase...</td>\n",
              "      <td>NaN</td>\n",
              "    </tr>\n",
              "    <tr>\n",
              "      <th>5927</th>\n",
              "      <td>12621</td>\n",
              "      <td>103</td>\n",
              "      <td>False</td>\n",
              "      <td>/content/drive/MyDrive/boneage-training-datase...</td>\n",
              "      <td>NaN</td>\n",
              "    </tr>\n",
              "    <tr>\n",
              "      <th>5928</th>\n",
              "      <td>12799</td>\n",
              "      <td>77</td>\n",
              "      <td>False</td>\n",
              "      <td>/content/drive/MyDrive/boneage-training-datase...</td>\n",
              "      <td>NaN</td>\n",
              "    </tr>\n",
              "    <tr>\n",
              "      <th>5929</th>\n",
              "      <td>13097</td>\n",
              "      <td>62</td>\n",
              "      <td>False</td>\n",
              "      <td>/content/drive/MyDrive/boneage-training-datase...</td>\n",
              "      <td>NaN</td>\n",
              "    </tr>\n",
              "    <tr>\n",
              "      <th>5930</th>\n",
              "      <td>13125</td>\n",
              "      <td>43</td>\n",
              "      <td>False</td>\n",
              "      <td>/content/drive/MyDrive/boneage-training-datase...</td>\n",
              "      <td>NaN</td>\n",
              "    </tr>\n",
              "  </tbody>\n",
              "</table>\n",
              "<p>5931 rows × 5 columns</p>\n",
              "</div>\n",
              "      <button class=\"colab-df-convert\" onclick=\"convertToInteractive('df-b4e33882-e697-4f71-8e5f-8223ba48a74c')\"\n",
              "              title=\"Convert this dataframe to an interactive table.\"\n",
              "              style=\"display:none;\">\n",
              "        \n",
              "  <svg xmlns=\"http://www.w3.org/2000/svg\" height=\"24px\"viewBox=\"0 0 24 24\"\n",
              "       width=\"24px\">\n",
              "    <path d=\"M0 0h24v24H0V0z\" fill=\"none\"/>\n",
              "    <path d=\"M18.56 5.44l.94 2.06.94-2.06 2.06-.94-2.06-.94-.94-2.06-.94 2.06-2.06.94zm-11 1L8.5 8.5l.94-2.06 2.06-.94-2.06-.94L8.5 2.5l-.94 2.06-2.06.94zm10 10l.94 2.06.94-2.06 2.06-.94-2.06-.94-.94-2.06-.94 2.06-2.06.94z\"/><path d=\"M17.41 7.96l-1.37-1.37c-.4-.4-.92-.59-1.43-.59-.52 0-1.04.2-1.43.59L10.3 9.45l-7.72 7.72c-.78.78-.78 2.05 0 2.83L4 21.41c.39.39.9.59 1.41.59.51 0 1.02-.2 1.41-.59l7.78-7.78 2.81-2.81c.8-.78.8-2.07 0-2.86zM5.41 20L4 18.59l7.72-7.72 1.47 1.35L5.41 20z\"/>\n",
              "  </svg>\n",
              "      </button>\n",
              "      \n",
              "  <style>\n",
              "    .colab-df-container {\n",
              "      display:flex;\n",
              "      flex-wrap:wrap;\n",
              "      gap: 12px;\n",
              "    }\n",
              "\n",
              "    .colab-df-convert {\n",
              "      background-color: #E8F0FE;\n",
              "      border: none;\n",
              "      border-radius: 50%;\n",
              "      cursor: pointer;\n",
              "      display: none;\n",
              "      fill: #1967D2;\n",
              "      height: 32px;\n",
              "      padding: 0 0 0 0;\n",
              "      width: 32px;\n",
              "    }\n",
              "\n",
              "    .colab-df-convert:hover {\n",
              "      background-color: #E2EBFA;\n",
              "      box-shadow: 0px 1px 2px rgba(60, 64, 67, 0.3), 0px 1px 3px 1px rgba(60, 64, 67, 0.15);\n",
              "      fill: #174EA6;\n",
              "    }\n",
              "\n",
              "    [theme=dark] .colab-df-convert {\n",
              "      background-color: #3B4455;\n",
              "      fill: #D2E3FC;\n",
              "    }\n",
              "\n",
              "    [theme=dark] .colab-df-convert:hover {\n",
              "      background-color: #434B5C;\n",
              "      box-shadow: 0px 1px 3px 1px rgba(0, 0, 0, 0.15);\n",
              "      filter: drop-shadow(0px 1px 2px rgba(0, 0, 0, 0.3));\n",
              "      fill: #FFFFFF;\n",
              "    }\n",
              "  </style>\n",
              "\n",
              "      <script>\n",
              "        const buttonEl =\n",
              "          document.querySelector('#df-b4e33882-e697-4f71-8e5f-8223ba48a74c button.colab-df-convert');\n",
              "        buttonEl.style.display =\n",
              "          google.colab.kernel.accessAllowed ? 'block' : 'none';\n",
              "\n",
              "        async function convertToInteractive(key) {\n",
              "          const element = document.querySelector('#df-b4e33882-e697-4f71-8e5f-8223ba48a74c');\n",
              "          const dataTable =\n",
              "            await google.colab.kernel.invokeFunction('convertToInteractive',\n",
              "                                                     [key], {});\n",
              "          if (!dataTable) return;\n",
              "\n",
              "          const docLinkHtml = 'Like what you see? Visit the ' +\n",
              "            '<a target=\"_blank\" href=https://colab.research.google.com/notebooks/data_table.ipynb>data table notebook</a>'\n",
              "            + ' to learn more about interactive tables.';\n",
              "          element.innerHTML = '';\n",
              "          dataTable['output_type'] = 'display_data';\n",
              "          await google.colab.output.renderOutput(dataTable, element);\n",
              "          const docLink = document.createElement('div');\n",
              "          docLink.innerHTML = docLinkHtml;\n",
              "          element.appendChild(docLink);\n",
              "        }\n",
              "      </script>\n",
              "    </div>\n",
              "  </div>\n",
              "  "
            ]
          },
          "metadata": {},
          "execution_count": 49
        }
      ],
      "source": [
        "age0"
      ]
    },
    {
      "cell_type": "code",
      "execution_count": null,
      "metadata": {
        "colab": {
          "base_uri": "https://localhost:8080/"
        },
        "id": "6OLfe12Qlto-",
        "outputId": "187d978a-879e-4baa-f9f9-81405eac568a"
      },
      "outputs": [
        {
          "output_type": "stream",
          "name": "stdout",
          "text": [
            "train 3320 validation 1187 1424\n"
          ]
        }
      ],
      "source": [
        "from sklearn.model_selection import train_test_split\n",
        "train_test0, valid0 = train_test_split(age0, \n",
        "                                   test_size = 0.2, \n",
        "                                   random_state = 2018,\n",
        "                                   stratify = age0['boneage'])\n",
        "#print('train', raw_train_df.shape[0], 'validation', valid_df.shape[0])\n",
        "train0, test0 = train_test_split(train_test0, \n",
        "                                   test_size = 0.3, \n",
        "                                   random_state = 2018,\n",
        "                                   stratify = train_test0['boneage'])\n",
        "print('train', train0.shape[0], 'validation', valid0.shape[0],test0.shape[0])"
      ]
    },
    {
      "cell_type": "code",
      "execution_count": null,
      "metadata": {
        "colab": {
          "base_uri": "https://localhost:8080/"
        },
        "id": "neq1ir7ylto_",
        "outputId": "8ad2e953-31e0-4f5a-d5f9-b66ce494948b"
      },
      "outputs": [
        {
          "output_type": "stream",
          "name": "stdout",
          "text": [
            "## Ignore next message from keras, values are replaced anyways\n",
            "Found 0 images belonging to 0 classes.\n",
            "Reinserting dataframe: 3320 images\n"
          ]
        }
      ],
      "source": [
        "train0_gen = flow_from_dataframe( core_idg, train0, \n",
        "                             path_col = 'path',\n",
        "                            y_col = 'boneage', \n",
        "                            target_size = IMG_SIZE,\n",
        "                             color_mode = 'rgb',\n",
        "                            batch_size = 3320)"
      ]
    },
    {
      "cell_type": "code",
      "execution_count": null,
      "metadata": {
        "colab": {
          "base_uri": "https://localhost:8080/"
        },
        "id": "OzomkT1ZltpA",
        "outputId": "b1457548-0462-4ec1-d1f5-6e94fe3717c8"
      },
      "outputs": [
        {
          "output_type": "stream",
          "name": "stdout",
          "text": [
            "## Ignore next message from keras, values are replaced anyways\n",
            "Found 0 images belonging to 0 classes.\n",
            "Reinserting dataframe: 1187 images\n"
          ]
        }
      ],
      "source": [
        "valid0_gen = flow_from_dataframe(core_idg, valid0, \n",
        "                             path_col = 'path',\n",
        "                            y_col = 'boneage', \n",
        "                            target_size = IMG_SIZE,\n",
        "                             color_mode = 'rgb',\n",
        "                            batch_size = 1187) "
      ]
    },
    {
      "cell_type": "code",
      "execution_count": null,
      "metadata": {
        "id": "Aw2JaZZwltpA"
      },
      "outputs": [],
      "source": [
        "\n",
        "testcore_idg = ImageDataGenerator(rotation_range=20,width_shift_range=0.15,height_shift_range=0.15,zoom_range=0.2,horizontal_flip=True)"
      ]
    },
    {
      "cell_type": "code",
      "execution_count": null,
      "metadata": {
        "colab": {
          "base_uri": "https://localhost:8080/"
        },
        "id": "Bu7kCWNYltpB",
        "outputId": "99833000-ccfe-4ebd-cb5e-fc3a60124865"
      },
      "outputs": [
        {
          "output_type": "stream",
          "name": "stdout",
          "text": [
            "## Ignore next message from keras, values are replaced anyways\n",
            "Found 0 images belonging to 0 classes.\n",
            "Reinserting dataframe: 1424 images\n"
          ]
        }
      ],
      "source": [
        "test0_gen = flow_from_dataframe(testcore_idg, \n",
        "                              test0, \n",
        "                             path_col = 'path',\n",
        "                            y_col = 'boneage', \n",
        "                            target_size = IMG_SIZE,\n",
        "                             color_mode = 'rgb',\n",
        "                            batch_size = 1424)"
      ]
    },
    {
      "cell_type": "code",
      "execution_count": null,
      "metadata": {
        "id": "6XxaEBd5ltpC"
      },
      "outputs": [],
      "source": [
        "train0_X, train0_Y = next(train0_gen)"
      ]
    },
    {
      "cell_type": "code",
      "execution_count": null,
      "metadata": {
        "id": "RDhVkpIBltpC"
      },
      "outputs": [],
      "source": [
        "train0_X.shape"
      ]
    },
    {
      "cell_type": "code",
      "execution_count": null,
      "metadata": {
        "id": "KWlRIzOkx7Dx"
      },
      "outputs": [],
      "source": [
        "train_x=[]\n",
        "train_y=[]\n",
        "train_gen=[]\n",
        "i=0\n",
        "for k in range(332):\n",
        "  for j in range(10):\n",
        "    train_x.append(train1_X[i])\n",
        "    train_y.append(train1_Y[i])\n",
        "    train_gen.append(1)\n",
        "    train_x.append(train0_X[i])\n",
        "    train_y.append(train0_Y[i])\n",
        "    train_gen.append(0)\n",
        "    i=i+1\n",
        "\n",
        "del train0_X\n",
        "del train0_Y\n",
        "i=3320\n",
        "for k in range(1156):\n",
        "  train_x.append(train1_X[i])\n",
        "  train_y.append(train1_Y[i])\n",
        "  train_gen.append(1)\n",
        "  i=i+1\n",
        "del train1_X\n",
        "del train1_Y"
      ]
    },
    {
      "cell_type": "code",
      "execution_count": null,
      "metadata": {
        "id": "0Amo32uq_Pl1"
      },
      "outputs": [],
      "source": [
        "train_x=np.asarray(train_x)\n",
        "train_x=train_x/255\n",
        "train_y=np.asarray(train_y)\n",
        "train_gen=np.asarray(train_gen)"
      ]
    },
    {
      "cell_type": "code",
      "execution_count": null,
      "metadata": {
        "id": "-xcDDZsvltpD"
      },
      "outputs": [],
      "source": [
        "valid0_X, valid0_Y = next(valid0_gen)"
      ]
    },
    {
      "cell_type": "code",
      "execution_count": null,
      "metadata": {
        "id": "Oc0hn0VeltpD"
      },
      "outputs": [],
      "source": [
        "valid0_X.shape"
      ]
    },
    {
      "cell_type": "code",
      "execution_count": null,
      "metadata": {
        "id": "f6x2PtQazOqz"
      },
      "outputs": [],
      "source": [
        "valid_x=[]\n",
        "valid_y=[]\n",
        "valid_gen=[]\n",
        "i=0\n",
        "for k in range(62):\n",
        "  for j in range(17):\n",
        "    valid_x.append(valid1_X[i])\n",
        "    valid_y.append(valid1_Y[i])\n",
        "    valid_gen.append(1)\n",
        "    valid_x.append(valid0_X[i])\n",
        "    valid_y.append(valid0_Y[i])\n",
        "    valid_gen.append(0)\n",
        "    i=i+1\n",
        "del valid1_X\n",
        "del valid1_Y\n",
        "i=1054\n",
        "for k in range(133):\n",
        "  valid_x.append(valid0_X[i])\n",
        "  valid_y.append(valid0_Y[i])\n",
        "  valid_gen.append(0)\n",
        "  i=i+1\n",
        "del valid0_X\n",
        "del valid0_Y"
      ]
    },
    {
      "cell_type": "code",
      "execution_count": null,
      "metadata": {
        "id": "xnSq2nAQ_XJd"
      },
      "outputs": [],
      "source": [
        "valid_x=np.asarray(valid_x)\n",
        "valid_x=valid_x/255\n",
        "valid_y=np.asarray(valid_y)\n",
        "valid_gen=np.asarray(valid_gen)"
      ]
    },
    {
      "cell_type": "code",
      "execution_count": null,
      "metadata": {
        "id": "ChATCHw-ltpE"
      },
      "outputs": [],
      "source": [
        "test0_X, test0_Y = next(test0_gen)"
      ]
    },
    {
      "cell_type": "code",
      "execution_count": null,
      "metadata": {
        "id": "Jz5uNv-kltpF"
      },
      "outputs": [],
      "source": [
        "test0_X.shape"
      ]
    },
    {
      "cell_type": "code",
      "execution_count": null,
      "metadata": {
        "id": "dx-q7Ukkzy2V"
      },
      "outputs": [],
      "source": [
        "test_x=[]\n",
        "test_y=[]\n",
        "test_gen=[]\n",
        "i=0\n",
        "for k in range(89):\n",
        "  for j in range(16):\n",
        "    test_x.append(test1_X[i])\n",
        "    test_y.append(test1_Y[i])\n",
        "    test_gen.append(1)\n",
        "    test_x.append(test0_X[i])\n",
        "    test_y.append(test0_Y[i])\n",
        "    test_gen.append(0)\n",
        "    i=i+1\n",
        "\n",
        "del test0_X\n",
        "del test0_Y\n",
        "i=1424\n",
        "for j in range(68):\n",
        "  test_x.append(test1_X[i])\n",
        "  test_y.append(test1_Y[i])\n",
        "  test_gen.append(1)\n",
        "  i=i+1\n",
        "del test1_X\n",
        "del test1_Y"
      ]
    },
    {
      "cell_type": "code",
      "execution_count": null,
      "metadata": {
        "id": "tpCPkoXh_qid"
      },
      "outputs": [],
      "source": [
        "test_x=np.asarray(test_x)\n",
        "test_x=test_x/255\n",
        "test_y=np.asarray(test_y)\n",
        "test_gen=np.asarray(test_gen)"
      ]
    },
    {
      "cell_type": "code",
      "execution_count": null,
      "metadata": {
        "id": "2A4yFegzBAzR"
      },
      "outputs": [],
      "source": [
        "from tensorflow.keras.applications.resnet50 import ResNet50\n",
        "from keras.applications.vgg19 import VGG19\n",
        "from keras.applications.inception_v3 import InceptionV3\n",
        "from keras.applications.xception import Xception\n",
        "from keras.preprocessing import image\n",
        "from keras.models import Model, load_model\n",
        "from keras.layers import Flatten, Dense, Input, Reshape, Lambda,Conv2D\n",
        "from tensorflow.keras import regularizers\n",
        "import tensorflow as tf\n",
        "from keras import backend as K\n",
        "import pickle\n",
        "import numpy as np\n",
        "import matplotlib.pyplot as plt\n",
        "import keras\n",
        "#from func_utils import *\n",
        "import os\n",
        "#os.environ[\"CUDA_VISIBLE_DEVICES\"]=\"2\"\n",
        "#os.environ['OMP_NUM_THREADS']='6'\n",
        "batch_size = 1\n",
        "epochs = 30"
      ]
    },
    {
      "cell_type": "code",
      "execution_count": null,
      "metadata": {
        "id": "1rSdNFgoX2go"
      },
      "outputs": [],
      "source": [
        "def conv2d_bn(x,filters,num_row,num_col,padding='same',strides=(1, 1)):\n",
        "   \n",
        "    x = keras.layers.Conv2D(filters, (num_row, num_col),padding=padding)(x)\n",
        "    x = keras.layers.BatchNormalization(axis=3, scale=False)(x)\n",
        "    x = keras.layers.Activation('relu')(x)\n",
        "    return x\n",
        "\n",
        "    #x = conv2d_bn(x, 32, 3, 3, padding='valid') "
      ]
    },
    {
      "cell_type": "code",
      "execution_count": null,
      "metadata": {
        "id": "2pb-jWtSv8m7"
      },
      "outputs": [],
      "source": []
    },
    {
      "cell_type": "code",
      "execution_count": null,
      "metadata": {
        "id": "VE1A_j3WGLxF"
      },
      "outputs": [],
      "source": [
        "from tensorflow.keras import regularizers\n",
        "def channel_attention(input_feature):\n",
        "    kernel_initializer = tf.keras.initializers.variance_scaling()\n",
        "    bias_initializer = tf.constant_initializer(value=0.0)\n",
        "    channel = input_feature.get_shape()[-1]\n",
        "    ratio=8\n",
        "    avg_pool = tf.reduce_mean(input_feature, axis=[1,2], keepdims=True)\n",
        "    assert avg_pool.get_shape()[1:] == (1,1,channel)\n",
        "    avg_pool =Dense(\n",
        "                                 units=channel//ratio,\n",
        "                                 activation=tf.nn.relu,\n",
        "                   kernel_regularizer=regularizers.L2(0.1),\n",
        "                                 kernel_initializer=kernel_initializer,\n",
        "                                 bias_initializer=bias_initializer) (avg_pool)\n",
        "    avg_pool = tf.keras.layers.Dropout(0.2)( avg_pool)\n",
        "    assert avg_pool.get_shape()[1:] == (1,1,channel//ratio)\n",
        "    avg_pool = Dense(\n",
        "                                 units=channel,                             \n",
        "                                 kernel_initializer=kernel_initializer,\n",
        "                                 kernel_regularizer=regularizers.L2(0.1),\n",
        "                                 bias_initializer=bias_initializer)  (avg_pool)  \n",
        "\n",
        "    assert avg_pool.get_shape()[1:] == (1,1,channel)\n",
        "\n",
        "    max_pool = tf.reduce_max(input_feature, axis=[1,2], keepdims=True)    \n",
        "    assert max_pool.get_shape()[1:] == (1,1,channel)\n",
        "    max_pool = Dense(\n",
        "                                 units=channel//ratio,\n",
        "                                  kernel_regularizer=regularizers.L2(0.1),\n",
        "                                 activation=tf.nn.relu) (max_pool)  \n",
        "\n",
        "    assert max_pool.get_shape()[1:] == (1,1,channel//ratio)\n",
        "    max_pool = Dense(kernel_regularizer=regularizers.L2(0.1),\n",
        "                                 units=channel)  (max_pool)\n",
        "\n",
        "    assert max_pool.get_shape()[1:] == (1,1,channel)\n",
        "\n",
        "    scale = tf.keras.activations.sigmoid(avg_pool + max_pool) \n",
        "    return input_feature * scale\n",
        "\n"
      ]
    },
    {
      "cell_type": "code",
      "execution_count": null,
      "metadata": {
        "id": "vohXWVZBGNbI"
      },
      "outputs": [],
      "source": [
        "def spatial_attention1(input_feature):\n",
        "    kernel_size = 3\n",
        "    kernel_initializer = tf.keras.initializers.variance_scaling()\n",
        "\n",
        "    avg_pool = tf.reduce_mean(input_feature, axis=[3], keepdims=True)\n",
        "    assert avg_pool.get_shape()[-1] == 1\n",
        "    max_pool = tf.reduce_max(input_feature, axis=[3], keepdims=True)\n",
        "    assert max_pool.get_shape()[-1] == 1\n",
        "    concat = tf.concat([avg_pool,max_pool], 3)\n",
        "    assert concat.get_shape()[-1] == 2\n",
        "\n",
        "    concat = Conv2D(\n",
        "                              filters=1,\n",
        "                              kernel_size=[kernel_size,kernel_size],\n",
        "                              strides=[1,1],\n",
        "                              padding=\"same\",\n",
        "                              activation=None,\n",
        "                              kernel_regularizer=regularizers.L2(0.01),\n",
        "                              kernel_initializer=kernel_initializer,\n",
        "                              use_bias=False)(concat)\n",
        "  #concat = tf.keras.layers.Dropout(0.2)( concat)\n",
        "    assert concat.get_shape()[-1] == 1\n",
        "    concat = tf.keras.activations.sigmoid(concat)\n",
        "    \n",
        "    return input_feature * concat\n"
      ]
    },
    {
      "cell_type": "code",
      "execution_count": null,
      "metadata": {
        "id": "W2eO-HVTGUZL"
      },
      "outputs": [],
      "source": [
        "def spatial_attention2(input_feature):\n",
        "    kernel_size = 5\n",
        "    kernel_initializer = tf.keras.initializers.variance_scaling()\n",
        "\n",
        "    avg_pool = tf.reduce_mean(input_feature, axis=[3], keepdims=True)\n",
        "    assert avg_pool.get_shape()[-1] == 1\n",
        "    max_pool = tf.reduce_max(input_feature, axis=[3], keepdims=True)\n",
        "    assert max_pool.get_shape()[-1] == 1\n",
        "    concat = tf.concat([avg_pool,max_pool], 3)\n",
        "    assert concat.get_shape()[-1] == 2\n",
        "\n",
        "    concat = Conv2D(\n",
        "                              filters=1,\n",
        "                              kernel_size=[kernel_size,kernel_size],\n",
        "                              strides=[1,1],\n",
        "                              padding=\"same\",\n",
        "                              activation=None,\n",
        "                              kernel_regularizer=regularizers.L2(0.01),\n",
        "                              kernel_initializer=kernel_initializer,\n",
        "                              use_bias=False)(concat)\n",
        "  #concat = tf.keras.layers.Dropout(0.2)( concat)\n",
        "    assert concat.get_shape()[-1] == 1\n",
        "    concat = tf.keras.activations.sigmoid(concat)\n",
        "    \n",
        "    return input_feature * concat\n"
      ]
    },
    {
      "cell_type": "code",
      "source": [
        "def spatial_attention3(input_feature):\n",
        "    kernel_size = 7\n",
        "    kernel_initializer = tf.keras.initializers.variance_scaling()\n",
        "\n",
        "    avg_pool = tf.reduce_mean(input_feature, axis=[3], keepdims=True)\n",
        "    assert avg_pool.get_shape()[-1] == 1\n",
        "    max_pool = tf.reduce_max(input_feature, axis=[3], keepdims=True)\n",
        "    assert max_pool.get_shape()[-1] == 1\n",
        "    concat = tf.concat([avg_pool,max_pool], 3)\n",
        "    assert concat.get_shape()[-1] == 2\n",
        "\n",
        "    concat = Conv2D(\n",
        "                              filters=1,\n",
        "                              kernel_size=[kernel_size,kernel_size],\n",
        "                              strides=[1,1],\n",
        "                              padding=\"same\",\n",
        "                              activation=None,\n",
        "                              kernel_regularizer=regularizers.L2(0.01),\n",
        "                              kernel_initializer=kernel_initializer,\n",
        "                              use_bias=False)(concat)\n",
        "  #concat = tf.keras.layers.Dropout(0.2)( concat)\n",
        "    assert concat.get_shape()[-1] == 1\n",
        "    concat = tf.keras.activations.sigmoid(concat)\n",
        "    \n",
        "    return input_feature * concat\n"
      ],
      "metadata": {
        "id": "4HP01_24Cbt8"
      },
      "execution_count": null,
      "outputs": []
    },
    {
      "cell_type": "code",
      "source": [],
      "metadata": {
        "id": "2RZfeqQ-M7OF"
      },
      "execution_count": null,
      "outputs": []
    },
    {
      "cell_type": "markdown",
      "source": [
        "================================================================================"
      ],
      "metadata": {
        "id": "6TWOPN8ycXSI"
      }
    },
    {
      "cell_type": "code",
      "source": [
        "base_model = InceptionV3(weights='imagenet', include_top=False)\n",
        "\n",
        "input = Input(shape=(256,256,3),name='input1')\n",
        "input_gender = Input(shape=(1,),dtype='float32',name='input2')\n",
        "output = base_model(input)\n",
        "gender_embedding=Dense(32)(input_gender)\n",
        "#gender_embedding=Dense(12)(gender_embedding)\n",
        "#x = keras.layers.MaxPooling2D(pool_size=(5,5))(output)\n",
        "#x = keras.layers.Conv2D(512,kernel_size=(3,3))(x)\n",
        "#x = conv2d_bn(output, 512, 3, 3, padding='valid') \n",
        "#x = conv2d_bn(x, 256, 3, 3, padding='valid') \n",
        "#x = conv2d_bn(x, 256, 3, 3, padding='valid') \n",
        "x=channel_attention(output)\n",
        "#x=spatial_attention(x)\n",
        "\n",
        "print (K.int_shape(output))\n",
        "x = keras.layers.MaxPooling2D(pool_size=(2,2))(x)\n",
        "print (K.int_shape(x))\n",
        "x=Flatten()(x)\n",
        "f = keras.layers.Concatenate(axis=1)([x,gender_embedding])\n",
        "print (K.int_shape(f)) \n",
        "#x = Dense(256, activation='relu')(x)\n",
        "predictions = Dense(1)(f)\n",
        "model = Model(inputs=[input,input_gender], outputs=predictions)\n",
        "Adam=tf.keras.optimizers.Adam(lr=0.0001,beta_1=0.9,beta_2=0.999)\n",
        "model.compile(optimizer=Adam, loss='mean_absolute_error', metrics=['MAE'])\n",
        "#model.summary()\n",
        "from keras.preprocessing.image import ImageDataGenerator\n",
        "DataGen = ImageDataGenerator(rotation_range=20,width_shift_range=0.15,height_shift_range=0.15,zoom_range=0.2,horizontal_flip=True)\n",
        "def Generator(x_train,gender_train,y_train,batch_size):\n",
        "    loopcount = len(y_train)//batch_size\n",
        "    i=0\n",
        "    while (True):\n",
        "        if i>loopcount:\n",
        "            i=0\n",
        "        # i=np.random.randint(0,loopcount)\n",
        "        x_train_batch = x_train[i*batch_size:(i+1)*batch_size,:,:,:]\n",
        "        x_train_batch = DataAugment(x_train_batch)\n",
        "        gender_train_batch = gender_train[i*batch_size:(i+1)*batch_size]\n",
        "        y_train_batch = y_train[i*batch_size:(i+1)*batch_size]\n",
        "        inputs = [x_train_batch,gender_train_batch]\n",
        "        target = y_train_batch\n",
        "        yield (inputs ,target)\n",
        "        i = i+1\n",
        "checkpoint =keras.callbacks.ModelCheckpoint(filepath='weights/weights.{epoch:02d}-{val_loss:.2f}.hdf5',save_weights_only=True,period=100)\n",
        "history = model.fit_generator(DataGen.flow([train_x,train_gen],train_y,batch_size=64),steps_per_epoch=np.ceil(len(train_y)/64),epochs=100,verbose=1,validation_data=([valid_x,valid_gen],valid_y))\n",
        "#history = model.fit_generator(Generator(x_train,gender_train,y_train,batch_size),steps_per_epoch=np.ceil(len(y_train)/batch_size),epochs=10,verbose=1,validation_data=([x_valid,gender_valid],y_valid))\n",
        "#history=model.fit([x_train,gender_train],y_train,batch_size=32,epochs=5,verbose=1,validation_data=([x_valid,gender_valid],y_valid), callbacks = [checkpoint])\n",
        "score = model.evaluate([test_x,test_gen], test_y, batch_size=64)"
      ],
      "metadata": {
        "colab": {
          "base_uri": "https://localhost:8080/"
        },
        "id": "ijV317oHt6sX",
        "outputId": "5f4f0e30-1d6f-45ab-aa53-f92be39ef16e"
      },
      "execution_count": null,
      "outputs": [
        {
          "metadata": {
            "tags": null
          },
          "name": "stdout",
          "output_type": "stream",
          "text": [
            "Downloading data from https://storage.googleapis.com/tensorflow/keras-applications/inception_v3/inception_v3_weights_tf_dim_ordering_tf_kernels_notop.h5\n",
            "87910968/87910968 [==============================] - 0s 0us/step\n"
          ]
        },
        {
          "metadata": {
            "tags": null
          },
          "name": "stderr",
          "output_type": "stream",
          "text": [
            "/usr/local/lib/python3.8/dist-packages/keras/optimizers/optimizer_v2/adam.py:110: UserWarning: The `lr` argument is deprecated, use `learning_rate` instead.\n",
            "  super(Adam, self).__init__(name, **kwargs)\n",
            "WARNING:tensorflow:`period` argument is deprecated. Please use `save_freq` to specify the frequency in number of batches seen.\n"
          ]
        },
        {
          "metadata": {
            "tags": null
          },
          "name": "stdout",
          "output_type": "stream",
          "text": [
            "(None, 6, 6, 2048)\n",
            "(None, 3, 3, 2048)\n",
            "(None, 18464)\n"
          ]
        },
        {
          "metadata": {
            "tags": null
          },
          "name": "stderr",
          "output_type": "stream",
          "text": [
            "<ipython-input-73-5af9d40f501a>:46: UserWarning: `Model.fit_generator` is deprecated and will be removed in a future version. Please use `Model.fit`, which supports generators.\n",
            "  history = model.fit_generator(DataGen.flow([train_x,train_gen],train_y,batch_size=64),steps_per_epoch=np.ceil(len(train_y)/64),epochs=100,verbose=1,validation_data=([valid_x,valid_gen],valid_y))\n"
          ]
        },
        {
          "output_type": "stream",
          "name": "stdout",
          "text": [
            "Epoch 1/100\n",
            "122/122 [==============================] - 139s 968ms/step - loss: 298.5641 - MAE: 35.7571 - val_loss: 249.1759 - val_MAE: 38.6829\n",
            "Epoch 2/100\n",
            "122/122 [==============================] - 108s 882ms/step - loss: 187.9369 - MAE: 15.1164 - val_loss: 156.2570 - val_MAE: 16.3448\n",
            "Epoch 3/100\n",
            "122/122 [==============================] - 107s 873ms/step - loss: 129.6753 - MAE: 13.7381 - val_loss: 111.1778 - val_MAE: 16.2509\n",
            "Epoch 4/100\n",
            "122/122 [==============================] - 107s 871ms/step - loss: 92.4401 - MAE: 13.1319 - val_loss: 78.1465 - val_MAE: 12.7679\n",
            "Epoch 5/100\n",
            "122/122 [==============================] - 107s 872ms/step - loss: 67.3271 - MAE: 12.4274 - val_loss: 58.2592 - val_MAE: 12.7629\n",
            "Epoch 6/100\n",
            "122/122 [==============================] - 108s 880ms/step - loss: 50.4493 - MAE: 12.1736 - val_loss: 43.7803 - val_MAE: 11.9934\n",
            "Epoch 7/100\n",
            "122/122 [==============================] - 107s 876ms/step - loss: 38.4519 - MAE: 11.7094 - val_loss: 33.7699 - val_MAE: 11.5849\n",
            "Epoch 8/100\n",
            "122/122 [==============================] - 108s 878ms/step - loss: 30.0269 - MAE: 11.3883 - val_loss: 26.7798 - val_MAE: 11.3359\n",
            "Epoch 9/100\n",
            "122/122 [==============================] - 107s 875ms/step - loss: 24.3360 - MAE: 11.4099 - val_loss: 27.0071 - val_MAE: 16.3737\n",
            "Epoch 10/100\n",
            "122/122 [==============================] - 108s 881ms/step - loss: 20.1589 - MAE: 11.2660 - val_loss: 18.5629 - val_MAE: 11.2587\n",
            "Epoch 11/100\n",
            "122/122 [==============================] - 105s 859ms/step - loss: 17.1817 - MAE: 11.1084 - val_loss: 15.5965 - val_MAE: 10.6295\n",
            "Epoch 12/100\n",
            "122/122 [==============================] - 107s 873ms/step - loss: 14.7674 - MAE: 10.6642 - val_loss: 16.3038 - val_MAE: 12.9620\n",
            "Epoch 13/100\n",
            "122/122 [==============================] - 105s 859ms/step - loss: 13.3616 - MAE: 10.5885 - val_loss: 14.9277 - val_MAE: 12.6666\n",
            "Epoch 14/100\n",
            "122/122 [==============================] - 107s 873ms/step - loss: 12.2459 - MAE: 10.3688 - val_loss: 12.0568 - val_MAE: 10.5022\n",
            "Epoch 15/100\n",
            "122/122 [==============================] - 105s 853ms/step - loss: 11.4911 - MAE: 10.2169 - val_loss: 11.6572 - val_MAE: 10.6020\n",
            "Epoch 16/100\n",
            "122/122 [==============================] - 107s 872ms/step - loss: 11.0180 - MAE: 10.1344 - val_loss: 11.2833 - val_MAE: 10.5421\n",
            "Epoch 17/100\n",
            "122/122 [==============================] - 107s 875ms/step - loss: 10.5413 - MAE: 9.9094 - val_loss: 11.1473 - val_MAE: 10.6190\n",
            "Epoch 18/100\n",
            "122/122 [==============================] - 108s 878ms/step - loss: 10.2279 - MAE: 9.7596 - val_loss: 12.0080 - val_MAE: 11.5883\n",
            "Epoch 19/100\n",
            "122/122 [==============================] - 107s 872ms/step - loss: 10.1278 - MAE: 9.7679 - val_loss: 11.6565 - val_MAE: 11.3501\n",
            "Epoch 20/100\n",
            "122/122 [==============================] - 107s 873ms/step - loss: 10.0078 - MAE: 9.7062 - val_loss: 12.1794 - val_MAE: 11.8894\n",
            "Epoch 21/100\n",
            "122/122 [==============================] - 105s 858ms/step - loss: 9.8182 - MAE: 9.5493 - val_loss: 10.8182 - val_MAE: 10.5685\n",
            "Epoch 22/100\n",
            "122/122 [==============================] - 106s 865ms/step - loss: 9.6114 - MAE: 9.3743 - val_loss: 11.8557 - val_MAE: 11.5999\n",
            "Epoch 23/100\n",
            "122/122 [==============================] - 106s 868ms/step - loss: 9.3586 - MAE: 9.1350 - val_loss: 12.5230 - val_MAE: 12.3083\n",
            "Epoch 24/100\n",
            "122/122 [==============================] - 107s 873ms/step - loss: 9.5353 - MAE: 9.3229 - val_loss: 10.8438 - val_MAE: 10.6448\n",
            "Epoch 25/100\n",
            "122/122 [==============================] - 105s 854ms/step - loss: 9.0100 - MAE: 8.8189 - val_loss: 10.4972 - val_MAE: 10.3163\n",
            "Epoch 26/100\n",
            "122/122 [==============================] - 107s 874ms/step - loss: 8.9773 - MAE: 8.7892 - val_loss: 11.0507 - val_MAE: 10.8638\n",
            "Epoch 27/100\n",
            "122/122 [==============================] - 107s 873ms/step - loss: 8.7890 - MAE: 8.6088 - val_loss: 10.0652 - val_MAE: 9.8883\n",
            "Epoch 28/100\n",
            "122/122 [==============================] - 107s 877ms/step - loss: 8.8821 - MAE: 8.6982 - val_loss: 11.1015 - val_MAE: 10.9164\n",
            "Epoch 29/100\n",
            "122/122 [==============================] - 106s 867ms/step - loss: 8.7797 - MAE: 8.5918 - val_loss: 10.7842 - val_MAE: 10.6081\n",
            "Epoch 30/100\n",
            "122/122 [==============================] - 104s 848ms/step - loss: 8.6173 - MAE: 8.4427 - val_loss: 10.6107 - val_MAE: 10.4393\n",
            "Epoch 31/100\n",
            "122/122 [==============================] - 105s 854ms/step - loss: 8.4700 - MAE: 8.2959 - val_loss: 9.8028 - val_MAE: 9.6285\n",
            "Epoch 32/100\n",
            "122/122 [==============================] - 107s 872ms/step - loss: 8.4938 - MAE: 8.3147 - val_loss: 9.9730 - val_MAE: 9.8087\n",
            "Epoch 33/100\n",
            "122/122 [==============================] - 107s 873ms/step - loss: 8.2912 - MAE: 8.1206 - val_loss: 11.5789 - val_MAE: 11.4010\n",
            "Epoch 34/100\n",
            "122/122 [==============================] - 107s 875ms/step - loss: 8.3458 - MAE: 8.1750 - val_loss: 10.7187 - val_MAE: 10.5458\n",
            "Epoch 35/100\n",
            "122/122 [==============================] - 103s 838ms/step - loss: 8.0762 - MAE: 7.9042 - val_loss: 10.2926 - val_MAE: 10.1314\n",
            "Epoch 36/100\n",
            "122/122 [==============================] - 106s 866ms/step - loss: 7.9027 - MAE: 7.7483 - val_loss: 10.1526 - val_MAE: 10.0052\n",
            "Epoch 37/100\n",
            "122/122 [==============================] - 104s 848ms/step - loss: 8.0639 - MAE: 7.8997 - val_loss: 11.4119 - val_MAE: 11.2510\n",
            "Epoch 38/100\n",
            "122/122 [==============================] - 107s 871ms/step - loss: 7.8424 - MAE: 7.6844 - val_loss: 12.0619 - val_MAE: 11.9158\n",
            "Epoch 39/100\n",
            "122/122 [==============================] - 105s 859ms/step - loss: 7.6948 - MAE: 7.5481 - val_loss: 9.8282 - val_MAE: 9.6779\n",
            "Epoch 40/100\n",
            "122/122 [==============================] - 107s 873ms/step - loss: 7.8260 - MAE: 7.6758 - val_loss: 10.9758 - val_MAE: 10.8206\n",
            "Epoch 41/100\n",
            "122/122 [==============================] - 106s 865ms/step - loss: 7.6367 - MAE: 7.4806 - val_loss: 11.6667 - val_MAE: 11.5082\n",
            "Epoch 42/100\n",
            "122/122 [==============================] - 107s 871ms/step - loss: 7.5672 - MAE: 7.4101 - val_loss: 9.7615 - val_MAE: 9.6076\n",
            "Epoch 43/100\n",
            "122/122 [==============================] - 107s 875ms/step - loss: 7.5714 - MAE: 7.4188 - val_loss: 10.5191 - val_MAE: 10.3648\n",
            "Epoch 44/100\n",
            "122/122 [==============================] - 106s 869ms/step - loss: 7.3303 - MAE: 7.1840 - val_loss: 9.5158 - val_MAE: 9.3699\n",
            "Epoch 45/100\n",
            "122/122 [==============================] - 104s 850ms/step - loss: 7.3485 - MAE: 7.2110 - val_loss: 10.3137 - val_MAE: 10.1682\n",
            "Epoch 46/100\n",
            "122/122 [==============================] - 106s 867ms/step - loss: 7.2449 - MAE: 7.0968 - val_loss: 10.6735 - val_MAE: 10.5291\n",
            "Epoch 47/100\n",
            "122/122 [==============================] - 103s 839ms/step - loss: 7.1633 - MAE: 7.0273 - val_loss: 9.2051 - val_MAE: 9.0704\n",
            "Epoch 48/100\n",
            "122/122 [==============================] - 107s 872ms/step - loss: 7.0745 - MAE: 6.9384 - val_loss: 9.8655 - val_MAE: 9.7319\n",
            "Epoch 49/100\n",
            "122/122 [==============================] - 106s 869ms/step - loss: 7.0661 - MAE: 6.9344 - val_loss: 9.0770 - val_MAE: 8.9418\n",
            "Epoch 50/100\n",
            "122/122 [==============================] - 107s 869ms/step - loss: 7.0123 - MAE: 6.8716 - val_loss: 12.3376 - val_MAE: 12.1897\n",
            "Epoch 51/100\n",
            "122/122 [==============================] - 106s 868ms/step - loss: 7.0139 - MAE: 6.8697 - val_loss: 9.2784 - val_MAE: 9.1308\n",
            "Epoch 52/100\n",
            "122/122 [==============================] - 106s 864ms/step - loss: 6.8427 - MAE: 6.7023 - val_loss: 9.3396 - val_MAE: 9.2059\n",
            "Epoch 53/100\n",
            "122/122 [==============================] - 112s 914ms/step - loss: 6.7349 - MAE: 6.5999 - val_loss: 9.4067 - val_MAE: 9.2757\n",
            "Epoch 54/100\n",
            "122/122 [==============================] - 107s 869ms/step - loss: 6.7127 - MAE: 6.5853 - val_loss: 8.9444 - val_MAE: 8.8198\n",
            "Epoch 55/100\n",
            "122/122 [==============================] - 106s 868ms/step - loss: 6.7780 - MAE: 6.6479 - val_loss: 9.6009 - val_MAE: 9.4654\n",
            "Epoch 56/100\n",
            "122/122 [==============================] - 107s 873ms/step - loss: 6.7130 - MAE: 6.5801 - val_loss: 10.0682 - val_MAE: 9.9312\n",
            "Epoch 57/100\n",
            "122/122 [==============================] - 107s 875ms/step - loss: 6.7484 - MAE: 6.6021 - val_loss: 9.5194 - val_MAE: 9.3736\n",
            "Epoch 58/100\n",
            "122/122 [==============================] - 107s 875ms/step - loss: 6.3429 - MAE: 6.2086 - val_loss: 10.1620 - val_MAE: 10.0336\n",
            "Epoch 59/100\n",
            "122/122 [==============================] - 106s 867ms/step - loss: 6.3820 - MAE: 6.2575 - val_loss: 9.4526 - val_MAE: 9.3265\n",
            "Epoch 60/100\n",
            "122/122 [==============================] - 106s 868ms/step - loss: 6.4833 - MAE: 6.3582 - val_loss: 9.5147 - val_MAE: 9.3939\n",
            "Epoch 61/100\n",
            "122/122 [==============================] - 105s 858ms/step - loss: 6.3576 - MAE: 6.2366 - val_loss: 9.1677 - val_MAE: 9.0423\n",
            "Epoch 62/100\n",
            "122/122 [==============================] - 107s 869ms/step - loss: 6.2529 - MAE: 6.1309 - val_loss: 10.8650 - val_MAE: 10.7430\n",
            "Epoch 63/100\n",
            "122/122 [==============================] - 108s 878ms/step - loss: 6.2492 - MAE: 6.1264 - val_loss: 10.2363 - val_MAE: 10.1157\n",
            "Epoch 64/100\n",
            "122/122 [==============================] - 107s 871ms/step - loss: 6.2165 - MAE: 6.0943 - val_loss: 11.6249 - val_MAE: 11.5013\n",
            "Epoch 65/100\n",
            "122/122 [==============================] - 107s 871ms/step - loss: 6.2342 - MAE: 6.1111 - val_loss: 9.9385 - val_MAE: 9.8204\n",
            "Epoch 66/100\n",
            "122/122 [==============================] - 107s 873ms/step - loss: 6.1589 - MAE: 6.0353 - val_loss: 9.8783 - val_MAE: 9.7531\n",
            "Epoch 67/100\n",
            "122/122 [==============================] - 107s 875ms/step - loss: 5.9297 - MAE: 5.8079 - val_loss: 9.1058 - val_MAE: 8.9878\n",
            "Epoch 68/100\n",
            "122/122 [==============================] - 107s 872ms/step - loss: 6.0312 - MAE: 5.9122 - val_loss: 9.6073 - val_MAE: 9.4875\n",
            "Epoch 69/100\n",
            "122/122 [==============================] - 107s 871ms/step - loss: 5.9258 - MAE: 5.8074 - val_loss: 9.7530 - val_MAE: 9.6353\n",
            "Epoch 70/100\n",
            "122/122 [==============================] - 105s 858ms/step - loss: 5.8713 - MAE: 5.7543 - val_loss: 9.0347 - val_MAE: 8.9166\n",
            "Epoch 71/100\n",
            "122/122 [==============================] - 106s 867ms/step - loss: 5.8919 - MAE: 5.7761 - val_loss: 8.8999 - val_MAE: 8.7823\n",
            "Epoch 72/100\n",
            "122/122 [==============================] - 107s 872ms/step - loss: 5.8022 - MAE: 5.6847 - val_loss: 9.1031 - val_MAE: 8.9895\n",
            "Epoch 73/100\n",
            "122/122 [==============================] - 107s 872ms/step - loss: 5.6495 - MAE: 5.5368 - val_loss: 9.4210 - val_MAE: 9.3061\n",
            "Epoch 74/100\n",
            "122/122 [==============================] - 106s 866ms/step - loss: 5.7653 - MAE: 5.6522 - val_loss: 10.1698 - val_MAE: 10.0589\n",
            "Epoch 75/100\n",
            "122/122 [==============================] - 107s 871ms/step - loss: 5.7714 - MAE: 5.6565 - val_loss: 9.8204 - val_MAE: 9.7061\n",
            "Epoch 76/100\n",
            "122/122 [==============================] - 107s 872ms/step - loss: 5.6039 - MAE: 5.4890 - val_loss: 8.7972 - val_MAE: 8.6817\n",
            "Epoch 77/100\n",
            "122/122 [==============================] - 106s 868ms/step - loss: 5.5937 - MAE: 5.4814 - val_loss: 9.7788 - val_MAE: 9.6692\n",
            "Epoch 78/100\n",
            "122/122 [==============================] - 106s 868ms/step - loss: 5.5707 - MAE: 5.4624 - val_loss: 8.9906 - val_MAE: 8.8829\n",
            "Epoch 79/100\n",
            "122/122 [==============================] - 106s 863ms/step - loss: 5.5993 - MAE: 5.4886 - val_loss: 9.2704 - val_MAE: 9.1549\n",
            "Epoch 80/100\n",
            "122/122 [==============================] - 106s 866ms/step - loss: 5.5156 - MAE: 5.3932 - val_loss: 9.4935 - val_MAE: 9.3773\n",
            "Epoch 81/100\n",
            "122/122 [==============================] - 105s 860ms/step - loss: 5.5267 - MAE: 5.4115 - val_loss: 8.7953 - val_MAE: 8.6820\n",
            "Epoch 82/100\n",
            "122/122 [==============================] - 105s 854ms/step - loss: 5.3642 - MAE: 5.2518 - val_loss: 8.7994 - val_MAE: 8.6895\n",
            "Epoch 83/100\n",
            "122/122 [==============================] - 106s 867ms/step - loss: 5.2660 - MAE: 5.1567 - val_loss: 8.9625 - val_MAE: 8.8512\n",
            "Epoch 84/100\n",
            "122/122 [==============================] - 107s 871ms/step - loss: 5.4099 - MAE: 5.2989 - val_loss: 9.1359 - val_MAE: 9.0272\n",
            "Epoch 85/100\n",
            "122/122 [==============================] - 106s 861ms/step - loss: 5.4205 - MAE: 5.3143 - val_loss: 9.0528 - val_MAE: 8.9491\n",
            "Epoch 86/100\n",
            "122/122 [==============================] - 107s 869ms/step - loss: 5.2879 - MAE: 5.1798 - val_loss: 9.4727 - val_MAE: 9.3678\n",
            "Epoch 87/100\n",
            "122/122 [==============================] - 106s 862ms/step - loss: 5.2298 - MAE: 5.1211 - val_loss: 9.4718 - val_MAE: 9.3631\n",
            "Epoch 88/100\n",
            "122/122 [==============================] - 107s 870ms/step - loss: 5.1525 - MAE: 5.0436 - val_loss: 9.1083 - val_MAE: 9.0018\n",
            "Epoch 89/100\n",
            "122/122 [==============================] - 106s 862ms/step - loss: 5.1495 - MAE: 5.0413 - val_loss: 9.1032 - val_MAE: 8.9967\n",
            "Epoch 90/100\n",
            "122/122 [==============================] - 106s 861ms/step - loss: 5.0117 - MAE: 4.9076 - val_loss: 8.6366 - val_MAE: 8.5363\n",
            "Epoch 91/100\n",
            "122/122 [==============================] - 106s 862ms/step - loss: 4.9619 - MAE: 4.8616 - val_loss: 9.2850 - val_MAE: 9.1833\n",
            "Epoch 92/100\n",
            "122/122 [==============================] - 106s 867ms/step - loss: 4.8796 - MAE: 4.7806 - val_loss: 8.4093 - val_MAE: 8.3110\n",
            "Epoch 93/100\n",
            "122/122 [==============================] - 107s 875ms/step - loss: 4.9901 - MAE: 4.8941 - val_loss: 8.9258 - val_MAE: 8.8272\n",
            "Epoch 94/100\n",
            "122/122 [==============================] - 106s 868ms/step - loss: 5.0832 - MAE: 4.9815 - val_loss: 9.5321 - val_MAE: 9.4300\n",
            "Epoch 95/100\n",
            "122/122 [==============================] - 106s 865ms/step - loss: 4.9051 - MAE: 4.8046 - val_loss: 8.6251 - val_MAE: 8.5223\n",
            "Epoch 96/100\n",
            "122/122 [==============================] - 107s 873ms/step - loss: 4.9357 - MAE: 4.8327 - val_loss: 10.0206 - val_MAE: 9.9168\n",
            "Epoch 97/100\n",
            "122/122 [==============================] - 107s 870ms/step - loss: 4.8433 - MAE: 4.7389 - val_loss: 8.7129 - val_MAE: 8.6121\n",
            "Epoch 98/100\n",
            "122/122 [==============================] - 106s 868ms/step - loss: 4.8568 - MAE: 4.7574 - val_loss: 9.3339 - val_MAE: 9.2347\n",
            "Epoch 99/100\n",
            "122/122 [==============================] - 106s 868ms/step - loss: 4.7395 - MAE: 4.6405 - val_loss: 8.5382 - val_MAE: 8.4397\n",
            "Epoch 100/100\n",
            "122/122 [==============================] - 107s 871ms/step - loss: 4.7612 - MAE: 4.6642 - val_loss: 8.6193 - val_MAE: 8.5208\n",
            "46/46 [==============================] - 9s 203ms/step - loss: 8.7941 - MAE: 8.6955\n"
          ]
        }
      ]
    },
    {
      "cell_type": "code",
      "source": [
        "plt.plot(history.history['loss'])\n",
        "plt.plot(history.history['val_loss'])\n",
        "plt.title('Model loss')\n",
        "plt.ylabel('Loss')\n",
        "plt.xlabel('Epoch')\n",
        "plt.legend(['Train', 'Validation'], loc='upper left')\n",
        "plt.show()"
      ],
      "metadata": {
        "colab": {
          "base_uri": "https://localhost:8080/",
          "height": 295
        },
        "id": "i80J8XlNPiz4",
        "outputId": "6fb07dcf-9c7b-41ec-8402-394c04e4f846"
      },
      "execution_count": null,
      "outputs": [
        {
          "output_type": "display_data",
          "data": {
            "text/plain": [
              "<Figure size 432x288 with 1 Axes>"
            ],
            "image/png": "[encoded data removed]"
          },
          "metadata": {
            "needs_background": "light"
          }
        }
      ]
    },
    {
      "cell_type": "code",
      "source": [
        "base_model = InceptionV3(weights='imagenet', include_top=False)\n",
        "\n",
        "input = Input(shape=(256,256,3),name='input1')\n",
        "input_gender = Input(shape=(1,),dtype='float32',name='input2')\n",
        "output = base_model(input)\n",
        "gender_embedding=Dense(32)(input_gender)\n",
        "#gender_embedding=Dense(12)(gender_embedding)\n",
        "#x = keras.layers.MaxPooling2D(pool_size=(5,5))(output)\n",
        "#x = keras.layers.Conv2D(512,kernel_size=(3,3))(x)\n",
        "#x = conv2d_bn(output, 512, 3, 3, padding='valid') \n",
        "#x = conv2d_bn(x, 256, 3, 3, padding='valid') \n",
        "#x = conv2d_bn(x, 256, 3, 3, padding='valid') \n",
        "#x=channel_attention(x)\n",
        "x=spatial_attention3(output)\n",
        "\n",
        "print (K.int_shape(output))\n",
        "x = keras.layers.MaxPooling2D(pool_size=(2,2))(x)\n",
        "print (K.int_shape(x))\n",
        "x=Flatten()(x)\n",
        "f = keras.layers.Concatenate(axis=1)([x,gender_embedding])\n",
        "print (K.int_shape(f)) \n",
        "#x = Dense(256, activation='relu')(x)\n",
        "predictions = Dense(1)(f)\n",
        "model = Model(inputs=[input,input_gender], outputs=predictions)\n",
        "Adam=tf.keras.optimizers.Adam(lr=0.0001,beta_1=0.9,beta_2=0.999)\n",
        "model.compile(optimizer=Adam, loss='mean_absolute_error', metrics=['MAE'])\n",
        "#model.summary()\n",
        "from keras.preprocessing.image import ImageDataGenerator\n",
        "DataGen = ImageDataGenerator(rotation_range=20,width_shift_range=0.15,height_shift_range=0.15,zoom_range=0.2,horizontal_flip=True)\n",
        "def Generator(x_train,gender_train,y_train,batch_size):\n",
        "    loopcount = len(y_train)//batch_size\n",
        "    i=0\n",
        "    while (True):\n",
        "        if i>loopcount:\n",
        "            i=0\n",
        "        # i=np.random.randint(0,loopcount)\n",
        "        x_train_batch = x_train[i*batch_size:(i+1)*batch_size,:,:,:]\n",
        "        x_train_batch = DataAugment(x_train_batch)\n",
        "        gender_train_batch = gender_train[i*batch_size:(i+1)*batch_size]\n",
        "        y_train_batch = y_train[i*batch_size:(i+1)*batch_size]\n",
        "        inputs = [x_train_batch,gender_train_batch]\n",
        "        target = y_train_batch\n",
        "        yield (inputs ,target)\n",
        "        i = i+1\n",
        "checkpoint =keras.callbacks.ModelCheckpoint(filepath='weights/weights.{epoch:02d}-{val_loss:.2f}.hdf5',save_weights_only=True,period=100)\n",
        "history = model.fit_generator(DataGen.flow([train_x,train_gen],train_y,batch_size=64),steps_per_epoch=np.ceil(len(train_y)/64),epochs=100,verbose=1,validation_data=([valid_x,valid_gen],valid_y))\n",
        "#history = model.fit_generator(Generator(x_train,gender_train,y_train,batch_size),steps_per_epoch=np.ceil(len(y_train)/batch_size),epochs=10,verbose=1,validation_data=([x_valid,gender_valid],y_valid))\n",
        "#history=model.fit([x_train,gender_train],y_train,batch_size=32,epochs=5,verbose=1,validation_data=([x_valid,gender_valid],y_valid), callbacks = [checkpoint])\n",
        "score = model.evaluate([test_x,test_gen], test_y, batch_size=64)"
      ],
      "metadata": {
        "colab": {
          "base_uri": "https://localhost:8080/"
        },
        "id": "ssFtMcy-ZUq8",
        "outputId": "3d5497eb-a55d-454c-99fa-de2e103f7742"
      },
      "execution_count": null,
      "outputs": [
        {
          "metadata": {
            "tags": null
          },
          "name": "stderr",
          "output_type": "stream",
          "text": [
            "WARNING:tensorflow:`period` argument is deprecated. Please use `save_freq` to specify the frequency in number of batches seen.\n"
          ]
        },
        {
          "metadata": {
            "tags": null
          },
          "name": "stdout",
          "output_type": "stream",
          "text": [
            "(None, 6, 6, 2048)\n",
            "(None, 3, 3, 2048)\n",
            "(None, 18464)\n"
          ]
        },
        {
          "metadata": {
            "tags": null
          },
          "name": "stderr",
          "output_type": "stream",
          "text": [
            "<ipython-input-75-93a65a7ba113>:46: UserWarning: `Model.fit_generator` is deprecated and will be removed in a future version. Please use `Model.fit`, which supports generators.\n",
            "  history = model.fit_generator(DataGen.flow([train_x,train_gen],train_y,batch_size=64),steps_per_epoch=np.ceil(len(train_y)/64),epochs=100,verbose=1,validation_data=([valid_x,valid_gen],valid_y))\n"
          ]
        },
        {
          "output_type": "stream",
          "name": "stdout",
          "text": [
            "Epoch 1/100\n",
            "122/122 [==============================] - 117s 907ms/step - loss: 36.2376 - MAE: 36.2254 - val_loss: 22.3356 - val_MAE: 22.3234\n",
            "Epoch 2/100\n",
            "122/122 [==============================] - 104s 851ms/step - loss: 15.5699 - MAE: 15.5577 - val_loss: 16.0092 - val_MAE: 15.9969\n",
            "Epoch 3/100\n",
            "122/122 [==============================] - 106s 863ms/step - loss: 14.1706 - MAE: 14.1584 - val_loss: 13.6070 - val_MAE: 13.5948\n",
            "Epoch 4/100\n",
            "122/122 [==============================] - 106s 863ms/step - loss: 13.1357 - MAE: 13.1235 - val_loss: 14.5610 - val_MAE: 14.5488\n",
            "Epoch 5/100\n",
            "122/122 [==============================] - 104s 849ms/step - loss: 12.8356 - MAE: 12.8234 - val_loss: 11.7547 - val_MAE: 11.7425\n",
            "Epoch 6/100\n",
            "122/122 [==============================] - 107s 872ms/step - loss: 12.1886 - MAE: 12.1764 - val_loss: 16.3928 - val_MAE: 16.3806\n",
            "Epoch 7/100\n",
            "122/122 [==============================] - 106s 864ms/step - loss: 12.0050 - MAE: 11.9928 - val_loss: 11.9501 - val_MAE: 11.9379\n",
            "Epoch 8/100\n",
            "122/122 [==============================] - 103s 839ms/step - loss: 11.6635 - MAE: 11.6514 - val_loss: 18.0476 - val_MAE: 18.0354\n",
            "Epoch 9/100\n",
            "122/122 [==============================] - 106s 865ms/step - loss: 11.4505 - MAE: 11.4384 - val_loss: 11.8839 - val_MAE: 11.8717\n",
            "Epoch 10/100\n",
            "122/122 [==============================] - 105s 853ms/step - loss: 11.3650 - MAE: 11.3528 - val_loss: 11.1069 - val_MAE: 11.0947\n",
            "Epoch 11/100\n",
            "122/122 [==============================] - 105s 857ms/step - loss: 10.9067 - MAE: 10.8946 - val_loss: 13.5630 - val_MAE: 13.5509\n",
            "Epoch 12/100\n",
            "122/122 [==============================] - 106s 865ms/step - loss: 11.0030 - MAE: 10.9909 - val_loss: 12.2184 - val_MAE: 12.2063\n",
            "Epoch 13/100\n",
            "122/122 [==============================] - 108s 879ms/step - loss: 10.9766 - MAE: 10.9645 - val_loss: 12.5522 - val_MAE: 12.5400\n",
            "Epoch 14/100\n",
            "122/122 [==============================] - 105s 858ms/step - loss: 10.8029 - MAE: 10.7908 - val_loss: 16.0243 - val_MAE: 16.0122\n",
            "Epoch 15/100\n",
            "122/122 [==============================] - 106s 868ms/step - loss: 10.8099 - MAE: 10.7978 - val_loss: 12.2661 - val_MAE: 12.2540\n",
            "Epoch 16/100\n",
            "122/122 [==============================] - 106s 861ms/step - loss: 10.3362 - MAE: 10.3241 - val_loss: 11.9612 - val_MAE: 11.9491\n",
            "Epoch 17/100\n",
            "122/122 [==============================] - 107s 875ms/step - loss: 10.0604 - MAE: 10.0483 - val_loss: 12.0704 - val_MAE: 12.0583\n",
            "Epoch 18/100\n",
            "122/122 [==============================] - 107s 874ms/step - loss: 10.1402 - MAE: 10.1281 - val_loss: 13.4310 - val_MAE: 13.4189\n",
            "Epoch 19/100\n",
            "122/122 [==============================] - 106s 866ms/step - loss: 9.8684 - MAE: 9.8563 - val_loss: 11.4213 - val_MAE: 11.4092\n",
            "Epoch 20/100\n",
            "122/122 [==============================] - 104s 852ms/step - loss: 9.8794 - MAE: 9.8673 - val_loss: 10.5049 - val_MAE: 10.4928\n",
            "Epoch 21/100\n",
            "122/122 [==============================] - 107s 873ms/step - loss: 9.9122 - MAE: 9.9001 - val_loss: 10.5777 - val_MAE: 10.5657\n",
            "Epoch 22/100\n",
            "122/122 [==============================] - 106s 865ms/step - loss: 9.6574 - MAE: 9.6453 - val_loss: 10.2264 - val_MAE: 10.2144\n",
            "Epoch 23/100\n",
            "122/122 [==============================] - 108s 878ms/step - loss: 9.8016 - MAE: 9.7896 - val_loss: 11.4565 - val_MAE: 11.4445\n",
            "Epoch 24/100\n",
            "122/122 [==============================] - 109s 886ms/step - loss: 9.3704 - MAE: 9.3584 - val_loss: 10.1206 - val_MAE: 10.1086\n",
            "Epoch 25/100\n",
            "122/122 [==============================] - 107s 876ms/step - loss: 9.1894 - MAE: 9.1773 - val_loss: 10.7865 - val_MAE: 10.7745\n",
            "Epoch 26/100\n",
            "122/122 [==============================] - 107s 876ms/step - loss: 9.1742 - MAE: 9.1622 - val_loss: 10.4291 - val_MAE: 10.4171\n",
            "Epoch 27/100\n",
            "122/122 [==============================] - 107s 875ms/step - loss: 9.3291 - MAE: 9.3171 - val_loss: 10.3980 - val_MAE: 10.3860\n",
            "Epoch 28/100\n",
            "122/122 [==============================] - 106s 868ms/step - loss: 8.9604 - MAE: 8.9484 - val_loss: 11.2236 - val_MAE: 11.2116\n",
            "Epoch 29/100\n",
            "122/122 [==============================] - 108s 878ms/step - loss: 8.9345 - MAE: 8.9226 - val_loss: 10.7800 - val_MAE: 10.7680\n",
            "Epoch 30/100\n",
            "122/122 [==============================] - 108s 878ms/step - loss: 8.7204 - MAE: 8.7084 - val_loss: 10.6161 - val_MAE: 10.6042\n",
            "Epoch 31/100\n",
            "122/122 [==============================] - 107s 872ms/step - loss: 8.4999 - MAE: 8.4879 - val_loss: 9.7101 - val_MAE: 9.6982\n",
            "Epoch 32/100\n",
            "122/122 [==============================] - 107s 869ms/step - loss: 8.4491 - MAE: 8.4372 - val_loss: 10.0940 - val_MAE: 10.0821\n",
            "Epoch 33/100\n",
            "122/122 [==============================] - 108s 878ms/step - loss: 8.7034 - MAE: 8.6915 - val_loss: 10.6856 - val_MAE: 10.6737\n",
            "Epoch 34/100\n",
            "122/122 [==============================] - 107s 872ms/step - loss: 8.3467 - MAE: 8.3349 - val_loss: 14.3159 - val_MAE: 14.3040\n",
            "Epoch 35/100\n",
            "122/122 [==============================] - 111s 908ms/step - loss: 8.2243 - MAE: 8.2124 - val_loss: 10.8985 - val_MAE: 10.8866\n",
            "Epoch 36/100\n",
            "122/122 [==============================] - 107s 873ms/step - loss: 8.1663 - MAE: 8.1544 - val_loss: 9.6342 - val_MAE: 9.6224\n",
            "Epoch 37/100\n",
            "122/122 [==============================] - 106s 866ms/step - loss: 8.0325 - MAE: 8.0207 - val_loss: 9.4455 - val_MAE: 9.4337\n",
            "Epoch 38/100\n",
            "122/122 [==============================] - 107s 876ms/step - loss: 8.0322 - MAE: 8.0204 - val_loss: 10.7068 - val_MAE: 10.6950\n",
            "Epoch 39/100\n",
            "122/122 [==============================] - 107s 876ms/step - loss: 8.0242 - MAE: 8.0125 - val_loss: 10.4409 - val_MAE: 10.4291\n",
            "Epoch 40/100\n",
            "122/122 [==============================] - 107s 871ms/step - loss: 8.2500 - MAE: 8.2383 - val_loss: 9.8166 - val_MAE: 9.8048\n",
            "Epoch 41/100\n",
            "122/122 [==============================] - 107s 876ms/step - loss: 7.6701 - MAE: 7.6584 - val_loss: 9.6691 - val_MAE: 9.6574\n",
            "Epoch 42/100\n",
            "122/122 [==============================] - 107s 874ms/step - loss: 7.6087 - MAE: 7.5969 - val_loss: 10.1878 - val_MAE: 10.1761\n",
            "Epoch 43/100\n",
            "122/122 [==============================] - 106s 865ms/step - loss: 7.6058 - MAE: 7.5941 - val_loss: 9.9489 - val_MAE: 9.9372\n",
            "Epoch 44/100\n",
            "122/122 [==============================] - 107s 873ms/step - loss: 7.5639 - MAE: 7.5522 - val_loss: 10.2274 - val_MAE: 10.2157\n",
            "Epoch 45/100\n",
            "122/122 [==============================] - 107s 875ms/step - loss: 7.4758 - MAE: 7.4641 - val_loss: 9.6170 - val_MAE: 9.6053\n",
            "Epoch 46/100\n",
            "122/122 [==============================] - 107s 874ms/step - loss: 7.3952 - MAE: 7.3835 - val_loss: 9.7756 - val_MAE: 9.7639\n",
            "Epoch 47/100\n",
            "122/122 [==============================] - 108s 884ms/step - loss: 7.2969 - MAE: 7.2853 - val_loss: 9.9564 - val_MAE: 9.9448\n",
            "Epoch 48/100\n",
            "122/122 [==============================] - 106s 867ms/step - loss: 7.2005 - MAE: 7.1889 - val_loss: 10.2468 - val_MAE: 10.2352\n",
            "Epoch 49/100\n",
            "122/122 [==============================] - 107s 872ms/step - loss: 7.3033 - MAE: 7.2917 - val_loss: 9.4739 - val_MAE: 9.4623\n",
            "Epoch 50/100\n",
            "122/122 [==============================] - 106s 869ms/step - loss: 7.1240 - MAE: 7.1124 - val_loss: 8.9463 - val_MAE: 8.9348\n",
            "Epoch 51/100\n",
            "122/122 [==============================] - 106s 869ms/step - loss: 7.0615 - MAE: 7.0499 - val_loss: 10.5866 - val_MAE: 10.5751\n",
            "Epoch 52/100\n",
            "122/122 [==============================] - 106s 862ms/step - loss: 7.0746 - MAE: 7.0631 - val_loss: 8.9113 - val_MAE: 8.8997\n",
            "Epoch 53/100\n",
            "122/122 [==============================] - 107s 876ms/step - loss: 7.1065 - MAE: 7.0950 - val_loss: 10.0934 - val_MAE: 10.0819\n",
            "Epoch 54/100\n",
            "122/122 [==============================] - 106s 867ms/step - loss: 6.8979 - MAE: 6.8864 - val_loss: 9.7409 - val_MAE: 9.7294\n",
            "Epoch 55/100\n",
            "122/122 [==============================] - 106s 864ms/step - loss: 6.8604 - MAE: 6.8489 - val_loss: 9.8423 - val_MAE: 9.8309\n",
            "Epoch 56/100\n",
            "122/122 [==============================] - 108s 881ms/step - loss: 6.7261 - MAE: 6.7147 - val_loss: 9.3775 - val_MAE: 9.3661\n",
            "Epoch 57/100\n",
            "122/122 [==============================] - 107s 872ms/step - loss: 6.7019 - MAE: 6.6905 - val_loss: 9.4503 - val_MAE: 9.4388\n",
            "Epoch 58/100\n",
            "122/122 [==============================] - 106s 866ms/step - loss: 6.6024 - MAE: 6.5910 - val_loss: 9.4304 - val_MAE: 9.4190\n",
            "Epoch 59/100\n",
            "122/122 [==============================] - 107s 876ms/step - loss: 6.5257 - MAE: 6.5143 - val_loss: 10.2610 - val_MAE: 10.2496\n",
            "Epoch 60/100\n",
            "122/122 [==============================] - 107s 872ms/step - loss: 6.5031 - MAE: 6.4917 - val_loss: 9.0780 - val_MAE: 9.0666\n",
            "Epoch 61/100\n",
            "122/122 [==============================] - 106s 862ms/step - loss: 6.4609 - MAE: 6.4495 - val_loss: 9.0171 - val_MAE: 9.0058\n",
            "Epoch 62/100\n",
            "122/122 [==============================] - 108s 880ms/step - loss: 6.4571 - MAE: 6.4458 - val_loss: 9.2479 - val_MAE: 9.2366\n",
            "Epoch 63/100\n",
            "122/122 [==============================] - 107s 875ms/step - loss: 6.5910 - MAE: 6.5797 - val_loss: 9.3494 - val_MAE: 9.3380\n",
            "Epoch 64/100\n",
            "122/122 [==============================] - 107s 874ms/step - loss: 6.4838 - MAE: 6.4725 - val_loss: 9.1385 - val_MAE: 9.1272\n",
            "Epoch 65/100\n",
            "122/122 [==============================] - 108s 879ms/step - loss: 6.2291 - MAE: 6.2179 - val_loss: 9.6765 - val_MAE: 9.6652\n",
            "Epoch 66/100\n",
            "122/122 [==============================] - 107s 874ms/step - loss: 6.3255 - MAE: 6.3143 - val_loss: 9.3547 - val_MAE: 9.3434\n",
            "Epoch 67/100\n",
            "122/122 [==============================] - 106s 861ms/step - loss: 6.1296 - MAE: 6.1183 - val_loss: 8.9429 - val_MAE: 8.9316\n",
            "Epoch 68/100\n",
            "122/122 [==============================] - 106s 869ms/step - loss: 6.1283 - MAE: 6.1171 - val_loss: 8.8550 - val_MAE: 8.8438\n",
            "Epoch 69/100\n",
            "122/122 [==============================] - 107s 874ms/step - loss: 6.1414 - MAE: 6.1302 - val_loss: 8.7878 - val_MAE: 8.7766\n",
            "Epoch 70/100\n",
            "122/122 [==============================] - 107s 870ms/step - loss: 6.0712 - MAE: 6.0600 - val_loss: 8.7770 - val_MAE: 8.7658\n",
            "Epoch 71/100\n",
            "122/122 [==============================] - 107s 871ms/step - loss: 6.1852 - MAE: 6.1741 - val_loss: 9.1410 - val_MAE: 9.1298\n",
            "Epoch 72/100\n",
            "122/122 [==============================] - 106s 867ms/step - loss: 6.0465 - MAE: 6.0353 - val_loss: 8.8590 - val_MAE: 8.8478\n",
            "Epoch 73/100\n",
            "122/122 [==============================] - 106s 866ms/step - loss: 5.8474 - MAE: 5.8363 - val_loss: 9.0737 - val_MAE: 9.0626\n",
            "Epoch 74/100\n",
            "122/122 [==============================] - 107s 872ms/step - loss: 5.7387 - MAE: 5.7276 - val_loss: 8.6866 - val_MAE: 8.6755\n",
            "Epoch 75/100\n",
            "122/122 [==============================] - 107s 870ms/step - loss: 5.8001 - MAE: 5.7890 - val_loss: 9.6943 - val_MAE: 9.6832\n",
            "Epoch 76/100\n",
            "122/122 [==============================] - 107s 873ms/step - loss: 5.7310 - MAE: 5.7199 - val_loss: 8.9129 - val_MAE: 8.9018\n",
            "Epoch 77/100\n",
            "122/122 [==============================] - 107s 875ms/step - loss: 5.8149 - MAE: 5.8038 - val_loss: 9.2589 - val_MAE: 9.2479\n",
            "Epoch 78/100\n",
            "122/122 [==============================] - 107s 877ms/step - loss: 5.7915 - MAE: 5.7804 - val_loss: 9.0895 - val_MAE: 9.0784\n",
            "Epoch 79/100\n",
            "122/122 [==============================] - 107s 875ms/step - loss: 5.6807 - MAE: 5.6697 - val_loss: 10.2777 - val_MAE: 10.2667\n",
            "Epoch 80/100\n",
            "122/122 [==============================] - 107s 871ms/step - loss: 5.6706 - MAE: 5.6595 - val_loss: 8.8135 - val_MAE: 8.8025\n",
            "Epoch 81/100\n",
            "122/122 [==============================] - 107s 874ms/step - loss: 5.5372 - MAE: 5.5262 - val_loss: 9.2850 - val_MAE: 9.2740\n",
            "Epoch 82/100\n",
            "122/122 [==============================] - 108s 880ms/step - loss: 5.5951 - MAE: 5.5842 - val_loss: 9.1148 - val_MAE: 9.1038\n",
            "Epoch 83/100\n",
            "122/122 [==============================] - 108s 878ms/step - loss: 5.4671 - MAE: 5.4562 - val_loss: 8.7780 - val_MAE: 8.7671\n",
            "Epoch 84/100\n",
            "122/122 [==============================] - 108s 879ms/step - loss: 5.3840 - MAE: 5.3731 - val_loss: 8.6489 - val_MAE: 8.6380\n",
            "Epoch 85/100\n",
            "122/122 [==============================] - 107s 875ms/step - loss: 5.3157 - MAE: 5.3047 - val_loss: 8.8660 - val_MAE: 8.8550\n",
            "Epoch 86/100\n",
            "122/122 [==============================] - 108s 879ms/step - loss: 5.3775 - MAE: 5.3666 - val_loss: 9.3480 - val_MAE: 9.3371\n",
            "Epoch 87/100\n",
            "122/122 [==============================] - 107s 875ms/step - loss: 5.3907 - MAE: 5.3798 - val_loss: 8.8280 - val_MAE: 8.8171\n",
            "Epoch 88/100\n",
            "122/122 [==============================] - 106s 868ms/step - loss: 5.3021 - MAE: 5.2913 - val_loss: 8.6911 - val_MAE: 8.6802\n",
            "Epoch 89/100\n",
            "122/122 [==============================] - 108s 882ms/step - loss: 5.1390 - MAE: 5.1281 - val_loss: 8.6167 - val_MAE: 8.6059\n",
            "Epoch 90/100\n",
            "122/122 [==============================] - 108s 880ms/step - loss: 5.1994 - MAE: 5.1886 - val_loss: 8.6616 - val_MAE: 8.6508\n",
            "Epoch 91/100\n",
            "122/122 [==============================] - 107s 872ms/step - loss: 5.2029 - MAE: 5.1921 - val_loss: 9.7590 - val_MAE: 9.7482\n",
            "Epoch 92/100\n",
            "122/122 [==============================] - 108s 879ms/step - loss: 5.2125 - MAE: 5.2017 - val_loss: 8.7863 - val_MAE: 8.7755\n",
            "Epoch 93/100\n",
            "122/122 [==============================] - 107s 874ms/step - loss: 5.1962 - MAE: 5.1854 - val_loss: 9.0530 - val_MAE: 9.0422\n",
            "Epoch 94/100\n",
            "122/122 [==============================] - 107s 871ms/step - loss: 5.2200 - MAE: 5.2092 - val_loss: 8.5492 - val_MAE: 8.5385\n",
            "Epoch 95/100\n",
            "122/122 [==============================] - 107s 871ms/step - loss: 4.9247 - MAE: 4.9139 - val_loss: 8.4613 - val_MAE: 8.4505\n",
            "Epoch 96/100\n",
            "122/122 [==============================] - 107s 869ms/step - loss: 5.1109 - MAE: 5.1002 - val_loss: 8.5579 - val_MAE: 8.5471\n",
            "Epoch 97/100\n",
            "122/122 [==============================] - 106s 868ms/step - loss: 4.9941 - MAE: 4.9834 - val_loss: 8.6296 - val_MAE: 8.6189\n",
            "Epoch 98/100\n",
            "122/122 [==============================] - 107s 869ms/step - loss: 5.0718 - MAE: 5.0611 - val_loss: 9.1617 - val_MAE: 9.1511\n",
            "Epoch 99/100\n",
            "122/122 [==============================] - 107s 875ms/step - loss: 5.0063 - MAE: 4.9956 - val_loss: 9.3199 - val_MAE: 9.3093\n",
            "Epoch 100/100\n",
            "122/122 [==============================] - 106s 867ms/step - loss: 4.9285 - MAE: 4.9178 - val_loss: 8.7715 - val_MAE: 8.7609\n",
            "46/46 [==============================] - 8s 169ms/step - loss: 8.9445 - MAE: 8.9338\n"
          ]
        }
      ]
    },
    {
      "cell_type": "code",
      "source": [
        "plt.plot(history.history['loss'])\n",
        "plt.plot(history.history['val_loss'])\n",
        "plt.title('Model loss')\n",
        "plt.ylabel('Loss')\n",
        "plt.xlabel('Epoch')\n",
        "plt.legend(['Train', 'Validation'], loc='upper left')\n",
        "plt.show()"
      ],
      "metadata": {
        "colab": {
          "base_uri": "https://localhost:8080/",
          "height": 295
        },
        "id": "mfS9xyf2ZTW-",
        "outputId": "6316b889-8282-43fe-f5b6-b860e2935ac3"
      },
      "execution_count": null,
      "outputs": [
        {
          "output_type": "display_data",
          "data": {
            "text/plain": [
              "<Figure size 432x288 with 1 Axes>"
            ],
            "image/png": "[encoded data removed]"
          },
          "metadata": {
            "needs_background": "light"
          }
        }
      ]
    },
    {
      "cell_type": "code",
      "source": [
        "base_model = InceptionV3(weights='imagenet', include_top=False)\n",
        "\n",
        "input = Input(shape=(256,256,3),name='input1')\n",
        "input_gender = Input(shape=(1,),dtype='float32',name='input2')\n",
        "output = base_model(input)\n",
        "gender_embedding=Dense(32)(input_gender)\n",
        "#gender_embedding=Dense(12)(gender_embedding)\n",
        "#x = keras.layers.MaxPooling2D(pool_size=(5,5))(output)\n",
        "#x = keras.layers.Conv2D(512,kernel_size=(3,3))(x)\n",
        "#x = conv2d_bn(output, 512, 3, 3, padding='valid') \n",
        "sq = keras.layers.GlobalAveragePooling2D()(output)\n",
        "sq = keras.layers.Reshape((1,1,2048))(sq)\n",
        "sq = keras.layers.Dense(units=2048,activation=\"sigmoid\")(sq)\n",
        "block = keras.layers.multiply([output,sq])\n",
        "#fine Squeeze and Excitation 1\n",
        "\n",
        "net = keras.layers.add([output,block])\n",
        "net = keras.layers.BatchNormalization()(net)\n",
        "net = keras.layers.Activation(\"relu\")(net)\n",
        "net = keras.layers.MaxPooling2D(pool_size=(2, 2),name=\"block_1\")(net)\n",
        "\n",
        "print (K.int_shape(output))\n",
        "x = keras.layers.MaxPooling2D(pool_size=(2,2))(net)\n",
        "print (K.int_shape(x))\n",
        "x=Flatten()(x)\n",
        "f = keras.layers.Concatenate(axis=1)([x,gender_embedding])\n",
        "print (K.int_shape(f)) \n",
        "#x = Dense(256, activation='relu')(x)\n",
        "predictions = Dense(1)(f)\n",
        "model = Model(inputs=[input,input_gender], outputs=predictions)\n",
        "Adam=tf.keras.optimizers.Adam(lr=0.0001,beta_1=0.9,beta_2=0.999)\n",
        "model.compile(optimizer=Adam, loss='mean_absolute_error', metrics=['MAE'])\n",
        "model.summary()\n",
        "from keras.preprocessing.image import ImageDataGenerator\n",
        "DataGen = ImageDataGenerator(rotation_range=20,width_shift_range=0.15,height_shift_range=0.15,zoom_range=0.2,horizontal_flip=True)\n",
        "def Generator(x_train,gender_train,y_train,batch_size):\n",
        "    loopcount = len(y_train)//batch_size\n",
        "    i=0\n",
        "    while (True):\n",
        "        if i>loopcount:\n",
        "            i=0\n",
        "        # i=np.random.randint(0,loopcount)\n",
        "        x_train_batch = x_train[i*batch_size:(i+1)*batch_size,:,:,:]\n",
        "        x_train_batch = DataAugment(x_train_batch)\n",
        "        gender_train_batch = gender_train[i*batch_size:(i+1)*batch_size]\n",
        "        y_train_batch = y_train[i*batch_size:(i+1)*batch_size]\n",
        "        inputs = [x_train_batch,gender_train_batch]\n",
        "        target = y_train_batch\n",
        "        yield (inputs ,target)\n",
        "        i = i+1\n",
        "checkpoint =keras.callbacks.ModelCheckpoint(filepath='weights/weights.{epoch:02d}-{val_loss:.2f}.hdf5',save_weights_only=True,period=100)\n",
        "history = model.fit_generator(DataGen.flow([train_x,train_gen],train_y,batch_size=64),steps_per_epoch=np.ceil(len(train_y)/64),epochs=100,verbose=1,validation_data=([valid_x,valid_gen],valid_y))\n",
        "#history = model.fit_generator(Generator(x_train,gender_train,y_train,batch_size),steps_per_epoch=np.ceil(len(y_train)/batch_size),epochs=10,verbose=1,validation_data=([x_valid,gender_valid],y_valid))\n",
        "#history=model.fit([x_train,gender_train],y_train,batch_size=32,epochs=5,verbose=1,validation_data=([x_valid,gender_valid],y_valid), callbacks = [checkpoint])\n",
        "score = model.evaluate([test_x,test_gen], test_y, batch_size=64)"
      ],
      "metadata": {
        "colab": {
          "base_uri": "https://localhost:8080/"
        },
        "id": "Qi_tMqjjZfcK",
        "outputId": "bb12a40a-17c1-4d0a-b502-76ce517c4d2a"
      },
      "execution_count": null,
      "outputs": [
        {
          "metadata": {
            "tags": null
          },
          "name": "stdout",
          "output_type": "stream",
          "text": [
            "(None, 6, 6, 2048)\n",
            "(None, 1, 1, 2048)\n",
            "(None, 2080)\n",
            "Model: \"model_2\"\n",
            "__________________________________________________________________________________________________\n",
            " Layer (type)                   Output Shape         Param #     Connected to                     \n",
            "==================================================================================================\n",
            " input1 (InputLayer)            [(None, 256, 256, 3  0           []                               \n",
            "                                )]                                                                \n",
            "                                                                                                  \n",
            " inception_v3 (Functional)      (None, None, None,   21802784    ['input1[0][0]']                 \n",
            "                                2048)                                                             \n",
            "                                                                                                  \n",
            " global_average_pooling2d (Glob  (None, 2048)        0           ['inception_v3[0][0]']           \n",
            " alAveragePooling2D)                                                                              \n",
            "                                                                                                  \n",
            " reshape (Reshape)              (None, 1, 1, 2048)   0           ['global_average_pooling2d[0][0]'\n",
            "                                                                 ]                                \n",
            "                                                                                                  \n",
            " dense_9 (Dense)                (None, 1, 1, 2048)   4196352     ['reshape[0][0]']                \n",
            "                                                                                                  \n",
            " multiply (Multiply)            (None, 6, 6, 2048)   0           ['inception_v3[0][0]',           \n",
            "                                                                  'dense_9[0][0]']                \n",
            "                                                                                                  \n",
            " add (Add)                      (None, 6, 6, 2048)   0           ['inception_v3[0][0]',           \n",
            "                                                                  'multiply[0][0]']               \n",
            "                                                                                                  \n",
            " batch_normalization_282 (Batch  (None, 6, 6, 2048)  8192        ['add[0][0]']                    \n",
            " Normalization)                                                                                   \n",
            "                                                                                                  \n",
            " activation_282 (Activation)    (None, 6, 6, 2048)   0           ['batch_normalization_282[0][0]']\n",
            "                                                                                                  \n",
            " block_1 (MaxPooling2D)         (None, 3, 3, 2048)   0           ['activation_282[0][0]']         \n",
            "                                                                                                  \n",
            " max_pooling2d_14 (MaxPooling2D  (None, 1, 1, 2048)  0           ['block_1[0][0]']                \n",
            " )                                                                                                \n",
            "                                                                                                  \n",
            " input2 (InputLayer)            [(None, 1)]          0           []                               \n",
            "                                                                                                  \n",
            " flatten_2 (Flatten)            (None, 2048)         0           ['max_pooling2d_14[0][0]']       \n",
            "                                                                                                  \n",
            " dense_8 (Dense)                (None, 32)           64          ['input2[0][0]']                 \n",
            "                                                                                                  \n",
            " concatenate_8 (Concatenate)    (None, 2080)         0           ['flatten_2[0][0]',              \n",
            "                                                                  'dense_8[0][0]']                \n",
            "                                                                                                  \n",
            " dense_10 (Dense)               (None, 1)            2081        ['concatenate_8[0][0]']          \n",
            "                                                                                                  \n",
            "==================================================================================================\n",
            "Total params: 26,009,473\n",
            "Trainable params: 25,970,945\n",
            "Non-trainable params: 38,528\n",
            "__________________________________________________________________________________________________\n"
          ]
        },
        {
          "metadata": {
            "tags": null
          },
          "name": "stderr",
          "output_type": "stream",
          "text": [
            "WARNING:tensorflow:`period` argument is deprecated. Please use `save_freq` to specify the frequency in number of batches seen.\n",
            "<ipython-input-77-1072a752b83d>:52: UserWarning: `Model.fit_generator` is deprecated and will be removed in a future version. Please use `Model.fit`, which supports generators.\n",
            "  history = model.fit_generator(DataGen.flow([train_x,train_gen],train_y,batch_size=64),steps_per_epoch=np.ceil(len(train_y)/64),epochs=100,verbose=1,validation_data=([valid_x,valid_gen],valid_y))\n"
          ]
        },
        {
          "output_type": "stream",
          "name": "stdout",
          "text": [
            "Epoch 1/100\n",
            "122/122 [==============================] - 118s 911ms/step - loss: 32.8310 - MAE: 32.8310 - val_loss: 25.8432 - val_MAE: 25.8432\n",
            "Epoch 2/100\n",
            "122/122 [==============================] - 105s 854ms/step - loss: 15.4688 - MAE: 15.4688 - val_loss: 21.8930 - val_MAE: 21.8930\n",
            "Epoch 3/100\n",
            "122/122 [==============================] - 106s 867ms/step - loss: 14.0311 - MAE: 14.0311 - val_loss: 33.1732 - val_MAE: 33.1732\n",
            "Epoch 4/100\n",
            "122/122 [==============================] - 105s 856ms/step - loss: 13.2086 - MAE: 13.2086 - val_loss: 21.4680 - val_MAE: 21.4680\n",
            "Epoch 5/100\n",
            "122/122 [==============================] - 105s 855ms/step - loss: 12.6068 - MAE: 12.6068 - val_loss: 15.1774 - val_MAE: 15.1774\n",
            "Epoch 6/100\n",
            "122/122 [==============================] - 105s 856ms/step - loss: 12.1967 - MAE: 12.1967 - val_loss: 12.6945 - val_MAE: 12.6945\n",
            "Epoch 7/100\n",
            "122/122 [==============================] - 103s 843ms/step - loss: 11.9509 - MAE: 11.9509 - val_loss: 20.9277 - val_MAE: 20.9277\n",
            "Epoch 8/100\n",
            "122/122 [==============================] - 103s 842ms/step - loss: 11.6185 - MAE: 11.6185 - val_loss: 12.7378 - val_MAE: 12.7378\n",
            "Epoch 9/100\n",
            "122/122 [==============================] - 103s 839ms/step - loss: 11.2792 - MAE: 11.2792 - val_loss: 13.1218 - val_MAE: 13.1218\n",
            "Epoch 10/100\n",
            "122/122 [==============================] - 107s 872ms/step - loss: 11.0074 - MAE: 11.0074 - val_loss: 11.2356 - val_MAE: 11.2356\n",
            "Epoch 11/100\n",
            "122/122 [==============================] - 106s 866ms/step - loss: 10.9229 - MAE: 10.9229 - val_loss: 11.4403 - val_MAE: 11.4403\n",
            "Epoch 12/100\n",
            "122/122 [==============================] - 106s 866ms/step - loss: 10.7496 - MAE: 10.7496 - val_loss: 13.2398 - val_MAE: 13.2398\n",
            "Epoch 13/100\n",
            "122/122 [==============================] - 106s 868ms/step - loss: 10.5573 - MAE: 10.5573 - val_loss: 14.7015 - val_MAE: 14.7015\n",
            "Epoch 14/100\n",
            "122/122 [==============================] - 107s 870ms/step - loss: 10.3175 - MAE: 10.3175 - val_loss: 10.6744 - val_MAE: 10.6744\n",
            "Epoch 15/100\n",
            "122/122 [==============================] - 109s 893ms/step - loss: 10.1730 - MAE: 10.1730 - val_loss: 11.8685 - val_MAE: 11.8685\n",
            "Epoch 16/100\n",
            "122/122 [==============================] - 111s 902ms/step - loss: 10.0102 - MAE: 10.0102 - val_loss: 13.4301 - val_MAE: 13.4301\n",
            "Epoch 17/100\n",
            "122/122 [==============================] - 107s 876ms/step - loss: 9.8641 - MAE: 9.8641 - val_loss: 10.8007 - val_MAE: 10.8007\n",
            "Epoch 18/100\n",
            "122/122 [==============================] - 107s 875ms/step - loss: 9.9005 - MAE: 9.9005 - val_loss: 11.6515 - val_MAE: 11.6515\n",
            "Epoch 19/100\n",
            "122/122 [==============================] - 107s 869ms/step - loss: 9.8120 - MAE: 9.8120 - val_loss: 10.8824 - val_MAE: 10.8824\n",
            "Epoch 20/100\n",
            "122/122 [==============================] - 104s 848ms/step - loss: 9.7472 - MAE: 9.7472 - val_loss: 14.4707 - val_MAE: 14.4707\n",
            "Epoch 21/100\n",
            "122/122 [==============================] - 107s 876ms/step - loss: 9.6971 - MAE: 9.6971 - val_loss: 11.3199 - val_MAE: 11.3199\n",
            "Epoch 22/100\n",
            "122/122 [==============================] - 107s 873ms/step - loss: 9.2840 - MAE: 9.2840 - val_loss: 11.4317 - val_MAE: 11.4317\n",
            "Epoch 23/100\n",
            "122/122 [==============================] - 106s 861ms/step - loss: 9.2936 - MAE: 9.2936 - val_loss: 11.2791 - val_MAE: 11.2791\n",
            "Epoch 24/100\n",
            "122/122 [==============================] - 105s 858ms/step - loss: 9.1459 - MAE: 9.1459 - val_loss: 14.0169 - val_MAE: 14.0169\n",
            "Epoch 25/100\n",
            "122/122 [==============================] - 105s 852ms/step - loss: 9.0241 - MAE: 9.0241 - val_loss: 11.7966 - val_MAE: 11.7966\n",
            "Epoch 26/100\n",
            "122/122 [==============================] - 104s 850ms/step - loss: 8.7821 - MAE: 8.7821 - val_loss: 10.3518 - val_MAE: 10.3518\n",
            "Epoch 27/100\n",
            "122/122 [==============================] - 105s 857ms/step - loss: 8.8054 - MAE: 8.8054 - val_loss: 11.3026 - val_MAE: 11.3026\n",
            "Epoch 28/100\n",
            "122/122 [==============================] - 105s 860ms/step - loss: 8.7934 - MAE: 8.7934 - val_loss: 11.6083 - val_MAE: 11.6083\n",
            "Epoch 29/100\n",
            "122/122 [==============================] - 108s 879ms/step - loss: 8.4885 - MAE: 8.4885 - val_loss: 11.3282 - val_MAE: 11.3282\n",
            "Epoch 30/100\n",
            "122/122 [==============================] - 106s 865ms/step - loss: 8.3684 - MAE: 8.3684 - val_loss: 9.9251 - val_MAE: 9.9251\n",
            "Epoch 31/100\n",
            "122/122 [==============================] - 105s 854ms/step - loss: 8.3696 - MAE: 8.3696 - val_loss: 9.7243 - val_MAE: 9.7243\n",
            "Epoch 32/100\n",
            "122/122 [==============================] - 108s 878ms/step - loss: 8.2507 - MAE: 8.2507 - val_loss: 11.2293 - val_MAE: 11.2293\n",
            "Epoch 33/100\n",
            "122/122 [==============================] - 106s 864ms/step - loss: 8.2278 - MAE: 8.2278 - val_loss: 9.8455 - val_MAE: 9.8455\n",
            "Epoch 34/100\n",
            "122/122 [==============================] - 106s 867ms/step - loss: 8.1669 - MAE: 8.1669 - val_loss: 9.5809 - val_MAE: 9.5809\n",
            "Epoch 35/100\n",
            "122/122 [==============================] - 108s 884ms/step - loss: 7.9253 - MAE: 7.9253 - val_loss: 10.6441 - val_MAE: 10.6441\n",
            "Epoch 36/100\n",
            "122/122 [==============================] - 105s 855ms/step - loss: 7.8728 - MAE: 7.8728 - val_loss: 11.4892 - val_MAE: 11.4892\n",
            "Epoch 37/100\n",
            "122/122 [==============================] - 105s 858ms/step - loss: 7.6365 - MAE: 7.6365 - val_loss: 12.0183 - val_MAE: 12.0183\n",
            "Epoch 38/100\n",
            "122/122 [==============================] - 106s 865ms/step - loss: 7.6457 - MAE: 7.6457 - val_loss: 9.8098 - val_MAE: 9.8098\n",
            "Epoch 39/100\n",
            "122/122 [==============================] - 106s 863ms/step - loss: 7.7193 - MAE: 7.7193 - val_loss: 10.1781 - val_MAE: 10.1781\n",
            "Epoch 40/100\n",
            "122/122 [==============================] - 104s 845ms/step - loss: 7.7646 - MAE: 7.7646 - val_loss: 10.3709 - val_MAE: 10.3709\n",
            "Epoch 41/100\n",
            "122/122 [==============================] - 107s 872ms/step - loss: 7.4037 - MAE: 7.4037 - val_loss: 9.8952 - val_MAE: 9.8952\n",
            "Epoch 42/100\n",
            "122/122 [==============================] - 108s 881ms/step - loss: 7.3093 - MAE: 7.3093 - val_loss: 10.5381 - val_MAE: 10.5381\n",
            "Epoch 43/100\n",
            "122/122 [==============================] - 105s 854ms/step - loss: 7.4530 - MAE: 7.4530 - val_loss: 10.0245 - val_MAE: 10.0245\n",
            "Epoch 44/100\n",
            "122/122 [==============================] - 107s 873ms/step - loss: 7.1037 - MAE: 7.1037 - val_loss: 10.3211 - val_MAE: 10.3211\n",
            "Epoch 45/100\n",
            "122/122 [==============================] - 106s 862ms/step - loss: 7.2507 - MAE: 7.2507 - val_loss: 9.7312 - val_MAE: 9.7312\n",
            "Epoch 46/100\n",
            "122/122 [==============================] - 106s 861ms/step - loss: 7.2412 - MAE: 7.2412 - val_loss: 9.3354 - val_MAE: 9.3354\n",
            "Epoch 47/100\n",
            "122/122 [==============================] - 107s 872ms/step - loss: 7.0384 - MAE: 7.0384 - val_loss: 9.1445 - val_MAE: 9.1445\n",
            "Epoch 48/100\n",
            "122/122 [==============================] - 108s 882ms/step - loss: 7.0118 - MAE: 7.0118 - val_loss: 13.9103 - val_MAE: 13.9103\n",
            "Epoch 49/100\n",
            "122/122 [==============================] - 109s 889ms/step - loss: 7.0019 - MAE: 7.0019 - val_loss: 10.1402 - val_MAE: 10.1402\n",
            "Epoch 50/100\n",
            "122/122 [==============================] - 107s 873ms/step - loss: 6.8172 - MAE: 6.8172 - val_loss: 9.9947 - val_MAE: 9.9947\n",
            "Epoch 51/100\n",
            "122/122 [==============================] - 107s 870ms/step - loss: 6.8296 - MAE: 6.8296 - val_loss: 9.0170 - val_MAE: 9.0170\n",
            "Epoch 52/100\n",
            "122/122 [==============================] - 107s 874ms/step - loss: 6.9495 - MAE: 6.9495 - val_loss: 11.4705 - val_MAE: 11.4705\n",
            "Epoch 53/100\n",
            "122/122 [==============================] - 107s 871ms/step - loss: 6.7208 - MAE: 6.7208 - val_loss: 10.3247 - val_MAE: 10.3247\n",
            "Epoch 54/100\n",
            "122/122 [==============================] - 105s 860ms/step - loss: 6.6369 - MAE: 6.6369 - val_loss: 8.9540 - val_MAE: 8.9540\n",
            "Epoch 55/100\n",
            "122/122 [==============================] - 108s 882ms/step - loss: 6.6127 - MAE: 6.6127 - val_loss: 10.0324 - val_MAE: 10.0324\n",
            "Epoch 56/100\n",
            "122/122 [==============================] - 107s 873ms/step - loss: 6.3804 - MAE: 6.3804 - val_loss: 9.7527 - val_MAE: 9.7527\n",
            "Epoch 57/100\n",
            "122/122 [==============================] - 105s 859ms/step - loss: 6.4617 - MAE: 6.4617 - val_loss: 9.1005 - val_MAE: 9.1005\n",
            "Epoch 58/100\n",
            "122/122 [==============================] - 108s 881ms/step - loss: 6.4289 - MAE: 6.4289 - val_loss: 11.8541 - val_MAE: 11.8541\n",
            "Epoch 59/100\n",
            "122/122 [==============================] - 108s 880ms/step - loss: 6.4629 - MAE: 6.4629 - val_loss: 10.3429 - val_MAE: 10.3429\n",
            "Epoch 60/100\n",
            "122/122 [==============================] - 105s 854ms/step - loss: 6.3176 - MAE: 6.3176 - val_loss: 9.9711 - val_MAE: 9.9711\n",
            "Epoch 61/100\n",
            "122/122 [==============================] - 106s 868ms/step - loss: 6.2289 - MAE: 6.2289 - val_loss: 9.6989 - val_MAE: 9.6989\n",
            "Epoch 62/100\n",
            "122/122 [==============================] - 105s 855ms/step - loss: 6.2097 - MAE: 6.2097 - val_loss: 8.9718 - val_MAE: 8.9718\n",
            "Epoch 63/100\n",
            "122/122 [==============================] - 106s 863ms/step - loss: 6.0819 - MAE: 6.0819 - val_loss: 9.7952 - val_MAE: 9.7952\n",
            "Epoch 64/100\n",
            "122/122 [==============================] - 106s 866ms/step - loss: 6.0613 - MAE: 6.0613 - val_loss: 9.2322 - val_MAE: 9.2322\n",
            "Epoch 65/100\n",
            "122/122 [==============================] - 107s 872ms/step - loss: 5.9216 - MAE: 5.9216 - val_loss: 8.6612 - val_MAE: 8.6612\n",
            "Epoch 66/100\n",
            "122/122 [==============================] - 107s 875ms/step - loss: 5.9713 - MAE: 5.9713 - val_loss: 9.5394 - val_MAE: 9.5394\n",
            "Epoch 67/100\n",
            "122/122 [==============================] - 106s 865ms/step - loss: 6.0485 - MAE: 6.0485 - val_loss: 9.3670 - val_MAE: 9.3670\n",
            "Epoch 68/100\n",
            "122/122 [==============================] - 105s 853ms/step - loss: 5.8767 - MAE: 5.8767 - val_loss: 9.3900 - val_MAE: 9.3900\n",
            "Epoch 69/100\n",
            "122/122 [==============================] - 108s 883ms/step - loss: 5.7122 - MAE: 5.7122 - val_loss: 9.2595 - val_MAE: 9.2595\n",
            "Epoch 70/100\n",
            "122/122 [==============================] - 106s 863ms/step - loss: 5.7595 - MAE: 5.7595 - val_loss: 9.0716 - val_MAE: 9.0716\n",
            "Epoch 71/100\n",
            "122/122 [==============================] - 106s 862ms/step - loss: 5.7664 - MAE: 5.7664 - val_loss: 9.4775 - val_MAE: 9.4775\n",
            "Epoch 72/100\n",
            "122/122 [==============================] - 107s 875ms/step - loss: 5.5915 - MAE: 5.5915 - val_loss: 9.9371 - val_MAE: 9.9371\n",
            "Epoch 73/100\n",
            "122/122 [==============================] - 106s 868ms/step - loss: 5.6380 - MAE: 5.6380 - val_loss: 9.2094 - val_MAE: 9.2094\n",
            "Epoch 74/100\n",
            "122/122 [==============================] - 107s 871ms/step - loss: 5.5974 - MAE: 5.5974 - val_loss: 9.6653 - val_MAE: 9.6653\n",
            "Epoch 75/100\n",
            "122/122 [==============================] - 105s 853ms/step - loss: 5.5199 - MAE: 5.5199 - val_loss: 9.0300 - val_MAE: 9.0300\n",
            "Epoch 76/100\n",
            "122/122 [==============================] - 107s 869ms/step - loss: 5.5564 - MAE: 5.5564 - val_loss: 8.8306 - val_MAE: 8.8306\n",
            "Epoch 77/100\n",
            "122/122 [==============================] - 105s 858ms/step - loss: 5.4568 - MAE: 5.4568 - val_loss: 8.9911 - val_MAE: 8.9911\n",
            "Epoch 78/100\n",
            "122/122 [==============================] - 105s 853ms/step - loss: 5.3951 - MAE: 5.3951 - val_loss: 8.7831 - val_MAE: 8.7831\n",
            "Epoch 79/100\n",
            "122/122 [==============================] - 104s 848ms/step - loss: 5.3359 - MAE: 5.3359 - val_loss: 9.2942 - val_MAE: 9.2942\n",
            "Epoch 80/100\n",
            "122/122 [==============================] - 104s 849ms/step - loss: 5.2555 - MAE: 5.2555 - val_loss: 9.4778 - val_MAE: 9.4778\n",
            "Epoch 81/100\n",
            "122/122 [==============================] - 105s 858ms/step - loss: 5.2220 - MAE: 5.2220 - val_loss: 10.5155 - val_MAE: 10.5155\n",
            "Epoch 82/100\n",
            "122/122 [==============================] - 106s 865ms/step - loss: 5.1780 - MAE: 5.1780 - val_loss: 9.1410 - val_MAE: 9.1410\n",
            "Epoch 83/100\n",
            "122/122 [==============================] - 105s 859ms/step - loss: 5.1710 - MAE: 5.1710 - val_loss: 8.8493 - val_MAE: 8.8493\n",
            "Epoch 84/100\n",
            "122/122 [==============================] - 105s 858ms/step - loss: 5.1139 - MAE: 5.1139 - val_loss: 9.5707 - val_MAE: 9.5707\n",
            "Epoch 85/100\n",
            "122/122 [==============================] - 106s 864ms/step - loss: 5.1518 - MAE: 5.1518 - val_loss: 8.7039 - val_MAE: 8.7039\n",
            "Epoch 86/100\n",
            "122/122 [==============================] - 105s 858ms/step - loss: 5.0650 - MAE: 5.0650 - val_loss: 8.7692 - val_MAE: 8.7692\n",
            "Epoch 87/100\n",
            "122/122 [==============================] - 106s 865ms/step - loss: 5.0824 - MAE: 5.0824 - val_loss: 9.2942 - val_MAE: 9.2942\n",
            "Epoch 88/100\n",
            "122/122 [==============================] - 107s 870ms/step - loss: 5.0983 - MAE: 5.0983 - val_loss: 13.5759 - val_MAE: 13.5759\n",
            "Epoch 89/100\n",
            "122/122 [==============================] - 106s 861ms/step - loss: 4.9575 - MAE: 4.9575 - val_loss: 9.3637 - val_MAE: 9.3637\n",
            "Epoch 90/100\n",
            "122/122 [==============================] - 107s 872ms/step - loss: 4.9623 - MAE: 4.9623 - val_loss: 8.6428 - val_MAE: 8.6428\n",
            "Epoch 91/100\n",
            "122/122 [==============================] - 105s 855ms/step - loss: 4.8418 - MAE: 4.8418 - val_loss: 8.5433 - val_MAE: 8.5433\n",
            "Epoch 92/100\n",
            "122/122 [==============================] - 106s 866ms/step - loss: 4.8305 - MAE: 4.8305 - val_loss: 10.1508 - val_MAE: 10.1508\n",
            "Epoch 93/100\n",
            "122/122 [==============================] - 106s 868ms/step - loss: 4.7974 - MAE: 4.7974 - val_loss: 8.6129 - val_MAE: 8.6129\n",
            "Epoch 94/100\n",
            "122/122 [==============================] - 105s 854ms/step - loss: 4.7196 - MAE: 4.7196 - val_loss: 9.6888 - val_MAE: 9.6888\n",
            "Epoch 95/100\n",
            "122/122 [==============================] - 105s 856ms/step - loss: 4.7930 - MAE: 4.7930 - val_loss: 8.5005 - val_MAE: 8.5005\n",
            "Epoch 96/100\n",
            "122/122 [==============================] - 107s 869ms/step - loss: 4.6763 - MAE: 4.6763 - val_loss: 8.8842 - val_MAE: 8.8842\n",
            "Epoch 97/100\n",
            "122/122 [==============================] - 104s 848ms/step - loss: 4.6426 - MAE: 4.6426 - val_loss: 8.5713 - val_MAE: 8.5713\n",
            "Epoch 98/100\n",
            "122/122 [==============================] - 103s 842ms/step - loss: 4.6770 - MAE: 4.6770 - val_loss: 8.9663 - val_MAE: 8.9663\n",
            "Epoch 99/100\n",
            " 60/122 [=============>................] - ETA: 50s - loss: 4.5684 - MAE: 4.5684"
          ]
        }
      ]
    },
    {
      "cell_type": "code",
      "source": [
        "plt.plot(history.history['loss'])\n",
        "plt.plot(history.history['val_loss'])\n",
        "plt.title('Model loss')\n",
        "plt.ylabel('Loss')\n",
        "plt.xlabel('Epoch')\n",
        "plt.legend(['Train', 'Validation'], loc='upper left')\n",
        "plt.show()"
      ],
      "metadata": {
        "id": "aDWMVOdUpiZb"
      },
      "execution_count": null,
      "outputs": []
    },
    {
      "cell_type": "code",
      "source": [
        "base_model = InceptionV3(weights='imagenet', include_top=False)\n",
        "\n",
        "input = Input(shape=(256,256,3),name='input1')\n",
        "input_gender = Input(shape=(1,),dtype='float32',name='input2')\n",
        "output = base_model(input)\n",
        "gender_embedding=Dense(32)(input_gender)\n",
        "#gender_embedding=Dense(12)(gender_embedding)\n",
        "#x = keras.layers.MaxPooling2D(pool_size=(5,5))(output)\n",
        "#x = keras.layers.Conv2D(512,kernel_size=(3,3))(x)\n",
        "#x = conv2d_bn(output, 512, 3, 3, padding='valid') \n",
        "#x = conv2d_bn(x, 256, 3, 3, padding='valid') \n",
        "#x = conv2d_bn(x, 256, 3, 3, padding='valid') \n",
        "x=channel_attention(output)\n",
        "x=spatial_attention(x)\n",
        "\n",
        "print (K.int_shape(output))\n",
        "x = keras.layers.MaxPooling2D(pool_size=(2,2))(x)\n",
        "print (K.int_shape(x))\n",
        "x=Flatten()(x)\n",
        "f = keras.layers.Concatenate(axis=1)([x,gender_embedding])\n",
        "print (K.int_shape(f)) \n",
        "#x = Dense(256, activation='relu')(x)\n",
        "predictions = Dense(1)(f)\n",
        "model = Model(inputs=[input,input_gender], outputs=predictions)\n",
        "Adam=tf.keras.optimizers.Adam(lr=0.0001,beta_1=0.9,beta_2=0.999)\n",
        "model.compile(optimizer=Adam, loss='mean_absolute_error', metrics=['MAE'])\n",
        "#model.summary()\n",
        "from keras.preprocessing.image import ImageDataGenerator\n",
        "DataGen = ImageDataGenerator(rotation_range=20,width_shift_range=0.15,height_shift_range=0.15,zoom_range=0.2,horizontal_flip=True)\n",
        "def Generator(x_train,gender_train,y_train,batch_size):\n",
        "    loopcount = len(y_train)//batch_size\n",
        "    i=0\n",
        "    while (True):\n",
        "        if i>loopcount:\n",
        "            i=0\n",
        "        # i=np.random.randint(0,loopcount)\n",
        "        x_train_batch = x_train[i*batch_size:(i+1)*batch_size,:,:,:]\n",
        "        x_train_batch = DataAugment(x_train_batch)\n",
        "        gender_train_batch = gender_train[i*batch_size:(i+1)*batch_size]\n",
        "        y_train_batch = y_train[i*batch_size:(i+1)*batch_size]\n",
        "        inputs = [x_train_batch,gender_train_batch]\n",
        "        target = y_train_batch\n",
        "        yield (inputs ,target)\n",
        "        i = i+1\n",
        "checkpoint =keras.callbacks.ModelCheckpoint(filepath='weights/weights.{epoch:02d}-{val_loss:.2f}.hdf5',save_weights_only=True,period=100)\n",
        "history = model.fit_generator(DataGen.flow([train_x,train_gen],train_y,batch_size=64),steps_per_epoch=np.ceil(len(train_y)/64),epochs=100,verbose=1,validation_data=([valid_x,valid_gen],valid_y))\n",
        "#history = model.fit_generator(Generator(x_train,gender_train,y_train,batch_size),steps_per_epoch=np.ceil(len(y_train)/batch_size),epochs=10,verbose=1,validation_data=([x_valid,gender_valid],y_valid))\n",
        "#history=model.fit([x_train,gender_train],y_train,batch_size=32,epochs=5,verbose=1,validation_data=([x_valid,gender_valid],y_valid), callbacks = [checkpoint])\n",
        "score = model.evaluate([test_x,test_gen], test_y, batch_size=64)"
      ],
      "metadata": {
        "id": "M_qvYdWvpdTG"
      },
      "execution_count": null,
      "outputs": []
    },
    {
      "cell_type": "code",
      "source": [
        "plt.plot(history.history['loss'])\n",
        "plt.plot(history.history['val_loss'])\n",
        "plt.title('Model loss')\n",
        "plt.ylabel('Loss')\n",
        "plt.xlabel('Epoch')\n",
        "plt.legend(['Train', 'Validation'], loc='upper left')\n",
        "plt.show()"
      ],
      "metadata": {
        "id": "eokRC-iZpo10"
      },
      "execution_count": null,
      "outputs": []
    },
    {
      "cell_type": "code",
      "source": [],
      "metadata": {
        "id": "AGAZ7Za2pqKe"
      },
      "execution_count": null,
      "outputs": []
    }
  ]
}