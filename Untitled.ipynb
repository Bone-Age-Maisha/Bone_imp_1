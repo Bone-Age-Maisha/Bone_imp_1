{
  "nbformat": 4,
  "nbformat_minor": 0,
  "metadata": {
    "colab": {
      "provenance": [],
      "authorship_tag": "ABX9TyOQ4ghPomHxJpVSGazstPfv",
      "include_colab_link": true
    },
    "kernelspec": {
      "name": "python3",
      "display_name": "Python 3"
    },
    "language_info": {
      "name": "python"
    },
    "accelerator": "GPU",
    "gpuClass": "standard"
  },
  "cells": [
    {
      "cell_type": "markdown",
      "metadata": {
        "id": "view-in-github",
        "colab_type": "text"
      },
      "source": [
        "<a href=\"https://colab.research.google.com/github/Bone-Age-Maisha/Bone_imp_1/blob/main/Untitled.ipynb\" target=\"_parent\"><img src=\"https://colab.research.google.com/assets/colab-badge.svg\" alt=\"Open In Colab\"/></a>"
      ]
    },
    {
      "cell_type": "code",
      "execution_count": 1,
      "metadata": {
        "colab": {
          "base_uri": "https://localhost:8080/"
        },
        "id": "8LKUJy9ID0U2",
        "outputId": "0511577f-db49-46c6-c6f1-2402fecda29e"
      },
      "outputs": [
        {
          "output_type": "stream",
          "name": "stdout",
          "text": [
            "Mounted at /content/drive\n"
          ]
        }
      ],
      "source": [
        "from google.colab import drive\n",
        "drive.mount('/content/drive')"
      ]
    },
    {
      "cell_type": "code",
      "source": [
        "import numpy as np\n",
        "import cv2\n",
        "import os\n",
        "import pandas as pd\n"
      ],
      "metadata": {
        "id": "PxxRCRmoEXGv"
      },
      "execution_count": 2,
      "outputs": []
    },
    {
      "cell_type": "code",
      "source": [
        "import pandas as pd\n",
        "train_dir = '/content/drive/MyDrive/hand_atlas/image'\n",
        "df = pd.read_csv('/content/drive/MyDrive/hand_atlas/data.csv')"
      ],
      "metadata": {
        "id": "-InGAyx9JYmj"
      },
      "execution_count": 3,
      "outputs": []
    },
    {
      "cell_type": "code",
      "source": [
        "df.id[df.id == 7144].tolist()[0]"
      ],
      "metadata": {
        "colab": {
          "base_uri": "https://localhost:8080/"
        },
        "id": "FCEEscB06lVk",
        "outputId": "136b5649-68c3-4f12-e874-5680a5f1cd0b"
      },
      "execution_count": 4,
      "outputs": [
        {
          "output_type": "execute_result",
          "data": {
            "text/plain": [
              "7144"
            ]
          },
          "metadata": {},
          "execution_count": 4
        }
      ]
    },
    {
      "cell_type": "code",
      "source": [
        "#df.drop(df.id==7144,axis=1,inplace=True)\n",
        "df.drop(df[(df['id'] == 7144)].index, inplace=True)"
      ],
      "metadata": {
        "id": "bdI72k-f6z-o"
      },
      "execution_count": 5,
      "outputs": []
    },
    {
      "cell_type": "code",
      "source": [
        "df.id[df.id == 7144].tolist()[0]"
      ],
      "metadata": {
        "colab": {
          "base_uri": "https://localhost:8080/",
          "height": 165
        },
        "id": "HEo_I8XYuacs",
        "outputId": "7b97cdac-0c03-46d0-d03e-f10233350855"
      },
      "execution_count": 6,
      "outputs": [
        {
          "output_type": "error",
          "ename": "IndexError",
          "evalue": "ignored",
          "traceback": [
            "\u001b[0;31m---------------------------------------------------------------------------\u001b[0m",
            "\u001b[0;31mIndexError\u001b[0m                                Traceback (most recent call last)",
            "\u001b[0;32m<ipython-input-6-2b0963602fd3>\u001b[0m in \u001b[0;36m<module>\u001b[0;34m\u001b[0m\n\u001b[0;32m----> 1\u001b[0;31m \u001b[0mdf\u001b[0m\u001b[0;34m.\u001b[0m\u001b[0mid\u001b[0m\u001b[0;34m[\u001b[0m\u001b[0mdf\u001b[0m\u001b[0;34m.\u001b[0m\u001b[0mid\u001b[0m \u001b[0;34m==\u001b[0m \u001b[0;36m7144\u001b[0m\u001b[0;34m]\u001b[0m\u001b[0;34m.\u001b[0m\u001b[0mtolist\u001b[0m\u001b[0;34m(\u001b[0m\u001b[0;34m)\u001b[0m\u001b[0;34m[\u001b[0m\u001b[0;36m0\u001b[0m\u001b[0;34m]\u001b[0m\u001b[0;34m\u001b[0m\u001b[0;34m\u001b[0m\u001b[0m\n\u001b[0m",
            "\u001b[0;31mIndexError\u001b[0m: list index out of range"
          ]
        }
      ]
    },
    {
      "cell_type": "code",
      "source": [
        "import tensorflow as tf\n",
        "gpus = tf.config.experimental.list_physical_devices('GPU')\n",
        "tf.config.experimental.set_visible_devices(gpus[0], 'GPU')\n",
        "tf.config.experimental.set_memory_growth(gpus[0], True)"
      ],
      "metadata": {
        "id": "S6eM4ZMoJcqG"
      },
      "execution_count": 7,
      "outputs": []
    },
    {
      "cell_type": "code",
      "source": [
        "import os\n",
        "age_df = df \n",
        "age_df['path'] = age_df['id'].map(lambda x: os.path.join(train_dir,\n",
        "                                                         '{}.jpg'.format(x)))\n",
        "age_df['exists'] = age_df['path'].map(os.path.exists)"
      ],
      "metadata": {
        "id": "bvnrl-2MhxXX"
      },
      "execution_count": 8,
      "outputs": []
    },
    {
      "cell_type": "code",
      "source": [
        "age_df"
      ],
      "metadata": {
        "colab": {
          "base_uri": "https://localhost:8080/",
          "height": 424
        },
        "id": "1fzYW4-AibxL",
        "outputId": "47d6a1ba-dbb7-44ba-99f3-7d037247a68c"
      },
      "execution_count": 9,
      "outputs": [
        {
          "output_type": "execute_result",
          "data": {
            "text/plain": [
              "      Unnamed: 0    id  boneage  gender  \\\n",
              "0              0  5014   216.30       1   \n",
              "1              1  5059   221.10       1   \n",
              "2              2  5300   226.40       1   \n",
              "3              3  5084   227.70       1   \n",
              "4              4  5342   224.40       1   \n",
              "...          ...   ...      ...     ...   \n",
              "1382        1382  6106    32.52       0   \n",
              "1383        1383  5234    30.02       0   \n",
              "1384        1384  5334    33.70       0   \n",
              "1385        1385  6131    24.13       0   \n",
              "1386        1386  5131    31.46       0   \n",
              "\n",
              "                                                  path  exists  \n",
              "0     /content/drive/MyDrive/hand_atlas/image/5014.jpg    True  \n",
              "1     /content/drive/MyDrive/hand_atlas/image/5059.jpg    True  \n",
              "2     /content/drive/MyDrive/hand_atlas/image/5300.jpg    True  \n",
              "3     /content/drive/MyDrive/hand_atlas/image/5084.jpg    True  \n",
              "4     /content/drive/MyDrive/hand_atlas/image/5342.jpg    True  \n",
              "...                                                ...     ...  \n",
              "1382  /content/drive/MyDrive/hand_atlas/image/6106.jpg    True  \n",
              "1383  /content/drive/MyDrive/hand_atlas/image/5234.jpg    True  \n",
              "1384  /content/drive/MyDrive/hand_atlas/image/5334.jpg    True  \n",
              "1385  /content/drive/MyDrive/hand_atlas/image/6131.jpg    True  \n",
              "1386  /content/drive/MyDrive/hand_atlas/image/5131.jpg    True  \n",
              "\n",
              "[1386 rows x 6 columns]"
            ],
            "text/html": [
              "\n",
              "  <div id=\"df-fb01f5bc-8c76-4d8a-967a-c1d23f63c5da\">\n",
              "    <div class=\"colab-df-container\">\n",
              "      <div>\n",
              "<style scoped>\n",
              "    .dataframe tbody tr th:only-of-type {\n",
              "        vertical-align: middle;\n",
              "    }\n",
              "\n",
              "    .dataframe tbody tr th {\n",
              "        vertical-align: top;\n",
              "    }\n",
              "\n",
              "    .dataframe thead th {\n",
              "        text-align: right;\n",
              "    }\n",
              "</style>\n",
              "<table border=\"1\" class=\"dataframe\">\n",
              "  <thead>\n",
              "    <tr style=\"text-align: right;\">\n",
              "      <th></th>\n",
              "      <th>Unnamed: 0</th>\n",
              "      <th>id</th>\n",
              "      <th>boneage</th>\n",
              "      <th>gender</th>\n",
              "      <th>path</th>\n",
              "      <th>exists</th>\n",
              "    </tr>\n",
              "  </thead>\n",
              "  <tbody>\n",
              "    <tr>\n",
              "      <th>0</th>\n",
              "      <td>0</td>\n",
              "      <td>5014</td>\n",
              "      <td>216.30</td>\n",
              "      <td>1</td>\n",
              "      <td>/content/drive/MyDrive/hand_atlas/image/5014.jpg</td>\n",
              "      <td>True</td>\n",
              "    </tr>\n",
              "    <tr>\n",
              "      <th>1</th>\n",
              "      <td>1</td>\n",
              "      <td>5059</td>\n",
              "      <td>221.10</td>\n",
              "      <td>1</td>\n",
              "      <td>/content/drive/MyDrive/hand_atlas/image/5059.jpg</td>\n",
              "      <td>True</td>\n",
              "    </tr>\n",
              "    <tr>\n",
              "      <th>2</th>\n",
              "      <td>2</td>\n",
              "      <td>5300</td>\n",
              "      <td>226.40</td>\n",
              "      <td>1</td>\n",
              "      <td>/content/drive/MyDrive/hand_atlas/image/5300.jpg</td>\n",
              "      <td>True</td>\n",
              "    </tr>\n",
              "    <tr>\n",
              "      <th>3</th>\n",
              "      <td>3</td>\n",
              "      <td>5084</td>\n",
              "      <td>227.70</td>\n",
              "      <td>1</td>\n",
              "      <td>/content/drive/MyDrive/hand_atlas/image/5084.jpg</td>\n",
              "      <td>True</td>\n",
              "    </tr>\n",
              "    <tr>\n",
              "      <th>4</th>\n",
              "      <td>4</td>\n",
              "      <td>5342</td>\n",
              "      <td>224.40</td>\n",
              "      <td>1</td>\n",
              "      <td>/content/drive/MyDrive/hand_atlas/image/5342.jpg</td>\n",
              "      <td>True</td>\n",
              "    </tr>\n",
              "    <tr>\n",
              "      <th>...</th>\n",
              "      <td>...</td>\n",
              "      <td>...</td>\n",
              "      <td>...</td>\n",
              "      <td>...</td>\n",
              "      <td>...</td>\n",
              "      <td>...</td>\n",
              "    </tr>\n",
              "    <tr>\n",
              "      <th>1382</th>\n",
              "      <td>1382</td>\n",
              "      <td>6106</td>\n",
              "      <td>32.52</td>\n",
              "      <td>0</td>\n",
              "      <td>/content/drive/MyDrive/hand_atlas/image/6106.jpg</td>\n",
              "      <td>True</td>\n",
              "    </tr>\n",
              "    <tr>\n",
              "      <th>1383</th>\n",
              "      <td>1383</td>\n",
              "      <td>5234</td>\n",
              "      <td>30.02</td>\n",
              "      <td>0</td>\n",
              "      <td>/content/drive/MyDrive/hand_atlas/image/5234.jpg</td>\n",
              "      <td>True</td>\n",
              "    </tr>\n",
              "    <tr>\n",
              "      <th>1384</th>\n",
              "      <td>1384</td>\n",
              "      <td>5334</td>\n",
              "      <td>33.70</td>\n",
              "      <td>0</td>\n",
              "      <td>/content/drive/MyDrive/hand_atlas/image/5334.jpg</td>\n",
              "      <td>True</td>\n",
              "    </tr>\n",
              "    <tr>\n",
              "      <th>1385</th>\n",
              "      <td>1385</td>\n",
              "      <td>6131</td>\n",
              "      <td>24.13</td>\n",
              "      <td>0</td>\n",
              "      <td>/content/drive/MyDrive/hand_atlas/image/6131.jpg</td>\n",
              "      <td>True</td>\n",
              "    </tr>\n",
              "    <tr>\n",
              "      <th>1386</th>\n",
              "      <td>1386</td>\n",
              "      <td>5131</td>\n",
              "      <td>31.46</td>\n",
              "      <td>0</td>\n",
              "      <td>/content/drive/MyDrive/hand_atlas/image/5131.jpg</td>\n",
              "      <td>True</td>\n",
              "    </tr>\n",
              "  </tbody>\n",
              "</table>\n",
              "<p>1386 rows × 6 columns</p>\n",
              "</div>\n",
              "      <button class=\"colab-df-convert\" onclick=\"convertToInteractive('df-fb01f5bc-8c76-4d8a-967a-c1d23f63c5da')\"\n",
              "              title=\"Convert this dataframe to an interactive table.\"\n",
              "              style=\"display:none;\">\n",
              "        \n",
              "  <svg xmlns=\"http://www.w3.org/2000/svg\" height=\"24px\"viewBox=\"0 0 24 24\"\n",
              "       width=\"24px\">\n",
              "    <path d=\"M0 0h24v24H0V0z\" fill=\"none\"/>\n",
              "    <path d=\"M18.56 5.44l.94 2.06.94-2.06 2.06-.94-2.06-.94-.94-2.06-.94 2.06-2.06.94zm-11 1L8.5 8.5l.94-2.06 2.06-.94-2.06-.94L8.5 2.5l-.94 2.06-2.06.94zm10 10l.94 2.06.94-2.06 2.06-.94-2.06-.94-.94-2.06-.94 2.06-2.06.94z\"/><path d=\"M17.41 7.96l-1.37-1.37c-.4-.4-.92-.59-1.43-.59-.52 0-1.04.2-1.43.59L10.3 9.45l-7.72 7.72c-.78.78-.78 2.05 0 2.83L4 21.41c.39.39.9.59 1.41.59.51 0 1.02-.2 1.41-.59l7.78-7.78 2.81-2.81c.8-.78.8-2.07 0-2.86zM5.41 20L4 18.59l7.72-7.72 1.47 1.35L5.41 20z\"/>\n",
              "  </svg>\n",
              "      </button>\n",
              "      \n",
              "  <style>\n",
              "    .colab-df-container {\n",
              "      display:flex;\n",
              "      flex-wrap:wrap;\n",
              "      gap: 12px;\n",
              "    }\n",
              "\n",
              "    .colab-df-convert {\n",
              "      background-color: #E8F0FE;\n",
              "      border: none;\n",
              "      border-radius: 50%;\n",
              "      cursor: pointer;\n",
              "      display: none;\n",
              "      fill: #1967D2;\n",
              "      height: 32px;\n",
              "      padding: 0 0 0 0;\n",
              "      width: 32px;\n",
              "    }\n",
              "\n",
              "    .colab-df-convert:hover {\n",
              "      background-color: #E2EBFA;\n",
              "      box-shadow: 0px 1px 2px rgba(60, 64, 67, 0.3), 0px 1px 3px 1px rgba(60, 64, 67, 0.15);\n",
              "      fill: #174EA6;\n",
              "    }\n",
              "\n",
              "    [theme=dark] .colab-df-convert {\n",
              "      background-color: #3B4455;\n",
              "      fill: #D2E3FC;\n",
              "    }\n",
              "\n",
              "    [theme=dark] .colab-df-convert:hover {\n",
              "      background-color: #434B5C;\n",
              "      box-shadow: 0px 1px 3px 1px rgba(0, 0, 0, 0.15);\n",
              "      filter: drop-shadow(0px 1px 2px rgba(0, 0, 0, 0.3));\n",
              "      fill: #FFFFFF;\n",
              "    }\n",
              "  </style>\n",
              "\n",
              "      <script>\n",
              "        const buttonEl =\n",
              "          document.querySelector('#df-fb01f5bc-8c76-4d8a-967a-c1d23f63c5da button.colab-df-convert');\n",
              "        buttonEl.style.display =\n",
              "          google.colab.kernel.accessAllowed ? 'block' : 'none';\n",
              "\n",
              "        async function convertToInteractive(key) {\n",
              "          const element = document.querySelector('#df-fb01f5bc-8c76-4d8a-967a-c1d23f63c5da');\n",
              "          const dataTable =\n",
              "            await google.colab.kernel.invokeFunction('convertToInteractive',\n",
              "                                                     [key], {});\n",
              "          if (!dataTable) return;\n",
              "\n",
              "          const docLinkHtml = 'Like what you see? Visit the ' +\n",
              "            '<a target=\"_blank\" href=https://colab.research.google.com/notebooks/data_table.ipynb>data table notebook</a>'\n",
              "            + ' to learn more about interactive tables.';\n",
              "          element.innerHTML = '';\n",
              "          dataTable['output_type'] = 'display_data';\n",
              "          await google.colab.output.renderOutput(dataTable, element);\n",
              "          const docLink = document.createElement('div');\n",
              "          docLink.innerHTML = docLinkHtml;\n",
              "          element.appendChild(docLink);\n",
              "        }\n",
              "      </script>\n",
              "    </div>\n",
              "  </div>\n",
              "  "
            ]
          },
          "metadata": {},
          "execution_count": 9
        }
      ]
    },
    {
      "cell_type": "code",
      "source": [
        "train_df = age_df.groupby(['boneage']).apply(lambda x: x.sample(10, replace = True)\n",
        "                                                      ).reset_index(drop = True)"
      ],
      "metadata": {
        "id": "xExwrOOEiP41"
      },
      "execution_count": 10,
      "outputs": []
    },
    {
      "cell_type": "code",
      "source": [
        "train_df"
      ],
      "metadata": {
        "colab": {
          "base_uri": "https://localhost:8080/",
          "height": 424
        },
        "id": "emFKt1b5ilCH",
        "outputId": "26d78473-8eb6-46e9-c9e9-c5888d6aca93"
      },
      "execution_count": 11,
      "outputs": [
        {
          "output_type": "execute_result",
          "data": {
            "text/plain": [
              "       Unnamed: 0    id   boneage  gender  \\\n",
              "0             504  5574    0.3616       1   \n",
              "1             504  5574    0.3616       1   \n",
              "2             504  5574    0.3616       1   \n",
              "3             504  5574    0.3616       1   \n",
              "4             504  5574    0.3616       1   \n",
              "...           ...   ...       ...     ...   \n",
              "10475        1225  5198  228.1000       0   \n",
              "10476        1225  5198  228.1000       0   \n",
              "10477        1225  5198  228.1000       0   \n",
              "10478        1225  5198  228.1000       0   \n",
              "10479        1225  5198  228.1000       0   \n",
              "\n",
              "                                                   path  exists  \n",
              "0      /content/drive/MyDrive/hand_atlas/image/5574.jpg    True  \n",
              "1      /content/drive/MyDrive/hand_atlas/image/5574.jpg    True  \n",
              "2      /content/drive/MyDrive/hand_atlas/image/5574.jpg    True  \n",
              "3      /content/drive/MyDrive/hand_atlas/image/5574.jpg    True  \n",
              "4      /content/drive/MyDrive/hand_atlas/image/5574.jpg    True  \n",
              "...                                                 ...     ...  \n",
              "10475  /content/drive/MyDrive/hand_atlas/image/5198.jpg    True  \n",
              "10476  /content/drive/MyDrive/hand_atlas/image/5198.jpg    True  \n",
              "10477  /content/drive/MyDrive/hand_atlas/image/5198.jpg    True  \n",
              "10478  /content/drive/MyDrive/hand_atlas/image/5198.jpg    True  \n",
              "10479  /content/drive/MyDrive/hand_atlas/image/5198.jpg    True  \n",
              "\n",
              "[10480 rows x 6 columns]"
            ],
            "text/html": [
              "\n",
              "  <div id=\"df-5e3c08bd-dec1-4555-b5d4-993b3a46dc5a\">\n",
              "    <div class=\"colab-df-container\">\n",
              "      <div>\n",
              "<style scoped>\n",
              "    .dataframe tbody tr th:only-of-type {\n",
              "        vertical-align: middle;\n",
              "    }\n",
              "\n",
              "    .dataframe tbody tr th {\n",
              "        vertical-align: top;\n",
              "    }\n",
              "\n",
              "    .dataframe thead th {\n",
              "        text-align: right;\n",
              "    }\n",
              "</style>\n",
              "<table border=\"1\" class=\"dataframe\">\n",
              "  <thead>\n",
              "    <tr style=\"text-align: right;\">\n",
              "      <th></th>\n",
              "      <th>Unnamed: 0</th>\n",
              "      <th>id</th>\n",
              "      <th>boneage</th>\n",
              "      <th>gender</th>\n",
              "      <th>path</th>\n",
              "      <th>exists</th>\n",
              "    </tr>\n",
              "  </thead>\n",
              "  <tbody>\n",
              "    <tr>\n",
              "      <th>0</th>\n",
              "      <td>504</td>\n",
              "      <td>5574</td>\n",
              "      <td>0.3616</td>\n",
              "      <td>1</td>\n",
              "      <td>/content/drive/MyDrive/hand_atlas/image/5574.jpg</td>\n",
              "      <td>True</td>\n",
              "    </tr>\n",
              "    <tr>\n",
              "      <th>1</th>\n",
              "      <td>504</td>\n",
              "      <td>5574</td>\n",
              "      <td>0.3616</td>\n",
              "      <td>1</td>\n",
              "      <td>/content/drive/MyDrive/hand_atlas/image/5574.jpg</td>\n",
              "      <td>True</td>\n",
              "    </tr>\n",
              "    <tr>\n",
              "      <th>2</th>\n",
              "      <td>504</td>\n",
              "      <td>5574</td>\n",
              "      <td>0.3616</td>\n",
              "      <td>1</td>\n",
              "      <td>/content/drive/MyDrive/hand_atlas/image/5574.jpg</td>\n",
              "      <td>True</td>\n",
              "    </tr>\n",
              "    <tr>\n",
              "      <th>3</th>\n",
              "      <td>504</td>\n",
              "      <td>5574</td>\n",
              "      <td>0.3616</td>\n",
              "      <td>1</td>\n",
              "      <td>/content/drive/MyDrive/hand_atlas/image/5574.jpg</td>\n",
              "      <td>True</td>\n",
              "    </tr>\n",
              "    <tr>\n",
              "      <th>4</th>\n",
              "      <td>504</td>\n",
              "      <td>5574</td>\n",
              "      <td>0.3616</td>\n",
              "      <td>1</td>\n",
              "      <td>/content/drive/MyDrive/hand_atlas/image/5574.jpg</td>\n",
              "      <td>True</td>\n",
              "    </tr>\n",
              "    <tr>\n",
              "      <th>...</th>\n",
              "      <td>...</td>\n",
              "      <td>...</td>\n",
              "      <td>...</td>\n",
              "      <td>...</td>\n",
              "      <td>...</td>\n",
              "      <td>...</td>\n",
              "    </tr>\n",
              "    <tr>\n",
              "      <th>10475</th>\n",
              "      <td>1225</td>\n",
              "      <td>5198</td>\n",
              "      <td>228.1000</td>\n",
              "      <td>0</td>\n",
              "      <td>/content/drive/MyDrive/hand_atlas/image/5198.jpg</td>\n",
              "      <td>True</td>\n",
              "    </tr>\n",
              "    <tr>\n",
              "      <th>10476</th>\n",
              "      <td>1225</td>\n",
              "      <td>5198</td>\n",
              "      <td>228.1000</td>\n",
              "      <td>0</td>\n",
              "      <td>/content/drive/MyDrive/hand_atlas/image/5198.jpg</td>\n",
              "      <td>True</td>\n",
              "    </tr>\n",
              "    <tr>\n",
              "      <th>10477</th>\n",
              "      <td>1225</td>\n",
              "      <td>5198</td>\n",
              "      <td>228.1000</td>\n",
              "      <td>0</td>\n",
              "      <td>/content/drive/MyDrive/hand_atlas/image/5198.jpg</td>\n",
              "      <td>True</td>\n",
              "    </tr>\n",
              "    <tr>\n",
              "      <th>10478</th>\n",
              "      <td>1225</td>\n",
              "      <td>5198</td>\n",
              "      <td>228.1000</td>\n",
              "      <td>0</td>\n",
              "      <td>/content/drive/MyDrive/hand_atlas/image/5198.jpg</td>\n",
              "      <td>True</td>\n",
              "    </tr>\n",
              "    <tr>\n",
              "      <th>10479</th>\n",
              "      <td>1225</td>\n",
              "      <td>5198</td>\n",
              "      <td>228.1000</td>\n",
              "      <td>0</td>\n",
              "      <td>/content/drive/MyDrive/hand_atlas/image/5198.jpg</td>\n",
              "      <td>True</td>\n",
              "    </tr>\n",
              "  </tbody>\n",
              "</table>\n",
              "<p>10480 rows × 6 columns</p>\n",
              "</div>\n",
              "      <button class=\"colab-df-convert\" onclick=\"convertToInteractive('df-5e3c08bd-dec1-4555-b5d4-993b3a46dc5a')\"\n",
              "              title=\"Convert this dataframe to an interactive table.\"\n",
              "              style=\"display:none;\">\n",
              "        \n",
              "  <svg xmlns=\"http://www.w3.org/2000/svg\" height=\"24px\"viewBox=\"0 0 24 24\"\n",
              "       width=\"24px\">\n",
              "    <path d=\"M0 0h24v24H0V0z\" fill=\"none\"/>\n",
              "    <path d=\"M18.56 5.44l.94 2.06.94-2.06 2.06-.94-2.06-.94-.94-2.06-.94 2.06-2.06.94zm-11 1L8.5 8.5l.94-2.06 2.06-.94-2.06-.94L8.5 2.5l-.94 2.06-2.06.94zm10 10l.94 2.06.94-2.06 2.06-.94-2.06-.94-.94-2.06-.94 2.06-2.06.94z\"/><path d=\"M17.41 7.96l-1.37-1.37c-.4-.4-.92-.59-1.43-.59-.52 0-1.04.2-1.43.59L10.3 9.45l-7.72 7.72c-.78.78-.78 2.05 0 2.83L4 21.41c.39.39.9.59 1.41.59.51 0 1.02-.2 1.41-.59l7.78-7.78 2.81-2.81c.8-.78.8-2.07 0-2.86zM5.41 20L4 18.59l7.72-7.72 1.47 1.35L5.41 20z\"/>\n",
              "  </svg>\n",
              "      </button>\n",
              "      \n",
              "  <style>\n",
              "    .colab-df-container {\n",
              "      display:flex;\n",
              "      flex-wrap:wrap;\n",
              "      gap: 12px;\n",
              "    }\n",
              "\n",
              "    .colab-df-convert {\n",
              "      background-color: #E8F0FE;\n",
              "      border: none;\n",
              "      border-radius: 50%;\n",
              "      cursor: pointer;\n",
              "      display: none;\n",
              "      fill: #1967D2;\n",
              "      height: 32px;\n",
              "      padding: 0 0 0 0;\n",
              "      width: 32px;\n",
              "    }\n",
              "\n",
              "    .colab-df-convert:hover {\n",
              "      background-color: #E2EBFA;\n",
              "      box-shadow: 0px 1px 2px rgba(60, 64, 67, 0.3), 0px 1px 3px 1px rgba(60, 64, 67, 0.15);\n",
              "      fill: #174EA6;\n",
              "    }\n",
              "\n",
              "    [theme=dark] .colab-df-convert {\n",
              "      background-color: #3B4455;\n",
              "      fill: #D2E3FC;\n",
              "    }\n",
              "\n",
              "    [theme=dark] .colab-df-convert:hover {\n",
              "      background-color: #434B5C;\n",
              "      box-shadow: 0px 1px 3px 1px rgba(0, 0, 0, 0.15);\n",
              "      filter: drop-shadow(0px 1px 2px rgba(0, 0, 0, 0.3));\n",
              "      fill: #FFFFFF;\n",
              "    }\n",
              "  </style>\n",
              "\n",
              "      <script>\n",
              "        const buttonEl =\n",
              "          document.querySelector('#df-5e3c08bd-dec1-4555-b5d4-993b3a46dc5a button.colab-df-convert');\n",
              "        buttonEl.style.display =\n",
              "          google.colab.kernel.accessAllowed ? 'block' : 'none';\n",
              "\n",
              "        async function convertToInteractive(key) {\n",
              "          const element = document.querySelector('#df-5e3c08bd-dec1-4555-b5d4-993b3a46dc5a');\n",
              "          const dataTable =\n",
              "            await google.colab.kernel.invokeFunction('convertToInteractive',\n",
              "                                                     [key], {});\n",
              "          if (!dataTable) return;\n",
              "\n",
              "          const docLinkHtml = 'Like what you see? Visit the ' +\n",
              "            '<a target=\"_blank\" href=https://colab.research.google.com/notebooks/data_table.ipynb>data table notebook</a>'\n",
              "            + ' to learn more about interactive tables.';\n",
              "          element.innerHTML = '';\n",
              "          dataTable['output_type'] = 'display_data';\n",
              "          await google.colab.output.renderOutput(dataTable, element);\n",
              "          const docLink = document.createElement('div');\n",
              "          docLink.innerHTML = docLinkHtml;\n",
              "          element.appendChild(docLink);\n",
              "        }\n",
              "      </script>\n",
              "    </div>\n",
              "  </div>\n",
              "  "
            ]
          },
          "metadata": {},
          "execution_count": 11
        }
      ]
    },
    {
      "cell_type": "code",
      "source": [
        "from sklearn.model_selection import train_test_split\n",
        "train_test, valid = train_test_split(train_df, \n",
        "                                   test_size = 0.15, \n",
        "                                   random_state = 2018,\n",
        "                                   stratify = train_df['boneage'])\n",
        "#print('train', raw_train_df.shape[0], 'validation', valid_df.shape[0])\n",
        "train, test = train_test_split(train_test, \n",
        "                                   test_size = 0.25, \n",
        "                                   random_state = 2018,\n",
        "                                   stratify = train_test['boneage'])\n",
        "print('train', train.shape[0], 'validation', valid.shape[0],test.shape[0])"
      ],
      "metadata": {
        "colab": {
          "base_uri": "https://localhost:8080/"
        },
        "id": "3g-Gdjk-inAH",
        "outputId": "b9afa6c5-98b6-466f-cd0d-68950fd2a7ab"
      },
      "execution_count": 12,
      "outputs": [
        {
          "output_type": "stream",
          "name": "stdout",
          "text": [
            "train 6681 validation 1572 2227\n"
          ]
        }
      ]
    },
    {
      "cell_type": "code",
      "execution_count": 13,
      "metadata": {
        "id": "M1JDJnDr6BGV",
        "colab": {
          "base_uri": "https://localhost:8080/",
          "height": 130
        },
        "outputId": "e6eeaf5f-9788-4c87-f9e5-a7d5712f6049"
      },
      "outputs": [
        {
          "output_type": "error",
          "ename": "IndentationError",
          "evalue": "ignored",
          "traceback": [
            "\u001b[0;36m  File \u001b[0;32m\"<ipython-input-13-df63c595a444>\"\u001b[0;36m, line \u001b[0;32m4\u001b[0m\n\u001b[0;31m    samplewise_std_normalization=True,\u001b[0m\n\u001b[0m    ^\u001b[0m\n\u001b[0;31mIndentationError\u001b[0m\u001b[0;31m:\u001b[0m unexpected indent\n"
          ]
        }
      ],
      "source": [
        "from keras.preprocessing.image import ImageDataGenerator\n",
        "IMG_SIZE = (300,300)\n",
        "#core_idg = ImageDataGenerator(samplewise_center=True, \n",
        "                              samplewise_std_normalization=True, \n",
        "                              horizontal_flip = True, \n",
        "                              vertical_flip = False, \n",
        "                              height_shift_range = 0.1, \n",
        "                              width_shift_range = 0.1, \n",
        "                              rotation_range = 10, \n",
        "                              shear_range = 0.05,\n",
        "                              fill_mode = 'nearest',\n",
        "                              zoom_range=0.15)"
      ]
    },
    {
      "cell_type": "code",
      "source": [
        "from keras.preprocessing.image import ImageDataGenerator\n",
        "IMG_SIZE = (300,300)\n",
        "core_idg = ImageDataGenerator(rotation_range=20,width_shift_range=0.15,height_shift_range=0.15,zoom_range=0.2,horizontal_flip=True)"
      ],
      "metadata": {
        "id": "qiNVU1w6yD0H"
      },
      "execution_count": 13,
      "outputs": []
    },
    {
      "cell_type": "code",
      "execution_count": 14,
      "metadata": {
        "id": "gvplAVVz6E-T"
      },
      "outputs": [],
      "source": [
        "def flow_from_dataframe(img_data_gen, in_df, path_col, y_col, **dflow_args):\n",
        "    base_dir = os.path.dirname(in_df[path_col].values[0])\n",
        "    print('## Ignore next message from keras, values are replaced anyways')\n",
        "    df_gen = img_data_gen.flow_from_directory(base_dir, \n",
        "                                     class_mode = 'sparse',\n",
        "                                    **dflow_args)\n",
        "    df_gen.filenames = in_df[path_col].values\n",
        "    df_gen.filepaths.extend(df_gen.filenames)\n",
        "    df_gen.classes = np.stack(in_df[y_col].values)\n",
        "    df_gen.samples = in_df.shape[0]\n",
        "    df_gen.n = in_df.shape[0]\n",
        "    df_gen._set_index_array()\n",
        "    df_gen.directory = '' \n",
        "    print('Reinserting dataframe: {} images'.format(in_df.shape[0]))\n",
        "    return df_gen"
      ]
    },
    {
      "cell_type": "code",
      "execution_count": 15,
      "metadata": {
        "id": "zCfVsIRE6KLF",
        "colab": {
          "base_uri": "https://localhost:8080/"
        },
        "outputId": "36cece7c-028b-4880-f891-068ff36c7c80"
      },
      "outputs": [
        {
          "output_type": "stream",
          "name": "stdout",
          "text": [
            "## Ignore next message from keras, values are replaced anyways\n",
            "Found 0 images belonging to 0 classes.\n",
            "Reinserting dataframe: 6681 images\n"
          ]
        }
      ],
      "source": [
        "train_gen = flow_from_dataframe(core_idg, train, \n",
        "                             path_col = 'path',\n",
        "                            y_col = 'boneage', \n",
        "                            target_size = IMG_SIZE,\n",
        "                             color_mode = 'rgb',\n",
        "                            batch_size = 16)"
      ]
    },
    {
      "cell_type": "code",
      "execution_count": 17,
      "metadata": {
        "id": "fY-oZLIfht7c"
      },
      "outputs": [],
      "source": [
        "t_x, t_y = next(train_gen)\n",
        "#/content/drive/MyDrive/hand_atlas/image/3128.jpg"
      ]
    },
    {
      "cell_type": "code",
      "execution_count": null,
      "metadata": {
        "id": "PUjq0oby_k8R"
      },
      "outputs": [],
      "source": [
        "#valcore_idg = ImageDataGenerator(samplewise_center=True, \n",
        "                              samplewise_std_normalization=True, \n",
        "                              horizontal_flip = True, \n",
        "                              vertical_flip = False, \n",
        "                              height_shift_range = 0.15, \n",
        "                              width_shift_range = 0.15, \n",
        "                              rotation_range = 20, \n",
        "                              shear_range = 0.04,\n",
        "                              fill_mode = 'nearest',\n",
        "                              zoom_range=0.16)"
      ]
    },
    {
      "cell_type": "code",
      "execution_count": 16,
      "metadata": {
        "id": "6Z3ehsMF6MoW",
        "colab": {
          "base_uri": "https://localhost:8080/"
        },
        "outputId": "dc7196a0-7fa7-42de-d36c-e8b14117e9e9"
      },
      "outputs": [
        {
          "output_type": "stream",
          "name": "stdout",
          "text": [
            "## Ignore next message from keras, values are replaced anyways\n",
            "Found 0 images belonging to 0 classes.\n",
            "Reinserting dataframe: 1572 images\n"
          ]
        }
      ],
      "source": [
        "valid_gen = flow_from_dataframe(core_idg, valid, \n",
        "                             path_col = 'path',\n",
        "                            y_col = 'boneage', \n",
        "                            target_size = IMG_SIZE,\n",
        "                             color_mode = 'rgb',\n",
        "                            batch_size = 16) "
      ]
    },
    {
      "cell_type": "code",
      "execution_count": 17,
      "metadata": {
        "id": "n0fKJw50AZIW"
      },
      "outputs": [],
      "source": [
        "\n",
        "testcore_idg = ImageDataGenerator()"
      ]
    },
    {
      "cell_type": "code",
      "execution_count": 18,
      "metadata": {
        "id": "PqfF_Mtk6qZB",
        "colab": {
          "base_uri": "https://localhost:8080/"
        },
        "outputId": "8aecb580-f478-4852-f748-709e559ad695"
      },
      "outputs": [
        {
          "output_type": "stream",
          "name": "stdout",
          "text": [
            "## Ignore next message from keras, values are replaced anyways\n",
            "Found 0 images belonging to 0 classes.\n",
            "Reinserting dataframe: 2227 images\n"
          ]
        }
      ],
      "source": [
        "test_gen = flow_from_dataframe(testcore_idg, \n",
        "                              test, \n",
        "                             path_col = 'path',\n",
        "                            y_col = 'boneage', \n",
        "                            target_size = IMG_SIZE,\n",
        "                             color_mode = 'rgb',\n",
        "                            batch_size = 16)"
      ]
    },
    {
      "cell_type": "code",
      "execution_count": 19,
      "metadata": {
        "id": "amocsfsF7Xyg"
      },
      "outputs": [],
      "source": [
        "test_X, test_Y = next(test_gen)"
      ]
    },
    {
      "cell_type": "code",
      "execution_count": 21,
      "metadata": {
        "id": "mfa6nrO2CZxs"
      },
      "outputs": [],
      "source": [
        "val_x,val_y=next(valid_gen)"
      ]
    },
    {
      "cell_type": "code",
      "source": [
        "from tensorflow.keras.applications.resnet50 import ResNet50\n",
        "from keras.applications.vgg19 import VGG19\n",
        "from keras.applications.inception_v3 import InceptionV3\n",
        "from keras.applications.xception import Xception\n",
        "from keras.preprocessing import image\n",
        "from keras.models import Model, load_model\n",
        "from keras.layers import Flatten, Dense, Input, Reshape, Lambda,Conv2D\n",
        "import tensorflow as tf\n",
        "from keras import backend as K\n",
        "import pickle\n",
        "import numpy as np\n",
        "import matplotlib.pyplot as plt\n",
        "import keras\n",
        "#from func_utils import *\n",
        "import os\n",
        "#os.environ[\"CUDA_VISIBLE_DEVICES\"]=\"2\"\n",
        "#os.environ['OMP_NUM_THREADS']='6'\n",
        "batch_size = 32\n",
        "epochs = 30"
      ],
      "metadata": {
        "id": "8GEL-2Jc_5Qt"
      },
      "execution_count": 20,
      "outputs": []
    },
    {
      "cell_type": "code",
      "execution_count": 22,
      "metadata": {
        "colab": {
          "base_uri": "https://localhost:8080/"
        },
        "id": "TCFXoW6gu6AT",
        "outputId": "30039bf5-ec80-48c1-f84b-23cd2f91e86a"
      },
      "outputs": [
        {
          "output_type": "stream",
          "name": "stdout",
          "text": [
            "Downloading data from https://storage.googleapis.com/tensorflow/keras-applications/inception_v3/inception_v3_weights_tf_dim_ordering_tf_kernels_notop.h5\n",
            "87910968/87910968 [==============================] - 1s 0us/step\n",
            "(None, 8, 8, 2048)\n",
            "(None, 2048)\n",
            "(None, 4, 4, 2048)\n",
            "(None, 1, 1, 2048)\n",
            "0 input1\n",
            "1 inception_v3\n",
            "2 global_average_pooling2d\n",
            "3 reshape\n",
            "4 dense\n",
            "5 multiply\n",
            "6 add\n",
            "7 batch_normalization_94\n",
            "8 activation_94\n",
            "9 block_1\n",
            "10 max_pooling2d_4\n",
            "11 flatten\n",
            "12 dense_1\n",
            "13 dense_2\n",
            "Model: \"model\"\n",
            "__________________________________________________________________________________________________\n",
            " Layer (type)                   Output Shape         Param #     Connected to                     \n",
            "==================================================================================================\n",
            " input1 (InputLayer)            [(None, 300, 300, 3  0           []                               \n",
            "                                )]                                                                \n",
            "                                                                                                  \n",
            " inception_v3 (Functional)      (None, None, None,   21802784    ['input1[0][0]']                 \n",
            "                                2048)                                                             \n",
            "                                                                                                  \n",
            " global_average_pooling2d (Glob  (None, 2048)        0           ['inception_v3[0][0]']           \n",
            " alAveragePooling2D)                                                                              \n",
            "                                                                                                  \n",
            " reshape (Reshape)              (None, 1, 1, 2048)   0           ['global_average_pooling2d[0][0]'\n",
            "                                                                 ]                                \n",
            "                                                                                                  \n",
            " dense (Dense)                  (None, 1, 1, 2048)   4196352     ['reshape[0][0]']                \n",
            "                                                                                                  \n",
            " multiply (Multiply)            (None, 8, 8, 2048)   0           ['inception_v3[0][0]',           \n",
            "                                                                  'dense[0][0]']                  \n",
            "                                                                                                  \n",
            " add (Add)                      (None, 8, 8, 2048)   0           ['inception_v3[0][0]',           \n",
            "                                                                  'multiply[0][0]']               \n",
            "                                                                                                  \n",
            " batch_normalization_94 (BatchN  (None, 8, 8, 2048)  8192        ['add[0][0]']                    \n",
            " ormalization)                                                                                    \n",
            "                                                                                                  \n",
            " activation_94 (Activation)     (None, 8, 8, 2048)   0           ['batch_normalization_94[0][0]'] \n",
            "                                                                                                  \n",
            " block_1 (MaxPooling2D)         (None, 4, 4, 2048)   0           ['activation_94[0][0]']          \n",
            "                                                                                                  \n",
            " max_pooling2d_4 (MaxPooling2D)  (None, 1, 1, 2048)  0           ['block_1[0][0]']                \n",
            "                                                                                                  \n",
            " flatten (Flatten)              (None, 2048)         0           ['max_pooling2d_4[0][0]']        \n",
            "                                                                                                  \n",
            " dense_1 (Dense)                (None, 256)          524544      ['flatten[0][0]']                \n",
            "                                                                                                  \n",
            " dense_2 (Dense)                (None, 1)            257         ['dense_1[0][0]']                \n",
            "                                                                                                  \n",
            "==================================================================================================\n",
            "Total params: 26,532,129\n",
            "Trainable params: 26,493,601\n",
            "Non-trainable params: 38,528\n",
            "__________________________________________________________________________________________________\n"
          ]
        },
        {
          "output_type": "stream",
          "name": "stderr",
          "text": [
            "/usr/local/lib/python3.8/dist-packages/keras/optimizers/optimizer_v2/adam.py:110: UserWarning: The `lr` argument is deprecated, use `learning_rate` instead.\n",
            "  super(Adam, self).__init__(name, **kwargs)\n",
            "WARNING:tensorflow:`period` argument is deprecated. Please use `save_freq` to specify the frequency in number of batches seen.\n",
            "<ipython-input-22-0ca82afa6f86>:40: UserWarning: `Model.fit_generator` is deprecated and will be removed in a future version. Please use `Model.fit`, which supports generators.\n",
            "  history=model.fit_generator(train_gen,  validation_data = (val_x, val_y), epochs = 10,  callbacks = checkpoint)\n"
          ]
        },
        {
          "output_type": "stream",
          "name": "stdout",
          "text": [
            "Epoch 1/10\n",
            "418/418 [==============================] - 363s 824ms/step - loss: 21.4782 - MAE: 21.4782 - val_loss: 26.3848 - val_MAE: 26.3848\n",
            "Epoch 2/10\n",
            "418/418 [==============================] - 335s 801ms/step - loss: 14.8193 - MAE: 14.8193 - val_loss: 11.5145 - val_MAE: 11.5145\n",
            "Epoch 3/10\n",
            "418/418 [==============================] - 340s 813ms/step - loss: 13.2511 - MAE: 13.2511 - val_loss: 12.7023 - val_MAE: 12.7023\n",
            "Epoch 4/10\n",
            "418/418 [==============================] - 339s 810ms/step - loss: 12.2797 - MAE: 12.2797 - val_loss: 13.3654 - val_MAE: 13.3654\n",
            "Epoch 5/10\n",
            "418/418 [==============================] - 336s 804ms/step - loss: 12.2033 - MAE: 12.2033 - val_loss: 10.8676 - val_MAE: 10.8676\n",
            "Epoch 6/10\n",
            "418/418 [==============================] - 334s 798ms/step - loss: 11.0845 - MAE: 11.0845 - val_loss: 15.6987 - val_MAE: 15.6987\n",
            "Epoch 7/10\n",
            "418/418 [==============================] - 336s 803ms/step - loss: 10.8879 - MAE: 10.8879 - val_loss: 10.9241 - val_MAE: 10.9241\n",
            "Epoch 8/10\n",
            "418/418 [==============================] - 335s 802ms/step - loss: 10.4606 - MAE: 10.4606 - val_loss: 15.0600 - val_MAE: 15.0600\n",
            "Epoch 9/10\n",
            "418/418 [==============================] - 338s 808ms/step - loss: 9.6326 - MAE: 9.6326 - val_loss: 12.5144 - val_MAE: 12.5144\n",
            "Epoch 10/10\n",
            "418/418 [==============================] - 340s 813ms/step - loss: 9.6649 - MAE: 9.6649 - val_loss: 9.1752 - val_MAE: 9.1752\n",
            "1/1 [==============================] - 0s 117ms/step - loss: 8.5409 - MAE: 8.5409\n",
            "Test loss: 8.540870666503906\n",
            "Test MAE: 8.540870666503906\n"
          ]
        }
      ],
      "source": [
        "import tensorflow as tf\n",
        "\n",
        "base_model = InceptionV3(weights='imagenet', include_top=False)\n",
        "input = Input(shape=(300,300,3),name='input1')\n",
        "#input_gender = Input(shape=(1,),dtype='float32',name='input2')\n",
        "output = base_model(input)\n",
        "#gender_embedding=Dense(16)(input_gender)\n",
        "print (K.int_shape(output))\n",
        "sq = keras.layers.GlobalAveragePooling2D()(output)\n",
        "print (K.int_shape(sq))\n",
        "sq = keras.layers.Reshape((1,1,2048))(sq)\n",
        "sq = keras.layers.Dense(units=2048,activation=\"sigmoid\")(sq)\n",
        "block = keras.layers.multiply([output,sq])\n",
        "#fine Squeeze and Excitation 1\n",
        "\n",
        "net = keras.layers.add([output,block])\n",
        "net = keras.layers.BatchNormalization()(net)\n",
        "net = keras.layers.Activation(\"relu\")(net)\n",
        "net = keras.layers.MaxPooling2D(pool_size=(2, 2),name=\"block_1\")(net)\n",
        "print (K.int_shape(net))\n",
        "\n",
        "x = keras.layers.MaxPooling2D(pool_size=(4,4))(net)\n",
        "print (K.int_shape(x))\n",
        "x=Flatten()(x)\n",
        "#f= keras.layers.Concatenate(axis=1)([x,gender_embedding])\n",
        "#print (K.int_shape(f)) \n",
        "x = Dense(256, activation='relu')(x)\n",
        "prediction = Dense(1)(x)\n",
        "\n",
        "model = Model(inputs=[input], outputs=prediction)\n",
        "for i,layer in enumerate(model.layers):\n",
        "    print (i,layer.name)\n",
        "\n",
        "Adam=tf.keras.optimizers.Adam(lr=0.0003,beta_1=0.9,beta_2=0.999)\n",
        "model.compile(optimizer=Adam, loss='mean_absolute_error', metrics=['MAE'])\n",
        "model.summary()\n",
        "\n",
        "checkpoint =keras.callbacks.ModelCheckpoint(filepath='weights_inv-img.{epoch:02d}-{val_loss:.2f}.hdf5',save_weights_only=True,period=10)\n",
        "#model.fit_generator(DataGen.flow([x_train,gender_train],y_train,batch_size=batch_size),steps_per_epoch=np.ceil(len(y_train)/batch_size),epochs=50,verbose=1,validation_data=([x_valid,gender_valid,agev],y_valid))\n",
        "history=model.fit_generator(train_gen,  validation_data = (val_x, val_y), epochs = 10,  callbacks = checkpoint)\n",
        "score = model.evaluate(test_X, test_Y, batch_size=batch_size)\n",
        "print('Test loss:', score[0])\n",
        "print('Test MAE:', score[1])"
      ]
    },
    {
      "cell_type": "code",
      "execution_count": null,
      "metadata": {
        "id": "Fq54GRBhu6AT",
        "colab": {
          "base_uri": "https://localhost:8080/",
          "height": 295
        },
        "outputId": "17aaab0a-414d-489e-d635-1330153d17db"
      },
      "outputs": [
        {
          "output_type": "display_data",
          "data": {
            "text/plain": [
              "<Figure size 432x288 with 1 Axes>"
            ],
            "image/png": "[encoded data removed]"
          },
          "metadata": {
            "needs_background": "light"
          }
        }
      ],
      "source": [
        "plt.plot(history.history['loss'])\n",
        "plt.plot(history.history['val_loss'])\n",
        "plt.title('Model loss')\n",
        "plt.ylabel('Loss')\n",
        "plt.xlabel('Epoch')\n",
        "plt.legend(['Train', 'Validation'], loc='upper left')\n",
        "plt.show()"
      ]
    },
    {
      "cell_type": "code",
      "execution_count": 23,
      "metadata": {
        "id": "SZWTO0_Bu6AU",
        "colab": {
          "base_uri": "https://localhost:8080/"
        },
        "outputId": "ab7f3b56-f9ef-4d82-c963-e5dd100063f4"
      },
      "outputs": [
        {
          "output_type": "stream",
          "name": "stdout",
          "text": [
            "Downloading data from https://storage.googleapis.com/tensorflow/keras-applications/inception_resnet_v2/inception_resnet_v2_weights_tf_dim_ordering_tf_kernels_notop.h5\n",
            "219055592/219055592 [==============================] - 3s 0us/step\n",
            "(None, 8, 8, 1536)\n",
            "(None, 1536)\n",
            "(None, 4, 4, 1536)\n",
            "(None, 1, 1, 1536)\n",
            "0 input1\n",
            "1 inception_resnet_v2\n",
            "2 global_average_pooling2d_1\n",
            "3 reshape_1\n",
            "4 dense_3\n",
            "5 multiply_1\n",
            "6 add_1\n",
            "7 batch_normalization_298\n",
            "8 activation_298\n",
            "9 block_1\n",
            "10 max_pooling2d_9\n",
            "11 flatten_1\n",
            "12 dense_4\n",
            "13 dense_5\n",
            "Model: \"model_1\"\n",
            "__________________________________________________________________________________________________\n",
            " Layer (type)                   Output Shape         Param #     Connected to                     \n",
            "==================================================================================================\n",
            " input1 (InputLayer)            [(None, 300, 300, 3  0           []                               \n",
            "                                )]                                                                \n",
            "                                                                                                  \n",
            " inception_resnet_v2 (Functiona  (None, None, None,   54336736   ['input1[0][0]']                 \n",
            " l)                             1536)                                                             \n",
            "                                                                                                  \n",
            " global_average_pooling2d_1 (Gl  (None, 1536)        0           ['inception_resnet_v2[0][0]']    \n",
            " obalAveragePooling2D)                                                                            \n",
            "                                                                                                  \n",
            " reshape_1 (Reshape)            (None, 1, 1, 1536)   0           ['global_average_pooling2d_1[0][0\n",
            "                                                                 ]']                              \n",
            "                                                                                                  \n",
            " dense_3 (Dense)                (None, 1, 1, 1536)   2360832     ['reshape_1[0][0]']              \n",
            "                                                                                                  \n",
            " multiply_1 (Multiply)          (None, 8, 8, 1536)   0           ['inception_resnet_v2[0][0]',    \n",
            "                                                                  'dense_3[0][0]']                \n",
            "                                                                                                  \n",
            " add_1 (Add)                    (None, 8, 8, 1536)   0           ['inception_resnet_v2[0][0]',    \n",
            "                                                                  'multiply_1[0][0]']             \n",
            "                                                                                                  \n",
            " batch_normalization_298 (Batch  (None, 8, 8, 1536)  6144        ['add_1[0][0]']                  \n",
            " Normalization)                                                                                   \n",
            "                                                                                                  \n",
            " activation_298 (Activation)    (None, 8, 8, 1536)   0           ['batch_normalization_298[0][0]']\n",
            "                                                                                                  \n",
            " block_1 (MaxPooling2D)         (None, 4, 4, 1536)   0           ['activation_298[0][0]']         \n",
            "                                                                                                  \n",
            " max_pooling2d_9 (MaxPooling2D)  (None, 1, 1, 1536)  0           ['block_1[0][0]']                \n",
            "                                                                                                  \n",
            " flatten_1 (Flatten)            (None, 1536)         0           ['max_pooling2d_9[0][0]']        \n",
            "                                                                                                  \n",
            " dense_4 (Dense)                (None, 256)          393472      ['flatten_1[0][0]']              \n",
            "                                                                                                  \n",
            " dense_5 (Dense)                (None, 1)            257         ['dense_4[0][0]']                \n",
            "                                                                                                  \n",
            "==================================================================================================\n",
            "Total params: 57,097,441\n",
            "Trainable params: 57,033,825\n",
            "Non-trainable params: 63,616\n",
            "__________________________________________________________________________________________________\n"
          ]
        },
        {
          "output_type": "stream",
          "name": "stderr",
          "text": [
            "WARNING:tensorflow:`period` argument is deprecated. Please use `save_freq` to specify the frequency in number of batches seen.\n",
            "<ipython-input-23-ff46b1a6ca9e>:41: UserWarning: `Model.fit_generator` is deprecated and will be removed in a future version. Please use `Model.fit`, which supports generators.\n",
            "  history=model.fit_generator(train_gen,  validation_data = (val_x, val_y), epochs = 10,  callbacks = checkpoint)\n"
          ]
        },
        {
          "output_type": "stream",
          "name": "stdout",
          "text": [
            "Epoch 1/10\n",
            "418/418 [==============================] - 402s 916ms/step - loss: 19.6513 - MAE: 19.6513 - val_loss: 9.0984 - val_MAE: 9.0984\n",
            "Epoch 2/10\n",
            "418/418 [==============================] - 379s 906ms/step - loss: 13.1697 - MAE: 13.1697 - val_loss: 13.7876 - val_MAE: 13.7876\n",
            "Epoch 3/10\n",
            "418/418 [==============================] - 381s 911ms/step - loss: 11.6517 - MAE: 11.6517 - val_loss: 12.7077 - val_MAE: 12.7077\n",
            "Epoch 4/10\n",
            "418/418 [==============================] - 384s 917ms/step - loss: 10.4299 - MAE: 10.4299 - val_loss: 11.7721 - val_MAE: 11.7721\n",
            "Epoch 5/10\n",
            "418/418 [==============================] - 378s 902ms/step - loss: 9.7968 - MAE: 9.7968 - val_loss: 9.4686 - val_MAE: 9.4686\n",
            "Epoch 6/10\n",
            "418/418 [==============================] - 386s 923ms/step - loss: 9.3796 - MAE: 9.3796 - val_loss: 12.3876 - val_MAE: 12.3876\n",
            "Epoch 7/10\n",
            "418/418 [==============================] - 386s 923ms/step - loss: 8.8840 - MAE: 8.8840 - val_loss: 7.5023 - val_MAE: 7.5023\n",
            "Epoch 8/10\n",
            "418/418 [==============================] - 381s 910ms/step - loss: 8.6944 - MAE: 8.6944 - val_loss: 8.1190 - val_MAE: 8.1190\n",
            "Epoch 9/10\n",
            "418/418 [==============================] - 382s 913ms/step - loss: 8.3572 - MAE: 8.3572 - val_loss: 10.5741 - val_MAE: 10.5741\n",
            "Epoch 10/10\n",
            "418/418 [==============================] - 379s 905ms/step - loss: 7.8986 - MAE: 7.8986 - val_loss: 9.9568 - val_MAE: 9.9568\n",
            "1/1 [==============================] - 0s 252ms/step - loss: 8.8952 - MAE: 8.8952\n",
            "Test loss: 8.895191192626953\n",
            "Test MAE: 8.895191192626953\n",
            "Test MAE: 8.895191192626953\n"
          ]
        }
      ],
      "source": [
        "import tensorflow as tf\n",
        "from tensorflow.keras.applications.inception_resnet_v2 import InceptionResNetV2\n",
        "\n",
        "base_model = InceptionResNetV2(weights='imagenet', include_top=False)\n",
        "input = Input(shape=(300,300,3),name='input1')\n",
        "input_gender = Input(shape=(1,),dtype='float32',name='input2')\n",
        "output = base_model(input)\n",
        "#gender_embedding=Dense(16)(input_gender)\n",
        "print (K.int_shape(output))\n",
        "sq = keras.layers.GlobalAveragePooling2D()(output)\n",
        "print (K.int_shape(sq))\n",
        "sq = keras.layers.Reshape((1,1,1536))(sq)\n",
        "sq = keras.layers.Dense(units=1536,activation=\"sigmoid\")(sq)\n",
        "block = keras.layers.multiply([output,sq])\n",
        "#fine Squeeze and Excitation 1\n",
        "\n",
        "net = keras.layers.add([output,block])\n",
        "net = keras.layers.BatchNormalization()(net)\n",
        "net = keras.layers.Activation(\"relu\")(net)\n",
        "net = keras.layers.MaxPooling2D(pool_size=(2, 2),name=\"block_1\")(net)\n",
        "print (K.int_shape(net))\n",
        "\n",
        "x = keras.layers.MaxPooling2D(pool_size=(4,4))(net)\n",
        "print (K.int_shape(x))\n",
        "x=Flatten()(x)\n",
        "#f= keras.layers.Concatenate(axis=1)([x,gender_embedding])\n",
        "#print (K.int_shape(f)) \n",
        "x = Dense(256, activation='relu')(x)\n",
        "prediction = Dense(1)(x)\n",
        "\n",
        "model = Model(inputs=[input], outputs=prediction)\n",
        "for i,layer in enumerate(model.layers):\n",
        "    print (i,layer.name)\n",
        "\n",
        "Adam=tf.keras.optimizers.Adam(lr=0.0003,beta_1=0.9,beta_2=0.999)\n",
        "model.compile(optimizer=Adam, loss='mean_absolute_error', metrics=['MAE'])\n",
        "model.summary()\n",
        "\n",
        "checkpoint =keras.callbacks.ModelCheckpoint(filepath='weights_invres-img.{epoch:02d}-{val_loss:.2f}.hdf5',save_weights_only=True,period=10)\n",
        "#model.fit_generator(DataGen.flow([x_train,gender_train],y_train,batch_size=batch_size),steps_per_epoch=np.ceil(len(y_train)/batch_size),epochs=50,verbose=1,validation_data=([x_valid,gender_valid,agev],y_valid))\n",
        "history=model.fit_generator(train_gen,  validation_data = (val_x, val_y), epochs = 10,  callbacks = checkpoint)\n",
        "score = model.evaluate(test_X, test_Y, batch_size=batch_size)\n",
        "print('Test loss:', score[0])\n",
        "print('Test MAE:', score[1])\n",
        "print('Test MAE:', score[1])"
      ]
    },
    {
      "cell_type": "code",
      "execution_count": 24,
      "metadata": {
        "id": "txFFa-mCu6AU",
        "colab": {
          "base_uri": "https://localhost:8080/",
          "height": 295
        },
        "outputId": "6319b525-f0b7-4b80-9899-a1a718bf8f53"
      },
      "outputs": [
        {
          "output_type": "display_data",
          "data": {
            "text/plain": [
              "<Figure size 432x288 with 1 Axes>"
            ],
            "image/png": "[encoded data removed]"
          },
          "metadata": {
            "needs_background": "light"
          }
        }
      ],
      "source": [
        "plt.plot(history.history['loss'])\n",
        "plt.plot(history.history['val_loss'])\n",
        "plt.title('Model loss')\n",
        "plt.ylabel('Loss')\n",
        "plt.xlabel('Epoch')\n",
        "plt.legend(['Train', 'Validation'], loc='upper left')\n",
        "plt.show()"
      ]
    },
    {
      "cell_type": "code",
      "execution_count": null,
      "metadata": {
        "id": "LC_bTUPLyVhf",
        "colab": {
          "base_uri": "https://localhost:8080/"
        },
        "outputId": "8093e7ca-684d-4923-88b7-ead03dc633ea"
      },
      "outputs": [
        {
          "output_type": "stream",
          "name": "stdout",
          "text": [
            "(None, 9, 9, 1920)\n",
            "(None, 1920)\n",
            "(None, 4, 4, 1920)\n",
            "(None, 1, 1, 1920)\n",
            "0 input1\n",
            "1 densenet201\n",
            "2 global_average_pooling2d_3\n",
            "3 reshape_3\n",
            "4 dense_6\n",
            "5 multiply_2\n",
            "6 add_2\n",
            "7 batch_normalization_299\n",
            "8 activation_299\n",
            "9 block_1\n",
            "10 max_pooling2d_10\n",
            "11 flatten_2\n",
            "12 dense_7\n",
            "13 dense_8\n",
            "Model: \"model_2\"\n",
            "__________________________________________________________________________________________________\n",
            " Layer (type)                   Output Shape         Param #     Connected to                     \n",
            "==================================================================================================\n",
            " input1 (InputLayer)            [(None, 300, 300, 3  0           []                               \n",
            "                                )]                                                                \n",
            "                                                                                                  \n",
            " densenet201 (Functional)       (None, None, None,   18321984    ['input1[0][0]']                 \n",
            "                                1920)                                                             \n",
            "                                                                                                  \n",
            " global_average_pooling2d_3 (Gl  (None, 1920)        0           ['densenet201[0][0]']            \n",
            " obalAveragePooling2D)                                                                            \n",
            "                                                                                                  \n",
            " reshape_3 (Reshape)            (None, 1, 1, 1920)   0           ['global_average_pooling2d_3[0][0\n",
            "                                                                 ]']                              \n",
            "                                                                                                  \n",
            " dense_6 (Dense)                (None, 1, 1, 1920)   3688320     ['reshape_3[0][0]']              \n",
            "                                                                                                  \n",
            " multiply_2 (Multiply)          (None, 9, 9, 1920)   0           ['densenet201[0][0]',            \n",
            "                                                                  'dense_6[0][0]']                \n",
            "                                                                                                  \n",
            " add_2 (Add)                    (None, 9, 9, 1920)   0           ['densenet201[0][0]',            \n",
            "                                                                  'multiply_2[0][0]']             \n",
            "                                                                                                  \n",
            " batch_normalization_299 (Batch  (None, 9, 9, 1920)  7680        ['add_2[0][0]']                  \n",
            " Normalization)                                                                                   \n",
            "                                                                                                  \n",
            " activation_299 (Activation)    (None, 9, 9, 1920)   0           ['batch_normalization_299[0][0]']\n",
            "                                                                                                  \n",
            " block_1 (MaxPooling2D)         (None, 4, 4, 1920)   0           ['activation_299[0][0]']         \n",
            "                                                                                                  \n",
            " max_pooling2d_10 (MaxPooling2D  (None, 1, 1, 1920)  0           ['block_1[0][0]']                \n",
            " )                                                                                                \n",
            "                                                                                                  \n",
            " flatten_2 (Flatten)            (None, 1920)         0           ['max_pooling2d_10[0][0]']       \n",
            "                                                                                                  \n",
            " dense_7 (Dense)                (None, 256)          491776      ['flatten_2[0][0]']              \n",
            "                                                                                                  \n",
            " dense_8 (Dense)                (None, 1)            257         ['dense_7[0][0]']                \n",
            "                                                                                                  \n",
            "==================================================================================================\n",
            "Total params: 22,510,017\n",
            "Trainable params: 22,277,121\n",
            "Non-trainable params: 232,896\n",
            "__________________________________________________________________________________________________\n"
          ]
        },
        {
          "output_type": "stream",
          "name": "stderr",
          "text": [
            "WARNING:tensorflow:`period` argument is deprecated. Please use `save_freq` to specify the frequency in number of batches seen.\n",
            "<ipython-input-27-a1a127a696bf>:41: UserWarning: `Model.fit_generator` is deprecated and will be removed in a future version. Please use `Model.fit`, which supports generators.\n",
            "  history=model.fit_generator(train_gen,  validation_data = (val_x, val_y), epochs = 10,  callbacks = checkpoint)\n"
          ]
        },
        {
          "output_type": "stream",
          "name": "stdout",
          "text": [
            "Epoch 1/10\n",
            "418/418 [==============================] - 411s 917ms/step - loss: 20.6191 - MAE: 20.6191 - val_loss: 11.1251 - val_MAE: 11.1251\n",
            "Epoch 2/10\n",
            "418/418 [==============================] - 368s 879ms/step - loss: 14.1104 - MAE: 14.1104 - val_loss: 17.7668 - val_MAE: 17.7668\n",
            "Epoch 3/10\n",
            "418/418 [==============================] - 368s 879ms/step - loss: 12.9957 - MAE: 12.9957 - val_loss: 11.8173 - val_MAE: 11.8173\n",
            "Epoch 4/10\n",
            "418/418 [==============================] - 371s 886ms/step - loss: 12.0686 - MAE: 12.0686 - val_loss: 11.2075 - val_MAE: 11.2075\n",
            "Epoch 5/10\n",
            "418/418 [==============================] - 371s 886ms/step - loss: 11.0687 - MAE: 11.0687 - val_loss: 11.1665 - val_MAE: 11.1665\n",
            "Epoch 6/10\n",
            "418/418 [==============================] - 367s 878ms/step - loss: 10.8761 - MAE: 10.8761 - val_loss: 11.2973 - val_MAE: 11.2973\n",
            "Epoch 7/10\n",
            "418/418 [==============================] - 367s 876ms/step - loss: 10.5782 - MAE: 10.5782 - val_loss: 12.7908 - val_MAE: 12.7908\n",
            "Epoch 8/10\n",
            "418/418 [==============================] - 370s 884ms/step - loss: 10.0823 - MAE: 10.0823 - val_loss: 12.8336 - val_MAE: 12.8336\n",
            "Epoch 9/10\n",
            "418/418 [==============================] - 367s 878ms/step - loss: 9.7465 - MAE: 9.7465 - val_loss: 10.4773 - val_MAE: 10.4773\n",
            "Epoch 10/10\n",
            "379/418 [==========================>...] - ETA: 34s - loss: 9.6423 - MAE: 9.6423"
          ]
        }
      ],
      "source": [
        "import tensorflow as tf\n",
        "\n",
        "from tensorflow.keras.applications.densenet import DenseNet201\n",
        "\n",
        "base_model = DenseNet201(weights='imagenet', include_top=False)\n",
        "input = Input(shape=(300,300,3),name='input1')\n",
        "input_gender = Input(shape=(1,),dtype='float32',name='input2')\n",
        "output = base_model(input)\n",
        "#gender_embedding=Dense(16)(input_gender)\n",
        "print (K.int_shape(output))\n",
        "sq = keras.layers.GlobalAveragePooling2D()(output)\n",
        "print (K.int_shape(sq))\n",
        "sq = keras.layers.Reshape((1,1,1920))(sq)\n",
        "sq = keras.layers.Dense(units=1920,activation=\"sigmoid\")(sq)\n",
        "block = keras.layers.multiply([output,sq])\n",
        "#fine Squeeze and Excitation 1\n",
        "\n",
        "net = keras.layers.add([output,block])\n",
        "net = keras.layers.BatchNormalization()(net)\n",
        "net = keras.layers.Activation(\"relu\")(net)\n",
        "net = keras.layers.MaxPooling2D(pool_size=(2, 2),name=\"block_1\")(net)\n",
        "x = keras.layers.MaxPooling2D(pool_size=(4,4))(net)\n",
        "print (K.int_shape(net))\n",
        "print (K.int_shape(x))\n",
        "x=Flatten()(x)\n",
        "#f= keras.layers.Concatenate(axis=1)([x,gender_embedding])\n",
        "#print (K.int_shape(f)) \n",
        "x = Dense(256, activation='relu')(x)\n",
        "prediction = Dense(1)(x)\n",
        "\n",
        "model = Model(inputs=[input], outputs=prediction)\n",
        "for i,layer in enumerate(model.layers):\n",
        "    print (i,layer.name)\n",
        "\n",
        "Adam=tf.keras.optimizers.Adam(lr=0.0003,beta_1=0.9,beta_2=0.999)\n",
        "model.compile(optimizer=Adam, loss='mean_absolute_error', metrics=['MAE'])\n",
        "model.summary()\n",
        "\n",
        "checkpoint =keras.callbacks.ModelCheckpoint(filepath='weights_res-img.{epoch:02d}-{val_loss:.2f}.hdf5',save_weights_only=True,period=10)\n",
        "#model.fit_generator(DataGen.flow([x_train,gender_train],y_train,batch_size=batch_size),steps_per_epoch=np.ceil(len(y_train)/batch_size),epochs=50,verbose=1,validation_data=([x_valid,gender_valid,agev],y_valid))\n",
        "history=model.fit_generator(train_gen,  validation_data = (val_x, val_y), epochs = 10,  callbacks = checkpoint)\n",
        "score = model.evaluate(test_X, test_Y, batch_size=batch_size)\n",
        "print('Test loss:', score[0])\n",
        "print('Test MAE:', score[1])"
      ]
    },
    {
      "cell_type": "code",
      "execution_count": null,
      "metadata": {
        "id": "trXmb0liyVhh",
        "colab": {
          "base_uri": "https://localhost:8080/",
          "height": 295
        },
        "outputId": "c8e07a48-1d6a-4d49-85bb-0c1e14e1ceef"
      },
      "outputs": [
        {
          "output_type": "display_data",
          "data": {
            "text/plain": [
              "<Figure size 432x288 with 1 Axes>"
            ],
            "image/png": "[encoded data removed]"
          },
          "metadata": {
            "needs_background": "light"
          }
        }
      ],
      "source": [
        "plt.plot(history.history['loss'])\n",
        "plt.plot(history.history['val_loss'])\n",
        "plt.title('Model loss')\n",
        "plt.ylabel('Loss')\n",
        "plt.xlabel('Epoch')\n",
        "plt.legend(['Train', 'Validation'], loc='upper left')\n",
        "plt.show()"
      ]
    }
  ]
}