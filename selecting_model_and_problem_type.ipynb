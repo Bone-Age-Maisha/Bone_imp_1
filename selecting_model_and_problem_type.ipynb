{
  "nbformat": 4,
  "nbformat_minor": 0,
  "metadata": {
    "colab": {
      "provenance": [],
      "authorship_tag": "ABX9TyPeWxYk9Jg9kNX72Fvxlwk2",
      "include_colab_link": true
    },
    "kernelspec": {
      "name": "python3",
      "display_name": "Python 3"
    },
    "language_info": {
      "name": "python"
    },
    "accelerator": "GPU",
    "gpuClass": "standard"
  },
  "cells": [
    {
      "cell_type": "markdown",
      "metadata": {
        "id": "view-in-github",
        "colab_type": "text"
      },
      "source": [
        "<a href=\"https://colab.research.google.com/github/Bone-Age-Maisha/Bone_imp_1/blob/main/selecting_model_and_problem_type.ipynb\" target=\"_parent\"><img src=\"https://colab.research.google.com/assets/colab-badge.svg\" alt=\"Open In Colab\"/></a>"
      ]
    },
    {
      "cell_type": "code",
      "execution_count": 15,
      "metadata": {
        "id": "5ME1eES_XVgf",
        "colab": {
          "base_uri": "https://localhost:8080/"
        },
        "outputId": "1d4c63d3-e8fb-4956-d3c7-02f66c11310d"
      },
      "outputs": [
        {
          "output_type": "stream",
          "name": "stdout",
          "text": [
            "Drive already mounted at /content/drive; to attempt to forcibly remount, call drive.mount(\"/content/drive\", force_remount=True).\n"
          ]
        }
      ],
      "source": [
        "from google.colab import drive\n",
        "drive.mount('/content/drive')"
      ]
    },
    {
      "cell_type": "code",
      "source": [
        "import numpy as np\n",
        "import cv2\n",
        "import os\n",
        "import pandas as pd\n",
        "\n"
      ],
      "metadata": {
        "id": "0pBLh9XyXkXw"
      },
      "execution_count": 16,
      "outputs": []
    },
    {
      "cell_type": "code",
      "source": [
        "import pandas as pd\n",
        "train_dir = '/content/drive/MyDrive/hand_atlas/image'\n",
        "df = pd.read_csv('/content/drive/MyDrive/hand_atlas/data.csv')"
      ],
      "metadata": {
        "id": "mcUYEnuQabz5"
      },
      "execution_count": 17,
      "outputs": []
    },
    {
      "cell_type": "code",
      "source": [
        "import tensorflow as tf\n",
        "gpus = tf.config.experimental.list_physical_devices('GPU')\n",
        "tf.config.experimental.set_visible_devices(gpus[0], 'GPU')\n",
        "tf.config.experimental.set_memory_growth(gpus[0], True)"
      ],
      "metadata": {
        "id": "nWXSUCivakS0"
      },
      "execution_count": 18,
      "outputs": []
    },
    {
      "cell_type": "code",
      "source": [
        "X_train = []\n",
        "y_age = []\n",
        "y_gender = []\n",
        "\n",
        "#df = pd.read_csv('/raid/chenchao/code/BoneAge/BoneAge/data/Training.csv')\n",
        "a = df.values\n",
        "m = a.shape[0]\n",
        "\n",
        "path = train_dir\n",
        "k = 0\n",
        "print ('Loading data set...')\n",
        "k=1\n",
        "for i in os.listdir(path):\n",
        "  #print(i)\n",
        "  if(i==\"3131.jpg\" or i==\"4520.jpg\" or i==\"3187.jpg\"):\n",
        "    continue\n",
        "  y_age.append(df.boneage[df.id == int(i[:-4])].tolist()[0])\n",
        "  y_gender.append(df.gender[df.id == int(i[:-4])].tolist()[0])\n",
        "  #print(i)\n",
        "  img_path = path + \"/\"+i\n",
        "  img = cv2.imread(img_path)\n",
        "  #print(img.shape)\n",
        "  #print (img_path)\n",
        "  img = cv2.imread(img_path)\n",
        "    #print (img_path)\n",
        "    #if(img is not None):\n",
        "  img = cv2.cvtColor(img, cv2.COLOR_BGR2RGB)\n",
        "  img = cv2.resize(img,(300,300))\n",
        "  x = np.asarray(img, dtype=np.uint8)\n",
        "  X_train.append(x)\n",
        "  k=k+1"
      ],
      "metadata": {
        "colab": {
          "base_uri": "https://localhost:8080/"
        },
        "id": "y-rrGBSsalk8",
        "outputId": "c7addddc-f676-4935-b01c-e79402cffd27"
      },
      "execution_count": 19,
      "outputs": [
        {
          "output_type": "stream",
          "name": "stdout",
          "text": [
            "Loading data set...\n"
          ]
        }
      ]
    },
    {
      "cell_type": "code",
      "source": [
        "!pip install visualization"
      ],
      "metadata": {
        "colab": {
          "base_uri": "https://localhost:8080/"
        },
        "id": "eONvDJ3zawit",
        "outputId": "43349a56-acc8-4139-e81d-0aa42ac00f8f"
      },
      "execution_count": 20,
      "outputs": [
        {
          "output_type": "stream",
          "name": "stdout",
          "text": [
            "Looking in indexes: https://pypi.org/simple, https://us-python.pkg.dev/colab-wheels/public/simple/\n",
            "Requirement already satisfied: visualization in /usr/local/lib/python3.7/dist-packages (1.0.0)\n",
            "Requirement already satisfied: pyrender in /usr/local/lib/python3.7/dist-packages (from visualization) (0.1.45)\n",
            "Requirement already satisfied: autolab-core in /usr/local/lib/python3.7/dist-packages (from visualization) (1.1.1)\n",
            "Requirement already satisfied: matplotlib in /usr/local/lib/python3.7/dist-packages (from visualization) (3.2.2)\n",
            "Requirement already satisfied: imageio in /usr/local/lib/python3.7/dist-packages (from visualization) (2.9.0)\n",
            "Requirement already satisfied: numpy in /usr/local/lib/python3.7/dist-packages (from visualization) (1.21.6)\n",
            "Requirement already satisfied: trimesh[easy] in /usr/local/lib/python3.7/dist-packages (from visualization) (3.16.4)\n",
            "Requirement already satisfied: multiprocess in /usr/local/lib/python3.7/dist-packages (from autolab-core->visualization) (0.70.14)\n",
            "Requirement already satisfied: opencv-python in /usr/local/lib/python3.7/dist-packages (from autolab-core->visualization) (4.6.0.66)\n",
            "Requirement already satisfied: scipy in /usr/local/lib/python3.7/dist-packages (from autolab-core->visualization) (1.7.3)\n",
            "Requirement already satisfied: setproctitle in /usr/local/lib/python3.7/dist-packages (from autolab-core->visualization) (1.3.2)\n",
            "Requirement already satisfied: scikit-image in /usr/local/lib/python3.7/dist-packages (from autolab-core->visualization) (0.18.3)\n",
            "Requirement already satisfied: Pillow in /usr/local/lib/python3.7/dist-packages (from autolab-core->visualization) (7.1.2)\n",
            "Requirement already satisfied: scikit-learn in /usr/local/lib/python3.7/dist-packages (from autolab-core->visualization) (1.0.2)\n",
            "Requirement already satisfied: colorlog in /usr/local/lib/python3.7/dist-packages (from autolab-core->visualization) (6.7.0)\n",
            "Requirement already satisfied: joblib in /usr/local/lib/python3.7/dist-packages (from autolab-core->visualization) (1.2.0)\n",
            "Requirement already satisfied: ruamel.yaml in /usr/local/lib/python3.7/dist-packages (from autolab-core->visualization) (0.17.21)\n",
            "Requirement already satisfied: python-dateutil>=2.1 in /usr/local/lib/python3.7/dist-packages (from matplotlib->visualization) (2.8.2)\n",
            "Requirement already satisfied: cycler>=0.10 in /usr/local/lib/python3.7/dist-packages (from matplotlib->visualization) (0.11.0)\n",
            "Requirement already satisfied: pyparsing!=2.0.4,!=2.1.2,!=2.1.6,>=2.0.1 in /usr/local/lib/python3.7/dist-packages (from matplotlib->visualization) (3.0.9)\n",
            "Requirement already satisfied: kiwisolver>=1.0.1 in /usr/local/lib/python3.7/dist-packages (from matplotlib->visualization) (1.4.4)\n",
            "Requirement already satisfied: typing-extensions in /usr/local/lib/python3.7/dist-packages (from kiwisolver>=1.0.1->matplotlib->visualization) (4.1.1)\n",
            "Requirement already satisfied: six>=1.5 in /usr/local/lib/python3.7/dist-packages (from python-dateutil>=2.1->matplotlib->visualization) (1.15.0)\n",
            "Requirement already satisfied: dill>=0.3.6 in /usr/local/lib/python3.7/dist-packages (from multiprocess->autolab-core->visualization) (0.3.6)\n",
            "Requirement already satisfied: freetype-py in /usr/local/lib/python3.7/dist-packages (from pyrender->visualization) (2.3.0)\n",
            "Requirement already satisfied: pyglet>=1.4.10 in /usr/local/lib/python3.7/dist-packages (from pyrender->visualization) (1.5.27)\n",
            "Requirement already satisfied: networkx in /usr/local/lib/python3.7/dist-packages (from pyrender->visualization) (2.6.3)\n",
            "Requirement already satisfied: PyOpenGL==3.1.0 in /usr/local/lib/python3.7/dist-packages (from pyrender->visualization) (3.1.0)\n",
            "Requirement already satisfied: ruamel.yaml.clib>=0.2.6 in /usr/local/lib/python3.7/dist-packages (from ruamel.yaml->autolab-core->visualization) (0.2.7)\n",
            "Requirement already satisfied: tifffile>=2019.7.26 in /usr/local/lib/python3.7/dist-packages (from scikit-image->autolab-core->visualization) (2021.11.2)\n",
            "Requirement already satisfied: PyWavelets>=1.1.1 in /usr/local/lib/python3.7/dist-packages (from scikit-image->autolab-core->visualization) (1.3.0)\n",
            "Requirement already satisfied: threadpoolctl>=2.0.0 in /usr/local/lib/python3.7/dist-packages (from scikit-learn->autolab-core->visualization) (3.1.0)\n",
            "Requirement already satisfied: requests in /usr/local/lib/python3.7/dist-packages (from trimesh[easy]->visualization) (2.23.0)\n",
            "Requirement already satisfied: pycollada in /usr/local/lib/python3.7/dist-packages (from trimesh[easy]->visualization) (0.7.2)\n",
            "Requirement already satisfied: jsonschema in /usr/local/lib/python3.7/dist-packages (from trimesh[easy]->visualization) (4.3.3)\n",
            "Requirement already satisfied: setuptools in /usr/local/lib/python3.7/dist-packages (from trimesh[easy]->visualization) (57.4.0)\n",
            "Requirement already satisfied: sympy in /usr/local/lib/python3.7/dist-packages (from trimesh[easy]->visualization) (1.7.1)\n",
            "Requirement already satisfied: lxml in /usr/local/lib/python3.7/dist-packages (from trimesh[easy]->visualization) (4.9.1)\n",
            "Requirement already satisfied: msgpack in /usr/local/lib/python3.7/dist-packages (from trimesh[easy]->visualization) (1.0.4)\n",
            "Requirement already satisfied: svg.path in /usr/local/lib/python3.7/dist-packages (from trimesh[easy]->visualization) (6.2)\n",
            "Requirement already satisfied: xxhash in /usr/local/lib/python3.7/dist-packages (from trimesh[easy]->visualization) (3.1.0)\n",
            "Requirement already satisfied: mapbox-earcut in /usr/local/lib/python3.7/dist-packages (from trimesh[easy]->visualization) (1.0.0)\n",
            "Requirement already satisfied: rtree in /usr/local/lib/python3.7/dist-packages (from trimesh[easy]->visualization) (1.0.1)\n",
            "Requirement already satisfied: shapely in /usr/local/lib/python3.7/dist-packages (from trimesh[easy]->visualization) (1.8.5.post1)\n",
            "Requirement already satisfied: chardet in /usr/local/lib/python3.7/dist-packages (from trimesh[easy]->visualization) (3.0.4)\n",
            "Requirement already satisfied: pyrsistent!=0.17.0,!=0.17.1,!=0.17.2,>=0.14.0 in /usr/local/lib/python3.7/dist-packages (from jsonschema->trimesh[easy]->visualization) (0.19.2)\n",
            "Requirement already satisfied: importlib-resources>=1.4.0 in /usr/local/lib/python3.7/dist-packages (from jsonschema->trimesh[easy]->visualization) (5.10.0)\n",
            "Requirement already satisfied: importlib-metadata in /usr/local/lib/python3.7/dist-packages (from jsonschema->trimesh[easy]->visualization) (4.13.0)\n",
            "Requirement already satisfied: attrs>=17.4.0 in /usr/local/lib/python3.7/dist-packages (from jsonschema->trimesh[easy]->visualization) (22.1.0)\n",
            "Requirement already satisfied: zipp>=3.1.0 in /usr/local/lib/python3.7/dist-packages (from importlib-resources>=1.4.0->jsonschema->trimesh[easy]->visualization) (3.10.0)\n",
            "Requirement already satisfied: idna<3,>=2.5 in /usr/local/lib/python3.7/dist-packages (from requests->trimesh[easy]->visualization) (2.10)\n",
            "Requirement already satisfied: certifi>=2017.4.17 in /usr/local/lib/python3.7/dist-packages (from requests->trimesh[easy]->visualization) (2022.9.24)\n",
            "Requirement already satisfied: urllib3!=1.25.0,!=1.25.1,<1.26,>=1.21.1 in /usr/local/lib/python3.7/dist-packages (from requests->trimesh[easy]->visualization) (1.24.3)\n",
            "Requirement already satisfied: mpmath>=0.19 in /usr/local/lib/python3.7/dist-packages (from sympy->trimesh[easy]->visualization) (1.2.1)\n"
          ]
        }
      ]
    },
    {
      "cell_type": "code",
      "source": [
        "import numpy as np\n",
        "import cv2\n",
        "from keras import backend as K\n",
        "from keras.preprocessing import image\n",
        "import os\n",
        "\n",
        "def softlabel(label,num_class):\n",
        "    softlabel=np.zeros((len(label),num_class))\n",
        "    ratio = 1.0/50\n",
        "    for i in range(len(label)):\n",
        "        for j in range(num_class):\n",
        "            softlabel[i,j]=1.0 - ratio*np.abs(j-label[i])\n",
        "    softlabel = np.maximum(softlabel,0)\n",
        "    return softlabel\n",
        "\n",
        "\n",
        "def ShowAttentionV1(model,image_path):\n",
        "    file_list = os.listdir(image_path)\n",
        "    file_list.sort()\n",
        "    for filename in file_list:\n",
        "        print (filename)\n",
        "        filepath=image_path+filename\n",
        "        image=load_image(filepath)\n",
        "        image = image/255.0\n",
        "        gender=1.0\n",
        "        gender=np.asarray(gender)\n",
        "        gender=np.expand_dims(gender,axis=0)\n",
        "        layer=K.function([model.layers[0].input],[model.layers[196].output])\n",
        "        FeatureMap=layer([image,gender])[0]\n",
        "        print (FeatureMap.shape)\n",
        "        FeatureMap = np.squeeze(FeatureMap, axis=0)\n",
        "        FeatureMap = np.abs(FeatureMap)\n",
        "        heatmap = np.mean(FeatureMap,axis=2)\n",
        "        heatmap = heatmap/np.max(heatmap)\n",
        "        heatmap = np.uint8(255*heatmap)\n",
        "        print (heatmap.shape)\n",
        "        heatmap = cv2.applyColorMap(heatmap,cv2.COLORMAP_JET)\n",
        "        SaveImg(filename,filepath,heatmap)\n",
        "    print ('********** Done ***********')\n",
        "\n",
        "def GAPAttention(model,weights,image_path):\n",
        "    file_list = os.listdir(train_dir)\n",
        "    file_list.sort()\n",
        "    for filename in file_list:\n",
        "        filepath=image_path+filename\n",
        "        print (filepath)\n",
        "        image=load_image(filepath)\n",
        "        print(\"gpa\")\n",
        "        print(image.shape)\n",
        "        image = image/255.0\n",
        "        gender=1.0\n",
        "        gender=np.asarray(gender)\n",
        "        gender=np.expand_dims(gender,axis=0)\n",
        "        print(\"ok\")\n",
        "        layer=K.function([model.layers[0].input],[model.layers[1].get_output_at(-1),model.layers[-1].output])\n",
        "        print(\"ok_1\")\n",
        "        GAP,prediction=layer([image])\n",
        "        print(\"ok_2\")\n",
        "        GAP=np.squeeze(GAP,axis=0)\n",
        "        print(\"ok_3\")\n",
        "        print (GAP.shape)\n",
        "        print(\"ok_4\")\n",
        "        index = np.argmax(prediction)\n",
        "        print(\"ok_5\")\n",
        "        print (index)\n",
        "       # weight = weights[:,index]\n",
        "        weight =np.mean(weights[:,index-5:index+5],axis=1)\n",
        "        heatmap = np.zeros((GAP.shape[0],GAP.shape[1]))\n",
        "        for k in range(GAP.shape[2]):\n",
        "            heatmap = heatmap + weight[k]*GAP[:,:,k]\n",
        "        heatmap = heatmap/np.max(heatmap)\n",
        "        heatmap = np.uint8(255*heatmap)\n",
        "        print (heatmap.shape)\n",
        "        heatmap = cv2.applyColorMap(heatmap,cv2.COLORMAP_JET)\n",
        "        SaveImg(filename,filepath,heatmap)\n",
        "    print ('********** Done ***********')\n",
        "\n",
        "def SaveImg(filename,filepath,heatmap):\n",
        "    img = cv2.imread(filepath)\n",
        "    heatmap = cv2.resize(heatmap,(img.shape[1],img.shape[0]))\n",
        "    AttentionImg =0.5* heatmap + img\n",
        "    cv2.imwrite('/content/heat'+filename,heatmap)\n",
        "    cv2.imwrite('/content/attention'+filename,AttentionImg)\n",
        "\n",
        "\n",
        "def load_image(path):\n",
        "    img = cv2.imread(path)\n",
        "    print(img.shape)\n",
        "    img = cv2.resize(img,(300,300))\n",
        "    print(img.shape)\n",
        "    x = np.asarray(img, dtype=np.float32)\n",
        "   # img = image.load_img(path, target_size=(448, 448))\n",
        "   # print (img.shape)\n",
        "   # x = image.img_to_array(img)\n",
        "    x = np.expand_dims(x, axis=0)\n",
        "    return x\n",
        "\n",
        "def TestMAE(model,test_data,test_label,test_gender):\n",
        "    test_gender = np.array(test_gender)\n",
        "    test_gender = np.expand_dims(test_gender,axis=1)\n",
        "    layer=K.function([model.layers[0].input,model.layers[3].input],[model.layers[-1].output])\n",
        "    predictions=layer([test_data,test_gender])\n",
        "    predictions = np.array(predictions)\n",
        "    predictions = np.squeeze(predictions,axis=0)\n",
        "    print (predictions.shape)\n",
        "    predict_label = np.argmax(predictions,axis=1)\n",
        "    test_label = np.argmax(test_label,axis=1)\n",
        "    print (predict_label)\n",
        "    print (test_label)\n",
        "    TestMAE = np.mean(np.abs(predict_label-test_label))\n",
        "    return TestMAE\n",
        "    \n",
        "def DataAugment(x_train):\n",
        "    x_train_Aug = np.zeros(x_train.shape)\n",
        "    for i in range(x_train.shape[0]):\n",
        "        for j in range(3):\n",
        "            img = x_train[i,:,:,j]\n",
        "            img = RandomMask(img)\n",
        "            img = RandomMask(img)\n",
        "            if np.random.random()>-1:\n",
        "                x_train_Aug[i,:,:,j]=img \n",
        "            else:\n",
        "                x_train_Aug[i,:,:,j]=x_train[i,:,:,j]\n",
        "    return x_train_Aug\n",
        "\n",
        "\n",
        "def RandomMask(img):\n",
        "    m,n=img.shape\n",
        "    m=int(m/6)\n",
        "    n=int(n/6)\n",
        "    i,j = np.random.randint(0,6,2)\n",
        "    img[i*m:(i+1)*m,j*n:(j+1)*n]=np.random.random()\n",
        "    return img"
      ],
      "metadata": {
        "id": "BM3DQKSibZku"
      },
      "execution_count": 21,
      "outputs": []
    },
    {
      "cell_type": "code",
      "source": [
        "y = np.asarray(y_age)\n",
        "gender = np.asarray(y_gender)\n",
        "x=np.asarray(X_train, dtype=np.float32)\n",
        "x=x/255\n",
        "gender =2*( gender-0.5)\n",
        "x_final = []\n",
        "y_final = []\n",
        "gender_final = []\n",
        "\n",
        "# Shuffle images and split into train, validation and test sets\n",
        "#random_no = np.random.choice(x.shape[0], size=x.shape[0], replace=False)\n",
        "random_no = np.arange(x.shape[0])\n",
        "#print(random_no)\n",
        "np.random.seed(0)\n",
        "np.random.shuffle(random_no)\n",
        "for i in random_no:\n",
        "    x_final.append(x[i,:,:,:])\n",
        "    y_final.append(y[i])\n",
        "    gender_final.append(gender[i])\n",
        "\n",
        "x_final = np.asarray(x_final)\n",
        "y_final = np.asarray(y_final)\n",
        "gender_final = np.asarray(gender_final)\n",
        "print (y_final[:50])\n",
        "print (gender_final[:50])\n",
        "k = 50 # Decides split count\n",
        "x_test = x_final[:k,:,:,:]\n",
        "y_test = y_final[:k]\n",
        "gender_test = gender_final[:k]\n",
        "x_valid = x_final[k:2*k,:,:,:]\n",
        "y_valid = y_final[k:2*k]\n",
        "gender_valid = gender_final[k:2*k]\n",
        "x_train = x_final[2*k:,:,:,:]\n",
        "y_train = y_final[2*k:]\n",
        "gender_train = gender_final[2*k:]\n",
        "\n",
        "## \n",
        "#y_test = keras.utils.to_categorical(y_test,240)\n",
        "#y_train = keras.utils.to_categorical(y_train,240)\n",
        "#y_valid = keras.utils.to_categorical(y_valid,240)\n",
        "y_trains = softlabel(y_train,240)\n",
        "y_valids = softlabel(y_valid,240)\n",
        "y_tests = softlabel(y_test,240)\n",
        "print (y_train)\n",
        "\n",
        "\n",
        "print ('x_train shape:'+ str(x_train.shape))\n",
        "print ('y_train shape:'+ str(y_train.shape))\n",
        "print ('gender_train shape:'+ str(gender_train.shape))\n",
        "print ('x_valid shape:'+ str(x_valid.shape))\n",
        "print ('y_valid shape:'+ str(y_valid.shape))\n",
        "print ('gender_valid shape:' + str(gender_valid.shape))\n",
        "print ('x_test shape:'+ str(x_test.shape))\n",
        "print ('y_test shape:'+ str(y_test.shape))"
      ],
      "metadata": {
        "colab": {
          "base_uri": "https://localhost:8080/"
        },
        "id": "PyB_gYSNbjjP",
        "outputId": "d871f19b-5a10-4ec3-d5ef-e74b9b60e4e5"
      },
      "execution_count": 22,
      "outputs": [
        {
          "output_type": "stream",
          "name": "stdout",
          "text": [
            "[ 86.2  129.1   57.76 178.7  110.1  101.5   49.02 199.4  139.9  151.5\n",
            " 124.8   67.96 126.3  223.3  143.8   65.92  92.65  68.68  85.68 181.\n",
            " 183.1  212.   106.3  183.6  204.7  149.7  121.2  138.2  162.2  117.4\n",
            " 142.8  151.4  226.9  107.7   90.12 107.3  147.2  106.1  224.3  152.\n",
            "  90.28 127.8  109.8   78.77 207.4  144.8  102.6   23.97  55.86 214.4 ]\n",
            "[-1.  1. -1.  1. -1.  1. -1. -1.  1.  1. -1.  1.  1.  1. -1.  1.  1. -1.\n",
            " -1. -1.  1. -1. -1. -1. -1.  1.  1.  1. -1.  1.  1. -1. -1.  1. -1.  1.\n",
            " -1.  1.  1.  1. -1.  1.  1.  1.  1.  1. -1. -1. -1. -1.]\n",
            "[177.3   11.97 191.2  ... 115.3  147.3  116.2 ]\n",
            "x_train shape:(1286, 300, 300, 3)\n",
            "y_train shape:(1286,)\n",
            "gender_train shape:(1286,)\n",
            "x_valid shape:(50, 300, 300, 3)\n",
            "y_valid shape:(50,)\n",
            "gender_valid shape:(50,)\n",
            "x_test shape:(50, 300, 300, 3)\n",
            "y_test shape:(50,)\n"
          ]
        }
      ]
    },
    {
      "cell_type": "code",
      "source": [
        "from tensorflow.keras.applications.resnet50 import ResNet50\n",
        "from keras.applications.vgg19 import VGG19\n",
        "from keras.applications.inception_v3 import InceptionV3\n",
        "from keras.applications.xception import Xception\n",
        "from keras.preprocessing import image\n",
        "from keras.models import Model, load_model\n",
        "from keras.layers import Flatten, Dense, Input, Reshape, Lambda, Multiply\n",
        "from keras import backend as K\n",
        "import pickle\n",
        "import numpy as np\n",
        "import matplotlib.pyplot as plt\n",
        "import keras\n",
        "\n",
        "batch_size = 16\n",
        "epochs = 30\n"
      ],
      "metadata": {
        "id": "aG3BxPtKNfiZ"
      },
      "execution_count": 23,
      "outputs": []
    },
    {
      "cell_type": "markdown",
      "source": [
        "#model regresion"
      ],
      "metadata": {
        "id": "QxcFx91BNOCQ"
      }
    },
    {
      "cell_type": "markdown",
      "source": [
        "1.------------------------xception---------------------------------"
      ],
      "metadata": {
        "id": "Agrb0KWrNUN1"
      }
    },
    {
      "cell_type": "code",
      "source": [
        "from keras.layers import Flatten, Dense, Input, Reshape, Lambda,Multiply\n",
        "from keras import backend as K\n",
        "from keras.preprocessing.image import ImageDataGenerator\n",
        "\n",
        "base_model = Xception(weights='imagenet', include_top=False)\n",
        "#for i,layer in enumerate(base_model.layers):\n",
        "    #print (i,layer.name)\n",
        "input = Input(shape=(300,300,3),name='input1')\n",
        "input_gender = Input(shape=(1,),dtype='float32',name='input2')\n",
        "##input_age = Input(shape=(1,),dtype='float32',name='input3')\n",
        "output = base_model(input)\n",
        "gender_embedding=Dense(32)(input_gender)\n",
        "#gender_embedding=Dense(12)(gender_embedding)\n",
        "#x = keras.layers.MaxPooling2D(pool_size=(5,5))(output)\n",
        "#x = keras.layers.Conv2D(512,kernel_size=(3,3))(x)\n",
        "x = keras.layers.Conv2D(256,kernel_size=(3,3))(output)\n",
        "print (K.int_shape(output))\n",
        "x = keras.layers.MaxPooling2D(pool_size=(3,3))(x)\n",
        "print (K.int_shape(x))\n",
        "x=Flatten()(x)\n",
        "f = keras.layers.Concatenate(axis=1)([x,gender_embedding])\n",
        "print (K.int_shape(f)) \n",
        "f = Dense(256, activation='relu')(f)\n",
        "#f = Dense(240)(f)\n",
        "#y=Flatten()(input_age)\n",
        "#multiplied = tf.keras.layers.Multiply()([f, y])\n",
        "predictions =Dense(1)(f)\n",
        "\n",
        "  \n",
        "\n",
        "model = Model(inputs=[input,input_gender], outputs=predictions)\n",
        "#for i,layer in enumerate(model.layers):\n",
        "    #print (i,layer.name)\n",
        "model.summary()\n",
        "\n",
        "Adam=keras.optimizers.Adam(lr=0.0001,beta_1=0.9,beta_2=0.999)\n",
        "model.compile(optimizer=Adam, loss='mean_absolute_error', metrics=['MAE'])\n",
        "\n",
        "# Save weights after every epoch\n",
        "\n",
        "checkpoint =keras.callbacks.ModelCheckpoint(filepath='weights_m1.{epoch:02d}-{val_loss:.2f}.hdf5',save_weights_only=True,period=10)\n",
        "#history = model.fit_generator(DataGen.flow([x_train,gender_train],y_train,batch_size=batch_size),steps_per_epoch=np.ceil(len(y_train)/batch_size),epochs=10,verbose=1,validation_data=([x_valid,gender_valid],y_valid))\n",
        "#history = model.fit_generator(Generator(x_train,gender_train,y_train,batch_size),steps_per_epoch=np.ceil(len(y_train)/batch_size),epochs=10,verbose=1,validation_data=([x_valid,gender_valid],y_valid))\n",
        "history=model.fit([x_train,gender_train],y_train,batch_size=batch_size,epochs=10,verbose=1,validation_data=([x_valid,gender_valid],y_valid), callbacks = [checkpoint])\n",
        "score = model.evaluate([x_test,gender_test], y_test, batch_size=batch_size)\n",
        "print('Test loss:', score[0])\n",
        "print('Test MAE:', score[1])\n",
        "\n",
        "##Visulization\n",
        "weights=model.layers[-1].get_weights()[0]\n",
        "print (weights.shape)\n",
        "\n",
        "#ShowAttentionV1(base_model,'/raid/chenchao/code/BoneAge/BoneAge/data/train/')\n",
        "\n",
        "#for layer in base_model.layers[:16]:\n",
        "#    layer.trainable=False\n",
        "#for layer in base_model.layers:\n",
        "#    print (layer.name,layer.trainable)\n"
      ],
      "metadata": {
        "id": "jTkpxliebm-f",
        "colab": {
          "base_uri": "https://localhost:8080/"
        },
        "outputId": "4c546c46-0799-4bea-b8ea-13a7e7ef1807"
      },
      "execution_count": 24,
      "outputs": [
        {
          "output_type": "stream",
          "name": "stdout",
          "text": [
            "(None, 10, 10, 2048)\n",
            "(None, 2, 2, 256)\n",
            "(None, 1056)\n",
            "Model: \"model_1\"\n",
            "__________________________________________________________________________________________________\n",
            " Layer (type)                   Output Shape         Param #     Connected to                     \n",
            "==================================================================================================\n",
            " input1 (InputLayer)            [(None, 300, 300, 3  0           []                               \n",
            "                                )]                                                                \n",
            "                                                                                                  \n",
            " xception (Functional)          (None, None, None,   20861480    ['input1[0][0]']                 \n",
            "                                2048)                                                             \n",
            "                                                                                                  \n",
            " conv2d_9 (Conv2D)              (None, 8, 8, 256)    4718848     ['xception[0][0]']               \n",
            "                                                                                                  \n",
            " max_pooling2d_1 (MaxPooling2D)  (None, 2, 2, 256)   0           ['conv2d_9[0][0]']               \n",
            "                                                                                                  \n",
            " input2 (InputLayer)            [(None, 1)]          0           []                               \n",
            "                                                                                                  \n",
            " flatten_1 (Flatten)            (None, 1024)         0           ['max_pooling2d_1[0][0]']        \n",
            "                                                                                                  \n",
            " dense_3 (Dense)                (None, 32)           64          ['input2[0][0]']                 \n",
            "                                                                                                  \n",
            " concatenate_1 (Concatenate)    (None, 1056)         0           ['flatten_1[0][0]',              \n",
            "                                                                  'dense_3[0][0]']                \n",
            "                                                                                                  \n",
            " dense_4 (Dense)                (None, 256)          270592      ['concatenate_1[0][0]']          \n",
            "                                                                                                  \n",
            " dense_5 (Dense)                (None, 1)            257         ['dense_4[0][0]']                \n",
            "                                                                                                  \n",
            "==================================================================================================\n",
            "Total params: 25,851,241\n",
            "Trainable params: 25,796,713\n",
            "Non-trainable params: 54,528\n",
            "__________________________________________________________________________________________________\n"
          ]
        },
        {
          "output_type": "stream",
          "name": "stderr",
          "text": [
            "WARNING:tensorflow:`period` argument is deprecated. Please use `save_freq` to specify the frequency in number of batches seen.\n"
          ]
        },
        {
          "output_type": "stream",
          "name": "stdout",
          "text": [
            "Epoch 1/10\n",
            "81/81 [==============================] - 55s 586ms/step - loss: 28.4842 - MAE: 28.4842 - val_loss: 22.5500 - val_MAE: 22.5500\n",
            "Epoch 2/10\n",
            "81/81 [==============================] - 47s 582ms/step - loss: 15.8115 - MAE: 15.8115 - val_loss: 20.8820 - val_MAE: 20.8820\n",
            "Epoch 3/10\n",
            "81/81 [==============================] - 46s 573ms/step - loss: 13.9332 - MAE: 13.9332 - val_loss: 16.6284 - val_MAE: 16.6284\n",
            "Epoch 4/10\n",
            "81/81 [==============================] - 47s 580ms/step - loss: 12.6302 - MAE: 12.6302 - val_loss: 17.2237 - val_MAE: 17.2237\n",
            "Epoch 5/10\n",
            "81/81 [==============================] - 47s 583ms/step - loss: 12.7459 - MAE: 12.7459 - val_loss: 17.1869 - val_MAE: 17.1869\n",
            "Epoch 6/10\n",
            "81/81 [==============================] - 47s 582ms/step - loss: 10.4199 - MAE: 10.4199 - val_loss: 16.4527 - val_MAE: 16.4527\n",
            "Epoch 7/10\n",
            "81/81 [==============================] - 47s 579ms/step - loss: 10.9507 - MAE: 10.9507 - val_loss: 16.1641 - val_MAE: 16.1641\n",
            "Epoch 8/10\n",
            "81/81 [==============================] - 47s 580ms/step - loss: 8.9595 - MAE: 8.9595 - val_loss: 15.2867 - val_MAE: 15.2867\n",
            "Epoch 9/10\n",
            "81/81 [==============================] - 47s 577ms/step - loss: 8.5293 - MAE: 8.5293 - val_loss: 15.4864 - val_MAE: 15.4864\n",
            "Epoch 10/10\n",
            "81/81 [==============================] - 47s 580ms/step - loss: 11.2928 - MAE: 11.2928 - val_loss: 15.8522 - val_MAE: 15.8522\n",
            "4/4 [==============================] - 0s 99ms/step - loss: 10.9313 - MAE: 10.9313\n",
            "Test loss: 10.931331634521484\n",
            "Test MAE: 10.931331634521484\n",
            "(256, 1)\n"
          ]
        }
      ]
    },
    {
      "cell_type": "code",
      "source": [
        "plt.plot(history.history['loss'])\n",
        "plt.plot(history.history['val_loss'])\n",
        "plt.title('Model loss')\n",
        "plt.ylabel('Loss')\n",
        "plt.xlabel('Epoch')\n",
        "plt.legend(['Train', 'Validation'], loc='upper left')\n",
        "plt.show()"
      ],
      "metadata": {
        "id": "DZmCfFdOpLEJ",
        "colab": {
          "base_uri": "https://localhost:8080/",
          "height": 295
        },
        "outputId": "e120d391-253d-4bda-8a03-25fcbb22384b"
      },
      "execution_count": 25,
      "outputs": [
        {
          "output_type": "display_data",
          "data": {
            "text/plain": [
              "<Figure size 432x288 with 1 Axes>"
            ],
            "image/png": "[encoded data removed]"
          },
          "metadata": {
            "needs_background": "light"
          }
        }
      ]
    },
    {
      "cell_type": "code",
      "source": [
        "def TestMAE(model,test_data,test_label,test_gender):\n",
        "    #print(test_label.type)\n",
        "    test_gender = np.array(test_gender)\n",
        "    test_gender = np.expand_dims(test_gender,axis=1)\n",
        "    layer=K.function([model.layers[0].input,model.layers[4].input],[model.layers[-1].output])\n",
        "    predictions=layer([test_data,test_gender])\n",
        "    print(predictions)\n",
        "    predictions = np.array(predictions)\n",
        "    print(predictions)\n",
        "    predictions = np.squeeze(predictions,axis=0)\n",
        "    print (predictions.shape)\n",
        "    print (test_label)\n",
        "    TestMAE = np.mean(np.abs(predictions-test_label))\n",
        "    return TestMAE\n",
        "\n",
        "#model.load_weights('/content/weights_m1.10-0.20.hdf5')\n",
        "val=TestMAE(model,x_test,y_test,gender_test)\n",
        "print(val)\n",
        "#gender_test.shape"
      ],
      "metadata": {
        "id": "71vQ080CD3WM",
        "colab": {
          "base_uri": "https://localhost:8080/"
        },
        "outputId": "146cf0b3-3c29-4c74-804a-7aa1711bfe1b"
      },
      "execution_count": 28,
      "outputs": [
        {
          "output_type": "stream",
          "name": "stdout",
          "text": [
            "[array([[102.684616],\n",
            "       [105.09068 ],\n",
            "       [ 60.4571  ],\n",
            "       [200.483   ],\n",
            "       [114.86272 ],\n",
            "       [ 95.520874],\n",
            "       [ 53.808155],\n",
            "       [202.50352 ],\n",
            "       [143.91751 ],\n",
            "       [131.0256  ],\n",
            "       [121.43794 ],\n",
            "       [ 60.95955 ],\n",
            "       [ 93.4705  ],\n",
            "       [209.32774 ],\n",
            "       [160.82275 ],\n",
            "       [ 70.88666 ],\n",
            "       [ 82.24566 ],\n",
            "       [ 83.99034 ],\n",
            "       [112.68349 ],\n",
            "       [183.87653 ],\n",
            "       [179.03807 ],\n",
            "       [206.6909  ],\n",
            "       [102.75712 ],\n",
            "       [187.8671  ],\n",
            "       [191.66316 ],\n",
            "       [135.33012 ],\n",
            "       [108.64872 ],\n",
            "       [144.07129 ],\n",
            "       [163.71814 ],\n",
            "       [ 94.82834 ],\n",
            "       [116.450714],\n",
            "       [128.89542 ],\n",
            "       [198.54182 ],\n",
            "       [111.04493 ],\n",
            "       [100.319084],\n",
            "       [ 83.82619 ],\n",
            "       [142.7753  ],\n",
            "       [106.18286 ],\n",
            "       [214.12006 ],\n",
            "       [132.78365 ],\n",
            "       [104.21953 ],\n",
            "       [133.41391 ],\n",
            "       [109.28177 ],\n",
            "       [ 77.60346 ],\n",
            "       [196.56418 ],\n",
            "       [153.32768 ],\n",
            "       [ 91.26988 ],\n",
            "       [ 19.959667],\n",
            "       [ 54.825165],\n",
            "       [202.89236 ]], dtype=float32)]\n",
            "[[[102.684616]\n",
            "  [105.09068 ]\n",
            "  [ 60.4571  ]\n",
            "  [200.483   ]\n",
            "  [114.86272 ]\n",
            "  [ 95.520874]\n",
            "  [ 53.808155]\n",
            "  [202.50352 ]\n",
            "  [143.91751 ]\n",
            "  [131.0256  ]\n",
            "  [121.43794 ]\n",
            "  [ 60.95955 ]\n",
            "  [ 93.4705  ]\n",
            "  [209.32774 ]\n",
            "  [160.82275 ]\n",
            "  [ 70.88666 ]\n",
            "  [ 82.24566 ]\n",
            "  [ 83.99034 ]\n",
            "  [112.68349 ]\n",
            "  [183.87653 ]\n",
            "  [179.03807 ]\n",
            "  [206.6909  ]\n",
            "  [102.75712 ]\n",
            "  [187.8671  ]\n",
            "  [191.66316 ]\n",
            "  [135.33012 ]\n",
            "  [108.64872 ]\n",
            "  [144.07129 ]\n",
            "  [163.71814 ]\n",
            "  [ 94.82834 ]\n",
            "  [116.450714]\n",
            "  [128.89542 ]\n",
            "  [198.54182 ]\n",
            "  [111.04493 ]\n",
            "  [100.319084]\n",
            "  [ 83.82619 ]\n",
            "  [142.7753  ]\n",
            "  [106.18286 ]\n",
            "  [214.12006 ]\n",
            "  [132.78365 ]\n",
            "  [104.21953 ]\n",
            "  [133.41391 ]\n",
            "  [109.28177 ]\n",
            "  [ 77.60346 ]\n",
            "  [196.56418 ]\n",
            "  [153.32768 ]\n",
            "  [ 91.26988 ]\n",
            "  [ 19.959667]\n",
            "  [ 54.825165]\n",
            "  [202.89236 ]]]\n",
            "(50, 1)\n",
            "[ 86.2  129.1   57.76 178.7  110.1  101.5   49.02 199.4  139.9  151.5\n",
            " 124.8   67.96 126.3  223.3  143.8   65.92  92.65  68.68  85.68 181.\n",
            " 183.1  212.   106.3  183.6  204.7  149.7  121.2  138.2  162.2  117.4\n",
            " 142.8  151.4  226.9  107.7   90.12 107.3  147.2  106.1  224.3  152.\n",
            "  90.28 127.8  109.8   78.77 207.4  144.8  102.6   23.97  55.86 214.4 ]\n",
            "56.496750580322264\n"
          ]
        }
      ]
    },
    {
      "cell_type": "markdown",
      "source": [
        "2.------------------------inception---------------------------------"
      ],
      "metadata": {
        "id": "3cVF1Iz5O1HL"
      }
    },
    {
      "cell_type": "code",
      "source": [
        "from keras.layers import Flatten, Dense, Input, Reshape, Lambda\n",
        "from keras import backend as K\n",
        "from keras.preprocessing.image import ImageDataGenerator\n",
        "\n",
        "base_model = InceptionV3(weights='imagenet', include_top=False)\n",
        "\n",
        "input = Input(shape=(300,300,3),name='input1')\n",
        "input_gender = Input(shape=(1,),dtype='float32',name='input2')\n",
        "output = base_model(input)\n",
        "gender_embedding=Dense(32)(input_gender)\n",
        "#gender_embedding=Dense(12)(gender_embedding)\n",
        "#x = keras.layers.MaxPooling2D(pool_size=(5,5))(output)\n",
        "#x = keras.layers.Conv2D(512,kernel_size=(3,3))(x)\n",
        "x = keras.layers.Conv2D(256,kernel_size=(3,3))(output)\n",
        "print (K.int_shape(output))\n",
        "x = keras.layers.MaxPooling2D(pool_size=(3,3))(x)\n",
        "print (K.int_shape(x))\n",
        "x=Flatten()(x)\n",
        "f = keras.layers.Concatenate(axis=1)([x,gender_embedding])\n",
        "print (K.int_shape(f)) \n",
        "#x = Dense(256, activation='relu')(x)\n",
        "predictions =Dense(1)(f)\n",
        "\n",
        "model = Model(inputs=[input,input_gender], outputs=predictions)\n",
        "\n",
        "\n",
        "Adam=keras.optimizers.Adam(lr=0.0001,beta_1=0.9,beta_2=0.999)\n",
        "model.compile(optimizer=Adam, loss='mean_absolute_error', metrics=['MAE'])\n",
        "\n",
        "# Save weights after every epoch\n",
        "\n",
        "checkpoint =keras.callbacks.ModelCheckpoint(filepath='weights_m2.{epoch:02d}-{val_loss:.2f}.hdf5',save_weights_only=True,period=50)\n",
        "#history = model.fit_generator(DataGen.flow([x_train,gender_train],y_train,batch_size=batch_size),steps_per_epoch=np.ceil(len(y_train)/batch_size),epochs=10,verbose=1,validation_data=([x_valid,gender_valid],y_valid))\n",
        "#history = model.fit_generator(Generator(x_train,gender_train,y_train,batch_size),steps_per_epoch=np.ceil(len(y_train)/batch_size),epochs=10,verbose=1,validation_data=([x_valid,gender_valid],y_valid))\n",
        "history=model.fit([x_train,gender_train],y_train,batch_size=batch_size,epochs=10,verbose=1,validation_data=([x_valid,gender_valid],y_valid), callbacks = [checkpoint])\n",
        "score = model.evaluate([x_test,gender_test], y_test, batch_size=batch_size)\n",
        "print('Test loss:', score[0])\n",
        "print('Test MAE:', score[1])\n",
        "\n",
        "##Visulization\n",
        "weights=model.layers[-1].get_weights()[0]\n",
        "print (weights.shape)\n",
        "\n",
        "#ShowAttentionV1(base_model,'/raid/chenchao/code/BoneAge/BoneAge/data/train/')\n",
        "\n",
        "#for layer in base_model.layers[:16]:\n",
        "#    layer.trainable=False\n",
        "#for layer in base_model.layers:\n",
        "#    print (layer.name,layer.trainable)\n"
      ],
      "metadata": {
        "colab": {
          "base_uri": "https://localhost:8080/"
        },
        "id": "CsKoruaEO1HL",
        "outputId": "913567ec-cb6b-4572-8af0-26bbe96acb2b"
      },
      "execution_count": 29,
      "outputs": [
        {
          "output_type": "stream",
          "name": "stdout",
          "text": [
            "Downloading data from https://storage.googleapis.com/tensorflow/keras-applications/inception_v3/inception_v3_weights_tf_dim_ordering_tf_kernels_notop.h5\n",
            "87910968/87910968 [==============================] - 5s 0us/step\n"
          ]
        },
        {
          "output_type": "stream",
          "name": "stderr",
          "text": [
            "/usr/local/lib/python3.7/dist-packages/keras/optimizers/optimizer_v2/adam.py:110: UserWarning: The `lr` argument is deprecated, use `learning_rate` instead.\n",
            "  super(Adam, self).__init__(name, **kwargs)\n",
            "WARNING:tensorflow:`period` argument is deprecated. Please use `save_freq` to specify the frequency in number of batches seen.\n"
          ]
        },
        {
          "output_type": "stream",
          "name": "stdout",
          "text": [
            "(None, 8, 8, 2048)\n",
            "(None, 2, 2, 256)\n",
            "(None, 1056)\n",
            "Epoch 1/10\n",
            "81/81 [==============================] - 91s 315ms/step - loss: 28.8493 - MAE: 28.8493 - val_loss: 26.6404 - val_MAE: 26.6404\n",
            "Epoch 2/10\n",
            "81/81 [==============================] - 20s 248ms/step - loss: 17.1726 - MAE: 17.1726 - val_loss: 19.2251 - val_MAE: 19.2251\n",
            "Epoch 3/10\n",
            "81/81 [==============================] - 20s 245ms/step - loss: 16.7604 - MAE: 16.7604 - val_loss: 23.4947 - val_MAE: 23.4947\n",
            "Epoch 4/10\n",
            "81/81 [==============================] - 20s 246ms/step - loss: 15.6296 - MAE: 15.6296 - val_loss: 27.7135 - val_MAE: 27.7135\n",
            "Epoch 5/10\n",
            "81/81 [==============================] - 20s 246ms/step - loss: 11.8055 - MAE: 11.8055 - val_loss: 19.0605 - val_MAE: 19.0605\n",
            "Epoch 6/10\n",
            "81/81 [==============================] - 20s 245ms/step - loss: 11.0952 - MAE: 11.0952 - val_loss: 20.3074 - val_MAE: 20.3074\n",
            "Epoch 7/10\n",
            "81/81 [==============================] - 20s 246ms/step - loss: 12.0188 - MAE: 12.0188 - val_loss: 18.3874 - val_MAE: 18.3874\n",
            "Epoch 8/10\n",
            "81/81 [==============================] - 20s 245ms/step - loss: 10.1099 - MAE: 10.1099 - val_loss: 18.4666 - val_MAE: 18.4666\n",
            "Epoch 9/10\n",
            "81/81 [==============================] - 20s 246ms/step - loss: 8.9993 - MAE: 8.9993 - val_loss: 17.1963 - val_MAE: 17.1963\n",
            "Epoch 10/10\n",
            "81/81 [==============================] - 20s 245ms/step - loss: 8.5826 - MAE: 8.5826 - val_loss: 17.3536 - val_MAE: 17.3536\n",
            "4/4 [==============================] - 0s 56ms/step - loss: 16.0709 - MAE: 16.0709\n",
            "Test loss: 16.070920944213867\n",
            "Test MAE: 16.070920944213867\n",
            "(1056, 1)\n"
          ]
        }
      ]
    },
    {
      "cell_type": "code",
      "source": [
        "plt.plot(history.history['loss'])\n",
        "plt.plot(history.history['val_loss'])\n",
        "plt.title('Model loss')\n",
        "plt.ylabel('Loss')\n",
        "plt.xlabel('Epoch')\n",
        "plt.legend(['Train', 'Validation'], loc='upper left')\n",
        "plt.show()"
      ],
      "metadata": {
        "colab": {
          "base_uri": "https://localhost:8080/",
          "height": 295
        },
        "id": "j6zLgAJyO1HM",
        "outputId": "1c631a6e-3342-444d-ffc5-9d8afa49d990"
      },
      "execution_count": 30,
      "outputs": [
        {
          "output_type": "display_data",
          "data": {
            "text/plain": [
              "<Figure size 432x288 with 1 Axes>"
            ],
            "image/png": "[encoded data removed]"
          },
          "metadata": {
            "needs_background": "light"
          }
        }
      ]
    },
    {
      "cell_type": "code",
      "source": [
        "def TestMAE(model,test_data,test_label,test_gender):\n",
        "    #print(test_label.type)\n",
        "    test_gender = np.array(test_gender)\n",
        "    test_gender = np.expand_dims(test_gender,axis=1)\n",
        "    layer=K.function([model.layers[0].input,model.layers[4].input],[model.layers[-1].output])\n",
        "    predictions=layer([test_data,test_gender])\n",
        "    print(predictions)\n",
        "    predictions = np.array(predictions)\n",
        "    print(predictions)\n",
        "    predictions = np.squeeze(predictions,axis=0)\n",
        "    print (predictions.shape)\n",
        "    #print (predict_label)\n",
        "    print (test_label)\n",
        "    TestMAE = np.mean(np.abs(predictions-test_label))\n",
        "    return TestMAE\n",
        "\n",
        "#model.load_weights('/content/weights_m1.10-0.20.hdf5')\n",
        "val=TestMAE(model,x_test,y_test,gender_test)\n",
        "print(val)\n",
        "#gender_test.shape"
      ],
      "metadata": {
        "colab": {
          "base_uri": "https://localhost:8080/"
        },
        "id": "VCGD-4VFO1HM",
        "outputId": "64b35141-93e3-4f99-cc3d-91d53cf6b4fd"
      },
      "execution_count": 32,
      "outputs": [
        {
          "output_type": "stream",
          "name": "stdout",
          "text": [
            "[array([[ 89.007965],\n",
            "       [102.36751 ],\n",
            "       [ 58.676434],\n",
            "       [177.28383 ],\n",
            "       [110.44996 ],\n",
            "       [ 88.93267 ],\n",
            "       [ 51.650036],\n",
            "       [186.67506 ],\n",
            "       [137.40338 ],\n",
            "       [117.054184],\n",
            "       [135.46666 ],\n",
            "       [ 61.5092  ],\n",
            "       [ 76.22433 ],\n",
            "       [193.15746 ],\n",
            "       [151.85127 ],\n",
            "       [ 72.035194],\n",
            "       [ 73.38154 ],\n",
            "       [ 79.15126 ],\n",
            "       [ 99.15385 ],\n",
            "       [188.58183 ],\n",
            "       [168.83151 ],\n",
            "       [185.32451 ],\n",
            "       [ 85.80822 ],\n",
            "       [184.12434 ],\n",
            "       [180.30714 ],\n",
            "       [144.80835 ],\n",
            "       [ 97.249954],\n",
            "       [146.04718 ],\n",
            "       [166.83208 ],\n",
            "       [ 90.32275 ],\n",
            "       [116.84466 ],\n",
            "       [130.38301 ],\n",
            "       [189.84839 ],\n",
            "       [ 81.91257 ],\n",
            "       [ 78.47126 ],\n",
            "       [ 71.63022 ],\n",
            "       [142.63739 ],\n",
            "       [ 98.76622 ],\n",
            "       [182.60974 ],\n",
            "       [136.27013 ],\n",
            "       [ 88.190094],\n",
            "       [137.57784 ],\n",
            "       [ 81.62283 ],\n",
            "       [ 73.78337 ],\n",
            "       [175.82454 ],\n",
            "       [160.51839 ],\n",
            "       [ 77.08034 ],\n",
            "       [ 26.516867],\n",
            "       [ 55.98106 ],\n",
            "       [171.95955 ]], dtype=float32)]\n",
            "[[[ 89.007965]\n",
            "  [102.36751 ]\n",
            "  [ 58.676434]\n",
            "  [177.28383 ]\n",
            "  [110.44996 ]\n",
            "  [ 88.93267 ]\n",
            "  [ 51.650036]\n",
            "  [186.67506 ]\n",
            "  [137.40338 ]\n",
            "  [117.054184]\n",
            "  [135.46666 ]\n",
            "  [ 61.5092  ]\n",
            "  [ 76.22433 ]\n",
            "  [193.15746 ]\n",
            "  [151.85127 ]\n",
            "  [ 72.035194]\n",
            "  [ 73.38154 ]\n",
            "  [ 79.15126 ]\n",
            "  [ 99.15385 ]\n",
            "  [188.58183 ]\n",
            "  [168.83151 ]\n",
            "  [185.32451 ]\n",
            "  [ 85.80822 ]\n",
            "  [184.12434 ]\n",
            "  [180.30714 ]\n",
            "  [144.80835 ]\n",
            "  [ 97.249954]\n",
            "  [146.04718 ]\n",
            "  [166.83208 ]\n",
            "  [ 90.32275 ]\n",
            "  [116.84466 ]\n",
            "  [130.38301 ]\n",
            "  [189.84839 ]\n",
            "  [ 81.91257 ]\n",
            "  [ 78.47126 ]\n",
            "  [ 71.63022 ]\n",
            "  [142.63739 ]\n",
            "  [ 98.76622 ]\n",
            "  [182.60974 ]\n",
            "  [136.27013 ]\n",
            "  [ 88.190094]\n",
            "  [137.57784 ]\n",
            "  [ 81.62283 ]\n",
            "  [ 73.78337 ]\n",
            "  [175.82454 ]\n",
            "  [160.51839 ]\n",
            "  [ 77.08034 ]\n",
            "  [ 26.516867]\n",
            "  [ 55.98106 ]\n",
            "  [171.95955 ]]]\n",
            "(50, 1)\n",
            "[ 86.2  129.1   57.76 178.7  110.1  101.5   49.02 199.4  139.9  151.5\n",
            " 124.8   67.96 126.3  223.3  143.8   65.92  92.65  68.68  85.68 181.\n",
            " 183.1  212.   106.3  183.6  204.7  149.7  121.2  138.2  162.2  117.4\n",
            " 142.8  151.4  226.9  107.7   90.12 107.3  147.2  106.1  224.3  152.\n",
            "  90.28 127.8  109.8   78.77 207.4  144.8  102.6   23.97  55.86 214.4 ]\n",
            "56.42199887036133\n"
          ]
        }
      ]
    },
    {
      "cell_type": "markdown",
      "source": [
        "3.------------------------resnet---------------------------------"
      ],
      "metadata": {
        "id": "QJuENJJUPuGV"
      }
    },
    {
      "cell_type": "code",
      "source": [
        "from keras.layers import Flatten, Dense, Input, Reshape, Lambda\n",
        "from keras import backend as K\n",
        "from keras.preprocessing.image import ImageDataGenerator\n",
        "\n",
        "base_model = ResNet50(weights='imagenet', include_top=False)\n",
        "input = Input(shape=(300,300,3),name='input1')\n",
        "input_gender = Input(shape=(1,),dtype='float32',name='input2')\n",
        "output = base_model(input)\n",
        "gender_embedding=Dense(32)(input_gender)\n",
        "#gender_embedding=Dense(12)(gender_embedding)\n",
        "#x = keras.layers.MaxPooling2D(pool_size=(5,5))(output)\n",
        "#x = keras.layers.Conv2D(512,kernel_size=(3,3))(x)\n",
        "x = keras.layers.Conv2D(256,kernel_size=(3,3))(output)\n",
        "print (K.int_shape(output))\n",
        "x = keras.layers.MaxPooling2D(pool_size=(3,3))(x)\n",
        "print (K.int_shape(x))\n",
        "x=Flatten()(x)\n",
        "f = keras.layers.Concatenate(axis=1)([x,gender_embedding])\n",
        "print (K.int_shape(f)) \n",
        "#x = Dense(256, activation='relu')(x)\n",
        "predictions = Dense(1 )(f)\n",
        "\n",
        "model = Model(inputs=[input,input_gender], outputs=predictions)\n",
        "\n",
        "\n",
        "Adam=keras.optimizers.Adam(lr=0.0001,beta_1=0.9,beta_2=0.999)\n",
        "model.compile(optimizer=Adam, loss='mean_absolute_error', metrics=['MAE'])\n",
        "\n",
        "model.summary\n",
        "# Save weights after every epoch\n",
        "\n",
        "checkpoint =keras.callbacks.ModelCheckpoint(filepath='weights_m3.{epoch:02d}-{val_loss:.2f}.hdf5',save_weights_only=True,period=10)\n",
        "#history = model.fit_generator(DataGen.flow([x_train,gender_train],y_train,batch_size=batch_size),steps_per_epoch=np.ceil(len(y_train)/batch_size),epochs=10,verbose=1,validation_data=([x_valid,gender_valid],y_valid))\n",
        "#history = model.fit_generator(Generator(x_train,gender_train,y_train,batch_size),steps_per_epoch=np.ceil(len(y_train)/batch_size),epochs=10,verbose=1,validation_data=([x_valid,gender_valid],y_valid))\n",
        "history=model.fit([x_train,gender_train],y_train,batch_size=batch_size,epochs=10,verbose=1,validation_data=([x_valid,gender_valid],y_valid), callbacks = [checkpoint])\n",
        "score = model.evaluate([x_test,gender_test], y_test, batch_size=batch_size)\n",
        "print('Test loss:', score[0])\n",
        "print('Test MAE:', score[1])\n",
        "\n",
        "##Visulization\n",
        "weights=model.layers[-1].get_weights()[0]\n",
        "print (weights.shape)\n",
        "\n",
        "#ShowAttentionV1(base_model,'/raid/chenchao/code/BoneAge/BoneAge/data/train/')\n",
        "\n",
        "#for layer in base_model.layers[:16]:\n",
        "#    layer.trainable=False\n",
        "#for layer in base_model.layers:\n",
        "#    print (layer.name,layer.trainable)\n"
      ],
      "metadata": {
        "colab": {
          "base_uri": "https://localhost:8080/"
        },
        "id": "3kUNXcRbPuGV",
        "outputId": "e9112bde-1eb6-40c9-a958-071e0c8bca38"
      },
      "execution_count": 33,
      "outputs": [
        {
          "output_type": "stream",
          "name": "stdout",
          "text": [
            "Downloading data from https://storage.googleapis.com/tensorflow/keras-applications/resnet/resnet50_weights_tf_dim_ordering_tf_kernels_notop.h5\n",
            "94765736/94765736 [==============================] - 5s 0us/step\n"
          ]
        },
        {
          "output_type": "stream",
          "name": "stderr",
          "text": [
            "/usr/local/lib/python3.7/dist-packages/keras/optimizers/optimizer_v2/adam.py:110: UserWarning: The `lr` argument is deprecated, use `learning_rate` instead.\n",
            "  super(Adam, self).__init__(name, **kwargs)\n",
            "WARNING:tensorflow:`period` argument is deprecated. Please use `save_freq` to specify the frequency in number of batches seen.\n"
          ]
        },
        {
          "output_type": "stream",
          "name": "stdout",
          "text": [
            "(None, 10, 10, 2048)\n",
            "(None, 2, 2, 256)\n",
            "(None, 1056)\n",
            "Epoch 1/10\n",
            "81/81 [==============================] - 39s 377ms/step - loss: 28.1030 - MAE: 28.1030 - val_loss: 112.2412 - val_MAE: 112.2412\n",
            "Epoch 2/10\n",
            "81/81 [==============================] - 27s 330ms/step - loss: 16.0177 - MAE: 16.0177 - val_loss: 103.1265 - val_MAE: 103.1265\n",
            "Epoch 3/10\n",
            "81/81 [==============================] - 27s 327ms/step - loss: 14.9964 - MAE: 14.9964 - val_loss: 85.1425 - val_MAE: 85.1425\n",
            "Epoch 4/10\n",
            "81/81 [==============================] - 27s 328ms/step - loss: 12.4989 - MAE: 12.4989 - val_loss: 75.4132 - val_MAE: 75.4132\n",
            "Epoch 5/10\n",
            "81/81 [==============================] - 27s 329ms/step - loss: 11.7576 - MAE: 11.7576 - val_loss: 79.6459 - val_MAE: 79.6459\n",
            "Epoch 6/10\n",
            "81/81 [==============================] - 27s 327ms/step - loss: 12.4158 - MAE: 12.4158 - val_loss: 72.1980 - val_MAE: 72.1980\n",
            "Epoch 7/10\n",
            "81/81 [==============================] - 27s 328ms/step - loss: 10.2737 - MAE: 10.2737 - val_loss: 74.0951 - val_MAE: 74.0951\n",
            "Epoch 8/10\n",
            "81/81 [==============================] - 27s 328ms/step - loss: 9.6841 - MAE: 9.6841 - val_loss: 61.6488 - val_MAE: 61.6488\n",
            "Epoch 9/10\n",
            "81/81 [==============================] - 27s 328ms/step - loss: 8.6910 - MAE: 8.6910 - val_loss: 55.2904 - val_MAE: 55.2904\n",
            "Epoch 10/10\n",
            "81/81 [==============================] - 27s 334ms/step - loss: 7.8799 - MAE: 7.8799 - val_loss: 48.4736 - val_MAE: 48.4736\n",
            "4/4 [==============================] - 0s 84ms/step - loss: 40.7033 - MAE: 40.7033\n",
            "Test loss: 40.70329666137695\n",
            "Test MAE: 40.70329666137695\n",
            "(1056, 1)\n"
          ]
        }
      ]
    },
    {
      "cell_type": "code",
      "source": [
        "plt.plot(history.history['loss'])\n",
        "plt.plot(history.history['val_loss'])\n",
        "plt.title('Model loss')\n",
        "plt.ylabel('Loss')\n",
        "plt.xlabel('Epoch')\n",
        "plt.legend(['Train', 'Validation'], loc='upper left')\n",
        "plt.show()"
      ],
      "metadata": {
        "colab": {
          "base_uri": "https://localhost:8080/",
          "height": 295
        },
        "id": "VBGMdeuTPuGW",
        "outputId": "3ecc6f48-cd1c-4628-aadd-637dcc5ec9d9"
      },
      "execution_count": 34,
      "outputs": [
        {
          "output_type": "display_data",
          "data": {
            "text/plain": [
              "<Figure size 432x288 with 1 Axes>"
            ],
            "image/png": "[encoded data removed]"
          },
          "metadata": {
            "needs_background": "light"
          }
        }
      ]
    },
    {
      "cell_type": "code",
      "source": [
        "def TestMAE(model,test_data,test_label,test_gender):\n",
        "    #print(test_label.type)\n",
        "    test_gender = np.array(test_gender)\n",
        "    test_gender = np.expand_dims(test_gender,axis=1)\n",
        "    layer=K.function([model.layers[0].input,model.layers[4].input],[model.layers[-1].output])\n",
        "    predictions=layer([test_data,test_gender])\n",
        "    print(predictions)\n",
        "    predictions = np.array(predictions)\n",
        "    print(predictions)\n",
        "    predictions = np.squeeze(predictions,axis=0)\n",
        "    print (predictions.shape)\n",
        "    #print (predict_label)\n",
        "    print (test_label)\n",
        "    TestMAE = np.mean(np.abs(predictions-test_label))\n",
        "    return TestMAE\n",
        "\n",
        "#model.load_weights('/content/weights_m1.10-0.20.hdf5')\n",
        "val=TestMAE(model,x_test,y_test,gender_test)\n",
        "print(val)\n",
        "#gender_test.shape"
      ],
      "metadata": {
        "colab": {
          "base_uri": "https://localhost:8080/"
        },
        "id": "jZwIKISgPuGW",
        "outputId": "45926b8c-8890-41cc-f7e4-33d0939e4360"
      },
      "execution_count": 35,
      "outputs": [
        {
          "output_type": "stream",
          "name": "stdout",
          "text": [
            "[array([[ 94.28423 ],\n",
            "       [ 99.87822 ],\n",
            "       [ 90.72678 ],\n",
            "       [124.95024 ],\n",
            "       [103.52133 ],\n",
            "       [ 93.23083 ],\n",
            "       [ 79.42277 ],\n",
            "       [129.17055 ],\n",
            "       [103.388565],\n",
            "       [100.73206 ],\n",
            "       [106.68454 ],\n",
            "       [ 92.168686],\n",
            "       [ 90.24221 ],\n",
            "       [111.487946],\n",
            "       [106.0944  ],\n",
            "       [ 94.655556],\n",
            "       [ 92.44121 ],\n",
            "       [ 90.97624 ],\n",
            "       [ 93.792336],\n",
            "       [110.98568 ],\n",
            "       [108.848564],\n",
            "       [133.54692 ],\n",
            "       [ 95.22578 ],\n",
            "       [117.94729 ],\n",
            "       [115.577415],\n",
            "       [104.17062 ],\n",
            "       [ 94.43606 ],\n",
            "       [101.995766],\n",
            "       [106.78475 ],\n",
            "       [ 80.615585],\n",
            "       [ 92.4032  ],\n",
            "       [104.60933 ],\n",
            "       [109.11032 ],\n",
            "       [ 92.358025],\n",
            "       [ 90.09554 ],\n",
            "       [ 97.76583 ],\n",
            "       [102.674515],\n",
            "       [ 98.703705],\n",
            "       [120.48962 ],\n",
            "       [101.239006],\n",
            "       [ 97.63226 ],\n",
            "       [101.88801 ],\n",
            "       [ 87.880394],\n",
            "       [ 89.86518 ],\n",
            "       [ 99.42864 ],\n",
            "       [108.17093 ],\n",
            "       [ 89.2878  ],\n",
            "       [ 72.04888 ],\n",
            "       [ 87.26435 ],\n",
            "       [132.5812  ]], dtype=float32)]\n",
            "[[[ 94.28423 ]\n",
            "  [ 99.87822 ]\n",
            "  [ 90.72678 ]\n",
            "  [124.95024 ]\n",
            "  [103.52133 ]\n",
            "  [ 93.23083 ]\n",
            "  [ 79.42277 ]\n",
            "  [129.17055 ]\n",
            "  [103.388565]\n",
            "  [100.73206 ]\n",
            "  [106.68454 ]\n",
            "  [ 92.168686]\n",
            "  [ 90.24221 ]\n",
            "  [111.487946]\n",
            "  [106.0944  ]\n",
            "  [ 94.655556]\n",
            "  [ 92.44121 ]\n",
            "  [ 90.97624 ]\n",
            "  [ 93.792336]\n",
            "  [110.98568 ]\n",
            "  [108.848564]\n",
            "  [133.54692 ]\n",
            "  [ 95.22578 ]\n",
            "  [117.94729 ]\n",
            "  [115.577415]\n",
            "  [104.17062 ]\n",
            "  [ 94.43606 ]\n",
            "  [101.995766]\n",
            "  [106.78475 ]\n",
            "  [ 80.615585]\n",
            "  [ 92.4032  ]\n",
            "  [104.60933 ]\n",
            "  [109.11032 ]\n",
            "  [ 92.358025]\n",
            "  [ 90.09554 ]\n",
            "  [ 97.76583 ]\n",
            "  [102.674515]\n",
            "  [ 98.703705]\n",
            "  [120.48962 ]\n",
            "  [101.239006]\n",
            "  [ 97.63226 ]\n",
            "  [101.88801 ]\n",
            "  [ 87.880394]\n",
            "  [ 89.86518 ]\n",
            "  [ 99.42864 ]\n",
            "  [108.17093 ]\n",
            "  [ 89.2878  ]\n",
            "  [ 72.04888 ]\n",
            "  [ 87.26435 ]\n",
            "  [132.5812  ]]]\n",
            "(50, 1)\n",
            "[ 86.2  129.1   57.76 178.7  110.1  101.5   49.02 199.4  139.9  151.5\n",
            " 124.8   67.96 126.3  223.3  143.8   65.92  92.65  68.68  85.68 181.\n",
            " 183.1  212.   106.3  183.6  204.7  149.7  121.2  138.2  162.2  117.4\n",
            " 142.8  151.4  226.9  107.7   90.12 107.3  147.2  106.1  224.3  152.\n",
            "  90.28 127.8  109.8   78.77 207.4  144.8  102.6   23.97  55.86 214.4 ]\n",
            "47.800911936523434\n"
          ]
        }
      ]
    },
    {
      "cell_type": "markdown",
      "source": [
        "4.------------------------mobile---------------------------------"
      ],
      "metadata": {
        "id": "0AsthcilTQ4j"
      }
    },
    {
      "cell_type": "code",
      "source": [
        "from keras.layers import Flatten, Dense, Input, Reshape, Lambda\n",
        "from keras import backend as K\n",
        "from keras.preprocessing.image import ImageDataGenerator\n",
        "from tensorflow.keras.applications.mobilenet_v2 import MobileNetV2\n",
        "\n",
        "base_model = MobileNetV2(weights='imagenet', include_top=False)\n",
        "input = Input(shape=(300,300,3),name='input1')\n",
        "input_gender = Input(shape=(1,),dtype='float32',name='input2')\n",
        "output = base_model(input)\n",
        "gender_embedding=Dense(32)(input_gender)\n",
        "#gender_embedding=Dense(12)(gender_embedding)\n",
        "#x = keras.layers.MaxPooling2D(pool_size=(5,5))(output)\n",
        "#x = keras.layers.Conv2D(512,kernel_size=(3,3))(x)\n",
        "x = keras.layers.Conv2D(256,kernel_size=(3,3))(output)\n",
        "print (K.int_shape(output))\n",
        "x = keras.layers.MaxPooling2D(pool_size=(3,3))(x)\n",
        "print (K.int_shape(x))\n",
        "x=Flatten()(x)\n",
        "f = keras.layers.Concatenate(axis=1)([x,gender_embedding])\n",
        "print (K.int_shape(f)) \n",
        "#x = Dense(256, activation='relu')(x)\n",
        "predictions = Dense(1 )(f)\n",
        "\n",
        "model = Model(inputs=[input,input_gender], outputs=predictions)\n",
        "\n",
        "\n",
        "Adam=keras.optimizers.Adam(lr=0.0001,beta_1=0.9,beta_2=0.999)\n",
        "model.compile(optimizer=Adam, loss='mean_absolute_error', metrics=['MAE'])\n",
        "\n",
        "model.summary\n",
        "# Save weights after every epoch\n",
        "\n",
        "checkpoint =keras.callbacks.ModelCheckpoint(filepath='weights_m4.{epoch:02d}-{val_loss:.2f}.hdf5',save_weights_only=True,period=10)\n",
        "#history = model.fit_generator(DataGen.flow([x_train,gender_train],y_train,batch_size=batch_size),steps_per_epoch=np.ceil(len(y_train)/batch_size),epochs=10,verbose=1,validation_data=([x_valid,gender_valid],y_valid))\n",
        "#history = model.fit_generator(Generator(x_train,gender_train,y_train,batch_size),steps_per_epoch=np.ceil(len(y_train)/batch_size),epochs=10,verbose=1,validation_data=([x_valid,gender_valid],y_valid))\n",
        "history=model.fit([x_train,gender_train],y_train,batch_size=batch_size,epochs=10,verbose=1,validation_data=([x_valid,gender_valid],y_valid), callbacks = [checkpoint])\n",
        "score = model.evaluate([x_test,gender_test], y_test, batch_size=batch_size)\n",
        "print('Test loss:', score[0])\n",
        "print('Test MAE:', score[1])\n",
        "\n",
        "##Visulization\n",
        "weights=model.layers[-1].get_weights()[0]\n",
        "print (weights.shape)\n",
        "\n",
        "#ShowAttentionV1(base_model,'/raid/chenchao/code/BoneAge/BoneAge/data/train/')\n",
        "\n",
        "#for layer in base_model.layers[:16]:\n",
        "#    layer.trainable=False\n",
        "#for layer in base_model.layers:\n",
        "#    print (layer.name,layer.trainable)\n"
      ],
      "metadata": {
        "colab": {
          "base_uri": "https://localhost:8080/"
        },
        "id": "uRwcI_J3TQ4j",
        "outputId": "447e8fec-8031-45e0-e95d-871aa1ae52ea"
      },
      "execution_count": 36,
      "outputs": [
        {
          "output_type": "stream",
          "name": "stderr",
          "text": [
            "WARNING:tensorflow:`input_shape` is undefined or non-square, or `rows` is not in [96, 128, 160, 192, 224]. Weights for input shape (224, 224) will be loaded as the default.\n"
          ]
        },
        {
          "output_type": "stream",
          "name": "stdout",
          "text": [
            "Downloading data from https://storage.googleapis.com/tensorflow/keras-applications/mobilenet_v2/mobilenet_v2_weights_tf_dim_ordering_tf_kernels_1.0_224_no_top.h5\n",
            "9406464/9406464 [==============================] - 0s 0us/step\n"
          ]
        },
        {
          "output_type": "stream",
          "name": "stderr",
          "text": [
            "WARNING:tensorflow:`period` argument is deprecated. Please use `save_freq` to specify the frequency in number of batches seen.\n"
          ]
        },
        {
          "output_type": "stream",
          "name": "stdout",
          "text": [
            "(None, 9, 9, 1280)\n",
            "(None, 2, 2, 256)\n",
            "(None, 1056)\n",
            "Epoch 1/10\n",
            "81/81 [==============================] - 25s 237ms/step - loss: 31.1015 - MAE: 31.1015 - val_loss: 71.5986 - val_MAE: 71.5986\n",
            "Epoch 2/10\n",
            "81/81 [==============================] - 17s 211ms/step - loss: 16.7838 - MAE: 16.7838 - val_loss: 52.8022 - val_MAE: 52.8022\n",
            "Epoch 3/10\n",
            "81/81 [==============================] - 17s 209ms/step - loss: 15.9589 - MAE: 15.9589 - val_loss: 42.1438 - val_MAE: 42.1438\n",
            "Epoch 4/10\n",
            "81/81 [==============================] - 17s 206ms/step - loss: 13.6167 - MAE: 13.6167 - val_loss: 39.4653 - val_MAE: 39.4653\n",
            "Epoch 5/10\n",
            "81/81 [==============================] - 17s 207ms/step - loss: 11.8812 - MAE: 11.8812 - val_loss: 27.9636 - val_MAE: 27.9636\n",
            "Epoch 6/10\n",
            "81/81 [==============================] - 17s 207ms/step - loss: 11.4175 - MAE: 11.4175 - val_loss: 22.4564 - val_MAE: 22.4564\n",
            "Epoch 7/10\n",
            "81/81 [==============================] - 17s 209ms/step - loss: 9.9872 - MAE: 9.9872 - val_loss: 22.1112 - val_MAE: 22.1112\n",
            "Epoch 8/10\n",
            "81/81 [==============================] - 17s 210ms/step - loss: 11.1924 - MAE: 11.1924 - val_loss: 21.0057 - val_MAE: 21.0057\n",
            "Epoch 9/10\n",
            "81/81 [==============================] - 17s 209ms/step - loss: 9.3397 - MAE: 9.3397 - val_loss: 27.0059 - val_MAE: 27.0059\n",
            "Epoch 10/10\n",
            "81/81 [==============================] - 17s 210ms/step - loss: 8.2498 - MAE: 8.2498 - val_loss: 24.9917 - val_MAE: 24.9917\n",
            "4/4 [==============================] - 0s 42ms/step - loss: 23.8255 - MAE: 23.8255\n",
            "Test loss: 23.825454711914062\n",
            "Test MAE: 23.825454711914062\n",
            "(1056, 1)\n"
          ]
        }
      ]
    },
    {
      "cell_type": "code",
      "source": [
        "plt.plot(history.history['loss'])\n",
        "plt.plot(history.history['val_loss'])\n",
        "plt.title('Model loss')\n",
        "plt.ylabel('Loss')\n",
        "plt.xlabel('Epoch')\n",
        "plt.legend(['Train', 'Validation'], loc='upper left')\n",
        "plt.show()"
      ],
      "metadata": {
        "colab": {
          "base_uri": "https://localhost:8080/",
          "height": 295
        },
        "id": "qVw6sK7JTQ4j",
        "outputId": "bcafc91a-3c64-4240-e29c-85d8decf4dba"
      },
      "execution_count": 37,
      "outputs": [
        {
          "output_type": "display_data",
          "data": {
            "text/plain": [
              "<Figure size 432x288 with 1 Axes>"
            ],
            "image/png": "[encoded data removed]"
          },
          "metadata": {
            "needs_background": "light"
          }
        }
      ]
    },
    {
      "cell_type": "code",
      "source": [
        "def TestMAE(model,test_data,test_label,test_gender):\n",
        "    #print(test_label.type)\n",
        "    test_gender = np.array(test_gender)\n",
        "    test_gender = np.expand_dims(test_gender,axis=1)\n",
        "    layer=K.function([model.layers[0].input,model.layers[4].input],[model.layers[-1].output])\n",
        "    predictions=layer([test_data,test_gender])\n",
        "    print(predictions)\n",
        "    predictions = np.array(predictions)\n",
        "    print(predictions)\n",
        "    predictions = np.squeeze(predictions,axis=0)\n",
        "    print (predictions.shape)\n",
        "    print (test_label)\n",
        "    TestMAE = np.mean(np.abs(predictions-test_label))\n",
        "    return TestMAE\n",
        "\n",
        "#model.load_weights('/content/weights_m1.10-0.20.hdf5')\n",
        "val=TestMAE(model,x_test,y_test,gender_test)\n",
        "print(val)\n",
        "#gender_test.shape"
      ],
      "metadata": {
        "colab": {
          "base_uri": "https://localhost:8080/"
        },
        "id": "iyzDXbECTQ4k",
        "outputId": "bdbb466b-a932-42bb-b403-0c37e6942439"
      },
      "execution_count": 38,
      "outputs": [
        {
          "output_type": "stream",
          "name": "stdout",
          "text": [
            "[array([[126.03241 ],\n",
            "       [123.931915],\n",
            "       [ 91.26793 ],\n",
            "       [197.08026 ],\n",
            "       [154.2716  ],\n",
            "       [114.365074],\n",
            "       [ 68.22073 ],\n",
            "       [209.76364 ],\n",
            "       [154.67383 ],\n",
            "       [165.05751 ],\n",
            "       [177.75005 ],\n",
            "       [114.80784 ],\n",
            "       [129.44281 ],\n",
            "       [202.12065 ],\n",
            "       [164.35544 ],\n",
            "       [ 88.90781 ],\n",
            "       [105.06391 ],\n",
            "       [125.53028 ],\n",
            "       [129.66937 ],\n",
            "       [191.53671 ],\n",
            "       [199.07869 ],\n",
            "       [206.17729 ],\n",
            "       [132.57256 ],\n",
            "       [184.03033 ],\n",
            "       [207.93736 ],\n",
            "       [173.87285 ],\n",
            "       [129.78822 ],\n",
            "       [165.28625 ],\n",
            "       [172.79622 ],\n",
            "       [ 77.64644 ],\n",
            "       [136.76839 ],\n",
            "       [158.9728  ],\n",
            "       [183.26117 ],\n",
            "       [137.6314  ],\n",
            "       [120.59768 ],\n",
            "       [ 96.61492 ],\n",
            "       [181.14043 ],\n",
            "       [148.68535 ],\n",
            "       [180.2752  ],\n",
            "       [159.99107 ],\n",
            "       [119.52217 ],\n",
            "       [165.76001 ],\n",
            "       [141.19017 ],\n",
            "       [ 84.624565],\n",
            "       [166.46231 ],\n",
            "       [177.83173 ],\n",
            "       [111.50595 ],\n",
            "       [ 58.705517],\n",
            "       [ 90.966896],\n",
            "       [202.38338 ]], dtype=float32)]\n",
            "[[[126.03241 ]\n",
            "  [123.931915]\n",
            "  [ 91.26793 ]\n",
            "  [197.08026 ]\n",
            "  [154.2716  ]\n",
            "  [114.365074]\n",
            "  [ 68.22073 ]\n",
            "  [209.76364 ]\n",
            "  [154.67383 ]\n",
            "  [165.05751 ]\n",
            "  [177.75005 ]\n",
            "  [114.80784 ]\n",
            "  [129.44281 ]\n",
            "  [202.12065 ]\n",
            "  [164.35544 ]\n",
            "  [ 88.90781 ]\n",
            "  [105.06391 ]\n",
            "  [125.53028 ]\n",
            "  [129.66937 ]\n",
            "  [191.53671 ]\n",
            "  [199.07869 ]\n",
            "  [206.17729 ]\n",
            "  [132.57256 ]\n",
            "  [184.03033 ]\n",
            "  [207.93736 ]\n",
            "  [173.87285 ]\n",
            "  [129.78822 ]\n",
            "  [165.28625 ]\n",
            "  [172.79622 ]\n",
            "  [ 77.64644 ]\n",
            "  [136.76839 ]\n",
            "  [158.9728  ]\n",
            "  [183.26117 ]\n",
            "  [137.6314  ]\n",
            "  [120.59768 ]\n",
            "  [ 96.61492 ]\n",
            "  [181.14043 ]\n",
            "  [148.68535 ]\n",
            "  [180.2752  ]\n",
            "  [159.99107 ]\n",
            "  [119.52217 ]\n",
            "  [165.76001 ]\n",
            "  [141.19017 ]\n",
            "  [ 84.624565]\n",
            "  [166.46231 ]\n",
            "  [177.83173 ]\n",
            "  [111.50595 ]\n",
            "  [ 58.705517]\n",
            "  [ 90.966896]\n",
            "  [202.38338 ]]]\n",
            "(50, 1)\n",
            "[ 86.2  129.1   57.76 178.7  110.1  101.5   49.02 199.4  139.9  151.5\n",
            " 124.8   67.96 126.3  223.3  143.8   65.92  92.65  68.68  85.68 181.\n",
            " 183.1  212.   106.3  183.6  204.7  149.7  121.2  138.2  162.2  117.4\n",
            " 142.8  151.4  226.9  107.7   90.12 107.3  147.2  106.1  224.3  152.\n",
            "  90.28 127.8  109.8   78.77 207.4  144.8  102.6   23.97  55.86 214.4 ]\n",
            "54.00663967736818\n"
          ]
        }
      ]
    },
    {
      "cell_type": "markdown",
      "source": [
        "5.------------------------inres---------------------------------"
      ],
      "metadata": {
        "id": "hMvmsbJlT45n"
      }
    },
    {
      "cell_type": "code",
      "source": [
        "from keras.layers import Flatten, Dense, Input, Reshape, Lambda\n",
        "from keras import backend as K\n",
        "from keras.preprocessing.image import ImageDataGenerator\n",
        "from tensorflow.keras.applications.inception_resnet_v2 import InceptionResNetV2\n",
        "\n",
        "base_model = InceptionResNetV2(weights='imagenet', include_top=False)\n",
        "input = Input(shape=(300,300,3),name='input1')\n",
        "input_gender = Input(shape=(1,),dtype='float32',name='input2')\n",
        "output = base_model(input)\n",
        "gender_embedding=Dense(32)(input_gender)\n",
        "#gender_embedding=Dense(12)(gender_embedding)\n",
        "#x = keras.layers.MaxPooling2D(pool_size=(5,5))(output)\n",
        "#x = keras.layers.Conv2D(512,kernel_size=(3,3))(x)\n",
        "x = keras.layers.Conv2D(256,kernel_size=(3,3))(output)\n",
        "print (K.int_shape(output))\n",
        "x = keras.layers.MaxPooling2D(pool_size=(3,3))(x)\n",
        "print (K.int_shape(x))\n",
        "x=Flatten()(x)\n",
        "f = keras.layers.Concatenate(axis=1)([x,gender_embedding])\n",
        "print (K.int_shape(f)) \n",
        "#x = Dense(256, activation='relu')(x)\n",
        "predictions = Dense(1 )(f)\n",
        "\n",
        "model = Model(inputs=[input,input_gender], outputs=predictions)\n",
        "\n",
        "\n",
        "Adam=keras.optimizers.Adam(lr=0.0001,beta_1=0.9,beta_2=0.999)\n",
        "model.compile(optimizer=Adam, loss='mean_absolute_error', metrics=['MAE'])\n",
        "\n",
        "model.summary\n",
        "# Save weights after every epoch\n",
        "\n",
        "checkpoint =keras.callbacks.ModelCheckpoint(filepath='weights_m5.{epoch:02d}-{val_loss:.2f}.hdf5',save_weights_only=True,period=10)\n",
        "#history = model.fit_generator(DataGen.flow([x_train,gender_train],y_train,batch_size=batch_size),steps_per_epoch=np.ceil(len(y_train)/batch_size),epochs=10,verbose=1,validation_data=([x_valid,gender_valid],y_valid))\n",
        "#history = model.fit_generator(Generator(x_train,gender_train,y_train,batch_size),steps_per_epoch=np.ceil(len(y_train)/batch_size),epochs=10,verbose=1,validation_data=([x_valid,gender_valid],y_valid))\n",
        "history=model.fit([x_train,gender_train],y_train,batch_size=batch_size,epochs=10,verbose=1,validation_data=([x_valid,gender_valid],y_valid), callbacks = [checkpoint])\n",
        "score = model.evaluate([x_test,gender_test], y_test, batch_size=batch_size)\n",
        "print('Test loss:', score[0])\n",
        "print('Test MAE:', score[1])\n",
        "\n",
        "##Visulization\n",
        "weights=model.layers[-1].get_weights()[0]\n",
        "print (weights.shape)\n",
        "\n",
        "#ShowAttentionV1(base_model,'/raid/chenchao/code/BoneAge/BoneAge/data/train/')\n",
        "\n",
        "#for layer in base_model.layers[:16]:\n",
        "#    layer.trainable=False\n",
        "#for layer in base_model.layers:\n",
        "#    print (layer.name,layer.trainable)\n"
      ],
      "metadata": {
        "colab": {
          "base_uri": "https://localhost:8080/"
        },
        "id": "cvBA2WueT45n",
        "outputId": "eed0dc52-cfd7-4dfb-853c-c6e874c13781"
      },
      "execution_count": 39,
      "outputs": [
        {
          "output_type": "stream",
          "name": "stdout",
          "text": [
            "Downloading data from https://storage.googleapis.com/tensorflow/keras-applications/inception_resnet_v2/inception_resnet_v2_weights_tf_dim_ordering_tf_kernels_notop.h5\n",
            "219055592/219055592 [==============================] - 12s 0us/step\n"
          ]
        },
        {
          "output_type": "stream",
          "name": "stderr",
          "text": [
            "WARNING:tensorflow:`period` argument is deprecated. Please use `save_freq` to specify the frequency in number of batches seen.\n"
          ]
        },
        {
          "output_type": "stream",
          "name": "stdout",
          "text": [
            "(None, 8, 8, 1536)\n",
            "(None, 2, 2, 256)\n",
            "(None, 1056)\n",
            "Epoch 1/10\n",
            "81/81 [==============================] - 76s 671ms/step - loss: 29.1579 - MAE: 29.1579 - val_loss: 21.9943 - val_MAE: 21.9943\n",
            "Epoch 2/10\n",
            "81/81 [==============================] - 47s 576ms/step - loss: 17.2834 - MAE: 17.2834 - val_loss: 42.2221 - val_MAE: 42.2221\n",
            "Epoch 3/10\n",
            "81/81 [==============================] - 47s 582ms/step - loss: 13.7085 - MAE: 13.7085 - val_loss: 28.8222 - val_MAE: 28.8222\n",
            "Epoch 4/10\n",
            "81/81 [==============================] - 47s 578ms/step - loss: 11.3037 - MAE: 11.3037 - val_loss: 19.2887 - val_MAE: 19.2887\n",
            "Epoch 5/10\n",
            "81/81 [==============================] - 47s 581ms/step - loss: 11.1450 - MAE: 11.1450 - val_loss: 17.9324 - val_MAE: 17.9324\n",
            "Epoch 6/10\n",
            "81/81 [==============================] - 47s 581ms/step - loss: 10.2713 - MAE: 10.2713 - val_loss: 16.7766 - val_MAE: 16.7766\n",
            "Epoch 7/10\n",
            "81/81 [==============================] - 47s 581ms/step - loss: 9.6069 - MAE: 9.6069 - val_loss: 20.0903 - val_MAE: 20.0903\n",
            "Epoch 8/10\n",
            "81/81 [==============================] - 47s 580ms/step - loss: 8.7416 - MAE: 8.7416 - val_loss: 15.3738 - val_MAE: 15.3738\n",
            "Epoch 9/10\n",
            "81/81 [==============================] - 47s 578ms/step - loss: 7.4263 - MAE: 7.4263 - val_loss: 16.1198 - val_MAE: 16.1198\n",
            "Epoch 10/10\n",
            "81/81 [==============================] - 48s 594ms/step - loss: 7.9733 - MAE: 7.9733 - val_loss: 15.9016 - val_MAE: 15.9016\n",
            "4/4 [==============================] - 1s 135ms/step - loss: 13.6430 - MAE: 13.6430\n",
            "Test loss: 13.642969131469727\n",
            "Test MAE: 13.642969131469727\n",
            "(1056, 1)\n"
          ]
        }
      ]
    },
    {
      "cell_type": "code",
      "source": [
        "plt.plot(history.history['loss'])\n",
        "plt.plot(history.history['val_loss'])\n",
        "plt.title('Model loss')\n",
        "plt.ylabel('Loss')\n",
        "plt.xlabel('Epoch')\n",
        "plt.legend(['Train', 'Validation'], loc='upper left')\n",
        "plt.show()"
      ],
      "metadata": {
        "colab": {
          "base_uri": "https://localhost:8080/",
          "height": 295
        },
        "id": "9_ud4yvJT45o",
        "outputId": "dd30252f-d76c-47e5-fba8-7a2924feb8b0"
      },
      "execution_count": 40,
      "outputs": [
        {
          "output_type": "display_data",
          "data": {
            "text/plain": [
              "<Figure size 432x288 with 1 Axes>"
            ],
            "image/png": "[encoded data removed]"
          },
          "metadata": {
            "needs_background": "light"
          }
        }
      ]
    },
    {
      "cell_type": "code",
      "source": [
        "def TestMAE(model,test_data,test_label,test_gender):\n",
        "    #print(test_label.type)\n",
        "    test_gender = np.array(test_gender)\n",
        "    test_gender = np.expand_dims(test_gender,axis=1)\n",
        "    layer=K.function([model.layers[0].input,model.layers[4].input],[model.layers[-1].output])\n",
        "    predictions=layer([test_data,test_gender])\n",
        "    print(predictions)\n",
        "    predictions = np.array(predictions)\n",
        "    print(predictions)\n",
        "    predictions = np.squeeze(predictions,axis=0)\n",
        "    print (predictions.shape)\n",
        "    #predict_label = np.argmax(predictions,axis=1)\n",
        "    #test_label = np.argmax(test_label,axis=1)\n",
        "    #print (predict_label)\n",
        "    print (test_label)\n",
        "    TestMAE = np.mean(np.abs(predictions-test_label))\n",
        "    return TestMAE\n",
        "\n",
        "#model.load_weights('/content/weights_m1.10-0.20.hdf5')\n",
        "val=TestMAE(model,x_test,y_test,gender_test)\n",
        "print(val)\n",
        "#gender_test.shape"
      ],
      "metadata": {
        "colab": {
          "base_uri": "https://localhost:8080/"
        },
        "id": "fB1oXCocT45o",
        "outputId": "074ad4a5-2b1d-40d5-eedc-000c69570e51"
      },
      "execution_count": 41,
      "outputs": [
        {
          "output_type": "stream",
          "name": "stdout",
          "text": [
            "[array([[ 92.34558 ],\n",
            "       [ 93.23527 ],\n",
            "       [ 55.520195],\n",
            "       [183.62704 ],\n",
            "       [106.99354 ],\n",
            "       [ 86.144905],\n",
            "       [ 44.627705],\n",
            "       [199.87415 ],\n",
            "       [144.50111 ],\n",
            "       [133.06915 ],\n",
            "       [126.40394 ],\n",
            "       [ 57.414505],\n",
            "       [ 93.69293 ],\n",
            "       [209.07263 ],\n",
            "       [149.65962 ],\n",
            "       [ 63.933537],\n",
            "       [ 63.828796],\n",
            "       [ 69.004845],\n",
            "       [108.333855],\n",
            "       [187.1767  ],\n",
            "       [188.80087 ],\n",
            "       [196.3005  ],\n",
            "       [ 95.76556 ],\n",
            "       [190.15952 ],\n",
            "       [186.82501 ],\n",
            "       [137.59421 ],\n",
            "       [ 91.196014],\n",
            "       [147.14497 ],\n",
            "       [162.07166 ],\n",
            "       [ 95.05599 ],\n",
            "       [108.84294 ],\n",
            "       [150.31024 ],\n",
            "       [197.48065 ],\n",
            "       [ 88.25938 ],\n",
            "       [ 92.287834],\n",
            "       [ 80.84161 ],\n",
            "       [142.98064 ],\n",
            "       [102.70334 ],\n",
            "       [205.53726 ],\n",
            "       [137.30875 ],\n",
            "       [ 81.00219 ],\n",
            "       [134.7181  ],\n",
            "       [ 87.581635],\n",
            "       [ 59.140324],\n",
            "       [176.66267 ],\n",
            "       [161.28241 ],\n",
            "       [ 76.11026 ],\n",
            "       [ 26.749987],\n",
            "       [ 50.275566],\n",
            "       [176.2153  ]], dtype=float32)]\n",
            "[[[ 92.34558 ]\n",
            "  [ 93.23527 ]\n",
            "  [ 55.520195]\n",
            "  [183.62704 ]\n",
            "  [106.99354 ]\n",
            "  [ 86.144905]\n",
            "  [ 44.627705]\n",
            "  [199.87415 ]\n",
            "  [144.50111 ]\n",
            "  [133.06915 ]\n",
            "  [126.40394 ]\n",
            "  [ 57.414505]\n",
            "  [ 93.69293 ]\n",
            "  [209.07263 ]\n",
            "  [149.65962 ]\n",
            "  [ 63.933537]\n",
            "  [ 63.828796]\n",
            "  [ 69.004845]\n",
            "  [108.333855]\n",
            "  [187.1767  ]\n",
            "  [188.80087 ]\n",
            "  [196.3005  ]\n",
            "  [ 95.76556 ]\n",
            "  [190.15952 ]\n",
            "  [186.82501 ]\n",
            "  [137.59421 ]\n",
            "  [ 91.196014]\n",
            "  [147.14497 ]\n",
            "  [162.07166 ]\n",
            "  [ 95.05599 ]\n",
            "  [108.84294 ]\n",
            "  [150.31024 ]\n",
            "  [197.48065 ]\n",
            "  [ 88.25938 ]\n",
            "  [ 92.287834]\n",
            "  [ 80.84161 ]\n",
            "  [142.98064 ]\n",
            "  [102.70334 ]\n",
            "  [205.53726 ]\n",
            "  [137.30875 ]\n",
            "  [ 81.00219 ]\n",
            "  [134.7181  ]\n",
            "  [ 87.581635]\n",
            "  [ 59.140324]\n",
            "  [176.66267 ]\n",
            "  [161.28241 ]\n",
            "  [ 76.11026 ]\n",
            "  [ 26.749987]\n",
            "  [ 50.275566]\n",
            "  [176.2153  ]]]\n",
            "(50, 1)\n",
            "[ 86.2  129.1   57.76 178.7  110.1  101.5   49.02 199.4  139.9  151.5\n",
            " 124.8   67.96 126.3  223.3  143.8   65.92  92.65  68.68  85.68 181.\n",
            " 183.1  212.   106.3  183.6  204.7  149.7  121.2  138.2  162.2  117.4\n",
            " 142.8  151.4  226.9  107.7   90.12 107.3  147.2  106.1  224.3  152.\n",
            "  90.28 127.8  109.8   78.77 207.4  144.8  102.6   23.97  55.86 214.4 ]\n",
            "58.24262625878906\n"
          ]
        }
      ]
    },
    {
      "cell_type": "markdown",
      "source": [
        "6.------------------------den201---------------------------------"
      ],
      "metadata": {
        "id": "CtvkMk-gUT_f"
      }
    },
    {
      "cell_type": "code",
      "source": [
        "from keras.layers import Flatten, Dense, Input, Reshape, Lambda\n",
        "from keras import backend as K\n",
        "from keras.preprocessing.image import ImageDataGenerator\n",
        "from tensorflow.keras.applications.densenet import DenseNet201\n",
        "\n",
        "base_model = DenseNet201(weights='imagenet', include_top=False)\n",
        "input = Input(shape=(300,300,3),name='input1')\n",
        "input_gender = Input(shape=(1,),dtype='float32',name='input2')\n",
        "output = base_model(input)\n",
        "gender_embedding=Dense(32)(input_gender)\n",
        "#gender_embedding=Dense(12)(gender_embedding)\n",
        "#x = keras.layers.MaxPooling2D(pool_size=(5,5))(output)\n",
        "#x = keras.layers.Conv2D(512,kernel_size=(3,3))(x)\n",
        "x = keras.layers.Conv2D(256,kernel_size=(3,3))(output)\n",
        "print (K.int_shape(output))\n",
        "x = keras.layers.MaxPooling2D(pool_size=(3,3))(x)\n",
        "print (K.int_shape(x))\n",
        "x=Flatten()(x)\n",
        "f = keras.layers.Concatenate(axis=1)([x,gender_embedding])\n",
        "print (K.int_shape(f)) \n",
        "#x = Dense(256, activation='relu')(x)\n",
        "predictions = Dense(1 )(f)\n",
        "\n",
        "model = Model(inputs=[input,input_gender], outputs=predictions)\n",
        "\n",
        "\n",
        "Adam=keras.optimizers.Adam(lr=0.0001,beta_1=0.9,beta_2=0.999)\n",
        "model.compile(optimizer=Adam, loss='mean_absolute_error', metrics=['MAE'])\n",
        "\n",
        "model.summary\n",
        "# Save weights after every epoch\n",
        "\n",
        "checkpoint =keras.callbacks.ModelCheckpoint(filepath='weights_m6.{epoch:02d}-{val_loss:.2f}.hdf5',save_weights_only=True,period=10)\n",
        "#history = model.fit_generator(DataGen.flow([x_train,gender_train],y_train,batch_size=batch_size),steps_per_epoch=np.ceil(len(y_train)/batch_size),epochs=10,verbose=1,validation_data=([x_valid,gender_valid],y_valid))\n",
        "#history = model.fit_generator(Generator(x_train,gender_train,y_train,batch_size),steps_per_epoch=np.ceil(len(y_train)/batch_size),epochs=10,verbose=1,validation_data=([x_valid,gender_valid],y_valid))\n",
        "history=model.fit([x_train,gender_train],y_train,batch_size=batch_size,epochs=10,verbose=1,validation_data=([x_valid,gender_valid],y_valid), callbacks = [checkpoint])\n",
        "score = model.evaluate([x_test,gender_test], y_test, batch_size=batch_size)\n",
        "print('Test loss:', score[0])\n",
        "print('Test MAE:', score[1])\n",
        "\n",
        "##Visulization\n",
        "weights=model.layers[-1].get_weights()[0]\n",
        "print (weights.shape)\n",
        "\n",
        "#ShowAttentionV1(base_model,'/raid/chenchao/code/BoneAge/BoneAge/data/train/')\n",
        "\n",
        "#for layer in base_model.layers[:16]:\n",
        "#    layer.trainable=False\n",
        "#for layer in base_model.layers:\n",
        "#    print (layer.name,layer.trainable)\n"
      ],
      "metadata": {
        "colab": {
          "base_uri": "https://localhost:8080/"
        },
        "id": "k6uePgGcUT_g",
        "outputId": "4a5c6e11-773d-4d91-8b5f-1a52c7b1c971"
      },
      "execution_count": 42,
      "outputs": [
        {
          "output_type": "stream",
          "name": "stdout",
          "text": [
            "Downloading data from https://storage.googleapis.com/tensorflow/keras-applications/densenet/densenet201_weights_tf_dim_ordering_tf_kernels_notop.h5\n",
            "74836368/74836368 [==============================] - 4s 0us/step\n"
          ]
        },
        {
          "output_type": "stream",
          "name": "stderr",
          "text": [
            "WARNING:tensorflow:`period` argument is deprecated. Please use `save_freq` to specify the frequency in number of batches seen.\n"
          ]
        },
        {
          "output_type": "stream",
          "name": "stdout",
          "text": [
            "(None, 9, 9, 1920)\n",
            "(None, 2, 2, 256)\n",
            "(None, 1056)\n",
            "Epoch 1/10\n",
            "81/81 [==============================] - 86s 696ms/step - loss: 25.9185 - MAE: 25.9185 - val_loss: 68.9332 - val_MAE: 68.9332\n",
            "Epoch 2/10\n",
            "81/81 [==============================] - 41s 506ms/step - loss: 16.2421 - MAE: 16.2421 - val_loss: 35.2527 - val_MAE: 35.2527\n",
            "Epoch 3/10\n",
            "81/81 [==============================] - 41s 512ms/step - loss: 14.2109 - MAE: 14.2109 - val_loss: 17.6235 - val_MAE: 17.6235\n",
            "Epoch 4/10\n",
            "81/81 [==============================] - 41s 507ms/step - loss: 14.1727 - MAE: 14.1727 - val_loss: 17.6843 - val_MAE: 17.6843\n",
            "Epoch 5/10\n",
            "81/81 [==============================] - 41s 508ms/step - loss: 11.1731 - MAE: 11.1731 - val_loss: 19.0242 - val_MAE: 19.0242\n",
            "Epoch 6/10\n",
            "81/81 [==============================] - 41s 509ms/step - loss: 9.2526 - MAE: 9.2526 - val_loss: 19.7910 - val_MAE: 19.7910\n",
            "Epoch 7/10\n",
            "81/81 [==============================] - 41s 512ms/step - loss: 10.0094 - MAE: 10.0094 - val_loss: 15.6573 - val_MAE: 15.6573\n",
            "Epoch 8/10\n",
            "81/81 [==============================] - 41s 508ms/step - loss: 8.7966 - MAE: 8.7966 - val_loss: 14.8247 - val_MAE: 14.8247\n",
            "Epoch 9/10\n",
            "81/81 [==============================] - 41s 510ms/step - loss: 7.6473 - MAE: 7.6473 - val_loss: 15.0440 - val_MAE: 15.0440\n",
            "Epoch 10/10\n",
            "81/81 [==============================] - 42s 518ms/step - loss: 8.7385 - MAE: 8.7385 - val_loss: 18.7201 - val_MAE: 18.7201\n",
            "4/4 [==============================] - 1s 109ms/step - loss: 15.1514 - MAE: 15.1514\n",
            "Test loss: 15.1514253616333\n",
            "Test MAE: 15.1514253616333\n",
            "(1056, 1)\n"
          ]
        }
      ]
    },
    {
      "cell_type": "code",
      "source": [
        "plt.plot(history.history['loss'])\n",
        "plt.plot(history.history['val_loss'])\n",
        "plt.title('Model loss')\n",
        "plt.ylabel('Loss')\n",
        "plt.xlabel('Epoch')\n",
        "plt.legend(['Train', 'Validation'], loc='upper left')\n",
        "plt.show()"
      ],
      "metadata": {
        "colab": {
          "base_uri": "https://localhost:8080/",
          "height": 295
        },
        "id": "bnj8-o4XUT_g",
        "outputId": "77eee094-33b6-4eed-957f-165124882d7d"
      },
      "execution_count": 43,
      "outputs": [
        {
          "output_type": "display_data",
          "data": {
            "text/plain": [
              "<Figure size 432x288 with 1 Axes>"
            ],
            "image/png": "[encoded data removed]"
          },
          "metadata": {
            "needs_background": "light"
          }
        }
      ]
    },
    {
      "cell_type": "code",
      "source": [
        "def TestMAE(model,test_data,test_label,test_gender):\n",
        "    #print(test_label.type)\n",
        "    test_gender = np.array(test_gender)\n",
        "    test_gender = np.expand_dims(test_gender,axis=1)\n",
        "    layer=K.function([model.layers[0].input,model.layers[4].input],[model.layers[-1].output])\n",
        "    predictions=layer([test_data,test_gender])\n",
        "    print(predictions)\n",
        "    predictions = np.array(predictions)\n",
        "    print(predictions)\n",
        "    predictions = np.squeeze(predictions,axis=0)\n",
        "    print (predictions.shape)\n",
        "    #predict_label = np.argmax(predictions,axis=1)\n",
        "    #test_label = np.argmax(test_label,axis=1)\n",
        "    #print (predict_label)\n",
        "    #print (test_label)\n",
        "    TestMAE = np.mean(np.abs(predictions-test_label))\n",
        "    return TestMAE\n",
        "\n",
        "#model.load_weights('/content/weights_m1.10-0.20.hdf5')\n",
        "val=TestMAE(model,x_test,y_test,gender_test)\n",
        "print(val)\n",
        "#gender_test.shape"
      ],
      "metadata": {
        "colab": {
          "base_uri": "https://localhost:8080/"
        },
        "id": "n2RgC6nHUT_g",
        "outputId": "744f08c0-6ea4-4d07-f3ea-e3a0fc705627"
      },
      "execution_count": 44,
      "outputs": [
        {
          "output_type": "stream",
          "name": "stdout",
          "text": [
            "[array([[ 80.73876 ],\n",
            "       [104.537346],\n",
            "       [ 63.350796],\n",
            "       [172.33524 ],\n",
            "       [104.741035],\n",
            "       [ 84.286896],\n",
            "       [ 49.221703],\n",
            "       [187.89842 ],\n",
            "       [127.21207 ],\n",
            "       [129.92387 ],\n",
            "       [125.17837 ],\n",
            "       [ 59.698875],\n",
            "       [ 91.25712 ],\n",
            "       [211.50966 ],\n",
            "       [139.24348 ],\n",
            "       [ 67.913666],\n",
            "       [ 68.94258 ],\n",
            "       [ 69.048256],\n",
            "       [ 91.30661 ],\n",
            "       [173.92104 ],\n",
            "       [157.81949 ],\n",
            "       [212.14667 ],\n",
            "       [ 91.150696],\n",
            "       [179.91014 ],\n",
            "       [170.97702 ],\n",
            "       [128.06209 ],\n",
            "       [ 88.24484 ],\n",
            "       [130.30553 ],\n",
            "       [147.3761  ],\n",
            "       [100.58635 ],\n",
            "       [100.25478 ],\n",
            "       [125.09219 ],\n",
            "       [187.34125 ],\n",
            "       [ 89.74809 ],\n",
            "       [ 85.56167 ],\n",
            "       [ 68.89122 ],\n",
            "       [121.9912  ],\n",
            "       [ 86.551   ],\n",
            "       [210.30193 ],\n",
            "       [120.64505 ],\n",
            "       [ 84.72533 ],\n",
            "       [135.16692 ],\n",
            "       [ 91.55567 ],\n",
            "       [ 66.863304],\n",
            "       [183.24219 ],\n",
            "       [137.07948 ],\n",
            "       [ 79.60869 ],\n",
            "       [ 18.817986],\n",
            "       [ 54.186413],\n",
            "       [202.47571 ]], dtype=float32)]\n",
            "[[[ 80.73876 ]\n",
            "  [104.537346]\n",
            "  [ 63.350796]\n",
            "  [172.33524 ]\n",
            "  [104.741035]\n",
            "  [ 84.286896]\n",
            "  [ 49.221703]\n",
            "  [187.89842 ]\n",
            "  [127.21207 ]\n",
            "  [129.92387 ]\n",
            "  [125.17837 ]\n",
            "  [ 59.698875]\n",
            "  [ 91.25712 ]\n",
            "  [211.50966 ]\n",
            "  [139.24348 ]\n",
            "  [ 67.913666]\n",
            "  [ 68.94258 ]\n",
            "  [ 69.048256]\n",
            "  [ 91.30661 ]\n",
            "  [173.92104 ]\n",
            "  [157.81949 ]\n",
            "  [212.14667 ]\n",
            "  [ 91.150696]\n",
            "  [179.91014 ]\n",
            "  [170.97702 ]\n",
            "  [128.06209 ]\n",
            "  [ 88.24484 ]\n",
            "  [130.30553 ]\n",
            "  [147.3761  ]\n",
            "  [100.58635 ]\n",
            "  [100.25478 ]\n",
            "  [125.09219 ]\n",
            "  [187.34125 ]\n",
            "  [ 89.74809 ]\n",
            "  [ 85.56167 ]\n",
            "  [ 68.89122 ]\n",
            "  [121.9912  ]\n",
            "  [ 86.551   ]\n",
            "  [210.30193 ]\n",
            "  [120.64505 ]\n",
            "  [ 84.72533 ]\n",
            "  [135.16692 ]\n",
            "  [ 91.55567 ]\n",
            "  [ 66.863304]\n",
            "  [183.24219 ]\n",
            "  [137.07948 ]\n",
            "  [ 79.60869 ]\n",
            "  [ 18.817986]\n",
            "  [ 54.186413]\n",
            "  [202.47571 ]]]\n",
            "(50, 1)\n",
            "57.37397675512695\n"
          ]
        }
      ]
    },
    {
      "cell_type": "markdown",
      "source": [
        "7.------------------------eff---------------------------------"
      ],
      "metadata": {
        "id": "uS1uSOjHUswn"
      }
    },
    {
      "cell_type": "code",
      "source": [
        "from keras.layers import Flatten, Dense, Input, Reshape, Lambda\n",
        "from keras import backend as K\n",
        "from keras.preprocessing.image import ImageDataGenerator\n",
        "from tensorflow.keras.applications.efficientnet import EfficientNetB4\n",
        "\n",
        "base_model = EfficientNetB4(weights='imagenet', include_top=False)\n",
        "input = Input(shape=(300,300,3),name='input1')\n",
        "input_gender = Input(shape=(1,),dtype='float32',name='input2')\n",
        "output = base_model(input)\n",
        "gender_embedding=Dense(32)(input_gender)\n",
        "#gender_embedding=Dense(12)(gender_embedding)\n",
        "#x = keras.layers.MaxPooling2D(pool_size=(5,5))(output)\n",
        "#x = keras.layers.Conv2D(512,kernel_size=(3,3))(x)\n",
        "x = keras.layers.Conv2D(256,kernel_size=(3,3))(output)\n",
        "print (K.int_shape(output))\n",
        "x = keras.layers.MaxPooling2D(pool_size=(3,3))(x)\n",
        "print (K.int_shape(x))\n",
        "x=Flatten()(x)\n",
        "f = keras.layers.Concatenate(axis=1)([x,gender_embedding])\n",
        "print (K.int_shape(f)) \n",
        "#x = Dense(256, activation='relu')(x)\n",
        "predictions = Dense(1 )(f)\n",
        "\n",
        "model = Model(inputs=[input,input_gender], outputs=predictions)\n",
        "\n",
        "\n",
        "Adam=keras.optimizers.Adam(lr=0.0001,beta_1=0.9,beta_2=0.999)\n",
        "model.compile(optimizer=Adam, loss='mean_absolute_error', metrics=['MAE'])\n",
        "\n",
        "model.summary\n",
        "# Save weights after every epoch\n",
        "\n",
        "checkpoint =keras.callbacks.ModelCheckpoint(filepath='weights_m6.{epoch:02d}-{val_loss:.2f}.hdf5',save_weights_only=True,period=10)\n",
        "#history = model.fit_generator(DataGen.flow([x_train,gender_train],y_train,batch_size=batch_size),steps_per_epoch=np.ceil(len(y_train)/batch_size),epochs=10,verbose=1,validation_data=([x_valid,gender_valid],y_valid))\n",
        "#history = model.fit_generator(Generator(x_train,gender_train,y_train,batch_size),steps_per_epoch=np.ceil(len(y_train)/batch_size),epochs=10,verbose=1,validation_data=([x_valid,gender_valid],y_valid))\n",
        "history=model.fit([x_train,gender_train],y_train,batch_size=batch_size,epochs=10,verbose=1,validation_data=([x_valid,gender_valid],y_valid), callbacks = [checkpoint])\n",
        "score = model.evaluate([x_test,gender_test], y_test, batch_size=batch_size)\n",
        "print('Test loss:', score[0])\n",
        "print('Test MAE:', score[1])\n",
        "\n",
        "##Visulization\n",
        "weights=model.layers[-1].get_weights()[0]\n",
        "print (weights.shape)\n",
        "\n",
        "#ShowAttentionV1(base_model,'/raid/chenchao/code/BoneAge/BoneAge/data/train/')\n",
        "\n",
        "#for layer in base_model.layers[:16]:\n",
        "#    layer.trainable=False\n",
        "#for layer in base_model.layers:\n",
        "#    print (layer.name,layer.trainable)\n"
      ],
      "metadata": {
        "colab": {
          "base_uri": "https://localhost:8080/"
        },
        "id": "jiVFj6XCUswn",
        "outputId": "74167468-308b-41e0-ad56-53c0d0a153ff"
      },
      "execution_count": 45,
      "outputs": [
        {
          "output_type": "stream",
          "name": "stdout",
          "text": [
            "Downloading data from https://storage.googleapis.com/keras-applications/efficientnetb4_notop.h5\n",
            "71686520/71686520 [==============================] - 4s 0us/step\n"
          ]
        },
        {
          "output_type": "stream",
          "name": "stderr",
          "text": [
            "WARNING:tensorflow:`period` argument is deprecated. Please use `save_freq` to specify the frequency in number of batches seen.\n"
          ]
        },
        {
          "output_type": "stream",
          "name": "stdout",
          "text": [
            "(None, 9, 9, 1792)\n",
            "(None, 2, 2, 256)\n",
            "(None, 1056)\n",
            "Epoch 1/10\n",
            "81/81 [==============================] - 86s 794ms/step - loss: 32.5950 - MAE: 32.5950 - val_loss: 152.5389 - val_MAE: 152.5389\n",
            "Epoch 2/10\n",
            "81/81 [==============================] - 57s 703ms/step - loss: 19.0631 - MAE: 19.0631 - val_loss: 142.7193 - val_MAE: 142.7193\n",
            "Epoch 3/10\n",
            "81/81 [==============================] - 58s 714ms/step - loss: 17.0899 - MAE: 17.0899 - val_loss: 136.2624 - val_MAE: 136.2624\n",
            "Epoch 4/10\n",
            "81/81 [==============================] - 57s 704ms/step - loss: 15.0810 - MAE: 15.0810 - val_loss: 127.5804 - val_MAE: 127.5804\n",
            "Epoch 5/10\n",
            "81/81 [==============================] - 57s 707ms/step - loss: 12.7380 - MAE: 12.7380 - val_loss: 97.7055 - val_MAE: 97.7055\n",
            "Epoch 6/10\n",
            "81/81 [==============================] - 57s 709ms/step - loss: 12.3598 - MAE: 12.3598 - val_loss: 86.0772 - val_MAE: 86.0772\n",
            "Epoch 7/10\n",
            "81/81 [==============================] - 58s 711ms/step - loss: 11.3021 - MAE: 11.3021 - val_loss: 72.9899 - val_MAE: 72.9899\n",
            "Epoch 8/10\n",
            "81/81 [==============================] - 57s 708ms/step - loss: 11.2087 - MAE: 11.2087 - val_loss: 101.7113 - val_MAE: 101.7113\n",
            "Epoch 9/10\n",
            "81/81 [==============================] - 57s 708ms/step - loss: 9.9318 - MAE: 9.9318 - val_loss: 58.0332 - val_MAE: 58.0332\n",
            "Epoch 10/10\n",
            "81/81 [==============================] - 58s 718ms/step - loss: 9.4679 - MAE: 9.4679 - val_loss: 32.3759 - val_MAE: 32.3759\n",
            "4/4 [==============================] - 1s 107ms/step - loss: 24.6550 - MAE: 24.6550\n",
            "Test loss: 24.6550235748291\n",
            "Test MAE: 24.6550235748291\n",
            "(1056, 1)\n"
          ]
        }
      ]
    },
    {
      "cell_type": "code",
      "source": [
        "plt.plot(history.history['loss'])\n",
        "plt.plot(history.history['val_loss'])\n",
        "plt.title('Model loss')\n",
        "plt.ylabel('Loss')\n",
        "plt.xlabel('Epoch')\n",
        "plt.legend(['Train', 'Validation'], loc='upper left')\n",
        "plt.show()"
      ],
      "metadata": {
        "colab": {
          "base_uri": "https://localhost:8080/",
          "height": 295
        },
        "id": "nU1byZDiUswo",
        "outputId": "ba38b735-3b79-41a3-8168-4bd6e6067656"
      },
      "execution_count": 46,
      "outputs": [
        {
          "output_type": "display_data",
          "data": {
            "text/plain": [
              "<Figure size 432x288 with 1 Axes>"
            ],
            "image/png": "[encoded data removed]"
          },
          "metadata": {
            "needs_background": "light"
          }
        }
      ]
    },
    {
      "cell_type": "code",
      "source": [
        "def TestMAE(model,test_data,test_label,test_gender):\n",
        "    #print(test_label.type)\n",
        "    test_gender = np.array(test_gender)\n",
        "    test_gender = np.expand_dims(test_gender,axis=1)\n",
        "    layer=K.function([model.layers[0].input,model.layers[4].input],[model.layers[-1].output])\n",
        "    predictions=layer([test_data,test_gender])\n",
        "    print(predictions)\n",
        "    predictions = np.array(predictions)\n",
        "    print(predictions)\n",
        "    predictions = np.squeeze(predictions,axis=0)\n",
        "    print (predictions.shape)\n",
        "    #predict_label = np.argmax(predictions,axis=1)\n",
        "    #test_label = np.argmax(test_label,axis=1)\n",
        "    #print (predict_label)\n",
        "    print (test_label)\n",
        "    TestMAE = np.mean(np.abs(predictions-test_label))\n",
        "    return TestMAE\n",
        "\n",
        "#model.load_weights('/content/weights_m1.10-0.20.hdf5')\n",
        "val=TestMAE(model,x_test,y_test,gender_test)\n",
        "print(val)\n",
        "#gender_test.shape"
      ],
      "metadata": {
        "colab": {
          "base_uri": "https://localhost:8080/"
        },
        "id": "WBqlWMaHUswo",
        "outputId": "51fa6b35-3ec0-428c-fd3d-a9b3cb69b6b6"
      },
      "execution_count": 47,
      "outputs": [
        {
          "output_type": "stream",
          "name": "stdout",
          "text": [
            "[array([[ 89.97889 ],\n",
            "       [138.8396  ],\n",
            "       [ 87.502205],\n",
            "       [180.2235  ],\n",
            "       [141.47006 ],\n",
            "       [109.758545],\n",
            "       [102.54215 ],\n",
            "       [181.17755 ],\n",
            "       [105.647865],\n",
            "       [144.79056 ],\n",
            "       [134.73712 ],\n",
            "       [111.29367 ],\n",
            "       [136.66248 ],\n",
            "       [175.9628  ],\n",
            "       [156.4168  ],\n",
            "       [104.41355 ],\n",
            "       [106.79719 ],\n",
            "       [ 99.46779 ],\n",
            "       [100.884995],\n",
            "       [162.2605  ],\n",
            "       [143.11992 ],\n",
            "       [178.30322 ],\n",
            "       [130.3517  ],\n",
            "       [166.59871 ],\n",
            "       [171.06718 ],\n",
            "       [134.0685  ],\n",
            "       [111.5349  ],\n",
            "       [140.47841 ],\n",
            "       [117.06113 ],\n",
            "       [ 99.85656 ],\n",
            "       [117.480064],\n",
            "       [125.831406],\n",
            "       [169.03535 ],\n",
            "       [107.99348 ],\n",
            "       [ 85.824936],\n",
            "       [121.46862 ],\n",
            "       [127.33607 ],\n",
            "       [133.73424 ],\n",
            "       [181.39859 ],\n",
            "       [106.3411  ],\n",
            "       [118.98394 ],\n",
            "       [126.56922 ],\n",
            "       [ 85.38008 ],\n",
            "       [100.68257 ],\n",
            "       [158.30742 ],\n",
            "       [127.08603 ],\n",
            "       [114.36508 ],\n",
            "       [104.46853 ],\n",
            "       [ 87.633575],\n",
            "       [189.02545 ]], dtype=float32)]\n",
            "[[[ 89.97889 ]\n",
            "  [138.8396  ]\n",
            "  [ 87.502205]\n",
            "  [180.2235  ]\n",
            "  [141.47006 ]\n",
            "  [109.758545]\n",
            "  [102.54215 ]\n",
            "  [181.17755 ]\n",
            "  [105.647865]\n",
            "  [144.79056 ]\n",
            "  [134.73712 ]\n",
            "  [111.29367 ]\n",
            "  [136.66248 ]\n",
            "  [175.9628  ]\n",
            "  [156.4168  ]\n",
            "  [104.41355 ]\n",
            "  [106.79719 ]\n",
            "  [ 99.46779 ]\n",
            "  [100.884995]\n",
            "  [162.2605  ]\n",
            "  [143.11992 ]\n",
            "  [178.30322 ]\n",
            "  [130.3517  ]\n",
            "  [166.59871 ]\n",
            "  [171.06718 ]\n",
            "  [134.0685  ]\n",
            "  [111.5349  ]\n",
            "  [140.47841 ]\n",
            "  [117.06113 ]\n",
            "  [ 99.85656 ]\n",
            "  [117.480064]\n",
            "  [125.831406]\n",
            "  [169.03535 ]\n",
            "  [107.99348 ]\n",
            "  [ 85.824936]\n",
            "  [121.46862 ]\n",
            "  [127.33607 ]\n",
            "  [133.73424 ]\n",
            "  [181.39859 ]\n",
            "  [106.3411  ]\n",
            "  [118.98394 ]\n",
            "  [126.56922 ]\n",
            "  [ 85.38008 ]\n",
            "  [100.68257 ]\n",
            "  [158.30742 ]\n",
            "  [127.08603 ]\n",
            "  [114.36508 ]\n",
            "  [104.46853 ]\n",
            "  [ 87.633575]\n",
            "  [189.02545 ]]]\n",
            "(50, 1)\n",
            "[ 86.2  129.1   57.76 178.7  110.1  101.5   49.02 199.4  139.9  151.5\n",
            " 124.8   67.96 126.3  223.3  143.8   65.92  92.65  68.68  85.68 181.\n",
            " 183.1  212.   106.3  183.6  204.7  149.7  121.2  138.2  162.2  117.4\n",
            " 142.8  151.4  226.9  107.7   90.12 107.3  147.2  106.1  224.3  152.\n",
            "  90.28 127.8  109.8   78.77 207.4  144.8  102.6   23.97  55.86 214.4 ]\n",
            "47.31148338842774\n"
          ]
        }
      ]
    },
    {
      "cell_type": "markdown",
      "source": [
        "#model softmax regression"
      ],
      "metadata": {
        "id": "zCSkDy73Vk-2"
      }
    },
    {
      "cell_type": "markdown",
      "source": [
        "1.------------------------xception---------------------------------"
      ],
      "metadata": {
        "id": "nSy1ts6dVk-3"
      }
    },
    {
      "cell_type": "code",
      "source": [
        "from keras.layers import Flatten, Dense, Input, Reshape, Lambda,Multiply\n",
        "from keras import backend as K\n",
        "from keras.preprocessing.image import ImageDataGenerator\n",
        "\n",
        "base_model = Xception(weights='imagenet', include_top=False)\n",
        "#for i,layer in enumerate(base_model.layers):\n",
        "    #print (i,layer.name)\n",
        "input = Input(shape=(300,300,3),name='input1')\n",
        "input_gender = Input(shape=(1,),dtype='float32',name='input2')\n",
        "##input_age = Input(shape=(1,),dtype='float32',name='input3')\n",
        "output = base_model(input)\n",
        "gender_embedding=Dense(32)(input_gender)\n",
        "#gender_embedding=Dense(12)(gender_embedding)\n",
        "#x = keras.layers.MaxPooling2D(pool_size=(5,5))(output)\n",
        "#x = keras.layers.Conv2D(512,kernel_size=(3,3))(x)\n",
        "x = keras.layers.Conv2D(256,kernel_size=(3,3))(output)\n",
        "print (K.int_shape(output))\n",
        "x = keras.layers.MaxPooling2D(pool_size=(3,3))(x)\n",
        "print (K.int_shape(x))\n",
        "x=Flatten()(x)\n",
        "f = keras.layers.Concatenate(axis=1)([x,gender_embedding])\n",
        "print (K.int_shape(f)) \n",
        "f = Dense(256, activation='relu')(f)\n",
        "#f = Dense(240)(f)\n",
        "#y=Flatten()(input_age)\n",
        "#multiplied = tf.keras.layers.Multiply()([f, y])\n",
        "predictions =Dense(240)(f)\n",
        "\n",
        "  \n",
        "\n",
        "model = Model(inputs=[input,input_gender], outputs=predictions)\n",
        "#for i,layer in enumerate(model.layers):\n",
        "    #print (i,layer.name)\n",
        "model.summary()\n",
        "\n",
        "Adam=keras.optimizers.Adam(lr=0.0001,beta_1=0.9,beta_2=0.999)\n",
        "model.compile(optimizer=Adam, loss='mean_absolute_error', metrics=['MAE'])\n",
        "\n",
        "# Save weights after every epoch\n",
        "\n",
        "checkpoint =keras.callbacks.ModelCheckpoint(filepath='weights_m1.{epoch:02d}-{val_loss:.2f}.hdf5',save_weights_only=True,period=10)\n",
        "#history = model.fit_generator(DataGen.flow([x_train,gender_train],y_train,batch_size=batch_size),steps_per_epoch=np.ceil(len(y_train)/batch_size),epochs=10,verbose=1,validation_data=([x_valid,gender_valid],y_valid))\n",
        "#history = model.fit_generator(Generator(x_train,gender_train,y_train,batch_size),steps_per_epoch=np.ceil(len(y_train)/batch_size),epochs=10,verbose=1,validation_data=([x_valid,gender_valid],y_valid))\n",
        "history=model.fit([x_train,gender_train],y_trains,batch_size=batch_size,epochs=10,verbose=1,validation_data=([x_valid,gender_valid],y_valids), callbacks = [checkpoint])\n",
        "score = model.evaluate([x_test,gender_test], y_tests, batch_size=batch_size)\n",
        "print('Test loss:', score[0])\n",
        "print('Test MAE:', score[1])\n",
        "\n",
        "##Visulization\n",
        "weights=model.layers[-1].get_weights()[0]\n",
        "print (weights.shape)\n",
        "\n",
        "#ShowAttentionV1(base_model,'/raid/chenchao/code/BoneAge/BoneAge/data/train/')\n",
        "\n",
        "#for layer in base_model.layers[:16]:\n",
        "#    layer.trainable=False\n",
        "#for layer in base_model.layers:\n",
        "#    print (layer.name,layer.trainable)\n"
      ],
      "metadata": {
        "colab": {
          "base_uri": "https://localhost:8080/"
        },
        "id": "tfkULAPWVk-3",
        "outputId": "aa222131-3a5e-42bb-9800-e693746086af"
      },
      "execution_count": 48,
      "outputs": [
        {
          "output_type": "stream",
          "name": "stdout",
          "text": [
            "(None, 10, 10, 2048)\n",
            "(None, 2, 2, 256)\n",
            "(None, 1056)\n",
            "Model: \"model_18\"\n",
            "__________________________________________________________________________________________________\n",
            " Layer (type)                   Output Shape         Param #     Connected to                     \n",
            "==================================================================================================\n",
            " input1 (InputLayer)            [(None, 300, 300, 3  0           []                               \n",
            "                                )]                                                                \n",
            "                                                                                                  \n",
            " xception (Functional)          (None, None, None,   20861480    ['input1[0][0]']                 \n",
            "                                2048)                                                             \n",
            "                                                                                                  \n",
            " conv2d_317 (Conv2D)            (None, 8, 8, 256)    4718848     ['xception[0][0]']               \n",
            "                                                                                                  \n",
            " max_pooling2d_16 (MaxPooling2D  (None, 2, 2, 256)   0           ['conv2d_317[0][0]']             \n",
            " )                                                                                                \n",
            "                                                                                                  \n",
            " input2 (InputLayer)            [(None, 1)]          0           []                               \n",
            "                                                                                                  \n",
            " flatten_8 (Flatten)            (None, 1024)         0           ['max_pooling2d_16[0][0]']       \n",
            "                                                                                                  \n",
            " dense_18 (Dense)               (None, 32)           64          ['input2[0][0]']                 \n",
            "                                                                                                  \n",
            " concatenate_10 (Concatenate)   (None, 1056)         0           ['flatten_8[0][0]',              \n",
            "                                                                  'dense_18[0][0]']               \n",
            "                                                                                                  \n",
            " dense_19 (Dense)               (None, 256)          270592      ['concatenate_10[0][0]']         \n",
            "                                                                                                  \n",
            " dense_20 (Dense)               (None, 240)          61680       ['dense_19[0][0]']               \n",
            "                                                                                                  \n",
            "==================================================================================================\n",
            "Total params: 25,912,664\n",
            "Trainable params: 25,858,136\n",
            "Non-trainable params: 54,528\n",
            "__________________________________________________________________________________________________\n"
          ]
        },
        {
          "output_type": "stream",
          "name": "stderr",
          "text": [
            "WARNING:tensorflow:`period` argument is deprecated. Please use `save_freq` to specify the frequency in number of batches seen.\n"
          ]
        },
        {
          "output_type": "stream",
          "name": "stdout",
          "text": [
            "Epoch 1/10\n",
            "81/81 [==============================] - 53s 592ms/step - loss: 0.2183 - MAE: 0.2183 - val_loss: 0.2049 - val_MAE: 0.2049\n",
            "Epoch 2/10\n",
            "81/81 [==============================] - 46s 562ms/step - loss: 0.2014 - MAE: 0.2014 - val_loss: 0.2040 - val_MAE: 0.2040\n",
            "Epoch 3/10\n",
            "81/81 [==============================] - 44s 545ms/step - loss: 0.2012 - MAE: 0.2012 - val_loss: 0.2038 - val_MAE: 0.2038\n",
            "Epoch 4/10\n",
            "81/81 [==============================] - 44s 538ms/step - loss: 0.2011 - MAE: 0.2011 - val_loss: 0.2038 - val_MAE: 0.2038\n",
            "Epoch 5/10\n",
            "81/81 [==============================] - 44s 539ms/step - loss: 0.2010 - MAE: 0.2010 - val_loss: 0.2035 - val_MAE: 0.2035\n",
            "Epoch 6/10\n",
            "81/81 [==============================] - 44s 539ms/step - loss: 0.2009 - MAE: 0.2009 - val_loss: 0.2033 - val_MAE: 0.2033\n",
            "Epoch 7/10\n",
            "81/81 [==============================] - 44s 538ms/step - loss: 0.2008 - MAE: 0.2008 - val_loss: 0.2031 - val_MAE: 0.2031\n",
            "Epoch 8/10\n",
            "81/81 [==============================] - 43s 532ms/step - loss: 0.2007 - MAE: 0.2007 - val_loss: 0.2029 - val_MAE: 0.2029\n",
            "Epoch 9/10\n",
            "81/81 [==============================] - 43s 536ms/step - loss: 0.2006 - MAE: 0.2006 - val_loss: 0.2028 - val_MAE: 0.2028\n",
            "Epoch 10/10\n",
            "81/81 [==============================] - 44s 538ms/step - loss: 0.2005 - MAE: 0.2005 - val_loss: 0.2026 - val_MAE: 0.2026\n",
            "4/4 [==============================] - 0s 90ms/step - loss: 0.2022 - MAE: 0.2022\n",
            "Test loss: 0.20222529768943787\n",
            "Test MAE: 0.20222529768943787\n",
            "(256, 240)\n"
          ]
        }
      ]
    },
    {
      "cell_type": "code",
      "source": [
        "plt.plot(history.history['loss'])\n",
        "plt.plot(history.history['val_loss'])\n",
        "plt.title('Model loss')\n",
        "plt.ylabel('Loss')\n",
        "plt.xlabel('Epoch')\n",
        "plt.legend(['Train', 'Validation'], loc='upper left')\n",
        "plt.show()"
      ],
      "metadata": {
        "colab": {
          "base_uri": "https://localhost:8080/",
          "height": 295
        },
        "id": "KPy3ETpcVk-3",
        "outputId": "beb4f280-9e96-4b14-881e-5f48c9361dd1"
      },
      "execution_count": 49,
      "outputs": [
        {
          "output_type": "display_data",
          "data": {
            "text/plain": [
              "<Figure size 432x288 with 1 Axes>"
            ],
            "image/png": "[encoded data removed]"
          },
          "metadata": {
            "needs_background": "light"
          }
        }
      ]
    },
    {
      "cell_type": "code",
      "source": [
        "def TestMAE(model,test_data,test_label,test_gender):\n",
        "    #print(test_label.type)\n",
        "    test_gender = np.array(test_gender)\n",
        "    test_gender = np.expand_dims(test_gender,axis=1)\n",
        "    layer=K.function([model.layers[0].input,model.layers[4].input],[model.layers[-1].output])\n",
        "    predictions=layer([test_data,test_gender])\n",
        "    print(predictions)\n",
        "    predictions = np.array(predictions)\n",
        "    print(predictions)\n",
        "    predictions = np.squeeze(predictions,axis=0)\n",
        "    print (predictions.shape)\n",
        "    predict_label = np.argmax(predictions,axis=1)\n",
        "    test_label = np.argmax(test_label,axis=1)\n",
        "    print (predict_label)\n",
        "    print (test_label)\n",
        "    TestMAE = np.mean(np.abs(predict_label-test_label))\n",
        "    return TestMAE\n",
        "\n",
        "#model.load_weights('/content/weights_m1.10-0.20.hdf5')\n",
        "val=TestMAE(model,x_test,y_tests,gender_test)\n",
        "print(val)\n",
        "#gender_test.shape"
      ],
      "metadata": {
        "colab": {
          "base_uri": "https://localhost:8080/"
        },
        "id": "bLXHOinzVk-3",
        "outputId": "39309e20-c9a4-4731-8fc8-d6c3b89641a6"
      },
      "execution_count": 50,
      "outputs": [
        {
          "output_type": "stream",
          "name": "stdout",
          "text": [
            "[array([[ 9.7427219e-06,  2.6950513e-05,  2.6583519e-05, ...,\n",
            "        -1.3956313e-05,  2.6177269e-05,  1.7588354e-06],\n",
            "       [ 9.7427219e-06,  2.6950513e-05,  2.6583519e-05, ...,\n",
            "        -1.3956313e-05,  2.6177269e-05,  1.7588354e-06],\n",
            "       [ 9.7427219e-06,  2.6950513e-05,  2.6583519e-05, ...,\n",
            "        -1.3956313e-05,  2.6177269e-05,  1.7588354e-06],\n",
            "       ...,\n",
            "       [ 9.7427219e-06,  2.6950513e-05,  2.6583519e-05, ...,\n",
            "        -1.3956313e-05,  2.6177269e-05,  1.7588354e-06],\n",
            "       [ 9.7427219e-06,  2.6950513e-05,  2.6583519e-05, ...,\n",
            "        -1.3956313e-05,  2.6177269e-05,  1.7588354e-06],\n",
            "       [ 9.7427219e-06,  2.6950513e-05,  2.6583519e-05, ...,\n",
            "        -1.3956313e-05,  2.6177269e-05,  1.7588354e-06]], dtype=float32)]\n",
            "[[[ 9.7427219e-06  2.6950513e-05  2.6583519e-05 ... -1.3956313e-05\n",
            "    2.6177269e-05  1.7588354e-06]\n",
            "  [ 9.7427219e-06  2.6950513e-05  2.6583519e-05 ... -1.3956313e-05\n",
            "    2.6177269e-05  1.7588354e-06]\n",
            "  [ 9.7427219e-06  2.6950513e-05  2.6583519e-05 ... -1.3956313e-05\n",
            "    2.6177269e-05  1.7588354e-06]\n",
            "  ...\n",
            "  [ 9.7427219e-06  2.6950513e-05  2.6583519e-05 ... -1.3956313e-05\n",
            "    2.6177269e-05  1.7588354e-06]\n",
            "  [ 9.7427219e-06  2.6950513e-05  2.6583519e-05 ... -1.3956313e-05\n",
            "    2.6177269e-05  1.7588354e-06]\n",
            "  [ 9.7427219e-06  2.6950513e-05  2.6583519e-05 ... -1.3956313e-05\n",
            "    2.6177269e-05  1.7588354e-06]]]\n",
            "(50, 240)\n",
            "[169 169 169 169 169 169 169 169 169 169 169 169 169 169 169 169 169 169\n",
            " 169 169 169 169 169 169 169 169 169 169 169 169 169 169 169 169 169 169\n",
            " 169 169 169 169 169 169 169 169 169 169 169 169 169 169]\n",
            "[ 86 129  58 179 110 101  49 199 140 151 125  68 126 223 144  66  93  69\n",
            "  86 181 183 212 106 184 205 150 121 138 162 117 143 151 227 108  90 107\n",
            " 147 106 224 152  90 128 110  79 207 145 103  24  56 214]\n",
            "53.96\n"
          ]
        }
      ]
    },
    {
      "cell_type": "markdown",
      "source": [
        "2.------------------------inception---------------------------------"
      ],
      "metadata": {
        "id": "F-bxyO_xVk-3"
      }
    },
    {
      "cell_type": "code",
      "source": [
        "from keras.layers import Flatten, Dense, Input, Reshape, Lambda\n",
        "from keras import backend as K\n",
        "from keras.preprocessing.image import ImageDataGenerator\n",
        "\n",
        "base_model = InceptionV3(weights='imagenet', include_top=False)\n",
        "\n",
        "input = Input(shape=(300,300,3),name='input1')\n",
        "input_gender = Input(shape=(1,),dtype='float32',name='input2')\n",
        "output = base_model(input)\n",
        "gender_embedding=Dense(32)(input_gender)\n",
        "#gender_embedding=Dense(12)(gender_embedding)\n",
        "#x = keras.layers.MaxPooling2D(pool_size=(5,5))(output)\n",
        "#x = keras.layers.Conv2D(512,kernel_size=(3,3))(x)\n",
        "x = keras.layers.Conv2D(256,kernel_size=(3,3))(output)\n",
        "print (K.int_shape(output))\n",
        "x = keras.layers.MaxPooling2D(pool_size=(3,3))(x)\n",
        "print (K.int_shape(x))\n",
        "x=Flatten()(x)\n",
        "f = keras.layers.Concatenate(axis=1)([x,gender_embedding])\n",
        "print (K.int_shape(f)) \n",
        "#x = Dense(256, activation='relu')(x)\n",
        "predictions =Dense(240)(f)\n",
        "\n",
        "model = Model(inputs=[input,input_gender], outputs=predictions)\n",
        "\n",
        "\n",
        "Adam=keras.optimizers.Adam(lr=0.0001,beta_1=0.9,beta_2=0.999)\n",
        "model.compile(optimizer=Adam, loss='mean_absolute_error', metrics=['MAE'])\n",
        "\n",
        "# Save weights after every epoch\n",
        "\n",
        "checkpoint =keras.callbacks.ModelCheckpoint(filepath='weights_m2.{epoch:02d}-{val_loss:.2f}.hdf5',save_weights_only=True,period=10)\n",
        "#history = model.fit_generator(DataGen.flow([x_train,gender_train],y_train,batch_size=batch_size),steps_per_epoch=np.ceil(len(y_train)/batch_size),epochs=10,verbose=1,validation_data=([x_valid,gender_valid],y_valid))\n",
        "#history = model.fit_generator(Generator(x_train,gender_train,y_train,batch_size),steps_per_epoch=np.ceil(len(y_train)/batch_size),epochs=10,verbose=1,validation_data=([x_valid,gender_valid],y_valid))\n",
        "history=model.fit([x_train,gender_train],y_trains,batch_size=batch_size,epochs=10,verbose=1,validation_data=([x_valid,gender_valid],y_valids), callbacks = [checkpoint])\n",
        "score = model.evaluate([x_test,gender_test], y_tests, batch_size=batch_size)\n",
        "print('Test loss:', score[0])\n",
        "print('Test MAE:', score[1])\n",
        "\n",
        "##Visulization\n",
        "weights=model.layers[-1].get_weights()[0]\n",
        "print (weights.shape)\n",
        "\n",
        "#ShowAttentionV1(base_model,'/raid/chenchao/code/BoneAge/BoneAge/data/train/')\n",
        "\n",
        "#for layer in base_model.layers[:16]:\n",
        "#    layer.trainable=False\n",
        "#for layer in base_model.layers:\n",
        "#    print (layer.name,layer.trainable)\n"
      ],
      "metadata": {
        "colab": {
          "base_uri": "https://localhost:8080/"
        },
        "id": "DvHHqDtJVk-3",
        "outputId": "580ec3f3-87db-4dcf-d4f8-53b3f5839ac2"
      },
      "execution_count": 51,
      "outputs": [
        {
          "output_type": "stream",
          "name": "stderr",
          "text": [
            "WARNING:tensorflow:`period` argument is deprecated. Please use `save_freq` to specify the frequency in number of batches seen.\n"
          ]
        },
        {
          "output_type": "stream",
          "name": "stdout",
          "text": [
            "(None, 8, 8, 2048)\n",
            "(None, 2, 2, 256)\n",
            "(None, 1056)\n",
            "Epoch 1/10\n",
            "81/81 [==============================] - 30s 263ms/step - loss: 0.2880 - MAE: 0.2880 - val_loss: 0.2581 - val_MAE: 0.2581\n",
            "Epoch 2/10\n",
            "81/81 [==============================] - 20s 248ms/step - loss: 0.1777 - MAE: 0.1777 - val_loss: 0.1949 - val_MAE: 0.1949\n",
            "Epoch 3/10\n",
            "81/81 [==============================] - 20s 246ms/step - loss: 0.1341 - MAE: 0.1341 - val_loss: 0.1525 - val_MAE: 0.1525\n",
            "Epoch 4/10\n",
            "81/81 [==============================] - 20s 243ms/step - loss: 0.1046 - MAE: 0.1046 - val_loss: 0.1381 - val_MAE: 0.1381\n",
            "Epoch 5/10\n",
            "81/81 [==============================] - 20s 245ms/step - loss: 0.0907 - MAE: 0.0907 - val_loss: 0.1212 - val_MAE: 0.1212\n",
            "Epoch 6/10\n",
            "81/81 [==============================] - 20s 246ms/step - loss: 0.0763 - MAE: 0.0763 - val_loss: 0.1164 - val_MAE: 0.1164\n",
            "Epoch 7/10\n",
            "81/81 [==============================] - 20s 245ms/step - loss: 0.0725 - MAE: 0.0725 - val_loss: 0.1149 - val_MAE: 0.1149\n",
            "Epoch 8/10\n",
            "81/81 [==============================] - 20s 246ms/step - loss: 0.0642 - MAE: 0.0642 - val_loss: 0.0941 - val_MAE: 0.0941\n",
            "Epoch 9/10\n",
            "81/81 [==============================] - 20s 245ms/step - loss: 0.0597 - MAE: 0.0597 - val_loss: 0.1006 - val_MAE: 0.1006\n",
            "Epoch 10/10\n",
            "81/81 [==============================] - 20s 252ms/step - loss: 0.0562 - MAE: 0.0562 - val_loss: 0.0994 - val_MAE: 0.0994\n",
            "4/4 [==============================] - 0s 56ms/step - loss: 0.0841 - MAE: 0.0841\n",
            "Test loss: 0.0841372013092041\n",
            "Test MAE: 0.0841372013092041\n",
            "(1056, 240)\n"
          ]
        }
      ]
    },
    {
      "cell_type": "code",
      "source": [
        "plt.plot(history.history['loss'])\n",
        "plt.plot(history.history['val_loss'])\n",
        "plt.title('Model loss')\n",
        "plt.ylabel('Loss')\n",
        "plt.xlabel('Epoch')\n",
        "plt.legend(['Train', 'Validation'], loc='upper left')\n",
        "plt.show()"
      ],
      "metadata": {
        "colab": {
          "base_uri": "https://localhost:8080/",
          "height": 295
        },
        "id": "qBhGKlgXVk-4",
        "outputId": "390d03cb-2ab0-42cc-b3a6-24b2f6a6be5a"
      },
      "execution_count": 52,
      "outputs": [
        {
          "output_type": "display_data",
          "data": {
            "text/plain": [
              "<Figure size 432x288 with 1 Axes>"
            ],
            "image/png": "[encoded data removed]"
          },
          "metadata": {
            "needs_background": "light"
          }
        }
      ]
    },
    {
      "cell_type": "code",
      "source": [
        "def TestMAE(model,test_data,test_label,test_gender):\n",
        "    #print(test_label.type)\n",
        "    test_gender = np.array(test_gender)\n",
        "    test_gender = np.expand_dims(test_gender,axis=1)\n",
        "    layer=K.function([model.layers[0].input,model.layers[4].input],[model.layers[-1].output])\n",
        "    predictions=layer([test_data,test_gender])\n",
        "    print(predictions)\n",
        "    predictions = np.array(predictions)\n",
        "    print(predictions)\n",
        "    predictions = np.squeeze(predictions,axis=0)\n",
        "    print (predictions.shape)\n",
        "    predict_label = np.argmax(predictions,axis=1)\n",
        "    test_label = np.argmax(test_label,axis=1)\n",
        "    print (predict_label)\n",
        "    print (test_label)\n",
        "    TestMAE = np.mean(np.abs(predict_label-test_label))\n",
        "    return TestMAE\n",
        "\n",
        "#model.load_weights('/content/weights_m1.10-0.20.hdf5')\n",
        "val=TestMAE(model,x_test,y_tests,gender_test)\n",
        "print(val)\n",
        "#gender_test.shape"
      ],
      "metadata": {
        "colab": {
          "base_uri": "https://localhost:8080/"
        },
        "id": "4_PAvj6qVk-4",
        "outputId": "69204b74-09db-4c08-a36e-7e7dda17fec4"
      },
      "execution_count": 53,
      "outputs": [
        {
          "output_type": "stream",
          "name": "stdout",
          "text": [
            "[array([[-0.00242161,  0.02193946,  0.02274354, ...,  0.00195928,\n",
            "         0.02796426,  0.03816719],\n",
            "       [-0.00348906,  0.01535618,  0.05331929, ..., -0.0148801 ,\n",
            "         0.009816  , -0.00676459],\n",
            "       [ 0.01093643, -0.00175092, -0.02119781, ...,  0.01437474,\n",
            "         0.04056164,  0.01608729],\n",
            "       ...,\n",
            "       [ 0.69308376,  0.74140424,  0.77489316, ..., -0.00123573,\n",
            "        -0.0368823 , -0.04003756],\n",
            "       [-0.00958752,  0.00189587,  0.02083813, ...,  0.03251733,\n",
            "         0.01597525,  0.01780169],\n",
            "       [-0.01639217,  0.01214129,  0.02761785, ...,  0.19091177,\n",
            "         0.220506  ,  0.16649485]], dtype=float32)]\n",
            "[[[-0.00242161  0.02193946  0.02274354 ...  0.00195928  0.02796426\n",
            "    0.03816719]\n",
            "  [-0.00348906  0.01535618  0.05331929 ... -0.0148801   0.009816\n",
            "   -0.00676459]\n",
            "  [ 0.01093643 -0.00175092 -0.02119781 ...  0.01437474  0.04056164\n",
            "    0.01608729]\n",
            "  ...\n",
            "  [ 0.69308376  0.74140424  0.77489316 ... -0.00123573 -0.0368823\n",
            "   -0.04003756]\n",
            "  [-0.00958752  0.00189587  0.02083813 ...  0.03251733  0.01597525\n",
            "    0.01780169]\n",
            "  [-0.01639217  0.01214129  0.02761785 ...  0.19091177  0.220506\n",
            "    0.16649485]]]\n",
            "(50, 240)\n",
            "[ 87 127  76 188 127 109  62 212 146 144 134  73 106 211 168  67  81  87\n",
            "  89 192 175 214 115 199 204 141 116 148 164 142 124 135 211  98 104  85\n",
            " 154 109 205 144  87 136  90  77 217 164  87  23  63 186]\n",
            "[ 86 129  58 179 110 101  49 199 140 151 125  68 126 223 144  66  93  69\n",
            "  86 181 183 212 106 184 205 150 121 138 162 117 143 151 227 108  90 107\n",
            " 147 106 224 152  90 128 110  79 207 145 103  24  56 214]\n",
            "10.86\n"
          ]
        }
      ]
    },
    {
      "cell_type": "markdown",
      "source": [
        "3.------------------------resnet---------------------------------"
      ],
      "metadata": {
        "id": "Zes2AD13Vk-4"
      }
    },
    {
      "cell_type": "code",
      "source": [
        "from keras.layers import Flatten, Dense, Input, Reshape, Lambda\n",
        "from keras import backend as K\n",
        "from keras.preprocessing.image import ImageDataGenerator\n",
        "\n",
        "base_model = ResNet50(weights='imagenet', include_top=False)\n",
        "input = Input(shape=(300,300,3),name='input1')\n",
        "input_gender = Input(shape=(1,),dtype='float32',name='input2')\n",
        "output = base_model(input)\n",
        "gender_embedding=Dense(32)(input_gender)\n",
        "#gender_embedding=Dense(12)(gender_embedding)\n",
        "#x = keras.layers.MaxPooling2D(pool_size=(5,5))(output)\n",
        "#x = keras.layers.Conv2D(512,kernel_size=(3,3))(x)\n",
        "x = keras.layers.Conv2D(256,kernel_size=(3,3))(output)\n",
        "print (K.int_shape(output))\n",
        "x = keras.layers.MaxPooling2D(pool_size=(3,3))(x)\n",
        "print (K.int_shape(x))\n",
        "x=Flatten()(x)\n",
        "f = keras.layers.Concatenate(axis=1)([x,gender_embedding])\n",
        "print (K.int_shape(f)) \n",
        "#x = Dense(256, activation='relu')(x)\n",
        "predictions =Dense(240)(f)\n",
        "\n",
        "model = Model(inputs=[input,input_gender], outputs=predictions)\n",
        "\n",
        "\n",
        "Adam=keras.optimizers.Adam(lr=0.0001,beta_1=0.9,beta_2=0.999)\n",
        "model.compile(optimizer=Adam, loss='mean_absolute_error', metrics=['MAE'])\n",
        "\n",
        "model.summary\n",
        "# Save weights after every epoch\n",
        "\n",
        "checkpoint =keras.callbacks.ModelCheckpoint(filepath='weights_m3.{epoch:02d}-{val_loss:.2f}.hdf5',save_weights_only=True,period=10)\n",
        "#history = model.fit_generator(DataGen.flow([x_train,gender_train],y_train,batch_size=batch_size),steps_per_epoch=np.ceil(len(y_train)/batch_size),epochs=10,verbose=1,validation_data=([x_valid,gender_valid],y_valid))\n",
        "#history = model.fit_generator(Generator(x_train,gender_train,y_train,batch_size),steps_per_epoch=np.ceil(len(y_train)/batch_size),epochs=10,verbose=1,validation_data=([x_valid,gender_valid],y_valid))\n",
        "history=model.fit([x_train,gender_train],y_trains,batch_size=batch_size,epochs=10,verbose=1,validation_data=([x_valid,gender_valid],y_valids), callbacks = [checkpoint])\n",
        "score = model.evaluate([x_test,gender_test], y_tests, batch_size=batch_size)\n",
        "print('Test loss:', score[0])\n",
        "print('Test MAE:', score[1])\n",
        "\n",
        "##Visulization\n",
        "weights=model.layers[-1].get_weights()[0]\n",
        "print (weights.shape)\n",
        "\n",
        "#ShowAttentionV1(base_model,'/raid/chenchao/code/BoneAge/BoneAge/data/train/')\n",
        "\n",
        "#for layer in base_model.layers[:16]:\n",
        "#    layer.trainable=False\n",
        "#for layer in base_model.layers:\n",
        "#    print (layer.name,layer.trainable)\n"
      ],
      "metadata": {
        "colab": {
          "base_uri": "https://localhost:8080/"
        },
        "id": "ESsqsDiaVk-4",
        "outputId": "6a2cbcea-3ed3-4b1b-9c64-63de2a324d2f"
      },
      "execution_count": 54,
      "outputs": [
        {
          "output_type": "stream",
          "name": "stderr",
          "text": [
            "WARNING:tensorflow:`period` argument is deprecated. Please use `save_freq` to specify the frequency in number of batches seen.\n"
          ]
        },
        {
          "output_type": "stream",
          "name": "stdout",
          "text": [
            "(None, 10, 10, 2048)\n",
            "(None, 2, 2, 256)\n",
            "(None, 1056)\n",
            "Epoch 1/10\n",
            "81/81 [==============================] - 34s 344ms/step - loss: 0.3440 - MAE: 0.3440 - val_loss: 0.5485 - val_MAE: 0.5485\n",
            "Epoch 2/10\n",
            "81/81 [==============================] - 27s 333ms/step - loss: 0.1896 - MAE: 0.1896 - val_loss: 0.2621 - val_MAE: 0.2621\n",
            "Epoch 3/10\n",
            "81/81 [==============================] - 26s 327ms/step - loss: 0.1518 - MAE: 0.1518 - val_loss: 0.2892 - val_MAE: 0.2892\n",
            "Epoch 4/10\n",
            "81/81 [==============================] - 26s 327ms/step - loss: 0.1280 - MAE: 0.1280 - val_loss: 0.2219 - val_MAE: 0.2219\n",
            "Epoch 5/10\n",
            "81/81 [==============================] - 26s 327ms/step - loss: 0.1029 - MAE: 0.1029 - val_loss: 0.2235 - val_MAE: 0.2235\n",
            "Epoch 6/10\n",
            "81/81 [==============================] - 26s 327ms/step - loss: 0.0896 - MAE: 0.0896 - val_loss: 0.2211 - val_MAE: 0.2211\n",
            "Epoch 7/10\n",
            "81/81 [==============================] - 26s 327ms/step - loss: 0.0819 - MAE: 0.0819 - val_loss: 0.2163 - val_MAE: 0.2163\n",
            "Epoch 8/10\n",
            "81/81 [==============================] - 27s 328ms/step - loss: 0.0684 - MAE: 0.0684 - val_loss: 0.2166 - val_MAE: 0.2166\n",
            "Epoch 9/10\n",
            "81/81 [==============================] - 26s 327ms/step - loss: 0.0657 - MAE: 0.0657 - val_loss: 0.2137 - val_MAE: 0.2137\n",
            "Epoch 10/10\n",
            "81/81 [==============================] - 27s 337ms/step - loss: 0.0617 - MAE: 0.0617 - val_loss: 0.2028 - val_MAE: 0.2028\n",
            "4/4 [==============================] - 0s 82ms/step - loss: 0.2060 - MAE: 0.2060\n",
            "Test loss: 0.20603527128696442\n",
            "Test MAE: 0.20603527128696442\n",
            "(1056, 240)\n"
          ]
        }
      ]
    },
    {
      "cell_type": "code",
      "source": [
        "plt.plot(history.history['loss'])\n",
        "plt.plot(history.history['val_loss'])\n",
        "plt.title('Model loss')\n",
        "plt.ylabel('Loss')\n",
        "plt.xlabel('Epoch')\n",
        "plt.legend(['Train', 'Validation'], loc='upper left')\n",
        "plt.show()"
      ],
      "metadata": {
        "colab": {
          "base_uri": "https://localhost:8080/",
          "height": 295
        },
        "id": "JgKwq8-hVk-4",
        "outputId": "805eab3c-ba78-4e92-d50e-bbe1f52e3440"
      },
      "execution_count": 55,
      "outputs": [
        {
          "output_type": "display_data",
          "data": {
            "text/plain": [
              "<Figure size 432x288 with 1 Axes>"
            ],
            "image/png": "[encoded data removed]"
          },
          "metadata": {
            "needs_background": "light"
          }
        }
      ]
    },
    {
      "cell_type": "code",
      "source": [
        "def TestMAE(model,test_data,test_label,test_gender):\n",
        "    #print(test_label.type)\n",
        "    test_gender = np.array(test_gender)\n",
        "    test_gender = np.expand_dims(test_gender,axis=1)\n",
        "    layer=K.function([model.layers[0].input,model.layers[4].input],[model.layers[-1].output])\n",
        "    predictions=layer([test_data,test_gender])\n",
        "    print(predictions)\n",
        "    predictions = np.array(predictions)\n",
        "    print(predictions)\n",
        "    predictions = np.squeeze(predictions,axis=0)\n",
        "    print (predictions.shape)\n",
        "    predict_label = np.argmax(predictions,axis=1)\n",
        "    test_label = np.argmax(test_label,axis=1)\n",
        "    print (predict_label)\n",
        "    print (test_label)\n",
        "    TestMAE = np.mean(np.abs(predict_label-test_label))\n",
        "    return TestMAE\n",
        "\n",
        "#model.load_weights('/content/weights_m1.10-0.20.hdf5')\n",
        "val=TestMAE(model,x_test,y_tests,gender_test)\n",
        "print(val)\n",
        "#gender_test.shape"
      ],
      "metadata": {
        "colab": {
          "base_uri": "https://localhost:8080/"
        },
        "id": "mI6jQik6Vk-4",
        "outputId": "1d052aff-a19d-481f-bc46-cc7827a5e990"
      },
      "execution_count": 56,
      "outputs": [
        {
          "output_type": "stream",
          "name": "stdout",
          "text": [
            "[array([[ 0.02760589,  0.04623172, -0.02650497, ...,  0.00787039,\n",
            "         0.03086916, -0.00266104],\n",
            "       [ 0.019901  ,  0.0169434 ,  0.01173235, ...,  0.00629138,\n",
            "         0.01844241, -0.00344319],\n",
            "       [-0.00101562,  0.06595865, -0.01539815, ..., -0.02895627,\n",
            "         0.06390355,  0.0342086 ],\n",
            "       ...,\n",
            "       [-0.04127486,  0.06487485, -0.01607348, ..., -0.00825804,\n",
            "         0.02320402,  0.03037965],\n",
            "       [-0.02151608,  0.09064414, -0.01521946, ...,  0.01255327,\n",
            "         0.02911037,  0.02175833],\n",
            "       [ 0.02677224,  0.04479479, -0.0114626 , ...,  0.06287973,\n",
            "         0.1302615 ,  0.05308552]], dtype=float32)]\n",
            "[[[ 0.02760589  0.04623172 -0.02650497 ...  0.00787039  0.03086916\n",
            "   -0.00266104]\n",
            "  [ 0.019901    0.0169434   0.01173235 ...  0.00629138  0.01844241\n",
            "   -0.00344319]\n",
            "  [-0.00101562  0.06595865 -0.01539815 ... -0.02895627  0.06390355\n",
            "    0.0342086 ]\n",
            "  ...\n",
            "  [-0.04127486  0.06487485 -0.01607348 ... -0.00825804  0.02320402\n",
            "    0.03037965]\n",
            "  [-0.02151608  0.09064414 -0.01521946 ...  0.01255327  0.02911037\n",
            "    0.02175833]\n",
            "  [ 0.02677224  0.04479479 -0.0114626  ...  0.06287973  0.1302615\n",
            "    0.05308552]]]\n",
            "(50, 240)\n",
            "[ 45 156  23 185 143 148 172 180 140 150 124  85 180 209 129 195 215  45\n",
            "  51 138 172 172  36 204 218  45  85  85 128 212 214 108 204 191  85 215\n",
            "  34 109 195 108 215  16 215  50 195 203  16  35 168 191]\n",
            "[ 86 129  58 179 110 101  49 199 140 151 125  68 126 223 144  66  93  69\n",
            "  86 181 183 212 106 184 205 150 121 138 162 117 143 151 227 108  90 107\n",
            " 147 106 224 152  90 128 110  79 207 145 103  24  56 214]\n",
            "49.18\n"
          ]
        }
      ]
    },
    {
      "cell_type": "markdown",
      "source": [
        "4.------------------------mobile---------------------------------"
      ],
      "metadata": {
        "id": "eBG1Zu4eVk-4"
      }
    },
    {
      "cell_type": "code",
      "source": [
        "from keras.layers import Flatten, Dense, Input, Reshape, Lambda\n",
        "from keras import backend as K\n",
        "from keras.preprocessing.image import ImageDataGenerator\n",
        "from tensorflow.keras.applications.mobilenet_v2 import MobileNetV2\n",
        "\n",
        "base_model = MobileNetV2(weights='imagenet', include_top=False)\n",
        "input = Input(shape=(300,300,3),name='input1')\n",
        "input_gender = Input(shape=(1,),dtype='float32',name='input2')\n",
        "output = base_model(input)\n",
        "gender_embedding=Dense(32)(input_gender)\n",
        "#gender_embedding=Dense(12)(gender_embedding)\n",
        "#x = keras.layers.MaxPooling2D(pool_size=(5,5))(output)\n",
        "#x = keras.layers.Conv2D(512,kernel_size=(3,3))(x)\n",
        "x = keras.layers.Conv2D(256,kernel_size=(3,3))(output)\n",
        "print (K.int_shape(output))\n",
        "x = keras.layers.MaxPooling2D(pool_size=(3,3))(x)\n",
        "print (K.int_shape(x))\n",
        "x=Flatten()(x)\n",
        "f = keras.layers.Concatenate(axis=1)([x,gender_embedding])\n",
        "print (K.int_shape(f)) \n",
        "#x = Dense(256, activation='relu')(x)\n",
        "predictions =Dense(240)(f)\n",
        "\n",
        "model = Model(inputs=[input,input_gender], outputs=predictions)\n",
        "\n",
        "\n",
        "Adam=keras.optimizers.Adam(lr=0.0001,beta_1=0.9,beta_2=0.999)\n",
        "model.compile(optimizer=Adam, loss='mean_absolute_error', metrics=['MAE'])\n",
        "\n",
        "model.summary\n",
        "# Save weights after every epoch\n",
        "\n",
        "checkpoint =keras.callbacks.ModelCheckpoint(filepath='weights_m4.{epoch:02d}-{val_loss:.2f}.hdf5',save_weights_only=True,period=10)\n",
        "#history = model.fit_generator(DataGen.flow([x_train,gender_train],y_train,batch_size=batch_size),steps_per_epoch=np.ceil(len(y_train)/batch_size),epochs=10,verbose=1,validation_data=([x_valid,gender_valid],y_valid))\n",
        "#history = model.fit_generator(Generator(x_train,gender_train,y_train,batch_size),steps_per_epoch=np.ceil(len(y_train)/batch_size),epochs=10,verbose=1,validation_data=([x_valid,gender_valid],y_valid))\n",
        "history=model.fit([x_train,gender_train],y_trains,batch_size=batch_size,epochs=10,verbose=1,validation_data=([x_valid,gender_valid],y_valids), callbacks = [checkpoint])\n",
        "score = model.evaluate([x_test,gender_test], y_tests, batch_size=batch_size)\n",
        "print('Test loss:', score[0])\n",
        "print('Test MAE:', score[1])\n",
        "\n",
        "##Visulization\n",
        "weights=model.layers[-1].get_weights()[0]\n",
        "print (weights.shape)\n",
        "\n",
        "#ShowAttentionV1(base_model,'/raid/chenchao/code/BoneAge/BoneAge/data/train/')\n",
        "\n",
        "#for layer in base_model.layers[:16]:\n",
        "#    layer.trainable=False\n",
        "#for layer in base_model.layers:\n",
        "#    print (layer.name,layer.trainable)\n"
      ],
      "metadata": {
        "colab": {
          "base_uri": "https://localhost:8080/"
        },
        "id": "OHwnIcuCVk-4",
        "outputId": "3b73d250-8690-4bfa-9403-933d762eb238"
      },
      "execution_count": 57,
      "outputs": [
        {
          "output_type": "stream",
          "name": "stderr",
          "text": [
            "WARNING:tensorflow:`input_shape` is undefined or non-square, or `rows` is not in [96, 128, 160, 192, 224]. Weights for input shape (224, 224) will be loaded as the default.\n",
            "WARNING:tensorflow:`period` argument is deprecated. Please use `save_freq` to specify the frequency in number of batches seen.\n"
          ]
        },
        {
          "output_type": "stream",
          "name": "stdout",
          "text": [
            "(None, 9, 9, 1280)\n",
            "(None, 2, 2, 256)\n",
            "(None, 1056)\n",
            "Epoch 1/10\n",
            "81/81 [==============================] - 22s 219ms/step - loss: 0.4989 - MAE: 0.4989 - val_loss: 0.8170 - val_MAE: 0.8170\n",
            "Epoch 2/10\n",
            "81/81 [==============================] - 17s 211ms/step - loss: 0.2171 - MAE: 0.2171 - val_loss: 0.5882 - val_MAE: 0.5882\n",
            "Epoch 3/10\n",
            "81/81 [==============================] - 17s 210ms/step - loss: 0.1886 - MAE: 0.1886 - val_loss: 0.4818 - val_MAE: 0.4818\n",
            "Epoch 4/10\n",
            "81/81 [==============================] - 17s 208ms/step - loss: 0.1580 - MAE: 0.1580 - val_loss: 0.4026 - val_MAE: 0.4026\n",
            "Epoch 5/10\n",
            "81/81 [==============================] - 17s 208ms/step - loss: 0.1386 - MAE: 0.1386 - val_loss: 0.3390 - val_MAE: 0.3390\n",
            "Epoch 6/10\n",
            "81/81 [==============================] - 17s 208ms/step - loss: 0.1200 - MAE: 0.1200 - val_loss: 0.2953 - val_MAE: 0.2953\n",
            "Epoch 7/10\n",
            "81/81 [==============================] - 17s 210ms/step - loss: 0.1061 - MAE: 0.1061 - val_loss: 0.2816 - val_MAE: 0.2816\n",
            "Epoch 8/10\n",
            "81/81 [==============================] - 17s 209ms/step - loss: 0.0951 - MAE: 0.0951 - val_loss: 0.2352 - val_MAE: 0.2352\n",
            "Epoch 9/10\n",
            "81/81 [==============================] - 17s 209ms/step - loss: 0.0829 - MAE: 0.0829 - val_loss: 0.2150 - val_MAE: 0.2150\n",
            "Epoch 10/10\n",
            "81/81 [==============================] - 17s 208ms/step - loss: 0.0764 - MAE: 0.0764 - val_loss: 0.2178 - val_MAE: 0.2178\n",
            "4/4 [==============================] - 0s 32ms/step - loss: 0.2106 - MAE: 0.2106\n",
            "Test loss: 0.2105666548013687\n",
            "Test MAE: 0.2105666548013687\n",
            "(1056, 240)\n"
          ]
        }
      ]
    },
    {
      "cell_type": "code",
      "source": [
        "plt.plot(history.history['loss'])\n",
        "plt.plot(history.history['val_loss'])\n",
        "plt.title('Model loss')\n",
        "plt.ylabel('Loss')\n",
        "plt.xlabel('Epoch')\n",
        "plt.legend(['Train', 'Validation'], loc='upper left')\n",
        "plt.show()"
      ],
      "metadata": {
        "colab": {
          "base_uri": "https://localhost:8080/",
          "height": 295
        },
        "id": "_S4nufmYVk-5",
        "outputId": "e9320664-3957-49b6-abc9-4067e64b0e7a"
      },
      "execution_count": 58,
      "outputs": [
        {
          "output_type": "display_data",
          "data": {
            "text/plain": [
              "<Figure size 432x288 with 1 Axes>"
            ],
            "image/png": "[encoded data removed]"
          },
          "metadata": {
            "needs_background": "light"
          }
        }
      ]
    },
    {
      "cell_type": "code",
      "source": [
        "def TestMAE(model,test_data,test_label,test_gender):\n",
        "    #print(test_label.type)\n",
        "    test_gender = np.array(test_gender)\n",
        "    test_gender = np.expand_dims(test_gender,axis=1)\n",
        "    layer=K.function([model.layers[0].input,model.layers[4].input],[model.layers[-1].output])\n",
        "    predictions=layer([test_data,test_gender])\n",
        "    print(predictions)\n",
        "    predictions = np.array(predictions)\n",
        "    print(predictions)\n",
        "    predictions = np.squeeze(predictions,axis=0)\n",
        "    print (predictions.shape)\n",
        "    predict_label = np.argmax(predictions,axis=1)\n",
        "    test_label = np.argmax(test_label,axis=1)\n",
        "    print (predict_label)\n",
        "    print (test_label)\n",
        "    TestMAE = np.mean(np.abs(predict_label-test_label))\n",
        "    return TestMAE\n",
        "\n",
        "#model.load_weights('/content/weights_m1.10-0.20.hdf5')\n",
        "val=TestMAE(model,x_test,y_tests,gender_test)\n",
        "print(val)\n",
        "#gender_test.shape"
      ],
      "metadata": {
        "colab": {
          "base_uri": "https://localhost:8080/"
        },
        "id": "BV-JI4aYVk-5",
        "outputId": "a83d8ab8-54b2-40d9-8473-d99cf7c2544c"
      },
      "execution_count": 59,
      "outputs": [
        {
          "output_type": "stream",
          "name": "stdout",
          "text": [
            "[array([[ 0.02933555, -0.01817966, -0.01371889, ...,  0.08359307,\n",
            "         0.07279454, -0.10282555],\n",
            "       [ 0.14842248,  0.05088124,  0.08104468, ..., -0.00644339,\n",
            "         0.34747648,  0.05210375],\n",
            "       [-0.01827911, -0.2152895 , -0.08353485, ..., -0.1296112 ,\n",
            "         0.41189206, -0.03246297],\n",
            "       ...,\n",
            "       [ 0.41044027,  0.230525  ,  0.2909469 , ..., -0.05757793,\n",
            "         0.11916912,  0.14468403],\n",
            "       [ 0.23029262,  0.10438707,  0.12981474, ..., -0.2984974 ,\n",
            "         0.09003817, -0.17510512],\n",
            "       [ 0.19462886,  0.13681938,  0.16225232, ...,  0.5385575 ,\n",
            "         0.38255048,  0.57357126]], dtype=float32)]\n",
            "[[[ 0.02933555 -0.01817966 -0.01371889 ...  0.08359307  0.07279454\n",
            "   -0.10282555]\n",
            "  [ 0.14842248  0.05088124  0.08104468 ... -0.00644339  0.34747648\n",
            "    0.05210375]\n",
            "  [-0.01827911 -0.2152895  -0.08353485 ... -0.1296112   0.41189206\n",
            "   -0.03246297]\n",
            "  ...\n",
            "  [ 0.41044027  0.230525    0.2909469  ... -0.05757793  0.11916912\n",
            "    0.14468403]\n",
            "  [ 0.23029262  0.10438707  0.12981474 ... -0.2984974   0.09003817\n",
            "   -0.17510512]\n",
            "  [ 0.19462886  0.13681938  0.16225232 ...  0.5385575   0.38255048\n",
            "    0.57357126]]]\n",
            "(50, 240)\n",
            "[129 133 107 210 139  98  83 179 133 133 139 133 127 200 133 108  98 116\n",
            " 129 189 173 182 133 187 169 139 133 133 133 127 133 133 210 133 107 133\n",
            " 133 139 189 139 133 126 139 108 189 143 108  27 116 206]\n",
            "[ 86 129  58 179 110 101  49 199 140 151 125  68 126 223 144  66  93  69\n",
            "  86 181 183 212 106 184 205 150 121 138 162 117 143 151 227 108  90 107\n",
            " 147 106 224 152  90 128 110  79 207 145 103  24  56 214]\n",
            "21.54\n"
          ]
        }
      ]
    },
    {
      "cell_type": "markdown",
      "source": [
        "5.------------------------inres---------------------------------"
      ],
      "metadata": {
        "id": "8h79vLuwVk-5"
      }
    },
    {
      "cell_type": "code",
      "source": [
        "from keras.layers import Flatten, Dense, Input, Reshape, Lambda\n",
        "from keras import backend as K\n",
        "from keras.preprocessing.image import ImageDataGenerator\n",
        "from tensorflow.keras.applications.inception_resnet_v2 import InceptionResNetV2\n",
        "\n",
        "base_model = InceptionResNetV2(weights='imagenet', include_top=False)\n",
        "input = Input(shape=(300,300,3),name='input1')\n",
        "input_gender = Input(shape=(1,),dtype='float32',name='input2')\n",
        "output = base_model(input)\n",
        "gender_embedding=Dense(32)(input_gender)\n",
        "#gender_embedding=Dense(12)(gender_embedding)\n",
        "#x = keras.layers.MaxPooling2D(pool_size=(5,5))(output)\n",
        "#x = keras.layers.Conv2D(512,kernel_size=(3,3))(x)\n",
        "x = keras.layers.Conv2D(256,kernel_size=(3,3))(output)\n",
        "print (K.int_shape(output))\n",
        "x = keras.layers.MaxPooling2D(pool_size=(3,3))(x)\n",
        "print (K.int_shape(x))\n",
        "x=Flatten()(x)\n",
        "f = keras.layers.Concatenate(axis=1)([x,gender_embedding])\n",
        "print (K.int_shape(f)) \n",
        "#x = Dense(256, activation='relu')(x)\n",
        "predictions =Dense(240)(f)\n",
        "\n",
        "model = Model(inputs=[input,input_gender], outputs=predictions)\n",
        "\n",
        "\n",
        "Adam=keras.optimizers.Adam(lr=0.0001,beta_1=0.9,beta_2=0.999)\n",
        "model.compile(optimizer=Adam, loss='mean_absolute_error', metrics=['MAE'])\n",
        "\n",
        "model.summary\n",
        "# Save weights after every epoch\n",
        "\n",
        "checkpoint =keras.callbacks.ModelCheckpoint(filepath='weights_m5.{epoch:02d}-{val_loss:.2f}.hdf5',save_weights_only=True,period=10)\n",
        "#history = model.fit_generator(DataGen.flow([x_train,gender_train],y_train,batch_size=batch_size),steps_per_epoch=np.ceil(len(y_train)/batch_size),epochs=10,verbose=1,validation_data=([x_valid,gender_valid],y_valid))\n",
        "#history = model.fit_generator(Generator(x_train,gender_train,y_train,batch_size),steps_per_epoch=np.ceil(len(y_train)/batch_size),epochs=10,verbose=1,validation_data=([x_valid,gender_valid],y_valid))\n",
        "history=model.fit([x_train,gender_train],y_trains,batch_size=batch_size,epochs=10,verbose=1,validation_data=([x_valid,gender_valid],y_valids), callbacks = [checkpoint])\n",
        "score = model.evaluate([x_test,gender_test], y_tests, batch_size=batch_size)\n",
        "print('Test loss:', score[0])\n",
        "print('Test MAE:', score[1])\n",
        "\n",
        "##Visulization\n",
        "weights=model.layers[-1].get_weights()[0]\n",
        "print (weights.shape)\n",
        "\n",
        "#ShowAttentionV1(base_model,'/raid/chenchao/code/BoneAge/BoneAge/data/train/')\n",
        "\n",
        "#for layer in base_model.layers[:16]:\n",
        "#    layer.trainable=False\n",
        "#for layer in base_model.layers:\n",
        "#    print (layer.name,layer.trainable)\n"
      ],
      "metadata": {
        "colab": {
          "base_uri": "https://localhost:8080/"
        },
        "id": "kOvcQXK5Vk-5",
        "outputId": "0aa40bab-0e80-43c0-9427-52fe8b01e36a"
      },
      "execution_count": 60,
      "outputs": [
        {
          "output_type": "stream",
          "name": "stderr",
          "text": [
            "WARNING:tensorflow:`period` argument is deprecated. Please use `save_freq` to specify the frequency in number of batches seen.\n"
          ]
        },
        {
          "output_type": "stream",
          "name": "stdout",
          "text": [
            "(None, 8, 8, 1536)\n",
            "(None, 2, 2, 256)\n",
            "(None, 1056)\n",
            "Epoch 1/10\n",
            "81/81 [==============================] - 69s 624ms/step - loss: 0.2681 - MAE: 0.2681 - val_loss: 0.2688 - val_MAE: 0.2688\n",
            "Epoch 2/10\n",
            "81/81 [==============================] - 47s 576ms/step - loss: 0.1806 - MAE: 0.1806 - val_loss: 0.1982 - val_MAE: 0.1982\n",
            "Epoch 3/10\n",
            "81/81 [==============================] - 47s 579ms/step - loss: 0.1385 - MAE: 0.1385 - val_loss: 0.1616 - val_MAE: 0.1616\n",
            "Epoch 4/10\n",
            "81/81 [==============================] - 47s 579ms/step - loss: 0.1090 - MAE: 0.1090 - val_loss: 0.1366 - val_MAE: 0.1366\n",
            "Epoch 5/10\n",
            "81/81 [==============================] - 47s 578ms/step - loss: 0.0921 - MAE: 0.0921 - val_loss: 0.1211 - val_MAE: 0.1211\n",
            "Epoch 6/10\n",
            "81/81 [==============================] - 47s 577ms/step - loss: 0.0772 - MAE: 0.0772 - val_loss: 0.1232 - val_MAE: 0.1232\n",
            "Epoch 7/10\n",
            "81/81 [==============================] - 47s 578ms/step - loss: 0.0690 - MAE: 0.0690 - val_loss: 0.1081 - val_MAE: 0.1081\n",
            "Epoch 8/10\n",
            "81/81 [==============================] - 47s 577ms/step - loss: 0.0628 - MAE: 0.0628 - val_loss: 0.1113 - val_MAE: 0.1113\n",
            "Epoch 9/10\n",
            "81/81 [==============================] - 47s 578ms/step - loss: 0.0559 - MAE: 0.0559 - val_loss: 0.1060 - val_MAE: 0.1060\n",
            "Epoch 10/10\n",
            "81/81 [==============================] - 48s 592ms/step - loss: 0.0513 - MAE: 0.0513 - val_loss: 0.1077 - val_MAE: 0.1077\n",
            "4/4 [==============================] - 1s 131ms/step - loss: 0.1047 - MAE: 0.1047\n",
            "Test loss: 0.10470849275588989\n",
            "Test MAE: 0.10470849275588989\n",
            "(1056, 240)\n"
          ]
        }
      ]
    },
    {
      "cell_type": "code",
      "source": [
        "plt.plot(history.history['loss'])\n",
        "plt.plot(history.history['val_loss'])\n",
        "plt.title('Model loss')\n",
        "plt.ylabel('Loss')\n",
        "plt.xlabel('Epoch')\n",
        "plt.legend(['Train', 'Validation'], loc='upper left')\n",
        "plt.show()"
      ],
      "metadata": {
        "colab": {
          "base_uri": "https://localhost:8080/",
          "height": 295
        },
        "id": "EWbFSiv7Vk-5",
        "outputId": "b4514b2f-dead-4aac-932a-41f3004376c1"
      },
      "execution_count": 61,
      "outputs": [
        {
          "output_type": "display_data",
          "data": {
            "text/plain": [
              "<Figure size 432x288 with 1 Axes>"
            ],
            "image/png": "[encoded data removed]"
          },
          "metadata": {
            "needs_background": "light"
          }
        }
      ]
    },
    {
      "cell_type": "code",
      "source": [
        "def TestMAE(model,test_data,test_label,test_gender):\n",
        "    #print(test_label.type)\n",
        "    test_gender = np.array(test_gender)\n",
        "    test_gender = np.expand_dims(test_gender,axis=1)\n",
        "    layer=K.function([model.layers[0].input,model.layers[4].input],[model.layers[-1].output])\n",
        "    predictions=layer([test_data,test_gender])\n",
        "    print(predictions)\n",
        "    predictions = np.array(predictions)\n",
        "    print(predictions)\n",
        "    predictions = np.squeeze(predictions,axis=0)\n",
        "    print (predictions.shape)\n",
        "    predict_label = np.argmax(predictions,axis=1)\n",
        "    test_label = np.argmax(test_label,axis=1)\n",
        "    print (predict_label)\n",
        "    print (test_label)\n",
        "    TestMAE = np.mean(np.abs(predict_label-test_label))\n",
        "    return TestMAE\n",
        "\n",
        "#model.load_weights('/content/weights_m1.10-0.20.hdf5')\n",
        "val=TestMAE(model,x_test,y_tests,gender_test)\n",
        "print(val)\n",
        "#gender_test.shape"
      ],
      "metadata": {
        "colab": {
          "base_uri": "https://localhost:8080/"
        },
        "id": "wsyCq5q4Vk-5",
        "outputId": "9ec14931-e1a9-4371-afa8-4a2cccdb4de1"
      },
      "execution_count": 62,
      "outputs": [
        {
          "output_type": "stream",
          "name": "stdout",
          "text": [
            "[array([[ 0.00469802, -0.00097051, -0.03067896, ..., -0.04672214,\n",
            "        -0.00954808,  0.03014527],\n",
            "       [ 0.02409305,  0.0196684 ,  0.00642341, ..., -0.03262457,\n",
            "         0.01722093, -0.00470405],\n",
            "       [-0.00141449, -0.01000596, -0.0358343 , ...,  0.00914815,\n",
            "        -0.04944964, -0.00146608],\n",
            "       ...,\n",
            "       [ 0.45809856,  0.52466655,  0.5063424 , ..., -0.03074686,\n",
            "         0.02633773,  0.0101441 ],\n",
            "       [-0.0040701 ,  0.00207303, -0.01535123, ..., -0.01431956,\n",
            "        -0.01077877,  0.00613324],\n",
            "       [ 0.09243172, -0.02559393,  0.01626751, ..., -0.00347315,\n",
            "         0.02511612,  0.03112345]], dtype=float32)]\n",
            "[[[ 0.00469802 -0.00097051 -0.03067896 ... -0.04672214 -0.00954808\n",
            "    0.03014527]\n",
            "  [ 0.02409305  0.0196684   0.00642341 ... -0.03262457  0.01722093\n",
            "   -0.00470405]\n",
            "  [-0.00141449 -0.01000596 -0.0358343  ...  0.00914815 -0.04944964\n",
            "   -0.00146608]\n",
            "  ...\n",
            "  [ 0.45809856  0.52466655  0.5063424  ... -0.03074686  0.02633773\n",
            "    0.0101441 ]\n",
            "  [-0.0040701   0.00207303 -0.01535123 ... -0.01431956 -0.01077877\n",
            "    0.00613324]\n",
            "  [ 0.09243172 -0.02559393  0.01626751 ... -0.00347315  0.02511612\n",
            "    0.03112345]]]\n",
            "(50, 240)\n",
            "[119 122  62 190 121 103  59 179 152 130 133  69 123 201 160  89  86 114\n",
            " 111 179 184 185 118 183 184 133  89 151 160 143 118 151 206 119 107  86\n",
            " 144 123 201 145 103 130 119  85 197 155 104  25  69 156]\n",
            "[ 86 129  58 179 110 101  49 199 140 151 125  68 126 223 144  66  93  69\n",
            "  86 181 183 212 106 184 205 150 121 138 162 117 143 151 227 108  90 107\n",
            " 147 106 224 152  90 128 110  79 207 145 103  24  56 214]\n",
            "14.06\n"
          ]
        }
      ]
    },
    {
      "cell_type": "markdown",
      "source": [
        "6.------------------------den201---------------------------------"
      ],
      "metadata": {
        "id": "jnM0cUr7Vk-6"
      }
    },
    {
      "cell_type": "code",
      "source": [
        "from keras.layers import Flatten, Dense, Input, Reshape, Lambda\n",
        "from keras import backend as K\n",
        "from keras.preprocessing.image import ImageDataGenerator\n",
        "from tensorflow.keras.applications.densenet import DenseNet201\n",
        "\n",
        "base_model = DenseNet201(weights='imagenet', include_top=False)\n",
        "input = Input(shape=(300,300,3),name='input1')\n",
        "input_gender = Input(shape=(1,),dtype='float32',name='input2')\n",
        "output = base_model(input)\n",
        "gender_embedding=Dense(32)(input_gender)\n",
        "#gender_embedding=Dense(12)(gender_embedding)\n",
        "#x = keras.layers.MaxPooling2D(pool_size=(5,5))(output)\n",
        "#x = keras.layers.Conv2D(512,kernel_size=(3,3))(x)\n",
        "x = keras.layers.Conv2D(256,kernel_size=(3,3))(output)\n",
        "print (K.int_shape(output))\n",
        "x = keras.layers.MaxPooling2D(pool_size=(3,3))(x)\n",
        "print (K.int_shape(x))\n",
        "x=Flatten()(x)\n",
        "f = keras.layers.Concatenate(axis=1)([x,gender_embedding])\n",
        "print (K.int_shape(f)) \n",
        "#x = Dense(256, activation='relu')(x)\n",
        "predictions =Dense(240)(f)\n",
        "\n",
        "model = Model(inputs=[input,input_gender], outputs=predictions)\n",
        "\n",
        "\n",
        "Adam=keras.optimizers.Adam(lr=0.0001,beta_1=0.9,beta_2=0.999)\n",
        "model.compile(optimizer=Adam, loss='mean_absolute_error', metrics=['MAE'])\n",
        "\n",
        "model.summary\n",
        "# Save weights after every epoch\n",
        "\n",
        "checkpoint =keras.callbacks.ModelCheckpoint(filepath='weights_m6.{epoch:02d}-{val_loss:.2f}.hdf5',save_weights_only=True,period=10)\n",
        "#history = model.fit_generator(DataGen.flow([x_train,gender_train],y_train,batch_size=batch_size),steps_per_epoch=np.ceil(len(y_train)/batch_size),epochs=10,verbose=1,validation_data=([x_valid,gender_valid],y_valid))\n",
        "#history = model.fit_generator(Generator(x_train,gender_train,y_train,batch_size),steps_per_epoch=np.ceil(len(y_train)/batch_size),epochs=10,verbose=1,validation_data=([x_valid,gender_valid],y_valid))\n",
        "history=model.fit([x_train,gender_train],y_trains,batch_size=batch_size,epochs=10,verbose=1,validation_data=([x_valid,gender_valid],y_valids), callbacks = [checkpoint])\n",
        "score = model.evaluate([x_test,gender_test], y_tests, batch_size=batch_size)\n",
        "print('Test loss:', score[0])\n",
        "print('Test MAE:', score[1])\n",
        "\n",
        "##Visulization\n",
        "weights=model.layers[-1].get_weights()[0]\n",
        "print (weights.shape)\n",
        "\n",
        "#ShowAttentionV1(base_model,'/raid/chenchao/code/BoneAge/BoneAge/data/train/')\n",
        "\n",
        "#for layer in base_model.layers[:16]:\n",
        "#    layer.trainable=False\n",
        "#for layer in base_model.layers:\n",
        "#    print (layer.name,layer.trainable)\n"
      ],
      "metadata": {
        "colab": {
          "base_uri": "https://localhost:8080/"
        },
        "id": "Egvgxy6dVk-6",
        "outputId": "669616b3-b864-44f8-d818-1f6ae969b058"
      },
      "execution_count": 63,
      "outputs": [
        {
          "output_type": "stream",
          "name": "stderr",
          "text": [
            "WARNING:tensorflow:`period` argument is deprecated. Please use `save_freq` to specify the frequency in number of batches seen.\n"
          ]
        },
        {
          "output_type": "stream",
          "name": "stdout",
          "text": [
            "(None, 9, 9, 1920)\n",
            "(None, 2, 2, 256)\n",
            "(None, 1056)\n",
            "Epoch 1/10\n",
            "81/81 [==============================] - 64s 546ms/step - loss: 0.3142 - MAE: 0.3142 - val_loss: 0.3046 - val_MAE: 0.3046\n",
            "Epoch 2/10\n",
            "81/81 [==============================] - 41s 509ms/step - loss: 0.1569 - MAE: 0.1569 - val_loss: 0.2377 - val_MAE: 0.2377\n",
            "Epoch 3/10\n",
            "81/81 [==============================] - 41s 508ms/step - loss: 0.1230 - MAE: 0.1230 - val_loss: 0.1951 - val_MAE: 0.1951\n",
            "Epoch 4/10\n",
            "81/81 [==============================] - 41s 510ms/step - loss: 0.1046 - MAE: 0.1046 - val_loss: 0.1880 - val_MAE: 0.1880\n",
            "Epoch 5/10\n",
            "81/81 [==============================] - 41s 509ms/step - loss: 0.0906 - MAE: 0.0906 - val_loss: 0.1426 - val_MAE: 0.1426\n",
            "Epoch 6/10\n",
            "81/81 [==============================] - 41s 510ms/step - loss: 0.0814 - MAE: 0.0814 - val_loss: 0.1219 - val_MAE: 0.1219\n",
            "Epoch 7/10\n",
            "81/81 [==============================] - 41s 508ms/step - loss: 0.0697 - MAE: 0.0697 - val_loss: 0.1151 - val_MAE: 0.1151\n",
            "Epoch 8/10\n",
            "81/81 [==============================] - 41s 511ms/step - loss: 0.0683 - MAE: 0.0683 - val_loss: 0.1165 - val_MAE: 0.1165\n",
            "Epoch 9/10\n",
            "81/81 [==============================] - 41s 510ms/step - loss: 0.0555 - MAE: 0.0555 - val_loss: 0.1082 - val_MAE: 0.1082\n",
            "Epoch 10/10\n",
            "81/81 [==============================] - 42s 522ms/step - loss: 0.0579 - MAE: 0.0579 - val_loss: 0.1097 - val_MAE: 0.1097\n",
            "4/4 [==============================] - 1s 109ms/step - loss: 0.1075 - MAE: 0.1075\n",
            "Test loss: 0.1074521616101265\n",
            "Test MAE: 0.1074521616101265\n",
            "(1056, 240)\n"
          ]
        }
      ]
    },
    {
      "cell_type": "code",
      "source": [
        "plt.plot(history.history['loss'])\n",
        "plt.plot(history.history['val_loss'])\n",
        "plt.title('Model loss')\n",
        "plt.ylabel('Loss')\n",
        "plt.xlabel('Epoch')\n",
        "plt.legend(['Train', 'Validation'], loc='upper left')\n",
        "plt.show()"
      ],
      "metadata": {
        "colab": {
          "base_uri": "https://localhost:8080/",
          "height": 295
        },
        "id": "1NpqdH3bVk-6",
        "outputId": "5dacb5b8-8341-4417-b030-dfa3aca492ee"
      },
      "execution_count": 64,
      "outputs": [
        {
          "output_type": "display_data",
          "data": {
            "text/plain": [
              "<Figure size 432x288 with 1 Axes>"
            ],
            "image/png": "[encoded data removed]"
          },
          "metadata": {
            "needs_background": "light"
          }
        }
      ]
    },
    {
      "cell_type": "code",
      "source": [
        "def TestMAE(model,test_data,test_label,test_gender):\n",
        "    #print(test_label.type)\n",
        "    test_gender = np.array(test_gender)\n",
        "    test_gender = np.expand_dims(test_gender,axis=1)\n",
        "    layer=K.function([model.layers[0].input,model.layers[4].input],[model.layers[-1].output])\n",
        "    predictions=layer([test_data,test_gender])\n",
        "    print(predictions)\n",
        "    predictions = np.array(predictions)\n",
        "    print(predictions)\n",
        "    predictions = np.squeeze(predictions,axis=0)\n",
        "    print (predictions.shape)\n",
        "    predict_label = np.argmax(predictions,axis=1)\n",
        "    test_label = np.argmax(test_label,axis=1)\n",
        "    print (predict_label)\n",
        "    print (test_label)\n",
        "    TestMAE = np.mean(np.abs(predict_label-test_label))\n",
        "    return TestMAE\n",
        "\n",
        "#model.load_weights('/content/weights_m1.10-0.20.hdf5')\n",
        "val=TestMAE(model,x_test,y_tests,gender_test)\n",
        "print(val)\n",
        "#gender_test.shape"
      ],
      "metadata": {
        "colab": {
          "base_uri": "https://localhost:8080/"
        },
        "id": "94k_u1axVk-6",
        "outputId": "b70780d2-df1c-4b8d-f902-d140ec46f5a4"
      },
      "execution_count": 65,
      "outputs": [
        {
          "output_type": "stream",
          "name": "stdout",
          "text": [
            "[array([[-0.00696431,  0.01454504, -0.01947005, ..., -0.03816537,\n",
            "         0.00761211, -0.03311308],\n",
            "       [-0.01460892,  0.01916808, -0.02283543, ..., -0.00604018,\n",
            "         0.03799834, -0.00419502],\n",
            "       [ 0.06085468,  0.09328073,  0.05033323, ..., -0.02936604,\n",
            "         0.02206496,  0.02129307],\n",
            "       ...,\n",
            "       [ 0.5283565 ,  0.5190901 ,  0.5626262 , ...,  0.02819656,\n",
            "         0.00462987, -0.02722909],\n",
            "       [ 0.03144438,  0.06256942, -0.01678849, ...,  0.0175172 ,\n",
            "        -0.0188509 , -0.00855335],\n",
            "       [-0.02844078,  0.0490096 , -0.04559337, ...,  0.25595948,\n",
            "         0.27154347,  0.30251873]], dtype=float32)]\n",
            "[[[-0.00696431  0.01454504 -0.01947005 ... -0.03816537  0.00761211\n",
            "   -0.03311308]\n",
            "  [-0.01460892  0.01916808 -0.02283543 ... -0.00604018  0.03799834\n",
            "   -0.00419502]\n",
            "  [ 0.06085468  0.09328073  0.05033323 ... -0.02936604  0.02206496\n",
            "    0.02129307]\n",
            "  ...\n",
            "  [ 0.5283565   0.5190901   0.5626262  ...  0.02819656  0.00462987\n",
            "   -0.02722909]\n",
            "  [ 0.03144438  0.06256942 -0.01678849 ...  0.0175172  -0.0188509\n",
            "   -0.00855335]\n",
            "  [-0.02844078  0.0490096  -0.04559337 ...  0.25595948  0.27154347\n",
            "    0.30251873]]]\n",
            "(50, 240)\n",
            "[ 96 123  59 189 134  97  59 190 150 149 134  68  97 194 151  62  79  88\n",
            "  97 176 171 198 103 190 184 135  94 151 155 151 125 151 189  93  92  91\n",
            " 163 118 192 141  94 150  80  79 186 174  92  23  62 206]\n",
            "[ 86 129  58 179 110 101  49 199 140 151 125  68 126 223 144  66  93  69\n",
            "  86 181 183 212 106 184 205 150 121 138 162 117 143 151 227 108  90 107\n",
            " 147 106 224 152  90 128 110  79 207 145 103  24  56 214]\n",
            "13.14\n"
          ]
        }
      ]
    },
    {
      "cell_type": "markdown",
      "source": [
        "7.------------------------eff---------------------------------"
      ],
      "metadata": {
        "id": "Zpncses-Vk-6"
      }
    },
    {
      "cell_type": "code",
      "source": [
        "from keras.layers import Flatten, Dense, Input, Reshape, Lambda\n",
        "from keras import backend as K\n",
        "from keras.preprocessing.image import ImageDataGenerator\n",
        "from tensorflow.keras.applications.efficientnet import EfficientNetB4\n",
        "\n",
        "base_model = EfficientNetB4(weights='imagenet', include_top=False)\n",
        "input = Input(shape=(300,300,3),name='input1')\n",
        "input_gender = Input(shape=(1,),dtype='float32',name='input2')\n",
        "output = base_model(input)\n",
        "gender_embedding=Dense(32)(input_gender)\n",
        "#gender_embedding=Dense(12)(gender_embedding)\n",
        "#x = keras.layers.MaxPooling2D(pool_size=(5,5))(output)\n",
        "#x = keras.layers.Conv2D(512,kernel_size=(3,3))(x)\n",
        "x = keras.layers.Conv2D(256,kernel_size=(3,3))(output)\n",
        "print (K.int_shape(output))\n",
        "x = keras.layers.MaxPooling2D(pool_size=(3,3))(x)\n",
        "print (K.int_shape(x))\n",
        "x=Flatten()(x)\n",
        "f = keras.layers.Concatenate(axis=1)([x,gender_embedding])\n",
        "print (K.int_shape(f)) \n",
        "#x = Dense(256, activation='relu')(x)\n",
        "predictions =Dense(240)(f)\n",
        "\n",
        "model = Model(inputs=[input,input_gender], outputs=predictions)\n",
        "\n",
        "\n",
        "Adam=keras.optimizers.Adam(lr=0.0001,beta_1=0.9,beta_2=0.999)\n",
        "model.compile(optimizer=Adam, loss='mean_absolute_error', metrics=['MAE'])\n",
        "\n",
        "model.summary\n",
        "# Save weights after every epoch\n",
        "\n",
        "checkpoint =keras.callbacks.ModelCheckpoint(filepath='weights_m6.{epoch:02d}-{val_loss:.2f}.hdf5',save_weights_only=True,period=10)\n",
        "#history = model.fit_generator(DataGen.flow([x_train,gender_train],y_train,batch_size=batch_size),steps_per_epoch=np.ceil(len(y_train)/batch_size),epochs=10,verbose=1,validation_data=([x_valid,gender_valid],y_valid))\n",
        "#history = model.fit_generator(Generator(x_train,gender_train,y_train,batch_size),steps_per_epoch=np.ceil(len(y_train)/batch_size),epochs=10,verbose=1,validation_data=([x_valid,gender_valid],y_valid))\n",
        "history=model.fit([x_train,gender_train],y_trains,batch_size=batch_size,epochs=10,verbose=1,validation_data=([x_valid,gender_valid],y_valids), callbacks = [checkpoint])\n",
        "score = model.evaluate([x_test,gender_test], y_tests, batch_size=batch_size)\n",
        "print('Test loss:', score[0])\n",
        "print('Test MAE:', score[1])\n",
        "\n",
        "##Visulization\n",
        "weights=model.layers[-1].get_weights()[0]\n",
        "print (weights.shape)\n",
        "\n",
        "#ShowAttentionV1(base_model,'/raid/chenchao/code/BoneAge/BoneAge/data/train/')\n",
        "\n",
        "#for layer in base_model.layers[:16]:\n",
        "#    layer.trainable=False\n",
        "#for layer in base_model.layers:\n",
        "#    print (layer.name,layer.trainable)\n"
      ],
      "metadata": {
        "colab": {
          "base_uri": "https://localhost:8080/"
        },
        "id": "7IzzIqG4Vk-6",
        "outputId": "4d4ee92f-dc47-4e58-bb13-e9060beb32e4"
      },
      "execution_count": 66,
      "outputs": [
        {
          "output_type": "stream",
          "name": "stderr",
          "text": [
            "WARNING:tensorflow:`period` argument is deprecated. Please use `save_freq` to specify the frequency in number of batches seen.\n"
          ]
        },
        {
          "output_type": "stream",
          "name": "stdout",
          "text": [
            "(None, 9, 9, 1792)\n",
            "(None, 2, 2, 256)\n",
            "(None, 1056)\n",
            "Epoch 1/10\n",
            "81/81 [==============================] - 80s 743ms/step - loss: 0.3445 - MAE: 0.3445 - val_loss: 0.2646 - val_MAE: 0.2646\n",
            "Epoch 2/10\n",
            "81/81 [==============================] - 57s 703ms/step - loss: 0.2264 - MAE: 0.2264 - val_loss: 0.2593 - val_MAE: 0.2593\n",
            "Epoch 3/10\n",
            "81/81 [==============================] - 57s 705ms/step - loss: 0.1944 - MAE: 0.1944 - val_loss: 0.2664 - val_MAE: 0.2664\n",
            "Epoch 4/10\n",
            "81/81 [==============================] - 57s 702ms/step - loss: 0.1614 - MAE: 0.1614 - val_loss: 0.2525 - val_MAE: 0.2525\n",
            "Epoch 5/10\n",
            "81/81 [==============================] - 57s 702ms/step - loss: 0.1436 - MAE: 0.1436 - val_loss: 0.2558 - val_MAE: 0.2558\n",
            "Epoch 6/10\n",
            "81/81 [==============================] - 57s 708ms/step - loss: 0.1249 - MAE: 0.1249 - val_loss: 0.2501 - val_MAE: 0.2501\n",
            "Epoch 7/10\n",
            "81/81 [==============================] - 57s 702ms/step - loss: 0.1149 - MAE: 0.1149 - val_loss: 0.1747 - val_MAE: 0.1747\n",
            "Epoch 8/10\n",
            "81/81 [==============================] - 57s 704ms/step - loss: 0.1063 - MAE: 0.1063 - val_loss: 0.1882 - val_MAE: 0.1882\n",
            "Epoch 9/10\n",
            "81/81 [==============================] - 57s 706ms/step - loss: 0.0987 - MAE: 0.0987 - val_loss: 0.2358 - val_MAE: 0.2358\n",
            "Epoch 10/10\n",
            "81/81 [==============================] - 57s 709ms/step - loss: 0.0901 - MAE: 0.0901 - val_loss: 0.2230 - val_MAE: 0.2230\n",
            "4/4 [==============================] - 1s 107ms/step - loss: 0.2365 - MAE: 0.2365\n",
            "Test loss: 0.23650453984737396\n",
            "Test MAE: 0.23650453984737396\n",
            "(1056, 240)\n"
          ]
        }
      ]
    },
    {
      "cell_type": "code",
      "source": [
        "plt.plot(history.history['loss'])\n",
        "plt.plot(history.history['val_loss'])\n",
        "plt.title('Model loss')\n",
        "plt.ylabel('Loss')\n",
        "plt.xlabel('Epoch')\n",
        "plt.legend(['Train', 'Validation'], loc='upper left')\n",
        "plt.show()"
      ],
      "metadata": {
        "colab": {
          "base_uri": "https://localhost:8080/",
          "height": 295
        },
        "id": "L2ZgtbiNVk-7",
        "outputId": "36e6613f-1e20-46f0-9ff1-d890a4f48fea"
      },
      "execution_count": 67,
      "outputs": [
        {
          "output_type": "display_data",
          "data": {
            "text/plain": [
              "<Figure size 432x288 with 1 Axes>"
            ],
            "image/png": "[encoded data removed]"
          },
          "metadata": {
            "needs_background": "light"
          }
        }
      ]
    },
    {
      "cell_type": "code",
      "source": [
        "def TestMAE(model,test_data,test_label,test_gender):\n",
        "    #print(test_label.type)\n",
        "    test_gender = np.array(test_gender)\n",
        "    test_gender = np.expand_dims(test_gender,axis=1)\n",
        "    layer=K.function([model.layers[0].input,model.layers[4].input],[model.layers[-1].output])\n",
        "    predictions=layer([test_data,test_gender])\n",
        "    print(predictions)\n",
        "    predictions = np.array(predictions)\n",
        "    print(predictions)\n",
        "    predictions = np.squeeze(predictions,axis=0)\n",
        "    print (predictions.shape)\n",
        "    predict_label = np.argmax(predictions,axis=1)\n",
        "    test_label = np.argmax(test_label,axis=1)\n",
        "    print (predict_label)\n",
        "    print (test_label)\n",
        "    TestMAE = np.mean(np.abs(predict_label-test_label))\n",
        "    return TestMAE\n",
        "\n",
        "#model.load_weights('/content/weights_m1.10-0.20.hdf5')\n",
        "val=TestMAE(model,x_test,y_tests,gender_test)\n",
        "print(val)\n",
        "#gender_test.shape"
      ],
      "metadata": {
        "colab": {
          "base_uri": "https://localhost:8080/"
        },
        "id": "WG-phBwXVk-7",
        "outputId": "bac7dd15-2033-4427-af30-380570b751ce"
      },
      "execution_count": 68,
      "outputs": [
        {
          "output_type": "stream",
          "name": "stdout",
          "text": [
            "[array([[ 0.08293597,  0.17675751,  0.07046464, ...,  0.07454664,\n",
            "         0.17601033,  0.03743119],\n",
            "       [ 0.05004996,  0.08825929,  0.08982674, ...,  0.11793359,\n",
            "         0.17173441,  0.07666671],\n",
            "       [ 0.20500594,  0.27744043,  0.19330034, ...,  0.16493727,\n",
            "         0.13414432,  0.02274517],\n",
            "       ...,\n",
            "       [ 0.05264341,  0.07126326,  0.12918922, ...,  0.13469353,\n",
            "         0.08019671, -0.11903796],\n",
            "       [ 0.14058924,  0.1720771 ,  0.10588333, ...,  0.12534335,\n",
            "         0.19821556,  0.07917289],\n",
            "       [ 0.16597089,  0.08729991,  0.0778758 , ...,  0.25256056,\n",
            "         0.05965599, -0.12506199]], dtype=float32)]\n",
            "[[[ 0.08293597  0.17675751  0.07046464 ...  0.07454664  0.17601033\n",
            "    0.03743119]\n",
            "  [ 0.05004996  0.08825929  0.08982674 ...  0.11793359  0.17173441\n",
            "    0.07666671]\n",
            "  [ 0.20500594  0.27744043  0.19330034 ...  0.16493727  0.13414432\n",
            "    0.02274517]\n",
            "  ...\n",
            "  [ 0.05264341  0.07126326  0.12918922 ...  0.13469353  0.08019671\n",
            "   -0.11903796]\n",
            "  [ 0.14058924  0.1720771   0.10588333 ...  0.12534335  0.19821556\n",
            "    0.07917289]\n",
            "  [ 0.16597089  0.08729991  0.0778758  ...  0.25256056  0.05965599\n",
            "   -0.12506199]]]\n",
            "(50, 240)\n",
            "[203 190 131 190 203 190 203 198 176 158 217 203 203 190 182 190 146 131\n",
            " 190 198 150 192 176 192 190 176 131 131 176 146 202 150 203 146 182 131\n",
            " 203 131 216 176 216 150 131 146 203 131 176 131 203 192]\n",
            "[ 86 129  58 179 110 101  49 199 140 151 125  68 126 223 144  66  93  69\n",
            "  86 181 183 212 106 184 205 150 121 138 162 117 143 151 227 108  90 107\n",
            " 147 106 224 152  90 128 110  79 207 145 103  24  56 214]\n",
            "51.26\n"
          ]
        }
      ]
    },
    {
      "cell_type": "markdown",
      "source": [
        "#model softmax"
      ],
      "metadata": {
        "id": "jlGChZohX81o"
      }
    },
    {
      "cell_type": "markdown",
      "source": [
        "1.------------------------xception---------------------------------"
      ],
      "metadata": {
        "id": "fLdP3nOUX81o"
      }
    },
    {
      "cell_type": "code",
      "source": [
        "from keras.layers import Flatten, Dense, Input, Reshape, Lambda,Multiply\n",
        "from keras import backend as K\n",
        "from keras.preprocessing.image import ImageDataGenerator\n",
        "\n",
        "base_model = Xception(weights='imagenet', include_top=False)\n",
        "#for i,layer in enumerate(base_model.layers):\n",
        "    #print (i,layer.name)\n",
        "input = Input(shape=(300,300,3),name='input1')\n",
        "input_gender = Input(shape=(1,),dtype='float32',name='input2')\n",
        "##input_age = Input(shape=(1,),dtype='float32',name='input3')\n",
        "output = base_model(input)\n",
        "gender_embedding=Dense(32)(input_gender)\n",
        "#gender_embedding=Dense(12)(gender_embedding)\n",
        "#x = keras.layers.MaxPooling2D(pool_size=(5,5))(output)\n",
        "#x = keras.layers.Conv2D(512,kernel_size=(3,3))(x)\n",
        "x = keras.layers.Conv2D(256,kernel_size=(3,3))(output)\n",
        "print (K.int_shape(output))\n",
        "x = keras.layers.MaxPooling2D(pool_size=(3,3))(x)\n",
        "print (K.int_shape(x))\n",
        "x=Flatten()(x)\n",
        "f = keras.layers.Concatenate(axis=1)([x,gender_embedding])\n",
        "print (K.int_shape(f)) \n",
        "f = Dense(256, activation='relu')(f)\n",
        "#f = Dense(240)(f)\n",
        "#y=Flatten()(input_age)\n",
        "#multiplied = tf.keras.layers.Multiply()([f, y])\n",
        "predictions =Dense(240, activation='softmax')(f)\n",
        "\n",
        "  \n",
        "\n",
        "model = Model(inputs=[input,input_gender], outputs=predictions)\n",
        "#for i,layer in enumerate(model.layers):\n",
        "    #print (i,layer.name)\n",
        "model.summary()\n",
        "\n",
        "Adam=keras.optimizers.Adam(lr=0.0001,beta_1=0.9,beta_2=0.999)\n",
        "model.compile(optimizer=Adam, loss='mean_absolute_error', metrics=['MAE'])\n",
        "\n",
        "# Save weights after every epoch\n",
        "\n",
        "checkpoint =keras.callbacks.ModelCheckpoint(filepath='weights_m1.{epoch:02d}-{val_loss:.2f}.hdf5',save_weights_only=True,period=10)\n",
        "#history = model.fit_generator(DataGen.flow([x_train,gender_train],y_train,batch_size=batch_size),steps_per_epoch=np.ceil(len(y_train)/batch_size),epochs=10,verbose=1,validation_data=([x_valid,gender_valid],y_valid))\n",
        "#history = model.fit_generator(Generator(x_train,gender_train,y_train,batch_size),steps_per_epoch=np.ceil(len(y_train)/batch_size),epochs=10,verbose=1,validation_data=([x_valid,gender_valid],y_valid))\n",
        "history=model.fit([x_train,gender_train],y_trains,batch_size=batch_size,epochs=10,verbose=1,validation_data=([x_valid,gender_valid],y_valids), callbacks = [checkpoint])\n",
        "score = model.evaluate([x_test,gender_test], y_tests, batch_size=batch_size)\n",
        "print('Test loss:', score[0])\n",
        "print('Test MAE:', score[1])\n",
        "\n",
        "##Visulization\n",
        "weights=model.layers[-1].get_weights()[0]\n",
        "print (weights.shape)\n",
        "\n",
        "#ShowAttentionV1(base_model,'/raid/chenchao/code/BoneAge/BoneAge/data/train/')\n",
        "\n",
        "#for layer in base_model.layers[:16]:\n",
        "#    layer.trainable=False\n",
        "#for layer in base_model.layers:\n",
        "#    print (layer.name,layer.trainable)\n"
      ],
      "metadata": {
        "colab": {
          "base_uri": "https://localhost:8080/"
        },
        "id": "sLBkARznX81o",
        "outputId": "4d2d9a45-4266-464e-8ba3-30c682a01ac0"
      },
      "execution_count": 69,
      "outputs": [
        {
          "output_type": "stream",
          "name": "stdout",
          "text": [
            "(None, 10, 10, 2048)\n",
            "(None, 2, 2, 256)\n",
            "(None, 1056)\n",
            "Model: \"model_32\"\n",
            "__________________________________________________________________________________________________\n",
            " Layer (type)                   Output Shape         Param #     Connected to                     \n",
            "==================================================================================================\n",
            " input1 (InputLayer)            [(None, 300, 300, 3  0           []                               \n",
            "                                )]                                                                \n",
            "                                                                                                  \n",
            " xception (Functional)          (None, None, None,   20861480    ['input1[0][0]']                 \n",
            "                                2048)                                                             \n",
            "                                                                                                  \n",
            " conv2d_625 (Conv2D)            (None, 8, 8, 256)    4718848     ['xception[0][0]']               \n",
            "                                                                                                  \n",
            " max_pooling2d_31 (MaxPooling2D  (None, 2, 2, 256)   0           ['conv2d_625[0][0]']             \n",
            " )                                                                                                \n",
            "                                                                                                  \n",
            " input2 (InputLayer)            [(None, 1)]          0           []                               \n",
            "                                                                                                  \n",
            " flatten_15 (Flatten)           (None, 1024)         0           ['max_pooling2d_31[0][0]']       \n",
            "                                                                                                  \n",
            " dense_33 (Dense)               (None, 32)           64          ['input2[0][0]']                 \n",
            "                                                                                                  \n",
            " concatenate_19 (Concatenate)   (None, 1056)         0           ['flatten_15[0][0]',             \n",
            "                                                                  'dense_33[0][0]']               \n",
            "                                                                                                  \n",
            " dense_34 (Dense)               (None, 256)          270592      ['concatenate_19[0][0]']         \n",
            "                                                                                                  \n",
            " dense_35 (Dense)               (None, 240)          61680       ['dense_34[0][0]']               \n",
            "                                                                                                  \n",
            "==================================================================================================\n",
            "Total params: 25,912,664\n",
            "Trainable params: 25,858,136\n",
            "Non-trainable params: 54,528\n",
            "__________________________________________________________________________________________________\n"
          ]
        },
        {
          "output_type": "stream",
          "name": "stderr",
          "text": [
            "WARNING:tensorflow:`period` argument is deprecated. Please use `save_freq` to specify the frequency in number of batches seen.\n"
          ]
        },
        {
          "output_type": "stream",
          "name": "stdout",
          "text": [
            "Epoch 1/10\n",
            "81/81 [==============================] - 55s 593ms/step - loss: 0.1993 - MAE: 0.1993 - val_loss: 0.2011 - val_MAE: 0.2011\n",
            "Epoch 2/10\n",
            "81/81 [==============================] - 46s 570ms/step - loss: 0.1983 - MAE: 0.1983 - val_loss: 0.2008 - val_MAE: 0.2008\n",
            "Epoch 3/10\n",
            "81/81 [==============================] - 47s 575ms/step - loss: 0.1979 - MAE: 0.1979 - val_loss: 0.2005 - val_MAE: 0.2005\n",
            "Epoch 4/10\n",
            "81/81 [==============================] - 46s 572ms/step - loss: 0.1977 - MAE: 0.1977 - val_loss: 0.2009 - val_MAE: 0.2009\n",
            "Epoch 5/10\n",
            "81/81 [==============================] - 47s 575ms/step - loss: 0.1976 - MAE: 0.1976 - val_loss: 0.2005 - val_MAE: 0.2005\n",
            "Epoch 6/10\n",
            "81/81 [==============================] - 46s 574ms/step - loss: 0.1975 - MAE: 0.1975 - val_loss: 0.2004 - val_MAE: 0.2004\n",
            "Epoch 7/10\n",
            "81/81 [==============================] - 46s 570ms/step - loss: 0.1974 - MAE: 0.1974 - val_loss: 0.2006 - val_MAE: 0.2006\n",
            "Epoch 8/10\n",
            "81/81 [==============================] - 46s 573ms/step - loss: 0.1974 - MAE: 0.1974 - val_loss: 0.2005 - val_MAE: 0.2005\n",
            "Epoch 9/10\n",
            "81/81 [==============================] - 46s 574ms/step - loss: 0.1974 - MAE: 0.1974 - val_loss: 0.2004 - val_MAE: 0.2004\n",
            "Epoch 10/10\n",
            "81/81 [==============================] - 47s 576ms/step - loss: 0.1974 - MAE: 0.1974 - val_loss: 0.2005 - val_MAE: 0.2005\n",
            "4/4 [==============================] - 0s 94ms/step - loss: 0.1995 - MAE: 0.1995\n",
            "Test loss: 0.19946740567684174\n",
            "Test MAE: 0.19946740567684174\n",
            "(256, 240)\n"
          ]
        }
      ]
    },
    {
      "cell_type": "code",
      "source": [
        "plt.plot(history.history['loss'])\n",
        "plt.plot(history.history['val_loss'])\n",
        "plt.title('Model loss')\n",
        "plt.ylabel('Loss')\n",
        "plt.xlabel('Epoch')\n",
        "plt.legend(['Train', 'Validation'], loc='upper left')\n",
        "plt.show()"
      ],
      "metadata": {
        "colab": {
          "base_uri": "https://localhost:8080/",
          "height": 295
        },
        "id": "MsmmXYXsX81p",
        "outputId": "74f6645b-cfb4-42a6-a866-2cabd05d1f85"
      },
      "execution_count": 70,
      "outputs": [
        {
          "output_type": "display_data",
          "data": {
            "text/plain": [
              "<Figure size 432x288 with 1 Axes>"
            ],
            "image/png": "[encoded data removed]"
          },
          "metadata": {
            "needs_background": "light"
          }
        }
      ]
    },
    {
      "cell_type": "code",
      "source": [
        "def TestMAE(model,test_data,test_label,test_gender):\n",
        "    #print(test_label.type)\n",
        "    test_gender = np.array(test_gender)\n",
        "    test_gender = np.expand_dims(test_gender,axis=1)\n",
        "    layer=K.function([model.layers[0].input,model.layers[4].input],[model.layers[-1].output])\n",
        "    predictions=layer([test_data,test_gender])\n",
        "    print(predictions)\n",
        "    predictions = np.array(predictions)\n",
        "    print(predictions)\n",
        "    predictions = np.squeeze(predictions,axis=0)\n",
        "    print (predictions.shape)\n",
        "    predict_label = np.argmax(predictions,axis=1)\n",
        "    test_label = np.argmax(test_label,axis=1)\n",
        "    print (predict_label)\n",
        "    print (test_label)\n",
        "    TestMAE = np.mean(np.abs(predict_label-test_label))\n",
        "    return TestMAE\n",
        "\n",
        "#model.load_weights('/content/weights_m1.10-0.20.hdf5')\n",
        "val=TestMAE(model,x_test,y_tests,gender_test)\n",
        "print(val)\n",
        "#gender_test.shape"
      ],
      "metadata": {
        "colab": {
          "base_uri": "https://localhost:8080/"
        },
        "id": "HYj5cc7RX81p",
        "outputId": "1d76d140-2a6c-420b-ba8a-3e958586b534"
      },
      "execution_count": 71,
      "outputs": [
        {
          "output_type": "stream",
          "name": "stdout",
          "text": [
            "[array([[9.4891226e-07, 2.8923953e-06, 4.7349199e-06, ..., 2.4842434e-06,\n",
            "        1.2845163e-06, 1.1907329e-06],\n",
            "       [2.4635803e-08, 8.6834842e-07, 1.1894541e-07, ..., 3.0148915e-06,\n",
            "        2.6784932e-07, 1.0089924e-07],\n",
            "       [1.3487412e-08, 9.4510291e-08, 5.5991276e-08, ..., 2.9040025e-08,\n",
            "        5.1550451e-08, 6.7182995e-08],\n",
            "       ...,\n",
            "       [1.2038801e-09, 3.3215308e-08, 3.1180685e-09, ..., 6.3206591e-09,\n",
            "        4.5522528e-09, 1.4896797e-08],\n",
            "       [2.0030442e-09, 2.3144041e-08, 1.0462663e-08, ..., 3.5432268e-09,\n",
            "        1.0816279e-08, 1.5984815e-08],\n",
            "       [1.6339995e-07, 1.3205415e-07, 2.7566278e-08, ..., 3.0069891e-08,\n",
            "        1.4694220e-06, 1.6573242e-07]], dtype=float32)]\n",
            "[[[9.4891226e-07 2.8923953e-06 4.7349199e-06 ... 2.4842434e-06\n",
            "   1.2845163e-06 1.1907329e-06]\n",
            "  [2.4635803e-08 8.6834842e-07 1.1894541e-07 ... 3.0148915e-06\n",
            "   2.6784932e-07 1.0089924e-07]\n",
            "  [1.3487412e-08 9.4510291e-08 5.5991276e-08 ... 2.9040025e-08\n",
            "   5.1550451e-08 6.7182995e-08]\n",
            "  ...\n",
            "  [1.2038801e-09 3.3215308e-08 3.1180685e-09 ... 6.3206591e-09\n",
            "   4.5522528e-09 1.4896797e-08]\n",
            "  [2.0030442e-09 2.3144041e-08 1.0462663e-08 ... 3.5432268e-09\n",
            "   1.0816279e-08 1.5984815e-08]\n",
            "  [1.6339995e-07 1.3205415e-07 2.7566278e-08 ... 3.0069891e-08\n",
            "   1.4694220e-06 1.6573242e-07]]]\n",
            "(50, 240)\n",
            "[ 90 120  46 184 120 105  46 184 139 133 133  46  90 186 139  58  90  90\n",
            " 105 184 184 186 105 184 186 133 105 139 172  61 105 139 184 105  90  61\n",
            " 139 105 189 133  90 120 105  90 184 139  90  39  46 186]\n",
            "[ 86 129  58 179 110 101  49 199 140 151 125  68 126 223 144  66  93  69\n",
            "  86 181 183 212 106 184 205 150 121 138 162 117 143 151 227 108  90 107\n",
            " 147 106 224 152  90 128 110  79 207 145 103  24  56 214]\n",
            "14.28\n"
          ]
        }
      ]
    },
    {
      "cell_type": "markdown",
      "source": [
        "2.------------------------inception---------------------------------"
      ],
      "metadata": {
        "id": "fR7C4huqX81p"
      }
    },
    {
      "cell_type": "code",
      "source": [
        "from keras.layers import Flatten, Dense, Input, Reshape, Lambda\n",
        "from keras import backend as K\n",
        "from keras.preprocessing.image import ImageDataGenerator\n",
        "\n",
        "base_model = InceptionV3(weights='imagenet', include_top=False)\n",
        "\n",
        "input = Input(shape=(300,300,3),name='input1')\n",
        "input_gender = Input(shape=(1,),dtype='float32',name='input2')\n",
        "output = base_model(input)\n",
        "gender_embedding=Dense(32)(input_gender)\n",
        "#gender_embedding=Dense(12)(gender_embedding)\n",
        "#x = keras.layers.MaxPooling2D(pool_size=(5,5))(output)\n",
        "#x = keras.layers.Conv2D(512,kernel_size=(3,3))(x)\n",
        "x = keras.layers.Conv2D(256,kernel_size=(3,3))(output)\n",
        "print (K.int_shape(output))\n",
        "x = keras.layers.MaxPooling2D(pool_size=(3,3))(x)\n",
        "print (K.int_shape(x))\n",
        "x=Flatten()(x)\n",
        "f = keras.layers.Concatenate(axis=1)([x,gender_embedding])\n",
        "print (K.int_shape(f)) \n",
        "#x = Dense(256, activation='relu')(x)\n",
        "predictions =Dense(240, activation='softmax')(f)\n",
        "\n",
        "model = Model(inputs=[input,input_gender], outputs=predictions)\n",
        "\n",
        "\n",
        "Adam=keras.optimizers.Adam(lr=0.0001,beta_1=0.9,beta_2=0.999)\n",
        "model.compile(optimizer=Adam, loss='mean_absolute_error', metrics=['MAE'])\n",
        "\n",
        "# Save weights after every epoch\n",
        "\n",
        "checkpoint =keras.callbacks.ModelCheckpoint(filepath='weights_m2.{epoch:02d}-{val_loss:.2f}.hdf5',save_weights_only=True,period=10)\n",
        "#history = model.fit_generator(DataGen.flow([x_train,gender_train],y_train,batch_size=batch_size),steps_per_epoch=np.ceil(len(y_train)/batch_size),epochs=10,verbose=1,validation_data=([x_valid,gender_valid],y_valid))\n",
        "#history = model.fit_generator(Generator(x_train,gender_train,y_train,batch_size),steps_per_epoch=np.ceil(len(y_train)/batch_size),epochs=10,verbose=1,validation_data=([x_valid,gender_valid],y_valid))\n",
        "history=model.fit([x_train,gender_train],y_trains,batch_size=batch_size,epochs=10,verbose=1,validation_data=([x_valid,gender_valid],y_valids), callbacks = [checkpoint])\n",
        "score = model.evaluate([x_test,gender_test], y_tests, batch_size=batch_size)\n",
        "print('Test loss:', score[0])\n",
        "print('Test MAE:', score[1])\n",
        "\n",
        "##Visulization\n",
        "weights=model.layers[-1].get_weights()[0]\n",
        "print (weights.shape)\n",
        "\n",
        "#ShowAttentionV1(base_model,'/raid/chenchao/code/BoneAge/BoneAge/data/train/')\n",
        "\n",
        "#for layer in base_model.layers[:16]:\n",
        "#    layer.trainable=False\n",
        "#for layer in base_model.layers:\n",
        "#    print (layer.name,layer.trainable)\n"
      ],
      "metadata": {
        "colab": {
          "base_uri": "https://localhost:8080/"
        },
        "id": "HmGH7EZuX81p",
        "outputId": "1adab817-58c2-47cc-e06a-1d303dd0c0ae"
      },
      "execution_count": 72,
      "outputs": [
        {
          "output_type": "stream",
          "name": "stderr",
          "text": [
            "WARNING:tensorflow:`period` argument is deprecated. Please use `save_freq` to specify the frequency in number of batches seen.\n"
          ]
        },
        {
          "output_type": "stream",
          "name": "stdout",
          "text": [
            "(None, 8, 8, 2048)\n",
            "(None, 2, 2, 256)\n",
            "(None, 1056)\n",
            "Epoch 1/10\n",
            "81/81 [==============================] - 28s 263ms/step - loss: 0.2018 - MAE: 0.2018 - val_loss: 0.2034 - val_MAE: 0.2034\n",
            "Epoch 2/10\n",
            "81/81 [==============================] - 20s 250ms/step - loss: 0.2005 - MAE: 0.2005 - val_loss: 0.2025 - val_MAE: 0.2025\n",
            "Epoch 3/10\n",
            "81/81 [==============================] - 20s 247ms/step - loss: 0.1997 - MAE: 0.1997 - val_loss: 0.2026 - val_MAE: 0.2026\n",
            "Epoch 4/10\n",
            "81/81 [==============================] - 20s 244ms/step - loss: 0.1996 - MAE: 0.1996 - val_loss: 0.2024 - val_MAE: 0.2024\n",
            "Epoch 5/10\n",
            "81/81 [==============================] - 20s 244ms/step - loss: 0.1996 - MAE: 0.1996 - val_loss: 0.2022 - val_MAE: 0.2022\n",
            "Epoch 6/10\n",
            "81/81 [==============================] - 20s 246ms/step - loss: 0.1993 - MAE: 0.1993 - val_loss: 0.2020 - val_MAE: 0.2020\n",
            "Epoch 7/10\n",
            "81/81 [==============================] - 20s 247ms/step - loss: 0.1993 - MAE: 0.1993 - val_loss: 0.2020 - val_MAE: 0.2020\n",
            "Epoch 8/10\n",
            "81/81 [==============================] - 20s 245ms/step - loss: 0.1992 - MAE: 0.1992 - val_loss: 0.2020 - val_MAE: 0.2020\n",
            "Epoch 9/10\n",
            "81/81 [==============================] - 20s 245ms/step - loss: 0.1991 - MAE: 0.1991 - val_loss: 0.2019 - val_MAE: 0.2019\n",
            "Epoch 10/10\n",
            "81/81 [==============================] - 20s 251ms/step - loss: 0.1991 - MAE: 0.1991 - val_loss: 0.2021 - val_MAE: 0.2021\n",
            "4/4 [==============================] - 0s 57ms/step - loss: 0.2007 - MAE: 0.2007\n",
            "Test loss: 0.200657919049263\n",
            "Test MAE: 0.200657919049263\n",
            "(1056, 240)\n"
          ]
        }
      ]
    },
    {
      "cell_type": "code",
      "source": [
        "plt.plot(history.history['loss'])\n",
        "plt.plot(history.history['val_loss'])\n",
        "plt.title('Model loss')\n",
        "plt.ylabel('Loss')\n",
        "plt.xlabel('Epoch')\n",
        "plt.legend(['Train', 'Validation'], loc='upper left')\n",
        "plt.show()"
      ],
      "metadata": {
        "colab": {
          "base_uri": "https://localhost:8080/",
          "height": 295
        },
        "id": "yrZpQ4o6X81p",
        "outputId": "7633d344-0565-4195-a616-09e11d325ed0"
      },
      "execution_count": 73,
      "outputs": [
        {
          "output_type": "display_data",
          "data": {
            "text/plain": [
              "<Figure size 432x288 with 1 Axes>"
            ],
            "image/png": "[encoded data removed]"
          },
          "metadata": {
            "needs_background": "light"
          }
        }
      ]
    },
    {
      "cell_type": "code",
      "source": [
        "def TestMAE(model,test_data,test_label,test_gender):\n",
        "    #print(test_label.type)\n",
        "    test_gender = np.array(test_gender)\n",
        "    test_gender = np.expand_dims(test_gender,axis=1)\n",
        "    layer=K.function([model.layers[0].input,model.layers[4].input],[model.layers[-1].output])\n",
        "    predictions=layer([test_data,test_gender])\n",
        "    print(predictions)\n",
        "    predictions = np.array(predictions)\n",
        "    print(predictions)\n",
        "    predictions = np.squeeze(predictions,axis=0)\n",
        "    print (predictions.shape)\n",
        "    predict_label = np.argmax(predictions,axis=1)\n",
        "    test_label = np.argmax(test_label,axis=1)\n",
        "    print (predict_label)\n",
        "    print (test_label)\n",
        "    TestMAE = np.mean(np.abs(predict_label-test_label))\n",
        "    return TestMAE\n",
        "\n",
        "#model.load_weights('/content/weights_m1.10-0.20.hdf5')\n",
        "val=TestMAE(model,x_test,y_tests,gender_test)\n",
        "print(val)\n",
        "#gender_test.shape"
      ],
      "metadata": {
        "colab": {
          "base_uri": "https://localhost:8080/"
        },
        "id": "ZWWzl3FRX81q",
        "outputId": "2eed5609-144c-443f-ba30-ef45012f8c6c"
      },
      "execution_count": 74,
      "outputs": [
        {
          "output_type": "stream",
          "name": "stdout",
          "text": [
            "[array([[7.4941681e-07, 8.1179940e-07, 4.2071841e-07, ..., 3.1885390e-06,\n",
            "        5.4319088e-07, 5.1626262e-07],\n",
            "       [1.5133453e-06, 1.4808794e-06, 1.2743050e-06, ..., 1.3978076e-05,\n",
            "        1.8049949e-06, 1.4289338e-06],\n",
            "       [0.0000000e+00, 0.0000000e+00, 0.0000000e+00, ..., 0.0000000e+00,\n",
            "        0.0000000e+00, 0.0000000e+00],\n",
            "       ...,\n",
            "       [0.0000000e+00, 0.0000000e+00, 0.0000000e+00, ..., 0.0000000e+00,\n",
            "        0.0000000e+00, 0.0000000e+00],\n",
            "       [0.0000000e+00, 0.0000000e+00, 0.0000000e+00, ..., 0.0000000e+00,\n",
            "        0.0000000e+00, 0.0000000e+00],\n",
            "       [9.5170769e-08, 8.3344054e-07, 6.5145834e-08, ..., 1.2714827e-06,\n",
            "        6.1959518e-08, 7.8044974e-07]], dtype=float32)]\n",
            "[[[7.4941681e-07 8.1179940e-07 4.2071841e-07 ... 3.1885390e-06\n",
            "   5.4319088e-07 5.1626262e-07]\n",
            "  [1.5133453e-06 1.4808794e-06 1.2743050e-06 ... 1.3978076e-05\n",
            "   1.8049949e-06 1.4289338e-06]\n",
            "  [0.0000000e+00 0.0000000e+00 0.0000000e+00 ... 0.0000000e+00\n",
            "   0.0000000e+00 0.0000000e+00]\n",
            "  ...\n",
            "  [0.0000000e+00 0.0000000e+00 0.0000000e+00 ... 0.0000000e+00\n",
            "   0.0000000e+00 0.0000000e+00]\n",
            "  [0.0000000e+00 0.0000000e+00 0.0000000e+00 ... 0.0000000e+00\n",
            "   0.0000000e+00 0.0000000e+00]\n",
            "  [9.5170769e-08 8.3344054e-07 6.5145834e-08 ... 1.2714827e-06\n",
            "   6.1959518e-08 7.8044974e-07]]]\n",
            "(50, 240)\n",
            "[128 128  98 195 138  98  98 181 161 138 152  98  98 181 181  98  98  98\n",
            " 128 195 181 188 128 181 181 136  98 136 172 128 128 161 195  98 128  98\n",
            " 152 128 195 136 128 128  98  98 188 161 128  98  98 181]\n",
            "[ 86 129  58 179 110 101  49 199 140 151 125  68 126 223 144  66  93  69\n",
            "  86 181 183 212 106 184 205 150 121 138 162 117 143 151 227 108  90 107\n",
            " 147 106 224 152  90 128 110  79 207 145 103  24  56 214]\n",
            "22.32\n"
          ]
        }
      ]
    },
    {
      "cell_type": "markdown",
      "source": [
        "3.------------------------resnet---------------------------------"
      ],
      "metadata": {
        "id": "Zw8uFc7uX81q"
      }
    },
    {
      "cell_type": "code",
      "source": [
        "from keras.layers import Flatten, Dense, Input, Reshape, Lambda\n",
        "from keras import backend as K\n",
        "from keras.preprocessing.image import ImageDataGenerator\n",
        "\n",
        "base_model = ResNet50(weights='imagenet', include_top=False)\n",
        "input = Input(shape=(300,300,3),name='input1')\n",
        "input_gender = Input(shape=(1,),dtype='float32',name='input2')\n",
        "output = base_model(input)\n",
        "gender_embedding=Dense(32)(input_gender)\n",
        "#gender_embedding=Dense(12)(gender_embedding)\n",
        "#x = keras.layers.MaxPooling2D(pool_size=(5,5))(output)\n",
        "#x = keras.layers.Conv2D(512,kernel_size=(3,3))(x)\n",
        "x = keras.layers.Conv2D(256,kernel_size=(3,3))(output)\n",
        "print (K.int_shape(output))\n",
        "x = keras.layers.MaxPooling2D(pool_size=(3,3))(x)\n",
        "print (K.int_shape(x))\n",
        "x=Flatten()(x)\n",
        "f = keras.layers.Concatenate(axis=1)([x,gender_embedding])\n",
        "print (K.int_shape(f)) \n",
        "#x = Dense(256, activation='relu')(x)\n",
        "predictions =Dense(240, activation='softmax')(f)\n",
        "\n",
        "model = Model(inputs=[input,input_gender], outputs=predictions)\n",
        "\n",
        "\n",
        "Adam=keras.optimizers.Adam(lr=0.0001,beta_1=0.9,beta_2=0.999)\n",
        "model.compile(optimizer=Adam, loss='mean_absolute_error', metrics=['MAE'])\n",
        "\n",
        "model.summary\n",
        "# Save weights after every epoch\n",
        "\n",
        "checkpoint =keras.callbacks.ModelCheckpoint(filepath='weights_m3.{epoch:02d}-{val_loss:.2f}.hdf5',save_weights_only=True,period=10)\n",
        "#history = model.fit_generator(DataGen.flow([x_train,gender_train],y_train,batch_size=batch_size),steps_per_epoch=np.ceil(len(y_train)/batch_size),epochs=10,verbose=1,validation_data=([x_valid,gender_valid],y_valid))\n",
        "#history = model.fit_generator(Generator(x_train,gender_train,y_train,batch_size),steps_per_epoch=np.ceil(len(y_train)/batch_size),epochs=10,verbose=1,validation_data=([x_valid,gender_valid],y_valid))\n",
        "history=model.fit([x_train,gender_train],y_trains,batch_size=batch_size,epochs=10,verbose=1,validation_data=([x_valid,gender_valid],y_valids), callbacks = [checkpoint])\n",
        "score = model.evaluate([x_test,gender_test], y_tests, batch_size=batch_size)\n",
        "print('Test loss:', score[0])\n",
        "print('Test MAE:', score[1])\n",
        "\n",
        "##Visulization\n",
        "weights=model.layers[-1].get_weights()[0]\n",
        "print (weights.shape)\n",
        "\n",
        "#ShowAttentionV1(base_model,'/raid/chenchao/code/BoneAge/BoneAge/data/train/')\n",
        "\n",
        "#for layer in base_model.layers[:16]:\n",
        "#    layer.trainable=False\n",
        "#for layer in base_model.layers:\n",
        "#    print (layer.name,layer.trainable)\n"
      ],
      "metadata": {
        "colab": {
          "base_uri": "https://localhost:8080/"
        },
        "id": "NT4Ht7LbX81q",
        "outputId": "1fde0594-f10b-4785-96e5-fb2bc50ea5e0"
      },
      "execution_count": 75,
      "outputs": [
        {
          "output_type": "stream",
          "name": "stderr",
          "text": [
            "WARNING:tensorflow:`period` argument is deprecated. Please use `save_freq` to specify the frequency in number of batches seen.\n"
          ]
        },
        {
          "output_type": "stream",
          "name": "stdout",
          "text": [
            "(None, 10, 10, 2048)\n",
            "(None, 2, 2, 256)\n",
            "(None, 1056)\n",
            "Epoch 1/10\n",
            "81/81 [==============================] - 35s 342ms/step - loss: 0.2007 - MAE: 0.2007 - val_loss: 0.2042 - val_MAE: 0.2042\n",
            "Epoch 2/10\n",
            "81/81 [==============================] - 27s 332ms/step - loss: 0.2011 - MAE: 0.2011 - val_loss: 0.2046 - val_MAE: 0.2046\n",
            "Epoch 3/10\n",
            "81/81 [==============================] - 26s 327ms/step - loss: 0.2010 - MAE: 0.2010 - val_loss: 0.2050 - val_MAE: 0.2050\n",
            "Epoch 4/10\n",
            "81/81 [==============================] - 26s 327ms/step - loss: 0.2011 - MAE: 0.2011 - val_loss: 0.2049 - val_MAE: 0.2049\n",
            "Epoch 5/10\n",
            "81/81 [==============================] - 27s 328ms/step - loss: 0.1999 - MAE: 0.1999 - val_loss: 0.2036 - val_MAE: 0.2036\n",
            "Epoch 6/10\n",
            "81/81 [==============================] - 27s 332ms/step - loss: 0.1996 - MAE: 0.1996 - val_loss: 0.2039 - val_MAE: 0.2039\n",
            "Epoch 7/10\n",
            "81/81 [==============================] - 26s 327ms/step - loss: 0.1994 - MAE: 0.1994 - val_loss: 0.2037 - val_MAE: 0.2037\n",
            "Epoch 8/10\n",
            "81/81 [==============================] - 27s 327ms/step - loss: 0.1993 - MAE: 0.1993 - val_loss: 0.2036 - val_MAE: 0.2036\n",
            "Epoch 9/10\n",
            "81/81 [==============================] - 27s 327ms/step - loss: 0.1991 - MAE: 0.1991 - val_loss: 0.2035 - val_MAE: 0.2035\n",
            "Epoch 10/10\n",
            "81/81 [==============================] - 27s 339ms/step - loss: 0.1991 - MAE: 0.1991 - val_loss: 0.2038 - val_MAE: 0.2038\n",
            "4/4 [==============================] - 0s 81ms/step - loss: 0.2025 - MAE: 0.2025\n",
            "Test loss: 0.2025243192911148\n",
            "Test MAE: 0.2025243192911148\n",
            "(1056, 240)\n"
          ]
        }
      ]
    },
    {
      "cell_type": "code",
      "source": [
        "plt.plot(history.history['loss'])\n",
        "plt.plot(history.history['val_loss'])\n",
        "plt.title('Model loss')\n",
        "plt.ylabel('Loss')\n",
        "plt.xlabel('Epoch')\n",
        "plt.legend(['Train', 'Validation'], loc='upper left')\n",
        "plt.show()"
      ],
      "metadata": {
        "colab": {
          "base_uri": "https://localhost:8080/",
          "height": 295
        },
        "id": "Ic5uUjDYX81q",
        "outputId": "ba81f99f-d2ce-4a15-ee1f-26300b23a8f0"
      },
      "execution_count": 76,
      "outputs": [
        {
          "output_type": "display_data",
          "data": {
            "text/plain": [
              "<Figure size 432x288 with 1 Axes>"
            ],
            "image/png": "[encoded data removed]"
          },
          "metadata": {
            "needs_background": "light"
          }
        }
      ]
    },
    {
      "cell_type": "code",
      "source": [
        "def TestMAE(model,test_data,test_label,test_gender):\n",
        "    #print(test_label.type)\n",
        "    test_gender = np.array(test_gender)\n",
        "    test_gender = np.expand_dims(test_gender,axis=1)\n",
        "    layer=K.function([model.layers[0].input,model.layers[4].input],[model.layers[-1].output])\n",
        "    predictions=layer([test_data,test_gender])\n",
        "    print(predictions)\n",
        "    predictions = np.array(predictions)\n",
        "    print(predictions)\n",
        "    predictions = np.squeeze(predictions,axis=0)\n",
        "    print (predictions.shape)\n",
        "    predict_label = np.argmax(predictions,axis=1)\n",
        "    test_label = np.argmax(test_label,axis=1)\n",
        "    print (predict_label)\n",
        "    print (test_label)\n",
        "    TestMAE = np.mean(np.abs(predict_label-test_label))\n",
        "    return TestMAE\n",
        "\n",
        "#model.load_weights('/content/weights_m1.10-0.20.hdf5')\n",
        "val=TestMAE(model,x_test,y_tests,gender_test)\n",
        "print(val)\n",
        "#gender_test.shape"
      ],
      "metadata": {
        "colab": {
          "base_uri": "https://localhost:8080/"
        },
        "id": "HEsFY4NOX81q",
        "outputId": "237ec3f1-9336-4308-be0e-c48dd6cc9c5c"
      },
      "execution_count": 77,
      "outputs": [
        {
          "output_type": "stream",
          "name": "stdout",
          "text": [
            "[array([[8.4106450e-04, 2.4986849e-04, 1.7425806e-04, ..., 2.1512235e-04,\n",
            "        2.1568252e-04, 2.9378341e-04],\n",
            "       [4.3559908e-06, 1.6407425e-08, 7.5331013e-09, ..., 8.8526786e-09,\n",
            "        9.4508650e-08, 4.1530271e-07],\n",
            "       [7.2349602e-04, 1.6041767e-04, 1.8990744e-04, ..., 1.3263151e-04,\n",
            "        1.4622054e-04, 2.8897930e-04],\n",
            "       ...,\n",
            "       [4.1059675e-06, 4.0249734e-08, 6.0235479e-08, ..., 6.3975207e-08,\n",
            "        5.7443854e-09, 2.4772524e-07],\n",
            "       [3.7929299e-04, 4.2074811e-05, 3.5861151e-05, ..., 2.7421691e-05,\n",
            "        3.1363390e-05, 8.4080115e-05],\n",
            "       [2.4421425e-25, 4.1089276e-33, 6.8216440e-34, ..., 4.1483365e-31,\n",
            "        2.2029757e-35, 9.0640994e-28]], dtype=float32)]\n",
            "[[[8.4106450e-04 2.4986849e-04 1.7425806e-04 ... 2.1512235e-04\n",
            "   2.1568252e-04 2.9378341e-04]\n",
            "  [4.3559908e-06 1.6407425e-08 7.5331013e-09 ... 8.8526786e-09\n",
            "   9.4508650e-08 4.1530271e-07]\n",
            "  [7.2349602e-04 1.6041767e-04 1.8990744e-04 ... 1.3263151e-04\n",
            "   1.4622054e-04 2.8897930e-04]\n",
            "  ...\n",
            "  [4.1059675e-06 4.0249734e-08 6.0235479e-08 ... 6.3975207e-08\n",
            "   5.7443854e-09 2.4772524e-07]\n",
            "  [3.7929299e-04 4.2074811e-05 3.5861151e-05 ... 2.7421691e-05\n",
            "   3.1363390e-05 8.4080115e-05]\n",
            "  [2.4421425e-25 4.1089276e-33 6.8216440e-34 ... 4.1483365e-31\n",
            "   2.2029757e-35 9.0640994e-28]]]\n",
            "(50, 240)\n",
            "[ 67 126 106 168 129 128 126 137 128 126 137 126 128 128 126 126 128 128\n",
            " 137 160 160 167 160 126 126 115 167 126 160 128 106 160 160 128 126 160\n",
            " 126 128 126 126 106 160 160 128 160 160 160 126 126 203]\n",
            "[ 86 129  58 179 110 101  49 199 140 151 125  68 126 223 144  66  93  69\n",
            "  86 181 183 212 106 184 205 150 121 138 162 117 143 151 227 108  90 107\n",
            " 147 106 224 152  90 128 110  79 207 145 103  24  56 214]\n",
            "38.34\n"
          ]
        }
      ]
    },
    {
      "cell_type": "markdown",
      "source": [
        "4.------------------------mobile---------------------------------"
      ],
      "metadata": {
        "id": "cw1bQwzEX81q"
      }
    },
    {
      "cell_type": "code",
      "source": [
        "from keras.layers import Flatten, Dense, Input, Reshape, Lambda\n",
        "from keras import backend as K\n",
        "from keras.preprocessing.image import ImageDataGenerator\n",
        "from tensorflow.keras.applications.mobilenet_v2 import MobileNetV2\n",
        "\n",
        "base_model = MobileNetV2(weights='imagenet', include_top=False)\n",
        "input = Input(shape=(300,300,3),name='input1')\n",
        "input_gender = Input(shape=(1,),dtype='float32',name='input2')\n",
        "output = base_model(input)\n",
        "gender_embedding=Dense(32)(input_gender)\n",
        "#gender_embedding=Dense(12)(gender_embedding)\n",
        "#x = keras.layers.MaxPooling2D(pool_size=(5,5))(output)\n",
        "#x = keras.layers.Conv2D(512,kernel_size=(3,3))(x)\n",
        "x = keras.layers.Conv2D(256,kernel_size=(3,3))(output)\n",
        "print (K.int_shape(output))\n",
        "x = keras.layers.MaxPooling2D(pool_size=(3,3))(x)\n",
        "print (K.int_shape(x))\n",
        "x=Flatten()(x)\n",
        "f = keras.layers.Concatenate(axis=1)([x,gender_embedding])\n",
        "print (K.int_shape(f)) \n",
        "#x = Dense(256, activation='relu')(x)\n",
        "predictions =Dense(240, activation='softmax')(f)\n",
        "\n",
        "model = Model(inputs=[input,input_gender], outputs=predictions)\n",
        "\n",
        "\n",
        "Adam=keras.optimizers.Adam(lr=0.0001,beta_1=0.9,beta_2=0.999)\n",
        "model.compile(optimizer=Adam, loss='mean_absolute_error', metrics=['MAE'])\n",
        "\n",
        "model.summary\n",
        "# Save weights after every epoch\n",
        "\n",
        "checkpoint =keras.callbacks.ModelCheckpoint(filepath='weights_m4.{epoch:02d}-{val_loss:.2f}.hdf5',save_weights_only=True,period=10)\n",
        "#history = model.fit_generator(DataGen.flow([x_train,gender_train],y_train,batch_size=batch_size),steps_per_epoch=np.ceil(len(y_train)/batch_size),epochs=10,verbose=1,validation_data=([x_valid,gender_valid],y_valid))\n",
        "#history = model.fit_generator(Generator(x_train,gender_train,y_train,batch_size),steps_per_epoch=np.ceil(len(y_train)/batch_size),epochs=10,verbose=1,validation_data=([x_valid,gender_valid],y_valid))\n",
        "history=model.fit([x_train,gender_train],y_trains,batch_size=batch_size,epochs=10,verbose=1,validation_data=([x_valid,gender_valid],y_valids), callbacks = [checkpoint])\n",
        "score = model.evaluate([x_test,gender_test], y_tests, batch_size=batch_size)\n",
        "print('Test loss:', score[0])\n",
        "print('Test MAE:', score[1])\n",
        "\n",
        "##Visulization\n",
        "weights=model.layers[-1].get_weights()[0]\n",
        "print (weights.shape)\n",
        "\n",
        "#ShowAttentionV1(base_model,'/raid/chenchao/code/BoneAge/BoneAge/data/train/')\n",
        "\n",
        "#for layer in base_model.layers[:16]:\n",
        "#    layer.trainable=False\n",
        "#for layer in base_model.layers:\n",
        "#    print (layer.name,layer.trainable)\n"
      ],
      "metadata": {
        "colab": {
          "base_uri": "https://localhost:8080/"
        },
        "id": "W05TRm6UX81q",
        "outputId": "5a5baef5-fa50-487f-b4d6-78b6d50131de"
      },
      "execution_count": 78,
      "outputs": [
        {
          "output_type": "stream",
          "name": "stderr",
          "text": [
            "WARNING:tensorflow:`input_shape` is undefined or non-square, or `rows` is not in [96, 128, 160, 192, 224]. Weights for input shape (224, 224) will be loaded as the default.\n",
            "WARNING:tensorflow:`period` argument is deprecated. Please use `save_freq` to specify the frequency in number of batches seen.\n"
          ]
        },
        {
          "output_type": "stream",
          "name": "stdout",
          "text": [
            "(None, 9, 9, 1280)\n",
            "(None, 2, 2, 256)\n",
            "(None, 1056)\n",
            "Epoch 1/10\n",
            "81/81 [==============================] - 23s 225ms/step - loss: 0.2008 - MAE: 0.2008 - val_loss: 0.2053 - val_MAE: 0.2053\n",
            "Epoch 2/10\n",
            "81/81 [==============================] - 17s 213ms/step - loss: 0.2000 - MAE: 0.2000 - val_loss: 0.2044 - val_MAE: 0.2044\n",
            "Epoch 3/10\n",
            "81/81 [==============================] - 17s 214ms/step - loss: 0.1994 - MAE: 0.1994 - val_loss: 0.2051 - val_MAE: 0.2051\n",
            "Epoch 4/10\n",
            "81/81 [==============================] - 17s 212ms/step - loss: 0.1990 - MAE: 0.1990 - val_loss: 0.2049 - val_MAE: 0.2049\n",
            "Epoch 5/10\n",
            "81/81 [==============================] - 17s 212ms/step - loss: 0.1988 - MAE: 0.1988 - val_loss: 0.2040 - val_MAE: 0.2040\n",
            "Epoch 6/10\n",
            "81/81 [==============================] - 17s 212ms/step - loss: 0.1985 - MAE: 0.1985 - val_loss: 0.2034 - val_MAE: 0.2034\n",
            "Epoch 7/10\n",
            "81/81 [==============================] - 17s 213ms/step - loss: 0.1985 - MAE: 0.1985 - val_loss: 0.2036 - val_MAE: 0.2036\n",
            "Epoch 8/10\n",
            "81/81 [==============================] - 17s 213ms/step - loss: 0.1985 - MAE: 0.1985 - val_loss: 0.2034 - val_MAE: 0.2034\n",
            "Epoch 9/10\n",
            "81/81 [==============================] - 17s 214ms/step - loss: 0.1985 - MAE: 0.1985 - val_loss: 0.2030 - val_MAE: 0.2030\n",
            "Epoch 10/10\n",
            "81/81 [==============================] - 17s 212ms/step - loss: 0.1984 - MAE: 0.1984 - val_loss: 0.2031 - val_MAE: 0.2031\n",
            "4/4 [==============================] - 0s 33ms/step - loss: 0.2014 - MAE: 0.2014\n",
            "Test loss: 0.20137254893779755\n",
            "Test MAE: 0.20137254893779755\n",
            "(1056, 240)\n"
          ]
        }
      ]
    },
    {
      "cell_type": "code",
      "source": [
        "plt.plot(history.history['loss'])\n",
        "plt.plot(history.history['val_loss'])\n",
        "plt.title('Model loss')\n",
        "plt.ylabel('Loss')\n",
        "plt.xlabel('Epoch')\n",
        "plt.legend(['Train', 'Validation'], loc='upper left')\n",
        "plt.show()"
      ],
      "metadata": {
        "colab": {
          "base_uri": "https://localhost:8080/",
          "height": 295
        },
        "id": "9_s5vs3MX81r",
        "outputId": "2f6864b1-654a-44da-acbd-ed3133c2f83a"
      },
      "execution_count": 79,
      "outputs": [
        {
          "output_type": "display_data",
          "data": {
            "text/plain": [
              "<Figure size 432x288 with 1 Axes>"
            ],
            "image/png": "[encoded data removed]"
          },
          "metadata": {
            "needs_background": "light"
          }
        }
      ]
    },
    {
      "cell_type": "code",
      "source": [
        "def TestMAE(model,test_data,test_label,test_gender):\n",
        "    #print(test_label.type)\n",
        "    test_gender = np.array(test_gender)\n",
        "    test_gender = np.expand_dims(test_gender,axis=1)\n",
        "    layer=K.function([model.layers[0].input,model.layers[4].input],[model.layers[-1].output])\n",
        "    predictions=layer([test_data,test_gender])\n",
        "    print(predictions)\n",
        "    predictions = np.array(predictions)\n",
        "    print(predictions)\n",
        "    predictions = np.squeeze(predictions,axis=0)\n",
        "    print (predictions.shape)\n",
        "    predict_label = np.argmax(predictions,axis=1)\n",
        "    test_label = np.argmax(test_label,axis=1)\n",
        "    print (predict_label)\n",
        "    print (test_label)\n",
        "    TestMAE = np.mean(np.abs(predict_label-test_label))\n",
        "    return TestMAE\n",
        "\n",
        "#model.load_weights('/content/weights_m1.10-0.20.hdf5')\n",
        "val=TestMAE(model,x_test,y_tests,gender_test)\n",
        "print(val)\n",
        "#gender_test.shape"
      ],
      "metadata": {
        "colab": {
          "base_uri": "https://localhost:8080/"
        },
        "id": "L5dr-EO9X81r",
        "outputId": "b773424e-8dc0-4c60-b252-4f99993bc448"
      },
      "execution_count": 80,
      "outputs": [
        {
          "output_type": "stream",
          "name": "stdout",
          "text": [
            "[array([[1.1318903e-08, 6.5689960e-07, 2.9319563e-07, ..., 3.6665973e-08,\n",
            "        1.0954986e-06, 1.7072383e-08],\n",
            "       [6.6492067e-10, 5.2808868e-09, 2.2312117e-09, ..., 2.9853606e-09,\n",
            "        3.3780596e-09, 5.3673471e-08],\n",
            "       [1.4750919e-08, 3.3438153e-07, 1.5289785e-07, ..., 2.1980198e-07,\n",
            "        4.6108190e-07, 6.8110347e-07],\n",
            "       ...,\n",
            "       [1.9625995e-11, 5.9710464e-10, 2.2099501e-11, ..., 3.0456432e-10,\n",
            "        6.6087280e-10, 1.1777670e-09],\n",
            "       [2.2902868e-09, 7.5562276e-09, 2.8053209e-09, ..., 2.3414488e-09,\n",
            "        2.2367471e-08, 5.3216245e-09],\n",
            "       [1.0340713e-10, 5.4909900e-11, 2.0622835e-09, ..., 6.3907130e-11,\n",
            "        8.6552889e-09, 5.0949861e-10]], dtype=float32)]\n",
            "[[[1.1318903e-08 6.5689960e-07 2.9319563e-07 ... 3.6665973e-08\n",
            "   1.0954986e-06 1.7072383e-08]\n",
            "  [6.6492067e-10 5.2808868e-09 2.2312117e-09 ... 2.9853606e-09\n",
            "   3.3780596e-09 5.3673471e-08]\n",
            "  [1.4750919e-08 3.3438153e-07 1.5289785e-07 ... 2.1980198e-07\n",
            "   4.6108190e-07 6.8110347e-07]\n",
            "  ...\n",
            "  [1.9625995e-11 5.9710464e-10 2.2099501e-11 ... 3.0456432e-10\n",
            "   6.6087280e-10 1.1777670e-09]\n",
            "  [2.2902868e-09 7.5562276e-09 2.8053209e-09 ... 2.3414488e-09\n",
            "   2.2367471e-08 5.3216245e-09]\n",
            "  [1.0340713e-10 5.4909900e-11 2.0622835e-09 ... 6.3907130e-11\n",
            "   8.6552889e-09 5.0949861e-10]]]\n",
            "(50, 240)\n",
            "[ 67  67  67 129 133  67  67 194 134 128 128  67  67 194 149  67  67  67\n",
            " 113 194 128 194 133 156 194 129  67 104 132  40 104 134  67  67  67  67\n",
            " 134 133 128 134  67 134  67  67 104 156 104  40  67 194]\n",
            "[ 86 129  58 179 110 101  49 199 140 151 125  68 126 223 144  66  93  69\n",
            "  86 181 183 212 106 184 205 150 121 138 162 117 143 151 227 108  90 107\n",
            " 147 106 224 152  90 128 110  79 207 145 103  24  56 214]\n",
            "29.8\n"
          ]
        }
      ]
    },
    {
      "cell_type": "markdown",
      "source": [
        "5.------------------------inres---------------------------------"
      ],
      "metadata": {
        "id": "la4kOQrCX81r"
      }
    },
    {
      "cell_type": "code",
      "source": [
        "from keras.layers import Flatten, Dense, Input, Reshape, Lambda\n",
        "from keras import backend as K\n",
        "from keras.preprocessing.image import ImageDataGenerator\n",
        "from tensorflow.keras.applications.inception_resnet_v2 import InceptionResNetV2\n",
        "\n",
        "base_model = InceptionResNetV2(weights='imagenet', include_top=False)\n",
        "input = Input(shape=(300,300,3),name='input1')\n",
        "input_gender = Input(shape=(1,),dtype='float32',name='input2')\n",
        "output = base_model(input)\n",
        "gender_embedding=Dense(32)(input_gender)\n",
        "#gender_embedding=Dense(12)(gender_embedding)\n",
        "#x = keras.layers.MaxPooling2D(pool_size=(5,5))(output)\n",
        "#x = keras.layers.Conv2D(512,kernel_size=(3,3))(x)\n",
        "x = keras.layers.Conv2D(256,kernel_size=(3,3))(output)\n",
        "print (K.int_shape(output))\n",
        "x = keras.layers.MaxPooling2D(pool_size=(3,3))(x)\n",
        "print (K.int_shape(x))\n",
        "x=Flatten()(x)\n",
        "f = keras.layers.Concatenate(axis=1)([x,gender_embedding])\n",
        "print (K.int_shape(f)) \n",
        "#x = Dense(256, activation='relu')(x)\n",
        "predictions =Dense(240, activation='softmax')(f)\n",
        "\n",
        "model = Model(inputs=[input,input_gender], outputs=predictions)\n",
        "\n",
        "\n",
        "Adam=keras.optimizers.Adam(lr=0.0001,beta_1=0.9,beta_2=0.999)\n",
        "model.compile(optimizer=Adam, loss='mean_absolute_error', metrics=['MAE'])\n",
        "\n",
        "model.summary\n",
        "# Save weights after every epoch\n",
        "\n",
        "checkpoint =keras.callbacks.ModelCheckpoint(filepath='weights_m5.{epoch:02d}-{val_loss:.2f}.hdf5',save_weights_only=True,period=10)\n",
        "#history = model.fit_generator(DataGen.flow([x_train,gender_train],y_train,batch_size=batch_size),steps_per_epoch=np.ceil(len(y_train)/batch_size),epochs=10,verbose=1,validation_data=([x_valid,gender_valid],y_valid))\n",
        "#history = model.fit_generator(Generator(x_train,gender_train,y_train,batch_size),steps_per_epoch=np.ceil(len(y_train)/batch_size),epochs=10,verbose=1,validation_data=([x_valid,gender_valid],y_valid))\n",
        "history=model.fit([x_train,gender_train],y_trains,batch_size=batch_size,epochs=10,verbose=1,validation_data=([x_valid,gender_valid],y_valids), callbacks = [checkpoint])\n",
        "score = model.evaluate([x_test,gender_test], y_tests, batch_size=batch_size)\n",
        "print('Test loss:', score[0])\n",
        "print('Test MAE:', score[1])\n",
        "\n",
        "##Visulization\n",
        "weights=model.layers[-1].get_weights()[0]\n",
        "print (weights.shape)\n",
        "\n",
        "#ShowAttentionV1(base_model,'/raid/chenchao/code/BoneAge/BoneAge/data/train/')\n",
        "\n",
        "#for layer in base_model.layers[:16]:\n",
        "#    layer.trainable=False\n",
        "#for layer in base_model.layers:\n",
        "#    print (layer.name,layer.trainable)\n"
      ],
      "metadata": {
        "colab": {
          "base_uri": "https://localhost:8080/"
        },
        "id": "1mJ9-m_9X81r",
        "outputId": "c4fdb72a-729a-4127-bac0-e6853cc37f70"
      },
      "execution_count": 81,
      "outputs": [
        {
          "output_type": "stream",
          "name": "stderr",
          "text": [
            "WARNING:tensorflow:`period` argument is deprecated. Please use `save_freq` to specify the frequency in number of batches seen.\n"
          ]
        },
        {
          "output_type": "stream",
          "name": "stdout",
          "text": [
            "(None, 8, 8, 1536)\n",
            "(None, 2, 2, 256)\n",
            "(None, 1056)\n",
            "Epoch 1/10\n",
            "81/81 [==============================] - 70s 624ms/step - loss: 0.1999 - MAE: 0.1999 - val_loss: 0.2040 - val_MAE: 0.2040\n",
            "Epoch 2/10\n",
            "81/81 [==============================] - 47s 575ms/step - loss: 0.1991 - MAE: 0.1991 - val_loss: 0.2030 - val_MAE: 0.2030\n",
            "Epoch 3/10\n",
            "81/81 [==============================] - 47s 578ms/step - loss: 0.1991 - MAE: 0.1991 - val_loss: 0.2026 - val_MAE: 0.2026\n",
            "Epoch 4/10\n",
            "81/81 [==============================] - 47s 578ms/step - loss: 0.1989 - MAE: 0.1989 - val_loss: 0.2028 - val_MAE: 0.2028\n",
            "Epoch 5/10\n",
            "81/81 [==============================] - 47s 577ms/step - loss: 0.1986 - MAE: 0.1986 - val_loss: 0.2013 - val_MAE: 0.2013\n",
            "Epoch 6/10\n",
            "81/81 [==============================] - 47s 578ms/step - loss: 0.1985 - MAE: 0.1985 - val_loss: 0.2012 - val_MAE: 0.2012\n",
            "Epoch 7/10\n",
            "81/81 [==============================] - 47s 579ms/step - loss: 0.1982 - MAE: 0.1982 - val_loss: 0.2009 - val_MAE: 0.2009\n",
            "Epoch 8/10\n",
            "81/81 [==============================] - 47s 578ms/step - loss: 0.1981 - MAE: 0.1981 - val_loss: 0.2012 - val_MAE: 0.2012\n",
            "Epoch 9/10\n",
            "81/81 [==============================] - 47s 578ms/step - loss: 0.1981 - MAE: 0.1981 - val_loss: 0.2016 - val_MAE: 0.2016\n",
            "Epoch 10/10\n",
            "81/81 [==============================] - 48s 591ms/step - loss: 0.1980 - MAE: 0.1980 - val_loss: 0.2006 - val_MAE: 0.2006\n",
            "4/4 [==============================] - 1s 134ms/step - loss: 0.1995 - MAE: 0.1995\n",
            "Test loss: 0.19953687489032745\n",
            "Test MAE: 0.19953687489032745\n",
            "(1056, 240)\n"
          ]
        }
      ]
    },
    {
      "cell_type": "code",
      "source": [
        "plt.plot(history.history['loss'])\n",
        "plt.plot(history.history['val_loss'])\n",
        "plt.title('Model loss')\n",
        "plt.ylabel('Loss')\n",
        "plt.xlabel('Epoch')\n",
        "plt.legend(['Train', 'Validation'], loc='upper left')\n",
        "plt.show()"
      ],
      "metadata": {
        "colab": {
          "base_uri": "https://localhost:8080/",
          "height": 295
        },
        "id": "zPczGGWKX81r",
        "outputId": "63e2e207-9621-4a47-fb85-eda96e0b3307"
      },
      "execution_count": 82,
      "outputs": [
        {
          "output_type": "display_data",
          "data": {
            "text/plain": [
              "<Figure size 432x288 with 1 Axes>"
            ],
            "image/png": "[encoded data removed]"
          },
          "metadata": {
            "needs_background": "light"
          }
        }
      ]
    },
    {
      "cell_type": "code",
      "source": [
        "def TestMAE(model,test_data,test_label,test_gender):\n",
        "    #print(test_label.type)\n",
        "    test_gender = np.array(test_gender)\n",
        "    test_gender = np.expand_dims(test_gender,axis=1)\n",
        "    layer=K.function([model.layers[0].input,model.layers[4].input],[model.layers[-1].output])\n",
        "    predictions=layer([test_data,test_gender])\n",
        "    print(predictions)\n",
        "    predictions = np.array(predictions)\n",
        "    print(predictions)\n",
        "    predictions = np.squeeze(predictions,axis=0)\n",
        "    print (predictions.shape)\n",
        "    predict_label = np.argmax(predictions,axis=1)\n",
        "    test_label = np.argmax(test_label,axis=1)\n",
        "    print (predict_label)\n",
        "    print (test_label)\n",
        "    TestMAE = np.mean(np.abs(predict_label-test_label))\n",
        "    return TestMAE\n",
        "\n",
        "#model.load_weights('/content/weights_m1.10-0.20.hdf5')\n",
        "val=TestMAE(model,x_test,y_tests,gender_test)\n",
        "print(val)\n",
        "#gender_test.shape"
      ],
      "metadata": {
        "colab": {
          "base_uri": "https://localhost:8080/"
        },
        "id": "1OpXz4qPX81r",
        "outputId": "646cad99-ef71-47a6-db74-5e8c00fe4385"
      },
      "execution_count": 83,
      "outputs": [
        {
          "output_type": "stream",
          "name": "stdout",
          "text": [
            "[array([[2.3788336e-06, 6.7455909e-07, 7.7066824e-07, ..., 6.8779269e-07,\n",
            "        6.0832974e-07, 9.2546708e-07],\n",
            "       [1.0366131e-06, 4.6914914e-07, 3.8728533e-07, ..., 3.2502589e-07,\n",
            "        3.5266763e-07, 4.0278906e-07],\n",
            "       [0.0000000e+00, 0.0000000e+00, 0.0000000e+00, ..., 0.0000000e+00,\n",
            "        0.0000000e+00, 0.0000000e+00],\n",
            "       ...,\n",
            "       [0.0000000e+00, 0.0000000e+00, 0.0000000e+00, ..., 0.0000000e+00,\n",
            "        0.0000000e+00, 0.0000000e+00],\n",
            "       [3.1651903e-21, 3.2068739e-23, 1.1549404e-23, ..., 3.5504865e-22,\n",
            "        5.0002694e-22, 1.7444061e-22],\n",
            "       [5.0859819e-07, 1.7102984e-08, 1.4841250e-07, ..., 6.4311877e-08,\n",
            "        1.8740140e-07, 1.7088740e-07]], dtype=float32)]\n",
            "[[[2.3788336e-06 6.7455909e-07 7.7066824e-07 ... 6.8779269e-07\n",
            "   6.0832974e-07 9.2546708e-07]\n",
            "  [1.0366131e-06 4.6914914e-07 3.8728533e-07 ... 3.2502589e-07\n",
            "   3.5266763e-07 4.0278906e-07]\n",
            "  [0.0000000e+00 0.0000000e+00 0.0000000e+00 ... 0.0000000e+00\n",
            "   0.0000000e+00 0.0000000e+00]\n",
            "  ...\n",
            "  [0.0000000e+00 0.0000000e+00 0.0000000e+00 ... 0.0000000e+00\n",
            "   0.0000000e+00 0.0000000e+00]\n",
            "  [3.1651903e-21 3.2068739e-23 1.1549404e-23 ... 3.5504865e-22\n",
            "   5.0002694e-22 1.7444061e-22]\n",
            "  [5.0859819e-07 1.7102984e-08 1.4841250e-07 ... 6.4311877e-08\n",
            "   1.8740140e-07 1.7088740e-07]]]\n",
            "(50, 240)\n",
            "[ 92 110  50 177 110 110  92 189 147 110 147  50 103 198 147  92  50  92\n",
            "  92 195 147 189 110 189 189 147 103 147 171 101 110 147 195 110  92  92\n",
            " 147 103 198 147  92 147  91  92 195 147  92  50  50 198]\n",
            "[ 86 129  58 179 110 101  49 199 140 151 125  68 126 223 144  66  93  69\n",
            "  86 181 183 212 106 184 205 150 121 138 162 117 143 151 227 108  90 107\n",
            " 147 106 224 152  90 128 110  79 207 145 103  24  56 214]\n",
            "14.7\n"
          ]
        }
      ]
    },
    {
      "cell_type": "markdown",
      "source": [
        "6.------------------------den201---------------------------------"
      ],
      "metadata": {
        "id": "KOsnLnvlX81r"
      }
    },
    {
      "cell_type": "code",
      "source": [
        "from keras.layers import Flatten, Dense, Input, Reshape, Lambda\n",
        "from keras import backend as K\n",
        "from keras.preprocessing.image import ImageDataGenerator\n",
        "from tensorflow.keras.applications.densenet import DenseNet201\n",
        "\n",
        "base_model = DenseNet201(weights='imagenet', include_top=False)\n",
        "input = Input(shape=(300,300,3),name='input1')\n",
        "input_gender = Input(shape=(1,),dtype='float32',name='input2')\n",
        "output = base_model(input)\n",
        "gender_embedding=Dense(32)(input_gender)\n",
        "#gender_embedding=Dense(12)(gender_embedding)\n",
        "#x = keras.layers.MaxPooling2D(pool_size=(5,5))(output)\n",
        "#x = keras.layers.Conv2D(512,kernel_size=(3,3))(x)\n",
        "x = keras.layers.Conv2D(256,kernel_size=(3,3))(output)\n",
        "print (K.int_shape(output))\n",
        "x = keras.layers.MaxPooling2D(pool_size=(3,3))(x)\n",
        "print (K.int_shape(x))\n",
        "x=Flatten()(x)\n",
        "f = keras.layers.Concatenate(axis=1)([x,gender_embedding])\n",
        "print (K.int_shape(f)) \n",
        "#x = Dense(256, activation='relu')(x)\n",
        "predictions =Dense(240, activation='softmax')(f)\n",
        "\n",
        "model = Model(inputs=[input,input_gender], outputs=predictions)\n",
        "\n",
        "\n",
        "Adam=keras.optimizers.Adam(lr=0.0001,beta_1=0.9,beta_2=0.999)\n",
        "model.compile(optimizer=Adam, loss='mean_absolute_error', metrics=['MAE'])\n",
        "\n",
        "model.summary\n",
        "# Save weights after every epoch\n",
        "\n",
        "checkpoint =keras.callbacks.ModelCheckpoint(filepath='weights_m6.{epoch:02d}-{val_loss:.2f}.hdf5',save_weights_only=True,period=10)\n",
        "#history = model.fit_generator(DataGen.flow([x_train,gender_train],y_train,batch_size=batch_size),steps_per_epoch=np.ceil(len(y_train)/batch_size),epochs=10,verbose=1,validation_data=([x_valid,gender_valid],y_valid))\n",
        "#history = model.fit_generator(Generator(x_train,gender_train,y_train,batch_size),steps_per_epoch=np.ceil(len(y_train)/batch_size),epochs=10,verbose=1,validation_data=([x_valid,gender_valid],y_valid))\n",
        "history=model.fit([x_train,gender_train],y_trains,batch_size=batch_size,epochs=10,verbose=1,validation_data=([x_valid,gender_valid],y_valids), callbacks = [checkpoint])\n",
        "score = model.evaluate([x_test,gender_test], y_tests, batch_size=batch_size)\n",
        "print('Test loss:', score[0])\n",
        "print('Test MAE:', score[1])\n",
        "\n",
        "##Visulization\n",
        "weights=model.layers[-1].get_weights()[0]\n",
        "print (weights.shape)\n",
        "\n",
        "#ShowAttentionV1(base_model,'/raid/chenchao/code/BoneAge/BoneAge/data/train/')\n",
        "\n",
        "#for layer in base_model.layers[:16]:\n",
        "#    layer.trainable=False\n",
        "#for layer in base_model.layers:\n",
        "#    print (layer.name,layer.trainable)\n"
      ],
      "metadata": {
        "colab": {
          "base_uri": "https://localhost:8080/"
        },
        "id": "RShvNTv_X81r",
        "outputId": "f3f862fb-8867-432f-90b3-65f9ca05f0c0"
      },
      "execution_count": 84,
      "outputs": [
        {
          "output_type": "stream",
          "name": "stderr",
          "text": [
            "WARNING:tensorflow:`period` argument is deprecated. Please use `save_freq` to specify the frequency in number of batches seen.\n"
          ]
        },
        {
          "output_type": "stream",
          "name": "stdout",
          "text": [
            "(None, 9, 9, 1920)\n",
            "(None, 2, 2, 256)\n",
            "(None, 1056)\n",
            "Epoch 1/10\n",
            "81/81 [==============================] - 65s 551ms/step - loss: 0.2013 - MAE: 0.2013 - val_loss: 0.2054 - val_MAE: 0.2054\n",
            "Epoch 2/10\n",
            "81/81 [==============================] - 41s 509ms/step - loss: 0.2013 - MAE: 0.2013 - val_loss: 0.2053 - val_MAE: 0.2053\n",
            "Epoch 3/10\n",
            "81/81 [==============================] - 41s 509ms/step - loss: 0.2008 - MAE: 0.2008 - val_loss: 0.2034 - val_MAE: 0.2034\n",
            "Epoch 4/10\n",
            "81/81 [==============================] - 41s 508ms/step - loss: 0.2002 - MAE: 0.2002 - val_loss: 0.2028 - val_MAE: 0.2028\n",
            "Epoch 5/10\n",
            "81/81 [==============================] - 41s 507ms/step - loss: 0.1999 - MAE: 0.1999 - val_loss: 0.2030 - val_MAE: 0.2030\n",
            "Epoch 6/10\n",
            "81/81 [==============================] - 41s 508ms/step - loss: 0.1996 - MAE: 0.1996 - val_loss: 0.2024 - val_MAE: 0.2024\n",
            "Epoch 7/10\n",
            "81/81 [==============================] - 41s 509ms/step - loss: 0.1994 - MAE: 0.1994 - val_loss: 0.2023 - val_MAE: 0.2023\n",
            "Epoch 8/10\n",
            "81/81 [==============================] - 41s 510ms/step - loss: 0.1994 - MAE: 0.1994 - val_loss: 0.2021 - val_MAE: 0.2021\n",
            "Epoch 9/10\n",
            "81/81 [==============================] - 41s 510ms/step - loss: 0.1993 - MAE: 0.1993 - val_loss: 0.2020 - val_MAE: 0.2020\n",
            "Epoch 10/10\n",
            "81/81 [==============================] - 42s 519ms/step - loss: 0.1992 - MAE: 0.1992 - val_loss: 0.2022 - val_MAE: 0.2022\n",
            "4/4 [==============================] - 1s 107ms/step - loss: 0.2008 - MAE: 0.2008\n",
            "Test loss: 0.20075547695159912\n",
            "Test MAE: 0.20075547695159912\n",
            "(1056, 240)\n"
          ]
        }
      ]
    },
    {
      "cell_type": "code",
      "source": [
        "plt.plot(history.history['loss'])\n",
        "plt.plot(history.history['val_loss'])\n",
        "plt.title('Model loss')\n",
        "plt.ylabel('Loss')\n",
        "plt.xlabel('Epoch')\n",
        "plt.legend(['Train', 'Validation'], loc='upper left')\n",
        "plt.show()"
      ],
      "metadata": {
        "colab": {
          "base_uri": "https://localhost:8080/",
          "height": 295
        },
        "id": "v4AOul0GX81s",
        "outputId": "aa1fe4f1-0ad9-4930-fed4-7d7af1fb58b5"
      },
      "execution_count": 85,
      "outputs": [
        {
          "output_type": "display_data",
          "data": {
            "text/plain": [
              "<Figure size 432x288 with 1 Axes>"
            ],
            "image/png": "[encoded data removed]"
          },
          "metadata": {
            "needs_background": "light"
          }
        }
      ]
    },
    {
      "cell_type": "code",
      "source": [
        "def TestMAE(model,test_data,test_label,test_gender):\n",
        "    #print(test_label.type)\n",
        "    test_gender = np.array(test_gender)\n",
        "    test_gender = np.expand_dims(test_gender,axis=1)\n",
        "    layer=K.function([model.layers[0].input,model.layers[4].input],[model.layers[-1].output])\n",
        "    predictions=layer([test_data,test_gender])\n",
        "    print(predictions)\n",
        "    predictions = np.array(predictions)\n",
        "    print(predictions)\n",
        "    predictions = np.squeeze(predictions,axis=0)\n",
        "    print (predictions.shape)\n",
        "    predict_label = np.argmax(predictions,axis=1)\n",
        "    test_label = np.argmax(test_label,axis=1)\n",
        "    print (predict_label)\n",
        "    print (test_label)\n",
        "    TestMAE = np.mean(np.abs(predict_label-test_label))\n",
        "    return TestMAE\n",
        "\n",
        "#model.load_weights('/content/weights_m1.10-0.20.hdf5')\n",
        "val=TestMAE(model,x_test,y_tests,gender_test)\n",
        "print(val)\n",
        "#gender_test.shape"
      ],
      "metadata": {
        "colab": {
          "base_uri": "https://localhost:8080/"
        },
        "id": "QX_kZDaIX81s",
        "outputId": "f98fef04-8209-4674-fb3c-9a1f53a0b9f5"
      },
      "execution_count": 86,
      "outputs": [
        {
          "output_type": "stream",
          "name": "stdout",
          "text": [
            "[array([[2.59895527e-09, 8.50693294e-09, 3.12975268e-09, ...,\n",
            "        4.47390391e-09, 1.16687460e-08, 1.43051375e-08],\n",
            "       [1.16844931e-05, 8.14675877e-06, 1.12506359e-05, ...,\n",
            "        7.67087658e-06, 1.06423840e-05, 1.39758149e-05],\n",
            "       [1.48457995e-19, 1.73351430e-17, 1.20408598e-18, ...,\n",
            "        1.79343200e-19, 4.63629191e-18, 6.93017377e-18],\n",
            "       ...,\n",
            "       [9.05003550e-33, 3.60569186e-28, 4.88833616e-32, ...,\n",
            "        3.64091596e-32, 3.16072534e-32, 2.39245202e-29],\n",
            "       [0.00000000e+00, 0.00000000e+00, 0.00000000e+00, ...,\n",
            "        0.00000000e+00, 0.00000000e+00, 0.00000000e+00],\n",
            "       [2.77958378e-07, 6.68254870e-07, 7.91967182e-07, ...,\n",
            "        6.39296104e-07, 3.43311029e-07, 1.78675066e-06]], dtype=float32)]\n",
            "[[[2.59895527e-09 8.50693294e-09 3.12975268e-09 ... 4.47390391e-09\n",
            "   1.16687460e-08 1.43051375e-08]\n",
            "  [1.16844931e-05 8.14675877e-06 1.12506359e-05 ... 7.67087658e-06\n",
            "   1.06423840e-05 1.39758149e-05]\n",
            "  [1.48457995e-19 1.73351430e-17 1.20408598e-18 ... 1.79343200e-19\n",
            "   4.63629191e-18 6.93017377e-18]\n",
            "  ...\n",
            "  [9.05003550e-33 3.60569186e-28 4.88833616e-32 ... 3.64091596e-32\n",
            "   3.16072534e-32 2.39245202e-29]\n",
            "  [0.00000000e+00 0.00000000e+00 0.00000000e+00 ... 0.00000000e+00\n",
            "   0.00000000e+00 0.00000000e+00]\n",
            "  [2.77958378e-07 6.68254870e-07 7.91967182e-07 ... 6.39296104e-07\n",
            "   3.43311029e-07 1.78675066e-06]]]\n",
            "(50, 240)\n",
            "[ 98 137  98 188 137  98  98 188 137 137 137  98  98 188 188  98  98  98\n",
            "  98 188 188 188  98 188 188 137  98 137 179 137  98 137 188  98  98  98\n",
            " 137  98 188 137  98 137  98  98 188 158  98  98  98 188]\n",
            "[ 86 129  58 179 110 101  49 199 140 151 125  68 126 223 144  66  93  69\n",
            "  86 181 183 212 106 184 205 150 121 138 162 117 143 151 227 108  90 107\n",
            " 147 106 224 152  90 128 110  79 207 145 103  24  56 214]\n",
            "19.26\n"
          ]
        }
      ]
    },
    {
      "cell_type": "markdown",
      "source": [
        "7.------------------------eff---------------------------------"
      ],
      "metadata": {
        "id": "ulG7wbfuX81s"
      }
    },
    {
      "cell_type": "code",
      "source": [
        "from keras.layers import Flatten, Dense, Input, Reshape, Lambda\n",
        "from keras import backend as K\n",
        "from keras.preprocessing.image import ImageDataGenerator\n",
        "from tensorflow.keras.applications.efficientnet import EfficientNetB4\n",
        "\n",
        "base_model = EfficientNetB4(weights='imagenet', include_top=False)\n",
        "input = Input(shape=(300,300,3),name='input1')\n",
        "input_gender = Input(shape=(1,),dtype='float32',name='input2')\n",
        "output = base_model(input)\n",
        "gender_embedding=Dense(32)(input_gender)\n",
        "#gender_embedding=Dense(12)(gender_embedding)\n",
        "#x = keras.layers.MaxPooling2D(pool_size=(5,5))(output)\n",
        "#x = keras.layers.Conv2D(512,kernel_size=(3,3))(x)\n",
        "x = keras.layers.Conv2D(256,kernel_size=(3,3))(output)\n",
        "print (K.int_shape(output))\n",
        "x = keras.layers.MaxPooling2D(pool_size=(3,3))(x)\n",
        "print (K.int_shape(x))\n",
        "x=Flatten()(x)\n",
        "f = keras.layers.Concatenate(axis=1)([x,gender_embedding])\n",
        "print (K.int_shape(f)) \n",
        "#x = Dense(256, activation='relu')(x)\n",
        "predictions =Dense(240, activation='softmax')(f)\n",
        "\n",
        "model = Model(inputs=[input,input_gender], outputs=predictions)\n",
        "\n",
        "\n",
        "Adam=keras.optimizers.Adam(lr=0.0001,beta_1=0.9,beta_2=0.999)\n",
        "model.compile(optimizer=Adam, loss='mean_absolute_error', metrics=['MAE'])\n",
        "\n",
        "model.summary\n",
        "# Save weights after every epoch\n",
        "\n",
        "checkpoint =keras.callbacks.ModelCheckpoint(filepath='weights_m6.{epoch:02d}-{val_loss:.2f}.hdf5',save_weights_only=True,period=10)\n",
        "#history = model.fit_generator(DataGen.flow([x_train,gender_train],y_train,batch_size=batch_size),steps_per_epoch=np.ceil(len(y_train)/batch_size),epochs=10,verbose=1,validation_data=([x_valid,gender_valid],y_valid))\n",
        "#history = model.fit_generator(Generator(x_train,gender_train,y_train,batch_size),steps_per_epoch=np.ceil(len(y_train)/batch_size),epochs=10,verbose=1,validation_data=([x_valid,gender_valid],y_valid))\n",
        "history=model.fit([x_train,gender_train],y_trains,batch_size=batch_size,epochs=10,verbose=1,validation_data=([x_valid,gender_valid],y_valids), callbacks = [checkpoint])\n",
        "score = model.evaluate([x_test,gender_test], y_tests, batch_size=batch_size)\n",
        "print('Test loss:', score[0])\n",
        "print('Test MAE:', score[1])\n",
        "\n",
        "##Visulization\n",
        "weights=model.layers[-1].get_weights()[0]\n",
        "print (weights.shape)\n",
        "\n",
        "#ShowAttentionV1(base_model,'/raid/chenchao/code/BoneAge/BoneAge/data/train/')\n",
        "\n",
        "#for layer in base_model.layers[:16]:\n",
        "#    layer.trainable=False\n",
        "#for layer in base_model.layers:\n",
        "#    print (layer.name,layer.trainable)\n"
      ],
      "metadata": {
        "colab": {
          "base_uri": "https://localhost:8080/"
        },
        "id": "pTtKyfV_X81s",
        "outputId": "2db4fefb-dd35-4a56-ac8d-bd651235617d"
      },
      "execution_count": 87,
      "outputs": [
        {
          "output_type": "stream",
          "name": "stderr",
          "text": [
            "WARNING:tensorflow:`period` argument is deprecated. Please use `save_freq` to specify the frequency in number of batches seen.\n"
          ]
        },
        {
          "output_type": "stream",
          "name": "stdout",
          "text": [
            "(None, 9, 9, 1792)\n",
            "(None, 2, 2, 256)\n",
            "(None, 1056)\n",
            "Epoch 1/10\n",
            "81/81 [==============================] - 80s 746ms/step - loss: 0.2002 - MAE: 0.2002 - val_loss: 0.2064 - val_MAE: 0.2064\n",
            "Epoch 2/10\n",
            "81/81 [==============================] - 57s 701ms/step - loss: 0.1987 - MAE: 0.1987 - val_loss: 0.2064 - val_MAE: 0.2064\n",
            "Epoch 3/10\n",
            "81/81 [==============================] - 57s 702ms/step - loss: 0.1982 - MAE: 0.1982 - val_loss: 0.2063 - val_MAE: 0.2063\n",
            "Epoch 4/10\n",
            "81/81 [==============================] - 57s 705ms/step - loss: 0.1980 - MAE: 0.1980 - val_loss: 0.2063 - val_MAE: 0.2063\n",
            "Epoch 5/10\n",
            "81/81 [==============================] - 57s 703ms/step - loss: 0.1979 - MAE: 0.1979 - val_loss: 0.2063 - val_MAE: 0.2063\n",
            "Epoch 6/10\n",
            "81/81 [==============================] - 57s 702ms/step - loss: 0.1978 - MAE: 0.1978 - val_loss: 0.2064 - val_MAE: 0.2064\n",
            "Epoch 7/10\n",
            "81/81 [==============================] - 57s 700ms/step - loss: 0.1978 - MAE: 0.1978 - val_loss: 0.2052 - val_MAE: 0.2052\n",
            "Epoch 8/10\n",
            "81/81 [==============================] - 57s 700ms/step - loss: 0.1977 - MAE: 0.1977 - val_loss: 0.2064 - val_MAE: 0.2064\n",
            "Epoch 9/10\n",
            "81/81 [==============================] - 57s 701ms/step - loss: 0.1977 - MAE: 0.1977 - val_loss: 0.2046 - val_MAE: 0.2046\n",
            "Epoch 10/10\n",
            "81/81 [==============================] - 58s 713ms/step - loss: 0.1977 - MAE: 0.1977 - val_loss: 0.2063 - val_MAE: 0.2063\n",
            "4/4 [==============================] - 1s 104ms/step - loss: 0.2057 - MAE: 0.2057\n",
            "Test loss: 0.20567819476127625\n",
            "Test MAE: 0.20567819476127625\n",
            "(1056, 240)\n"
          ]
        }
      ]
    },
    {
      "cell_type": "code",
      "source": [
        "plt.plot(history.history['loss'])\n",
        "plt.plot(history.history['val_loss'])\n",
        "plt.title('Model loss')\n",
        "plt.ylabel('Loss')\n",
        "plt.xlabel('Epoch')\n",
        "plt.legend(['Train', 'Validation'], loc='upper left')\n",
        "plt.show()"
      ],
      "metadata": {
        "colab": {
          "base_uri": "https://localhost:8080/",
          "height": 295
        },
        "id": "vM6sMRStX81s",
        "outputId": "89a2555a-9994-4584-83cf-354588daf510"
      },
      "execution_count": 88,
      "outputs": [
        {
          "output_type": "display_data",
          "data": {
            "text/plain": [
              "<Figure size 432x288 with 1 Axes>"
            ],
            "image/png": "[encoded data removed]"
          },
          "metadata": {
            "needs_background": "light"
          }
        }
      ]
    },
    {
      "cell_type": "code",
      "source": [
        "def TestMAE(model,test_data,test_label,test_gender):\n",
        "    #print(test_label.type)\n",
        "    test_gender = np.array(test_gender)\n",
        "    test_gender = np.expand_dims(test_gender,axis=1)\n",
        "    layer=K.function([model.layers[0].input,model.layers[4].input],[model.layers[-1].output])\n",
        "    predictions=layer([test_data,test_gender])\n",
        "    print(predictions)\n",
        "    predictions = np.array(predictions)\n",
        "    print(predictions)\n",
        "    predictions = np.squeeze(predictions,axis=0)\n",
        "    print (predictions.shape)\n",
        "    predict_label = np.argmax(predictions,axis=1)\n",
        "    test_label = np.argmax(test_label,axis=1)\n",
        "    print (predict_label)\n",
        "    print (test_label)\n",
        "    TestMAE = np.mean(np.abs(predict_label-test_label))\n",
        "    return TestMAE\n",
        "\n",
        "#model.load_weights('/content/weights_m1.10-0.20.hdf5')\n",
        "val=TestMAE(model,x_test,y_tests,gender_test)\n",
        "print(val)\n",
        "#gender_test.shape"
      ],
      "metadata": {
        "colab": {
          "base_uri": "https://localhost:8080/"
        },
        "id": "fuGmU6FuX81s",
        "outputId": "a218bd1f-75d6-4ce1-d449-5fd09720c089"
      },
      "execution_count": 89,
      "outputs": [
        {
          "output_type": "stream",
          "name": "stdout",
          "text": [
            "[array([[2.4939854e-06, 8.8086344e-06, 5.5498122e-06, ..., 9.1921020e-06,\n",
            "        7.7335008e-06, 3.0615465e-06],\n",
            "       [2.3017960e-06, 9.1062548e-06, 6.0729785e-06, ..., 1.2568897e-05,\n",
            "        7.1996019e-06, 3.3141721e-06],\n",
            "       [2.0986261e-06, 8.6489399e-06, 4.7389658e-06, ..., 8.4543581e-06,\n",
            "        6.5233216e-06, 2.6237203e-06],\n",
            "       ...,\n",
            "       [2.6993982e-06, 9.0505682e-06, 5.2427204e-06, ..., 1.1693144e-05,\n",
            "        8.1068220e-06, 3.4872660e-06],\n",
            "       [2.6195544e-06, 8.9553187e-06, 5.5379442e-06, ..., 9.5530177e-06,\n",
            "        8.2469815e-06, 3.3537669e-06],\n",
            "       [2.5254637e-06, 9.8320825e-06, 7.0860465e-06, ..., 1.0378721e-05,\n",
            "        8.0219652e-06, 3.0855019e-06]], dtype=float32)]\n",
            "[[[2.4939854e-06 8.8086344e-06 5.5498122e-06 ... 9.1921020e-06\n",
            "   7.7335008e-06 3.0615465e-06]\n",
            "  [2.3017960e-06 9.1062548e-06 6.0729785e-06 ... 1.2568897e-05\n",
            "   7.1996019e-06 3.3141721e-06]\n",
            "  [2.0986261e-06 8.6489399e-06 4.7389658e-06 ... 8.4543581e-06\n",
            "   6.5233216e-06 2.6237203e-06]\n",
            "  ...\n",
            "  [2.6993982e-06 9.0505682e-06 5.2427204e-06 ... 1.1693144e-05\n",
            "   8.1068220e-06 3.4872660e-06]\n",
            "  [2.6195544e-06 8.9553187e-06 5.5379442e-06 ... 9.5530177e-06\n",
            "   8.2469815e-06 3.3537669e-06]\n",
            "  [2.5254637e-06 9.8320825e-06 7.0860465e-06 ... 1.0378721e-05\n",
            "   8.0219652e-06 3.0855019e-06]]]\n",
            "(50, 240)\n",
            "[39 39 39 39 39 39 39 39 39 39 39 39 39 39 39 39 39 39 39 39 39 39 39 39\n",
            " 39 39 39 39 39 39 39 39 39 39 39 39 39 39 39 39 39 39 39 39 39 39 39 39\n",
            " 39 39]\n",
            "[ 86 129  58 179 110 101  49 199 140 151 125  68 126 223 144  66  93  69\n",
            "  86 181 183 212 106 184 205 150 121 138 162 117 143 151 227 108  90 107\n",
            " 147 106 224 152  90 128 110  79 207 145 103  24  56 214]\n",
            "93.04\n"
          ]
        }
      ]
    },
    {
      "cell_type": "code",
      "source": [],
      "metadata": {
        "id": "rxq5XRpKl0L6"
      },
      "execution_count": null,
      "outputs": []
    }
  ]
}