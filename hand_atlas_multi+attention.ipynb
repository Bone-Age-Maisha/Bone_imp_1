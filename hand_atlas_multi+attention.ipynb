{
  "nbformat": 4,
  "nbformat_minor": 0,
  "metadata": {
    "colab": {
      "provenance": [],
      "authorship_tag": "ABX9TyN48kR1IFkLsna9qJIDKgJ0",
      "include_colab_link": true
    },
    "kernelspec": {
      "name": "python3",
      "display_name": "Python 3"
    },
    "language_info": {
      "name": "python"
    },
    "accelerator": "GPU",
    "gpuClass": "standard"
  },
  "cells": [
    {
      "cell_type": "markdown",
      "metadata": {
        "id": "view-in-github",
        "colab_type": "text"
      },
      "source": [
        "<a href=\"https://colab.research.google.com/github/Bone-Age-Maisha/Bone_imp_1/blob/main/hand_atlas_multi%2Battention.ipynb\" target=\"_parent\"><img src=\"https://colab.research.google.com/assets/colab-badge.svg\" alt=\"Open In Colab\"/></a>"
      ]
    },
    {
      "cell_type": "code",
      "execution_count": 1,
      "metadata": {
        "colab": {
          "base_uri": "https://localhost:8080/"
        },
        "id": "8LKUJy9ID0U2",
        "outputId": "f1a61f26-cacd-4a43-e449-dd1a57662087"
      },
      "outputs": [
        {
          "output_type": "stream",
          "name": "stdout",
          "text": [
            "Mounted at /content/drive\n"
          ]
        }
      ],
      "source": [
        "from google.colab import drive\n",
        "drive.mount('/content/drive')"
      ]
    },
    {
      "cell_type": "code",
      "source": [
        "import numpy as np\n",
        "import cv2\n",
        "import os\n",
        "import pandas as pd\n"
      ],
      "metadata": {
        "id": "PxxRCRmoEXGv"
      },
      "execution_count": 2,
      "outputs": []
    },
    {
      "cell_type": "code",
      "source": [
        "import pandas as pd\n",
        "train_dir = '/content/drive/MyDrive/hand_atlas/image'\n",
        "df = pd.read_csv('/content/drive/MyDrive/hand_atlas/data.csv')"
      ],
      "metadata": {
        "id": "-InGAyx9JYmj"
      },
      "execution_count": 3,
      "outputs": []
    },
    {
      "cell_type": "code",
      "source": [
        "df['boneage'].max()"
      ],
      "metadata": {
        "colab": {
          "base_uri": "https://localhost:8080/"
        },
        "id": "FCEEscB06lVk",
        "outputId": "ea07c434-bf1e-4321-a678-09b5a21f7b34"
      },
      "execution_count": null,
      "outputs": [
        {
          "output_type": "execute_result",
          "data": {
            "text/plain": [
              "228.1"
            ]
          },
          "metadata": {},
          "execution_count": 5
        }
      ]
    },
    {
      "cell_type": "code",
      "source": [
        "df['boneage'].min()"
      ],
      "metadata": {
        "colab": {
          "base_uri": "https://localhost:8080/"
        },
        "id": "bdI72k-f6z-o",
        "outputId": "b63d37ec-9081-4112-da4e-61a6127afa32"
      },
      "execution_count": null,
      "outputs": [
        {
          "output_type": "execute_result",
          "data": {
            "text/plain": [
              "0.3616"
            ]
          },
          "metadata": {},
          "execution_count": 6
        }
      ]
    },
    {
      "cell_type": "code",
      "source": [
        "import tensorflow as tf\n",
        "gpus = tf.config.experimental.list_physical_devices('GPU')\n",
        "tf.config.experimental.set_visible_devices(gpus[0], 'GPU')\n",
        "tf.config.experimental.set_memory_growth(gpus[0], True)"
      ],
      "metadata": {
        "id": "S6eM4ZMoJcqG"
      },
      "execution_count": 4,
      "outputs": []
    },
    {
      "cell_type": "code",
      "source": [
        "X_train = []\n",
        "y_age = []\n",
        "y_gender = []\n",
        "\n",
        "#df = pd.read_csv('/raid/chenchao/code/BoneAge/BoneAge/data/Training.csv')\n",
        "a = df.values\n",
        "m = a.shape[0]\n",
        "\n",
        "path = train_dir\n",
        "k = 0\n",
        "print ('Loading data set...')\n",
        "k=1\n",
        "for i in os.listdir(path):\n",
        "  #print(i)\n",
        "  if(i==\"3131.jpg\" or i==\"4520.jpg\" or i==\"3187.jpg\"):\n",
        "    continue\n",
        "  y_age.append(df.boneage[df.id == int(i[:-4])].tolist()[0])\n",
        "  y_gender.append(df.gender[df.id == int(i[:-4])].tolist()[0])\n",
        "  #print(i)\n",
        "  img_path = path + \"/\"+i\n",
        "  img = cv2.imread(img_path)\n",
        "  #print(img.shape)\n",
        "  #print (img_path)\n",
        "  img = cv2.imread(img_path)\n",
        "    #print (img_path)\n",
        "    #if(img is not None):\n",
        "  img = cv2.cvtColor(img, cv2.COLOR_BGR2RGB)\n",
        "  img = cv2.resize(img,(300,300))\n",
        "  x = np.asarray(img, dtype=np.uint8)\n",
        "  X_train.append(x)\n",
        "  k=k+1"
      ],
      "metadata": {
        "colab": {
          "base_uri": "https://localhost:8080/"
        },
        "id": "v0rVqnQhJf3v",
        "outputId": "6409a340-daff-4d84-f8e0-1c5b5ec6b8ed"
      },
      "execution_count": 5,
      "outputs": [
        {
          "output_type": "stream",
          "name": "stdout",
          "text": [
            "Loading data set...\n"
          ]
        }
      ]
    },
    {
      "cell_type": "code",
      "source": [
        "import numpy as np\n",
        "import cv2\n",
        "from keras import backend as K\n",
        "from keras.preprocessing import image\n",
        "import os\n",
        "\n",
        "def softlabel(label,num_class):\n",
        "    softlabel=np.zeros((len(label),num_class))\n",
        "    ratio = 1.0/50\n",
        "    for i in range(len(label)):\n",
        "        for j in range(num_class):\n",
        "            softlabel[i,j]=1.0 - ratio*np.abs(j-label[i])\n",
        "    softlabel = np.maximum(softlabel,0)\n",
        "    return softlabel\n",
        "\n",
        "\n",
        "def ShowAttentionV1(model,image_path):\n",
        "    file_list = os.listdir(image_path)\n",
        "    file_list.sort()\n",
        "    for filename in file_list:\n",
        "        print (filename)\n",
        "        filepath=image_path+filename\n",
        "        image=load_image(filepath)\n",
        "        image = image/255.0\n",
        "        gender=1.0\n",
        "        gender=np.asarray(gender)\n",
        "        gender=np.expand_dims(gender,axis=0)\n",
        "        layer=K.function([model.layers[0].input],[model.layers[196].output])\n",
        "        FeatureMap=layer([image,gender])[0]\n",
        "        print (FeatureMap.shape)\n",
        "        FeatureMap = np.squeeze(FeatureMap, axis=0)\n",
        "        FeatureMap = np.abs(FeatureMap)\n",
        "        heatmap = np.mean(FeatureMap,axis=2)\n",
        "        heatmap = heatmap/np.max(heatmap)\n",
        "        heatmap = np.uint8(255*heatmap)\n",
        "        print (heatmap.shape)\n",
        "        heatmap = cv2.applyColorMap(heatmap,cv2.COLORMAP_JET)\n",
        "        SaveImg(filename,filepath,heatmap)\n",
        "    print ('********** Done ***********')\n",
        "\n",
        "def GAPAttention(model,weights,image_path):\n",
        "    file_list = os.listdir(train_dir)\n",
        "    file_list.sort()\n",
        "    for filename in file_list:\n",
        "        filepath=image_path+filename\n",
        "        print (filepath)\n",
        "        image=load_image(filepath)\n",
        "        print(\"gpa\")\n",
        "        print(image.shape)\n",
        "        image = image/255.0\n",
        "        gender=1.0\n",
        "        gender=np.asarray(gender)\n",
        "        gender=np.expand_dims(gender,axis=0)\n",
        "        print(\"ok\")\n",
        "        layer=K.function([model.layers[0].input],[model.layers[1].get_output_at(-1),model.layers[-1].output])\n",
        "        print(\"ok_1\")\n",
        "        GAP,prediction=layer([image])\n",
        "        print(\"ok_2\")\n",
        "        GAP=np.squeeze(GAP,axis=0)\n",
        "        print(\"ok_3\")\n",
        "        print (GAP.shape)\n",
        "        print(\"ok_4\")\n",
        "        index = np.argmax(prediction)\n",
        "        print(\"ok_5\")\n",
        "        print (index)\n",
        "       # weight = weights[:,index]\n",
        "        weight =np.mean(weights[:,index-5:index+5],axis=1)\n",
        "        heatmap = np.zeros((GAP.shape[0],GAP.shape[1]))\n",
        "        for k in range(GAP.shape[2]):\n",
        "            heatmap = heatmap + weight[k]*GAP[:,:,k]\n",
        "        heatmap = heatmap/np.max(heatmap)\n",
        "        heatmap = np.uint8(255*heatmap)\n",
        "        print (heatmap.shape)\n",
        "        heatmap = cv2.applyColorMap(heatmap,cv2.COLORMAP_JET)\n",
        "        SaveImg(filename,filepath,heatmap)\n",
        "    print ('********** Done ***********')\n",
        "\n",
        "def SaveImg(filename,filepath,heatmap):\n",
        "    img = cv2.imread(filepath)\n",
        "    heatmap = cv2.resize(heatmap,(img.shape[1],img.shape[0]))\n",
        "    AttentionImg =0.5* heatmap + img\n",
        "    cv2.imwrite('/content/heat'+filename,heatmap)\n",
        "    cv2.imwrite('/content/attention'+filename,AttentionImg)\n",
        "\n",
        "\n",
        "def load_image(path):\n",
        "    img = cv2.imread(path)\n",
        "    print(img.shape)\n",
        "    img = cv2.resize(img,(300,300))\n",
        "    print(img.shape)\n",
        "    x = np.asarray(img, dtype=np.float32)\n",
        "   # img = image.load_img(path, target_size=(448, 448))\n",
        "   # print (img.shape)\n",
        "   # x = image.img_to_array(img)\n",
        "    x = np.expand_dims(x, axis=0)\n",
        "    return x\n",
        "\n",
        "def TestMAE(model,test_data,test_label,test_gender):\n",
        "    test_gender = np.array(test_gender)\n",
        "    test_gender = np.expand_dims(test_gender,axis=1)\n",
        "    layer=K.function([model.layers[0].input,model.layers[3].input],[model.layers[-1].output])\n",
        "    predictions=layer([test_data,test_gender])\n",
        "    predictions = np.array(predictions)\n",
        "    predictions = np.squeeze(predictions,axis=0)\n",
        "    print (predictions.shape)\n",
        "    predict_label = np.argmax(predictions,axis=1)\n",
        "    test_label = np.argmax(test_label,axis=1)\n",
        "    print (predict_label)\n",
        "    print (test_label)\n",
        "    TestMAE = np.mean(np.abs(predict_label-test_label))\n",
        "    return TestMAE\n",
        "    \n",
        "def DataAugment(x_train):\n",
        "    x_train_Aug = np.zeros(x_train.shape)\n",
        "    for i in range(x_train.shape[0]):\n",
        "        for j in range(3):\n",
        "            img = x_train[i,:,:,j]\n",
        "            img = RandomMask(img)\n",
        "            img = RandomMask(img)\n",
        "            if np.random.random()>-1:\n",
        "                x_train_Aug[i,:,:,j]=img \n",
        "            else:\n",
        "                x_train_Aug[i,:,:,j]=x_train[i,:,:,j]\n",
        "    return x_train_Aug\n",
        "\n",
        "\n",
        "def RandomMask(img):\n",
        "    m,n=img.shape\n",
        "    m=int(m/6)\n",
        "    n=int(n/6)\n",
        "    i,j = np.random.randint(0,6,2)\n",
        "    img[i*m:(i+1)*m,j*n:(j+1)*n]=np.random.random()\n",
        "    return img"
      ],
      "metadata": {
        "id": "YbU8fbTSJlP_"
      },
      "execution_count": 6,
      "outputs": []
    },
    {
      "cell_type": "code",
      "execution_count": 7,
      "metadata": {
        "colab": {
          "base_uri": "https://localhost:8080/"
        },
        "id": "PyB_gYSNbjjP",
        "outputId": "ce02ae6c-228e-46b1-c357-fc511a7cfc0f"
      },
      "outputs": [
        {
          "output_type": "stream",
          "name": "stdout",
          "text": [
            "[ 24.85  126.8   157.2    76.8   210.4   161.     36.16   98.43  143.8\n",
            "  67.99  124.3   139.4    87.52  182.4   171.6    60.72   91.27  140.4\n",
            " 162.2    35.64   82.19   60.13  157.5   154.     91.     90.08  116.5\n",
            " 197.5   155.6   159.1   182.3   170.1   157.5   168.     99.78  166.4\n",
            " 179.8    75.42  141.3   177.3   204.7    10.26    2.071 228.1   139.5\n",
            " 185.4    90.64   91.13  158.4   212.9  ]\n",
            "[-1.  1.  1. -1. -1.  1.  1.  1. -1.  1. -1. -1.  1. -1. -1.  1. -1.  1.\n",
            "  1.  1. -1. -1. -1. -1. -1. -1. -1.  1.  1. -1.  1.  1.  1. -1. -1.  1.\n",
            "  1. -1.  1. -1.  1. -1.  1. -1.  1.  1.  1.  1. -1.  1.]\n",
            "[ 24.39 217.   145.7  ... 189.9  106.5  189.5 ]\n",
            "x_train shape:(1286, 300, 300, 3)\n",
            "y_train shape:(1286,)\n",
            "gender_train shape:(1286,)\n",
            "x_valid shape:(50, 300, 300, 3)\n",
            "y_valid shape:(50,)\n",
            "gender_valid shape:(50,)\n",
            "x_test shape:(50, 300, 300, 3)\n",
            "y_test shape:(50,)\n"
          ]
        }
      ],
      "source": [
        "y = np.asarray(y_age)\n",
        "gender = np.asarray(y_gender)\n",
        "x=np.asarray(X_train, dtype=np.float32)\n",
        "x=x/255\n",
        "gender =2*( gender-0.5)\n",
        "x_final = []\n",
        "y_final = []\n",
        "gender_final = []\n",
        "\n",
        "# Shuffle images and split into train, validation and test sets\n",
        "#random_no = np.random.choice(x.shape[0], size=x.shape[0], replace=False)\n",
        "random_no = np.arange(x.shape[0])\n",
        "#print(random_no)\n",
        "np.random.seed(42)\n",
        "np.random.shuffle(random_no)\n",
        "for i in random_no:\n",
        "    x_final.append(x[i,:,:,:])\n",
        "    y_final.append(y[i])\n",
        "    gender_final.append(gender[i])\n",
        "\n",
        "x_final = np.asarray(x_final)\n",
        "y_final = np.asarray(y_final)\n",
        "gender_final = np.asarray(gender_final)\n",
        "print (y_final[:50])\n",
        "print (gender_final[:50])\n",
        "k = 50 # Decides split count\n",
        "x_test = x_final[:k,:,:,:]\n",
        "y_test = y_final[:k]\n",
        "gender_test = gender_final[:k]\n",
        "x_valid = x_final[k:2*k,:,:,:]\n",
        "y_valid = y_final[k:2*k]\n",
        "gender_valid = gender_final[k:2*k]\n",
        "x_train = x_final[2*k:,:,:,:]\n",
        "y_train = y_final[2*k:]\n",
        "gender_train = gender_final[2*k:]\n",
        "\n",
        "## \n",
        "#y_test = keras.utils.to_categorical(y_test,240)\n",
        "#y_train = keras.utils.to_categorical(y_train,240)\n",
        "#y_valid = keras.utils.to_categorical(y_valid,240)\n",
        "y_trains = softlabel(y_train,240)\n",
        "y_valids = softlabel(y_valid,240)\n",
        "y_tests = softlabel(y_test,240)\n",
        "print (y_train)\n",
        "\n",
        "\n",
        "print ('x_train shape:'+ str(x_train.shape))\n",
        "print ('y_train shape:'+ str(y_train.shape))\n",
        "print ('gender_train shape:'+ str(gender_train.shape))\n",
        "print ('x_valid shape:'+ str(x_valid.shape))\n",
        "print ('y_valid shape:'+ str(y_valid.shape))\n",
        "print ('gender_valid shape:' + str(gender_valid.shape))\n",
        "print ('x_test shape:'+ str(x_test.shape))\n",
        "print ('y_test shape:'+ str(y_test.shape))"
      ]
    },
    {
      "cell_type": "code",
      "source": [
        "from tensorflow.keras.applications.resnet50 import ResNet50\n",
        "from keras.applications.vgg19 import VGG19\n",
        "from keras.applications.inception_v3 import InceptionV3\n",
        "from keras.applications.xception import Xception\n",
        "from keras.preprocessing import image\n",
        "from keras.models import Model, load_model\n",
        "from keras.layers import Flatten, Dense, Input, Reshape, Lambda, Multiply\n",
        "from keras import backend as K\n",
        "import pickle\n",
        "import numpy as np\n",
        "import matplotlib.pyplot as plt\n",
        "import keras\n",
        "\n",
        "batch_size = 16\n",
        "epochs = 30\n"
      ],
      "metadata": {
        "id": "vtOD_0s-ibug"
      },
      "execution_count": 8,
      "outputs": []
    },
    {
      "cell_type": "code",
      "source": [
        "age1=[]\n",
        "for i in range(115):\n",
        "    age1.append(i)\n",
        "age2=[]\n",
        "for i in range (115,230):\n",
        "    age2.append(i)\n",
        "age=[]\n",
        "for i in range (1):\n",
        "    age.append(age1)\n",
        "    age.append(age2)\n",
        "age=np.asarray(age)\n",
        "aget=[]\n",
        "for i in range(1286):\n",
        "    aget.append(age)\n",
        "aget=np.asarray(aget)\n",
        "print(aget.shape)"
      ],
      "metadata": {
        "colab": {
          "base_uri": "https://localhost:8080/"
        },
        "id": "k0lJM5IIikT_",
        "outputId": "ffd3e4cf-8167-4f93-8f04-483f440feabb"
      },
      "execution_count": 9,
      "outputs": [
        {
          "output_type": "stream",
          "name": "stdout",
          "text": [
            "(1286, 2, 115)\n"
          ]
        }
      ]
    },
    {
      "cell_type": "code",
      "source": [
        "agev=[]\n",
        "for i in range(50):\n",
        "  agev.append(age)\n",
        "agev=np.asarray(agev)\n",
        "agev.shape"
      ],
      "metadata": {
        "colab": {
          "base_uri": "https://localhost:8080/"
        },
        "id": "LYrROJkminna",
        "outputId": "36e24af5-a497-4f4e-aa48-4d6a4dfb06fb"
      },
      "execution_count": 10,
      "outputs": [
        {
          "output_type": "execute_result",
          "data": {
            "text/plain": [
              "(50, 2, 115)"
            ]
          },
          "metadata": {},
          "execution_count": 10
        }
      ]
    },
    {
      "cell_type": "code",
      "source": [
        "import tensorflow as tf\n",
        "\n",
        "base_model = InceptionV3(weights='imagenet', include_top=False)\n",
        "input = Input(shape=(300,300,3),name='input1')\n",
        "input_gender = Input(shape=(1,),dtype='float32',name='input2')\n",
        "input_age = Input(shape=(2,120),dtype='float32',name='input3')\n",
        "output = base_model(input)\n",
        "gender_embedding=Dense(32)(input_gender)\n",
        "#age_embedding=Dense(240)(input_age)\n",
        "x = keras.layers.Conv2D(256,kernel_size=(3,3))(output)\n",
        "x = keras.layers.MaxPooling2D(pool_size=(3,3))(x)\n",
        "x=Flatten()(x)\n",
        "f = keras.layers.Concatenate(axis=1)([x,gender_embedding])\n",
        "f = Dense(512, activation='relu')(f)\n",
        "x =Dense(240,activation='linear')(f)\n",
        "y=Flatten()(input_age)\n",
        "print(y.shape)\n",
        "f = keras.layers.Multiply()([x,y])\n",
        "predictions=Dense(1)(f)\n",
        "\n",
        "model = Model(inputs=[input,input_gender,input_age], outputs=predictions)\n",
        "for i,layer in enumerate(model.layers):\n",
        "    print (i,layer.name)\n",
        "\n",
        "Adam=keras.optimizers.Adam(lr=0.0001,beta_1=0.9,beta_2=0.999)\n",
        "model.compile(optimizer=Adam, loss='mean_absolute_error', metrics=['MAE'])\n",
        "\n",
        "model.summary()\n",
        "\n",
        "\n",
        "checkpoint =keras.callbacks.ModelCheckpoint(filepath='weights_m2r.{epoch:02d}-{val_loss:.2f}.hdf5',save_weights_only=True,period=40)\n",
        "model.fit_generator(DataGen.flow([x_train,gender_train,aget],y_train,batch_size=batch_size),steps_per_epoch=np.ceil(len(y_train)/batch_size),epochs=50,verbose=1,validation_data=([x_valid,gender_valid,agev],y_valid))\n",
        "history=model.fit([x_train,gender_train,aget],y_train,batch_size=4,epochs=40,verbose=1,validation_data=([x_valid,gender_valid,agev],y_valid),callbacks = [checkpoint])\n",
        "score = model.evaluate([x_test,gender_test,agev], y_test, batch_size=batch_size)\n",
        "print('Test loss:', score[0])\n",
        "print('Test MAE:', score[1])"
      ],
      "metadata": {
        "colab": {
          "base_uri": "https://localhost:8080/"
        },
        "id": "yHGJjV-giq9_",
        "outputId": "8fec7a8d-1d10-4760-e572-54857a487516"
      },
      "execution_count": null,
      "outputs": [
        {
          "output_type": "stream",
          "name": "stdout",
          "text": [
            "(None, 240)\n",
            "0 input1\n",
            "1 inception_v3\n",
            "2 conv2d_885\n",
            "3 max_pooling2d_37\n",
            "4 input2\n",
            "5 flatten_18\n",
            "6 dense_36\n",
            "7 concatenate_19\n",
            "8 dense_37\n",
            "9 input3\n",
            "10 dense_38\n",
            "11 flatten_19\n",
            "12 multiply_9\n",
            "13 dense_39\n",
            "Model: \"model_9\"\n",
            "__________________________________________________________________________________________________\n",
            " Layer (type)                   Output Shape         Param #     Connected to                     \n",
            "==================================================================================================\n",
            " input1 (InputLayer)            [(None, 300, 300, 3  0           []                               \n",
            "                                )]                                                                \n",
            "                                                                                                  \n",
            " inception_v3 (Functional)      (None, None, None,   21802784    ['input1[0][0]']                 \n",
            "                                2048)                                                             \n",
            "                                                                                                  \n",
            " conv2d_885 (Conv2D)            (None, 6, 6, 256)    4718848     ['inception_v3[0][0]']           \n",
            "                                                                                                  \n",
            " max_pooling2d_37 (MaxPooling2D  (None, 2, 2, 256)   0           ['conv2d_885[0][0]']             \n",
            " )                                                                                                \n",
            "                                                                                                  \n",
            " input2 (InputLayer)            [(None, 1)]          0           []                               \n",
            "                                                                                                  \n",
            " flatten_18 (Flatten)           (None, 1024)         0           ['max_pooling2d_37[0][0]']       \n",
            "                                                                                                  \n",
            " dense_36 (Dense)               (None, 32)           64          ['input2[0][0]']                 \n",
            "                                                                                                  \n",
            " concatenate_19 (Concatenate)   (None, 1056)         0           ['flatten_18[0][0]',             \n",
            "                                                                  'dense_36[0][0]']               \n",
            "                                                                                                  \n",
            " dense_37 (Dense)               (None, 512)          541184      ['concatenate_19[0][0]']         \n",
            "                                                                                                  \n",
            " input3 (InputLayer)            [(None, 2, 120)]     0           []                               \n",
            "                                                                                                  \n",
            " dense_38 (Dense)               (None, 240)          123120      ['dense_37[0][0]']               \n",
            "                                                                                                  \n",
            " flatten_19 (Flatten)           (None, 240)          0           ['input3[0][0]']                 \n",
            "                                                                                                  \n",
            " multiply_9 (Multiply)          (None, 240)          0           ['dense_38[0][0]',               \n",
            "                                                                  'flatten_19[0][0]']             \n",
            "                                                                                                  \n",
            " dense_39 (Dense)               (None, 1)            241         ['multiply_9[0][0]']             \n",
            "                                                                                                  \n",
            "==================================================================================================\n",
            "Total params: 27,186,241\n",
            "Trainable params: 27,151,809\n",
            "Non-trainable params: 34,432\n",
            "__________________________________________________________________________________________________\n"
          ]
        }
      ]
    },
    {
      "cell_type": "code",
      "source": [
        "checkpoint =keras.callbacks.ModelCheckpoint(filepath='weights_m2rinception.{epoch:02d}-{val_loss:.2f}.hdf5',save_weights_only=True,period=40)\n"
      ],
      "metadata": {
        "colab": {
          "base_uri": "https://localhost:8080/"
        },
        "id": "HdJpGbDdivLF",
        "outputId": "333c4c65-2081-4a07-cd13-0094f5e94d46"
      },
      "execution_count": null,
      "outputs": [
        {
          "output_type": "stream",
          "name": "stderr",
          "text": [
            "WARNING:tensorflow:`period` argument is deprecated. Please use `save_freq` to specify the frequency in number of batches seen.\n"
          ]
        }
      ]
    },
    {
      "cell_type": "code",
      "source": [
        "#model.fit([x_train,gender_train,aget],y_train,batch_size=4,epochs=10,verbose=1,validation_data=([x_valid,gender_valid,agev],y_valid))\n",
        "#history=model.fit_generator(DataGen.flow([x_train,gender_train,aget],y_train,batch_size=batch_size),steps_per_epoch=np.ceil(len(y_train)/batch_size),epochs=10,verbose=1,validation_data=([x_valid,gender_valid,agev],y_valid))\n"
      ],
      "metadata": {
        "colab": {
          "base_uri": "https://localhost:8080/"
        },
        "id": "AbDpb-aUjper",
        "outputId": "9bd91f78-a41a-4868-f8e4-d582c325d8a5"
      },
      "execution_count": null,
      "outputs": [
        {
          "output_type": "stream",
          "name": "stdout",
          "text": [
            "Epoch 1/10\n",
            "322/322 [==============================] - 36s 91ms/step - loss: 113.4251 - MAE: 113.4251 - val_loss: 110.1295 - val_MAE: 110.1295\n",
            "Epoch 2/10\n",
            "322/322 [==============================] - 28s 87ms/step - loss: 108.6833 - MAE: 108.6833 - val_loss: 105.2068 - val_MAE: 105.2068\n",
            "Epoch 3/10\n",
            "322/322 [==============================] - 28s 86ms/step - loss: 104.1989 - MAE: 104.1989 - val_loss: 100.4115 - val_MAE: 100.4115\n",
            "Epoch 4/10\n",
            "322/322 [==============================] - 28s 87ms/step - loss: 99.8917 - MAE: 99.8917 - val_loss: 95.8713 - val_MAE: 95.8713\n",
            "Epoch 5/10\n",
            "322/322 [==============================] - 28s 87ms/step - loss: 95.7942 - MAE: 95.7942 - val_loss: 91.6868 - val_MAE: 91.6868\n",
            "Epoch 6/10\n",
            "322/322 [==============================] - 28s 87ms/step - loss: 91.8400 - MAE: 91.8400 - val_loss: 87.8698 - val_MAE: 87.8698\n",
            "Epoch 7/10\n",
            "322/322 [==============================] - 28s 87ms/step - loss: 88.0501 - MAE: 88.0501 - val_loss: 84.2880 - val_MAE: 84.2880\n",
            "Epoch 8/10\n",
            "322/322 [==============================] - 28s 88ms/step - loss: 84.4213 - MAE: 84.4213 - val_loss: 80.7937 - val_MAE: 80.7937\n",
            "Epoch 9/10\n",
            "322/322 [==============================] - 28s 86ms/step - loss: 80.9249 - MAE: 80.9249 - val_loss: 77.4989 - val_MAE: 77.4989\n",
            "Epoch 10/10\n",
            "322/322 [==============================] - 28s 86ms/step - loss: 77.6357 - MAE: 77.6357 - val_loss: 74.3904 - val_MAE: 74.3904\n",
            "4/4 [==============================] - 2s 52ms/step - loss: 69.7598 - MAE: 69.7598\n",
            "Test loss: 69.75975799560547\n",
            "Test MAE: 69.75975799560547\n"
          ]
        }
      ]
    },
    {
      "cell_type": "code",
      "source": [
        "history=model.fit([x_train,gender_train,aget],y_train,batch_size=4,epochs=40,verbose=1,validation_data=([x_valid,gender_valid,agev],y_valid),callbacks = [checkpoint])\n",
        "score = model.evaluate([x_test,gender_test,agev], y_test, batch_size=batch_size)\n",
        "print('Test loss:', score[0])\n",
        "print('Test MAE:', score[1])"
      ],
      "metadata": {
        "colab": {
          "base_uri": "https://localhost:8080/",
          "height": 1000
        },
        "id": "GmS2syMgm-Eo",
        "outputId": "e63e4b51-abfe-45b0-aef8-3155eb3c3042"
      },
      "execution_count": null,
      "outputs": [
        {
          "output_type": "stream",
          "name": "stdout",
          "text": [
            "Epoch 1/100\n",
            "322/322 [==============================] - 36s 91ms/step - loss: 110.6934 - MAE: 110.6934 - val_loss: 110.9062 - val_MAE: 110.9062\n",
            "Epoch 2/100\n",
            "322/322 [==============================] - 28s 87ms/step - loss: 104.0813 - MAE: 104.0813 - val_loss: 104.5999 - val_MAE: 104.5999\n",
            "Epoch 3/100\n",
            "322/322 [==============================] - 28s 87ms/step - loss: 97.9385 - MAE: 97.9385 - val_loss: 98.7535 - val_MAE: 98.7535\n",
            "Epoch 4/100\n",
            "322/322 [==============================] - 28s 87ms/step - loss: 92.1762 - MAE: 92.1762 - val_loss: 93.2222 - val_MAE: 93.2222\n",
            "Epoch 5/100\n",
            "322/322 [==============================] - 28s 86ms/step - loss: 86.7272 - MAE: 86.7272 - val_loss: 88.5708 - val_MAE: 88.5708\n",
            "Epoch 6/100\n",
            "322/322 [==============================] - 28s 87ms/step - loss: 81.6346 - MAE: 81.6346 - val_loss: 84.1177 - val_MAE: 84.1177\n",
            "Epoch 7/100\n",
            "322/322 [==============================] - 28s 86ms/step - loss: 76.8955 - MAE: 76.8955 - val_loss: 80.0620 - val_MAE: 80.0620\n",
            "Epoch 8/100\n",
            "322/322 [==============================] - 28s 88ms/step - loss: 72.6907 - MAE: 72.6907 - val_loss: 76.2412 - val_MAE: 76.2412\n",
            "Epoch 9/100\n",
            "322/322 [==============================] - 28s 88ms/step - loss: 69.0041 - MAE: 69.0041 - val_loss: 72.5949 - val_MAE: 72.5949\n",
            "Epoch 10/100\n",
            "322/322 [==============================] - 28s 86ms/step - loss: 65.6797 - MAE: 65.6797 - val_loss: 69.0688 - val_MAE: 69.0688\n",
            "Epoch 11/100\n",
            "322/322 [==============================] - 28s 87ms/step - loss: 62.7693 - MAE: 62.7693 - val_loss: 65.8885 - val_MAE: 65.8885\n",
            "Epoch 12/100\n",
            "322/322 [==============================] - 28s 86ms/step - loss: 60.1583 - MAE: 60.1583 - val_loss: 63.2648 - val_MAE: 63.2648\n",
            "Epoch 13/100\n",
            "322/322 [==============================] - 28s 86ms/step - loss: 57.8808 - MAE: 57.8808 - val_loss: 61.0051 - val_MAE: 61.0051\n",
            "Epoch 14/100\n",
            "322/322 [==============================] - 28s 86ms/step - loss: 55.9178 - MAE: 55.9178 - val_loss: 58.8659 - val_MAE: 58.8659\n",
            "Epoch 15/100\n",
            "322/322 [==============================] - 28s 86ms/step - loss: 54.1995 - MAE: 54.1995 - val_loss: 56.8396 - val_MAE: 56.8396\n",
            "Epoch 16/100\n",
            "322/322 [==============================] - 28s 87ms/step - loss: 52.7920 - MAE: 52.7920 - val_loss: 55.1498 - val_MAE: 55.1498\n",
            "Epoch 17/100\n",
            "322/322 [==============================] - 28s 86ms/step - loss: 51.6553 - MAE: 51.6553 - val_loss: 53.6049 - val_MAE: 53.6049\n",
            "Epoch 18/100\n",
            "322/322 [==============================] - 29s 89ms/step - loss: 50.6646 - MAE: 50.6646 - val_loss: 52.1068 - val_MAE: 52.1068\n",
            "Epoch 19/100\n",
            "322/322 [==============================] - 28s 86ms/step - loss: 49.8332 - MAE: 49.8332 - val_loss: 50.8079 - val_MAE: 50.8079\n",
            "Epoch 20/100\n",
            "322/322 [==============================] - 28s 87ms/step - loss: 49.2017 - MAE: 49.2017 - val_loss: 49.8763 - val_MAE: 49.8763\n",
            "Epoch 21/100\n",
            "322/322 [==============================] - 28s 86ms/step - loss: 48.7676 - MAE: 48.7676 - val_loss: 49.1497 - val_MAE: 49.1497\n",
            "Epoch 22/100\n",
            "322/322 [==============================] - 28s 86ms/step - loss: 48.4483 - MAE: 48.4483 - val_loss: 48.6482 - val_MAE: 48.6482\n",
            "Epoch 23/100\n",
            "322/322 [==============================] - 28s 88ms/step - loss: 48.2407 - MAE: 48.2407 - val_loss: 48.2699 - val_MAE: 48.2699\n",
            "Epoch 24/100\n",
            "322/322 [==============================] - 28s 87ms/step - loss: 48.0792 - MAE: 48.0792 - val_loss: 47.9054 - val_MAE: 47.9054\n",
            "Epoch 25/100\n",
            "322/322 [==============================] - 28s 86ms/step - loss: 47.9537 - MAE: 47.9537 - val_loss: 47.5965 - val_MAE: 47.5965\n",
            "Epoch 26/100\n",
            "322/322 [==============================] - 28s 86ms/step - loss: 47.8563 - MAE: 47.8563 - val_loss: 47.3260 - val_MAE: 47.3260\n",
            "Epoch 27/100\n",
            "322/322 [==============================] - 28s 87ms/step - loss: 47.7795 - MAE: 47.7795 - val_loss: 47.1364 - val_MAE: 47.1364\n",
            "Epoch 28/100\n",
            "322/322 [==============================] - 28s 87ms/step - loss: 47.7166 - MAE: 47.7166 - val_loss: 46.9614 - val_MAE: 46.9614\n",
            "Epoch 29/100\n",
            "322/322 [==============================] - 28s 88ms/step - loss: 47.6718 - MAE: 47.6718 - val_loss: 46.8641 - val_MAE: 46.8641\n",
            "Epoch 30/100\n",
            "322/322 [==============================] - 28s 86ms/step - loss: 47.6394 - MAE: 47.6394 - val_loss: 46.7895 - val_MAE: 46.7895\n",
            "Epoch 31/100\n",
            "322/322 [==============================] - 28s 88ms/step - loss: 47.6205 - MAE: 47.6205 - val_loss: 46.7344 - val_MAE: 46.7344\n",
            "Epoch 32/100\n",
            "322/322 [==============================] - 28s 87ms/step - loss: 47.6042 - MAE: 47.6042 - val_loss: 46.6769 - val_MAE: 46.6769\n",
            "Epoch 33/100\n",
            "322/322 [==============================] - 28s 86ms/step - loss: 47.5912 - MAE: 47.5912 - val_loss: 46.6510 - val_MAE: 46.6510\n",
            "Epoch 34/100\n",
            "322/322 [==============================] - 28s 86ms/step - loss: 47.5839 - MAE: 47.5839 - val_loss: 46.6315 - val_MAE: 46.6315\n",
            "Epoch 35/100\n",
            "322/322 [==============================] - 28s 86ms/step - loss: 47.5761 - MAE: 47.5761 - val_loss: 46.6182 - val_MAE: 46.6182\n",
            "Epoch 36/100\n",
            "214/322 [==================>...........] - ETA: 9s - loss: 48.4160 - MAE: 48.4160"
          ]
        },
        {
          "output_type": "stream",
          "name": "stderr",
          "text": [
            "ERROR:root:Internal Python error in the inspect module.\n",
            "Below is the traceback from this internal error.\n",
            "\n"
          ]
        },
        {
          "output_type": "stream",
          "name": "stdout",
          "text": [
            "Traceback (most recent call last):\n",
            "  File \"/usr/local/lib/python3.8/dist-packages/IPython/core/interactiveshell.py\", line 3326, in run_code\n",
            "    exec(code_obj, self.user_global_ns, self.user_ns)\n",
            "  File \"<ipython-input-55-ddf166040cd0>\", line 1, in <module>\n",
            "    history=model.fit([x_train,gender_train,aget],y_train,batch_size=4,epochs=100,verbose=1,validation_data=([x_valid,gender_valid,agev],y_valid),callbacks = [checkpoint])\n",
            "  File \"/usr/local/lib/python3.8/dist-packages/keras/utils/traceback_utils.py\", line 64, in error_handler\n",
            "    return fn(*args, **kwargs)\n",
            "  File \"/usr/local/lib/python3.8/dist-packages/keras/engine/training.py\", line 1414, in fit\n",
            "    callbacks.on_train_batch_end(end_step, logs)\n",
            "  File \"/usr/local/lib/python3.8/dist-packages/keras/callbacks.py\", line 438, in on_train_batch_end\n",
            "    self._call_batch_hook(ModeKeys.TRAIN, 'end', batch, logs=logs)\n",
            "  File \"/usr/local/lib/python3.8/dist-packages/keras/callbacks.py\", line 297, in _call_batch_hook\n",
            "    self._call_batch_end_hook(mode, batch, logs)\n",
            "  File \"/usr/local/lib/python3.8/dist-packages/keras/callbacks.py\", line 318, in _call_batch_end_hook\n",
            "    self._call_batch_hook_helper(hook_name, batch, logs)\n",
            "  File \"/usr/local/lib/python3.8/dist-packages/keras/callbacks.py\", line 356, in _call_batch_hook_helper\n",
            "    hook(batch, logs)\n",
            "  File \"/usr/local/lib/python3.8/dist-packages/keras/callbacks.py\", line 1034, in on_train_batch_end\n",
            "    self._batch_update_progbar(batch, logs)\n",
            "  File \"/usr/local/lib/python3.8/dist-packages/keras/callbacks.py\", line 1107, in _batch_update_progbar\n",
            "    self.progbar.update(self.seen, list(logs.items()), finalize=False)\n",
            "  File \"/usr/local/lib/python3.8/dist-packages/keras/utils/generic_utils.py\", line 976, in update\n",
            "    io_utils.print_msg(message, line_break=False)\n",
            "  File \"/usr/local/lib/python3.8/dist-packages/keras/utils/io_utils.py\", line 78, in print_msg\n",
            "    sys.stdout.flush()\n",
            "  File \"/usr/local/lib/python3.8/dist-packages/ipykernel/iostream.py\", line 352, in flush\n",
            "    if not evt.wait(self.flush_timeout):\n",
            "  File \"/usr/lib/python3.8/threading.py\", line 558, in wait\n",
            "    signaled = self._cond.wait(timeout)\n",
            "  File \"/usr/lib/python3.8/threading.py\", line 306, in wait\n",
            "    gotit = waiter.acquire(True, timeout)\n",
            "KeyboardInterrupt\n",
            "\n",
            "During handling of the above exception, another exception occurred:\n",
            "\n",
            "Traceback (most recent call last):\n",
            "  File \"/usr/local/lib/python3.8/dist-packages/IPython/core/interactiveshell.py\", line 2040, in showtraceback\n",
            "    stb = value._render_traceback_()\n",
            "AttributeError: 'KeyboardInterrupt' object has no attribute '_render_traceback_'\n",
            "\n",
            "During handling of the above exception, another exception occurred:\n",
            "\n",
            "Traceback (most recent call last):\n",
            "  File \"/usr/local/lib/python3.8/dist-packages/IPython/core/ultratb.py\", line 1101, in get_records\n",
            "    return _fixed_getinnerframes(etb, number_of_lines_of_context, tb_offset)\n",
            "  File \"/usr/local/lib/python3.8/dist-packages/IPython/core/ultratb.py\", line 319, in wrapped\n",
            "    return f(*args, **kwargs)\n",
            "  File \"/usr/local/lib/python3.8/dist-packages/IPython/core/ultratb.py\", line 353, in _fixed_getinnerframes\n",
            "    records = fix_frame_records_filenames(inspect.getinnerframes(etb, context))\n",
            "  File \"/usr/lib/python3.8/inspect.py\", line 1515, in getinnerframes\n",
            "    frameinfo = (tb.tb_frame,) + getframeinfo(tb, context)\n",
            "  File \"/usr/lib/python3.8/inspect.py\", line 1473, in getframeinfo\n",
            "    filename = getsourcefile(frame) or getfile(frame)\n",
            "  File \"/usr/lib/python3.8/inspect.py\", line 708, in getsourcefile\n",
            "    if getattr(getmodule(object, filename), '__loader__', None) is not None:\n",
            "  File \"/usr/lib/python3.8/inspect.py\", line 754, in getmodule\n",
            "    os.path.realpath(f)] = module.__name__\n",
            "  File \"/usr/lib/python3.8/posixpath.py\", line 392, in realpath\n",
            "    return abspath(path)\n",
            "  File \"/usr/lib/python3.8/posixpath.py\", line 381, in abspath\n",
            "    return normpath(path)\n",
            "  File \"/usr/lib/python3.8/posixpath.py\", line 362, in normpath\n",
            "    new_comps.append(comp)\n",
            "KeyboardInterrupt\n"
          ]
        },
        {
          "output_type": "error",
          "ename": "KeyboardInterrupt",
          "evalue": "ignored",
          "traceback": [
            "\u001b[0;31m---------------------------------------------------------------------------\u001b[0m"
          ]
        }
      ]
    },
    {
      "cell_type": "code",
      "source": [
        "plt.plot(history.history['loss'])\n",
        "plt.plot(history.history['val_loss'])\n",
        "plt.title('Model loss')\n",
        "plt.ylabel('Loss')\n",
        "plt.xlabel('Epoch')\n",
        "plt.legend(['Train', 'Validation'], loc='upper left')\n",
        "plt.show()"
      ],
      "metadata": {
        "colab": {
          "base_uri": "https://localhost:8080/",
          "height": 295
        },
        "id": "jxxBkgAKkHHU",
        "outputId": "5749bf47-fa18-447a-8c65-ff9e11946e25"
      },
      "execution_count": null,
      "outputs": [
        {
          "output_type": "display_data",
          "data": {
            "text/plain": [
              "<Figure size 432x288 with 1 Axes>"
            ],
            "image/png": "[encoded data removed]"
          },
          "metadata": {
            "needs_background": "light"
          }
        }
      ]
    },
    {
      "cell_type": "markdown",
      "source": [
        "3.INvres"
      ],
      "metadata": {
        "id": "I7N7WCRBqXJv"
      }
    },
    {
      "cell_type": "code",
      "source": [
        "from tensorflow.keras.applications.inception_resnet_v2 import InceptionResNetV2\n",
        "\n",
        "base_model = InceptionResNetV2(weights='imagenet', include_top=False)\n",
        "input = Input(shape=(300,300,3),name='input1')\n",
        "input_gender = Input(shape=(1,),dtype='float32',name='input2')\n",
        "input_age = Input(shape=(2,120),dtype='float32',name='input3')\n",
        "output = base_model(input)\n",
        "gender_embedding=Dense(32)(input_gender)\n",
        "#age_embedding=Dense(240)(input_age)\n",
        "x = keras.layers.Conv2D(256,kernel_size=(3,3))(output)\n",
        "x = keras.layers.MaxPooling2D(pool_size=(3,3))(x)\n",
        "x=Flatten()(x)\n",
        "f = keras.layers.Concatenate(axis=1)([x,gender_embedding])\n",
        "f = Dense(256, activation='relu')(f)\n",
        "x =Dense(240,activation='linear')(f)\n",
        "y=Flatten()(input_age)\n",
        "print(y.shape)\n",
        "f = keras.layers.Multiply()([x,y])\n",
        "predictions=Dense(1)(f)\n",
        "\n",
        "model = Model(inputs=[input,input_gender,input_age], outputs=predictions)\n",
        "for i,layer in enumerate(model.layers):\n",
        "    print (i,layer.name)\n",
        "\n",
        "Adam=keras.optimizers.Adam(lr=0.0001,beta_1=0.9,beta_2=0.999)\n",
        "model.compile(optimizer=Adam, loss='mean_absolute_error', metrics=['MAE'])\n",
        "\n",
        "model.summary()\n",
        "\n",
        "\n",
        "checkpoint =keras.callbacks.ModelCheckpoint(filepath='weights_m3r.{epoch:02d}-{val_loss:.2f}.hdf5',save_weights_only=True,period=40)\n",
        "history=model.fit([x_train,gender_train,aget],y_train,batch_size=4,epochs=40,verbose=1,validation_data=([x_valid,gender_valid,agev],y_valid),callbacks = [checkpoint])\n",
        "#history=model.fit_generator(DataGen.flow([x_train,gender_train,aget],y_train,batch_size=batch_size),steps_per_epoch=np.ceil(len(y_train)/batch_size),epochs=10,verbose=1,validation_data=([x_valid,gender_valid,agev],y_valid))\n",
        "score = model.evaluate([x_test,gender_test,agev], y_test, batch_size=batch_size)\n",
        "print('Test loss:', score[0])\n",
        "print('Test MAE:', score[1])"
      ],
      "metadata": {
        "colab": {
          "base_uri": "https://localhost:8080/"
        },
        "id": "jBro4x4Jqa-o",
        "outputId": "9d78b92e-a543-49b7-fd99-633509bda02f"
      },
      "execution_count": null,
      "outputs": [
        {
          "output_type": "stream",
          "name": "stdout",
          "text": [
            "(None, 240)\n",
            "0 input1\n",
            "1 inception_resnet_v2\n",
            "2 conv2d_203\n",
            "3 max_pooling2d_4\n",
            "4 input2\n",
            "5 flatten\n",
            "6 dense\n",
            "7 concatenate\n",
            "8 dense_1\n",
            "9 input3\n",
            "10 dense_2\n",
            "11 flatten_1\n",
            "12 multiply\n",
            "13 dense_3\n",
            "Model: \"model\"\n",
            "__________________________________________________________________________________________________\n",
            " Layer (type)                   Output Shape         Param #     Connected to                     \n",
            "==================================================================================================\n",
            " input1 (InputLayer)            [(None, 300, 300, 3  0           []                               \n",
            "                                )]                                                                \n",
            "                                                                                                  \n",
            " inception_resnet_v2 (Functiona  (None, None, None,   54336736   ['input1[0][0]']                 \n",
            " l)                             1536)                                                             \n",
            "                                                                                                  \n",
            " conv2d_203 (Conv2D)            (None, 6, 6, 256)    3539200     ['inception_resnet_v2[0][0]']    \n",
            "                                                                                                  \n",
            " max_pooling2d_4 (MaxPooling2D)  (None, 2, 2, 256)   0           ['conv2d_203[0][0]']             \n",
            "                                                                                                  \n",
            " input2 (InputLayer)            [(None, 1)]          0           []                               \n",
            "                                                                                                  \n",
            " flatten (Flatten)              (None, 1024)         0           ['max_pooling2d_4[0][0]']        \n",
            "                                                                                                  \n",
            " dense (Dense)                  (None, 32)           64          ['input2[0][0]']                 \n",
            "                                                                                                  \n",
            " concatenate (Concatenate)      (None, 1056)         0           ['flatten[0][0]',                \n",
            "                                                                  'dense[0][0]']                  \n",
            "                                                                                                  \n",
            " dense_1 (Dense)                (None, 256)          270592      ['concatenate[0][0]']            \n",
            "                                                                                                  \n",
            " input3 (InputLayer)            [(None, 2, 120)]     0           []                               \n",
            "                                                                                                  \n",
            " dense_2 (Dense)                (None, 240)          61680       ['dense_1[0][0]']                \n",
            "                                                                                                  \n",
            " flatten_1 (Flatten)            (None, 240)          0           ['input3[0][0]']                 \n",
            "                                                                                                  \n",
            " multiply (Multiply)            (None, 240)          0           ['dense_2[0][0]',                \n",
            "                                                                  'flatten_1[0][0]']              \n",
            "                                                                                                  \n",
            " dense_3 (Dense)                (None, 1)            241         ['multiply[0][0]']               \n",
            "                                                                                                  \n",
            "==================================================================================================\n",
            "Total params: 58,208,513\n",
            "Trainable params: 58,147,969\n",
            "Non-trainable params: 60,544\n",
            "__________________________________________________________________________________________________\n"
          ]
        },
        {
          "output_type": "stream",
          "name": "stderr",
          "text": [
            "/usr/local/lib/python3.8/dist-packages/keras/optimizers/optimizer_v2/adam.py:110: UserWarning: The `lr` argument is deprecated, use `learning_rate` instead.\n",
            "  super(Adam, self).__init__(name, **kwargs)\n",
            "WARNING:tensorflow:`period` argument is deprecated. Please use `save_freq` to specify the frequency in number of batches seen.\n"
          ]
        },
        {
          "output_type": "stream",
          "name": "stdout",
          "text": [
            "Epoch 1/40\n",
            "322/322 [==============================] - 94s 205ms/step - loss: 60.7681 - MAE: 60.7681 - val_loss: 19.3500 - val_MAE: 19.3500\n",
            "Epoch 2/40\n",
            "322/322 [==============================] - 63s 194ms/step - loss: 22.0594 - MAE: 22.0594 - val_loss: 21.6866 - val_MAE: 21.6866\n",
            "Epoch 3/40\n",
            "322/322 [==============================] - 62s 194ms/step - loss: 19.8925 - MAE: 19.8925 - val_loss: 17.9297 - val_MAE: 17.9297\n",
            "Epoch 4/40\n",
            "322/322 [==============================] - 62s 194ms/step - loss: 16.1610 - MAE: 16.1610 - val_loss: 16.3130 - val_MAE: 16.3130\n",
            "Epoch 5/40\n",
            "322/322 [==============================] - 62s 192ms/step - loss: 14.9222 - MAE: 14.9222 - val_loss: 14.5221 - val_MAE: 14.5221\n",
            "Epoch 6/40\n",
            "322/322 [==============================] - 62s 192ms/step - loss: 14.7892 - MAE: 14.7892 - val_loss: 15.4644 - val_MAE: 15.4644\n",
            "Epoch 7/40\n",
            "322/322 [==============================] - 62s 194ms/step - loss: 14.1474 - MAE: 14.1474 - val_loss: 24.0718 - val_MAE: 24.0718\n",
            "Epoch 8/40\n",
            "322/322 [==============================] - 63s 194ms/step - loss: 13.1493 - MAE: 13.1493 - val_loss: 22.5049 - val_MAE: 22.5049\n",
            "Epoch 9/40\n",
            "322/322 [==============================] - 62s 194ms/step - loss: 12.0700 - MAE: 12.0700 - val_loss: 11.9826 - val_MAE: 11.9826\n",
            "Epoch 10/40\n",
            "322/322 [==============================] - 63s 194ms/step - loss: 10.7599 - MAE: 10.7599 - val_loss: 11.2323 - val_MAE: 11.2323\n",
            "Epoch 11/40\n",
            "322/322 [==============================] - 62s 193ms/step - loss: 10.4299 - MAE: 10.4299 - val_loss: 10.3925 - val_MAE: 10.3925\n",
            "Epoch 12/40\n",
            "322/322 [==============================] - 62s 192ms/step - loss: 10.8884 - MAE: 10.8884 - val_loss: 14.3054 - val_MAE: 14.3054\n",
            "Epoch 13/40\n",
            "322/322 [==============================] - 62s 194ms/step - loss: 9.5216 - MAE: 9.5216 - val_loss: 13.9843 - val_MAE: 13.9843\n",
            "Epoch 14/40\n",
            "322/322 [==============================] - 62s 194ms/step - loss: 9.2440 - MAE: 9.2440 - val_loss: 11.3527 - val_MAE: 11.3527\n",
            "Epoch 15/40\n",
            "322/322 [==============================] - 62s 192ms/step - loss: 9.7282 - MAE: 9.7282 - val_loss: 10.7514 - val_MAE: 10.7514\n",
            "Epoch 16/40\n",
            "322/322 [==============================] - 62s 193ms/step - loss: 8.7051 - MAE: 8.7051 - val_loss: 9.1566 - val_MAE: 9.1566\n",
            "Epoch 17/40\n",
            "322/322 [==============================] - 62s 194ms/step - loss: 8.6338 - MAE: 8.6338 - val_loss: 13.9579 - val_MAE: 13.9579\n",
            "Epoch 18/40\n",
            "322/322 [==============================] - 62s 194ms/step - loss: 9.3297 - MAE: 9.3297 - val_loss: 16.6192 - val_MAE: 16.6192\n",
            "Epoch 19/40\n",
            "322/322 [==============================] - 62s 194ms/step - loss: 9.0559 - MAE: 9.0559 - val_loss: 12.2779 - val_MAE: 12.2779\n",
            "Epoch 20/40\n",
            "322/322 [==============================] - 62s 194ms/step - loss: 8.5818 - MAE: 8.5818 - val_loss: 18.8731 - val_MAE: 18.8731\n",
            "Epoch 21/40\n",
            "322/322 [==============================] - 62s 193ms/step - loss: 7.5674 - MAE: 7.5674 - val_loss: 11.8710 - val_MAE: 11.8710\n",
            "Epoch 22/40\n",
            "322/322 [==============================] - 62s 192ms/step - loss: 8.2672 - MAE: 8.2672 - val_loss: 16.5916 - val_MAE: 16.5916\n",
            "Epoch 23/40\n",
            "322/322 [==============================] - 62s 193ms/step - loss: 7.8769 - MAE: 7.8769 - val_loss: 16.0789 - val_MAE: 16.0789\n",
            "Epoch 24/40\n",
            "322/322 [==============================] - 62s 194ms/step - loss: 7.1547 - MAE: 7.1547 - val_loss: 13.8570 - val_MAE: 13.8570\n",
            "Epoch 25/40\n",
            "322/322 [==============================] - 62s 192ms/step - loss: 7.5725 - MAE: 7.5725 - val_loss: 18.2338 - val_MAE: 18.2338\n",
            "Epoch 26/40\n",
            "322/322 [==============================] - 62s 194ms/step - loss: 8.4761 - MAE: 8.4761 - val_loss: 23.2462 - val_MAE: 23.2462\n",
            "Epoch 27/40\n",
            "322/322 [==============================] - 62s 193ms/step - loss: 7.1420 - MAE: 7.1420 - val_loss: 16.0949 - val_MAE: 16.0949\n",
            "Epoch 28/40\n",
            "322/322 [==============================] - 62s 192ms/step - loss: 7.8437 - MAE: 7.8437 - val_loss: 10.2025 - val_MAE: 10.2025\n",
            "Epoch 29/40\n",
            "322/322 [==============================] - 62s 192ms/step - loss: 6.3790 - MAE: 6.3790 - val_loss: 10.4065 - val_MAE: 10.4065\n",
            "Epoch 30/40\n",
            "322/322 [==============================] - 62s 194ms/step - loss: 6.4356 - MAE: 6.4356 - val_loss: 9.5528 - val_MAE: 9.5528\n",
            "Epoch 31/40\n",
            "322/322 [==============================] - 62s 193ms/step - loss: 6.3191 - MAE: 6.3191 - val_loss: 26.7988 - val_MAE: 26.7988\n",
            "Epoch 32/40\n",
            "322/322 [==============================] - 62s 192ms/step - loss: 6.4795 - MAE: 6.4795 - val_loss: 11.8446 - val_MAE: 11.8446\n",
            "Epoch 33/40\n",
            "322/322 [==============================] - 62s 192ms/step - loss: 6.5777 - MAE: 6.5777 - val_loss: 10.6046 - val_MAE: 10.6046\n",
            "Epoch 34/40\n",
            "322/322 [==============================] - 62s 192ms/step - loss: 6.2091 - MAE: 6.2091 - val_loss: 12.0483 - val_MAE: 12.0483\n",
            "Epoch 35/40\n",
            "322/322 [==============================] - 62s 194ms/step - loss: 7.1956 - MAE: 7.1956 - val_loss: 10.0914 - val_MAE: 10.0914\n",
            "Epoch 36/40\n",
            "322/322 [==============================] - 62s 193ms/step - loss: 6.3653 - MAE: 6.3653 - val_loss: 34.7821 - val_MAE: 34.7821\n",
            "Epoch 37/40\n",
            "322/322 [==============================] - 62s 192ms/step - loss: 5.8144 - MAE: 5.8144 - val_loss: 10.8209 - val_MAE: 10.8209\n",
            "Epoch 38/40\n",
            "322/322 [==============================] - 62s 192ms/step - loss: 5.8533 - MAE: 5.8533 - val_loss: 10.4771 - val_MAE: 10.4771\n",
            "Epoch 39/40\n",
            "322/322 [==============================] - 62s 192ms/step - loss: 5.5515 - MAE: 5.5515 - val_loss: 9.3997 - val_MAE: 9.3997\n",
            "Epoch 40/40\n",
            "322/322 [==============================] - 63s 197ms/step - loss: 5.9719 - MAE: 5.9719 - val_loss: 11.5726 - val_MAE: 11.5726\n",
            "4/4 [==============================] - 2s 124ms/step - loss: 15.2785 - MAE: 15.2785\n",
            "Test loss: 15.278511047363281\n",
            "Test MAE: 15.278511047363281\n"
          ]
        }
      ]
    },
    {
      "cell_type": "code",
      "source": [
        "plt.plot(history.history['loss'])\n",
        "plt.plot(history.history['val_loss'])\n",
        "plt.title('Model loss')\n",
        "plt.ylabel('Loss')\n",
        "plt.xlabel('Epoch')\n",
        "plt.legend(['Train', 'Validation'], loc='upper left')\n",
        "plt.show()"
      ],
      "metadata": {
        "colab": {
          "base_uri": "https://localhost:8080/",
          "height": 295
        },
        "id": "jAPJsLMRq18t",
        "outputId": "cc060dbb-a6d8-477b-969a-161a883acf28"
      },
      "execution_count": null,
      "outputs": [
        {
          "output_type": "display_data",
          "data": {
            "text/plain": [
              "<Figure size 432x288 with 1 Axes>"
            ],
            "image/png": "[encoded data removed]"
          },
          "metadata": {
            "needs_background": "light"
          }
        }
      ]
    },
    {
      "cell_type": "markdown",
      "source": [
        "3.Densnet201"
      ],
      "metadata": {
        "id": "0_aR1UFuq9a5"
      }
    },
    {
      "cell_type": "code",
      "source": [
        "from tensorflow.keras.applications.densenet import DenseNet201\n",
        "\n",
        "base_model = DenseNet201(weights='imagenet', include_top=False)\n",
        "input = Input(shape=(300,300,3),name='input1')\n",
        "input_gender = Input(shape=(1,),dtype='float32',name='input2')\n",
        "input_age = Input(shape=(2,120),dtype='float32',name='input3')\n",
        "output = base_model(input)\n",
        "gender_embedding=Dense(32)(input_gender)\n",
        "#age_embedding=Dense(240)(input_age)\n",
        "x = keras.layers.Conv2D(256,kernel_size=(3,3))(output)\n",
        "x = keras.layers.MaxPooling2D(pool_size=(3,3))(x)\n",
        "x=Flatten()(x)\n",
        "f = keras.layers.Concatenate(axis=1)([x,gender_embedding])\n",
        "f = Dense(256, activation='relu')(f)\n",
        "x =Dense(240,activation='linear')(f)\n",
        "y=Flatten()(input_age)\n",
        "print(y.shape)\n",
        "f = keras.layers.Multiply()([x,y])\n",
        "predictions=Dense(1)(f)\n",
        "\n",
        "model = Model(inputs=[input,input_gender,input_age], outputs=predictions)\n",
        "for i,layer in enumerate(model.layers):\n",
        "    print (i,layer.name)\n",
        "\n",
        "Adam=keras.optimizers.Adam(lr=0.0001,beta_1=0.9,beta_2=0.999)\n",
        "model.compile(optimizer=Adam, loss='mean_absolute_error', metrics=['MAE'])\n",
        "\n",
        "model.summary()\n",
        "\n",
        "\n",
        "checkpoint =keras.callbacks.ModelCheckpoint(filepath='weights_m3r.{epoch:02d}-{val_loss:.2f}.hdf5',save_weights_only=True,period=40)\n",
        "history=model.fit([x_train,gender_train,aget],y_train,batch_size=4,epochs=40,verbose=1,validation_data=([x_valid,gender_valid,agev],y_valid),callbacks = [checkpoint])\n",
        "#history=model.fit_generator(DataGen.flow([x_train,gender_train,aget],y_train,batch_size=batch_size),steps_per_epoch=np.ceil(len(y_train)/batch_size),epochs=10,verbose=1,validation_data=([x_valid,gender_valid,agev],y_valid))\n",
        "score = model.evaluate([x_test,gender_test,agev], y_test, batch_size=batch_size)\n",
        "print('Test loss:', score[0])\n",
        "print('Test MAE:', score[1])"
      ],
      "metadata": {
        "colab": {
          "base_uri": "https://localhost:8080/"
        },
        "id": "h2Q8kGQ_rN9_",
        "outputId": "6fd2eee4-bea2-483b-eb83-f43cd96564a2"
      },
      "execution_count": null,
      "outputs": [
        {
          "output_type": "stream",
          "name": "stdout",
          "text": [
            "(None, 240)\n",
            "0 input1\n",
            "1 densenet201\n",
            "2 conv2d_395\n",
            "3 max_pooling2d_16\n",
            "4 input2\n",
            "5 flatten_8\n",
            "6 dense_16\n",
            "7 concatenate_8\n",
            "8 dense_17\n",
            "9 input3\n",
            "10 dense_18\n",
            "11 flatten_9\n",
            "12 multiply_4\n",
            "13 dense_19\n",
            "Model: \"model_4\"\n",
            "__________________________________________________________________________________________________\n",
            " Layer (type)                   Output Shape         Param #     Connected to                     \n",
            "==================================================================================================\n",
            " input1 (InputLayer)            [(None, 300, 300, 3  0           []                               \n",
            "                                )]                                                                \n",
            "                                                                                                  \n",
            " densenet201 (Functional)       (None, None, None,   18321984    ['input1[0][0]']                 \n",
            "                                1920)                                                             \n",
            "                                                                                                  \n",
            " conv2d_395 (Conv2D)            (None, 7, 7, 256)    4423936     ['densenet201[0][0]']            \n",
            "                                                                                                  \n",
            " max_pooling2d_16 (MaxPooling2D  (None, 2, 2, 256)   0           ['conv2d_395[0][0]']             \n",
            " )                                                                                                \n",
            "                                                                                                  \n",
            " input2 (InputLayer)            [(None, 1)]          0           []                               \n",
            "                                                                                                  \n",
            " flatten_8 (Flatten)            (None, 1024)         0           ['max_pooling2d_16[0][0]']       \n",
            "                                                                                                  \n",
            " dense_16 (Dense)               (None, 32)           64          ['input2[0][0]']                 \n",
            "                                                                                                  \n",
            " concatenate_8 (Concatenate)    (None, 1056)         0           ['flatten_8[0][0]',              \n",
            "                                                                  'dense_16[0][0]']               \n",
            "                                                                                                  \n",
            " dense_17 (Dense)               (None, 256)          270592      ['concatenate_8[0][0]']          \n",
            "                                                                                                  \n",
            " input3 (InputLayer)            [(None, 2, 120)]     0           []                               \n",
            "                                                                                                  \n",
            " dense_18 (Dense)               (None, 240)          61680       ['dense_17[0][0]']               \n",
            "                                                                                                  \n",
            " flatten_9 (Flatten)            (None, 240)          0           ['input3[0][0]']                 \n",
            "                                                                                                  \n",
            " multiply_4 (Multiply)          (None, 240)          0           ['dense_18[0][0]',               \n",
            "                                                                  'flatten_9[0][0]']              \n",
            "                                                                                                  \n",
            " dense_19 (Dense)               (None, 1)            241         ['multiply_4[0][0]']             \n",
            "                                                                                                  \n",
            "==================================================================================================\n",
            "Total params: 23,078,497\n",
            "Trainable params: 22,849,441\n",
            "Non-trainable params: 229,056\n",
            "__________________________________________________________________________________________________\n"
          ]
        },
        {
          "output_type": "stream",
          "name": "stderr",
          "text": [
            "WARNING:tensorflow:`period` argument is deprecated. Please use `save_freq` to specify the frequency in number of batches seen.\n"
          ]
        },
        {
          "output_type": "stream",
          "name": "stdout",
          "text": [
            "Epoch 1/20\n",
            "322/322 [==============================] - 73s 167ms/step - loss: 111.6674 - MAE: 111.6674 - val_loss: 113.1511 - val_MAE: 113.1511\n",
            "Epoch 2/20\n",
            "322/322 [==============================] - 50s 155ms/step - loss: 107.5564 - MAE: 107.5564 - val_loss: 109.2169 - val_MAE: 109.2169\n",
            "Epoch 3/20\n",
            "322/322 [==============================] - 50s 156ms/step - loss: 103.7633 - MAE: 103.7633 - val_loss: 105.5446 - val_MAE: 105.5446\n",
            "Epoch 4/20\n",
            "322/322 [==============================] - 50s 156ms/step - loss: 100.0974 - MAE: 100.0974 - val_loss: 102.0489 - val_MAE: 102.0489\n",
            "Epoch 5/20\n",
            "322/322 [==============================] - 50s 156ms/step - loss: 96.5738 - MAE: 96.5738 - val_loss: 98.6061 - val_MAE: 98.6061\n",
            "Epoch 6/20\n",
            "322/322 [==============================] - 50s 156ms/step - loss: 93.1661 - MAE: 93.1661 - val_loss: 95.2671 - val_MAE: 95.2671\n",
            "Epoch 7/20\n",
            "322/322 [==============================] - 51s 157ms/step - loss: 89.8505 - MAE: 89.8505 - val_loss: 92.1393 - val_MAE: 92.1393\n",
            "Epoch 8/20\n",
            "322/322 [==============================] - 50s 157ms/step - loss: 86.6661 - MAE: 86.6661 - val_loss: 89.4437 - val_MAE: 89.4437\n",
            "Epoch 9/20\n",
            "322/322 [==============================] - 50s 156ms/step - loss: 83.5753 - MAE: 83.5753 - val_loss: 86.7419 - val_MAE: 86.7419\n",
            "Epoch 10/20\n",
            "322/322 [==============================] - 50s 156ms/step - loss: 80.5860 - MAE: 80.5860 - val_loss: 84.0982 - val_MAE: 84.0982\n",
            "Epoch 11/20\n",
            "322/322 [==============================] - 50s 156ms/step - loss: 77.7672 - MAE: 77.7672 - val_loss: 81.6549 - val_MAE: 81.6549\n",
            "Epoch 12/20\n",
            "322/322 [==============================] - 51s 157ms/step - loss: 75.1270 - MAE: 75.1270 - val_loss: 79.2836 - val_MAE: 79.2836\n",
            "Epoch 13/20\n",
            "322/322 [==============================] - 50s 156ms/step - loss: 72.6640 - MAE: 72.6640 - val_loss: 76.9778 - val_MAE: 76.9778\n",
            "Epoch 14/20\n",
            "322/322 [==============================] - 50s 157ms/step - loss: 70.3884 - MAE: 70.3884 - val_loss: 74.7288 - val_MAE: 74.7288\n",
            "Epoch 15/20\n",
            "322/322 [==============================] - 51s 157ms/step - loss: 68.2470 - MAE: 68.2470 - val_loss: 72.5002 - val_MAE: 72.5002\n",
            "Epoch 16/20\n",
            "322/322 [==============================] - 50s 157ms/step - loss: 66.2200 - MAE: 66.2200 - val_loss: 70.3683 - val_MAE: 70.3683\n",
            "Epoch 17/20\n",
            "322/322 [==============================] - 50s 156ms/step - loss: 64.3517 - MAE: 64.3517 - val_loss: 68.2603 - val_MAE: 68.2603\n",
            "Epoch 18/20\n",
            "322/322 [==============================] - 50s 156ms/step - loss: 62.6285 - MAE: 62.6285 - val_loss: 66.3137 - val_MAE: 66.3137\n",
            "Epoch 19/20\n",
            "322/322 [==============================] - 50s 155ms/step - loss: 60.9897 - MAE: 60.9897 - val_loss: 64.5913 - val_MAE: 64.5913\n",
            "Epoch 20/20\n",
            "322/322 [==============================] - 51s 159ms/step - loss: 59.4448 - MAE: 59.4448 - val_loss: 63.0214 - val_MAE: 63.0214\n",
            "4/4 [==============================] - 0s 104ms/step - loss: 54.9056 - MAE: 54.9056\n",
            "Test loss: 54.90560531616211\n",
            "Test MAE: 54.90560531616211\n"
          ]
        }
      ]
    },
    {
      "cell_type": "code",
      "source": [
        "plt.plot(history.history['loss'])\n",
        "plt.plot(history.history['val_loss'])\n",
        "plt.title('Model loss')\n",
        "plt.ylabel('Loss')\n",
        "plt.xlabel('Epoch')\n",
        "plt.legend(['Train', 'Validation'], loc='upper left')\n",
        "plt.show()"
      ],
      "metadata": {
        "colab": {
          "base_uri": "https://localhost:8080/",
          "height": 295
        },
        "id": "NYCR-7Olq6rq",
        "outputId": "ee1b24ad-6c78-49df-a9ef-ec264af1cc50"
      },
      "execution_count": null,
      "outputs": [
        {
          "output_type": "display_data",
          "data": {
            "text/plain": [
              "<Figure size 432x288 with 1 Axes>"
            ],
            "image/png": "[encoded data removed]"
          },
          "metadata": {
            "needs_background": "light"
          }
        }
      ]
    },
    {
      "cell_type": "markdown",
      "source": [
        "4.res50"
      ],
      "metadata": {
        "id": "Q-hO3ek7CVPw"
      }
    },
    {
      "cell_type": "code",
      "source": [
        "from tensorflow.keras.applications.densenet import DenseNet201\n",
        "\n",
        "base_model = ResNet50(weights='imagenet', include_top=False)\n",
        "input = Input(shape=(300,300,3),name='input1')\n",
        "input_gender = Input(shape=(1,),dtype='float32',name='input2')\n",
        "input_age = Input(shape=(2,120),dtype='float32',name='input3')\n",
        "output = base_model(input)\n",
        "gender_embedding=Dense(32)(input_gender)\n",
        "#age_embedding=Dense(240)(input_age)\n",
        "x = keras.layers.Conv2D(256,kernel_size=(3,3))(output)\n",
        "x = keras.layers.MaxPooling2D(pool_size=(3,3))(x)\n",
        "x=Flatten()(x)\n",
        "f = keras.layers.Concatenate(axis=1)([x,gender_embedding])\n",
        "f = Dense(256, activation='relu')(f)\n",
        "x =Dense(240,activation='softmax')(f)\n",
        "y=Flatten()(input_age)\n",
        "print(y.shape)\n",
        "f = keras.layers.Multiply()([x,y])\n",
        "predictions=Dense(1)(f)\n",
        "\n",
        "model = Model(inputs=[input,input_gender,input_age], outputs=predictions)\n",
        "for i,layer in enumerate(model.layers):\n",
        "    print (i,layer.name)\n",
        "\n",
        "Adam=keras.optimizers.Adam(lr=0.0001,beta_1=0.9,beta_2=0.999)\n",
        "model.compile(optimizer=Adam, loss='mean_absolute_error', metrics=['MAE'])\n",
        "\n",
        "model.summary()\n",
        "\n",
        "\n",
        "checkpoint =keras.callbacks.ModelCheckpoint(filepath='weights_m3res.{epoch:02d}-{val_loss:.2f}.hdf5',save_weights_only=True,period=20)\n",
        "history=model.fit([x_train,gender_train,aget],y_train,batch_size=4,epochs=20,verbose=1,validation_data=([x_valid,gender_valid,agev],y_valid),callbacks = [checkpoint])\n",
        "#history=model.fit_generator(DataGen.flow([x_train,gender_train,aget],y_train,batch_size=batch_size),steps_per_epoch=np.ceil(len(y_train)/batch_size),epochs=10,verbose=1,validation_data=([x_valid,gender_valid,agev],y_valid))\n",
        "score = model.evaluate([x_test,gender_test,agev], y_test, batch_size=batch_size)\n",
        "print('Test loss:', score[0])\n",
        "print('Test MAE:', score[1])"
      ],
      "metadata": {
        "colab": {
          "base_uri": "https://localhost:8080/"
        },
        "id": "NPajd1-brYqi",
        "outputId": "9b56f147-cadb-475d-da69-ff9f85edd3ab"
      },
      "execution_count": null,
      "outputs": [
        {
          "output_type": "stream",
          "name": "stdout",
          "text": [
            "Downloading data from https://storage.googleapis.com/tensorflow/keras-applications/resnet/resnet50_weights_tf_dim_ordering_tf_kernels_notop.h5\n",
            "94765736/94765736 [==============================] - 5s 0us/step\n",
            "(None, 240)\n",
            "0 input1\n",
            "1 resnet50\n",
            "2 conv2d_695\n",
            "3 max_pooling2d_27\n",
            "4 input2\n",
            "5 flatten_14\n",
            "6 dense_28\n",
            "7 concatenate_13\n",
            "8 dense_29\n",
            "9 input3\n",
            "10 dense_30\n",
            "11 flatten_15\n",
            "12 multiply_7\n",
            "13 dense_31\n",
            "Model: \"model_7\"\n",
            "__________________________________________________________________________________________________\n",
            " Layer (type)                   Output Shape         Param #     Connected to                     \n",
            "==================================================================================================\n",
            " input1 (InputLayer)            [(None, 300, 300, 3  0           []                               \n",
            "                                )]                                                                \n",
            "                                                                                                  \n",
            " resnet50 (Functional)          (None, None, None,   23587712    ['input1[0][0]']                 \n",
            "                                2048)                                                             \n",
            "                                                                                                  \n",
            " conv2d_695 (Conv2D)            (None, 8, 8, 256)    4718848     ['resnet50[0][0]']               \n",
            "                                                                                                  \n",
            " max_pooling2d_27 (MaxPooling2D  (None, 2, 2, 256)   0           ['conv2d_695[0][0]']             \n",
            " )                                                                                                \n",
            "                                                                                                  \n",
            " input2 (InputLayer)            [(None, 1)]          0           []                               \n",
            "                                                                                                  \n",
            " flatten_14 (Flatten)           (None, 1024)         0           ['max_pooling2d_27[0][0]']       \n",
            "                                                                                                  \n",
            " dense_28 (Dense)               (None, 32)           64          ['input2[0][0]']                 \n",
            "                                                                                                  \n",
            " concatenate_13 (Concatenate)   (None, 1056)         0           ['flatten_14[0][0]',             \n",
            "                                                                  'dense_28[0][0]']               \n",
            "                                                                                                  \n",
            " dense_29 (Dense)               (None, 256)          270592      ['concatenate_13[0][0]']         \n",
            "                                                                                                  \n",
            " input3 (InputLayer)            [(None, 2, 120)]     0           []                               \n",
            "                                                                                                  \n",
            " dense_30 (Dense)               (None, 240)          61680       ['dense_29[0][0]']               \n",
            "                                                                                                  \n",
            " flatten_15 (Flatten)           (None, 240)          0           ['input3[0][0]']                 \n",
            "                                                                                                  \n",
            " multiply_7 (Multiply)          (None, 240)          0           ['dense_30[0][0]',               \n",
            "                                                                  'flatten_15[0][0]']             \n",
            "                                                                                                  \n",
            " dense_31 (Dense)               (None, 1)            241         ['multiply_7[0][0]']             \n",
            "                                                                                                  \n",
            "==================================================================================================\n",
            "Total params: 28,639,137\n",
            "Trainable params: 28,586,017\n",
            "Non-trainable params: 53,120\n",
            "__________________________________________________________________________________________________\n"
          ]
        },
        {
          "output_type": "stream",
          "name": "stderr",
          "text": [
            "WARNING:tensorflow:`period` argument is deprecated. Please use `save_freq` to specify the frequency in number of batches seen.\n"
          ]
        },
        {
          "output_type": "stream",
          "name": "stdout",
          "text": [
            "Epoch 1/20\n",
            "322/322 [==============================] - 46s 117ms/step - loss: 112.0437 - MAE: 112.0437 - val_loss: 112.7386 - val_MAE: 112.7386\n",
            "Epoch 2/20\n",
            "322/322 [==============================] - 35s 107ms/step - loss: 106.3055 - MAE: 106.3055 - val_loss: 107.1446 - val_MAE: 107.1446\n",
            "Epoch 3/20\n",
            "322/322 [==============================] - 35s 108ms/step - loss: 100.8857 - MAE: 100.8857 - val_loss: 102.0125 - val_MAE: 102.0125\n",
            "Epoch 4/20\n",
            "322/322 [==============================] - 35s 107ms/step - loss: 95.7783 - MAE: 95.7783 - val_loss: 97.0401 - val_MAE: 97.0401\n",
            "Epoch 5/20\n",
            "322/322 [==============================] - 34s 107ms/step - loss: 90.9137 - MAE: 90.9137 - val_loss: 92.4152 - val_MAE: 92.4152\n",
            "Epoch 6/20\n",
            "322/322 [==============================] - 35s 108ms/step - loss: 86.2750 - MAE: 86.2750 - val_loss: 88.4863 - val_MAE: 88.4863\n",
            "Epoch 7/20\n",
            "322/322 [==============================] - 35s 108ms/step - loss: 81.8660 - MAE: 81.8660 - val_loss: 84.6384 - val_MAE: 84.6384\n",
            "Epoch 8/20\n",
            "322/322 [==============================] - 35s 107ms/step - loss: 77.7450 - MAE: 77.7450 - val_loss: 81.1055 - val_MAE: 81.1055\n",
            "Epoch 9/20\n",
            "322/322 [==============================] - 35s 107ms/step - loss: 74.0134 - MAE: 74.0134 - val_loss: 77.7479 - val_MAE: 77.7479\n",
            "Epoch 10/20\n",
            "322/322 [==============================] - 35s 107ms/step - loss: 70.6480 - MAE: 70.6480 - val_loss: 74.5132 - val_MAE: 74.5132\n",
            "Epoch 11/20\n",
            "322/322 [==============================] - 35s 107ms/step - loss: 67.5642 - MAE: 67.5642 - val_loss: 71.3027 - val_MAE: 71.3027\n",
            "Epoch 12/20\n",
            "322/322 [==============================] - 35s 108ms/step - loss: 64.7625 - MAE: 64.7625 - val_loss: 68.2805 - val_MAE: 68.2805\n",
            "Epoch 13/20\n",
            "322/322 [==============================] - 35s 109ms/step - loss: 62.2733 - MAE: 62.2733 - val_loss: 65.5427 - val_MAE: 65.5427\n",
            "Epoch 14/20\n",
            "322/322 [==============================] - 35s 107ms/step - loss: 59.9760 - MAE: 59.9760 - val_loss: 63.2276 - val_MAE: 63.2276\n",
            "Epoch 15/20\n",
            "322/322 [==============================] - 34s 107ms/step - loss: 57.9899 - MAE: 57.9899 - val_loss: 61.2521 - val_MAE: 61.2521\n",
            "Epoch 16/20\n",
            "322/322 [==============================] - 34s 107ms/step - loss: 56.2420 - MAE: 56.2420 - val_loss: 59.3435 - val_MAE: 59.3435\n",
            "Epoch 17/20\n",
            "322/322 [==============================] - 34s 106ms/step - loss: 54.8470 - MAE: 54.8470 - val_loss: 57.5826 - val_MAE: 57.5826\n",
            "Epoch 18/20\n",
            "322/322 [==============================] - 34s 106ms/step - loss: 53.3578 - MAE: 53.3578 - val_loss: 55.9683 - val_MAE: 55.9683\n",
            "Epoch 19/20\n",
            "322/322 [==============================] - 34s 106ms/step - loss: 52.2711 - MAE: 52.2711 - val_loss: 54.5811 - val_MAE: 54.5811\n",
            "Epoch 20/20\n",
            "322/322 [==============================] - 35s 108ms/step - loss: 51.3457 - MAE: 51.3457 - val_loss: 53.2360 - val_MAE: 53.2360\n",
            "4/4 [==============================] - 1s 73ms/step - loss: 49.4666 - MAE: 49.4666\n",
            "Test loss: 49.46658706665039\n",
            "Test MAE: 49.46658706665039\n"
          ]
        }
      ]
    },
    {
      "cell_type": "code",
      "source": [
        "plt.plot(history.history['loss'])\n",
        "plt.plot(history.history['val_loss'])\n",
        "plt.title('Model loss')\n",
        "plt.ylabel('Loss')\n",
        "plt.xlabel('Epoch')\n",
        "plt.legend(['Train', 'Validation'], loc='upper left')\n",
        "plt.show()"
      ],
      "metadata": {
        "colab": {
          "base_uri": "https://localhost:8080/",
          "height": 295
        },
        "id": "WADP3DTZClhN",
        "outputId": "1c28cf12-042f-43cd-9eb5-6e2eb97b1cb0"
      },
      "execution_count": null,
      "outputs": [
        {
          "output_type": "display_data",
          "data": {
            "text/plain": [
              "<Figure size 432x288 with 1 Axes>"
            ],
            "image/png": "[encoded data removed]"
          },
          "metadata": {
            "needs_background": "light"
          }
        }
      ]
    },
    {
      "cell_type": "code",
      "source": [],
      "metadata": {
        "id": "HpUpBXp2GCom"
      },
      "execution_count": null,
      "outputs": []
    },
    {
      "cell_type": "markdown",
      "source": [
        "#Attention"
      ],
      "metadata": {
        "id": "mKZhEFLIwehJ"
      }
    },
    {
      "cell_type": "code",
      "source": [
        "import tensorflow as tf\n",
        "\n",
        "base_model = InceptionV3(weights='imagenet', include_top=False)\n",
        "input = Input(shape=(300,300,3),name='input1')\n",
        "input_gender = Input(shape=(1,),dtype='float32',name='input2')\n",
        "input_age = Input(shape=(2,115),dtype='float32',name='input3')\n",
        "data_augmentation = tf.keras.layers.RandomFlip(\"horizontal\")(input)\n",
        "data_augmentation = tf.keras.layers.RandomRotation( 0.2)(data_augmentation)\n",
        "output = base_model(data_augmentation)\n",
        "gender_embedding=Dense(32)(input_gender)\n",
        "sq = keras.layers.GlobalAveragePooling2D()(output)\n",
        "print (K.int_shape(sq))\n",
        "sq = keras.layers.Reshape((1,1,2048))(sq)\n",
        "sq = keras.layers.Dense(units=2048,activation=\"sigmoid\")(sq)\n",
        "block = keras.layers.multiply([output,sq])\n",
        "#fine Squeeze and Excitation 1\n",
        "\n",
        "net = keras.layers.add([output,block])\n",
        "net = keras.layers.BatchNormalization()(net)\n",
        "net = keras.layers.Activation(\"relu\")(net)\n",
        "net = keras.layers.MaxPooling2D(pool_size=(2, 2),name=\"block_1\")(net)\n",
        "print (K.int_shape(net))\n",
        "x = keras.layers.Conv2D(256,kernel_size=(3,3))(net)\n",
        "x = keras.layers.MaxPooling2D(pool_size=(2,2))(x)\n",
        "x=Flatten()(x)\n",
        "f = keras.layers.Concatenate(axis=1)([x,gender_embedding])\n",
        "f = Dense(512, activation='relu')(f)\n",
        "x =Dense(230,activation='linear')(f)\n",
        "y=Flatten()(input_age)\n",
        "print(y.shape)\n",
        "f = keras.layers.Multiply()([x,y])\n",
        "predictions=Dense(1)(f)\n",
        "\n",
        "model = Model(inputs=[input,input_gender,input_age], outputs=predictions)\n",
        "for i,layer in enumerate(model.layers):\n",
        "    print (i,layer.name)\n",
        "\n",
        "Adam=keras.optimizers.Adam(lr=0.0001,beta_1=0.9,beta_2=0.999)\n",
        "model.compile(optimizer=Adam, loss='mean_absolute_error', metrics=['MAE'])\n",
        "\n",
        "model.summary()\n",
        "\n",
        "\n",
        "checkpoint =keras.callbacks.ModelCheckpoint(filepath='weights_invseq.{epoch:02d}-{val_loss:.2f}.hdf5',save_weights_only=True,period=20)\n",
        "#model.fit_generator(DataGen.flow([x_train,gender_train,aget],y_train,batch_size=batch_size),steps_per_epoch=np.ceil(len(y_train)/batch_size),epochs=50,verbose=1,validation_data=([x_valid,gender_valid,agev],y_valid))\n",
        "history=model.fit([x_train,gender_train,aget],y_train,batch_size=4,epochs=20,verbose=1,validation_data=([x_valid,gender_valid,agev],y_valid),callbacks = [checkpoint])\n",
        "score = model.evaluate([x_test,gender_test,agev], y_test, batch_size=batch_size)\n",
        "print('Test loss:', score[0])\n",
        "print('Test MAE:', score[1])"
      ],
      "metadata": {
        "colab": {
          "base_uri": "https://localhost:8080/"
        },
        "id": "MLv1cpGewhlG",
        "outputId": "c37d5f71-fc42-4b50-abb8-8649d5a77e5b"
      },
      "execution_count": 13,
      "outputs": [
        {
          "output_type": "stream",
          "name": "stdout",
          "text": [
            "(None, 2048)\n",
            "(None, 4, 4, 2048)\n",
            "(None, 230)\n",
            "0 input1\n",
            "1 random_flip_2\n",
            "2 random_rotation_2\n",
            "3 inception_v3\n",
            "4 global_average_pooling2d_2\n",
            "5 reshape_2\n",
            "6 dense_7\n",
            "7 multiply_3\n",
            "8 add_2\n",
            "9 batch_normalization_284\n",
            "10 activation_284\n",
            "11 block_1\n",
            "12 conv2d_284\n",
            "13 max_pooling2d_14\n",
            "14 input2\n",
            "15 flatten_2\n",
            "16 dense_6\n",
            "17 concatenate_7\n",
            "18 dense_8\n",
            "19 input3\n",
            "20 dense_9\n",
            "21 flatten_3\n",
            "22 multiply_4\n",
            "23 dense_10\n",
            "Model: \"model\"\n",
            "__________________________________________________________________________________________________\n",
            " Layer (type)                   Output Shape         Param #     Connected to                     \n",
            "==================================================================================================\n",
            " input1 (InputLayer)            [(None, 300, 300, 3  0           []                               \n",
            "                                )]                                                                \n",
            "                                                                                                  \n",
            " random_flip_2 (RandomFlip)     (None, 300, 300, 3)  0           ['input1[0][0]']                 \n",
            "                                                                                                  \n",
            " random_rotation_2 (RandomRotat  (None, 300, 300, 3)  0          ['random_flip_2[0][0]']          \n",
            " ion)                                                                                             \n",
            "                                                                                                  \n",
            " inception_v3 (Functional)      (None, None, None,   21802784    ['random_rotation_2[0][0]']      \n",
            "                                2048)                                                             \n",
            "                                                                                                  \n",
            " global_average_pooling2d_2 (Gl  (None, 2048)        0           ['inception_v3[0][0]']           \n",
            " obalAveragePooling2D)                                                                            \n",
            "                                                                                                  \n",
            " reshape_2 (Reshape)            (None, 1, 1, 2048)   0           ['global_average_pooling2d_2[0][0\n",
            "                                                                 ]']                              \n",
            "                                                                                                  \n",
            " dense_7 (Dense)                (None, 1, 1, 2048)   4196352     ['reshape_2[0][0]']              \n",
            "                                                                                                  \n",
            " multiply_3 (Multiply)          (None, 8, 8, 2048)   0           ['inception_v3[0][0]',           \n",
            "                                                                  'dense_7[0][0]']                \n",
            "                                                                                                  \n",
            " add_2 (Add)                    (None, 8, 8, 2048)   0           ['inception_v3[0][0]',           \n",
            "                                                                  'multiply_3[0][0]']             \n",
            "                                                                                                  \n",
            " batch_normalization_284 (Batch  (None, 8, 8, 2048)  8192        ['add_2[0][0]']                  \n",
            " Normalization)                                                                                   \n",
            "                                                                                                  \n",
            " activation_284 (Activation)    (None, 8, 8, 2048)   0           ['batch_normalization_284[0][0]']\n",
            "                                                                                                  \n",
            " block_1 (MaxPooling2D)         (None, 4, 4, 2048)   0           ['activation_284[0][0]']         \n",
            "                                                                                                  \n",
            " conv2d_284 (Conv2D)            (None, 2, 2, 256)    4718848     ['block_1[0][0]']                \n",
            "                                                                                                  \n",
            " max_pooling2d_14 (MaxPooling2D  (None, 1, 1, 256)   0           ['conv2d_284[0][0]']             \n",
            " )                                                                                                \n",
            "                                                                                                  \n",
            " input2 (InputLayer)            [(None, 1)]          0           []                               \n",
            "                                                                                                  \n",
            " flatten_2 (Flatten)            (None, 256)          0           ['max_pooling2d_14[0][0]']       \n",
            "                                                                                                  \n",
            " dense_6 (Dense)                (None, 32)           64          ['input2[0][0]']                 \n",
            "                                                                                                  \n",
            " concatenate_7 (Concatenate)    (None, 288)          0           ['flatten_2[0][0]',              \n",
            "                                                                  'dense_6[0][0]']                \n",
            "                                                                                                  \n",
            " dense_8 (Dense)                (None, 512)          147968      ['concatenate_7[0][0]']          \n",
            "                                                                                                  \n",
            " input3 (InputLayer)            [(None, 2, 115)]     0           []                               \n",
            "                                                                                                  \n",
            " dense_9 (Dense)                (None, 230)          117990      ['dense_8[0][0]']                \n",
            "                                                                                                  \n",
            " flatten_3 (Flatten)            (None, 230)          0           ['input3[0][0]']                 \n",
            "                                                                                                  \n",
            " multiply_4 (Multiply)          (None, 230)          0           ['dense_9[0][0]',                \n",
            "                                                                  'flatten_3[0][0]']              \n",
            "                                                                                                  \n",
            " dense_10 (Dense)               (None, 1)            231         ['multiply_4[0][0]']             \n",
            "                                                                                                  \n",
            "==================================================================================================\n",
            "Total params: 30,992,429\n",
            "Trainable params: 30,953,901\n",
            "Non-trainable params: 38,528\n",
            "__________________________________________________________________________________________________\n"
          ]
        },
        {
          "output_type": "stream",
          "name": "stderr",
          "text": [
            "/usr/local/lib/python3.8/dist-packages/keras/optimizers/optimizer_v2/adam.py:110: UserWarning: The `lr` argument is deprecated, use `learning_rate` instead.\n",
            "  super(Adam, self).__init__(name, **kwargs)\n",
            "WARNING:tensorflow:`period` argument is deprecated. Please use `save_freq` to specify the frequency in number of batches seen.\n"
          ]
        },
        {
          "output_type": "stream",
          "name": "stdout",
          "text": [
            "Epoch 1/20\n",
            "322/322 [==============================] - 54s 109ms/step - loss: 135.3772 - MAE: 135.3772 - val_loss: 175.9427 - val_MAE: 175.9427\n",
            "Epoch 2/20\n",
            "322/322 [==============================] - 30s 93ms/step - loss: 53.3329 - MAE: 53.3329 - val_loss: 36.7784 - val_MAE: 36.7784\n",
            "Epoch 3/20\n",
            "322/322 [==============================] - 30s 95ms/step - loss: 37.5008 - MAE: 37.5008 - val_loss: 41.4332 - val_MAE: 41.4332\n",
            "Epoch 4/20\n",
            "322/322 [==============================] - 30s 94ms/step - loss: 28.9868 - MAE: 28.9868 - val_loss: 22.7053 - val_MAE: 22.7053\n",
            "Epoch 5/20\n",
            "322/322 [==============================] - 30s 93ms/step - loss: 25.9828 - MAE: 25.9828 - val_loss: 17.4561 - val_MAE: 17.4561\n",
            "Epoch 6/20\n",
            "322/322 [==============================] - 32s 99ms/step - loss: 22.8668 - MAE: 22.8668 - val_loss: 36.4721 - val_MAE: 36.4721\n",
            "Epoch 7/20\n",
            "322/322 [==============================] - 30s 92ms/step - loss: 22.1098 - MAE: 22.1098 - val_loss: 19.6594 - val_MAE: 19.6594\n",
            "Epoch 8/20\n",
            "322/322 [==============================] - 29s 91ms/step - loss: 20.8324 - MAE: 20.8324 - val_loss: 26.7926 - val_MAE: 26.7926\n",
            "Epoch 9/20\n",
            "322/322 [==============================] - 30s 92ms/step - loss: 19.3373 - MAE: 19.3373 - val_loss: 16.1736 - val_MAE: 16.1736\n",
            "Epoch 10/20\n",
            "322/322 [==============================] - 29s 91ms/step - loss: 17.5799 - MAE: 17.5799 - val_loss: 14.7696 - val_MAE: 14.7696\n",
            "Epoch 11/20\n",
            "322/322 [==============================] - 30s 92ms/step - loss: 17.0408 - MAE: 17.0408 - val_loss: 25.0453 - val_MAE: 25.0453\n",
            "Epoch 12/20\n",
            "322/322 [==============================] - 29s 91ms/step - loss: 17.1501 - MAE: 17.1501 - val_loss: 17.6543 - val_MAE: 17.6543\n",
            "Epoch 13/20\n",
            "322/322 [==============================] - 29s 91ms/step - loss: 16.0310 - MAE: 16.0310 - val_loss: 12.0742 - val_MAE: 12.0742\n",
            "Epoch 14/20\n",
            "322/322 [==============================] - 30s 93ms/step - loss: 15.0597 - MAE: 15.0597 - val_loss: 14.1785 - val_MAE: 14.1785\n",
            "Epoch 15/20\n",
            "322/322 [==============================] - 30s 92ms/step - loss: 15.9819 - MAE: 15.9819 - val_loss: 11.0133 - val_MAE: 11.0133\n",
            "Epoch 16/20\n",
            "322/322 [==============================] - 29s 91ms/step - loss: 15.6074 - MAE: 15.6074 - val_loss: 17.5911 - val_MAE: 17.5911\n",
            "Epoch 17/20\n",
            "322/322 [==============================] - 29s 91ms/step - loss: 14.9481 - MAE: 14.9481 - val_loss: 11.6488 - val_MAE: 11.6488\n",
            "Epoch 18/20\n",
            "322/322 [==============================] - 29s 92ms/step - loss: 14.7808 - MAE: 14.7808 - val_loss: 14.0789 - val_MAE: 14.0789\n",
            "Epoch 19/20\n",
            "322/322 [==============================] - 30s 92ms/step - loss: 14.5570 - MAE: 14.5570 - val_loss: 11.8477 - val_MAE: 11.8477\n",
            "Epoch 20/20\n",
            "322/322 [==============================] - 30s 94ms/step - loss: 15.7390 - MAE: 15.7390 - val_loss: 12.2247 - val_MAE: 12.2247\n",
            "4/4 [==============================] - 2s 56ms/step - loss: 14.1137 - MAE: 14.1137\n",
            "Test loss: 14.113725662231445\n",
            "Test MAE: 14.113725662231445\n"
          ]
        }
      ]
    },
    {
      "cell_type": "code",
      "source": [
        "plt.plot(history.history['loss'])\n",
        "plt.plot(history.history['val_loss'])\n",
        "plt.title('Model loss')\n",
        "plt.ylabel('Loss')\n",
        "plt.xlabel('Epoch')\n",
        "plt.legend(['Train', 'Validation'], loc='upper left')\n",
        "plt.show()"
      ],
      "metadata": {
        "colab": {
          "base_uri": "https://localhost:8080/",
          "height": 295
        },
        "id": "8R3NIVH_w8tJ",
        "outputId": "b0144edb-d842-41ea-f4ad-49fa23bfc79a"
      },
      "execution_count": 14,
      "outputs": [
        {
          "output_type": "display_data",
          "data": {
            "text/plain": [
              "<Figure size 432x288 with 1 Axes>"
            ],
            "image/png": "[encoded data removed]"
          },
          "metadata": {
            "needs_background": "light"
          }
        }
      ]
    },
    {
      "cell_type": "code",
      "source": [
        "import tensorflow as tf\n",
        "from tensorflow.keras.applications.inception_resnet_v2 import InceptionResNetV2\n",
        "\n",
        "base_model = InceptionResNetV2(weights='imagenet', include_top=False)\n",
        "input = Input(shape=(300,300,3),name='input1')\n",
        "input_gender = Input(shape=(1,),dtype='float32',name='input2')\n",
        "input_age = Input(shape=(2,115),dtype='float32',name='input3')\n",
        "data_augmentation = tf.keras.layers.RandomFlip(\"horizontal\")(input)\n",
        "data_augmentation = tf.keras.layers.RandomRotation( 0.2)(data_augmentation)\n",
        "output = base_model(data_augmentation)\n",
        "gender_embedding=Dense(32)(input_gender)\n",
        "sq = keras.layers.GlobalAveragePooling2D()(output)\n",
        "print (K.int_shape(sq))\n",
        "sq = keras.layers.Reshape((1,1,1536))(sq)\n",
        "sq = keras.layers.Dense(units=1536,activation=\"sigmoid\")(sq)\n",
        "block = keras.layers.multiply([output,sq])\n",
        "#fine Squeeze and Excitation 1\n",
        "\n",
        "net = keras.layers.add([output,block])\n",
        "net = keras.layers.BatchNormalization()(net)\n",
        "net = keras.layers.Activation(\"relu\")(net)\n",
        "net = keras.layers.MaxPooling2D(pool_size=(2, 2),name=\"block_1\")(net)\n",
        "print (K.int_shape(net))\n",
        "x = keras.layers.Conv2D(256,kernel_size=(3,3))(net)\n",
        "x = keras.layers.MaxPooling2D(pool_size=(2,2))(x)\n",
        "x=Flatten()(x)\n",
        "f = keras.layers.Concatenate(axis=1)([x,gender_embedding])\n",
        "f = Dense(512, activation='relu')(f)\n",
        "x =Dense(230,activation='linear')(f)\n",
        "y=Flatten()(input_age)\n",
        "print(y.shape)\n",
        "f = keras.layers.Multiply()([x,y])\n",
        "predictions=Dense(1)(f)\n",
        "\n",
        "model = Model(inputs=[input,input_gender,input_age], outputs=predictions)\n",
        "for i,layer in enumerate(model.layers):\n",
        "    print (i,layer.name)\n",
        "\n",
        "Adam=keras.optimizers.Adam(lr=0.0001,beta_1=0.9,beta_2=0.999)\n",
        "model.compile(optimizer=Adam, loss='mean_absolute_error', metrics=['MAE'])\n",
        "\n",
        "model.summary()\n",
        "\n",
        "\n",
        "checkpoint =keras.callbacks.ModelCheckpoint(filepath='weights_invresseq.{epoch:02d}-{val_loss:.2f}.hdf5',save_weights_only=True,period=20)\n",
        "#model.fit_generator(DataGen.flow([x_train,gender_train,aget],y_train,batch_size=batch_size),steps_per_epoch=np.ceil(len(y_train)/batch_size),epochs=50,verbose=1,validation_data=([x_valid,gender_valid,agev],y_valid))\n",
        "history=model.fit([x_train,gender_train,aget],y_train,batch_size=4,epochs=20,verbose=1,validation_data=([x_valid,gender_valid,agev],y_valid),callbacks = [checkpoint])\n",
        "score = model.evaluate([x_test,gender_test,agev], y_test, batch_size=batch_size)\n",
        "print('Test loss:', score[0])\n",
        "print('Test MAE:', score[1])"
      ],
      "metadata": {
        "colab": {
          "base_uri": "https://localhost:8080/"
        },
        "id": "rRJebV18xh4X",
        "outputId": "80ac14c7-c18f-43e1-9c40-ae5614b5ae3b"
      },
      "execution_count": 16,
      "outputs": [
        {
          "output_type": "stream",
          "name": "stdout",
          "text": [
            "(None, 1536)\n",
            "(None, 4, 4, 1536)\n",
            "(None, 230)\n",
            "0 input1\n",
            "1 random_flip_4\n",
            "2 random_rotation_4\n",
            "3 inception_resnet_v2\n",
            "4 global_average_pooling2d_4\n",
            "5 reshape_4\n",
            "6 dense_13\n",
            "7 multiply_5\n",
            "8 add_3\n",
            "9 batch_normalization_691\n",
            "10 activation_691\n",
            "11 block_1\n",
            "12 conv2d_691\n",
            "13 max_pooling2d_23\n",
            "14 input2\n",
            "15 flatten_4\n",
            "16 dense_12\n",
            "17 concatenate_8\n",
            "18 dense_14\n",
            "19 input3\n",
            "20 dense_15\n",
            "21 flatten_5\n",
            "22 multiply_6\n",
            "23 dense_16\n",
            "Model: \"model_1\"\n",
            "__________________________________________________________________________________________________\n",
            " Layer (type)                   Output Shape         Param #     Connected to                     \n",
            "==================================================================================================\n",
            " input1 (InputLayer)            [(None, 300, 300, 3  0           []                               \n",
            "                                )]                                                                \n",
            "                                                                                                  \n",
            " random_flip_4 (RandomFlip)     (None, 300, 300, 3)  0           ['input1[0][0]']                 \n",
            "                                                                                                  \n",
            " random_rotation_4 (RandomRotat  (None, 300, 300, 3)  0          ['random_flip_4[0][0]']          \n",
            " ion)                                                                                             \n",
            "                                                                                                  \n",
            " inception_resnet_v2 (Functiona  (None, None, None,   54336736   ['random_rotation_4[0][0]']      \n",
            " l)                             1536)                                                             \n",
            "                                                                                                  \n",
            " global_average_pooling2d_4 (Gl  (None, 1536)        0           ['inception_resnet_v2[0][0]']    \n",
            " obalAveragePooling2D)                                                                            \n",
            "                                                                                                  \n",
            " reshape_4 (Reshape)            (None, 1, 1, 1536)   0           ['global_average_pooling2d_4[0][0\n",
            "                                                                 ]']                              \n",
            "                                                                                                  \n",
            " dense_13 (Dense)               (None, 1, 1, 1536)   2360832     ['reshape_4[0][0]']              \n",
            "                                                                                                  \n",
            " multiply_5 (Multiply)          (None, 8, 8, 1536)   0           ['inception_resnet_v2[0][0]',    \n",
            "                                                                  'dense_13[0][0]']               \n",
            "                                                                                                  \n",
            " add_3 (Add)                    (None, 8, 8, 1536)   0           ['inception_resnet_v2[0][0]',    \n",
            "                                                                  'multiply_5[0][0]']             \n",
            "                                                                                                  \n",
            " batch_normalization_691 (Batch  (None, 8, 8, 1536)  6144        ['add_3[0][0]']                  \n",
            " Normalization)                                                                                   \n",
            "                                                                                                  \n",
            " activation_691 (Activation)    (None, 8, 8, 1536)   0           ['batch_normalization_691[0][0]']\n",
            "                                                                                                  \n",
            " block_1 (MaxPooling2D)         (None, 4, 4, 1536)   0           ['activation_691[0][0]']         \n",
            "                                                                                                  \n",
            " conv2d_691 (Conv2D)            (None, 2, 2, 256)    3539200     ['block_1[0][0]']                \n",
            "                                                                                                  \n",
            " max_pooling2d_23 (MaxPooling2D  (None, 1, 1, 256)   0           ['conv2d_691[0][0]']             \n",
            " )                                                                                                \n",
            "                                                                                                  \n",
            " input2 (InputLayer)            [(None, 1)]          0           []                               \n",
            "                                                                                                  \n",
            " flatten_4 (Flatten)            (None, 256)          0           ['max_pooling2d_23[0][0]']       \n",
            "                                                                                                  \n",
            " dense_12 (Dense)               (None, 32)           64          ['input2[0][0]']                 \n",
            "                                                                                                  \n",
            " concatenate_8 (Concatenate)    (None, 288)          0           ['flatten_4[0][0]',              \n",
            "                                                                  'dense_12[0][0]']               \n",
            "                                                                                                  \n",
            " dense_14 (Dense)               (None, 512)          147968      ['concatenate_8[0][0]']          \n",
            "                                                                                                  \n",
            " input3 (InputLayer)            [(None, 2, 115)]     0           []                               \n",
            "                                                                                                  \n",
            " dense_15 (Dense)               (None, 230)          117990      ['dense_14[0][0]']               \n",
            "                                                                                                  \n",
            " flatten_5 (Flatten)            (None, 230)          0           ['input3[0][0]']                 \n",
            "                                                                                                  \n",
            " multiply_6 (Multiply)          (None, 230)          0           ['dense_15[0][0]',               \n",
            "                                                                  'flatten_5[0][0]']              \n",
            "                                                                                                  \n",
            " dense_16 (Dense)               (None, 1)            231         ['multiply_6[0][0]']             \n",
            "                                                                                                  \n",
            "==================================================================================================\n",
            "Total params: 60,509,165\n",
            "Trainable params: 60,445,549\n",
            "Non-trainable params: 63,616\n",
            "__________________________________________________________________________________________________\n"
          ]
        },
        {
          "output_type": "stream",
          "name": "stderr",
          "text": [
            "WARNING:tensorflow:`period` argument is deprecated. Please use `save_freq` to specify the frequency in number of batches seen.\n"
          ]
        },
        {
          "output_type": "stream",
          "name": "stdout",
          "text": [
            "Epoch 1/20\n",
            "322/322 [==============================] - 88s 211ms/step - loss: 131.0016 - MAE: 131.0016 - val_loss: 751.7568 - val_MAE: 751.7568\n",
            "Epoch 2/20\n",
            "322/322 [==============================] - 64s 199ms/step - loss: 53.7849 - MAE: 53.7849 - val_loss: 144.8490 - val_MAE: 144.8490\n",
            "Epoch 3/20\n",
            "322/322 [==============================] - 67s 209ms/step - loss: 36.2643 - MAE: 36.2643 - val_loss: 147.6964 - val_MAE: 147.6964\n",
            "Epoch 4/20\n",
            "322/322 [==============================] - 65s 202ms/step - loss: 26.1150 - MAE: 26.1150 - val_loss: 100.6292 - val_MAE: 100.6292\n",
            "Epoch 5/20\n",
            "322/322 [==============================] - 66s 205ms/step - loss: 21.0254 - MAE: 21.0254 - val_loss: 95.1201 - val_MAE: 95.1201\n",
            "Epoch 6/20\n",
            "322/322 [==============================] - 66s 205ms/step - loss: 19.8756 - MAE: 19.8756 - val_loss: 99.2358 - val_MAE: 99.2358\n",
            "Epoch 7/20\n",
            "322/322 [==============================] - 65s 203ms/step - loss: 19.0548 - MAE: 19.0548 - val_loss: 51.8566 - val_MAE: 51.8566\n",
            "Epoch 8/20\n",
            "322/322 [==============================] - 65s 203ms/step - loss: 18.2318 - MAE: 18.2318 - val_loss: 78.1561 - val_MAE: 78.1561\n",
            "Epoch 9/20\n",
            "322/322 [==============================] - 66s 205ms/step - loss: 16.3805 - MAE: 16.3805 - val_loss: 46.8548 - val_MAE: 46.8548\n",
            "Epoch 10/20\n",
            "322/322 [==============================] - 65s 203ms/step - loss: 14.9180 - MAE: 14.9180 - val_loss: 69.8769 - val_MAE: 69.8769\n",
            "Epoch 11/20\n",
            "322/322 [==============================] - 66s 204ms/step - loss: 15.7571 - MAE: 15.7571 - val_loss: 34.0334 - val_MAE: 34.0334\n",
            "Epoch 12/20\n",
            "322/322 [==============================] - 66s 204ms/step - loss: 14.0143 - MAE: 14.0143 - val_loss: 60.9766 - val_MAE: 60.9766\n",
            "Epoch 13/20\n",
            "322/322 [==============================] - 66s 206ms/step - loss: 14.3428 - MAE: 14.3428 - val_loss: 21.9646 - val_MAE: 21.9646\n",
            "Epoch 14/20\n",
            "322/322 [==============================] - 65s 203ms/step - loss: 14.7113 - MAE: 14.7113 - val_loss: 26.3506 - val_MAE: 26.3506\n",
            "Epoch 15/20\n",
            "322/322 [==============================] - 65s 203ms/step - loss: 14.6738 - MAE: 14.6738 - val_loss: 38.1753 - val_MAE: 38.1753\n",
            "Epoch 16/20\n",
            "322/322 [==============================] - 66s 204ms/step - loss: 15.3602 - MAE: 15.3602 - val_loss: 133.9500 - val_MAE: 133.9500\n",
            "Epoch 17/20\n",
            "322/322 [==============================] - 65s 203ms/step - loss: 13.7279 - MAE: 13.7279 - val_loss: 11.9316 - val_MAE: 11.9316\n",
            "Epoch 18/20\n",
            "322/322 [==============================] - 65s 203ms/step - loss: 13.5281 - MAE: 13.5281 - val_loss: 18.4795 - val_MAE: 18.4795\n",
            "Epoch 19/20\n",
            "322/322 [==============================] - 66s 204ms/step - loss: 13.0817 - MAE: 13.0817 - val_loss: 19.8038 - val_MAE: 19.8038\n",
            "Epoch 20/20\n",
            "322/322 [==============================] - 66s 206ms/step - loss: 13.2679 - MAE: 13.2679 - val_loss: 19.6847 - val_MAE: 19.6847\n",
            "4/4 [==============================] - 2s 129ms/step - loss: 48.3444 - MAE: 48.3444\n",
            "Test loss: 48.344398498535156\n",
            "Test MAE: 48.344398498535156\n"
          ]
        }
      ]
    },
    {
      "cell_type": "code",
      "source": [
        "plt.plot(history.history['loss'])\n",
        "plt.plot(history.history['val_loss'])\n",
        "plt.title('Model loss')\n",
        "plt.ylabel('Loss')\n",
        "plt.xlabel('Epoch')\n",
        "plt.legend(['Train', 'Validation'], loc='upper left')\n",
        "plt.show()"
      ],
      "metadata": {
        "colab": {
          "base_uri": "https://localhost:8080/",
          "height": 295
        },
        "id": "KzRYNoSgxTxX",
        "outputId": "2b8d9876-303c-41f6-bce6-fe517c759ab7"
      },
      "execution_count": 17,
      "outputs": [
        {
          "output_type": "display_data",
          "data": {
            "text/plain": [
              "<Figure size 432x288 with 1 Axes>"
            ],
            "image/png": "[encoded data removed]"
          },
          "metadata": {
            "needs_background": "light"
          }
        }
      ]
    },
    {
      "cell_type": "code",
      "source": [
        " \n",
        "from tensorflow.keras.applications.resnet_v2 import ResNet101V2\n",
        "\n",
        "base_model = ResNet101V2(weights='imagenet', include_top=False)\n",
        "input = Input(shape=(300,300,3),name='input1')\n",
        "input_gender = Input(shape=(1,),dtype='float32',name='input2')\n",
        "input_age = Input(shape=(2,115),dtype='float32',name='input3')\n",
        "data_augmentation = tf.keras.layers.RandomFlip(\"horizontal\")(input)\n",
        "data_augmentation = tf.keras.layers.RandomRotation( 0.2)(data_augmentation)\n",
        "output = base_model(data_augmentation)\n",
        "gender_embedding=Dense(32)(input_gender)\n",
        "sq = keras.layers.GlobalAveragePooling2D()(output)\n",
        "print (K.int_shape(sq))\n",
        "sq = keras.layers.Reshape((1,1,2048))(sq)\n",
        "sq = keras.layers.Dense(units=2048,activation=\"sigmoid\")(sq)\n",
        "block = keras.layers.multiply([output,sq])\n",
        "#fine Squeeze and Excitation 1\n",
        "\n",
        "net = keras.layers.add([output,block])\n",
        "net = keras.layers.BatchNormalization()(net)\n",
        "net = keras.layers.Activation(\"relu\")(net)\n",
        "net = keras.layers.MaxPooling2D(pool_size=(2, 2),name=\"block_1\")(net)\n",
        "print (K.int_shape(net))\n",
        "x = keras.layers.Conv2D(256,kernel_size=(3,3))(net)\n",
        "x = keras.layers.MaxPooling2D(pool_size=(2,2))(x)\n",
        "x=Flatten()(x)\n",
        "f = keras.layers.Concatenate(axis=1)([x,gender_embedding])\n",
        "f = Dense(512, activation='relu')(f)\n",
        "x =Dense(230,activation='linear')(f)\n",
        "y=Flatten()(input_age)\n",
        "print(y.shape)\n",
        "f = keras.layers.Multiply()([x,y])\n",
        "predictions=Dense(1)(f)\n",
        "\n",
        "model = Model(inputs=[input,input_gender,input_age], outputs=predictions)\n",
        "for i,layer in enumerate(model.layers):\n",
        "    print (i,layer.name)\n",
        "\n",
        "Adam=keras.optimizers.Adam(lr=0.0001,beta_1=0.9,beta_2=0.999)\n",
        "model.compile(optimizer=Adam, loss='mean_absolute_error', metrics=['MAE'])\n",
        "\n",
        "model.summary()\n",
        "\n",
        "\n",
        "checkpoint =keras.callbacks.ModelCheckpoint(filepath='weights_resseq.{epoch:02d}-{val_loss:.2f}.hdf5',save_weights_only=True,period=20)\n",
        "#model.fit_generator(DataGen.flow([x_train,gender_train,aget],y_train,batch_size=batch_size),steps_per_epoch=np.ceil(len(y_train)/batch_size),epochs=50,verbose=1,validation_data=([x_valid,gender_valid,agev],y_valid))\n",
        "history=model.fit([x_train,gender_train,aget],y_train,batch_size=4,epochs=20,verbose=1,validation_data=([x_valid,gender_valid,agev],y_valid),callbacks = [checkpoint])\n",
        "score = model.evaluate([x_test,gender_test,agev], y_test, batch_size=batch_size)\n",
        "print('Test loss:', score[0])\n",
        "print('Test MAE:', score[1])"
      ],
      "metadata": {
        "colab": {
          "base_uri": "https://localhost:8080/"
        },
        "id": "J5pEtZFvxt1G",
        "outputId": "b7bf46d2-1846-471c-ef72-14494636bddf"
      },
      "execution_count": 20,
      "outputs": [
        {
          "output_type": "stream",
          "name": "stdout",
          "text": [
            "(None, 2048)\n",
            "(None, 5, 5, 2048)\n",
            "(None, 230)\n",
            "0 input1\n",
            "1 random_flip_6\n",
            "2 random_rotation_6\n",
            "3 resnet101v2\n",
            "4 global_average_pooling2d_6\n",
            "5 reshape_6\n",
            "6 dense_19\n",
            "7 multiply_7\n",
            "8 add_4\n",
            "9 batch_normalization_692\n",
            "10 activation_692\n",
            "11 block_1\n",
            "12 conv2d_692\n",
            "13 max_pooling2d_30\n",
            "14 input2\n",
            "15 flatten_6\n",
            "16 dense_18\n",
            "17 concatenate_9\n",
            "18 dense_20\n",
            "19 input3\n",
            "20 dense_21\n",
            "21 flatten_7\n",
            "22 multiply_8\n",
            "23 dense_22\n",
            "Model: \"model_2\"\n",
            "__________________________________________________________________________________________________\n",
            " Layer (type)                   Output Shape         Param #     Connected to                     \n",
            "==================================================================================================\n",
            " input1 (InputLayer)            [(None, 300, 300, 3  0           []                               \n",
            "                                )]                                                                \n",
            "                                                                                                  \n",
            " random_flip_6 (RandomFlip)     (None, 300, 300, 3)  0           ['input1[0][0]']                 \n",
            "                                                                                                  \n",
            " random_rotation_6 (RandomRotat  (None, 300, 300, 3)  0          ['random_flip_6[0][0]']          \n",
            " ion)                                                                                             \n",
            "                                                                                                  \n",
            " resnet101v2 (Functional)       (None, None, None,   42626560    ['random_rotation_6[0][0]']      \n",
            "                                2048)                                                             \n",
            "                                                                                                  \n",
            " global_average_pooling2d_6 (Gl  (None, 2048)        0           ['resnet101v2[0][0]']            \n",
            " obalAveragePooling2D)                                                                            \n",
            "                                                                                                  \n",
            " reshape_6 (Reshape)            (None, 1, 1, 2048)   0           ['global_average_pooling2d_6[0][0\n",
            "                                                                 ]']                              \n",
            "                                                                                                  \n",
            " dense_19 (Dense)               (None, 1, 1, 2048)   4196352     ['reshape_6[0][0]']              \n",
            "                                                                                                  \n",
            " multiply_7 (Multiply)          (None, 10, 10, 2048  0           ['resnet101v2[0][0]',            \n",
            "                                )                                 'dense_19[0][0]']               \n",
            "                                                                                                  \n",
            " add_4 (Add)                    (None, 10, 10, 2048  0           ['resnet101v2[0][0]',            \n",
            "                                )                                 'multiply_7[0][0]']             \n",
            "                                                                                                  \n",
            " batch_normalization_692 (Batch  (None, 10, 10, 2048  8192       ['add_4[0][0]']                  \n",
            " Normalization)                 )                                                                 \n",
            "                                                                                                  \n",
            " activation_692 (Activation)    (None, 10, 10, 2048  0           ['batch_normalization_692[0][0]']\n",
            "                                )                                                                 \n",
            "                                                                                                  \n",
            " block_1 (MaxPooling2D)         (None, 5, 5, 2048)   0           ['activation_692[0][0]']         \n",
            "                                                                                                  \n",
            " conv2d_692 (Conv2D)            (None, 3, 3, 256)    4718848     ['block_1[0][0]']                \n",
            "                                                                                                  \n",
            " max_pooling2d_30 (MaxPooling2D  (None, 1, 1, 256)   0           ['conv2d_692[0][0]']             \n",
            " )                                                                                                \n",
            "                                                                                                  \n",
            " input2 (InputLayer)            [(None, 1)]          0           []                               \n",
            "                                                                                                  \n",
            " flatten_6 (Flatten)            (None, 256)          0           ['max_pooling2d_30[0][0]']       \n",
            "                                                                                                  \n",
            " dense_18 (Dense)               (None, 32)           64          ['input2[0][0]']                 \n",
            "                                                                                                  \n",
            " concatenate_9 (Concatenate)    (None, 288)          0           ['flatten_6[0][0]',              \n",
            "                                                                  'dense_18[0][0]']               \n",
            "                                                                                                  \n",
            " dense_20 (Dense)               (None, 512)          147968      ['concatenate_9[0][0]']          \n",
            "                                                                                                  \n",
            " input3 (InputLayer)            [(None, 2, 115)]     0           []                               \n",
            "                                                                                                  \n",
            " dense_21 (Dense)               (None, 230)          117990      ['dense_20[0][0]']               \n",
            "                                                                                                  \n",
            " flatten_7 (Flatten)            (None, 230)          0           ['input3[0][0]']                 \n",
            "                                                                                                  \n",
            " multiply_8 (Multiply)          (None, 230)          0           ['dense_21[0][0]',               \n",
            "                                                                  'flatten_7[0][0]']              \n",
            "                                                                                                  \n",
            " dense_22 (Dense)               (None, 1)            231         ['multiply_8[0][0]']             \n",
            "                                                                                                  \n",
            "==================================================================================================\n",
            "Total params: 51,816,205\n",
            "Trainable params: 51,714,445\n",
            "Non-trainable params: 101,760\n",
            "__________________________________________________________________________________________________\n"
          ]
        },
        {
          "output_type": "stream",
          "name": "stderr",
          "text": [
            "WARNING:tensorflow:`period` argument is deprecated. Please use `save_freq` to specify the frequency in number of batches seen.\n"
          ]
        },
        {
          "output_type": "stream",
          "name": "stdout",
          "text": [
            "Epoch 1/20\n",
            "322/322 [==============================] - 74s 186ms/step - loss: 105.2868 - MAE: 105.2868 - val_loss: 45.0694 - val_MAE: 45.0694\n",
            "Epoch 2/20\n",
            "322/322 [==============================] - 57s 177ms/step - loss: 45.6086 - MAE: 45.6086 - val_loss: 39.7460 - val_MAE: 39.7460\n",
            "Epoch 3/20\n",
            "322/322 [==============================] - 57s 179ms/step - loss: 36.1218 - MAE: 36.1218 - val_loss: 32.5356 - val_MAE: 32.5356\n",
            "Epoch 4/20\n",
            "322/322 [==============================] - 59s 184ms/step - loss: 31.9365 - MAE: 31.9365 - val_loss: 27.2490 - val_MAE: 27.2490\n",
            "Epoch 5/20\n",
            "322/322 [==============================] - 59s 184ms/step - loss: 30.4411 - MAE: 30.4411 - val_loss: 22.5835 - val_MAE: 22.5835\n",
            "Epoch 6/20\n",
            "322/322 [==============================] - 59s 183ms/step - loss: 24.7425 - MAE: 24.7425 - val_loss: 21.5499 - val_MAE: 21.5499\n",
            "Epoch 7/20\n",
            "322/322 [==============================] - 59s 184ms/step - loss: 24.5954 - MAE: 24.5954 - val_loss: 21.4884 - val_MAE: 21.4884\n",
            "Epoch 8/20\n",
            "322/322 [==============================] - 59s 183ms/step - loss: 22.3366 - MAE: 22.3366 - val_loss: 18.7349 - val_MAE: 18.7349\n",
            "Epoch 9/20\n",
            "322/322 [==============================] - 59s 184ms/step - loss: 20.1466 - MAE: 20.1466 - val_loss: 12.8943 - val_MAE: 12.8943\n",
            "Epoch 10/20\n",
            "322/322 [==============================] - 59s 183ms/step - loss: 19.3940 - MAE: 19.3940 - val_loss: 17.1855 - val_MAE: 17.1855\n",
            "Epoch 11/20\n",
            "322/322 [==============================] - 59s 183ms/step - loss: 18.2220 - MAE: 18.2220 - val_loss: 24.5926 - val_MAE: 24.5926\n",
            "Epoch 12/20\n",
            "322/322 [==============================] - 60s 185ms/step - loss: 17.6029 - MAE: 17.6029 - val_loss: 27.6514 - val_MAE: 27.6514\n",
            "Epoch 13/20\n",
            "322/322 [==============================] - 60s 186ms/step - loss: 16.9442 - MAE: 16.9442 - val_loss: 15.0473 - val_MAE: 15.0473\n",
            "Epoch 14/20\n",
            "322/322 [==============================] - 59s 183ms/step - loss: 17.4760 - MAE: 17.4760 - val_loss: 18.0347 - val_MAE: 18.0347\n",
            "Epoch 15/20\n",
            "322/322 [==============================] - 59s 182ms/step - loss: 16.2723 - MAE: 16.2723 - val_loss: 15.5780 - val_MAE: 15.5780\n",
            "Epoch 16/20\n",
            "322/322 [==============================] - 59s 183ms/step - loss: 16.5543 - MAE: 16.5543 - val_loss: 12.6123 - val_MAE: 12.6123\n",
            "Epoch 17/20\n",
            "322/322 [==============================] - 59s 182ms/step - loss: 15.0840 - MAE: 15.0840 - val_loss: 17.1154 - val_MAE: 17.1154\n",
            "Epoch 18/20\n",
            "322/322 [==============================] - 59s 182ms/step - loss: 15.3896 - MAE: 15.3896 - val_loss: 29.5732 - val_MAE: 29.5732\n",
            "Epoch 19/20\n",
            "322/322 [==============================] - 59s 182ms/step - loss: 15.4277 - MAE: 15.4277 - val_loss: 23.6376 - val_MAE: 23.6376\n",
            "Epoch 20/20\n",
            "322/322 [==============================] - 60s 186ms/step - loss: 15.5302 - MAE: 15.5302 - val_loss: 37.6163 - val_MAE: 37.6163\n",
            "4/4 [==============================] - 2s 113ms/step - loss: 35.8964 - MAE: 35.8964\n",
            "Test loss: 35.8963737487793\n",
            "Test MAE: 35.8963737487793\n"
          ]
        }
      ]
    },
    {
      "cell_type": "code",
      "source": [
        "plt.plot(history.history['loss'])\n",
        "plt.plot(history.history['val_loss'])\n",
        "plt.title('Model loss')\n",
        "plt.ylabel('Loss')\n",
        "plt.xlabel('Epoch')\n",
        "plt.legend(['Train', 'Validation'], loc='upper left')\n",
        "plt.show()"
      ],
      "metadata": {
        "colab": {
          "base_uri": "https://localhost:8080/",
          "height": 295
        },
        "id": "iTIC4rGKxcdE",
        "outputId": "89874134-41db-4967-a0e7-6a4f0553dcbd"
      },
      "execution_count": 21,
      "outputs": [
        {
          "output_type": "display_data",
          "data": {
            "text/plain": [
              "<Figure size 432x288 with 1 Axes>"
            ],
            "image/png": "[encoded data removed]"
          },
          "metadata": {
            "needs_background": "light"
          }
        }
      ]
    },
    {
      "cell_type": "code",
      "source": [
        "def spatial_attention(input_feature):\n",
        "  kernel_size = 7\n",
        "  kernel_initializer = tf.keras.initializers.variance_scaling()\n",
        "\n",
        "  avg_pool = tf.reduce_mean(input_feature, axis=[3], keepdims=True)\n",
        "  assert avg_pool.get_shape()[-1] == 1\n",
        "  max_pool = tf.reduce_max(input_feature, axis=[3], keepdims=True)\n",
        "  assert max_pool.get_shape()[-1] == 1\n",
        "  concat = tf.concat([avg_pool,max_pool], 3)\n",
        "  assert concat.get_shape()[-1] == 2\n",
        "\n",
        "  concat = Conv2D(\n",
        "                              filters=1,\n",
        "                              kernel_size=[kernel_size,kernel_size],\n",
        "                              strides=[1,1],\n",
        "                              padding=\"same\",\n",
        "                              activation=None,\n",
        "                              kernel_initializer=kernel_initializer,\n",
        "                              use_bias=False)(concat)\n",
        "  assert concat.get_shape()[-1] == 1\n",
        "  concat = tf.keras.activations.sigmoid(concat)\n",
        "    \n",
        "  return input_feature * concat"
      ],
      "metadata": {
        "id": "ecA50iBlx8_B"
      },
      "execution_count": 22,
      "outputs": []
    },
    {
      "cell_type": "code",
      "source": [
        "import tensorflow as tf\n",
        "\n",
        "base_model = InceptionV3(weights='imagenet', include_top=False)\n",
        "input = Input(shape=(300,300,3),name='input1')\n",
        "input_gender = Input(shape=(1,),dtype='float32',name='input2')\n",
        "input_age = Input(shape=(2,115),dtype='float32',name='input3')\n",
        "data_augmentation = tf.keras.layers.RandomFlip(\"horizontal\")(input)\n",
        "data_augmentation = tf.keras.layers.RandomRotation( 0.2)(data_augmentation)\n",
        "output = base_model(data_augmentation)\n",
        "gender_embedding=Dense(32)(input_gender)\n",
        "sq = keras.layers.GlobalAveragePooling2D()(output)\n",
        "print (K.int_shape(sq))\n",
        "sq = keras.layers.Reshape((1,1,2048))(sq)\n",
        "sq = keras.layers.Dense(units=2048,activation=\"sigmoid\")(sq)\n",
        "block = keras.layers.multiply([output,sq])\n",
        "#fine Squeeze and Excitation 1\n",
        "\n",
        "net = keras.layers.add([output,block])\n",
        "net = keras.layers.BatchNormalization()(net)\n",
        "net = keras.layers.Activation(\"relu\")(net)\n",
        "net = keras.layers.MaxPooling2D(pool_size=(2, 2),name=\"block_1\")(net)\n",
        "print (K.int_shape(net))\n",
        "x = keras.layers.Conv2D(256,kernel_size=(3,3))(net)\n",
        "x = keras.layers.MaxPooling2D(pool_size=(2,2))(x)\n",
        "x=Flatten()(x)\n",
        "f = keras.layers.Concatenate(axis=1)([x,gender_embedding])\n",
        "f = Dense(512, activation='relu')(f)\n",
        "x =Dense(230,activation='linear')(f)\n",
        "y=Flatten()(input_age)\n",
        "print(y.shape)\n",
        "f = keras.layers.Multiply()([x,y])\n",
        "predictions=Dense(1)(f)\n",
        "\n",
        "model = Model(inputs=[input,input_gender,input_age], outputs=predictions)\n",
        "for i,layer in enumerate(model.layers):\n",
        "    print (i,layer.name)\n",
        "\n",
        "Adam=keras.optimizers.Adam(lr=0.0001,beta_1=0.9,beta_2=0.999)\n",
        "model.compile(optimizer=Adam, loss='mean_absolute_error', metrics=['MAE'])\n",
        "\n",
        "model.summary()\n",
        "\n",
        "\n",
        "checkpoint =keras.callbacks.ModelCheckpoint(filepath='weights_invseq.{epoch:02d}-{val_loss:.2f}.hdf5',save_weights_only=True,period=20)\n",
        "#model.fit_generator(DataGen.flow([x_train,gender_train,aget],y_train,batch_size=batch_size),steps_per_epoch=np.ceil(len(y_train)/batch_size),epochs=50,verbose=1,validation_data=([x_valid,gender_valid,agev],y_valid))\n",
        "history=model.fit([x_train,gender_train,aget],y_train,batch_size=4,epochs=20,verbose=1,validation_data=([x_valid,gender_valid,agev],y_valid),callbacks = [checkpoint])\n",
        "score = model.evaluate([x_test,gender_test,agev], y_test, batch_size=batch_size)\n",
        "print('Test loss:', score[0])\n",
        "print('Test MAE:', score[1])"
      ],
      "metadata": {
        "id": "1KXHDSE_7Zlw"
      },
      "execution_count": null,
      "outputs": []
    }
  ]
}