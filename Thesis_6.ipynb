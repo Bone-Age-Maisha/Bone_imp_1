{
  "cells": [
    {
      "cell_type": "markdown",
      "metadata": {
        "id": "view-in-github",
        "colab_type": "text"
      },
      "source": [
        "<a href=\"https://colab.research.google.com/github/Bone-Age-Maisha/Bone_imp_1/blob/main/Thesis_6.ipynb\" target=\"_parent\"><img src=\"https://colab.research.google.com/assets/colab-badge.svg\" alt=\"Open In Colab\"/></a>"
      ]
    },
    {
      "cell_type": "code",
      "execution_count": null,
      "metadata": {
        "id": "ap3k1kdK6InP"
      },
      "outputs": [],
      "source": []
    },
    {
      "cell_type": "code",
      "execution_count": null,
      "metadata": {
        "colab": {
          "base_uri": "https://localhost:8080/"
        },
        "id": "n5U6Ce86oZ9f",
        "outputId": "3b865d03-a2c2-4420-a95e-60509c747c55"
      },
      "outputs": [
        {
          "output_type": "stream",
          "name": "stdout",
          "text": [
            "\n",
            "WARNING: apt does not have a stable CLI interface. Use with caution in scripts.\n",
            "\n",
            "debconf: unable to initialize frontend: Dialog\n",
            "debconf: (No usable dialog-like program is installed, so the dialog based frontend cannot be used. at /usr/share/perl5/Debconf/FrontEnd/Dialog.pm line 76, <> line 1.)\n",
            "debconf: falling back to frontend: Readline\n",
            "debconf: unable to initialize frontend: Readline\n",
            "debconf: (This frontend requires a controlling tty.)\n",
            "debconf: falling back to frontend: Teletype\n",
            "dpkg-preconfigure: unable to re-open stdin: \n",
            "/usr/bin/xdg-open: 869: www-browser: not found\n",
            "/usr/bin/xdg-open: 869: links2: not found\n",
            "/usr/bin/xdg-open: 869: elinks: not found\n",
            "/usr/bin/xdg-open: 869: links: not found\n",
            "/usr/bin/xdg-open: 869: lynx: not found\n",
            "/usr/bin/xdg-open: 869: w3m: not found\n",
            "xdg-open: no method available for opening 'https://accounts.google.com/o/oauth2/auth?client_id=564921029129.apps.googleusercontent.com&redirect_uri=https%3A%2F%2Fgd-ocaml-auth.appspot.com%2Foauth2callback&scope=https%3A%2F%2Fwww.googleapis.com%2Fauth%2Fdrive&response_type=code&access_type=offline&approval_prompt=force&state=iRPOaywYZXmCCZN0pJ%2FE6IKp%2F75GSNzf37OGhiUqL4Y'\n",
            "/bin/sh: 1: firefox: not found\n",
            "/bin/sh: 1: google-chrome: not found\n",
            "/bin/sh: 1: chromium-browser: not found\n",
            "/bin/sh: 1: open: not found\n",
            "Cannot retrieve auth tokens.\n",
            "Failure(\"Error opening URL:https://accounts.google.com/o/oauth2/auth?client_id=564921029129.apps.googleusercontent.com&redirect_uri=https%3A%2F%2Fgd-ocaml-auth.appspot.com%2Foauth2callback&scope=https%3A%2F%2Fwww.googleapis.com%2Fauth%2Fdrive&response_type=code&access_type=offline&approval_prompt=force&state=iRPOaywYZXmCCZN0pJ%2FE6IKp%2F75GSNzf37OGhiUqL4Y\")\n"
          ]
        }
      ],
      "source": [
        "!sudo add-apt-repository -y ppa:alessandro-strada/ppa 2>&1 > /dev/null\n",
        "!sudo apt-get update -qq 2>&1 > /dev/null\n",
        "!sudo apt -y install -qq google-drive-ocamlfuse 2>&1 > /dev/null\n",
        "!google-drive-ocamlfuse"
      ]
    },
    {
      "cell_type": "code",
      "execution_count": null,
      "metadata": {
        "colab": {
          "base_uri": "https://localhost:8080/"
        },
        "id": "Kw8flnraqYTZ",
        "outputId": "fd0f4d44-e5f8-4988-c9b2-13d7c7602366"
      },
      "outputs": [
        {
          "output_type": "stream",
          "name": "stdout",
          "text": [
            "debconf: unable to initialize frontend: Dialog\n",
            "debconf: (No usable dialog-like program is installed, so the dialog based frontend cannot be used. at /usr/share/perl5/Debconf/FrontEnd/Dialog.pm line 76, <> line 1.)\n",
            "debconf: falling back to frontend: Readline\n",
            "debconf: unable to initialize frontend: Readline\n",
            "debconf: (This frontend requires a controlling tty.)\n",
            "debconf: falling back to frontend: Teletype\n",
            "dpkg-preconfigure: unable to re-open stdin: \n",
            "Selecting previously unselected package w3m.\n",
            "(Reading database ... \r(Reading database ... 5%\r(Reading database ... 10%\r(Reading database ... 15%\r(Reading database ... 20%\r(Reading database ... 25%\r(Reading database ... 30%\r(Reading database ... 35%\r(Reading database ... 40%\r(Reading database ... 45%\r(Reading database ... 50%\r(Reading database ... 55%\r(Reading database ... 60%\r(Reading database ... 65%\r(Reading database ... 70%\r(Reading database ... 75%\r(Reading database ... 80%\r(Reading database ... 85%\r(Reading database ... 90%\r(Reading database ... 95%\r(Reading database ... 100%\r(Reading database ... 128053 files and directories currently installed.)\n",
            "Preparing to unpack .../w3m_0.5.3-37ubuntu0.1_amd64.deb ...\n",
            "Unpacking w3m (0.5.3-37ubuntu0.1) ...\n",
            "Setting up w3m (0.5.3-37ubuntu0.1) ...\n",
            "Processing triggers for man-db (2.9.1-1) ...\n",
            "Processing triggers for mime-support (3.64ubuntu1) ...\n",
            "/content\n",
            "/content/drive\n",
            "/content\n",
            "/\n",
            "Access token retrieved correctly.\n"
          ]
        }
      ],
      "source": [
        "!sudo apt-get install -qq w3m # to act as web browser \n",
        "!xdg-settings set default-web-browser w3m.desktop # to set default browser\n",
        "%cd /content\n",
        "!mkdir drive\n",
        "%cd drive\n",
        "!mkdir MyDrive\n",
        "%cd ..\n",
        "%cd ..\n",
        "!google-drive-ocamlfuse /content/drive/MyDrive"
      ]
    },
    {
      "cell_type": "code",
      "execution_count": null,
      "metadata": {
        "id": "55-WsEFVqbKq"
      },
      "outputs": [],
      "source": [
        "import numpy as np\n",
        "import cv2\n",
        "import os\n",
        "import pandas as pd"
      ]
    },
    {
      "cell_type": "code",
      "execution_count": null,
      "metadata": {
        "id": "k4qFjH4yqdge"
      },
      "outputs": [],
      "source": [
        "import pandas as pd\n",
        "train_dir = '/content/drive/MyDrive/RSNA/archive/boneage-training-dataset/boneage-training-dataset'\n",
        "df = pd.read_csv('/content/drive/MyDrive/RSNA/archive/boneage-training-dataset.csv')"
      ]
    },
    {
      "cell_type": "code",
      "execution_count": null,
      "metadata": {
        "id": "PS4VoWGrqhOr"
      },
      "outputs": [],
      "source": [
        "import os\n",
        "age_df = df \n",
        "age_df['path'] = age_df['id'].map(lambda x: os.path.join(train_dir,'{}.png'.format(x)))\n",
        "#age_df['exists'] = age_df['path'].map(os.path.exists)"
      ]
    },
    {
      "cell_type": "code",
      "execution_count": null,
      "metadata": {
        "id": "vnY3x1W6qio_"
      },
      "outputs": [],
      "source": [
        "age1=age_df\n"
      ]
    },
    {
      "cell_type": "code",
      "execution_count": null,
      "metadata": {
        "colab": {
          "base_uri": "https://localhost:8080/"
        },
        "id": "mgZKQd0Kqml-",
        "outputId": "4204884c-f7d9-4574-ba69-2d1ff79b02d4"
      },
      "outputs": [
        {
          "output_type": "execute_result",
          "data": {
            "text/plain": [
              "(160,)"
            ]
          },
          "metadata": {},
          "execution_count": 7
        }
      ],
      "source": [
        "ag=age1.boneage.unique()\n",
        "ag.shape"
      ]
    },
    {
      "cell_type": "code",
      "execution_count": null,
      "metadata": {
        "id": "A3pTz0Flqp-X"
      },
      "outputs": [],
      "source": [
        "age1.drop(df[(age1['male'] == False)].index, inplace=True)\n"
      ]
    },
    {
      "cell_type": "code",
      "execution_count": null,
      "metadata": {
        "colab": {
          "base_uri": "https://localhost:8080/",
          "height": 423
        },
        "id": "tihGN52Gqtiv",
        "outputId": "d923287e-5512-4823-96c8-e0366c541822"
      },
      "outputs": [
        {
          "output_type": "execute_result",
          "data": {
            "text/plain": [
              "          id  boneage  male                                               path\n",
              "3       1380      120  True  /content/drive/MyDrive/RSNA/archive/boneage-tr...\n",
              "5       1382      138  True  /content/drive/MyDrive/RSNA/archive/boneage-tr...\n",
              "6       1383      150  True  /content/drive/MyDrive/RSNA/archive/boneage-tr...\n",
              "7       1384      156  True  /content/drive/MyDrive/RSNA/archive/boneage-tr...\n",
              "8       1385       36  True  /content/drive/MyDrive/RSNA/archive/boneage-tr...\n",
              "...      ...      ...   ...                                                ...\n",
              "12599  15597      192  True  /content/drive/MyDrive/RSNA/archive/boneage-tr...\n",
              "12601  15599       36  True  /content/drive/MyDrive/RSNA/archive/boneage-tr...\n",
              "12605  15604      168  True  /content/drive/MyDrive/RSNA/archive/boneage-tr...\n",
              "12609  15609      150  True  /content/drive/MyDrive/RSNA/archive/boneage-tr...\n",
              "12610  15610      132  True  /content/drive/MyDrive/RSNA/archive/boneage-tr...\n",
              "\n",
              "[6833 rows x 4 columns]"
            ],
            "text/html": [
              "\n",
              "  <div id=\"df-29a8d718-f618-4120-a55c-35ce0e7b2d66\">\n",
              "    <div class=\"colab-df-container\">\n",
              "      <div>\n",
              "<style scoped>\n",
              "    .dataframe tbody tr th:only-of-type {\n",
              "        vertical-align: middle;\n",
              "    }\n",
              "\n",
              "    .dataframe tbody tr th {\n",
              "        vertical-align: top;\n",
              "    }\n",
              "\n",
              "    .dataframe thead th {\n",
              "        text-align: right;\n",
              "    }\n",
              "</style>\n",
              "<table border=\"1\" class=\"dataframe\">\n",
              "  <thead>\n",
              "    <tr style=\"text-align: right;\">\n",
              "      <th></th>\n",
              "      <th>id</th>\n",
              "      <th>boneage</th>\n",
              "      <th>male</th>\n",
              "      <th>path</th>\n",
              "    </tr>\n",
              "  </thead>\n",
              "  <tbody>\n",
              "    <tr>\n",
              "      <th>3</th>\n",
              "      <td>1380</td>\n",
              "      <td>120</td>\n",
              "      <td>True</td>\n",
              "      <td>/content/drive/MyDrive/RSNA/archive/boneage-tr...</td>\n",
              "    </tr>\n",
              "    <tr>\n",
              "      <th>5</th>\n",
              "      <td>1382</td>\n",
              "      <td>138</td>\n",
              "      <td>True</td>\n",
              "      <td>/content/drive/MyDrive/RSNA/archive/boneage-tr...</td>\n",
              "    </tr>\n",
              "    <tr>\n",
              "      <th>6</th>\n",
              "      <td>1383</td>\n",
              "      <td>150</td>\n",
              "      <td>True</td>\n",
              "      <td>/content/drive/MyDrive/RSNA/archive/boneage-tr...</td>\n",
              "    </tr>\n",
              "    <tr>\n",
              "      <th>7</th>\n",
              "      <td>1384</td>\n",
              "      <td>156</td>\n",
              "      <td>True</td>\n",
              "      <td>/content/drive/MyDrive/RSNA/archive/boneage-tr...</td>\n",
              "    </tr>\n",
              "    <tr>\n",
              "      <th>8</th>\n",
              "      <td>1385</td>\n",
              "      <td>36</td>\n",
              "      <td>True</td>\n",
              "      <td>/content/drive/MyDrive/RSNA/archive/boneage-tr...</td>\n",
              "    </tr>\n",
              "    <tr>\n",
              "      <th>...</th>\n",
              "      <td>...</td>\n",
              "      <td>...</td>\n",
              "      <td>...</td>\n",
              "      <td>...</td>\n",
              "    </tr>\n",
              "    <tr>\n",
              "      <th>12599</th>\n",
              "      <td>15597</td>\n",
              "      <td>192</td>\n",
              "      <td>True</td>\n",
              "      <td>/content/drive/MyDrive/RSNA/archive/boneage-tr...</td>\n",
              "    </tr>\n",
              "    <tr>\n",
              "      <th>12601</th>\n",
              "      <td>15599</td>\n",
              "      <td>36</td>\n",
              "      <td>True</td>\n",
              "      <td>/content/drive/MyDrive/RSNA/archive/boneage-tr...</td>\n",
              "    </tr>\n",
              "    <tr>\n",
              "      <th>12605</th>\n",
              "      <td>15604</td>\n",
              "      <td>168</td>\n",
              "      <td>True</td>\n",
              "      <td>/content/drive/MyDrive/RSNA/archive/boneage-tr...</td>\n",
              "    </tr>\n",
              "    <tr>\n",
              "      <th>12609</th>\n",
              "      <td>15609</td>\n",
              "      <td>150</td>\n",
              "      <td>True</td>\n",
              "      <td>/content/drive/MyDrive/RSNA/archive/boneage-tr...</td>\n",
              "    </tr>\n",
              "    <tr>\n",
              "      <th>12610</th>\n",
              "      <td>15610</td>\n",
              "      <td>132</td>\n",
              "      <td>True</td>\n",
              "      <td>/content/drive/MyDrive/RSNA/archive/boneage-tr...</td>\n",
              "    </tr>\n",
              "  </tbody>\n",
              "</table>\n",
              "<p>6833 rows × 4 columns</p>\n",
              "</div>\n",
              "      <button class=\"colab-df-convert\" onclick=\"convertToInteractive('df-29a8d718-f618-4120-a55c-35ce0e7b2d66')\"\n",
              "              title=\"Convert this dataframe to an interactive table.\"\n",
              "              style=\"display:none;\">\n",
              "        \n",
              "  <svg xmlns=\"http://www.w3.org/2000/svg\" height=\"24px\"viewBox=\"0 0 24 24\"\n",
              "       width=\"24px\">\n",
              "    <path d=\"M0 0h24v24H0V0z\" fill=\"none\"/>\n",
              "    <path d=\"M18.56 5.44l.94 2.06.94-2.06 2.06-.94-2.06-.94-.94-2.06-.94 2.06-2.06.94zm-11 1L8.5 8.5l.94-2.06 2.06-.94-2.06-.94L8.5 2.5l-.94 2.06-2.06.94zm10 10l.94 2.06.94-2.06 2.06-.94-2.06-.94-.94-2.06-.94 2.06-2.06.94z\"/><path d=\"M17.41 7.96l-1.37-1.37c-.4-.4-.92-.59-1.43-.59-.52 0-1.04.2-1.43.59L10.3 9.45l-7.72 7.72c-.78.78-.78 2.05 0 2.83L4 21.41c.39.39.9.59 1.41.59.51 0 1.02-.2 1.41-.59l7.78-7.78 2.81-2.81c.8-.78.8-2.07 0-2.86zM5.41 20L4 18.59l7.72-7.72 1.47 1.35L5.41 20z\"/>\n",
              "  </svg>\n",
              "      </button>\n",
              "      \n",
              "  <style>\n",
              "    .colab-df-container {\n",
              "      display:flex;\n",
              "      flex-wrap:wrap;\n",
              "      gap: 12px;\n",
              "    }\n",
              "\n",
              "    .colab-df-convert {\n",
              "      background-color: #E8F0FE;\n",
              "      border: none;\n",
              "      border-radius: 50%;\n",
              "      cursor: pointer;\n",
              "      display: none;\n",
              "      fill: #1967D2;\n",
              "      height: 32px;\n",
              "      padding: 0 0 0 0;\n",
              "      width: 32px;\n",
              "    }\n",
              "\n",
              "    .colab-df-convert:hover {\n",
              "      background-color: #E2EBFA;\n",
              "      box-shadow: 0px 1px 2px rgba(60, 64, 67, 0.3), 0px 1px 3px 1px rgba(60, 64, 67, 0.15);\n",
              "      fill: #174EA6;\n",
              "    }\n",
              "\n",
              "    [theme=dark] .colab-df-convert {\n",
              "      background-color: #3B4455;\n",
              "      fill: #D2E3FC;\n",
              "    }\n",
              "\n",
              "    [theme=dark] .colab-df-convert:hover {\n",
              "      background-color: #434B5C;\n",
              "      box-shadow: 0px 1px 3px 1px rgba(0, 0, 0, 0.15);\n",
              "      filter: drop-shadow(0px 1px 2px rgba(0, 0, 0, 0.3));\n",
              "      fill: #FFFFFF;\n",
              "    }\n",
              "  </style>\n",
              "\n",
              "      <script>\n",
              "        const buttonEl =\n",
              "          document.querySelector('#df-29a8d718-f618-4120-a55c-35ce0e7b2d66 button.colab-df-convert');\n",
              "        buttonEl.style.display =\n",
              "          google.colab.kernel.accessAllowed ? 'block' : 'none';\n",
              "\n",
              "        async function convertToInteractive(key) {\n",
              "          const element = document.querySelector('#df-29a8d718-f618-4120-a55c-35ce0e7b2d66');\n",
              "          const dataTable =\n",
              "            await google.colab.kernel.invokeFunction('convertToInteractive',\n",
              "                                                     [key], {});\n",
              "          if (!dataTable) return;\n",
              "\n",
              "          const docLinkHtml = 'Like what you see? Visit the ' +\n",
              "            '<a target=\"_blank\" href=https://colab.research.google.com/notebooks/data_table.ipynb>data table notebook</a>'\n",
              "            + ' to learn more about interactive tables.';\n",
              "          element.innerHTML = '';\n",
              "          dataTable['output_type'] = 'display_data';\n",
              "          await google.colab.output.renderOutput(dataTable, element);\n",
              "          const docLink = document.createElement('div');\n",
              "          docLink.innerHTML = docLinkHtml;\n",
              "          element.appendChild(docLink);\n",
              "        }\n",
              "      </script>\n",
              "    </div>\n",
              "  </div>\n",
              "  "
            ]
          },
          "metadata": {},
          "execution_count": 9
        }
      ],
      "source": [
        "age1\n"
      ]
    },
    {
      "cell_type": "code",
      "execution_count": null,
      "metadata": {
        "colab": {
          "base_uri": "https://localhost:8080/"
        },
        "id": "JLY06JDqqwhO",
        "outputId": "420d6503-0ea8-457a-abff-94360f7007df"
      },
      "outputs": [
        {
          "output_type": "execute_result",
          "data": {
            "text/plain": [
              "(131,)"
            ]
          },
          "metadata": {},
          "execution_count": 10
        }
      ],
      "source": [
        "ag=age1.boneage.unique()\n",
        "ag.shape"
      ]
    },
    {
      "cell_type": "code",
      "execution_count": null,
      "metadata": {
        "colab": {
          "base_uri": "https://localhost:8080/"
        },
        "id": "YuD03Fn0q0s3",
        "outputId": "58cfcc39-2700-40c8-ef97-abf4d005182e"
      },
      "outputs": [
        {
          "output_type": "execute_result",
          "data": {
            "text/plain": [
              "168    738\n",
              "156    725\n",
              "150    595\n",
              "162    491\n",
              "138    428\n",
              "      ... \n",
              "133      1\n",
              "33       1\n",
              "14       1\n",
              "130      1\n",
              "81       1\n",
              "Name: boneage, Length: 131, dtype: int64"
            ]
          },
          "metadata": {},
          "execution_count": 11
        }
      ],
      "source": [
        "age1['boneage'].value_counts()"
      ]
    },
    {
      "cell_type": "code",
      "execution_count": null,
      "metadata": {
        "id": "-sZWUL0Yq9ct"
      },
      "outputs": [],
      "source": [
        "points=age1.boneage.unique()"
      ]
    },
    {
      "cell_type": "code",
      "execution_count": null,
      "metadata": {
        "colab": {
          "base_uri": "https://localhost:8080/"
        },
        "id": "YCl-420wrAcF",
        "outputId": "ea1751bb-5edb-44bf-de97-e90ef7c8ac15"
      },
      "outputs": [
        {
          "output_type": "stream",
          "name": "stdout",
          "text": [
            "(131,)\n"
          ]
        },
        {
          "output_type": "execute_result",
          "data": {
            "text/plain": [
              "array([120, 138, 150, 156,  36, 180,  57, 126, 149,  78, 162,  88,  32,\n",
              "        54, 174,  33, 170, 108, 165,  60,  42,  21, 132,  90, 192,  84,\n",
              "        96, 216, 100,  72,  48, 139,  24,  69, 186,  13, 135, 146, 189,\n",
              "        12,  27, 144,  51, 102, 134, 168,  64, 129, 147,  14,  45,  28,\n",
              "       128, 210, 222,  66, 198, 200, 104,  80,   9, 114, 112, 204, 159,\n",
              "       154,  58,  67, 116, 101, 124,  56, 130, 158, 136, 228,  38, 164,\n",
              "       137,  15, 172,  18, 184, 143,  76, 169, 121, 214, 115,  75,  17,\n",
              "        34, 106, 151, 194, 177,  81, 105, 183, 152, 125, 176, 133, 153,\n",
              "        82, 141, 173, 196, 160, 118,  20,  62, 212,   1,  10,  63, 163,\n",
              "        87,  52, 182, 142, 179,  16,  93,  39,  40, 206,  37,  30, 161,\n",
              "        94])"
            ]
          },
          "metadata": {},
          "execution_count": 13
        }
      ],
      "source": [
        "\n",
        "print(points.shape)\n",
        "points"
      ]
    },
    {
      "cell_type": "code",
      "execution_count": null,
      "metadata": {
        "id": "yJKWYJZarC8m"
      },
      "outputs": [],
      "source": [
        "import numpy as np\n",
        "point=[]\n",
        "for i in range (131):\n",
        "  if((age1['boneage'].value_counts()[points[i]])<3):\n",
        "    point.append(points[i])\n",
        "  #print(df['boneage'].value_counts()[points[i]])\n",
        "point=np.asarray(point)"
      ]
    },
    {
      "cell_type": "code",
      "execution_count": null,
      "metadata": {
        "colab": {
          "base_uri": "https://localhost:8080/"
        },
        "id": "lWNOXLuGrFV5",
        "outputId": "4fcbdc9f-3c97-4444-f51a-1ca7be58d139"
      },
      "outputs": [
        {
          "output_type": "stream",
          "name": "stdout",
          "text": [
            "(63,)\n"
          ]
        },
        {
          "output_type": "execute_result",
          "data": {
            "text/plain": [
              "array([149,  88,  33, 139,  13,  64, 129,  14, 128, 222, 200, 104,  80,\n",
              "       112,  67, 116, 101,  56, 130, 136,  38, 137, 172, 143,  76, 169,\n",
              "       121, 214, 115,  17, 151, 194, 177,  81, 105, 152, 125, 133, 141,\n",
              "       173, 196, 160, 118,  20,  62, 212,   1,  10,  63, 163,  87,  52,\n",
              "       182, 142, 179,  16,  93,  40, 206,  37,  30, 161,  94])"
            ]
          },
          "metadata": {},
          "execution_count": 15
        }
      ],
      "source": [
        "\n",
        "\n",
        "print(point.shape)\n",
        "point"
      ]
    },
    {
      "cell_type": "code",
      "execution_count": null,
      "metadata": {
        "id": "Kc6IPGMCrHfR"
      },
      "outputs": [],
      "source": [
        "for t in range(3):\n",
        "  for i in range(63):\n",
        "    x=df.id[df.boneage == point[i]].tolist()[0]\n",
        "    y=df.boneage[df.boneage == point[i]].tolist()[0]\n",
        "    m=df.male[df.boneage == point[i]].tolist()[0]\n",
        "    z=df.path[df.boneage== point[i]].tolist()[0]\n",
        "    #y=df['boneage']\n",
        "    #m=df['male']\n",
        "    new_row = {'id': x, 'boneage':y, 'male':m , 'path':z}\n",
        "    age1 = age1.append(new_row, ignore_index=True)"
      ]
    },
    {
      "cell_type": "code",
      "execution_count": null,
      "metadata": {
        "colab": {
          "base_uri": "https://localhost:8080/"
        },
        "id": "fV6f32LZrIgG",
        "outputId": "f0ae0fd4-b24c-4079-b994-040c9da9052e"
      },
      "outputs": [
        {
          "output_type": "stream",
          "name": "stdout",
          "text": [
            "train 4476 validation 1054 1492\n"
          ]
        }
      ],
      "source": [
        "from sklearn.model_selection import train_test_split\n",
        "train_test1, valid1 = train_test_split(age1, \n",
        "                                   test_size = 0.15, \n",
        "                                   random_state = 2018,\n",
        "                                   stratify = age1['boneage'])\n",
        "#print('train', raw_train_df.shape[0], 'validation', valid_df.shape[0])\n",
        "train1, test1 = train_test_split(train_test1, \n",
        "                                   test_size = 0.25, \n",
        "                                   random_state = 2018,\n",
        "                                   stratify = train_test1['boneage'])\n",
        "print('train', train1.shape[0], 'validation', valid1.shape[0],test1.shape[0])"
      ]
    },
    {
      "cell_type": "code",
      "execution_count": null,
      "metadata": {
        "id": "ZMq20ZvJrMtw"
      },
      "outputs": [],
      "source": [
        "from keras.preprocessing.image import ImageDataGenerator\n",
        "IMG_SIZE = (256,256)\n",
        "core_idg = ImageDataGenerator(rotation_range=20,width_shift_range=0.15,height_shift_range=0.15,zoom_range=0.2,horizontal_flip=True)"
      ]
    },
    {
      "cell_type": "code",
      "execution_count": null,
      "metadata": {
        "id": "VT2BoTEIrOuB"
      },
      "outputs": [],
      "source": [
        "def flow_from_dataframe(img_data_gen, in_df, path_col, y_col, **dflow_args):\n",
        "    base_dir = os.path.dirname(in_df[path_col].values[0])\n",
        "    print('## Ignore next message from keras, values are replaced anyways')\n",
        "    df_gen = img_data_gen.flow_from_directory(base_dir, \n",
        "                                     class_mode = 'sparse',\n",
        "                                    **dflow_args)\n",
        "    df_gen.filenames = in_df[path_col].values\n",
        "    df_gen.filepaths.extend(df_gen.filenames)\n",
        "    df_gen.classes = np.stack(in_df[y_col].values)\n",
        "    df_gen.samples = in_df.shape[0]\n",
        "    df_gen.n = in_df.shape[0]\n",
        "    df_gen._set_index_array()\n",
        "    df_gen.directory = '' \n",
        "    gen=np.ones(df_gen.samples)\n",
        "    print('Reinserting dataframe: {} images'.format(in_df.shape[0]))\n",
        "    #print(df_gen.samples)\n",
        "    #yield (df_gen,gen)\n",
        "    return df_gen"
      ]
    },
    {
      "cell_type": "code",
      "execution_count": null,
      "metadata": {
        "colab": {
          "base_uri": "https://localhost:8080/"
        },
        "id": "3ehbj-forRq8",
        "outputId": "589630c5-5365-4057-f3ae-7c73dcbfcbaa"
      },
      "outputs": [
        {
          "output_type": "stream",
          "name": "stdout",
          "text": [
            "## Ignore next message from keras, values are replaced anyways\n",
            "Found 0 images belonging to 0 classes.\n",
            "Reinserting dataframe: 4476 images\n"
          ]
        }
      ],
      "source": [
        "train1_gen = flow_from_dataframe( core_idg, train1, \n",
        "                             path_col = 'path',\n",
        "                            y_col = 'boneage', \n",
        "                            target_size = IMG_SIZE,\n",
        "                             color_mode = 'rgb',\n",
        "                            batch_size = 4476)"
      ]
    },
    {
      "cell_type": "code",
      "execution_count": null,
      "metadata": {
        "colab": {
          "base_uri": "https://localhost:8080/"
        },
        "id": "ZpiyBRXErVi9",
        "outputId": "e44aec21-683f-40dd-e21c-a280127d2b8f"
      },
      "outputs": [
        {
          "output_type": "stream",
          "name": "stdout",
          "text": [
            "## Ignore next message from keras, values are replaced anyways\n",
            "Found 0 images belonging to 0 classes.\n",
            "Reinserting dataframe: 1054 images\n"
          ]
        }
      ],
      "source": [
        "\n",
        "valid1_gen = flow_from_dataframe(core_idg, valid1, \n",
        "                             path_col = 'path',\n",
        "                            y_col = 'boneage', \n",
        "                            target_size = IMG_SIZE,\n",
        "                             color_mode = 'rgb',\n",
        "                            batch_size = 1054) "
      ]
    },
    {
      "cell_type": "code",
      "execution_count": null,
      "metadata": {
        "id": "69Yn3csVrbYs"
      },
      "outputs": [],
      "source": [
        "\n",
        "testcore_idg = ImageDataGenerator(rotation_range=20,width_shift_range=0.15,height_shift_range=0.15,zoom_range=0.2,horizontal_flip=True)"
      ]
    },
    {
      "cell_type": "code",
      "execution_count": null,
      "metadata": {
        "colab": {
          "base_uri": "https://localhost:8080/"
        },
        "id": "W28W-_CjrcQG",
        "outputId": "5d022165-449c-4c76-f985-74486b1e5731"
      },
      "outputs": [
        {
          "output_type": "stream",
          "name": "stdout",
          "text": [
            "## Ignore next message from keras, values are replaced anyways\n",
            "Found 0 images belonging to 0 classes.\n",
            "Reinserting dataframe: 1492 images\n"
          ]
        }
      ],
      "source": [
        "test1_gen = flow_from_dataframe(testcore_idg, \n",
        "                              test1, \n",
        "                             path_col = 'path',\n",
        "                            y_col = 'boneage', \n",
        "                            target_size = IMG_SIZE,\n",
        "                             color_mode = 'rgb',\n",
        "                            batch_size = 1492)"
      ]
    },
    {
      "cell_type": "code",
      "execution_count": null,
      "metadata": {
        "id": "vg0Er9gusDXc"
      },
      "outputs": [],
      "source": [
        "train1_X, train1_Y = next(train1_gen)"
      ]
    },
    {
      "cell_type": "code",
      "execution_count": null,
      "metadata": {
        "id": "penlfojQsKRE"
      },
      "outputs": [],
      "source": [
        "valid1_X, valid1_Y = next(valid1_gen)"
      ]
    },
    {
      "cell_type": "code",
      "execution_count": null,
      "metadata": {
        "id": "WWAMFfhvsLiZ"
      },
      "outputs": [],
      "source": [
        "test1_X, test1_Y = next(test1_gen)"
      ]
    },
    {
      "cell_type": "code",
      "execution_count": null,
      "metadata": {
        "id": "h4ZPp2fG_f6U"
      },
      "outputs": [],
      "source": [
        "import pandas as pd\n",
        "train_dir = '/content/drive/MyDrive/RSNA/archive/boneage-training-dataset/boneage-training-dataset'\n",
        "df = pd.read_csv('/content/drive/MyDrive/RSNA/archive/boneage-training-dataset.csv')"
      ]
    },
    {
      "cell_type": "code",
      "execution_count": null,
      "metadata": {
        "id": "8SPN47Vl_f6X"
      },
      "outputs": [],
      "source": [
        "import os\n",
        "age_df = df \n",
        "age_df['path'] = age_df['id'].map(lambda x: os.path.join(train_dir,\n",
        "                                                         '{}.png'.format(x)))\n",
        "age_df['exists'] = age_df['path'].map(os.path.exists)"
      ]
    },
    {
      "cell_type": "code",
      "execution_count": null,
      "metadata": {
        "id": "L2n5Bpp8_f6Y"
      },
      "outputs": [],
      "source": [
        "age0=age_df"
      ]
    },
    {
      "cell_type": "code",
      "execution_count": null,
      "metadata": {
        "colab": {
          "base_uri": "https://localhost:8080/",
          "height": 423
        },
        "id": "eJkaXEGR_f6Y",
        "outputId": "ce9272d3-0364-485f-c547-d8942ac0982c"
      },
      "outputs": [
        {
          "output_type": "execute_result",
          "data": {
            "text/plain": [
              "          id  boneage   male  \\\n",
              "0       1377      180  False   \n",
              "1       1378       12  False   \n",
              "2       1379       94  False   \n",
              "3       1380      120   True   \n",
              "4       1381       82  False   \n",
              "...      ...      ...    ...   \n",
              "12606  15605       50  False   \n",
              "12607  15606      113  False   \n",
              "12608  15608       55  False   \n",
              "12609  15609      150   True   \n",
              "12610  15610      132   True   \n",
              "\n",
              "                                                    path  exists  \n",
              "0      /content/drive/MyDrive/RSNA/archive/boneage-tr...    True  \n",
              "1      /content/drive/MyDrive/RSNA/archive/boneage-tr...    True  \n",
              "2      /content/drive/MyDrive/RSNA/archive/boneage-tr...    True  \n",
              "3      /content/drive/MyDrive/RSNA/archive/boneage-tr...    True  \n",
              "4      /content/drive/MyDrive/RSNA/archive/boneage-tr...    True  \n",
              "...                                                  ...     ...  \n",
              "12606  /content/drive/MyDrive/RSNA/archive/boneage-tr...    True  \n",
              "12607  /content/drive/MyDrive/RSNA/archive/boneage-tr...    True  \n",
              "12608  /content/drive/MyDrive/RSNA/archive/boneage-tr...    True  \n",
              "12609  /content/drive/MyDrive/RSNA/archive/boneage-tr...    True  \n",
              "12610  /content/drive/MyDrive/RSNA/archive/boneage-tr...    True  \n",
              "\n",
              "[12611 rows x 5 columns]"
            ],
            "text/html": [
              "\n",
              "  <div id=\"df-2a5c7dfd-da0f-4653-9d77-31528bdddf6c\">\n",
              "    <div class=\"colab-df-container\">\n",
              "      <div>\n",
              "<style scoped>\n",
              "    .dataframe tbody tr th:only-of-type {\n",
              "        vertical-align: middle;\n",
              "    }\n",
              "\n",
              "    .dataframe tbody tr th {\n",
              "        vertical-align: top;\n",
              "    }\n",
              "\n",
              "    .dataframe thead th {\n",
              "        text-align: right;\n",
              "    }\n",
              "</style>\n",
              "<table border=\"1\" class=\"dataframe\">\n",
              "  <thead>\n",
              "    <tr style=\"text-align: right;\">\n",
              "      <th></th>\n",
              "      <th>id</th>\n",
              "      <th>boneage</th>\n",
              "      <th>male</th>\n",
              "      <th>path</th>\n",
              "      <th>exists</th>\n",
              "    </tr>\n",
              "  </thead>\n",
              "  <tbody>\n",
              "    <tr>\n",
              "      <th>0</th>\n",
              "      <td>1377</td>\n",
              "      <td>180</td>\n",
              "      <td>False</td>\n",
              "      <td>/content/drive/MyDrive/RSNA/archive/boneage-tr...</td>\n",
              "      <td>True</td>\n",
              "    </tr>\n",
              "    <tr>\n",
              "      <th>1</th>\n",
              "      <td>1378</td>\n",
              "      <td>12</td>\n",
              "      <td>False</td>\n",
              "      <td>/content/drive/MyDrive/RSNA/archive/boneage-tr...</td>\n",
              "      <td>True</td>\n",
              "    </tr>\n",
              "    <tr>\n",
              "      <th>2</th>\n",
              "      <td>1379</td>\n",
              "      <td>94</td>\n",
              "      <td>False</td>\n",
              "      <td>/content/drive/MyDrive/RSNA/archive/boneage-tr...</td>\n",
              "      <td>True</td>\n",
              "    </tr>\n",
              "    <tr>\n",
              "      <th>3</th>\n",
              "      <td>1380</td>\n",
              "      <td>120</td>\n",
              "      <td>True</td>\n",
              "      <td>/content/drive/MyDrive/RSNA/archive/boneage-tr...</td>\n",
              "      <td>True</td>\n",
              "    </tr>\n",
              "    <tr>\n",
              "      <th>4</th>\n",
              "      <td>1381</td>\n",
              "      <td>82</td>\n",
              "      <td>False</td>\n",
              "      <td>/content/drive/MyDrive/RSNA/archive/boneage-tr...</td>\n",
              "      <td>True</td>\n",
              "    </tr>\n",
              "    <tr>\n",
              "      <th>...</th>\n",
              "      <td>...</td>\n",
              "      <td>...</td>\n",
              "      <td>...</td>\n",
              "      <td>...</td>\n",
              "      <td>...</td>\n",
              "    </tr>\n",
              "    <tr>\n",
              "      <th>12606</th>\n",
              "      <td>15605</td>\n",
              "      <td>50</td>\n",
              "      <td>False</td>\n",
              "      <td>/content/drive/MyDrive/RSNA/archive/boneage-tr...</td>\n",
              "      <td>True</td>\n",
              "    </tr>\n",
              "    <tr>\n",
              "      <th>12607</th>\n",
              "      <td>15606</td>\n",
              "      <td>113</td>\n",
              "      <td>False</td>\n",
              "      <td>/content/drive/MyDrive/RSNA/archive/boneage-tr...</td>\n",
              "      <td>True</td>\n",
              "    </tr>\n",
              "    <tr>\n",
              "      <th>12608</th>\n",
              "      <td>15608</td>\n",
              "      <td>55</td>\n",
              "      <td>False</td>\n",
              "      <td>/content/drive/MyDrive/RSNA/archive/boneage-tr...</td>\n",
              "      <td>True</td>\n",
              "    </tr>\n",
              "    <tr>\n",
              "      <th>12609</th>\n",
              "      <td>15609</td>\n",
              "      <td>150</td>\n",
              "      <td>True</td>\n",
              "      <td>/content/drive/MyDrive/RSNA/archive/boneage-tr...</td>\n",
              "      <td>True</td>\n",
              "    </tr>\n",
              "    <tr>\n",
              "      <th>12610</th>\n",
              "      <td>15610</td>\n",
              "      <td>132</td>\n",
              "      <td>True</td>\n",
              "      <td>/content/drive/MyDrive/RSNA/archive/boneage-tr...</td>\n",
              "      <td>True</td>\n",
              "    </tr>\n",
              "  </tbody>\n",
              "</table>\n",
              "<p>12611 rows × 5 columns</p>\n",
              "</div>\n",
              "      <button class=\"colab-df-convert\" onclick=\"convertToInteractive('df-2a5c7dfd-da0f-4653-9d77-31528bdddf6c')\"\n",
              "              title=\"Convert this dataframe to an interactive table.\"\n",
              "              style=\"display:none;\">\n",
              "        \n",
              "  <svg xmlns=\"http://www.w3.org/2000/svg\" height=\"24px\"viewBox=\"0 0 24 24\"\n",
              "       width=\"24px\">\n",
              "    <path d=\"M0 0h24v24H0V0z\" fill=\"none\"/>\n",
              "    <path d=\"M18.56 5.44l.94 2.06.94-2.06 2.06-.94-2.06-.94-.94-2.06-.94 2.06-2.06.94zm-11 1L8.5 8.5l.94-2.06 2.06-.94-2.06-.94L8.5 2.5l-.94 2.06-2.06.94zm10 10l.94 2.06.94-2.06 2.06-.94-2.06-.94-.94-2.06-.94 2.06-2.06.94z\"/><path d=\"M17.41 7.96l-1.37-1.37c-.4-.4-.92-.59-1.43-.59-.52 0-1.04.2-1.43.59L10.3 9.45l-7.72 7.72c-.78.78-.78 2.05 0 2.83L4 21.41c.39.39.9.59 1.41.59.51 0 1.02-.2 1.41-.59l7.78-7.78 2.81-2.81c.8-.78.8-2.07 0-2.86zM5.41 20L4 18.59l7.72-7.72 1.47 1.35L5.41 20z\"/>\n",
              "  </svg>\n",
              "      </button>\n",
              "      \n",
              "  <style>\n",
              "    .colab-df-container {\n",
              "      display:flex;\n",
              "      flex-wrap:wrap;\n",
              "      gap: 12px;\n",
              "    }\n",
              "\n",
              "    .colab-df-convert {\n",
              "      background-color: #E8F0FE;\n",
              "      border: none;\n",
              "      border-radius: 50%;\n",
              "      cursor: pointer;\n",
              "      display: none;\n",
              "      fill: #1967D2;\n",
              "      height: 32px;\n",
              "      padding: 0 0 0 0;\n",
              "      width: 32px;\n",
              "    }\n",
              "\n",
              "    .colab-df-convert:hover {\n",
              "      background-color: #E2EBFA;\n",
              "      box-shadow: 0px 1px 2px rgba(60, 64, 67, 0.3), 0px 1px 3px 1px rgba(60, 64, 67, 0.15);\n",
              "      fill: #174EA6;\n",
              "    }\n",
              "\n",
              "    [theme=dark] .colab-df-convert {\n",
              "      background-color: #3B4455;\n",
              "      fill: #D2E3FC;\n",
              "    }\n",
              "\n",
              "    [theme=dark] .colab-df-convert:hover {\n",
              "      background-color: #434B5C;\n",
              "      box-shadow: 0px 1px 3px 1px rgba(0, 0, 0, 0.15);\n",
              "      filter: drop-shadow(0px 1px 2px rgba(0, 0, 0, 0.3));\n",
              "      fill: #FFFFFF;\n",
              "    }\n",
              "  </style>\n",
              "\n",
              "      <script>\n",
              "        const buttonEl =\n",
              "          document.querySelector('#df-2a5c7dfd-da0f-4653-9d77-31528bdddf6c button.colab-df-convert');\n",
              "        buttonEl.style.display =\n",
              "          google.colab.kernel.accessAllowed ? 'block' : 'none';\n",
              "\n",
              "        async function convertToInteractive(key) {\n",
              "          const element = document.querySelector('#df-2a5c7dfd-da0f-4653-9d77-31528bdddf6c');\n",
              "          const dataTable =\n",
              "            await google.colab.kernel.invokeFunction('convertToInteractive',\n",
              "                                                     [key], {});\n",
              "          if (!dataTable) return;\n",
              "\n",
              "          const docLinkHtml = 'Like what you see? Visit the ' +\n",
              "            '<a target=\"_blank\" href=https://colab.research.google.com/notebooks/data_table.ipynb>data table notebook</a>'\n",
              "            + ' to learn more about interactive tables.';\n",
              "          element.innerHTML = '';\n",
              "          dataTable['output_type'] = 'display_data';\n",
              "          await google.colab.output.renderOutput(dataTable, element);\n",
              "          const docLink = document.createElement('div');\n",
              "          docLink.innerHTML = docLinkHtml;\n",
              "          element.appendChild(docLink);\n",
              "        }\n",
              "      </script>\n",
              "    </div>\n",
              "  </div>\n",
              "  "
            ]
          },
          "metadata": {},
          "execution_count": 30
        }
      ],
      "source": [
        "age0"
      ]
    },
    {
      "cell_type": "code",
      "execution_count": null,
      "metadata": {
        "colab": {
          "base_uri": "https://localhost:8080/"
        },
        "id": "jZmYFjRo_f6Z",
        "outputId": "41cee49e-6276-44d4-b7b0-cab4a3639dfe"
      },
      "outputs": [
        {
          "output_type": "execute_result",
          "data": {
            "text/plain": [
              "(160,)"
            ]
          },
          "metadata": {},
          "execution_count": 31
        }
      ],
      "source": [
        "ag=age0.boneage.unique()\n",
        "ag.shape"
      ]
    },
    {
      "cell_type": "code",
      "execution_count": null,
      "metadata": {
        "id": "NSVq8Tpo_f6a"
      },
      "outputs": [],
      "source": [
        "age0.drop(df[(age0['male'] == True)].index, inplace=True)"
      ]
    },
    {
      "cell_type": "code",
      "execution_count": null,
      "metadata": {
        "colab": {
          "base_uri": "https://localhost:8080/",
          "height": 423
        },
        "id": "ekW-lTn3_f6d",
        "outputId": "f2584efe-0624-434d-a8fd-24afd401137c"
      },
      "outputs": [
        {
          "output_type": "execute_result",
          "data": {
            "text/plain": [
              "          id  boneage   male  \\\n",
              "0       1377      180  False   \n",
              "1       1378       12  False   \n",
              "2       1379       94  False   \n",
              "4       1381       82  False   \n",
              "10      1388      126  False   \n",
              "...      ...      ...    ...   \n",
              "12603  15602       82  False   \n",
              "12604  15603      106  False   \n",
              "12606  15605       50  False   \n",
              "12607  15606      113  False   \n",
              "12608  15608       55  False   \n",
              "\n",
              "                                                    path  exists  \n",
              "0      /content/drive/MyDrive/RSNA/archive/boneage-tr...    True  \n",
              "1      /content/drive/MyDrive/RSNA/archive/boneage-tr...    True  \n",
              "2      /content/drive/MyDrive/RSNA/archive/boneage-tr...    True  \n",
              "4      /content/drive/MyDrive/RSNA/archive/boneage-tr...    True  \n",
              "10     /content/drive/MyDrive/RSNA/archive/boneage-tr...    True  \n",
              "...                                                  ...     ...  \n",
              "12603  /content/drive/MyDrive/RSNA/archive/boneage-tr...    True  \n",
              "12604  /content/drive/MyDrive/RSNA/archive/boneage-tr...    True  \n",
              "12606  /content/drive/MyDrive/RSNA/archive/boneage-tr...    True  \n",
              "12607  /content/drive/MyDrive/RSNA/archive/boneage-tr...    True  \n",
              "12608  /content/drive/MyDrive/RSNA/archive/boneage-tr...    True  \n",
              "\n",
              "[5778 rows x 5 columns]"
            ],
            "text/html": [
              "\n",
              "  <div id=\"df-26fe5d53-b5a4-4569-9703-4fe255bf568d\">\n",
              "    <div class=\"colab-df-container\">\n",
              "      <div>\n",
              "<style scoped>\n",
              "    .dataframe tbody tr th:only-of-type {\n",
              "        vertical-align: middle;\n",
              "    }\n",
              "\n",
              "    .dataframe tbody tr th {\n",
              "        vertical-align: top;\n",
              "    }\n",
              "\n",
              "    .dataframe thead th {\n",
              "        text-align: right;\n",
              "    }\n",
              "</style>\n",
              "<table border=\"1\" class=\"dataframe\">\n",
              "  <thead>\n",
              "    <tr style=\"text-align: right;\">\n",
              "      <th></th>\n",
              "      <th>id</th>\n",
              "      <th>boneage</th>\n",
              "      <th>male</th>\n",
              "      <th>path</th>\n",
              "      <th>exists</th>\n",
              "    </tr>\n",
              "  </thead>\n",
              "  <tbody>\n",
              "    <tr>\n",
              "      <th>0</th>\n",
              "      <td>1377</td>\n",
              "      <td>180</td>\n",
              "      <td>False</td>\n",
              "      <td>/content/drive/MyDrive/RSNA/archive/boneage-tr...</td>\n",
              "      <td>True</td>\n",
              "    </tr>\n",
              "    <tr>\n",
              "      <th>1</th>\n",
              "      <td>1378</td>\n",
              "      <td>12</td>\n",
              "      <td>False</td>\n",
              "      <td>/content/drive/MyDrive/RSNA/archive/boneage-tr...</td>\n",
              "      <td>True</td>\n",
              "    </tr>\n",
              "    <tr>\n",
              "      <th>2</th>\n",
              "      <td>1379</td>\n",
              "      <td>94</td>\n",
              "      <td>False</td>\n",
              "      <td>/content/drive/MyDrive/RSNA/archive/boneage-tr...</td>\n",
              "      <td>True</td>\n",
              "    </tr>\n",
              "    <tr>\n",
              "      <th>4</th>\n",
              "      <td>1381</td>\n",
              "      <td>82</td>\n",
              "      <td>False</td>\n",
              "      <td>/content/drive/MyDrive/RSNA/archive/boneage-tr...</td>\n",
              "      <td>True</td>\n",
              "    </tr>\n",
              "    <tr>\n",
              "      <th>10</th>\n",
              "      <td>1388</td>\n",
              "      <td>126</td>\n",
              "      <td>False</td>\n",
              "      <td>/content/drive/MyDrive/RSNA/archive/boneage-tr...</td>\n",
              "      <td>True</td>\n",
              "    </tr>\n",
              "    <tr>\n",
              "      <th>...</th>\n",
              "      <td>...</td>\n",
              "      <td>...</td>\n",
              "      <td>...</td>\n",
              "      <td>...</td>\n",
              "      <td>...</td>\n",
              "    </tr>\n",
              "    <tr>\n",
              "      <th>12603</th>\n",
              "      <td>15602</td>\n",
              "      <td>82</td>\n",
              "      <td>False</td>\n",
              "      <td>/content/drive/MyDrive/RSNA/archive/boneage-tr...</td>\n",
              "      <td>True</td>\n",
              "    </tr>\n",
              "    <tr>\n",
              "      <th>12604</th>\n",
              "      <td>15603</td>\n",
              "      <td>106</td>\n",
              "      <td>False</td>\n",
              "      <td>/content/drive/MyDrive/RSNA/archive/boneage-tr...</td>\n",
              "      <td>True</td>\n",
              "    </tr>\n",
              "    <tr>\n",
              "      <th>12606</th>\n",
              "      <td>15605</td>\n",
              "      <td>50</td>\n",
              "      <td>False</td>\n",
              "      <td>/content/drive/MyDrive/RSNA/archive/boneage-tr...</td>\n",
              "      <td>True</td>\n",
              "    </tr>\n",
              "    <tr>\n",
              "      <th>12607</th>\n",
              "      <td>15606</td>\n",
              "      <td>113</td>\n",
              "      <td>False</td>\n",
              "      <td>/content/drive/MyDrive/RSNA/archive/boneage-tr...</td>\n",
              "      <td>True</td>\n",
              "    </tr>\n",
              "    <tr>\n",
              "      <th>12608</th>\n",
              "      <td>15608</td>\n",
              "      <td>55</td>\n",
              "      <td>False</td>\n",
              "      <td>/content/drive/MyDrive/RSNA/archive/boneage-tr...</td>\n",
              "      <td>True</td>\n",
              "    </tr>\n",
              "  </tbody>\n",
              "</table>\n",
              "<p>5778 rows × 5 columns</p>\n",
              "</div>\n",
              "      <button class=\"colab-df-convert\" onclick=\"convertToInteractive('df-26fe5d53-b5a4-4569-9703-4fe255bf568d')\"\n",
              "              title=\"Convert this dataframe to an interactive table.\"\n",
              "              style=\"display:none;\">\n",
              "        \n",
              "  <svg xmlns=\"http://www.w3.org/2000/svg\" height=\"24px\"viewBox=\"0 0 24 24\"\n",
              "       width=\"24px\">\n",
              "    <path d=\"M0 0h24v24H0V0z\" fill=\"none\"/>\n",
              "    <path d=\"M18.56 5.44l.94 2.06.94-2.06 2.06-.94-2.06-.94-.94-2.06-.94 2.06-2.06.94zm-11 1L8.5 8.5l.94-2.06 2.06-.94-2.06-.94L8.5 2.5l-.94 2.06-2.06.94zm10 10l.94 2.06.94-2.06 2.06-.94-2.06-.94-.94-2.06-.94 2.06-2.06.94z\"/><path d=\"M17.41 7.96l-1.37-1.37c-.4-.4-.92-.59-1.43-.59-.52 0-1.04.2-1.43.59L10.3 9.45l-7.72 7.72c-.78.78-.78 2.05 0 2.83L4 21.41c.39.39.9.59 1.41.59.51 0 1.02-.2 1.41-.59l7.78-7.78 2.81-2.81c.8-.78.8-2.07 0-2.86zM5.41 20L4 18.59l7.72-7.72 1.47 1.35L5.41 20z\"/>\n",
              "  </svg>\n",
              "      </button>\n",
              "      \n",
              "  <style>\n",
              "    .colab-df-container {\n",
              "      display:flex;\n",
              "      flex-wrap:wrap;\n",
              "      gap: 12px;\n",
              "    }\n",
              "\n",
              "    .colab-df-convert {\n",
              "      background-color: #E8F0FE;\n",
              "      border: none;\n",
              "      border-radius: 50%;\n",
              "      cursor: pointer;\n",
              "      display: none;\n",
              "      fill: #1967D2;\n",
              "      height: 32px;\n",
              "      padding: 0 0 0 0;\n",
              "      width: 32px;\n",
              "    }\n",
              "\n",
              "    .colab-df-convert:hover {\n",
              "      background-color: #E2EBFA;\n",
              "      box-shadow: 0px 1px 2px rgba(60, 64, 67, 0.3), 0px 1px 3px 1px rgba(60, 64, 67, 0.15);\n",
              "      fill: #174EA6;\n",
              "    }\n",
              "\n",
              "    [theme=dark] .colab-df-convert {\n",
              "      background-color: #3B4455;\n",
              "      fill: #D2E3FC;\n",
              "    }\n",
              "\n",
              "    [theme=dark] .colab-df-convert:hover {\n",
              "      background-color: #434B5C;\n",
              "      box-shadow: 0px 1px 3px 1px rgba(0, 0, 0, 0.15);\n",
              "      filter: drop-shadow(0px 1px 2px rgba(0, 0, 0, 0.3));\n",
              "      fill: #FFFFFF;\n",
              "    }\n",
              "  </style>\n",
              "\n",
              "      <script>\n",
              "        const buttonEl =\n",
              "          document.querySelector('#df-26fe5d53-b5a4-4569-9703-4fe255bf568d button.colab-df-convert');\n",
              "        buttonEl.style.display =\n",
              "          google.colab.kernel.accessAllowed ? 'block' : 'none';\n",
              "\n",
              "        async function convertToInteractive(key) {\n",
              "          const element = document.querySelector('#df-26fe5d53-b5a4-4569-9703-4fe255bf568d');\n",
              "          const dataTable =\n",
              "            await google.colab.kernel.invokeFunction('convertToInteractive',\n",
              "                                                     [key], {});\n",
              "          if (!dataTable) return;\n",
              "\n",
              "          const docLinkHtml = 'Like what you see? Visit the ' +\n",
              "            '<a target=\"_blank\" href=https://colab.research.google.com/notebooks/data_table.ipynb>data table notebook</a>'\n",
              "            + ' to learn more about interactive tables.';\n",
              "          element.innerHTML = '';\n",
              "          dataTable['output_type'] = 'display_data';\n",
              "          await google.colab.output.renderOutput(dataTable, element);\n",
              "          const docLink = document.createElement('div');\n",
              "          docLink.innerHTML = docLinkHtml;\n",
              "          element.appendChild(docLink);\n",
              "        }\n",
              "      </script>\n",
              "    </div>\n",
              "  </div>\n",
              "  "
            ]
          },
          "metadata": {},
          "execution_count": 33
        }
      ],
      "source": [
        "age0"
      ]
    },
    {
      "cell_type": "code",
      "execution_count": null,
      "metadata": {
        "colab": {
          "base_uri": "https://localhost:8080/"
        },
        "id": "757QL8zO_f6e",
        "outputId": "f8126652-d817-4faa-acd1-662f18fe8ec3"
      },
      "outputs": [
        {
          "output_type": "execute_result",
          "data": {
            "text/plain": [
              "(110,)"
            ]
          },
          "metadata": {},
          "execution_count": 34
        }
      ],
      "source": [
        "ag=age0.boneage.unique()\n",
        "ag.shape"
      ]
    },
    {
      "cell_type": "code",
      "execution_count": null,
      "metadata": {
        "colab": {
          "base_uri": "https://localhost:8080/"
        },
        "id": "ehftfPKb_f6e",
        "outputId": "7035024e-6706-4c71-85af-8b8382b71e74"
      },
      "outputs": [
        {
          "output_type": "execute_result",
          "data": {
            "text/plain": [
              "132    689\n",
              "120    635\n",
              "144    542\n",
              "94     490\n",
              "106    474\n",
              "      ... \n",
              "121      1\n",
              "139      1\n",
              "49       1\n",
              "74       1\n",
              "43       1\n",
              "Name: boneage, Length: 110, dtype: int64"
            ]
          },
          "metadata": {},
          "execution_count": 35
        }
      ],
      "source": [
        "age0['boneage'].value_counts()"
      ]
    },
    {
      "cell_type": "code",
      "execution_count": null,
      "metadata": {
        "id": "y_zJN3YI_f6f"
      },
      "outputs": [],
      "source": [
        "points=age0.boneage.unique()"
      ]
    },
    {
      "cell_type": "code",
      "execution_count": null,
      "metadata": {
        "colab": {
          "base_uri": "https://localhost:8080/"
        },
        "id": "LdGDEkDD_f6f",
        "outputId": "57bc6b9a-6def-469d-8e1a-9f9bba30d13a"
      },
      "outputs": [
        {
          "output_type": "stream",
          "name": "stdout",
          "text": [
            "(110,)\n"
          ]
        },
        {
          "output_type": "execute_result",
          "data": {
            "text/plain": [
              "array([180,  12,  94,  82, 126, 132, 120, 188,   4,  36,  24,  60, 159,\n",
              "       106,  30,  33, 156,  88, 162, 144,  27, 113, 136,  42, 150,  69,\n",
              "        50,  21,  84, 138, 140, 100, 168, 174,  90, 192,  39, 165, 104,\n",
              "        18,  86, 153, 110,  55,  54, 186,  64, 109, 148,  13, 102, 118,\n",
              "         9, 139, 111, 123,  29, 210, 117, 108, 169, 166, 130, 112, 137,\n",
              "       204,  15,  78, 163, 125,  74,  96,  75, 114,  91, 135,  87,  16,\n",
              "       128, 152,  72,  32, 197, 171, 167, 121, 115, 216,  49,  67, 101,\n",
              "        10, 147, 164,   6, 160, 183,  76,  48,  70,  46, 198, 107,  81,\n",
              "        45,  65, 103,  77,  62,  43])"
            ]
          },
          "metadata": {},
          "execution_count": 37
        }
      ],
      "source": [
        "print(points.shape)\n",
        "points"
      ]
    },
    {
      "cell_type": "code",
      "execution_count": null,
      "metadata": {
        "id": "566_Y_QH_f6g"
      },
      "outputs": [],
      "source": [
        "import numpy as np\n",
        "point=[]\n",
        "for i in range (110):\n",
        "  if((age0['boneage'].value_counts()[points[i]])<3):\n",
        "    point.append(points[i])\n",
        "  #print(df['boneage'].value_counts()[points[i]])\n",
        "point=np.asarray(point)"
      ]
    },
    {
      "cell_type": "code",
      "execution_count": null,
      "metadata": {
        "colab": {
          "base_uri": "https://localhost:8080/"
        },
        "id": "ltInz4xw_f6g",
        "outputId": "9d8b7714-2914-43e4-b187-037c489d5b07"
      },
      "outputs": [
        {
          "output_type": "stream",
          "name": "stdout",
          "text": [
            "(51,)\n"
          ]
        },
        {
          "output_type": "execute_result",
          "data": {
            "text/plain": [
              "array([188,   4, 104,  86, 153, 110, 109, 148,  13, 102, 118,   9, 139,\n",
              "       111, 123,  29, 210, 117, 108, 169, 166, 130,  78, 163,  74,  91,\n",
              "       135,  87,  16, 128,  32, 197, 171, 167, 121,  49,  67, 101,  10,\n",
              "       164,   6, 160, 183, 107,  81,  45,  65, 103,  77,  62,  43])"
            ]
          },
          "metadata": {},
          "execution_count": 39
        }
      ],
      "source": [
        "print(point.shape)\n",
        "point"
      ]
    },
    {
      "cell_type": "code",
      "execution_count": null,
      "metadata": {
        "id": "mEdGRxPM_f6h"
      },
      "outputs": [],
      "source": [
        "for t in range(3):\n",
        "  for i in range(51):\n",
        "    x=df.id[df.boneage == point[i]].tolist()[0]\n",
        "    y=df.boneage[df.boneage == point[i]].tolist()[0]\n",
        "    m=df.male[df.boneage == point[i]].tolist()[0]\n",
        "    z=df.path[df.boneage== point[i]].tolist()[0]\n",
        "    #y=df['boneage']\n",
        "    #m=df['male']\n",
        "    new_row = {'id': x, 'boneage':y, 'male':m , 'path':z}\n",
        "    age0= age0.append(new_row, ignore_index=True)"
      ]
    },
    {
      "cell_type": "code",
      "execution_count": null,
      "metadata": {
        "colab": {
          "base_uri": "https://localhost:8080/",
          "height": 423
        },
        "id": "CZRdBg1W_f6h",
        "outputId": "4968728f-9123-426d-f19f-bfc9972ba767"
      },
      "outputs": [
        {
          "output_type": "execute_result",
          "data": {
            "text/plain": [
              "         id  boneage   male  \\\n",
              "0      1377      180  False   \n",
              "1      1378       12  False   \n",
              "2      1379       94  False   \n",
              "3      1381       82  False   \n",
              "4      1388      126  False   \n",
              "...     ...      ...    ...   \n",
              "5926  11112       65  False   \n",
              "5927  12621      103  False   \n",
              "5928  12799       77  False   \n",
              "5929  13097       62  False   \n",
              "5930  13125       43  False   \n",
              "\n",
              "                                                   path  exists  \n",
              "0     /content/drive/MyDrive/RSNA/archive/boneage-tr...     1.0  \n",
              "1     /content/drive/MyDrive/RSNA/archive/boneage-tr...     1.0  \n",
              "2     /content/drive/MyDrive/RSNA/archive/boneage-tr...     1.0  \n",
              "3     /content/drive/MyDrive/RSNA/archive/boneage-tr...     1.0  \n",
              "4     /content/drive/MyDrive/RSNA/archive/boneage-tr...     1.0  \n",
              "...                                                 ...     ...  \n",
              "5926  /content/drive/MyDrive/RSNA/archive/boneage-tr...     NaN  \n",
              "5927  /content/drive/MyDrive/RSNA/archive/boneage-tr...     NaN  \n",
              "5928  /content/drive/MyDrive/RSNA/archive/boneage-tr...     NaN  \n",
              "5929  /content/drive/MyDrive/RSNA/archive/boneage-tr...     NaN  \n",
              "5930  /content/drive/MyDrive/RSNA/archive/boneage-tr...     NaN  \n",
              "\n",
              "[5931 rows x 5 columns]"
            ],
            "text/html": [
              "\n",
              "  <div id=\"df-ae3a6842-b19c-4d39-a8fd-b94feb60d7e4\">\n",
              "    <div class=\"colab-df-container\">\n",
              "      <div>\n",
              "<style scoped>\n",
              "    .dataframe tbody tr th:only-of-type {\n",
              "        vertical-align: middle;\n",
              "    }\n",
              "\n",
              "    .dataframe tbody tr th {\n",
              "        vertical-align: top;\n",
              "    }\n",
              "\n",
              "    .dataframe thead th {\n",
              "        text-align: right;\n",
              "    }\n",
              "</style>\n",
              "<table border=\"1\" class=\"dataframe\">\n",
              "  <thead>\n",
              "    <tr style=\"text-align: right;\">\n",
              "      <th></th>\n",
              "      <th>id</th>\n",
              "      <th>boneage</th>\n",
              "      <th>male</th>\n",
              "      <th>path</th>\n",
              "      <th>exists</th>\n",
              "    </tr>\n",
              "  </thead>\n",
              "  <tbody>\n",
              "    <tr>\n",
              "      <th>0</th>\n",
              "      <td>1377</td>\n",
              "      <td>180</td>\n",
              "      <td>False</td>\n",
              "      <td>/content/drive/MyDrive/RSNA/archive/boneage-tr...</td>\n",
              "      <td>1.0</td>\n",
              "    </tr>\n",
              "    <tr>\n",
              "      <th>1</th>\n",
              "      <td>1378</td>\n",
              "      <td>12</td>\n",
              "      <td>False</td>\n",
              "      <td>/content/drive/MyDrive/RSNA/archive/boneage-tr...</td>\n",
              "      <td>1.0</td>\n",
              "    </tr>\n",
              "    <tr>\n",
              "      <th>2</th>\n",
              "      <td>1379</td>\n",
              "      <td>94</td>\n",
              "      <td>False</td>\n",
              "      <td>/content/drive/MyDrive/RSNA/archive/boneage-tr...</td>\n",
              "      <td>1.0</td>\n",
              "    </tr>\n",
              "    <tr>\n",
              "      <th>3</th>\n",
              "      <td>1381</td>\n",
              "      <td>82</td>\n",
              "      <td>False</td>\n",
              "      <td>/content/drive/MyDrive/RSNA/archive/boneage-tr...</td>\n",
              "      <td>1.0</td>\n",
              "    </tr>\n",
              "    <tr>\n",
              "      <th>4</th>\n",
              "      <td>1388</td>\n",
              "      <td>126</td>\n",
              "      <td>False</td>\n",
              "      <td>/content/drive/MyDrive/RSNA/archive/boneage-tr...</td>\n",
              "      <td>1.0</td>\n",
              "    </tr>\n",
              "    <tr>\n",
              "      <th>...</th>\n",
              "      <td>...</td>\n",
              "      <td>...</td>\n",
              "      <td>...</td>\n",
              "      <td>...</td>\n",
              "      <td>...</td>\n",
              "    </tr>\n",
              "    <tr>\n",
              "      <th>5926</th>\n",
              "      <td>11112</td>\n",
              "      <td>65</td>\n",
              "      <td>False</td>\n",
              "      <td>/content/drive/MyDrive/RSNA/archive/boneage-tr...</td>\n",
              "      <td>NaN</td>\n",
              "    </tr>\n",
              "    <tr>\n",
              "      <th>5927</th>\n",
              "      <td>12621</td>\n",
              "      <td>103</td>\n",
              "      <td>False</td>\n",
              "      <td>/content/drive/MyDrive/RSNA/archive/boneage-tr...</td>\n",
              "      <td>NaN</td>\n",
              "    </tr>\n",
              "    <tr>\n",
              "      <th>5928</th>\n",
              "      <td>12799</td>\n",
              "      <td>77</td>\n",
              "      <td>False</td>\n",
              "      <td>/content/drive/MyDrive/RSNA/archive/boneage-tr...</td>\n",
              "      <td>NaN</td>\n",
              "    </tr>\n",
              "    <tr>\n",
              "      <th>5929</th>\n",
              "      <td>13097</td>\n",
              "      <td>62</td>\n",
              "      <td>False</td>\n",
              "      <td>/content/drive/MyDrive/RSNA/archive/boneage-tr...</td>\n",
              "      <td>NaN</td>\n",
              "    </tr>\n",
              "    <tr>\n",
              "      <th>5930</th>\n",
              "      <td>13125</td>\n",
              "      <td>43</td>\n",
              "      <td>False</td>\n",
              "      <td>/content/drive/MyDrive/RSNA/archive/boneage-tr...</td>\n",
              "      <td>NaN</td>\n",
              "    </tr>\n",
              "  </tbody>\n",
              "</table>\n",
              "<p>5931 rows × 5 columns</p>\n",
              "</div>\n",
              "      <button class=\"colab-df-convert\" onclick=\"convertToInteractive('df-ae3a6842-b19c-4d39-a8fd-b94feb60d7e4')\"\n",
              "              title=\"Convert this dataframe to an interactive table.\"\n",
              "              style=\"display:none;\">\n",
              "        \n",
              "  <svg xmlns=\"http://www.w3.org/2000/svg\" height=\"24px\"viewBox=\"0 0 24 24\"\n",
              "       width=\"24px\">\n",
              "    <path d=\"M0 0h24v24H0V0z\" fill=\"none\"/>\n",
              "    <path d=\"M18.56 5.44l.94 2.06.94-2.06 2.06-.94-2.06-.94-.94-2.06-.94 2.06-2.06.94zm-11 1L8.5 8.5l.94-2.06 2.06-.94-2.06-.94L8.5 2.5l-.94 2.06-2.06.94zm10 10l.94 2.06.94-2.06 2.06-.94-2.06-.94-.94-2.06-.94 2.06-2.06.94z\"/><path d=\"M17.41 7.96l-1.37-1.37c-.4-.4-.92-.59-1.43-.59-.52 0-1.04.2-1.43.59L10.3 9.45l-7.72 7.72c-.78.78-.78 2.05 0 2.83L4 21.41c.39.39.9.59 1.41.59.51 0 1.02-.2 1.41-.59l7.78-7.78 2.81-2.81c.8-.78.8-2.07 0-2.86zM5.41 20L4 18.59l7.72-7.72 1.47 1.35L5.41 20z\"/>\n",
              "  </svg>\n",
              "      </button>\n",
              "      \n",
              "  <style>\n",
              "    .colab-df-container {\n",
              "      display:flex;\n",
              "      flex-wrap:wrap;\n",
              "      gap: 12px;\n",
              "    }\n",
              "\n",
              "    .colab-df-convert {\n",
              "      background-color: #E8F0FE;\n",
              "      border: none;\n",
              "      border-radius: 50%;\n",
              "      cursor: pointer;\n",
              "      display: none;\n",
              "      fill: #1967D2;\n",
              "      height: 32px;\n",
              "      padding: 0 0 0 0;\n",
              "      width: 32px;\n",
              "    }\n",
              "\n",
              "    .colab-df-convert:hover {\n",
              "      background-color: #E2EBFA;\n",
              "      box-shadow: 0px 1px 2px rgba(60, 64, 67, 0.3), 0px 1px 3px 1px rgba(60, 64, 67, 0.15);\n",
              "      fill: #174EA6;\n",
              "    }\n",
              "\n",
              "    [theme=dark] .colab-df-convert {\n",
              "      background-color: #3B4455;\n",
              "      fill: #D2E3FC;\n",
              "    }\n",
              "\n",
              "    [theme=dark] .colab-df-convert:hover {\n",
              "      background-color: #434B5C;\n",
              "      box-shadow: 0px 1px 3px 1px rgba(0, 0, 0, 0.15);\n",
              "      filter: drop-shadow(0px 1px 2px rgba(0, 0, 0, 0.3));\n",
              "      fill: #FFFFFF;\n",
              "    }\n",
              "  </style>\n",
              "\n",
              "      <script>\n",
              "        const buttonEl =\n",
              "          document.querySelector('#df-ae3a6842-b19c-4d39-a8fd-b94feb60d7e4 button.colab-df-convert');\n",
              "        buttonEl.style.display =\n",
              "          google.colab.kernel.accessAllowed ? 'block' : 'none';\n",
              "\n",
              "        async function convertToInteractive(key) {\n",
              "          const element = document.querySelector('#df-ae3a6842-b19c-4d39-a8fd-b94feb60d7e4');\n",
              "          const dataTable =\n",
              "            await google.colab.kernel.invokeFunction('convertToInteractive',\n",
              "                                                     [key], {});\n",
              "          if (!dataTable) return;\n",
              "\n",
              "          const docLinkHtml = 'Like what you see? Visit the ' +\n",
              "            '<a target=\"_blank\" href=https://colab.research.google.com/notebooks/data_table.ipynb>data table notebook</a>'\n",
              "            + ' to learn more about interactive tables.';\n",
              "          element.innerHTML = '';\n",
              "          dataTable['output_type'] = 'display_data';\n",
              "          await google.colab.output.renderOutput(dataTable, element);\n",
              "          const docLink = document.createElement('div');\n",
              "          docLink.innerHTML = docLinkHtml;\n",
              "          element.appendChild(docLink);\n",
              "        }\n",
              "      </script>\n",
              "    </div>\n",
              "  </div>\n",
              "  "
            ]
          },
          "metadata": {},
          "execution_count": 41
        }
      ],
      "source": [
        "age0"
      ]
    },
    {
      "cell_type": "code",
      "execution_count": null,
      "metadata": {
        "colab": {
          "base_uri": "https://localhost:8080/"
        },
        "id": "6OLfe12Qlto-",
        "outputId": "5b93b1fd-7145-4477-b518-a867bc946bcb"
      },
      "outputs": [
        {
          "output_type": "stream",
          "name": "stdout",
          "text": [
            "train 3320 validation 1187 1424\n"
          ]
        }
      ],
      "source": [
        "from sklearn.model_selection import train_test_split\n",
        "train_test0, valid0 = train_test_split(age0, \n",
        "                                   test_size = 0.2, \n",
        "                                   random_state = 2018,\n",
        "                                   stratify = age0['boneage'])\n",
        "#print('train', raw_train_df.shape[0], 'validation', valid_df.shape[0])\n",
        "train0, test0 = train_test_split(train_test0, \n",
        "                                   test_size = 0.3, \n",
        "                                   random_state = 2018,\n",
        "                                   stratify = train_test0['boneage'])\n",
        "print('train', train0.shape[0], 'validation', valid0.shape[0],test0.shape[0])"
      ]
    },
    {
      "cell_type": "code",
      "execution_count": null,
      "metadata": {
        "colab": {
          "base_uri": "https://localhost:8080/"
        },
        "id": "neq1ir7ylto_",
        "outputId": "258bd247-3920-49f0-83c0-cae6a413e95d"
      },
      "outputs": [
        {
          "output_type": "stream",
          "name": "stdout",
          "text": [
            "## Ignore next message from keras, values are replaced anyways\n",
            "Found 0 images belonging to 0 classes.\n",
            "Reinserting dataframe: 3320 images\n"
          ]
        }
      ],
      "source": [
        "train0_gen = flow_from_dataframe( core_idg, train0, \n",
        "                             path_col = 'path',\n",
        "                            y_col = 'boneage', \n",
        "                            target_size = IMG_SIZE,\n",
        "                             color_mode = 'rgb',\n",
        "                            batch_size = 3320)"
      ]
    },
    {
      "cell_type": "code",
      "execution_count": null,
      "metadata": {
        "colab": {
          "base_uri": "https://localhost:8080/"
        },
        "id": "OzomkT1ZltpA",
        "outputId": "01e01b6d-cd9f-4c2f-ee2b-bdd77fdd3408"
      },
      "outputs": [
        {
          "output_type": "stream",
          "name": "stdout",
          "text": [
            "## Ignore next message from keras, values are replaced anyways\n",
            "Found 0 images belonging to 0 classes.\n",
            "Reinserting dataframe: 1187 images\n"
          ]
        }
      ],
      "source": [
        "valid0_gen = flow_from_dataframe(core_idg, valid0, \n",
        "                             path_col = 'path',\n",
        "                            y_col = 'boneage', \n",
        "                            target_size = IMG_SIZE,\n",
        "                             color_mode = 'rgb',\n",
        "                            batch_size = 1187) "
      ]
    },
    {
      "cell_type": "code",
      "execution_count": null,
      "metadata": {
        "id": "Aw2JaZZwltpA"
      },
      "outputs": [],
      "source": [
        "\n",
        "testcore_idg = ImageDataGenerator(rotation_range=20,width_shift_range=0.15,height_shift_range=0.15,zoom_range=0.2,horizontal_flip=True)"
      ]
    },
    {
      "cell_type": "code",
      "execution_count": null,
      "metadata": {
        "colab": {
          "base_uri": "https://localhost:8080/"
        },
        "id": "Bu7kCWNYltpB",
        "outputId": "13f1d9a7-2dcc-455a-e5a3-ba0373941905"
      },
      "outputs": [
        {
          "output_type": "stream",
          "name": "stdout",
          "text": [
            "## Ignore next message from keras, values are replaced anyways\n",
            "Found 0 images belonging to 0 classes.\n",
            "Reinserting dataframe: 1424 images\n"
          ]
        }
      ],
      "source": [
        "test0_gen = flow_from_dataframe(testcore_idg, \n",
        "                              test0, \n",
        "                             path_col = 'path',\n",
        "                            y_col = 'boneage', \n",
        "                            target_size = IMG_SIZE,\n",
        "                             color_mode = 'rgb',\n",
        "                            batch_size = 1424)"
      ]
    },
    {
      "cell_type": "code",
      "execution_count": null,
      "metadata": {
        "id": "6XxaEBd5ltpC"
      },
      "outputs": [],
      "source": [
        "train0_X, train0_Y = next(train0_gen)"
      ]
    },
    {
      "cell_type": "code",
      "execution_count": null,
      "metadata": {
        "id": "RDhVkpIBltpC",
        "colab": {
          "base_uri": "https://localhost:8080/"
        },
        "outputId": "46748f39-0ee0-43cc-bcd7-1dd244fd0ccc"
      },
      "outputs": [
        {
          "data": {
            "text/plain": [
              "(3320, 256, 256, 3)"
            ]
          },
          "execution_count": 48,
          "metadata": {},
          "output_type": "execute_result"
        }
      ],
      "source": [
        "train0_X.shape"
      ]
    },
    {
      "cell_type": "code",
      "execution_count": null,
      "metadata": {
        "id": "KWlRIzOkx7Dx"
      },
      "outputs": [],
      "source": [
        "train_x=[]\n",
        "train_y=[]\n",
        "train_gen=[]\n",
        "i=0\n",
        "for k in range(332):\n",
        "  for j in range(10):\n",
        "    train_x.append(train1_X[i])\n",
        "    train_y.append(train1_Y[i])\n",
        "    train_gen.append(1)\n",
        "    train_x.append(train0_X[i])\n",
        "    train_y.append(train0_Y[i])\n",
        "    train_gen.append(0)\n",
        "    i=i+1\n",
        "\n",
        "del train0_X\n",
        "del train0_Y\n",
        "i=3320\n",
        "for k in range(1156):\n",
        "  train_x.append(train1_X[i])\n",
        "  train_y.append(train1_Y[i])\n",
        "  train_gen.append(1)\n",
        "  i=i+1\n",
        "del train1_X\n",
        "del train1_Y"
      ]
    },
    {
      "cell_type": "code",
      "execution_count": null,
      "metadata": {
        "id": "0Amo32uq_Pl1"
      },
      "outputs": [],
      "source": [
        "train_x=np.asarray(train_x)\n",
        "train_x=train_x/255\n",
        "train_y=np.asarray(train_y)\n",
        "train_gen=np.asarray(train_gen)"
      ]
    },
    {
      "cell_type": "code",
      "execution_count": null,
      "metadata": {
        "id": "-xcDDZsvltpD"
      },
      "outputs": [],
      "source": [
        "valid0_X, valid0_Y = next(valid0_gen)"
      ]
    },
    {
      "cell_type": "code",
      "execution_count": null,
      "metadata": {
        "id": "Oc0hn0VeltpD"
      },
      "outputs": [],
      "source": [
        "valid0_X.shape"
      ]
    },
    {
      "cell_type": "code",
      "execution_count": null,
      "metadata": {
        "id": "f6x2PtQazOqz"
      },
      "outputs": [],
      "source": [
        "valid_x=[]\n",
        "valid_y=[]\n",
        "valid_gen=[]\n",
        "i=0\n",
        "for k in range(62):\n",
        "  for j in range(17):\n",
        "    valid_x.append(valid1_X[i])\n",
        "    valid_y.append(valid1_Y[i])\n",
        "    valid_gen.append(1)\n",
        "    valid_x.append(valid0_X[i])\n",
        "    valid_y.append(valid0_Y[i])\n",
        "    valid_gen.append(0)\n",
        "    i=i+1\n",
        "del valid1_X\n",
        "del valid1_Y\n",
        "i=1054\n",
        "for k in range(133):\n",
        "  valid_x.append(valid0_X[i])\n",
        "  valid_y.append(valid0_Y[i])\n",
        "  valid_gen.append(0)\n",
        "  i=i+1\n",
        "del valid0_X\n",
        "del valid0_Y"
      ]
    },
    {
      "cell_type": "code",
      "execution_count": null,
      "metadata": {
        "id": "xnSq2nAQ_XJd"
      },
      "outputs": [],
      "source": [
        "valid_x=np.asarray(valid_x)\n",
        "valid_x=valid_x/255\n",
        "valid_y=np.asarray(valid_y)\n",
        "valid_gen=np.asarray(valid_gen)"
      ]
    },
    {
      "cell_type": "code",
      "execution_count": null,
      "metadata": {
        "id": "ChATCHw-ltpE"
      },
      "outputs": [],
      "source": [
        "test0_X, test0_Y = next(test0_gen)"
      ]
    },
    {
      "cell_type": "code",
      "execution_count": null,
      "metadata": {
        "id": "Jz5uNv-kltpF",
        "colab": {
          "base_uri": "https://localhost:8080/",
          "height": 165
        },
        "outputId": "b7514122-e00f-4f28-b8d6-0b4d4e274792"
      },
      "outputs": [
        {
          "output_type": "error",
          "ename": "NameError",
          "evalue": "ignored",
          "traceback": [
            "\u001b[0;31m---------------------------------------------------------------------------\u001b[0m",
            "\u001b[0;31mNameError\u001b[0m                                 Traceback (most recent call last)",
            "\u001b[0;32m<ipython-input-63-83e95a7a4c94>\u001b[0m in \u001b[0;36m<module>\u001b[0;34m\u001b[0m\n\u001b[0;32m----> 1\u001b[0;31m \u001b[0mtest0_X\u001b[0m\u001b[0;34m.\u001b[0m\u001b[0mshape\u001b[0m\u001b[0;34m\u001b[0m\u001b[0;34m\u001b[0m\u001b[0m\n\u001b[0m",
            "\u001b[0;31mNameError\u001b[0m: name 'test0_X' is not defined"
          ]
        }
      ],
      "source": [
        "test0_X.shape"
      ]
    },
    {
      "cell_type": "code",
      "execution_count": null,
      "metadata": {
        "id": "dx-q7Ukkzy2V"
      },
      "outputs": [],
      "source": [
        "test_x=[]\n",
        "test_y=[]\n",
        "test_gen=[]\n",
        "i=0\n",
        "for k in range(89):\n",
        "  for j in range(16):\n",
        "    test_x.append(test1_X[i])\n",
        "    test_y.append(test1_Y[i])\n",
        "    test_gen.append(1)\n",
        "    test_x.append(test0_X[i])\n",
        "    test_y.append(test0_Y[i])\n",
        "    test_gen.append(0)\n",
        "    i=i+1\n",
        "\n",
        "del test0_X\n",
        "del test0_Y\n",
        "i=1424\n",
        "for j in range(68):\n",
        "  test_x.append(test1_X[i])\n",
        "  test_y.append(test1_Y[i])\n",
        "  test_gen.append(1)\n",
        "  i=i+1\n",
        "del test1_X\n",
        "del test1_Y"
      ]
    },
    {
      "cell_type": "code",
      "execution_count": null,
      "metadata": {
        "id": "tpCPkoXh_qid"
      },
      "outputs": [],
      "source": [
        "test_x=np.asarray(test_x)\n",
        "test_x=test_x/255\n",
        "test_y=np.asarray(test_y)\n",
        "test_gen=np.asarray(test_gen)"
      ]
    },
    {
      "cell_type": "code",
      "execution_count": null,
      "metadata": {
        "id": "2A4yFegzBAzR"
      },
      "outputs": [],
      "source": [
        "from tensorflow.keras.applications.resnet50 import ResNet50\n",
        "from keras.applications.vgg19 import VGG19\n",
        "from keras.applications.inception_v3 import InceptionV3\n",
        "from keras.applications.xception import Xception\n",
        "from keras.preprocessing import image\n",
        "from keras.models import Model, load_model\n",
        "from keras.layers import Flatten, Dense, Input, Reshape, Lambda,Conv2D\n",
        "from tensorflow.keras import regularizers\n",
        "import tensorflow as tf\n",
        "from keras import backend as K\n",
        "import pickle\n",
        "import numpy as np\n",
        "import matplotlib.pyplot as plt\n",
        "import keras\n",
        "#from func_utils import *\n",
        "import os\n",
        "#os.environ[\"CUDA_VISIBLE_DEVICES\"]=\"2\"\n",
        "#os.environ['OMP_NUM_THREADS']='6'\n",
        "batch_size = 1\n",
        "epochs = 30"
      ]
    },
    {
      "cell_type": "code",
      "execution_count": null,
      "metadata": {
        "id": "Y56h7nOevB6I",
        "colab": {
          "base_uri": "https://localhost:8080/"
        },
        "outputId": "28f896e5-fbd9-4f2f-e25a-ed30145fa68b"
      },
      "outputs": [
        {
          "output_type": "stream",
          "name": "stderr",
          "text": [
            "WARNING:absl:`lr` is deprecated, please use `learning_rate` instead, or use the legacy optimizer, e.g.,tf.keras.optimizers.legacy.Adam.\n"
          ]
        },
        {
          "output_type": "stream",
          "name": "stdout",
          "text": [
            "(None, 6, 6, 2048)\n",
            "(None, 1, 1, 2048)\n",
            "(None, 2080)\n",
            "Model: \"model_1\"\n",
            "__________________________________________________________________________________________________\n",
            " Layer (type)                   Output Shape         Param #     Connected to                     \n",
            "==================================================================================================\n",
            " input1 (InputLayer)            [(None, 256, 256, 3  0           []                               \n",
            "                                )]                                                                \n",
            "                                                                                                  \n",
            " inception_v3 (Functional)      (None, None, None,   21802784    ['input1[0][0]']                 \n",
            "                                2048)                                                             \n",
            "                                                                                                  \n",
            " global_average_pooling2d_1 (Gl  (None, 2048)        0           ['inception_v3[0][0]']           \n",
            " obalAveragePooling2D)                                                                            \n",
            "                                                                                                  \n",
            " reshape_1 (Reshape)            (None, 1, 1, 2048)   0           ['global_average_pooling2d_1[0][0\n",
            "                                                                 ]']                              \n",
            "                                                                                                  \n",
            " dense_4 (Dense)                (None, 1, 1, 2048)   4196352     ['reshape_1[0][0]']              \n",
            "                                                                                                  \n",
            " multiply_1 (Multiply)          (None, 6, 6, 2048)   0           ['inception_v3[0][0]',           \n",
            "                                                                  'dense_4[0][0]']                \n",
            "                                                                                                  \n",
            " add_1 (Add)                    (None, 6, 6, 2048)   0           ['inception_v3[0][0]',           \n",
            "                                                                  'multiply_1[0][0]']             \n",
            "                                                                                                  \n",
            " batch_normalization_189 (Batch  (None, 6, 6, 2048)  8192        ['add_1[0][0]']                  \n",
            " Normalization)                                                                                   \n",
            "                                                                                                  \n",
            " activation_189 (Activation)    (None, 6, 6, 2048)   0           ['batch_normalization_189[0][0]']\n",
            "                                                                                                  \n",
            " block_1 (MaxPooling2D)         (None, 3, 3, 2048)   0           ['activation_189[0][0]']         \n",
            "                                                                                                  \n",
            " max_pooling2d_9 (MaxPooling2D)  (None, 1, 1, 2048)  0           ['block_1[0][0]']                \n",
            "                                                                                                  \n",
            " input2 (InputLayer)            [(None, 1)]          0           []                               \n",
            "                                                                                                  \n",
            " flatten_1 (Flatten)            (None, 2048)         0           ['max_pooling2d_9[0][0]']        \n",
            "                                                                                                  \n",
            " dense_3 (Dense)                (None, 32)           64          ['input2[0][0]']                 \n",
            "                                                                                                  \n",
            " concatenate_5 (Concatenate)    (None, 2080)         0           ['flatten_1[0][0]',              \n",
            "                                                                  'dense_3[0][0]']                \n",
            "                                                                                                  \n",
            " dense_5 (Dense)                (None, 1)            2081        ['concatenate_5[0][0]']          \n",
            "                                                                                                  \n",
            "==================================================================================================\n",
            "Total params: 26,009,473\n",
            "Trainable params: 25,970,945\n",
            "Non-trainable params: 38,528\n",
            "__________________________________________________________________________________________________\n"
          ]
        },
        {
          "output_type": "stream",
          "name": "stderr",
          "text": [
            "WARNING:tensorflow:`period` argument is deprecated. Please use `save_freq` to specify the frequency in number of batches seen.\n",
            "<ipython-input-64-b03c83fa4d17>:52: UserWarning: `Model.fit_generator` is deprecated and will be removed in a future version. Please use `Model.fit`, which supports generators.\n",
            "  history = model.fit_generator(DataGen.flow([train_x,train_gen],train_y,batch_size=64),steps_per_epoch=np.ceil(len(train_y)/64),epochs=100,verbose=1,validation_data=([valid_x,valid_gen],valid_y))\n"
          ]
        },
        {
          "output_type": "stream",
          "name": "stdout",
          "text": [
            "Epoch 1/100\n",
            "122/122 [==============================] - 146s 939ms/step - loss: 41.5620 - MAE: 23.4480 - val_loss: 57.4854 - val_MAE: 57.4078\n",
            "Epoch 2/100\n",
            "122/122 [==============================] - 110s 894ms/step - loss: 16.0511 - MAE: 16.0077 - val_loss: 19.2428 - val_MAE: 19.2142\n",
            "Epoch 3/100\n",
            "122/122 [==============================] - 110s 898ms/step - loss: 14.0753 - MAE: 14.0326 - val_loss: 30.6132 - val_MAE: 30.5603\n",
            "Epoch 4/100\n",
            "122/122 [==============================] - 110s 898ms/step - loss: 12.5010 - MAE: 12.4543 - val_loss: 13.7086 - val_MAE: 13.6789\n",
            "Epoch 5/100\n",
            "122/122 [==============================] - 110s 895ms/step - loss: 11.9776 - MAE: 11.9296 - val_loss: 13.9043 - val_MAE: 13.8653\n",
            "Epoch 6/100\n",
            "122/122 [==============================] - 110s 895ms/step - loss: 11.1760 - MAE: 11.1234 - val_loss: 11.4872 - val_MAE: 11.4455\n",
            "Epoch 7/100\n",
            "122/122 [==============================] - 109s 889ms/step - loss: 10.9266 - MAE: 10.8774 - val_loss: 11.8660 - val_MAE: 11.8357\n",
            "Epoch 8/100\n",
            "122/122 [==============================] - 108s 878ms/step - loss: 10.2561 - MAE: 10.2140 - val_loss: 12.4933 - val_MAE: 12.4502\n",
            "Epoch 9/100\n",
            "122/122 [==============================] - 108s 882ms/step - loss: 10.1474 - MAE: 10.1038 - val_loss: 11.4062 - val_MAE: 11.3779\n",
            "Epoch 10/100\n",
            "122/122 [==============================] - 108s 881ms/step - loss: 10.2289 - MAE: 10.1888 - val_loss: 10.2265 - val_MAE: 10.1987\n",
            "Epoch 11/100\n",
            "122/122 [==============================] - 108s 885ms/step - loss: 9.7923 - MAE: 9.7562 - val_loss: 11.9163 - val_MAE: 11.8837\n",
            "Epoch 12/100\n",
            "122/122 [==============================] - 108s 882ms/step - loss: 9.9543 - MAE: 9.9091 - val_loss: 15.0753 - val_MAE: 15.0348\n",
            "Epoch 13/100\n",
            "122/122 [==============================] - 105s 860ms/step - loss: 9.7191 - MAE: 9.6756 - val_loss: 15.1489 - val_MAE: 15.1246\n",
            "Epoch 14/100\n",
            "122/122 [==============================] - 108s 879ms/step - loss: 9.7309 - MAE: 9.6990 - val_loss: 11.2924 - val_MAE: 11.2502\n",
            "Epoch 15/100\n",
            "122/122 [==============================] - 109s 892ms/step - loss: 9.5317 - MAE: 9.4940 - val_loss: 10.6654 - val_MAE: 10.6308\n",
            "Epoch 16/100\n",
            "122/122 [==============================] - 108s 882ms/step - loss: 10.0626 - MAE: 10.0128 - val_loss: 13.6845 - val_MAE: 13.6212\n",
            "Epoch 17/100\n",
            "122/122 [==============================] - 108s 884ms/step - loss: 9.4866 - MAE: 9.4444 - val_loss: 17.3243 - val_MAE: 17.2758\n",
            "Epoch 18/100\n",
            "122/122 [==============================] - 108s 883ms/step - loss: 9.4134 - MAE: 9.3758 - val_loss: 19.0685 - val_MAE: 19.0248\n",
            "Epoch 19/100\n",
            "122/122 [==============================] - 108s 884ms/step - loss: 9.1966 - MAE: 9.1488 - val_loss: 10.0257 - val_MAE: 9.9944\n",
            "Epoch 20/100\n",
            "122/122 [==============================] - 108s 880ms/step - loss: 9.0355 - MAE: 8.9728 - val_loss: 8.8333 - val_MAE: 8.8033\n",
            "Epoch 21/100\n",
            "122/122 [==============================] - 108s 883ms/step - loss: 9.1723 - MAE: 9.1263 - val_loss: 9.1910 - val_MAE: 9.1168\n",
            "Epoch 22/100\n",
            "122/122 [==============================] - 109s 886ms/step - loss: 8.9252 - MAE: 8.8783 - val_loss: 9.2867 - val_MAE: 9.2394\n",
            "Epoch 23/100\n",
            "122/122 [==============================] - 108s 882ms/step - loss: 9.2549 - MAE: 9.2077 - val_loss: 12.0430 - val_MAE: 11.9431\n",
            "Epoch 24/100\n",
            "122/122 [==============================] - 109s 886ms/step - loss: 9.0108 - MAE: 8.9555 - val_loss: 10.0563 - val_MAE: 9.9968\n",
            "Epoch 25/100\n",
            "122/122 [==============================] - 108s 885ms/step - loss: 8.7643 - MAE: 8.7146 - val_loss: 8.9954 - val_MAE: 8.9627\n",
            "Epoch 26/100\n",
            "122/122 [==============================] - 108s 882ms/step - loss: 8.7631 - MAE: 8.7193 - val_loss: 8.5059 - val_MAE: 8.4610\n",
            "Epoch 27/100\n",
            "122/122 [==============================] - 108s 884ms/step - loss: 9.0513 - MAE: 9.0019 - val_loss: 9.9208 - val_MAE: 9.8866\n",
            "Epoch 28/100\n",
            "122/122 [==============================] - 109s 892ms/step - loss: 8.7288 - MAE: 8.6931 - val_loss: 12.2147 - val_MAE: 12.1967\n",
            "Epoch 29/100\n",
            "122/122 [==============================] - 108s 883ms/step - loss: 8.5849 - MAE: 8.5325 - val_loss: 14.9946 - val_MAE: 14.9341\n",
            "Epoch 30/100\n",
            "122/122 [==============================] - 108s 882ms/step - loss: 8.5816 - MAE: 8.5322 - val_loss: 10.4242 - val_MAE: 10.3514\n",
            "Epoch 31/100\n",
            "122/122 [==============================] - 108s 881ms/step - loss: 8.5889 - MAE: 8.5284 - val_loss: 10.7953 - val_MAE: 10.6484\n",
            "Epoch 32/100\n",
            "122/122 [==============================] - 108s 879ms/step - loss: 8.6856 - MAE: 8.6322 - val_loss: 9.5812 - val_MAE: 9.5506\n",
            "Epoch 33/100\n",
            "122/122 [==============================] - 107s 873ms/step - loss: 8.2691 - MAE: 8.2196 - val_loss: 8.3256 - val_MAE: 8.3008\n",
            "Epoch 34/100\n",
            "122/122 [==============================] - 107s 873ms/step - loss: 8.7903 - MAE: 8.7368 - val_loss: 10.2357 - val_MAE: 10.2014\n",
            "Epoch 35/100\n",
            "122/122 [==============================] - 108s 883ms/step - loss: 8.4104 - MAE: 8.3668 - val_loss: 11.1773 - val_MAE: 11.1533\n",
            "Epoch 36/100\n",
            "122/122 [==============================] - 107s 876ms/step - loss: 8.1810 - MAE: 8.1376 - val_loss: 11.5437 - val_MAE: 11.5121\n",
            "Epoch 37/100\n",
            "122/122 [==============================] - 108s 880ms/step - loss: 8.2784 - MAE: 8.2277 - val_loss: 9.1079 - val_MAE: 9.0426\n",
            "Epoch 38/100\n",
            "122/122 [==============================] - 109s 890ms/step - loss: 8.2284 - MAE: 8.1798 - val_loss: 8.3985 - val_MAE: 8.3461\n",
            "Epoch 39/100\n",
            "122/122 [==============================] - 108s 882ms/step - loss: 8.3393 - MAE: 8.2933 - val_loss: 10.4360 - val_MAE: 10.3913\n",
            "Epoch 40/100\n",
            "122/122 [==============================] - 108s 883ms/step - loss: 8.2992 - MAE: 8.2470 - val_loss: 8.4252 - val_MAE: 8.3917\n",
            "Epoch 41/100\n",
            "122/122 [==============================] - 108s 882ms/step - loss: 8.1880 - MAE: 8.1460 - val_loss: 8.2246 - val_MAE: 8.1546\n",
            "Epoch 42/100\n",
            "122/122 [==============================] - 110s 894ms/step - loss: 8.1394 - MAE: 8.0994 - val_loss: 9.4867 - val_MAE: 9.3761\n",
            "Epoch 43/100\n",
            "122/122 [==============================] - 108s 885ms/step - loss: 8.0817 - MAE: 8.0272 - val_loss: 14.1729 - val_MAE: 14.0684\n",
            "Epoch 44/100\n",
            "122/122 [==============================] - 108s 883ms/step - loss: 7.9481 - MAE: 7.8913 - val_loss: 9.3271 - val_MAE: 9.2770\n",
            "Epoch 45/100\n",
            "122/122 [==============================] - 109s 891ms/step - loss: 8.1768 - MAE: 8.1153 - val_loss: 9.1491 - val_MAE: 9.1017\n",
            "Epoch 46/100\n",
            "122/122 [==============================] - 109s 886ms/step - loss: 7.9835 - MAE: 7.9314 - val_loss: 9.7040 - val_MAE: 9.6526\n",
            "Epoch 47/100\n",
            "122/122 [==============================] - 109s 886ms/step - loss: 7.9175 - MAE: 7.8807 - val_loss: 7.9539 - val_MAE: 7.8996\n",
            "Epoch 48/100\n",
            "122/122 [==============================] - 110s 894ms/step - loss: 7.7076 - MAE: 7.6611 - val_loss: 8.2767 - val_MAE: 8.2402\n",
            "Epoch 49/100\n",
            "122/122 [==============================] - 109s 890ms/step - loss: 7.7547 - MAE: 7.7149 - val_loss: 7.8776 - val_MAE: 7.8428\n",
            "Epoch 50/100\n",
            "122/122 [==============================] - 109s 885ms/step - loss: 7.7581 - MAE: 7.7136 - val_loss: 9.2332 - val_MAE: 9.1898\n",
            "Epoch 51/100\n",
            "122/122 [==============================] - 109s 887ms/step - loss: 7.9491 - MAE: 7.9013 - val_loss: 10.4097 - val_MAE: 10.3594\n",
            "Epoch 52/100\n",
            "122/122 [==============================] - 113s 924ms/step - loss: 7.6812 - MAE: 7.6375 - val_loss: 8.7113 - val_MAE: 8.6294\n",
            "Epoch 53/100\n",
            "122/122 [==============================] - 109s 886ms/step - loss: 7.8467 - MAE: 7.7695 - val_loss: 8.6999 - val_MAE: 8.6023\n",
            "Epoch 54/100\n",
            "122/122 [==============================] - 109s 888ms/step - loss: 7.8990 - MAE: 7.8172 - val_loss: 9.1216 - val_MAE: 9.0725\n",
            "Epoch 55/100\n",
            "122/122 [==============================] - 109s 891ms/step - loss: 7.7878 - MAE: 7.7378 - val_loss: 9.5394 - val_MAE: 9.5050\n",
            "Epoch 56/100\n",
            "122/122 [==============================] - 109s 888ms/step - loss: 7.7466 - MAE: 7.6862 - val_loss: 8.5102 - val_MAE: 8.4727\n",
            "Epoch 57/100\n",
            "122/122 [==============================] - 111s 904ms/step - loss: 7.5218 - MAE: 7.4939 - val_loss: 11.2956 - val_MAE: 11.2700\n",
            "Epoch 58/100\n",
            "122/122 [==============================] - 112s 916ms/step - loss: 7.4975 - MAE: 7.4563 - val_loss: 8.1684 - val_MAE: 8.1319\n",
            "Epoch 59/100\n",
            "122/122 [==============================] - 109s 888ms/step - loss: 7.7060 - MAE: 7.6629 - val_loss: 9.1541 - val_MAE: 9.0984\n",
            "Epoch 60/100\n",
            "122/122 [==============================] - 110s 894ms/step - loss: 7.6338 - MAE: 7.6021 - val_loss: 12.0221 - val_MAE: 12.0000\n",
            "Epoch 61/100\n",
            "122/122 [==============================] - 109s 890ms/step - loss: 7.6254 - MAE: 7.5869 - val_loss: 8.7801 - val_MAE: 8.7381\n",
            "Epoch 62/100\n",
            "122/122 [==============================] - 110s 897ms/step - loss: 7.4253 - MAE: 7.3917 - val_loss: 8.8137 - val_MAE: 8.7490\n",
            "Epoch 63/100\n",
            "122/122 [==============================] - 109s 892ms/step - loss: 7.6087 - MAE: 7.5589 - val_loss: 8.2281 - val_MAE: 8.1783\n",
            "Epoch 64/100\n",
            "122/122 [==============================] - 108s 881ms/step - loss: 7.4060 - MAE: 7.3727 - val_loss: 12.6211 - val_MAE: 12.5892\n",
            "Epoch 65/100\n",
            "122/122 [==============================] - 109s 887ms/step - loss: 7.3161 - MAE: 7.2856 - val_loss: 8.6185 - val_MAE: 8.5932\n",
            "Epoch 66/100\n",
            "122/122 [==============================] - 109s 890ms/step - loss: 7.5078 - MAE: 7.4750 - val_loss: 10.9796 - val_MAE: 10.9215\n",
            "Epoch 67/100\n",
            "122/122 [==============================] - 111s 904ms/step - loss: 7.3787 - MAE: 7.3401 - val_loss: 8.2299 - val_MAE: 8.1935\n",
            "Epoch 68/100\n",
            "122/122 [==============================] - 113s 925ms/step - loss: 7.4926 - MAE: 7.4542 - val_loss: 7.8815 - val_MAE: 7.8457\n",
            "Epoch 69/100\n",
            "122/122 [==============================] - 109s 891ms/step - loss: 7.2442 - MAE: 7.2104 - val_loss: 7.8224 - val_MAE: 7.7200\n",
            "Epoch 70/100\n",
            "122/122 [==============================] - 110s 896ms/step - loss: 7.3488 - MAE: 7.2969 - val_loss: 7.9115 - val_MAE: 7.8853\n",
            "Epoch 71/100\n",
            "122/122 [==============================] - 110s 899ms/step - loss: 7.0989 - MAE: 7.0597 - val_loss: 8.3183 - val_MAE: 8.2996\n",
            "Epoch 72/100\n",
            "122/122 [==============================] - 110s 898ms/step - loss: 7.3049 - MAE: 7.2704 - val_loss: 8.4878 - val_MAE: 8.4527\n",
            "Epoch 73/100\n",
            "122/122 [==============================] - 110s 897ms/step - loss: 7.1811 - MAE: 7.1406 - val_loss: 12.1963 - val_MAE: 12.1748\n",
            "Epoch 74/100\n",
            "122/122 [==============================] - 109s 892ms/step - loss: 7.3374 - MAE: 7.3038 - val_loss: 11.1266 - val_MAE: 11.0737\n",
            "Epoch 75/100\n",
            "122/122 [==============================] - 109s 891ms/step - loss: 7.4209 - MAE: 7.3738 - val_loss: 9.7878 - val_MAE: 9.6746\n",
            "Epoch 76/100\n",
            "122/122 [==============================] - 110s 897ms/step - loss: 7.2814 - MAE: 7.2085 - val_loss: 8.0996 - val_MAE: 8.0468\n",
            "Epoch 77/100\n",
            "122/122 [==============================] - 110s 895ms/step - loss: 7.2153 - MAE: 7.1787 - val_loss: 9.3573 - val_MAE: 9.3329\n",
            "Epoch 78/100\n",
            "122/122 [==============================] - 110s 897ms/step - loss: 7.1577 - MAE: 7.1049 - val_loss: 8.4405 - val_MAE: 8.3530\n",
            "Epoch 79/100\n",
            "122/122 [==============================] - 110s 894ms/step - loss: 7.1190 - MAE: 7.0710 - val_loss: 8.4295 - val_MAE: 8.3902\n",
            "Epoch 80/100\n",
            "122/122 [==============================] - 111s 907ms/step - loss: 6.9852 - MAE: 6.9514 - val_loss: 8.0975 - val_MAE: 8.0597\n",
            "Epoch 81/100\n",
            "122/122 [==============================] - 111s 905ms/step - loss: 6.9931 - MAE: 6.9653 - val_loss: 8.7715 - val_MAE: 8.7402\n",
            "Epoch 82/100\n",
            "122/122 [==============================] - 110s 898ms/step - loss: 6.9500 - MAE: 6.9078 - val_loss: 7.9550 - val_MAE: 7.9275\n",
            "Epoch 83/100\n",
            "122/122 [==============================] - 109s 891ms/step - loss: 7.1008 - MAE: 7.0584 - val_loss: 11.5519 - val_MAE: 11.4976\n",
            "Epoch 84/100\n",
            "122/122 [==============================] - 109s 889ms/step - loss: 6.9111 - MAE: 6.8736 - val_loss: 11.6443 - val_MAE: 11.6143\n",
            "Epoch 85/100\n",
            "122/122 [==============================] - 109s 886ms/step - loss: 6.9292 - MAE: 6.8863 - val_loss: 8.2415 - val_MAE: 8.2073\n",
            "Epoch 86/100\n",
            "122/122 [==============================] - 109s 888ms/step - loss: 6.9726 - MAE: 6.9362 - val_loss: 10.2429 - val_MAE: 10.2217\n",
            "Epoch 87/100\n",
            "122/122 [==============================] - 109s 888ms/step - loss: 6.8481 - MAE: 6.8162 - val_loss: 9.8609 - val_MAE: 9.8426\n",
            "Epoch 88/100\n",
            "122/122 [==============================] - 110s 895ms/step - loss: 6.9569 - MAE: 6.9321 - val_loss: 7.8220 - val_MAE: 7.7996\n",
            "Epoch 89/100\n",
            "122/122 [==============================] - 109s 886ms/step - loss: 6.8578 - MAE: 6.8228 - val_loss: 7.7147 - val_MAE: 7.6443\n",
            "Epoch 90/100\n",
            "122/122 [==============================] - 109s 888ms/step - loss: 6.7559 - MAE: 6.6973 - val_loss: 8.0251 - val_MAE: 7.9464\n",
            "Epoch 91/100\n",
            "122/122 [==============================] - 109s 891ms/step - loss: 6.8709 - MAE: 6.8194 - val_loss: 7.9801 - val_MAE: 7.9507\n",
            "Epoch 92/100\n",
            "122/122 [==============================] - 107s 876ms/step - loss: 6.7527 - MAE: 6.7072 - val_loss: 8.5085 - val_MAE: 8.4624\n",
            "Epoch 93/100\n",
            "122/122 [==============================] - 111s 902ms/step - loss: 6.7199 - MAE: 6.6713 - val_loss: 8.0548 - val_MAE: 8.0237\n",
            "Epoch 94/100\n",
            "122/122 [==============================] - 111s 902ms/step - loss: 6.7442 - MAE: 6.7037 - val_loss: 9.4445 - val_MAE: 9.3921\n",
            "Epoch 95/100\n",
            "122/122 [==============================] - 110s 901ms/step - loss: 6.8656 - MAE: 6.8234 - val_loss: 8.2867 - val_MAE: 8.2358\n",
            "Epoch 96/100\n",
            "122/122 [==============================] - 110s 900ms/step - loss: 6.8690 - MAE: 6.8311 - val_loss: 7.7409 - val_MAE: 7.7052\n",
            "Epoch 97/100\n",
            "122/122 [==============================] - 110s 896ms/step - loss: 6.5387 - MAE: 6.5058 - val_loss: 7.9175 - val_MAE: 7.8954\n",
            "Epoch 98/100\n",
            "122/122 [==============================] - 110s 898ms/step - loss: 6.5438 - MAE: 6.5057 - val_loss: 7.9904 - val_MAE: 7.9499\n",
            "Epoch 99/100\n",
            "122/122 [==============================] - 110s 900ms/step - loss: 6.5681 - MAE: 6.5444 - val_loss: 7.8969 - val_MAE: 7.8801\n",
            "Epoch 100/100\n",
            "122/122 [==============================] - 109s 893ms/step - loss: 6.6878 - MAE: 6.6350 - val_loss: 8.3875 - val_MAE: 8.3469\n",
            "46/46 [==============================] - 9s 202ms/step - loss: 8.8536 - MAE: 8.8130\n"
          ]
        }
      ],
      "source": [
        "\n",
        "base_model = InceptionV3(weights='imagenet', include_top=False)\n",
        "\n",
        "input = Input(shape=(256,256,3),name='input1')\n",
        "input_gender = Input(shape=(1,),dtype='float32',name='input2')\n",
        "output = base_model(input)\n",
        "gender_embedding=Dense(32)(input_gender)\n",
        "#gender_embedding=Dense(12)(gender_embedding)\n",
        "#x = keras.layers.MaxPooling2D(pool_size=(5,5))(output)\n",
        "#x = keras.layers.Conv2D(512,kernel_size=(3,3))(x)\n",
        "#x = conv2d_bn(output, 512, 3, 3, padding='valid') \n",
        "sq = keras.layers.GlobalAveragePooling2D()(output)\n",
        "sq = keras.layers.Reshape((1,1,2048))(sq)\n",
        "sq = keras.layers.Dense(units=2048, kernel_regularizer=regularizers.L2(0.1),activation=\"sigmoid\")(sq)\n",
        "block = keras.layers.multiply([output,sq])\n",
        "#fine Squeeze and Excitation 1\n",
        "\n",
        "net = keras.layers.add([output,block])\n",
        "net = keras.layers.BatchNormalization()(net)\n",
        "net = keras.layers.Activation(\"relu\")(net)\n",
        "net = keras.layers.MaxPooling2D(pool_size=(2, 2),name=\"block_1\")(net)\n",
        "\n",
        "print (K.int_shape(output))\n",
        "x = keras.layers.MaxPooling2D(pool_size=(2,2))(net)\n",
        "print (K.int_shape(x))\n",
        "x=Flatten()(x)\n",
        "f = keras.layers.Concatenate(axis=1)([x,gender_embedding])\n",
        "print (K.int_shape(f)) \n",
        "#x = Dense(256, activation='relu')(x)\n",
        "predictions = Dense(1)(f)\n",
        "model = Model(inputs=[input,input_gender], outputs=predictions)\n",
        "Adam=tf.keras.optimizers.Adam(lr=0.0001,beta_1=0.9,beta_2=0.999)\n",
        "model.compile(optimizer=Adam, loss='mean_absolute_error', metrics=['MAE'])\n",
        "model.summary()\n",
        "from keras.preprocessing.image import ImageDataGenerator\n",
        "DataGen = ImageDataGenerator(rotation_range=20,width_shift_range=0.15,height_shift_range=0.15,zoom_range=0.2,horizontal_flip=True)\n",
        "def Generator(x_train,gender_train,y_train,batch_size):\n",
        "    loopcount = len(y_train)//batch_size\n",
        "    i=0\n",
        "    while (True):\n",
        "        if i>loopcount:\n",
        "            i=0\n",
        "        # i=np.random.randint(0,loopcount)\n",
        "        x_train_batch = x_train[i*batch_size:(i+1)*batch_size,:,:,:]\n",
        "        x_train_batch = DataAugment(x_train_batch)\n",
        "        gender_train_batch = gender_train[i*batch_size:(i+1)*batch_size]\n",
        "        y_train_batch = y_train[i*batch_size:(i+1)*batch_size]\n",
        "        inputs = [x_train_batch,gender_train_batch]\n",
        "        target = y_train_batch\n",
        "        yield (inputs ,target)\n",
        "        i = i+1\n",
        "checkpoint =keras.callbacks.ModelCheckpoint(filepath='weights/weights.{epoch:02d}-{val_loss:.2f}.hdf5',save_weights_only=True,period=100)\n",
        "history = model.fit_generator(DataGen.flow([train_x,train_gen],train_y,batch_size=64),steps_per_epoch=np.ceil(len(train_y)/64),epochs=100,verbose=1,validation_data=([valid_x,valid_gen],valid_y))\n",
        "#history = model.fit_generator(Generator(x_train,gender_train,y_train,batch_size),steps_per_epoch=np.ceil(len(y_train)/batch_size),epochs=10,verbose=1,validation_data=([x_valid,gender_valid],y_valid))\n",
        "#history=model.fit([x_train,gender_train],y_train,batch_size=32,epochs=5,verbose=1,validation_data=([x_valid,gender_valid],y_valid), callbacks = [checkpoint])\n",
        "score = model.evaluate([test_x,test_gen], test_y, batch_size=64)"
      ]
    },
    {
      "cell_type": "code",
      "execution_count": null,
      "metadata": {
        "id": "XKPxeNorBF9J",
        "colab": {
          "base_uri": "https://localhost:8080/",
          "height": 295
        },
        "outputId": "408e7036-9e8c-4e6a-d897-26141b04c5d0"
      },
      "outputs": [
        {
          "output_type": "display_data",
          "data": {
            "text/plain": [
              "<Figure size 432x288 with 1 Axes>"
            ],
            "image/png": "[encoded data removed]"
          },
          "metadata": {
            "needs_background": "light"
          }
        }
      ],
      "source": [
        "plt.plot(history.history['loss'])\n",
        "plt.plot(history.history['val_loss'])\n",
        "plt.title('Model loss')\n",
        "plt.ylabel('Loss')\n",
        "plt.xlabel('Epoch')\n",
        "plt.legend(['Train', 'Validation'], loc='upper left')\n",
        "plt.show()"
      ]
    },
    {
      "cell_type": "code",
      "source": [
        "checkpoint =keras.callbacks.ModelCheckpoint(filepath='weights/weights.{epoch:02d}-{val_loss:.2f}.hdf5',save_weights_only=True,period=5)\n",
        "history = model.fit_generator(DataGen.flow([train_x,train_gen],train_y,batch_size=64),steps_per_epoch=np.ceil(len(train_y)/64),epochs=5,verbose=1,validation_data=([valid_x,valid_gen],valid_y))"
      ],
      "metadata": {
        "colab": {
          "base_uri": "https://localhost:8080/"
        },
        "id": "mdZiLze_7AOg",
        "outputId": "c5e794e7-5a94-4a76-9923-214d0a1e2359"
      },
      "execution_count": null,
      "outputs": [
        {
          "output_type": "stream",
          "name": "stderr",
          "text": [
            "WARNING:tensorflow:`period` argument is deprecated. Please use `save_freq` to specify the frequency in number of batches seen.\n",
            "<ipython-input-66-52ad6d3ea97d>:2: UserWarning: `Model.fit_generator` is deprecated and will be removed in a future version. Please use `Model.fit`, which supports generators.\n",
            "  history = model.fit_generator(DataGen.flow([train_x,train_gen],train_y,batch_size=64),steps_per_epoch=np.ceil(len(train_y)/64),epochs=5,verbose=1,validation_data=([valid_x,valid_gen],valid_y))\n"
          ]
        },
        {
          "output_type": "stream",
          "name": "stdout",
          "text": [
            "Epoch 1/5\n",
            "122/122 [==============================] - 113s 921ms/step - loss: 6.7474 - MAE: 6.7091 - val_loss: 8.0912 - val_MAE: 8.0726\n",
            "Epoch 2/5\n",
            "122/122 [==============================] - 110s 897ms/step - loss: 6.4942 - MAE: 6.4609 - val_loss: 8.3089 - val_MAE: 8.2899\n",
            "Epoch 3/5\n",
            "122/122 [==============================] - 111s 905ms/step - loss: 6.4983 - MAE: 6.4642 - val_loss: 8.4152 - val_MAE: 8.3739\n",
            "Epoch 4/5\n",
            "122/122 [==============================] - 112s 914ms/step - loss: 6.3918 - MAE: 6.3631 - val_loss: 7.9647 - val_MAE: 7.9406\n",
            "Epoch 5/5\n",
            "122/122 [==============================] - 112s 910ms/step - loss: 6.3538 - MAE: 6.3303 - val_loss: 7.8147 - val_MAE: 7.7986\n"
          ]
        }
      ]
    },
    {
      "cell_type": "code",
      "source": [
        "score = model.evaluate([test_x,test_gen], test_y, batch_size=64)"
      ],
      "metadata": {
        "colab": {
          "base_uri": "https://localhost:8080/"
        },
        "id": "01dPeO9cnhQu",
        "outputId": "7bb1c10b-5198-4330-8945-b39b386582cf"
      },
      "execution_count": null,
      "outputs": [
        {
          "output_type": "stream",
          "name": "stdout",
          "text": [
            "46/46 [==============================] - 8s 167ms/step - loss: 8.0144 - MAE: 7.9983\n"
          ]
        }
      ]
    },
    {
      "cell_type": "code",
      "source": [
        "checkpoint =keras.callbacks.ModelCheckpoint(filepath='weights/weights.{epoch:02d}-{val_loss:.2f}.hdf5',save_weights_only=True,period=5)\n",
        "history = model.fit_generator(DataGen.flow([train_x,train_gen],train_y,batch_size=64),steps_per_epoch=np.ceil(len(train_y)/64),epochs=5,verbose=1,validation_data=([valid_x,valid_gen],valid_y))\n",
        "score = model.evaluate([test_x,test_gen], test_y, batch_size=64)"
      ],
      "metadata": {
        "colab": {
          "base_uri": "https://localhost:8080/"
        },
        "id": "qmO0EBGFp20E",
        "outputId": "019e0aa2-a5cf-49ee-f296-3a7def3abb3f"
      },
      "execution_count": null,
      "outputs": [
        {
          "output_type": "stream",
          "name": "stderr",
          "text": [
            "WARNING:tensorflow:`period` argument is deprecated. Please use `save_freq` to specify the frequency in number of batches seen.\n",
            "<ipython-input-113-38f897d4cff5>:2: UserWarning: `Model.fit_generator` is deprecated and will be removed in a future version. Please use `Model.fit`, which supports generators.\n",
            "  history = model.fit_generator(DataGen.flow([train_x,train_gen],train_y,batch_size=64),steps_per_epoch=np.ceil(len(train_y)/64),epochs=5,verbose=1,validation_data=([valid_x,valid_gen],valid_y))\n"
          ]
        },
        {
          "output_type": "stream",
          "name": "stdout",
          "text": [
            "Epoch 1/5\n",
            "122/122 [==============================] - 126s 1s/step - loss: 6.4887 - MAE: 6.4516 - val_loss: 8.3449 - val_MAE: 8.3149\n",
            "Epoch 2/5\n",
            "122/122 [==============================] - 111s 902ms/step - loss: 6.3214 - MAE: 6.2946 - val_loss: 7.9206 - val_MAE: 7.9044\n",
            "Epoch 3/5\n",
            "122/122 [==============================] - 111s 903ms/step - loss: 6.5042 - MAE: 6.4706 - val_loss: 8.6184 - val_MAE: 8.5793\n",
            "Epoch 4/5\n",
            "122/122 [==============================] - 107s 875ms/step - loss: 6.3934 - MAE: 6.3405 - val_loss: 7.7731 - val_MAE: 7.7165\n",
            "Epoch 5/5\n",
            "122/122 [==============================] - 108s 884ms/step - loss: 6.3832 - MAE: 6.3515 - val_loss: 8.6027 - val_MAE: 8.5855\n",
            "46/46 [==============================] - 8s 167ms/step - loss: 8.6738 - MAE: 8.6566\n"
          ]
        }
      ]
    },
    {
      "cell_type": "code",
      "source": [
        "checkpoint =keras.callbacks.ModelCheckpoint(filepath='weights/weights.{epoch:02d}-{val_loss:.2f}.hdf5',save_weights_only=True,period=5)\n",
        "history = model.fit_generator(DataGen.flow([train_x,train_gen],train_y,batch_size=64),steps_per_epoch=np.ceil(len(train_y)/64),epochs=5,verbose=1,validation_data=([valid_x,valid_gen],valid_y))\n",
        "score = model.evaluate([test_x,test_gen], test_y, batch_size=64)"
      ],
      "metadata": {
        "id": "2gMsSeYWeu6P",
        "colab": {
          "base_uri": "https://localhost:8080/"
        },
        "outputId": "2424cec9-facf-46bf-a3ce-0250ff03ff4d"
      },
      "execution_count": null,
      "outputs": [
        {
          "output_type": "stream",
          "name": "stderr",
          "text": [
            "WARNING:tensorflow:`period` argument is deprecated. Please use `save_freq` to specify the frequency in number of batches seen.\n",
            "<ipython-input-114-38f897d4cff5>:2: UserWarning: `Model.fit_generator` is deprecated and will be removed in a future version. Please use `Model.fit`, which supports generators.\n",
            "  history = model.fit_generator(DataGen.flow([train_x,train_gen],train_y,batch_size=64),steps_per_epoch=np.ceil(len(train_y)/64),epochs=5,verbose=1,validation_data=([valid_x,valid_gen],valid_y))\n"
          ]
        },
        {
          "output_type": "stream",
          "name": "stdout",
          "text": [
            "Epoch 1/5\n",
            "122/122 [==============================] - 112s 918ms/step - loss: 6.3401 - MAE: 6.3094 - val_loss: 8.1064 - val_MAE: 8.0835\n",
            "Epoch 2/5\n",
            "122/122 [==============================] - 109s 892ms/step - loss: 6.4307 - MAE: 6.3997 - val_loss: 7.9116 - val_MAE: 7.8875\n",
            "Epoch 3/5\n",
            "122/122 [==============================] - 111s 909ms/step - loss: 6.3383 - MAE: 6.2985 - val_loss: 7.9455 - val_MAE: 7.9096\n",
            "Epoch 4/5\n",
            "122/122 [==============================] - 107s 872ms/step - loss: 6.3903 - MAE: 6.3617 - val_loss: 8.1980 - val_MAE: 8.1729\n",
            "Epoch 5/5\n",
            "122/122 [==============================] - 106s 868ms/step - loss: 6.2850 - MAE: 6.2619 - val_loss: 8.0359 - val_MAE: 7.9999\n",
            "46/46 [==============================] - 8s 169ms/step - loss: 8.0522 - MAE: 8.0163\n"
          ]
        }
      ]
    },
    {
      "cell_type": "code",
      "source": [
        "checkpoint =keras.callbacks.ModelCheckpoint(filepath='weights/weights.{epoch:02d}-{val_loss:.2f}.hdf5',save_weights_only=True,period=5)\n",
        "history = model.fit_generator(DataGen.flow([train_x,train_gen],train_y,batch_size=64),steps_per_epoch=np.ceil(len(train_y)/64),epochs=5,verbose=1,validation_data=([valid_x,valid_gen],valid_y))\n",
        "score = model.evaluate([test_x,test_gen], test_y, batch_size=64)"
      ],
      "metadata": {
        "colab": {
          "base_uri": "https://localhost:8080/",
          "height": 626
        },
        "id": "xUstgEKmxnzN",
        "outputId": "c5010068-efec-452e-942c-ecb23b5a630e"
      },
      "execution_count": null,
      "outputs": [
        {
          "output_type": "stream",
          "name": "stderr",
          "text": [
            "WARNING:tensorflow:`period` argument is deprecated. Please use `save_freq` to specify the frequency in number of batches seen.\n",
            "<ipython-input-115-38f897d4cff5>:2: UserWarning: `Model.fit_generator` is deprecated and will be removed in a future version. Please use `Model.fit`, which supports generators.\n",
            "  history = model.fit_generator(DataGen.flow([train_x,train_gen],train_y,batch_size=64),steps_per_epoch=np.ceil(len(train_y)/64),epochs=5,verbose=1,validation_data=([valid_x,valid_gen],valid_y))\n"
          ]
        },
        {
          "output_type": "stream",
          "name": "stdout",
          "text": [
            "Epoch 1/5\n",
            "122/122 [==============================] - 113s 918ms/step - loss: 6.2486 - MAE: 6.2214 - val_loss: 7.7539 - val_MAE: 7.7356\n",
            "Epoch 2/5\n",
            "122/122 [==============================] - 109s 892ms/step - loss: 6.4423 - MAE: 6.4067 - val_loss: 7.8503 - val_MAE: 7.8278\n",
            "Epoch 3/5\n",
            "122/122 [==============================] - 109s 890ms/step - loss: 6.1850 - MAE: 6.1557 - val_loss: 9.0891 - val_MAE: 9.0396\n",
            "Epoch 4/5\n",
            "122/122 [==============================] - 108s 884ms/step - loss: 6.3412 - MAE: 6.3017 - val_loss: 10.5708 - val_MAE: 10.5480\n",
            "Epoch 5/5\n",
            "122/122 [==============================] - 110s 901ms/step - loss: 6.2569 - MAE: 6.2264 - val_loss: 8.5112 - val_MAE: 8.4709\n"
          ]
        },
        {
          "output_type": "error",
          "ename": "InternalError",
          "evalue": "ignored",
          "traceback": [
            "\u001b[0;31m---------------------------------------------------------------------------\u001b[0m",
            "\u001b[0;31mInternalError\u001b[0m                             Traceback (most recent call last)",
            "\u001b[0;32m<ipython-input-115-38f897d4cff5>\u001b[0m in \u001b[0;36m<module>\u001b[0;34m\u001b[0m\n\u001b[1;32m      1\u001b[0m \u001b[0mcheckpoint\u001b[0m \u001b[0;34m=\u001b[0m\u001b[0mkeras\u001b[0m\u001b[0;34m.\u001b[0m\u001b[0mcallbacks\u001b[0m\u001b[0;34m.\u001b[0m\u001b[0mModelCheckpoint\u001b[0m\u001b[0;34m(\u001b[0m\u001b[0mfilepath\u001b[0m\u001b[0;34m=\u001b[0m\u001b[0;34m'weights/weights.{epoch:02d}-{val_loss:.2f}.hdf5'\u001b[0m\u001b[0;34m,\u001b[0m\u001b[0msave_weights_only\u001b[0m\u001b[0;34m=\u001b[0m\u001b[0;32mTrue\u001b[0m\u001b[0;34m,\u001b[0m\u001b[0mperiod\u001b[0m\u001b[0;34m=\u001b[0m\u001b[0;36m5\u001b[0m\u001b[0;34m)\u001b[0m\u001b[0;34m\u001b[0m\u001b[0;34m\u001b[0m\u001b[0m\n\u001b[1;32m      2\u001b[0m \u001b[0mhistory\u001b[0m \u001b[0;34m=\u001b[0m \u001b[0mmodel\u001b[0m\u001b[0;34m.\u001b[0m\u001b[0mfit_generator\u001b[0m\u001b[0;34m(\u001b[0m\u001b[0mDataGen\u001b[0m\u001b[0;34m.\u001b[0m\u001b[0mflow\u001b[0m\u001b[0;34m(\u001b[0m\u001b[0;34m[\u001b[0m\u001b[0mtrain_x\u001b[0m\u001b[0;34m,\u001b[0m\u001b[0mtrain_gen\u001b[0m\u001b[0;34m]\u001b[0m\u001b[0;34m,\u001b[0m\u001b[0mtrain_y\u001b[0m\u001b[0;34m,\u001b[0m\u001b[0mbatch_size\u001b[0m\u001b[0;34m=\u001b[0m\u001b[0;36m64\u001b[0m\u001b[0;34m)\u001b[0m\u001b[0;34m,\u001b[0m\u001b[0msteps_per_epoch\u001b[0m\u001b[0;34m=\u001b[0m\u001b[0mnp\u001b[0m\u001b[0;34m.\u001b[0m\u001b[0mceil\u001b[0m\u001b[0;34m(\u001b[0m\u001b[0mlen\u001b[0m\u001b[0;34m(\u001b[0m\u001b[0mtrain_y\u001b[0m\u001b[0;34m)\u001b[0m\u001b[0;34m/\u001b[0m\u001b[0;36m64\u001b[0m\u001b[0;34m)\u001b[0m\u001b[0;34m,\u001b[0m\u001b[0mepochs\u001b[0m\u001b[0;34m=\u001b[0m\u001b[0;36m5\u001b[0m\u001b[0;34m,\u001b[0m\u001b[0mverbose\u001b[0m\u001b[0;34m=\u001b[0m\u001b[0;36m1\u001b[0m\u001b[0;34m,\u001b[0m\u001b[0mvalidation_data\u001b[0m\u001b[0;34m=\u001b[0m\u001b[0;34m(\u001b[0m\u001b[0;34m[\u001b[0m\u001b[0mvalid_x\u001b[0m\u001b[0;34m,\u001b[0m\u001b[0mvalid_gen\u001b[0m\u001b[0;34m]\u001b[0m\u001b[0;34m,\u001b[0m\u001b[0mvalid_y\u001b[0m\u001b[0;34m)\u001b[0m\u001b[0;34m)\u001b[0m\u001b[0;34m\u001b[0m\u001b[0;34m\u001b[0m\u001b[0m\n\u001b[0;32m----> 3\u001b[0;31m \u001b[0mscore\u001b[0m \u001b[0;34m=\u001b[0m \u001b[0mmodel\u001b[0m\u001b[0;34m.\u001b[0m\u001b[0mevaluate\u001b[0m\u001b[0;34m(\u001b[0m\u001b[0;34m[\u001b[0m\u001b[0mtest_x\u001b[0m\u001b[0;34m,\u001b[0m\u001b[0mtest_gen\u001b[0m\u001b[0;34m]\u001b[0m\u001b[0;34m,\u001b[0m \u001b[0mtest_y\u001b[0m\u001b[0;34m,\u001b[0m \u001b[0mbatch_size\u001b[0m\u001b[0;34m=\u001b[0m\u001b[0;36m64\u001b[0m\u001b[0;34m)\u001b[0m\u001b[0;34m\u001b[0m\u001b[0;34m\u001b[0m\u001b[0m\n\u001b[0m",
            "\u001b[0;32m/usr/local/lib/python3.8/dist-packages/keras/utils/traceback_utils.py\u001b[0m in \u001b[0;36merror_handler\u001b[0;34m(*args, **kwargs)\u001b[0m\n\u001b[1;32m     68\u001b[0m             \u001b[0;31m# To get the full stack trace, call:\u001b[0m\u001b[0;34m\u001b[0m\u001b[0;34m\u001b[0m\u001b[0;34m\u001b[0m\u001b[0m\n\u001b[1;32m     69\u001b[0m             \u001b[0;31m# `tf.debugging.disable_traceback_filtering()`\u001b[0m\u001b[0;34m\u001b[0m\u001b[0;34m\u001b[0m\u001b[0;34m\u001b[0m\u001b[0m\n\u001b[0;32m---> 70\u001b[0;31m             \u001b[0;32mraise\u001b[0m \u001b[0me\u001b[0m\u001b[0;34m.\u001b[0m\u001b[0mwith_traceback\u001b[0m\u001b[0;34m(\u001b[0m\u001b[0mfiltered_tb\u001b[0m\u001b[0;34m)\u001b[0m \u001b[0;32mfrom\u001b[0m \u001b[0;32mNone\u001b[0m\u001b[0;34m\u001b[0m\u001b[0;34m\u001b[0m\u001b[0m\n\u001b[0m\u001b[1;32m     71\u001b[0m         \u001b[0;32mfinally\u001b[0m\u001b[0;34m:\u001b[0m\u001b[0;34m\u001b[0m\u001b[0;34m\u001b[0m\u001b[0m\n\u001b[1;32m     72\u001b[0m             \u001b[0;32mdel\u001b[0m \u001b[0mfiltered_tb\u001b[0m\u001b[0;34m\u001b[0m\u001b[0;34m\u001b[0m\u001b[0m\n",
            "\u001b[0;32m/usr/local/lib/python3.8/dist-packages/tensorflow/python/framework/constant_op.py\u001b[0m in \u001b[0;36mconvert_to_eager_tensor\u001b[0;34m(value, ctx, dtype)\u001b[0m\n\u001b[1;32m    100\u001b[0m       \u001b[0mdtype\u001b[0m \u001b[0;34m=\u001b[0m \u001b[0mdtypes\u001b[0m\u001b[0;34m.\u001b[0m\u001b[0mas_dtype\u001b[0m\u001b[0;34m(\u001b[0m\u001b[0mdtype\u001b[0m\u001b[0;34m)\u001b[0m\u001b[0;34m.\u001b[0m\u001b[0mas_datatype_enum\u001b[0m\u001b[0;34m\u001b[0m\u001b[0;34m\u001b[0m\u001b[0m\n\u001b[1;32m    101\u001b[0m   \u001b[0mctx\u001b[0m\u001b[0;34m.\u001b[0m\u001b[0mensure_initialized\u001b[0m\u001b[0;34m(\u001b[0m\u001b[0;34m)\u001b[0m\u001b[0;34m\u001b[0m\u001b[0;34m\u001b[0m\u001b[0m\n\u001b[0;32m--> 102\u001b[0;31m   \u001b[0;32mreturn\u001b[0m \u001b[0mops\u001b[0m\u001b[0;34m.\u001b[0m\u001b[0mEagerTensor\u001b[0m\u001b[0;34m(\u001b[0m\u001b[0mvalue\u001b[0m\u001b[0;34m,\u001b[0m \u001b[0mctx\u001b[0m\u001b[0;34m.\u001b[0m\u001b[0mdevice_name\u001b[0m\u001b[0;34m,\u001b[0m \u001b[0mdtype\u001b[0m\u001b[0;34m)\u001b[0m\u001b[0;34m\u001b[0m\u001b[0;34m\u001b[0m\u001b[0m\n\u001b[0m\u001b[1;32m    103\u001b[0m \u001b[0;34m\u001b[0m\u001b[0m\n\u001b[1;32m    104\u001b[0m \u001b[0;34m\u001b[0m\u001b[0m\n",
            "\u001b[0;31mInternalError\u001b[0m: Failed copying input tensor from /job:localhost/replica:0/task:0/device:CPU:0 to /job:localhost/replica:0/task:0/device:GPU:0 in order to run _EagerConst: Dst tensor is not initialized."
          ]
        }
      ]
    },
    {
      "cell_type": "code",
      "source": [
        "checkpoint =keras.callbacks.ModelCheckpoint(filepath='weights/weights.{epoch:02d}-{val_loss:.2f}.hdf5',save_weights_only=True,period=5)\n",
        "history = model.fit_generator(DataGen.flow([train_x,train_gen],train_y,batch_size=64),steps_per_epoch=np.ceil(len(train_y)/64),epochs=5,verbose=1,validation_data=([valid_x,valid_gen],valid_y))\n",
        "score = model.evaluate([test_x,test_gen], test_y, batch_size=64)"
      ],
      "metadata": {
        "colab": {
          "base_uri": "https://localhost:8080/"
        },
        "id": "I2KNTkNYxpNP",
        "outputId": "6c91e61b-6532-4e38-90a8-fd950a9a46e3"
      },
      "execution_count": null,
      "outputs": [
        {
          "output_type": "stream",
          "name": "stderr",
          "text": [
            "WARNING:tensorflow:`period` argument is deprecated. Please use `save_freq` to specify the frequency in number of batches seen.\n",
            "<ipython-input-116-38f897d4cff5>:2: UserWarning: `Model.fit_generator` is deprecated and will be removed in a future version. Please use `Model.fit`, which supports generators.\n",
            "  history = model.fit_generator(DataGen.flow([train_x,train_gen],train_y,batch_size=64),steps_per_epoch=np.ceil(len(train_y)/64),epochs=5,verbose=1,validation_data=([valid_x,valid_gen],valid_y))\n"
          ]
        },
        {
          "output_type": "stream",
          "name": "stdout",
          "text": [
            "Epoch 1/5\n",
            " 74/122 [=================>............] - ETA: 40s - loss: 6.1790 - MAE: 6.1208"
          ]
        }
      ]
    },
    {
      "cell_type": "code",
      "source": [
        "checkpoint =keras.callbacks.ModelCheckpoint(filepath='weights/weights.{epoch:02d}-{val_loss:.2f}.hdf5',save_weights_only=True,period=5)\n",
        "history = model.fit_generator(DataGen.flow([train_x,train_gen],train_y,batch_size=64),steps_per_epoch=np.ceil(len(train_y)/64),epochs=5,verbose=1,validation_data=([valid_x,valid_gen],valid_y))\n",
        "score = model.evaluate([test_x,test_gen], test_y, batch_size=64)"
      ],
      "metadata": {
        "id": "SSDBxvQrxrt5"
      },
      "execution_count": null,
      "outputs": []
    },
    {
      "cell_type": "code",
      "source": [
        "checkpoint =keras.callbacks.ModelCheckpoint(filepath='weights/weights.{epoch:02d}-{val_loss:.2f}.hdf5',save_weights_only=True,period=5)\n",
        "history = model.fit_generator(DataGen.flow([train_x,train_gen],train_y,batch_size=64),steps_per_epoch=np.ceil(len(train_y)/64),epochs=5,verbose=1,validation_data=([valid_x,valid_gen],valid_y))\n",
        "score = model.evaluate([test_x,test_gen], test_y, batch_size=64)"
      ],
      "metadata": {
        "id": "J1xibzKRxuO1"
      },
      "execution_count": null,
      "outputs": []
    },
    {
      "cell_type": "code",
      "source": [
        "checkpoint =keras.callbacks.ModelCheckpoint(filepath='weights/weights.{epoch:02d}-{val_loss:.2f}.hdf5',save_weights_only=True,period=5)\n",
        "history = model.fit_generator(DataGen.flow([train_x,train_gen],train_y,batch_size=64),steps_per_epoch=np.ceil(len(train_y)/64),epochs=5,verbose=1,validation_data=([valid_x,valid_gen],valid_y))\n",
        "score = model.evaluate([test_x,test_gen], test_y, batch_size=64)"
      ],
      "metadata": {
        "id": "Ht8wm_a3xyFI"
      },
      "execution_count": null,
      "outputs": []
    },
    {
      "cell_type": "code",
      "source": [
        "checkpoint =keras.callbacks.ModelCheckpoint(filepath='weights/weights.{epoch:02d}-{val_loss:.2f}.hdf5',save_weights_only=True,period=5)\n",
        "history = model.fit_generator(DataGen.flow([train_x,train_gen],train_y,batch_size=64),steps_per_epoch=np.ceil(len(train_y)/64),epochs=5,verbose=1,validation_data=([valid_x,valid_gen],valid_y))\n",
        "score = model.evaluate([test_x,test_gen], test_y, batch_size=64)"
      ],
      "metadata": {
        "id": "hJZIWH8zxzPV"
      },
      "execution_count": null,
      "outputs": []
    },
    {
      "cell_type": "code",
      "source": [
        "checkpoint =keras.callbacks.ModelCheckpoint(filepath='weights/weights.{epoch:02d}-{val_loss:.2f}.hdf5',save_weights_only=True,period=5)\n",
        "history = model.fit_generator(DataGen.flow([train_x,train_gen],train_y,batch_size=64),steps_per_epoch=np.ceil(len(train_y)/64),epochs=5,verbose=1,validation_data=([valid_x,valid_gen],valid_y))\n",
        "score = model.evaluate([test_x,test_gen], test_y, batch_size=64)"
      ],
      "metadata": {
        "id": "k2ofcA2Px4Pb"
      },
      "execution_count": null,
      "outputs": []
    },
    {
      "cell_type": "code",
      "source": [
        "df_cols = ['age', 'preag' , 'gen','act','abs']\n",
        "new_df = pd.DataFrame(columns=df_cols)\n",
        "def TestMAE(model,test_data,test_label,test_gender):\n",
        "    test_gender = np.array(test_gender)\n",
        "    test_gender = np.expand_dims(test_gender,axis=1)\n",
        "    layer=K.function([model.layers[0].input,model.layers[11].input],[model.layers[-1].output])\n",
        "    predictions=layer([test_data,test_gender])\n",
        "    #print(predictions)\n",
        "    predictions = np.array(predictions)\n",
        "    #print(predictions)\n",
        "    predictions = np.squeeze(predictions,axis=0)\n",
        "    print (predictions.shape)\n",
        "    x=(predictions-test_label)\n",
        "    y=(np.abs(predictions-test_label))\n",
        "    TestMAE = np.mean(np.abs(predictions-test_label))\n",
        "    return TestMAE,predictions\n",
        "\n",
        "tests_x=test_x[1200:1500]\n",
        "tests_y=test_y[1200:1500]\n",
        "tests_gen=test_gen[1200:1500]\n",
        "val,pred=TestMAE(model,tests_x,tests_y,tests_gen)\n",
        "print(val)\n",
        "\n",
        "for i in range(300):\n",
        "  new_row = {'age': tests_y[i], 'preag':pred[i][0], 'gen':tests_gen[i], 'act': tests_y[i]-pred[i][0], 'abs': np.abs( tests_y[i]-pred[i][0])}\n",
        "  new_df= new_df.append(new_row, ignore_index=True)"
      ],
      "metadata": {
        "colab": {
          "base_uri": "https://localhost:8080/"
        },
        "outputId": "ae0a3012-9875-4615-c68a-9a75826c3912",
        "id": "TTj5iKG6p_wt"
      },
      "execution_count": null,
      "outputs": [
        {
          "output_type": "stream",
          "name": "stdout",
          "text": [
            "(300, 1)\n",
            "45.743244\n"
          ]
        }
      ]
    },
    {
      "cell_type": "code",
      "source": [
        "from scipy import stats\n",
        "\n",
        "def res_plots(df):\n",
        "  res = df['act']\n",
        "  plt.figure(figsize=(15,6))\n",
        "  #df['preag'] = df['preag'].astype('int')\n",
        "  # Residual plot\n",
        "  plt.subplot(1, 2, 1)\n",
        "  plt.scatter(df['preag'], res)\n",
        "  plt.axhline(0, color='r')\n",
        "  plt.title('Residual plot')\n",
        "  plt.xlabel('Predictions')\n",
        "  plt.ylabel('Residuals')\n",
        "\n",
        "  # Normal Q-Q plot\n",
        "  plt.subplot(1, 2, 2)\n",
        "  stats.probplot(res, dist='norm', plot=plt)\n",
        "  plt.title('Normal Q-Q plot')\n",
        "  plt.show()\n",
        "\n",
        "res_plots(new_df)"
      ],
      "metadata": {
        "colab": {
          "base_uri": "https://localhost:8080/",
          "height": 404
        },
        "outputId": "5d61cebd-81ed-449b-8760-3339172417a3",
        "id": "iwDcF-5Ap_wv"
      },
      "execution_count": null,
      "outputs": [
        {
          "output_type": "display_data",
          "data": {
            "text/plain": [
              "<Figure size 1080x432 with 2 Axes>"
            ],
            "image/png": "[encoded data removed]"
          },
          "metadata": {
            "needs_background": "light"
          }
        }
      ]
    },
    {
      "cell_type": "code",
      "source": [
        "\n",
        "from keras.metrics import mean_absolute_error\n",
        "import pandas as pd\n",
        "import numpy as np\n",
        "import os\n",
        "import matplotlib.pyplot as plt\n",
        "import seaborn as sns\n",
        "\n",
        "def plot_preds(df, model_name):\n",
        "  plt.figure(figsize=(6,6))\n",
        "  sns.scatterplot(x='age', y='preag', data=df)\n",
        "  sns.lineplot(x='age', y='age', data=df, color='red')\n",
        "  # plt.title(model_name)\n",
        "  plt.xlabel('Actual bone age (months)', fontsize=14)\n",
        "  plt.ylabel('Predicted bone age (months)', fontsize=14)\n",
        "  plt.show()\n",
        "\n",
        "plot_preds(new_df, 'Different Scale CBAM with SE')"
      ],
      "metadata": {
        "colab": {
          "base_uri": "https://localhost:8080/",
          "height": 392
        },
        "outputId": "dbac9e2b-89f3-4226-e99b-1f62fcd2a944",
        "id": "KbDND_YLp_ww"
      },
      "execution_count": null,
      "outputs": [
        {
          "output_type": "display_data",
          "data": {
            "text/plain": [
              "<Figure size 432x432 with 1 Axes>"
            ],
            "image/png": "[encoded data removed]"
          },
          "metadata": {
            "needs_background": "light"
          }
        }
      ]
    },
    {
      "cell_type": "code",
      "source": [
        "def plot_preds_gender(df, model_name):\n",
        "  plt.figure(figsize=(6,6))\n",
        "  sns.scatterplot(x='age', y='preag', data=df, hue='gen', alpha=0.8)\n",
        "  sns.lineplot(x='age', y='age', data=df, color='red')\n",
        "  # plt.title(model_name)\n",
        "  plt.xlabel('Actual bone age (months)', fontsize=14)\n",
        "  plt.ylabel('Predicted bone age (months)', fontsize=14)\n",
        "  plt.show()\n",
        "plot_preds_gender(new_df, 'Different Scale CBAM with SE' )"
      ],
      "metadata": {
        "colab": {
          "base_uri": "https://localhost:8080/",
          "height": 392
        },
        "outputId": "2048aac9-06b5-4c3b-b95f-f133eb9828f0",
        "id": "aQd7xVV6p_ww"
      },
      "execution_count": null,
      "outputs": [
        {
          "output_type": "display_data",
          "data": {
            "text/plain": [
              "<Figure size 432x432 with 1 Axes>"
            ],
            "image/png": "[encoded data removed]"
          },
          "metadata": {
            "needs_background": "light"
          }
        }
      ]
    },
    {
      "cell_type": "code",
      "source": [
        "import matplotlib.image as mpimg\n",
        "import matplotlib.pyplot as plt\n",
        "\n",
        "\n",
        "\n",
        "last_conv_layer_name = \"batch_normalization_189\"\n",
        "\n",
        "\n",
        "for column in df['path']:\n",
        "  print(column)\n",
        "  img = mpimg.imread(column)\n",
        "  plt.imshow(img)\n",
        "  break"
      ],
      "metadata": {
        "colab": {
          "base_uri": "https://localhost:8080/",
          "height": 286
        },
        "id": "eoFdnuopqLw2",
        "outputId": "0fdf1ea1-4ef6-43c5-a8a0-c40ee2c8dff4"
      },
      "execution_count": null,
      "outputs": [
        {
          "output_type": "stream",
          "name": "stdout",
          "text": [
            "/content/drive/MyDrive/RSNA/archive/boneage-training-dataset/boneage-training-dataset/1377.png\n"
          ]
        },
        {
          "output_type": "display_data",
          "data": {
            "text/plain": [
              "<Figure size 432x288 with 1 Axes>"
            ],
            "image/png": "[encoded data removed]"
          },
          "metadata": {
            "needs_background": "light"
          }
        }
      ]
    },
    {
      "cell_type": "code",
      "source": [],
      "metadata": {
        "id": "xULiFclBqbgL"
      },
      "execution_count": null,
      "outputs": []
    },
    {
      "cell_type": "code",
      "source": [
        "def get_img_array(img_path, size):\n",
        "    # `img` is a PIL image of size 299x299\n",
        "    img = tf.keras.utils.load_img(img_path, target_size=size)\n",
        "    # `array` is a float32 Numpy array of shape (299, 299, 3)\n",
        "    array = tf.keras.utils.img_to_array(img)\n",
        "    # We add a dimension to transform our array into a \"batch\"\n",
        "    # of size (1, 299, 299, 3)\n",
        "    array = np.expand_dims(array, axis=0)\n",
        "    return array\n",
        "\n",
        "\n",
        "def make_gradcam_heatmap(img_array, model, last_conv_layer_name, pred_index=None):\n",
        "    # First, we create a model that maps the input image to the activations\n",
        "    # of the last conv layer as well as the output predictions\n",
        "    grad_model = tf.keras.models.Model(\n",
        "        [model.layers[0].input,model.layers[11].input], [model.get_layer(last_conv_layer_name).output, model.output]\n",
        "    )\n",
        "\n",
        "    # Then, we compute the gradient of the top predicted class for our input image\n",
        "    # with respect to the activations of the last conv layer\n",
        "    with tf.GradientTape() as tape:\n",
        "        last_conv_layer_output, preds = grad_model(img_array)\n",
        "        if pred_index is None:\n",
        "            pred_index = tf.argmax(preds[0])\n",
        "        class_channel = preds[:, pred_index]\n",
        "\n",
        "\n",
        "    # This is the gradient of the output neuron (top predicted or chosen)\n",
        "    # with regard to the output feature map of the last conv layer\n",
        "    grads = tape.gradient(class_channel, last_conv_layer_output)\n",
        "\n",
        "    # This is a vector where each entry is the mean intensity of the gradient\n",
        "    # over a specific feature map channel\n",
        "    pooled_grads = tf.reduce_mean(grads, axis=(0, 1, 2))\n",
        "\n",
        "    # We multiply each channel in the feature map array\n",
        "    # by \"how important this channel is\" with regard to the top predicted class\n",
        "    # then sum all the channels to obtain the heatmap class activation\n",
        "    last_conv_layer_output = last_conv_layer_output[0]\n",
        "    heatmap = last_conv_layer_output @ pooled_grads[..., tf.newaxis]\n",
        "    heatmap = tf.squeeze(heatmap)\n",
        "\n",
        "    # For visualization purpose, we will also normalize the heatmap between 0 & 1\n",
        "    heatmap = tf.maximum(heatmap, 0) / tf.math.reduce_max(heatmap)\n",
        "    return heatmap.numpy()"
      ],
      "metadata": {
        "id": "Qs68zamU-gPI"
      },
      "execution_count": null,
      "outputs": []
    },
    {
      "cell_type": "code",
      "source": [
        "\n",
        "\n",
        "\n",
        "import keras\n",
        "import tensorflow as tf\n",
        "preprocess_input = keras.applications.xception.preprocess_input\n",
        "img_path=\"/content/drive/MyDrive/RSNA/archive/boneage-training-dataset/boneage-training-dataset/\"\n",
        "img_array = preprocess_input(get_img_array(img_path, size=IMG_SIZE))\n",
        "last_conv_layer_name = \"batch_normalization_189\"\n",
        "file_list = os.listdir(img_path)\n",
        "file_list.sort()\n",
        "for filename in file_list:\n",
        "  print (filename)\n",
        "  filepath=img_path+filename\n",
        "  img_array = preprocess_input(get_img_array(filepath, size=IMG_SIZE))\n",
        "  a=[0]\n",
        "  a=np.asarray(a)\n",
        "  x=[img_array,a]\n",
        "  # Print what the top predicted class is\n",
        "  preds = model.predict(x)\n",
        "  #print(\"Predicted:\", decode_predictions(preds, top=1)[0])\n",
        "\n",
        "  # Generate class activation heatmap\n",
        "  heatmap = make_gradcam_heatmap(x, model, last_conv_layer_name)\n",
        "  save_and_display_gradcam(filepath, heatmap)\n",
        "\n",
        "# Display heatmap\n",
        "#plt.matshow(heatmap)plt.show()\n",
        "#heat_img =  tf.keras.utils.array_to_img(heatmap)\n"
      ],
      "metadata": {
        "id": "3lC32ric-5hu",
        "colab": {
          "base_uri": "https://localhost:8080/",
          "height": 380
        },
        "outputId": "d5e4f69c-ca43-4fea-fc84-f447507ec3a3"
      },
      "execution_count": null,
      "outputs": [
        {
          "ename": "IsADirectoryError",
          "evalue": "ignored",
          "output_type": "error",
          "traceback": [
            "\u001b[0;31m---------------------------------------------------------------------------\u001b[0m",
            "\u001b[0;31mIsADirectoryError\u001b[0m                         Traceback (most recent call last)",
            "\u001b[0;32m<ipython-input-112-21b33e3ecf14>\u001b[0m in \u001b[0;36m<module>\u001b[0;34m\u001b[0m\n\u001b[1;32m      3\u001b[0m \u001b[0mpreprocess_input\u001b[0m \u001b[0;34m=\u001b[0m \u001b[0mkeras\u001b[0m\u001b[0;34m.\u001b[0m\u001b[0mapplications\u001b[0m\u001b[0;34m.\u001b[0m\u001b[0mxception\u001b[0m\u001b[0;34m.\u001b[0m\u001b[0mpreprocess_input\u001b[0m\u001b[0;34m\u001b[0m\u001b[0;34m\u001b[0m\u001b[0m\n\u001b[1;32m      4\u001b[0m \u001b[0mimg_path\u001b[0m\u001b[0;34m=\u001b[0m\u001b[0;34m\"/content/drive/MyDrive/RSNA/archive/boneage-training-dataset/boneage-training-dataset/\"\u001b[0m\u001b[0;34m\u001b[0m\u001b[0;34m\u001b[0m\u001b[0m\n\u001b[0;32m----> 5\u001b[0;31m \u001b[0mimg_array\u001b[0m \u001b[0;34m=\u001b[0m \u001b[0mpreprocess_input\u001b[0m\u001b[0;34m(\u001b[0m\u001b[0mget_img_array\u001b[0m\u001b[0;34m(\u001b[0m\u001b[0mimg_path\u001b[0m\u001b[0;34m,\u001b[0m \u001b[0msize\u001b[0m\u001b[0;34m=\u001b[0m\u001b[0mIMG_SIZE\u001b[0m\u001b[0;34m)\u001b[0m\u001b[0;34m)\u001b[0m\u001b[0;34m\u001b[0m\u001b[0;34m\u001b[0m\u001b[0m\n\u001b[0m\u001b[1;32m      6\u001b[0m \u001b[0mlast_conv_layer_name\u001b[0m \u001b[0;34m=\u001b[0m \u001b[0;34m\"batch_normalization_189\"\u001b[0m\u001b[0;34m\u001b[0m\u001b[0;34m\u001b[0m\u001b[0m\n\u001b[1;32m      7\u001b[0m \u001b[0mfile_list\u001b[0m \u001b[0;34m=\u001b[0m \u001b[0mos\u001b[0m\u001b[0;34m.\u001b[0m\u001b[0mlistdir\u001b[0m\u001b[0;34m(\u001b[0m\u001b[0mimg_path\u001b[0m\u001b[0;34m)\u001b[0m\u001b[0;34m\u001b[0m\u001b[0;34m\u001b[0m\u001b[0m\n",
            "\u001b[0;32m<ipython-input-74-c90d0362a135>\u001b[0m in \u001b[0;36mget_img_array\u001b[0;34m(img_path, size)\u001b[0m\n\u001b[1;32m      1\u001b[0m \u001b[0;32mdef\u001b[0m \u001b[0mget_img_array\u001b[0m\u001b[0;34m(\u001b[0m\u001b[0mimg_path\u001b[0m\u001b[0;34m,\u001b[0m \u001b[0msize\u001b[0m\u001b[0;34m)\u001b[0m\u001b[0;34m:\u001b[0m\u001b[0;34m\u001b[0m\u001b[0;34m\u001b[0m\u001b[0m\n\u001b[1;32m      2\u001b[0m     \u001b[0;31m# `img` is a PIL image of size 299x299\u001b[0m\u001b[0;34m\u001b[0m\u001b[0;34m\u001b[0m\u001b[0;34m\u001b[0m\u001b[0m\n\u001b[0;32m----> 3\u001b[0;31m     \u001b[0mimg\u001b[0m \u001b[0;34m=\u001b[0m \u001b[0mtf\u001b[0m\u001b[0;34m.\u001b[0m\u001b[0mkeras\u001b[0m\u001b[0;34m.\u001b[0m\u001b[0mutils\u001b[0m\u001b[0;34m.\u001b[0m\u001b[0mload_img\u001b[0m\u001b[0;34m(\u001b[0m\u001b[0mimg_path\u001b[0m\u001b[0;34m,\u001b[0m \u001b[0mtarget_size\u001b[0m\u001b[0;34m=\u001b[0m\u001b[0msize\u001b[0m\u001b[0;34m)\u001b[0m\u001b[0;34m\u001b[0m\u001b[0;34m\u001b[0m\u001b[0m\n\u001b[0m\u001b[1;32m      4\u001b[0m     \u001b[0;31m# `array` is a float32 Numpy array of shape (299, 299, 3)\u001b[0m\u001b[0;34m\u001b[0m\u001b[0;34m\u001b[0m\u001b[0;34m\u001b[0m\u001b[0m\n\u001b[1;32m      5\u001b[0m     \u001b[0marray\u001b[0m \u001b[0;34m=\u001b[0m \u001b[0mtf\u001b[0m\u001b[0;34m.\u001b[0m\u001b[0mkeras\u001b[0m\u001b[0;34m.\u001b[0m\u001b[0mutils\u001b[0m\u001b[0;34m.\u001b[0m\u001b[0mimg_to_array\u001b[0m\u001b[0;34m(\u001b[0m\u001b[0mimg\u001b[0m\u001b[0;34m)\u001b[0m\u001b[0;34m\u001b[0m\u001b[0;34m\u001b[0m\u001b[0m\n",
            "\u001b[0;32m/usr/local/lib/python3.8/dist-packages/keras/utils/image_utils.py\u001b[0m in \u001b[0;36mload_img\u001b[0;34m(path, grayscale, color_mode, target_size, interpolation, keep_aspect_ratio)\u001b[0m\n\u001b[1;32m    420\u001b[0m         \u001b[0;32mif\u001b[0m \u001b[0misinstance\u001b[0m\u001b[0;34m(\u001b[0m\u001b[0mpath\u001b[0m\u001b[0;34m,\u001b[0m \u001b[0mpathlib\u001b[0m\u001b[0;34m.\u001b[0m\u001b[0mPath\u001b[0m\u001b[0;34m)\u001b[0m\u001b[0;34m:\u001b[0m\u001b[0;34m\u001b[0m\u001b[0;34m\u001b[0m\u001b[0m\n\u001b[1;32m    421\u001b[0m             \u001b[0mpath\u001b[0m \u001b[0;34m=\u001b[0m \u001b[0mstr\u001b[0m\u001b[0;34m(\u001b[0m\u001b[0mpath\u001b[0m\u001b[0;34m.\u001b[0m\u001b[0mresolve\u001b[0m\u001b[0;34m(\u001b[0m\u001b[0;34m)\u001b[0m\u001b[0;34m)\u001b[0m\u001b[0;34m\u001b[0m\u001b[0;34m\u001b[0m\u001b[0m\n\u001b[0;32m--> 422\u001b[0;31m         \u001b[0;32mwith\u001b[0m \u001b[0mopen\u001b[0m\u001b[0;34m(\u001b[0m\u001b[0mpath\u001b[0m\u001b[0;34m,\u001b[0m \u001b[0;34m\"rb\"\u001b[0m\u001b[0;34m)\u001b[0m \u001b[0;32mas\u001b[0m \u001b[0mf\u001b[0m\u001b[0;34m:\u001b[0m\u001b[0;34m\u001b[0m\u001b[0;34m\u001b[0m\u001b[0m\n\u001b[0m\u001b[1;32m    423\u001b[0m             \u001b[0mimg\u001b[0m \u001b[0;34m=\u001b[0m \u001b[0mpil_image\u001b[0m\u001b[0;34m.\u001b[0m\u001b[0mopen\u001b[0m\u001b[0;34m(\u001b[0m\u001b[0mio\u001b[0m\u001b[0;34m.\u001b[0m\u001b[0mBytesIO\u001b[0m\u001b[0;34m(\u001b[0m\u001b[0mf\u001b[0m\u001b[0;34m.\u001b[0m\u001b[0mread\u001b[0m\u001b[0;34m(\u001b[0m\u001b[0;34m)\u001b[0m\u001b[0;34m)\u001b[0m\u001b[0;34m)\u001b[0m\u001b[0;34m\u001b[0m\u001b[0;34m\u001b[0m\u001b[0m\n\u001b[1;32m    424\u001b[0m     \u001b[0;32melse\u001b[0m\u001b[0;34m:\u001b[0m\u001b[0;34m\u001b[0m\u001b[0;34m\u001b[0m\u001b[0m\n",
            "\u001b[0;31mIsADirectoryError\u001b[0m: [Errno 21] Is a directory: '/content/drive/MyDrive/RSNA/archive/boneage-training-dataset/boneage-training-dataset/'"
          ]
        }
      ]
    },
    {
      "cell_type": "code",
      "source": [
        "from IPython.display import Image, display\n",
        "import matplotlib.pyplot as plt\n",
        "import matplotlib.cm as cm\n",
        "\n",
        "def save_and_display_gradcam(img_path, heatmap, cam_path='/content/cam'+\"cam12684.jpg\", alpha=0.5):\n",
        "    # Load the original image\n",
        "    img = tf.keras.utils.load_img(img_path)\n",
        "    img = tf.keras.utils.img_to_array(img)\n",
        "\n",
        "    # Rescale heatmap to a range 0-255\n",
        "    heatmap = np.uint8(255 * heatmap)\n",
        "\n",
        "    # Use jet colormap to colorize heatmap\n",
        "    jet = cm.get_cmap(\"jet\")\n",
        "\n",
        "    # Use RGB values of the colormap\n",
        "    jet_colors = jet(np.arange(256))[:, :3]\n",
        "    jet_heatmap = jet_colors[heatmap]\n",
        "\n",
        "    # Create an image with RGB colorized heatmap\n",
        "    jet_heatmap =tf.keras.preprocessing.image.array_to_img(jet_heatmap)\n",
        "    jet_heatmap = jet_heatmap.resize((img.shape[1], img.shape[0]))\n",
        "    jet_heatmap = tf.keras.utils.img_to_array(jet_heatmap)\n",
        "   # print(jet_heatmap)\n",
        "    # Superimpose the heatmap on original image\n",
        "    superimposed_img = jet_heatmap * alpha + img\n",
        "    superimposed_img =  tf.keras.utils.array_to_img(superimposed_img)\n",
        "\n",
        "    # Save the superimposed image\n",
        "    superimposed_img.save(cam_path)\n",
        "\n",
        "    # Display Grad CAM\n",
        "    #display(Image(cam_path))\n"
      ],
      "metadata": {
        "colab": {
          "base_uri": "https://localhost:8080/",
          "height": 1000
        },
        "id": "cI91viWWqq7n",
        "outputId": "b5074ed4-a676-4bb0-f2dc-64c78e033bbb"
      },
      "execution_count": null,
      "outputs": [
        {
          "output_type": "display_data",
          "data": {
            "image/jpeg": "[encoded data removed]",
            "text/plain": [
              "<IPython.core.display.Image object>"
            ]
          },
          "metadata": {}
        }
      ]
    },
    {
      "cell_type": "markdown",
      "metadata": {
        "id": "zf7k4BOWA-LM"
      },
      "source": [
        "============================================================================================="
      ]
    },
    {
      "cell_type": "code",
      "execution_count": null,
      "metadata": {
        "id": "1rSdNFgoX2go"
      },
      "outputs": [],
      "source": [
        "def conv2d_bn(x,filters,num_row,num_col,padding='same',strides=(1, 1)):\n",
        "   \n",
        "    x = keras.layers.Conv2D(filters, (num_row, num_col),padding=padding)(x)\n",
        "    x = keras.layers.BatchNormalization(axis=3, scale=False)(x)\n",
        "    x = keras.layers.Activation('relu')(x)\n",
        "    return x\n",
        "\n",
        "    #x = conv2d_bn(x, 32, 3, 3, padding='valid') "
      ]
    },
    {
      "cell_type": "code",
      "execution_count": null,
      "metadata": {
        "id": "VE1A_j3WGLxF"
      },
      "outputs": [],
      "source": [
        "from tensorflow.keras import regularizers\n",
        "def channel_attention(input_feature):\n",
        "    kernel_initializer = tf.keras.initializers.variance_scaling()\n",
        "    bias_initializer = tf.constant_initializer(value=0.0)\n",
        "    channel = input_feature.get_shape()[-1]\n",
        "    ratio=8\n",
        "    avg_pool = tf.reduce_mean(input_feature, axis=[1,2], keepdims=True)\n",
        "    assert avg_pool.get_shape()[1:] == (1,1,channel)\n",
        "    avg_pool =Dense(\n",
        "                                 units=channel//ratio,\n",
        "                                 activation=tf.nn.relu,\n",
        "                   kernel_regularizer=regularizers.L2(0.1),\n",
        "                                 kernel_initializer=kernel_initializer,\n",
        "                                 bias_initializer=bias_initializer) (avg_pool)\n",
        "    avg_pool = tf.keras.layers.Dropout(0.2)( avg_pool)\n",
        "    assert avg_pool.get_shape()[1:] == (1,1,channel//ratio)\n",
        "    avg_pool = Dense(\n",
        "                                 units=channel,                             \n",
        "                                 kernel_initializer=kernel_initializer,\n",
        "                                 kernel_regularizer=regularizers.L2(0.1),\n",
        "                                 bias_initializer=bias_initializer)  (avg_pool)  \n",
        "\n",
        "    assert avg_pool.get_shape()[1:] == (1,1,channel)\n",
        "\n",
        "    max_pool = tf.reduce_max(input_feature, axis=[1,2], keepdims=True)    \n",
        "    assert max_pool.get_shape()[1:] == (1,1,channel)\n",
        "    max_pool = Dense(\n",
        "                                 units=channel//ratio,\n",
        "                                  kernel_regularizer=regularizers.L2(0.1),\n",
        "                                 activation=tf.nn.relu) (max_pool)  \n",
        "\n",
        "    assert max_pool.get_shape()[1:] == (1,1,channel//ratio)\n",
        "    max_pool = Dense(kernel_regularizer=regularizers.L2(0.1),\n",
        "                                 units=channel)  (max_pool)\n",
        "\n",
        "    assert max_pool.get_shape()[1:] == (1,1,channel)\n",
        "\n",
        "    scale = tf.keras.activations.sigmoid(avg_pool + max_pool) \n",
        "    return input_feature * scale\n",
        "\n"
      ]
    },
    {
      "cell_type": "code",
      "execution_count": null,
      "metadata": {
        "id": "vohXWVZBGNbI"
      },
      "outputs": [],
      "source": [
        "def spatial_attention1(input_feature):\n",
        "    kernel_size = 3\n",
        "    kernel_initializer = tf.keras.initializers.variance_scaling()\n",
        "\n",
        "    avg_pool = tf.reduce_mean(input_feature, axis=[3], keepdims=True)\n",
        "    assert avg_pool.get_shape()[-1] == 1\n",
        "    max_pool = tf.reduce_max(input_feature, axis=[3], keepdims=True)\n",
        "    assert max_pool.get_shape()[-1] == 1\n",
        "    concat = tf.concat([avg_pool,max_pool], 3)\n",
        "    assert concat.get_shape()[-1] == 2\n",
        "\n",
        "    concat = Conv2D(\n",
        "                              filters=1,\n",
        "                              kernel_size=[kernel_size,kernel_size],\n",
        "                              strides=[1,1],\n",
        "                              padding=\"same\",\n",
        "                              activation=None,\n",
        "                              kernel_regularizer=regularizers.L2(0.01),\n",
        "                              kernel_initializer=kernel_initializer,\n",
        "                              use_bias=False)(concat)\n",
        "  #concat = tf.keras.layers.Dropout(0.2)( concat)\n",
        "    assert concat.get_shape()[-1] == 1\n",
        "    concat = tf.keras.activations.sigmoid(concat)\n",
        "    \n",
        "    return input_feature * concat\n"
      ]
    },
    {
      "cell_type": "code",
      "execution_count": null,
      "metadata": {
        "id": "W2eO-HVTGUZL"
      },
      "outputs": [],
      "source": [
        "def spatial_attention2(input_feature):\n",
        "    kernel_size = 5\n",
        "    kernel_initializer = tf.keras.initializers.variance_scaling()\n",
        "\n",
        "    avg_pool = tf.reduce_mean(input_feature, axis=[3], keepdims=True)\n",
        "    assert avg_pool.get_shape()[-1] == 1\n",
        "    max_pool = tf.reduce_max(input_feature, axis=[3], keepdims=True)\n",
        "    assert max_pool.get_shape()[-1] == 1\n",
        "    concat = tf.concat([avg_pool,max_pool], 3)\n",
        "    assert concat.get_shape()[-1] == 2\n",
        "\n",
        "    concat = Conv2D(\n",
        "                              filters=1,\n",
        "                              kernel_size=[kernel_size,kernel_size],\n",
        "                              strides=[1,1],\n",
        "                              padding=\"same\",\n",
        "                              activation=None,\n",
        "                              kernel_regularizer=regularizers.L2(0.01),\n",
        "                              kernel_initializer=kernel_initializer,\n",
        "                              use_bias=False)(concat)\n",
        "  #concat = tf.keras.layers.Dropout(0.2)( concat)\n",
        "    assert concat.get_shape()[-1] == 1\n",
        "    concat = tf.keras.activations.sigmoid(concat)\n",
        "    \n",
        "    return input_feature * concat\n"
      ]
    },
    {
      "cell_type": "code",
      "execution_count": null,
      "metadata": {
        "id": "Vz81OOBCGWGY"
      },
      "outputs": [],
      "source": [
        "def spatial_attention3(input_feature):\n",
        "    kernel_size = 7\n",
        "    kernel_initializer = tf.keras.initializers.variance_scaling()\n",
        "\n",
        "    avg_pool = tf.reduce_mean(input_feature, axis=[3], keepdims=True)\n",
        "    assert avg_pool.get_shape()[-1] == 1\n",
        "    max_pool = tf.reduce_max(input_feature, axis=[3], keepdims=True)\n",
        "    assert max_pool.get_shape()[-1] == 1\n",
        "    concat = tf.concat([avg_pool,max_pool], 3)\n",
        "    assert concat.get_shape()[-1] == 2\n",
        "\n",
        "    concat = Conv2D(\n",
        "                              filters=1,\n",
        "                              kernel_size=[kernel_size,kernel_size],\n",
        "                              strides=[1,1],\n",
        "                              padding=\"same\",\n",
        "                              activation=None,\n",
        "                              kernel_regularizer=regularizers.L2(0.01),\n",
        "                              kernel_initializer=kernel_initializer,\n",
        "                              use_bias=False)(concat)\n",
        "  #concat = tf.keras.layers.Dropout(0.2)( concat)\n",
        "    assert concat.get_shape()[-1] == 1\n",
        "    concat = tf.keras.activations.sigmoid(concat)\n",
        "    \n",
        "    return input_feature * concat\n"
      ]
    },
    {
      "cell_type": "code",
      "execution_count": null,
      "metadata": {
        "id": "soPkG16uYAie"
      },
      "outputs": [],
      "source": [
        "base_model = InceptionV3(weights='imagenet', include_top=False)\n",
        "\n",
        "input = Input(shape=(256,256,3),name='input1')\n",
        "input_gender = Input(shape=(1,),dtype='float32',name='input2')\n",
        "output = base_model(input)\n",
        "gender_embedding=Dense(32)(input_gender)\n",
        "#gender_embedding=Dense(12)(gender_embedding)\n",
        "#x = keras.layers.MaxPooling2D(pool_size=(5,5))(output)\n",
        "#x = keras.layers.Conv2D(512,kernel_size=(3,3))(x)\n",
        "#x = conv2d_bn(output, 512, 3, 3, padding='valid') \n",
        "#x = conv2d_bn(x, 256, 3, 3, padding='valid') \n",
        "#x = conv2d_bn(x, 256, 3, 3, padding='valid') \n",
        "x=channel_attention(output)\n",
        "x=spatial_attention3(x)\n",
        "\n",
        "print (K.int_shape(output))\n",
        "x = keras.layers.MaxPooling2D(pool_size=(2,2))(x)\n",
        "print (K.int_shape(x))\n",
        "x=Flatten()(x)\n",
        "f = keras.layers.Concatenate(axis=1)([x,gender_embedding])\n",
        "print (K.int_shape(f)) \n",
        "#x = Dense(256, activation='relu')(x)\n",
        "predictions = Dense(1)(f)\n",
        "model = Model(inputs=[input,input_gender], outputs=predictions)\n",
        "Adam=tf.keras.optimizers.Adam(lr=0.0001,beta_1=0.9,beta_2=0.999)\n",
        "model.compile(optimizer=Adam, loss='mean_absolute_error', metrics=['MAE'])\n",
        "#model.summary()\n",
        "from keras.preprocessing.image import ImageDataGenerator\n",
        "DataGen = ImageDataGenerator(rotation_range=20,width_shift_range=0.15,height_shift_range=0.15,zoom_range=0.2,horizontal_flip=True)\n",
        "def Generator(x_train,gender_train,y_train,batch_size):\n",
        "    loopcount = len(y_train)//batch_size\n",
        "    i=0\n",
        "    while (True):\n",
        "        if i>loopcount:\n",
        "            i=0\n",
        "        # i=np.random.randint(0,loopcount)\n",
        "        x_train_batch = x_train[i*batch_size:(i+1)*batch_size,:,:,:]\n",
        "        x_train_batch = DataAugment(x_train_batch)\n",
        "        gender_train_batch = gender_train[i*batch_size:(i+1)*batch_size]\n",
        "        y_train_batch = y_train[i*batch_size:(i+1)*batch_size]\n",
        "        inputs = [x_train_batch,gender_train_batch]\n",
        "        target = y_train_batch\n",
        "        yield (inputs ,target)\n",
        "        i = i+1\n",
        "checkpoint =keras.callbacks.ModelCheckpoint(filepath='weights/weights.{epoch:02d}-{val_loss:.2f}.hdf5',save_weights_only=True,period=100)\n",
        "history = model.fit_generator(DataGen.flow([train_x,train_gen],train_y,batch_size=64),steps_per_epoch=np.ceil(len(train_y)/64),epochs=100,verbose=1,validation_data=([valid_x,valid_gen],valid_y))\n",
        "#history = model.fit_generator(Generator(x_train,gender_train,y_train,batch_size),steps_per_epoch=np.ceil(len(y_train)/batch_size),epochs=10,verbose=1,validation_data=([x_valid,gender_valid],y_valid))\n",
        "#history=model.fit([x_train,gender_train],y_train,batch_size=32,epochs=5,verbose=1,validation_data=([x_valid,gender_valid],y_valid), callbacks = [checkpoint])\n",
        "score = model.evaluate([test_x,test_gen], test_y, batch_size=64)"
      ]
    },
    {
      "cell_type": "code",
      "execution_count": null,
      "metadata": {
        "id": "wzn7rQjwY6XM"
      },
      "outputs": [],
      "source": [
        "plt.plot(history.history['loss'])\n",
        "plt.plot(history.history['val_loss'])\n",
        "plt.title('Model loss')\n",
        "plt.ylabel('Loss')\n",
        "plt.xlabel('Epoch')\n",
        "plt.legend(['Train', 'Validation'], loc='upper left')\n",
        "plt.show()"
      ]
    },
    {
      "cell_type": "markdown",
      "metadata": {
        "id": "XI2M0wSxYBaF"
      },
      "source": [
        "================================================================================================================================================================================================================================================================================================================================"
      ]
    },
    {
      "cell_type": "code",
      "execution_count": null,
      "metadata": {
        "colab": {
          "base_uri": "https://localhost:8080/"
        },
        "id": "nqR2Qwu7NLlD",
        "outputId": "35019d6d-d0e2-404c-b36c-76a6d124e5fc"
      },
      "outputs": [
        {
          "name": "stdout",
          "output_type": "stream",
          "text": [
            "(None, 6, 6, 2048)\n",
            "(None, 1, 1, 512)\n",
            "Model: \"model_1\"\n",
            "__________________________________________________________________________________________________\n",
            " Layer (type)                   Output Shape         Param #     Connected to                     \n",
            "==================================================================================================\n",
            " input1 (InputLayer)            [(None, 256, 256, 3  0           []                               \n",
            "                                )]                                                                \n",
            "                                                                                                  \n",
            " inception_v3 (Functional)      (None, None, None,   21802784    ['input1[0][0]']                 \n",
            "                                2048)                                                             \n",
            "                                                                                                  \n",
            " conv2d_192 (Conv2D)            (None, 4, 4, 512)    9437696     ['inception_v3[0][0]']           \n",
            "                                                                                                  \n",
            " batch_normalization_191 (Batch  (None, 4, 4, 512)   1536        ['conv2d_192[0][0]']             \n",
            " Normalization)                                                                                   \n",
            "                                                                                                  \n",
            " activation_191 (Activation)    (None, 4, 4, 512)    0           ['batch_normalization_191[0][0]']\n",
            "                                                                                                  \n",
            " global_average_pooling2d_1 (Gl  (None, 512)         0           ['activation_191[0][0]']         \n",
            " obalAveragePooling2D)                                                                            \n",
            "                                                                                                  \n",
            " reshape_1 (Reshape)            (None, 1, 1, 512)    0           ['global_average_pooling2d_1[0][0\n",
            "                                                                 ]']                              \n",
            "                                                                                                  \n",
            " dense_16 (Dense)               (None, 1, 1, 512)    262656      ['reshape_1[0][0]']              \n",
            "                                                                                                  \n",
            " tf.math.reduce_mean_4 (TFOpLam  (None, 4, 4, 1)     0           ['activation_191[0][0]']         \n",
            " bda)                                                                                             \n",
            "                                                                                                  \n",
            " tf.math.reduce_max_4 (TFOpLamb  (None, 4, 4, 1)     0           ['activation_191[0][0]']         \n",
            " da)                                                                                              \n",
            "                                                                                                  \n",
            " multiply_1 (Multiply)          (None, 4, 4, 512)    0           ['activation_191[0][0]',         \n",
            "                                                                  'dense_16[0][0]']               \n",
            "                                                                                                  \n",
            " tf.concat_2 (TFOpLambda)       (None, 4, 4, 2)      0           ['tf.math.reduce_mean_4[0][0]',  \n",
            "                                                                  'tf.math.reduce_max_4[0][0]']   \n",
            "                                                                                                  \n",
            " add_1 (Add)                    (None, 4, 4, 512)    0           ['activation_191[0][0]',         \n",
            "                                                                  'multiply_1[0][0]']             \n",
            "                                                                                                  \n",
            " conv2d_193 (Conv2D)            (None, 4, 4, 1)      18          ['tf.concat_2[0][0]']            \n",
            "                                                                                                  \n",
            " batch_normalization_192 (Batch  (None, 4, 4, 512)   2048        ['add_1[0][0]']                  \n",
            " Normalization)                                                                                   \n",
            "                                                                                                  \n",
            " tf.math.reduce_mean_3 (TFOpLam  (None, 1, 1, 512)   0           ['activation_191[0][0]']         \n",
            " bda)                                                                                             \n",
            "                                                                                                  \n",
            " tf.math.sigmoid_4 (TFOpLambda)  (None, 4, 4, 1)     0           ['conv2d_193[0][0]']             \n",
            "                                                                                                  \n",
            " activation_192 (Activation)    (None, 4, 4, 512)    0           ['batch_normalization_192[0][0]']\n",
            "                                                                                                  \n",
            " dense_12 (Dense)               (None, 1, 1, 64)     32832       ['tf.math.reduce_mean_3[0][0]']  \n",
            "                                                                                                  \n",
            " tf.math.reduce_max_3 (TFOpLamb  (None, 1, 1, 512)   0           ['activation_191[0][0]']         \n",
            " da)                                                                                              \n",
            "                                                                                                  \n",
            " tf.math.multiply_4 (TFOpLambda  (None, 4, 4, 512)   0           ['activation_191[0][0]',         \n",
            " )                                                                'tf.math.sigmoid_4[0][0]']      \n",
            "                                                                                                  \n",
            " block_1 (MaxPooling2D)         (None, 2, 2, 512)    0           ['activation_192[0][0]']         \n",
            "                                                                                                  \n",
            " dropout_1 (Dropout)            (None, 1, 1, 64)     0           ['dense_12[0][0]']               \n",
            "                                                                                                  \n",
            " dense_14 (Dense)               (None, 1, 1, 64)     32832       ['tf.math.reduce_max_3[0][0]']   \n",
            "                                                                                                  \n",
            " tf.math.reduce_mean_5 (TFOpLam  (None, 4, 4, 1)     0           ['tf.math.multiply_4[0][0]']     \n",
            " bda)                                                                                             \n",
            "                                                                                                  \n",
            " tf.math.reduce_max_5 (TFOpLamb  (None, 4, 4, 1)     0           ['tf.math.multiply_4[0][0]']     \n",
            " da)                                                                                              \n",
            "                                                                                                  \n",
            " conv2d_195 (Conv2D)            (None, 2, 2, 512)    262656      ['block_1[0][0]']                \n",
            "                                                                                                  \n",
            " dense_13 (Dense)               (None, 1, 1, 512)    33280       ['dropout_1[0][0]']              \n",
            "                                                                                                  \n",
            " dense_15 (Dense)               (None, 1, 1, 512)    33280       ['dense_14[0][0]']               \n",
            "                                                                                                  \n",
            " tf.concat_3 (TFOpLambda)       (None, 4, 4, 2)      0           ['tf.math.reduce_mean_5[0][0]',  \n",
            "                                                                  'tf.math.reduce_max_5[0][0]']   \n",
            "                                                                                                  \n",
            " batch_normalization_193 (Batch  (None, 2, 2, 512)   1536        ['conv2d_195[0][0]']             \n",
            " Normalization)                                                                                   \n",
            "                                                                                                  \n",
            " tf.__operators__.add_1 (TFOpLa  (None, 1, 1, 512)   0           ['dense_13[0][0]',               \n",
            " mbda)                                                            'dense_15[0][0]']               \n",
            "                                                                                                  \n",
            " conv2d_194 (Conv2D)            (None, 4, 4, 1)      18          ['tf.concat_3[0][0]']            \n",
            "                                                                                                  \n",
            " activation_193 (Activation)    (None, 2, 2, 512)    0           ['batch_normalization_193[0][0]']\n",
            "                                                                                                  \n",
            " tf.math.sigmoid_3 (TFOpLambda)  (None, 1, 1, 512)   0           ['tf.__operators__.add_1[0][0]'] \n",
            "                                                                                                  \n",
            " tf.math.sigmoid_5 (TFOpLambda)  (None, 4, 4, 1)     0           ['conv2d_194[0][0]']             \n",
            "                                                                                                  \n",
            " max_pooling2d_9 (MaxPooling2D)  (None, 1, 1, 512)   0           ['activation_193[0][0]']         \n",
            "                                                                                                  \n",
            " input2 (InputLayer)            [(None, 1)]          0           []                               \n",
            "                                                                                                  \n",
            " tf.math.multiply_3 (TFOpLambda  (None, 4, 4, 512)   0           ['activation_191[0][0]',         \n",
            " )                                                                'tf.math.sigmoid_3[0][0]']      \n",
            "                                                                                                  \n",
            " tf.math.multiply_5 (TFOpLambda  (None, 4, 4, 512)   0           ['tf.math.multiply_4[0][0]',     \n",
            " )                                                                'tf.math.sigmoid_5[0][0]']      \n",
            "                                                                                                  \n",
            " flatten_4 (Flatten)            (None, 512)          0           ['max_pooling2d_9[0][0]']        \n",
            "                                                                                                  \n",
            " dense_11 (Dense)               (None, 32)           64          ['input2[0][0]']                 \n",
            "                                                                                                  \n",
            " flatten_5 (Flatten)            (None, 8192)         0           ['tf.math.multiply_3[0][0]']     \n",
            "                                                                                                  \n",
            " flatten_6 (Flatten)            (None, 8192)         0           ['tf.math.multiply_4[0][0]']     \n",
            "                                                                                                  \n",
            " flatten_7 (Flatten)            (None, 8192)         0           ['tf.math.multiply_5[0][0]']     \n",
            "                                                                                                  \n",
            " concatenate_9 (Concatenate)    (None, 544)          0           ['flatten_4[0][0]',              \n",
            "                                                                  'dense_11[0][0]']               \n",
            "                                                                                                  \n",
            " concatenate_10 (Concatenate)   (None, 8224)         0           ['flatten_5[0][0]',              \n",
            "                                                                  'dense_11[0][0]']               \n",
            "                                                                                                  \n",
            " concatenate_11 (Concatenate)   (None, 8224)         0           ['flatten_6[0][0]',              \n",
            "                                                                  'dense_11[0][0]']               \n",
            "                                                                                                  \n",
            " concatenate_12 (Concatenate)   (None, 8224)         0           ['flatten_7[0][0]',              \n",
            "                                                                  'dense_11[0][0]']               \n",
            "                                                                                                  \n",
            " dense_17 (Dense)               (None, 1)            545         ['concatenate_9[0][0]']          \n",
            "                                                                                                  \n",
            " dense_18 (Dense)               (None, 1)            8225        ['concatenate_10[0][0]']         \n",
            "                                                                                                  \n",
            " dense_19 (Dense)               (None, 1)            8225        ['concatenate_11[0][0]']         \n",
            "                                                                                                  \n",
            " dense_20 (Dense)               (None, 1)            8225        ['concatenate_12[0][0]']         \n",
            "                                                                                                  \n",
            " concatenate_13 (Concatenate)   (None, 4)            0           ['dense_17[0][0]',               \n",
            "                                                                  'dense_18[0][0]',               \n",
            "                                                                  'dense_19[0][0]',               \n",
            "                                                                  'dense_20[0][0]']               \n",
            "                                                                                                  \n",
            " dense_21 (Dense)               (None, 1)            5           ['concatenate_13[0][0]']         \n",
            "                                                                                                  \n",
            "==================================================================================================\n",
            "Total params: 31,928,461\n",
            "Trainable params: 31,890,957\n",
            "Non-trainable params: 37,504\n",
            "__________________________________________________________________________________________________\n"
          ]
        },
        {
          "name": "stderr",
          "output_type": "stream",
          "text": [
            "WARNING:tensorflow:`period` argument is deprecated. Please use `save_freq` to specify the frequency in number of batches seen.\n"
          ]
        }
      ],
      "source": [
        "def AVG(x):\n",
        "    return x/4\n",
        "#from keras.utils.generic_utils import get_custom_objects\n",
        "\n",
        "#get_custom_objects().update({'avg': Activation(AVG)})\n",
        "base_model = InceptionV3(weights='imagenet', include_top=False)\n",
        "\n",
        "input = Input(shape=(256,256,3),name='input1')\n",
        "input_gender = Input(shape=(1,),dtype='float32',name='input2')\n",
        "output = base_model(input)\n",
        "gender_embedding=Dense(32)(input_gender)\n",
        "#gender_embedding=Dense(12)(gender_embedding)\n",
        "#x = keras.layers.MaxPooling2D(pool_size=(5,5))(output)\n",
        "#x = keras.layers.Conv2D(512,kernel_size=(3,3))(x)\n",
        "\n",
        "x1 = conv2d_bn(output, 512, 3, 3, padding='valid') \n",
        "y=channel_attention(x1)\n",
        "z=spatial_attention1(x1)\n",
        "w=spatial_attention1(z)\n",
        "sq = keras.layers.GlobalAveragePooling2D()(x1)\n",
        "sq = keras.layers.Reshape((1,1,512))(sq)\n",
        "sq = keras.layers.Dense(units=512, kernel_regularizer=regularizers.L2(0.1),activation=\"sigmoid\")(sq)\n",
        "block = keras.layers.multiply([x1,sq])\n",
        "#fine Squeeze and Excitation 1\n",
        "\n",
        "net = keras.layers.add([x1,block])\n",
        "net = keras.layers.BatchNormalization()(net)\n",
        "net = keras.layers.Activation(\"relu\")(net)\n",
        "net = keras.layers.MaxPooling2D(pool_size=(2, 2),name=\"block_1\")(net)\n",
        "x = conv2d_bn(net, 512, 1,1, padding='valid') \n",
        "print (K.int_shape(output))\n",
        "x = keras.layers.MaxPooling2D(pool_size=(2,2))(x)\n",
        "print (K.int_shape(x))\n",
        "x=Flatten()(x)\n",
        "y=Flatten()(y)\n",
        "z=Flatten()(z)\n",
        "w=Flatten()(w)\n",
        "fx = keras.layers.Concatenate(axis=1)([x,gender_embedding])\n",
        "fy = keras.layers.Concatenate(axis=1)([y,gender_embedding])\n",
        "fz = keras.layers.Concatenate(axis=1)([z,gender_embedding])\n",
        "fw = keras.layers.Concatenate(axis=1)([w,gender_embedding])\n",
        "#print (K.int_shape(f)) \n",
        "#x = Dense(256, activation='relu')(x)\n",
        "px=Dense(1)(fx)\n",
        "py=Dense(1)(fy)\n",
        "pz=Dense(1)(fz)\n",
        "pw=Dense(1)(fw)\n",
        "f = keras.layers.Concatenate(axis=1)([px,py,pz,pw])\n",
        "predictions = Dense(1,activation=AVG)(f)\n",
        "model = Model(inputs=[input,input_gender], outputs=predictions)\n",
        "Adam=tf.keras.optimizers.Adam(lr=0.0001,beta_1=0.9,beta_2=0.999)\n",
        "model.compile(optimizer=Adam, loss='mean_absolute_error', metrics=['MAE'],run_eagerly=True)\n",
        "model.summary()\n",
        "\n",
        "checkpoint =keras.callbacks.ModelCheckpoint(filepath='weights/weights.{epoch:02d}-{val_loss:.2f}.hdf5',save_weights_only=True,period=50)\n",
        "#history = model.fit_generator(DataGen.flow([train_x,train_gen],train_y,batch_size=64),steps_per_epoch=np.ceil(len(train_y)/64),epochs=50,verbose=1,validation_data=([valid_x,valid_gen],valid_y))\n",
        "#history = model.fit_generator(Generator(x_train,gender_train,y_train,batch_size),steps_per_epoch=np.ceil(len(y_train)/batch_size),epochs=10,verbose=1,validation_data=([x_valid,gender_valid],y_valid))\n",
        "#history=model.fit([x_train,gender_train],y_train,batch_size=32,epochs=5,verbose=1,validation_data=([x_valid,gender_valid],y_valid), callbacks = [checkpoint])\n",
        "#sex_history1 = model.fit(\n",
        "  #  train_img_sex_inputs,\n",
        "  #  steps_per_epoch = step_size_train,\n",
        "   # epochs =1,\n",
        "   # verbose=1,\n",
        "   # validation_data = val_img_sex_inputs,\n",
        "   # validation_steps = step_size_val,\n",
        "   \n",
        "    #callbacks = [checkpoint]\n",
        "   # )\n",
        "#score = model.evaluate(test_img_sex_inputs)"
      ]
    },
    {
      "cell_type": "markdown",
      "metadata": {
        "id": "vW2Zo5XeGVlf"
      },
      "source": [
        "================================="
      ]
    },
    {
      "cell_type": "code",
      "execution_count": null,
      "metadata": {
        "colab": {
          "base_uri": "https://localhost:8080/"
        },
        "id": "NbsX7PpoVo35",
        "outputId": "b77ca124-3d80-43db-a96a-c6a00231cc08"
      },
      "outputs": [
        {
          "name": "stderr",
          "output_type": "stream",
          "text": [
            "WARNING:tensorflow:`period` argument is deprecated. Please use `save_freq` to specify the frequency in number of batches seen.\n",
            "<ipython-input-69-27d096c036fa>:3: UserWarning: `Model.fit_generator` is deprecated and will be removed in a future version. Please use `Model.fit`, which supports generators.\n",
            "  history = model.fit_generator(DataGen.flow([train_x,train_gen],train_y,batch_size=16),steps_per_epoch=np.ceil(len(train_y)/16),epochs=100,verbose=1,validation_data=([valid_x,valid_gen],valid_y))\n"
          ]
        },
        {
          "name": "stdout",
          "output_type": "stream",
          "text": [
            "Epoch 1/100\n",
            "488/488 [==============================] - 188s 363ms/step - loss: 135.1279 - MAE: 59.2840 - val_loss: 61.1438 - val_MAE: 20.9069\n",
            "Epoch 2/100\n",
            "488/488 [==============================] - 171s 349ms/step - loss: 42.4338 - MAE: 16.7824 - val_loss: 35.2327 - val_MAE: 19.2770\n",
            "Epoch 3/100\n",
            "488/488 [==============================] - 171s 349ms/step - loss: 26.0299 - MAE: 14.8536 - val_loss: 20.1819 - val_MAE: 12.6679\n",
            "Epoch 4/100\n",
            "488/488 [==============================] - 171s 349ms/step - loss: 19.4931 - MAE: 14.1641 - val_loss: 19.7491 - val_MAE: 16.1747\n",
            "Epoch 5/100\n",
            "488/488 [==============================] - 170s 348ms/step - loss: 15.9621 - MAE: 13.4688 - val_loss: 25.0193 - val_MAE: 23.3968\n",
            "Epoch 6/100\n",
            "488/488 [==============================] - 171s 349ms/step - loss: 13.6593 - MAE: 12.5375 - val_loss: 16.9947 - val_MAE: 16.2605\n",
            "Epoch 7/100\n",
            "488/488 [==============================] - 171s 349ms/step - loss: 12.7046 - MAE: 12.1936 - val_loss: 13.1389 - val_MAE: 12.8110\n",
            "Epoch 8/100\n",
            "488/488 [==============================] - 170s 349ms/step - loss: 12.1458 - MAE: 11.9025 - val_loss: 10.4266 - val_MAE: 10.2409\n",
            "Epoch 9/100\n",
            "488/488 [==============================] - 170s 348ms/step - loss: 11.4533 - MAE: 11.3020 - val_loss: 12.3819 - val_MAE: 12.2472\n",
            "Epoch 10/100\n",
            "488/488 [==============================] - 170s 348ms/step - loss: 11.1309 - MAE: 11.0121 - val_loss: 14.8601 - val_MAE: 14.7536\n",
            "Epoch 11/100\n",
            "488/488 [==============================] - 170s 348ms/step - loss: 10.7254 - MAE: 10.6282 - val_loss: 10.7992 - val_MAE: 10.7133\n",
            "Epoch 12/100\n",
            "488/488 [==============================] - 172s 352ms/step - loss: 10.6692 - MAE: 10.5913 - val_loss: 10.7859 - val_MAE: 10.7171\n",
            "Epoch 13/100\n",
            "488/488 [==============================] - 171s 350ms/step - loss: 10.3844 - MAE: 10.3229 - val_loss: 10.8710 - val_MAE: 10.8189\n",
            "Epoch 14/100\n",
            "488/488 [==============================] - 171s 349ms/step - loss: 10.2228 - MAE: 10.1731 - val_loss: 9.9977 - val_MAE: 9.9517\n",
            "Epoch 15/100\n",
            "488/488 [==============================] - 170s 348ms/step - loss: 9.7283 - MAE: 9.6837 - val_loss: 10.6013 - val_MAE: 10.5606\n",
            "Epoch 16/100\n",
            "488/488 [==============================] - 169s 347ms/step - loss: 9.6674 - MAE: 9.6310 - val_loss: 9.6572 - val_MAE: 9.6239\n",
            "Epoch 17/100\n",
            "488/488 [==============================] - 170s 349ms/step - loss: 9.6276 - MAE: 9.5956 - val_loss: 9.2156 - val_MAE: 9.1862\n",
            "Epoch 18/100\n",
            "488/488 [==============================] - 171s 351ms/step - loss: 9.2205 - MAE: 9.1926 - val_loss: 10.3427 - val_MAE: 10.3164\n",
            "Epoch 19/100\n",
            "488/488 [==============================] - 170s 348ms/step - loss: 9.0561 - MAE: 9.0308 - val_loss: 9.2202 - val_MAE: 9.1961\n",
            "Epoch 20/100\n",
            "488/488 [==============================] - 169s 347ms/step - loss: 8.8706 - MAE: 8.8472 - val_loss: 9.3543 - val_MAE: 9.3321\n",
            "Epoch 21/100\n",
            "488/488 [==============================] - 172s 353ms/step - loss: 8.9260 - MAE: 8.9041 - val_loss: 8.9222 - val_MAE: 8.9011\n",
            "Epoch 22/100\n",
            "488/488 [==============================] - 173s 354ms/step - loss: 8.6503 - MAE: 8.6295 - val_loss: 8.7739 - val_MAE: 8.7535\n",
            "Epoch 23/100\n",
            "488/488 [==============================] - 173s 355ms/step - loss: 8.6497 - MAE: 8.6295 - val_loss: 9.4857 - val_MAE: 9.4659\n",
            "Epoch 24/100\n",
            "488/488 [==============================] - 173s 355ms/step - loss: 8.5265 - MAE: 8.5063 - val_loss: 8.7576 - val_MAE: 8.7382\n",
            "Epoch 25/100\n",
            "488/488 [==============================] - 172s 352ms/step - loss: 8.3762 - MAE: 8.3565 - val_loss: 12.6226 - val_MAE: 12.6032\n",
            "Epoch 26/100\n",
            "488/488 [==============================] - 173s 354ms/step - loss: 8.2238 - MAE: 8.2045 - val_loss: 9.4440 - val_MAE: 9.4246\n",
            "Epoch 27/100\n",
            "488/488 [==============================] - 172s 352ms/step - loss: 8.2519 - MAE: 8.2325 - val_loss: 9.7840 - val_MAE: 9.7639\n",
            "Epoch 28/100\n",
            "488/488 [==============================] - 173s 354ms/step - loss: 8.1604 - MAE: 8.1409 - val_loss: 8.8247 - val_MAE: 8.8055\n",
            "Epoch 29/100\n",
            "488/488 [==============================] - 174s 356ms/step - loss: 7.9005 - MAE: 7.8812 - val_loss: 10.2651 - val_MAE: 10.2460\n",
            "Epoch 30/100\n",
            "488/488 [==============================] - 174s 356ms/step - loss: 7.8937 - MAE: 7.8744 - val_loss: 8.4461 - val_MAE: 8.4268\n",
            "Epoch 31/100\n",
            "488/488 [==============================] - 174s 356ms/step - loss: 7.8309 - MAE: 7.8118 - val_loss: 8.3754 - val_MAE: 8.3563\n",
            "Epoch 32/100\n",
            "488/488 [==============================] - 174s 356ms/step - loss: 7.7762 - MAE: 7.7571 - val_loss: 10.0214 - val_MAE: 10.0023\n",
            "Epoch 33/100\n",
            "488/488 [==============================] - 174s 356ms/step - loss: 7.7565 - MAE: 7.7375 - val_loss: 9.0135 - val_MAE: 8.9944\n",
            "Epoch 34/100\n",
            "488/488 [==============================] - 173s 355ms/step - loss: 7.6030 - MAE: 7.5841 - val_loss: 8.3206 - val_MAE: 8.3010\n",
            "Epoch 35/100\n",
            "488/488 [==============================] - 175s 359ms/step - loss: 7.6495 - MAE: 7.6305 - val_loss: 8.5856 - val_MAE: 8.5667\n",
            "Epoch 36/100\n",
            "488/488 [==============================] - 174s 356ms/step - loss: 7.4683 - MAE: 7.4496 - val_loss: 8.7189 - val_MAE: 8.7005\n",
            "Epoch 37/100\n",
            "488/488 [==============================] - 174s 357ms/step - loss: 7.3976 - MAE: 7.3787 - val_loss: 8.1303 - val_MAE: 8.1115\n",
            "Epoch 38/100\n",
            "488/488 [==============================] - 175s 358ms/step - loss: 7.4429 - MAE: 7.4240 - val_loss: 9.0751 - val_MAE: 9.0564\n",
            "Epoch 39/100\n",
            "488/488 [==============================] - 176s 360ms/step - loss: 7.3439 - MAE: 7.3253 - val_loss: 8.0934 - val_MAE: 8.0747\n",
            "Epoch 40/100\n",
            "488/488 [==============================] - 176s 360ms/step - loss: 7.3579 - MAE: 7.3394 - val_loss: 8.8445 - val_MAE: 8.8260\n",
            "Epoch 41/100\n",
            "488/488 [==============================] - 176s 360ms/step - loss: 7.1616 - MAE: 7.1431 - val_loss: 9.4654 - val_MAE: 9.4470\n",
            "Epoch 42/100\n",
            "488/488 [==============================] - 175s 359ms/step - loss: 7.1418 - MAE: 7.1234 - val_loss: 8.3800 - val_MAE: 8.3619\n",
            "Epoch 43/100\n",
            "488/488 [==============================] - 177s 362ms/step - loss: 7.1631 - MAE: 7.1447 - val_loss: 8.2932 - val_MAE: 8.2749\n",
            "Epoch 44/100\n",
            "488/488 [==============================] - 174s 357ms/step - loss: 7.1043 - MAE: 7.0859 - val_loss: 9.6352 - val_MAE: 9.6167\n",
            "Epoch 45/100\n",
            "488/488 [==============================] - 173s 354ms/step - loss: 7.0235 - MAE: 7.0052 - val_loss: 8.3918 - val_MAE: 8.3731\n",
            "Epoch 46/100\n",
            "488/488 [==============================] - 173s 355ms/step - loss: 6.9421 - MAE: 6.9237 - val_loss: 8.3639 - val_MAE: 8.3452\n",
            "Epoch 47/100\n",
            "488/488 [==============================] - 175s 359ms/step - loss: 6.9021 - MAE: 6.8839 - val_loss: 8.1524 - val_MAE: 8.1344\n",
            "Epoch 48/100\n",
            "488/488 [==============================] - 175s 359ms/step - loss: 7.0299 - MAE: 7.0118 - val_loss: 8.0010 - val_MAE: 7.9827\n",
            "Epoch 49/100\n",
            "488/488 [==============================] - 176s 360ms/step - loss: 6.9073 - MAE: 6.8893 - val_loss: 8.2859 - val_MAE: 8.2682\n",
            "Epoch 50/100\n",
            "488/488 [==============================] - 176s 360ms/step - loss: 6.8611 - MAE: 6.8430 - val_loss: 8.2509 - val_MAE: 8.2332\n",
            "Epoch 51/100\n",
            "488/488 [==============================] - 177s 362ms/step - loss: 6.7943 - MAE: 6.7764 - val_loss: 8.1768 - val_MAE: 8.1590\n",
            "Epoch 52/100\n",
            "488/488 [==============================] - 177s 362ms/step - loss: 6.7725 - MAE: 6.7546 - val_loss: 8.7697 - val_MAE: 8.7513\n",
            "Epoch 53/100\n",
            "488/488 [==============================] - 175s 358ms/step - loss: 6.7279 - MAE: 6.7103 - val_loss: 9.0510 - val_MAE: 9.0334\n",
            "Epoch 54/100\n",
            "488/488 [==============================] - 172s 353ms/step - loss: 6.7766 - MAE: 6.7586 - val_loss: 8.0638 - val_MAE: 8.0457\n",
            "Epoch 55/100\n",
            "488/488 [==============================] - 170s 348ms/step - loss: 6.6980 - MAE: 6.6803 - val_loss: 8.4248 - val_MAE: 8.4074\n",
            "Epoch 56/100\n",
            "488/488 [==============================] - 171s 349ms/step - loss: 6.5912 - MAE: 6.5737 - val_loss: 7.9680 - val_MAE: 7.9507\n",
            "Epoch 57/100\n",
            "488/488 [==============================] - 170s 349ms/step - loss: 6.5526 - MAE: 6.5350 - val_loss: 8.6769 - val_MAE: 8.6595\n",
            "Epoch 58/100\n",
            "488/488 [==============================] - 170s 347ms/step - loss: 6.5480 - MAE: 6.5305 - val_loss: 8.3213 - val_MAE: 8.3039\n",
            "Epoch 59/100\n",
            "488/488 [==============================] - 170s 348ms/step - loss: 6.6010 - MAE: 6.5833 - val_loss: 8.5412 - val_MAE: 8.5236\n",
            "Epoch 60/100\n",
            "488/488 [==============================] - 170s 347ms/step - loss: 6.5312 - MAE: 6.5137 - val_loss: 7.8764 - val_MAE: 7.8593\n",
            "Epoch 61/100\n",
            "488/488 [==============================] - 170s 347ms/step - loss: 6.3899 - MAE: 6.3727 - val_loss: 8.9432 - val_MAE: 8.9262\n",
            "Epoch 62/100\n",
            "488/488 [==============================] - 170s 348ms/step - loss: 6.2871 - MAE: 6.2700 - val_loss: 8.6133 - val_MAE: 8.5959\n",
            "Epoch 63/100\n",
            "488/488 [==============================] - 171s 350ms/step - loss: 6.3953 - MAE: 6.3780 - val_loss: 9.1900 - val_MAE: 9.1728\n",
            "Epoch 64/100\n",
            "488/488 [==============================] - 171s 349ms/step - loss: 6.3777 - MAE: 6.3607 - val_loss: 9.0808 - val_MAE: 9.0631\n",
            "Epoch 65/100\n",
            "488/488 [==============================] - 171s 349ms/step - loss: 6.3310 - MAE: 6.3140 - val_loss: 8.5369 - val_MAE: 8.5199\n",
            "Epoch 66/100\n",
            "488/488 [==============================] - 171s 351ms/step - loss: 6.2856 - MAE: 6.2686 - val_loss: 7.9733 - val_MAE: 7.9562\n",
            "Epoch 67/100\n",
            "488/488 [==============================] - 171s 351ms/step - loss: 6.2380 - MAE: 6.2210 - val_loss: 8.0261 - val_MAE: 8.0088\n",
            "Epoch 68/100\n",
            "488/488 [==============================] - 171s 350ms/step - loss: 6.2050 - MAE: 6.1879 - val_loss: 8.9266 - val_MAE: 8.9096\n",
            "Epoch 69/100\n",
            "488/488 [==============================] - 171s 351ms/step - loss: 6.1347 - MAE: 6.1177 - val_loss: 7.9062 - val_MAE: 7.8896\n",
            "Epoch 70/100\n",
            "488/488 [==============================] - 171s 351ms/step - loss: 6.0948 - MAE: 6.0780 - val_loss: 7.7088 - val_MAE: 7.6924\n",
            "Epoch 71/100\n",
            "488/488 [==============================] - 171s 350ms/step - loss: 6.0365 - MAE: 6.0199 - val_loss: 8.3846 - val_MAE: 8.3681\n",
            "Epoch 72/100\n",
            "488/488 [==============================] - 171s 350ms/step - loss: 6.0407 - MAE: 6.0240 - val_loss: 8.0706 - val_MAE: 8.0539\n",
            "Epoch 73/100\n",
            "488/488 [==============================] - 171s 350ms/step - loss: 5.9657 - MAE: 5.9491 - val_loss: 9.2474 - val_MAE: 9.2305\n",
            "Epoch 74/100\n",
            "488/488 [==============================] - 171s 349ms/step - loss: 5.9902 - MAE: 5.9736 - val_loss: 9.1192 - val_MAE: 9.1029\n",
            "Epoch 75/100\n",
            "488/488 [==============================] - 172s 352ms/step - loss: 5.9202 - MAE: 5.9036 - val_loss: 8.1144 - val_MAE: 8.0973\n",
            "Epoch 76/100\n",
            "488/488 [==============================] - 171s 349ms/step - loss: 5.8220 - MAE: 5.8055 - val_loss: 7.7338 - val_MAE: 7.7172\n",
            "Epoch 77/100\n",
            "488/488 [==============================] - 171s 350ms/step - loss: 5.8644 - MAE: 5.8479 - val_loss: 7.9634 - val_MAE: 7.9471\n",
            "Epoch 78/100\n",
            "488/488 [==============================] - 171s 351ms/step - loss: 5.8595 - MAE: 5.8431 - val_loss: 8.6149 - val_MAE: 8.5987\n",
            "Epoch 79/100\n",
            "488/488 [==============================] - 171s 351ms/step - loss: 5.8197 - MAE: 5.8033 - val_loss: 8.1513 - val_MAE: 8.1351\n",
            "Epoch 80/100\n",
            "488/488 [==============================] - 172s 352ms/step - loss: 5.7887 - MAE: 5.7724 - val_loss: 7.9509 - val_MAE: 7.9349\n",
            "Epoch 81/100\n",
            "488/488 [==============================] - 171s 350ms/step - loss: 5.7844 - MAE: 5.7682 - val_loss: 8.0364 - val_MAE: 8.0201\n",
            "Epoch 82/100\n",
            "488/488 [==============================] - 172s 352ms/step - loss: 5.7534 - MAE: 5.7372 - val_loss: 8.2086 - val_MAE: 8.1924\n",
            "Epoch 83/100\n",
            "488/488 [==============================] - 171s 351ms/step - loss: 5.7615 - MAE: 5.7453 - val_loss: 9.0230 - val_MAE: 9.0067\n",
            "Epoch 84/100\n",
            "488/488 [==============================] - 172s 351ms/step - loss: 5.6663 - MAE: 5.6501 - val_loss: 8.0609 - val_MAE: 8.0449\n",
            "Epoch 85/100\n",
            "488/488 [==============================] - 172s 352ms/step - loss: 5.6857 - MAE: 5.6697 - val_loss: 7.8980 - val_MAE: 7.8821\n",
            "Epoch 86/100\n",
            "488/488 [==============================] - 172s 351ms/step - loss: 5.7071 - MAE: 5.6911 - val_loss: 8.3080 - val_MAE: 8.2922\n",
            "Epoch 87/100\n",
            "488/488 [==============================] - 171s 350ms/step - loss: 5.6780 - MAE: 5.6621 - val_loss: 8.1510 - val_MAE: 8.1351\n",
            "Epoch 88/100\n",
            "488/488 [==============================] - 171s 349ms/step - loss: 5.5972 - MAE: 5.5815 - val_loss: 8.6273 - val_MAE: 8.6116\n",
            "Epoch 89/100\n",
            "488/488 [==============================] - 172s 352ms/step - loss: 5.5500 - MAE: 5.5341 - val_loss: 8.7250 - val_MAE: 8.7088\n",
            "Epoch 90/100\n",
            "488/488 [==============================] - 171s 350ms/step - loss: 5.5909 - MAE: 5.5752 - val_loss: 7.9062 - val_MAE: 7.8905\n",
            "Epoch 91/100\n",
            "488/488 [==============================] - 171s 351ms/step - loss: 5.4722 - MAE: 5.4565 - val_loss: 8.5351 - val_MAE: 8.5195\n",
            "Epoch 92/100\n",
            "488/488 [==============================] - 172s 351ms/step - loss: 5.4758 - MAE: 5.4601 - val_loss: 7.8370 - val_MAE: 7.8214\n",
            "Epoch 93/100\n",
            "488/488 [==============================] - 171s 350ms/step - loss: 5.4033 - MAE: 5.3877 - val_loss: 7.8807 - val_MAE: 7.8651\n",
            "Epoch 94/100\n",
            "488/488 [==============================] - 171s 351ms/step - loss: 5.4267 - MAE: 5.4112 - val_loss: 8.3726 - val_MAE: 8.3571\n",
            "Epoch 95/100\n",
            "488/488 [==============================] - 171s 350ms/step - loss: 5.3976 - MAE: 5.3821 - val_loss: 7.7912 - val_MAE: 7.7757\n",
            "Epoch 96/100\n",
            "488/488 [==============================] - 171s 350ms/step - loss: 5.3235 - MAE: 5.3080 - val_loss: 8.0060 - val_MAE: 7.9906\n",
            "Epoch 97/100\n",
            "488/488 [==============================] - 170s 349ms/step - loss: 5.3165 - MAE: 5.3010 - val_loss: 7.8567 - val_MAE: 7.8412\n",
            "Epoch 98/100\n",
            "488/488 [==============================] - 170s 348ms/step - loss: 5.2747 - MAE: 5.2593 - val_loss: 8.1633 - val_MAE: 8.1480\n",
            "Epoch 99/100\n",
            "488/488 [==============================] - 170s 348ms/step - loss: 5.3723 - MAE: 5.3569 - val_loss: 7.6890 - val_MAE: 7.6738\n",
            "Epoch 100/100\n",
            "488/488 [==============================] - 169s 347ms/step - loss: 5.2431 - MAE: 5.2278 - val_loss: 7.5792 - val_MAE: 7.5638\n",
            "183/183 [==============================] - 24s 129ms/step - loss: 7.8141 - MAE: 7.7988\n"
          ]
        }
      ],
      "source": [
        "DataGen = ImageDataGenerator(rotation_range=20,width_shift_range=0.15,height_shift_range=0.15,zoom_range=0.2,horizontal_flip=True)\n",
        "checkpoint =keras.callbacks.ModelCheckpoint(filepath='weights/weights.{epoch:02d}-{val_loss:.2f}.hdf5',save_weights_only=True,period=100)\n",
        "history = model.fit_generator(DataGen.flow([train_x,train_gen],train_y,batch_size=16),steps_per_epoch=np.ceil(len(train_y)/16),epochs=100,verbose=1,validation_data=([valid_x,valid_gen],valid_y))\n",
        "#history = model.fit_generator(Generator(x_train,gender_train,y_train,batch_size),steps_per_epoch=np.ceil(len(y_train)/batch_size),epochs=10,verbose=1,validation_data=([x_valid,gender_valid],y_valid))\n",
        "#history=model.fit([x_train,gender_train],y_train,batch_size=32,epochs=5,verbose=1,validation_data=([x_valid,gender_valid],y_valid), callbacks = [checkpoint])\n",
        "score = model.evaluate([test_x,test_gen], test_y, batch_size=16)"
      ]
    },
    {
      "cell_type": "code",
      "execution_count": null,
      "metadata": {
        "colab": {
          "base_uri": "https://localhost:8080/"
        },
        "id": "oxGVFC9BgYY9",
        "outputId": "6e98599a-933e-47d0-87f8-75f954b18411"
      },
      "outputs": [
        {
          "data": {
            "text/plain": [
              "37"
            ]
          },
          "execution_count": 72,
          "metadata": {},
          "output_type": "execute_result"
        }
      ],
      "source": [
        "index = None\n",
        "for idx, layer in enumerate(model.layers):\n",
        "    if layer.name == 'input2':\n",
        "        index = idx\n",
        "        break\n",
        "index"
      ]
    },
    {
      "cell_type": "code",
      "execution_count": null,
      "metadata": {
        "colab": {
          "base_uri": "https://localhost:8080/",
          "height": 295
        },
        "id": "FyI5sXolQZhn",
        "outputId": "65554e2b-b19c-4de2-ff26-67988c0dcfe1"
      },
      "outputs": [
        {
          "data": {
            "image/png": "[encoded data removed]",
            "text/plain": [
              "<Figure size 432x288 with 1 Axes>"
            ]
          },
          "metadata": {},
          "output_type": "display_data"
        }
      ],
      "source": [
        "plt.plot(history.history['loss'])\n",
        "plt.plot(history.history['val_loss'])\n",
        "plt.title('Model loss')\n",
        "plt.ylabel('Loss')\n",
        "plt.xlabel('Epoch')\n",
        "plt.legend(['Train', 'Validation'], loc='upper right')\n",
        "plt.show()"
      ]
    },
    {
      "cell_type": "code",
      "execution_count": null,
      "metadata": {
        "colab": {
          "base_uri": "https://localhost:8080/"
        },
        "id": "NBt_yWYhRIzV",
        "outputId": "924a47dc-c17a-4d92-d65d-0c47042b90cd"
      },
      "outputs": [
        {
          "name": "stdout",
          "output_type": "stream",
          "text": [
            "(500, 1)\n",
            "44.40747\n"
          ]
        }
      ],
      "source": [
        "df_cols = ['age', 'preag' , 'gen','act','abs']\n",
        "new_df = pd.DataFrame(columns=df_cols)\n",
        "def TestMAE(model,test_data,test_label,test_gender):\n",
        "    test_gender = np.array(test_gender)\n",
        "    test_gender = np.expand_dims(test_gender,axis=1)\n",
        "    layer=K.function([model.layers[0].input,model.layers[37].input],[model.layers[-1].output])\n",
        "    predictions=layer([test_data,test_gender])\n",
        "    #print(predictions)\n",
        "    predictions = np.array(predictions)\n",
        "    #print(predictions)\n",
        "    predictions = np.squeeze(predictions,axis=0)\n",
        "    print (predictions.shape)\n",
        "    x=(predictions-test_label)\n",
        "    y=(np.abs(predictions-test_label))\n",
        "    TestMAE = np.mean(np.abs(predictions-test_label))\n",
        "    return TestMAE,predictions\n",
        "\n",
        "tests_x=test_x[1000:1500]\n",
        "tests_y=test_y[1000:1500]\n",
        "tests_gen=test_gen[1000:1500]\n",
        "val,pred=TestMAE(model,tests_x,tests_y,tests_gen)\n",
        "print(val)\n",
        "\n",
        "for i in range(500):\n",
        "  new_row = {'age': tests_y[i], 'preag':pred[i][0], 'gen':tests_gen[i], 'act': tests_y[i]-pred[i][0], 'abs': np.abs( tests_y[i]-pred[i][0])}\n",
        "  new_df= new_df.append(new_row, ignore_index=True)"
      ]
    },
    {
      "cell_type": "code",
      "execution_count": null,
      "metadata": {
        "colab": {
          "base_uri": "https://localhost:8080/",
          "height": 404
        },
        "id": "WwT27oseRRNq",
        "outputId": "de454e32-bf0c-4da6-8604-2a0926bc10df"
      },
      "outputs": [
        {
          "data": {
            "image/png": "[encoded data removed]",
            "text/plain": [
              "<Figure size 1080x432 with 2 Axes>"
            ]
          },
          "metadata": {},
          "output_type": "display_data"
        }
      ],
      "source": [
        "from scipy import stats\n",
        "\n",
        "def res_plots(df):\n",
        "  res = df['act']\n",
        "  plt.figure(figsize=(15,6))\n",
        "  #df['preag'] = df['preag'].astype('int')\n",
        "  # Residual plot\n",
        "  plt.subplot(1, 2, 1)\n",
        "  plt.scatter(df['preag'], res)\n",
        "  plt.axhline(0, color='r')\n",
        "  plt.title('Residual plot')\n",
        "  plt.xlabel('Predictions')\n",
        "  plt.ylabel('Residuals')\n",
        "\n",
        "  # Normal Q-Q plot\n",
        "  plt.subplot(1, 2, 2)\n",
        "  stats.probplot(res, dist='norm', plot=plt)\n",
        "  plt.title('Normal Q-Q plot')\n",
        "  plt.show()\n",
        "\n",
        "res_plots(new_df)"
      ]
    },
    {
      "cell_type": "code",
      "execution_count": null,
      "metadata": {
        "colab": {
          "base_uri": "https://localhost:8080/",
          "height": 392
        },
        "id": "48tHBua-RWV2",
        "outputId": "7fb7fb6f-d032-4672-883d-d5cb51e2e936"
      },
      "outputs": [
        {
          "data": {
            "image/png": "[encoded data removed]",
            "text/plain": [
              "<Figure size 432x432 with 1 Axes>"
            ]
          },
          "metadata": {},
          "output_type": "display_data"
        }
      ],
      "source": [
        "\n",
        "from keras.metrics import mean_absolute_error\n",
        "import pandas as pd\n",
        "import numpy as np\n",
        "import os\n",
        "import matplotlib.pyplot as plt\n",
        "import seaborn as sns\n",
        "\n",
        "def plot_preds(df, model_name):\n",
        "  plt.figure(figsize=(6,6))\n",
        "  sns.scatterplot(x='age', y='preag', data=df)\n",
        "  sns.lineplot(x='age', y='age', data=df, color='red')\n",
        "  # plt.title(model_name)\n",
        "  plt.xlabel('Actual bone age (months)', fontsize=14)\n",
        "  plt.ylabel('Predicted bone age (months)', fontsize=14)\n",
        "  plt.show()\n",
        "\n",
        "plot_preds(new_df, 'Different Scale CBAM with SE')"
      ]
    },
    {
      "cell_type": "code",
      "execution_count": null,
      "metadata": {
        "colab": {
          "base_uri": "https://localhost:8080/",
          "height": 392
        },
        "id": "YuuUoaufRcx4",
        "outputId": "c590b558-da68-4efa-ae8e-8646f66145e4"
      },
      "outputs": [
        {
          "data": {
            "image/png": "[encoded data removed]",
            "text/plain": [
              "<Figure size 432x432 with 1 Axes>"
            ]
          },
          "metadata": {},
          "output_type": "display_data"
        }
      ],
      "source": [
        "def plot_preds_gender(df, model_name):\n",
        "  plt.figure(figsize=(6,6))\n",
        "  sns.scatterplot(x='age', y='preag', data=df, hue='gen', alpha=0.8)\n",
        "  sns.lineplot(x='age', y='age', data=df, color='red')\n",
        "  # plt.title(model_name)\n",
        "  plt.xlabel('Actual bone age (months)', fontsize=14)\n",
        "  plt.ylabel('Predicted bone age (months)', fontsize=14)\n",
        "  plt.show()\n",
        "plot_preds_gender(new_df, 'Different Scale CBAM with SE' )"
      ]
    },
    {
      "cell_type": "code",
      "execution_count": null,
      "metadata": {
        "colab": {
          "base_uri": "https://localhost:8080/"
        },
        "id": "LjeifEzeg0tM",
        "outputId": "89967c52-db6c-4f79-9db3-df05832553b9"
      },
      "outputs": [
        {
          "name": "stderr",
          "output_type": "stream",
          "text": [
            "WARNING:tensorflow:`period` argument is deprecated. Please use `save_freq` to specify the frequency in number of batches seen.\n",
            "<ipython-input-77-09c804ea17a5>:3: UserWarning: `Model.fit_generator` is deprecated and will be removed in a future version. Please use `Model.fit`, which supports generators.\n",
            "  history = model.fit_generator(DataGen.flow([train_x,train_gen],train_y,batch_size=32),steps_per_epoch=np.ceil(len(train_y)/32),epochs=50,verbose=1,validation_data=([valid_x,valid_gen],valid_y))\n"
          ]
        },
        {
          "name": "stdout",
          "output_type": "stream",
          "text": [
            "Epoch 1/50\n",
            "244/244 [==============================] - 129s 519ms/step - loss: 4.7374 - MAE: 4.7223 - val_loss: 7.4354 - val_MAE: 7.4204\n",
            "Epoch 2/50\n",
            "244/244 [==============================] - 122s 497ms/step - loss: 4.5665 - MAE: 4.5515 - val_loss: 7.5202 - val_MAE: 7.5050\n",
            "Epoch 3/50\n",
            "244/244 [==============================] - 122s 498ms/step - loss: 4.5620 - MAE: 4.5468 - val_loss: 7.8638 - val_MAE: 7.8487\n",
            "Epoch 4/50\n",
            "244/244 [==============================] - 121s 493ms/step - loss: 4.5685 - MAE: 4.5534 - val_loss: 7.8090 - val_MAE: 7.7940\n",
            "Epoch 5/50\n",
            "244/244 [==============================] - 121s 496ms/step - loss: 4.4123 - MAE: 4.3973 - val_loss: 7.6401 - val_MAE: 7.6251\n",
            "Epoch 6/50\n",
            "244/244 [==============================] - 122s 498ms/step - loss: 4.5018 - MAE: 4.4869 - val_loss: 7.9301 - val_MAE: 7.9151\n",
            "Epoch 7/50\n",
            "244/244 [==============================] - 121s 495ms/step - loss: 4.4416 - MAE: 4.4267 - val_loss: 7.8125 - val_MAE: 7.7975\n",
            "Epoch 8/50\n",
            "244/244 [==============================] - 121s 494ms/step - loss: 4.4424 - MAE: 4.4276 - val_loss: 8.1681 - val_MAE: 8.1533\n",
            "Epoch 9/50\n",
            "244/244 [==============================] - 121s 495ms/step - loss: 4.4929 - MAE: 4.4781 - val_loss: 7.6411 - val_MAE: 7.6263\n",
            "Epoch 10/50\n",
            "244/244 [==============================] - 121s 494ms/step - loss: 4.4365 - MAE: 4.4217 - val_loss: 7.7961 - val_MAE: 7.7813\n",
            "Epoch 11/50\n",
            "244/244 [==============================] - 121s 494ms/step - loss: 4.5061 - MAE: 4.4912 - val_loss: 7.9635 - val_MAE: 7.9488\n",
            "Epoch 12/50\n",
            "244/244 [==============================] - 120s 492ms/step - loss: 4.4007 - MAE: 4.3859 - val_loss: 7.8012 - val_MAE: 7.7865\n",
            "Epoch 13/50\n",
            "244/244 [==============================] - 122s 498ms/step - loss: 4.4378 - MAE: 4.4230 - val_loss: 7.9374 - val_MAE: 7.9226\n",
            "Epoch 14/50\n",
            "244/244 [==============================] - 123s 502ms/step - loss: 4.3005 - MAE: 4.2857 - val_loss: 7.7651 - val_MAE: 7.7500\n",
            "Epoch 15/50\n",
            "244/244 [==============================] - 120s 492ms/step - loss: 4.2962 - MAE: 4.2814 - val_loss: 7.9528 - val_MAE: 7.9382\n",
            "Epoch 16/50\n",
            "244/244 [==============================] - 121s 493ms/step - loss: 4.3448 - MAE: 4.3300 - val_loss: 7.7531 - val_MAE: 7.7382\n",
            "Epoch 17/50\n",
            "244/244 [==============================] - 121s 493ms/step - loss: 4.3055 - MAE: 4.2908 - val_loss: 7.6359 - val_MAE: 7.6213\n",
            "Epoch 18/50\n",
            "244/244 [==============================] - 121s 493ms/step - loss: 4.2439 - MAE: 4.2293 - val_loss: 7.7876 - val_MAE: 7.7727\n",
            "Epoch 19/50\n",
            "244/244 [==============================] - 121s 494ms/step - loss: 4.2518 - MAE: 4.2372 - val_loss: 7.7869 - val_MAE: 7.7723\n",
            "Epoch 20/50\n",
            "244/244 [==============================] - 121s 493ms/step - loss: 4.2844 - MAE: 4.2698 - val_loss: 7.9361 - val_MAE: 7.9214\n",
            "Epoch 21/50\n",
            "244/244 [==============================] - 120s 492ms/step - loss: 4.2689 - MAE: 4.2543 - val_loss: 7.5959 - val_MAE: 7.5813\n",
            "Epoch 22/50\n",
            "244/244 [==============================] - 121s 494ms/step - loss: 4.1719 - MAE: 4.1573 - val_loss: 7.9805 - val_MAE: 7.9659\n",
            "Epoch 23/50\n",
            "244/244 [==============================] - 120s 492ms/step - loss: 4.1511 - MAE: 4.1366 - val_loss: 7.6664 - val_MAE: 7.6516\n",
            "Epoch 24/50\n",
            "244/244 [==============================] - 120s 490ms/step - loss: 4.1251 - MAE: 4.1107 - val_loss: 7.9609 - val_MAE: 7.9466\n",
            "Epoch 25/50\n",
            "244/244 [==============================] - 121s 493ms/step - loss: 4.0506 - MAE: 4.0362 - val_loss: 7.7398 - val_MAE: 7.7254\n",
            "Epoch 26/50\n",
            "244/244 [==============================] - 120s 491ms/step - loss: 4.0771 - MAE: 4.0626 - val_loss: 7.7730 - val_MAE: 7.7582\n",
            "Epoch 27/50\n",
            "244/244 [==============================] - 121s 493ms/step - loss: 4.1872 - MAE: 4.1728 - val_loss: 7.5891 - val_MAE: 7.5746\n",
            "Epoch 28/50\n",
            "244/244 [==============================] - 121s 493ms/step - loss: 4.1041 - MAE: 4.0897 - val_loss: 8.1350 - val_MAE: 8.1202\n",
            "Epoch 29/50\n",
            "244/244 [==============================] - 121s 495ms/step - loss: 4.0476 - MAE: 4.0332 - val_loss: 7.5485 - val_MAE: 7.5341\n",
            "Epoch 30/50\n",
            "244/244 [==============================] - 121s 492ms/step - loss: 4.0458 - MAE: 4.0316 - val_loss: 7.5682 - val_MAE: 7.5541\n",
            "Epoch 31/50\n",
            "244/244 [==============================] - 120s 492ms/step - loss: 4.0264 - MAE: 4.0121 - val_loss: 7.6676 - val_MAE: 7.6533\n",
            "Epoch 32/50\n",
            "244/244 [==============================] - 120s 490ms/step - loss: 3.9889 - MAE: 3.9746 - val_loss: 8.3684 - val_MAE: 8.3538\n",
            "Epoch 33/50\n",
            "244/244 [==============================] - 120s 492ms/step - loss: 3.9244 - MAE: 3.9102 - val_loss: 7.7874 - val_MAE: 7.7734\n",
            "Epoch 34/50\n",
            "244/244 [==============================] - 121s 495ms/step - loss: 3.9193 - MAE: 3.9051 - val_loss: 7.8050 - val_MAE: 7.7910\n",
            "Epoch 35/50\n",
            "244/244 [==============================] - 122s 501ms/step - loss: 3.9272 - MAE: 3.9132 - val_loss: 7.5997 - val_MAE: 7.5854\n",
            "Epoch 36/50\n",
            "244/244 [==============================] - 122s 499ms/step - loss: 3.9208 - MAE: 3.9067 - val_loss: 7.7543 - val_MAE: 7.7401\n",
            "Epoch 37/50\n",
            "244/244 [==============================] - 122s 498ms/step - loss: 3.9582 - MAE: 3.9440 - val_loss: 7.6570 - val_MAE: 7.6430\n",
            "Epoch 38/50\n",
            "244/244 [==============================] - 123s 501ms/step - loss: 3.8819 - MAE: 3.8678 - val_loss: 7.8007 - val_MAE: 7.7867\n",
            "Epoch 39/50\n",
            "244/244 [==============================] - 122s 500ms/step - loss: 3.8696 - MAE: 3.8556 - val_loss: 7.8193 - val_MAE: 7.8053\n",
            "Epoch 40/50\n",
            "244/244 [==============================] - 121s 495ms/step - loss: 3.8067 - MAE: 3.7927 - val_loss: 7.6383 - val_MAE: 7.6245\n",
            "Epoch 41/50\n",
            "244/244 [==============================] - 121s 494ms/step - loss: 3.8148 - MAE: 3.8009 - val_loss: 7.8143 - val_MAE: 7.8003\n",
            "Epoch 42/50\n",
            "244/244 [==============================] - 121s 496ms/step - loss: 3.7753 - MAE: 3.7612 - val_loss: 7.6396 - val_MAE: 7.6256\n",
            "Epoch 43/50\n",
            "244/244 [==============================] - 121s 495ms/step - loss: 3.8291 - MAE: 3.8151 - val_loss: 7.5662 - val_MAE: 7.5523\n",
            "Epoch 44/50\n",
            "244/244 [==============================] - 121s 495ms/step - loss: 3.7749 - MAE: 3.7610 - val_loss: 7.7052 - val_MAE: 7.6911\n",
            "Epoch 45/50\n",
            "244/244 [==============================] - 121s 496ms/step - loss: 3.8165 - MAE: 3.8026 - val_loss: 7.7113 - val_MAE: 7.6975\n",
            "Epoch 46/50\n",
            "244/244 [==============================] - 121s 496ms/step - loss: 3.7610 - MAE: 3.7471 - val_loss: 7.8244 - val_MAE: 7.8105\n",
            "Epoch 47/50\n",
            "244/244 [==============================] - 122s 497ms/step - loss: 3.6977 - MAE: 3.6840 - val_loss: 8.2797 - val_MAE: 8.2659\n",
            "Epoch 48/50\n",
            "244/244 [==============================] - 122s 500ms/step - loss: 3.7132 - MAE: 3.6995 - val_loss: 8.0377 - val_MAE: 8.0240\n",
            "Epoch 49/50\n",
            "244/244 [==============================] - 122s 497ms/step - loss: 3.6648 - MAE: 3.6511 - val_loss: 7.8658 - val_MAE: 7.8522\n",
            "Epoch 50/50\n",
            "244/244 [==============================] - 122s 498ms/step - loss: 3.7011 - MAE: 3.6872 - val_loss: 8.1768 - val_MAE: 8.1630\n",
            "92/92 [==============================] - 13s 140ms/step - loss: 8.3679 - MAE: 8.3542\n"
          ]
        }
      ],
      "source": [
        "DataGen = ImageDataGenerator(rotation_range=20,width_shift_range=0.15,height_shift_range=0.15,zoom_range=0.2,horizontal_flip=True)\n",
        "checkpoint =keras.callbacks.ModelCheckpoint(filepath='weights/weights.{epoch:02d}-{val_loss:.2f}.hdf5',save_weights_only=True,period=50)\n",
        "history = model.fit_generator(DataGen.flow([train_x,train_gen],train_y,batch_size=32),steps_per_epoch=np.ceil(len(train_y)/32),epochs=50,verbose=1,validation_data=([valid_x,valid_gen],valid_y))\n",
        "#history = model.fit_generator(Generator(x_train,gender_train,y_train,batch_size),steps_per_epoch=np.ceil(len(y_train)/batch_size),epochs=10,verbose=1,validation_data=([x_valid,gender_valid],y_valid))\n",
        "#history=model.fit([x_train,gender_train],y_train,batch_size=32,epochs=5,verbose=1,validation_data=([x_valid,gender_valid],y_valid), callbacks = [checkpoint])\n",
        "score = model.evaluate([test_x,test_gen], test_y, batch_size=32)"
      ]
    },
    {
      "cell_type": "code",
      "execution_count": null,
      "metadata": {
        "id": "MgVJY77vJoBp"
      },
      "outputs": [],
      "source": [
        "def spatial_attention2(input_feature):\n",
        "    kernel_size = 5\n",
        "    kernel_initializer = tf.keras.initializers.variance_scaling()\n",
        "\n",
        "    avg_pool = tf.reduce_mean(input_feature, axis=[3], keepdims=True)\n",
        "    assert avg_pool.get_shape()[-1] == 1\n",
        "    max_pool = tf.reduce_max(input_feature, axis=[3], keepdims=True)\n",
        "    assert max_pool.get_shape()[-1] == 1\n",
        "    concat = tf.concat([avg_pool,max_pool], 3)\n",
        "    assert concat.get_shape()[-1] == 2\n",
        "\n",
        "    concat = Conv2D(\n",
        "                              filters=1,\n",
        "                              kernel_size=[kernel_size,kernel_size],\n",
        "                              strides=[1,1],\n",
        "                              padding=\"same\",\n",
        "                              activation=None,\n",
        "                              kernel_regularizer=regularizers.L2(0.01),\n",
        "                              kernel_initializer=kernel_initializer,\n",
        "                              use_bias=False)(concat)\n",
        "  #concat = tf.keras.layers.Dropout(0.2)( concat)\n",
        "    assert concat.get_shape()[-1] == 1\n",
        "    concat = tf.keras.activations.sigmoid(concat)\n",
        "    \n",
        "    return input_feature * concat\n"
      ]
    },
    {
      "cell_type": "code",
      "execution_count": null,
      "metadata": {
        "colab": {
          "base_uri": "https://localhost:8080/"
        },
        "id": "LdRUJmjRJuSD",
        "outputId": "0f1e287a-42b5-4d36-ac59-05422bd07554"
      },
      "outputs": [
        {
          "name": "stdout",
          "output_type": "stream",
          "text": [
            "(None, 6, 6, 2048)\n",
            "(None, 1, 1, 512)\n",
            "Model: \"model_3\"\n",
            "__________________________________________________________________________________________________\n",
            " Layer (type)                   Output Shape         Param #     Connected to                     \n",
            "==================================================================================================\n",
            " input1 (InputLayer)            [(None, 256, 256, 3  0           []                               \n",
            "                                )]                                                                \n",
            "                                                                                                  \n",
            " inception_v3 (Functional)      (None, None, None,   21802784    ['input1[0][0]']                 \n",
            "                                2048)                                                             \n",
            "                                                                                                  \n",
            " conv2d_290 (Conv2D)            (None, 4, 4, 512)    9437696     ['inception_v3[0][0]']           \n",
            "                                                                                                  \n",
            " batch_normalization_288 (Batch  (None, 4, 4, 512)   1536        ['conv2d_290[0][0]']             \n",
            " Normalization)                                                                                   \n",
            "                                                                                                  \n",
            " activation_288 (Activation)    (None, 4, 4, 512)    0           ['batch_normalization_288[0][0]']\n",
            "                                                                                                  \n",
            " global_average_pooling2d_2 (Gl  (None, 512)         0           ['activation_288[0][0]']         \n",
            " obalAveragePooling2D)                                                                            \n",
            "                                                                                                  \n",
            " tf.math.reduce_mean_6 (TFOpLam  (None, 1, 1, 512)   0           ['activation_288[0][0]']         \n",
            " bda)                                                                                             \n",
            "                                                                                                  \n",
            " reshape_2 (Reshape)            (None, 1, 1, 512)    0           ['global_average_pooling2d_2[0][0\n",
            "                                                                 ]']                              \n",
            "                                                                                                  \n",
            " dense_23 (Dense)               (None, 1, 1, 64)     32832       ['tf.math.reduce_mean_6[0][0]']  \n",
            "                                                                                                  \n",
            " tf.math.reduce_max_6 (TFOpLamb  (None, 1, 1, 512)   0           ['activation_288[0][0]']         \n",
            " da)                                                                                              \n",
            "                                                                                                  \n",
            " dense_27 (Dense)               (None, 1, 1, 512)    262656      ['reshape_2[0][0]']              \n",
            "                                                                                                  \n",
            " dropout_2 (Dropout)            (None, 1, 1, 64)     0           ['dense_23[0][0]']               \n",
            "                                                                                                  \n",
            " dense_25 (Dense)               (None, 1, 1, 64)     32832       ['tf.math.reduce_max_6[0][0]']   \n",
            "                                                                                                  \n",
            " multiply_2 (Multiply)          (None, 4, 4, 512)    0           ['activation_288[0][0]',         \n",
            "                                                                  'dense_27[0][0]']               \n",
            "                                                                                                  \n",
            " dense_24 (Dense)               (None, 1, 1, 512)    33280       ['dropout_2[0][0]']              \n",
            "                                                                                                  \n",
            " dense_26 (Dense)               (None, 1, 1, 512)    33280       ['dense_25[0][0]']               \n",
            "                                                                                                  \n",
            " add_2 (Add)                    (None, 4, 4, 512)    0           ['activation_288[0][0]',         \n",
            "                                                                  'multiply_2[0][0]']             \n",
            "                                                                                                  \n",
            " tf.__operators__.add_2 (TFOpLa  (None, 1, 1, 512)   0           ['dense_24[0][0]',               \n",
            " mbda)                                                            'dense_26[0][0]']               \n",
            "                                                                                                  \n",
            " batch_normalization_289 (Batch  (None, 4, 4, 512)   2048        ['add_2[0][0]']                  \n",
            " Normalization)                                                                                   \n",
            "                                                                                                  \n",
            " tf.math.sigmoid_6 (TFOpLambda)  (None, 1, 1, 512)   0           ['tf.__operators__.add_2[0][0]'] \n",
            "                                                                                                  \n",
            " activation_289 (Activation)    (None, 4, 4, 512)    0           ['batch_normalization_289[0][0]']\n",
            "                                                                                                  \n",
            " tf.math.multiply_6 (TFOpLambda  (None, 4, 4, 512)   0           ['activation_288[0][0]',         \n",
            " )                                                                'tf.math.sigmoid_6[0][0]']      \n",
            "                                                                                                  \n",
            " block_1 (MaxPooling2D)         (None, 2, 2, 512)    0           ['activation_289[0][0]']         \n",
            "                                                                                                  \n",
            " tf.math.reduce_mean_7 (TFOpLam  (None, 4, 4, 1)     0           ['activation_288[0][0]']         \n",
            " bda)                                                                                             \n",
            "                                                                                                  \n",
            " tf.math.reduce_max_7 (TFOpLamb  (None, 4, 4, 1)     0           ['activation_288[0][0]']         \n",
            " da)                                                                                              \n",
            "                                                                                                  \n",
            " tf.math.reduce_mean_8 (TFOpLam  (None, 4, 4, 1)     0           ['tf.math.multiply_6[0][0]']     \n",
            " bda)                                                                                             \n",
            "                                                                                                  \n",
            " tf.math.reduce_max_8 (TFOpLamb  (None, 4, 4, 1)     0           ['tf.math.multiply_6[0][0]']     \n",
            " da)                                                                                              \n",
            "                                                                                                  \n",
            " conv2d_293 (Conv2D)            (None, 2, 2, 512)    262656      ['block_1[0][0]']                \n",
            "                                                                                                  \n",
            " tf.concat_4 (TFOpLambda)       (None, 4, 4, 2)      0           ['tf.math.reduce_mean_7[0][0]',  \n",
            "                                                                  'tf.math.reduce_max_7[0][0]']   \n",
            "                                                                                                  \n",
            " tf.concat_5 (TFOpLambda)       (None, 4, 4, 2)      0           ['tf.math.reduce_mean_8[0][0]',  \n",
            "                                                                  'tf.math.reduce_max_8[0][0]']   \n",
            "                                                                                                  \n",
            " batch_normalization_290 (Batch  (None, 2, 2, 512)   1536        ['conv2d_293[0][0]']             \n",
            " Normalization)                                                                                   \n",
            "                                                                                                  \n",
            " conv2d_291 (Conv2D)            (None, 4, 4, 1)      50          ['tf.concat_4[0][0]']            \n",
            "                                                                                                  \n",
            " conv2d_292 (Conv2D)            (None, 4, 4, 1)      50          ['tf.concat_5[0][0]']            \n",
            "                                                                                                  \n",
            " activation_290 (Activation)    (None, 2, 2, 512)    0           ['batch_normalization_290[0][0]']\n",
            "                                                                                                  \n",
            " tf.math.sigmoid_7 (TFOpLambda)  (None, 4, 4, 1)     0           ['conv2d_291[0][0]']             \n",
            "                                                                                                  \n",
            " tf.math.sigmoid_8 (TFOpLambda)  (None, 4, 4, 1)     0           ['conv2d_292[0][0]']             \n",
            "                                                                                                  \n",
            " max_pooling2d_14 (MaxPooling2D  (None, 1, 1, 512)   0           ['activation_290[0][0]']         \n",
            " )                                                                                                \n",
            "                                                                                                  \n",
            " input2 (InputLayer)            [(None, 1)]          0           []                               \n",
            "                                                                                                  \n",
            " tf.math.multiply_7 (TFOpLambda  (None, 4, 4, 512)   0           ['activation_288[0][0]',         \n",
            " )                                                                'tf.math.sigmoid_7[0][0]']      \n",
            "                                                                                                  \n",
            " tf.math.multiply_8 (TFOpLambda  (None, 4, 4, 512)   0           ['tf.math.multiply_6[0][0]',     \n",
            " )                                                                'tf.math.sigmoid_8[0][0]']      \n",
            "                                                                                                  \n",
            " flatten_8 (Flatten)            (None, 512)          0           ['max_pooling2d_14[0][0]']       \n",
            "                                                                                                  \n",
            " dense_22 (Dense)               (None, 32)           64          ['input2[0][0]']                 \n",
            "                                                                                                  \n",
            " flatten_9 (Flatten)            (None, 8192)         0           ['tf.math.multiply_6[0][0]']     \n",
            "                                                                                                  \n",
            " flatten_10 (Flatten)           (None, 8192)         0           ['tf.math.multiply_7[0][0]']     \n",
            "                                                                                                  \n",
            " flatten_11 (Flatten)           (None, 8192)         0           ['tf.math.multiply_8[0][0]']     \n",
            "                                                                                                  \n",
            " concatenate_16 (Concatenate)   (None, 544)          0           ['flatten_8[0][0]',              \n",
            "                                                                  'dense_22[0][0]']               \n",
            "                                                                                                  \n"
          ]
        },
        {
          "name": "stderr",
          "output_type": "stream",
          "text": [
            "/usr/local/lib/python3.8/dist-packages/keras/optimizers/optimizer_v2/adam.py:110: UserWarning: The `lr` argument is deprecated, use `learning_rate` instead.\n",
            "  super(Adam, self).__init__(name, **kwargs)\n"
          ]
        },
        {
          "name": "stdout",
          "output_type": "stream",
          "text": [
            " concatenate_17 (Concatenate)   (None, 8224)         0           ['flatten_9[0][0]',              \n",
            "                                                                  'dense_22[0][0]']               \n",
            "                                                                                                  \n",
            " concatenate_18 (Concatenate)   (None, 8224)         0           ['flatten_10[0][0]',             \n",
            "                                                                  'dense_22[0][0]']               \n",
            "                                                                                                  \n",
            " concatenate_19 (Concatenate)   (None, 8224)         0           ['flatten_11[0][0]',             \n",
            "                                                                  'dense_22[0][0]']               \n",
            "                                                                                                  \n",
            " dense_28 (Dense)               (None, 1)            545         ['concatenate_16[0][0]']         \n",
            "                                                                                                  \n",
            " dense_29 (Dense)               (None, 1)            8225        ['concatenate_17[0][0]']         \n",
            "                                                                                                  \n",
            " dense_30 (Dense)               (None, 1)            8225        ['concatenate_18[0][0]']         \n",
            "                                                                                                  \n",
            " dense_31 (Dense)               (None, 1)            8225        ['concatenate_19[0][0]']         \n",
            "                                                                                                  \n",
            " concatenate_20 (Concatenate)   (None, 4)            0           ['dense_28[0][0]',               \n",
            "                                                                  'dense_29[0][0]',               \n",
            "                                                                  'dense_30[0][0]',               \n",
            "                                                                  'dense_31[0][0]']               \n",
            "                                                                                                  \n",
            " dense_32 (Dense)               (None, 1)            5           ['concatenate_20[0][0]']         \n",
            "                                                                                                  \n",
            "==================================================================================================\n",
            "Total params: 31,928,525\n",
            "Trainable params: 31,891,021\n",
            "Non-trainable params: 37,504\n",
            "__________________________________________________________________________________________________\n"
          ]
        },
        {
          "name": "stderr",
          "output_type": "stream",
          "text": [
            "WARNING:tensorflow:`period` argument is deprecated. Please use `save_freq` to specify the frequency in number of batches seen.\n"
          ]
        }
      ],
      "source": [
        "def AVG(x):\n",
        "    return x/4\n",
        "#from keras.utils.generic_utils import get_custom_objects\n",
        "\n",
        "#get_custom_objects().update({'avg': Activation(AVG)})\n",
        "base_model = InceptionV3(weights='imagenet', include_top=False)\n",
        "\n",
        "input = Input(shape=(256,256,3),name='input1')\n",
        "input_gender = Input(shape=(1,),dtype='float32',name='input2')\n",
        "output = base_model(input)\n",
        "gender_embedding=Dense(32)(input_gender)\n",
        "#gender_embedding=Dense(12)(gender_embedding)\n",
        "#x = keras.layers.MaxPooling2D(pool_size=(5,5))(output)\n",
        "#x = keras.layers.Conv2D(512,kernel_size=(3,3))(x)\n",
        "#inv= keras.layers.MaxPooling2D(pool_size=(3,3),name=\"block_0\")(output)\n",
        "x1 = conv2d_bn(output, 512, 3, 3, padding='valid') \n",
        "y=channel_attention(x1)\n",
        "z=spatial_attention2(x1)\n",
        "w=spatial_attention2(y)\n",
        "sq = keras.layers.GlobalAveragePooling2D()(x1)\n",
        "sq = keras.layers.Reshape((1,1,512))(sq)\n",
        "sq = keras.layers.Dense(units=512, kernel_regularizer=regularizers.L2(0.1),activation=\"sigmoid\")(sq)\n",
        "block = keras.layers.multiply([x1,sq])\n",
        "#fine Squeeze and Excitation 1\n",
        "\n",
        "net = keras.layers.add([x1,block])\n",
        "net = keras.layers.BatchNormalization()(net)\n",
        "net = keras.layers.Activation(\"relu\")(net)\n",
        "net = keras.layers.MaxPooling2D(pool_size=(2, 2),name=\"block_1\")(net)\n",
        "x = conv2d_bn(net, 512, 1,1, padding='valid') \n",
        "print (K.int_shape(output))\n",
        "x = keras.layers.MaxPooling2D(pool_size=(2,2))(x)\n",
        "print (K.int_shape(x))\n",
        "x=Flatten()(x)\n",
        "y=Flatten()(y)\n",
        "z=Flatten()(z)\n",
        "w=Flatten()(w)\n",
        "fx = keras.layers.Concatenate(axis=1)([x,gender_embedding])\n",
        "fy = keras.layers.Concatenate(axis=1)([y,gender_embedding])\n",
        "fz = keras.layers.Concatenate(axis=1)([z,gender_embedding])\n",
        "fw = keras.layers.Concatenate(axis=1)([w,gender_embedding])\n",
        "#inv= keras.layers.Concatenate(axis=1)([inv,gender_embedding])\n",
        "#print (K.int_shape(f)) \n",
        "#x = Dense(256, activation='relu')(x)\n",
        "px=Dense(1)(fx)\n",
        "py=Dense(1)(fy)\n",
        "pz=Dense(1)(fz)\n",
        "pw=Dense(1)(fw)\n",
        "#inv=Dense(1)(inv)\n",
        "f = keras.layers.Concatenate(axis=1)([px,py,pz,pw])\n",
        "predictions = Dense(1,activation=AVG)(f)\n",
        "model = Model(inputs=[input,input_gender], outputs=predictions)\n",
        "Adam=tf.keras.optimizers.Adam(lr=0.0001,beta_1=0.9,beta_2=0.999)\n",
        "model.compile(optimizer=Adam, loss='mean_absolute_error', metrics=['MAE'],run_eagerly=True)\n",
        "model.summary()\n",
        "\n",
        "checkpoint =keras.callbacks.ModelCheckpoint(filepath='weights/weights.{epoch:02d}-{val_loss:.2f}.hdf5',save_weights_only=True,period=50)\n",
        "#history = model.fit_generator(DataGen.flow([train_x,train_gen],train_y,batch_size=64),steps_per_epoch=np.ceil(len(train_y)/64),epochs=50,verbose=1,validation_data=([valid_x,valid_gen],valid_y))\n",
        "#history = model.fit_generator(Generator(x_train,gender_train,y_train,batch_size),steps_per_epoch=np.ceil(len(y_train)/batch_size),epochs=10,verbose=1,validation_data=([x_valid,gender_valid],y_valid))\n",
        "#history=model.fit([x_train,gender_train],y_train,batch_size=32,epochs=5,verbose=1,validation_data=([x_valid,gender_valid],y_valid), callbacks = [checkpoint])\n",
        "#sex_history1 = model.fit(\n",
        "  #  train_img_sex_inputs,\n",
        "  #  steps_per_epoch = step_size_train,\n",
        "   # epochs =1,\n",
        "   # verbose=1,\n",
        "   # validation_data = val_img_sex_inputs,\n",
        "   # validation_steps = step_size_val,\n",
        "   \n",
        "    #callbacks = [checkpoint]\n",
        "   # )\n",
        "#score = model.evaluate(test_img_sex_inputs)"
      ]
    },
    {
      "cell_type": "code",
      "execution_count": null,
      "metadata": {
        "colab": {
          "base_uri": "https://localhost:8080/",
          "height": 1000
        },
        "id": "P4Fg2vPbT6w5",
        "outputId": "c5581f55-7a63-4cd3-befb-b19b31d3d216"
      },
      "outputs": [
        {
          "name": "stderr",
          "output_type": "stream",
          "text": [
            "WARNING:tensorflow:`period` argument is deprecated. Please use `save_freq` to specify the frequency in number of batches seen.\n",
            "<ipython-input-85-09c804ea17a5>:3: UserWarning: `Model.fit_generator` is deprecated and will be removed in a future version. Please use `Model.fit`, which supports generators.\n",
            "  history = model.fit_generator(DataGen.flow([train_x,train_gen],train_y,batch_size=32),steps_per_epoch=np.ceil(len(train_y)/32),epochs=50,verbose=1,validation_data=([valid_x,valid_gen],valid_y))\n"
          ]
        },
        {
          "name": "stdout",
          "output_type": "stream",
          "text": [
            "Epoch 1/50\n",
            "244/244 [==============================] - 127s 516ms/step - loss: 183.1048 - MAE: 85.0597 - val_loss: 102.1303 - val_MAE: 30.8629\n",
            "Epoch 2/50\n",
            "244/244 [==============================] - 124s 505ms/step - loss: 82.3935 - MAE: 28.0302 - val_loss: 81.0992 - val_MAE: 40.4072\n",
            "Epoch 3/50\n",
            "244/244 [==============================] - 123s 503ms/step - loss: 46.5950 - MAE: 14.6723 - val_loss: 40.8708 - val_MAE: 16.0400\n",
            "Epoch 4/50\n",
            "244/244 [==============================] - 124s 507ms/step - loss: 33.9678 - MAE: 13.7077 - val_loss: 31.2281 - val_MAE: 14.8364\n",
            "Epoch 5/50\n",
            "244/244 [==============================] - 124s 508ms/step - loss: 26.5343 - MAE: 12.9290 - val_loss: 22.7906 - val_MAE: 11.6019\n",
            "Epoch 6/50\n",
            "244/244 [==============================] - 124s 505ms/step - loss: 22.2358 - MAE: 12.8476 - val_loss: 19.3138 - val_MAE: 11.5235\n",
            "Epoch 7/50\n",
            "244/244 [==============================] - 124s 505ms/step - loss: 18.5785 - MAE: 12.0399 - val_loss: 18.3215 - val_MAE: 12.9225\n",
            "Epoch 8/50\n",
            "244/244 [==============================] - 123s 505ms/step - loss: 16.3850 - MAE: 11.8474 - val_loss: 14.8500 - val_MAE: 11.0978\n",
            "Epoch 9/50\n",
            "244/244 [==============================] - 122s 500ms/step - loss: 14.8330 - MAE: 11.7107 - val_loss: 14.0317 - val_MAE: 11.4667\n",
            "Epoch 10/50\n",
            "244/244 [==============================] - 123s 505ms/step - loss: 13.6580 - MAE: 11.5257 - val_loss: 14.4368 - val_MAE: 12.7032\n",
            "Epoch 11/50\n",
            "244/244 [==============================] - 124s 505ms/step - loss: 12.6153 - MAE: 11.1615 - val_loss: 14.7010 - val_MAE: 13.5172\n",
            "Epoch 12/50\n",
            "244/244 [==============================] - 123s 502ms/step - loss: 11.7759 - MAE: 10.7891 - val_loss: 12.2500 - val_MAE: 11.4388\n",
            "Epoch 13/50\n",
            "244/244 [==============================] - 124s 505ms/step - loss: 11.3482 - MAE: 10.6599 - val_loss: 12.6587 - val_MAE: 12.0727\n",
            "Epoch 14/50\n",
            "244/244 [==============================] - 125s 509ms/step - loss: 11.0814 - MAE: 10.5747 - val_loss: 12.4202 - val_MAE: 11.9936\n",
            "Epoch 15/50\n",
            "177/244 [====================>.........] - ETA: 31s - loss: 10.5917 - MAE: 10.2024"
          ]
        },
        {
          "ename": "KeyboardInterrupt",
          "evalue": "ignored",
          "output_type": "error",
          "traceback": [
            "\u001b[0;31m---------------------------------------------------------------------------\u001b[0m",
            "\u001b[0;31mKeyboardInterrupt\u001b[0m                         Traceback (most recent call last)",
            "\u001b[0;32m<ipython-input-85-09c804ea17a5>\u001b[0m in \u001b[0;36m<module>\u001b[0;34m\u001b[0m\n\u001b[1;32m      1\u001b[0m \u001b[0mDataGen\u001b[0m \u001b[0;34m=\u001b[0m \u001b[0mImageDataGenerator\u001b[0m\u001b[0;34m(\u001b[0m\u001b[0mrotation_range\u001b[0m\u001b[0;34m=\u001b[0m\u001b[0;36m20\u001b[0m\u001b[0;34m,\u001b[0m\u001b[0mwidth_shift_range\u001b[0m\u001b[0;34m=\u001b[0m\u001b[0;36m0.15\u001b[0m\u001b[0;34m,\u001b[0m\u001b[0mheight_shift_range\u001b[0m\u001b[0;34m=\u001b[0m\u001b[0;36m0.15\u001b[0m\u001b[0;34m,\u001b[0m\u001b[0mzoom_range\u001b[0m\u001b[0;34m=\u001b[0m\u001b[0;36m0.2\u001b[0m\u001b[0;34m,\u001b[0m\u001b[0mhorizontal_flip\u001b[0m\u001b[0;34m=\u001b[0m\u001b[0;32mTrue\u001b[0m\u001b[0;34m)\u001b[0m\u001b[0;34m\u001b[0m\u001b[0;34m\u001b[0m\u001b[0m\n\u001b[1;32m      2\u001b[0m \u001b[0mcheckpoint\u001b[0m \u001b[0;34m=\u001b[0m\u001b[0mkeras\u001b[0m\u001b[0;34m.\u001b[0m\u001b[0mcallbacks\u001b[0m\u001b[0;34m.\u001b[0m\u001b[0mModelCheckpoint\u001b[0m\u001b[0;34m(\u001b[0m\u001b[0mfilepath\u001b[0m\u001b[0;34m=\u001b[0m\u001b[0;34m'weights/weights.{epoch:02d}-{val_loss:.2f}.hdf5'\u001b[0m\u001b[0;34m,\u001b[0m\u001b[0msave_weights_only\u001b[0m\u001b[0;34m=\u001b[0m\u001b[0;32mTrue\u001b[0m\u001b[0;34m,\u001b[0m\u001b[0mperiod\u001b[0m\u001b[0;34m=\u001b[0m\u001b[0;36m50\u001b[0m\u001b[0;34m)\u001b[0m\u001b[0;34m\u001b[0m\u001b[0;34m\u001b[0m\u001b[0m\n\u001b[0;32m----> 3\u001b[0;31m \u001b[0mhistory\u001b[0m \u001b[0;34m=\u001b[0m \u001b[0mmodel\u001b[0m\u001b[0;34m.\u001b[0m\u001b[0mfit_generator\u001b[0m\u001b[0;34m(\u001b[0m\u001b[0mDataGen\u001b[0m\u001b[0;34m.\u001b[0m\u001b[0mflow\u001b[0m\u001b[0;34m(\u001b[0m\u001b[0;34m[\u001b[0m\u001b[0mtrain_x\u001b[0m\u001b[0;34m,\u001b[0m\u001b[0mtrain_gen\u001b[0m\u001b[0;34m]\u001b[0m\u001b[0;34m,\u001b[0m\u001b[0mtrain_y\u001b[0m\u001b[0;34m,\u001b[0m\u001b[0mbatch_size\u001b[0m\u001b[0;34m=\u001b[0m\u001b[0;36m32\u001b[0m\u001b[0;34m)\u001b[0m\u001b[0;34m,\u001b[0m\u001b[0msteps_per_epoch\u001b[0m\u001b[0;34m=\u001b[0m\u001b[0mnp\u001b[0m\u001b[0;34m.\u001b[0m\u001b[0mceil\u001b[0m\u001b[0;34m(\u001b[0m\u001b[0mlen\u001b[0m\u001b[0;34m(\u001b[0m\u001b[0mtrain_y\u001b[0m\u001b[0;34m)\u001b[0m\u001b[0;34m/\u001b[0m\u001b[0;36m32\u001b[0m\u001b[0;34m)\u001b[0m\u001b[0;34m,\u001b[0m\u001b[0mepochs\u001b[0m\u001b[0;34m=\u001b[0m\u001b[0;36m50\u001b[0m\u001b[0;34m,\u001b[0m\u001b[0mverbose\u001b[0m\u001b[0;34m=\u001b[0m\u001b[0;36m1\u001b[0m\u001b[0;34m,\u001b[0m\u001b[0mvalidation_data\u001b[0m\u001b[0;34m=\u001b[0m\u001b[0;34m(\u001b[0m\u001b[0;34m[\u001b[0m\u001b[0mvalid_x\u001b[0m\u001b[0;34m,\u001b[0m\u001b[0mvalid_gen\u001b[0m\u001b[0;34m]\u001b[0m\u001b[0;34m,\u001b[0m\u001b[0mvalid_y\u001b[0m\u001b[0;34m)\u001b[0m\u001b[0;34m)\u001b[0m\u001b[0;34m\u001b[0m\u001b[0;34m\u001b[0m\u001b[0m\n\u001b[0m\u001b[1;32m      4\u001b[0m \u001b[0;31m#history = model.fit_generator(Generator(x_train,gender_train,y_train,batch_size),steps_per_epoch=np.ceil(len(y_train)/batch_size),epochs=10,verbose=1,validation_data=([x_valid,gender_valid],y_valid))\u001b[0m\u001b[0;34m\u001b[0m\u001b[0;34m\u001b[0m\u001b[0;34m\u001b[0m\u001b[0m\n\u001b[1;32m      5\u001b[0m \u001b[0;31m#history=model.fit([x_train,gender_train],y_train,batch_size=32,epochs=5,verbose=1,validation_data=([x_valid,gender_valid],y_valid), callbacks = [checkpoint])\u001b[0m\u001b[0;34m\u001b[0m\u001b[0;34m\u001b[0m\u001b[0;34m\u001b[0m\u001b[0m\n",
            "\u001b[0;32m/usr/local/lib/python3.8/dist-packages/keras/engine/training.py\u001b[0m in \u001b[0;36mfit_generator\u001b[0;34m(self, generator, steps_per_epoch, epochs, verbose, callbacks, validation_data, validation_steps, validation_freq, class_weight, max_queue_size, workers, use_multiprocessing, shuffle, initial_epoch)\u001b[0m\n\u001b[1;32m   2258\u001b[0m         \u001b[0;34m'Please use `Model.fit`, which supports generators.'\u001b[0m\u001b[0;34m,\u001b[0m\u001b[0;34m\u001b[0m\u001b[0;34m\u001b[0m\u001b[0m\n\u001b[1;32m   2259\u001b[0m         stacklevel=2)\n\u001b[0;32m-> 2260\u001b[0;31m     return self.fit(\n\u001b[0m\u001b[1;32m   2261\u001b[0m         \u001b[0mgenerator\u001b[0m\u001b[0;34m,\u001b[0m\u001b[0;34m\u001b[0m\u001b[0;34m\u001b[0m\u001b[0m\n\u001b[1;32m   2262\u001b[0m         \u001b[0msteps_per_epoch\u001b[0m\u001b[0;34m=\u001b[0m\u001b[0msteps_per_epoch\u001b[0m\u001b[0;34m,\u001b[0m\u001b[0;34m\u001b[0m\u001b[0;34m\u001b[0m\u001b[0m\n",
            "\u001b[0;32m/usr/local/lib/python3.8/dist-packages/keras/utils/traceback_utils.py\u001b[0m in \u001b[0;36merror_handler\u001b[0;34m(*args, **kwargs)\u001b[0m\n\u001b[1;32m     62\u001b[0m     \u001b[0mfiltered_tb\u001b[0m \u001b[0;34m=\u001b[0m \u001b[0;32mNone\u001b[0m\u001b[0;34m\u001b[0m\u001b[0;34m\u001b[0m\u001b[0m\n\u001b[1;32m     63\u001b[0m     \u001b[0;32mtry\u001b[0m\u001b[0;34m:\u001b[0m\u001b[0;34m\u001b[0m\u001b[0;34m\u001b[0m\u001b[0m\n\u001b[0;32m---> 64\u001b[0;31m       \u001b[0;32mreturn\u001b[0m \u001b[0mfn\u001b[0m\u001b[0;34m(\u001b[0m\u001b[0;34m*\u001b[0m\u001b[0margs\u001b[0m\u001b[0;34m,\u001b[0m \u001b[0;34m**\u001b[0m\u001b[0mkwargs\u001b[0m\u001b[0;34m)\u001b[0m\u001b[0;34m\u001b[0m\u001b[0;34m\u001b[0m\u001b[0m\n\u001b[0m\u001b[1;32m     65\u001b[0m     \u001b[0;32mexcept\u001b[0m \u001b[0mException\u001b[0m \u001b[0;32mas\u001b[0m \u001b[0me\u001b[0m\u001b[0;34m:\u001b[0m  \u001b[0;31m# pylint: disable=broad-except\u001b[0m\u001b[0;34m\u001b[0m\u001b[0;34m\u001b[0m\u001b[0m\n\u001b[1;32m     66\u001b[0m       \u001b[0mfiltered_tb\u001b[0m \u001b[0;34m=\u001b[0m \u001b[0m_process_traceback_frames\u001b[0m\u001b[0;34m(\u001b[0m\u001b[0me\u001b[0m\u001b[0;34m.\u001b[0m\u001b[0m__traceback__\u001b[0m\u001b[0;34m)\u001b[0m\u001b[0;34m\u001b[0m\u001b[0;34m\u001b[0m\u001b[0m\n",
            "\u001b[0;32m/usr/local/lib/python3.8/dist-packages/keras/engine/training.py\u001b[0m in \u001b[0;36mfit\u001b[0;34m(self, x, y, batch_size, epochs, verbose, callbacks, validation_split, validation_data, shuffle, class_weight, sample_weight, initial_epoch, steps_per_epoch, validation_steps, validation_batch_size, validation_freq, max_queue_size, workers, use_multiprocessing)\u001b[0m\n\u001b[1;32m   1407\u001b[0m                 _r=1):\n\u001b[1;32m   1408\u001b[0m               \u001b[0mcallbacks\u001b[0m\u001b[0;34m.\u001b[0m\u001b[0mon_train_batch_begin\u001b[0m\u001b[0;34m(\u001b[0m\u001b[0mstep\u001b[0m\u001b[0;34m)\u001b[0m\u001b[0;34m\u001b[0m\u001b[0;34m\u001b[0m\u001b[0m\n\u001b[0;32m-> 1409\u001b[0;31m               \u001b[0mtmp_logs\u001b[0m \u001b[0;34m=\u001b[0m \u001b[0mself\u001b[0m\u001b[0;34m.\u001b[0m\u001b[0mtrain_function\u001b[0m\u001b[0;34m(\u001b[0m\u001b[0miterator\u001b[0m\u001b[0;34m)\u001b[0m\u001b[0;34m\u001b[0m\u001b[0;34m\u001b[0m\u001b[0m\n\u001b[0m\u001b[1;32m   1410\u001b[0m               \u001b[0;32mif\u001b[0m \u001b[0mdata_handler\u001b[0m\u001b[0;34m.\u001b[0m\u001b[0mshould_sync\u001b[0m\u001b[0;34m:\u001b[0m\u001b[0;34m\u001b[0m\u001b[0;34m\u001b[0m\u001b[0m\n\u001b[1;32m   1411\u001b[0m                 \u001b[0mcontext\u001b[0m\u001b[0;34m.\u001b[0m\u001b[0masync_wait\u001b[0m\u001b[0;34m(\u001b[0m\u001b[0;34m)\u001b[0m\u001b[0;34m\u001b[0m\u001b[0;34m\u001b[0m\u001b[0m\n",
            "\u001b[0;32m/usr/local/lib/python3.8/dist-packages/keras/engine/training.py\u001b[0m in \u001b[0;36mtrain_function\u001b[0;34m(iterator)\u001b[0m\n\u001b[1;32m   1049\u001b[0m       \u001b[0;32mdef\u001b[0m \u001b[0mtrain_function\u001b[0m\u001b[0;34m(\u001b[0m\u001b[0miterator\u001b[0m\u001b[0;34m)\u001b[0m\u001b[0;34m:\u001b[0m\u001b[0;34m\u001b[0m\u001b[0;34m\u001b[0m\u001b[0m\n\u001b[1;32m   1050\u001b[0m         \u001b[0;34m\"\"\"Runs a training execution with a single step.\"\"\"\u001b[0m\u001b[0;34m\u001b[0m\u001b[0;34m\u001b[0m\u001b[0m\n\u001b[0;32m-> 1051\u001b[0;31m         \u001b[0;32mreturn\u001b[0m \u001b[0mstep_function\u001b[0m\u001b[0;34m(\u001b[0m\u001b[0mself\u001b[0m\u001b[0;34m,\u001b[0m \u001b[0miterator\u001b[0m\u001b[0;34m)\u001b[0m\u001b[0;34m\u001b[0m\u001b[0;34m\u001b[0m\u001b[0m\n\u001b[0m\u001b[1;32m   1052\u001b[0m \u001b[0;34m\u001b[0m\u001b[0m\n\u001b[1;32m   1053\u001b[0m       \u001b[0;32mif\u001b[0m \u001b[0;32mnot\u001b[0m \u001b[0mself\u001b[0m\u001b[0;34m.\u001b[0m\u001b[0mrun_eagerly\u001b[0m\u001b[0;34m:\u001b[0m\u001b[0;34m\u001b[0m\u001b[0;34m\u001b[0m\u001b[0m\n",
            "\u001b[0;32m/usr/local/lib/python3.8/dist-packages/keras/engine/training.py\u001b[0m in \u001b[0;36mstep_function\u001b[0;34m(model, iterator)\u001b[0m\n\u001b[1;32m   1037\u001b[0m         run_step = tf.function(\n\u001b[1;32m   1038\u001b[0m             run_step, jit_compile=True, reduce_retracing=True)\n\u001b[0;32m-> 1039\u001b[0;31m       \u001b[0mdata\u001b[0m \u001b[0;34m=\u001b[0m \u001b[0mnext\u001b[0m\u001b[0;34m(\u001b[0m\u001b[0miterator\u001b[0m\u001b[0;34m)\u001b[0m\u001b[0;34m\u001b[0m\u001b[0;34m\u001b[0m\u001b[0m\n\u001b[0m\u001b[1;32m   1040\u001b[0m       \u001b[0moutputs\u001b[0m \u001b[0;34m=\u001b[0m \u001b[0mmodel\u001b[0m\u001b[0;34m.\u001b[0m\u001b[0mdistribute_strategy\u001b[0m\u001b[0;34m.\u001b[0m\u001b[0mrun\u001b[0m\u001b[0;34m(\u001b[0m\u001b[0mrun_step\u001b[0m\u001b[0;34m,\u001b[0m \u001b[0margs\u001b[0m\u001b[0;34m=\u001b[0m\u001b[0;34m(\u001b[0m\u001b[0mdata\u001b[0m\u001b[0;34m,\u001b[0m\u001b[0;34m)\u001b[0m\u001b[0;34m)\u001b[0m\u001b[0;34m\u001b[0m\u001b[0;34m\u001b[0m\u001b[0m\n\u001b[1;32m   1041\u001b[0m       outputs = reduce_per_replica(\n",
            "\u001b[0;32m/usr/local/lib/python3.8/dist-packages/tensorflow/python/data/ops/iterator_ops.py\u001b[0m in \u001b[0;36m__next__\u001b[0;34m(self)\u001b[0m\n\u001b[1;32m    764\u001b[0m   \u001b[0;32mdef\u001b[0m \u001b[0m__next__\u001b[0m\u001b[0;34m(\u001b[0m\u001b[0mself\u001b[0m\u001b[0;34m)\u001b[0m\u001b[0;34m:\u001b[0m\u001b[0;34m\u001b[0m\u001b[0;34m\u001b[0m\u001b[0m\n\u001b[1;32m    765\u001b[0m     \u001b[0;32mtry\u001b[0m\u001b[0;34m:\u001b[0m\u001b[0;34m\u001b[0m\u001b[0;34m\u001b[0m\u001b[0m\n\u001b[0;32m--> 766\u001b[0;31m       \u001b[0;32mreturn\u001b[0m \u001b[0mself\u001b[0m\u001b[0;34m.\u001b[0m\u001b[0m_next_internal\u001b[0m\u001b[0;34m(\u001b[0m\u001b[0;34m)\u001b[0m\u001b[0;34m\u001b[0m\u001b[0;34m\u001b[0m\u001b[0m\n\u001b[0m\u001b[1;32m    767\u001b[0m     \u001b[0;32mexcept\u001b[0m \u001b[0merrors\u001b[0m\u001b[0;34m.\u001b[0m\u001b[0mOutOfRangeError\u001b[0m\u001b[0;34m:\u001b[0m\u001b[0;34m\u001b[0m\u001b[0;34m\u001b[0m\u001b[0m\n\u001b[1;32m    768\u001b[0m       \u001b[0;32mraise\u001b[0m \u001b[0mStopIteration\u001b[0m\u001b[0;34m\u001b[0m\u001b[0;34m\u001b[0m\u001b[0m\n",
            "\u001b[0;32m/usr/local/lib/python3.8/dist-packages/tensorflow/python/data/ops/iterator_ops.py\u001b[0m in \u001b[0;36m_next_internal\u001b[0;34m(self)\u001b[0m\n\u001b[1;32m    747\u001b[0m     \u001b[0;31m# to communicate that there is no more data to iterate over.\u001b[0m\u001b[0;34m\u001b[0m\u001b[0;34m\u001b[0m\u001b[0;34m\u001b[0m\u001b[0m\n\u001b[1;32m    748\u001b[0m     \u001b[0;32mwith\u001b[0m \u001b[0mcontext\u001b[0m\u001b[0;34m.\u001b[0m\u001b[0mexecution_mode\u001b[0m\u001b[0;34m(\u001b[0m\u001b[0mcontext\u001b[0m\u001b[0;34m.\u001b[0m\u001b[0mSYNC\u001b[0m\u001b[0;34m)\u001b[0m\u001b[0;34m:\u001b[0m\u001b[0;34m\u001b[0m\u001b[0;34m\u001b[0m\u001b[0m\n\u001b[0;32m--> 749\u001b[0;31m       ret = gen_dataset_ops.iterator_get_next(\n\u001b[0m\u001b[1;32m    750\u001b[0m           \u001b[0mself\u001b[0m\u001b[0;34m.\u001b[0m\u001b[0m_iterator_resource\u001b[0m\u001b[0;34m,\u001b[0m\u001b[0;34m\u001b[0m\u001b[0;34m\u001b[0m\u001b[0m\n\u001b[1;32m    751\u001b[0m           \u001b[0moutput_types\u001b[0m\u001b[0;34m=\u001b[0m\u001b[0mself\u001b[0m\u001b[0;34m.\u001b[0m\u001b[0m_flat_output_types\u001b[0m\u001b[0;34m,\u001b[0m\u001b[0;34m\u001b[0m\u001b[0;34m\u001b[0m\u001b[0m\n",
            "\u001b[0;32m/usr/local/lib/python3.8/dist-packages/tensorflow/python/ops/gen_dataset_ops.py\u001b[0m in \u001b[0;36miterator_get_next\u001b[0;34m(iterator, output_types, output_shapes, name)\u001b[0m\n\u001b[1;32m   3010\u001b[0m   \u001b[0;32mif\u001b[0m \u001b[0mtld\u001b[0m\u001b[0;34m.\u001b[0m\u001b[0mis_eager\u001b[0m\u001b[0;34m:\u001b[0m\u001b[0;34m\u001b[0m\u001b[0;34m\u001b[0m\u001b[0m\n\u001b[1;32m   3011\u001b[0m     \u001b[0;32mtry\u001b[0m\u001b[0;34m:\u001b[0m\u001b[0;34m\u001b[0m\u001b[0;34m\u001b[0m\u001b[0m\n\u001b[0;32m-> 3012\u001b[0;31m       _result = pywrap_tfe.TFE_Py_FastPathExecute(\n\u001b[0m\u001b[1;32m   3013\u001b[0m         \u001b[0m_ctx\u001b[0m\u001b[0;34m,\u001b[0m \u001b[0;34m\"IteratorGetNext\"\u001b[0m\u001b[0;34m,\u001b[0m \u001b[0mname\u001b[0m\u001b[0;34m,\u001b[0m \u001b[0miterator\u001b[0m\u001b[0;34m,\u001b[0m \u001b[0;34m\"output_types\"\u001b[0m\u001b[0;34m,\u001b[0m \u001b[0moutput_types\u001b[0m\u001b[0;34m,\u001b[0m\u001b[0;34m\u001b[0m\u001b[0;34m\u001b[0m\u001b[0m\n\u001b[1;32m   3014\u001b[0m         \"output_shapes\", output_shapes)\n",
            "\u001b[0;31mKeyboardInterrupt\u001b[0m: "
          ]
        }
      ],
      "source": [
        "DataGen = ImageDataGenerator(rotation_range=20,width_shift_range=0.15,height_shift_range=0.15,zoom_range=0.2,horizontal_flip=True)\n",
        "checkpoint =keras.callbacks.ModelCheckpoint(filepath='weights/weights.{epoch:02d}-{val_loss:.2f}.hdf5',save_weights_only=True,period=50)\n",
        "history = model.fit_generator(DataGen.flow([train_x,train_gen],train_y,batch_size=32),steps_per_epoch=np.ceil(len(train_y)/32),epochs=50,verbose=1,validation_data=([valid_x,valid_gen],valid_y))\n",
        "#history = model.fit_generator(Generator(x_train,gender_train,y_train,batch_size),steps_per_epoch=np.ceil(len(y_train)/batch_size),epochs=10,verbose=1,validation_data=([x_valid,gender_valid],y_valid))\n",
        "#history=model.fit([x_train,gender_train],y_train,batch_size=32,epochs=5,verbose=1,validation_data=([x_valid,gender_valid],y_valid), callbacks = [checkpoint])\n",
        "score = model.evaluate([test_x,test_gen], test_y, batch_size=32)"
      ]
    },
    {
      "cell_type": "code",
      "execution_count": null,
      "metadata": {
        "colab": {
          "base_uri": "https://localhost:8080/"
        },
        "id": "Vownqj3JUdm3",
        "outputId": "3409fac2-26a8-4ad8-9198-87c2a64b5a8e"
      },
      "outputs": [
        {
          "name": "stdout",
          "output_type": "stream",
          "text": [
            "(None, 6, 6, 2048)\n",
            "(None, 1056)\n",
            "Model: \"model_5\"\n",
            "__________________________________________________________________________________________________\n",
            " Layer (type)                   Output Shape         Param #     Connected to                     \n",
            "==================================================================================================\n",
            " input1 (InputLayer)            [(None, 256, 256, 3  0           []                               \n",
            "                                )]                                                                \n",
            "                                                                                                  \n",
            " inception_v3 (Functional)      (None, None, None,   21802784    ['input1[0][0]']                 \n",
            "                                2048)                                                             \n",
            "                                                                                                  \n",
            " tf.math.reduce_mean_9 (TFOpLam  (None, 1, 1, 2048)  0           ['inception_v3[0][0]']           \n",
            " bda)                                                                                             \n",
            "                                                                                                  \n",
            " dense_34 (Dense)               (None, 1, 1, 256)    524544      ['tf.math.reduce_mean_9[0][0]']  \n",
            "                                                                                                  \n",
            " tf.math.reduce_max_9 (TFOpLamb  (None, 1, 1, 2048)  0           ['inception_v3[0][0]']           \n",
            " da)                                                                                              \n",
            "                                                                                                  \n",
            " dropout_3 (Dropout)            (None, 1, 1, 256)    0           ['dense_34[0][0]']               \n",
            "                                                                                                  \n",
            " dense_36 (Dense)               (None, 1, 1, 256)    524544      ['tf.math.reduce_max_9[0][0]']   \n",
            "                                                                                                  \n",
            " dense_35 (Dense)               (None, 1, 1, 2048)   526336      ['dropout_3[0][0]']              \n",
            "                                                                                                  \n",
            " dense_37 (Dense)               (None, 1, 1, 2048)   526336      ['dense_36[0][0]']               \n",
            "                                                                                                  \n",
            " tf.__operators__.add_3 (TFOpLa  (None, 1, 1, 2048)  0           ['dense_35[0][0]',               \n",
            " mbda)                                                            'dense_37[0][0]']               \n",
            "                                                                                                  \n",
            " tf.math.sigmoid_9 (TFOpLambda)  (None, 1, 1, 2048)  0           ['tf.__operators__.add_3[0][0]'] \n",
            "                                                                                                  \n",
            " tf.math.multiply_9 (TFOpLambda  (None, 6, 6, 2048)  0           ['inception_v3[0][0]',           \n",
            " )                                                                'tf.math.sigmoid_9[0][0]']      \n",
            "                                                                                                  \n",
            " tf.math.reduce_mean_10 (TFOpLa  (None, 6, 6, 1)     0           ['tf.math.multiply_9[0][0]']     \n",
            " mbda)                                                                                            \n",
            "                                                                                                  \n",
            " tf.math.reduce_max_10 (TFOpLam  (None, 6, 6, 1)     0           ['tf.math.multiply_9[0][0]']     \n",
            " bda)                                                                                             \n",
            "                                                                                                  \n",
            " tf.math.reduce_mean_13 (TFOpLa  (None, 6, 6, 1)     0           ['tf.math.multiply_9[0][0]']     \n",
            " mbda)                                                                                            \n",
            "                                                                                                  \n",
            " tf.math.reduce_max_13 (TFOpLam  (None, 6, 6, 1)     0           ['tf.math.multiply_9[0][0]']     \n",
            " bda)                                                                                             \n",
            "                                                                                                  \n",
            " tf.math.reduce_mean_16 (TFOpLa  (None, 6, 6, 1)     0           ['tf.math.multiply_9[0][0]']     \n",
            " mbda)                                                                                            \n",
            "                                                                                                  \n",
            " tf.math.reduce_max_16 (TFOpLam  (None, 6, 6, 1)     0           ['tf.math.multiply_9[0][0]']     \n",
            " bda)                                                                                             \n",
            "                                                                                                  \n",
            " tf.concat_6 (TFOpLambda)       (None, 6, 6, 2)      0           ['tf.math.reduce_mean_10[0][0]', \n",
            "                                                                  'tf.math.reduce_max_10[0][0]']  \n",
            "                                                                                                  \n",
            " tf.concat_8 (TFOpLambda)       (None, 6, 6, 2)      0           ['tf.math.reduce_mean_13[0][0]', \n",
            "                                                                  'tf.math.reduce_max_13[0][0]']  \n",
            "                                                                                                  \n",
            " tf.concat_10 (TFOpLambda)      (None, 6, 6, 2)      0           ['tf.math.reduce_mean_16[0][0]', \n",
            "                                                                  'tf.math.reduce_max_16[0][0]']  \n",
            "                                                                                                  \n",
            " conv2d_388 (Conv2D)            (None, 6, 6, 1)      18          ['tf.concat_6[0][0]']            \n",
            "                                                                                                  \n",
            " conv2d_392 (Conv2D)            (None, 6, 6, 1)      50          ['tf.concat_8[0][0]']            \n",
            "                                                                                                  \n",
            " conv2d_396 (Conv2D)            (None, 6, 6, 1)      18          ['tf.concat_10[0][0]']           \n",
            "                                                                                                  \n",
            " tf.math.sigmoid_10 (TFOpLambda  (None, 6, 6, 1)     0           ['conv2d_388[0][0]']             \n",
            " )                                                                                                \n",
            "                                                                                                  \n",
            " tf.math.sigmoid_13 (TFOpLambda  (None, 6, 6, 1)     0           ['conv2d_392[0][0]']             \n",
            " )                                                                                                \n",
            "                                                                                                  \n",
            " tf.math.sigmoid_16 (TFOpLambda  (None, 6, 6, 1)     0           ['conv2d_396[0][0]']             \n",
            " )                                                                                                \n",
            "                                                                                                  \n",
            " tf.math.multiply_10 (TFOpLambd  (None, 6, 6, 2048)  0           ['tf.math.multiply_9[0][0]',     \n",
            " a)                                                               'tf.math.sigmoid_10[0][0]']     \n",
            "                                                                                                  \n",
            " tf.math.multiply_13 (TFOpLambd  (None, 6, 6, 2048)  0           ['tf.math.multiply_9[0][0]',     \n",
            " a)                                                               'tf.math.sigmoid_13[0][0]']     \n",
            "                                                                                                  \n",
            " tf.math.multiply_16 (TFOpLambd  (None, 6, 6, 2048)  0           ['tf.math.multiply_9[0][0]',     \n",
            " a)                                                               'tf.math.sigmoid_16[0][0]']     \n",
            "                                                                                                  \n",
            " conv2d_389 (Conv2D)            (None, 4, 4, 256)    4718848     ['tf.math.multiply_10[0][0]']    \n",
            "                                                                                                  \n",
            " conv2d_393 (Conv2D)            (None, 4, 4, 256)    4718848     ['tf.math.multiply_13[0][0]']    \n",
            "                                                                                                  \n",
            " conv2d_397 (Conv2D)            (None, 4, 4, 256)    4718848     ['tf.math.multiply_16[0][0]']    \n",
            "                                                                                                  \n",
            " batch_normalization_385 (Batch  (None, 4, 4, 256)   768         ['conv2d_389[0][0]']             \n",
            " Normalization)                                                                                   \n",
            "                                                                                                  \n",
            " batch_normalization_387 (Batch  (None, 4, 4, 256)   768         ['conv2d_393[0][0]']             \n",
            " Normalization)                                                                                   \n",
            "                                                                                                  \n",
            " batch_normalization_389 (Batch  (None, 4, 4, 256)   768         ['conv2d_397[0][0]']             \n",
            " Normalization)                                                                                   \n",
            "                                                                                                  \n",
            " activation_385 (Activation)    (None, 4, 4, 256)    0           ['batch_normalization_385[0][0]']\n",
            "                                                                                                  \n",
            " activation_387 (Activation)    (None, 4, 4, 256)    0           ['batch_normalization_387[0][0]']\n",
            "                                                                                                  \n",
            " activation_389 (Activation)    (None, 4, 4, 256)    0           ['batch_normalization_389[0][0]']\n",
            "                                                                                                  \n",
            " conv2d_390 (Conv2D)            (None, 2, 2, 256)    590080      ['activation_385[0][0]']         \n",
            "                                                                                                  \n",
            " conv2d_394 (Conv2D)            (None, 2, 2, 256)    590080      ['activation_387[0][0]']         \n",
            "                                                                                                  \n",
            " conv2d_398 (Conv2D)            (None, 2, 2, 256)    590080      ['activation_389[0][0]']         \n",
            "                                                                                                  \n"
          ]
        },
        {
          "name": "stderr",
          "output_type": "stream",
          "text": [
            "/usr/local/lib/python3.8/dist-packages/keras/optimizers/optimizer_v2/adam.py:110: UserWarning: The `lr` argument is deprecated, use `learning_rate` instead.\n",
            "  super(Adam, self).__init__(name, **kwargs)\n"
          ]
        },
        {
          "name": "stdout",
          "output_type": "stream",
          "text": [
            " batch_normalization_386 (Batch  (None, 2, 2, 256)   768         ['conv2d_390[0][0]']             \n",
            " Normalization)                                                                                   \n",
            "                                                                                                  \n",
            " batch_normalization_388 (Batch  (None, 2, 2, 256)   768         ['conv2d_394[0][0]']             \n",
            " Normalization)                                                                                   \n",
            "                                                                                                  \n",
            " batch_normalization_390 (Batch  (None, 2, 2, 256)   768         ['conv2d_398[0][0]']             \n",
            " Normalization)                                                                                   \n",
            "                                                                                                  \n",
            " activation_386 (Activation)    (None, 2, 2, 256)    0           ['batch_normalization_386[0][0]']\n",
            "                                                                                                  \n",
            " activation_388 (Activation)    (None, 2, 2, 256)    0           ['batch_normalization_388[0][0]']\n",
            "                                                                                                  \n",
            " activation_390 (Activation)    (None, 2, 2, 256)    0           ['batch_normalization_390[0][0]']\n",
            "                                                                                                  \n",
            " tf.math.reduce_mean_11 (TFOpLa  (None, 1, 1, 256)   0           ['activation_386[0][0]']         \n",
            " mbda)                                                                                            \n",
            "                                                                                                  \n",
            " tf.math.reduce_mean_14 (TFOpLa  (None, 1, 1, 256)   0           ['activation_388[0][0]']         \n",
            " mbda)                                                                                            \n",
            "                                                                                                  \n",
            " tf.math.reduce_mean_17 (TFOpLa  (None, 1, 1, 256)   0           ['activation_390[0][0]']         \n",
            " mbda)                                                                                            \n",
            "                                                                                                  \n",
            " dense_38 (Dense)               (None, 1, 1, 32)     8224        ['tf.math.reduce_mean_11[0][0]'] \n",
            "                                                                                                  \n",
            " tf.math.reduce_max_11 (TFOpLam  (None, 1, 1, 256)   0           ['activation_386[0][0]']         \n",
            " bda)                                                                                             \n",
            "                                                                                                  \n",
            " dense_42 (Dense)               (None, 1, 1, 32)     8224        ['tf.math.reduce_mean_14[0][0]'] \n",
            "                                                                                                  \n",
            " tf.math.reduce_max_14 (TFOpLam  (None, 1, 1, 256)   0           ['activation_388[0][0]']         \n",
            " bda)                                                                                             \n",
            "                                                                                                  \n",
            " dense_46 (Dense)               (None, 1, 1, 32)     8224        ['tf.math.reduce_mean_17[0][0]'] \n",
            "                                                                                                  \n",
            " tf.math.reduce_max_17 (TFOpLam  (None, 1, 1, 256)   0           ['activation_390[0][0]']         \n",
            " bda)                                                                                             \n",
            "                                                                                                  \n",
            " dropout_4 (Dropout)            (None, 1, 1, 32)     0           ['dense_38[0][0]']               \n",
            "                                                                                                  \n",
            " dense_40 (Dense)               (None, 1, 1, 32)     8224        ['tf.math.reduce_max_11[0][0]']  \n",
            "                                                                                                  \n",
            " dropout_5 (Dropout)            (None, 1, 1, 32)     0           ['dense_42[0][0]']               \n",
            "                                                                                                  \n",
            " dense_44 (Dense)               (None, 1, 1, 32)     8224        ['tf.math.reduce_max_14[0][0]']  \n",
            "                                                                                                  \n",
            " dropout_6 (Dropout)            (None, 1, 1, 32)     0           ['dense_46[0][0]']               \n",
            "                                                                                                  \n",
            " dense_48 (Dense)               (None, 1, 1, 32)     8224        ['tf.math.reduce_max_17[0][0]']  \n",
            "                                                                                                  \n",
            " dense_39 (Dense)               (None, 1, 1, 256)    8448        ['dropout_4[0][0]']              \n",
            "                                                                                                  \n",
            " dense_41 (Dense)               (None, 1, 1, 256)    8448        ['dense_40[0][0]']               \n",
            "                                                                                                  \n",
            " dense_43 (Dense)               (None, 1, 1, 256)    8448        ['dropout_5[0][0]']              \n",
            "                                                                                                  \n",
            " dense_45 (Dense)               (None, 1, 1, 256)    8448        ['dense_44[0][0]']               \n",
            "                                                                                                  \n",
            " dense_47 (Dense)               (None, 1, 1, 256)    8448        ['dropout_6[0][0]']              \n",
            "                                                                                                  \n",
            " dense_49 (Dense)               (None, 1, 1, 256)    8448        ['dense_48[0][0]']               \n",
            "                                                                                                  \n",
            " tf.__operators__.add_4 (TFOpLa  (None, 1, 1, 256)   0           ['dense_39[0][0]',               \n",
            " mbda)                                                            'dense_41[0][0]']               \n",
            "                                                                                                  \n",
            " tf.__operators__.add_5 (TFOpLa  (None, 1, 1, 256)   0           ['dense_43[0][0]',               \n",
            " mbda)                                                            'dense_45[0][0]']               \n",
            "                                                                                                  \n",
            " tf.__operators__.add_6 (TFOpLa  (None, 1, 1, 256)   0           ['dense_47[0][0]',               \n",
            " mbda)                                                            'dense_49[0][0]']               \n",
            "                                                                                                  \n",
            " global_average_pooling2d_3 (Gl  (None, 2048)        0           ['inception_v3[0][0]']           \n",
            " obalAveragePooling2D)                                                                            \n",
            "                                                                                                  \n",
            " tf.math.sigmoid_11 (TFOpLambda  (None, 1, 1, 256)   0           ['tf.__operators__.add_4[0][0]'] \n",
            " )                                                                                                \n",
            "                                                                                                  \n",
            " tf.math.sigmoid_14 (TFOpLambda  (None, 1, 1, 256)   0           ['tf.__operators__.add_5[0][0]'] \n",
            " )                                                                                                \n",
            "                                                                                                  \n",
            " tf.math.sigmoid_17 (TFOpLambda  (None, 1, 1, 256)   0           ['tf.__operators__.add_6[0][0]'] \n",
            " )                                                                                                \n",
            "                                                                                                  \n",
            " reshape_3 (Reshape)            (None, 1, 1, 2048)   0           ['global_average_pooling2d_3[0][0\n",
            "                                                                 ]']                              \n",
            "                                                                                                  \n",
            " tf.math.multiply_11 (TFOpLambd  (None, 2, 2, 256)   0           ['activation_386[0][0]',         \n",
            " a)                                                               'tf.math.sigmoid_11[0][0]']     \n",
            "                                                                                                  \n",
            " tf.math.multiply_14 (TFOpLambd  (None, 2, 2, 256)   0           ['activation_388[0][0]',         \n",
            " a)                                                               'tf.math.sigmoid_14[0][0]']     \n",
            "                                                                                                  \n",
            " tf.math.multiply_17 (TFOpLambd  (None, 2, 2, 256)   0           ['activation_390[0][0]',         \n",
            " a)                                                               'tf.math.sigmoid_17[0][0]']     \n",
            "                                                                                                  \n",
            " dense_50 (Dense)               (None, 1, 1, 2048)   4196352     ['reshape_3[0][0]']              \n",
            "                                                                                                  \n",
            " tf.math.reduce_mean_12 (TFOpLa  (None, 2, 2, 1)     0           ['tf.math.multiply_11[0][0]']    \n",
            " mbda)                                                                                            \n",
            "                                                                                                  \n",
            " tf.math.reduce_max_12 (TFOpLam  (None, 2, 2, 1)     0           ['tf.math.multiply_11[0][0]']    \n",
            " bda)                                                                                             \n",
            "                                                                                                  \n",
            " tf.math.reduce_mean_15 (TFOpLa  (None, 2, 2, 1)     0           ['tf.math.multiply_14[0][0]']    \n",
            " mbda)                                                                                            \n",
            "                                                                                                  \n",
            " tf.math.reduce_max_15 (TFOpLam  (None, 2, 2, 1)     0           ['tf.math.multiply_14[0][0]']    \n",
            " bda)                                                                                             \n",
            "                                                                                                  \n",
            " tf.math.reduce_mean_18 (TFOpLa  (None, 2, 2, 1)     0           ['tf.math.multiply_17[0][0]']    \n",
            " mbda)                                                                                            \n",
            "                                                                                                  \n",
            " tf.math.reduce_max_18 (TFOpLam  (None, 2, 2, 1)     0           ['tf.math.multiply_17[0][0]']    \n",
            " bda)                                                                                             \n",
            "                                                                                                  \n",
            " multiply_3 (Multiply)          (None, 6, 6, 2048)   0           ['inception_v3[0][0]',           \n",
            "                                                                  'dense_50[0][0]']               \n",
            "                                                                                                  \n",
            " tf.concat_7 (TFOpLambda)       (None, 2, 2, 2)      0           ['tf.math.reduce_mean_12[0][0]', \n",
            "                                                                  'tf.math.reduce_max_12[0][0]']  \n",
            "                                                                                                  \n",
            " tf.concat_9 (TFOpLambda)       (None, 2, 2, 2)      0           ['tf.math.reduce_mean_15[0][0]', \n",
            "                                                                  'tf.math.reduce_max_15[0][0]']  \n",
            "                                                                                                  \n",
            " tf.concat_11 (TFOpLambda)      (None, 2, 2, 2)      0           ['tf.math.reduce_mean_18[0][0]', \n",
            "                                                                  'tf.math.reduce_max_18[0][0]']  \n",
            "                                                                                                  \n",
            " add_3 (Add)                    (None, 6, 6, 2048)   0           ['inception_v3[0][0]',           \n",
            "                                                                  'multiply_3[0][0]']             \n",
            "                                                                                                  \n",
            " conv2d_391 (Conv2D)            (None, 2, 2, 1)      18          ['tf.concat_7[0][0]']            \n",
            "                                                                                                  \n",
            " conv2d_395 (Conv2D)            (None, 2, 2, 1)      50          ['tf.concat_9[0][0]']            \n",
            "                                                                                                  \n",
            " conv2d_399 (Conv2D)            (None, 2, 2, 1)      98          ['tf.concat_11[0][0]']           \n",
            "                                                                                                  \n",
            " batch_normalization_391 (Batch  (None, 6, 6, 2048)  8192        ['add_3[0][0]']                  \n",
            " Normalization)                                                                                   \n",
            "                                                                                                  \n",
            " tf.math.sigmoid_12 (TFOpLambda  (None, 2, 2, 1)     0           ['conv2d_391[0][0]']             \n",
            " )                                                                                                \n",
            "                                                                                                  \n",
            " tf.math.sigmoid_15 (TFOpLambda  (None, 2, 2, 1)     0           ['conv2d_395[0][0]']             \n",
            " )                                                                                                \n",
            "                                                                                                  \n",
            " tf.math.sigmoid_18 (TFOpLambda  (None, 2, 2, 1)     0           ['conv2d_399[0][0]']             \n",
            " )                                                                                                \n",
            "                                                                                                  \n",
            " activation_391 (Activation)    (None, 6, 6, 2048)   0           ['batch_normalization_391[0][0]']\n",
            "                                                                                                  \n",
            " tf.math.multiply_12 (TFOpLambd  (None, 2, 2, 256)   0           ['tf.math.multiply_11[0][0]',    \n",
            " a)                                                               'tf.math.sigmoid_12[0][0]']     \n",
            "                                                                                                  \n",
            " tf.math.multiply_15 (TFOpLambd  (None, 2, 2, 256)   0           ['tf.math.multiply_14[0][0]',    \n",
            " a)                                                               'tf.math.sigmoid_15[0][0]']     \n",
            "                                                                                                  \n",
            " tf.math.multiply_18 (TFOpLambd  (None, 2, 2, 256)   0           ['tf.math.multiply_17[0][0]',    \n",
            " a)                                                               'tf.math.sigmoid_18[0][0]']     \n",
            "                                                                                                  \n",
            " block_1 (MaxPooling2D)         (None, 3, 3, 2048)   0           ['activation_391[0][0]']         \n",
            "                                                                                                  \n",
            " flatten_13 (Flatten)           (None, 1024)         0           ['tf.math.multiply_12[0][0]']    \n",
            "                                                                                                  \n",
            " flatten_12 (Flatten)           (None, 1024)         0           ['tf.math.multiply_15[0][0]']    \n",
            "                                                                                                  \n",
            " flatten_14 (Flatten)           (None, 1024)         0           ['tf.math.multiply_18[0][0]']    \n",
            "                                                                                                  \n",
            " flatten_15 (Flatten)           (None, 18432)        0           ['block_1[0][0]']                \n",
            "                                                                                                  \n",
            " concatenate_23 (Concatenate)   (None, 21504)        0           ['flatten_13[0][0]',             \n",
            "                                                                  'flatten_12[0][0]',             \n",
            "                                                                  'flatten_14[0][0]',             \n",
            "                                                                  'flatten_15[0][0]']             \n",
            "                                                                                                  \n",
            " input2 (InputLayer)            [(None, 1)]          0           []                               \n",
            "                                                                                                  \n",
            " dense_51 (Dense)               (None, 1024)         22021120    ['concatenate_23[0][0]']         \n",
            "                                                                                                  \n",
            " dense_33 (Dense)               (None, 32)           64          ['input2[0][0]']                 \n",
            "                                                                                                  \n",
            " concatenate_24 (Concatenate)   (None, 1056)         0           ['dense_51[0][0]',               \n",
            "                                                                  'dense_33[0][0]']               \n",
            "                                                                                                  \n",
            " dense_52 (Dense)               (None, 1)            1057        ['concatenate_24[0][0]']         \n",
            "                                                                                                  \n",
            "==================================================================================================\n",
            "Total params: 66,163,005\n",
            "Trainable params: 66,121,405\n",
            "Non-trainable params: 41,600\n",
            "__________________________________________________________________________________________________\n"
          ]
        },
        {
          "name": "stderr",
          "output_type": "stream",
          "text": [
            "WARNING:tensorflow:`period` argument is deprecated. Please use `save_freq` to specify the frequency in number of batches seen.\n",
            "<ipython-input-86-5446c9c4547f>:67: UserWarning: `Model.fit_generator` is deprecated and will be removed in a future version. Please use `Model.fit`, which supports generators.\n",
            "  history = model.fit_generator(DataGen.flow([train_x,train_gen],train_y,batch_size=64),steps_per_epoch=np.ceil(len(train_y)/64),epochs=100,verbose=1,validation_data=([valid_x,valid_gen],valid_y))\n"
          ]
        },
        {
          "name": "stdout",
          "output_type": "stream",
          "text": [
            "Epoch 1/100\n",
            "122/122 [==============================] - 144s 1s/step - loss: 524.2924 - MAE: 25.9928 - val_loss: 396.7438 - val_MAE: 18.3461\n",
            "Epoch 2/100\n",
            "122/122 [==============================] - 127s 1s/step - loss: 320.7056 - MAE: 16.9945 - val_loss: 258.3386 - val_MAE: 15.9925\n",
            "Epoch 3/100\n",
            "122/122 [==============================] - 129s 1s/step - loss: 217.9277 - MAE: 15.6560 - val_loss: 190.1776 - val_MAE: 21.5865\n",
            "Epoch 4/100\n",
            "122/122 [==============================] - 128s 1s/step - loss: 159.9382 - MAE: 14.8148 - val_loss: 145.3669 - val_MAE: 20.6072\n",
            "Epoch 5/100\n",
            "122/122 [==============================] - 128s 1s/step - loss: 123.5492 - MAE: 13.9472 - val_loss: 122.7341 - val_MAE: 26.7750\n",
            "Epoch 6/100\n",
            "122/122 [==============================] - 129s 1s/step - loss: 99.1407 - MAE: 13.8542 - val_loss: 88.0045 - val_MAE: 12.5081\n",
            "Epoch 7/100\n",
            "122/122 [==============================] - 129s 1s/step - loss: 80.8069 - MAE: 13.2320 - val_loss: 76.4874 - val_MAE: 16.2311\n",
            "Epoch 8/100\n",
            "122/122 [==============================] - 128s 1s/step - loss: 67.3960 - MAE: 13.1590 - val_loss: 66.1214 - val_MAE: 17.5040\n",
            "Epoch 9/100\n",
            "122/122 [==============================] - 127s 1s/step - loss: 56.6172 - MAE: 12.6492 - val_loss: 51.8982 - val_MAE: 12.2839\n",
            "Epoch 10/100\n",
            "122/122 [==============================] - 129s 1s/step - loss: 48.8447 - MAE: 12.8688 - val_loss: 51.7108 - val_MAE: 19.1307\n",
            "Epoch 11/100\n",
            "122/122 [==============================] - 131s 1s/step - loss: 42.3111 - MAE: 12.5877 - val_loss: 40.0791 - val_MAE: 13.0358\n",
            "Epoch 12/100\n",
            "122/122 [==============================] - 130s 1s/step - loss: 37.3278 - MAE: 12.5474 - val_loss: 36.1726 - val_MAE: 13.5267\n",
            "Epoch 13/100\n",
            "122/122 [==============================] - 129s 1s/step - loss: 32.7597 - MAE: 11.9263 - val_loss: 32.4610 - val_MAE: 13.3459\n",
            "Epoch 14/100\n",
            "122/122 [==============================] - 129s 1s/step - loss: 29.5426 - MAE: 11.8921 - val_loss: 30.0607 - val_MAE: 13.8053\n",
            "Epoch 15/100\n",
            "122/122 [==============================] - 129s 1s/step - loss: 26.6985 - MAE: 11.6478 - val_loss: 27.6693 - val_MAE: 13.7635\n",
            "Epoch 16/100\n",
            "122/122 [==============================] - 129s 1s/step - loss: 24.8065 - MAE: 11.9018 - val_loss: 23.4956 - val_MAE: 11.5473\n",
            "Epoch 17/100\n",
            "122/122 [==============================] - 127s 1s/step - loss: 22.2678 - MAE: 11.1598 - val_loss: 22.3578 - val_MAE: 12.0531\n",
            "Epoch 18/100\n",
            "122/122 [==============================] - 129s 1s/step - loss: 20.6384 - MAE: 11.0507 - val_loss: 20.8913 - val_MAE: 11.9914\n",
            "Epoch 19/100\n",
            "122/122 [==============================] - 127s 1s/step - loss: 19.0000 - MAE: 10.7158 - val_loss: 18.7313 - val_MAE: 11.0384\n",
            "Epoch 20/100\n",
            "122/122 [==============================] - 129s 1s/step - loss: 17.7611 - MAE: 10.5993 - val_loss: 18.0096 - val_MAE: 11.3633\n",
            "Epoch 21/100\n",
            "122/122 [==============================] - 129s 1s/step - loss: 17.1353 - MAE: 10.9497 - val_loss: 17.0922 - val_MAE: 11.3550\n",
            "Epoch 22/100\n",
            "122/122 [==============================] - 125s 1s/step - loss: 15.9208 - MAE: 10.5879 - val_loss: 19.0485 - val_MAE: 14.1088\n",
            "Epoch 23/100\n",
            "122/122 [==============================] - 128s 1s/step - loss: 15.3213 - MAE: 10.7317 - val_loss: 14.7743 - val_MAE: 10.5299\n",
            "Epoch 24/100\n",
            "122/122 [==============================] - 127s 1s/step - loss: 14.7073 - MAE: 10.7711 - val_loss: 16.3269 - val_MAE: 12.6909\n",
            "Epoch 25/100\n",
            "122/122 [==============================] - 128s 1s/step - loss: 13.3253 - MAE: 9.9577 - val_loss: 15.8177 - val_MAE: 12.7108\n",
            "Epoch 26/100\n",
            "122/122 [==============================] - 128s 1s/step - loss: 13.0512 - MAE: 10.1834 - val_loss: 13.7042 - val_MAE: 11.0656\n",
            "Epoch 27/100\n",
            "122/122 [==============================] - 129s 1s/step - loss: 12.6128 - MAE: 10.1802 - val_loss: 13.6547 - val_MAE: 11.4181\n",
            "Epoch 28/100\n",
            "122/122 [==============================] - 128s 1s/step - loss: 12.0487 - MAE: 9.9942 - val_loss: 13.3954 - val_MAE: 11.5118\n",
            "Epoch 29/100\n",
            "122/122 [==============================] - 126s 1s/step - loss: 11.5761 - MAE: 9.8468 - val_loss: 11.6342 - val_MAE: 10.0550\n",
            "Epoch 30/100\n",
            "122/122 [==============================] - 127s 1s/step - loss: 10.8288 - MAE: 9.3826 - val_loss: 11.5888 - val_MAE: 10.2713\n",
            "Epoch 31/100\n",
            "122/122 [==============================] - 128s 1s/step - loss: 10.6306 - MAE: 9.4258 - val_loss: 12.5226 - val_MAE: 11.4279\n",
            "Epoch 32/100\n",
            "122/122 [==============================] - 129s 1s/step - loss: 10.3166 - MAE: 9.3168 - val_loss: 11.3866 - val_MAE: 10.4814\n",
            "Epoch 33/100\n",
            "122/122 [==============================] - 128s 1s/step - loss: 10.0780 - MAE: 9.2546 - val_loss: 11.5612 - val_MAE: 10.8172\n",
            "Epoch 34/100\n",
            "122/122 [==============================] - 128s 1s/step - loss: 10.3702 - MAE: 9.6936 - val_loss: 14.3393 - val_MAE: 13.7279\n",
            "Epoch 35/100\n",
            "122/122 [==============================] - 127s 1s/step - loss: 9.5493 - MAE: 8.9966 - val_loss: 12.4898 - val_MAE: 11.9941\n",
            "Epoch 36/100\n",
            "122/122 [==============================] - 128s 1s/step - loss: 9.6183 - MAE: 9.1690 - val_loss: 14.2993 - val_MAE: 13.8970\n",
            "Epoch 37/100\n",
            "122/122 [==============================] - 128s 1s/step - loss: 9.4539 - MAE: 9.0912 - val_loss: 12.6963 - val_MAE: 12.3715\n",
            "Epoch 38/100\n",
            "122/122 [==============================] - 128s 1s/step - loss: 9.1796 - MAE: 8.8865 - val_loss: 11.6281 - val_MAE: 11.3673\n",
            "Epoch 39/100\n",
            "122/122 [==============================] - 128s 1s/step - loss: 9.0567 - MAE: 8.8212 - val_loss: 11.3117 - val_MAE: 11.1008\n",
            "Epoch 40/100\n",
            "122/122 [==============================] - 129s 1s/step - loss: 8.9993 - MAE: 8.8103 - val_loss: 10.0517 - val_MAE: 9.8833\n",
            "Epoch 41/100\n",
            "122/122 [==============================] - 126s 1s/step - loss: 9.1464 - MAE: 8.9949 - val_loss: 10.4212 - val_MAE: 10.2855\n",
            "Epoch 42/100\n",
            "122/122 [==============================] - 128s 1s/step - loss: 8.3874 - MAE: 8.2639 - val_loss: 10.7880 - val_MAE: 10.6785\n",
            "Epoch 43/100\n",
            "122/122 [==============================] - 128s 1s/step - loss: 8.4460 - MAE: 8.3451 - val_loss: 9.8909 - val_MAE: 9.8021\n",
            "Epoch 44/100\n",
            "122/122 [==============================] - 127s 1s/step - loss: 8.6889 - MAE: 8.6068 - val_loss: 10.1156 - val_MAE: 10.0398\n",
            "Epoch 45/100\n",
            "122/122 [==============================] - 128s 1s/step - loss: 8.2088 - MAE: 8.1392 - val_loss: 9.9553 - val_MAE: 9.8928\n",
            "Epoch 46/100\n",
            "122/122 [==============================] - 126s 1s/step - loss: 8.3332 - MAE: 8.2745 - val_loss: 9.9276 - val_MAE: 9.8720\n",
            "Epoch 47/100\n",
            "122/122 [==============================] - 136s 1s/step - loss: 8.1767 - MAE: 8.1247 - val_loss: 9.5413 - val_MAE: 9.4939\n",
            "Epoch 48/100\n",
            "122/122 [==============================] - 128s 1s/step - loss: 7.9386 - MAE: 7.8932 - val_loss: 9.2102 - val_MAE: 9.1667\n",
            "Epoch 49/100\n",
            "122/122 [==============================] - 127s 1s/step - loss: 8.2258 - MAE: 8.1838 - val_loss: 10.3154 - val_MAE: 10.2740\n",
            "Epoch 50/100\n",
            "122/122 [==============================] - 129s 1s/step - loss: 7.9018 - MAE: 7.8631 - val_loss: 10.9784 - val_MAE: 10.9416\n",
            "Epoch 51/100\n",
            "122/122 [==============================] - 129s 1s/step - loss: 8.0338 - MAE: 7.9953 - val_loss: 9.8915 - val_MAE: 9.8536\n",
            "Epoch 52/100\n",
            "122/122 [==============================] - 130s 1s/step - loss: 7.9068 - MAE: 7.8705 - val_loss: 9.4876 - val_MAE: 9.4511\n",
            "Epoch 53/100\n",
            "122/122 [==============================] - 128s 1s/step - loss: 7.7179 - MAE: 7.6827 - val_loss: 11.0839 - val_MAE: 11.0468\n",
            "Epoch 54/100\n",
            "122/122 [==============================] - 129s 1s/step - loss: 7.8482 - MAE: 7.8124 - val_loss: 11.7995 - val_MAE: 11.7620\n",
            "Epoch 55/100\n",
            "122/122 [==============================] - 128s 1s/step - loss: 7.4636 - MAE: 7.4291 - val_loss: 10.1511 - val_MAE: 10.1163\n",
            "Epoch 56/100\n",
            "122/122 [==============================] - 126s 1s/step - loss: 7.3591 - MAE: 7.3251 - val_loss: 9.7248 - val_MAE: 9.6919\n",
            "Epoch 57/100\n",
            "122/122 [==============================] - 126s 1s/step - loss: 7.3075 - MAE: 7.2741 - val_loss: 9.4980 - val_MAE: 9.4669\n",
            "Epoch 58/100\n",
            "122/122 [==============================] - 128s 1s/step - loss: 7.3225 - MAE: 7.2898 - val_loss: 10.2169 - val_MAE: 10.1842\n",
            "Epoch 59/100\n",
            "122/122 [==============================] - 127s 1s/step - loss: 7.3501 - MAE: 7.3170 - val_loss: 9.6792 - val_MAE: 9.6465\n",
            "Epoch 60/100\n",
            "122/122 [==============================] - 124s 1s/step - loss: 7.4307 - MAE: 7.3984 - val_loss: 10.5767 - val_MAE: 10.5432\n",
            "Epoch 61/100\n",
            "122/122 [==============================] - 127s 1s/step - loss: 7.3226 - MAE: 7.2895 - val_loss: 10.9945 - val_MAE: 10.9607\n",
            "Epoch 62/100\n",
            "122/122 [==============================] - 127s 1s/step - loss: 7.0087 - MAE: 6.9783 - val_loss: 9.4248 - val_MAE: 9.3942\n",
            "Epoch 63/100\n",
            "122/122 [==============================] - 127s 1s/step - loss: 6.9483 - MAE: 6.9171 - val_loss: 9.2555 - val_MAE: 9.2250\n",
            "Epoch 64/100\n",
            "122/122 [==============================] - 127s 1s/step - loss: 7.0942 - MAE: 7.0632 - val_loss: 9.7637 - val_MAE: 9.7316\n",
            "Epoch 65/100\n",
            "122/122 [==============================] - 127s 1s/step - loss: 6.9376 - MAE: 6.9060 - val_loss: 9.5975 - val_MAE: 9.5658\n",
            "Epoch 66/100\n",
            "122/122 [==============================] - 129s 1s/step - loss: 7.0377 - MAE: 7.0072 - val_loss: 9.5479 - val_MAE: 9.5159\n",
            "Epoch 67/100\n",
            "122/122 [==============================] - 128s 1s/step - loss: 6.7309 - MAE: 6.7008 - val_loss: 8.9067 - val_MAE: 8.8779\n",
            "Epoch 68/100\n",
            "122/122 [==============================] - 126s 1s/step - loss: 6.8355 - MAE: 6.8046 - val_loss: 9.4136 - val_MAE: 9.3824\n",
            "Epoch 69/100\n",
            "122/122 [==============================] - 128s 1s/step - loss: 6.7423 - MAE: 6.7115 - val_loss: 9.5150 - val_MAE: 9.4844\n",
            "Epoch 70/100\n",
            "122/122 [==============================] - 129s 1s/step - loss: 6.9704 - MAE: 6.9400 - val_loss: 9.8354 - val_MAE: 9.8037\n",
            "Epoch 71/100\n",
            "122/122 [==============================] - 128s 1s/step - loss: 6.7273 - MAE: 6.6968 - val_loss: 10.0401 - val_MAE: 10.0103\n",
            "Epoch 72/100\n",
            "122/122 [==============================] - 127s 1s/step - loss: 6.5365 - MAE: 6.5069 - val_loss: 9.6332 - val_MAE: 9.6038\n",
            "Epoch 73/100\n",
            "122/122 [==============================] - 129s 1s/step - loss: 6.6392 - MAE: 6.6098 - val_loss: 8.9947 - val_MAE: 8.9659\n",
            "Epoch 74/100\n",
            "122/122 [==============================] - 127s 1s/step - loss: 6.4690 - MAE: 6.4400 - val_loss: 9.4750 - val_MAE: 9.4450\n",
            "Epoch 75/100\n",
            "122/122 [==============================] - 127s 1s/step - loss: 6.4504 - MAE: 6.4204 - val_loss: 9.0973 - val_MAE: 9.0654\n",
            "Epoch 76/100\n",
            "122/122 [==============================] - 129s 1s/step - loss: 6.4131 - MAE: 6.3846 - val_loss: 8.9348 - val_MAE: 8.9063\n",
            "Epoch 77/100\n",
            "122/122 [==============================] - 125s 1s/step - loss: 6.4108 - MAE: 6.3816 - val_loss: 9.3411 - val_MAE: 9.3097\n",
            "Epoch 78/100\n",
            "122/122 [==============================] - 126s 1s/step - loss: 6.4841 - MAE: 6.4544 - val_loss: 10.2057 - val_MAE: 10.1770\n",
            "Epoch 79/100\n",
            "122/122 [==============================] - 129s 1s/step - loss: 6.2736 - MAE: 6.2442 - val_loss: 9.3499 - val_MAE: 9.3219\n",
            "Epoch 80/100\n",
            "122/122 [==============================] - 128s 1s/step - loss: 5.9871 - MAE: 5.9588 - val_loss: 8.8663 - val_MAE: 8.8393\n",
            "Epoch 81/100\n",
            "122/122 [==============================] - 128s 1s/step - loss: 6.2169 - MAE: 6.1881 - val_loss: 9.8536 - val_MAE: 9.8250\n",
            "Epoch 82/100\n",
            "122/122 [==============================] - 128s 1s/step - loss: 6.1833 - MAE: 6.1555 - val_loss: 9.1001 - val_MAE: 9.0735\n",
            "Epoch 83/100\n",
            "122/122 [==============================] - 127s 1s/step - loss: 6.1979 - MAE: 6.1698 - val_loss: 9.4446 - val_MAE: 9.4151\n",
            "Epoch 84/100\n",
            "122/122 [==============================] - 127s 1s/step - loss: 5.8756 - MAE: 5.8481 - val_loss: 10.1821 - val_MAE: 10.1553\n",
            "Epoch 85/100\n",
            "122/122 [==============================] - 128s 1s/step - loss: 6.0256 - MAE: 5.9977 - val_loss: 9.6694 - val_MAE: 9.6403\n",
            "Epoch 86/100\n",
            "122/122 [==============================] - 128s 1s/step - loss: 5.8041 - MAE: 5.7768 - val_loss: 9.1653 - val_MAE: 9.1369\n",
            "Epoch 87/100\n",
            "122/122 [==============================] - 128s 1s/step - loss: 6.1646 - MAE: 6.1366 - val_loss: 9.6727 - val_MAE: 9.6451\n",
            "Epoch 88/100\n",
            "122/122 [==============================] - 128s 1s/step - loss: 5.7744 - MAE: 5.7466 - val_loss: 9.0152 - val_MAE: 8.9890\n",
            "Epoch 89/100\n",
            "122/122 [==============================] - 128s 1s/step - loss: 5.9155 - MAE: 5.8874 - val_loss: 8.7976 - val_MAE: 8.7710\n",
            "Epoch 90/100\n",
            "122/122 [==============================] - 129s 1s/step - loss: 5.5874 - MAE: 5.5605 - val_loss: 8.9270 - val_MAE: 8.9008\n",
            "Epoch 91/100\n",
            "122/122 [==============================] - 128s 1s/step - loss: 5.6446 - MAE: 5.6164 - val_loss: 9.5549 - val_MAE: 9.5260\n",
            "Epoch 92/100\n",
            "122/122 [==============================] - 129s 1s/step - loss: 5.6073 - MAE: 5.5801 - val_loss: 8.7993 - val_MAE: 8.7716\n",
            "Epoch 93/100\n",
            "122/122 [==============================] - 128s 1s/step - loss: 5.6758 - MAE: 5.6489 - val_loss: 8.9009 - val_MAE: 8.8746\n",
            "Epoch 94/100\n",
            "122/122 [==============================] - 129s 1s/step - loss: 5.6096 - MAE: 5.5827 - val_loss: 9.1012 - val_MAE: 9.0767\n",
            "Epoch 95/100\n",
            "122/122 [==============================] - 127s 1s/step - loss: 5.6063 - MAE: 5.5802 - val_loss: 11.1554 - val_MAE: 11.1287\n",
            "Epoch 96/100\n",
            "122/122 [==============================] - 129s 1s/step - loss: 5.8821 - MAE: 5.8543 - val_loss: 8.6018 - val_MAE: 8.5742\n",
            "Epoch 97/100\n",
            "122/122 [==============================] - 128s 1s/step - loss: 5.3379 - MAE: 5.3106 - val_loss: 8.6465 - val_MAE: 8.6219\n",
            "Epoch 98/100\n",
            "122/122 [==============================] - 127s 1s/step - loss: 5.3601 - MAE: 5.3334 - val_loss: 9.6834 - val_MAE: 9.6583\n",
            "Epoch 99/100\n",
            "122/122 [==============================] - 129s 1s/step - loss: 5.3085 - MAE: 5.2833 - val_loss: 9.0020 - val_MAE: 8.9768\n",
            "Epoch 100/100\n",
            "122/122 [==============================] - 128s 1s/step - loss: 5.3665 - MAE: 5.3410 - val_loss: 8.6156 - val_MAE: 8.5879\n",
            "46/46 [==============================] - 12s 259ms/step - loss: 8.5877 - MAE: 8.5600\n"
          ]
        }
      ],
      "source": [
        "base_model = InceptionV3(weights='imagenet', include_top=False)\n",
        "\n",
        "#camb then se and concatenate feature\n",
        "#===========================inception==================================#\n",
        "input = Input(shape=(256,256,3),name='input1')\n",
        "input_gender = Input(shape=(1,),dtype='float32',name='input2')\n",
        "output = base_model(input)\n",
        "gender_embedding=Dense(32)(input_gender)\n",
        "#gender_embedding=Dense(12)(gender_embedding)\n",
        "#x = keras.layers.MaxPooling2D(pool_size=(5,5))(output)\n",
        "#x = keras.layers.Conv2D(512,kernel_size=(3,3))(x)\n",
        "x=channel_attention(output)\n",
        "x1=spatial_attention1(x)\n",
        "x1 = conv2d_bn(x1, 256, 3, 3, padding='valid') \n",
        "x1 = conv2d_bn(x1, 256, 3, 3, padding='valid') \n",
        "x1=channel_attention(x1)\n",
        "x1=spatial_attention1(x1)\n",
        " \n",
        "\n",
        "x2=spatial_attention2(x)\n",
        "x2 = conv2d_bn(x2, 256, 3, 3, padding='valid') \n",
        "x2 = conv2d_bn(x2, 256, 3, 3, padding='valid') \n",
        "x2=channel_attention(x2)\n",
        "x2=spatial_attention2(x2)\n",
        "\n",
        "\n",
        "x3=spatial_attention1(x)\n",
        "x3 = conv2d_bn(x3, 256, 3, 3, padding='valid') \n",
        "x3 = conv2d_bn(x3, 256, 3, 3, padding='valid') \n",
        "x3=channel_attention(x3)\n",
        "x3=spatial_attention3(x3)\n",
        "\n",
        "sq = keras.layers.GlobalAveragePooling2D()(output)\n",
        "sq = keras.layers.Reshape((1,1,2048))(sq)\n",
        "sq = keras.layers.Dense(units=2048, kernel_regularizer=regularizers.L2(0.1),activation=\"sigmoid\")(sq)\n",
        "block = keras.layers.multiply([output,sq])\n",
        "#fine Squeeze and Excitation 1\n",
        "\n",
        "net = keras.layers.add([output,block])\n",
        "net = keras.layers.BatchNormalization()(net)\n",
        "net = keras.layers.Activation(\"relu\")(net)\n",
        "net = keras.layers.MaxPooling2D(pool_size=(2, 2),name=\"block_1\")(net)\n",
        "\n",
        "print (K.int_shape(x))\n",
        "x2=Flatten()(x2)\n",
        "x1=Flatten()(x1)\n",
        "x3=Flatten()(x3)\n",
        "y=Flatten()(net)\n",
        "z= keras.layers.Concatenate(axis=1)([x1,x2,x3,y])\n",
        "z=Dense(1024,activation='relu')(z)\n",
        "\n",
        "f = keras.layers.Concatenate(axis=1)([z,gender_embedding])\n",
        "print (K.int_shape(f)) \n",
        "#x = Dense(256, activation='relu')(x)\n",
        "predictions = Dense(1)(f)\n",
        "model = Model(inputs=[input,input_gender], outputs=predictions)\n",
        "Adam=tf.keras.optimizers.Adam(lr=0.0001,beta_1=0.9,beta_2=0.999)\n",
        "model.compile(optimizer=Adam, loss='mean_absolute_error', metrics=['MAE'],run_eagerly=True)\n",
        "model.summary()\n",
        "\n",
        "\n",
        "\n",
        "from keras.preprocessing.image import ImageDataGenerator\n",
        "DataGen = ImageDataGenerator(rotation_range=20,width_shift_range=0.15,height_shift_range=0.15,zoom_range=0.2,horizontal_flip=True)\n",
        "\n",
        "checkpoint =keras.callbacks.ModelCheckpoint(filepath='weights/weights.{epoch:02d}-{val_loss:.2f}.hdf5',save_weights_only=True,period=100)\n",
        "history = model.fit_generator(DataGen.flow([train_x,train_gen],train_y,batch_size=64),steps_per_epoch=np.ceil(len(train_y)/64),epochs=100,verbose=1,validation_data=([valid_x,valid_gen],valid_y))\n",
        "#history = model.fit_generator(Generator(x_train,gender_train,y_train,batch_size),steps_per_epoch=np.ceil(len(y_train)/batch_size),epochs=10,verbose=1,validation_data=([x_valid,gender_valid],y_valid))\n",
        "#history=model.fit([x_train,gender_train],y_train,batch_size=32,epochs=5,verbose=1,validation_data=([x_valid,gender_valid],y_valid), callbacks = [checkpoint])\n",
        "score = model.evaluate([test_x,test_gen], test_y, batch_size=64)\n"
      ]
    },
    {
      "cell_type": "code",
      "execution_count": null,
      "metadata": {
        "colab": {
          "base_uri": "https://localhost:8080/",
          "height": 295
        },
        "id": "I-j8nIgxUe9i",
        "outputId": "406f73f3-57ff-423d-96e9-42760eedac08"
      },
      "outputs": [
        {
          "data": {
            "image/png": "[encoded data removed]",
            "text/plain": [
              "<Figure size 432x288 with 1 Axes>"
            ]
          },
          "metadata": {},
          "output_type": "display_data"
        }
      ],
      "source": [
        "plt.plot(history.history['loss'])\n",
        "plt.plot(history.history['val_loss'])\n",
        "plt.title('Model loss')\n",
        "plt.ylabel('Loss')\n",
        "plt.xlabel('Epoch')\n",
        "plt.legend(['Train', 'Validation'], loc='upper right')\n",
        "plt.show()"
      ]
    },
    {
      "cell_type": "code",
      "execution_count": null,
      "metadata": {
        "colab": {
          "base_uri": "https://localhost:8080/"
        },
        "id": "tpDI3WGTZOPe",
        "outputId": "90c64a34-4275-46b0-82fb-c08c92c869d8"
      },
      "outputs": [
        {
          "name": "stdout",
          "output_type": "stream",
          "text": [
            "(None, 2, 2, 256)\n",
            "(None, 1056)\n",
            "Model: \"model_8\"\n",
            "__________________________________________________________________________________________________\n",
            " Layer (type)                   Output Shape         Param #     Connected to                     \n",
            "==================================================================================================\n",
            " input1 (InputLayer)            [(None, 256, 256, 3  0           []                               \n",
            "                                )]                                                                \n",
            "                                                                                                  \n",
            " inception_v3 (Functional)      (None, None, None,   21802784    ['input1[0][0]']                 \n",
            "                                2048)                                                             \n",
            "                                                                                                  \n",
            " tf.math.reduce_mean_23 (TFOpLa  (None, 1, 1, 2048)  0           ['inception_v3[0][0]']           \n",
            " mbda)                                                                                            \n",
            "                                                                                                  \n",
            " dense_65 (Dense)               (None, 1, 1, 256)    524544      ['tf.math.reduce_mean_23[0][0]'] \n",
            "                                                                                                  \n",
            " tf.math.reduce_max_23 (TFOpLam  (None, 1, 1, 2048)  0           ['inception_v3[0][0]']           \n",
            " bda)                                                                                             \n",
            "                                                                                                  \n",
            " dropout_9 (Dropout)            (None, 1, 1, 256)    0           ['dense_65[0][0]']               \n",
            "                                                                                                  \n",
            " dense_67 (Dense)               (None, 1, 1, 256)    524544      ['tf.math.reduce_max_23[0][0]']  \n",
            "                                                                                                  \n",
            " dense_66 (Dense)               (None, 1, 1, 2048)   526336      ['dropout_9[0][0]']              \n",
            "                                                                                                  \n",
            " dense_68 (Dense)               (None, 1, 1, 2048)   526336      ['dense_67[0][0]']               \n",
            "                                                                                                  \n",
            " tf.__operators__.add_9 (TFOpLa  (None, 1, 1, 2048)  0           ['dense_66[0][0]',               \n",
            " mbda)                                                            'dense_68[0][0]']               \n",
            "                                                                                                  \n",
            " tf.math.sigmoid_23 (TFOpLambda  (None, 1, 1, 2048)  0           ['tf.__operators__.add_9[0][0]'] \n",
            " )                                                                                                \n",
            "                                                                                                  \n",
            " tf.math.multiply_23 (TFOpLambd  (None, 6, 6, 2048)  0           ['inception_v3[0][0]',           \n",
            " a)                                                               'tf.math.sigmoid_23[0][0]']     \n",
            "                                                                                                  \n",
            " tf.math.reduce_mean_24 (TFOpLa  (None, 6, 6, 1)     0           ['tf.math.multiply_23[0][0]']    \n",
            " mbda)                                                                                            \n",
            "                                                                                                  \n",
            " tf.math.reduce_max_24 (TFOpLam  (None, 6, 6, 1)     0           ['tf.math.multiply_23[0][0]']    \n",
            " bda)                                                                                             \n",
            "                                                                                                  \n",
            " tf.concat_14 (TFOpLambda)      (None, 6, 6, 2)      0           ['tf.math.reduce_mean_24[0][0]', \n",
            "                                                                  'tf.math.reduce_max_24[0][0]']  \n",
            "                                                                                                  \n",
            " conv2d_593 (Conv2D)            (None, 6, 6, 1)      18          ['tf.concat_14[0][0]']           \n",
            "                                                                                                  \n",
            " tf.math.sigmoid_24 (TFOpLambda  (None, 6, 6, 1)     0           ['conv2d_593[0][0]']             \n",
            " )                                                                                                \n",
            "                                                                                                  \n",
            " tf.math.multiply_24 (TFOpLambd  (None, 6, 6, 2048)  0           ['tf.math.multiply_23[0][0]',    \n",
            " a)                                                               'tf.math.sigmoid_24[0][0]']     \n",
            "                                                                                                  \n",
            " conv2d_594 (Conv2D)            (None, 4, 4, 256)    4718848     ['tf.math.multiply_24[0][0]']    \n",
            "                                                                                                  \n",
            " batch_normalization_584 (Batch  (None, 4, 4, 256)   768         ['conv2d_594[0][0]']             \n",
            " Normalization)                                                                                   \n",
            "                                                                                                  \n",
            " activation_584 (Activation)    (None, 4, 4, 256)    0           ['batch_normalization_584[0][0]']\n",
            "                                                                                                  \n",
            " conv2d_595 (Conv2D)            (None, 2, 2, 256)    590080      ['activation_584[0][0]']         \n",
            "                                                                                                  \n",
            " batch_normalization_585 (Batch  (None, 2, 2, 256)   768         ['conv2d_595[0][0]']             \n",
            " Normalization)                                                                                   \n",
            "                                                                                                  \n",
            " activation_585 (Activation)    (None, 2, 2, 256)    0           ['batch_normalization_585[0][0]']\n",
            "                                                                                                  \n",
            " tf.math.reduce_mean_25 (TFOpLa  (None, 1, 1, 256)   0           ['activation_585[0][0]']         \n",
            " mbda)                                                                                            \n",
            "                                                                                                  \n",
            " dense_69 (Dense)               (None, 1, 1, 32)     8224        ['tf.math.reduce_mean_25[0][0]'] \n",
            "                                                                                                  \n",
            " tf.math.reduce_max_25 (TFOpLam  (None, 1, 1, 256)   0           ['activation_585[0][0]']         \n",
            " bda)                                                                                             \n",
            "                                                                                                  \n",
            " dropout_10 (Dropout)           (None, 1, 1, 32)     0           ['dense_69[0][0]']               \n",
            "                                                                                                  \n",
            " dense_71 (Dense)               (None, 1, 1, 32)     8224        ['tf.math.reduce_max_25[0][0]']  \n",
            "                                                                                                  \n",
            " dense_70 (Dense)               (None, 1, 1, 256)    8448        ['dropout_10[0][0]']             \n",
            "                                                                                                  \n",
            " dense_72 (Dense)               (None, 1, 1, 256)    8448        ['dense_71[0][0]']               \n",
            "                                                                                                  \n",
            " tf.__operators__.add_10 (TFOpL  (None, 1, 1, 256)   0           ['dense_70[0][0]',               \n",
            " ambda)                                                           'dense_72[0][0]']               \n",
            "                                                                                                  \n",
            " tf.math.sigmoid_25 (TFOpLambda  (None, 1, 1, 256)   0           ['tf.__operators__.add_10[0][0]']\n",
            " )                                                                                                \n",
            "                                                                                                  \n",
            " tf.math.multiply_25 (TFOpLambd  (None, 2, 2, 256)   0           ['activation_585[0][0]',         \n",
            " a)                                                               'tf.math.sigmoid_25[0][0]']     \n",
            "                                                                                                  \n",
            " tf.math.reduce_mean_26 (TFOpLa  (None, 2, 2, 1)     0           ['tf.math.multiply_25[0][0]']    \n",
            " mbda)                                                                                            \n",
            "                                                                                                  \n",
            " tf.math.reduce_max_26 (TFOpLam  (None, 2, 2, 1)     0           ['tf.math.multiply_25[0][0]']    \n",
            " bda)                                                                                             \n",
            "                                                                                                  \n",
            " tf.concat_15 (TFOpLambda)      (None, 2, 2, 2)      0           ['tf.math.reduce_mean_26[0][0]', \n",
            "                                                                  'tf.math.reduce_max_26[0][0]']  \n",
            "                                                                                                  \n",
            " conv2d_596 (Conv2D)            (None, 2, 2, 1)      18          ['tf.concat_15[0][0]']           \n",
            "                                                                                                  \n",
            " tf.math.sigmoid_26 (TFOpLambda  (None, 2, 2, 1)     0           ['conv2d_596[0][0]']             \n",
            " )                                                                                                \n",
            "                                                                                                  \n",
            " tf.math.multiply_26 (TFOpLambd  (None, 2, 2, 256)   0           ['tf.math.multiply_25[0][0]',    \n",
            " a)                                                               'tf.math.sigmoid_26[0][0]']     \n",
            "                                                                                                  \n",
            " conv2d_597 (Conv2D)            (None, 2, 2, 256)    65792       ['tf.math.multiply_26[0][0]']    \n",
            "                                                                                                  \n",
            " batch_normalization_586 (Batch  (None, 2, 2, 256)   768         ['conv2d_597[0][0]']             \n",
            " Normalization)                                                                                   \n",
            "                                                                                                  \n",
            " activation_586 (Activation)    (None, 2, 2, 256)    0           ['batch_normalization_586[0][0]']\n",
            "                                                                                                  \n",
            " input2 (InputLayer)            [(None, 1)]          0           []                               \n",
            "                                                                                                  \n",
            " flatten_17 (Flatten)           (None, 1024)         0           ['activation_586[0][0]']         \n",
            "                                                                                                  \n",
            " dense_64 (Dense)               (None, 32)           64          ['input2[0][0]']                 \n",
            "                                                                                                  \n",
            " concatenate_30 (Concatenate)   (None, 1056)         0           ['flatten_17[0][0]',             \n",
            "                                                                  'dense_64[0][0]']               \n",
            "                                                                                                  \n",
            " dense_74 (Dense)               (None, 1)            1057        ['concatenate_30[0][0]']         \n",
            "                                                                                                  \n",
            "==================================================================================================\n",
            "Total params: 29,316,069\n",
            "Trainable params: 29,280,101\n",
            "Non-trainable params: 35,968\n",
            "__________________________________________________________________________________________________\n"
          ]
        },
        {
          "name": "stderr",
          "output_type": "stream",
          "text": [
            "WARNING:tensorflow:`period` argument is deprecated. Please use `save_freq` to specify the frequency in number of batches seen.\n",
            "<ipython-input-90-45e926b563fa>:58: UserWarning: `Model.fit_generator` is deprecated and will be removed in a future version. Please use `Model.fit`, which supports generators.\n",
            "  history = model.fit_generator(DataGen.flow([train_x,train_gen],train_y,batch_size=32),steps_per_epoch=np.ceil(len(train_y)/32),epochs=100,verbose=1,validation_data=([valid_x,valid_gen],valid_y))\n"
          ]
        },
        {
          "name": "stdout",
          "output_type": "stream",
          "text": [
            "Epoch 1/100\n",
            "244/244 [==============================] - 127s 517ms/step - loss: 348.9123 - MAE: 103.4244 - val_loss: 259.5505 - val_MAE: 99.1510\n",
            "Epoch 2/100\n",
            "244/244 [==============================] - 123s 504ms/step - loss: 204.4537 - MAE: 89.2865 - val_loss: 153.8907 - val_MAE: 73.0529\n",
            "Epoch 3/100\n",
            "244/244 [==============================] - 123s 502ms/step - loss: 136.6596 - MAE: 76.0754 - val_loss: 105.5450 - val_MAE: 61.1427\n",
            "Epoch 4/100\n",
            "244/244 [==============================] - 123s 502ms/step - loss: 96.4756 - MAE: 62.4376 - val_loss: 70.4351 - val_MAE: 44.8969\n",
            "Epoch 5/100\n",
            "244/244 [==============================] - 123s 501ms/step - loss: 68.6322 - MAE: 48.7332 - val_loss: 38.5300 - val_MAE: 23.3018\n",
            "Epoch 6/100\n",
            "244/244 [==============================] - 123s 503ms/step - loss: 47.6591 - MAE: 35.5565 - val_loss: 24.7630 - val_MAE: 15.2600\n",
            "Epoch 7/100\n",
            "244/244 [==============================] - 123s 501ms/step - loss: 31.8302 - MAE: 24.0895 - val_loss: 20.3024 - val_MAE: 14.0428\n",
            "Epoch 8/100\n",
            "244/244 [==============================] - 123s 504ms/step - loss: 21.7195 - MAE: 16.4918 - val_loss: 19.0550 - val_MAE: 14.7114\n",
            "Epoch 9/100\n",
            "244/244 [==============================] - 122s 500ms/step - loss: 16.8898 - MAE: 13.1928 - val_loss: 14.9507 - val_MAE: 11.8175\n",
            "Epoch 10/100\n",
            "244/244 [==============================] - 123s 503ms/step - loss: 14.8793 - MAE: 12.1825 - val_loss: 12.8417 - val_MAE: 10.5345\n",
            "Epoch 11/100\n",
            "244/244 [==============================] - 122s 499ms/step - loss: 13.7692 - MAE: 11.7760 - val_loss: 14.4725 - val_MAE: 12.7651\n",
            "Epoch 12/100\n",
            "244/244 [==============================] - 122s 501ms/step - loss: 13.3272 - MAE: 11.8540 - val_loss: 18.3224 - val_MAE: 17.0622\n",
            "Epoch 13/100\n",
            "244/244 [==============================] - 122s 498ms/step - loss: 12.6379 - MAE: 11.5567 - val_loss: 11.6795 - val_MAE: 10.7627\n",
            "Epoch 14/100\n",
            "244/244 [==============================] - 123s 503ms/step - loss: 11.8048 - MAE: 11.0216 - val_loss: 12.4726 - val_MAE: 11.8125\n",
            "Epoch 15/100\n",
            "244/244 [==============================] - 122s 500ms/step - loss: 11.6007 - MAE: 11.0413 - val_loss: 10.7922 - val_MAE: 10.3250\n",
            "Epoch 16/100\n",
            "244/244 [==============================] - 123s 503ms/step - loss: 11.1533 - MAE: 10.7611 - val_loss: 10.3660 - val_MAE: 10.0415\n",
            "Epoch 17/100\n",
            "244/244 [==============================] - 122s 498ms/step - loss: 10.6925 - MAE: 10.4209 - val_loss: 11.3486 - val_MAE: 11.1254\n",
            "Epoch 18/100\n",
            "244/244 [==============================] - 123s 501ms/step - loss: 10.4773 - MAE: 10.2895 - val_loss: 10.5137 - val_MAE: 10.3595\n",
            "Epoch 19/100\n",
            "244/244 [==============================] - 122s 500ms/step - loss: 10.3680 - MAE: 10.2405 - val_loss: 9.7637 - val_MAE: 9.6596\n",
            "Epoch 20/100\n",
            "244/244 [==============================] - 123s 502ms/step - loss: 10.1066 - MAE: 10.0205 - val_loss: 9.8945 - val_MAE: 9.8235\n",
            "Epoch 21/100\n",
            "244/244 [==============================] - 122s 499ms/step - loss: 9.6787 - MAE: 9.6178 - val_loss: 11.1805 - val_MAE: 11.1300\n",
            "Epoch 22/100\n",
            "244/244 [==============================] - 123s 502ms/step - loss: 9.6124 - MAE: 9.5680 - val_loss: 9.4091 - val_MAE: 9.3713\n",
            "Epoch 23/100\n",
            "244/244 [==============================] - 122s 498ms/step - loss: 9.1601 - MAE: 9.1263 - val_loss: 9.8776 - val_MAE: 9.8471\n",
            "Epoch 24/100\n",
            "244/244 [==============================] - 124s 505ms/step - loss: 9.1065 - MAE: 9.0784 - val_loss: 9.8289 - val_MAE: 9.8030\n",
            "Epoch 25/100\n",
            "244/244 [==============================] - 122s 499ms/step - loss: 9.0955 - MAE: 9.0709 - val_loss: 9.3257 - val_MAE: 9.3022\n",
            "Epoch 26/100\n",
            "244/244 [==============================] - 123s 503ms/step - loss: 8.6047 - MAE: 8.5820 - val_loss: 8.9961 - val_MAE: 8.9740\n",
            "Epoch 27/100\n",
            "244/244 [==============================] - 122s 498ms/step - loss: 8.6271 - MAE: 8.6052 - val_loss: 10.2951 - val_MAE: 10.2735\n",
            "Epoch 28/100\n",
            "244/244 [==============================] - 123s 501ms/step - loss: 8.5535 - MAE: 8.5324 - val_loss: 9.1031 - val_MAE: 9.0822\n",
            "Epoch 29/100\n",
            "244/244 [==============================] - 123s 502ms/step - loss: 8.3791 - MAE: 8.3578 - val_loss: 8.9845 - val_MAE: 8.9643\n",
            "Epoch 30/100\n",
            "244/244 [==============================] - 123s 502ms/step - loss: 8.4765 - MAE: 8.4565 - val_loss: 9.4552 - val_MAE: 9.4353\n",
            "Epoch 31/100\n",
            "244/244 [==============================] - 124s 507ms/step - loss: 8.1342 - MAE: 8.1146 - val_loss: 10.0178 - val_MAE: 9.9984\n",
            "Epoch 32/100\n",
            "244/244 [==============================] - 125s 510ms/step - loss: 8.1867 - MAE: 8.1674 - val_loss: 8.7983 - val_MAE: 8.7791\n",
            "Epoch 33/100\n",
            " 99/244 [===========>..................] - ETA: 1:06 - loss: 8.2165 - MAE: 8.1973"
          ]
        }
      ],
      "source": [
        "##maisha Fam\n",
        "base_model = InceptionV3(weights='imagenet', include_top=False)\n",
        "\n",
        "#cbam- 1x1conv- flat---good lr\n",
        "\n",
        "input = Input(shape=(256,256,3),name='input1')\n",
        "input_gender = Input(shape=(1,),dtype='float32',name='input2')\n",
        "output = base_model(input)\n",
        "gender_embedding=Dense(32)(input_gender)\n",
        "#gender_embedding=Dense(12)(gender_embedding)\n",
        "#x = keras.layers.MaxPooling2D(pool_size=(5,5))(output)\n",
        "#x = keras.layers.Conv2D(512,kernel_size=(3,3))(x)\n",
        "x=channel_attention(output)\n",
        "x=spatial_attention1(x)\n",
        "x = conv2d_bn(x, 256, 3, 3, padding='valid') \n",
        "x = conv2d_bn(x, 256, 3, 3, padding='valid') \n",
        "x=channel_attention(x)\n",
        "x=spatial_attention1(x)\n",
        "x = conv2d_bn(x, 256, 1,1, padding='valid')\n",
        "sq = keras.layers.GlobalAveragePooling2D()(x)\n",
        "sq = keras.layers.Reshape((1,1,256))(sq)\n",
        "sq = keras.layers.Dense(units=256, kernel_regularizer=regularizers.L2(0.1),activation=\"sigmoid\")(sq)\n",
        "block = keras.layers.multiply([x,sq])\n",
        "#fine Squeeze and Excitation 1\n",
        "\n",
        "net = keras.layers.add([x,block])\n",
        "net = keras.layers.BatchNormalization()(net)\n",
        "net = keras.layers.Activation(\"relu\")(net)\n",
        "net = keras.layers.MaxPooling2D(pool_size=(2, 2),name=\"block_1\")(net)\n",
        "print (K.int_shape(x))\n",
        "x=Flatten()(x)\n",
        "f = keras.layers.Concatenate(axis=1)([x,gender_embedding])\n",
        "print (K.int_shape(f)) \n",
        "#x = Dense(256, activation='relu')(x)\n",
        "predictions = Dense(1)(f)\n",
        "model = Model(inputs=[input,input_gender], outputs=predictions)\n",
        "Adam=tf.keras.optimizers.Adam(lr=0.0001,beta_1=0.9,beta_2=0.999)\n",
        "model.compile(optimizer=Adam, loss='mean_absolute_error', metrics=['MAE'],run_eagerly=True)\n",
        "model.summary()\n",
        "from keras.preprocessing.image import ImageDataGenerator\n",
        "DataGen = ImageDataGenerator(rotation_range=20,width_shift_range=0.15,height_shift_range=0.15,zoom_range=0.2,horizontal_flip=True)\n",
        "def Generator(x_train,gender_train,y_train,batch_size):\n",
        "    loopcount = len(y_train)//batch_size\n",
        "    i=0\n",
        "    while (True):\n",
        "        if i>loopcount:\n",
        "            i=0\n",
        "        # i=np.random.randint(0,loopcount)\n",
        "        x_train_batch = x_train[i*batch_size:(i+1)*batch_size,:,:,:]\n",
        "        x_train_batch = DataAugment(x_train_batch)\n",
        "        gender_train_batch = gender_train[i*batch_size:(i+1)*batch_size]\n",
        "        y_train_batch = y_train[i*batch_size:(i+1)*batch_size]\n",
        "        inputs = [x_train_batch,gender_train_batch]\n",
        "        target = y_train_batch\n",
        "        yield (inputs ,target)\n",
        "        i = i+1\n",
        "checkpoint =keras.callbacks.ModelCheckpoint(filepath='weights/weights.{epoch:02d}-{val_loss:.2f}.hdf5',save_weights_only=True,period=100)\n",
        "history = model.fit_generator(DataGen.flow([train_x,train_gen],train_y,batch_size=32),steps_per_epoch=np.ceil(len(train_y)/32),epochs=100,verbose=1,validation_data=([valid_x,valid_gen],valid_y))\n",
        "#history = model.fit_generator(Generator(x_train,gender_train,y_train,batch_size),steps_per_epoch=np.ceil(len(y_train)/batch_size),epochs=10,verbose=1,validation_data=([x_valid,gender_valid],y_valid))\n",
        "#history=model.fit([x_train,gender_train],y_train,batch_size=32,epochs=5,verbose=1,validation_data=([x_valid,gender_valid],y_valid), callbacks = [checkpoint])\n",
        "score = model.evaluate([test_x,test_gen], test_y, batch_size=32)"
      ]
    },
    {
      "cell_type": "code",
      "execution_count": null,
      "metadata": {
        "colab": {
          "base_uri": "https://localhost:8080/",
          "height": 397
        },
        "id": "xl-NhvyDUe9j",
        "outputId": "9c3a7126-05e4-4617-abe4-23592d37e6f4"
      },
      "outputs": [
        {
          "ename": "ValueError",
          "evalue": "ignored",
          "output_type": "error",
          "traceback": [
            "\u001b[0;31m---------------------------------------------------------------------------\u001b[0m",
            "\u001b[0;31mValueError\u001b[0m                                Traceback (most recent call last)",
            "\u001b[0;32m<ipython-input-88-fc4544ea931e>\u001b[0m in \u001b[0;36m<module>\u001b[0;34m\u001b[0m\n\u001b[1;32m     19\u001b[0m \u001b[0mtests_y\u001b[0m\u001b[0;34m=\u001b[0m\u001b[0mtest_y\u001b[0m\u001b[0;34m[\u001b[0m\u001b[0;36m1000\u001b[0m\u001b[0;34m:\u001b[0m\u001b[0;36m1500\u001b[0m\u001b[0;34m]\u001b[0m\u001b[0;34m\u001b[0m\u001b[0;34m\u001b[0m\u001b[0m\n\u001b[1;32m     20\u001b[0m \u001b[0mtests_gen\u001b[0m\u001b[0;34m=\u001b[0m\u001b[0mtest_gen\u001b[0m\u001b[0;34m[\u001b[0m\u001b[0;36m1000\u001b[0m\u001b[0;34m:\u001b[0m\u001b[0;36m1500\u001b[0m\u001b[0;34m]\u001b[0m\u001b[0;34m\u001b[0m\u001b[0;34m\u001b[0m\u001b[0m\n\u001b[0;32m---> 21\u001b[0;31m \u001b[0mval\u001b[0m\u001b[0;34m,\u001b[0m\u001b[0mpred\u001b[0m\u001b[0;34m=\u001b[0m\u001b[0mTestMAE\u001b[0m\u001b[0;34m(\u001b[0m\u001b[0mmodel\u001b[0m\u001b[0;34m,\u001b[0m\u001b[0mtests_x\u001b[0m\u001b[0;34m,\u001b[0m\u001b[0mtests_y\u001b[0m\u001b[0;34m,\u001b[0m\u001b[0mtests_gen\u001b[0m\u001b[0;34m)\u001b[0m\u001b[0;34m\u001b[0m\u001b[0;34m\u001b[0m\u001b[0m\n\u001b[0m\u001b[1;32m     22\u001b[0m \u001b[0mprint\u001b[0m\u001b[0;34m(\u001b[0m\u001b[0mval\u001b[0m\u001b[0;34m)\u001b[0m\u001b[0;34m\u001b[0m\u001b[0;34m\u001b[0m\u001b[0m\n\u001b[1;32m     23\u001b[0m \u001b[0;34m\u001b[0m\u001b[0m\n",
            "\u001b[0;32m<ipython-input-88-fc4544ea931e>\u001b[0m in \u001b[0;36mTestMAE\u001b[0;34m(model, test_data, test_label, test_gender)\u001b[0m\n\u001b[1;32m      4\u001b[0m     \u001b[0mtest_gender\u001b[0m \u001b[0;34m=\u001b[0m \u001b[0mnp\u001b[0m\u001b[0;34m.\u001b[0m\u001b[0marray\u001b[0m\u001b[0;34m(\u001b[0m\u001b[0mtest_gender\u001b[0m\u001b[0;34m)\u001b[0m\u001b[0;34m\u001b[0m\u001b[0;34m\u001b[0m\u001b[0m\n\u001b[1;32m      5\u001b[0m     \u001b[0mtest_gender\u001b[0m \u001b[0;34m=\u001b[0m \u001b[0mnp\u001b[0m\u001b[0;34m.\u001b[0m\u001b[0mexpand_dims\u001b[0m\u001b[0;34m(\u001b[0m\u001b[0mtest_gender\u001b[0m\u001b[0;34m,\u001b[0m\u001b[0maxis\u001b[0m\u001b[0;34m=\u001b[0m\u001b[0;36m1\u001b[0m\u001b[0;34m)\u001b[0m\u001b[0;34m\u001b[0m\u001b[0;34m\u001b[0m\u001b[0m\n\u001b[0;32m----> 6\u001b[0;31m     \u001b[0mlayer\u001b[0m\u001b[0;34m=\u001b[0m\u001b[0mK\u001b[0m\u001b[0;34m.\u001b[0m\u001b[0mfunction\u001b[0m\u001b[0;34m(\u001b[0m\u001b[0;34m[\u001b[0m\u001b[0mmodel\u001b[0m\u001b[0;34m.\u001b[0m\u001b[0mlayers\u001b[0m\u001b[0;34m[\u001b[0m\u001b[0;36m0\u001b[0m\u001b[0;34m]\u001b[0m\u001b[0;34m.\u001b[0m\u001b[0minput\u001b[0m\u001b[0;34m,\u001b[0m\u001b[0mmodel\u001b[0m\u001b[0;34m.\u001b[0m\u001b[0mlayers\u001b[0m\u001b[0;34m[\u001b[0m\u001b[0;36m37\u001b[0m\u001b[0;34m]\u001b[0m\u001b[0;34m.\u001b[0m\u001b[0minput\u001b[0m\u001b[0;34m]\u001b[0m\u001b[0;34m,\u001b[0m\u001b[0;34m[\u001b[0m\u001b[0mmodel\u001b[0m\u001b[0;34m.\u001b[0m\u001b[0mlayers\u001b[0m\u001b[0;34m[\u001b[0m\u001b[0;34m-\u001b[0m\u001b[0;36m1\u001b[0m\u001b[0;34m]\u001b[0m\u001b[0;34m.\u001b[0m\u001b[0moutput\u001b[0m\u001b[0;34m]\u001b[0m\u001b[0;34m)\u001b[0m\u001b[0;34m\u001b[0m\u001b[0;34m\u001b[0m\u001b[0m\n\u001b[0m\u001b[1;32m      7\u001b[0m     \u001b[0mpredictions\u001b[0m\u001b[0;34m=\u001b[0m\u001b[0mlayer\u001b[0m\u001b[0;34m(\u001b[0m\u001b[0;34m[\u001b[0m\u001b[0mtest_data\u001b[0m\u001b[0;34m,\u001b[0m\u001b[0mtest_gender\u001b[0m\u001b[0;34m]\u001b[0m\u001b[0;34m)\u001b[0m\u001b[0;34m\u001b[0m\u001b[0;34m\u001b[0m\u001b[0m\n\u001b[1;32m      8\u001b[0m     \u001b[0;31m#print(predictions)\u001b[0m\u001b[0;34m\u001b[0m\u001b[0;34m\u001b[0m\u001b[0;34m\u001b[0m\u001b[0m\n",
            "\u001b[0;32m/usr/local/lib/python3.8/dist-packages/keras/backend.py\u001b[0m in \u001b[0;36mfunction\u001b[0;34m(inputs, outputs, updates, name, **kwargs)\u001b[0m\n\u001b[1;32m   4325\u001b[0m     \u001b[0;32mfrom\u001b[0m \u001b[0mkeras\u001b[0m \u001b[0;32mimport\u001b[0m \u001b[0mmodels\u001b[0m  \u001b[0;31m# pylint: disable=g-import-not-at-top\u001b[0m\u001b[0;34m\u001b[0m\u001b[0;34m\u001b[0m\u001b[0m\n\u001b[1;32m   4326\u001b[0m     \u001b[0;32mfrom\u001b[0m \u001b[0mkeras\u001b[0m\u001b[0;34m.\u001b[0m\u001b[0mutils\u001b[0m \u001b[0;32mimport\u001b[0m \u001b[0mtf_utils\u001b[0m  \u001b[0;31m# pylint: disable=g-import-not-at-top\u001b[0m\u001b[0;34m\u001b[0m\u001b[0;34m\u001b[0m\u001b[0m\n\u001b[0;32m-> 4327\u001b[0;31m     \u001b[0mmodel\u001b[0m \u001b[0;34m=\u001b[0m \u001b[0mmodels\u001b[0m\u001b[0;34m.\u001b[0m\u001b[0mModel\u001b[0m\u001b[0;34m(\u001b[0m\u001b[0minputs\u001b[0m\u001b[0;34m=\u001b[0m\u001b[0minputs\u001b[0m\u001b[0;34m,\u001b[0m \u001b[0moutputs\u001b[0m\u001b[0;34m=\u001b[0m\u001b[0moutputs\u001b[0m\u001b[0;34m)\u001b[0m\u001b[0;34m\u001b[0m\u001b[0;34m\u001b[0m\u001b[0m\n\u001b[0m\u001b[1;32m   4328\u001b[0m \u001b[0;34m\u001b[0m\u001b[0m\n\u001b[1;32m   4329\u001b[0m     \u001b[0mwrap_outputs\u001b[0m \u001b[0;34m=\u001b[0m \u001b[0misinstance\u001b[0m\u001b[0;34m(\u001b[0m\u001b[0moutputs\u001b[0m\u001b[0;34m,\u001b[0m \u001b[0mlist\u001b[0m\u001b[0;34m)\u001b[0m \u001b[0;32mand\u001b[0m \u001b[0mlen\u001b[0m\u001b[0;34m(\u001b[0m\u001b[0moutputs\u001b[0m\u001b[0;34m)\u001b[0m \u001b[0;34m==\u001b[0m \u001b[0;36m1\u001b[0m\u001b[0;34m\u001b[0m\u001b[0;34m\u001b[0m\u001b[0m\n",
            "\u001b[0;32m/usr/local/lib/python3.8/dist-packages/tensorflow/python/training/tracking/base.py\u001b[0m in \u001b[0;36m_method_wrapper\u001b[0;34m(self, *args, **kwargs)\u001b[0m\n\u001b[1;32m    585\u001b[0m     \u001b[0mself\u001b[0m\u001b[0;34m.\u001b[0m\u001b[0m_self_setattr_tracking\u001b[0m \u001b[0;34m=\u001b[0m \u001b[0;32mFalse\u001b[0m  \u001b[0;31m# pylint: disable=protected-access\u001b[0m\u001b[0;34m\u001b[0m\u001b[0;34m\u001b[0m\u001b[0m\n\u001b[1;32m    586\u001b[0m     \u001b[0;32mtry\u001b[0m\u001b[0;34m:\u001b[0m\u001b[0;34m\u001b[0m\u001b[0;34m\u001b[0m\u001b[0m\n\u001b[0;32m--> 587\u001b[0;31m       \u001b[0mresult\u001b[0m \u001b[0;34m=\u001b[0m \u001b[0mmethod\u001b[0m\u001b[0;34m(\u001b[0m\u001b[0mself\u001b[0m\u001b[0;34m,\u001b[0m \u001b[0;34m*\u001b[0m\u001b[0margs\u001b[0m\u001b[0;34m,\u001b[0m \u001b[0;34m**\u001b[0m\u001b[0mkwargs\u001b[0m\u001b[0;34m)\u001b[0m\u001b[0;34m\u001b[0m\u001b[0;34m\u001b[0m\u001b[0m\n\u001b[0m\u001b[1;32m    588\u001b[0m     \u001b[0;32mfinally\u001b[0m\u001b[0;34m:\u001b[0m\u001b[0;34m\u001b[0m\u001b[0;34m\u001b[0m\u001b[0m\n\u001b[1;32m    589\u001b[0m       \u001b[0mself\u001b[0m\u001b[0;34m.\u001b[0m\u001b[0m_self_setattr_tracking\u001b[0m \u001b[0;34m=\u001b[0m \u001b[0mprevious_value\u001b[0m  \u001b[0;31m# pylint: disable=protected-access\u001b[0m\u001b[0;34m\u001b[0m\u001b[0;34m\u001b[0m\u001b[0m\n",
            "\u001b[0;32m/usr/local/lib/python3.8/dist-packages/keras/engine/functional.py\u001b[0m in \u001b[0;36m__init__\u001b[0;34m(self, inputs, outputs, name, trainable, **kwargs)\u001b[0m\n\u001b[1;32m    145\u001b[0m       if not all([functional_utils.is_input_keras_tensor(t)\n\u001b[1;32m    146\u001b[0m                   for t in tf.nest.flatten(inputs)]):\n\u001b[0;32m--> 147\u001b[0;31m         \u001b[0minputs\u001b[0m\u001b[0;34m,\u001b[0m \u001b[0moutputs\u001b[0m \u001b[0;34m=\u001b[0m \u001b[0mfunctional_utils\u001b[0m\u001b[0;34m.\u001b[0m\u001b[0mclone_graph_nodes\u001b[0m\u001b[0;34m(\u001b[0m\u001b[0minputs\u001b[0m\u001b[0;34m,\u001b[0m \u001b[0moutputs\u001b[0m\u001b[0;34m)\u001b[0m\u001b[0;34m\u001b[0m\u001b[0;34m\u001b[0m\u001b[0m\n\u001b[0m\u001b[1;32m    148\u001b[0m     \u001b[0mself\u001b[0m\u001b[0;34m.\u001b[0m\u001b[0m_init_graph_network\u001b[0m\u001b[0;34m(\u001b[0m\u001b[0minputs\u001b[0m\u001b[0;34m,\u001b[0m \u001b[0moutputs\u001b[0m\u001b[0;34m)\u001b[0m\u001b[0;34m\u001b[0m\u001b[0;34m\u001b[0m\u001b[0m\n\u001b[1;32m    149\u001b[0m \u001b[0;34m\u001b[0m\u001b[0m\n",
            "\u001b[0;32m/usr/local/lib/python3.8/dist-packages/keras/engine/functional_utils.py\u001b[0m in \u001b[0;36mclone_graph_nodes\u001b[0;34m(inputs, outputs)\u001b[0m\n\u001b[1;32m    144\u001b[0m     \u001b[0mcreate\u001b[0m \u001b[0ma\u001b[0m \u001b[0mnew\u001b[0m \u001b[0mfunctional\u001b[0m \u001b[0mmodel\u001b[0m\u001b[0;34m.\u001b[0m\u001b[0;34m\u001b[0m\u001b[0;34m\u001b[0m\u001b[0m\n\u001b[1;32m    145\u001b[0m   \"\"\"\n\u001b[0;32m--> 146\u001b[0;31m   \u001b[0mnodes_to_clone\u001b[0m \u001b[0;34m=\u001b[0m \u001b[0mfind_nodes_by_inputs_and_outputs\u001b[0m\u001b[0;34m(\u001b[0m\u001b[0minputs\u001b[0m\u001b[0;34m,\u001b[0m \u001b[0moutputs\u001b[0m\u001b[0;34m)\u001b[0m\u001b[0;34m\u001b[0m\u001b[0;34m\u001b[0m\u001b[0m\n\u001b[0m\u001b[1;32m    147\u001b[0m   \u001b[0mcloned_inputs\u001b[0m \u001b[0;34m=\u001b[0m \u001b[0;34m[\u001b[0m\u001b[0;34m]\u001b[0m\u001b[0;34m\u001b[0m\u001b[0;34m\u001b[0m\u001b[0m\n\u001b[1;32m    148\u001b[0m   \u001b[0mcloned_outputs\u001b[0m \u001b[0;34m=\u001b[0m \u001b[0;34m[\u001b[0m\u001b[0;34m]\u001b[0m\u001b[0;34m\u001b[0m\u001b[0;34m\u001b[0m\u001b[0m\n",
            "\u001b[0;32m/usr/local/lib/python3.8/dist-packages/keras/engine/functional_utils.py\u001b[0m in \u001b[0;36mfind_nodes_by_inputs_and_outputs\u001b[0;34m(inputs, outputs)\u001b[0m\n\u001b[1;32m    111\u001b[0m       \u001b[0;31m# input in the user-specified inputs.\u001b[0m\u001b[0;34m\u001b[0m\u001b[0;34m\u001b[0m\u001b[0;34m\u001b[0m\u001b[0m\n\u001b[1;32m    112\u001b[0m       \u001b[0;32mif\u001b[0m \u001b[0minbound_node\u001b[0m\u001b[0;34m.\u001b[0m\u001b[0mis_input\u001b[0m\u001b[0;34m:\u001b[0m\u001b[0;34m\u001b[0m\u001b[0;34m\u001b[0m\u001b[0m\n\u001b[0;32m--> 113\u001b[0;31m         raise ValueError('Found input tensor cannot be reached given provided '\n\u001b[0m\u001b[1;32m    114\u001b[0m                          \u001b[0;34m'output tensors. Please make sure the tensor {} is '\u001b[0m\u001b[0;34m\u001b[0m\u001b[0;34m\u001b[0m\u001b[0m\n\u001b[1;32m    115\u001b[0m                          \u001b[0;34m'included in the model inputs when building '\u001b[0m\u001b[0;34m\u001b[0m\u001b[0;34m\u001b[0m\u001b[0m\n",
            "\u001b[0;31mValueError\u001b[0m: Found input tensor cannot be reached given provided output tensors. Please make sure the tensor KerasTensor(type_spec=TensorSpec(shape=(None, 1), dtype=tf.float32, name='input2'), name='input2', description=\"created by layer 'input2'\") is included in the model inputs when building functional model."
          ]
        }
      ],
      "source": [
        "df_cols = ['age', 'preag' , 'gen','act','abs']\n",
        "new_df = pd.DataFrame(columns=df_cols)\n",
        "def TestMAE(model,test_data,test_label,test_gender):\n",
        "    test_gender = np.array(test_gender)\n",
        "    test_gender = np.expand_dims(test_gender,axis=1)\n",
        "    layer=K.function([model.layers[0].input,model.layers[37].input],[model.layers[-1].output])\n",
        "    predictions=layer([test_data,test_gender])\n",
        "    #print(predictions)\n",
        "    predictions = np.array(predictions)\n",
        "    #print(predictions)\n",
        "    predictions = np.squeeze(predictions,axis=0)\n",
        "    print (predictions.shape)\n",
        "    x=(predictions-test_label)\n",
        "    y=(np.abs(predictions-test_label))\n",
        "    TestMAE = np.mean(np.abs(predictions-test_label))\n",
        "    return TestMAE,predictions\n",
        "\n",
        "tests_x=test_x[1000:1500]\n",
        "tests_y=test_y[1000:1500]\n",
        "tests_gen=test_gen[1000:1500]\n",
        "val,pred=TestMAE(model,tests_x,tests_y,tests_gen)\n",
        "print(val)\n",
        "\n",
        "for i in range(500):\n",
        "  new_row = {'age': tests_y[i], 'preag':pred[i][0], 'gen':tests_gen[i], 'act': tests_y[i]-pred[i][0], 'abs': np.abs( tests_y[i]-pred[i][0])}\n",
        "  new_df= new_df.append(new_row, ignore_index=True)"
      ]
    },
    {
      "cell_type": "code",
      "execution_count": null,
      "metadata": {
        "id": "T4rGDYirUe9k"
      },
      "outputs": [],
      "source": [
        "from scipy import stats\n",
        "\n",
        "def res_plots(df):\n",
        "  res = df['act']\n",
        "  plt.figure(figsize=(15,6))\n",
        "  #df['preag'] = df['preag'].astype('int')\n",
        "  # Residual plot\n",
        "  plt.subplot(1, 2, 1)\n",
        "  plt.scatter(df['preag'], res)\n",
        "  plt.axhline(0, color='r')\n",
        "  plt.title('Residual plot')\n",
        "  plt.xlabel('Predictions')\n",
        "  plt.ylabel('Residuals')\n",
        "\n",
        "  # Normal Q-Q plot\n",
        "  plt.subplot(1, 2, 2)\n",
        "  stats.probplot(res, dist='norm', plot=plt)\n",
        "  plt.title('Normal Q-Q plot')\n",
        "  plt.show()\n",
        "\n",
        "res_plots(new_df)"
      ]
    },
    {
      "cell_type": "code",
      "execution_count": null,
      "metadata": {
        "id": "gv3QG4E6Ue9k"
      },
      "outputs": [],
      "source": [
        "\n",
        "from keras.metrics import mean_absolute_error\n",
        "import pandas as pd\n",
        "import numpy as np\n",
        "import os\n",
        "import matplotlib.pyplot as plt\n",
        "import seaborn as sns\n",
        "\n",
        "def plot_preds(df, model_name):\n",
        "  plt.figure(figsize=(6,6))\n",
        "  sns.scatterplot(x='age', y='preag', data=df)\n",
        "  sns.lineplot(x='age', y='age', data=df, color='red')\n",
        "  # plt.title(model_name)\n",
        "  plt.xlabel('Actual bone age (months)', fontsize=14)\n",
        "  plt.ylabel('Predicted bone age (months)', fontsize=14)\n",
        "  plt.show()\n",
        "\n",
        "plot_preds(new_df, 'Different Scale CBAM with SE')"
      ]
    },
    {
      "cell_type": "code",
      "execution_count": null,
      "metadata": {
        "id": "OIzBxFvOUe9l"
      },
      "outputs": [],
      "source": [
        "def plot_preds_gender(df, model_name):\n",
        "  plt.figure(figsize=(6,6))\n",
        "  sns.scatterplot(x='age', y='preag', data=df, hue='gen', alpha=0.8)\n",
        "  sns.lineplot(x='age', y='age', data=df, color='red')\n",
        "  # plt.title(model_name)\n",
        "  plt.xlabel('Actual bone age (months)', fontsize=14)\n",
        "  plt.ylabel('Predicted bone age (months)', fontsize=14)\n",
        "  plt.show()\n",
        "plot_preds_gender(new_df, 'Different Scale CBAM with SE' )"
      ]
    },
    {
      "cell_type": "markdown",
      "metadata": {
        "id": "kUMW35tVJvJd"
      },
      "source": [
        "================================================================8_02_23================================================================"
      ]
    },
    {
      "cell_type": "code",
      "execution_count": null,
      "metadata": {
        "id": "C-ryhOzi7IGW"
      },
      "outputs": [],
      "source": [
        "base_model = InceptionV3(weights='imagenet', include_top=False)\n",
        "\n",
        "#camb then se and concatenate feature\n",
        "\n",
        "input = Input(shape=(256,256,3),name='input1')\n",
        "input_gender = Input(shape=(1,),dtype='float32',name='input2')\n",
        "output = base_model(input)\n",
        "gender_embedding=Dense(32)(input_gender)\n",
        "#gender_embedding=Dense(12)(gender_embedding)\n",
        "#x = keras.layers.MaxPooling2D(pool_size=(5,5))(output)\n",
        "#x = keras.layers.Conv2D(512,kernel_size=(3,3))(x)\n",
        "x=channel_attention(output)\n",
        "x1=spatial_attention1(x)\n",
        "x = conv2d_bn(x1, 256, 3, 3, padding='valid') \n",
        "x = conv2d_bn(x, 256, 3, 3, padding='valid') \n",
        "x=channel_attention(x)\n",
        "x=spatial_attention2(x)\n",
        " \n",
        "sq = keras.layers.GlobalAveragePooling2D()(x)\n",
        "sq = keras.layers.Reshape((1,1,256))(sq)\n",
        "sq = keras.layers.Dense(units=256, kernel_regularizer=regularizers.L2(0.1),activation=\"sigmoid\")(sq)\n",
        "block = keras.layers.multiply([x,sq])\n",
        "#fine Squeeze and Excitation 1\n",
        "\n",
        "net = keras.layers.add([x,block])\n",
        "net = keras.layers.BatchNormalization()(net)\n",
        "net = keras.layers.Activation(\"relu\")(net)\n",
        "net = keras.layers.MaxPooling2D(pool_size=(2, 2),name=\"block_1\")(net)\n",
        "print (K.int_shape(x))\n",
        "x=Flatten()(net)\n",
        "x1=Flatten()(x1)\n",
        "x= keras.layers.Concatenate(axis=1)([x,x1])\n",
        "x=Dense(1024,activation='relu')(x)\n",
        "f = keras.layers.Concatenate(axis=1)([x,gender_embedding])\n",
        "print (K.int_shape(f)) \n",
        "#x = Dense(256, activation='relu')(x)\n",
        "predictions = Dense(1)(f)\n",
        "model = Model(inputs=[input,input_gender], outputs=predictions)\n",
        "Adam=tf.keras.optimizers.Adam(lr=0.0001,beta_1=0.9,beta_2=0.999)\n",
        "model.compile(optimizer=Adam, loss='mean_absolute_error', metrics=['MAE'],run_eagerly=True)\n",
        "model.summary()\n",
        "from keras.preprocessing.image import ImageDataGenerator\n",
        "DataGen = ImageDataGenerator(rotation_range=20,width_shift_range=0.15,height_shift_range=0.15,zoom_range=0.2,horizontal_flip=True)\n",
        "def Generator(x_train,gender_train,y_train,batch_size):\n",
        "    loopcount = len(y_train)//batch_size\n",
        "    i=0\n",
        "    while (True):\n",
        "        if i>loopcount:\n",
        "            i=0\n",
        "        # i=np.random.randint(0,loopcount)\n",
        "        x_train_batch = x_train[i*batch_size:(i+1)*batch_size,:,:,:]\n",
        "        x_train_batch = DataAugment(x_train_batch)\n",
        "        gender_train_batch = gender_train[i*batch_size:(i+1)*batch_size]\n",
        "        y_train_batch = y_train[i*batch_size:(i+1)*batch_size]\n",
        "        inputs = [x_train_batch,gender_train_batch]\n",
        "        target = y_train_batch\n",
        "        yield (inputs ,target)\n",
        "        i = i+1\n",
        "checkpoint =keras.callbacks.ModelCheckpoint(filepath='weights/weights.{epoch:02d}-{val_loss:.2f}.hdf5',save_weights_only=True,period=100)\n",
        "history = model.fit_generator(DataGen.flow([train_x,train_gen],train_y,batch_size=16),steps_per_epoch=np.ceil(len(train_y)/16),epochs=100,verbose=1,validation_data=([valid_x,valid_gen],valid_y))\n",
        "#history = model.fit_generator(Generator(x_train,gender_train,y_train,batch_size),steps_per_epoch=np.ceil(len(y_train)/batch_size),epochs=10,verbose=1,validation_data=([x_valid,gender_valid],y_valid))\n",
        "#history=model.fit([x_train,gender_train],y_train,batch_size=32,epochs=5,verbose=1,validation_data=([x_valid,gender_valid],y_valid), callbacks = [checkpoint])\n",
        "score = model.evaluate([test_x,test_gen], test_y, batch_size=16)"
      ]
    },
    {
      "cell_type": "code",
      "execution_count": null,
      "metadata": {
        "id": "7Egs-ZPS7IQW"
      },
      "outputs": [],
      "source": []
    }
  ],
  "metadata": {
    "accelerator": "GPU",
    "colab": {
      "machine_shape": "hm",
      "provenance": [],
      "authorship_tag": "ABX9TyOZQU93jO2gmyUwUdSiilVB",
      "include_colab_link": true
    },
    "gpuClass": "standard",
    "kernelspec": {
      "display_name": "Python 3",
      "name": "python3"
    },
    "language_info": {
      "name": "python"
    }
  },
  "nbformat": 4,
  "nbformat_minor": 0
}