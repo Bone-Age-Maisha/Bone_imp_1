{
  "nbformat": 4,
  "nbformat_minor": 0,
  "metadata": {
    "colab": {
      "provenance": [],
      "machine_shape": "hm",
      "authorship_tag": "ABX9TyP5QgPaqtbSD12c0jU8Bhyi",
      "include_colab_link": true
    },
    "kernelspec": {
      "name": "python3",
      "display_name": "Python 3"
    },
    "language_info": {
      "name": "python"
    },
    "accelerator": "GPU",
    "gpuClass": "standard"
  },
  "cells": [
    {
      "cell_type": "markdown",
      "metadata": {
        "id": "view-in-github",
        "colab_type": "text"
      },
      "source": [
        "<a href=\"https://colab.research.google.com/github/Bone-Age-Maisha/Bone_imp_1/blob/main/segmented_atlas011.ipynb\" target=\"_parent\"><img src=\"https://colab.research.google.com/assets/colab-badge.svg\" alt=\"Open In Colab\"/></a>"
      ]
    },
    {
      "cell_type": "code",
      "execution_count": null,
      "metadata": {
        "colab": {
          "base_uri": "https://localhost:8080/"
        },
        "id": "kyiuaBkJxoIf",
        "outputId": "1ebcc1b1-ce66-4665-e3d4-c157c08eadbe"
      },
      "outputs": [
        {
          "output_type": "stream",
          "name": "stdout",
          "text": [
            "\n",
            "WARNING: apt does not have a stable CLI interface. Use with caution in scripts.\n",
            "\n",
            "debconf: unable to initialize frontend: Dialog\n",
            "debconf: (No usable dialog-like program is installed, so the dialog based frontend cannot be used. at /usr/share/perl5/Debconf/FrontEnd/Dialog.pm line 76, <> line 1.)\n",
            "debconf: falling back to frontend: Readline\n",
            "debconf: unable to initialize frontend: Readline\n",
            "debconf: (This frontend requires a controlling tty.)\n",
            "debconf: falling back to frontend: Teletype\n",
            "dpkg-preconfigure: unable to re-open stdin: \n",
            "/usr/bin/xdg-open: 851: /usr/bin/xdg-open: www-browser: not found\n",
            "/usr/bin/xdg-open: 851: /usr/bin/xdg-open: links2: not found\n",
            "/usr/bin/xdg-open: 851: /usr/bin/xdg-open: elinks: not found\n",
            "/usr/bin/xdg-open: 851: /usr/bin/xdg-open: links: not found\n",
            "/usr/bin/xdg-open: 851: /usr/bin/xdg-open: lynx: not found\n",
            "/usr/bin/xdg-open: 851: /usr/bin/xdg-open: w3m: not found\n",
            "xdg-open: no method available for opening 'https://accounts.google.com/o/oauth2/auth?client_id=564921029129.apps.googleusercontent.com&redirect_uri=https%3A%2F%2Fgd-ocaml-auth.appspot.com%2Foauth2callback&scope=https%3A%2F%2Fwww.googleapis.com%2Fauth%2Fdrive&response_type=code&access_type=offline&approval_prompt=force&state=s%2F4E6YqPWXA1FW7%2F09Me4Jf%2F9%2FVs2qBsABffXKwGXOI'\n",
            "/bin/sh: 1: firefox: not found\n",
            "/bin/sh: 1: google-chrome: not found\n",
            "/bin/sh: 1: chromium-browser: not found\n",
            "/bin/sh: 1: open: not found\n",
            "Cannot retrieve auth tokens.\n",
            "Failure(\"Error opening URL:https://accounts.google.com/o/oauth2/auth?client_id=564921029129.apps.googleusercontent.com&redirect_uri=https%3A%2F%2Fgd-ocaml-auth.appspot.com%2Foauth2callback&scope=https%3A%2F%2Fwww.googleapis.com%2Fauth%2Fdrive&response_type=code&access_type=offline&approval_prompt=force&state=s%2F4E6YqPWXA1FW7%2F09Me4Jf%2F9%2FVs2qBsABffXKwGXOI\")\n"
          ]
        }
      ],
      "source": [
        "!sudo add-apt-repository -y ppa:alessandro-strada/ppa 2>&1 > /dev/null\n",
        "!sudo apt-get update -qq 2>&1 > /dev/null\n",
        "!sudo apt -y install -qq google-drive-ocamlfuse 2>&1 > /dev/null\n",
        "!google-drive-ocamlfuse \n"
      ]
    },
    {
      "cell_type": "code",
      "source": [
        "!sudo apt-get install -qq w3m # to act as web browser \n",
        "!xdg-settings set default-web-browser w3m.desktop # to set default browser\n",
        "%cd /content\n",
        "!mkdir drive\n",
        "%cd drive\n",
        "!mkdir MyDrive\n",
        "%cd ..\n",
        "%cd ..\n",
        "!google-drive-ocamlfuse /content/drive/MyDrive"
      ],
      "metadata": {
        "colab": {
          "base_uri": "https://localhost:8080/"
        },
        "id": "0Igq__4-xx3v",
        "outputId": "8e8ee065-b5d6-43c4-9674-93bcd36530db"
      },
      "execution_count": null,
      "outputs": [
        {
          "output_type": "stream",
          "name": "stdout",
          "text": [
            "debconf: unable to initialize frontend: Dialog\n",
            "debconf: (No usable dialog-like program is installed, so the dialog based frontend cannot be used. at /usr/share/perl5/Debconf/FrontEnd/Dialog.pm line 76, <> line 1.)\n",
            "debconf: falling back to frontend: Readline\n",
            "debconf: unable to initialize frontend: Readline\n",
            "debconf: (This frontend requires a controlling tty.)\n",
            "debconf: falling back to frontend: Teletype\n",
            "dpkg-preconfigure: unable to re-open stdin: \n",
            "Selecting previously unselected package w3m.\n",
            "(Reading database ... \r(Reading database ... 5%\r(Reading database ... 10%\r(Reading database ... 15%\r(Reading database ... 20%\r(Reading database ... 25%\r(Reading database ... 30%\r(Reading database ... 35%\r(Reading database ... 40%\r(Reading database ... 45%\r(Reading database ... 50%\r(Reading database ... 55%\r(Reading database ... 60%\r(Reading database ... 65%\r(Reading database ... 70%\r(Reading database ... 75%\r(Reading database ... 80%\r(Reading database ... 85%\r(Reading database ... 90%\r(Reading database ... 95%\r(Reading database ... 100%\r(Reading database ... 124021 files and directories currently installed.)\n",
            "Preparing to unpack .../w3m_0.5.3-36build1_amd64.deb ...\n",
            "Unpacking w3m (0.5.3-36build1) ...\n",
            "Setting up w3m (0.5.3-36build1) ...\n",
            "Processing triggers for mime-support (3.60ubuntu1) ...\n",
            "Processing triggers for man-db (2.8.3-2ubuntu0.1) ...\n",
            "/content\n",
            "/content/drive\n",
            "/content\n",
            "/\n",
            "Access token retrieved correctly.\n"
          ]
        }
      ]
    },
    {
      "cell_type": "code",
      "execution_count": null,
      "metadata": {
        "id": "PxxRCRmoEXGv"
      },
      "outputs": [],
      "source": [
        "import numpy as np\n",
        "import cv2\n",
        "import os\n",
        "import pandas as pd\n"
      ]
    },
    {
      "cell_type": "code",
      "execution_count": null,
      "metadata": {
        "id": "-InGAyx9JYmj"
      },
      "outputs": [],
      "source": [
        "import pandas as pd\n",
        "train_dir = '/content/drive/MyDrive/HAND_SEG_ATLAS'\n",
        "df = pd.read_csv('/content/drive/MyDrive/hand_atlas/data.csv')"
      ]
    },
    {
      "cell_type": "code",
      "execution_count": null,
      "metadata": {
        "id": "pwpxM2gtI9HK"
      },
      "outputs": [],
      "source": [
        "df.drop(df[(df['id'] == 7144)].index, inplace=True)"
      ]
    },
    {
      "cell_type": "code",
      "execution_count": null,
      "metadata": {
        "id": "F0wC42Er279Q"
      },
      "outputs": [],
      "source": [
        "import os\n",
        "age_df = df \n",
        "age_df['path'] = age_df['id'].map(lambda x: os.path.join(train_dir, \n",
        "                                                         '{}.jpg'.format(x)))\n",
        "#age_df['exists'] = age_df['path'].map(os.path.exists)"
      ]
    },
    {
      "cell_type": "code",
      "execution_count": null,
      "metadata": {
        "id": "IiJgKNhOemjz"
      },
      "outputs": [],
      "source": [
        "age1=age_df"
      ]
    },
    {
      "cell_type": "code",
      "execution_count": null,
      "metadata": {
        "colab": {
          "base_uri": "https://localhost:8080/"
        },
        "id": "IByBweEq1KOG",
        "outputId": "cba7dff1-0e57-4a69-b05d-9e4526b2991b"
      },
      "outputs": [
        {
          "output_type": "execute_result",
          "data": {
            "text/plain": [
              "(1048,)"
            ]
          },
          "metadata": {},
          "execution_count": 5
        }
      ],
      "source": [
        "ag=age1.boneage.unique()\n",
        "ag.shape"
      ]
    },
    {
      "cell_type": "code",
      "execution_count": null,
      "metadata": {
        "id": "yLL4AuOJep07"
      },
      "outputs": [],
      "source": [
        "age1.drop(df[(age1['gender'] == 0)].index, inplace=True)"
      ]
    },
    {
      "cell_type": "code",
      "execution_count": null,
      "metadata": {
        "colab": {
          "base_uri": "https://localhost:8080/",
          "height": 424
        },
        "id": "lAI7P_cEes6s",
        "outputId": "7e40045f-97dd-4f12-b99d-b71dc6739372"
      },
      "outputs": [
        {
          "output_type": "execute_result",
          "data": {
            "text/plain": [
              "     Unnamed: 0    id  boneage  gender  \\\n",
              "0             0  5014   216.30       1   \n",
              "1             1  5059   221.10       1   \n",
              "2             2  5300   226.40       1   \n",
              "3             3  5084   227.70       1   \n",
              "4             4  5342   224.40       1   \n",
              "..          ...   ...      ...     ...   \n",
              "859         859  3134    55.27       1   \n",
              "860         860  4486    48.85       1   \n",
              "861         861  3736    47.90       1   \n",
              "862         862  3734    59.18       1   \n",
              "982         982  7287   118.40       1   \n",
              "\n",
              "                                               path  \n",
              "0    /content/drive/MyDrive/HAND_SEG_ATLAS/5014.jpg  \n",
              "1    /content/drive/MyDrive/HAND_SEG_ATLAS/5059.jpg  \n",
              "2    /content/drive/MyDrive/HAND_SEG_ATLAS/5300.jpg  \n",
              "3    /content/drive/MyDrive/HAND_SEG_ATLAS/5084.jpg  \n",
              "4    /content/drive/MyDrive/HAND_SEG_ATLAS/5342.jpg  \n",
              "..                                              ...  \n",
              "859  /content/drive/MyDrive/HAND_SEG_ATLAS/3134.jpg  \n",
              "860  /content/drive/MyDrive/HAND_SEG_ATLAS/4486.jpg  \n",
              "861  /content/drive/MyDrive/HAND_SEG_ATLAS/3736.jpg  \n",
              "862  /content/drive/MyDrive/HAND_SEG_ATLAS/3734.jpg  \n",
              "982  /content/drive/MyDrive/HAND_SEG_ATLAS/7287.jpg  \n",
              "\n",
              "[697 rows x 5 columns]"
            ],
            "text/html": [
              "\n",
              "  <div id=\"df-50b15f23-5ee8-4a88-9cb7-70f73331c4b1\">\n",
              "    <div class=\"colab-df-container\">\n",
              "      <div>\n",
              "<style scoped>\n",
              "    .dataframe tbody tr th:only-of-type {\n",
              "        vertical-align: middle;\n",
              "    }\n",
              "\n",
              "    .dataframe tbody tr th {\n",
              "        vertical-align: top;\n",
              "    }\n",
              "\n",
              "    .dataframe thead th {\n",
              "        text-align: right;\n",
              "    }\n",
              "</style>\n",
              "<table border=\"1\" class=\"dataframe\">\n",
              "  <thead>\n",
              "    <tr style=\"text-align: right;\">\n",
              "      <th></th>\n",
              "      <th>Unnamed: 0</th>\n",
              "      <th>id</th>\n",
              "      <th>boneage</th>\n",
              "      <th>gender</th>\n",
              "      <th>path</th>\n",
              "    </tr>\n",
              "  </thead>\n",
              "  <tbody>\n",
              "    <tr>\n",
              "      <th>0</th>\n",
              "      <td>0</td>\n",
              "      <td>5014</td>\n",
              "      <td>216.30</td>\n",
              "      <td>1</td>\n",
              "      <td>/content/drive/MyDrive/HAND_SEG_ATLAS/5014.jpg</td>\n",
              "    </tr>\n",
              "    <tr>\n",
              "      <th>1</th>\n",
              "      <td>1</td>\n",
              "      <td>5059</td>\n",
              "      <td>221.10</td>\n",
              "      <td>1</td>\n",
              "      <td>/content/drive/MyDrive/HAND_SEG_ATLAS/5059.jpg</td>\n",
              "    </tr>\n",
              "    <tr>\n",
              "      <th>2</th>\n",
              "      <td>2</td>\n",
              "      <td>5300</td>\n",
              "      <td>226.40</td>\n",
              "      <td>1</td>\n",
              "      <td>/content/drive/MyDrive/HAND_SEG_ATLAS/5300.jpg</td>\n",
              "    </tr>\n",
              "    <tr>\n",
              "      <th>3</th>\n",
              "      <td>3</td>\n",
              "      <td>5084</td>\n",
              "      <td>227.70</td>\n",
              "      <td>1</td>\n",
              "      <td>/content/drive/MyDrive/HAND_SEG_ATLAS/5084.jpg</td>\n",
              "    </tr>\n",
              "    <tr>\n",
              "      <th>4</th>\n",
              "      <td>4</td>\n",
              "      <td>5342</td>\n",
              "      <td>224.40</td>\n",
              "      <td>1</td>\n",
              "      <td>/content/drive/MyDrive/HAND_SEG_ATLAS/5342.jpg</td>\n",
              "    </tr>\n",
              "    <tr>\n",
              "      <th>...</th>\n",
              "      <td>...</td>\n",
              "      <td>...</td>\n",
              "      <td>...</td>\n",
              "      <td>...</td>\n",
              "      <td>...</td>\n",
              "    </tr>\n",
              "    <tr>\n",
              "      <th>859</th>\n",
              "      <td>859</td>\n",
              "      <td>3134</td>\n",
              "      <td>55.27</td>\n",
              "      <td>1</td>\n",
              "      <td>/content/drive/MyDrive/HAND_SEG_ATLAS/3134.jpg</td>\n",
              "    </tr>\n",
              "    <tr>\n",
              "      <th>860</th>\n",
              "      <td>860</td>\n",
              "      <td>4486</td>\n",
              "      <td>48.85</td>\n",
              "      <td>1</td>\n",
              "      <td>/content/drive/MyDrive/HAND_SEG_ATLAS/4486.jpg</td>\n",
              "    </tr>\n",
              "    <tr>\n",
              "      <th>861</th>\n",
              "      <td>861</td>\n",
              "      <td>3736</td>\n",
              "      <td>47.90</td>\n",
              "      <td>1</td>\n",
              "      <td>/content/drive/MyDrive/HAND_SEG_ATLAS/3736.jpg</td>\n",
              "    </tr>\n",
              "    <tr>\n",
              "      <th>862</th>\n",
              "      <td>862</td>\n",
              "      <td>3734</td>\n",
              "      <td>59.18</td>\n",
              "      <td>1</td>\n",
              "      <td>/content/drive/MyDrive/HAND_SEG_ATLAS/3734.jpg</td>\n",
              "    </tr>\n",
              "    <tr>\n",
              "      <th>982</th>\n",
              "      <td>982</td>\n",
              "      <td>7287</td>\n",
              "      <td>118.40</td>\n",
              "      <td>1</td>\n",
              "      <td>/content/drive/MyDrive/HAND_SEG_ATLAS/7287.jpg</td>\n",
              "    </tr>\n",
              "  </tbody>\n",
              "</table>\n",
              "<p>697 rows × 5 columns</p>\n",
              "</div>\n",
              "      <button class=\"colab-df-convert\" onclick=\"convertToInteractive('df-50b15f23-5ee8-4a88-9cb7-70f73331c4b1')\"\n",
              "              title=\"Convert this dataframe to an interactive table.\"\n",
              "              style=\"display:none;\">\n",
              "        \n",
              "  <svg xmlns=\"http://www.w3.org/2000/svg\" height=\"24px\"viewBox=\"0 0 24 24\"\n",
              "       width=\"24px\">\n",
              "    <path d=\"M0 0h24v24H0V0z\" fill=\"none\"/>\n",
              "    <path d=\"M18.56 5.44l.94 2.06.94-2.06 2.06-.94-2.06-.94-.94-2.06-.94 2.06-2.06.94zm-11 1L8.5 8.5l.94-2.06 2.06-.94-2.06-.94L8.5 2.5l-.94 2.06-2.06.94zm10 10l.94 2.06.94-2.06 2.06-.94-2.06-.94-.94-2.06-.94 2.06-2.06.94z\"/><path d=\"M17.41 7.96l-1.37-1.37c-.4-.4-.92-.59-1.43-.59-.52 0-1.04.2-1.43.59L10.3 9.45l-7.72 7.72c-.78.78-.78 2.05 0 2.83L4 21.41c.39.39.9.59 1.41.59.51 0 1.02-.2 1.41-.59l7.78-7.78 2.81-2.81c.8-.78.8-2.07 0-2.86zM5.41 20L4 18.59l7.72-7.72 1.47 1.35L5.41 20z\"/>\n",
              "  </svg>\n",
              "      </button>\n",
              "      \n",
              "  <style>\n",
              "    .colab-df-container {\n",
              "      display:flex;\n",
              "      flex-wrap:wrap;\n",
              "      gap: 12px;\n",
              "    }\n",
              "\n",
              "    .colab-df-convert {\n",
              "      background-color: #E8F0FE;\n",
              "      border: none;\n",
              "      border-radius: 50%;\n",
              "      cursor: pointer;\n",
              "      display: none;\n",
              "      fill: #1967D2;\n",
              "      height: 32px;\n",
              "      padding: 0 0 0 0;\n",
              "      width: 32px;\n",
              "    }\n",
              "\n",
              "    .colab-df-convert:hover {\n",
              "      background-color: #E2EBFA;\n",
              "      box-shadow: 0px 1px 2px rgba(60, 64, 67, 0.3), 0px 1px 3px 1px rgba(60, 64, 67, 0.15);\n",
              "      fill: #174EA6;\n",
              "    }\n",
              "\n",
              "    [theme=dark] .colab-df-convert {\n",
              "      background-color: #3B4455;\n",
              "      fill: #D2E3FC;\n",
              "    }\n",
              "\n",
              "    [theme=dark] .colab-df-convert:hover {\n",
              "      background-color: #434B5C;\n",
              "      box-shadow: 0px 1px 3px 1px rgba(0, 0, 0, 0.15);\n",
              "      filter: drop-shadow(0px 1px 2px rgba(0, 0, 0, 0.3));\n",
              "      fill: #FFFFFF;\n",
              "    }\n",
              "  </style>\n",
              "\n",
              "      <script>\n",
              "        const buttonEl =\n",
              "          document.querySelector('#df-50b15f23-5ee8-4a88-9cb7-70f73331c4b1 button.colab-df-convert');\n",
              "        buttonEl.style.display =\n",
              "          google.colab.kernel.accessAllowed ? 'block' : 'none';\n",
              "\n",
              "        async function convertToInteractive(key) {\n",
              "          const element = document.querySelector('#df-50b15f23-5ee8-4a88-9cb7-70f73331c4b1');\n",
              "          const dataTable =\n",
              "            await google.colab.kernel.invokeFunction('convertToInteractive',\n",
              "                                                     [key], {});\n",
              "          if (!dataTable) return;\n",
              "\n",
              "          const docLinkHtml = 'Like what you see? Visit the ' +\n",
              "            '<a target=\"_blank\" href=https://colab.research.google.com/notebooks/data_table.ipynb>data table notebook</a>'\n",
              "            + ' to learn more about interactive tables.';\n",
              "          element.innerHTML = '';\n",
              "          dataTable['output_type'] = 'display_data';\n",
              "          await google.colab.output.renderOutput(dataTable, element);\n",
              "          const docLink = document.createElement('div');\n",
              "          docLink.innerHTML = docLinkHtml;\n",
              "          element.appendChild(docLink);\n",
              "        }\n",
              "      </script>\n",
              "    </div>\n",
              "  </div>\n",
              "  "
            ]
          },
          "metadata": {},
          "execution_count": 7
        }
      ],
      "source": [
        "age1"
      ]
    },
    {
      "cell_type": "code",
      "execution_count": null,
      "metadata": {
        "colab": {
          "base_uri": "https://localhost:8080/"
        },
        "id": "FvBGIqYyfH3n",
        "outputId": "5f3a70a3-0bd2-423d-de26-b1e907c6800f"
      },
      "outputs": [
        {
          "output_type": "execute_result",
          "data": {
            "text/plain": [
              "(600,)"
            ]
          },
          "metadata": {},
          "execution_count": 8
        }
      ],
      "source": [
        "ag=age1.boneage.unique()\n",
        "ag.shape"
      ]
    },
    {
      "cell_type": "code",
      "execution_count": null,
      "metadata": {
        "id": "feLuby6Xf_9v"
      },
      "outputs": [],
      "source": [
        "train1_df = age1.groupby(['boneage']).apply(lambda x: x.sample(5, replace = True)\n",
        "                                                      ).reset_index(drop = True)"
      ]
    },
    {
      "cell_type": "code",
      "execution_count": null,
      "metadata": {
        "colab": {
          "base_uri": "https://localhost:8080/",
          "height": 424
        },
        "id": "-fO7_F0kgVy6",
        "outputId": "f1a188c5-b941-457a-dc93-e876880c0d15"
      },
      "outputs": [
        {
          "output_type": "execute_result",
          "data": {
            "text/plain": [
              "      Unnamed: 0    id   boneage  gender  \\\n",
              "0            504  5574    0.3616       1   \n",
              "1            504  5574    0.3616       1   \n",
              "2            504  5574    0.3616       1   \n",
              "3            504  5574    0.3616       1   \n",
              "4            504  5574    0.3616       1   \n",
              "...          ...   ...       ...     ...   \n",
              "2995           3  5084  227.7000       1   \n",
              "2996           3  5084  227.7000       1   \n",
              "2997           3  5084  227.7000       1   \n",
              "2998           3  5084  227.7000       1   \n",
              "2999           3  5084  227.7000       1   \n",
              "\n",
              "                                                path  \n",
              "0     /content/drive/MyDrive/HAND_SEG_ATLAS/5574.jpg  \n",
              "1     /content/drive/MyDrive/HAND_SEG_ATLAS/5574.jpg  \n",
              "2     /content/drive/MyDrive/HAND_SEG_ATLAS/5574.jpg  \n",
              "3     /content/drive/MyDrive/HAND_SEG_ATLAS/5574.jpg  \n",
              "4     /content/drive/MyDrive/HAND_SEG_ATLAS/5574.jpg  \n",
              "...                                              ...  \n",
              "2995  /content/drive/MyDrive/HAND_SEG_ATLAS/5084.jpg  \n",
              "2996  /content/drive/MyDrive/HAND_SEG_ATLAS/5084.jpg  \n",
              "2997  /content/drive/MyDrive/HAND_SEG_ATLAS/5084.jpg  \n",
              "2998  /content/drive/MyDrive/HAND_SEG_ATLAS/5084.jpg  \n",
              "2999  /content/drive/MyDrive/HAND_SEG_ATLAS/5084.jpg  \n",
              "\n",
              "[3000 rows x 5 columns]"
            ],
            "text/html": [
              "\n",
              "  <div id=\"df-611d7767-5b2e-478c-8e2e-7596a91270b5\">\n",
              "    <div class=\"colab-df-container\">\n",
              "      <div>\n",
              "<style scoped>\n",
              "    .dataframe tbody tr th:only-of-type {\n",
              "        vertical-align: middle;\n",
              "    }\n",
              "\n",
              "    .dataframe tbody tr th {\n",
              "        vertical-align: top;\n",
              "    }\n",
              "\n",
              "    .dataframe thead th {\n",
              "        text-align: right;\n",
              "    }\n",
              "</style>\n",
              "<table border=\"1\" class=\"dataframe\">\n",
              "  <thead>\n",
              "    <tr style=\"text-align: right;\">\n",
              "      <th></th>\n",
              "      <th>Unnamed: 0</th>\n",
              "      <th>id</th>\n",
              "      <th>boneage</th>\n",
              "      <th>gender</th>\n",
              "      <th>path</th>\n",
              "    </tr>\n",
              "  </thead>\n",
              "  <tbody>\n",
              "    <tr>\n",
              "      <th>0</th>\n",
              "      <td>504</td>\n",
              "      <td>5574</td>\n",
              "      <td>0.3616</td>\n",
              "      <td>1</td>\n",
              "      <td>/content/drive/MyDrive/HAND_SEG_ATLAS/5574.jpg</td>\n",
              "    </tr>\n",
              "    <tr>\n",
              "      <th>1</th>\n",
              "      <td>504</td>\n",
              "      <td>5574</td>\n",
              "      <td>0.3616</td>\n",
              "      <td>1</td>\n",
              "      <td>/content/drive/MyDrive/HAND_SEG_ATLAS/5574.jpg</td>\n",
              "    </tr>\n",
              "    <tr>\n",
              "      <th>2</th>\n",
              "      <td>504</td>\n",
              "      <td>5574</td>\n",
              "      <td>0.3616</td>\n",
              "      <td>1</td>\n",
              "      <td>/content/drive/MyDrive/HAND_SEG_ATLAS/5574.jpg</td>\n",
              "    </tr>\n",
              "    <tr>\n",
              "      <th>3</th>\n",
              "      <td>504</td>\n",
              "      <td>5574</td>\n",
              "      <td>0.3616</td>\n",
              "      <td>1</td>\n",
              "      <td>/content/drive/MyDrive/HAND_SEG_ATLAS/5574.jpg</td>\n",
              "    </tr>\n",
              "    <tr>\n",
              "      <th>4</th>\n",
              "      <td>504</td>\n",
              "      <td>5574</td>\n",
              "      <td>0.3616</td>\n",
              "      <td>1</td>\n",
              "      <td>/content/drive/MyDrive/HAND_SEG_ATLAS/5574.jpg</td>\n",
              "    </tr>\n",
              "    <tr>\n",
              "      <th>...</th>\n",
              "      <td>...</td>\n",
              "      <td>...</td>\n",
              "      <td>...</td>\n",
              "      <td>...</td>\n",
              "      <td>...</td>\n",
              "    </tr>\n",
              "    <tr>\n",
              "      <th>2995</th>\n",
              "      <td>3</td>\n",
              "      <td>5084</td>\n",
              "      <td>227.7000</td>\n",
              "      <td>1</td>\n",
              "      <td>/content/drive/MyDrive/HAND_SEG_ATLAS/5084.jpg</td>\n",
              "    </tr>\n",
              "    <tr>\n",
              "      <th>2996</th>\n",
              "      <td>3</td>\n",
              "      <td>5084</td>\n",
              "      <td>227.7000</td>\n",
              "      <td>1</td>\n",
              "      <td>/content/drive/MyDrive/HAND_SEG_ATLAS/5084.jpg</td>\n",
              "    </tr>\n",
              "    <tr>\n",
              "      <th>2997</th>\n",
              "      <td>3</td>\n",
              "      <td>5084</td>\n",
              "      <td>227.7000</td>\n",
              "      <td>1</td>\n",
              "      <td>/content/drive/MyDrive/HAND_SEG_ATLAS/5084.jpg</td>\n",
              "    </tr>\n",
              "    <tr>\n",
              "      <th>2998</th>\n",
              "      <td>3</td>\n",
              "      <td>5084</td>\n",
              "      <td>227.7000</td>\n",
              "      <td>1</td>\n",
              "      <td>/content/drive/MyDrive/HAND_SEG_ATLAS/5084.jpg</td>\n",
              "    </tr>\n",
              "    <tr>\n",
              "      <th>2999</th>\n",
              "      <td>3</td>\n",
              "      <td>5084</td>\n",
              "      <td>227.7000</td>\n",
              "      <td>1</td>\n",
              "      <td>/content/drive/MyDrive/HAND_SEG_ATLAS/5084.jpg</td>\n",
              "    </tr>\n",
              "  </tbody>\n",
              "</table>\n",
              "<p>3000 rows × 5 columns</p>\n",
              "</div>\n",
              "      <button class=\"colab-df-convert\" onclick=\"convertToInteractive('df-611d7767-5b2e-478c-8e2e-7596a91270b5')\"\n",
              "              title=\"Convert this dataframe to an interactive table.\"\n",
              "              style=\"display:none;\">\n",
              "        \n",
              "  <svg xmlns=\"http://www.w3.org/2000/svg\" height=\"24px\"viewBox=\"0 0 24 24\"\n",
              "       width=\"24px\">\n",
              "    <path d=\"M0 0h24v24H0V0z\" fill=\"none\"/>\n",
              "    <path d=\"M18.56 5.44l.94 2.06.94-2.06 2.06-.94-2.06-.94-.94-2.06-.94 2.06-2.06.94zm-11 1L8.5 8.5l.94-2.06 2.06-.94-2.06-.94L8.5 2.5l-.94 2.06-2.06.94zm10 10l.94 2.06.94-2.06 2.06-.94-2.06-.94-.94-2.06-.94 2.06-2.06.94z\"/><path d=\"M17.41 7.96l-1.37-1.37c-.4-.4-.92-.59-1.43-.59-.52 0-1.04.2-1.43.59L10.3 9.45l-7.72 7.72c-.78.78-.78 2.05 0 2.83L4 21.41c.39.39.9.59 1.41.59.51 0 1.02-.2 1.41-.59l7.78-7.78 2.81-2.81c.8-.78.8-2.07 0-2.86zM5.41 20L4 18.59l7.72-7.72 1.47 1.35L5.41 20z\"/>\n",
              "  </svg>\n",
              "      </button>\n",
              "      \n",
              "  <style>\n",
              "    .colab-df-container {\n",
              "      display:flex;\n",
              "      flex-wrap:wrap;\n",
              "      gap: 12px;\n",
              "    }\n",
              "\n",
              "    .colab-df-convert {\n",
              "      background-color: #E8F0FE;\n",
              "      border: none;\n",
              "      border-radius: 50%;\n",
              "      cursor: pointer;\n",
              "      display: none;\n",
              "      fill: #1967D2;\n",
              "      height: 32px;\n",
              "      padding: 0 0 0 0;\n",
              "      width: 32px;\n",
              "    }\n",
              "\n",
              "    .colab-df-convert:hover {\n",
              "      background-color: #E2EBFA;\n",
              "      box-shadow: 0px 1px 2px rgba(60, 64, 67, 0.3), 0px 1px 3px 1px rgba(60, 64, 67, 0.15);\n",
              "      fill: #174EA6;\n",
              "    }\n",
              "\n",
              "    [theme=dark] .colab-df-convert {\n",
              "      background-color: #3B4455;\n",
              "      fill: #D2E3FC;\n",
              "    }\n",
              "\n",
              "    [theme=dark] .colab-df-convert:hover {\n",
              "      background-color: #434B5C;\n",
              "      box-shadow: 0px 1px 3px 1px rgba(0, 0, 0, 0.15);\n",
              "      filter: drop-shadow(0px 1px 2px rgba(0, 0, 0, 0.3));\n",
              "      fill: #FFFFFF;\n",
              "    }\n",
              "  </style>\n",
              "\n",
              "      <script>\n",
              "        const buttonEl =\n",
              "          document.querySelector('#df-611d7767-5b2e-478c-8e2e-7596a91270b5 button.colab-df-convert');\n",
              "        buttonEl.style.display =\n",
              "          google.colab.kernel.accessAllowed ? 'block' : 'none';\n",
              "\n",
              "        async function convertToInteractive(key) {\n",
              "          const element = document.querySelector('#df-611d7767-5b2e-478c-8e2e-7596a91270b5');\n",
              "          const dataTable =\n",
              "            await google.colab.kernel.invokeFunction('convertToInteractive',\n",
              "                                                     [key], {});\n",
              "          if (!dataTable) return;\n",
              "\n",
              "          const docLinkHtml = 'Like what you see? Visit the ' +\n",
              "            '<a target=\"_blank\" href=https://colab.research.google.com/notebooks/data_table.ipynb>data table notebook</a>'\n",
              "            + ' to learn more about interactive tables.';\n",
              "          element.innerHTML = '';\n",
              "          dataTable['output_type'] = 'display_data';\n",
              "          await google.colab.output.renderOutput(dataTable, element);\n",
              "          const docLink = document.createElement('div');\n",
              "          docLink.innerHTML = docLinkHtml;\n",
              "          element.appendChild(docLink);\n",
              "        }\n",
              "      </script>\n",
              "    </div>\n",
              "  </div>\n",
              "  "
            ]
          },
          "metadata": {},
          "execution_count": 10
        }
      ],
      "source": [
        "train1_df"
      ]
    },
    {
      "cell_type": "code",
      "execution_count": null,
      "metadata": {
        "colab": {
          "base_uri": "https://localhost:8080/"
        },
        "id": "78T4_RIVgahz",
        "outputId": "4aa2b9f4-bc5c-4c8a-aeff-14112f79d9fd"
      },
      "outputs": [
        {
          "output_type": "stream",
          "name": "stdout",
          "text": [
            "train 1680 validation 600 720\n"
          ]
        }
      ],
      "source": [
        "from sklearn.model_selection import train_test_split\n",
        "train_test1, valid1 = train_test_split(train1_df, \n",
        "                                   test_size = 0.2, \n",
        "                                   random_state = 2018,\n",
        "                                   stratify = train1_df['boneage'])\n",
        "#print('train', raw_train_df.shape[0], 'validation', valid_df.shape[0])\n",
        "train1, test1 = train_test_split(train_test1, \n",
        "                                   test_size = 0.3, \n",
        "                                   random_state = 2018,\n",
        "                                   stratify = train_test1['boneage'])\n",
        "print('train', train1.shape[0], 'validation', valid1.shape[0],test1.shape[0])"
      ]
    },
    {
      "cell_type": "code",
      "execution_count": null,
      "metadata": {
        "id": "rgXaGEEShK2u"
      },
      "outputs": [],
      "source": [
        "from keras.preprocessing.image import ImageDataGenerator\n",
        "IMG_SIZE = (300,300)\n",
        "core_idg = ImageDataGenerator(rotation_range=20,width_shift_range=0.15,height_shift_range=0.15,zoom_range=0.2,horizontal_flip=True)"
      ]
    },
    {
      "cell_type": "code",
      "execution_count": null,
      "metadata": {
        "id": "it_INY2thRLt"
      },
      "outputs": [],
      "source": [
        "def flow_from_dataframe(img_data_gen, in_df, path_col, y_col, **dflow_args):\n",
        "    base_dir = os.path.dirname(in_df[path_col].values[0])\n",
        "    print('## Ignore next message from keras, values are replaced anyways')\n",
        "    df_gen = img_data_gen.flow_from_directory(base_dir, \n",
        "                                     class_mode = 'sparse',\n",
        "                                    **dflow_args)\n",
        "    df_gen.filenames = in_df[path_col].values\n",
        "    df_gen.filepaths.extend(df_gen.filenames)\n",
        "    df_gen.classes = np.stack(in_df[y_col].values)\n",
        "    df_gen.samples = in_df.shape[0]\n",
        "    df_gen.n = in_df.shape[0]\n",
        "    df_gen._set_index_array()\n",
        "    df_gen.directory = '' \n",
        "    gen=np.ones(df_gen.samples)\n",
        "    print('Reinserting dataframe: {} images'.format(in_df.shape[0]))\n",
        "    #print(df_gen.samples)\n",
        "    #yield (df_gen,gen)\n",
        "    return df_gen"
      ]
    },
    {
      "cell_type": "code",
      "execution_count": null,
      "metadata": {
        "colab": {
          "base_uri": "https://localhost:8080/"
        },
        "id": "u7pfG4-FhYU3",
        "outputId": "050a2ea1-9cc2-4144-ab55-41f7f8220b88"
      },
      "outputs": [
        {
          "output_type": "stream",
          "name": "stdout",
          "text": [
            "## Ignore next message from keras, values are replaced anyways\n",
            "Found 0 images belonging to 0 classes.\n",
            "Reinserting dataframe: 1680 images\n"
          ]
        }
      ],
      "source": [
        "train1_gen = flow_from_dataframe( core_idg, train1, \n",
        "                             path_col = 'path',\n",
        "                            y_col = 'boneage', \n",
        "                            target_size = IMG_SIZE,\n",
        "                             color_mode = 'rgb',\n",
        "                            batch_size = 1680)"
      ]
    },
    {
      "cell_type": "code",
      "execution_count": null,
      "metadata": {
        "colab": {
          "base_uri": "https://localhost:8080/"
        },
        "id": "IGccOe-qhird",
        "outputId": "bfb502ce-34ff-4428-b7fd-8b1b937a72ea"
      },
      "outputs": [
        {
          "output_type": "stream",
          "name": "stdout",
          "text": [
            "## Ignore next message from keras, values are replaced anyways\n",
            "Found 0 images belonging to 0 classes.\n",
            "Reinserting dataframe: 600 images\n"
          ]
        }
      ],
      "source": [
        "valid1_gen = flow_from_dataframe(core_idg, valid1, \n",
        "                             path_col = 'path',\n",
        "                            y_col = 'boneage', \n",
        "                            target_size = IMG_SIZE,\n",
        "                             color_mode = 'rgb',\n",
        "                            batch_size = 600) "
      ]
    },
    {
      "cell_type": "code",
      "execution_count": null,
      "metadata": {
        "id": "bqb6-OqtLFHz"
      },
      "outputs": [],
      "source": [
        "\n",
        "testcore_idg = ImageDataGenerator()"
      ]
    },
    {
      "cell_type": "code",
      "execution_count": null,
      "metadata": {
        "colab": {
          "base_uri": "https://localhost:8080/"
        },
        "id": "fnPAVjuXLFHz",
        "outputId": "7686e9ac-5554-4e66-f260-69a334ae99c6"
      },
      "outputs": [
        {
          "output_type": "stream",
          "name": "stdout",
          "text": [
            "## Ignore next message from keras, values are replaced anyways\n",
            "Found 0 images belonging to 0 classes.\n",
            "Reinserting dataframe: 720 images\n"
          ]
        }
      ],
      "source": [
        "test1_gen = flow_from_dataframe(testcore_idg, \n",
        "                              test1, \n",
        "                             path_col = 'path',\n",
        "                            y_col = 'boneage', \n",
        "                            target_size = IMG_SIZE,\n",
        "                             color_mode = 'rgb',\n",
        "                            batch_size = 720)"
      ]
    },
    {
      "cell_type": "code",
      "execution_count": null,
      "metadata": {
        "id": "TGRGhrMlhSNa"
      },
      "outputs": [],
      "source": [
        "train1_X, train1_Y = next(train1_gen)"
      ]
    },
    {
      "cell_type": "code",
      "execution_count": null,
      "metadata": {
        "colab": {
          "base_uri": "https://localhost:8080/"
        },
        "id": "ZwAUKKc8kbFw",
        "outputId": "3a34e19e-ecfa-4ee1-ce20-cb154976a799"
      },
      "outputs": [
        {
          "output_type": "execute_result",
          "data": {
            "text/plain": [
              "(1680, 300, 300, 3)"
            ]
          },
          "metadata": {},
          "execution_count": 23
        }
      ],
      "source": [
        "train1_X.shape"
      ]
    },
    {
      "cell_type": "code",
      "execution_count": null,
      "metadata": {
        "id": "KxRK-aGYk3Gz"
      },
      "outputs": [],
      "source": [
        "valid1_X, valid1_Y = next(valid1_gen)"
      ]
    },
    {
      "cell_type": "code",
      "execution_count": null,
      "metadata": {
        "colab": {
          "base_uri": "https://localhost:8080/"
        },
        "id": "YrzIkZL_k4OT",
        "outputId": "8e72d9c1-7a7f-4315-b25a-c7fd21acc1ec"
      },
      "outputs": [
        {
          "output_type": "execute_result",
          "data": {
            "text/plain": [
              "(600, 300, 300, 3)"
            ]
          },
          "metadata": {},
          "execution_count": 25
        }
      ],
      "source": [
        "valid1_X.shape"
      ]
    },
    {
      "cell_type": "code",
      "execution_count": null,
      "metadata": {
        "id": "fcr4PLs1lDer"
      },
      "outputs": [],
      "source": [
        "test1_X, test1_Y = next(test1_gen)"
      ]
    },
    {
      "cell_type": "code",
      "execution_count": null,
      "metadata": {
        "colab": {
          "base_uri": "https://localhost:8080/"
        },
        "id": "REnaZedJlatT",
        "outputId": "8b324ff0-8210-4a3e-9633-065dc2a11cc0"
      },
      "outputs": [
        {
          "output_type": "execute_result",
          "data": {
            "text/plain": [
              "(720, 300, 300, 3)"
            ]
          },
          "metadata": {},
          "execution_count": 27
        }
      ],
      "source": [
        "test1_X.shape"
      ]
    },
    {
      "cell_type": "code",
      "execution_count": null,
      "metadata": {
        "id": "bgz2QDrce3bP"
      },
      "outputs": [],
      "source": [
        "import pandas as pd\n",
        "train_dir = '/content/drive/MyDrive/HAND_SEG_ATLAS'\n",
        "df = pd.read_csv('/content/drive/MyDrive/hand_atlas/data.csv')"
      ]
    },
    {
      "cell_type": "code",
      "execution_count": null,
      "metadata": {
        "id": "XehSh4Nwe3bZ"
      },
      "outputs": [],
      "source": [
        "df.drop(df[(df['id'] == 7144)].index, inplace=True)"
      ]
    },
    {
      "cell_type": "code",
      "execution_count": null,
      "metadata": {
        "id": "E4P3MPGre3bZ"
      },
      "outputs": [],
      "source": [
        "import os\n",
        "age_df = df \n",
        "age_df['path'] = age_df['id'].map(lambda x: os.path.join(train_dir,\n",
        "                                                         '{}.jpg'.format(x)))\n",
        "#age_df['exists'] = age_df['path'].map(os.path.exists)"
      ]
    },
    {
      "cell_type": "code",
      "execution_count": null,
      "metadata": {
        "id": "UFVD6jGXe3ba"
      },
      "outputs": [],
      "source": [
        "age0=age_df"
      ]
    },
    {
      "cell_type": "code",
      "execution_count": null,
      "metadata": {
        "id": "gcjqP4Wie3ba"
      },
      "outputs": [],
      "source": [
        "age0.drop(df[(age0['gender'] == 1)].index, inplace=True)"
      ]
    },
    {
      "cell_type": "code",
      "execution_count": null,
      "metadata": {
        "colab": {
          "base_uri": "https://localhost:8080/",
          "height": 424
        },
        "id": "P9y3PUjre3ba",
        "outputId": "0b654334-cb44-4e78-8654-8024d739548e"
      },
      "outputs": [
        {
          "output_type": "execute_result",
          "data": {
            "text/plain": [
              "      Unnamed: 0    id  boneage  gender  \\\n",
              "515          515  4117   186.20       0   \n",
              "516          516  4389   186.40       0   \n",
              "517          517  4113   182.50       0   \n",
              "518          518  4503   188.10       0   \n",
              "519          519  4114   180.50       0   \n",
              "...          ...   ...      ...     ...   \n",
              "1382        1382  6106    32.52       0   \n",
              "1383        1383  5234    30.02       0   \n",
              "1384        1384  5334    33.70       0   \n",
              "1385        1385  6131    24.13       0   \n",
              "1386        1386  5131    31.46       0   \n",
              "\n",
              "                                                path  \n",
              "515   /content/drive/MyDrive/HAND_SEG_ATLAS/4117.jpg  \n",
              "516   /content/drive/MyDrive/HAND_SEG_ATLAS/4389.jpg  \n",
              "517   /content/drive/MyDrive/HAND_SEG_ATLAS/4113.jpg  \n",
              "518   /content/drive/MyDrive/HAND_SEG_ATLAS/4503.jpg  \n",
              "519   /content/drive/MyDrive/HAND_SEG_ATLAS/4114.jpg  \n",
              "...                                              ...  \n",
              "1382  /content/drive/MyDrive/HAND_SEG_ATLAS/6106.jpg  \n",
              "1383  /content/drive/MyDrive/HAND_SEG_ATLAS/5234.jpg  \n",
              "1384  /content/drive/MyDrive/HAND_SEG_ATLAS/5334.jpg  \n",
              "1385  /content/drive/MyDrive/HAND_SEG_ATLAS/6131.jpg  \n",
              "1386  /content/drive/MyDrive/HAND_SEG_ATLAS/5131.jpg  \n",
              "\n",
              "[689 rows x 5 columns]"
            ],
            "text/html": [
              "\n",
              "  <div id=\"df-78126418-3159-4a3b-b921-32e613afc071\">\n",
              "    <div class=\"colab-df-container\">\n",
              "      <div>\n",
              "<style scoped>\n",
              "    .dataframe tbody tr th:only-of-type {\n",
              "        vertical-align: middle;\n",
              "    }\n",
              "\n",
              "    .dataframe tbody tr th {\n",
              "        vertical-align: top;\n",
              "    }\n",
              "\n",
              "    .dataframe thead th {\n",
              "        text-align: right;\n",
              "    }\n",
              "</style>\n",
              "<table border=\"1\" class=\"dataframe\">\n",
              "  <thead>\n",
              "    <tr style=\"text-align: right;\">\n",
              "      <th></th>\n",
              "      <th>Unnamed: 0</th>\n",
              "      <th>id</th>\n",
              "      <th>boneage</th>\n",
              "      <th>gender</th>\n",
              "      <th>path</th>\n",
              "    </tr>\n",
              "  </thead>\n",
              "  <tbody>\n",
              "    <tr>\n",
              "      <th>515</th>\n",
              "      <td>515</td>\n",
              "      <td>4117</td>\n",
              "      <td>186.20</td>\n",
              "      <td>0</td>\n",
              "      <td>/content/drive/MyDrive/HAND_SEG_ATLAS/4117.jpg</td>\n",
              "    </tr>\n",
              "    <tr>\n",
              "      <th>516</th>\n",
              "      <td>516</td>\n",
              "      <td>4389</td>\n",
              "      <td>186.40</td>\n",
              "      <td>0</td>\n",
              "      <td>/content/drive/MyDrive/HAND_SEG_ATLAS/4389.jpg</td>\n",
              "    </tr>\n",
              "    <tr>\n",
              "      <th>517</th>\n",
              "      <td>517</td>\n",
              "      <td>4113</td>\n",
              "      <td>182.50</td>\n",
              "      <td>0</td>\n",
              "      <td>/content/drive/MyDrive/HAND_SEG_ATLAS/4113.jpg</td>\n",
              "    </tr>\n",
              "    <tr>\n",
              "      <th>518</th>\n",
              "      <td>518</td>\n",
              "      <td>4503</td>\n",
              "      <td>188.10</td>\n",
              "      <td>0</td>\n",
              "      <td>/content/drive/MyDrive/HAND_SEG_ATLAS/4503.jpg</td>\n",
              "    </tr>\n",
              "    <tr>\n",
              "      <th>519</th>\n",
              "      <td>519</td>\n",
              "      <td>4114</td>\n",
              "      <td>180.50</td>\n",
              "      <td>0</td>\n",
              "      <td>/content/drive/MyDrive/HAND_SEG_ATLAS/4114.jpg</td>\n",
              "    </tr>\n",
              "    <tr>\n",
              "      <th>...</th>\n",
              "      <td>...</td>\n",
              "      <td>...</td>\n",
              "      <td>...</td>\n",
              "      <td>...</td>\n",
              "      <td>...</td>\n",
              "    </tr>\n",
              "    <tr>\n",
              "      <th>1382</th>\n",
              "      <td>1382</td>\n",
              "      <td>6106</td>\n",
              "      <td>32.52</td>\n",
              "      <td>0</td>\n",
              "      <td>/content/drive/MyDrive/HAND_SEG_ATLAS/6106.jpg</td>\n",
              "    </tr>\n",
              "    <tr>\n",
              "      <th>1383</th>\n",
              "      <td>1383</td>\n",
              "      <td>5234</td>\n",
              "      <td>30.02</td>\n",
              "      <td>0</td>\n",
              "      <td>/content/drive/MyDrive/HAND_SEG_ATLAS/5234.jpg</td>\n",
              "    </tr>\n",
              "    <tr>\n",
              "      <th>1384</th>\n",
              "      <td>1384</td>\n",
              "      <td>5334</td>\n",
              "      <td>33.70</td>\n",
              "      <td>0</td>\n",
              "      <td>/content/drive/MyDrive/HAND_SEG_ATLAS/5334.jpg</td>\n",
              "    </tr>\n",
              "    <tr>\n",
              "      <th>1385</th>\n",
              "      <td>1385</td>\n",
              "      <td>6131</td>\n",
              "      <td>24.13</td>\n",
              "      <td>0</td>\n",
              "      <td>/content/drive/MyDrive/HAND_SEG_ATLAS/6131.jpg</td>\n",
              "    </tr>\n",
              "    <tr>\n",
              "      <th>1386</th>\n",
              "      <td>1386</td>\n",
              "      <td>5131</td>\n",
              "      <td>31.46</td>\n",
              "      <td>0</td>\n",
              "      <td>/content/drive/MyDrive/HAND_SEG_ATLAS/5131.jpg</td>\n",
              "    </tr>\n",
              "  </tbody>\n",
              "</table>\n",
              "<p>689 rows × 5 columns</p>\n",
              "</div>\n",
              "      <button class=\"colab-df-convert\" onclick=\"convertToInteractive('df-78126418-3159-4a3b-b921-32e613afc071')\"\n",
              "              title=\"Convert this dataframe to an interactive table.\"\n",
              "              style=\"display:none;\">\n",
              "        \n",
              "  <svg xmlns=\"http://www.w3.org/2000/svg\" height=\"24px\"viewBox=\"0 0 24 24\"\n",
              "       width=\"24px\">\n",
              "    <path d=\"M0 0h24v24H0V0z\" fill=\"none\"/>\n",
              "    <path d=\"M18.56 5.44l.94 2.06.94-2.06 2.06-.94-2.06-.94-.94-2.06-.94 2.06-2.06.94zm-11 1L8.5 8.5l.94-2.06 2.06-.94-2.06-.94L8.5 2.5l-.94 2.06-2.06.94zm10 10l.94 2.06.94-2.06 2.06-.94-2.06-.94-.94-2.06-.94 2.06-2.06.94z\"/><path d=\"M17.41 7.96l-1.37-1.37c-.4-.4-.92-.59-1.43-.59-.52 0-1.04.2-1.43.59L10.3 9.45l-7.72 7.72c-.78.78-.78 2.05 0 2.83L4 21.41c.39.39.9.59 1.41.59.51 0 1.02-.2 1.41-.59l7.78-7.78 2.81-2.81c.8-.78.8-2.07 0-2.86zM5.41 20L4 18.59l7.72-7.72 1.47 1.35L5.41 20z\"/>\n",
              "  </svg>\n",
              "      </button>\n",
              "      \n",
              "  <style>\n",
              "    .colab-df-container {\n",
              "      display:flex;\n",
              "      flex-wrap:wrap;\n",
              "      gap: 12px;\n",
              "    }\n",
              "\n",
              "    .colab-df-convert {\n",
              "      background-color: #E8F0FE;\n",
              "      border: none;\n",
              "      border-radius: 50%;\n",
              "      cursor: pointer;\n",
              "      display: none;\n",
              "      fill: #1967D2;\n",
              "      height: 32px;\n",
              "      padding: 0 0 0 0;\n",
              "      width: 32px;\n",
              "    }\n",
              "\n",
              "    .colab-df-convert:hover {\n",
              "      background-color: #E2EBFA;\n",
              "      box-shadow: 0px 1px 2px rgba(60, 64, 67, 0.3), 0px 1px 3px 1px rgba(60, 64, 67, 0.15);\n",
              "      fill: #174EA6;\n",
              "    }\n",
              "\n",
              "    [theme=dark] .colab-df-convert {\n",
              "      background-color: #3B4455;\n",
              "      fill: #D2E3FC;\n",
              "    }\n",
              "\n",
              "    [theme=dark] .colab-df-convert:hover {\n",
              "      background-color: #434B5C;\n",
              "      box-shadow: 0px 1px 3px 1px rgba(0, 0, 0, 0.15);\n",
              "      filter: drop-shadow(0px 1px 2px rgba(0, 0, 0, 0.3));\n",
              "      fill: #FFFFFF;\n",
              "    }\n",
              "  </style>\n",
              "\n",
              "      <script>\n",
              "        const buttonEl =\n",
              "          document.querySelector('#df-78126418-3159-4a3b-b921-32e613afc071 button.colab-df-convert');\n",
              "        buttonEl.style.display =\n",
              "          google.colab.kernel.accessAllowed ? 'block' : 'none';\n",
              "\n",
              "        async function convertToInteractive(key) {\n",
              "          const element = document.querySelector('#df-78126418-3159-4a3b-b921-32e613afc071');\n",
              "          const dataTable =\n",
              "            await google.colab.kernel.invokeFunction('convertToInteractive',\n",
              "                                                     [key], {});\n",
              "          if (!dataTable) return;\n",
              "\n",
              "          const docLinkHtml = 'Like what you see? Visit the ' +\n",
              "            '<a target=\"_blank\" href=https://colab.research.google.com/notebooks/data_table.ipynb>data table notebook</a>'\n",
              "            + ' to learn more about interactive tables.';\n",
              "          element.innerHTML = '';\n",
              "          dataTable['output_type'] = 'display_data';\n",
              "          await google.colab.output.renderOutput(dataTable, element);\n",
              "          const docLink = document.createElement('div');\n",
              "          docLink.innerHTML = docLinkHtml;\n",
              "          element.appendChild(docLink);\n",
              "        }\n",
              "      </script>\n",
              "    </div>\n",
              "  </div>\n",
              "  "
            ]
          },
          "metadata": {},
          "execution_count": 33
        }
      ],
      "source": [
        "age0"
      ]
    },
    {
      "cell_type": "code",
      "execution_count": null,
      "metadata": {
        "colab": {
          "base_uri": "https://localhost:8080/"
        },
        "id": "rx5RQAtvlton",
        "outputId": "432fb147-0123-4631-e43b-ec38c3aed6d1"
      },
      "outputs": [
        {
          "output_type": "execute_result",
          "data": {
            "text/plain": [
              "(599,)"
            ]
          },
          "metadata": {},
          "execution_count": 34
        }
      ],
      "source": [
        "ag=age0.boneage.unique()\n",
        "ag.shape"
      ]
    },
    {
      "cell_type": "code",
      "execution_count": null,
      "metadata": {
        "id": "BzMi92Ijlto8"
      },
      "outputs": [],
      "source": [
        "train0_df = age0.groupby(['boneage']).apply(lambda x: x.sample(5, replace = True)\n",
        "                                                      ).reset_index(drop = True)"
      ]
    },
    {
      "cell_type": "code",
      "execution_count": null,
      "metadata": {
        "colab": {
          "base_uri": "https://localhost:8080/",
          "height": 424
        },
        "id": "Jlbyxk3Zlto9",
        "outputId": "35aad8bb-11e4-4c27-fe6a-7f24a7be255d"
      },
      "outputs": [
        {
          "output_type": "execute_result",
          "data": {
            "text/plain": [
              "      Unnamed: 0    id  boneage  gender  \\\n",
              "0           1036  4706    2.038       0   \n",
              "1           1036  4706    2.038       0   \n",
              "2           1036  4706    2.038       0   \n",
              "3           1036  4706    2.038       0   \n",
              "4           1036  4706    2.038       0   \n",
              "...          ...   ...      ...     ...   \n",
              "2990        1225  5198  228.100       0   \n",
              "2991        1225  5198  228.100       0   \n",
              "2992        1225  5198  228.100       0   \n",
              "2993        1225  5198  228.100       0   \n",
              "2994        1225  5198  228.100       0   \n",
              "\n",
              "                                                path  \n",
              "0     /content/drive/MyDrive/HAND_SEG_ATLAS/4706.jpg  \n",
              "1     /content/drive/MyDrive/HAND_SEG_ATLAS/4706.jpg  \n",
              "2     /content/drive/MyDrive/HAND_SEG_ATLAS/4706.jpg  \n",
              "3     /content/drive/MyDrive/HAND_SEG_ATLAS/4706.jpg  \n",
              "4     /content/drive/MyDrive/HAND_SEG_ATLAS/4706.jpg  \n",
              "...                                              ...  \n",
              "2990  /content/drive/MyDrive/HAND_SEG_ATLAS/5198.jpg  \n",
              "2991  /content/drive/MyDrive/HAND_SEG_ATLAS/5198.jpg  \n",
              "2992  /content/drive/MyDrive/HAND_SEG_ATLAS/5198.jpg  \n",
              "2993  /content/drive/MyDrive/HAND_SEG_ATLAS/5198.jpg  \n",
              "2994  /content/drive/MyDrive/HAND_SEG_ATLAS/5198.jpg  \n",
              "\n",
              "[2995 rows x 5 columns]"
            ],
            "text/html": [
              "\n",
              "  <div id=\"df-e27b0be3-d469-4d13-b8df-3d8ae279a81a\">\n",
              "    <div class=\"colab-df-container\">\n",
              "      <div>\n",
              "<style scoped>\n",
              "    .dataframe tbody tr th:only-of-type {\n",
              "        vertical-align: middle;\n",
              "    }\n",
              "\n",
              "    .dataframe tbody tr th {\n",
              "        vertical-align: top;\n",
              "    }\n",
              "\n",
              "    .dataframe thead th {\n",
              "        text-align: right;\n",
              "    }\n",
              "</style>\n",
              "<table border=\"1\" class=\"dataframe\">\n",
              "  <thead>\n",
              "    <tr style=\"text-align: right;\">\n",
              "      <th></th>\n",
              "      <th>Unnamed: 0</th>\n",
              "      <th>id</th>\n",
              "      <th>boneage</th>\n",
              "      <th>gender</th>\n",
              "      <th>path</th>\n",
              "    </tr>\n",
              "  </thead>\n",
              "  <tbody>\n",
              "    <tr>\n",
              "      <th>0</th>\n",
              "      <td>1036</td>\n",
              "      <td>4706</td>\n",
              "      <td>2.038</td>\n",
              "      <td>0</td>\n",
              "      <td>/content/drive/MyDrive/HAND_SEG_ATLAS/4706.jpg</td>\n",
              "    </tr>\n",
              "    <tr>\n",
              "      <th>1</th>\n",
              "      <td>1036</td>\n",
              "      <td>4706</td>\n",
              "      <td>2.038</td>\n",
              "      <td>0</td>\n",
              "      <td>/content/drive/MyDrive/HAND_SEG_ATLAS/4706.jpg</td>\n",
              "    </tr>\n",
              "    <tr>\n",
              "      <th>2</th>\n",
              "      <td>1036</td>\n",
              "      <td>4706</td>\n",
              "      <td>2.038</td>\n",
              "      <td>0</td>\n",
              "      <td>/content/drive/MyDrive/HAND_SEG_ATLAS/4706.jpg</td>\n",
              "    </tr>\n",
              "    <tr>\n",
              "      <th>3</th>\n",
              "      <td>1036</td>\n",
              "      <td>4706</td>\n",
              "      <td>2.038</td>\n",
              "      <td>0</td>\n",
              "      <td>/content/drive/MyDrive/HAND_SEG_ATLAS/4706.jpg</td>\n",
              "    </tr>\n",
              "    <tr>\n",
              "      <th>4</th>\n",
              "      <td>1036</td>\n",
              "      <td>4706</td>\n",
              "      <td>2.038</td>\n",
              "      <td>0</td>\n",
              "      <td>/content/drive/MyDrive/HAND_SEG_ATLAS/4706.jpg</td>\n",
              "    </tr>\n",
              "    <tr>\n",
              "      <th>...</th>\n",
              "      <td>...</td>\n",
              "      <td>...</td>\n",
              "      <td>...</td>\n",
              "      <td>...</td>\n",
              "      <td>...</td>\n",
              "    </tr>\n",
              "    <tr>\n",
              "      <th>2990</th>\n",
              "      <td>1225</td>\n",
              "      <td>5198</td>\n",
              "      <td>228.100</td>\n",
              "      <td>0</td>\n",
              "      <td>/content/drive/MyDrive/HAND_SEG_ATLAS/5198.jpg</td>\n",
              "    </tr>\n",
              "    <tr>\n",
              "      <th>2991</th>\n",
              "      <td>1225</td>\n",
              "      <td>5198</td>\n",
              "      <td>228.100</td>\n",
              "      <td>0</td>\n",
              "      <td>/content/drive/MyDrive/HAND_SEG_ATLAS/5198.jpg</td>\n",
              "    </tr>\n",
              "    <tr>\n",
              "      <th>2992</th>\n",
              "      <td>1225</td>\n",
              "      <td>5198</td>\n",
              "      <td>228.100</td>\n",
              "      <td>0</td>\n",
              "      <td>/content/drive/MyDrive/HAND_SEG_ATLAS/5198.jpg</td>\n",
              "    </tr>\n",
              "    <tr>\n",
              "      <th>2993</th>\n",
              "      <td>1225</td>\n",
              "      <td>5198</td>\n",
              "      <td>228.100</td>\n",
              "      <td>0</td>\n",
              "      <td>/content/drive/MyDrive/HAND_SEG_ATLAS/5198.jpg</td>\n",
              "    </tr>\n",
              "    <tr>\n",
              "      <th>2994</th>\n",
              "      <td>1225</td>\n",
              "      <td>5198</td>\n",
              "      <td>228.100</td>\n",
              "      <td>0</td>\n",
              "      <td>/content/drive/MyDrive/HAND_SEG_ATLAS/5198.jpg</td>\n",
              "    </tr>\n",
              "  </tbody>\n",
              "</table>\n",
              "<p>2995 rows × 5 columns</p>\n",
              "</div>\n",
              "      <button class=\"colab-df-convert\" onclick=\"convertToInteractive('df-e27b0be3-d469-4d13-b8df-3d8ae279a81a')\"\n",
              "              title=\"Convert this dataframe to an interactive table.\"\n",
              "              style=\"display:none;\">\n",
              "        \n",
              "  <svg xmlns=\"http://www.w3.org/2000/svg\" height=\"24px\"viewBox=\"0 0 24 24\"\n",
              "       width=\"24px\">\n",
              "    <path d=\"M0 0h24v24H0V0z\" fill=\"none\"/>\n",
              "    <path d=\"M18.56 5.44l.94 2.06.94-2.06 2.06-.94-2.06-.94-.94-2.06-.94 2.06-2.06.94zm-11 1L8.5 8.5l.94-2.06 2.06-.94-2.06-.94L8.5 2.5l-.94 2.06-2.06.94zm10 10l.94 2.06.94-2.06 2.06-.94-2.06-.94-.94-2.06-.94 2.06-2.06.94z\"/><path d=\"M17.41 7.96l-1.37-1.37c-.4-.4-.92-.59-1.43-.59-.52 0-1.04.2-1.43.59L10.3 9.45l-7.72 7.72c-.78.78-.78 2.05 0 2.83L4 21.41c.39.39.9.59 1.41.59.51 0 1.02-.2 1.41-.59l7.78-7.78 2.81-2.81c.8-.78.8-2.07 0-2.86zM5.41 20L4 18.59l7.72-7.72 1.47 1.35L5.41 20z\"/>\n",
              "  </svg>\n",
              "      </button>\n",
              "      \n",
              "  <style>\n",
              "    .colab-df-container {\n",
              "      display:flex;\n",
              "      flex-wrap:wrap;\n",
              "      gap: 12px;\n",
              "    }\n",
              "\n",
              "    .colab-df-convert {\n",
              "      background-color: #E8F0FE;\n",
              "      border: none;\n",
              "      border-radius: 50%;\n",
              "      cursor: pointer;\n",
              "      display: none;\n",
              "      fill: #1967D2;\n",
              "      height: 32px;\n",
              "      padding: 0 0 0 0;\n",
              "      width: 32px;\n",
              "    }\n",
              "\n",
              "    .colab-df-convert:hover {\n",
              "      background-color: #E2EBFA;\n",
              "      box-shadow: 0px 1px 2px rgba(60, 64, 67, 0.3), 0px 1px 3px 1px rgba(60, 64, 67, 0.15);\n",
              "      fill: #174EA6;\n",
              "    }\n",
              "\n",
              "    [theme=dark] .colab-df-convert {\n",
              "      background-color: #3B4455;\n",
              "      fill: #D2E3FC;\n",
              "    }\n",
              "\n",
              "    [theme=dark] .colab-df-convert:hover {\n",
              "      background-color: #434B5C;\n",
              "      box-shadow: 0px 1px 3px 1px rgba(0, 0, 0, 0.15);\n",
              "      filter: drop-shadow(0px 1px 2px rgba(0, 0, 0, 0.3));\n",
              "      fill: #FFFFFF;\n",
              "    }\n",
              "  </style>\n",
              "\n",
              "      <script>\n",
              "        const buttonEl =\n",
              "          document.querySelector('#df-e27b0be3-d469-4d13-b8df-3d8ae279a81a button.colab-df-convert');\n",
              "        buttonEl.style.display =\n",
              "          google.colab.kernel.accessAllowed ? 'block' : 'none';\n",
              "\n",
              "        async function convertToInteractive(key) {\n",
              "          const element = document.querySelector('#df-e27b0be3-d469-4d13-b8df-3d8ae279a81a');\n",
              "          const dataTable =\n",
              "            await google.colab.kernel.invokeFunction('convertToInteractive',\n",
              "                                                     [key], {});\n",
              "          if (!dataTable) return;\n",
              "\n",
              "          const docLinkHtml = 'Like what you see? Visit the ' +\n",
              "            '<a target=\"_blank\" href=https://colab.research.google.com/notebooks/data_table.ipynb>data table notebook</a>'\n",
              "            + ' to learn more about interactive tables.';\n",
              "          element.innerHTML = '';\n",
              "          dataTable['output_type'] = 'display_data';\n",
              "          await google.colab.output.renderOutput(dataTable, element);\n",
              "          const docLink = document.createElement('div');\n",
              "          docLink.innerHTML = docLinkHtml;\n",
              "          element.appendChild(docLink);\n",
              "        }\n",
              "      </script>\n",
              "    </div>\n",
              "  </div>\n",
              "  "
            ]
          },
          "metadata": {},
          "execution_count": 36
        }
      ],
      "source": [
        "train0_df"
      ]
    },
    {
      "cell_type": "code",
      "execution_count": null,
      "metadata": {
        "colab": {
          "base_uri": "https://localhost:8080/"
        },
        "id": "6OLfe12Qlto-",
        "outputId": "771e4ad6-e263-4978-9dcb-2a345779a34c"
      },
      "outputs": [
        {
          "output_type": "stream",
          "name": "stdout",
          "text": [
            "train 1677 validation 599 719\n"
          ]
        }
      ],
      "source": [
        "from sklearn.model_selection import train_test_split\n",
        "train_test0, valid0 = train_test_split(train0_df, \n",
        "                                   test_size = 0.2, \n",
        "                                   random_state = 2018,\n",
        "                                   stratify = train0_df['boneage'])\n",
        "#print('train', raw_train_df.shape[0], 'validation', valid_df.shape[0])\n",
        "train0, test0 = train_test_split(train_test0, \n",
        "                                   test_size = 0.3, \n",
        "                                   random_state = 2018,\n",
        "                                   stratify = train_test0['boneage'])\n",
        "print('train', train0.shape[0], 'validation', valid0.shape[0],test0.shape[0])"
      ]
    },
    {
      "cell_type": "code",
      "execution_count": null,
      "metadata": {
        "id": "9nFepXTmlto-"
      },
      "outputs": [],
      "source": [
        "from keras.preprocessing.image import ImageDataGenerator\n",
        "IMG_SIZE = (300,300)\n",
        "core_idg = ImageDataGenerator(rotation_range=20,width_shift_range=0.15,height_shift_range=0.15,zoom_range=0.2,horizontal_flip=True)"
      ]
    },
    {
      "cell_type": "code",
      "execution_count": null,
      "metadata": {
        "id": "_7iQy9cblto_"
      },
      "outputs": [],
      "source": [
        "def flow_from_dataframe(img_data_gen, in_df, path_col, y_col, **dflow_args):\n",
        "    base_dir = os.path.dirname(in_df[path_col].values[0])\n",
        "    print('## Ignore next message from keras, values are replaced anyways')\n",
        "    df_gen = img_data_gen.flow_from_directory(base_dir, \n",
        "                                     class_mode = 'sparse',\n",
        "                                    **dflow_args)\n",
        "    df_gen.filenames = in_df[path_col].values\n",
        "    df_gen.filepaths.extend(df_gen.filenames)\n",
        "    df_gen.classes = np.stack(in_df[y_col].values)\n",
        "    df_gen.samples = in_df.shape[0]\n",
        "    df_gen.n = in_df.shape[0]\n",
        "    df_gen._set_index_array()\n",
        "    df_gen.directory = '' \n",
        "    gen=np.ones(df_gen.samples)\n",
        "    print('Reinserting dataframe: {} images'.format(in_df.shape[0]))\n",
        "    #print(df_gen.samples)\n",
        "    #yield (df_gen,gen)\n",
        "    return df_gen"
      ]
    },
    {
      "cell_type": "code",
      "execution_count": null,
      "metadata": {
        "colab": {
          "base_uri": "https://localhost:8080/"
        },
        "id": "neq1ir7ylto_",
        "outputId": "0e0ab380-f5a6-4b4e-b298-c8eeeb68681f"
      },
      "outputs": [
        {
          "output_type": "stream",
          "name": "stdout",
          "text": [
            "## Ignore next message from keras, values are replaced anyways\n",
            "Found 0 images belonging to 0 classes.\n",
            "Reinserting dataframe: 1677 images\n"
          ]
        }
      ],
      "source": [
        "train0_gen = flow_from_dataframe( core_idg, train0, \n",
        "                             path_col = 'path',\n",
        "                            y_col = 'boneage', \n",
        "                            target_size = IMG_SIZE,\n",
        "                             color_mode = 'rgb',\n",
        "                            batch_size = 1677)"
      ]
    },
    {
      "cell_type": "code",
      "execution_count": null,
      "metadata": {
        "colab": {
          "base_uri": "https://localhost:8080/"
        },
        "id": "OzomkT1ZltpA",
        "outputId": "cd17cbba-77e4-4f81-c91d-814c7df939ee"
      },
      "outputs": [
        {
          "output_type": "stream",
          "name": "stdout",
          "text": [
            "## Ignore next message from keras, values are replaced anyways\n",
            "Found 0 images belonging to 0 classes.\n",
            "Reinserting dataframe: 599 images\n"
          ]
        }
      ],
      "source": [
        "valid0_gen = flow_from_dataframe(core_idg, valid0, \n",
        "                             path_col = 'path',\n",
        "                            y_col = 'boneage', \n",
        "                            target_size = IMG_SIZE,\n",
        "                             color_mode = 'rgb',\n",
        "                            batch_size = 599) "
      ]
    },
    {
      "cell_type": "code",
      "execution_count": null,
      "metadata": {
        "id": "Aw2JaZZwltpA"
      },
      "outputs": [],
      "source": [
        "\n",
        "testcore_idg = ImageDataGenerator()"
      ]
    },
    {
      "cell_type": "code",
      "execution_count": null,
      "metadata": {
        "colab": {
          "base_uri": "https://localhost:8080/"
        },
        "id": "Bu7kCWNYltpB",
        "outputId": "f4520d8a-6db7-4617-c4f1-c8b68125c660"
      },
      "outputs": [
        {
          "output_type": "stream",
          "name": "stdout",
          "text": [
            "## Ignore next message from keras, values are replaced anyways\n",
            "Found 0 images belonging to 0 classes.\n",
            "Reinserting dataframe: 719 images\n"
          ]
        }
      ],
      "source": [
        "test0_gen = flow_from_dataframe(testcore_idg, \n",
        "                              test0, \n",
        "                             path_col = 'path',\n",
        "                            y_col = 'boneage', \n",
        "                            target_size = IMG_SIZE,\n",
        "                             color_mode = 'rgb',\n",
        "                            batch_size = 719)"
      ]
    },
    {
      "cell_type": "code",
      "execution_count": null,
      "metadata": {
        "id": "6XxaEBd5ltpC"
      },
      "outputs": [],
      "source": [
        "train0_X, train0_Y = next(train0_gen)"
      ]
    },
    {
      "cell_type": "code",
      "execution_count": null,
      "metadata": {
        "colab": {
          "base_uri": "https://localhost:8080/"
        },
        "id": "RDhVkpIBltpC",
        "outputId": "8dfe927f-cb4d-448f-d23e-516ed36f183e"
      },
      "outputs": [
        {
          "output_type": "execute_result",
          "data": {
            "text/plain": [
              "(1677, 300, 300, 3)"
            ]
          },
          "metadata": {},
          "execution_count": 45
        }
      ],
      "source": [
        "train0_X.shape"
      ]
    },
    {
      "cell_type": "code",
      "execution_count": null,
      "metadata": {
        "id": "-xcDDZsvltpD"
      },
      "outputs": [],
      "source": [
        "valid0_X, valid0_Y = next(valid0_gen)"
      ]
    },
    {
      "cell_type": "code",
      "execution_count": null,
      "metadata": {
        "colab": {
          "base_uri": "https://localhost:8080/"
        },
        "id": "Oc0hn0VeltpD",
        "outputId": "503ae2cc-efad-4e92-8345-5fc64e0d6c4b"
      },
      "outputs": [
        {
          "output_type": "execute_result",
          "data": {
            "text/plain": [
              "(599, 300, 300, 3)"
            ]
          },
          "metadata": {},
          "execution_count": 46
        }
      ],
      "source": [
        "valid0_X.shape"
      ]
    },
    {
      "cell_type": "code",
      "execution_count": null,
      "metadata": {
        "id": "ChATCHw-ltpE"
      },
      "outputs": [],
      "source": [
        "test0_X, test0_Y = next(test0_gen)"
      ]
    },
    {
      "cell_type": "code",
      "execution_count": null,
      "metadata": {
        "colab": {
          "base_uri": "https://localhost:8080/"
        },
        "id": "Jz5uNv-kltpF",
        "outputId": "c0f77e91-4d32-4c66-c999-36f4b66e2877"
      },
      "outputs": [
        {
          "output_type": "execute_result",
          "data": {
            "text/plain": [
              "(719, 300, 300, 3)"
            ]
          },
          "metadata": {},
          "execution_count": 48
        }
      ],
      "source": [
        "test0_X.shape"
      ]
    },
    {
      "cell_type": "code",
      "source": [
        "train_x=[]\n",
        "train_y=[]\n",
        "train_gen=[]\n",
        "i=0\n",
        "for k in range(67):\n",
        "  for j in range(25):\n",
        "    train_x.append(train1_X[i])\n",
        "    train_y.append(train1_Y[i])\n",
        "    train_gen.append(1)\n",
        "    train_x.append(train0_X[i])\n",
        "    train_y.append(train0_Y[i])\n",
        "    train_gen.append(0)\n",
        "    i=i+1\n",
        "print(i)  \n",
        "i=1675\n",
        "for k in range(5):\n",
        "    train_x.append(train1_X[i])\n",
        "    train_y.append(train1_Y[i])\n",
        "    train_gen.append(1)\n",
        "    i=i+1\n",
        "i=1675\n",
        "for k in range(2):\n",
        "    train_x.append(train0_X[i])\n",
        "    train_y.append(train0_Y[i])\n",
        "    train_gen.append(0)\n",
        "    i=i+1\n"
      ],
      "metadata": {
        "colab": {
          "base_uri": "https://localhost:8080/"
        },
        "id": "M8wdWoT1zmyt",
        "outputId": "6d5a85b6-4480-4dd1-a3d7-5631b8530137"
      },
      "execution_count": null,
      "outputs": [
        {
          "output_type": "stream",
          "name": "stdout",
          "text": [
            "1675\n"
          ]
        }
      ]
    },
    {
      "cell_type": "code",
      "source": [
        "train_x=np.asarray(train_x)\n",
        "train_x=train_x/255\n",
        "train_y=np.asarray(train_y)\n",
        "train_gen=np.asarray(train_gen)"
      ],
      "metadata": {
        "id": "-sWC9AZj3Vxn"
      },
      "execution_count": null,
      "outputs": []
    },
    {
      "cell_type": "code",
      "source": [
        "train_x.shape"
      ],
      "metadata": {
        "colab": {
          "base_uri": "https://localhost:8080/"
        },
        "id": "JxSkd2TqDz8X",
        "outputId": "e3806e3f-ac8d-4eed-ab82-e628b258603c"
      },
      "execution_count": null,
      "outputs": [
        {
          "output_type": "execute_result",
          "data": {
            "text/plain": [
              "(3357, 300, 300, 3)"
            ]
          },
          "metadata": {},
          "execution_count": 68
        }
      ]
    },
    {
      "cell_type": "code",
      "source": [
        "valid_x=[]\n",
        "valid_y=[]\n",
        "valid_gen=[]\n",
        "i=0\n",
        "for k in range(37):\n",
        "  for j in range(15):\n",
        "    valid_x.append(valid1_X[i])\n",
        "    valid_y.append(valid1_Y[i])\n",
        "    valid_gen.append(1)\n",
        "    valid_x.append(valid0_X[i])\n",
        "    valid_y.append(valid0_Y[i])\n",
        "    valid_gen.append(0)\n",
        "    i=i+1\n",
        "print(i)  \n",
        "i=555\n",
        "for k in range(5):\n",
        "    valid_x.append(valid1_X[i])\n",
        "    valid_y.append(valid1_Y[i])\n",
        "    valid_gen.append(1)\n",
        "    i=i+1\n",
        "i=555\n",
        "for k in range(4):\n",
        "    valid_x.append(valid0_X[i])\n",
        "    valid_y.append(valid0_Y[i])\n",
        "    valid_gen.append(0)\n",
        "    i=i+1\n"
      ],
      "metadata": {
        "colab": {
          "base_uri": "https://localhost:8080/"
        },
        "id": "tHORQlNA0ZLK",
        "outputId": "522911ee-db17-49b0-9e8f-eb023e0659cc"
      },
      "execution_count": null,
      "outputs": [
        {
          "output_type": "stream",
          "name": "stdout",
          "text": [
            "555\n"
          ]
        }
      ]
    },
    {
      "cell_type": "code",
      "source": [
        "valid_x=np.asarray(valid_x)\n",
        "valid_x=valid_x/255\n",
        "valid_y=np.asarray(valid_y)\n",
        "valid_gen=np.asarray(valid_gen)"
      ],
      "metadata": {
        "id": "a533nesY3Zcg"
      },
      "execution_count": null,
      "outputs": []
    },
    {
      "cell_type": "code",
      "source": [
        "test_x=[]\n",
        "test_y=[]\n",
        "test_gen=[]\n",
        "i=0\n",
        "for k in range(35):\n",
        "  for j in range(20):\n",
        "    test_x.append(test1_X[i])\n",
        "    test_y.append(test1_Y[i])\n",
        "    test_gen.append(1)\n",
        "    test_x.append(test0_X[i])\n",
        "    test_y.append(test0_Y[i])\n",
        "    test_gen.append(0)\n",
        "    i=i+1\n",
        "print(i)  \n",
        "i=700\n",
        "for k in range(10):\n",
        "    test_x.append(test1_X[i])\n",
        "    test_y.append(test1_Y[i])\n",
        "    test_gen.append(1)\n",
        "    i=i+1\n",
        "i=700\n",
        "for k in range(9):\n",
        "    test_x.append(test0_X[i])\n",
        "    test_y.append(test0_Y[i])\n",
        "    test_gen.append(0)\n",
        "    i=i+1"
      ],
      "metadata": {
        "colab": {
          "base_uri": "https://localhost:8080/"
        },
        "id": "hHBvaTSg1w2g",
        "outputId": "8aa3a784-cc79-4c1d-a6af-8da845b905fc"
      },
      "execution_count": null,
      "outputs": [
        {
          "output_type": "stream",
          "name": "stdout",
          "text": [
            "700\n"
          ]
        }
      ]
    },
    {
      "cell_type": "code",
      "source": [
        "test_x=np.asarray(test_x)\n",
        "test_x=test_x/255\n",
        "test_y=np.asarray(test_y)\n",
        "test_gen=np.asarray(test_gen)"
      ],
      "metadata": {
        "id": "mXWtsgeg3REh"
      },
      "execution_count": null,
      "outputs": []
    },
    {
      "cell_type": "code",
      "execution_count": null,
      "metadata": {
        "colab": {
          "base_uri": "https://localhost:8080/"
        },
        "id": "k6KlM3hAsMwE",
        "outputId": "15816781-3335-4833-be99-9539a0d94f59"
      },
      "outputs": [
        {
          "output_type": "stream",
          "name": "stdout",
          "text": [
            "(3357, 2, 114)\n"
          ]
        }
      ],
      "source": [
        "\n",
        "age1=[]\n",
        "for i in range(114):\n",
        "    age1.append(i)\n",
        "age2=[]\n",
        "for i in range (114,228):\n",
        "    age2.append(i)\n",
        "age=[]\n",
        "for i in range (1):\n",
        "    age.append(age1)\n",
        "    age.append(age2)\n",
        "age=np.asarray(age)\n",
        "agetr=[]\n",
        "for i in range(3357):\n",
        "    agetr.append(age)\n",
        "agetr=np.asarray(agetr)\n",
        "print(agetr.shape)"
      ]
    },
    {
      "cell_type": "code",
      "execution_count": null,
      "metadata": {
        "colab": {
          "base_uri": "https://localhost:8080/"
        },
        "id": "b4y4KxI-sVqD",
        "outputId": "69f5a96a-3b7a-4759-e31d-14a47a4dc1eb"
      },
      "outputs": [
        {
          "output_type": "stream",
          "name": "stdout",
          "text": [
            "(1119, 2, 114)\n"
          ]
        }
      ],
      "source": [
        "agev=[]\n",
        "for i in range(1119):\n",
        "    agev.append(age)\n",
        "agev=np.asarray(agev)\n",
        "print(agev.shape)"
      ]
    },
    {
      "cell_type": "code",
      "execution_count": null,
      "metadata": {
        "colab": {
          "base_uri": "https://localhost:8080/"
        },
        "id": "gi5djQM_sarK",
        "outputId": "9592cf08-5aeb-44d2-d4b3-c3d99b4b8f8e"
      },
      "outputs": [
        {
          "output_type": "stream",
          "name": "stdout",
          "text": [
            "(1419, 2, 114)\n"
          ]
        }
      ],
      "source": [
        "aget=[]\n",
        "for i in range(1419):\n",
        "    aget.append(age)\n",
        "aget=np.asarray(aget)\n",
        "print(aget.shape)"
      ]
    },
    {
      "cell_type": "code",
      "source": [
        "#from numba import cuda \n",
        "#device = cuda.get_current_device()\n",
        "#device.reset()\n"
      ],
      "metadata": {
        "id": "mWCK5zjUcMqg"
      },
      "execution_count": null,
      "outputs": []
    },
    {
      "cell_type": "code",
      "source": [
        "from tensorflow.keras.applications.resnet50 import ResNet50\n",
        "from keras.applications.vgg19 import VGG19\n",
        "from keras.applications.inception_v3 import InceptionV3\n",
        "from keras.applications.xception import Xception\n",
        "from keras.preprocessing import image\n",
        "from keras.models import Model, load_model\n",
        "from keras.layers import Flatten, Dense, Input, Reshape, Lambda,Conv2D\n",
        "import tensorflow as tf\n",
        "from keras import backend as K\n",
        "import pickle\n",
        "import numpy as np\n",
        "import matplotlib.pyplot as plt\n",
        "import keras\n",
        "#from func_utils import *\n",
        "import os\n",
        "#os.environ[\"CUDA_VISIBLE_DEVICES\"]=\"2\"\n",
        "#os.environ['OMP_NUM_THREADS']='6'\n",
        "batch_size = 4\n",
        "epochs = 30"
      ],
      "metadata": {
        "id": "clWCR9Dv6ICi"
      },
      "execution_count": null,
      "outputs": []
    },
    {
      "cell_type": "markdown",
      "source": [
        "#Donot touch-------------------------------------------------------------------------------"
      ],
      "metadata": {
        "id": "-5AeTcnwXy_a"
      }
    },
    {
      "cell_type": "code",
      "source": [
        "#import tensorflow as tf\n",
        "\n",
        "#base_model = InceptionV3(weights='imagenet', include_top=False)\n",
        "#input = Input(shape=(300,300,3),name='input1')\n",
        "input_gender = Input(shape=(1,),dtype='float32',name='input2')\n",
        "input_age = Input(shape=(2,114),dtype='float32',name='input3')\n",
        "output = base_model(input)\n",
        "gender_embedding=Dense(16)(input_gender)\n",
        "print (K.int_shape(output))\n",
        "sq = keras.layers.GlobalAveragePooling2D()(output)\n",
        "print (K.int_shape(sq))\n",
        "sq = keras.layers.Reshape((1,1,2048))(sq)\n",
        "sq = keras.layers.Dense(units=2048,activation=\"sigmoid\")(sq)\n",
        "block = keras.layers.multiply([output,sq])\n",
        "#fine Squeeze and Excitation 1\n",
        "\n",
        "net = keras.layers.add([output,block])\n",
        "net = keras.layers.BatchNormalization()(net)\n",
        "net = keras.layers.Activation(\"relu\")(net)\n",
        "net = keras.layers.MaxPooling2D(pool_size=(2, 2),name=\"block_1\")(net)\n",
        "print (K.int_shape(net))\n",
        "\n",
        "x = keras.layers.MaxPooling2D(pool_size=(4,4))(net)\n",
        "print (K.int_shape(x))\n",
        "x=Flatten()(x)\n",
        "f = keras.layers.Concatenate(axis=1)([x,gender_embedding])\n",
        "f = Dense(256, activation='relu')(f)\n",
        "x =Dense(228,activation='linear')(f)\n",
        "y=Flatten()(input_age)\n",
        "print(y.shape)\n",
        "f = keras.layers.Multiply()([x,y])\n",
        "predictions=Dense(1)(f)\n",
        "\n",
        "#Embedding = keras.layers.Conv2D(256,kernel_size=(2,2),strides=1)(output)\n",
        "#Embedding = keras.layers.AveragePooling2D(pool_size=(7,7))(Embedding)\n",
        "#Embedding = Flatten()(Embedding)\n",
        "#print (K.int_shape(Embedding))\n",
        "#variance = Dense(1)(Embedding)\n",
        "\n",
        "model = Model(inputs=[input,input_gender,input_age], outputs=predictions)\n",
        "for i,layer in enumerate(model.layers):\n",
        "    print (i,layer.name)\n",
        "\n",
        "Adam=tf.keras.optimizers.Adam(lr=0.0001,beta_1=0.9,beta_2=0.999)\n",
        "model.compile(optimizer=Adam, loss='mean_absolute_error', metrics=['MAE'],run_eagerly=True)\n",
        "model.summary()\n",
        "\n",
        "checkpoint =keras.callbacks.ModelCheckpoint(filepath='weights_inv-mul_sq_aug20_loss_dimg.{epoch:02d}-{val_loss:.2f}.hdf5',save_weights_only=True,period=40)\n",
        "#model.fit_generator(DataGen.flow([x_train,gender_train],y_train,batch_size=batch_size),steps_per_epoch=np.ceil(len(y_train)/batch_size),epochs=50,verbose=1,validation_data=([x_valid,gender_valid,agev],y_valid))\n",
        "history=model.fit([train_x,train_gen,agetr],train_y,batch_size=4,epochs=40,verbose=1,validation_data=([valid_x,valid_gen,agev],valid_y),callbacks = [checkpoint])\n",
        "score = model.evaluate([test_x,test_gen,aget],test_y, batch_size=batch_size)\n",
        "print('Test loss:', score[0])\n",
        "print('Test MAE:', score[1])"
      ],
      "metadata": {
        "colab": {
          "base_uri": "https://localhost:8080/"
        },
        "id": "Xplz9kV-Kmn6",
        "outputId": "977ba665-f388-458f-a00d-d32de6b74145"
      },
      "execution_count": null,
      "outputs": [
        {
          "output_type": "stream",
          "name": "stdout",
          "text": [
            "Downloading data from https://storage.googleapis.com/tensorflow/keras-applications/inception_v3/inception_v3_weights_tf_dim_ordering_tf_kernels_notop.h5\n",
            "87910968/87910968 [==============================] - 3s 0us/step\n",
            "(None, 8, 8, 2048)\n",
            "(None, 2048)\n",
            "(None, 4, 4, 2048)\n",
            "(None, 1, 1, 2048)\n",
            "(None, 228)\n",
            "0 input1\n",
            "1 inception_v3\n",
            "2 global_average_pooling2d\n",
            "3 reshape\n",
            "4 dense_1\n",
            "5 multiply\n",
            "6 add\n",
            "7 batch_normalization_94\n",
            "8 activation_94\n",
            "9 block_1\n",
            "10 max_pooling2d_4\n",
            "11 input2\n",
            "12 flatten\n",
            "13 dense\n",
            "14 concatenate_2\n",
            "15 dense_2\n",
            "16 input3\n",
            "17 dense_3\n",
            "18 flatten_1\n",
            "19 multiply_1\n",
            "20 dense_4\n",
            "Model: \"model\"\n",
            "__________________________________________________________________________________________________\n",
            " Layer (type)                   Output Shape         Param #     Connected to                     \n",
            "==================================================================================================\n",
            " input1 (InputLayer)            [(None, 300, 300, 3  0           []                               \n",
            "                                )]                                                                \n",
            "                                                                                                  \n",
            " inception_v3 (Functional)      (None, None, None,   21802784    ['input1[0][0]']                 \n",
            "                                2048)                                                             \n",
            "                                                                                                  \n",
            " global_average_pooling2d (Glob  (None, 2048)        0           ['inception_v3[0][0]']           \n",
            " alAveragePooling2D)                                                                              \n",
            "                                                                                                  \n",
            " reshape (Reshape)              (None, 1, 1, 2048)   0           ['global_average_pooling2d[0][0]'\n",
            "                                                                 ]                                \n",
            "                                                                                                  \n",
            " dense_1 (Dense)                (None, 1, 1, 2048)   4196352     ['reshape[0][0]']                \n",
            "                                                                                                  \n",
            " multiply (Multiply)            (None, 8, 8, 2048)   0           ['inception_v3[0][0]',           \n",
            "                                                                  'dense_1[0][0]']                \n",
            "                                                                                                  \n",
            " add (Add)                      (None, 8, 8, 2048)   0           ['inception_v3[0][0]',           \n",
            "                                                                  'multiply[0][0]']               \n",
            "                                                                                                  \n",
            " batch_normalization_94 (BatchN  (None, 8, 8, 2048)  8192        ['add[0][0]']                    \n",
            " ormalization)                                                                                    \n",
            "                                                                                                  \n",
            " activation_94 (Activation)     (None, 8, 8, 2048)   0           ['batch_normalization_94[0][0]'] \n",
            "                                                                                                  \n",
            " block_1 (MaxPooling2D)         (None, 4, 4, 2048)   0           ['activation_94[0][0]']          \n",
            "                                                                                                  \n",
            " max_pooling2d_4 (MaxPooling2D)  (None, 1, 1, 2048)  0           ['block_1[0][0]']                \n",
            "                                                                                                  \n",
            " input2 (InputLayer)            [(None, 1)]          0           []                               \n",
            "                                                                                                  \n",
            " flatten (Flatten)              (None, 2048)         0           ['max_pooling2d_4[0][0]']        \n",
            "                                                                                                  \n",
            " dense (Dense)                  (None, 16)           32          ['input2[0][0]']                 \n",
            "                                                                                                  \n",
            " concatenate_2 (Concatenate)    (None, 2064)         0           ['flatten[0][0]',                \n",
            "                                                                  'dense[0][0]']                  \n",
            "                                                                                                  \n",
            " dense_2 (Dense)                (None, 256)          528640      ['concatenate_2[0][0]']          \n",
            "                                                                                                  \n",
            " input3 (InputLayer)            [(None, 2, 114)]     0           []                               \n",
            "                                                                                                  \n",
            " dense_3 (Dense)                (None, 228)          58596       ['dense_2[0][0]']                \n",
            "                                                                                                  \n",
            " flatten_1 (Flatten)            (None, 228)          0           ['input3[0][0]']                 \n",
            "                                                                                                  \n",
            " multiply_1 (Multiply)          (None, 228)          0           ['dense_3[0][0]',                \n",
            "                                                                  'flatten_1[0][0]']              \n",
            "                                                                                                  \n",
            " dense_4 (Dense)                (None, 1)            229         ['multiply_1[0][0]']             \n",
            "                                                                                                  \n",
            "==================================================================================================\n",
            "Total params: 26,594,825\n",
            "Trainable params: 26,556,297\n",
            "Non-trainable params: 38,528\n",
            "__________________________________________________________________________________________________\n"
          ]
        },
        {
          "output_type": "stream",
          "name": "stderr",
          "text": [
            "/usr/local/lib/python3.8/dist-packages/keras/optimizers/optimizer_v2/adam.py:110: UserWarning: The `lr` argument is deprecated, use `learning_rate` instead.\n",
            "  super(Adam, self).__init__(name, **kwargs)\n",
            "WARNING:tensorflow:`period` argument is deprecated. Please use `save_freq` to specify the frequency in number of batches seen.\n"
          ]
        },
        {
          "output_type": "stream",
          "name": "stdout",
          "text": [
            "Epoch 1/40\n",
            "840/840 [==============================] - 251s 289ms/step - loss: 103.6129 - MAE: 103.6129 - val_loss: 31.1148 - val_MAE: 31.1148\n",
            "Epoch 2/40\n",
            "840/840 [==============================] - 236s 281ms/step - loss: 30.3915 - MAE: 30.3915 - val_loss: 27.0244 - val_MAE: 27.0244\n",
            "Epoch 3/40\n",
            "840/840 [==============================] - 237s 282ms/step - loss: 25.0934 - MAE: 25.0934 - val_loss: 51.4256 - val_MAE: 51.4256\n",
            "Epoch 4/40\n",
            "840/840 [==============================] - 237s 282ms/step - loss: 21.9713 - MAE: 21.9713 - val_loss: 18.4468 - val_MAE: 18.4468\n",
            "Epoch 5/40\n",
            "840/840 [==============================] - 236s 281ms/step - loss: 19.0855 - MAE: 19.0855 - val_loss: 20.1148 - val_MAE: 20.1148\n",
            "Epoch 6/40\n",
            "840/840 [==============================] - 236s 281ms/step - loss: 18.8881 - MAE: 18.8881 - val_loss: 22.1924 - val_MAE: 22.1924\n",
            "Epoch 7/40\n",
            "840/840 [==============================] - 236s 281ms/step - loss: 16.8052 - MAE: 16.8052 - val_loss: 18.5308 - val_MAE: 18.5308\n",
            "Epoch 8/40\n",
            "840/840 [==============================] - 234s 278ms/step - loss: 16.7772 - MAE: 16.7772 - val_loss: 16.3707 - val_MAE: 16.3707\n",
            "Epoch 9/40\n",
            "840/840 [==============================] - 233s 278ms/step - loss: 15.6286 - MAE: 15.6286 - val_loss: 17.7314 - val_MAE: 17.7314\n",
            "Epoch 10/40\n",
            "840/840 [==============================] - 234s 278ms/step - loss: 15.8117 - MAE: 15.8117 - val_loss: 15.2636 - val_MAE: 15.2636\n",
            "Epoch 11/40\n",
            "840/840 [==============================] - 234s 278ms/step - loss: 15.0315 - MAE: 15.0315 - val_loss: 19.3837 - val_MAE: 19.3837\n",
            "Epoch 12/40\n",
            "840/840 [==============================] - 233s 278ms/step - loss: 13.3325 - MAE: 13.3325 - val_loss: 14.6748 - val_MAE: 14.6748\n",
            "Epoch 13/40\n",
            "840/840 [==============================] - 233s 278ms/step - loss: 13.0228 - MAE: 13.0228 - val_loss: 14.1626 - val_MAE: 14.1626\n",
            "Epoch 14/40\n",
            "840/840 [==============================] - 232s 276ms/step - loss: 12.5749 - MAE: 12.5749 - val_loss: 15.1922 - val_MAE: 15.1922\n",
            "Epoch 15/40\n",
            "840/840 [==============================] - 232s 276ms/step - loss: 12.4523 - MAE: 12.4523 - val_loss: 15.8915 - val_MAE: 15.8915\n",
            "Epoch 16/40\n",
            "840/840 [==============================] - 233s 278ms/step - loss: 11.8879 - MAE: 11.8879 - val_loss: 11.9067 - val_MAE: 11.9067\n",
            "Epoch 17/40\n",
            "840/840 [==============================] - 235s 280ms/step - loss: 11.2954 - MAE: 11.2954 - val_loss: 14.5283 - val_MAE: 14.5283\n",
            "Epoch 18/40\n",
            "840/840 [==============================] - 232s 276ms/step - loss: 11.0589 - MAE: 11.0589 - val_loss: 14.2790 - val_MAE: 14.2790\n",
            "Epoch 19/40\n",
            "840/840 [==============================] - 232s 277ms/step - loss: 10.4990 - MAE: 10.4990 - val_loss: 12.1378 - val_MAE: 12.1378\n",
            "Epoch 20/40\n",
            "840/840 [==============================] - 232s 277ms/step - loss: 10.5452 - MAE: 10.5452 - val_loss: 12.1103 - val_MAE: 12.1103\n",
            "Epoch 21/40\n",
            "840/840 [==============================] - 229s 273ms/step - loss: 9.9942 - MAE: 9.9942 - val_loss: 11.7781 - val_MAE: 11.7781\n",
            "Epoch 22/40\n",
            "840/840 [==============================] - 227s 271ms/step - loss: 9.5213 - MAE: 9.5213 - val_loss: 12.1458 - val_MAE: 12.1458\n",
            "Epoch 23/40\n",
            "840/840 [==============================] - 228s 271ms/step - loss: 9.1316 - MAE: 9.1316 - val_loss: 12.4902 - val_MAE: 12.4902\n",
            "Epoch 24/40\n",
            "840/840 [==============================] - 228s 271ms/step - loss: 8.7665 - MAE: 8.7665 - val_loss: 12.4519 - val_MAE: 12.4519\n",
            "Epoch 25/40\n",
            "840/840 [==============================] - 232s 276ms/step - loss: 8.3691 - MAE: 8.3691 - val_loss: 11.7841 - val_MAE: 11.7841\n",
            "Epoch 26/40\n",
            "840/840 [==============================] - 232s 276ms/step - loss: 8.7378 - MAE: 8.7378 - val_loss: 10.4416 - val_MAE: 10.4416\n",
            "Epoch 27/40\n",
            "840/840 [==============================] - 229s 273ms/step - loss: 8.2494 - MAE: 8.2494 - val_loss: 10.7233 - val_MAE: 10.7233\n",
            "Epoch 28/40\n",
            "840/840 [==============================] - 229s 272ms/step - loss: 8.2538 - MAE: 8.2538 - val_loss: 11.6702 - val_MAE: 11.6702\n",
            "Epoch 29/40\n",
            "840/840 [==============================] - 228s 272ms/step - loss: 8.0141 - MAE: 8.0141 - val_loss: 10.8423 - val_MAE: 10.8423\n",
            "Epoch 30/40\n",
            "840/840 [==============================] - 228s 272ms/step - loss: 8.1053 - MAE: 8.1053 - val_loss: 9.7833 - val_MAE: 9.7833\n",
            "Epoch 31/40\n",
            "840/840 [==============================] - 228s 272ms/step - loss: 7.4922 - MAE: 7.4922 - val_loss: 9.6833 - val_MAE: 9.6833\n",
            "Epoch 32/40\n",
            "840/840 [==============================] - 227s 270ms/step - loss: 7.3138 - MAE: 7.3138 - val_loss: 13.1190 - val_MAE: 13.1190\n",
            "Epoch 33/40\n",
            "840/840 [==============================] - 226s 269ms/step - loss: 7.2073 - MAE: 7.2073 - val_loss: 10.5562 - val_MAE: 10.5562\n",
            "Epoch 34/40\n",
            "840/840 [==============================] - 237s 283ms/step - loss: 6.6504 - MAE: 6.6504 - val_loss: 9.5284 - val_MAE: 9.5284\n",
            "Epoch 35/40\n",
            "840/840 [==============================] - 244s 291ms/step - loss: 6.7944 - MAE: 6.7944 - val_loss: 12.0282 - val_MAE: 12.0282\n",
            "Epoch 36/40\n",
            "840/840 [==============================] - 239s 284ms/step - loss: 6.7319 - MAE: 6.7319 - val_loss: 9.8376 - val_MAE: 9.8376\n",
            "Epoch 37/40\n",
            "840/840 [==============================] - 249s 296ms/step - loss: 6.7146 - MAE: 6.7146 - val_loss: 9.7032 - val_MAE: 9.7032\n",
            "Epoch 38/40\n",
            "840/840 [==============================] - 245s 292ms/step - loss: 6.1254 - MAE: 6.1254 - val_loss: 9.4672 - val_MAE: 9.4672\n",
            "Epoch 39/40\n",
            "840/840 [==============================] - 236s 281ms/step - loss: 6.3684 - MAE: 6.3684 - val_loss: 10.2918 - val_MAE: 10.2918\n",
            "Epoch 40/40\n",
            "840/840 [==============================] - 228s 272ms/step - loss: 6.1163 - MAE: 6.1163 - val_loss: 9.2464 - val_MAE: 9.2464\n",
            "355/355 [==============================] - 37s 104ms/step - loss: 10.1209 - MAE: 10.1209\n",
            "Test loss: 10.120931625366211\n",
            "Test MAE: 10.120931625366211\n"
          ]
        }
      ]
    },
    {
      "cell_type": "code",
      "source": [
        "#plt.plot(history.history['loss'])\n",
        "#plt.plot(history.history['val_loss'])\n",
        "plt.title('inv-mul_sq_aug Model loss')\n",
        "plt.ylabel('Loss')\n",
        "plt.xlabel('Epoch')\n",
        "plt.legend(['Train', 'Validation'], loc='upper left')\n",
        "plt.show()"
      ],
      "metadata": {
        "colab": {
          "base_uri": "https://localhost:8080/",
          "height": 295
        },
        "id": "1KbjiSZyKqG_",
        "outputId": "2b792678-82d6-442d-d32a-22a4b00758e5"
      },
      "execution_count": null,
      "outputs": [
        {
          "output_type": "display_data",
          "data": {
            "text/plain": [
              "<Figure size 432x288 with 1 Axes>"
            ],
            "image/png": "[encoded data removed]"
          },
          "metadata": {
            "needs_background": "light"
          }
        }
      ]
    },
    {
      "cell_type": "markdown",
      "source": [
        "#donot touch until up__________________________________________________________"
      ],
      "metadata": {
        "id": "rbCPhBodX5ss"
      }
    },
    {
      "cell_type": "markdown",
      "source": [
        "-------run1-------------------"
      ],
      "metadata": {
        "id": "RW4dx4OfNZOV"
      }
    },
    {
      "cell_type": "code",
      "source": [
        "#import tensorflow as tf\n",
        "\n",
        "#base_model = InceptionV3(weights='imagenet', include_top=False)\n",
        "#input = Input(shape=(300,300,3),name='input1')\n",
        "input_gender = Input(shape=(1,),dtype='float32',name='input2')\n",
        "input_age = Input(shape=(2,114),dtype='float32',name='input3')\n",
        "output = base_model(input)\n",
        "gender_embedding=Dense(16)(input_gender)\n",
        "print (K.int_shape(output))\n",
        "sq = keras.layers.GlobalAveragePooling2D()(output)\n",
        "print (K.int_shape(sq))\n",
        "sq = keras.layers.Reshape((1,1,2048))(sq)\n",
        "sq = keras.layers.Dense(units=2048,activation=\"sigmoid\")(sq)\n",
        "block = keras.layers.multiply([output,sq])\n",
        "#fine Squeeze and Excitation 1\n",
        "\n",
        "net = keras.layers.add([output,block])\n",
        "net = keras.layers.BatchNormalization()(net)\n",
        "net = keras.layers.Activation(\"relu\")(net)\n",
        "net = keras.layers.MaxPooling2D(pool_size=(2, 2),name=\"block_1\")(net)\n",
        "print (K.int_shape(net))\n",
        "\n",
        "x = keras.layers.MaxPooling2D(pool_size=(4,4))(net)\n",
        "print (K.int_shape(x))\n",
        "f=Flatten()(x)\n",
        "f = Dense(256, activation='relu')(f)\n",
        "x =Dense(228,activation='linear')(f)\n",
        "y=Flatten()(input_age)\n",
        "print(y.shape)\n",
        "f = keras.layers.Multiply()([x,y])\n",
        "f = keras.layers.Concatenate(axis=1)([f,gender_embedding])\n",
        "predictions=Dense(1)(f)\n",
        "\n",
        "#Embedding = keras.layers.Conv2D(256,kernel_size=(2,2),strides=1)(output)\n",
        "#Embedding = keras.layers.AveragePooling2D(pool_size=(7,7))(Embedding)\n",
        "#Embedding = Flatten()(Embedding)\n",
        "#print (K.int_shape(Embedding))\n",
        "#variance = Dense(1)(Embedding)\n",
        "\n",
        "model = Model(inputs=[input,input_gender,input_age], outputs=predictions)\n",
        "for i,layer in enumerate(model.layers):\n",
        "    print (i,layer.name)\n",
        "\n",
        "Adam=tf.keras.optimizers.Adam(lr=0.0001,beta_1=0.9,beta_2=0.999)\n",
        "model.compile(optimizer=Adam, loss='mean_absolute_error', metrics=['MAE'],run_eagerly=True)\n",
        "model.summary()\n",
        "\n",
        "checkpoint =keras.callbacks.ModelCheckpoint(filepath='weights_inv-mul_sq_aug20_loss_dimg.{epoch:02d}-{val_loss:.2f}.hdf5',save_weights_only=True,period=40)\n",
        "#model.fit_generator(DataGen.flow([x_train,gender_train],y_train,batch_size=batch_size),steps_per_epoch=np.ceil(len(y_train)/batch_size),epochs=50,verbose=1,validation_data=([x_valid,gender_valid,agev],y_valid))\n",
        "history=model.fit([train_x,train_gen,agetr],train_y,batch_size=4,epochs=40,verbose=1,validation_data=([valid_x,valid_gen,agev],valid_y),callbacks = [checkpoint])\n",
        "score = model.evaluate([test_x,test_gen,aget],test_y, batch_size=batch_size)\n",
        "print('Test loss:', score[0])\n",
        "print('Test MAE:', score[1])"
      ],
      "metadata": {
        "id": "_b8wrpiUXcw3",
        "colab": {
          "base_uri": "https://localhost:8080/"
        },
        "outputId": "eb9eeb19-2d70-4a04-cf65-22f8f0ca5cfb"
      },
      "execution_count": null,
      "outputs": [
        {
          "output_type": "stream",
          "name": "stdout",
          "text": [
            "Downloading data from https://storage.googleapis.com/tensorflow/keras-applications/inception_v3/inception_v3_weights_tf_dim_ordering_tf_kernels_notop.h5\n",
            "87910968/87910968 [==============================] - 1s 0us/step\n",
            "(None, 8, 8, 2048)\n",
            "(None, 2048)\n",
            "(None, 4, 4, 2048)\n",
            "(None, 1, 1, 2048)\n",
            "(None, 228)\n",
            "0 input1\n",
            "1 inception_v3\n",
            "2 global_average_pooling2d\n",
            "3 reshape\n",
            "4 dense_1\n",
            "5 multiply\n",
            "6 add\n",
            "7 batch_normalization_94\n",
            "8 activation_94\n",
            "9 block_1\n",
            "10 max_pooling2d_4\n",
            "11 flatten\n",
            "12 dense_2\n",
            "13 input3\n",
            "14 dense_3\n",
            "15 flatten_1\n",
            "16 input2\n",
            "17 multiply_1\n",
            "18 dense\n",
            "19 concatenate_2\n",
            "20 dense_4\n",
            "Model: \"model\"\n",
            "__________________________________________________________________________________________________\n",
            " Layer (type)                   Output Shape         Param #     Connected to                     \n",
            "==================================================================================================\n",
            " input1 (InputLayer)            [(None, 300, 300, 3  0           []                               \n",
            "                                )]                                                                \n",
            "                                                                                                  \n",
            " inception_v3 (Functional)      (None, None, None,   21802784    ['input1[0][0]']                 \n",
            "                                2048)                                                             \n",
            "                                                                                                  \n",
            " global_average_pooling2d (Glob  (None, 2048)        0           ['inception_v3[0][0]']           \n",
            " alAveragePooling2D)                                                                              \n",
            "                                                                                                  \n",
            " reshape (Reshape)              (None, 1, 1, 2048)   0           ['global_average_pooling2d[0][0]'\n",
            "                                                                 ]                                \n",
            "                                                                                                  \n",
            " dense_1 (Dense)                (None, 1, 1, 2048)   4196352     ['reshape[0][0]']                \n",
            "                                                                                                  \n",
            " multiply (Multiply)            (None, 8, 8, 2048)   0           ['inception_v3[0][0]',           \n",
            "                                                                  'dense_1[0][0]']                \n",
            "                                                                                                  \n",
            " add (Add)                      (None, 8, 8, 2048)   0           ['inception_v3[0][0]',           \n",
            "                                                                  'multiply[0][0]']               \n",
            "                                                                                                  \n",
            " batch_normalization_94 (BatchN  (None, 8, 8, 2048)  8192        ['add[0][0]']                    \n",
            " ormalization)                                                                                    \n",
            "                                                                                                  \n",
            " activation_94 (Activation)     (None, 8, 8, 2048)   0           ['batch_normalization_94[0][0]'] \n",
            "                                                                                                  \n",
            " block_1 (MaxPooling2D)         (None, 4, 4, 2048)   0           ['activation_94[0][0]']          \n",
            "                                                                                                  \n",
            " max_pooling2d_4 (MaxPooling2D)  (None, 1, 1, 2048)  0           ['block_1[0][0]']                \n",
            "                                                                                                  \n",
            " flatten (Flatten)              (None, 2048)         0           ['max_pooling2d_4[0][0]']        \n",
            "                                                                                                  \n",
            " dense_2 (Dense)                (None, 256)          524544      ['flatten[0][0]']                \n",
            "                                                                                                  \n",
            " input3 (InputLayer)            [(None, 2, 114)]     0           []                               \n",
            "                                                                                                  \n",
            " dense_3 (Dense)                (None, 228)          58596       ['dense_2[0][0]']                \n",
            "                                                                                                  \n",
            " flatten_1 (Flatten)            (None, 228)          0           ['input3[0][0]']                 \n",
            "                                                                                                  \n",
            " input2 (InputLayer)            [(None, 1)]          0           []                               \n",
            "                                                                                                  \n",
            " multiply_1 (Multiply)          (None, 228)          0           ['dense_3[0][0]',                \n",
            "                                                                  'flatten_1[0][0]']              \n",
            "                                                                                                  \n",
            " dense (Dense)                  (None, 16)           32          ['input2[0][0]']                 \n",
            "                                                                                                  \n",
            " concatenate_2 (Concatenate)    (None, 244)          0           ['multiply_1[0][0]',             \n",
            "                                                                  'dense[0][0]']                  \n",
            "                                                                                                  \n",
            " dense_4 (Dense)                (None, 1)            245         ['concatenate_2[0][0]']          \n",
            "                                                                                                  \n",
            "==================================================================================================\n",
            "Total params: 26,590,745\n",
            "Trainable params: 26,552,217\n",
            "Non-trainable params: 38,528\n",
            "__________________________________________________________________________________________________\n"
          ]
        },
        {
          "output_type": "stream",
          "name": "stderr",
          "text": [
            "/usr/local/lib/python3.8/dist-packages/keras/optimizers/optimizer_v2/adam.py:110: UserWarning: The `lr` argument is deprecated, use `learning_rate` instead.\n",
            "  super(Adam, self).__init__(name, **kwargs)\n",
            "WARNING:tensorflow:`period` argument is deprecated. Please use `save_freq` to specify the frequency in number of batches seen.\n"
          ]
        },
        {
          "output_type": "stream",
          "name": "stdout",
          "text": [
            "Epoch 1/40\n",
            "840/840 [==============================] - 239s 273ms/step - loss: 83.3246 - MAE: 83.3246 - val_loss: 28.9323 - val_MAE: 28.9323\n",
            "Epoch 2/40\n",
            "840/840 [==============================] - 227s 270ms/step - loss: 30.3819 - MAE: 30.3819 - val_loss: 21.9624 - val_MAE: 21.9624\n",
            "Epoch 3/40\n",
            "840/840 [==============================] - 227s 270ms/step - loss: 25.6515 - MAE: 25.6515 - val_loss: 19.8334 - val_MAE: 19.8334\n",
            "Epoch 4/40\n",
            "840/840 [==============================] - 229s 272ms/step - loss: 21.1072 - MAE: 21.1072 - val_loss: 29.9866 - val_MAE: 29.9866\n",
            "Epoch 5/40\n",
            "840/840 [==============================] - 227s 271ms/step - loss: 19.1393 - MAE: 19.1393 - val_loss: 19.2781 - val_MAE: 19.2781\n",
            "Epoch 6/40\n",
            "840/840 [==============================] - 227s 270ms/step - loss: 18.1657 - MAE: 18.1657 - val_loss: 15.8336 - val_MAE: 15.8336\n",
            "Epoch 7/40\n",
            "840/840 [==============================] - 226s 270ms/step - loss: 17.3589 - MAE: 17.3589 - val_loss: 14.9777 - val_MAE: 14.9777\n",
            "Epoch 8/40\n",
            "840/840 [==============================] - 226s 269ms/step - loss: 15.6858 - MAE: 15.6858 - val_loss: 21.1851 - val_MAE: 21.1851\n",
            "Epoch 9/40\n",
            "840/840 [==============================] - 225s 268ms/step - loss: 15.8273 - MAE: 15.8273 - val_loss: 19.7105 - val_MAE: 19.7105\n",
            "Epoch 10/40\n",
            "840/840 [==============================] - 224s 267ms/step - loss: 15.8321 - MAE: 15.8321 - val_loss: 17.5087 - val_MAE: 17.5087\n",
            "Epoch 11/40\n",
            "840/840 [==============================] - 225s 267ms/step - loss: 15.5036 - MAE: 15.5036 - val_loss: 17.2406 - val_MAE: 17.2406\n",
            "Epoch 12/40\n",
            "840/840 [==============================] - 224s 267ms/step - loss: 14.8702 - MAE: 14.8702 - val_loss: 20.3796 - val_MAE: 20.3796\n",
            "Epoch 13/40\n",
            "840/840 [==============================] - 224s 267ms/step - loss: 13.8951 - MAE: 13.8951 - val_loss: 23.2488 - val_MAE: 23.2488\n",
            "Epoch 14/40\n",
            "840/840 [==============================] - 225s 268ms/step - loss: 13.7193 - MAE: 13.7193 - val_loss: 12.4233 - val_MAE: 12.4233\n",
            "Epoch 15/40\n",
            "840/840 [==============================] - 225s 268ms/step - loss: 12.5447 - MAE: 12.5447 - val_loss: 18.1899 - val_MAE: 18.1899\n",
            "Epoch 16/40\n",
            "840/840 [==============================] - 226s 270ms/step - loss: 12.3795 - MAE: 12.3795 - val_loss: 12.8968 - val_MAE: 12.8968\n",
            "Epoch 17/40\n",
            "840/840 [==============================] - 227s 270ms/step - loss: 11.6233 - MAE: 11.6233 - val_loss: 11.7388 - val_MAE: 11.7388\n",
            "Epoch 18/40\n",
            "840/840 [==============================] - 225s 268ms/step - loss: 11.9106 - MAE: 11.9106 - val_loss: 18.8442 - val_MAE: 18.8442\n",
            "Epoch 19/40\n",
            "840/840 [==============================] - 225s 268ms/step - loss: 11.6786 - MAE: 11.6786 - val_loss: 13.3993 - val_MAE: 13.3993\n",
            "Epoch 20/40\n",
            "840/840 [==============================] - 225s 268ms/step - loss: 11.0194 - MAE: 11.0194 - val_loss: 15.2841 - val_MAE: 15.2841\n",
            "Epoch 21/40\n",
            "840/840 [==============================] - 225s 268ms/step - loss: 10.5550 - MAE: 10.5550 - val_loss: 15.3381 - val_MAE: 15.3381\n",
            "Epoch 22/40\n",
            "840/840 [==============================] - 224s 267ms/step - loss: 10.5225 - MAE: 10.5225 - val_loss: 12.5876 - val_MAE: 12.5876\n",
            "Epoch 23/40\n",
            "840/840 [==============================] - 225s 268ms/step - loss: 9.9011 - MAE: 9.9011 - val_loss: 10.5719 - val_MAE: 10.5719\n",
            "Epoch 24/40\n",
            "840/840 [==============================] - 225s 268ms/step - loss: 9.6912 - MAE: 9.6912 - val_loss: 11.8519 - val_MAE: 11.8519\n",
            "Epoch 25/40\n",
            "840/840 [==============================] - 227s 271ms/step - loss: 9.3499 - MAE: 9.3499 - val_loss: 13.7493 - val_MAE: 13.7493\n",
            "Epoch 26/40\n",
            "840/840 [==============================] - 225s 268ms/step - loss: 9.4865 - MAE: 9.4865 - val_loss: 12.0559 - val_MAE: 12.0559\n",
            "Epoch 27/40\n",
            "840/840 [==============================] - 226s 269ms/step - loss: 8.9464 - MAE: 8.9464 - val_loss: 11.1955 - val_MAE: 11.1955\n",
            "Epoch 28/40\n",
            "840/840 [==============================] - 225s 268ms/step - loss: 8.3848 - MAE: 8.3848 - val_loss: 12.3451 - val_MAE: 12.3451\n",
            "Epoch 29/40\n",
            "840/840 [==============================] - 226s 269ms/step - loss: 8.3627 - MAE: 8.3627 - val_loss: 11.8107 - val_MAE: 11.8107\n",
            "Epoch 30/40\n",
            "840/840 [==============================] - 225s 268ms/step - loss: 8.6568 - MAE: 8.6568 - val_loss: 11.6748 - val_MAE: 11.6748\n",
            "Epoch 31/40\n",
            "840/840 [==============================] - 226s 269ms/step - loss: 8.0166 - MAE: 8.0166 - val_loss: 12.2983 - val_MAE: 12.2983\n",
            "Epoch 32/40\n",
            "840/840 [==============================] - 225s 268ms/step - loss: 7.7160 - MAE: 7.7160 - val_loss: 13.1830 - val_MAE: 13.1830\n",
            "Epoch 33/40\n",
            "840/840 [==============================] - 224s 267ms/step - loss: 7.4368 - MAE: 7.4368 - val_loss: 11.0484 - val_MAE: 11.0484\n",
            "Epoch 34/40\n",
            "840/840 [==============================] - 224s 267ms/step - loss: 7.6221 - MAE: 7.6221 - val_loss: 9.9120 - val_MAE: 9.9120\n",
            "Epoch 35/40\n",
            "840/840 [==============================] - 224s 267ms/step - loss: 7.3316 - MAE: 7.3316 - val_loss: 11.0372 - val_MAE: 11.0372\n",
            "Epoch 36/40\n",
            "840/840 [==============================] - 223s 265ms/step - loss: 7.2220 - MAE: 7.2220 - val_loss: 13.4067 - val_MAE: 13.4067\n",
            "Epoch 37/40\n",
            "840/840 [==============================] - 223s 265ms/step - loss: 7.6027 - MAE: 7.6027 - val_loss: 10.9075 - val_MAE: 10.9075\n",
            "Epoch 38/40\n",
            "840/840 [==============================] - 222s 265ms/step - loss: 7.7344 - MAE: 7.7344 - val_loss: 12.7310 - val_MAE: 12.7310\n",
            "Epoch 39/40\n",
            "840/840 [==============================] - 223s 265ms/step - loss: 7.1452 - MAE: 7.1452 - val_loss: 9.3681 - val_MAE: 9.3681\n",
            "Epoch 40/40\n",
            "840/840 [==============================] - 223s 265ms/step - loss: 6.6250 - MAE: 6.6250 - val_loss: 10.5775 - val_MAE: 10.5775\n",
            "355/355 [==============================] - 36s 103ms/step - loss: 9.9269 - MAE: 9.9269\n",
            "Test loss: 9.926944732666016\n",
            "Test MAE: 9.926944732666016\n"
          ]
        }
      ]
    },
    {
      "cell_type": "code",
      "source": [
        "#plt.plot(history.history['loss'])\n",
        "#plt.plot(history.history['val_loss'])\n",
        "#plt.title('inv-mul_sq_aug Model loss')\n",
        "plt.ylabel('Loss')\n",
        "plt.xlabel('Epoch')\n",
        "plt.legend(['Train', 'Validation'], loc='upper left')\n",
        "plt.show()"
      ],
      "metadata": {
        "id": "bVoVYlPVFuu3",
        "colab": {
          "base_uri": "https://localhost:8080/",
          "height": 295
        },
        "outputId": "81b2a23f-5408-4361-edd9-1666bc8bd232"
      },
      "execution_count": null,
      "outputs": [
        {
          "output_type": "display_data",
          "data": {
            "text/plain": [
              "<Figure size 432x288 with 1 Axes>"
            ],
            "image/png": "[encoded data removed]"
          },
          "metadata": {
            "needs_background": "light"
          }
        }
      ]
    },
    {
      "cell_type": "markdown",
      "source": [
        "#donot ever touch ------------------------------------------------------------------------"
      ],
      "metadata": {
        "id": "ZGtUPDpiNkhJ"
      }
    },
    {
      "cell_type": "markdown",
      "source": [
        "#without multiply"
      ],
      "metadata": {
        "id": "2sK2CYwEMipJ"
      }
    },
    {
      "cell_type": "code",
      "source": [
        "------------------run2-----------------------------------"
      ],
      "metadata": {
        "id": "fWChpMQHNcpJ",
        "colab": {
          "base_uri": "https://localhost:8080/",
          "height": 130
        },
        "outputId": "bea2b4e3-d12f-479d-fef9-6a465304adc7"
      },
      "execution_count": null,
      "outputs": [
        {
          "output_type": "error",
          "ename": "SyntaxError",
          "evalue": "ignored",
          "traceback": [
            "\u001b[0;36m  File \u001b[0;32m\"<ipython-input-63-dc328e7df5fd>\"\u001b[0;36m, line \u001b[0;32m1\u001b[0m\n\u001b[0;31m    ------------------run2-----------------------------------\u001b[0m\n\u001b[0m                                                             ^\u001b[0m\n\u001b[0;31mSyntaxError\u001b[0m\u001b[0;31m:\u001b[0m invalid syntax\n"
          ]
        }
      ]
    },
    {
      "cell_type": "code",
      "source": [
        "import tensorflow as tf\n",
        "\n",
        "base_model = InceptionV3(weights='imagenet', include_top=False)\n",
        "input = Input(shape=(300,300,3),name='input1')\n",
        "input_gender = Input(shape=(1,),dtype='float32',name='input2')\n",
        "#input_age = Input(shape=(2,114),dtype='float32',name='input3')\n",
        "output = base_model(input)\n",
        "gender_embedding=Dense(16)(input_gender)\n",
        "print (K.int_shape(output))\n",
        "sq = keras.layers.GlobalAveragePooling2D()(output)\n",
        "print (K.int_shape(sq))\n",
        "sq = keras.layers.Reshape((1,1,2048))(sq)\n",
        "sq = keras.layers.Dense(units=2048,activation=\"sigmoid\")(sq)\n",
        "block = keras.layers.multiply([output,sq])\n",
        "#fine Squeeze and Excitation 1\n",
        "\n",
        "net = keras.layers.add([output,block])\n",
        "net = keras.layers.BatchNormalization()(net)\n",
        "net = keras.layers.Activation(\"relu\")(net)\n",
        "net = keras.layers.MaxPooling2D(pool_size=(2, 2),name=\"block_1\")(net)\n",
        "print (K.int_shape(net))\n",
        "\n",
        "x = keras.layers.MaxPooling2D(pool_size=(4,4))(net)\n",
        "print (K.int_shape(x))\n",
        "x=Flatten()(x)\n",
        "f = Dense(256, activation='relu')(x)\n",
        "f =Dense(228,activation='linear')(f)\n",
        "#y=Flatten()(input_age)\n",
        "#print(y.shape)\n",
        "#f = keras.layers.Multiply()([x,y])\n",
        "f = keras.layers.Concatenate(axis=1)([f,gender_embedding])\n",
        "predictions=Dense(1)(f)\n",
        "\n",
        "#Embedding = keras.layers.Conv2D(256,kernel_size=(2,2),strides=1)(output)\n",
        "#Embedding = keras.layers.AveragePooling2D(pool_size=(7,7))(Embedding)\n",
        "#Embedding = Flatten()(Embedding)\n",
        "#print (K.int_shape(Embedding))\n",
        "#variance = Dense(1)(Embedding)\n",
        "\n",
        "model = Model(inputs=[input,input_gender], outputs=predictions)\n",
        "for i,layer in enumerate(model.layers):\n",
        "    print (i,layer.name)\n",
        "\n",
        "Adam=tf.keras.optimizers.Adam(lr=0.0001,beta_1=0.9,beta_2=0.999)\n",
        "model.compile(optimizer=Adam, loss='mean_absolute_error', metrics=['MAE'],run_eagerly=True)\n",
        "model.summary()\n",
        "\n",
        "checkpoint =keras.callbacks.ModelCheckpoint(filepath='weights_inv-mul_sq_aug20_loss_dimg.{epoch:02d}-{val_loss:.2f}.hdf5',save_weights_only=True,period=40)\n",
        "#model.fit_generator(DataGen.flow([x_train,gender_train],y_train,batch_size=batch_size),steps_per_epoch=np.ceil(len(y_train)/batch_size),epochs=50,verbose=1,validation_data=([x_valid,gender_valid,agev],y_valid))\n",
        "history=model.fit([train_x,train_gen],train_y,batch_size=4,epochs=40,verbose=1,validation_data=([valid_x,valid_gen],valid_y),callbacks = [checkpoint])\n",
        "score = model.evaluate([test_x,test_gen],test_y, batch_size=batch_size)\n",
        "print('Test loss:', score[0])\n",
        "print('Test MAE:', score[1])"
      ],
      "metadata": {
        "colab": {
          "base_uri": "https://localhost:8080/"
        },
        "id": "_EIpQFYBqlGQ",
        "outputId": "45a9cb16-d725-47c9-95f6-f7c84ee57987"
      },
      "execution_count": null,
      "outputs": [
        {
          "output_type": "stream",
          "name": "stdout",
          "text": [
            "(None, 8, 8, 2048)\n",
            "(None, 2048)\n",
            "(None, 4, 4, 2048)\n",
            "(None, 1, 1, 2048)\n",
            "0 input1\n",
            "1 inception_v3\n",
            "2 global_average_pooling2d_1\n",
            "3 reshape_1\n",
            "4 dense_6\n",
            "5 multiply_2\n",
            "6 add_1\n",
            "7 batch_normalization_189\n",
            "8 activation_189\n",
            "9 block_1\n",
            "10 max_pooling2d_9\n",
            "11 flatten_2\n",
            "12 dense_7\n",
            "13 input2\n",
            "14 dense_8\n",
            "15 dense_5\n",
            "16 concatenate_5\n",
            "17 dense_9\n",
            "Model: \"model_1\"\n",
            "__________________________________________________________________________________________________\n",
            " Layer (type)                   Output Shape         Param #     Connected to                     \n",
            "==================================================================================================\n",
            " input1 (InputLayer)            [(None, 300, 300, 3  0           []                               \n",
            "                                )]                                                                \n",
            "                                                                                                  \n",
            " inception_v3 (Functional)      (None, None, None,   21802784    ['input1[0][0]']                 \n",
            "                                2048)                                                             \n",
            "                                                                                                  \n",
            " global_average_pooling2d_1 (Gl  (None, 2048)        0           ['inception_v3[0][0]']           \n",
            " obalAveragePooling2D)                                                                            \n",
            "                                                                                                  \n",
            " reshape_1 (Reshape)            (None, 1, 1, 2048)   0           ['global_average_pooling2d_1[0][0\n",
            "                                                                 ]']                              \n",
            "                                                                                                  \n",
            " dense_6 (Dense)                (None, 1, 1, 2048)   4196352     ['reshape_1[0][0]']              \n",
            "                                                                                                  \n",
            " multiply_2 (Multiply)          (None, 8, 8, 2048)   0           ['inception_v3[0][0]',           \n",
            "                                                                  'dense_6[0][0]']                \n",
            "                                                                                                  \n",
            " add_1 (Add)                    (None, 8, 8, 2048)   0           ['inception_v3[0][0]',           \n",
            "                                                                  'multiply_2[0][0]']             \n",
            "                                                                                                  \n",
            " batch_normalization_189 (Batch  (None, 8, 8, 2048)  8192        ['add_1[0][0]']                  \n",
            " Normalization)                                                                                   \n",
            "                                                                                                  \n",
            " activation_189 (Activation)    (None, 8, 8, 2048)   0           ['batch_normalization_189[0][0]']\n",
            "                                                                                                  \n",
            " block_1 (MaxPooling2D)         (None, 4, 4, 2048)   0           ['activation_189[0][0]']         \n",
            "                                                                                                  \n",
            " max_pooling2d_9 (MaxPooling2D)  (None, 1, 1, 2048)  0           ['block_1[0][0]']                \n",
            "                                                                                                  \n",
            " flatten_2 (Flatten)            (None, 2048)         0           ['max_pooling2d_9[0][0]']        \n",
            "                                                                                                  \n",
            " dense_7 (Dense)                (None, 256)          524544      ['flatten_2[0][0]']              \n",
            "                                                                                                  \n",
            " input2 (InputLayer)            [(None, 1)]          0           []                               \n",
            "                                                                                                  \n",
            " dense_8 (Dense)                (None, 228)          58596       ['dense_7[0][0]']                \n",
            "                                                                                                  \n",
            " dense_5 (Dense)                (None, 16)           32          ['input2[0][0]']                 \n",
            "                                                                                                  \n",
            " concatenate_5 (Concatenate)    (None, 244)          0           ['dense_8[0][0]',                \n",
            "                                                                  'dense_5[0][0]']                \n",
            "                                                                                                  \n",
            " dense_9 (Dense)                (None, 1)            245         ['concatenate_5[0][0]']          \n",
            "                                                                                                  \n",
            "==================================================================================================\n",
            "Total params: 26,590,745\n",
            "Trainable params: 26,552,217\n",
            "Non-trainable params: 38,528\n",
            "__________________________________________________________________________________________________\n"
          ]
        },
        {
          "output_type": "stream",
          "name": "stderr",
          "text": [
            "WARNING:tensorflow:`period` argument is deprecated. Please use `save_freq` to specify the frequency in number of batches seen.\n"
          ]
        },
        {
          "output_type": "stream",
          "name": "stdout",
          "text": [
            "Epoch 1/40\n",
            "840/840 [==============================] - 228s 271ms/step - loss: 28.0770 - MAE: 28.0770 - val_loss: 19.6839 - val_MAE: 19.6839\n",
            "Epoch 2/40\n",
            "840/840 [==============================] - 227s 271ms/step - loss: 18.9078 - MAE: 18.9078 - val_loss: 21.9849 - val_MAE: 21.9849\n",
            "Epoch 3/40\n",
            "840/840 [==============================] - 226s 270ms/step - loss: 16.2072 - MAE: 16.2072 - val_loss: 15.2191 - val_MAE: 15.2191\n",
            "Epoch 4/40\n",
            "840/840 [==============================] - 227s 270ms/step - loss: 15.4273 - MAE: 15.4273 - val_loss: 15.9314 - val_MAE: 15.9314\n",
            "Epoch 5/40\n",
            "840/840 [==============================] - 227s 270ms/step - loss: 14.4569 - MAE: 14.4569 - val_loss: 17.0906 - val_MAE: 17.0906\n",
            "Epoch 6/40\n",
            "840/840 [==============================] - 227s 270ms/step - loss: 12.5477 - MAE: 12.5477 - val_loss: 19.7724 - val_MAE: 19.7724\n",
            "Epoch 7/40\n",
            "840/840 [==============================] - 227s 270ms/step - loss: 12.2989 - MAE: 12.2989 - val_loss: 14.6240 - val_MAE: 14.6240\n",
            "Epoch 8/40\n",
            "840/840 [==============================] - 227s 270ms/step - loss: 11.5090 - MAE: 11.5090 - val_loss: 11.2587 - val_MAE: 11.2587\n",
            "Epoch 9/40\n",
            "840/840 [==============================] - 226s 269ms/step - loss: 10.8122 - MAE: 10.8122 - val_loss: 14.6656 - val_MAE: 14.6656\n",
            "Epoch 10/40\n",
            "840/840 [==============================] - 226s 269ms/step - loss: 10.4480 - MAE: 10.4480 - val_loss: 15.4857 - val_MAE: 15.4857\n",
            "Epoch 11/40\n",
            "840/840 [==============================] - 228s 271ms/step - loss: 9.7269 - MAE: 9.7269 - val_loss: 12.4561 - val_MAE: 12.4561\n",
            "Epoch 12/40\n",
            "840/840 [==============================] - 228s 271ms/step - loss: 9.2935 - MAE: 9.2935 - val_loss: 12.1463 - val_MAE: 12.1463\n",
            "Epoch 13/40\n",
            "840/840 [==============================] - 227s 271ms/step - loss: 8.8274 - MAE: 8.8274 - val_loss: 15.1419 - val_MAE: 15.1419\n",
            "Epoch 14/40\n",
            "840/840 [==============================] - 227s 270ms/step - loss: 8.3913 - MAE: 8.3913 - val_loss: 15.3335 - val_MAE: 15.3335\n",
            "Epoch 15/40\n",
            "840/840 [==============================] - 225s 268ms/step - loss: 8.3090 - MAE: 8.3090 - val_loss: 12.3402 - val_MAE: 12.3402\n",
            "Epoch 16/40\n",
            "840/840 [==============================] - 225s 268ms/step - loss: 7.6955 - MAE: 7.6955 - val_loss: 11.4651 - val_MAE: 11.4651\n",
            "Epoch 17/40\n",
            "840/840 [==============================] - 224s 267ms/step - loss: 7.5797 - MAE: 7.5797 - val_loss: 14.0390 - val_MAE: 14.0390\n",
            "Epoch 18/40\n",
            "840/840 [==============================] - 225s 267ms/step - loss: 7.6500 - MAE: 7.6500 - val_loss: 17.6285 - val_MAE: 17.6285\n",
            "Epoch 19/40\n",
            "840/840 [==============================] - 224s 267ms/step - loss: 7.0963 - MAE: 7.0963 - val_loss: 13.1461 - val_MAE: 13.1461\n",
            "Epoch 20/40\n",
            "840/840 [==============================] - 224s 266ms/step - loss: 6.5152 - MAE: 6.5152 - val_loss: 10.2951 - val_MAE: 10.2951\n",
            "Epoch 21/40\n",
            "840/840 [==============================] - 224s 267ms/step - loss: 6.6475 - MAE: 6.6475 - val_loss: 10.9807 - val_MAE: 10.9807\n",
            "Epoch 22/40\n",
            "840/840 [==============================] - 223s 266ms/step - loss: 6.4674 - MAE: 6.4674 - val_loss: 17.0600 - val_MAE: 17.0600\n",
            "Epoch 23/40\n",
            "840/840 [==============================] - 222s 265ms/step - loss: 6.3359 - MAE: 6.3359 - val_loss: 12.9573 - val_MAE: 12.9573\n",
            "Epoch 24/40\n",
            "840/840 [==============================] - 223s 266ms/step - loss: 6.3046 - MAE: 6.3046 - val_loss: 10.8925 - val_MAE: 10.8925\n",
            "Epoch 25/40\n",
            "840/840 [==============================] - 223s 266ms/step - loss: 5.7732 - MAE: 5.7732 - val_loss: 10.1178 - val_MAE: 10.1178\n",
            "Epoch 26/40\n",
            "840/840 [==============================] - 224s 266ms/step - loss: 5.7741 - MAE: 5.7741 - val_loss: 14.7119 - val_MAE: 14.7119\n",
            "Epoch 27/40\n",
            "840/840 [==============================] - 224s 266ms/step - loss: 5.6850 - MAE: 5.6850 - val_loss: 9.5953 - val_MAE: 9.5953\n",
            "Epoch 28/40\n",
            "840/840 [==============================] - 225s 268ms/step - loss: 5.5449 - MAE: 5.5449 - val_loss: 11.1301 - val_MAE: 11.1301\n",
            "Epoch 29/40\n",
            "840/840 [==============================] - 226s 269ms/step - loss: 5.3246 - MAE: 5.3246 - val_loss: 11.7120 - val_MAE: 11.7120\n",
            "Epoch 30/40\n",
            "840/840 [==============================] - 226s 269ms/step - loss: 5.4334 - MAE: 5.4334 - val_loss: 9.4915 - val_MAE: 9.4915\n",
            "Epoch 31/40\n",
            "840/840 [==============================] - 224s 267ms/step - loss: 5.1365 - MAE: 5.1365 - val_loss: 9.4752 - val_MAE: 9.4752\n",
            "Epoch 32/40\n",
            "840/840 [==============================] - 225s 267ms/step - loss: 4.9214 - MAE: 4.9214 - val_loss: 10.9749 - val_MAE: 10.9749\n",
            "Epoch 33/40\n",
            "840/840 [==============================] - 225s 267ms/step - loss: 5.2125 - MAE: 5.2125 - val_loss: 9.6808 - val_MAE: 9.6808\n",
            "Epoch 34/40\n",
            "840/840 [==============================] - 224s 267ms/step - loss: 4.7621 - MAE: 4.7621 - val_loss: 10.2312 - val_MAE: 10.2312\n",
            "Epoch 35/40\n",
            "840/840 [==============================] - 224s 267ms/step - loss: 4.8532 - MAE: 4.8532 - val_loss: 9.8691 - val_MAE: 9.8691\n",
            "Epoch 36/40\n",
            "840/840 [==============================] - 224s 267ms/step - loss: 4.8860 - MAE: 4.8860 - val_loss: 11.4809 - val_MAE: 11.4809\n",
            "Epoch 37/40\n",
            "840/840 [==============================] - 225s 268ms/step - loss: 4.5783 - MAE: 4.5783 - val_loss: 9.1060 - val_MAE: 9.1060\n",
            "Epoch 38/40\n",
            "840/840 [==============================] - 225s 268ms/step - loss: 4.6285 - MAE: 4.6285 - val_loss: 9.0613 - val_MAE: 9.0613\n",
            "Epoch 39/40\n",
            "840/840 [==============================] - 225s 268ms/step - loss: 4.4386 - MAE: 4.4386 - val_loss: 9.5826 - val_MAE: 9.5826\n",
            "Epoch 40/40\n",
            "840/840 [==============================] - 226s 269ms/step - loss: 4.4343 - MAE: 4.4343 - val_loss: 12.1877 - val_MAE: 12.1877\n",
            "355/355 [==============================] - 37s 103ms/step - loss: 11.2897 - MAE: 11.2897\n",
            "Test loss: 11.289704322814941\n",
            "Test MAE: 11.289704322814941\n"
          ]
        }
      ]
    },
    {
      "cell_type": "code",
      "source": [
        "plt.plot(history.history['loss'])\n",
        "plt.plot(history.history['val_loss'])\n",
        "plt.title('inv-mul_sq_aug Model loss')\n",
        "plt.ylabel('Loss')\n",
        "plt.xlabel('Epoch')\n",
        "plt.legend(['Train', 'Validation'], loc='upper left')\n",
        "plt.show()"
      ],
      "metadata": {
        "colab": {
          "base_uri": "https://localhost:8080/",
          "height": 295
        },
        "id": "B8OLslL7q9Le",
        "outputId": "340a1015-3a20-4026-c4ed-547b2e588138"
      },
      "execution_count": null,
      "outputs": [
        {
          "output_type": "display_data",
          "data": {
            "text/plain": [
              "<Figure size 432x288 with 1 Axes>"
            ],
            "image/png": "[encoded data removed]"
          },
          "metadata": {
            "needs_background": "light"
          }
        }
      ]
    },
    {
      "cell_type": "code",
      "source": [
        "import tensorflow as tf\n",
        "\n",
        "base_model = InceptionV3(weights='imagenet', include_top=False)\n",
        "input = Input(shape=(300,300,3),name='input1')\n",
        "input_gender = Input(shape=(1,),dtype='float32',name='input2')\n",
        "#input_age = Input(shape=(2,114),dtype='float32',name='input3')\n",
        "output = base_model(input)\n",
        "gender_embedding=Dense(16)(input_gender)\n",
        "print (K.int_shape(output))\n",
        "sq = keras.layers.GlobalAveragePooling2D()(output)\n",
        "print (K.int_shape(sq))\n",
        "sq = keras.layers.Reshape((1,1,2048))(sq)\n",
        "sq = keras.layers.Dense(units=2048,activation=\"sigmoid\")(sq)\n",
        "block = keras.layers.multiply([output,sq])\n",
        "#fine Squeeze and Excitation 1\n",
        "\n",
        "net = keras.layers.add([output,block])\n",
        "net = keras.layers.BatchNormalization()(net)\n",
        "net = keras.layers.Activation(\"relu\")(net)\n",
        "net = keras.layers.MaxPooling2D(pool_size=(2, 2),name=\"block_1\")(net)\n",
        "print (K.int_shape(net))\n",
        "\n",
        "x = keras.layers.MaxPooling2D(pool_size=(4,4))(net)\n",
        "print (K.int_shape(x))\n",
        "x=Flatten()(x)\n",
        "f = Dense(512, activation='relu')(x)\n",
        "f =Dense(228,activation='linear')(f)\n",
        "#y=Flatten()(input_age)\n",
        "#print(y.shape)\n",
        "#f = keras.layers.Multiply()([x,y])\n",
        "f = keras.layers.Concatenate(axis=1)([f,gender_embedding])\n",
        "predictions=Dense(1)(f)\n",
        "\n",
        "#Embedding = keras.layers.Conv2D(256,kernel_size=(2,2),strides=1)(output)\n",
        "#Embedding = keras.layers.AveragePooling2D(pool_size=(7,7))(Embedding)\n",
        "#Embedding = Flatten()(Embedding)\n",
        "#print (K.int_shape(Embedding))\n",
        "#variance = Dense(1)(Embedding)\n",
        "\n",
        "model = Model(inputs=[input,input_gender], outputs=predictions)\n",
        "for i,layer in enumerate(model.layers):\n",
        "    print (i,layer.name)\n",
        "\n",
        "Adam=tf.keras.optimizers.Adam(lr=0.0001,beta_1=0.9,beta_2=0.999)\n",
        "model.compile(optimizer=Adam, loss='mean_absolute_error', metrics=['MAE'],run_eagerly=True)\n",
        "model.summary()\n",
        "\n",
        "checkpoint =keras.callbacks.ModelCheckpoint(filepath='weights_inv-mul_sq_aug20_loss_dimg.{epoch:02d}-{val_loss:.2f}.hdf5',save_weights_only=True,period=40)\n",
        "#model.fit_generator(DataGen.flow([x_train,gender_train],y_train,batch_size=batch_size),steps_per_epoch=np.ceil(len(y_train)/batch_size),epochs=50,verbose=1,validation_data=([x_valid,gender_valid,agev],y_valid))\n",
        "history=model.fit([train_x,train_gen],train_y,batch_size=4,epochs=40,verbose=1,validation_data=([valid_x,valid_gen],valid_y),callbacks = [checkpoint])\n",
        "score = model.evaluate([test_x,test_gen],test_y, batch_size=batch_size)\n",
        "print('Test loss:', score[0])\n",
        "print('Test MAE:', score[1])"
      ],
      "metadata": {
        "id": "M6KvCPRMIsNu",
        "colab": {
          "base_uri": "https://localhost:8080/"
        },
        "outputId": "5b3e6d00-dfb7-42d1-e859-c68baf697024"
      },
      "execution_count": null,
      "outputs": [
        {
          "output_type": "stream",
          "name": "stdout",
          "text": [
            "(None, 8, 8, 2048)\n",
            "(None, 2048)\n",
            "(None, 4, 4, 2048)\n",
            "(None, 1, 1, 2048)\n",
            "0 input1\n",
            "1 inception_v3\n",
            "2 global_average_pooling2d\n",
            "3 reshape\n",
            "4 dense_1\n",
            "5 multiply\n",
            "6 add\n",
            "7 batch_normalization_94\n",
            "8 activation_94\n",
            "9 block_1\n",
            "10 max_pooling2d_4\n",
            "11 flatten\n",
            "12 dense_2\n",
            "13 input2\n",
            "14 dense_3\n",
            "15 dense\n",
            "16 concatenate_2\n",
            "17 dense_4\n",
            "Model: \"model\"\n",
            "__________________________________________________________________________________________________\n",
            " Layer (type)                   Output Shape         Param #     Connected to                     \n",
            "==================================================================================================\n",
            " input1 (InputLayer)            [(None, 300, 300, 3  0           []                               \n",
            "                                )]                                                                \n",
            "                                                                                                  \n",
            " inception_v3 (Functional)      (None, None, None,   21802784    ['input1[0][0]']                 \n",
            "                                2048)                                                             \n",
            "                                                                                                  \n",
            " global_average_pooling2d (Glob  (None, 2048)        0           ['inception_v3[0][0]']           \n",
            " alAveragePooling2D)                                                                              \n",
            "                                                                                                  \n",
            " reshape (Reshape)              (None, 1, 1, 2048)   0           ['global_average_pooling2d[0][0]'\n",
            "                                                                 ]                                \n",
            "                                                                                                  \n",
            " dense_1 (Dense)                (None, 1, 1, 2048)   4196352     ['reshape[0][0]']                \n",
            "                                                                                                  \n",
            " multiply (Multiply)            (None, 8, 8, 2048)   0           ['inception_v3[0][0]',           \n",
            "                                                                  'dense_1[0][0]']                \n",
            "                                                                                                  \n",
            " add (Add)                      (None, 8, 8, 2048)   0           ['inception_v3[0][0]',           \n",
            "                                                                  'multiply[0][0]']               \n",
            "                                                                                                  \n",
            " batch_normalization_94 (BatchN  (None, 8, 8, 2048)  8192        ['add[0][0]']                    \n",
            " ormalization)                                                                                    \n",
            "                                                                                                  \n",
            " activation_94 (Activation)     (None, 8, 8, 2048)   0           ['batch_normalization_94[0][0]'] \n",
            "                                                                                                  \n",
            " block_1 (MaxPooling2D)         (None, 4, 4, 2048)   0           ['activation_94[0][0]']          \n",
            "                                                                                                  \n",
            " max_pooling2d_4 (MaxPooling2D)  (None, 1, 1, 2048)  0           ['block_1[0][0]']                \n",
            "                                                                                                  \n",
            " flatten (Flatten)              (None, 2048)         0           ['max_pooling2d_4[0][0]']        \n",
            "                                                                                                  \n",
            " dense_2 (Dense)                (None, 512)          1049088     ['flatten[0][0]']                \n",
            "                                                                                                  \n",
            " input2 (InputLayer)            [(None, 1)]          0           []                               \n",
            "                                                                                                  \n",
            " dense_3 (Dense)                (None, 228)          116964      ['dense_2[0][0]']                \n",
            "                                                                                                  \n",
            " dense (Dense)                  (None, 16)           32          ['input2[0][0]']                 \n",
            "                                                                                                  \n",
            " concatenate_2 (Concatenate)    (None, 244)          0           ['dense_3[0][0]',                \n",
            "                                                                  'dense[0][0]']                  \n",
            "                                                                                                  \n",
            " dense_4 (Dense)                (None, 1)            245         ['concatenate_2[0][0]']          \n",
            "                                                                                                  \n",
            "==================================================================================================\n",
            "Total params: 27,173,657\n",
            "Trainable params: 27,135,129\n",
            "Non-trainable params: 38,528\n",
            "__________________________________________________________________________________________________\n"
          ]
        },
        {
          "output_type": "stream",
          "name": "stderr",
          "text": [
            "/usr/local/lib/python3.8/dist-packages/keras/optimizers/optimizer_v2/adam.py:110: UserWarning: The `lr` argument is deprecated, use `learning_rate` instead.\n",
            "  super(Adam, self).__init__(name, **kwargs)\n",
            "WARNING:tensorflow:`period` argument is deprecated. Please use `save_freq` to specify the frequency in number of batches seen.\n"
          ]
        },
        {
          "output_type": "stream",
          "name": "stdout",
          "text": [
            "Epoch 1/40\n",
            "840/840 [==============================] - 247s 283ms/step - loss: 27.3550 - MAE: 27.3550 - val_loss: 22.6889 - val_MAE: 22.6889\n",
            "Epoch 2/40\n",
            "840/840 [==============================] - 234s 278ms/step - loss: 18.5763 - MAE: 18.5763 - val_loss: 15.2506 - val_MAE: 15.2506\n",
            "Epoch 3/40\n",
            "840/840 [==============================] - 232s 277ms/step - loss: 15.5847 - MAE: 15.5847 - val_loss: 13.5918 - val_MAE: 13.5918\n",
            "Epoch 4/40\n",
            "840/840 [==============================] - 231s 275ms/step - loss: 14.9635 - MAE: 14.9635 - val_loss: 15.6879 - val_MAE: 15.6879\n",
            "Epoch 5/40\n",
            "840/840 [==============================] - 232s 276ms/step - loss: 13.4534 - MAE: 13.4534 - val_loss: 13.7402 - val_MAE: 13.7402\n",
            "Epoch 6/40\n",
            "840/840 [==============================] - 231s 275ms/step - loss: 12.4179 - MAE: 12.4179 - val_loss: 21.4092 - val_MAE: 21.4092\n",
            "Epoch 7/40\n",
            "840/840 [==============================] - 231s 275ms/step - loss: 12.1210 - MAE: 12.1210 - val_loss: 12.5616 - val_MAE: 12.5616\n",
            "Epoch 8/40\n",
            "840/840 [==============================] - 230s 274ms/step - loss: 11.1512 - MAE: 11.1512 - val_loss: 12.3881 - val_MAE: 12.3881\n",
            "Epoch 9/40\n",
            "840/840 [==============================] - 229s 272ms/step - loss: 10.5902 - MAE: 10.5902 - val_loss: 11.5943 - val_MAE: 11.5943\n",
            "Epoch 10/40\n",
            "840/840 [==============================] - 225s 268ms/step - loss: 9.8799 - MAE: 9.8799 - val_loss: 12.5956 - val_MAE: 12.5956\n",
            "Epoch 11/40\n",
            "840/840 [==============================] - 224s 267ms/step - loss: 9.4447 - MAE: 9.4447 - val_loss: 15.0257 - val_MAE: 15.0257\n",
            "Epoch 12/40\n",
            "840/840 [==============================] - 225s 268ms/step - loss: 8.5969 - MAE: 8.5969 - val_loss: 10.5067 - val_MAE: 10.5067\n",
            "Epoch 13/40\n",
            "840/840 [==============================] - 226s 270ms/step - loss: 8.5478 - MAE: 8.5478 - val_loss: 12.9429 - val_MAE: 12.9429\n",
            "Epoch 14/40\n",
            "840/840 [==============================] - 226s 269ms/step - loss: 7.9916 - MAE: 7.9916 - val_loss: 12.8422 - val_MAE: 12.8422\n",
            "Epoch 15/40\n",
            "840/840 [==============================] - 226s 269ms/step - loss: 7.9480 - MAE: 7.9480 - val_loss: 11.6102 - val_MAE: 11.6102\n",
            "Epoch 16/40\n",
            "840/840 [==============================] - 226s 269ms/step - loss: 7.4236 - MAE: 7.4236 - val_loss: 13.1060 - val_MAE: 13.1060\n",
            "Epoch 17/40\n",
            "840/840 [==============================] - 226s 269ms/step - loss: 7.5510 - MAE: 7.5510 - val_loss: 11.0974 - val_MAE: 11.0974\n",
            "Epoch 18/40\n",
            "840/840 [==============================] - 226s 269ms/step - loss: 7.0143 - MAE: 7.0143 - val_loss: 10.0272 - val_MAE: 10.0272\n",
            "Epoch 19/40\n",
            "840/840 [==============================] - 225s 268ms/step - loss: 6.8354 - MAE: 6.8354 - val_loss: 10.2281 - val_MAE: 10.2281\n",
            "Epoch 20/40\n",
            "840/840 [==============================] - 225s 268ms/step - loss: 6.3844 - MAE: 6.3844 - val_loss: 9.7756 - val_MAE: 9.7756\n",
            "Epoch 21/40\n",
            "840/840 [==============================] - 226s 269ms/step - loss: 6.3709 - MAE: 6.3709 - val_loss: 9.5369 - val_MAE: 9.5369\n",
            "Epoch 22/40\n",
            "840/840 [==============================] - 226s 269ms/step - loss: 6.0790 - MAE: 6.0790 - val_loss: 12.7362 - val_MAE: 12.7362\n",
            "Epoch 23/40\n",
            "840/840 [==============================] - 226s 269ms/step - loss: 6.1056 - MAE: 6.1056 - val_loss: 11.5374 - val_MAE: 11.5374\n",
            "Epoch 24/40\n",
            "840/840 [==============================] - 225s 268ms/step - loss: 5.7550 - MAE: 5.7550 - val_loss: 15.1497 - val_MAE: 15.1497\n",
            "Epoch 25/40\n",
            "840/840 [==============================] - 225s 268ms/step - loss: 5.7688 - MAE: 5.7688 - val_loss: 9.0466 - val_MAE: 9.0466\n",
            "Epoch 26/40\n",
            "840/840 [==============================] - 225s 267ms/step - loss: 5.8150 - MAE: 5.8150 - val_loss: 9.6922 - val_MAE: 9.6922\n",
            "Epoch 27/40\n",
            "840/840 [==============================] - 225s 268ms/step - loss: 5.8332 - MAE: 5.8332 - val_loss: 10.4494 - val_MAE: 10.4494\n",
            "Epoch 28/40\n",
            "840/840 [==============================] - 226s 269ms/step - loss: 5.3499 - MAE: 5.3499 - val_loss: 10.8628 - val_MAE: 10.8628\n",
            "Epoch 29/40\n",
            "840/840 [==============================] - 225s 268ms/step - loss: 5.4430 - MAE: 5.4430 - val_loss: 10.9113 - val_MAE: 10.9113\n",
            "Epoch 30/40\n",
            "840/840 [==============================] - 225s 268ms/step - loss: 5.0418 - MAE: 5.0418 - val_loss: 11.8829 - val_MAE: 11.8829\n",
            "Epoch 31/40\n",
            "840/840 [==============================] - 225s 268ms/step - loss: 5.1637 - MAE: 5.1637 - val_loss: 13.0887 - val_MAE: 13.0887\n",
            "Epoch 32/40\n",
            "840/840 [==============================] - 225s 268ms/step - loss: 4.7046 - MAE: 4.7046 - val_loss: 9.2716 - val_MAE: 9.2716\n",
            "Epoch 33/40\n",
            "840/840 [==============================] - 224s 267ms/step - loss: 5.1693 - MAE: 5.1693 - val_loss: 9.9011 - val_MAE: 9.9011\n",
            "Epoch 34/40\n",
            "840/840 [==============================] - 224s 267ms/step - loss: 4.8520 - MAE: 4.8520 - val_loss: 10.2927 - val_MAE: 10.2927\n",
            "Epoch 35/40\n",
            "840/840 [==============================] - 225s 267ms/step - loss: 4.6338 - MAE: 4.6338 - val_loss: 11.2396 - val_MAE: 11.2396\n",
            "Epoch 36/40\n",
            "840/840 [==============================] - 226s 269ms/step - loss: 4.6017 - MAE: 4.6017 - val_loss: 10.0143 - val_MAE: 10.0143\n",
            "Epoch 37/40\n",
            "840/840 [==============================] - 224s 266ms/step - loss: 4.4017 - MAE: 4.4017 - val_loss: 10.3336 - val_MAE: 10.3336\n",
            "Epoch 38/40\n",
            "840/840 [==============================] - 224s 267ms/step - loss: 4.5140 - MAE: 4.5140 - val_loss: 12.8848 - val_MAE: 12.8848\n",
            "Epoch 39/40\n",
            "840/840 [==============================] - 225s 268ms/step - loss: 4.3117 - MAE: 4.3117 - val_loss: 11.1607 - val_MAE: 11.1607\n",
            "Epoch 40/40\n",
            "840/840 [==============================] - 226s 269ms/step - loss: 4.3362 - MAE: 4.3362 - val_loss: 12.0925 - val_MAE: 12.0925\n",
            "355/355 [==============================] - 36s 103ms/step - loss: 10.9794 - MAE: 10.9794\n",
            "Test loss: 10.979364395141602\n",
            "Test MAE: 10.979364395141602\n"
          ]
        }
      ]
    },
    {
      "cell_type": "code",
      "source": [
        "plt.plot(history.history['loss'])\n",
        "plt.plot(history.history['val_loss'])\n",
        "plt.title('inv-mul_sq_aug Model loss')\n",
        "plt.ylabel('Loss')\n",
        "plt.xlabel('Epoch')\n",
        "plt.legend(['Train', 'Validation'], loc='upper left')\n",
        "plt.show()"
      ],
      "metadata": {
        "colab": {
          "base_uri": "https://localhost:8080/",
          "height": 295
        },
        "id": "72pEdzXP1m8a",
        "outputId": "42c81900-a4f6-4e53-ed7b-6288b42ed811"
      },
      "execution_count": null,
      "outputs": [
        {
          "output_type": "display_data",
          "data": {
            "text/plain": [
              "<Figure size 432x288 with 1 Axes>"
            ],
            "image/png": "[encoded data removed]"
          },
          "metadata": {
            "needs_background": "light"
          }
        }
      ]
    },
    {
      "cell_type": "code",
      "source": [
        "import tensorflow as tf\n",
        "\n",
        "base_model = InceptionV3(weights='imagenet', include_top=False)\n",
        "input = Input(shape=(300,300,3),name='input1')\n",
        "input_gender = Input(shape=(1,),dtype='float32',name='input2')\n",
        "#input_age = Input(shape=(2,114),dtype='float32',name='input3')\n",
        "output = base_model(input)\n",
        "gender_embedding=Dense(16)(input_gender)\n",
        "print (K.int_shape(output))\n",
        "sq = keras.layers.GlobalAveragePooling2D()(output)\n",
        "print (K.int_shape(sq))\n",
        "sq = keras.layers.Reshape((1,1,2048))(sq)\n",
        "sq = keras.layers.Dense(units=2048,activation=\"sigmoid\")(sq)\n",
        "block = keras.layers.multiply([output,sq])\n",
        "#fine Squeeze and Excitation 1\n",
        "\n",
        "net = keras.layers.add([output,block])\n",
        "net = keras.layers.BatchNormalization()(net)\n",
        "net = keras.layers.Activation(\"relu\")(net)\n",
        "net = keras.layers.MaxPooling2D(pool_size=(2, 2),name=\"block_1\")(net)\n",
        "print (K.int_shape(net))\n",
        "\n",
        "x = keras.layers.MaxPooling2D(pool_size=(4,4))(net)\n",
        "print (K.int_shape(x))\n",
        "x=Flatten()(x)\n",
        "f = Dense(256, activation='relu')(x)\n",
        "#f =Dense(228,activation='linear')(f)\n",
        "#y=Flatten()(input_age)\n",
        "#print(y.shape)\n",
        "#f = keras.layers.Multiply()([x,y])\n",
        "f = keras.layers.Concatenate(axis=1)([f,gender_embedding])\n",
        "predictions=Dense(1)(f)\n",
        "\n",
        "#Embedding = keras.layers.Conv2D(256,kernel_size=(2,2),strides=1)(output)\n",
        "#Embedding = keras.layers.AveragePooling2D(pool_size=(7,7))(Embedding)\n",
        "#Embedding = Flatten()(Embedding)\n",
        "#print (K.int_shape(Embedding))\n",
        "#variance = Dense(1)(Embedding)\n",
        "\n",
        "model = Model(inputs=[input,input_gender], outputs=predictions)\n",
        "for i,layer in enumerate(model.layers):\n",
        "    print (i,layer.name)\n",
        "\n",
        "Adam=tf.keras.optimizers.Adam(lr=0.0001,beta_1=0.9,beta_2=0.999)\n",
        "model.compile(optimizer=Adam, loss='mean_absolute_error', metrics=['MAE'],run_eagerly=True)\n",
        "model.summary()\n",
        "\n",
        "checkpoint =keras.callbacks.ModelCheckpoint(filepath='weights_inv-mul_sq_aug20_loss_dimg.{epoch:02d}-{val_loss:.2f}.hdf5',save_weights_only=True,period=40)\n",
        "#model.fit_generator(DataGen.flow([x_train,gender_train],y_train,batch_size=batch_size),steps_per_epoch=np.ceil(len(y_train)/batch_size),epochs=50,verbose=1,validation_data=([x_valid,gender_valid,agev],y_valid))\n",
        "history=model.fit([train_x,train_gen],train_y,batch_size=4,epochs=40,verbose=1,validation_data=([valid_x,valid_gen],valid_y),callbacks = [checkpoint])\n",
        "score = model.evaluate([test_x,test_gen],test_y, batch_size=batch_size)\n",
        "print('Test loss:', score[0])"
      ],
      "metadata": {
        "colab": {
          "base_uri": "https://localhost:8080/"
        },
        "id": "CBwhiolBZYGI",
        "outputId": "fdceef44-91e2-4f9f-cf4b-caab07bb6de5"
      },
      "execution_count": null,
      "outputs": [
        {
          "output_type": "stream",
          "name": "stdout",
          "text": [
            "(None, 8, 8, 2048)\n",
            "(None, 2048)\n",
            "(None, 4, 4, 2048)\n",
            "(None, 1, 1, 2048)\n",
            "0 input1\n",
            "1 inception_v3\n",
            "2 global_average_pooling2d_1\n",
            "3 reshape_1\n",
            "4 dense_6\n",
            "5 multiply_1\n",
            "6 add_1\n",
            "7 batch_normalization_189\n",
            "8 activation_189\n",
            "9 block_1\n",
            "10 max_pooling2d_9\n",
            "11 flatten_1\n",
            "12 input2\n",
            "13 dense_7\n",
            "14 dense_5\n",
            "15 concatenate_5\n",
            "16 dense_8\n",
            "Model: \"model_1\"\n",
            "__________________________________________________________________________________________________\n",
            " Layer (type)                   Output Shape         Param #     Connected to                     \n",
            "==================================================================================================\n",
            " input1 (InputLayer)            [(None, 300, 300, 3  0           []                               \n",
            "                                )]                                                                \n",
            "                                                                                                  \n",
            " inception_v3 (Functional)      (None, None, None,   21802784    ['input1[0][0]']                 \n",
            "                                2048)                                                             \n",
            "                                                                                                  \n",
            " global_average_pooling2d_1 (Gl  (None, 2048)        0           ['inception_v3[0][0]']           \n",
            " obalAveragePooling2D)                                                                            \n",
            "                                                                                                  \n",
            " reshape_1 (Reshape)            (None, 1, 1, 2048)   0           ['global_average_pooling2d_1[0][0\n",
            "                                                                 ]']                              \n",
            "                                                                                                  \n",
            " dense_6 (Dense)                (None, 1, 1, 2048)   4196352     ['reshape_1[0][0]']              \n",
            "                                                                                                  \n",
            " multiply_1 (Multiply)          (None, 8, 8, 2048)   0           ['inception_v3[0][0]',           \n",
            "                                                                  'dense_6[0][0]']                \n",
            "                                                                                                  \n",
            " add_1 (Add)                    (None, 8, 8, 2048)   0           ['inception_v3[0][0]',           \n",
            "                                                                  'multiply_1[0][0]']             \n",
            "                                                                                                  \n",
            " batch_normalization_189 (Batch  (None, 8, 8, 2048)  8192        ['add_1[0][0]']                  \n",
            " Normalization)                                                                                   \n",
            "                                                                                                  \n",
            " activation_189 (Activation)    (None, 8, 8, 2048)   0           ['batch_normalization_189[0][0]']\n",
            "                                                                                                  \n",
            " block_1 (MaxPooling2D)         (None, 4, 4, 2048)   0           ['activation_189[0][0]']         \n",
            "                                                                                                  \n",
            " max_pooling2d_9 (MaxPooling2D)  (None, 1, 1, 2048)  0           ['block_1[0][0]']                \n",
            "                                                                                                  \n",
            " flatten_1 (Flatten)            (None, 2048)         0           ['max_pooling2d_9[0][0]']        \n",
            "                                                                                                  \n",
            " input2 (InputLayer)            [(None, 1)]          0           []                               \n",
            "                                                                                                  \n",
            " dense_7 (Dense)                (None, 256)          524544      ['flatten_1[0][0]']              \n",
            "                                                                                                  \n",
            " dense_5 (Dense)                (None, 16)           32          ['input2[0][0]']                 \n",
            "                                                                                                  \n",
            " concatenate_5 (Concatenate)    (None, 272)          0           ['dense_7[0][0]',                \n",
            "                                                                  'dense_5[0][0]']                \n",
            "                                                                                                  \n",
            " dense_8 (Dense)                (None, 1)            273         ['concatenate_5[0][0]']          \n",
            "                                                                                                  \n",
            "==================================================================================================\n",
            "Total params: 26,532,177\n",
            "Trainable params: 26,493,649\n",
            "Non-trainable params: 38,528\n",
            "__________________________________________________________________________________________________\n"
          ]
        },
        {
          "output_type": "stream",
          "name": "stderr",
          "text": [
            "WARNING:tensorflow:`period` argument is deprecated. Please use `save_freq` to specify the frequency in number of batches seen.\n"
          ]
        },
        {
          "output_type": "stream",
          "name": "stdout",
          "text": [
            "Epoch 1/40\n",
            "840/840 [==============================] - 232s 275ms/step - loss: 28.3871 - MAE: 28.3871 - val_loss: 18.2595 - val_MAE: 18.2595\n",
            "Epoch 2/40\n",
            "840/840 [==============================] - 228s 272ms/step - loss: 19.4057 - MAE: 19.4057 - val_loss: 16.6375 - val_MAE: 16.6375\n",
            "Epoch 3/40\n",
            "840/840 [==============================] - 228s 272ms/step - loss: 15.9974 - MAE: 15.9974 - val_loss: 15.6527 - val_MAE: 15.6527\n",
            "Epoch 4/40\n",
            "840/840 [==============================] - 228s 272ms/step - loss: 14.5798 - MAE: 14.5798 - val_loss: 16.0136 - val_MAE: 16.0136\n",
            "Epoch 5/40\n",
            "840/840 [==============================] - 228s 272ms/step - loss: 13.4950 - MAE: 13.4950 - val_loss: 14.3049 - val_MAE: 14.3049\n",
            "Epoch 6/40\n",
            "840/840 [==============================] - 228s 271ms/step - loss: 12.5565 - MAE: 12.5565 - val_loss: 15.7571 - val_MAE: 15.7571\n",
            "Epoch 7/40\n",
            "840/840 [==============================] - 228s 271ms/step - loss: 12.0530 - MAE: 12.0530 - val_loss: 12.7153 - val_MAE: 12.7153\n",
            "Epoch 8/40\n",
            "840/840 [==============================] - 227s 271ms/step - loss: 10.9622 - MAE: 10.9622 - val_loss: 11.0758 - val_MAE: 11.0758\n",
            "Epoch 9/40\n",
            "840/840 [==============================] - 227s 271ms/step - loss: 10.2275 - MAE: 10.2275 - val_loss: 11.9420 - val_MAE: 11.9420\n",
            "Epoch 10/40\n",
            "840/840 [==============================] - 227s 270ms/step - loss: 9.6200 - MAE: 9.6200 - val_loss: 15.8142 - val_MAE: 15.8142\n",
            "Epoch 11/40\n",
            "840/840 [==============================] - 227s 270ms/step - loss: 9.8325 - MAE: 9.8325 - val_loss: 11.0521 - val_MAE: 11.0521\n",
            "Epoch 12/40\n",
            "840/840 [==============================] - 227s 270ms/step - loss: 9.0434 - MAE: 9.0434 - val_loss: 14.5524 - val_MAE: 14.5524\n",
            "Epoch 13/40\n",
            "840/840 [==============================] - 227s 270ms/step - loss: 8.2575 - MAE: 8.2575 - val_loss: 11.1201 - val_MAE: 11.1201\n",
            "Epoch 14/40\n",
            "840/840 [==============================] - 226s 269ms/step - loss: 8.2985 - MAE: 8.2985 - val_loss: 11.5255 - val_MAE: 11.5255\n",
            "Epoch 15/40\n",
            "840/840 [==============================] - 225s 268ms/step - loss: 7.7003 - MAE: 7.7003 - val_loss: 9.9678 - val_MAE: 9.9678\n",
            "Epoch 16/40\n",
            "840/840 [==============================] - 225s 268ms/step - loss: 7.5312 - MAE: 7.5312 - val_loss: 11.1961 - val_MAE: 11.1961\n",
            "Epoch 17/40\n",
            "840/840 [==============================] - 226s 268ms/step - loss: 7.5339 - MAE: 7.5339 - val_loss: 10.6454 - val_MAE: 10.6454\n",
            "Epoch 18/40\n",
            "840/840 [==============================] - 224s 267ms/step - loss: 7.3904 - MAE: 7.3904 - val_loss: 11.0195 - val_MAE: 11.0195\n",
            "Epoch 19/40\n",
            "840/840 [==============================] - 224s 267ms/step - loss: 7.1896 - MAE: 7.1896 - val_loss: 12.7351 - val_MAE: 12.7351\n",
            "Epoch 20/40\n",
            "840/840 [==============================] - 224s 267ms/step - loss: 6.2932 - MAE: 6.2932 - val_loss: 10.1822 - val_MAE: 10.1822\n",
            "Epoch 21/40\n",
            "840/840 [==============================] - 224s 267ms/step - loss: 6.4356 - MAE: 6.4356 - val_loss: 11.4106 - val_MAE: 11.4106\n",
            "Epoch 22/40\n",
            "840/840 [==============================] - 224s 267ms/step - loss: 6.2987 - MAE: 6.2987 - val_loss: 12.5859 - val_MAE: 12.5859\n",
            "Epoch 23/40\n",
            "840/840 [==============================] - 223s 266ms/step - loss: 5.8872 - MAE: 5.8872 - val_loss: 9.6221 - val_MAE: 9.6221\n",
            "Epoch 24/40\n",
            "840/840 [==============================] - 227s 270ms/step - loss: 5.9027 - MAE: 5.9027 - val_loss: 12.5336 - val_MAE: 12.5336\n",
            "Epoch 25/40\n",
            "840/840 [==============================] - 225s 267ms/step - loss: 5.7865 - MAE: 5.7865 - val_loss: 13.7104 - val_MAE: 13.7104\n",
            "Epoch 26/40\n",
            "840/840 [==============================] - 224s 267ms/step - loss: 5.6754 - MAE: 5.6754 - val_loss: 9.9518 - val_MAE: 9.9518\n",
            "Epoch 27/40\n",
            "840/840 [==============================] - 225s 268ms/step - loss: 5.5939 - MAE: 5.5939 - val_loss: 9.8519 - val_MAE: 9.8519\n",
            "Epoch 28/40\n",
            "840/840 [==============================] - 225s 267ms/step - loss: 5.3216 - MAE: 5.3216 - val_loss: 10.7435 - val_MAE: 10.7435\n",
            "Epoch 29/40\n",
            "840/840 [==============================] - 225s 267ms/step - loss: 5.7703 - MAE: 5.7703 - val_loss: 10.9244 - val_MAE: 10.9244\n",
            "Epoch 30/40\n",
            "840/840 [==============================] - 225s 268ms/step - loss: 5.0437 - MAE: 5.0437 - val_loss: 11.9069 - val_MAE: 11.9069\n",
            "Epoch 31/40\n",
            "840/840 [==============================] - 224s 267ms/step - loss: 5.0196 - MAE: 5.0196 - val_loss: 10.5326 - val_MAE: 10.5326\n",
            "Epoch 32/40\n",
            "840/840 [==============================] - 224s 267ms/step - loss: 4.9471 - MAE: 4.9471 - val_loss: 12.8526 - val_MAE: 12.8526\n",
            "Epoch 33/40\n",
            "840/840 [==============================] - 225s 268ms/step - loss: 4.9404 - MAE: 4.9404 - val_loss: 11.7882 - val_MAE: 11.7882\n",
            "Epoch 34/40\n",
            "840/840 [==============================] - 239s 284ms/step - loss: 4.9742 - MAE: 4.9742 - val_loss: 11.3905 - val_MAE: 11.3905\n",
            "Epoch 35/40\n",
            "840/840 [==============================] - 227s 270ms/step - loss: 4.6291 - MAE: 4.6291 - val_loss: 11.4861 - val_MAE: 11.4861\n",
            "Epoch 36/40\n",
            "840/840 [==============================] - 227s 271ms/step - loss: 4.3480 - MAE: 4.3480 - val_loss: 9.9537 - val_MAE: 9.9537\n",
            "Epoch 37/40\n",
            "840/840 [==============================] - 227s 271ms/step - loss: 4.8741 - MAE: 4.8741 - val_loss: 10.5034 - val_MAE: 10.5034\n",
            "Epoch 38/40\n",
            "840/840 [==============================] - 227s 271ms/step - loss: 4.5280 - MAE: 4.5280 - val_loss: 12.0036 - val_MAE: 12.0036\n",
            "Epoch 39/40\n",
            "840/840 [==============================] - 226s 269ms/step - loss: 4.5898 - MAE: 4.5898 - val_loss: 12.8509 - val_MAE: 12.8509\n",
            "Epoch 40/40\n",
            "840/840 [==============================] - 226s 269ms/step - loss: 4.7780 - MAE: 4.7780 - val_loss: 10.3839 - val_MAE: 10.3839\n",
            "355/355 [==============================] - 36s 103ms/step - loss: 9.0263 - MAE: 9.0263\n",
            "Test loss: 9.026328086853027\n"
          ]
        }
      ]
    },
    {
      "cell_type": "code",
      "source": [
        "plt.plot(history.history['loss'])\n",
        "plt.plot(history.history['val_loss'])\n",
        "plt.title('inv-mul_sq_aug Model loss')\n",
        "plt.ylabel('Loss')\n",
        "plt.xlabel('Epoch')\n",
        "plt.legend(['Train', 'Validation'], loc='upper left')\n",
        "plt.show()"
      ],
      "metadata": {
        "colab": {
          "base_uri": "https://localhost:8080/",
          "height": 295
        },
        "id": "sQ98yo0wZqWk",
        "outputId": "ecaca72e-2765-4b05-dd4a-248cad60cd81"
      },
      "execution_count": null,
      "outputs": [
        {
          "output_type": "display_data",
          "data": {
            "text/plain": [
              "<Figure size 432x288 with 1 Axes>"
            ],
            "image/png": "[encoded data removed]"
          },
          "metadata": {
            "needs_background": "light"
          }
        }
      ]
    },
    {
      "cell_type": "markdown",
      "source": [
        "#donot touch up--------------------------------"
      ],
      "metadata": {
        "id": "qvakptyCD7Nl"
      }
    },
    {
      "cell_type": "code",
      "source": [
        "def channel_attention(input_feature):\n",
        "  kernel_initializer = tf.keras.initializers.variance_scaling()\n",
        "  bias_initializer = tf.constant_initializer(value=0.0)\n",
        "  channel = input_feature.get_shape()[-1]\n",
        "  ratio=8\n",
        "  avg_pool = tf.reduce_mean(input_feature, axis=[1,2], keepdims=True)\n",
        "  assert avg_pool.get_shape()[1:] == (1,1,channel)\n",
        "  avg_pool =Dense(\n",
        "                                 units=channel//ratio,\n",
        "                                 activation=tf.nn.relu,\n",
        "                                 kernel_initializer=kernel_initializer,\n",
        "                                 bias_initializer=bias_initializer) (avg_pool)\n",
        "  assert avg_pool.get_shape()[1:] == (1,1,channel//ratio)\n",
        "  avg_pool = Dense(\n",
        "                                 units=channel,                             \n",
        "                                 kernel_initializer=kernel_initializer,\n",
        "                                 bias_initializer=bias_initializer)  (avg_pool)  \n",
        "  assert avg_pool.get_shape()[1:] == (1,1,channel)\n",
        "\n",
        "  max_pool = tf.reduce_max(input_feature, axis=[1,2], keepdims=True)    \n",
        "  assert max_pool.get_shape()[1:] == (1,1,channel)\n",
        "  max_pool = Dense(\n",
        "                                 units=channel//ratio,\n",
        "                                 activation=tf.nn.relu) (max_pool)  \n",
        "  assert max_pool.get_shape()[1:] == (1,1,channel//ratio)\n",
        "  max_pool = Dense(\n",
        "                                 units=channel)  (max_pool)\n",
        "  assert max_pool.get_shape()[1:] == (1,1,channel)\n",
        "\n",
        "  scale = tf.keras.activations.sigmoid(avg_pool + max_pool) \n",
        "  return input_feature * scale"
      ],
      "metadata": {
        "id": "E-qbWFh8-fbs"
      },
      "execution_count": null,
      "outputs": []
    },
    {
      "cell_type": "code",
      "source": [
        "import tensorflow as tf\n",
        "\n",
        "base_model = InceptionV3(weights='imagenet', include_top=False)\n",
        "input = Input(shape=(300,300,3),name='input1')\n",
        "input_gender = Input(shape=(1,),dtype='float32',name='input2')\n",
        "input_age = Input(shape=(2,114),dtype='float32',name='input3')\n",
        "output = base_model(input)\n",
        "gender_embedding=Dense(16)(input_gender)\n",
        "print (K.int_shape(output))\n",
        "sq = keras.layers.GlobalAveragePooling2D()(output)\n",
        "print (K.int_shape(sq))\n",
        "sq = keras.layers.Reshape((1,1,2048))(sq)\n",
        "sq = keras.layers.Dense(units=2048,activation=\"sigmoid\")(sq)\n",
        "block = keras.layers.multiply([output,sq])\n",
        "#fine Squeeze and Excitation 1\n",
        "\n",
        "net = keras.layers.add([output,block])\n",
        "net = keras.layers.BatchNormalization()(net)\n",
        "net = keras.layers.Activation(\"relu\")(net)\n",
        "net = keras.layers.MaxPooling2D(pool_size=(2, 2),name=\"block_1\")(net)\n",
        "print (K.int_shape(net))\n",
        "\n",
        "x=channel_attention(net)\n",
        "x = keras.layers.MaxPooling2D(pool_size=(4,4))(x)\n",
        "print (K.int_shape(x))\n",
        "x=Flatten()(x)\n",
        "f = keras.layers.Concatenate(axis=1)([x,gender_embedding])\n",
        "f = Dense(256, activation='relu')(f)\n",
        "x =Dense(228,activation='linear')(f)\n",
        "y=Flatten()(input_age)\n",
        "print(y.shape)\n",
        "f = keras.layers.Multiply()([x,y])\n",
        "predictions=Dense(1)(f)\n",
        "\n",
        "#Embedding = keras.layers.Conv2D(256,kernel_size=(2,2),strides=1)(output)\n",
        "#Embedding = keras.layers.AveragePooling2D(pool_size=(7,7))(Embedding)\n",
        "#Embedding = Flatten()(Embedding)\n",
        "#print (K.int_shape(Embedding))\n",
        "#variance = Dense(1)(Embedding)\n",
        "\n",
        "model = Model(inputs=[input,input_gender,input_age], outputs=predictions)\n",
        "for i,layer in enumerate(model.layers):\n",
        "    print (i,layer.name)\n",
        "\n",
        "Adam=tf.keras.optimizers.Adam(lr=0.0001,beta_1=0.9,beta_2=0.999)\n",
        "model.compile(optimizer=Adam, loss='mean_absolute_error', metrics=['MAE'],run_eagerly=True)\n",
        "model.summary()\n",
        "\n",
        "checkpoint =keras.callbacks.ModelCheckpoint(filepath='weights_inv-mul_sq_aug20_loss_dimg.{epoch:02d}-{val_loss:.2f}.hdf5',save_weights_only=True,period=20)\n",
        "#model.fit_generator(DataGen.flow([x_train,gender_train],y_train,batch_size=batch_size),steps_per_epoch=np.ceil(len(y_train)/batch_size),epochs=50,verbose=1,validation_data=([x_valid,gender_valid,agev],y_valid))\n",
        "history=model.fit([train_x,train_gen,agetr],train_y,batch_size=4,epochs=20,verbose=1,validation_data=([valid_x,valid_gen,agev],valid_y),callbacks = [checkpoint])\n",
        "score = model.evaluate([test_x,test_gen,aget],test_y, batch_size=batch_size)\n",
        "print('Test loss:', score[0])\n",
        "print('Test MAE:', score[1])"
      ],
      "metadata": {
        "colab": {
          "base_uri": "https://localhost:8080/"
        },
        "id": "riKOh89eEIaD",
        "outputId": "5fbe862d-6104-48c0-a1e5-d67345bff6c2"
      },
      "execution_count": null,
      "outputs": [
        {
          "output_type": "stream",
          "name": "stdout",
          "text": [
            "(None, 8, 8, 2048)\n",
            "(None, 2048)\n",
            "(None, 4, 4, 2048)\n",
            "(None, 1, 1, 2048)\n",
            "(None, 228)\n",
            "0 input1\n",
            "1 inception_v3\n",
            "2 global_average_pooling2d_2\n",
            "3 reshape_2\n",
            "4 dense_10\n",
            "5 multiply_2\n",
            "6 add_2\n",
            "7 batch_normalization_284\n",
            "8 activation_284\n",
            "9 block_1\n",
            "10 tf.math.reduce_mean\n",
            "11 tf.math.reduce_max\n",
            "12 dense_11\n",
            "13 dense_13\n",
            "14 dense_12\n",
            "15 dense_14\n",
            "16 tf.__operators__.add\n",
            "17 tf.math.sigmoid\n",
            "18 tf.math.multiply\n",
            "19 max_pooling2d_14\n",
            "20 input2\n",
            "21 flatten_2\n",
            "22 dense_9\n",
            "23 concatenate_8\n",
            "24 dense_15\n",
            "25 input3\n",
            "26 dense_16\n",
            "27 flatten_3\n",
            "28 multiply_3\n",
            "29 dense_17\n",
            "Model: \"model_2\"\n",
            "__________________________________________________________________________________________________\n",
            " Layer (type)                   Output Shape         Param #     Connected to                     \n",
            "==================================================================================================\n",
            " input1 (InputLayer)            [(None, 300, 300, 3  0           []                               \n",
            "                                )]                                                                \n",
            "                                                                                                  \n",
            " inception_v3 (Functional)      (None, None, None,   21802784    ['input1[0][0]']                 \n",
            "                                2048)                                                             \n",
            "                                                                                                  \n",
            " global_average_pooling2d_2 (Gl  (None, 2048)        0           ['inception_v3[0][0]']           \n",
            " obalAveragePooling2D)                                                                            \n",
            "                                                                                                  \n",
            " reshape_2 (Reshape)            (None, 1, 1, 2048)   0           ['global_average_pooling2d_2[0][0\n",
            "                                                                 ]']                              \n",
            "                                                                                                  \n",
            " dense_10 (Dense)               (None, 1, 1, 2048)   4196352     ['reshape_2[0][0]']              \n",
            "                                                                                                  \n",
            " multiply_2 (Multiply)          (None, 8, 8, 2048)   0           ['inception_v3[0][0]',           \n",
            "                                                                  'dense_10[0][0]']               \n",
            "                                                                                                  \n",
            " add_2 (Add)                    (None, 8, 8, 2048)   0           ['inception_v3[0][0]',           \n",
            "                                                                  'multiply_2[0][0]']             \n",
            "                                                                                                  \n",
            " batch_normalization_284 (Batch  (None, 8, 8, 2048)  8192        ['add_2[0][0]']                  \n",
            " Normalization)                                                                                   \n",
            "                                                                                                  \n",
            " activation_284 (Activation)    (None, 8, 8, 2048)   0           ['batch_normalization_284[0][0]']\n",
            "                                                                                                  \n",
            " block_1 (MaxPooling2D)         (None, 4, 4, 2048)   0           ['activation_284[0][0]']         \n",
            "                                                                                                  \n",
            " tf.math.reduce_mean (TFOpLambd  (None, 1, 1, 2048)  0           ['block_1[0][0]']                \n",
            " a)                                                                                               \n",
            "                                                                                                  \n",
            " tf.math.reduce_max (TFOpLambda  (None, 1, 1, 2048)  0           ['block_1[0][0]']                \n",
            " )                                                                                                \n",
            "                                                                                                  \n",
            " dense_11 (Dense)               (None, 1, 1, 256)    524544      ['tf.math.reduce_mean[0][0]']    \n",
            "                                                                                                  \n",
            " dense_13 (Dense)               (None, 1, 1, 256)    524544      ['tf.math.reduce_max[0][0]']     \n",
            "                                                                                                  \n",
            " dense_12 (Dense)               (None, 1, 1, 2048)   526336      ['dense_11[0][0]']               \n",
            "                                                                                                  \n",
            " dense_14 (Dense)               (None, 1, 1, 2048)   526336      ['dense_13[0][0]']               \n",
            "                                                                                                  \n",
            " tf.__operators__.add (TFOpLamb  (None, 1, 1, 2048)  0           ['dense_12[0][0]',               \n",
            " da)                                                              'dense_14[0][0]']               \n",
            "                                                                                                  \n",
            " tf.math.sigmoid (TFOpLambda)   (None, 1, 1, 2048)   0           ['tf.__operators__.add[0][0]']   \n",
            "                                                                                                  \n",
            " tf.math.multiply (TFOpLambda)  (None, 4, 4, 2048)   0           ['block_1[0][0]',                \n",
            "                                                                  'tf.math.sigmoid[0][0]']        \n",
            "                                                                                                  \n",
            " max_pooling2d_14 (MaxPooling2D  (None, 1, 1, 2048)  0           ['tf.math.multiply[0][0]']       \n",
            " )                                                                                                \n",
            "                                                                                                  \n",
            " input2 (InputLayer)            [(None, 1)]          0           []                               \n",
            "                                                                                                  \n",
            " flatten_2 (Flatten)            (None, 2048)         0           ['max_pooling2d_14[0][0]']       \n",
            "                                                                                                  \n",
            " dense_9 (Dense)                (None, 16)           32          ['input2[0][0]']                 \n",
            "                                                                                                  \n",
            " concatenate_8 (Concatenate)    (None, 2064)         0           ['flatten_2[0][0]',              \n",
            "                                                                  'dense_9[0][0]']                \n",
            "                                                                                                  \n",
            " dense_15 (Dense)               (None, 256)          528640      ['concatenate_8[0][0]']          \n",
            "                                                                                                  \n",
            " input3 (InputLayer)            [(None, 2, 114)]     0           []                               \n",
            "                                                                                                  \n",
            " dense_16 (Dense)               (None, 228)          58596       ['dense_15[0][0]']               \n",
            "                                                                                                  \n",
            " flatten_3 (Flatten)            (None, 228)          0           ['input3[0][0]']                 \n",
            "                                                                                                  \n",
            " multiply_3 (Multiply)          (None, 228)          0           ['dense_16[0][0]',               \n",
            "                                                                  'flatten_3[0][0]']              \n",
            "                                                                                                  \n",
            " dense_17 (Dense)               (None, 1)            229         ['multiply_3[0][0]']             \n",
            "                                                                                                  \n",
            "==================================================================================================\n",
            "Total params: 28,696,585\n",
            "Trainable params: 28,658,057\n",
            "Non-trainable params: 38,528\n",
            "__________________________________________________________________________________________________\n"
          ]
        },
        {
          "output_type": "stream",
          "name": "stderr",
          "text": [
            "/usr/local/lib/python3.8/dist-packages/keras/optimizers/optimizer_v2/adam.py:110: UserWarning: The `lr` argument is deprecated, use `learning_rate` instead.\n",
            "  super(Adam, self).__init__(name, **kwargs)\n",
            "WARNING:tensorflow:`period` argument is deprecated. Please use `save_freq` to specify the frequency in number of batches seen.\n"
          ]
        },
        {
          "output_type": "stream",
          "name": "stdout",
          "text": [
            "Epoch 1/20\n",
            "840/840 [==============================] - 250s 298ms/step - loss: 52.9421 - MAE: 52.9421 - val_loss: 23.9615 - val_MAE: 23.9615\n",
            "Epoch 2/20\n",
            "840/840 [==============================] - 247s 294ms/step - loss: 27.0979 - MAE: 27.0979 - val_loss: 34.6591 - val_MAE: 34.6591\n",
            "Epoch 3/20\n",
            "840/840 [==============================] - 248s 295ms/step - loss: 22.5889 - MAE: 22.5889 - val_loss: 15.7755 - val_MAE: 15.7755\n",
            "Epoch 4/20\n",
            "840/840 [==============================] - 248s 296ms/step - loss: 18.5244 - MAE: 18.5244 - val_loss: 18.0241 - val_MAE: 18.0241\n",
            "Epoch 5/20\n",
            "840/840 [==============================] - 249s 297ms/step - loss: 16.6283 - MAE: 16.6283 - val_loss: 19.2707 - val_MAE: 19.2707\n",
            "Epoch 6/20\n",
            "840/840 [==============================] - 247s 294ms/step - loss: 16.1077 - MAE: 16.1077 - val_loss: 14.6936 - val_MAE: 14.6936\n",
            "Epoch 7/20\n",
            "840/840 [==============================] - 246s 293ms/step - loss: 15.2948 - MAE: 15.2948 - val_loss: 24.0431 - val_MAE: 24.0431\n",
            "Epoch 8/20\n",
            "840/840 [==============================] - 247s 294ms/step - loss: 14.5308 - MAE: 14.5308 - val_loss: 14.1242 - val_MAE: 14.1242\n",
            "Epoch 9/20\n",
            "840/840 [==============================] - 247s 294ms/step - loss: 13.6315 - MAE: 13.6315 - val_loss: 15.4169 - val_MAE: 15.4169\n",
            "Epoch 10/20\n",
            "840/840 [==============================] - 247s 294ms/step - loss: 12.9087 - MAE: 12.9087 - val_loss: 14.7513 - val_MAE: 14.7513\n",
            "Epoch 11/20\n",
            "840/840 [==============================] - 247s 294ms/step - loss: 12.4627 - MAE: 12.4627 - val_loss: 11.2689 - val_MAE: 11.2689\n",
            "Epoch 12/20\n",
            "840/840 [==============================] - 245s 292ms/step - loss: 11.8608 - MAE: 11.8608 - val_loss: 14.9906 - val_MAE: 14.9906\n",
            "Epoch 13/20\n",
            "840/840 [==============================] - 246s 293ms/step - loss: 11.4268 - MAE: 11.4268 - val_loss: 12.4251 - val_MAE: 12.4251\n",
            "Epoch 14/20\n",
            "840/840 [==============================] - 244s 291ms/step - loss: 10.9390 - MAE: 10.9390 - val_loss: 14.9837 - val_MAE: 14.9837\n",
            "Epoch 15/20\n",
            "840/840 [==============================] - 246s 292ms/step - loss: 10.8560 - MAE: 10.8560 - val_loss: 13.8113 - val_MAE: 13.8113\n",
            "Epoch 16/20\n",
            "168/840 [=====>........................] - ETA: 2:51 - loss: 9.6638 - MAE: 9.6638"
          ]
        }
      ]
    },
    {
      "cell_type": "code",
      "source": [],
      "metadata": {
        "id": "_zrsPB4PFaGd"
      },
      "execution_count": null,
      "outputs": []
    }
  ]
}