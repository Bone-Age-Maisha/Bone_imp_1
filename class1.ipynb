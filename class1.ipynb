{
  "nbformat": 4,
  "nbformat_minor": 0,
  "metadata": {
    "colab": {
      "provenance": [],
      "gpuType": "T4",
      "authorship_tag": "ABX9TyNbxddWjDauye2mePJtYwX7",
      "include_colab_link": true
    },
    "kernelspec": {
      "name": "python3",
      "display_name": "Python 3"
    },
    "language_info": {
      "name": "python"
    },
    "accelerator": "GPU"
  },
  "cells": [
    {
      "cell_type": "markdown",
      "metadata": {
        "id": "view-in-github",
        "colab_type": "text"
      },
      "source": [
        "<a href=\"https://colab.research.google.com/github/Bone-Age-Maisha/Bone_imp_1/blob/main/class1.ipynb\" target=\"_parent\"><img src=\"https://colab.research.google.com/assets/colab-badge.svg\" alt=\"Open In Colab\"/></a>"
      ]
    },
    {
      "cell_type": "code",
      "execution_count": null,
      "metadata": {
        "id": "BySEA5LksxsV"
      },
      "outputs": [],
      "source": []
    },
    {
      "cell_type": "code",
      "execution_count": null,
      "metadata": {
        "id": "tPvcZ-kAa1uv"
      },
      "outputs": [],
      "source": []
    },
    {
      "cell_type": "code",
      "execution_count": 1,
      "metadata": {
        "colab": {
          "base_uri": "https://localhost:8080/"
        },
        "id": "NaAYTZA-JFL1",
        "outputId": "217634d1-3dca-4523-dd65-85228e630d06"
      },
      "outputs": [
        {
          "output_type": "stream",
          "name": "stdout",
          "text": [
            "Sun Jul  9 17:30:04 2023       \n",
            "+-----------------------------------------------------------------------------+\n",
            "| NVIDIA-SMI 525.85.12    Driver Version: 525.85.12    CUDA Version: 12.0     |\n",
            "|-------------------------------+----------------------+----------------------+\n",
            "| GPU  Name        Persistence-M| Bus-Id        Disp.A | Volatile Uncorr. ECC |\n",
            "| Fan  Temp  Perf  Pwr:Usage/Cap|         Memory-Usage | GPU-Util  Compute M. |\n",
            "|                               |                      |               MIG M. |\n",
            "|===============================+======================+======================|\n",
            "|   0  Tesla T4            Off  | 00000000:00:04.0 Off |                    0 |\n",
            "| N/A   62C    P8    12W /  70W |      0MiB / 15360MiB |      0%      Default |\n",
            "|                               |                      |                  N/A |\n",
            "+-------------------------------+----------------------+----------------------+\n",
            "                                                                               \n",
            "+-----------------------------------------------------------------------------+\n",
            "| Processes:                                                                  |\n",
            "|  GPU   GI   CI        PID   Type   Process name                  GPU Memory |\n",
            "|        ID   ID                                                   Usage      |\n",
            "|=============================================================================|\n",
            "|  No running processes found                                                 |\n",
            "+-----------------------------------------------------------------------------+\n"
          ]
        }
      ],
      "source": [
        "!nvidia-smi"
      ]
    },
    {
      "cell_type": "code",
      "execution_count": 2,
      "metadata": {
        "colab": {
          "base_uri": "https://localhost:8080/"
        },
        "id": "5ME1eES_XVgf",
        "outputId": "dabe6121-1937-463a-daaf-ed6d323ea18e"
      },
      "outputs": [
        {
          "output_type": "stream",
          "name": "stdout",
          "text": [
            "Mounted at /content/drive\n"
          ]
        }
      ],
      "source": [
        "from google.colab import drive\n",
        "drive.mount('/content/drive')"
      ]
    },
    {
      "cell_type": "code",
      "source": [
        "!sudo add-apt-repository -y ppa:alessandro-strada/ppa 2>&1 > /dev/null\n",
        "!sudo apt-get update -qq 2>&1 > /dev/null\n",
        "!sudo apt -y install -qq google-drive-ocamlfuse 2>&1 > /dev/null\n",
        "!google-drive-ocamlfuse"
      ],
      "metadata": {
        "colab": {
          "base_uri": "https://localhost:8080/"
        },
        "id": "ogwz5Mu2Wmqc",
        "outputId": "62b356f9-283f-4cf6-f9e7-c1ca94b4e006"
      },
      "execution_count": 3,
      "outputs": [
        {
          "output_type": "stream",
          "name": "stdout",
          "text": [
            "\n",
            "WARNING: apt does not have a stable CLI interface. Use with caution in scripts.\n",
            "\n",
            "debconf: unable to initialize frontend: Dialog\n",
            "debconf: (No usable dialog-like program is installed, so the dialog based frontend cannot be used. at /usr/share/perl5/Debconf/FrontEnd/Dialog.pm line 76, <> line 1.)\n",
            "debconf: falling back to frontend: Readline\n",
            "debconf: unable to initialize frontend: Readline\n",
            "debconf: (This frontend requires a controlling tty.)\n",
            "debconf: falling back to frontend: Teletype\n",
            "dpkg-preconfigure: unable to re-open stdin: \n",
            "/usr/bin/xdg-open: 869: www-browser: not found\n",
            "/usr/bin/xdg-open: 869: links2: not found\n",
            "/usr/bin/xdg-open: 869: elinks: not found\n",
            "/usr/bin/xdg-open: 869: links: not found\n",
            "/usr/bin/xdg-open: 869: lynx: not found\n",
            "/usr/bin/xdg-open: 869: w3m: not found\n",
            "xdg-open: no method available for opening 'https://accounts.google.com/o/oauth2/auth?client_id=564921029129.apps.googleusercontent.com&redirect_uri=https%3A%2F%2Fgd-ocaml-auth.appspot.com%2Foauth2callback&scope=https%3A%2F%2Fwww.googleapis.com%2Fauth%2Fdrive&response_type=code&access_type=offline&approval_prompt=force&state=Tc6W9OLdBFPaJD2bnSv3QSDxwoGBaxN2Lx4-XtQoz84'\n",
            "/bin/sh: 1: firefox: not found\n",
            "/bin/sh: 1: google-chrome: not found\n",
            "/bin/sh: 1: chromium-browser: not found\n",
            "/bin/sh: 1: open: not found\n",
            "Cannot retrieve auth tokens.\n",
            "Failure(\"Error opening URL:https://accounts.google.com/o/oauth2/auth?client_id=564921029129.apps.googleusercontent.com&redirect_uri=https%3A%2F%2Fgd-ocaml-auth.appspot.com%2Foauth2callback&scope=https%3A%2F%2Fwww.googleapis.com%2Fauth%2Fdrive&response_type=code&access_type=offline&approval_prompt=force&state=Tc6W9OLdBFPaJD2bnSv3QSDxwoGBaxN2Lx4-XtQoz84\")\n"
          ]
        }
      ]
    },
    {
      "cell_type": "code",
      "source": [],
      "metadata": {
        "id": "6NBwMxc8YSNq"
      },
      "execution_count": null,
      "outputs": []
    },
    {
      "cell_type": "code",
      "execution_count": 4,
      "metadata": {
        "colab": {
          "base_uri": "https://localhost:8080/"
        },
        "id": "UtaPowTTaLi5",
        "outputId": "feed9d50-85f6-4ccb-8f59-2b7f6c06e672"
      },
      "outputs": [
        {
          "output_type": "stream",
          "name": "stdout",
          "text": [
            "debconf: unable to initialize frontend: Dialog\n",
            "debconf: (No usable dialog-like program is installed, so the dialog based frontend cannot be used. at /usr/share/perl5/Debconf/FrontEnd/Dialog.pm line 76, <> line 1.)\n",
            "debconf: falling back to frontend: Readline\n",
            "debconf: unable to initialize frontend: Readline\n",
            "debconf: (This frontend requires a controlling tty.)\n",
            "debconf: falling back to frontend: Teletype\n",
            "dpkg-preconfigure: unable to re-open stdin: \n",
            "Selecting previously unselected package w3m.\n",
            "(Reading database ... \r(Reading database ... 5%\r(Reading database ... 10%\r(Reading database ... 15%\r(Reading database ... 20%\r(Reading database ... 25%\r(Reading database ... 30%\r(Reading database ... 35%\r(Reading database ... 40%\r(Reading database ... 45%\r(Reading database ... 50%\r(Reading database ... 55%\r(Reading database ... 60%\r(Reading database ... 65%\r(Reading database ... 70%\r(Reading database ... 75%\r(Reading database ... 80%\r(Reading database ... 85%\r(Reading database ... 90%\r(Reading database ... 95%\r(Reading database ... 100%\r(Reading database ... 123110 files and directories currently installed.)\n",
            "Preparing to unpack .../w3m_0.5.3-37ubuntu0.1_amd64.deb ...\n",
            "Unpacking w3m (0.5.3-37ubuntu0.1) ...\n",
            "Setting up w3m (0.5.3-37ubuntu0.1) ...\n",
            "Processing triggers for man-db (2.9.1-1) ...\n",
            "Processing triggers for mime-support (3.64ubuntu1) ...\n",
            "/content\n",
            "/content/drive2\n",
            "/content\n",
            "/\n",
            "Access token retrieved correctly.\n"
          ]
        }
      ],
      "source": [
        "!sudo apt-get install -qq w3m # to act as web browser\n",
        "!xdg-settings set default-web-browser w3m.desktop # to set default browser\n",
        "%cd /content\n",
        "!mkdir drive2\n",
        "%cd drive2\n",
        "!mkdir MyDrive\n",
        "%cd ..\n",
        "%cd ..\n",
        "!google-drive-ocamlfuse /content/drive2/MyDrive"
      ]
    },
    {
      "cell_type": "code",
      "source": [
        "import numpy as np\n",
        "import cv2\n",
        "import os\n",
        "import pandas as pd\n",
        "\n"
      ],
      "metadata": {
        "id": "PayzazgAYf63"
      },
      "execution_count": 5,
      "outputs": []
    },
    {
      "cell_type": "code",
      "execution_count": 6,
      "metadata": {
        "id": "-InGAyx9JYmj"
      },
      "outputs": [],
      "source": [
        "\n",
        "import pandas as pd\n",
        "train_dir = '/content/drive2/MyDrive/unetat'\n",
        "df = pd.read_csv('/content/drive2/MyDrive/data.csv')"
      ]
    },
    {
      "cell_type": "code",
      "execution_count": 7,
      "metadata": {
        "id": "pwpxM2gtI9HK"
      },
      "outputs": [],
      "source": [
        "df.drop(df[(df['id'] == 7144)].index, inplace=True)\n",
        "\n"
      ]
    },
    {
      "cell_type": "code",
      "source": [
        "df = df.groupby(['boneage']).apply(lambda x: x.sample(15, replace = True)\n",
        "                                                      ).reset_index(drop = True)"
      ],
      "metadata": {
        "id": "Jyf6JmhdTNAK"
      },
      "execution_count": 8,
      "outputs": []
    },
    {
      "cell_type": "code",
      "source": [
        "df['boneage'] = df['boneage'].astype('int')"
      ],
      "metadata": {
        "id": "vtPqmbAWTTCu"
      },
      "execution_count": 9,
      "outputs": []
    },
    {
      "cell_type": "code",
      "source": [
        "df"
      ],
      "metadata": {
        "colab": {
          "base_uri": "https://localhost:8080/",
          "height": 423
        },
        "id": "1TmXB5J9TTJE",
        "outputId": "3e6c577f-4d28-4dbd-86e7-65699adaf6d1"
      },
      "execution_count": 10,
      "outputs": [
        {
          "output_type": "execute_result",
          "data": {
            "text/plain": [
              "       Unnamed: 0    id  boneage  gender\n",
              "0             504  5574        0       1\n",
              "1             504  5574        0       1\n",
              "2             504  5574        0       1\n",
              "3             504  5574        0       1\n",
              "4             504  5574        0       1\n",
              "...           ...   ...      ...     ...\n",
              "15715        1225  5198      228       0\n",
              "15716        1225  5198      228       0\n",
              "15717        1225  5198      228       0\n",
              "15718        1225  5198      228       0\n",
              "15719        1225  5198      228       0\n",
              "\n",
              "[15720 rows x 4 columns]"
            ],
            "text/html": [
              "\n",
              "  <div id=\"df-e5a1d624-56f4-4d4a-8083-852e4be909db\">\n",
              "    <div class=\"colab-df-container\">\n",
              "      <div>\n",
              "<style scoped>\n",
              "    .dataframe tbody tr th:only-of-type {\n",
              "        vertical-align: middle;\n",
              "    }\n",
              "\n",
              "    .dataframe tbody tr th {\n",
              "        vertical-align: top;\n",
              "    }\n",
              "\n",
              "    .dataframe thead th {\n",
              "        text-align: right;\n",
              "    }\n",
              "</style>\n",
              "<table border=\"1\" class=\"dataframe\">\n",
              "  <thead>\n",
              "    <tr style=\"text-align: right;\">\n",
              "      <th></th>\n",
              "      <th>Unnamed: 0</th>\n",
              "      <th>id</th>\n",
              "      <th>boneage</th>\n",
              "      <th>gender</th>\n",
              "    </tr>\n",
              "  </thead>\n",
              "  <tbody>\n",
              "    <tr>\n",
              "      <th>0</th>\n",
              "      <td>504</td>\n",
              "      <td>5574</td>\n",
              "      <td>0</td>\n",
              "      <td>1</td>\n",
              "    </tr>\n",
              "    <tr>\n",
              "      <th>1</th>\n",
              "      <td>504</td>\n",
              "      <td>5574</td>\n",
              "      <td>0</td>\n",
              "      <td>1</td>\n",
              "    </tr>\n",
              "    <tr>\n",
              "      <th>2</th>\n",
              "      <td>504</td>\n",
              "      <td>5574</td>\n",
              "      <td>0</td>\n",
              "      <td>1</td>\n",
              "    </tr>\n",
              "    <tr>\n",
              "      <th>3</th>\n",
              "      <td>504</td>\n",
              "      <td>5574</td>\n",
              "      <td>0</td>\n",
              "      <td>1</td>\n",
              "    </tr>\n",
              "    <tr>\n",
              "      <th>4</th>\n",
              "      <td>504</td>\n",
              "      <td>5574</td>\n",
              "      <td>0</td>\n",
              "      <td>1</td>\n",
              "    </tr>\n",
              "    <tr>\n",
              "      <th>...</th>\n",
              "      <td>...</td>\n",
              "      <td>...</td>\n",
              "      <td>...</td>\n",
              "      <td>...</td>\n",
              "    </tr>\n",
              "    <tr>\n",
              "      <th>15715</th>\n",
              "      <td>1225</td>\n",
              "      <td>5198</td>\n",
              "      <td>228</td>\n",
              "      <td>0</td>\n",
              "    </tr>\n",
              "    <tr>\n",
              "      <th>15716</th>\n",
              "      <td>1225</td>\n",
              "      <td>5198</td>\n",
              "      <td>228</td>\n",
              "      <td>0</td>\n",
              "    </tr>\n",
              "    <tr>\n",
              "      <th>15717</th>\n",
              "      <td>1225</td>\n",
              "      <td>5198</td>\n",
              "      <td>228</td>\n",
              "      <td>0</td>\n",
              "    </tr>\n",
              "    <tr>\n",
              "      <th>15718</th>\n",
              "      <td>1225</td>\n",
              "      <td>5198</td>\n",
              "      <td>228</td>\n",
              "      <td>0</td>\n",
              "    </tr>\n",
              "    <tr>\n",
              "      <th>15719</th>\n",
              "      <td>1225</td>\n",
              "      <td>5198</td>\n",
              "      <td>228</td>\n",
              "      <td>0</td>\n",
              "    </tr>\n",
              "  </tbody>\n",
              "</table>\n",
              "<p>15720 rows × 4 columns</p>\n",
              "</div>\n",
              "      <button class=\"colab-df-convert\" onclick=\"convertToInteractive('df-e5a1d624-56f4-4d4a-8083-852e4be909db')\"\n",
              "              title=\"Convert this dataframe to an interactive table.\"\n",
              "              style=\"display:none;\">\n",
              "        \n",
              "  <svg xmlns=\"http://www.w3.org/2000/svg\" height=\"24px\"viewBox=\"0 0 24 24\"\n",
              "       width=\"24px\">\n",
              "    <path d=\"M0 0h24v24H0V0z\" fill=\"none\"/>\n",
              "    <path d=\"M18.56 5.44l.94 2.06.94-2.06 2.06-.94-2.06-.94-.94-2.06-.94 2.06-2.06.94zm-11 1L8.5 8.5l.94-2.06 2.06-.94-2.06-.94L8.5 2.5l-.94 2.06-2.06.94zm10 10l.94 2.06.94-2.06 2.06-.94-2.06-.94-.94-2.06-.94 2.06-2.06.94z\"/><path d=\"M17.41 7.96l-1.37-1.37c-.4-.4-.92-.59-1.43-.59-.52 0-1.04.2-1.43.59L10.3 9.45l-7.72 7.72c-.78.78-.78 2.05 0 2.83L4 21.41c.39.39.9.59 1.41.59.51 0 1.02-.2 1.41-.59l7.78-7.78 2.81-2.81c.8-.78.8-2.07 0-2.86zM5.41 20L4 18.59l7.72-7.72 1.47 1.35L5.41 20z\"/>\n",
              "  </svg>\n",
              "      </button>\n",
              "      \n",
              "  <style>\n",
              "    .colab-df-container {\n",
              "      display:flex;\n",
              "      flex-wrap:wrap;\n",
              "      gap: 12px;\n",
              "    }\n",
              "\n",
              "    .colab-df-convert {\n",
              "      background-color: #E8F0FE;\n",
              "      border: none;\n",
              "      border-radius: 50%;\n",
              "      cursor: pointer;\n",
              "      display: none;\n",
              "      fill: #1967D2;\n",
              "      height: 32px;\n",
              "      padding: 0 0 0 0;\n",
              "      width: 32px;\n",
              "    }\n",
              "\n",
              "    .colab-df-convert:hover {\n",
              "      background-color: #E2EBFA;\n",
              "      box-shadow: 0px 1px 2px rgba(60, 64, 67, 0.3), 0px 1px 3px 1px rgba(60, 64, 67, 0.15);\n",
              "      fill: #174EA6;\n",
              "    }\n",
              "\n",
              "    [theme=dark] .colab-df-convert {\n",
              "      background-color: #3B4455;\n",
              "      fill: #D2E3FC;\n",
              "    }\n",
              "\n",
              "    [theme=dark] .colab-df-convert:hover {\n",
              "      background-color: #434B5C;\n",
              "      box-shadow: 0px 1px 3px 1px rgba(0, 0, 0, 0.15);\n",
              "      filter: drop-shadow(0px 1px 2px rgba(0, 0, 0, 0.3));\n",
              "      fill: #FFFFFF;\n",
              "    }\n",
              "  </style>\n",
              "\n",
              "      <script>\n",
              "        const buttonEl =\n",
              "          document.querySelector('#df-e5a1d624-56f4-4d4a-8083-852e4be909db button.colab-df-convert');\n",
              "        buttonEl.style.display =\n",
              "          google.colab.kernel.accessAllowed ? 'block' : 'none';\n",
              "\n",
              "        async function convertToInteractive(key) {\n",
              "          const element = document.querySelector('#df-e5a1d624-56f4-4d4a-8083-852e4be909db');\n",
              "          const dataTable =\n",
              "            await google.colab.kernel.invokeFunction('convertToInteractive',\n",
              "                                                     [key], {});\n",
              "          if (!dataTable) return;\n",
              "\n",
              "          const docLinkHtml = 'Like what you see? Visit the ' +\n",
              "            '<a target=\"_blank\" href=https://colab.research.google.com/notebooks/data_table.ipynb>data table notebook</a>'\n",
              "            + ' to learn more about interactive tables.';\n",
              "          element.innerHTML = '';\n",
              "          dataTable['output_type'] = 'display_data';\n",
              "          await google.colab.output.renderOutput(dataTable, element);\n",
              "          const docLink = document.createElement('div');\n",
              "          docLink.innerHTML = docLinkHtml;\n",
              "          element.appendChild(docLink);\n",
              "        }\n",
              "      </script>\n",
              "    </div>\n",
              "  </div>\n",
              "  "
            ]
          },
          "metadata": {},
          "execution_count": 10
        }
      ]
    },
    {
      "cell_type": "code",
      "execution_count": 11,
      "metadata": {
        "id": "F0wC42Er279Q"
      },
      "outputs": [],
      "source": [
        "import os\n",
        "age_df = df\n",
        "age_df['path'] = age_df['id'].map(lambda x: os.path.join(train_dir,\n",
        "                                                         '{}.jpg'.format(x)))\n",
        "#age_df['exists'] = age_df['path'].map(os.path.exists)"
      ]
    },
    {
      "cell_type": "code",
      "execution_count": 12,
      "metadata": {
        "id": "IiJgKNhOemjz"
      },
      "outputs": [],
      "source": [
        "age1=age_df"
      ]
    },
    {
      "cell_type": "code",
      "source": [
        "age1"
      ],
      "metadata": {
        "colab": {
          "base_uri": "https://localhost:8080/",
          "height": 423
        },
        "id": "ywO4AZnnSSFB",
        "outputId": "37a692a7-8301-4ad2-9049-a4f4f7b6f04f"
      },
      "execution_count": 13,
      "outputs": [
        {
          "output_type": "execute_result",
          "data": {
            "text/plain": [
              "       Unnamed: 0    id  boneage  gender  \\\n",
              "0             504  5574        0       1   \n",
              "1             504  5574        0       1   \n",
              "2             504  5574        0       1   \n",
              "3             504  5574        0       1   \n",
              "4             504  5574        0       1   \n",
              "...           ...   ...      ...     ...   \n",
              "15715        1225  5198      228       0   \n",
              "15716        1225  5198      228       0   \n",
              "15717        1225  5198      228       0   \n",
              "15718        1225  5198      228       0   \n",
              "15719        1225  5198      228       0   \n",
              "\n",
              "                                          path  \n",
              "0      /content/drive2/MyDrive/unetat/5574.jpg  \n",
              "1      /content/drive2/MyDrive/unetat/5574.jpg  \n",
              "2      /content/drive2/MyDrive/unetat/5574.jpg  \n",
              "3      /content/drive2/MyDrive/unetat/5574.jpg  \n",
              "4      /content/drive2/MyDrive/unetat/5574.jpg  \n",
              "...                                        ...  \n",
              "15715  /content/drive2/MyDrive/unetat/5198.jpg  \n",
              "15716  /content/drive2/MyDrive/unetat/5198.jpg  \n",
              "15717  /content/drive2/MyDrive/unetat/5198.jpg  \n",
              "15718  /content/drive2/MyDrive/unetat/5198.jpg  \n",
              "15719  /content/drive2/MyDrive/unetat/5198.jpg  \n",
              "\n",
              "[15720 rows x 5 columns]"
            ],
            "text/html": [
              "\n",
              "  <div id=\"df-69806cbe-5601-4a57-b0a3-1e9f8d9753cb\">\n",
              "    <div class=\"colab-df-container\">\n",
              "      <div>\n",
              "<style scoped>\n",
              "    .dataframe tbody tr th:only-of-type {\n",
              "        vertical-align: middle;\n",
              "    }\n",
              "\n",
              "    .dataframe tbody tr th {\n",
              "        vertical-align: top;\n",
              "    }\n",
              "\n",
              "    .dataframe thead th {\n",
              "        text-align: right;\n",
              "    }\n",
              "</style>\n",
              "<table border=\"1\" class=\"dataframe\">\n",
              "  <thead>\n",
              "    <tr style=\"text-align: right;\">\n",
              "      <th></th>\n",
              "      <th>Unnamed: 0</th>\n",
              "      <th>id</th>\n",
              "      <th>boneage</th>\n",
              "      <th>gender</th>\n",
              "      <th>path</th>\n",
              "    </tr>\n",
              "  </thead>\n",
              "  <tbody>\n",
              "    <tr>\n",
              "      <th>0</th>\n",
              "      <td>504</td>\n",
              "      <td>5574</td>\n",
              "      <td>0</td>\n",
              "      <td>1</td>\n",
              "      <td>/content/drive2/MyDrive/unetat/5574.jpg</td>\n",
              "    </tr>\n",
              "    <tr>\n",
              "      <th>1</th>\n",
              "      <td>504</td>\n",
              "      <td>5574</td>\n",
              "      <td>0</td>\n",
              "      <td>1</td>\n",
              "      <td>/content/drive2/MyDrive/unetat/5574.jpg</td>\n",
              "    </tr>\n",
              "    <tr>\n",
              "      <th>2</th>\n",
              "      <td>504</td>\n",
              "      <td>5574</td>\n",
              "      <td>0</td>\n",
              "      <td>1</td>\n",
              "      <td>/content/drive2/MyDrive/unetat/5574.jpg</td>\n",
              "    </tr>\n",
              "    <tr>\n",
              "      <th>3</th>\n",
              "      <td>504</td>\n",
              "      <td>5574</td>\n",
              "      <td>0</td>\n",
              "      <td>1</td>\n",
              "      <td>/content/drive2/MyDrive/unetat/5574.jpg</td>\n",
              "    </tr>\n",
              "    <tr>\n",
              "      <th>4</th>\n",
              "      <td>504</td>\n",
              "      <td>5574</td>\n",
              "      <td>0</td>\n",
              "      <td>1</td>\n",
              "      <td>/content/drive2/MyDrive/unetat/5574.jpg</td>\n",
              "    </tr>\n",
              "    <tr>\n",
              "      <th>...</th>\n",
              "      <td>...</td>\n",
              "      <td>...</td>\n",
              "      <td>...</td>\n",
              "      <td>...</td>\n",
              "      <td>...</td>\n",
              "    </tr>\n",
              "    <tr>\n",
              "      <th>15715</th>\n",
              "      <td>1225</td>\n",
              "      <td>5198</td>\n",
              "      <td>228</td>\n",
              "      <td>0</td>\n",
              "      <td>/content/drive2/MyDrive/unetat/5198.jpg</td>\n",
              "    </tr>\n",
              "    <tr>\n",
              "      <th>15716</th>\n",
              "      <td>1225</td>\n",
              "      <td>5198</td>\n",
              "      <td>228</td>\n",
              "      <td>0</td>\n",
              "      <td>/content/drive2/MyDrive/unetat/5198.jpg</td>\n",
              "    </tr>\n",
              "    <tr>\n",
              "      <th>15717</th>\n",
              "      <td>1225</td>\n",
              "      <td>5198</td>\n",
              "      <td>228</td>\n",
              "      <td>0</td>\n",
              "      <td>/content/drive2/MyDrive/unetat/5198.jpg</td>\n",
              "    </tr>\n",
              "    <tr>\n",
              "      <th>15718</th>\n",
              "      <td>1225</td>\n",
              "      <td>5198</td>\n",
              "      <td>228</td>\n",
              "      <td>0</td>\n",
              "      <td>/content/drive2/MyDrive/unetat/5198.jpg</td>\n",
              "    </tr>\n",
              "    <tr>\n",
              "      <th>15719</th>\n",
              "      <td>1225</td>\n",
              "      <td>5198</td>\n",
              "      <td>228</td>\n",
              "      <td>0</td>\n",
              "      <td>/content/drive2/MyDrive/unetat/5198.jpg</td>\n",
              "    </tr>\n",
              "  </tbody>\n",
              "</table>\n",
              "<p>15720 rows × 5 columns</p>\n",
              "</div>\n",
              "      <button class=\"colab-df-convert\" onclick=\"convertToInteractive('df-69806cbe-5601-4a57-b0a3-1e9f8d9753cb')\"\n",
              "              title=\"Convert this dataframe to an interactive table.\"\n",
              "              style=\"display:none;\">\n",
              "        \n",
              "  <svg xmlns=\"http://www.w3.org/2000/svg\" height=\"24px\"viewBox=\"0 0 24 24\"\n",
              "       width=\"24px\">\n",
              "    <path d=\"M0 0h24v24H0V0z\" fill=\"none\"/>\n",
              "    <path d=\"M18.56 5.44l.94 2.06.94-2.06 2.06-.94-2.06-.94-.94-2.06-.94 2.06-2.06.94zm-11 1L8.5 8.5l.94-2.06 2.06-.94-2.06-.94L8.5 2.5l-.94 2.06-2.06.94zm10 10l.94 2.06.94-2.06 2.06-.94-2.06-.94-.94-2.06-.94 2.06-2.06.94z\"/><path d=\"M17.41 7.96l-1.37-1.37c-.4-.4-.92-.59-1.43-.59-.52 0-1.04.2-1.43.59L10.3 9.45l-7.72 7.72c-.78.78-.78 2.05 0 2.83L4 21.41c.39.39.9.59 1.41.59.51 0 1.02-.2 1.41-.59l7.78-7.78 2.81-2.81c.8-.78.8-2.07 0-2.86zM5.41 20L4 18.59l7.72-7.72 1.47 1.35L5.41 20z\"/>\n",
              "  </svg>\n",
              "      </button>\n",
              "      \n",
              "  <style>\n",
              "    .colab-df-container {\n",
              "      display:flex;\n",
              "      flex-wrap:wrap;\n",
              "      gap: 12px;\n",
              "    }\n",
              "\n",
              "    .colab-df-convert {\n",
              "      background-color: #E8F0FE;\n",
              "      border: none;\n",
              "      border-radius: 50%;\n",
              "      cursor: pointer;\n",
              "      display: none;\n",
              "      fill: #1967D2;\n",
              "      height: 32px;\n",
              "      padding: 0 0 0 0;\n",
              "      width: 32px;\n",
              "    }\n",
              "\n",
              "    .colab-df-convert:hover {\n",
              "      background-color: #E2EBFA;\n",
              "      box-shadow: 0px 1px 2px rgba(60, 64, 67, 0.3), 0px 1px 3px 1px rgba(60, 64, 67, 0.15);\n",
              "      fill: #174EA6;\n",
              "    }\n",
              "\n",
              "    [theme=dark] .colab-df-convert {\n",
              "      background-color: #3B4455;\n",
              "      fill: #D2E3FC;\n",
              "    }\n",
              "\n",
              "    [theme=dark] .colab-df-convert:hover {\n",
              "      background-color: #434B5C;\n",
              "      box-shadow: 0px 1px 3px 1px rgba(0, 0, 0, 0.15);\n",
              "      filter: drop-shadow(0px 1px 2px rgba(0, 0, 0, 0.3));\n",
              "      fill: #FFFFFF;\n",
              "    }\n",
              "  </style>\n",
              "\n",
              "      <script>\n",
              "        const buttonEl =\n",
              "          document.querySelector('#df-69806cbe-5601-4a57-b0a3-1e9f8d9753cb button.colab-df-convert');\n",
              "        buttonEl.style.display =\n",
              "          google.colab.kernel.accessAllowed ? 'block' : 'none';\n",
              "\n",
              "        async function convertToInteractive(key) {\n",
              "          const element = document.querySelector('#df-69806cbe-5601-4a57-b0a3-1e9f8d9753cb');\n",
              "          const dataTable =\n",
              "            await google.colab.kernel.invokeFunction('convertToInteractive',\n",
              "                                                     [key], {});\n",
              "          if (!dataTable) return;\n",
              "\n",
              "          const docLinkHtml = 'Like what you see? Visit the ' +\n",
              "            '<a target=\"_blank\" href=https://colab.research.google.com/notebooks/data_table.ipynb>data table notebook</a>'\n",
              "            + ' to learn more about interactive tables.';\n",
              "          element.innerHTML = '';\n",
              "          dataTable['output_type'] = 'display_data';\n",
              "          await google.colab.output.renderOutput(dataTable, element);\n",
              "          const docLink = document.createElement('div');\n",
              "          docLink.innerHTML = docLinkHtml;\n",
              "          element.appendChild(docLink);\n",
              "        }\n",
              "      </script>\n",
              "    </div>\n",
              "  </div>\n",
              "  "
            ]
          },
          "metadata": {},
          "execution_count": 13
        }
      ]
    },
    {
      "cell_type": "code",
      "execution_count": 14,
      "metadata": {
        "colab": {
          "base_uri": "https://localhost:8080/"
        },
        "id": "IByBweEq1KOG",
        "outputId": "4dcffeff-30ea-4ba4-d303-1277b14c1540"
      },
      "outputs": [
        {
          "output_type": "execute_result",
          "data": {
            "text/plain": [
              "(225,)"
            ]
          },
          "metadata": {},
          "execution_count": 14
        }
      ],
      "source": [
        "ag=age1.boneage.unique()\n",
        "ag.shape"
      ]
    },
    {
      "cell_type": "code",
      "execution_count": 15,
      "metadata": {
        "id": "yLL4AuOJep07"
      },
      "outputs": [],
      "source": [
        "age1.drop(df[(age1['gender'] == 0)].index, inplace=True)"
      ]
    },
    {
      "cell_type": "code",
      "execution_count": 16,
      "metadata": {
        "colab": {
          "base_uri": "https://localhost:8080/",
          "height": 423
        },
        "id": "lAI7P_cEes6s",
        "outputId": "5f7fe03c-cecc-447b-f943-99ca6a42b240"
      },
      "outputs": [
        {
          "output_type": "execute_result",
          "data": {
            "text/plain": [
              "       Unnamed: 0    id  boneage  gender  \\\n",
              "0             504  5574        0       1   \n",
              "1             504  5574        0       1   \n",
              "2             504  5574        0       1   \n",
              "3             504  5574        0       1   \n",
              "4             504  5574        0       1   \n",
              "...           ...   ...      ...     ...   \n",
              "15685           3  5084      227       1   \n",
              "15686           3  5084      227       1   \n",
              "15687           3  5084      227       1   \n",
              "15688           3  5084      227       1   \n",
              "15689           3  5084      227       1   \n",
              "\n",
              "                                          path  \n",
              "0      /content/drive2/MyDrive/unetat/5574.jpg  \n",
              "1      /content/drive2/MyDrive/unetat/5574.jpg  \n",
              "2      /content/drive2/MyDrive/unetat/5574.jpg  \n",
              "3      /content/drive2/MyDrive/unetat/5574.jpg  \n",
              "4      /content/drive2/MyDrive/unetat/5574.jpg  \n",
              "...                                        ...  \n",
              "15685  /content/drive2/MyDrive/unetat/5084.jpg  \n",
              "15686  /content/drive2/MyDrive/unetat/5084.jpg  \n",
              "15687  /content/drive2/MyDrive/unetat/5084.jpg  \n",
              "15688  /content/drive2/MyDrive/unetat/5084.jpg  \n",
              "15689  /content/drive2/MyDrive/unetat/5084.jpg  \n",
              "\n",
              "[7867 rows x 5 columns]"
            ],
            "text/html": [
              "\n",
              "  <div id=\"df-c30b7a63-d432-4af9-8c71-f0b7fb774339\">\n",
              "    <div class=\"colab-df-container\">\n",
              "      <div>\n",
              "<style scoped>\n",
              "    .dataframe tbody tr th:only-of-type {\n",
              "        vertical-align: middle;\n",
              "    }\n",
              "\n",
              "    .dataframe tbody tr th {\n",
              "        vertical-align: top;\n",
              "    }\n",
              "\n",
              "    .dataframe thead th {\n",
              "        text-align: right;\n",
              "    }\n",
              "</style>\n",
              "<table border=\"1\" class=\"dataframe\">\n",
              "  <thead>\n",
              "    <tr style=\"text-align: right;\">\n",
              "      <th></th>\n",
              "      <th>Unnamed: 0</th>\n",
              "      <th>id</th>\n",
              "      <th>boneage</th>\n",
              "      <th>gender</th>\n",
              "      <th>path</th>\n",
              "    </tr>\n",
              "  </thead>\n",
              "  <tbody>\n",
              "    <tr>\n",
              "      <th>0</th>\n",
              "      <td>504</td>\n",
              "      <td>5574</td>\n",
              "      <td>0</td>\n",
              "      <td>1</td>\n",
              "      <td>/content/drive2/MyDrive/unetat/5574.jpg</td>\n",
              "    </tr>\n",
              "    <tr>\n",
              "      <th>1</th>\n",
              "      <td>504</td>\n",
              "      <td>5574</td>\n",
              "      <td>0</td>\n",
              "      <td>1</td>\n",
              "      <td>/content/drive2/MyDrive/unetat/5574.jpg</td>\n",
              "    </tr>\n",
              "    <tr>\n",
              "      <th>2</th>\n",
              "      <td>504</td>\n",
              "      <td>5574</td>\n",
              "      <td>0</td>\n",
              "      <td>1</td>\n",
              "      <td>/content/drive2/MyDrive/unetat/5574.jpg</td>\n",
              "    </tr>\n",
              "    <tr>\n",
              "      <th>3</th>\n",
              "      <td>504</td>\n",
              "      <td>5574</td>\n",
              "      <td>0</td>\n",
              "      <td>1</td>\n",
              "      <td>/content/drive2/MyDrive/unetat/5574.jpg</td>\n",
              "    </tr>\n",
              "    <tr>\n",
              "      <th>4</th>\n",
              "      <td>504</td>\n",
              "      <td>5574</td>\n",
              "      <td>0</td>\n",
              "      <td>1</td>\n",
              "      <td>/content/drive2/MyDrive/unetat/5574.jpg</td>\n",
              "    </tr>\n",
              "    <tr>\n",
              "      <th>...</th>\n",
              "      <td>...</td>\n",
              "      <td>...</td>\n",
              "      <td>...</td>\n",
              "      <td>...</td>\n",
              "      <td>...</td>\n",
              "    </tr>\n",
              "    <tr>\n",
              "      <th>15685</th>\n",
              "      <td>3</td>\n",
              "      <td>5084</td>\n",
              "      <td>227</td>\n",
              "      <td>1</td>\n",
              "      <td>/content/drive2/MyDrive/unetat/5084.jpg</td>\n",
              "    </tr>\n",
              "    <tr>\n",
              "      <th>15686</th>\n",
              "      <td>3</td>\n",
              "      <td>5084</td>\n",
              "      <td>227</td>\n",
              "      <td>1</td>\n",
              "      <td>/content/drive2/MyDrive/unetat/5084.jpg</td>\n",
              "    </tr>\n",
              "    <tr>\n",
              "      <th>15687</th>\n",
              "      <td>3</td>\n",
              "      <td>5084</td>\n",
              "      <td>227</td>\n",
              "      <td>1</td>\n",
              "      <td>/content/drive2/MyDrive/unetat/5084.jpg</td>\n",
              "    </tr>\n",
              "    <tr>\n",
              "      <th>15688</th>\n",
              "      <td>3</td>\n",
              "      <td>5084</td>\n",
              "      <td>227</td>\n",
              "      <td>1</td>\n",
              "      <td>/content/drive2/MyDrive/unetat/5084.jpg</td>\n",
              "    </tr>\n",
              "    <tr>\n",
              "      <th>15689</th>\n",
              "      <td>3</td>\n",
              "      <td>5084</td>\n",
              "      <td>227</td>\n",
              "      <td>1</td>\n",
              "      <td>/content/drive2/MyDrive/unetat/5084.jpg</td>\n",
              "    </tr>\n",
              "  </tbody>\n",
              "</table>\n",
              "<p>7867 rows × 5 columns</p>\n",
              "</div>\n",
              "      <button class=\"colab-df-convert\" onclick=\"convertToInteractive('df-c30b7a63-d432-4af9-8c71-f0b7fb774339')\"\n",
              "              title=\"Convert this dataframe to an interactive table.\"\n",
              "              style=\"display:none;\">\n",
              "        \n",
              "  <svg xmlns=\"http://www.w3.org/2000/svg\" height=\"24px\"viewBox=\"0 0 24 24\"\n",
              "       width=\"24px\">\n",
              "    <path d=\"M0 0h24v24H0V0z\" fill=\"none\"/>\n",
              "    <path d=\"M18.56 5.44l.94 2.06.94-2.06 2.06-.94-2.06-.94-.94-2.06-.94 2.06-2.06.94zm-11 1L8.5 8.5l.94-2.06 2.06-.94-2.06-.94L8.5 2.5l-.94 2.06-2.06.94zm10 10l.94 2.06.94-2.06 2.06-.94-2.06-.94-.94-2.06-.94 2.06-2.06.94z\"/><path d=\"M17.41 7.96l-1.37-1.37c-.4-.4-.92-.59-1.43-.59-.52 0-1.04.2-1.43.59L10.3 9.45l-7.72 7.72c-.78.78-.78 2.05 0 2.83L4 21.41c.39.39.9.59 1.41.59.51 0 1.02-.2 1.41-.59l7.78-7.78 2.81-2.81c.8-.78.8-2.07 0-2.86zM5.41 20L4 18.59l7.72-7.72 1.47 1.35L5.41 20z\"/>\n",
              "  </svg>\n",
              "      </button>\n",
              "      \n",
              "  <style>\n",
              "    .colab-df-container {\n",
              "      display:flex;\n",
              "      flex-wrap:wrap;\n",
              "      gap: 12px;\n",
              "    }\n",
              "\n",
              "    .colab-df-convert {\n",
              "      background-color: #E8F0FE;\n",
              "      border: none;\n",
              "      border-radius: 50%;\n",
              "      cursor: pointer;\n",
              "      display: none;\n",
              "      fill: #1967D2;\n",
              "      height: 32px;\n",
              "      padding: 0 0 0 0;\n",
              "      width: 32px;\n",
              "    }\n",
              "\n",
              "    .colab-df-convert:hover {\n",
              "      background-color: #E2EBFA;\n",
              "      box-shadow: 0px 1px 2px rgba(60, 64, 67, 0.3), 0px 1px 3px 1px rgba(60, 64, 67, 0.15);\n",
              "      fill: #174EA6;\n",
              "    }\n",
              "\n",
              "    [theme=dark] .colab-df-convert {\n",
              "      background-color: #3B4455;\n",
              "      fill: #D2E3FC;\n",
              "    }\n",
              "\n",
              "    [theme=dark] .colab-df-convert:hover {\n",
              "      background-color: #434B5C;\n",
              "      box-shadow: 0px 1px 3px 1px rgba(0, 0, 0, 0.15);\n",
              "      filter: drop-shadow(0px 1px 2px rgba(0, 0, 0, 0.3));\n",
              "      fill: #FFFFFF;\n",
              "    }\n",
              "  </style>\n",
              "\n",
              "      <script>\n",
              "        const buttonEl =\n",
              "          document.querySelector('#df-c30b7a63-d432-4af9-8c71-f0b7fb774339 button.colab-df-convert');\n",
              "        buttonEl.style.display =\n",
              "          google.colab.kernel.accessAllowed ? 'block' : 'none';\n",
              "\n",
              "        async function convertToInteractive(key) {\n",
              "          const element = document.querySelector('#df-c30b7a63-d432-4af9-8c71-f0b7fb774339');\n",
              "          const dataTable =\n",
              "            await google.colab.kernel.invokeFunction('convertToInteractive',\n",
              "                                                     [key], {});\n",
              "          if (!dataTable) return;\n",
              "\n",
              "          const docLinkHtml = 'Like what you see? Visit the ' +\n",
              "            '<a target=\"_blank\" href=https://colab.research.google.com/notebooks/data_table.ipynb>data table notebook</a>'\n",
              "            + ' to learn more about interactive tables.';\n",
              "          element.innerHTML = '';\n",
              "          dataTable['output_type'] = 'display_data';\n",
              "          await google.colab.output.renderOutput(dataTable, element);\n",
              "          const docLink = document.createElement('div');\n",
              "          docLink.innerHTML = docLinkHtml;\n",
              "          element.appendChild(docLink);\n",
              "        }\n",
              "      </script>\n",
              "    </div>\n",
              "  </div>\n",
              "  "
            ]
          },
          "metadata": {},
          "execution_count": 16
        }
      ],
      "source": [
        "age1"
      ]
    },
    {
      "cell_type": "code",
      "execution_count": 17,
      "metadata": {
        "colab": {
          "base_uri": "https://localhost:8080/"
        },
        "id": "FvBGIqYyfH3n",
        "outputId": "2a33560e-79d6-4b6e-d6e1-203befca54ed"
      },
      "outputs": [
        {
          "output_type": "execute_result",
          "data": {
            "text/plain": [
              "(214,)"
            ]
          },
          "metadata": {},
          "execution_count": 17
        }
      ],
      "source": [
        "ag=age1.boneage.unique()\n",
        "ag.shape"
      ]
    },
    {
      "cell_type": "code",
      "execution_count": 18,
      "metadata": {
        "id": "feLuby6Xf_9v"
      },
      "outputs": [],
      "source": [
        "train1_df = age1.groupby(['boneage']).apply(lambda x: x.sample(15, replace = True)\n",
        "                                                      ).reset_index(drop = True)"
      ]
    },
    {
      "cell_type": "code",
      "execution_count": 19,
      "metadata": {
        "colab": {
          "base_uri": "https://localhost:8080/",
          "height": 423
        },
        "id": "-fO7_F0kgVy6",
        "outputId": "777e0c94-781d-495f-e7b5-07db15fa6e75"
      },
      "outputs": [
        {
          "output_type": "execute_result",
          "data": {
            "text/plain": [
              "      Unnamed: 0    id  boneage  gender  \\\n",
              "0            504  5574        0       1   \n",
              "1            504  5574        0       1   \n",
              "2            504  5574        0       1   \n",
              "3            504  5574        0       1   \n",
              "4            347  5604        0       1   \n",
              "...          ...   ...      ...     ...   \n",
              "3205           3  5084      227       1   \n",
              "3206           3  5084      227       1   \n",
              "3207           3  5084      227       1   \n",
              "3208           3  5084      227       1   \n",
              "3209           3  5084      227       1   \n",
              "\n",
              "                                         path  \n",
              "0     /content/drive2/MyDrive/unetat/5574.jpg  \n",
              "1     /content/drive2/MyDrive/unetat/5574.jpg  \n",
              "2     /content/drive2/MyDrive/unetat/5574.jpg  \n",
              "3     /content/drive2/MyDrive/unetat/5574.jpg  \n",
              "4     /content/drive2/MyDrive/unetat/5604.jpg  \n",
              "...                                       ...  \n",
              "3205  /content/drive2/MyDrive/unetat/5084.jpg  \n",
              "3206  /content/drive2/MyDrive/unetat/5084.jpg  \n",
              "3207  /content/drive2/MyDrive/unetat/5084.jpg  \n",
              "3208  /content/drive2/MyDrive/unetat/5084.jpg  \n",
              "3209  /content/drive2/MyDrive/unetat/5084.jpg  \n",
              "\n",
              "[3210 rows x 5 columns]"
            ],
            "text/html": [
              "\n",
              "  <div id=\"df-39a992c5-1e5a-4a81-bb80-6175e2a3d913\">\n",
              "    <div class=\"colab-df-container\">\n",
              "      <div>\n",
              "<style scoped>\n",
              "    .dataframe tbody tr th:only-of-type {\n",
              "        vertical-align: middle;\n",
              "    }\n",
              "\n",
              "    .dataframe tbody tr th {\n",
              "        vertical-align: top;\n",
              "    }\n",
              "\n",
              "    .dataframe thead th {\n",
              "        text-align: right;\n",
              "    }\n",
              "</style>\n",
              "<table border=\"1\" class=\"dataframe\">\n",
              "  <thead>\n",
              "    <tr style=\"text-align: right;\">\n",
              "      <th></th>\n",
              "      <th>Unnamed: 0</th>\n",
              "      <th>id</th>\n",
              "      <th>boneage</th>\n",
              "      <th>gender</th>\n",
              "      <th>path</th>\n",
              "    </tr>\n",
              "  </thead>\n",
              "  <tbody>\n",
              "    <tr>\n",
              "      <th>0</th>\n",
              "      <td>504</td>\n",
              "      <td>5574</td>\n",
              "      <td>0</td>\n",
              "      <td>1</td>\n",
              "      <td>/content/drive2/MyDrive/unetat/5574.jpg</td>\n",
              "    </tr>\n",
              "    <tr>\n",
              "      <th>1</th>\n",
              "      <td>504</td>\n",
              "      <td>5574</td>\n",
              "      <td>0</td>\n",
              "      <td>1</td>\n",
              "      <td>/content/drive2/MyDrive/unetat/5574.jpg</td>\n",
              "    </tr>\n",
              "    <tr>\n",
              "      <th>2</th>\n",
              "      <td>504</td>\n",
              "      <td>5574</td>\n",
              "      <td>0</td>\n",
              "      <td>1</td>\n",
              "      <td>/content/drive2/MyDrive/unetat/5574.jpg</td>\n",
              "    </tr>\n",
              "    <tr>\n",
              "      <th>3</th>\n",
              "      <td>504</td>\n",
              "      <td>5574</td>\n",
              "      <td>0</td>\n",
              "      <td>1</td>\n",
              "      <td>/content/drive2/MyDrive/unetat/5574.jpg</td>\n",
              "    </tr>\n",
              "    <tr>\n",
              "      <th>4</th>\n",
              "      <td>347</td>\n",
              "      <td>5604</td>\n",
              "      <td>0</td>\n",
              "      <td>1</td>\n",
              "      <td>/content/drive2/MyDrive/unetat/5604.jpg</td>\n",
              "    </tr>\n",
              "    <tr>\n",
              "      <th>...</th>\n",
              "      <td>...</td>\n",
              "      <td>...</td>\n",
              "      <td>...</td>\n",
              "      <td>...</td>\n",
              "      <td>...</td>\n",
              "    </tr>\n",
              "    <tr>\n",
              "      <th>3205</th>\n",
              "      <td>3</td>\n",
              "      <td>5084</td>\n",
              "      <td>227</td>\n",
              "      <td>1</td>\n",
              "      <td>/content/drive2/MyDrive/unetat/5084.jpg</td>\n",
              "    </tr>\n",
              "    <tr>\n",
              "      <th>3206</th>\n",
              "      <td>3</td>\n",
              "      <td>5084</td>\n",
              "      <td>227</td>\n",
              "      <td>1</td>\n",
              "      <td>/content/drive2/MyDrive/unetat/5084.jpg</td>\n",
              "    </tr>\n",
              "    <tr>\n",
              "      <th>3207</th>\n",
              "      <td>3</td>\n",
              "      <td>5084</td>\n",
              "      <td>227</td>\n",
              "      <td>1</td>\n",
              "      <td>/content/drive2/MyDrive/unetat/5084.jpg</td>\n",
              "    </tr>\n",
              "    <tr>\n",
              "      <th>3208</th>\n",
              "      <td>3</td>\n",
              "      <td>5084</td>\n",
              "      <td>227</td>\n",
              "      <td>1</td>\n",
              "      <td>/content/drive2/MyDrive/unetat/5084.jpg</td>\n",
              "    </tr>\n",
              "    <tr>\n",
              "      <th>3209</th>\n",
              "      <td>3</td>\n",
              "      <td>5084</td>\n",
              "      <td>227</td>\n",
              "      <td>1</td>\n",
              "      <td>/content/drive2/MyDrive/unetat/5084.jpg</td>\n",
              "    </tr>\n",
              "  </tbody>\n",
              "</table>\n",
              "<p>3210 rows × 5 columns</p>\n",
              "</div>\n",
              "      <button class=\"colab-df-convert\" onclick=\"convertToInteractive('df-39a992c5-1e5a-4a81-bb80-6175e2a3d913')\"\n",
              "              title=\"Convert this dataframe to an interactive table.\"\n",
              "              style=\"display:none;\">\n",
              "        \n",
              "  <svg xmlns=\"http://www.w3.org/2000/svg\" height=\"24px\"viewBox=\"0 0 24 24\"\n",
              "       width=\"24px\">\n",
              "    <path d=\"M0 0h24v24H0V0z\" fill=\"none\"/>\n",
              "    <path d=\"M18.56 5.44l.94 2.06.94-2.06 2.06-.94-2.06-.94-.94-2.06-.94 2.06-2.06.94zm-11 1L8.5 8.5l.94-2.06 2.06-.94-2.06-.94L8.5 2.5l-.94 2.06-2.06.94zm10 10l.94 2.06.94-2.06 2.06-.94-2.06-.94-.94-2.06-.94 2.06-2.06.94z\"/><path d=\"M17.41 7.96l-1.37-1.37c-.4-.4-.92-.59-1.43-.59-.52 0-1.04.2-1.43.59L10.3 9.45l-7.72 7.72c-.78.78-.78 2.05 0 2.83L4 21.41c.39.39.9.59 1.41.59.51 0 1.02-.2 1.41-.59l7.78-7.78 2.81-2.81c.8-.78.8-2.07 0-2.86zM5.41 20L4 18.59l7.72-7.72 1.47 1.35L5.41 20z\"/>\n",
              "  </svg>\n",
              "      </button>\n",
              "      \n",
              "  <style>\n",
              "    .colab-df-container {\n",
              "      display:flex;\n",
              "      flex-wrap:wrap;\n",
              "      gap: 12px;\n",
              "    }\n",
              "\n",
              "    .colab-df-convert {\n",
              "      background-color: #E8F0FE;\n",
              "      border: none;\n",
              "      border-radius: 50%;\n",
              "      cursor: pointer;\n",
              "      display: none;\n",
              "      fill: #1967D2;\n",
              "      height: 32px;\n",
              "      padding: 0 0 0 0;\n",
              "      width: 32px;\n",
              "    }\n",
              "\n",
              "    .colab-df-convert:hover {\n",
              "      background-color: #E2EBFA;\n",
              "      box-shadow: 0px 1px 2px rgba(60, 64, 67, 0.3), 0px 1px 3px 1px rgba(60, 64, 67, 0.15);\n",
              "      fill: #174EA6;\n",
              "    }\n",
              "\n",
              "    [theme=dark] .colab-df-convert {\n",
              "      background-color: #3B4455;\n",
              "      fill: #D2E3FC;\n",
              "    }\n",
              "\n",
              "    [theme=dark] .colab-df-convert:hover {\n",
              "      background-color: #434B5C;\n",
              "      box-shadow: 0px 1px 3px 1px rgba(0, 0, 0, 0.15);\n",
              "      filter: drop-shadow(0px 1px 2px rgba(0, 0, 0, 0.3));\n",
              "      fill: #FFFFFF;\n",
              "    }\n",
              "  </style>\n",
              "\n",
              "      <script>\n",
              "        const buttonEl =\n",
              "          document.querySelector('#df-39a992c5-1e5a-4a81-bb80-6175e2a3d913 button.colab-df-convert');\n",
              "        buttonEl.style.display =\n",
              "          google.colab.kernel.accessAllowed ? 'block' : 'none';\n",
              "\n",
              "        async function convertToInteractive(key) {\n",
              "          const element = document.querySelector('#df-39a992c5-1e5a-4a81-bb80-6175e2a3d913');\n",
              "          const dataTable =\n",
              "            await google.colab.kernel.invokeFunction('convertToInteractive',\n",
              "                                                     [key], {});\n",
              "          if (!dataTable) return;\n",
              "\n",
              "          const docLinkHtml = 'Like what you see? Visit the ' +\n",
              "            '<a target=\"_blank\" href=https://colab.research.google.com/notebooks/data_table.ipynb>data table notebook</a>'\n",
              "            + ' to learn more about interactive tables.';\n",
              "          element.innerHTML = '';\n",
              "          dataTable['output_type'] = 'display_data';\n",
              "          await google.colab.output.renderOutput(dataTable, element);\n",
              "          const docLink = document.createElement('div');\n",
              "          docLink.innerHTML = docLinkHtml;\n",
              "          element.appendChild(docLink);\n",
              "        }\n",
              "      </script>\n",
              "    </div>\n",
              "  </div>\n",
              "  "
            ]
          },
          "metadata": {},
          "execution_count": 19
        }
      ],
      "source": [
        "train1_df"
      ]
    },
    {
      "cell_type": "code",
      "execution_count": 20,
      "metadata": {
        "colab": {
          "base_uri": "https://localhost:8080/"
        },
        "id": "78T4_RIVgahz",
        "outputId": "171fb39a-1d31-4466-e6cf-44b7b6cd04e5"
      },
      "outputs": [
        {
          "output_type": "stream",
          "name": "stdout",
          "text": [
            "train 1797 validation 642 771\n"
          ]
        }
      ],
      "source": [
        "from sklearn.model_selection import train_test_split\n",
        "train_test1, valid1 = train_test_split(train1_df,\n",
        "                                   test_size = 0.2,\n",
        "                                   random_state = 2018,\n",
        "                                   stratify = train1_df['boneage'])\n",
        "#print('train', raw_train_df.shape[0], 'validation', valid_df.shape[0])\n",
        "train1, test1 = train_test_split(train_test1,\n",
        "                                   test_size = 0.3,\n",
        "                                   random_state = 2018,\n",
        "                                   stratify = train_test1['boneage'])\n",
        "print('train', train1.shape[0], 'validation', valid1.shape[0],test1.shape[0])"
      ]
    },
    {
      "cell_type": "code",
      "execution_count": 21,
      "metadata": {
        "id": "rgXaGEEShK2u"
      },
      "outputs": [],
      "source": [
        "from keras.preprocessing.image import ImageDataGenerator\n",
        "IMG_SIZE = (256,256)\n",
        "core_idg = ImageDataGenerator(rotation_range=20,width_shift_range=0.15,height_shift_range=0.15,zoom_range=0.2,horizontal_flip=True)"
      ]
    },
    {
      "cell_type": "code",
      "execution_count": 22,
      "metadata": {
        "id": "it_INY2thRLt"
      },
      "outputs": [],
      "source": [
        "def flow_from_dataframe(img_data_gen, in_df, path_col, y_col, **dflow_args):\n",
        "    base_dir = os.path.dirname(in_df[path_col].values[0])\n",
        "    print('## Ignore next message from keras, values are replaced anyways')\n",
        "    df_gen = img_data_gen.flow_from_directory(base_dir,\n",
        "                                     class_mode = 'sparse',\n",
        "                                    **dflow_args)\n",
        "    df_gen.filenames = in_df[path_col].values\n",
        "    df_gen.filepaths.extend(df_gen.filenames)\n",
        "    df_gen.classes = np.stack(in_df[y_col].values)\n",
        "    df_gen.samples = in_df.shape[0]\n",
        "    df_gen.n = in_df.shape[0]\n",
        "    df_gen._set_index_array()\n",
        "    df_gen.directory = ''\n",
        "    gen=np.ones(df_gen.samples)\n",
        "    print('Reinserting dataframe: {} images'.format(in_df.shape[0]))\n",
        "    #print(df_gen.samples)\n",
        "    #yield (df_gen,gen)\n",
        "    return df_gen"
      ]
    },
    {
      "cell_type": "code",
      "execution_count": 23,
      "metadata": {
        "colab": {
          "base_uri": "https://localhost:8080/"
        },
        "id": "u7pfG4-FhYU3",
        "outputId": "2546ee8b-ba30-4691-b3f1-31758b69bd24"
      },
      "outputs": [
        {
          "output_type": "stream",
          "name": "stdout",
          "text": [
            "## Ignore next message from keras, values are replaced anyways\n",
            "Found 0 images belonging to 0 classes.\n",
            "Reinserting dataframe: 1797 images\n"
          ]
        }
      ],
      "source": [
        "train1_gen = flow_from_dataframe( core_idg, train1,\n",
        "                             path_col = 'path',\n",
        "                            y_col = 'boneage',\n",
        "                            target_size = IMG_SIZE,\n",
        "                             color_mode = 'rgb',\n",
        "                            batch_size = 1789)"
      ]
    },
    {
      "cell_type": "code",
      "execution_count": 24,
      "metadata": {
        "colab": {
          "base_uri": "https://localhost:8080/"
        },
        "id": "IGccOe-qhird",
        "outputId": "3ac6b80d-da20-4b70-9046-7928dc4def70"
      },
      "outputs": [
        {
          "output_type": "stream",
          "name": "stdout",
          "text": [
            "## Ignore next message from keras, values are replaced anyways\n",
            "Found 0 images belonging to 0 classes.\n",
            "Reinserting dataframe: 642 images\n"
          ]
        }
      ],
      "source": [
        "valid1_gen = flow_from_dataframe(core_idg, valid1,\n",
        "                             path_col = 'path',\n",
        "                            y_col = 'boneage',\n",
        "                            target_size = IMG_SIZE,\n",
        "                             color_mode = 'rgb',\n",
        "                            batch_size = 639)"
      ]
    },
    {
      "cell_type": "code",
      "execution_count": 25,
      "metadata": {
        "id": "bqb6-OqtLFHz"
      },
      "outputs": [],
      "source": [
        "\n",
        "testcore_idg = ImageDataGenerator(rotation_range=20,width_shift_range=0.15,height_shift_range=0.15,zoom_range=0.2,horizontal_flip=True)"
      ]
    },
    {
      "cell_type": "code",
      "execution_count": 26,
      "metadata": {
        "colab": {
          "base_uri": "https://localhost:8080/"
        },
        "id": "fnPAVjuXLFHz",
        "outputId": "a619bcf5-9197-457a-cb0f-a45a52a99880"
      },
      "outputs": [
        {
          "output_type": "stream",
          "name": "stdout",
          "text": [
            "## Ignore next message from keras, values are replaced anyways\n",
            "Found 0 images belonging to 0 classes.\n",
            "Reinserting dataframe: 771 images\n"
          ]
        }
      ],
      "source": [
        "test1_gen = flow_from_dataframe(testcore_idg,\n",
        "                              test1,\n",
        "                             path_col = 'path',\n",
        "                            y_col = 'boneage',\n",
        "                            target_size = IMG_SIZE,\n",
        "                             color_mode = 'rgb',\n",
        "                            batch_size = 767)"
      ]
    },
    {
      "cell_type": "code",
      "execution_count": 27,
      "metadata": {
        "id": "TGRGhrMlhSNa"
      },
      "outputs": [],
      "source": [
        "train1_X, train1_Y = next(train1_gen)"
      ]
    },
    {
      "cell_type": "code",
      "execution_count": 28,
      "metadata": {
        "colab": {
          "base_uri": "https://localhost:8080/"
        },
        "id": "ZwAUKKc8kbFw",
        "outputId": "12bdab69-6d83-42ba-d3e0-7486f95543b0"
      },
      "outputs": [
        {
          "output_type": "execute_result",
          "data": {
            "text/plain": [
              "(1789, 256, 256, 3)"
            ]
          },
          "metadata": {},
          "execution_count": 28
        }
      ],
      "source": [
        "train1_X.shape"
      ]
    },
    {
      "cell_type": "code",
      "execution_count": 29,
      "metadata": {
        "id": "KxRK-aGYk3Gz"
      },
      "outputs": [],
      "source": [
        "valid1_X, valid1_Y = next(valid1_gen)"
      ]
    },
    {
      "cell_type": "code",
      "execution_count": 30,
      "metadata": {
        "id": "YrzIkZL_k4OT",
        "colab": {
          "base_uri": "https://localhost:8080/"
        },
        "outputId": "5c875ff5-0687-4b98-aa9b-1d2c9a3b7f33"
      },
      "outputs": [
        {
          "output_type": "execute_result",
          "data": {
            "text/plain": [
              "(639, 256, 256, 3)"
            ]
          },
          "metadata": {},
          "execution_count": 30
        }
      ],
      "source": [
        "\n",
        "valid1_X.shape"
      ]
    },
    {
      "cell_type": "code",
      "execution_count": 31,
      "metadata": {
        "id": "fcr4PLs1lDer"
      },
      "outputs": [],
      "source": [
        "test1_X, test1_Y = next(test1_gen)"
      ]
    },
    {
      "cell_type": "code",
      "execution_count": 32,
      "metadata": {
        "colab": {
          "base_uri": "https://localhost:8080/"
        },
        "id": "REnaZedJlatT",
        "outputId": "93b4f483-edca-49b2-e738-1f8560b4bfdc"
      },
      "outputs": [
        {
          "output_type": "execute_result",
          "data": {
            "text/plain": [
              "(767, 256, 256, 3)"
            ]
          },
          "metadata": {},
          "execution_count": 32
        }
      ],
      "source": [
        "test1_X.shape"
      ]
    },
    {
      "cell_type": "code",
      "execution_count": 33,
      "metadata": {
        "id": "Tfwy02Pbtd7I"
      },
      "outputs": [],
      "source": [
        "\n",
        "import pandas as pd\n",
        "train_dir = '/content/drive2/MyDrive/unetat'\n",
        "df = pd.read_csv('/content/drive2/MyDrive/data.csv')"
      ]
    },
    {
      "cell_type": "code",
      "execution_count": 34,
      "metadata": {
        "id": "AMETrOPftd7J"
      },
      "outputs": [],
      "source": [
        "df.drop(df[(df['id'] == 7144)].index, inplace=True)\n",
        "\n"
      ]
    },
    {
      "cell_type": "code",
      "source": [
        "df = df.groupby(['boneage']).apply(lambda x: x.sample(15, replace = True)\n",
        "                                                      ).reset_index(drop = True)"
      ],
      "metadata": {
        "id": "LqSgUp71t0jp"
      },
      "execution_count": 35,
      "outputs": []
    },
    {
      "cell_type": "code",
      "source": [
        "\n",
        "df['boneage'] = df['boneage'].astype('int')"
      ],
      "metadata": {
        "id": "82aIhUKcUUo7"
      },
      "execution_count": 36,
      "outputs": []
    },
    {
      "cell_type": "code",
      "source": [
        "ag=df.boneage.unique()\n",
        "ag.shape"
      ],
      "metadata": {
        "colab": {
          "base_uri": "https://localhost:8080/"
        },
        "id": "jeuT9NotUdT2",
        "outputId": "3cd475bd-f601-4f02-941d-4650589909c4"
      },
      "execution_count": 37,
      "outputs": [
        {
          "output_type": "execute_result",
          "data": {
            "text/plain": [
              "(225,)"
            ]
          },
          "metadata": {},
          "execution_count": 37
        }
      ]
    },
    {
      "cell_type": "code",
      "execution_count": 38,
      "metadata": {
        "id": "E4P3MPGre3bZ"
      },
      "outputs": [],
      "source": [
        "import os\n",
        "age_df = df\n",
        "age_df['path'] = age_df['id'].map(lambda x: os.path.join(train_dir,\n",
        "                                                         '{}.jpg'.format(x)))\n",
        "#age_df['exists'] = age_df['path'].map(os.path.exists)"
      ]
    },
    {
      "cell_type": "code",
      "execution_count": 39,
      "metadata": {
        "id": "UFVD6jGXe3ba"
      },
      "outputs": [],
      "source": [
        "age0=age_df"
      ]
    },
    {
      "cell_type": "code",
      "execution_count": 40,
      "metadata": {
        "id": "gcjqP4Wie3ba"
      },
      "outputs": [],
      "source": [
        "age0.drop(df[(age0['gender'] == 1)].index, inplace=True)"
      ]
    },
    {
      "cell_type": "code",
      "execution_count": 41,
      "metadata": {
        "colab": {
          "base_uri": "https://localhost:8080/",
          "height": 423
        },
        "id": "P9y3PUjre3ba",
        "outputId": "0b729a55-f2b2-4e16-9246-784ec6172f97"
      },
      "outputs": [
        {
          "output_type": "execute_result",
          "data": {
            "text/plain": [
              "       Unnamed: 0    id  boneage  gender  \\\n",
              "30           1036  4706        2       0   \n",
              "31           1036  4706        2       0   \n",
              "32           1036  4706        2       0   \n",
              "33           1036  4706        2       0   \n",
              "34           1036  4706        2       0   \n",
              "...           ...   ...      ...     ...   \n",
              "15715        1225  5198      228       0   \n",
              "15716        1225  5198      228       0   \n",
              "15717        1225  5198      228       0   \n",
              "15718        1225  5198      228       0   \n",
              "15719        1225  5198      228       0   \n",
              "\n",
              "                                          path  \n",
              "30     /content/drive2/MyDrive/unetat/4706.jpg  \n",
              "31     /content/drive2/MyDrive/unetat/4706.jpg  \n",
              "32     /content/drive2/MyDrive/unetat/4706.jpg  \n",
              "33     /content/drive2/MyDrive/unetat/4706.jpg  \n",
              "34     /content/drive2/MyDrive/unetat/4706.jpg  \n",
              "...                                        ...  \n",
              "15715  /content/drive2/MyDrive/unetat/5198.jpg  \n",
              "15716  /content/drive2/MyDrive/unetat/5198.jpg  \n",
              "15717  /content/drive2/MyDrive/unetat/5198.jpg  \n",
              "15718  /content/drive2/MyDrive/unetat/5198.jpg  \n",
              "15719  /content/drive2/MyDrive/unetat/5198.jpg  \n",
              "\n",
              "[7814 rows x 5 columns]"
            ],
            "text/html": [
              "\n",
              "  <div id=\"df-01881748-6c46-4569-8331-27fa6e233030\">\n",
              "    <div class=\"colab-df-container\">\n",
              "      <div>\n",
              "<style scoped>\n",
              "    .dataframe tbody tr th:only-of-type {\n",
              "        vertical-align: middle;\n",
              "    }\n",
              "\n",
              "    .dataframe tbody tr th {\n",
              "        vertical-align: top;\n",
              "    }\n",
              "\n",
              "    .dataframe thead th {\n",
              "        text-align: right;\n",
              "    }\n",
              "</style>\n",
              "<table border=\"1\" class=\"dataframe\">\n",
              "  <thead>\n",
              "    <tr style=\"text-align: right;\">\n",
              "      <th></th>\n",
              "      <th>Unnamed: 0</th>\n",
              "      <th>id</th>\n",
              "      <th>boneage</th>\n",
              "      <th>gender</th>\n",
              "      <th>path</th>\n",
              "    </tr>\n",
              "  </thead>\n",
              "  <tbody>\n",
              "    <tr>\n",
              "      <th>30</th>\n",
              "      <td>1036</td>\n",
              "      <td>4706</td>\n",
              "      <td>2</td>\n",
              "      <td>0</td>\n",
              "      <td>/content/drive2/MyDrive/unetat/4706.jpg</td>\n",
              "    </tr>\n",
              "    <tr>\n",
              "      <th>31</th>\n",
              "      <td>1036</td>\n",
              "      <td>4706</td>\n",
              "      <td>2</td>\n",
              "      <td>0</td>\n",
              "      <td>/content/drive2/MyDrive/unetat/4706.jpg</td>\n",
              "    </tr>\n",
              "    <tr>\n",
              "      <th>32</th>\n",
              "      <td>1036</td>\n",
              "      <td>4706</td>\n",
              "      <td>2</td>\n",
              "      <td>0</td>\n",
              "      <td>/content/drive2/MyDrive/unetat/4706.jpg</td>\n",
              "    </tr>\n",
              "    <tr>\n",
              "      <th>33</th>\n",
              "      <td>1036</td>\n",
              "      <td>4706</td>\n",
              "      <td>2</td>\n",
              "      <td>0</td>\n",
              "      <td>/content/drive2/MyDrive/unetat/4706.jpg</td>\n",
              "    </tr>\n",
              "    <tr>\n",
              "      <th>34</th>\n",
              "      <td>1036</td>\n",
              "      <td>4706</td>\n",
              "      <td>2</td>\n",
              "      <td>0</td>\n",
              "      <td>/content/drive2/MyDrive/unetat/4706.jpg</td>\n",
              "    </tr>\n",
              "    <tr>\n",
              "      <th>...</th>\n",
              "      <td>...</td>\n",
              "      <td>...</td>\n",
              "      <td>...</td>\n",
              "      <td>...</td>\n",
              "      <td>...</td>\n",
              "    </tr>\n",
              "    <tr>\n",
              "      <th>15715</th>\n",
              "      <td>1225</td>\n",
              "      <td>5198</td>\n",
              "      <td>228</td>\n",
              "      <td>0</td>\n",
              "      <td>/content/drive2/MyDrive/unetat/5198.jpg</td>\n",
              "    </tr>\n",
              "    <tr>\n",
              "      <th>15716</th>\n",
              "      <td>1225</td>\n",
              "      <td>5198</td>\n",
              "      <td>228</td>\n",
              "      <td>0</td>\n",
              "      <td>/content/drive2/MyDrive/unetat/5198.jpg</td>\n",
              "    </tr>\n",
              "    <tr>\n",
              "      <th>15717</th>\n",
              "      <td>1225</td>\n",
              "      <td>5198</td>\n",
              "      <td>228</td>\n",
              "      <td>0</td>\n",
              "      <td>/content/drive2/MyDrive/unetat/5198.jpg</td>\n",
              "    </tr>\n",
              "    <tr>\n",
              "      <th>15718</th>\n",
              "      <td>1225</td>\n",
              "      <td>5198</td>\n",
              "      <td>228</td>\n",
              "      <td>0</td>\n",
              "      <td>/content/drive2/MyDrive/unetat/5198.jpg</td>\n",
              "    </tr>\n",
              "    <tr>\n",
              "      <th>15719</th>\n",
              "      <td>1225</td>\n",
              "      <td>5198</td>\n",
              "      <td>228</td>\n",
              "      <td>0</td>\n",
              "      <td>/content/drive2/MyDrive/unetat/5198.jpg</td>\n",
              "    </tr>\n",
              "  </tbody>\n",
              "</table>\n",
              "<p>7814 rows × 5 columns</p>\n",
              "</div>\n",
              "      <button class=\"colab-df-convert\" onclick=\"convertToInteractive('df-01881748-6c46-4569-8331-27fa6e233030')\"\n",
              "              title=\"Convert this dataframe to an interactive table.\"\n",
              "              style=\"display:none;\">\n",
              "        \n",
              "  <svg xmlns=\"http://www.w3.org/2000/svg\" height=\"24px\"viewBox=\"0 0 24 24\"\n",
              "       width=\"24px\">\n",
              "    <path d=\"M0 0h24v24H0V0z\" fill=\"none\"/>\n",
              "    <path d=\"M18.56 5.44l.94 2.06.94-2.06 2.06-.94-2.06-.94-.94-2.06-.94 2.06-2.06.94zm-11 1L8.5 8.5l.94-2.06 2.06-.94-2.06-.94L8.5 2.5l-.94 2.06-2.06.94zm10 10l.94 2.06.94-2.06 2.06-.94-2.06-.94-.94-2.06-.94 2.06-2.06.94z\"/><path d=\"M17.41 7.96l-1.37-1.37c-.4-.4-.92-.59-1.43-.59-.52 0-1.04.2-1.43.59L10.3 9.45l-7.72 7.72c-.78.78-.78 2.05 0 2.83L4 21.41c.39.39.9.59 1.41.59.51 0 1.02-.2 1.41-.59l7.78-7.78 2.81-2.81c.8-.78.8-2.07 0-2.86zM5.41 20L4 18.59l7.72-7.72 1.47 1.35L5.41 20z\"/>\n",
              "  </svg>\n",
              "      </button>\n",
              "      \n",
              "  <style>\n",
              "    .colab-df-container {\n",
              "      display:flex;\n",
              "      flex-wrap:wrap;\n",
              "      gap: 12px;\n",
              "    }\n",
              "\n",
              "    .colab-df-convert {\n",
              "      background-color: #E8F0FE;\n",
              "      border: none;\n",
              "      border-radius: 50%;\n",
              "      cursor: pointer;\n",
              "      display: none;\n",
              "      fill: #1967D2;\n",
              "      height: 32px;\n",
              "      padding: 0 0 0 0;\n",
              "      width: 32px;\n",
              "    }\n",
              "\n",
              "    .colab-df-convert:hover {\n",
              "      background-color: #E2EBFA;\n",
              "      box-shadow: 0px 1px 2px rgba(60, 64, 67, 0.3), 0px 1px 3px 1px rgba(60, 64, 67, 0.15);\n",
              "      fill: #174EA6;\n",
              "    }\n",
              "\n",
              "    [theme=dark] .colab-df-convert {\n",
              "      background-color: #3B4455;\n",
              "      fill: #D2E3FC;\n",
              "    }\n",
              "\n",
              "    [theme=dark] .colab-df-convert:hover {\n",
              "      background-color: #434B5C;\n",
              "      box-shadow: 0px 1px 3px 1px rgba(0, 0, 0, 0.15);\n",
              "      filter: drop-shadow(0px 1px 2px rgba(0, 0, 0, 0.3));\n",
              "      fill: #FFFFFF;\n",
              "    }\n",
              "  </style>\n",
              "\n",
              "      <script>\n",
              "        const buttonEl =\n",
              "          document.querySelector('#df-01881748-6c46-4569-8331-27fa6e233030 button.colab-df-convert');\n",
              "        buttonEl.style.display =\n",
              "          google.colab.kernel.accessAllowed ? 'block' : 'none';\n",
              "\n",
              "        async function convertToInteractive(key) {\n",
              "          const element = document.querySelector('#df-01881748-6c46-4569-8331-27fa6e233030');\n",
              "          const dataTable =\n",
              "            await google.colab.kernel.invokeFunction('convertToInteractive',\n",
              "                                                     [key], {});\n",
              "          if (!dataTable) return;\n",
              "\n",
              "          const docLinkHtml = 'Like what you see? Visit the ' +\n",
              "            '<a target=\"_blank\" href=https://colab.research.google.com/notebooks/data_table.ipynb>data table notebook</a>'\n",
              "            + ' to learn more about interactive tables.';\n",
              "          element.innerHTML = '';\n",
              "          dataTable['output_type'] = 'display_data';\n",
              "          await google.colab.output.renderOutput(dataTable, element);\n",
              "          const docLink = document.createElement('div');\n",
              "          docLink.innerHTML = docLinkHtml;\n",
              "          element.appendChild(docLink);\n",
              "        }\n",
              "      </script>\n",
              "    </div>\n",
              "  </div>\n",
              "  "
            ]
          },
          "metadata": {},
          "execution_count": 41
        }
      ],
      "source": [
        "age0"
      ]
    },
    {
      "cell_type": "code",
      "execution_count": 42,
      "metadata": {
        "colab": {
          "base_uri": "https://localhost:8080/"
        },
        "id": "rx5RQAtvlton",
        "outputId": "d86960ea-fc4b-4895-a684-7b7916d7511b"
      },
      "outputs": [
        {
          "output_type": "execute_result",
          "data": {
            "text/plain": [
              "(211,)"
            ]
          },
          "metadata": {},
          "execution_count": 42
        }
      ],
      "source": [
        "\n",
        "ag=age0.boneage.unique()\n",
        "ag.shape"
      ]
    },
    {
      "cell_type": "code",
      "execution_count": 43,
      "metadata": {
        "id": "BzMi92Ijlto8"
      },
      "outputs": [],
      "source": [
        "train0_df = age0.groupby(['boneage']).apply(lambda x: x.sample(15, replace = True)\n",
        "                                                      ).reset_index(drop = True)"
      ]
    },
    {
      "cell_type": "code",
      "execution_count": 44,
      "metadata": {
        "colab": {
          "base_uri": "https://localhost:8080/",
          "height": 423
        },
        "id": "Jlbyxk3Zlto9",
        "outputId": "6dbe6592-f1d1-4b59-dfc9-d7b2898ebe05"
      },
      "outputs": [
        {
          "output_type": "execute_result",
          "data": {
            "text/plain": [
              "      Unnamed: 0    id  boneage  gender  \\\n",
              "0           1036  4706        2       0   \n",
              "1           1036  4706        2       0   \n",
              "2           1036  4706        2       0   \n",
              "3           1036  4706        2       0   \n",
              "4           1036  4706        2       0   \n",
              "...          ...   ...      ...     ...   \n",
              "3160        1225  5198      228       0   \n",
              "3161        1225  5198      228       0   \n",
              "3162        1225  5198      228       0   \n",
              "3163        1225  5198      228       0   \n",
              "3164        1225  5198      228       0   \n",
              "\n",
              "                                         path  \n",
              "0     /content/drive2/MyDrive/unetat/4706.jpg  \n",
              "1     /content/drive2/MyDrive/unetat/4706.jpg  \n",
              "2     /content/drive2/MyDrive/unetat/4706.jpg  \n",
              "3     /content/drive2/MyDrive/unetat/4706.jpg  \n",
              "4     /content/drive2/MyDrive/unetat/4706.jpg  \n",
              "...                                       ...  \n",
              "3160  /content/drive2/MyDrive/unetat/5198.jpg  \n",
              "3161  /content/drive2/MyDrive/unetat/5198.jpg  \n",
              "3162  /content/drive2/MyDrive/unetat/5198.jpg  \n",
              "3163  /content/drive2/MyDrive/unetat/5198.jpg  \n",
              "3164  /content/drive2/MyDrive/unetat/5198.jpg  \n",
              "\n",
              "[3165 rows x 5 columns]"
            ],
            "text/html": [
              "\n",
              "  <div id=\"df-7b4178dd-547e-4248-9c50-46aedd8f039b\">\n",
              "    <div class=\"colab-df-container\">\n",
              "      <div>\n",
              "<style scoped>\n",
              "    .dataframe tbody tr th:only-of-type {\n",
              "        vertical-align: middle;\n",
              "    }\n",
              "\n",
              "    .dataframe tbody tr th {\n",
              "        vertical-align: top;\n",
              "    }\n",
              "\n",
              "    .dataframe thead th {\n",
              "        text-align: right;\n",
              "    }\n",
              "</style>\n",
              "<table border=\"1\" class=\"dataframe\">\n",
              "  <thead>\n",
              "    <tr style=\"text-align: right;\">\n",
              "      <th></th>\n",
              "      <th>Unnamed: 0</th>\n",
              "      <th>id</th>\n",
              "      <th>boneage</th>\n",
              "      <th>gender</th>\n",
              "      <th>path</th>\n",
              "    </tr>\n",
              "  </thead>\n",
              "  <tbody>\n",
              "    <tr>\n",
              "      <th>0</th>\n",
              "      <td>1036</td>\n",
              "      <td>4706</td>\n",
              "      <td>2</td>\n",
              "      <td>0</td>\n",
              "      <td>/content/drive2/MyDrive/unetat/4706.jpg</td>\n",
              "    </tr>\n",
              "    <tr>\n",
              "      <th>1</th>\n",
              "      <td>1036</td>\n",
              "      <td>4706</td>\n",
              "      <td>2</td>\n",
              "      <td>0</td>\n",
              "      <td>/content/drive2/MyDrive/unetat/4706.jpg</td>\n",
              "    </tr>\n",
              "    <tr>\n",
              "      <th>2</th>\n",
              "      <td>1036</td>\n",
              "      <td>4706</td>\n",
              "      <td>2</td>\n",
              "      <td>0</td>\n",
              "      <td>/content/drive2/MyDrive/unetat/4706.jpg</td>\n",
              "    </tr>\n",
              "    <tr>\n",
              "      <th>3</th>\n",
              "      <td>1036</td>\n",
              "      <td>4706</td>\n",
              "      <td>2</td>\n",
              "      <td>0</td>\n",
              "      <td>/content/drive2/MyDrive/unetat/4706.jpg</td>\n",
              "    </tr>\n",
              "    <tr>\n",
              "      <th>4</th>\n",
              "      <td>1036</td>\n",
              "      <td>4706</td>\n",
              "      <td>2</td>\n",
              "      <td>0</td>\n",
              "      <td>/content/drive2/MyDrive/unetat/4706.jpg</td>\n",
              "    </tr>\n",
              "    <tr>\n",
              "      <th>...</th>\n",
              "      <td>...</td>\n",
              "      <td>...</td>\n",
              "      <td>...</td>\n",
              "      <td>...</td>\n",
              "      <td>...</td>\n",
              "    </tr>\n",
              "    <tr>\n",
              "      <th>3160</th>\n",
              "      <td>1225</td>\n",
              "      <td>5198</td>\n",
              "      <td>228</td>\n",
              "      <td>0</td>\n",
              "      <td>/content/drive2/MyDrive/unetat/5198.jpg</td>\n",
              "    </tr>\n",
              "    <tr>\n",
              "      <th>3161</th>\n",
              "      <td>1225</td>\n",
              "      <td>5198</td>\n",
              "      <td>228</td>\n",
              "      <td>0</td>\n",
              "      <td>/content/drive2/MyDrive/unetat/5198.jpg</td>\n",
              "    </tr>\n",
              "    <tr>\n",
              "      <th>3162</th>\n",
              "      <td>1225</td>\n",
              "      <td>5198</td>\n",
              "      <td>228</td>\n",
              "      <td>0</td>\n",
              "      <td>/content/drive2/MyDrive/unetat/5198.jpg</td>\n",
              "    </tr>\n",
              "    <tr>\n",
              "      <th>3163</th>\n",
              "      <td>1225</td>\n",
              "      <td>5198</td>\n",
              "      <td>228</td>\n",
              "      <td>0</td>\n",
              "      <td>/content/drive2/MyDrive/unetat/5198.jpg</td>\n",
              "    </tr>\n",
              "    <tr>\n",
              "      <th>3164</th>\n",
              "      <td>1225</td>\n",
              "      <td>5198</td>\n",
              "      <td>228</td>\n",
              "      <td>0</td>\n",
              "      <td>/content/drive2/MyDrive/unetat/5198.jpg</td>\n",
              "    </tr>\n",
              "  </tbody>\n",
              "</table>\n",
              "<p>3165 rows × 5 columns</p>\n",
              "</div>\n",
              "      <button class=\"colab-df-convert\" onclick=\"convertToInteractive('df-7b4178dd-547e-4248-9c50-46aedd8f039b')\"\n",
              "              title=\"Convert this dataframe to an interactive table.\"\n",
              "              style=\"display:none;\">\n",
              "        \n",
              "  <svg xmlns=\"http://www.w3.org/2000/svg\" height=\"24px\"viewBox=\"0 0 24 24\"\n",
              "       width=\"24px\">\n",
              "    <path d=\"M0 0h24v24H0V0z\" fill=\"none\"/>\n",
              "    <path d=\"M18.56 5.44l.94 2.06.94-2.06 2.06-.94-2.06-.94-.94-2.06-.94 2.06-2.06.94zm-11 1L8.5 8.5l.94-2.06 2.06-.94-2.06-.94L8.5 2.5l-.94 2.06-2.06.94zm10 10l.94 2.06.94-2.06 2.06-.94-2.06-.94-.94-2.06-.94 2.06-2.06.94z\"/><path d=\"M17.41 7.96l-1.37-1.37c-.4-.4-.92-.59-1.43-.59-.52 0-1.04.2-1.43.59L10.3 9.45l-7.72 7.72c-.78.78-.78 2.05 0 2.83L4 21.41c.39.39.9.59 1.41.59.51 0 1.02-.2 1.41-.59l7.78-7.78 2.81-2.81c.8-.78.8-2.07 0-2.86zM5.41 20L4 18.59l7.72-7.72 1.47 1.35L5.41 20z\"/>\n",
              "  </svg>\n",
              "      </button>\n",
              "      \n",
              "  <style>\n",
              "    .colab-df-container {\n",
              "      display:flex;\n",
              "      flex-wrap:wrap;\n",
              "      gap: 12px;\n",
              "    }\n",
              "\n",
              "    .colab-df-convert {\n",
              "      background-color: #E8F0FE;\n",
              "      border: none;\n",
              "      border-radius: 50%;\n",
              "      cursor: pointer;\n",
              "      display: none;\n",
              "      fill: #1967D2;\n",
              "      height: 32px;\n",
              "      padding: 0 0 0 0;\n",
              "      width: 32px;\n",
              "    }\n",
              "\n",
              "    .colab-df-convert:hover {\n",
              "      background-color: #E2EBFA;\n",
              "      box-shadow: 0px 1px 2px rgba(60, 64, 67, 0.3), 0px 1px 3px 1px rgba(60, 64, 67, 0.15);\n",
              "      fill: #174EA6;\n",
              "    }\n",
              "\n",
              "    [theme=dark] .colab-df-convert {\n",
              "      background-color: #3B4455;\n",
              "      fill: #D2E3FC;\n",
              "    }\n",
              "\n",
              "    [theme=dark] .colab-df-convert:hover {\n",
              "      background-color: #434B5C;\n",
              "      box-shadow: 0px 1px 3px 1px rgba(0, 0, 0, 0.15);\n",
              "      filter: drop-shadow(0px 1px 2px rgba(0, 0, 0, 0.3));\n",
              "      fill: #FFFFFF;\n",
              "    }\n",
              "  </style>\n",
              "\n",
              "      <script>\n",
              "        const buttonEl =\n",
              "          document.querySelector('#df-7b4178dd-547e-4248-9c50-46aedd8f039b button.colab-df-convert');\n",
              "        buttonEl.style.display =\n",
              "          google.colab.kernel.accessAllowed ? 'block' : 'none';\n",
              "\n",
              "        async function convertToInteractive(key) {\n",
              "          const element = document.querySelector('#df-7b4178dd-547e-4248-9c50-46aedd8f039b');\n",
              "          const dataTable =\n",
              "            await google.colab.kernel.invokeFunction('convertToInteractive',\n",
              "                                                     [key], {});\n",
              "          if (!dataTable) return;\n",
              "\n",
              "          const docLinkHtml = 'Like what you see? Visit the ' +\n",
              "            '<a target=\"_blank\" href=https://colab.research.google.com/notebooks/data_table.ipynb>data table notebook</a>'\n",
              "            + ' to learn more about interactive tables.';\n",
              "          element.innerHTML = '';\n",
              "          dataTable['output_type'] = 'display_data';\n",
              "          await google.colab.output.renderOutput(dataTable, element);\n",
              "          const docLink = document.createElement('div');\n",
              "          docLink.innerHTML = docLinkHtml;\n",
              "          element.appendChild(docLink);\n",
              "        }\n",
              "      </script>\n",
              "    </div>\n",
              "  </div>\n",
              "  "
            ]
          },
          "metadata": {},
          "execution_count": 44
        }
      ],
      "source": [
        "train0_df"
      ]
    },
    {
      "cell_type": "code",
      "execution_count": 45,
      "metadata": {
        "colab": {
          "base_uri": "https://localhost:8080/"
        },
        "id": "6OLfe12Qlto-",
        "outputId": "d07b8ddb-e431-4ec3-9823-a86c70eeb9ac"
      },
      "outputs": [
        {
          "output_type": "stream",
          "name": "stdout",
          "text": [
            "train 1772 validation 633 760\n"
          ]
        }
      ],
      "source": [
        "from sklearn.model_selection import train_test_split\n",
        "train_test0, valid0 = train_test_split(train0_df,\n",
        "                                   test_size = 0.2,\n",
        "                                   random_state = 2018,\n",
        "                                   stratify = train0_df['boneage'])\n",
        "#print('train', raw_train_df.shape[0], 'validation', valid_df.shape[0])\n",
        "train0, test0 = train_test_split(train_test0,\n",
        "                                   test_size = 0.3,\n",
        "                                   random_state = 2018,\n",
        "                                   stratify = train_test0['boneage'])\n",
        "print('train', train0.shape[0], 'validation', valid0.shape[0],test0.shape[0])"
      ]
    },
    {
      "cell_type": "code",
      "execution_count": 46,
      "metadata": {
        "id": "y6TSFBaRYaS8"
      },
      "outputs": [],
      "source": [
        "\n",
        "from keras.preprocessing.image import ImageDataGenerator\n",
        "IMG_SIZE = (256,256)\n",
        "core_idg = ImageDataGenerator(rotation_range=20,width_shift_range=0.15,height_shift_range=0.15,zoom_range=0.2,horizontal_flip=True)"
      ]
    },
    {
      "cell_type": "code",
      "execution_count": 47,
      "metadata": {
        "id": "_7iQy9cblto_"
      },
      "outputs": [],
      "source": [
        "def flow_from_dataframe(img_data_gen, in_df, path_col, y_col, **dflow_args):\n",
        "    base_dir = os.path.dirname(in_df[path_col].values[0])\n",
        "    print('## Ignore next message from keras, values are replaced anyways')\n",
        "    df_gen = img_data_gen.flow_from_directory(base_dir,\n",
        "                                     class_mode = 'sparse',\n",
        "                                    **dflow_args)\n",
        "    df_gen.filenames = in_df[path_col].values\n",
        "    df_gen.filepaths.extend(df_gen.filenames)\n",
        "    df_gen.classes = np.stack(in_df[y_col].values)\n",
        "    df_gen.samples = in_df.shape[0]\n",
        "    df_gen.n = in_df.shape[0]\n",
        "    df_gen._set_index_array()\n",
        "    df_gen.directory = ''\n",
        "    gen=np.ones(df_gen.samples)\n",
        "    print('Reinserting dataframe: {} images'.format(in_df.shape[0]))\n",
        "    #print(df_gen.samples)\n",
        "    #yield (df_gen,gen)\n",
        "    return df_gen"
      ]
    },
    {
      "cell_type": "code",
      "execution_count": 48,
      "metadata": {
        "colab": {
          "base_uri": "https://localhost:8080/"
        },
        "id": "neq1ir7ylto_",
        "outputId": "3fcef436-468b-4328-af19-fba65f33e1b8"
      },
      "outputs": [
        {
          "output_type": "stream",
          "name": "stdout",
          "text": [
            "## Ignore next message from keras, values are replaced anyways\n",
            "Found 0 images belonging to 0 classes.\n",
            "Reinserting dataframe: 1772 images\n"
          ]
        }
      ],
      "source": [
        "train0_gen = flow_from_dataframe( core_idg, train0,\n",
        "                             path_col = 'path',\n",
        "                            y_col = 'boneage',\n",
        "                            target_size = IMG_SIZE,\n",
        "                             color_mode = 'rgb',\n",
        "                            batch_size = 1772)"
      ]
    },
    {
      "cell_type": "code",
      "execution_count": 49,
      "metadata": {
        "colab": {
          "base_uri": "https://localhost:8080/"
        },
        "id": "OzomkT1ZltpA",
        "outputId": "6d655d56-d286-4969-f7ff-b790653761b4"
      },
      "outputs": [
        {
          "output_type": "stream",
          "name": "stdout",
          "text": [
            "## Ignore next message from keras, values are replaced anyways\n",
            "Found 0 images belonging to 0 classes.\n",
            "Reinserting dataframe: 633 images\n"
          ]
        }
      ],
      "source": [
        "valid0_gen = flow_from_dataframe(core_idg, valid0,\n",
        "                             path_col = 'path',\n",
        "                            y_col = 'boneage',\n",
        "                            target_size = IMG_SIZE,\n",
        "                             color_mode = 'rgb',\n",
        "                            batch_size = 633)"
      ]
    },
    {
      "cell_type": "code",
      "execution_count": 50,
      "metadata": {
        "id": "Aw2JaZZwltpA"
      },
      "outputs": [],
      "source": [
        "\n",
        "\n",
        "testcore_idg = ImageDataGenerator(rotation_range=20,width_shift_range=0.15,height_shift_range=0.15,zoom_range=0.2,horizontal_flip=True)"
      ]
    },
    {
      "cell_type": "code",
      "execution_count": 51,
      "metadata": {
        "colab": {
          "base_uri": "https://localhost:8080/"
        },
        "id": "Bu7kCWNYltpB",
        "outputId": "60951d4b-c9da-41a5-ac5c-283acbb9a7ad"
      },
      "outputs": [
        {
          "output_type": "stream",
          "name": "stdout",
          "text": [
            "## Ignore next message from keras, values are replaced anyways\n",
            "Found 0 images belonging to 0 classes.\n",
            "Reinserting dataframe: 760 images\n"
          ]
        }
      ],
      "source": [
        "test0_gen = flow_from_dataframe(testcore_idg,\n",
        "                              test0,\n",
        "                             path_col = 'path',\n",
        "                            y_col = 'boneage',\n",
        "                            target_size = IMG_SIZE,\n",
        "                             color_mode = 'rgb',\n",
        "                            batch_size = 760)"
      ]
    },
    {
      "cell_type": "code",
      "execution_count": 52,
      "metadata": {
        "id": "6XxaEBd5ltpC"
      },
      "outputs": [],
      "source": [
        "train0_X, train0_Y = next(train0_gen)"
      ]
    },
    {
      "cell_type": "code",
      "execution_count": 53,
      "metadata": {
        "id": "RDhVkpIBltpC",
        "colab": {
          "base_uri": "https://localhost:8080/"
        },
        "outputId": "d028c9d2-2642-4b77-c76b-6f3b7838d2aa"
      },
      "outputs": [
        {
          "output_type": "execute_result",
          "data": {
            "text/plain": [
              "(1772, 256, 256, 3)"
            ]
          },
          "metadata": {},
          "execution_count": 53
        }
      ],
      "source": [
        "train0_X.shape"
      ]
    },
    {
      "cell_type": "code",
      "execution_count": 54,
      "metadata": {
        "id": "M8wdWoT1zmyt",
        "colab": {
          "base_uri": "https://localhost:8080/"
        },
        "outputId": "eae61aef-d04e-4d16-f4dd-23936bc08746"
      },
      "outputs": [
        {
          "output_type": "stream",
          "name": "stdout",
          "text": [
            "1770\n"
          ]
        }
      ],
      "source": [
        "train_x=[]\n",
        "train_y=[]\n",
        "train_gen=[]\n",
        "i=0\n",
        "for k in range(354):\n",
        "  for j in range(5):\n",
        "    train_x.append(train1_X[i])\n",
        "    train_y.append(train1_Y[i])\n",
        "    train_gen.append(1)\n",
        "    train_x.append(train0_X[i])\n",
        "    train_y.append(train0_Y[i])\n",
        "    train_gen.append(0)\n",
        "    i=i+1\n",
        "print(i)\n",
        "i=1770\n",
        "for k in range(19):\n",
        "    train_x.append(train1_X[i])\n",
        "    train_y.append(train1_Y[i])\n",
        "    train_gen.append(1)\n",
        "    i=i+1\n",
        "i=1770\n",
        "del train1_Y\n",
        "del train1_X\n",
        "\n",
        "for k in range(2):\n",
        "    train_x.append(train0_X[i])\n",
        "    train_y.append(train0_Y[i])\n",
        "    train_gen.append(0)\n",
        "    i=i+1\n",
        "del train0_Y\n",
        "del train0_X\n"
      ]
    },
    {
      "cell_type": "code",
      "execution_count": 55,
      "metadata": {
        "id": "-sWC9AZj3Vxn"
      },
      "outputs": [],
      "source": [
        "train_x=np.asarray(train_x)\n",
        "train_x=train_x/255\n",
        "train_y=np.asarray(train_y)\n",
        "train_gen=np.asarray(train_gen)"
      ]
    },
    {
      "cell_type": "code",
      "execution_count": 56,
      "metadata": {
        "id": "-xcDDZsvltpD"
      },
      "outputs": [],
      "source": [
        "valid0_X, valid0_Y = next(valid0_gen)"
      ]
    },
    {
      "cell_type": "code",
      "execution_count": 57,
      "metadata": {
        "id": "Oc0hn0VeltpD",
        "colab": {
          "base_uri": "https://localhost:8080/"
        },
        "outputId": "827b4bed-a03f-4f7f-fc1d-95c47ad09b4a"
      },
      "outputs": [
        {
          "output_type": "execute_result",
          "data": {
            "text/plain": [
              "(633, 256, 256, 3)"
            ]
          },
          "metadata": {},
          "execution_count": 57
        }
      ],
      "source": [
        "\n",
        "valid0_X.shape"
      ]
    },
    {
      "cell_type": "code",
      "execution_count": 58,
      "metadata": {
        "id": "tHORQlNA0ZLK",
        "colab": {
          "base_uri": "https://localhost:8080/"
        },
        "outputId": "ec88f188-637c-4b98-afee-a00e10a2d9e4"
      },
      "outputs": [
        {
          "output_type": "stream",
          "name": "stdout",
          "text": [
            "633\n"
          ]
        }
      ],
      "source": [
        "\n",
        "valid_x=[]\n",
        "valid_y=[]\n",
        "valid_gen=[]\n",
        "i=0\n",
        "for k in range(211):\n",
        "  for j in range(3):\n",
        "    valid_x.append(valid1_X[i])\n",
        "    valid_y.append(valid1_Y[i])\n",
        "    valid_gen.append(1)\n",
        "    valid_x.append(valid0_X[i])\n",
        "    valid_y.append(valid0_Y[i])\n",
        "    valid_gen.append(0)\n",
        "    i=i+1\n",
        "print(i)\n",
        "i=633\n",
        "for k in range(6):\n",
        "    valid_x.append(valid1_X[i])\n",
        "    valid_y.append(valid1_Y[i])\n",
        "    valid_gen.append(1)\n",
        "    i=i+1\n",
        "del valid1_Y\n",
        "del valid1_X\n",
        "del valid0_Y\n",
        "del valid0_X"
      ]
    },
    {
      "cell_type": "code",
      "execution_count": 59,
      "metadata": {
        "id": "a533nesY3Zcg"
      },
      "outputs": [],
      "source": [
        "\n",
        "valid_x=np.asarray(valid_x)\n",
        "valid_x=valid_x/255\n",
        "valid_y=np.asarray(valid_y)\n",
        "valid_gen=np.asarray(valid_gen)"
      ]
    },
    {
      "cell_type": "code",
      "execution_count": 60,
      "metadata": {
        "id": "ChATCHw-ltpE"
      },
      "outputs": [],
      "source": [
        "test0_X, test0_Y = next(test0_gen)"
      ]
    },
    {
      "cell_type": "code",
      "execution_count": 61,
      "metadata": {
        "id": "Jz5uNv-kltpF",
        "colab": {
          "base_uri": "https://localhost:8080/"
        },
        "outputId": "45dba708-809d-47fa-8d41-cd25ce71d14f"
      },
      "outputs": [
        {
          "output_type": "execute_result",
          "data": {
            "text/plain": [
              "(760, 256, 256, 3)"
            ]
          },
          "metadata": {},
          "execution_count": 61
        }
      ],
      "source": [
        "test0_X.shape"
      ]
    },
    {
      "cell_type": "code",
      "execution_count": 62,
      "metadata": {
        "id": "JxSkd2TqDz8X",
        "colab": {
          "base_uri": "https://localhost:8080/"
        },
        "outputId": "eddd570e-cac8-427e-af68-8245eee3715a"
      },
      "outputs": [
        {
          "output_type": "execute_result",
          "data": {
            "text/plain": [
              "(3561, 256, 256, 3)"
            ]
          },
          "metadata": {},
          "execution_count": 62
        }
      ],
      "source": [
        "train_x.shape"
      ]
    },
    {
      "cell_type": "code",
      "execution_count": 63,
      "metadata": {
        "id": "hHBvaTSg1w2g",
        "colab": {
          "base_uri": "https://localhost:8080/"
        },
        "outputId": "84750af2-64e8-4095-d77d-947a9b5ae429"
      },
      "outputs": [
        {
          "output_type": "stream",
          "name": "stdout",
          "text": [
            "760\n"
          ]
        }
      ],
      "source": [
        "test_x=[]\n",
        "test_y=[]\n",
        "test_gen=[]\n",
        "i=0\n",
        "for k in range(152):\n",
        "  for j in range(5):\n",
        "    test_x.append(test1_X[i])\n",
        "    test_y.append(test1_Y[i])\n",
        "    test_gen.append(1)\n",
        "    test_x.append(test0_X[i])\n",
        "    test_y.append(test0_Y[i])\n",
        "    test_gen.append(0)\n",
        "    i=i+1\n",
        "print(i)\n",
        "i=760\n",
        "for k in range(7):\n",
        "    test_x.append(test1_X[i])\n",
        "    test_y.append(test1_Y[i])\n",
        "    test_gen.append(1)\n",
        "    i=i+1\n",
        "del test1_Y\n",
        "del test1_X\n",
        "\n",
        "del test0_Y\n",
        "del test0_X"
      ]
    },
    {
      "cell_type": "code",
      "source": [
        "test_x=np.asarray(test_x)\n",
        "test_x=test_x/255\n",
        "test_y=np.asarray(test_y)\n",
        "test_gen=np.asarray(test_gen)"
      ],
      "metadata": {
        "id": "KO3r3oueynzg"
      },
      "execution_count": 64,
      "outputs": []
    },
    {
      "cell_type": "code",
      "source": [
        "import numpy as np\n",
        "import cv2\n",
        "from keras import backend as K\n",
        "from keras.preprocessing import image\n",
        "import os\n",
        "\n",
        "def softlabel(label,num_class):\n",
        "    softlabel=np.zeros((len(label),num_class))\n",
        "    ratio = 1.0/50\n",
        "    for i in range(len(label)):\n",
        "        for j in range(num_class):\n",
        "          if j== label[i]:\n",
        "            softlabel[i,j]=1.0\n",
        "          else:\n",
        "            softlabel[i,j]=0.0\n",
        "    #softlabel = np.maximum(softlabel,0)\n",
        "    return softlabel\n",
        "\n",
        "def ShowAttentionV1(model,image_path):\n",
        "    file_list = os.listdir(image_path)\n",
        "    file_list.sort()\n",
        "    for filename in file_list:\n",
        "        print (filename)\n",
        "        filepath=image_path+filename\n",
        "        image=load_image(filepath)\n",
        "        image = image/255.0\n",
        "        gender=1.0\n",
        "        gender=np.asarray(gender)\n",
        "        gender=np.expand_dims(gender,axis=0)\n",
        "        layer=K.function([model.layers[0].input],[model.layers[196].output])\n",
        "        FeatureMap=layer([image,gender])[0]\n",
        "        print (FeatureMap.shape)\n",
        "        FeatureMap = np.squeeze(FeatureMap, axis=0)\n",
        "        FeatureMap = np.abs(FeatureMap)\n",
        "        heatmap = np.mean(FeatureMap,axis=2)\n",
        "        heatmap = heatmap/np.max(heatmap)\n",
        "        heatmap = np.uint8(255*heatmap)\n",
        "        print (heatmap.shape)\n",
        "        heatmap = cv2.applyColorMap(heatmap,cv2.COLORMAP_JET)\n",
        "        SaveImg(filename,filepath,heatmap)\n",
        "    print ('********** Done ***********')\n",
        "\n",
        "def GAPAttention(model,weights,image_path):\n",
        "    file_list = os.listdir(train_dir)\n",
        "    file_list.sort()\n",
        "    for filename in file_list:\n",
        "        filepath=image_path+filename\n",
        "        print (filepath)\n",
        "        image=load_image(filepath)\n",
        "        print(\"gpa\")\n",
        "        print(image.shape)\n",
        "        image = image/255.0\n",
        "        gender=1.0\n",
        "        gender=np.asarray(gender)\n",
        "        gender=np.expand_dims(gender,axis=0)\n",
        "        print(\"ok\")\n",
        "        layer=K.function([model.layers[0].input],[model.layers[1].get_output_at(-1),model.layers[-1].output])\n",
        "        print(\"ok_1\")\n",
        "        GAP,prediction=layer([image])\n",
        "        print(\"ok_2\")\n",
        "        GAP=np.squeeze(GAP,axis=0)\n",
        "        print(\"ok_3\")\n",
        "        print (GAP.shape)\n",
        "        print(\"ok_4\")\n",
        "        index = np.argmax(prediction)\n",
        "        print(\"ok_5\")\n",
        "        print (index)\n",
        "       # weight = weights[:,index]\n",
        "        weight =np.mean(weights[:,index-5:index+5],axis=1)\n",
        "        heatmap = np.zeros((GAP.shape[0],GAP.shape[1]))\n",
        "        for k in range(GAP.shape[2]):\n",
        "            heatmap = heatmap + weight[k]*GAP[:,:,k]\n",
        "        heatmap = heatmap/np.max(heatmap)\n",
        "        heatmap = np.uint8(255*heatmap)\n",
        "        print (heatmap.shape)\n",
        "        heatmap = cv2.applyColorMap(heatmap,cv2.COLORMAP_JET)\n",
        "        SaveImg(filename,filepath,heatmap)\n",
        "    print ('********** Done ***********')\n",
        "\n",
        "def SaveImg(filename,filepath,heatmap):\n",
        "    img = cv2.imread(filepath)\n",
        "    heatmap = cv2.resize(heatmap,(img.shape[1],img.shape[0]))\n",
        "    AttentionImg =0.5* heatmap + img\n",
        "    cv2.imwrite('/content/heat'+filename,heatmap)\n",
        "    cv2.imwrite('/content/attention'+filename,AttentionImg)\n",
        "\n",
        "\n",
        "def load_image(path):\n",
        "    img = cv2.imread(path)\n",
        "    print(img.shape)\n",
        "    img = cv2.resize(img,(300,300))\n",
        "    print(img.shape)\n",
        "    x = np.asarray(img, dtype=np.float32)\n",
        "   # img = image.load_img(path, target_size=(448, 448))\n",
        "   # print (img.shape)\n",
        "   # x = image.img_to_array(img)\n",
        "    x = np.expand_dims(x, axis=0)\n",
        "    return x\n",
        "\n",
        "def TestMAE(model,test_data,test_label,test_gender):\n",
        "    test_gender = np.array(test_gender)\n",
        "    test_gender = np.expand_dims(test_gender,axis=1)\n",
        "    layer=K.function([model.layers[0].input,model.layers[3].input],[model.layers[-1].output])\n",
        "    predictions=layer([test_data,test_gender])\n",
        "    predictions = np.array(predictions)\n",
        "    predictions = np.squeeze(predictions,axis=0)\n",
        "    print (predictions.shape)\n",
        "    predict_label = np.argmax(predictions,axis=1)\n",
        "    test_label = np.argmax(test_label,axis=1)\n",
        "    print (predict_label)\n",
        "    print (test_label)\n",
        "    TestMAE = np.mean(np.abs(predict_label-test_label))\n",
        "    return TestMAE\n",
        "\n",
        "def DataAugment(x_train):\n",
        "    x_train_Aug = np.zeros(x_train.shape)\n",
        "    for i in range(x_train.shape[0]):\n",
        "        for j in range(3):\n",
        "            img = x_train[i,:,:,j]\n",
        "            img = RandomMask(img)\n",
        "            img = RandomMask(img)\n",
        "            if np.random.random()>-1:\n",
        "                x_train_Aug[i,:,:,j]=img\n",
        "            else:\n",
        "                x_train_Aug[i,:,:,j]=x_train[i,:,:,j]\n",
        "    return x_train_Aug\n",
        "def RandomMask(img):\n",
        "    m,n=img.shape\n",
        "    m=int(m/6)\n",
        "    n=int(n/6)\n",
        "    i,j = np.random.randint(0,6,2)\n",
        "    img[i*m:(i+1)*m,j*n:(j+1)*n]=np.random.random()\n",
        "    return img"
      ],
      "metadata": {
        "id": "zTgRyyK2Y7DK"
      },
      "execution_count": 65,
      "outputs": []
    },
    {
      "cell_type": "code",
      "source": [
        "trais_y = softlabel(train_y,240)\n",
        "valids_y = softlabel(valid_y,240)\n",
        "tests_y = softlabel(test_y,240)\n",
        "print (train_y[0])"
      ],
      "metadata": {
        "colab": {
          "base_uri": "https://localhost:8080/"
        },
        "id": "Vfxd8u9vZnmz",
        "outputId": "e2b3dda5-eb66-409f-9f12-784cbad8fc4a"
      },
      "execution_count": 66,
      "outputs": [
        {
          "output_type": "stream",
          "name": "stdout",
          "text": [
            "158.0\n"
          ]
        }
      ]
    },
    {
      "cell_type": "code",
      "source": [
        "print (trais_y[0])"
      ],
      "metadata": {
        "colab": {
          "base_uri": "https://localhost:8080/"
        },
        "id": "w3mOlYJCkI44",
        "outputId": "6b729ba5-d13e-4fb7-8b6a-ef0fc8fde5d3"
      },
      "execution_count": 67,
      "outputs": [
        {
          "output_type": "stream",
          "name": "stdout",
          "text": [
            "[0. 0. 0. 0. 0. 0. 0. 0. 0. 0. 0. 0. 0. 0. 0. 0. 0. 0. 0. 0. 0. 0. 0. 0.\n",
            " 0. 0. 0. 0. 0. 0. 0. 0. 0. 0. 0. 0. 0. 0. 0. 0. 0. 0. 0. 0. 0. 0. 0. 0.\n",
            " 0. 0. 0. 0. 0. 0. 0. 0. 0. 0. 0. 0. 0. 0. 0. 0. 0. 0. 0. 0. 0. 0. 0. 0.\n",
            " 0. 0. 0. 0. 0. 0. 0. 0. 0. 0. 0. 0. 0. 0. 0. 0. 0. 0. 0. 0. 0. 0. 0. 0.\n",
            " 0. 0. 0. 0. 0. 0. 0. 0. 0. 0. 0. 0. 0. 0. 0. 0. 0. 0. 0. 0. 0. 0. 0. 0.\n",
            " 0. 0. 0. 0. 0. 0. 0. 0. 0. 0. 0. 0. 0. 0. 0. 0. 0. 0. 0. 0. 0. 0. 0. 0.\n",
            " 0. 0. 0. 0. 0. 0. 0. 0. 0. 0. 0. 0. 0. 0. 1. 0. 0. 0. 0. 0. 0. 0. 0. 0.\n",
            " 0. 0. 0. 0. 0. 0. 0. 0. 0. 0. 0. 0. 0. 0. 0. 0. 0. 0. 0. 0. 0. 0. 0. 0.\n",
            " 0. 0. 0. 0. 0. 0. 0. 0. 0. 0. 0. 0. 0. 0. 0. 0. 0. 0. 0. 0. 0. 0. 0. 0.\n",
            " 0. 0. 0. 0. 0. 0. 0. 0. 0. 0. 0. 0. 0. 0. 0. 0. 0. 0. 0. 0. 0. 0. 0. 0.]\n"
          ]
        }
      ]
    },
    {
      "cell_type": "code",
      "source": [],
      "metadata": {
        "id": "3exHML11ceHG"
      },
      "execution_count": 67,
      "outputs": []
    },
    {
      "cell_type": "code",
      "source": [
        "from tensorflow.keras.applications.resnet50 import ResNet50\n",
        "from keras.applications.vgg19 import VGG19\n",
        "from keras.applications.inception_v3 import InceptionV3\n",
        "from keras.applications.xception import Xception\n",
        "from keras.preprocessing import image\n",
        "from tensorflow.keras import regularizers\n",
        "from keras.models import Model, load_model\n",
        "from keras.layers import Flatten, Dense, Input, Reshape, Lambda,Conv2D\n",
        "import tensorflow as tf\n",
        "from keras import backend as K\n",
        "import pickle\n",
        "import numpy as np\n",
        "import matplotlib.pyplot as plt\n",
        "import keras\n",
        "#from func_utils import *\n",
        "import os\n",
        "#os.environ[\"CUDA_VISIBLE_DEVICES\"]=\"2\"\n",
        "#os.environ['OMP_NUM_THREADS']='6'\n",
        "batch_size = 4\n",
        "epochs = 30"
      ],
      "metadata": {
        "id": "8iwbPzLKylOU"
      },
      "execution_count": 68,
      "outputs": []
    },
    {
      "cell_type": "code",
      "source": [],
      "metadata": {
        "id": "ALn2q6hFt2eZ"
      },
      "execution_count": 68,
      "outputs": []
    },
    {
      "cell_type": "code",
      "source": [
        "from tensorflow.keras.applications.resnet50 import ResNet50\n",
        "from keras.applications.vgg19 import VGG19\n",
        "from keras.applications.inception_v3 import InceptionV3\n",
        "from keras.applications.xception import Xception\n",
        "from keras.preprocessing import image\n",
        "from tensorflow.keras import regularizers\n",
        "from keras.models import Model, load_model\n",
        "from keras.layers import Flatten, Dense, Input, Reshape, Lambda,Conv2D\n",
        "import tensorflow as tf\n",
        "from keras import backend as K\n",
        "import pickle\n",
        "import numpy as np\n",
        "import matplotlib.pyplot as plt\n",
        "import keras\n",
        "#from func_utils import *\n",
        "import os\n",
        "#os.environ[\"CUDA_VISIBLE_DEVICES\"]=\"2\"\n",
        "#os.environ['OMP_NUM_THREADS']='6'\n",
        "batch_size = 4\n",
        "epochs = 30"
      ],
      "metadata": {
        "id": "fdKLiU5g0d5f"
      },
      "execution_count": 69,
      "outputs": []
    },
    {
      "cell_type": "code",
      "source": [],
      "metadata": {
        "id": "4SL07hDbxsMT"
      },
      "execution_count": null,
      "outputs": []
    },
    {
      "cell_type": "code",
      "execution_count": 70,
      "metadata": {
        "id": "KKA9sy_QB9_P"
      },
      "outputs": [],
      "source": [
        "def SmallObjectAttention(input_tensor):\n",
        "    # Calculate channel attention weights\n",
        "    attention = GlobalAveragePooling2D()(input_tensor)\n",
        "    attention = Dense(units=input_tensor.shape[-1] // 4, activation='relu')(attention)\n",
        "    attention = Dense(units=input_tensor.shape[-1], activation='sigmoid')(attention)\n",
        "    attention = Reshape((1, 1, -1))(attention)\n",
        "\n",
        "    # Multiply the attention weights with the input tensor\n",
        "    attention = Multiply()([input_tensor, attention])\n",
        "\n",
        "    # Add the attention weights to the input tensor\n",
        "    output_tensor = Add()([input_tensor, attention])\n",
        "\n",
        "    return output_tensor"
      ]
    },
    {
      "cell_type": "code",
      "execution_count": 71,
      "metadata": {
        "id": "4VbYUG5lCIm0"
      },
      "outputs": [],
      "source": [
        "def LargeObjectAttention(input_tensor, reduction_ratio=16):\n",
        "    channels = input_tensor.shape[-1]\n",
        "\n",
        "    # Squeeze: Global average pooling across spatial dimensions\n",
        "    squeeze = GlobalAveragePooling2D()(input_tensor)\n",
        "\n",
        "    # Excitation: Two fully connected layers with sigmoid activation\n",
        "    excitation = Dense(units=channels // reduction_ratio, activation='relu')(squeeze)\n",
        "    excitation = Dense(units=channels, activation='sigmoid')(excitation)\n",
        "\n",
        "    # Reshape excitation weights to match input tensor shape\n",
        "    excitation = Reshape((1, 1, channels))(excitation)\n",
        "\n",
        "    # Scale the input tensor by the excitation weights\n",
        "    scaled_tensor = Multiply()([input_tensor, excitation])\n",
        "\n",
        "    # Add the scaled tensor to the input tensor\n",
        "    output_tensor = Add()([input_tensor, scaled_tensor])\n",
        "\n",
        "    return output_tensor\n"
      ]
    },
    {
      "cell_type": "code",
      "execution_count": 72,
      "metadata": {
        "id": "Ggy8o1xKY6G_"
      },
      "outputs": [],
      "source": [
        "def channel_attention(input_feature):\n",
        "  kernel_initializer = tf.keras.initializers.variance_scaling()\n",
        "  bias_initializer = tf.constant_initializer(value=0.0)\n",
        "  channel = input_feature.get_shape()[-1]\n",
        "  ratio=16\n",
        "  avg_pool = tf.reduce_mean(input_feature, axis=[1,2], keepdims=True)\n",
        "  assert avg_pool.get_shape()[1:] == (1,1,channel)\n",
        "  avg_pool =Dense(\n",
        "                                 units=channel//ratio,\n",
        "                                 activation=tf.nn.gelu,\n",
        "                                 kernel_initializer=kernel_initializer,\n",
        "                                 bias_initializer=bias_initializer) (avg_pool)\n",
        "  assert avg_pool.get_shape()[1:] == (1,1,channel//ratio)\n",
        "  avg_pool = Dense(\n",
        "                                 units=channel,\n",
        "                                 kernel_initializer=kernel_initializer,\n",
        "                                 bias_initializer=bias_initializer)  (avg_pool)\n",
        "  assert avg_pool.get_shape()[1:] == (1,1,channel)\n",
        "\n",
        "  max_pool = tf.reduce_max(input_feature, axis=[1,2], keepdims=True)\n",
        "  assert max_pool.get_shape()[1:] == (1,1,channel)\n",
        "  max_pool = Dense(\n",
        "                                 units=channel//ratio,\n",
        "                                 activation=tf.nn.gelu) (max_pool)\n",
        "  assert max_pool.get_shape()[1:] == (1,1,channel//ratio)\n",
        "  max_pool = Dense(\n",
        "                                 units=channel)  (max_pool)\n",
        "  assert max_pool.get_shape()[1:] == (1,1,channel)\n",
        "\n",
        "  scale = tf.keras.activations.sigmoid(avg_pool + max_pool)\n",
        "  return input_feature * scale"
      ]
    },
    {
      "cell_type": "code",
      "execution_count": 73,
      "metadata": {
        "id": "3z1zzcHClwzF"
      },
      "outputs": [],
      "source": [
        "def spatial_attention(input_feature):\n",
        "  kernel_size = 7\n",
        "  kernel_initializer = tf.keras.initializers.variance_scaling()\n",
        "\n",
        "  avg_pool = tf.reduce_mean(input_feature, axis=[3], keepdims=True)\n",
        "  assert avg_pool.get_shape()[-1] == 1\n",
        "  max_pool = tf.reduce_max(input_feature, axis=[3], keepdims=True)\n",
        "  assert max_pool.get_shape()[-1] == 1\n",
        "  concat = tf.concat([avg_pool,max_pool], 3)\n",
        "  assert concat.get_shape()[-1] == 2\n",
        "\n",
        "  concat = Conv2D(\n",
        "                              filters=1,\n",
        "                              kernel_size=[kernel_size,kernel_size],\n",
        "                              strides=[1,1],\n",
        "                              padding=\"same\",\n",
        "                              activation=tf.nn.gelu,\n",
        "                              kernel_initializer=kernel_initializer,\n",
        "                              use_bias=False)(concat)\n",
        "  assert concat.get_shape()[-1] == 1\n",
        "  concat = tf.keras.activations.sigmoid(concat)\n",
        "\n",
        "  return input_feature * concat"
      ]
    },
    {
      "cell_type": "code",
      "source": [
        "from keras.layers import Flatten, Dense, Input, Reshape, Lambda,Conv2D,BatchNormalization,Concatenate, Dropout, GlobalAveragePooling2D, Multiply,Add"
      ],
      "metadata": {
        "id": "XmjPruCxw2V9"
      },
      "execution_count": 74,
      "outputs": []
    },
    {
      "cell_type": "code",
      "source": [
        "def modelsbc():\n",
        "  base_model = Xception(weights='imagenet', include_top=False)\n",
        "  input = Input(shape=(256,256,3),name='input1')\n",
        "  input_gender = Input(shape=(1,),dtype='float32',name='input2')\n",
        "  output = base_model(input)\n",
        "  gender_embedding=Dense(32)(input_gender)\n",
        "  x = output\n",
        "  #y = output_tensor2\n",
        "  small=SmallObjectAttention(x)\n",
        "  big=LargeObjectAttention(x)\n",
        "  x1 = Conv2D(filters=256, kernel_size=(3, 3), activation='relu', padding='same')(small)\n",
        "  x2=BatchNormalization()(x1)\n",
        "  x3= Conv2D(filters=256, kernel_size=(3, 3), activation='relu', padding='same')(x2)\n",
        "  x4=BatchNormalization()(x3)\n",
        "  x5 = Conv2D(filters=256, kernel_size=(3, 3), activation='relu', padding='same')(x4)\n",
        "  x6=BatchNormalization()(x5)\n",
        "  x7= channel_attention(x6)\n",
        "  x8=spatial_attention(x7)\n",
        "\n",
        "  x11 = Conv2D(filters=256, kernel_size=(3, 3), activation='relu', padding='same')(big)\n",
        "  x22=BatchNormalization()(x11)\n",
        "  x33= Conv2D(filters=256, kernel_size=(3, 3), activation='relu', padding='same')(x22)\n",
        "  x44=BatchNormalization()(x33)\n",
        "  x55 = Conv2D(filters=256, kernel_size=(3, 3), activation='relu', padding='same')(x44)\n",
        "  x66=BatchNormalization()(x55)\n",
        "  x77= channel_attention(x66)\n",
        "  x88=spatial_attention(x77)\n",
        "  x9= Concatenate()([small,x8,big,x88])\n",
        "  # Add the final layers for classification/regression\n",
        "  #x10= Dropout(0.5)(x9)\n",
        "  x11 = GlobalAveragePooling2D()(x9)\n",
        "  #y = GlobalAveragePooling2D()(y)\n",
        "  x12 = Dense(512, activation='relu')(x11)\n",
        "  x13 = Dense(256, activation='relu')(x12)\n",
        "  f = keras.layers.Concatenate(axis=1)([x13,gender_embedding])\n",
        "  print (K.int_shape(f))\n",
        "  #x = Dense(256, activation='relu')(x)\n",
        "  predictions = Dense(240, activation='sigmoid')(f)\n",
        "  model = Model(inputs=[input,input_gender], outputs=predictions)\n",
        "  return model"
      ],
      "metadata": {
        "id": "mh3v4i4HvQvD"
      },
      "execution_count": 77,
      "outputs": []
    },
    {
      "cell_type": "code",
      "source": [
        "model1=modelsbc()\n",
        "Adam=keras.optimizers.Adam(lr=0.0003,beta_1=0.9,beta_2=0.999)\n",
        "# Compile the model\n",
        "model1.compile(optimizer=Adam, loss=tf.keras.losses.BinaryCrossentropy(), metrics=['accuracy'])\n",
        "\n",
        "\n",
        "# Print the model summary\n",
        "model1.summary()"
      ],
      "metadata": {
        "colab": {
          "base_uri": "https://localhost:8080/"
        },
        "id": "w-mQD0cB3C1X",
        "outputId": "7193f4bd-65f7-4835-e74b-99f3c361e0f8"
      },
      "execution_count": 78,
      "outputs": [
        {
          "output_type": "stream",
          "name": "stdout",
          "text": [
            "Downloading data from https://storage.googleapis.com/tensorflow/keras-applications/xception/xception_weights_tf_dim_ordering_tf_kernels_notop.h5\n",
            "83683744/83683744 [==============================] - 5s 0us/step\n"
          ]
        },
        {
          "output_type": "stream",
          "name": "stderr",
          "text": [
            "/usr/local/lib/python3.10/dist-packages/keras/initializers/initializers.py:120: UserWarning: The initializer VarianceScaling is unseeded and being called multiple times, which will return identical values each time (even if the initializer is unseeded). Please update your code to provide a seed to the initializer, or avoid using the same initalizer instance more than once.\n",
            "  warnings.warn(\n"
          ]
        },
        {
          "output_type": "stream",
          "name": "stdout",
          "text": [
            "(None, 288)\n",
            "Model: \"model\"\n",
            "__________________________________________________________________________________________________\n",
            " Layer (type)                   Output Shape         Param #     Connected to                     \n",
            "==================================================================================================\n",
            " input1 (InputLayer)            [(None, 256, 256, 3  0           []                               \n",
            "                                )]                                                                \n",
            "                                                                                                  \n",
            " xception (Functional)          (None, None, None,   20861480    ['input1[0][0]']                 \n",
            "                                2048)                                                             \n",
            "                                                                                                  \n",
            " global_average_pooling2d (Glob  (None, 2048)        0           ['xception[0][0]']               \n",
            " alAveragePooling2D)                                                                              \n",
            "                                                                                                  \n",
            " global_average_pooling2d_1 (Gl  (None, 2048)        0           ['xception[0][0]']               \n",
            " obalAveragePooling2D)                                                                            \n",
            "                                                                                                  \n",
            " dense_1 (Dense)                (None, 512)          1049088     ['global_average_pooling2d[0][0]'\n",
            "                                                                 ]                                \n",
            "                                                                                                  \n",
            " dense_3 (Dense)                (None, 128)          262272      ['global_average_pooling2d_1[0][0\n",
            "                                                                 ]']                              \n",
            "                                                                                                  \n",
            " dense_2 (Dense)                (None, 2048)         1050624     ['dense_1[0][0]']                \n",
            "                                                                                                  \n",
            " dense_4 (Dense)                (None, 2048)         264192      ['dense_3[0][0]']                \n",
            "                                                                                                  \n",
            " reshape (Reshape)              (None, 1, 1, 2048)   0           ['dense_2[0][0]']                \n",
            "                                                                                                  \n",
            " reshape_1 (Reshape)            (None, 1, 1, 2048)   0           ['dense_4[0][0]']                \n",
            "                                                                                                  \n",
            " multiply (Multiply)            (None, 8, 8, 2048)   0           ['xception[0][0]',               \n",
            "                                                                  'reshape[0][0]']                \n",
            "                                                                                                  \n",
            " multiply_1 (Multiply)          (None, 8, 8, 2048)   0           ['xception[0][0]',               \n",
            "                                                                  'reshape_1[0][0]']              \n",
            "                                                                                                  \n",
            " add_12 (Add)                   (None, 8, 8, 2048)   0           ['xception[0][0]',               \n",
            "                                                                  'multiply[0][0]']               \n",
            "                                                                                                  \n",
            " add_13 (Add)                   (None, 8, 8, 2048)   0           ['xception[0][0]',               \n",
            "                                                                  'multiply_1[0][0]']             \n",
            "                                                                                                  \n",
            " conv2d_4 (Conv2D)              (None, 8, 8, 256)    4718848     ['add_12[0][0]']                 \n",
            "                                                                                                  \n",
            " conv2d_8 (Conv2D)              (None, 8, 8, 256)    4718848     ['add_13[0][0]']                 \n",
            "                                                                                                  \n",
            " batch_normalization_4 (BatchNo  (None, 8, 8, 256)   1024        ['conv2d_4[0][0]']               \n",
            " rmalization)                                                                                     \n",
            "                                                                                                  \n",
            " batch_normalization_7 (BatchNo  (None, 8, 8, 256)   1024        ['conv2d_8[0][0]']               \n",
            " rmalization)                                                                                     \n",
            "                                                                                                  \n",
            " conv2d_5 (Conv2D)              (None, 8, 8, 256)    590080      ['batch_normalization_4[0][0]']  \n",
            "                                                                                                  \n",
            " conv2d_9 (Conv2D)              (None, 8, 8, 256)    590080      ['batch_normalization_7[0][0]']  \n",
            "                                                                                                  \n",
            " batch_normalization_5 (BatchNo  (None, 8, 8, 256)   1024        ['conv2d_5[0][0]']               \n",
            " rmalization)                                                                                     \n",
            "                                                                                                  \n",
            " batch_normalization_8 (BatchNo  (None, 8, 8, 256)   1024        ['conv2d_9[0][0]']               \n",
            " rmalization)                                                                                     \n",
            "                                                                                                  \n",
            " conv2d_6 (Conv2D)              (None, 8, 8, 256)    590080      ['batch_normalization_5[0][0]']  \n",
            "                                                                                                  \n",
            " conv2d_10 (Conv2D)             (None, 8, 8, 256)    590080      ['batch_normalization_8[0][0]']  \n",
            "                                                                                                  \n",
            " batch_normalization_6 (BatchNo  (None, 8, 8, 256)   1024        ['conv2d_6[0][0]']               \n",
            " rmalization)                                                                                     \n",
            "                                                                                                  \n",
            " batch_normalization_9 (BatchNo  (None, 8, 8, 256)   1024        ['conv2d_10[0][0]']              \n",
            " rmalization)                                                                                     \n",
            "                                                                                                  \n",
            " tf.math.reduce_mean (TFOpLambd  (None, 1, 1, 256)   0           ['batch_normalization_6[0][0]']  \n",
            " a)                                                                                               \n",
            "                                                                                                  \n",
            " tf.math.reduce_max (TFOpLambda  (None, 1, 1, 256)   0           ['batch_normalization_6[0][0]']  \n",
            " )                                                                                                \n",
            "                                                                                                  \n",
            " tf.math.reduce_mean_2 (TFOpLam  (None, 1, 1, 256)   0           ['batch_normalization_9[0][0]']  \n",
            " bda)                                                                                             \n",
            "                                                                                                  \n",
            " tf.math.reduce_max_2 (TFOpLamb  (None, 1, 1, 256)   0           ['batch_normalization_9[0][0]']  \n",
            " da)                                                                                              \n",
            "                                                                                                  \n",
            " dense_5 (Dense)                (None, 1, 1, 16)     4112        ['tf.math.reduce_mean[0][0]']    \n",
            "                                                                                                  \n",
            " dense_7 (Dense)                (None, 1, 1, 16)     4112        ['tf.math.reduce_max[0][0]']     \n",
            "                                                                                                  \n",
            " dense_9 (Dense)                (None, 1, 1, 16)     4112        ['tf.math.reduce_mean_2[0][0]']  \n",
            "                                                                                                  \n",
            " dense_11 (Dense)               (None, 1, 1, 16)     4112        ['tf.math.reduce_max_2[0][0]']   \n",
            "                                                                                                  \n",
            " dense_6 (Dense)                (None, 1, 1, 256)    4352        ['dense_5[0][0]']                \n",
            "                                                                                                  \n",
            " dense_8 (Dense)                (None, 1, 1, 256)    4352        ['dense_7[0][0]']                \n",
            "                                                                                                  \n",
            " dense_10 (Dense)               (None, 1, 1, 256)    4352        ['dense_9[0][0]']                \n",
            "                                                                                                  \n",
            " dense_12 (Dense)               (None, 1, 1, 256)    4352        ['dense_11[0][0]']               \n",
            "                                                                                                  \n",
            " tf.__operators__.add (TFOpLamb  (None, 1, 1, 256)   0           ['dense_6[0][0]',                \n",
            " da)                                                              'dense_8[0][0]']                \n",
            "                                                                                                  \n",
            " tf.__operators__.add_1 (TFOpLa  (None, 1, 1, 256)   0           ['dense_10[0][0]',               \n",
            " mbda)                                                            'dense_12[0][0]']               \n",
            "                                                                                                  \n",
            " tf.math.sigmoid (TFOpLambda)   (None, 1, 1, 256)    0           ['tf.__operators__.add[0][0]']   \n",
            "                                                                                                  \n",
            " tf.math.sigmoid_2 (TFOpLambda)  (None, 1, 1, 256)   0           ['tf.__operators__.add_1[0][0]'] \n",
            "                                                                                                  \n",
            " tf.math.multiply (TFOpLambda)  (None, 8, 8, 256)    0           ['batch_normalization_6[0][0]',  \n",
            "                                                                  'tf.math.sigmoid[0][0]']        \n",
            "                                                                                                  \n",
            " tf.math.multiply_2 (TFOpLambda  (None, 8, 8, 256)   0           ['batch_normalization_9[0][0]',  \n",
            " )                                                                'tf.math.sigmoid_2[0][0]']      \n",
            "                                                                                                  \n",
            " tf.math.reduce_mean_1 (TFOpLam  (None, 8, 8, 1)     0           ['tf.math.multiply[0][0]']       \n",
            " bda)                                                                                             \n",
            "                                                                                                  \n",
            " tf.math.reduce_max_1 (TFOpLamb  (None, 8, 8, 1)     0           ['tf.math.multiply[0][0]']       \n",
            " da)                                                                                              \n",
            "                                                                                                  \n",
            " tf.math.reduce_mean_3 (TFOpLam  (None, 8, 8, 1)     0           ['tf.math.multiply_2[0][0]']     \n",
            " bda)                                                                                             \n",
            "                                                                                                  \n",
            " tf.math.reduce_max_3 (TFOpLamb  (None, 8, 8, 1)     0           ['tf.math.multiply_2[0][0]']     \n",
            " da)                                                                                              \n",
            "                                                                                                  \n",
            " tf.concat (TFOpLambda)         (None, 8, 8, 2)      0           ['tf.math.reduce_mean_1[0][0]',  \n",
            "                                                                  'tf.math.reduce_max_1[0][0]']   \n",
            "                                                                                                  \n",
            " tf.concat_1 (TFOpLambda)       (None, 8, 8, 2)      0           ['tf.math.reduce_mean_3[0][0]',  \n",
            "                                                                  'tf.math.reduce_max_3[0][0]']   \n",
            "                                                                                                  \n",
            " conv2d_7 (Conv2D)              (None, 8, 8, 1)      98          ['tf.concat[0][0]']              \n",
            "                                                                                                  \n",
            " conv2d_11 (Conv2D)             (None, 8, 8, 1)      98          ['tf.concat_1[0][0]']            \n",
            "                                                                                                  \n",
            " tf.math.sigmoid_1 (TFOpLambda)  (None, 8, 8, 1)     0           ['conv2d_7[0][0]']               \n",
            "                                                                                                  \n",
            " tf.math.sigmoid_3 (TFOpLambda)  (None, 8, 8, 1)     0           ['conv2d_11[0][0]']              \n",
            "                                                                                                  \n",
            " tf.math.multiply_1 (TFOpLambda  (None, 8, 8, 256)   0           ['tf.math.multiply[0][0]',       \n",
            " )                                                                'tf.math.sigmoid_1[0][0]']      \n",
            "                                                                                                  \n",
            " tf.math.multiply_3 (TFOpLambda  (None, 8, 8, 256)   0           ['tf.math.multiply_2[0][0]',     \n",
            " )                                                                'tf.math.sigmoid_3[0][0]']      \n",
            "                                                                                                  \n",
            " concatenate (Concatenate)      (None, 8, 8, 4608)   0           ['add_12[0][0]',                 \n",
            "                                                                  'tf.math.multiply_1[0][0]',     \n",
            "                                                                  'add_13[0][0]',                 \n",
            "                                                                  'tf.math.multiply_3[0][0]']     \n",
            "                                                                                                  \n",
            " global_average_pooling2d_2 (Gl  (None, 4608)        0           ['concatenate[0][0]']            \n",
            " obalAveragePooling2D)                                                                            \n",
            "                                                                                                  \n",
            " dense_13 (Dense)               (None, 512)          2359808     ['global_average_pooling2d_2[0][0\n",
            "                                                                 ]']                              \n",
            "                                                                                                  \n",
            " input2 (InputLayer)            [(None, 1)]          0           []                               \n",
            "                                                                                                  \n",
            " dense_14 (Dense)               (None, 256)          131328      ['dense_13[0][0]']               \n",
            "                                                                                                  \n",
            " dense (Dense)                  (None, 32)           64          ['input2[0][0]']                 \n",
            "                                                                                                  \n",
            " concatenate_1 (Concatenate)    (None, 288)          0           ['dense_14[0][0]',               \n",
            "                                                                  'dense[0][0]']                  \n",
            "                                                                                                  \n",
            " dense_15 (Dense)               (None, 240)          69360       ['concatenate_1[0][0]']          \n",
            "                                                                                                  \n",
            "==================================================================================================\n",
            "Total params: 37,886,428\n",
            "Trainable params: 37,828,828\n"
          ]
        },
        {
          "output_type": "stream",
          "name": "stderr",
          "text": [
            "/usr/local/lib/python3.10/dist-packages/keras/optimizers/legacy/adam.py:117: UserWarning: The `lr` argument is deprecated, use `learning_rate` instead.\n",
            "  super().__init__(name, **kwargs)\n"
          ]
        },
        {
          "output_type": "stream",
          "name": "stdout",
          "text": [
            "Non-trainable params: 57,600\n",
            "__________________________________________________________________________________________________\n"
          ]
        }
      ]
    },
    {
      "cell_type": "code",
      "source": [
        "\n",
        "from keras.preprocessing.image import ImageDataGenerator\n",
        "DataGen = ImageDataGenerator(rotation_range=20,width_shift_range=0.15,height_shift_range=0.15,zoom_range=0.2,horizontal_flip=True)\n",
        "def Generator(x_train,gender_train,y_train,batch_size):\n",
        "    loopcount = len(y_train)//batch_size\n",
        "    i=0\n",
        "    while (True):\n",
        "        if i>loopcount:\n",
        "            i=0\n",
        "        # i=np.random.randint(0,loopcount)\n",
        "        x_train_batch = x_train[i*batch_size:(i+1)*batch_size,:,:,:]\n",
        "        x_train_batch = DataAugment(x_train_batch)\n",
        "        gender_train_batch = gender_train[i*batch_size:(i+1)*batch_size]\n",
        "        y_train_batch = y_train[i*batch_size:(i+1)*batch_size]\n",
        "        inputs = [x_train_batch,gender_train_batch]\n",
        "        target = y_train_batch\n",
        "        yield (inputs ,target)\n",
        "        i = i+1\n",
        "from keras.callbacks import ModelCheckpoint, LearningRateScheduler, EarlyStopping, ReduceLROnPlateau\n",
        "weight_path=\"/content/drive2/MyDrive/{}_.h5\".format('MPC_1')\n",
        "\n",
        "checkpoint = ModelCheckpoint(weight_path, monitor='val_loss', verbose=1,\n",
        "                             save_best_only=True, mode='min', save_weights_only = True)\n",
        "\n",
        "\n",
        "reduceLROnPlat = ReduceLROnPlateau(monitor='val_loss', factor=0.8, patience=10, verbose=1, mode='auto', epsilon=0.0001, cooldown=5, min_lr=0.0001)\n",
        "early = EarlyStopping(monitor=\"val_loss\",\n",
        "                      mode=\"min\",\n",
        "                      patience=5) # probably needs to be more patient, but kaggle time is limited\n",
        "callbacks_list = [checkpoint, reduceLROnPlat]\n",
        "history = model1.fit_generator(DataGen.flow([train_x,train_gen],trais_y,batch_size=16),steps_per_epoch=np.ceil(len(trais_y)/16),epochs=100,verbose=1,validation_data=([valid_x,valid_gen],valids_y),callbacks=callbacks_list)\n",
        "#history = model.fit_generator(Generator(x_train,gender_train,y_train,batch_size),steps_per_epoch=np.ceil(len(y_train)/batch_size),epochs=10,verbose=1,validation_data=([x_valid,gender_valid],y_valid))\n",
        "#history=model.fit([x_train,gender_train],y_train,batch_size=32,epochs=5,verbose=1,validation_data=([x_valid,gender_valid],y_valid), callbacks = [checkpoint])\n",
        "#score = model.evaluate([test_x,test_gen], test_y, batch_size=4)\n",
        "\n",
        "# MAE:11.40"
      ],
      "metadata": {
        "colab": {
          "base_uri": "https://localhost:8080/"
        },
        "id": "P-UgGU9OFtkG",
        "outputId": "1c44abd1-dc14-480e-f07f-3aa8c3f03387"
      },
      "execution_count": 79,
      "outputs": [
        {
          "output_type": "stream",
          "name": "stderr",
          "text": [
            "WARNING:tensorflow:`epsilon` argument is deprecated and will be removed, use `min_delta` instead.\n",
            "<ipython-input-79-585d31aa8e8e>:30: UserWarning: `Model.fit_generator` is deprecated and will be removed in a future version. Please use `Model.fit`, which supports generators.\n",
            "  history = model1.fit_generator(DataGen.flow([train_x,train_gen],trais_y,batch_size=16),steps_per_epoch=np.ceil(len(trais_y)/16),epochs=100,verbose=1,validation_data=([valid_x,valid_gen],valids_y),callbacks=callbacks_list)\n"
          ]
        },
        {
          "output_type": "stream",
          "name": "stdout",
          "text": [
            "Epoch 1/100\n",
            "223/223 [==============================] - ETA: 0s - loss: 0.0556 - accuracy: 0.0076\n",
            "Epoch 1: val_loss improved from inf to 0.02990, saving model to /content/drive2/MyDrive/MPC_1_.h5\n",
            "223/223 [==============================] - 143s 549ms/step - loss: 0.0556 - accuracy: 0.0076 - val_loss: 0.0299 - val_accuracy: 0.0134 - lr: 3.0000e-04\n",
            "Epoch 2/100\n",
            "223/223 [==============================] - ETA: 0s - loss: 0.0266 - accuracy: 0.0166\n",
            "Epoch 2: val_loss improved from 0.02990 to 0.02764, saving model to /content/drive2/MyDrive/MPC_1_.h5\n",
            "223/223 [==============================] - 105s 470ms/step - loss: 0.0266 - accuracy: 0.0166 - val_loss: 0.0276 - val_accuracy: 0.0275 - lr: 3.0000e-04\n",
            "Epoch 3/100\n",
            "223/223 [==============================] - ETA: 0s - loss: 0.0247 - accuracy: 0.0390\n",
            "Epoch 3: val_loss did not improve from 0.02764\n",
            "223/223 [==============================] - 91s 408ms/step - loss: 0.0247 - accuracy: 0.0390 - val_loss: 0.0278 - val_accuracy: 0.0464 - lr: 3.0000e-04\n",
            "Epoch 4/100\n",
            "223/223 [==============================] - ETA: 0s - loss: 0.0223 - accuracy: 0.0842\n",
            "Epoch 4: val_loss improved from 0.02764 to 0.02373, saving model to /content/drive2/MyDrive/MPC_1_.h5\n",
            "223/223 [==============================] - 104s 468ms/step - loss: 0.0223 - accuracy: 0.0842 - val_loss: 0.0237 - val_accuracy: 0.0873 - lr: 3.0000e-04\n",
            "Epoch 5/100\n",
            "223/223 [==============================] - ETA: 0s - loss: 0.0202 - accuracy: 0.1404\n",
            "Epoch 5: val_loss improved from 0.02373 to 0.02150, saving model to /content/drive2/MyDrive/MPC_1_.h5\n",
            "223/223 [==============================] - 100s 447ms/step - loss: 0.0202 - accuracy: 0.1404 - val_loss: 0.0215 - val_accuracy: 0.1305 - lr: 3.0000e-04\n",
            "Epoch 6/100\n",
            "223/223 [==============================] - ETA: 0s - loss: 0.0183 - accuracy: 0.2241\n",
            "Epoch 6: val_loss improved from 0.02150 to 0.01845, saving model to /content/drive2/MyDrive/MPC_1_.h5\n",
            "223/223 [==============================] - 104s 464ms/step - loss: 0.0183 - accuracy: 0.2241 - val_loss: 0.0184 - val_accuracy: 0.2484 - lr: 3.0000e-04\n",
            "Epoch 7/100\n",
            "223/223 [==============================] - ETA: 0s - loss: 0.0162 - accuracy: 0.3145\n",
            "Epoch 7: val_loss did not improve from 0.01845\n",
            "223/223 [==============================] - 97s 432ms/step - loss: 0.0162 - accuracy: 0.3145 - val_loss: 0.0232 - val_accuracy: 0.1847 - lr: 3.0000e-04\n",
            "Epoch 8/100\n",
            "223/223 [==============================] - ETA: 0s - loss: 0.0140 - accuracy: 0.4092\n",
            "Epoch 8: val_loss improved from 0.01845 to 0.01657, saving model to /content/drive2/MyDrive/MPC_1_.h5\n",
            "223/223 [==============================] - 107s 478ms/step - loss: 0.0140 - accuracy: 0.4092 - val_loss: 0.0166 - val_accuracy: 0.3436 - lr: 3.0000e-04\n",
            "Epoch 9/100\n",
            "223/223 [==============================] - ETA: 0s - loss: 0.0120 - accuracy: 0.4990\n",
            "Epoch 9: val_loss improved from 0.01657 to 0.01555, saving model to /content/drive2/MyDrive/MPC_1_.h5\n",
            "223/223 [==============================] - 105s 472ms/step - loss: 0.0120 - accuracy: 0.4990 - val_loss: 0.0155 - val_accuracy: 0.4127 - lr: 3.0000e-04\n",
            "Epoch 10/100\n",
            "223/223 [==============================] - ETA: 0s - loss: 0.0100 - accuracy: 0.5984\n",
            "Epoch 10: val_loss improved from 0.01555 to 0.01164, saving model to /content/drive2/MyDrive/MPC_1_.h5\n",
            "223/223 [==============================] - 104s 468ms/step - loss: 0.0100 - accuracy: 0.5984 - val_loss: 0.0116 - val_accuracy: 0.5645 - lr: 3.0000e-04\n",
            "Epoch 11/100\n",
            "223/223 [==============================] - ETA: 0s - loss: 0.0080 - accuracy: 0.6905\n",
            "Epoch 11: val_loss did not improve from 0.01164\n",
            "223/223 [==============================] - 96s 431ms/step - loss: 0.0080 - accuracy: 0.6905 - val_loss: 0.0131 - val_accuracy: 0.5385 - lr: 3.0000e-04\n",
            "Epoch 12/100\n",
            "223/223 [==============================] - ETA: 0s - loss: 0.0067 - accuracy: 0.7501\n",
            "Epoch 12: val_loss did not improve from 0.01164\n",
            "223/223 [==============================] - 95s 426ms/step - loss: 0.0067 - accuracy: 0.7501 - val_loss: 0.0126 - val_accuracy: 0.5338 - lr: 3.0000e-04\n",
            "Epoch 13/100\n",
            "223/223 [==============================] - ETA: 0s - loss: 0.0057 - accuracy: 0.8015\n",
            "Epoch 13: val_loss did not improve from 0.01164\n",
            "223/223 [==============================] - 96s 429ms/step - loss: 0.0057 - accuracy: 0.8015 - val_loss: 0.0141 - val_accuracy: 0.5134 - lr: 3.0000e-04\n",
            "Epoch 14/100\n",
            "223/223 [==============================] - ETA: 0s - loss: 0.0044 - accuracy: 0.8472\n",
            "Epoch 14: val_loss improved from 0.01164 to 0.00998, saving model to /content/drive2/MyDrive/MPC_1_.h5\n",
            "223/223 [==============================] - 102s 458ms/step - loss: 0.0044 - accuracy: 0.8472 - val_loss: 0.0100 - val_accuracy: 0.6753 - lr: 3.0000e-04\n",
            "Epoch 15/100\n",
            "223/223 [==============================] - ETA: 0s - loss: 0.0038 - accuracy: 0.8700\n",
            "Epoch 15: val_loss improved from 0.00998 to 0.00760, saving model to /content/drive2/MyDrive/MPC_1_.h5\n",
            "223/223 [==============================] - 106s 473ms/step - loss: 0.0038 - accuracy: 0.8700 - val_loss: 0.0076 - val_accuracy: 0.7500 - lr: 3.0000e-04\n",
            "Epoch 16/100\n",
            "223/223 [==============================] - ETA: 0s - loss: 0.0032 - accuracy: 0.8969\n",
            "Epoch 16: val_loss did not improve from 0.00760\n",
            "223/223 [==============================] - 97s 432ms/step - loss: 0.0032 - accuracy: 0.8969 - val_loss: 0.0116 - val_accuracy: 0.6321 - lr: 3.0000e-04\n",
            "Epoch 17/100\n",
            "223/223 [==============================] - ETA: 0s - loss: 0.0028 - accuracy: 0.9146\n",
            "Epoch 17: val_loss did not improve from 0.00760\n",
            "223/223 [==============================] - 96s 432ms/step - loss: 0.0028 - accuracy: 0.9146 - val_loss: 0.0098 - val_accuracy: 0.6958 - lr: 3.0000e-04\n",
            "Epoch 18/100\n",
            "223/223 [==============================] - ETA: 0s - loss: 0.0025 - accuracy: 0.9267\n",
            "Epoch 18: val_loss did not improve from 0.00760\n",
            "223/223 [==============================] - 96s 431ms/step - loss: 0.0025 - accuracy: 0.9267 - val_loss: 0.0131 - val_accuracy: 0.6140 - lr: 3.0000e-04\n",
            "Epoch 19/100\n",
            "223/223 [==============================] - ETA: 0s - loss: 0.0020 - accuracy: 0.9399\n",
            "Epoch 19: val_loss did not improve from 0.00760\n",
            "223/223 [==============================] - 95s 427ms/step - loss: 0.0020 - accuracy: 0.9399 - val_loss: 0.0080 - val_accuracy: 0.7689 - lr: 3.0000e-04\n",
            "Epoch 20/100\n",
            "223/223 [==============================] - ETA: 0s - loss: 0.0017 - accuracy: 0.9539\n",
            "Epoch 20: val_loss did not improve from 0.00760\n",
            "223/223 [==============================] - 96s 430ms/step - loss: 0.0017 - accuracy: 0.9539 - val_loss: 0.0123 - val_accuracy: 0.6580 - lr: 3.0000e-04\n",
            "Epoch 21/100\n",
            "223/223 [==============================] - ETA: 0s - loss: 0.0018 - accuracy: 0.9525\n",
            "Epoch 21: val_loss improved from 0.00760 to 0.00721, saving model to /content/drive2/MyDrive/MPC_1_.h5\n",
            "223/223 [==============================] - 104s 464ms/step - loss: 0.0018 - accuracy: 0.9525 - val_loss: 0.0072 - val_accuracy: 0.8035 - lr: 3.0000e-04\n",
            "Epoch 22/100\n",
            "223/223 [==============================] - ETA: 0s - loss: 0.0020 - accuracy: 0.9433\n",
            "Epoch 22: val_loss did not improve from 0.00721\n",
            "223/223 [==============================] - 91s 409ms/step - loss: 0.0020 - accuracy: 0.9433 - val_loss: 0.0106 - val_accuracy: 0.6737 - lr: 3.0000e-04\n",
            "Epoch 23/100\n",
            "223/223 [==============================] - ETA: 0s - loss: 0.0016 - accuracy: 0.9570\n",
            "Epoch 23: val_loss improved from 0.00721 to 0.00611, saving model to /content/drive2/MyDrive/MPC_1_.h5\n",
            "223/223 [==============================] - 106s 476ms/step - loss: 0.0016 - accuracy: 0.9570 - val_loss: 0.0061 - val_accuracy: 0.8388 - lr: 3.0000e-04\n",
            "Epoch 24/100\n",
            "223/223 [==============================] - ETA: 0s - loss: 0.0013 - accuracy: 0.9635\n",
            "Epoch 24: val_loss did not improve from 0.00611\n",
            "223/223 [==============================] - 97s 432ms/step - loss: 0.0013 - accuracy: 0.9635 - val_loss: 0.0086 - val_accuracy: 0.7579 - lr: 3.0000e-04\n",
            "Epoch 25/100\n",
            "223/223 [==============================] - ETA: 0s - loss: 0.0014 - accuracy: 0.9615\n",
            "Epoch 25: val_loss did not improve from 0.00611\n",
            "223/223 [==============================] - 92s 413ms/step - loss: 0.0014 - accuracy: 0.9615 - val_loss: 0.0095 - val_accuracy: 0.7476 - lr: 3.0000e-04\n",
            "Epoch 26/100\n",
            "223/223 [==============================] - ETA: 0s - loss: 0.0011 - accuracy: 0.9736\n",
            "Epoch 26: val_loss did not improve from 0.00611\n",
            "223/223 [==============================] - 94s 423ms/step - loss: 0.0011 - accuracy: 0.9736 - val_loss: 0.0099 - val_accuracy: 0.7248 - lr: 3.0000e-04\n",
            "Epoch 27/100\n",
            "223/223 [==============================] - ETA: 0s - loss: 0.0014 - accuracy: 0.9635\n",
            "Epoch 27: val_loss did not improve from 0.00611\n",
            "223/223 [==============================] - 95s 426ms/step - loss: 0.0014 - accuracy: 0.9635 - val_loss: 0.0094 - val_accuracy: 0.7744 - lr: 3.0000e-04\n",
            "Epoch 28/100\n",
            "223/223 [==============================] - ETA: 0s - loss: 0.0011 - accuracy: 0.9733\n",
            "Epoch 28: val_loss did not improve from 0.00611\n",
            "223/223 [==============================] - 91s 405ms/step - loss: 0.0011 - accuracy: 0.9733 - val_loss: 0.0071 - val_accuracy: 0.8506 - lr: 3.0000e-04\n",
            "Epoch 29/100\n",
            "223/223 [==============================] - ETA: 0s - loss: 9.1941e-04 - accuracy: 0.9787\n",
            "Epoch 29: val_loss did not improve from 0.00611\n",
            "223/223 [==============================] - 93s 416ms/step - loss: 9.1941e-04 - accuracy: 0.9787 - val_loss: 0.0093 - val_accuracy: 0.7697 - lr: 3.0000e-04\n",
            "Epoch 30/100\n",
            "223/223 [==============================] - ETA: 0s - loss: 0.0011 - accuracy: 0.9725\n",
            "Epoch 30: val_loss did not improve from 0.00611\n",
            "223/223 [==============================] - 95s 428ms/step - loss: 0.0011 - accuracy: 0.9725 - val_loss: 0.0083 - val_accuracy: 0.8105 - lr: 3.0000e-04\n",
            "Epoch 31/100\n",
            "223/223 [==============================] - ETA: 0s - loss: 9.0297e-04 - accuracy: 0.9801\n",
            "Epoch 31: val_loss did not improve from 0.00611\n",
            "223/223 [==============================] - 96s 429ms/step - loss: 9.0297e-04 - accuracy: 0.9801 - val_loss: 0.0093 - val_accuracy: 0.7862 - lr: 3.0000e-04\n",
            "Epoch 32/100\n",
            "223/223 [==============================] - ETA: 0s - loss: 9.9079e-04 - accuracy: 0.9784\n",
            "Epoch 32: val_loss did not improve from 0.00611\n",
            "223/223 [==============================] - 91s 409ms/step - loss: 9.9079e-04 - accuracy: 0.9784 - val_loss: 0.0098 - val_accuracy: 0.7571 - lr: 3.0000e-04\n",
            "Epoch 33/100\n",
            "223/223 [==============================] - ETA: 0s - loss: 0.0014 - accuracy: 0.9677\n",
            "Epoch 33: val_loss did not improve from 0.00611\n",
            "\n",
            "Epoch 33: ReduceLROnPlateau reducing learning rate to 0.00024000001139938833.\n",
            "223/223 [==============================] - 96s 428ms/step - loss: 0.0014 - accuracy: 0.9677 - val_loss: 0.0099 - val_accuracy: 0.7374 - lr: 3.0000e-04\n",
            "Epoch 34/100\n",
            "223/223 [==============================] - ETA: 0s - loss: 5.5488e-04 - accuracy: 0.9888\n",
            "Epoch 34: val_loss improved from 0.00611 to 0.00512, saving model to /content/drive2/MyDrive/MPC_1_.h5\n",
            "223/223 [==============================] - 101s 453ms/step - loss: 5.5488e-04 - accuracy: 0.9888 - val_loss: 0.0051 - val_accuracy: 0.8962 - lr: 2.4000e-04\n",
            "Epoch 35/100\n",
            "223/223 [==============================] - ETA: 0s - loss: 3.4073e-04 - accuracy: 0.9930\n",
            "Epoch 35: val_loss improved from 0.00512 to 0.00491, saving model to /content/drive2/MyDrive/MPC_1_.h5\n",
            "223/223 [==============================] - 111s 499ms/step - loss: 3.4073e-04 - accuracy: 0.9930 - val_loss: 0.0049 - val_accuracy: 0.9112 - lr: 2.4000e-04\n",
            "Epoch 36/100\n",
            "223/223 [==============================] - ETA: 0s - loss: 3.0048e-04 - accuracy: 0.9947\n",
            "Epoch 36: val_loss did not improve from 0.00491\n",
            "223/223 [==============================] - 91s 408ms/step - loss: 3.0048e-04 - accuracy: 0.9947 - val_loss: 0.0058 - val_accuracy: 0.8962 - lr: 2.4000e-04\n",
            "Epoch 37/100\n",
            "223/223 [==============================] - ETA: 0s - loss: 5.6815e-04 - accuracy: 0.9860\n",
            "Epoch 37: val_loss did not improve from 0.00491\n",
            "223/223 [==============================] - 92s 412ms/step - loss: 5.6815e-04 - accuracy: 0.9860 - val_loss: 0.0052 - val_accuracy: 0.8813 - lr: 2.4000e-04\n",
            "Epoch 38/100\n",
            "223/223 [==============================] - ETA: 0s - loss: 6.7083e-04 - accuracy: 0.9854\n",
            "Epoch 38: val_loss did not improve from 0.00491\n",
            "223/223 [==============================] - 95s 427ms/step - loss: 6.7083e-04 - accuracy: 0.9854 - val_loss: 0.0076 - val_accuracy: 0.8270 - lr: 2.4000e-04\n",
            "Epoch 39/100\n",
            "223/223 [==============================] - ETA: 0s - loss: 6.2458e-04 - accuracy: 0.9865\n",
            "Epoch 39: val_loss did not improve from 0.00491\n",
            "223/223 [==============================] - 92s 412ms/step - loss: 6.2458e-04 - accuracy: 0.9865 - val_loss: 0.0055 - val_accuracy: 0.8844 - lr: 2.4000e-04\n",
            "Epoch 40/100\n",
            "223/223 [==============================] - ETA: 0s - loss: 3.0050e-04 - accuracy: 0.9941\n",
            "Epoch 40: val_loss did not improve from 0.00491\n",
            "223/223 [==============================] - 96s 428ms/step - loss: 3.0050e-04 - accuracy: 0.9941 - val_loss: 0.0052 - val_accuracy: 0.8994 - lr: 2.4000e-04\n",
            "Epoch 41/100\n",
            "223/223 [==============================] - ETA: 0s - loss: 4.6670e-04 - accuracy: 0.9896\n",
            "Epoch 41: val_loss did not improve from 0.00491\n",
            "223/223 [==============================] - 92s 411ms/step - loss: 4.6670e-04 - accuracy: 0.9896 - val_loss: 0.0049 - val_accuracy: 0.9064 - lr: 2.4000e-04\n",
            "Epoch 42/100\n",
            "223/223 [==============================] - ETA: 0s - loss: 4.0743e-04 - accuracy: 0.9924\n",
            "Epoch 42: val_loss did not improve from 0.00491\n",
            "223/223 [==============================] - 96s 430ms/step - loss: 4.0743e-04 - accuracy: 0.9924 - val_loss: 0.0064 - val_accuracy: 0.8695 - lr: 2.4000e-04\n",
            "Epoch 43/100\n",
            "223/223 [==============================] - ETA: 0s - loss: 4.4090e-04 - accuracy: 0.9916\n",
            "Epoch 43: val_loss did not improve from 0.00491\n",
            "223/223 [==============================] - 93s 417ms/step - loss: 4.4090e-04 - accuracy: 0.9916 - val_loss: 0.0096 - val_accuracy: 0.7885 - lr: 2.4000e-04\n",
            "Epoch 44/100\n",
            "223/223 [==============================] - ETA: 0s - loss: 8.8279e-04 - accuracy: 0.9767\n",
            "Epoch 44: val_loss did not improve from 0.00491\n",
            "223/223 [==============================] - 96s 432ms/step - loss: 8.8279e-04 - accuracy: 0.9767 - val_loss: 0.0070 - val_accuracy: 0.8349 - lr: 2.4000e-04\n",
            "Epoch 45/100\n",
            "223/223 [==============================] - ETA: 0s - loss: 6.2317e-04 - accuracy: 0.9865\n",
            "Epoch 45: val_loss did not improve from 0.00491\n",
            "223/223 [==============================] - 94s 419ms/step - loss: 6.2317e-04 - accuracy: 0.9865 - val_loss: 0.0075 - val_accuracy: 0.8475 - lr: 2.4000e-04\n",
            "Epoch 46/100\n",
            "223/223 [==============================] - ETA: 0s - loss: 3.5363e-04 - accuracy: 0.9930\n",
            "Epoch 46: val_loss did not improve from 0.00491\n",
            "223/223 [==============================] - 93s 414ms/step - loss: 3.5363e-04 - accuracy: 0.9930 - val_loss: 0.0054 - val_accuracy: 0.8939 - lr: 2.4000e-04\n",
            "Epoch 47/100\n",
            "223/223 [==============================] - ETA: 0s - loss: 2.9205e-04 - accuracy: 0.9941\n",
            "Epoch 47: val_loss did not improve from 0.00491\n",
            "\n",
            "Epoch 47: ReduceLROnPlateau reducing learning rate to 0.00019200000679120421.\n",
            "223/223 [==============================] - 92s 413ms/step - loss: 2.9205e-04 - accuracy: 0.9941 - val_loss: 0.0053 - val_accuracy: 0.9041 - lr: 2.4000e-04\n",
            "Epoch 48/100\n",
            "223/223 [==============================] - ETA: 0s - loss: 3.4163e-04 - accuracy: 0.9941\n",
            "Epoch 48: val_loss did not improve from 0.00491\n",
            "223/223 [==============================] - 93s 415ms/step - loss: 3.4163e-04 - accuracy: 0.9941 - val_loss: 0.0063 - val_accuracy: 0.8829 - lr: 1.9200e-04\n",
            "Epoch 49/100\n",
            "223/223 [==============================] - ETA: 0s - loss: 2.6554e-04 - accuracy: 0.9933\n",
            "Epoch 49: val_loss did not improve from 0.00491\n",
            "223/223 [==============================] - 96s 427ms/step - loss: 2.6554e-04 - accuracy: 0.9933 - val_loss: 0.0071 - val_accuracy: 0.8546 - lr: 1.9200e-04\n",
            "Epoch 50/100\n",
            "223/223 [==============================] - ETA: 0s - loss: 2.5216e-04 - accuracy: 0.9958\n",
            "Epoch 50: val_loss did not improve from 0.00491\n",
            "223/223 [==============================] - 93s 415ms/step - loss: 2.5216e-04 - accuracy: 0.9958 - val_loss: 0.0060 - val_accuracy: 0.9025 - lr: 1.9200e-04\n",
            "Epoch 51/100\n",
            "223/223 [==============================] - ETA: 0s - loss: 3.0832e-04 - accuracy: 0.9924\n",
            "Epoch 51: val_loss did not improve from 0.00491\n",
            "223/223 [==============================] - 92s 413ms/step - loss: 3.0832e-04 - accuracy: 0.9924 - val_loss: 0.0077 - val_accuracy: 0.8451 - lr: 1.9200e-04\n",
            "Epoch 52/100\n",
            "223/223 [==============================] - ETA: 0s - loss: 4.1315e-04 - accuracy: 0.9930\n",
            "Epoch 52: val_loss did not improve from 0.00491\n",
            "223/223 [==============================] - 96s 432ms/step - loss: 4.1315e-04 - accuracy: 0.9930 - val_loss: 0.0136 - val_accuracy: 0.7028 - lr: 1.9200e-04\n",
            "Epoch 53/100\n",
            "223/223 [==============================] - ETA: 0s - loss: 3.1737e-04 - accuracy: 0.9924\n",
            "Epoch 53: val_loss did not improve from 0.00491\n",
            "223/223 [==============================] - 92s 411ms/step - loss: 3.1737e-04 - accuracy: 0.9924 - val_loss: 0.0079 - val_accuracy: 0.8538 - lr: 1.9200e-04\n",
            "Epoch 54/100\n",
            "223/223 [==============================] - ETA: 0s - loss: 3.1743e-04 - accuracy: 0.9938\n",
            "Epoch 54: val_loss did not improve from 0.00491\n",
            "223/223 [==============================] - 95s 424ms/step - loss: 3.1743e-04 - accuracy: 0.9938 - val_loss: 0.0051 - val_accuracy: 0.9127 - lr: 1.9200e-04\n",
            "Epoch 55/100\n",
            "223/223 [==============================] - ETA: 0s - loss: 3.1373e-04 - accuracy: 0.9938\n",
            "Epoch 55: val_loss did not improve from 0.00491\n",
            "223/223 [==============================] - 90s 403ms/step - loss: 3.1373e-04 - accuracy: 0.9938 - val_loss: 0.0130 - val_accuracy: 0.7233 - lr: 1.9200e-04\n",
            "Epoch 56/100\n",
            "223/223 [==============================] - ETA: 0s - loss: 4.4141e-04 - accuracy: 0.9907\n",
            "Epoch 56: val_loss did not improve from 0.00491\n",
            "223/223 [==============================] - 94s 423ms/step - loss: 4.4141e-04 - accuracy: 0.9907 - val_loss: 0.0066 - val_accuracy: 0.8577 - lr: 1.9200e-04\n",
            "Epoch 57/100\n",
            "223/223 [==============================] - ETA: 0s - loss: 2.3635e-04 - accuracy: 0.9947\n",
            "Epoch 57: val_loss did not improve from 0.00491\n",
            "223/223 [==============================] - 94s 421ms/step - loss: 2.3635e-04 - accuracy: 0.9947 - val_loss: 0.0062 - val_accuracy: 0.8852 - lr: 1.9200e-04\n",
            "Epoch 58/100\n",
            "223/223 [==============================] - ETA: 0s - loss: 2.2829e-04 - accuracy: 0.9961\n",
            "Epoch 58: val_loss did not improve from 0.00491\n",
            "223/223 [==============================] - 91s 407ms/step - loss: 2.2829e-04 - accuracy: 0.9961 - val_loss: 0.0056 - val_accuracy: 0.9009 - lr: 1.9200e-04\n",
            "Epoch 59/100\n",
            "223/223 [==============================] - ETA: 0s - loss: 1.9455e-04 - accuracy: 0.9958\n",
            "Epoch 59: val_loss did not improve from 0.00491\n",
            "223/223 [==============================] - 91s 408ms/step - loss: 1.9455e-04 - accuracy: 0.9958 - val_loss: 0.0064 - val_accuracy: 0.8852 - lr: 1.9200e-04\n",
            "Epoch 60/100\n",
            "223/223 [==============================] - ETA: 0s - loss: 2.9531e-04 - accuracy: 0.9947\n",
            "Epoch 60: val_loss did not improve from 0.00491\n",
            "223/223 [==============================] - 91s 409ms/step - loss: 2.9531e-04 - accuracy: 0.9947 - val_loss: 0.0066 - val_accuracy: 0.8781 - lr: 1.9200e-04\n",
            "Epoch 61/100\n",
            "223/223 [==============================] - ETA: 0s - loss: 4.6331e-04 - accuracy: 0.9893\n",
            "Epoch 61: val_loss did not improve from 0.00491\n",
            "\n",
            "Epoch 61: ReduceLROnPlateau reducing learning rate to 0.00015360000543296337.\n",
            "223/223 [==============================] - 91s 407ms/step - loss: 4.6331e-04 - accuracy: 0.9893 - val_loss: 0.0076 - val_accuracy: 0.8420 - lr: 1.9200e-04\n",
            "Epoch 62/100\n",
            "223/223 [==============================] - ETA: 0s - loss: 2.0729e-04 - accuracy: 0.9955\n",
            "Epoch 62: val_loss did not improve from 0.00491\n",
            "223/223 [==============================] - 95s 423ms/step - loss: 2.0729e-04 - accuracy: 0.9955 - val_loss: 0.0052 - val_accuracy: 0.9088 - lr: 1.5360e-04\n",
            "Epoch 63/100\n",
            "223/223 [==============================] - ETA: 0s - loss: 1.0320e-04 - accuracy: 0.9978\n",
            "Epoch 63: val_loss did not improve from 0.00491\n",
            "223/223 [==============================] - 91s 408ms/step - loss: 1.0320e-04 - accuracy: 0.9978 - val_loss: 0.0056 - val_accuracy: 0.9033 - lr: 1.5360e-04\n",
            "Epoch 64/100\n",
            "223/223 [==============================] - ETA: 0s - loss: 1.1159e-04 - accuracy: 0.9975\n",
            "Epoch 64: val_loss did not improve from 0.00491\n",
            "223/223 [==============================] - 95s 424ms/step - loss: 1.1159e-04 - accuracy: 0.9975 - val_loss: 0.0053 - val_accuracy: 0.9080 - lr: 1.5360e-04\n",
            "Epoch 65/100\n",
            "223/223 [==============================] - ETA: 0s - loss: 1.6505e-04 - accuracy: 0.9978\n",
            "Epoch 65: val_loss did not improve from 0.00491\n",
            "223/223 [==============================] - 94s 423ms/step - loss: 1.6505e-04 - accuracy: 0.9978 - val_loss: 0.0065 - val_accuracy: 0.8978 - lr: 1.5360e-04\n",
            "Epoch 66/100\n",
            "223/223 [==============================] - ETA: 0s - loss: 1.0441e-04 - accuracy: 0.9980\n",
            "Epoch 66: val_loss did not improve from 0.00491\n",
            "223/223 [==============================] - 91s 409ms/step - loss: 1.0441e-04 - accuracy: 0.9980 - val_loss: 0.0079 - val_accuracy: 0.8781 - lr: 1.5360e-04\n",
            "Epoch 67/100\n",
            "223/223 [==============================] - ETA: 0s - loss: 1.8074e-04 - accuracy: 0.9961\n",
            "Epoch 67: val_loss did not improve from 0.00491\n",
            "223/223 [==============================] - 94s 420ms/step - loss: 1.8074e-04 - accuracy: 0.9961 - val_loss: 0.0067 - val_accuracy: 0.9064 - lr: 1.5360e-04\n",
            "Epoch 68/100\n",
            "223/223 [==============================] - ETA: 0s - loss: 1.6497e-04 - accuracy: 0.9978\n",
            "Epoch 68: val_loss did not improve from 0.00491\n",
            "223/223 [==============================] - 93s 415ms/step - loss: 1.6497e-04 - accuracy: 0.9978 - val_loss: 0.0079 - val_accuracy: 0.8428 - lr: 1.5360e-04\n",
            "Epoch 69/100\n",
            "223/223 [==============================] - ETA: 0s - loss: 1.7609e-04 - accuracy: 0.9969\n",
            "Epoch 69: val_loss did not improve from 0.00491\n",
            "223/223 [==============================] - 93s 417ms/step - loss: 1.7609e-04 - accuracy: 0.9969 - val_loss: 0.0062 - val_accuracy: 0.8978 - lr: 1.5360e-04\n",
            "Epoch 70/100\n",
            "223/223 [==============================] - ETA: 0s - loss: 4.0464e-04 - accuracy: 0.9913\n",
            "Epoch 70: val_loss did not improve from 0.00491\n",
            "223/223 [==============================] - 94s 423ms/step - loss: 4.0464e-04 - accuracy: 0.9913 - val_loss: 0.0078 - val_accuracy: 0.8593 - lr: 1.5360e-04\n",
            "Epoch 71/100\n",
            "223/223 [==============================] - ETA: 0s - loss: 1.1698e-04 - accuracy: 0.9978\n",
            "Epoch 71: val_loss did not improve from 0.00491\n",
            "223/223 [==============================] - 94s 422ms/step - loss: 1.1698e-04 - accuracy: 0.9978 - val_loss: 0.0060 - val_accuracy: 0.9088 - lr: 1.5360e-04\n",
            "Epoch 72/100\n",
            "223/223 [==============================] - ETA: 0s - loss: 1.0798e-04 - accuracy: 0.9980\n",
            "Epoch 72: val_loss did not improve from 0.00491\n",
            "223/223 [==============================] - 91s 408ms/step - loss: 1.0798e-04 - accuracy: 0.9980 - val_loss: 0.0118 - val_accuracy: 0.8388 - lr: 1.5360e-04\n",
            "Epoch 73/100\n",
            "223/223 [==============================] - ETA: 0s - loss: 2.4378e-04 - accuracy: 0.9958\n",
            "Epoch 73: val_loss did not improve from 0.00491\n",
            "223/223 [==============================] - 94s 419ms/step - loss: 2.4378e-04 - accuracy: 0.9958 - val_loss: 0.0083 - val_accuracy: 0.8498 - lr: 1.5360e-04\n",
            "Epoch 74/100\n",
            "223/223 [==============================] - ETA: 0s - loss: 3.1680e-04 - accuracy: 0.9938\n",
            "Epoch 74: val_loss did not improve from 0.00491\n",
            "223/223 [==============================] - 94s 423ms/step - loss: 3.1680e-04 - accuracy: 0.9938 - val_loss: 0.0075 - val_accuracy: 0.8569 - lr: 1.5360e-04\n",
            "Epoch 75/100\n",
            "223/223 [==============================] - ETA: 0s - loss: 1.9239e-04 - accuracy: 0.9963\n",
            "Epoch 75: val_loss did not improve from 0.00491\n",
            "\n",
            "Epoch 75: ReduceLROnPlateau reducing learning rate to 0.0001228800043463707.\n",
            "223/223 [==============================] - 95s 424ms/step - loss: 1.9239e-04 - accuracy: 0.9963 - val_loss: 0.0062 - val_accuracy: 0.8852 - lr: 1.5360e-04\n",
            "Epoch 76/100\n",
            "223/223 [==============================] - ETA: 0s - loss: 9.4334e-05 - accuracy: 0.9986\n",
            "Epoch 76: val_loss did not improve from 0.00491\n",
            "223/223 [==============================] - 92s 411ms/step - loss: 9.4334e-05 - accuracy: 0.9986 - val_loss: 0.0050 - val_accuracy: 0.9222 - lr: 1.2288e-04\n",
            "Epoch 77/100\n",
            "223/223 [==============================] - ETA: 0s - loss: 7.5548e-05 - accuracy: 0.9983\n",
            "Epoch 77: val_loss did not improve from 0.00491\n",
            "223/223 [==============================] - 94s 420ms/step - loss: 7.5548e-05 - accuracy: 0.9983 - val_loss: 0.0050 - val_accuracy: 0.9222 - lr: 1.2288e-04\n",
            "Epoch 78/100\n",
            "223/223 [==============================] - ETA: 0s - loss: 3.5864e-05 - accuracy: 0.9994\n",
            "Epoch 78: val_loss did not improve from 0.00491\n",
            "223/223 [==============================] - 95s 427ms/step - loss: 3.5864e-05 - accuracy: 0.9994 - val_loss: 0.0052 - val_accuracy: 0.9198 - lr: 1.2288e-04\n",
            "Epoch 79/100\n",
            "223/223 [==============================] - ETA: 0s - loss: 4.4750e-05 - accuracy: 0.9994\n",
            "Epoch 79: val_loss did not improve from 0.00491\n",
            "223/223 [==============================] - 95s 427ms/step - loss: 4.4750e-05 - accuracy: 0.9994 - val_loss: 0.0051 - val_accuracy: 0.9214 - lr: 1.2288e-04\n",
            "Epoch 80/100\n",
            "223/223 [==============================] - ETA: 0s - loss: 7.9123e-05 - accuracy: 0.9980\n",
            "Epoch 80: val_loss did not improve from 0.00491\n",
            "223/223 [==============================] - 92s 410ms/step - loss: 7.9123e-05 - accuracy: 0.9980 - val_loss: 0.0052 - val_accuracy: 0.9206 - lr: 1.2288e-04\n",
            "Epoch 81/100\n",
            "223/223 [==============================] - ETA: 0s - loss: 5.3657e-05 - accuracy: 0.9994\n",
            "Epoch 81: val_loss did not improve from 0.00491\n",
            "223/223 [==============================] - 95s 428ms/step - loss: 5.3657e-05 - accuracy: 0.9994 - val_loss: 0.0053 - val_accuracy: 0.9143 - lr: 1.2288e-04\n",
            "Epoch 82/100\n",
            "223/223 [==============================] - ETA: 0s - loss: 8.2741e-05 - accuracy: 0.9989\n",
            "Epoch 82: val_loss improved from 0.00491 to 0.00464, saving model to /content/drive2/MyDrive/MPC_1_.h5\n",
            "223/223 [==============================] - 106s 474ms/step - loss: 8.2741e-05 - accuracy: 0.9989 - val_loss: 0.0046 - val_accuracy: 0.9253 - lr: 1.2288e-04\n",
            "Epoch 83/100\n",
            "223/223 [==============================] - ETA: 0s - loss: 1.5287e-04 - accuracy: 0.9975\n",
            "Epoch 83: val_loss did not improve from 0.00464\n",
            "223/223 [==============================] - 95s 427ms/step - loss: 1.5287e-04 - accuracy: 0.9975 - val_loss: 0.0062 - val_accuracy: 0.9041 - lr: 1.2288e-04\n",
            "Epoch 84/100\n",
            "223/223 [==============================] - ETA: 0s - loss: 2.2353e-04 - accuracy: 0.9949\n",
            "Epoch 84: val_loss did not improve from 0.00464\n",
            "223/223 [==============================] - 92s 413ms/step - loss: 2.2353e-04 - accuracy: 0.9949 - val_loss: 0.0055 - val_accuracy: 0.9127 - lr: 1.2288e-04\n",
            "Epoch 85/100\n",
            "223/223 [==============================] - ETA: 0s - loss: 4.2379e-05 - accuracy: 1.0000\n",
            "Epoch 85: val_loss did not improve from 0.00464\n",
            "223/223 [==============================] - 97s 434ms/step - loss: 4.2379e-05 - accuracy: 1.0000 - val_loss: 0.0053 - val_accuracy: 0.9159 - lr: 1.2288e-04\n",
            "Epoch 86/100\n",
            "223/223 [==============================] - ETA: 0s - loss: 5.6298e-05 - accuracy: 0.9994\n",
            "Epoch 86: val_loss did not improve from 0.00464\n",
            "223/223 [==============================] - 93s 417ms/step - loss: 5.6298e-05 - accuracy: 0.9994 - val_loss: 0.0050 - val_accuracy: 0.9245 - lr: 1.2288e-04\n",
            "Epoch 87/100\n",
            "223/223 [==============================] - ETA: 0s - loss: 6.2392e-05 - accuracy: 0.9986\n",
            "Epoch 87: val_loss did not improve from 0.00464\n",
            "223/223 [==============================] - 93s 417ms/step - loss: 6.2392e-05 - accuracy: 0.9986 - val_loss: 0.0064 - val_accuracy: 0.8750 - lr: 1.2288e-04\n",
            "Epoch 88/100\n",
            "223/223 [==============================] - ETA: 0s - loss: 6.0616e-05 - accuracy: 0.9989\n",
            "Epoch 88: val_loss did not improve from 0.00464\n",
            "223/223 [==============================] - 93s 415ms/step - loss: 6.0616e-05 - accuracy: 0.9989 - val_loss: 0.0060 - val_accuracy: 0.9064 - lr: 1.2288e-04\n",
            "Epoch 89/100\n",
            "223/223 [==============================] - ETA: 0s - loss: 2.4400e-05 - accuracy: 1.0000\n",
            "Epoch 89: val_loss did not improve from 0.00464\n",
            "223/223 [==============================] - 96s 428ms/step - loss: 2.4400e-05 - accuracy: 1.0000 - val_loss: 0.0067 - val_accuracy: 0.8994 - lr: 1.2288e-04\n",
            "Epoch 90/100\n",
            "223/223 [==============================] - ETA: 0s - loss: 9.8206e-05 - accuracy: 0.9994\n",
            "Epoch 90: val_loss did not improve from 0.00464\n",
            "223/223 [==============================] - 95s 426ms/step - loss: 9.8206e-05 - accuracy: 0.9994 - val_loss: 0.0102 - val_accuracy: 0.8420 - lr: 1.2288e-04\n",
            "Epoch 91/100\n",
            "223/223 [==============================] - ETA: 0s - loss: 1.0914e-04 - accuracy: 0.9980\n",
            "Epoch 91: val_loss did not improve from 0.00464\n",
            "223/223 [==============================] - 92s 411ms/step - loss: 1.0914e-04 - accuracy: 0.9980 - val_loss: 0.0092 - val_accuracy: 0.8821 - lr: 1.2288e-04\n",
            "Epoch 92/100\n",
            "223/223 [==============================] - ETA: 0s - loss: 1.9618e-04 - accuracy: 0.9955\n",
            "Epoch 92: val_loss did not improve from 0.00464\n",
            "\n",
            "Epoch 92: ReduceLROnPlateau reducing learning rate to 0.0001.\n",
            "223/223 [==============================] - 96s 428ms/step - loss: 1.9618e-04 - accuracy: 0.9955 - val_loss: 0.0075 - val_accuracy: 0.9025 - lr: 1.2288e-04\n",
            "Epoch 93/100\n",
            "223/223 [==============================] - ETA: 0s - loss: 1.1417e-04 - accuracy: 0.9975\n",
            "Epoch 93: val_loss did not improve from 0.00464\n",
            "223/223 [==============================] - 95s 425ms/step - loss: 1.1417e-04 - accuracy: 0.9975 - val_loss: 0.0060 - val_accuracy: 0.9159 - lr: 1.0000e-04\n",
            "Epoch 94/100\n",
            "223/223 [==============================] - ETA: 0s - loss: 6.2426e-05 - accuracy: 0.9986\n",
            "Epoch 94: val_loss did not improve from 0.00464\n",
            "223/223 [==============================] - 91s 408ms/step - loss: 6.2426e-05 - accuracy: 0.9986 - val_loss: 0.0069 - val_accuracy: 0.8986 - lr: 1.0000e-04\n",
            "Epoch 95/100\n",
            "223/223 [==============================] - ETA: 0s - loss: 2.6435e-05 - accuracy: 0.9994\n",
            "Epoch 95: val_loss did not improve from 0.00464\n",
            "223/223 [==============================] - 95s 423ms/step - loss: 2.6435e-05 - accuracy: 0.9994 - val_loss: 0.0061 - val_accuracy: 0.9135 - lr: 1.0000e-04\n",
            "Epoch 96/100\n",
            "223/223 [==============================] - ETA: 0s - loss: 3.6842e-05 - accuracy: 0.9997\n",
            "Epoch 96: val_loss did not improve from 0.00464\n",
            "223/223 [==============================] - 91s 409ms/step - loss: 3.6842e-05 - accuracy: 0.9997 - val_loss: 0.0058 - val_accuracy: 0.9175 - lr: 1.0000e-04\n",
            "Epoch 97/100\n",
            "223/223 [==============================] - ETA: 0s - loss: 2.7238e-05 - accuracy: 0.9997\n",
            "Epoch 97: val_loss did not improve from 0.00464\n",
            "223/223 [==============================] - 91s 408ms/step - loss: 2.7238e-05 - accuracy: 0.9997 - val_loss: 0.0065 - val_accuracy: 0.9112 - lr: 1.0000e-04\n",
            "Epoch 98/100\n",
            "223/223 [==============================] - ETA: 0s - loss: 6.0170e-05 - accuracy: 0.9980\n",
            "Epoch 98: val_loss did not improve from 0.00464\n",
            "223/223 [==============================] - 94s 419ms/step - loss: 6.0170e-05 - accuracy: 0.9980 - val_loss: 0.0066 - val_accuracy: 0.9017 - lr: 1.0000e-04\n",
            "Epoch 99/100\n",
            "223/223 [==============================] - ETA: 0s - loss: 2.0771e-05 - accuracy: 1.0000\n",
            "Epoch 99: val_loss did not improve from 0.00464\n",
            "223/223 [==============================] - 91s 409ms/step - loss: 2.0771e-05 - accuracy: 1.0000 - val_loss: 0.0058 - val_accuracy: 0.9214 - lr: 1.0000e-04\n",
            "Epoch 100/100\n",
            "223/223 [==============================] - ETA: 0s - loss: 3.3285e-05 - accuracy: 0.9997\n",
            "Epoch 100: val_loss did not improve from 0.00464\n",
            "223/223 [==============================] - 93s 419ms/step - loss: 3.3285e-05 - accuracy: 0.9997 - val_loss: 0.0057 - val_accuracy: 0.9222 - lr: 1.0000e-04\n"
          ]
        }
      ]
    },
    {
      "cell_type": "code",
      "source": [],
      "metadata": {
        "id": "SbCn-81h1oSs"
      },
      "execution_count": null,
      "outputs": []
    }
  ]
}