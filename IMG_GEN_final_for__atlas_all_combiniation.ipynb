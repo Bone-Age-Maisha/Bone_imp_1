{
  "cells": [
    {
      "cell_type": "markdown",
      "metadata": {
        "id": "view-in-github",
        "colab_type": "text"
      },
      "source": [
        "<a href=\"https://colab.research.google.com/github/Bone-Age-Maisha/Bone_imp_1/blob/main/IMG_GEN_final_for__atlas_all_combiniation.ipynb\" target=\"_parent\"><img src=\"https://colab.research.google.com/assets/colab-badge.svg\" alt=\"Open In Colab\"/></a>"
      ]
    },
    {
      "cell_type": "code",
      "execution_count": 1,
      "metadata": {
        "colab": {
          "base_uri": "https://localhost:8080/"
        },
        "id": "wcPyGuqRFzmh",
        "outputId": "b816b10f-1cf9-4fb1-ba00-d99954e5d686"
      },
      "outputs": [
        {
          "output_type": "stream",
          "name": "stdout",
          "text": [
            "\n",
            "WARNING: apt does not have a stable CLI interface. Use with caution in scripts.\n",
            "\n",
            "debconf: unable to initialize frontend: Dialog\n",
            "debconf: (No usable dialog-like program is installed, so the dialog based frontend cannot be used. at /usr/share/perl5/Debconf/FrontEnd/Dialog.pm line 76, <> line 1.)\n",
            "debconf: falling back to frontend: Readline\n",
            "debconf: unable to initialize frontend: Readline\n",
            "debconf: (This frontend requires a controlling tty.)\n",
            "debconf: falling back to frontend: Teletype\n",
            "dpkg-preconfigure: unable to re-open stdin: \n",
            "/usr/bin/xdg-open: 851: /usr/bin/xdg-open: www-browser: not found\n",
            "/usr/bin/xdg-open: 851: /usr/bin/xdg-open: links2: not found\n",
            "/usr/bin/xdg-open: 851: /usr/bin/xdg-open: elinks: not found\n",
            "/usr/bin/xdg-open: 851: /usr/bin/xdg-open: links: not found\n",
            "/usr/bin/xdg-open: 851: /usr/bin/xdg-open: lynx: not found\n",
            "/usr/bin/xdg-open: 851: /usr/bin/xdg-open: w3m: not found\n",
            "xdg-open: no method available for opening 'https://accounts.google.com/o/oauth2/auth?client_id=564921029129.apps.googleusercontent.com&redirect_uri=https%3A%2F%2Fgd-ocaml-auth.appspot.com%2Foauth2callback&scope=https%3A%2F%2Fwww.googleapis.com%2Fauth%2Fdrive&response_type=code&access_type=offline&approval_prompt=force&state=eOlGtEEjR8llNpqRjJsJY8SCFFtC-Ytl9mKGbgBTr7Q'\n",
            "/bin/sh: 1: firefox: not found\n",
            "/bin/sh: 1: google-chrome: not found\n",
            "/bin/sh: 1: chromium-browser: not found\n",
            "/bin/sh: 1: open: not found\n",
            "Cannot retrieve auth tokens.\n",
            "Failure(\"Error opening URL:https://accounts.google.com/o/oauth2/auth?client_id=564921029129.apps.googleusercontent.com&redirect_uri=https%3A%2F%2Fgd-ocaml-auth.appspot.com%2Foauth2callback&scope=https%3A%2F%2Fwww.googleapis.com%2Fauth%2Fdrive&response_type=code&access_type=offline&approval_prompt=force&state=eOlGtEEjR8llNpqRjJsJY8SCFFtC-Ytl9mKGbgBTr7Q\")\n"
          ]
        }
      ],
      "source": [
        "!sudo add-apt-repository -y ppa:alessandro-strada/ppa 2>&1 > /dev/null\n",
        "!sudo apt-get update -qq 2>&1 > /dev/null\n",
        "!sudo apt -y install -qq google-drive-ocamlfuse 2>&1 > /dev/null\n",
        "!google-drive-ocamlfuse"
      ]
    },
    {
      "cell_type": "code",
      "execution_count": 2,
      "metadata": {
        "colab": {
          "base_uri": "https://localhost:8080/"
        },
        "id": "Xteo-yKHGZWq",
        "outputId": "6259c508-0a28-4447-cc0c-20e89e7cd457"
      },
      "outputs": [
        {
          "output_type": "stream",
          "name": "stdout",
          "text": [
            "debconf: unable to initialize frontend: Dialog\n",
            "debconf: (No usable dialog-like program is installed, so the dialog based frontend cannot be used. at /usr/share/perl5/Debconf/FrontEnd/Dialog.pm line 76, <> line 1.)\n",
            "debconf: falling back to frontend: Readline\n",
            "debconf: unable to initialize frontend: Readline\n",
            "debconf: (This frontend requires a controlling tty.)\n",
            "debconf: falling back to frontend: Teletype\n",
            "dpkg-preconfigure: unable to re-open stdin: \n",
            "Selecting previously unselected package w3m.\n",
            "(Reading database ... \r(Reading database ... 5%\r(Reading database ... 10%\r(Reading database ... 15%\r(Reading database ... 20%\r(Reading database ... 25%\r(Reading database ... 30%\r(Reading database ... 35%\r(Reading database ... 40%\r(Reading database ... 45%\r(Reading database ... 50%\r(Reading database ... 55%\r(Reading database ... 60%\r(Reading database ... 65%\r(Reading database ... 70%\r(Reading database ... 75%\r(Reading database ... 80%\r(Reading database ... 85%\r(Reading database ... 90%\r(Reading database ... 95%\r(Reading database ... 100%\r(Reading database ... 124018 files and directories currently installed.)\n",
            "Preparing to unpack .../w3m_0.5.3-36build1_amd64.deb ...\n",
            "Unpacking w3m (0.5.3-36build1) ...\n",
            "Setting up w3m (0.5.3-36build1) ...\n",
            "Processing triggers for mime-support (3.60ubuntu1) ...\n",
            "Processing triggers for man-db (2.8.3-2ubuntu0.1) ...\n",
            "/content\n",
            "/content/drive\n",
            "/content\n",
            "/\n",
            "Access token retrieved correctly.\n"
          ]
        }
      ],
      "source": [
        "!sudo apt-get install -qq w3m # to act as web browser \n",
        "!xdg-settings set default-web-browser w3m.desktop # to set default browser\n",
        "%cd /content\n",
        "!mkdir drive\n",
        "%cd drive\n",
        "!mkdir MyDrive\n",
        "%cd ..\n",
        "%cd ..\n",
        "!google-drive-ocamlfuse /content/drive/MyDrive"
      ]
    },
    {
      "cell_type": "code",
      "execution_count": 3,
      "metadata": {
        "id": "PxxRCRmoEXGv"
      },
      "outputs": [],
      "source": [
        "import numpy as np\n",
        "import cv2\n",
        "import os\n",
        "import pandas as pd\n"
      ]
    },
    {
      "cell_type": "code",
      "execution_count": 4,
      "metadata": {
        "id": "-InGAyx9JYmj"
      },
      "outputs": [],
      "source": [
        "import pandas as pd\n",
        "train_dir = '/content/drive/MyDrive/hand_atlas/image'\n",
        "df = pd.read_csv('/content/drive/MyDrive/hand_atlas/data.csv')"
      ]
    },
    {
      "cell_type": "code",
      "source": [
        "df.drop(df[(df['id'] == 7144)].index, inplace=True)"
      ],
      "metadata": {
        "id": "pwpxM2gtI9HK"
      },
      "execution_count": 5,
      "outputs": []
    },
    {
      "cell_type": "code",
      "execution_count": 6,
      "metadata": {
        "id": "F0wC42Er279Q"
      },
      "outputs": [],
      "source": [
        "import os\n",
        "age_df = df \n",
        "age_df['path'] = age_df['id'].map(lambda x: os.path.join(train_dir, \n",
        "                                                         '{}.jpg'.format(x)))\n",
        "age_df['exists'] = age_df['path'].map(os.path.exists)"
      ]
    },
    {
      "cell_type": "code",
      "source": [
        "age1=age_df"
      ],
      "metadata": {
        "id": "IiJgKNhOemjz"
      },
      "execution_count": 7,
      "outputs": []
    },
    {
      "cell_type": "code",
      "source": [
        "ag=age1.boneage.unique()\n",
        "ag.shape"
      ],
      "metadata": {
        "colab": {
          "base_uri": "https://localhost:8080/"
        },
        "id": "IByBweEq1KOG",
        "outputId": "63729bc4-14dc-472f-8ded-f04dcade9170"
      },
      "execution_count": 8,
      "outputs": [
        {
          "output_type": "execute_result",
          "data": {
            "text/plain": [
              "(1048,)"
            ]
          },
          "metadata": {},
          "execution_count": 8
        }
      ]
    },
    {
      "cell_type": "code",
      "source": [
        "age1.drop(df[(age1['gender'] == 0)].index, inplace=True)"
      ],
      "metadata": {
        "id": "yLL4AuOJep07"
      },
      "execution_count": 9,
      "outputs": []
    },
    {
      "cell_type": "code",
      "source": [
        "age1"
      ],
      "metadata": {
        "id": "lAI7P_cEes6s",
        "colab": {
          "base_uri": "https://localhost:8080/",
          "height": 424
        },
        "outputId": "a7708d2c-30ac-4fbc-b2f9-07c9884dd985"
      },
      "execution_count": 10,
      "outputs": [
        {
          "output_type": "execute_result",
          "data": {
            "text/plain": [
              "     Unnamed: 0    id  boneage  gender  \\\n",
              "0             0  5014   216.30       1   \n",
              "1             1  5059   221.10       1   \n",
              "2             2  5300   226.40       1   \n",
              "3             3  5084   227.70       1   \n",
              "4             4  5342   224.40       1   \n",
              "..          ...   ...      ...     ...   \n",
              "859         859  3134    55.27       1   \n",
              "860         860  4486    48.85       1   \n",
              "861         861  3736    47.90       1   \n",
              "862         862  3734    59.18       1   \n",
              "982         982  7287   118.40       1   \n",
              "\n",
              "                                                 path  exists  \n",
              "0    /content/drive/MyDrive/hand_atlas/image/5014.jpg    True  \n",
              "1    /content/drive/MyDrive/hand_atlas/image/5059.jpg    True  \n",
              "2    /content/drive/MyDrive/hand_atlas/image/5300.jpg    True  \n",
              "3    /content/drive/MyDrive/hand_atlas/image/5084.jpg    True  \n",
              "4    /content/drive/MyDrive/hand_atlas/image/5342.jpg    True  \n",
              "..                                                ...     ...  \n",
              "859  /content/drive/MyDrive/hand_atlas/image/3134.jpg    True  \n",
              "860  /content/drive/MyDrive/hand_atlas/image/4486.jpg    True  \n",
              "861  /content/drive/MyDrive/hand_atlas/image/3736.jpg    True  \n",
              "862  /content/drive/MyDrive/hand_atlas/image/3734.jpg    True  \n",
              "982  /content/drive/MyDrive/hand_atlas/image/7287.jpg    True  \n",
              "\n",
              "[697 rows x 6 columns]"
            ],
            "text/html": [
              "\n",
              "  <div id=\"df-8a00049f-e45f-4e26-bd81-121089071938\">\n",
              "    <div class=\"colab-df-container\">\n",
              "      <div>\n",
              "<style scoped>\n",
              "    .dataframe tbody tr th:only-of-type {\n",
              "        vertical-align: middle;\n",
              "    }\n",
              "\n",
              "    .dataframe tbody tr th {\n",
              "        vertical-align: top;\n",
              "    }\n",
              "\n",
              "    .dataframe thead th {\n",
              "        text-align: right;\n",
              "    }\n",
              "</style>\n",
              "<table border=\"1\" class=\"dataframe\">\n",
              "  <thead>\n",
              "    <tr style=\"text-align: right;\">\n",
              "      <th></th>\n",
              "      <th>Unnamed: 0</th>\n",
              "      <th>id</th>\n",
              "      <th>boneage</th>\n",
              "      <th>gender</th>\n",
              "      <th>path</th>\n",
              "      <th>exists</th>\n",
              "    </tr>\n",
              "  </thead>\n",
              "  <tbody>\n",
              "    <tr>\n",
              "      <th>0</th>\n",
              "      <td>0</td>\n",
              "      <td>5014</td>\n",
              "      <td>216.30</td>\n",
              "      <td>1</td>\n",
              "      <td>/content/drive/MyDrive/hand_atlas/image/5014.jpg</td>\n",
              "      <td>True</td>\n",
              "    </tr>\n",
              "    <tr>\n",
              "      <th>1</th>\n",
              "      <td>1</td>\n",
              "      <td>5059</td>\n",
              "      <td>221.10</td>\n",
              "      <td>1</td>\n",
              "      <td>/content/drive/MyDrive/hand_atlas/image/5059.jpg</td>\n",
              "      <td>True</td>\n",
              "    </tr>\n",
              "    <tr>\n",
              "      <th>2</th>\n",
              "      <td>2</td>\n",
              "      <td>5300</td>\n",
              "      <td>226.40</td>\n",
              "      <td>1</td>\n",
              "      <td>/content/drive/MyDrive/hand_atlas/image/5300.jpg</td>\n",
              "      <td>True</td>\n",
              "    </tr>\n",
              "    <tr>\n",
              "      <th>3</th>\n",
              "      <td>3</td>\n",
              "      <td>5084</td>\n",
              "      <td>227.70</td>\n",
              "      <td>1</td>\n",
              "      <td>/content/drive/MyDrive/hand_atlas/image/5084.jpg</td>\n",
              "      <td>True</td>\n",
              "    </tr>\n",
              "    <tr>\n",
              "      <th>4</th>\n",
              "      <td>4</td>\n",
              "      <td>5342</td>\n",
              "      <td>224.40</td>\n",
              "      <td>1</td>\n",
              "      <td>/content/drive/MyDrive/hand_atlas/image/5342.jpg</td>\n",
              "      <td>True</td>\n",
              "    </tr>\n",
              "    <tr>\n",
              "      <th>...</th>\n",
              "      <td>...</td>\n",
              "      <td>...</td>\n",
              "      <td>...</td>\n",
              "      <td>...</td>\n",
              "      <td>...</td>\n",
              "      <td>...</td>\n",
              "    </tr>\n",
              "    <tr>\n",
              "      <th>859</th>\n",
              "      <td>859</td>\n",
              "      <td>3134</td>\n",
              "      <td>55.27</td>\n",
              "      <td>1</td>\n",
              "      <td>/content/drive/MyDrive/hand_atlas/image/3134.jpg</td>\n",
              "      <td>True</td>\n",
              "    </tr>\n",
              "    <tr>\n",
              "      <th>860</th>\n",
              "      <td>860</td>\n",
              "      <td>4486</td>\n",
              "      <td>48.85</td>\n",
              "      <td>1</td>\n",
              "      <td>/content/drive/MyDrive/hand_atlas/image/4486.jpg</td>\n",
              "      <td>True</td>\n",
              "    </tr>\n",
              "    <tr>\n",
              "      <th>861</th>\n",
              "      <td>861</td>\n",
              "      <td>3736</td>\n",
              "      <td>47.90</td>\n",
              "      <td>1</td>\n",
              "      <td>/content/drive/MyDrive/hand_atlas/image/3736.jpg</td>\n",
              "      <td>True</td>\n",
              "    </tr>\n",
              "    <tr>\n",
              "      <th>862</th>\n",
              "      <td>862</td>\n",
              "      <td>3734</td>\n",
              "      <td>59.18</td>\n",
              "      <td>1</td>\n",
              "      <td>/content/drive/MyDrive/hand_atlas/image/3734.jpg</td>\n",
              "      <td>True</td>\n",
              "    </tr>\n",
              "    <tr>\n",
              "      <th>982</th>\n",
              "      <td>982</td>\n",
              "      <td>7287</td>\n",
              "      <td>118.40</td>\n",
              "      <td>1</td>\n",
              "      <td>/content/drive/MyDrive/hand_atlas/image/7287.jpg</td>\n",
              "      <td>True</td>\n",
              "    </tr>\n",
              "  </tbody>\n",
              "</table>\n",
              "<p>697 rows × 6 columns</p>\n",
              "</div>\n",
              "      <button class=\"colab-df-convert\" onclick=\"convertToInteractive('df-8a00049f-e45f-4e26-bd81-121089071938')\"\n",
              "              title=\"Convert this dataframe to an interactive table.\"\n",
              "              style=\"display:none;\">\n",
              "        \n",
              "  <svg xmlns=\"http://www.w3.org/2000/svg\" height=\"24px\"viewBox=\"0 0 24 24\"\n",
              "       width=\"24px\">\n",
              "    <path d=\"M0 0h24v24H0V0z\" fill=\"none\"/>\n",
              "    <path d=\"M18.56 5.44l.94 2.06.94-2.06 2.06-.94-2.06-.94-.94-2.06-.94 2.06-2.06.94zm-11 1L8.5 8.5l.94-2.06 2.06-.94-2.06-.94L8.5 2.5l-.94 2.06-2.06.94zm10 10l.94 2.06.94-2.06 2.06-.94-2.06-.94-.94-2.06-.94 2.06-2.06.94z\"/><path d=\"M17.41 7.96l-1.37-1.37c-.4-.4-.92-.59-1.43-.59-.52 0-1.04.2-1.43.59L10.3 9.45l-7.72 7.72c-.78.78-.78 2.05 0 2.83L4 21.41c.39.39.9.59 1.41.59.51 0 1.02-.2 1.41-.59l7.78-7.78 2.81-2.81c.8-.78.8-2.07 0-2.86zM5.41 20L4 18.59l7.72-7.72 1.47 1.35L5.41 20z\"/>\n",
              "  </svg>\n",
              "      </button>\n",
              "      \n",
              "  <style>\n",
              "    .colab-df-container {\n",
              "      display:flex;\n",
              "      flex-wrap:wrap;\n",
              "      gap: 12px;\n",
              "    }\n",
              "\n",
              "    .colab-df-convert {\n",
              "      background-color: #E8F0FE;\n",
              "      border: none;\n",
              "      border-radius: 50%;\n",
              "      cursor: pointer;\n",
              "      display: none;\n",
              "      fill: #1967D2;\n",
              "      height: 32px;\n",
              "      padding: 0 0 0 0;\n",
              "      width: 32px;\n",
              "    }\n",
              "\n",
              "    .colab-df-convert:hover {\n",
              "      background-color: #E2EBFA;\n",
              "      box-shadow: 0px 1px 2px rgba(60, 64, 67, 0.3), 0px 1px 3px 1px rgba(60, 64, 67, 0.15);\n",
              "      fill: #174EA6;\n",
              "    }\n",
              "\n",
              "    [theme=dark] .colab-df-convert {\n",
              "      background-color: #3B4455;\n",
              "      fill: #D2E3FC;\n",
              "    }\n",
              "\n",
              "    [theme=dark] .colab-df-convert:hover {\n",
              "      background-color: #434B5C;\n",
              "      box-shadow: 0px 1px 3px 1px rgba(0, 0, 0, 0.15);\n",
              "      filter: drop-shadow(0px 1px 2px rgba(0, 0, 0, 0.3));\n",
              "      fill: #FFFFFF;\n",
              "    }\n",
              "  </style>\n",
              "\n",
              "      <script>\n",
              "        const buttonEl =\n",
              "          document.querySelector('#df-8a00049f-e45f-4e26-bd81-121089071938 button.colab-df-convert');\n",
              "        buttonEl.style.display =\n",
              "          google.colab.kernel.accessAllowed ? 'block' : 'none';\n",
              "\n",
              "        async function convertToInteractive(key) {\n",
              "          const element = document.querySelector('#df-8a00049f-e45f-4e26-bd81-121089071938');\n",
              "          const dataTable =\n",
              "            await google.colab.kernel.invokeFunction('convertToInteractive',\n",
              "                                                     [key], {});\n",
              "          if (!dataTable) return;\n",
              "\n",
              "          const docLinkHtml = 'Like what you see? Visit the ' +\n",
              "            '<a target=\"_blank\" href=https://colab.research.google.com/notebooks/data_table.ipynb>data table notebook</a>'\n",
              "            + ' to learn more about interactive tables.';\n",
              "          element.innerHTML = '';\n",
              "          dataTable['output_type'] = 'display_data';\n",
              "          await google.colab.output.renderOutput(dataTable, element);\n",
              "          const docLink = document.createElement('div');\n",
              "          docLink.innerHTML = docLinkHtml;\n",
              "          element.appendChild(docLink);\n",
              "        }\n",
              "      </script>\n",
              "    </div>\n",
              "  </div>\n",
              "  "
            ]
          },
          "metadata": {},
          "execution_count": 10
        }
      ]
    },
    {
      "cell_type": "code",
      "source": [
        "ag=age1.boneage.unique()\n",
        "ag.shape"
      ],
      "metadata": {
        "colab": {
          "base_uri": "https://localhost:8080/"
        },
        "id": "FvBGIqYyfH3n",
        "outputId": "6ed866ce-2a83-49a7-c5ae-76989fdc6994"
      },
      "execution_count": 11,
      "outputs": [
        {
          "output_type": "execute_result",
          "data": {
            "text/plain": [
              "(600,)"
            ]
          },
          "metadata": {},
          "execution_count": 11
        }
      ]
    },
    {
      "cell_type": "code",
      "source": [
        "train1_df = age1.groupby(['boneage']).apply(lambda x: x.sample(5, replace = True)\n",
        "                                                      ).reset_index(drop = True)"
      ],
      "metadata": {
        "id": "feLuby6Xf_9v"
      },
      "execution_count": 12,
      "outputs": []
    },
    {
      "cell_type": "code",
      "source": [
        "train1_df"
      ],
      "metadata": {
        "id": "-fO7_F0kgVy6",
        "colab": {
          "base_uri": "https://localhost:8080/",
          "height": 424
        },
        "outputId": "630fae90-f9f7-4bf9-e2c2-005707193bc8"
      },
      "execution_count": 13,
      "outputs": [
        {
          "output_type": "execute_result",
          "data": {
            "text/plain": [
              "      Unnamed: 0    id   boneage  gender  \\\n",
              "0            504  5574    0.3616       1   \n",
              "1            504  5574    0.3616       1   \n",
              "2            504  5574    0.3616       1   \n",
              "3            504  5574    0.3616       1   \n",
              "4            504  5574    0.3616       1   \n",
              "...          ...   ...       ...     ...   \n",
              "2995           3  5084  227.7000       1   \n",
              "2996           3  5084  227.7000       1   \n",
              "2997           3  5084  227.7000       1   \n",
              "2998           3  5084  227.7000       1   \n",
              "2999           3  5084  227.7000       1   \n",
              "\n",
              "                                                  path  exists  \n",
              "0     /content/drive/MyDrive/hand_atlas/image/5574.jpg    True  \n",
              "1     /content/drive/MyDrive/hand_atlas/image/5574.jpg    True  \n",
              "2     /content/drive/MyDrive/hand_atlas/image/5574.jpg    True  \n",
              "3     /content/drive/MyDrive/hand_atlas/image/5574.jpg    True  \n",
              "4     /content/drive/MyDrive/hand_atlas/image/5574.jpg    True  \n",
              "...                                                ...     ...  \n",
              "2995  /content/drive/MyDrive/hand_atlas/image/5084.jpg    True  \n",
              "2996  /content/drive/MyDrive/hand_atlas/image/5084.jpg    True  \n",
              "2997  /content/drive/MyDrive/hand_atlas/image/5084.jpg    True  \n",
              "2998  /content/drive/MyDrive/hand_atlas/image/5084.jpg    True  \n",
              "2999  /content/drive/MyDrive/hand_atlas/image/5084.jpg    True  \n",
              "\n",
              "[3000 rows x 6 columns]"
            ],
            "text/html": [
              "\n",
              "  <div id=\"df-5760ad8c-5cfd-4a04-a303-0ff487f0b276\">\n",
              "    <div class=\"colab-df-container\">\n",
              "      <div>\n",
              "<style scoped>\n",
              "    .dataframe tbody tr th:only-of-type {\n",
              "        vertical-align: middle;\n",
              "    }\n",
              "\n",
              "    .dataframe tbody tr th {\n",
              "        vertical-align: top;\n",
              "    }\n",
              "\n",
              "    .dataframe thead th {\n",
              "        text-align: right;\n",
              "    }\n",
              "</style>\n",
              "<table border=\"1\" class=\"dataframe\">\n",
              "  <thead>\n",
              "    <tr style=\"text-align: right;\">\n",
              "      <th></th>\n",
              "      <th>Unnamed: 0</th>\n",
              "      <th>id</th>\n",
              "      <th>boneage</th>\n",
              "      <th>gender</th>\n",
              "      <th>path</th>\n",
              "      <th>exists</th>\n",
              "    </tr>\n",
              "  </thead>\n",
              "  <tbody>\n",
              "    <tr>\n",
              "      <th>0</th>\n",
              "      <td>504</td>\n",
              "      <td>5574</td>\n",
              "      <td>0.3616</td>\n",
              "      <td>1</td>\n",
              "      <td>/content/drive/MyDrive/hand_atlas/image/5574.jpg</td>\n",
              "      <td>True</td>\n",
              "    </tr>\n",
              "    <tr>\n",
              "      <th>1</th>\n",
              "      <td>504</td>\n",
              "      <td>5574</td>\n",
              "      <td>0.3616</td>\n",
              "      <td>1</td>\n",
              "      <td>/content/drive/MyDrive/hand_atlas/image/5574.jpg</td>\n",
              "      <td>True</td>\n",
              "    </tr>\n",
              "    <tr>\n",
              "      <th>2</th>\n",
              "      <td>504</td>\n",
              "      <td>5574</td>\n",
              "      <td>0.3616</td>\n",
              "      <td>1</td>\n",
              "      <td>/content/drive/MyDrive/hand_atlas/image/5574.jpg</td>\n",
              "      <td>True</td>\n",
              "    </tr>\n",
              "    <tr>\n",
              "      <th>3</th>\n",
              "      <td>504</td>\n",
              "      <td>5574</td>\n",
              "      <td>0.3616</td>\n",
              "      <td>1</td>\n",
              "      <td>/content/drive/MyDrive/hand_atlas/image/5574.jpg</td>\n",
              "      <td>True</td>\n",
              "    </tr>\n",
              "    <tr>\n",
              "      <th>4</th>\n",
              "      <td>504</td>\n",
              "      <td>5574</td>\n",
              "      <td>0.3616</td>\n",
              "      <td>1</td>\n",
              "      <td>/content/drive/MyDrive/hand_atlas/image/5574.jpg</td>\n",
              "      <td>True</td>\n",
              "    </tr>\n",
              "    <tr>\n",
              "      <th>...</th>\n",
              "      <td>...</td>\n",
              "      <td>...</td>\n",
              "      <td>...</td>\n",
              "      <td>...</td>\n",
              "      <td>...</td>\n",
              "      <td>...</td>\n",
              "    </tr>\n",
              "    <tr>\n",
              "      <th>2995</th>\n",
              "      <td>3</td>\n",
              "      <td>5084</td>\n",
              "      <td>227.7000</td>\n",
              "      <td>1</td>\n",
              "      <td>/content/drive/MyDrive/hand_atlas/image/5084.jpg</td>\n",
              "      <td>True</td>\n",
              "    </tr>\n",
              "    <tr>\n",
              "      <th>2996</th>\n",
              "      <td>3</td>\n",
              "      <td>5084</td>\n",
              "      <td>227.7000</td>\n",
              "      <td>1</td>\n",
              "      <td>/content/drive/MyDrive/hand_atlas/image/5084.jpg</td>\n",
              "      <td>True</td>\n",
              "    </tr>\n",
              "    <tr>\n",
              "      <th>2997</th>\n",
              "      <td>3</td>\n",
              "      <td>5084</td>\n",
              "      <td>227.7000</td>\n",
              "      <td>1</td>\n",
              "      <td>/content/drive/MyDrive/hand_atlas/image/5084.jpg</td>\n",
              "      <td>True</td>\n",
              "    </tr>\n",
              "    <tr>\n",
              "      <th>2998</th>\n",
              "      <td>3</td>\n",
              "      <td>5084</td>\n",
              "      <td>227.7000</td>\n",
              "      <td>1</td>\n",
              "      <td>/content/drive/MyDrive/hand_atlas/image/5084.jpg</td>\n",
              "      <td>True</td>\n",
              "    </tr>\n",
              "    <tr>\n",
              "      <th>2999</th>\n",
              "      <td>3</td>\n",
              "      <td>5084</td>\n",
              "      <td>227.7000</td>\n",
              "      <td>1</td>\n",
              "      <td>/content/drive/MyDrive/hand_atlas/image/5084.jpg</td>\n",
              "      <td>True</td>\n",
              "    </tr>\n",
              "  </tbody>\n",
              "</table>\n",
              "<p>3000 rows × 6 columns</p>\n",
              "</div>\n",
              "      <button class=\"colab-df-convert\" onclick=\"convertToInteractive('df-5760ad8c-5cfd-4a04-a303-0ff487f0b276')\"\n",
              "              title=\"Convert this dataframe to an interactive table.\"\n",
              "              style=\"display:none;\">\n",
              "        \n",
              "  <svg xmlns=\"http://www.w3.org/2000/svg\" height=\"24px\"viewBox=\"0 0 24 24\"\n",
              "       width=\"24px\">\n",
              "    <path d=\"M0 0h24v24H0V0z\" fill=\"none\"/>\n",
              "    <path d=\"M18.56 5.44l.94 2.06.94-2.06 2.06-.94-2.06-.94-.94-2.06-.94 2.06-2.06.94zm-11 1L8.5 8.5l.94-2.06 2.06-.94-2.06-.94L8.5 2.5l-.94 2.06-2.06.94zm10 10l.94 2.06.94-2.06 2.06-.94-2.06-.94-.94-2.06-.94 2.06-2.06.94z\"/><path d=\"M17.41 7.96l-1.37-1.37c-.4-.4-.92-.59-1.43-.59-.52 0-1.04.2-1.43.59L10.3 9.45l-7.72 7.72c-.78.78-.78 2.05 0 2.83L4 21.41c.39.39.9.59 1.41.59.51 0 1.02-.2 1.41-.59l7.78-7.78 2.81-2.81c.8-.78.8-2.07 0-2.86zM5.41 20L4 18.59l7.72-7.72 1.47 1.35L5.41 20z\"/>\n",
              "  </svg>\n",
              "      </button>\n",
              "      \n",
              "  <style>\n",
              "    .colab-df-container {\n",
              "      display:flex;\n",
              "      flex-wrap:wrap;\n",
              "      gap: 12px;\n",
              "    }\n",
              "\n",
              "    .colab-df-convert {\n",
              "      background-color: #E8F0FE;\n",
              "      border: none;\n",
              "      border-radius: 50%;\n",
              "      cursor: pointer;\n",
              "      display: none;\n",
              "      fill: #1967D2;\n",
              "      height: 32px;\n",
              "      padding: 0 0 0 0;\n",
              "      width: 32px;\n",
              "    }\n",
              "\n",
              "    .colab-df-convert:hover {\n",
              "      background-color: #E2EBFA;\n",
              "      box-shadow: 0px 1px 2px rgba(60, 64, 67, 0.3), 0px 1px 3px 1px rgba(60, 64, 67, 0.15);\n",
              "      fill: #174EA6;\n",
              "    }\n",
              "\n",
              "    [theme=dark] .colab-df-convert {\n",
              "      background-color: #3B4455;\n",
              "      fill: #D2E3FC;\n",
              "    }\n",
              "\n",
              "    [theme=dark] .colab-df-convert:hover {\n",
              "      background-color: #434B5C;\n",
              "      box-shadow: 0px 1px 3px 1px rgba(0, 0, 0, 0.15);\n",
              "      filter: drop-shadow(0px 1px 2px rgba(0, 0, 0, 0.3));\n",
              "      fill: #FFFFFF;\n",
              "    }\n",
              "  </style>\n",
              "\n",
              "      <script>\n",
              "        const buttonEl =\n",
              "          document.querySelector('#df-5760ad8c-5cfd-4a04-a303-0ff487f0b276 button.colab-df-convert');\n",
              "        buttonEl.style.display =\n",
              "          google.colab.kernel.accessAllowed ? 'block' : 'none';\n",
              "\n",
              "        async function convertToInteractive(key) {\n",
              "          const element = document.querySelector('#df-5760ad8c-5cfd-4a04-a303-0ff487f0b276');\n",
              "          const dataTable =\n",
              "            await google.colab.kernel.invokeFunction('convertToInteractive',\n",
              "                                                     [key], {});\n",
              "          if (!dataTable) return;\n",
              "\n",
              "          const docLinkHtml = 'Like what you see? Visit the ' +\n",
              "            '<a target=\"_blank\" href=https://colab.research.google.com/notebooks/data_table.ipynb>data table notebook</a>'\n",
              "            + ' to learn more about interactive tables.';\n",
              "          element.innerHTML = '';\n",
              "          dataTable['output_type'] = 'display_data';\n",
              "          await google.colab.output.renderOutput(dataTable, element);\n",
              "          const docLink = document.createElement('div');\n",
              "          docLink.innerHTML = docLinkHtml;\n",
              "          element.appendChild(docLink);\n",
              "        }\n",
              "      </script>\n",
              "    </div>\n",
              "  </div>\n",
              "  "
            ]
          },
          "metadata": {},
          "execution_count": 13
        }
      ]
    },
    {
      "cell_type": "code",
      "source": [
        "from sklearn.model_selection import train_test_split\n",
        "train_test1, valid1 = train_test_split(train1_df, \n",
        "                                   test_size = 0.2, \n",
        "                                   random_state = 2018,\n",
        "                                   stratify = train1_df['boneage'])\n",
        "#print('train', raw_train_df.shape[0], 'validation', valid_df.shape[0])\n",
        "train1, test1 = train_test_split(train_test1, \n",
        "                                   test_size = 0.3, \n",
        "                                   random_state = 2018,\n",
        "                                   stratify = train_test1['boneage'])\n",
        "print('train', train1.shape[0], 'validation', valid1.shape[0],test1.shape[0])"
      ],
      "metadata": {
        "colab": {
          "base_uri": "https://localhost:8080/"
        },
        "id": "78T4_RIVgahz",
        "outputId": "2d9d8869-46dc-4cbf-ddb2-e61edb4fc008"
      },
      "execution_count": 14,
      "outputs": [
        {
          "output_type": "stream",
          "name": "stdout",
          "text": [
            "train 1680 validation 600 720\n"
          ]
        }
      ]
    },
    {
      "cell_type": "code",
      "source": [
        "from keras.preprocessing.image import ImageDataGenerator\n",
        "IMG_SIZE = (300,300)\n",
        "core_idg = ImageDataGenerator(rotation_range=20,width_shift_range=0.15,height_shift_range=0.15,zoom_range=0.2,horizontal_flip=True)"
      ],
      "metadata": {
        "id": "rgXaGEEShK2u"
      },
      "execution_count": 15,
      "outputs": []
    },
    {
      "cell_type": "code",
      "source": [
        "def flow_from_dataframe(img_data_gen, in_df, path_col, y_col, **dflow_args):\n",
        "    base_dir = os.path.dirname(in_df[path_col].values[0])\n",
        "    print('## Ignore next message from keras, values are replaced anyways')\n",
        "    df_gen = img_data_gen.flow_from_directory(base_dir, \n",
        "                                     class_mode = 'sparse',\n",
        "                                    **dflow_args)\n",
        "    df_gen.filenames = in_df[path_col].values\n",
        "    df_gen.filepaths.extend(df_gen.filenames)\n",
        "    df_gen.classes = np.stack(in_df[y_col].values)\n",
        "    df_gen.samples = in_df.shape[0]\n",
        "    df_gen.n = in_df.shape[0]\n",
        "    df_gen._set_index_array()\n",
        "    df_gen.directory = '' \n",
        "    gen=np.ones(df_gen.samples)\n",
        "    print('Reinserting dataframe: {} images'.format(in_df.shape[0]))\n",
        "    #print(df_gen.samples)\n",
        "    #yield (df_gen,gen)\n",
        "    return df_gen"
      ],
      "metadata": {
        "id": "it_INY2thRLt"
      },
      "execution_count": 16,
      "outputs": []
    },
    {
      "cell_type": "code",
      "source": [
        "train1_gen = flow_from_dataframe( core_idg, train1, \n",
        "                             path_col = 'path',\n",
        "                            y_col = 'boneage', \n",
        "                            target_size = IMG_SIZE,\n",
        "                             color_mode = 'rgb',\n",
        "                            batch_size = 1680)"
      ],
      "metadata": {
        "colab": {
          "base_uri": "https://localhost:8080/"
        },
        "id": "u7pfG4-FhYU3",
        "outputId": "64cea34b-06cb-45fb-aefe-1974ebe3f3f6"
      },
      "execution_count": 17,
      "outputs": [
        {
          "output_type": "stream",
          "name": "stdout",
          "text": [
            "## Ignore next message from keras, values are replaced anyways\n",
            "Found 0 images belonging to 0 classes.\n",
            "Reinserting dataframe: 1680 images\n"
          ]
        }
      ]
    },
    {
      "cell_type": "code",
      "source": [
        "valid1_gen = flow_from_dataframe(core_idg, valid1, \n",
        "                             path_col = 'path',\n",
        "                            y_col = 'boneage', \n",
        "                            target_size = IMG_SIZE,\n",
        "                             color_mode = 'rgb',\n",
        "                            batch_size = 600) "
      ],
      "metadata": {
        "colab": {
          "base_uri": "https://localhost:8080/"
        },
        "id": "IGccOe-qhird",
        "outputId": "6faf3a98-c826-4a74-9c9b-ea33300574eb"
      },
      "execution_count": 18,
      "outputs": [
        {
          "output_type": "stream",
          "name": "stdout",
          "text": [
            "## Ignore next message from keras, values are replaced anyways\n",
            "Found 0 images belonging to 0 classes.\n",
            "Reinserting dataframe: 600 images\n"
          ]
        }
      ]
    },
    {
      "cell_type": "code",
      "execution_count": 19,
      "metadata": {
        "id": "bqb6-OqtLFHz"
      },
      "outputs": [],
      "source": [
        "\n",
        "testcore_idg = ImageDataGenerator()"
      ]
    },
    {
      "cell_type": "code",
      "execution_count": 20,
      "metadata": {
        "colab": {
          "base_uri": "https://localhost:8080/"
        },
        "outputId": "1ec11d7f-b895-496f-b15a-9ab36303c238",
        "id": "fnPAVjuXLFHz"
      },
      "outputs": [
        {
          "output_type": "stream",
          "name": "stdout",
          "text": [
            "## Ignore next message from keras, values are replaced anyways\n",
            "Found 0 images belonging to 0 classes.\n",
            "Reinserting dataframe: 720 images\n"
          ]
        }
      ],
      "source": [
        "test1_gen = flow_from_dataframe(testcore_idg, \n",
        "                              test1, \n",
        "                             path_col = 'path',\n",
        "                            y_col = 'boneage', \n",
        "                            target_size = IMG_SIZE,\n",
        "                             color_mode = 'rgb',\n",
        "                            batch_size = 720)"
      ]
    },
    {
      "cell_type": "code",
      "source": [
        "train1_X, train1_Y = next(train1_gen)"
      ],
      "metadata": {
        "id": "TGRGhrMlhSNa"
      },
      "execution_count": 21,
      "outputs": []
    },
    {
      "cell_type": "code",
      "source": [
        "train1_X.shape"
      ],
      "metadata": {
        "colab": {
          "base_uri": "https://localhost:8080/"
        },
        "id": "ZwAUKKc8kbFw",
        "outputId": "a29d8d94-a9ab-422f-973d-d24a29f8c915"
      },
      "execution_count": 22,
      "outputs": [
        {
          "output_type": "execute_result",
          "data": {
            "text/plain": [
              "(1680, 300, 300, 3)"
            ]
          },
          "metadata": {},
          "execution_count": 22
        }
      ]
    },
    {
      "cell_type": "code",
      "source": [
        "valid1_X, valid1_Y = next(valid1_gen)"
      ],
      "metadata": {
        "id": "KxRK-aGYk3Gz"
      },
      "execution_count": 23,
      "outputs": []
    },
    {
      "cell_type": "code",
      "source": [
        "valid1_X.shape"
      ],
      "metadata": {
        "colab": {
          "base_uri": "https://localhost:8080/"
        },
        "id": "YrzIkZL_k4OT",
        "outputId": "32c78880-e1d0-40dc-906a-285223a60971"
      },
      "execution_count": 24,
      "outputs": [
        {
          "output_type": "execute_result",
          "data": {
            "text/plain": [
              "(600, 300, 300, 3)"
            ]
          },
          "metadata": {},
          "execution_count": 24
        }
      ]
    },
    {
      "cell_type": "code",
      "source": [
        "test1_X, test1_Y = next(test1_gen)"
      ],
      "metadata": {
        "id": "fcr4PLs1lDer"
      },
      "execution_count": 25,
      "outputs": []
    },
    {
      "cell_type": "code",
      "source": [
        "test1_X.shape"
      ],
      "metadata": {
        "colab": {
          "base_uri": "https://localhost:8080/"
        },
        "id": "REnaZedJlatT",
        "outputId": "d722dc1c-7385-49a1-a31e-64ea9dacd7d0"
      },
      "execution_count": 26,
      "outputs": [
        {
          "output_type": "execute_result",
          "data": {
            "text/plain": [
              "(720, 300, 300, 3)"
            ]
          },
          "metadata": {},
          "execution_count": 26
        }
      ]
    },
    {
      "cell_type": "code",
      "source": [
        "import pandas as pd\n",
        "train_dir = '/content/drive/MyDrive/hand_atlas/image'\n",
        "df = pd.read_csv('/content/drive/MyDrive/hand_atlas/data.csv')"
      ],
      "metadata": {
        "id": "bgz2QDrce3bP"
      },
      "execution_count": 27,
      "outputs": []
    },
    {
      "cell_type": "code",
      "source": [
        "df.drop(df[(df['id'] == 7144)].index, inplace=True)"
      ],
      "metadata": {
        "id": "XehSh4Nwe3bZ"
      },
      "execution_count": 28,
      "outputs": []
    },
    {
      "cell_type": "code",
      "source": [
        "import os\n",
        "age_df = df \n",
        "age_df['path'] = age_df['id'].map(lambda x: os.path.join(train_dir,\n",
        "                                                         '{}.jpg'.format(x)))\n",
        "age_df['exists'] = age_df['path'].map(os.path.exists)"
      ],
      "metadata": {
        "id": "E4P3MPGre3bZ"
      },
      "execution_count": 29,
      "outputs": []
    },
    {
      "cell_type": "code",
      "source": [
        "age0=age_df"
      ],
      "metadata": {
        "id": "UFVD6jGXe3ba"
      },
      "execution_count": 30,
      "outputs": []
    },
    {
      "cell_type": "code",
      "source": [
        "age0.drop(df[(age0['gender'] == 1)].index, inplace=True)"
      ],
      "metadata": {
        "id": "gcjqP4Wie3ba"
      },
      "execution_count": 31,
      "outputs": []
    },
    {
      "cell_type": "code",
      "source": [
        "age0"
      ],
      "metadata": {
        "id": "P9y3PUjre3ba",
        "colab": {
          "base_uri": "https://localhost:8080/",
          "height": 424
        },
        "outputId": "ed1ee6f2-03d0-40cb-9b5e-a4ae791e06fe"
      },
      "execution_count": 32,
      "outputs": [
        {
          "output_type": "execute_result",
          "data": {
            "text/plain": [
              "      Unnamed: 0    id  boneage  gender  \\\n",
              "515          515  4117   186.20       0   \n",
              "516          516  4389   186.40       0   \n",
              "517          517  4113   182.50       0   \n",
              "518          518  4503   188.10       0   \n",
              "519          519  4114   180.50       0   \n",
              "...          ...   ...      ...     ...   \n",
              "1382        1382  6106    32.52       0   \n",
              "1383        1383  5234    30.02       0   \n",
              "1384        1384  5334    33.70       0   \n",
              "1385        1385  6131    24.13       0   \n",
              "1386        1386  5131    31.46       0   \n",
              "\n",
              "                                                  path  exists  \n",
              "515   /content/drive/MyDrive/hand_atlas/image/4117.jpg    True  \n",
              "516   /content/drive/MyDrive/hand_atlas/image/4389.jpg    True  \n",
              "517   /content/drive/MyDrive/hand_atlas/image/4113.jpg    True  \n",
              "518   /content/drive/MyDrive/hand_atlas/image/4503.jpg    True  \n",
              "519   /content/drive/MyDrive/hand_atlas/image/4114.jpg    True  \n",
              "...                                                ...     ...  \n",
              "1382  /content/drive/MyDrive/hand_atlas/image/6106.jpg    True  \n",
              "1383  /content/drive/MyDrive/hand_atlas/image/5234.jpg    True  \n",
              "1384  /content/drive/MyDrive/hand_atlas/image/5334.jpg    True  \n",
              "1385  /content/drive/MyDrive/hand_atlas/image/6131.jpg    True  \n",
              "1386  /content/drive/MyDrive/hand_atlas/image/5131.jpg    True  \n",
              "\n",
              "[689 rows x 6 columns]"
            ],
            "text/html": [
              "\n",
              "  <div id=\"df-4c1d63e2-a54c-4822-8988-185d124751b1\">\n",
              "    <div class=\"colab-df-container\">\n",
              "      <div>\n",
              "<style scoped>\n",
              "    .dataframe tbody tr th:only-of-type {\n",
              "        vertical-align: middle;\n",
              "    }\n",
              "\n",
              "    .dataframe tbody tr th {\n",
              "        vertical-align: top;\n",
              "    }\n",
              "\n",
              "    .dataframe thead th {\n",
              "        text-align: right;\n",
              "    }\n",
              "</style>\n",
              "<table border=\"1\" class=\"dataframe\">\n",
              "  <thead>\n",
              "    <tr style=\"text-align: right;\">\n",
              "      <th></th>\n",
              "      <th>Unnamed: 0</th>\n",
              "      <th>id</th>\n",
              "      <th>boneage</th>\n",
              "      <th>gender</th>\n",
              "      <th>path</th>\n",
              "      <th>exists</th>\n",
              "    </tr>\n",
              "  </thead>\n",
              "  <tbody>\n",
              "    <tr>\n",
              "      <th>515</th>\n",
              "      <td>515</td>\n",
              "      <td>4117</td>\n",
              "      <td>186.20</td>\n",
              "      <td>0</td>\n",
              "      <td>/content/drive/MyDrive/hand_atlas/image/4117.jpg</td>\n",
              "      <td>True</td>\n",
              "    </tr>\n",
              "    <tr>\n",
              "      <th>516</th>\n",
              "      <td>516</td>\n",
              "      <td>4389</td>\n",
              "      <td>186.40</td>\n",
              "      <td>0</td>\n",
              "      <td>/content/drive/MyDrive/hand_atlas/image/4389.jpg</td>\n",
              "      <td>True</td>\n",
              "    </tr>\n",
              "    <tr>\n",
              "      <th>517</th>\n",
              "      <td>517</td>\n",
              "      <td>4113</td>\n",
              "      <td>182.50</td>\n",
              "      <td>0</td>\n",
              "      <td>/content/drive/MyDrive/hand_atlas/image/4113.jpg</td>\n",
              "      <td>True</td>\n",
              "    </tr>\n",
              "    <tr>\n",
              "      <th>518</th>\n",
              "      <td>518</td>\n",
              "      <td>4503</td>\n",
              "      <td>188.10</td>\n",
              "      <td>0</td>\n",
              "      <td>/content/drive/MyDrive/hand_atlas/image/4503.jpg</td>\n",
              "      <td>True</td>\n",
              "    </tr>\n",
              "    <tr>\n",
              "      <th>519</th>\n",
              "      <td>519</td>\n",
              "      <td>4114</td>\n",
              "      <td>180.50</td>\n",
              "      <td>0</td>\n",
              "      <td>/content/drive/MyDrive/hand_atlas/image/4114.jpg</td>\n",
              "      <td>True</td>\n",
              "    </tr>\n",
              "    <tr>\n",
              "      <th>...</th>\n",
              "      <td>...</td>\n",
              "      <td>...</td>\n",
              "      <td>...</td>\n",
              "      <td>...</td>\n",
              "      <td>...</td>\n",
              "      <td>...</td>\n",
              "    </tr>\n",
              "    <tr>\n",
              "      <th>1382</th>\n",
              "      <td>1382</td>\n",
              "      <td>6106</td>\n",
              "      <td>32.52</td>\n",
              "      <td>0</td>\n",
              "      <td>/content/drive/MyDrive/hand_atlas/image/6106.jpg</td>\n",
              "      <td>True</td>\n",
              "    </tr>\n",
              "    <tr>\n",
              "      <th>1383</th>\n",
              "      <td>1383</td>\n",
              "      <td>5234</td>\n",
              "      <td>30.02</td>\n",
              "      <td>0</td>\n",
              "      <td>/content/drive/MyDrive/hand_atlas/image/5234.jpg</td>\n",
              "      <td>True</td>\n",
              "    </tr>\n",
              "    <tr>\n",
              "      <th>1384</th>\n",
              "      <td>1384</td>\n",
              "      <td>5334</td>\n",
              "      <td>33.70</td>\n",
              "      <td>0</td>\n",
              "      <td>/content/drive/MyDrive/hand_atlas/image/5334.jpg</td>\n",
              "      <td>True</td>\n",
              "    </tr>\n",
              "    <tr>\n",
              "      <th>1385</th>\n",
              "      <td>1385</td>\n",
              "      <td>6131</td>\n",
              "      <td>24.13</td>\n",
              "      <td>0</td>\n",
              "      <td>/content/drive/MyDrive/hand_atlas/image/6131.jpg</td>\n",
              "      <td>True</td>\n",
              "    </tr>\n",
              "    <tr>\n",
              "      <th>1386</th>\n",
              "      <td>1386</td>\n",
              "      <td>5131</td>\n",
              "      <td>31.46</td>\n",
              "      <td>0</td>\n",
              "      <td>/content/drive/MyDrive/hand_atlas/image/5131.jpg</td>\n",
              "      <td>True</td>\n",
              "    </tr>\n",
              "  </tbody>\n",
              "</table>\n",
              "<p>689 rows × 6 columns</p>\n",
              "</div>\n",
              "      <button class=\"colab-df-convert\" onclick=\"convertToInteractive('df-4c1d63e2-a54c-4822-8988-185d124751b1')\"\n",
              "              title=\"Convert this dataframe to an interactive table.\"\n",
              "              style=\"display:none;\">\n",
              "        \n",
              "  <svg xmlns=\"http://www.w3.org/2000/svg\" height=\"24px\"viewBox=\"0 0 24 24\"\n",
              "       width=\"24px\">\n",
              "    <path d=\"M0 0h24v24H0V0z\" fill=\"none\"/>\n",
              "    <path d=\"M18.56 5.44l.94 2.06.94-2.06 2.06-.94-2.06-.94-.94-2.06-.94 2.06-2.06.94zm-11 1L8.5 8.5l.94-2.06 2.06-.94-2.06-.94L8.5 2.5l-.94 2.06-2.06.94zm10 10l.94 2.06.94-2.06 2.06-.94-2.06-.94-.94-2.06-.94 2.06-2.06.94z\"/><path d=\"M17.41 7.96l-1.37-1.37c-.4-.4-.92-.59-1.43-.59-.52 0-1.04.2-1.43.59L10.3 9.45l-7.72 7.72c-.78.78-.78 2.05 0 2.83L4 21.41c.39.39.9.59 1.41.59.51 0 1.02-.2 1.41-.59l7.78-7.78 2.81-2.81c.8-.78.8-2.07 0-2.86zM5.41 20L4 18.59l7.72-7.72 1.47 1.35L5.41 20z\"/>\n",
              "  </svg>\n",
              "      </button>\n",
              "      \n",
              "  <style>\n",
              "    .colab-df-container {\n",
              "      display:flex;\n",
              "      flex-wrap:wrap;\n",
              "      gap: 12px;\n",
              "    }\n",
              "\n",
              "    .colab-df-convert {\n",
              "      background-color: #E8F0FE;\n",
              "      border: none;\n",
              "      border-radius: 50%;\n",
              "      cursor: pointer;\n",
              "      display: none;\n",
              "      fill: #1967D2;\n",
              "      height: 32px;\n",
              "      padding: 0 0 0 0;\n",
              "      width: 32px;\n",
              "    }\n",
              "\n",
              "    .colab-df-convert:hover {\n",
              "      background-color: #E2EBFA;\n",
              "      box-shadow: 0px 1px 2px rgba(60, 64, 67, 0.3), 0px 1px 3px 1px rgba(60, 64, 67, 0.15);\n",
              "      fill: #174EA6;\n",
              "    }\n",
              "\n",
              "    [theme=dark] .colab-df-convert {\n",
              "      background-color: #3B4455;\n",
              "      fill: #D2E3FC;\n",
              "    }\n",
              "\n",
              "    [theme=dark] .colab-df-convert:hover {\n",
              "      background-color: #434B5C;\n",
              "      box-shadow: 0px 1px 3px 1px rgba(0, 0, 0, 0.15);\n",
              "      filter: drop-shadow(0px 1px 2px rgba(0, 0, 0, 0.3));\n",
              "      fill: #FFFFFF;\n",
              "    }\n",
              "  </style>\n",
              "\n",
              "      <script>\n",
              "        const buttonEl =\n",
              "          document.querySelector('#df-4c1d63e2-a54c-4822-8988-185d124751b1 button.colab-df-convert');\n",
              "        buttonEl.style.display =\n",
              "          google.colab.kernel.accessAllowed ? 'block' : 'none';\n",
              "\n",
              "        async function convertToInteractive(key) {\n",
              "          const element = document.querySelector('#df-4c1d63e2-a54c-4822-8988-185d124751b1');\n",
              "          const dataTable =\n",
              "            await google.colab.kernel.invokeFunction('convertToInteractive',\n",
              "                                                     [key], {});\n",
              "          if (!dataTable) return;\n",
              "\n",
              "          const docLinkHtml = 'Like what you see? Visit the ' +\n",
              "            '<a target=\"_blank\" href=https://colab.research.google.com/notebooks/data_table.ipynb>data table notebook</a>'\n",
              "            + ' to learn more about interactive tables.';\n",
              "          element.innerHTML = '';\n",
              "          dataTable['output_type'] = 'display_data';\n",
              "          await google.colab.output.renderOutput(dataTable, element);\n",
              "          const docLink = document.createElement('div');\n",
              "          docLink.innerHTML = docLinkHtml;\n",
              "          element.appendChild(docLink);\n",
              "        }\n",
              "      </script>\n",
              "    </div>\n",
              "  </div>\n",
              "  "
            ]
          },
          "metadata": {},
          "execution_count": 32
        }
      ]
    },
    {
      "cell_type": "code",
      "source": [
        "ag=age0.boneage.unique()\n",
        "ag.shape"
      ],
      "metadata": {
        "colab": {
          "base_uri": "https://localhost:8080/"
        },
        "outputId": "a354b7ca-1dd9-418d-9a07-2054b8790967",
        "id": "rx5RQAtvlton"
      },
      "execution_count": 33,
      "outputs": [
        {
          "output_type": "execute_result",
          "data": {
            "text/plain": [
              "(599,)"
            ]
          },
          "metadata": {},
          "execution_count": 33
        }
      ]
    },
    {
      "cell_type": "code",
      "source": [
        "train0_df = age0.groupby(['boneage']).apply(lambda x: x.sample(5, replace = True)\n",
        "                                                      ).reset_index(drop = True)"
      ],
      "metadata": {
        "id": "BzMi92Ijlto8"
      },
      "execution_count": 34,
      "outputs": []
    },
    {
      "cell_type": "code",
      "source": [
        "train0_df"
      ],
      "metadata": {
        "id": "Jlbyxk3Zlto9",
        "colab": {
          "base_uri": "https://localhost:8080/",
          "height": 424
        },
        "outputId": "158c5857-5214-444c-cd2f-dc22e1ef0bee"
      },
      "execution_count": 35,
      "outputs": [
        {
          "output_type": "execute_result",
          "data": {
            "text/plain": [
              "      Unnamed: 0    id  boneage  gender  \\\n",
              "0           1036  4706    2.038       0   \n",
              "1           1036  4706    2.038       0   \n",
              "2           1036  4706    2.038       0   \n",
              "3           1036  4706    2.038       0   \n",
              "4           1036  4706    2.038       0   \n",
              "...          ...   ...      ...     ...   \n",
              "2990        1225  5198  228.100       0   \n",
              "2991        1225  5198  228.100       0   \n",
              "2992        1225  5198  228.100       0   \n",
              "2993        1225  5198  228.100       0   \n",
              "2994        1225  5198  228.100       0   \n",
              "\n",
              "                                                  path  exists  \n",
              "0     /content/drive/MyDrive/hand_atlas/image/4706.jpg    True  \n",
              "1     /content/drive/MyDrive/hand_atlas/image/4706.jpg    True  \n",
              "2     /content/drive/MyDrive/hand_atlas/image/4706.jpg    True  \n",
              "3     /content/drive/MyDrive/hand_atlas/image/4706.jpg    True  \n",
              "4     /content/drive/MyDrive/hand_atlas/image/4706.jpg    True  \n",
              "...                                                ...     ...  \n",
              "2990  /content/drive/MyDrive/hand_atlas/image/5198.jpg    True  \n",
              "2991  /content/drive/MyDrive/hand_atlas/image/5198.jpg    True  \n",
              "2992  /content/drive/MyDrive/hand_atlas/image/5198.jpg    True  \n",
              "2993  /content/drive/MyDrive/hand_atlas/image/5198.jpg    True  \n",
              "2994  /content/drive/MyDrive/hand_atlas/image/5198.jpg    True  \n",
              "\n",
              "[2995 rows x 6 columns]"
            ],
            "text/html": [
              "\n",
              "  <div id=\"df-8e1f0af4-7b75-41ae-b378-86c61ff310a6\">\n",
              "    <div class=\"colab-df-container\">\n",
              "      <div>\n",
              "<style scoped>\n",
              "    .dataframe tbody tr th:only-of-type {\n",
              "        vertical-align: middle;\n",
              "    }\n",
              "\n",
              "    .dataframe tbody tr th {\n",
              "        vertical-align: top;\n",
              "    }\n",
              "\n",
              "    .dataframe thead th {\n",
              "        text-align: right;\n",
              "    }\n",
              "</style>\n",
              "<table border=\"1\" class=\"dataframe\">\n",
              "  <thead>\n",
              "    <tr style=\"text-align: right;\">\n",
              "      <th></th>\n",
              "      <th>Unnamed: 0</th>\n",
              "      <th>id</th>\n",
              "      <th>boneage</th>\n",
              "      <th>gender</th>\n",
              "      <th>path</th>\n",
              "      <th>exists</th>\n",
              "    </tr>\n",
              "  </thead>\n",
              "  <tbody>\n",
              "    <tr>\n",
              "      <th>0</th>\n",
              "      <td>1036</td>\n",
              "      <td>4706</td>\n",
              "      <td>2.038</td>\n",
              "      <td>0</td>\n",
              "      <td>/content/drive/MyDrive/hand_atlas/image/4706.jpg</td>\n",
              "      <td>True</td>\n",
              "    </tr>\n",
              "    <tr>\n",
              "      <th>1</th>\n",
              "      <td>1036</td>\n",
              "      <td>4706</td>\n",
              "      <td>2.038</td>\n",
              "      <td>0</td>\n",
              "      <td>/content/drive/MyDrive/hand_atlas/image/4706.jpg</td>\n",
              "      <td>True</td>\n",
              "    </tr>\n",
              "    <tr>\n",
              "      <th>2</th>\n",
              "      <td>1036</td>\n",
              "      <td>4706</td>\n",
              "      <td>2.038</td>\n",
              "      <td>0</td>\n",
              "      <td>/content/drive/MyDrive/hand_atlas/image/4706.jpg</td>\n",
              "      <td>True</td>\n",
              "    </tr>\n",
              "    <tr>\n",
              "      <th>3</th>\n",
              "      <td>1036</td>\n",
              "      <td>4706</td>\n",
              "      <td>2.038</td>\n",
              "      <td>0</td>\n",
              "      <td>/content/drive/MyDrive/hand_atlas/image/4706.jpg</td>\n",
              "      <td>True</td>\n",
              "    </tr>\n",
              "    <tr>\n",
              "      <th>4</th>\n",
              "      <td>1036</td>\n",
              "      <td>4706</td>\n",
              "      <td>2.038</td>\n",
              "      <td>0</td>\n",
              "      <td>/content/drive/MyDrive/hand_atlas/image/4706.jpg</td>\n",
              "      <td>True</td>\n",
              "    </tr>\n",
              "    <tr>\n",
              "      <th>...</th>\n",
              "      <td>...</td>\n",
              "      <td>...</td>\n",
              "      <td>...</td>\n",
              "      <td>...</td>\n",
              "      <td>...</td>\n",
              "      <td>...</td>\n",
              "    </tr>\n",
              "    <tr>\n",
              "      <th>2990</th>\n",
              "      <td>1225</td>\n",
              "      <td>5198</td>\n",
              "      <td>228.100</td>\n",
              "      <td>0</td>\n",
              "      <td>/content/drive/MyDrive/hand_atlas/image/5198.jpg</td>\n",
              "      <td>True</td>\n",
              "    </tr>\n",
              "    <tr>\n",
              "      <th>2991</th>\n",
              "      <td>1225</td>\n",
              "      <td>5198</td>\n",
              "      <td>228.100</td>\n",
              "      <td>0</td>\n",
              "      <td>/content/drive/MyDrive/hand_atlas/image/5198.jpg</td>\n",
              "      <td>True</td>\n",
              "    </tr>\n",
              "    <tr>\n",
              "      <th>2992</th>\n",
              "      <td>1225</td>\n",
              "      <td>5198</td>\n",
              "      <td>228.100</td>\n",
              "      <td>0</td>\n",
              "      <td>/content/drive/MyDrive/hand_atlas/image/5198.jpg</td>\n",
              "      <td>True</td>\n",
              "    </tr>\n",
              "    <tr>\n",
              "      <th>2993</th>\n",
              "      <td>1225</td>\n",
              "      <td>5198</td>\n",
              "      <td>228.100</td>\n",
              "      <td>0</td>\n",
              "      <td>/content/drive/MyDrive/hand_atlas/image/5198.jpg</td>\n",
              "      <td>True</td>\n",
              "    </tr>\n",
              "    <tr>\n",
              "      <th>2994</th>\n",
              "      <td>1225</td>\n",
              "      <td>5198</td>\n",
              "      <td>228.100</td>\n",
              "      <td>0</td>\n",
              "      <td>/content/drive/MyDrive/hand_atlas/image/5198.jpg</td>\n",
              "      <td>True</td>\n",
              "    </tr>\n",
              "  </tbody>\n",
              "</table>\n",
              "<p>2995 rows × 6 columns</p>\n",
              "</div>\n",
              "      <button class=\"colab-df-convert\" onclick=\"convertToInteractive('df-8e1f0af4-7b75-41ae-b378-86c61ff310a6')\"\n",
              "              title=\"Convert this dataframe to an interactive table.\"\n",
              "              style=\"display:none;\">\n",
              "        \n",
              "  <svg xmlns=\"http://www.w3.org/2000/svg\" height=\"24px\"viewBox=\"0 0 24 24\"\n",
              "       width=\"24px\">\n",
              "    <path d=\"M0 0h24v24H0V0z\" fill=\"none\"/>\n",
              "    <path d=\"M18.56 5.44l.94 2.06.94-2.06 2.06-.94-2.06-.94-.94-2.06-.94 2.06-2.06.94zm-11 1L8.5 8.5l.94-2.06 2.06-.94-2.06-.94L8.5 2.5l-.94 2.06-2.06.94zm10 10l.94 2.06.94-2.06 2.06-.94-2.06-.94-.94-2.06-.94 2.06-2.06.94z\"/><path d=\"M17.41 7.96l-1.37-1.37c-.4-.4-.92-.59-1.43-.59-.52 0-1.04.2-1.43.59L10.3 9.45l-7.72 7.72c-.78.78-.78 2.05 0 2.83L4 21.41c.39.39.9.59 1.41.59.51 0 1.02-.2 1.41-.59l7.78-7.78 2.81-2.81c.8-.78.8-2.07 0-2.86zM5.41 20L4 18.59l7.72-7.72 1.47 1.35L5.41 20z\"/>\n",
              "  </svg>\n",
              "      </button>\n",
              "      \n",
              "  <style>\n",
              "    .colab-df-container {\n",
              "      display:flex;\n",
              "      flex-wrap:wrap;\n",
              "      gap: 12px;\n",
              "    }\n",
              "\n",
              "    .colab-df-convert {\n",
              "      background-color: #E8F0FE;\n",
              "      border: none;\n",
              "      border-radius: 50%;\n",
              "      cursor: pointer;\n",
              "      display: none;\n",
              "      fill: #1967D2;\n",
              "      height: 32px;\n",
              "      padding: 0 0 0 0;\n",
              "      width: 32px;\n",
              "    }\n",
              "\n",
              "    .colab-df-convert:hover {\n",
              "      background-color: #E2EBFA;\n",
              "      box-shadow: 0px 1px 2px rgba(60, 64, 67, 0.3), 0px 1px 3px 1px rgba(60, 64, 67, 0.15);\n",
              "      fill: #174EA6;\n",
              "    }\n",
              "\n",
              "    [theme=dark] .colab-df-convert {\n",
              "      background-color: #3B4455;\n",
              "      fill: #D2E3FC;\n",
              "    }\n",
              "\n",
              "    [theme=dark] .colab-df-convert:hover {\n",
              "      background-color: #434B5C;\n",
              "      box-shadow: 0px 1px 3px 1px rgba(0, 0, 0, 0.15);\n",
              "      filter: drop-shadow(0px 1px 2px rgba(0, 0, 0, 0.3));\n",
              "      fill: #FFFFFF;\n",
              "    }\n",
              "  </style>\n",
              "\n",
              "      <script>\n",
              "        const buttonEl =\n",
              "          document.querySelector('#df-8e1f0af4-7b75-41ae-b378-86c61ff310a6 button.colab-df-convert');\n",
              "        buttonEl.style.display =\n",
              "          google.colab.kernel.accessAllowed ? 'block' : 'none';\n",
              "\n",
              "        async function convertToInteractive(key) {\n",
              "          const element = document.querySelector('#df-8e1f0af4-7b75-41ae-b378-86c61ff310a6');\n",
              "          const dataTable =\n",
              "            await google.colab.kernel.invokeFunction('convertToInteractive',\n",
              "                                                     [key], {});\n",
              "          if (!dataTable) return;\n",
              "\n",
              "          const docLinkHtml = 'Like what you see? Visit the ' +\n",
              "            '<a target=\"_blank\" href=https://colab.research.google.com/notebooks/data_table.ipynb>data table notebook</a>'\n",
              "            + ' to learn more about interactive tables.';\n",
              "          element.innerHTML = '';\n",
              "          dataTable['output_type'] = 'display_data';\n",
              "          await google.colab.output.renderOutput(dataTable, element);\n",
              "          const docLink = document.createElement('div');\n",
              "          docLink.innerHTML = docLinkHtml;\n",
              "          element.appendChild(docLink);\n",
              "        }\n",
              "      </script>\n",
              "    </div>\n",
              "  </div>\n",
              "  "
            ]
          },
          "metadata": {},
          "execution_count": 35
        }
      ]
    },
    {
      "cell_type": "code",
      "source": [
        "from sklearn.model_selection import train_test_split\n",
        "train_test0, valid0 = train_test_split(train0_df, \n",
        "                                   test_size = 0.2, \n",
        "                                   random_state = 2018,\n",
        "                                   stratify = train0_df['boneage'])\n",
        "#print('train', raw_train_df.shape[0], 'validation', valid_df.shape[0])\n",
        "train0, test0 = train_test_split(train_test0, \n",
        "                                   test_size = 0.3, \n",
        "                                   random_state = 2018,\n",
        "                                   stratify = train_test0['boneage'])\n",
        "print('train', train0.shape[0], 'validation', valid0.shape[0],test0.shape[0])"
      ],
      "metadata": {
        "colab": {
          "base_uri": "https://localhost:8080/"
        },
        "outputId": "19f3eb1e-a30d-4e02-e5b3-7ef505c491ae",
        "id": "6OLfe12Qlto-"
      },
      "execution_count": 36,
      "outputs": [
        {
          "output_type": "stream",
          "name": "stdout",
          "text": [
            "train 1677 validation 599 719\n"
          ]
        }
      ]
    },
    {
      "cell_type": "code",
      "source": [
        "from keras.preprocessing.image import ImageDataGenerator\n",
        "IMG_SIZE = (300,300)\n",
        "core_idg = ImageDataGenerator(rotation_range=20,width_shift_range=0.15,height_shift_range=0.15,zoom_range=0.2,horizontal_flip=True)"
      ],
      "metadata": {
        "id": "9nFepXTmlto-"
      },
      "execution_count": 37,
      "outputs": []
    },
    {
      "cell_type": "code",
      "source": [
        "def flow_from_dataframe(img_data_gen, in_df, path_col, y_col, **dflow_args):\n",
        "    base_dir = os.path.dirname(in_df[path_col].values[0])\n",
        "    print('## Ignore next message from keras, values are replaced anyways')\n",
        "    df_gen = img_data_gen.flow_from_directory(base_dir, \n",
        "                                     class_mode = 'sparse',\n",
        "                                    **dflow_args)\n",
        "    df_gen.filenames = in_df[path_col].values\n",
        "    df_gen.filepaths.extend(df_gen.filenames)\n",
        "    df_gen.classes = np.stack(in_df[y_col].values)\n",
        "    df_gen.samples = in_df.shape[0]\n",
        "    df_gen.n = in_df.shape[0]\n",
        "    df_gen._set_index_array()\n",
        "    df_gen.directory = '' \n",
        "    gen=np.ones(df_gen.samples)\n",
        "    print('Reinserting dataframe: {} images'.format(in_df.shape[0]))\n",
        "    #print(df_gen.samples)\n",
        "    #yield (df_gen,gen)\n",
        "    return df_gen"
      ],
      "metadata": {
        "id": "_7iQy9cblto_"
      },
      "execution_count": 38,
      "outputs": []
    },
    {
      "cell_type": "code",
      "source": [
        "train0_gen = flow_from_dataframe( core_idg, train0, \n",
        "                             path_col = 'path',\n",
        "                            y_col = 'boneage', \n",
        "                            target_size = IMG_SIZE,\n",
        "                             color_mode = 'rgb',\n",
        "                            batch_size = 1677)"
      ],
      "metadata": {
        "colab": {
          "base_uri": "https://localhost:8080/"
        },
        "outputId": "3bd0c364-8737-4100-c794-341e785c4b1e",
        "id": "neq1ir7ylto_"
      },
      "execution_count": 39,
      "outputs": [
        {
          "output_type": "stream",
          "name": "stdout",
          "text": [
            "## Ignore next message from keras, values are replaced anyways\n",
            "Found 0 images belonging to 0 classes.\n",
            "Reinserting dataframe: 1677 images\n"
          ]
        }
      ]
    },
    {
      "cell_type": "code",
      "source": [
        "valid0_gen = flow_from_dataframe(core_idg, valid0, \n",
        "                             path_col = 'path',\n",
        "                            y_col = 'boneage', \n",
        "                            target_size = IMG_SIZE,\n",
        "                             color_mode = 'rgb',\n",
        "                            batch_size = 599) "
      ],
      "metadata": {
        "colab": {
          "base_uri": "https://localhost:8080/"
        },
        "outputId": "d8fb652f-92f3-4dcd-ca20-fdf71754dfba",
        "id": "OzomkT1ZltpA"
      },
      "execution_count": 40,
      "outputs": [
        {
          "output_type": "stream",
          "name": "stdout",
          "text": [
            "## Ignore next message from keras, values are replaced anyways\n",
            "Found 0 images belonging to 0 classes.\n",
            "Reinserting dataframe: 599 images\n"
          ]
        }
      ]
    },
    {
      "cell_type": "code",
      "execution_count": 44,
      "metadata": {
        "id": "Aw2JaZZwltpA"
      },
      "outputs": [],
      "source": [
        "\n",
        "testcore_idg = ImageDataGenerator()"
      ]
    },
    {
      "cell_type": "code",
      "execution_count": 42,
      "metadata": {
        "colab": {
          "base_uri": "https://localhost:8080/"
        },
        "outputId": "32bd51fa-166d-47dd-b501-f7a9993cd008",
        "id": "Bu7kCWNYltpB"
      },
      "outputs": [
        {
          "output_type": "stream",
          "name": "stdout",
          "text": [
            "## Ignore next message from keras, values are replaced anyways\n",
            "Found 0 images belonging to 0 classes.\n",
            "Reinserting dataframe: 719 images\n"
          ]
        }
      ],
      "source": [
        "test0_gen = flow_from_dataframe(testcore_idg, \n",
        "                              test0, \n",
        "                             path_col = 'path',\n",
        "                            y_col = 'boneage', \n",
        "                            target_size = IMG_SIZE,\n",
        "                             color_mode = 'rgb',\n",
        "                            batch_size = 719)"
      ]
    },
    {
      "cell_type": "code",
      "source": [
        "train0_X, train0_Y = next(train0_gen)"
      ],
      "metadata": {
        "id": "6XxaEBd5ltpC"
      },
      "execution_count": 43,
      "outputs": []
    },
    {
      "cell_type": "code",
      "source": [
        "train0_X.shape"
      ],
      "metadata": {
        "colab": {
          "base_uri": "https://localhost:8080/"
        },
        "outputId": "f9912cd5-9a85-434a-8b9f-711bc726804f",
        "id": "RDhVkpIBltpC"
      },
      "execution_count": 45,
      "outputs": [
        {
          "output_type": "execute_result",
          "data": {
            "text/plain": [
              "(1677, 300, 300, 3)"
            ]
          },
          "metadata": {},
          "execution_count": 45
        }
      ]
    },
    {
      "cell_type": "code",
      "source": [
        "valid0_X, valid0_Y = next(valid0_gen)"
      ],
      "metadata": {
        "id": "-xcDDZsvltpD"
      },
      "execution_count": 46,
      "outputs": []
    },
    {
      "cell_type": "code",
      "source": [
        "valid0_X.shape"
      ],
      "metadata": {
        "id": "Oc0hn0VeltpD"
      },
      "execution_count": null,
      "outputs": []
    },
    {
      "cell_type": "code",
      "source": [
        "test0_X, test0_Y = next(test0_gen)"
      ],
      "metadata": {
        "id": "ChATCHw-ltpE"
      },
      "execution_count": 47,
      "outputs": []
    },
    {
      "cell_type": "code",
      "source": [
        "test0_X.shape"
      ],
      "metadata": {
        "id": "Jz5uNv-kltpF"
      },
      "execution_count": null,
      "outputs": []
    },
    {
      "cell_type": "markdown",
      "source": [
        "#---------------------------------------------------------------------------------------------------------------------------------------------------------------------------------------------------------------------------------------------------------------------------------"
      ],
      "metadata": {
        "id": "cDd5NonwK5lV"
      }
    },
    {
      "cell_type": "code",
      "execution_count": null,
      "metadata": {
        "id": "tsZC2RsyVAbF"
      },
      "outputs": [],
      "source": [
        "points = df.boneage.unique()"
      ]
    },
    {
      "cell_type": "code",
      "execution_count": null,
      "metadata": {
        "id": "TnY8aWpJVFHa"
      },
      "outputs": [],
      "source": [
        "import numpy as np\n",
        "point=[]\n",
        "for i in range (160):\n",
        "  if((df['boneage'].value_counts()[points[i]])<3):\n",
        "    point.append(points[i])\n",
        "  #print(df['boneage'].value_counts()[points[i]])\n",
        "point=np.asarray(point)"
      ]
    },
    {
      "cell_type": "code",
      "execution_count": null,
      "metadata": {
        "id": "xjkiJNUuVR7w"
      },
      "outputs": [],
      "source": [
        "for i in range(64):\n",
        "  x=df.id[df.boneage == point[i]].tolist()[0]\n",
        "  y=df.boneage[df.boneage == point[i]].tolist()[0]\n",
        "  m=df.male[df.boneage == point[i]].tolist()[0]\n",
        "  z=df.path[df.boneage== point[i]].tolist()[0]\n",
        "  #y=df['boneage']\n",
        "  #m=df['male']\n",
        "  new_row = {'id': x, 'boneage':y, 'male':m , 'path':z}\n",
        "  age_df = age_df.append(new_row, ignore_index=True)"
      ]
    },
    {
      "cell_type": "code",
      "execution_count": null,
      "metadata": {
        "colab": {
          "base_uri": "https://localhost:8080/",
          "height": 371
        },
        "id": "4BnKeVROyY1F",
        "outputId": "89fe37f0-6ac7-499c-dc61-f84cf4dfa92d"
      },
      "outputs": [
        {
          "data": {
            "text/plain": [
              "array([[<matplotlib.axes._subplots.AxesSubplot object at 0x7efdc79cc4f0>]],\n",
              "      dtype=object)"
            ]
          },
          "execution_count": 11,
          "metadata": {},
          "output_type": "execute_result"
        },
        {
          "data": {
            "image/png": "[encoded data removed]",
            "text/plain": [
              "<Figure size 720x360 with 1 Axes>"
            ]
          },
          "metadata": {},
          "output_type": "display_data"
        }
      ],
      "source": [
        "df[['boneage', 'male']].hist(figsize = (10, 5))\n",
        "#df['boneage'] = pd.cut(df['boneage'], 10)"
      ]
    },
    {
      "cell_type": "code",
      "execution_count": null,
      "metadata": {
        "colab": {
          "base_uri": "https://localhost:8080/",
          "height": 424
        },
        "id": "wGhEegZ-0EtT",
        "outputId": "0e4ac70e-14c9-4af3-b6fe-a3a5c4f23c72"
      },
      "outputs": [
        {
          "data": {
            "text/html": [
              "\n",
              "  <div id=\"df-eadbe9e5-b389-42ef-9a81-f03941c5596e\">\n",
              "    <div class=\"colab-df-container\">\n",
              "      <div>\n",
              "<style scoped>\n",
              "    .dataframe tbody tr th:only-of-type {\n",
              "        vertical-align: middle;\n",
              "    }\n",
              "\n",
              "    .dataframe tbody tr th {\n",
              "        vertical-align: top;\n",
              "    }\n",
              "\n",
              "    .dataframe thead th {\n",
              "        text-align: right;\n",
              "    }\n",
              "</style>\n",
              "<table border=\"1\" class=\"dataframe\">\n",
              "  <thead>\n",
              "    <tr style=\"text-align: right;\">\n",
              "      <th></th>\n",
              "      <th>id</th>\n",
              "      <th>boneage</th>\n",
              "      <th>male</th>\n",
              "      <th>path</th>\n",
              "      <th>exists</th>\n",
              "    </tr>\n",
              "  </thead>\n",
              "  <tbody>\n",
              "    <tr>\n",
              "      <th>0</th>\n",
              "      <td>1377</td>\n",
              "      <td>180</td>\n",
              "      <td>False</td>\n",
              "      <td>/content/drive/MyDrive/RSNA/archive/boneage-tr...</td>\n",
              "      <td>1.0</td>\n",
              "    </tr>\n",
              "    <tr>\n",
              "      <th>1</th>\n",
              "      <td>1378</td>\n",
              "      <td>12</td>\n",
              "      <td>False</td>\n",
              "      <td>/content/drive/MyDrive/RSNA/archive/boneage-tr...</td>\n",
              "      <td>1.0</td>\n",
              "    </tr>\n",
              "    <tr>\n",
              "      <th>2</th>\n",
              "      <td>1379</td>\n",
              "      <td>94</td>\n",
              "      <td>False</td>\n",
              "      <td>/content/drive/MyDrive/RSNA/archive/boneage-tr...</td>\n",
              "      <td>1.0</td>\n",
              "    </tr>\n",
              "    <tr>\n",
              "      <th>3</th>\n",
              "      <td>1380</td>\n",
              "      <td>120</td>\n",
              "      <td>True</td>\n",
              "      <td>/content/drive/MyDrive/RSNA/archive/boneage-tr...</td>\n",
              "      <td>1.0</td>\n",
              "    </tr>\n",
              "    <tr>\n",
              "      <th>4</th>\n",
              "      <td>1381</td>\n",
              "      <td>82</td>\n",
              "      <td>False</td>\n",
              "      <td>/content/drive/MyDrive/RSNA/archive/boneage-tr...</td>\n",
              "      <td>1.0</td>\n",
              "    </tr>\n",
              "    <tr>\n",
              "      <th>...</th>\n",
              "      <td>...</td>\n",
              "      <td>...</td>\n",
              "      <td>...</td>\n",
              "      <td>...</td>\n",
              "      <td>...</td>\n",
              "    </tr>\n",
              "    <tr>\n",
              "      <th>12670</th>\n",
              "      <td>11355</td>\n",
              "      <td>37</td>\n",
              "      <td>True</td>\n",
              "      <td>/content/drive/MyDrive/RSNA/archive/boneage-tr...</td>\n",
              "      <td>NaN</td>\n",
              "    </tr>\n",
              "    <tr>\n",
              "      <th>12671</th>\n",
              "      <td>12566</td>\n",
              "      <td>161</td>\n",
              "      <td>True</td>\n",
              "      <td>/content/drive/MyDrive/RSNA/archive/boneage-tr...</td>\n",
              "      <td>NaN</td>\n",
              "    </tr>\n",
              "    <tr>\n",
              "      <th>12672</th>\n",
              "      <td>12621</td>\n",
              "      <td>103</td>\n",
              "      <td>False</td>\n",
              "      <td>/content/drive/MyDrive/RSNA/archive/boneage-tr...</td>\n",
              "      <td>NaN</td>\n",
              "    </tr>\n",
              "    <tr>\n",
              "      <th>12673</th>\n",
              "      <td>12799</td>\n",
              "      <td>77</td>\n",
              "      <td>False</td>\n",
              "      <td>/content/drive/MyDrive/RSNA/archive/boneage-tr...</td>\n",
              "      <td>NaN</td>\n",
              "    </tr>\n",
              "    <tr>\n",
              "      <th>12674</th>\n",
              "      <td>13125</td>\n",
              "      <td>43</td>\n",
              "      <td>False</td>\n",
              "      <td>/content/drive/MyDrive/RSNA/archive/boneage-tr...</td>\n",
              "      <td>NaN</td>\n",
              "    </tr>\n",
              "  </tbody>\n",
              "</table>\n",
              "<p>12675 rows × 5 columns</p>\n",
              "</div>\n",
              "      <button class=\"colab-df-convert\" onclick=\"convertToInteractive('df-eadbe9e5-b389-42ef-9a81-f03941c5596e')\"\n",
              "              title=\"Convert this dataframe to an interactive table.\"\n",
              "              style=\"display:none;\">\n",
              "        \n",
              "  <svg xmlns=\"http://www.w3.org/2000/svg\" height=\"24px\"viewBox=\"0 0 24 24\"\n",
              "       width=\"24px\">\n",
              "    <path d=\"M0 0h24v24H0V0z\" fill=\"none\"/>\n",
              "    <path d=\"M18.56 5.44l.94 2.06.94-2.06 2.06-.94-2.06-.94-.94-2.06-.94 2.06-2.06.94zm-11 1L8.5 8.5l.94-2.06 2.06-.94-2.06-.94L8.5 2.5l-.94 2.06-2.06.94zm10 10l.94 2.06.94-2.06 2.06-.94-2.06-.94-.94-2.06-.94 2.06-2.06.94z\"/><path d=\"M17.41 7.96l-1.37-1.37c-.4-.4-.92-.59-1.43-.59-.52 0-1.04.2-1.43.59L10.3 9.45l-7.72 7.72c-.78.78-.78 2.05 0 2.83L4 21.41c.39.39.9.59 1.41.59.51 0 1.02-.2 1.41-.59l7.78-7.78 2.81-2.81c.8-.78.8-2.07 0-2.86zM5.41 20L4 18.59l7.72-7.72 1.47 1.35L5.41 20z\"/>\n",
              "  </svg>\n",
              "      </button>\n",
              "      \n",
              "  <style>\n",
              "    .colab-df-container {\n",
              "      display:flex;\n",
              "      flex-wrap:wrap;\n",
              "      gap: 12px;\n",
              "    }\n",
              "\n",
              "    .colab-df-convert {\n",
              "      background-color: #E8F0FE;\n",
              "      border: none;\n",
              "      border-radius: 50%;\n",
              "      cursor: pointer;\n",
              "      display: none;\n",
              "      fill: #1967D2;\n",
              "      height: 32px;\n",
              "      padding: 0 0 0 0;\n",
              "      width: 32px;\n",
              "    }\n",
              "\n",
              "    .colab-df-convert:hover {\n",
              "      background-color: #E2EBFA;\n",
              "      box-shadow: 0px 1px 2px rgba(60, 64, 67, 0.3), 0px 1px 3px 1px rgba(60, 64, 67, 0.15);\n",
              "      fill: #174EA6;\n",
              "    }\n",
              "\n",
              "    [theme=dark] .colab-df-convert {\n",
              "      background-color: #3B4455;\n",
              "      fill: #D2E3FC;\n",
              "    }\n",
              "\n",
              "    [theme=dark] .colab-df-convert:hover {\n",
              "      background-color: #434B5C;\n",
              "      box-shadow: 0px 1px 3px 1px rgba(0, 0, 0, 0.15);\n",
              "      filter: drop-shadow(0px 1px 2px rgba(0, 0, 0, 0.3));\n",
              "      fill: #FFFFFF;\n",
              "    }\n",
              "  </style>\n",
              "\n",
              "      <script>\n",
              "        const buttonEl =\n",
              "          document.querySelector('#df-eadbe9e5-b389-42ef-9a81-f03941c5596e button.colab-df-convert');\n",
              "        buttonEl.style.display =\n",
              "          google.colab.kernel.accessAllowed ? 'block' : 'none';\n",
              "\n",
              "        async function convertToInteractive(key) {\n",
              "          const element = document.querySelector('#df-eadbe9e5-b389-42ef-9a81-f03941c5596e');\n",
              "          const dataTable =\n",
              "            await google.colab.kernel.invokeFunction('convertToInteractive',\n",
              "                                                     [key], {});\n",
              "          if (!dataTable) return;\n",
              "\n",
              "          const docLinkHtml = 'Like what you see? Visit the ' +\n",
              "            '<a target=\"_blank\" href=https://colab.research.google.com/notebooks/data_table.ipynb>data table notebook</a>'\n",
              "            + ' to learn more about interactive tables.';\n",
              "          element.innerHTML = '';\n",
              "          dataTable['output_type'] = 'display_data';\n",
              "          await google.colab.output.renderOutput(dataTable, element);\n",
              "          const docLink = document.createElement('div');\n",
              "          docLink.innerHTML = docLinkHtml;\n",
              "          element.appendChild(docLink);\n",
              "        }\n",
              "      </script>\n",
              "    </div>\n",
              "  </div>\n",
              "  "
            ],
            "text/plain": [
              "          id  boneage   male  \\\n",
              "0       1377      180  False   \n",
              "1       1378       12  False   \n",
              "2       1379       94  False   \n",
              "3       1380      120   True   \n",
              "4       1381       82  False   \n",
              "...      ...      ...    ...   \n",
              "12670  11355       37   True   \n",
              "12671  12566      161   True   \n",
              "12672  12621      103  False   \n",
              "12673  12799       77  False   \n",
              "12674  13125       43  False   \n",
              "\n",
              "                                                    path  exists  \n",
              "0      /content/drive/MyDrive/RSNA/archive/boneage-tr...     1.0  \n",
              "1      /content/drive/MyDrive/RSNA/archive/boneage-tr...     1.0  \n",
              "2      /content/drive/MyDrive/RSNA/archive/boneage-tr...     1.0  \n",
              "3      /content/drive/MyDrive/RSNA/archive/boneage-tr...     1.0  \n",
              "4      /content/drive/MyDrive/RSNA/archive/boneage-tr...     1.0  \n",
              "...                                                  ...     ...  \n",
              "12670  /content/drive/MyDrive/RSNA/archive/boneage-tr...     NaN  \n",
              "12671  /content/drive/MyDrive/RSNA/archive/boneage-tr...     NaN  \n",
              "12672  /content/drive/MyDrive/RSNA/archive/boneage-tr...     NaN  \n",
              "12673  /content/drive/MyDrive/RSNA/archive/boneage-tr...     NaN  \n",
              "12674  /content/drive/MyDrive/RSNA/archive/boneage-tr...     NaN  \n",
              "\n",
              "[12675 rows x 5 columns]"
            ]
          },
          "execution_count": 12,
          "metadata": {},
          "output_type": "execute_result"
        }
      ],
      "source": [
        "age_df"
      ]
    },
    {
      "cell_type": "code",
      "execution_count": null,
      "metadata": {
        "colab": {
          "base_uri": "https://localhost:8080/"
        },
        "id": "EjDlrwUuygWE",
        "outputId": "fa122741-4ed4-4a3a-8e1b-fae06d345fc0"
      },
      "outputs": [
        {
          "name": "stdout",
          "output_type": "stream",
          "text": [
            "train 8079 validation 1902 2694\n"
          ]
        }
      ],
      "source": [
        "from sklearn.model_selection import train_test_split\n",
        "train_test, valid = train_test_split(age_df, \n",
        "                                   test_size = 0.15, \n",
        "                                   random_state = 2018,\n",
        "                                   stratify = age_df['boneage'])\n",
        "#print('train', raw_train_df.shape[0], 'validation', valid_df.shape[0])\n",
        "train, test = train_test_split(train_test, \n",
        "                                   test_size = 0.25, \n",
        "                                   random_state = 2018,\n",
        "                                   stratify = train_test['boneage'])\n",
        "print('train', train.shape[0], 'validation', valid.shape[0],test.shape[0])"
      ]
    },
    {
      "cell_type": "code",
      "execution_count": null,
      "metadata": {
        "id": "M1JDJnDr6BGV"
      },
      "outputs": [],
      "source": [
        "from keras.preprocessing.image import ImageDataGenerator\n",
        "IMG_SIZE = (300,300)\n",
        "#core_idg = ImageDataGenerator(samplewise_center=True, \n",
        "                              samplewise_std_normalization=True, \n",
        "                              horizontal_flip = True, \n",
        "                              vertical_flip = False, \n",
        "                              height_shift_range = 0.1, \n",
        "                              width_shift_range = 0.1, \n",
        "                              rotation_range = 10, \n",
        "                              shear_range = 0.05,\n",
        "                              fill_mode = 'nearest',\n",
        "                              zoom_range=0.15)"
      ]
    },
    {
      "cell_type": "code",
      "execution_count": null,
      "metadata": {
        "id": "YBqF_VLnphnP"
      },
      "outputs": [],
      "source": [
        "from keras.preprocessing.image import ImageDataGenerator\n",
        "IMG_SIZE = (300,300)\n",
        "core_idg = ImageDataGenerator(rotation_range=20,width_shift_range=0.15,height_shift_range=0.15,zoom_range=0.2,horizontal_flip=True)"
      ]
    },
    {
      "cell_type": "code",
      "execution_count": null,
      "metadata": {
        "id": "gvplAVVz6E-T"
      },
      "outputs": [],
      "source": [
        "def flow_from_dataframe(img_data_gen, in_df, path_col, y_col, **dflow_args):\n",
        "    base_dir = os.path.dirname(in_df[path_col].values[0])\n",
        "    print('## Ignore next message from keras, values are replaced anyways')\n",
        "    df_gen = img_data_gen.flow_from_directory(base_dir, \n",
        "                                     class_mode = 'sparse',\n",
        "                                    **dflow_args)\n",
        "    df_gen.filenames = in_df[path_col].values\n",
        "    df_gen.filepaths.extend(df_gen.filenames)\n",
        "    df_gen.classes = np.stack(in_df[y_col].values)\n",
        "    df_gen.samples = in_df.shape[0]\n",
        "    df_gen.n = in_df.shape[0]\n",
        "    df_gen._set_index_array()\n",
        "    df_gen.directory = '' \n",
        "    print('Reinserting dataframe: {} images'.format(in_df.shape[0]))\n",
        "    return df_gen"
      ]
    },
    {
      "cell_type": "code",
      "execution_count": null,
      "metadata": {
        "colab": {
          "base_uri": "https://localhost:8080/"
        },
        "id": "zCfVsIRE6KLF",
        "outputId": "526279f2-2567-456d-9f7d-7a5c75b934e5"
      },
      "outputs": [
        {
          "name": "stdout",
          "output_type": "stream",
          "text": [
            "## Ignore next message from keras, values are replaced anyways\n",
            "Found 0 images belonging to 0 classes.\n",
            "Reinserting dataframe: 8079 images\n"
          ]
        }
      ],
      "source": [
        "train_gen = flow_from_dataframe(core_idg, train, \n",
        "                             path_col = 'path',\n",
        "                            y_col = 'boneage', \n",
        "                            target_size = IMG_SIZE,\n",
        "                             color_mode = 'rgb',\n",
        "                            batch_size = 16)"
      ]
    },
    {
      "cell_type": "code",
      "execution_count": null,
      "metadata": {
        "id": "fY-oZLIfht7c"
      },
      "outputs": [],
      "source": [
        "t_x, t_y = next(train_gen)"
      ]
    },
    {
      "cell_type": "code",
      "execution_count": null,
      "metadata": {
        "id": "PUjq0oby_k8R"
      },
      "outputs": [],
      "source": [
        "#valcore_idg = ImageDataGenerator(samplewise_center=True, \n",
        "                              samplewise_std_normalization=True, \n",
        "                              horizontal_flip = True, \n",
        "                              vertical_flip = False, \n",
        "                              height_shift_range = 0.15, \n",
        "                              width_shift_range = 0.15, \n",
        "                              rotation_range = 20, \n",
        "                              shear_range = 0.04,\n",
        "                              fill_mode = 'nearest',\n",
        "                              zoom_range=0.16)"
      ]
    },
    {
      "cell_type": "code",
      "execution_count": null,
      "metadata": {
        "colab": {
          "base_uri": "https://localhost:8080/"
        },
        "id": "6Z3ehsMF6MoW",
        "outputId": "458a6ed6-d359-4f1b-d16c-2f1b4df33716"
      },
      "outputs": [
        {
          "name": "stdout",
          "output_type": "stream",
          "text": [
            "## Ignore next message from keras, values are replaced anyways\n",
            "Found 0 images belonging to 0 classes.\n",
            "Reinserting dataframe: 1902 images\n"
          ]
        }
      ],
      "source": [
        "valid_gen = flow_from_dataframe(core_idg, valid, \n",
        "                             path_col = 'path',\n",
        "                            y_col = 'boneage', \n",
        "                            target_size = IMG_SIZE,\n",
        "                             color_mode = 'rgb',\n",
        "                            batch_size = 16) "
      ]
    },
    {
      "cell_type": "code",
      "execution_count": null,
      "metadata": {
        "id": "n0fKJw50AZIW"
      },
      "outputs": [],
      "source": [
        "\n",
        "testcore_idg = ImageDataGenerator()"
      ]
    },
    {
      "cell_type": "code",
      "execution_count": null,
      "metadata": {
        "colab": {
          "base_uri": "https://localhost:8080/"
        },
        "id": "PqfF_Mtk6qZB",
        "outputId": "cdfc9fc5-ec51-4448-8723-c967ca962d36"
      },
      "outputs": [
        {
          "name": "stdout",
          "output_type": "stream",
          "text": [
            "## Ignore next message from keras, values are replaced anyways\n",
            "Found 0 images belonging to 0 classes.\n",
            "Reinserting dataframe: 2694 images\n"
          ]
        }
      ],
      "source": [
        "test_gen = flow_from_dataframe(testcore_idg, \n",
        "                              test, \n",
        "                             path_col = 'path',\n",
        "                            y_col = 'boneage', \n",
        "                            target_size = IMG_SIZE,\n",
        "                             color_mode = 'rgb',\n",
        "                            batch_size = 16)"
      ]
    },
    {
      "cell_type": "code",
      "execution_count": null,
      "metadata": {
        "id": "amocsfsF7Xyg"
      },
      "outputs": [],
      "source": [
        "test_X, test_Y = next(test_gen)"
      ]
    },
    {
      "cell_type": "code",
      "execution_count": null,
      "metadata": {
        "id": "mfa6nrO2CZxs"
      },
      "outputs": [],
      "source": [
        "val_x,val_y=next(valid_gen)"
      ]
    },
    {
      "cell_type": "markdown",
      "source": [
        "#---------------------------------------------------------------------------------------------------------------------------------------------------------------------------------------------------------------------------------------------------------------------------------------------------------"
      ],
      "metadata": {
        "id": "Ja3yGTrTKyw6"
      }
    },
    {
      "cell_type": "code",
      "source": [
        "train_x=[]\n",
        "train_y=[]\n",
        "train_gen=[]\n",
        "for i in range(1680):\n",
        "  train_x.append(train1_X[i])\n",
        "  train_y.append(train1_Y[i])\n",
        "  train_gen.append(1)\n",
        "\n",
        "for i in range(1677):\n",
        "  train_x.append(train0_X[i])\n",
        "  train_y.append(train0_Y[i])\n",
        "  train_gen.append(0)"
      ],
      "metadata": {
        "id": "VxQjPmR5rI6N"
      },
      "execution_count": 49,
      "outputs": []
    },
    {
      "cell_type": "code",
      "source": [
        "train_x=np.asarray(train_x)\n",
        "train_x=train_x/255\n",
        "train_y=np.asarray(train_y)\n",
        "train_gen=np.asarray(train_gen)"
      ],
      "metadata": {
        "id": "rAFi6dkgrgXP"
      },
      "execution_count": 50,
      "outputs": []
    },
    {
      "cell_type": "code",
      "source": [
        "valid_x=[]\n",
        "valid_y=[]\n",
        "valid_gen=[]\n",
        "for i in range(600):\n",
        "  valid_x.append(valid1_X[i])\n",
        "  valid_y.append(valid1_Y[i])\n",
        "  valid_gen.append(1)\n",
        "\n",
        "for i in range(599):\n",
        "  valid_x.append(valid0_X[i])\n",
        "  valid_y.append(valid0_Y[i])\n",
        "  valid_gen.append(0)"
      ],
      "metadata": {
        "id": "AIMa8ta7rmQF"
      },
      "execution_count": 51,
      "outputs": []
    },
    {
      "cell_type": "code",
      "source": [
        "valid_x=np.asarray(valid_x)\n",
        "valid_x=valid_x/255\n",
        "valid_y=np.asarray(valid_y)\n",
        "valid_gen=np.asarray(valid_gen)"
      ],
      "metadata": {
        "id": "QnJBtiE0rnNv"
      },
      "execution_count": 52,
      "outputs": []
    },
    {
      "cell_type": "code",
      "source": [
        "test_x=[]\n",
        "test_y=[]\n",
        "test_gen=[]\n",
        "for i in range(720):\n",
        "  test_x.append(test1_X[i])\n",
        "  test_y.append(test1_Y[i])\n",
        "  test_gen.append(1)\n",
        "\n",
        "for i in range(719):\n",
        "  test_x.append(test0_X[i])\n",
        "  test_y.append(test0_Y[i])\n",
        "  test_gen.append(0)"
      ],
      "metadata": {
        "id": "p0gZgGI3rvEf"
      },
      "execution_count": 53,
      "outputs": []
    },
    {
      "cell_type": "code",
      "source": [
        "test_x=np.asarray(test_x)\n",
        "test_x=test_x/255\n",
        "test_y=np.asarray(test_y)\n",
        "test_gen=np.asarray(test_gen)"
      ],
      "metadata": {
        "id": "lBbJp8cGryq6"
      },
      "execution_count": 54,
      "outputs": []
    },
    {
      "cell_type": "code",
      "source": [
        "age1=[]\n",
        "for i in range(114):\n",
        "    age1.append(i)\n",
        "age2=[]\n",
        "for i in range (114,228):\n",
        "    age2.append(i)\n",
        "age=[]\n",
        "for i in range (1):\n",
        "    age.append(age1)\n",
        "    age.append(age2)\n",
        "age=np.asarray(age)\n",
        "agetr=[]\n",
        "for i in range(3357):\n",
        "    agetr.append(age)\n",
        "agetr=np.asarray(agetr)\n",
        "print(agetr.shape)"
      ],
      "metadata": {
        "colab": {
          "base_uri": "https://localhost:8080/"
        },
        "id": "k6KlM3hAsMwE",
        "outputId": "b1486540-2d8a-4d91-cddb-12ffe7ce9614"
      },
      "execution_count": 55,
      "outputs": [
        {
          "output_type": "stream",
          "name": "stdout",
          "text": [
            "(3357, 2, 114)\n"
          ]
        }
      ]
    },
    {
      "cell_type": "code",
      "source": [
        "agev=[]\n",
        "for i in range(1199):\n",
        "    agev.append(age)\n",
        "agev=np.asarray(agev)\n",
        "print(agev.shape)"
      ],
      "metadata": {
        "colab": {
          "base_uri": "https://localhost:8080/"
        },
        "id": "b4y4KxI-sVqD",
        "outputId": "71c2f316-0102-41d9-8453-7b8e34d30068"
      },
      "execution_count": 56,
      "outputs": [
        {
          "output_type": "stream",
          "name": "stdout",
          "text": [
            "(1199, 2, 114)\n"
          ]
        }
      ]
    },
    {
      "cell_type": "code",
      "source": [
        "aget=[]\n",
        "for i in range(1439):\n",
        "    aget.append(age)\n",
        "aget=np.asarray(aget)\n",
        "print(aget.shape)"
      ],
      "metadata": {
        "colab": {
          "base_uri": "https://localhost:8080/"
        },
        "id": "gi5djQM_sarK",
        "outputId": "5b90cac8-3d7f-4d8a-c173-9a268d716a76"
      },
      "execution_count": 57,
      "outputs": [
        {
          "output_type": "stream",
          "name": "stdout",
          "text": [
            "(1439, 2, 114)\n"
          ]
        }
      ]
    },
    {
      "cell_type": "code",
      "execution_count": 58,
      "metadata": {
        "id": "2A4yFegzBAzR"
      },
      "outputs": [],
      "source": [
        "from tensorflow.keras.applications.resnet50 import ResNet50\n",
        "from keras.applications.vgg19 import VGG19\n",
        "from keras.applications.inception_v3 import InceptionV3\n",
        "from keras.applications.xception import Xception\n",
        "from keras.preprocessing import image\n",
        "from keras.models import Model, load_model\n",
        "from keras.layers import Flatten, Dense, Input, Reshape, Lambda,Conv2D\n",
        "import tensorflow as tf\n",
        "from keras import backend as K\n",
        "import pickle\n",
        "import numpy as np\n",
        "import matplotlib.pyplot as plt\n",
        "import keras\n",
        "#from func_utils import *\n",
        "import os\n",
        "#os.environ[\"CUDA_VISIBLE_DEVICES\"]=\"2\"\n",
        "#os.environ['OMP_NUM_THREADS']='6'\n",
        "batch_size = 32\n",
        "epochs = 30"
      ]
    },
    {
      "cell_type": "code",
      "execution_count": 59,
      "metadata": {
        "id": "xA7Uz93QJBhM"
      },
      "outputs": [],
      "source": [
        "def channel_attention(input_feature):\n",
        "  kernel_initializer = tf.keras.initializers.variance_scaling()\n",
        "  bias_initializer = tf.constant_initializer(value=0.0)\n",
        "  channel = input_feature.get_shape()[-1]\n",
        "  ratio=8\n",
        "  avg_pool = tf.reduce_mean(input_feature, axis=[1,2], keepdims=True)\n",
        "  assert avg_pool.get_shape()[1:] == (1,1,channel)\n",
        "  avg_pool =Dense(\n",
        "                                 units=channel//ratio,\n",
        "                                 activation=tf.nn.relu,\n",
        "                                 kernel_initializer=kernel_initializer,\n",
        "                                 bias_initializer=bias_initializer) (avg_pool)\n",
        "  assert avg_pool.get_shape()[1:] == (1,1,channel//ratio)\n",
        "  avg_pool = Dense(\n",
        "                                 units=channel,                             \n",
        "                                 kernel_initializer=kernel_initializer,\n",
        "                                 bias_initializer=bias_initializer)  (avg_pool)  \n",
        "  assert avg_pool.get_shape()[1:] == (1,1,channel)\n",
        "\n",
        "  max_pool = tf.reduce_max(input_feature, axis=[1,2], keepdims=True)    \n",
        "  assert max_pool.get_shape()[1:] == (1,1,channel)\n",
        "  max_pool = Dense(\n",
        "                                 units=channel//ratio,\n",
        "                                 activation=tf.nn.relu) (max_pool)  \n",
        "  assert max_pool.get_shape()[1:] == (1,1,channel//ratio)\n",
        "  max_pool = Dense(\n",
        "                                 units=channel)  (max_pool)\n",
        "  assert max_pool.get_shape()[1:] == (1,1,channel)\n",
        "\n",
        "  scale = tf.keras.activations.sigmoid(avg_pool + max_pool) \n",
        "  return input_feature * scale\n"
      ]
    },
    {
      "cell_type": "code",
      "execution_count": 61,
      "metadata": {
        "id": "8ZavY92NJi21"
      },
      "outputs": [],
      "source": [
        "def spatial_attention(input_feature):\n",
        "  kernel_size = 7\n",
        "  kernel_initializer = tf.keras.initializers.variance_scaling()\n",
        "\n",
        "  avg_pool = tf.reduce_mean(input_feature, axis=[3], keepdims=True)\n",
        "  assert avg_pool.get_shape()[-1] == 1\n",
        "  max_pool = tf.reduce_max(input_feature, axis=[3], keepdims=True)\n",
        "  assert max_pool.get_shape()[-1] == 1\n",
        "  concat = tf.concat([avg_pool,max_pool], 3)\n",
        "  assert concat.get_shape()[-1] == 2\n",
        "\n",
        "  concat = Conv2D(\n",
        "                              filters=1,\n",
        "                              kernel_size=[kernel_size,kernel_size],\n",
        "                              strides=[1,1],\n",
        "                              padding=\"same\",\n",
        "                              activation=None,\n",
        "                              kernel_initializer=kernel_initializer,\n",
        "                              use_bias=False)(concat)\n",
        "  assert concat.get_shape()[-1] == 1\n",
        "  concat = tf.keras.activations.sigmoid(concat)\n",
        "    \n",
        "  return input_feature * concat"
      ]
    },
    {
      "cell_type": "code",
      "execution_count": 66,
      "metadata": {
        "colab": {
          "base_uri": "https://localhost:8080/",
          "height": 1000
        },
        "id": "TCFXoW6gu6AT",
        "outputId": "5de8364e-955b-453a-ffc1-ab03a82d7b46"
      },
      "outputs": [
        {
          "output_type": "stream",
          "name": "stdout",
          "text": [
            "(None, 8, 8, 2048)\n",
            "(None, 8, 8, 2048)\n",
            "(None, 8, 8, 2048)\n",
            "(None, 228)\n",
            "0 input1\n",
            "1 inception_v3\n",
            "2 tf.math.reduce_mean_8\n",
            "3 tf.math.reduce_max_8\n",
            "4 dense_24\n",
            "5 dense_26\n",
            "6 dense_25\n",
            "7 dense_27\n",
            "8 tf.__operators__.add_4\n",
            "9 tf.math.sigmoid_8\n",
            "10 tf.math.multiply_8\n",
            "11 tf.math.reduce_mean_9\n",
            "12 tf.math.reduce_max_9\n",
            "13 tf.concat_4\n",
            "14 conv2d_568\n",
            "15 tf.math.sigmoid_9\n",
            "16 tf.math.multiply_9\n",
            "17 max_pooling2d_28\n",
            "18 input2\n",
            "19 flatten_3\n",
            "20 dense_23\n",
            "21 concatenate_14\n",
            "22 dense_28\n",
            "23 input3\n",
            "24 dense_29\n",
            "25 flatten_4\n",
            "26 multiply_1\n",
            "27 dense_30\n",
            "Model: \"model_1\"\n",
            "__________________________________________________________________________________________________\n",
            " Layer (type)                   Output Shape         Param #     Connected to                     \n",
            "==================================================================================================\n",
            " input1 (InputLayer)            [(None, 300, 300, 3  0           []                               \n",
            "                                )]                                                                \n",
            "                                                                                                  \n",
            " inception_v3 (Functional)      (None, None, None,   21802784    ['input1[0][0]']                 \n",
            "                                2048)                                                             \n",
            "                                                                                                  \n",
            " tf.math.reduce_mean_8 (TFOpLam  (None, 1, 1, 2048)  0           ['inception_v3[0][0]']           \n",
            " bda)                                                                                             \n",
            "                                                                                                  \n",
            " tf.math.reduce_max_8 (TFOpLamb  (None, 1, 1, 2048)  0           ['inception_v3[0][0]']           \n",
            " da)                                                                                              \n",
            "                                                                                                  \n",
            " dense_24 (Dense)               (None, 1, 1, 256)    524544      ['tf.math.reduce_mean_8[0][0]']  \n",
            "                                                                                                  \n",
            " dense_26 (Dense)               (None, 1, 1, 256)    524544      ['tf.math.reduce_max_8[0][0]']   \n",
            "                                                                                                  \n",
            " dense_25 (Dense)               (None, 1, 1, 2048)   526336      ['dense_24[0][0]']               \n",
            "                                                                                                  \n",
            " dense_27 (Dense)               (None, 1, 1, 2048)   526336      ['dense_26[0][0]']               \n",
            "                                                                                                  \n",
            " tf.__operators__.add_4 (TFOpLa  (None, 1, 1, 2048)  0           ['dense_25[0][0]',               \n",
            " mbda)                                                            'dense_27[0][0]']               \n",
            "                                                                                                  \n",
            " tf.math.sigmoid_8 (TFOpLambda)  (None, 1, 1, 2048)  0           ['tf.__operators__.add_4[0][0]'] \n",
            "                                                                                                  \n",
            " tf.math.multiply_8 (TFOpLambda  (None, 8, 8, 2048)  0           ['inception_v3[0][0]',           \n",
            " )                                                                'tf.math.sigmoid_8[0][0]']      \n",
            "                                                                                                  \n",
            " tf.math.reduce_mean_9 (TFOpLam  (None, 8, 8, 1)     0           ['tf.math.multiply_8[0][0]']     \n",
            " bda)                                                                                             \n",
            "                                                                                                  \n",
            " tf.math.reduce_max_9 (TFOpLamb  (None, 8, 8, 1)     0           ['tf.math.multiply_8[0][0]']     \n",
            " da)                                                                                              \n",
            "                                                                                                  \n",
            " tf.concat_4 (TFOpLambda)       (None, 8, 8, 2)      0           ['tf.math.reduce_mean_9[0][0]',  \n",
            "                                                                  'tf.math.reduce_max_9[0][0]']   \n",
            "                                                                                                  \n",
            " conv2d_568 (Conv2D)            (None, 8, 8, 1)      98          ['tf.concat_4[0][0]']            \n",
            "                                                                                                  \n",
            " tf.math.sigmoid_9 (TFOpLambda)  (None, 8, 8, 1)     0           ['conv2d_568[0][0]']             \n",
            "                                                                                                  \n",
            " tf.math.multiply_9 (TFOpLambda  (None, 8, 8, 2048)  0           ['tf.math.multiply_8[0][0]',     \n",
            " )                                                                'tf.math.sigmoid_9[0][0]']      \n",
            "                                                                                                  \n",
            " max_pooling2d_28 (MaxPooling2D  (None, 2, 2, 2048)  0           ['tf.math.multiply_9[0][0]']     \n",
            " )                                                                                                \n",
            "                                                                                                  \n",
            " input2 (InputLayer)            [(None, 1)]          0           []                               \n",
            "                                                                                                  \n",
            " flatten_3 (Flatten)            (None, 8192)         0           ['max_pooling2d_28[0][0]']       \n",
            "                                                                                                  \n",
            " dense_23 (Dense)               (None, 16)           32          ['input2[0][0]']                 \n",
            "                                                                                                  \n",
            " concatenate_14 (Concatenate)   (None, 8208)         0           ['flatten_3[0][0]',              \n",
            "                                                                  'dense_23[0][0]']               \n",
            "                                                                                                  \n",
            " dense_28 (Dense)               (None, 256)          2101504     ['concatenate_14[0][0]']         \n",
            "                                                                                                  \n",
            " input3 (InputLayer)            [(None, 2, 114)]     0           []                               \n",
            "                                                                                                  \n",
            " dense_29 (Dense)               (None, 228)          58596       ['dense_28[0][0]']               \n",
            "                                                                                                  \n",
            " flatten_4 (Flatten)            (None, 228)          0           ['input3[0][0]']                 \n",
            "                                                                                                  \n",
            " multiply_1 (Multiply)          (None, 228)          0           ['dense_29[0][0]',               \n",
            "                                                                  'flatten_4[0][0]']              \n",
            "                                                                                                  \n",
            " dense_30 (Dense)               (None, 1)            229         ['multiply_1[0][0]']             \n",
            "                                                                                                  \n",
            "==================================================================================================\n",
            "Total params: 26,065,003\n",
            "Trainable params: 26,030,571\n",
            "Non-trainable params: 34,432\n",
            "__________________________________________________________________________________________________\n"
          ]
        },
        {
          "output_type": "stream",
          "name": "stderr",
          "text": [
            "WARNING:tensorflow:`period` argument is deprecated. Please use `save_freq` to specify the frequency in number of batches seen.\n"
          ]
        },
        {
          "output_type": "stream",
          "name": "stdout",
          "text": [
            "Epoch 1/10\n",
            "840/840 [==============================] - 55s 57ms/step - loss: 35.6520 - MAE: 35.6520 - val_loss: 22.9210 - val_MAE: 22.9210\n",
            "Epoch 2/10\n",
            "840/840 [==============================] - 45s 53ms/step - loss: 20.9535 - MAE: 20.9535 - val_loss: 21.1323 - val_MAE: 21.1323\n",
            "Epoch 3/10\n",
            "840/840 [==============================] - 46s 54ms/step - loss: 17.3569 - MAE: 17.3569 - val_loss: 16.3705 - val_MAE: 16.3705\n",
            "Epoch 4/10\n",
            "840/840 [==============================] - 46s 55ms/step - loss: 15.7089 - MAE: 15.7089 - val_loss: 18.0602 - val_MAE: 18.0602\n",
            "Epoch 5/10\n",
            "840/840 [==============================] - 46s 54ms/step - loss: 14.9532 - MAE: 14.9532 - val_loss: 18.7044 - val_MAE: 18.7044\n",
            "Epoch 6/10\n",
            "840/840 [==============================] - 47s 56ms/step - loss: 13.9702 - MAE: 13.9702 - val_loss: 13.9625 - val_MAE: 13.9625\n",
            "Epoch 7/10\n",
            "840/840 [==============================] - 48s 57ms/step - loss: 12.9758 - MAE: 12.9758 - val_loss: 14.7135 - val_MAE: 14.7135\n",
            "Epoch 8/10\n",
            "840/840 [==============================] - 46s 54ms/step - loss: 12.2850 - MAE: 12.2850 - val_loss: 21.7402 - val_MAE: 21.7402\n",
            "Epoch 9/10\n",
            "840/840 [==============================] - 46s 55ms/step - loss: 11.8658 - MAE: 11.8658 - val_loss: 12.3688 - val_MAE: 12.3688\n",
            "Epoch 10/10\n",
            "840/840 [==============================] - 47s 56ms/step - loss: 11.3658 - MAE: 11.3658 - val_loss: 12.7566 - val_MAE: 12.7566\n"
          ]
        },
        {
          "output_type": "error",
          "ename": "NameError",
          "evalue": "ignored",
          "traceback": [
            "\u001b[0;31m---------------------------------------------------------------------------\u001b[0m",
            "\u001b[0;31mNameError\u001b[0m                                 Traceback (most recent call last)",
            "\u001b[0;32m<ipython-input-66-f4633348d636>\u001b[0m in \u001b[0;36m<module>\u001b[0;34m\u001b[0m\n\u001b[1;32m     33\u001b[0m \u001b[0;31m#model.fit_generator(DataGen.flow([x_train,gender_train],y_train,batch_size=batch_size),steps_per_epoch=np.ceil(len(y_train)/batch_size),epochs=50,verbose=1,validation_data=([x_valid,gender_valid,agev],y_valid))\u001b[0m\u001b[0;34m\u001b[0m\u001b[0;34m\u001b[0m\u001b[0;34m\u001b[0m\u001b[0m\n\u001b[1;32m     34\u001b[0m \u001b[0mhistory1\u001b[0m\u001b[0;34m=\u001b[0m\u001b[0mmodel\u001b[0m\u001b[0;34m.\u001b[0m\u001b[0mfit\u001b[0m\u001b[0;34m(\u001b[0m\u001b[0;34m[\u001b[0m\u001b[0mtrain_x\u001b[0m\u001b[0;34m,\u001b[0m\u001b[0mtrain_gen\u001b[0m\u001b[0;34m,\u001b[0m\u001b[0magetr\u001b[0m\u001b[0;34m]\u001b[0m\u001b[0;34m,\u001b[0m\u001b[0mtrain_y\u001b[0m\u001b[0;34m,\u001b[0m\u001b[0mbatch_size\u001b[0m\u001b[0;34m=\u001b[0m\u001b[0;36m4\u001b[0m\u001b[0;34m,\u001b[0m\u001b[0mepochs\u001b[0m\u001b[0;34m=\u001b[0m\u001b[0;36m10\u001b[0m\u001b[0;34m,\u001b[0m\u001b[0mverbose\u001b[0m\u001b[0;34m=\u001b[0m\u001b[0;36m1\u001b[0m\u001b[0;34m,\u001b[0m\u001b[0mvalidation_data\u001b[0m\u001b[0;34m=\u001b[0m\u001b[0;34m(\u001b[0m\u001b[0;34m[\u001b[0m\u001b[0mvalid_x\u001b[0m\u001b[0;34m,\u001b[0m\u001b[0mvalid_gen\u001b[0m\u001b[0;34m,\u001b[0m\u001b[0magev\u001b[0m\u001b[0;34m]\u001b[0m\u001b[0;34m,\u001b[0m\u001b[0mvalid_y\u001b[0m\u001b[0;34m)\u001b[0m\u001b[0;34m,\u001b[0m\u001b[0mcallbacks\u001b[0m \u001b[0;34m=\u001b[0m \u001b[0;34m[\u001b[0m\u001b[0mcheckpoint\u001b[0m\u001b[0;34m]\u001b[0m\u001b[0;34m)\u001b[0m\u001b[0;34m\u001b[0m\u001b[0;34m\u001b[0m\u001b[0m\n\u001b[0;32m---> 35\u001b[0;31m \u001b[0mscore\u001b[0m \u001b[0;34m=\u001b[0m \u001b[0mmodel\u001b[0m\u001b[0;34m.\u001b[0m\u001b[0mevaluate\u001b[0m\u001b[0;34m(\u001b[0m\u001b[0;34m[\u001b[0m\u001b[0mtest_x\u001b[0m\u001b[0;34m,\u001b[0m\u001b[0mtest_geb\u001b[0m\u001b[0;34m,\u001b[0m\u001b[0maget\u001b[0m\u001b[0;34m]\u001b[0m\u001b[0;34m,\u001b[0m\u001b[0mtest_y\u001b[0m\u001b[0;34m,\u001b[0m \u001b[0mbatch_size\u001b[0m\u001b[0;34m=\u001b[0m\u001b[0mbatch_size\u001b[0m\u001b[0;34m)\u001b[0m\u001b[0;34m\u001b[0m\u001b[0;34m\u001b[0m\u001b[0m\n\u001b[0m\u001b[1;32m     36\u001b[0m \u001b[0mprint\u001b[0m\u001b[0;34m(\u001b[0m\u001b[0;34m'Test loss:'\u001b[0m\u001b[0;34m,\u001b[0m \u001b[0mscore\u001b[0m\u001b[0;34m[\u001b[0m\u001b[0;36m0\u001b[0m\u001b[0;34m]\u001b[0m\u001b[0;34m)\u001b[0m\u001b[0;34m\u001b[0m\u001b[0;34m\u001b[0m\u001b[0m\n\u001b[1;32m     37\u001b[0m \u001b[0mprint\u001b[0m\u001b[0;34m(\u001b[0m\u001b[0;34m'Test MAE:'\u001b[0m\u001b[0;34m,\u001b[0m \u001b[0mscore\u001b[0m\u001b[0;34m[\u001b[0m\u001b[0;36m1\u001b[0m\u001b[0;34m]\u001b[0m\u001b[0;34m)\u001b[0m\u001b[0;34m\u001b[0m\u001b[0;34m\u001b[0m\u001b[0m\n",
            "\u001b[0;31mNameError\u001b[0m: name 'test_geb' is not defined"
          ]
        }
      ],
      "source": [
        "import tensorflow as tf\n",
        "\n",
        "base_model = InceptionV3(weights='imagenet', include_top=False)\n",
        "input = Input(shape=(300,300,3),name='input1')\n",
        "input_gender = Input(shape=(1,),dtype='float32',name='input2')\n",
        "input_age = Input(shape=(2,114),dtype='float32',name='input3')\n",
        "output = base_model(input)\n",
        "gender_embedding=Dense(16)(input_gender)\n",
        "print (K.int_shape(output))\n",
        "x=channel_attention(output)\n",
        "print (K.int_shape(x))\n",
        "x=spatial_attention(x)\n",
        "print (K.int_shape(x))\n",
        "x = keras.layers.MaxPooling2D(pool_size=(4,4))(x)\n",
        "x=Flatten()(x)\n",
        "f = keras.layers.Concatenate(axis=1)([x,gender_embedding])\n",
        "f = Dense(256, activation='relu')(f)\n",
        "x =Dense(228,activation='linear')(f)\n",
        "y=Flatten()(input_age)\n",
        "print(y.shape)\n",
        "f = keras.layers.Multiply()([x,y])\n",
        "predictions=Dense(1)(f)\n",
        "\n",
        "model = Model(inputs=[input,input_gender,input_age], outputs=predictions)\n",
        "for i,layer in enumerate(model.layers):\n",
        "    print (i,layer.name)\n",
        "\n",
        "Adam=tf.keras.optimizers.Adam(lr=0.0001,beta_1=0.9,beta_2=0.999)\n",
        "model.compile(optimizer=Adam, loss='mean_absolute_error', metrics=['MAE'])\n",
        "model.summary()\n",
        "\n",
        "checkpoint =keras.callbacks.ModelCheckpoint(filepath='weights_inv-mul_cam_aug_ndimg.{epoch:02d}-{val_loss:.2f}.hdf5',save_weights_only=True,period=10)\n",
        "#model.fit_generator(DataGen.flow([x_train,gender_train],y_train,batch_size=batch_size),steps_per_epoch=np.ceil(len(y_train)/batch_size),epochs=50,verbose=1,validation_data=([x_valid,gender_valid,agev],y_valid))\n",
        "history1=model.fit([train_x,train_gen,agetr],train_y,batch_size=4,epochs=10,verbose=1,validation_data=([valid_x,valid_gen,agev],valid_y),callbacks = [checkpoint])\n",
        "score = model.evaluate([test_x,test_gen,aget],test_y, batch_size=batch_size)\n",
        "print('Test loss:', score[0])\n",
        "print('Test MAE:', score[1])\n",
        "     "
      ]
    },
    {
      "cell_type": "code",
      "source": [
        "score = model.evaluate([test_x,test_gen,aget],test_y, batch_size=batch_size)\n",
        "print('Test loss:', score[0])\n",
        "print('Test MAE:', score[1])"
      ],
      "metadata": {
        "colab": {
          "base_uri": "https://localhost:8080/"
        },
        "id": "X6wx0ndrxwap",
        "outputId": "72a08d8f-f916-44a9-cabe-2e40ed154ed2"
      },
      "execution_count": 67,
      "outputs": [
        {
          "output_type": "stream",
          "name": "stdout",
          "text": [
            "45/45 [==============================] - 3s 45ms/step - loss: 14.3593 - MAE: 14.3593\n",
            "Test loss: 14.359260559082031\n",
            "Test MAE: 14.359260559082031\n"
          ]
        }
      ]
    },
    {
      "cell_type": "code",
      "execution_count": 68,
      "metadata": {
        "id": "Fq54GRBhu6AT",
        "colab": {
          "base_uri": "https://localhost:8080/",
          "height": 295
        },
        "outputId": "04380311-3030-435b-8034-01a5f0e78815"
      },
      "outputs": [
        {
          "output_type": "display_data",
          "data": {
            "text/plain": [
              "<Figure size 432x288 with 1 Axes>"
            ],
            "image/png": "[encoded data removed]"
          },
          "metadata": {
            "needs_background": "light"
          }
        }
      ],
      "source": [
        "plt.plot(history1.history['loss'])\n",
        "plt.plot(history1.history['val_loss']) \n",
        "plt.title('mulcam_inv aug Model loss')\n",
        "plt.ylabel('Loss')\n",
        "plt.xlabel('Epoch')\n",
        "plt.legend(['Train', 'Validation'], loc='upper left')\n",
        "plt.show()"
      ]
    },
    {
      "cell_type": "code",
      "execution_count": 69,
      "metadata": {
        "id": "SZWTO0_Bu6AU",
        "colab": {
          "base_uri": "https://localhost:8080/"
        },
        "outputId": "986a2b15-d0b3-405d-bc56-4b5989c64244"
      },
      "outputs": [
        {
          "output_type": "stream",
          "name": "stdout",
          "text": [
            "Downloading data from https://storage.googleapis.com/tensorflow/keras-applications/inception_resnet_v2/inception_resnet_v2_weights_tf_dim_ordering_tf_kernels_notop.h5\n",
            "219055592/219055592 [==============================] - 10s 0us/step\n",
            "(None, 8, 8, 1536)\n",
            "(None, 8, 8, 1536)\n",
            "(None, 8, 8, 1536)\n",
            "(None, 228)\n",
            "0 input1\n",
            "1 inception_resnet_v2\n",
            "2 tf.math.reduce_mean_10\n",
            "3 tf.math.reduce_max_10\n",
            "4 dense_32\n",
            "5 dense_34\n",
            "6 dense_33\n",
            "7 dense_35\n",
            "8 tf.__operators__.add_5\n",
            "9 tf.math.sigmoid_10\n",
            "10 tf.math.multiply_10\n",
            "11 tf.math.reduce_mean_11\n",
            "12 tf.math.reduce_max_11\n",
            "13 tf.concat_5\n",
            "14 conv2d_772\n",
            "15 tf.math.sigmoid_11\n",
            "16 tf.math.multiply_11\n",
            "17 max_pooling2d_33\n",
            "18 input2\n",
            "19 flatten_5\n",
            "20 dense_31\n",
            "21 concatenate_15\n",
            "22 dense_36\n",
            "23 input3\n",
            "24 dense_37\n",
            "25 flatten_6\n",
            "26 multiply_2\n",
            "27 dense_38\n",
            "Model: \"model_2\"\n",
            "__________________________________________________________________________________________________\n",
            " Layer (type)                   Output Shape         Param #     Connected to                     \n",
            "==================================================================================================\n",
            " input1 (InputLayer)            [(None, 300, 300, 3  0           []                               \n",
            "                                )]                                                                \n",
            "                                                                                                  \n",
            " inception_resnet_v2 (Functiona  (None, None, None,   54336736   ['input1[0][0]']                 \n",
            " l)                             1536)                                                             \n",
            "                                                                                                  \n",
            " tf.math.reduce_mean_10 (TFOpLa  (None, 1, 1, 1536)  0           ['inception_resnet_v2[0][0]']    \n",
            " mbda)                                                                                            \n",
            "                                                                                                  \n",
            " tf.math.reduce_max_10 (TFOpLam  (None, 1, 1, 1536)  0           ['inception_resnet_v2[0][0]']    \n",
            " bda)                                                                                             \n",
            "                                                                                                  \n",
            " dense_32 (Dense)               (None, 1, 1, 192)    295104      ['tf.math.reduce_mean_10[0][0]'] \n",
            "                                                                                                  \n",
            " dense_34 (Dense)               (None, 1, 1, 192)    295104      ['tf.math.reduce_max_10[0][0]']  \n",
            "                                                                                                  \n",
            " dense_33 (Dense)               (None, 1, 1, 1536)   296448      ['dense_32[0][0]']               \n",
            "                                                                                                  \n",
            " dense_35 (Dense)               (None, 1, 1, 1536)   296448      ['dense_34[0][0]']               \n",
            "                                                                                                  \n",
            " tf.__operators__.add_5 (TFOpLa  (None, 1, 1, 1536)  0           ['dense_33[0][0]',               \n",
            " mbda)                                                            'dense_35[0][0]']               \n",
            "                                                                                                  \n",
            " tf.math.sigmoid_10 (TFOpLambda  (None, 1, 1, 1536)  0           ['tf.__operators__.add_5[0][0]'] \n",
            " )                                                                                                \n",
            "                                                                                                  \n",
            " tf.math.multiply_10 (TFOpLambd  (None, 8, 8, 1536)  0           ['inception_resnet_v2[0][0]',    \n",
            " a)                                                               'tf.math.sigmoid_10[0][0]']     \n",
            "                                                                                                  \n",
            " tf.math.reduce_mean_11 (TFOpLa  (None, 8, 8, 1)     0           ['tf.math.multiply_10[0][0]']    \n",
            " mbda)                                                                                            \n",
            "                                                                                                  \n",
            " tf.math.reduce_max_11 (TFOpLam  (None, 8, 8, 1)     0           ['tf.math.multiply_10[0][0]']    \n",
            " bda)                                                                                             \n",
            "                                                                                                  \n",
            " tf.concat_5 (TFOpLambda)       (None, 8, 8, 2)      0           ['tf.math.reduce_mean_11[0][0]', \n",
            "                                                                  'tf.math.reduce_max_11[0][0]']  \n",
            "                                                                                                  \n",
            " conv2d_772 (Conv2D)            (None, 8, 8, 1)      98          ['tf.concat_5[0][0]']            \n",
            "                                                                                                  \n",
            " tf.math.sigmoid_11 (TFOpLambda  (None, 8, 8, 1)     0           ['conv2d_772[0][0]']             \n",
            " )                                                                                                \n",
            "                                                                                                  \n",
            " tf.math.multiply_11 (TFOpLambd  (None, 8, 8, 1536)  0           ['tf.math.multiply_10[0][0]',    \n",
            " a)                                                               'tf.math.sigmoid_11[0][0]']     \n",
            "                                                                                                  \n",
            " max_pooling2d_33 (MaxPooling2D  (None, 2, 2, 1536)  0           ['tf.math.multiply_11[0][0]']    \n",
            " )                                                                                                \n",
            "                                                                                                  \n",
            " input2 (InputLayer)            [(None, 1)]          0           []                               \n",
            "                                                                                                  \n",
            " flatten_5 (Flatten)            (None, 6144)         0           ['max_pooling2d_33[0][0]']       \n",
            "                                                                                                  \n",
            " dense_31 (Dense)               (None, 16)           32          ['input2[0][0]']                 \n",
            "                                                                                                  \n",
            " concatenate_15 (Concatenate)   (None, 6160)         0           ['flatten_5[0][0]',              \n",
            "                                                                  'dense_31[0][0]']               \n",
            "                                                                                                  \n",
            " dense_36 (Dense)               (None, 256)          1577216     ['concatenate_15[0][0]']         \n",
            "                                                                                                  \n",
            " input3 (InputLayer)            [(None, 2, 114)]     0           []                               \n",
            "                                                                                                  \n",
            " dense_37 (Dense)               (None, 228)          58596       ['dense_36[0][0]']               \n",
            "                                                                                                  \n",
            " flatten_6 (Flatten)            (None, 228)          0           ['input3[0][0]']                 \n",
            "                                                                                                  \n",
            " multiply_2 (Multiply)          (None, 228)          0           ['dense_37[0][0]',               \n",
            "                                                                  'flatten_6[0][0]']              \n",
            "                                                                                                  \n",
            " dense_38 (Dense)               (None, 1)            229         ['multiply_2[0][0]']             \n",
            "                                                                                                  \n",
            "==================================================================================================\n",
            "Total params: 57,156,011\n",
            "Trainable params: 57,095,467\n",
            "Non-trainable params: 60,544\n",
            "__________________________________________________________________________________________________\n"
          ]
        },
        {
          "output_type": "stream",
          "name": "stderr",
          "text": [
            "WARNING:tensorflow:`period` argument is deprecated. Please use `save_freq` to specify the frequency in number of batches seen.\n"
          ]
        },
        {
          "output_type": "stream",
          "name": "stdout",
          "text": [
            "Epoch 1/10\n",
            "840/840 [==============================] - 127s 127ms/step - loss: 31.7983 - MAE: 31.7983 - val_loss: 60.8488 - val_MAE: 60.8488\n",
            "Epoch 2/10\n",
            "840/840 [==============================] - 104s 124ms/step - loss: 18.6809 - MAE: 18.6809 - val_loss: 23.5353 - val_MAE: 23.5353\n",
            "Epoch 3/10\n",
            "840/840 [==============================] - 104s 124ms/step - loss: 15.5779 - MAE: 15.5779 - val_loss: 20.1217 - val_MAE: 20.1217\n",
            "Epoch 4/10\n",
            "840/840 [==============================] - 101s 120ms/step - loss: 13.4007 - MAE: 13.4007 - val_loss: 32.0793 - val_MAE: 32.0793\n",
            "Epoch 5/10\n",
            "840/840 [==============================] - 101s 120ms/step - loss: 12.4469 - MAE: 12.4469 - val_loss: 16.2849 - val_MAE: 16.2849\n",
            "Epoch 6/10\n",
            "840/840 [==============================] - 101s 120ms/step - loss: 11.3644 - MAE: 11.3644 - val_loss: 19.2745 - val_MAE: 19.2745\n",
            "Epoch 7/10\n",
            "840/840 [==============================] - 101s 120ms/step - loss: 10.8468 - MAE: 10.8468 - val_loss: 11.6669 - val_MAE: 11.6669\n",
            "Epoch 8/10\n",
            "840/840 [==============================] - 100s 119ms/step - loss: 10.1241 - MAE: 10.1241 - val_loss: 31.8422 - val_MAE: 31.8422\n",
            "Epoch 9/10\n",
            "840/840 [==============================] - 99s 118ms/step - loss: 9.9192 - MAE: 9.9192 - val_loss: 13.0216 - val_MAE: 13.0216\n",
            "Epoch 10/10\n",
            "840/840 [==============================] - 99s 118ms/step - loss: 9.0875 - MAE: 9.0875 - val_loss: 12.1316 - val_MAE: 12.1316\n",
            "45/45 [==============================] - 4s 78ms/step - loss: 13.1203 - MAE: 13.1203\n",
            "Test loss: 13.120279312133789\n",
            "Test MAE: 13.120279312133789\n"
          ]
        }
      ],
      "source": [
        "import tensorflow as tf\n",
        "from tensorflow.keras.applications.inception_resnet_v2 import InceptionResNetV2\n",
        "\n",
        "base_model = InceptionResNetV2(weights='imagenet', include_top=False)\n",
        "input = Input(shape=(300,300,3),name='input1')\n",
        "input_gender = Input(shape=(1,),dtype='float32',name='input2')\n",
        "input_age = Input(shape=(2,114),dtype='float32',name='input3')\n",
        "output = base_model(input)\n",
        "gender_embedding=Dense(16)(input_gender)\n",
        "print (K.int_shape(output))\n",
        "x=channel_attention(output)\n",
        "print (K.int_shape(x))\n",
        "x=spatial_attention(x)\n",
        "print (K.int_shape(x))\n",
        "x = keras.layers.MaxPooling2D(pool_size=(4,4))(x)\n",
        "x=Flatten()(x)\n",
        "f = keras.layers.Concatenate(axis=1)([x,gender_embedding])\n",
        "f = Dense(256, activation='relu')(f)\n",
        "x =Dense(228,activation='linear')(f)\n",
        "y=Flatten()(input_age)\n",
        "print(y.shape)\n",
        "f = keras.layers.Multiply()([x,y])\n",
        "predictions=Dense(1)(f)\n",
        "\n",
        "model = Model(inputs=[input,input_gender,input_age], outputs=predictions)\n",
        "for i,layer in enumerate(model.layers):\n",
        "    print (i,layer.name)\n",
        "\n",
        "Adam=tf.keras.optimizers.Adam(lr=0.0001,beta_1=0.9,beta_2=0.999)\n",
        "model.compile(optimizer=Adam, loss='mean_absolute_error', metrics=['MAE'])\n",
        "model.summary()\n",
        "\n",
        "checkpoint =keras.callbacks.ModelCheckpoint(filepath='weights_invres-mul_cam_aug_ndimg.{epoch:02d}-{val_loss:.2f}.hdf5',save_weights_only=True,period=10)\n",
        "#model.fit_generator(DataGen.flow([x_train,gender_train],y_train,batch_size=batch_size),steps_per_epoch=np.ceil(len(y_train)/batch_size),epochs=50,verbose=1,validation_data=([x_valid,gender_valid,agev],y_valid))\n",
        "history2=model.fit([train_x,train_gen,agetr],train_y,batch_size=4,epochs=10,verbose=1,validation_data=([valid_x,valid_gen,agev],valid_y),callbacks = [checkpoint])\n",
        "score = model.evaluate([test_x,test_gen,aget],test_y, batch_size=batch_size)\n",
        "print('Test loss:', score[0])\n",
        "print('Test MAE:', score[1])"
      ]
    },
    {
      "cell_type": "code",
      "execution_count": 70,
      "metadata": {
        "id": "txFFa-mCu6AU",
        "colab": {
          "base_uri": "https://localhost:8080/",
          "height": 295
        },
        "outputId": "234b47fb-4580-425f-d2e0-b73ee155ac8a"
      },
      "outputs": [
        {
          "output_type": "display_data",
          "data": {
            "text/plain": [
              "<Figure size 432x288 with 1 Axes>"
            ],
            "image/png": "[encoded data removed]"
          },
          "metadata": {
            "needs_background": "light"
          }
        }
      ],
      "source": [
        "plt.plot(history2.history['loss'])\n",
        "plt.plot(history2.history['val_loss'])\n",
        "plt.title('mulcam aug inres Model loss')\n",
        "plt.ylabel('Loss')\n",
        "plt.xlabel('Epoch')\n",
        "plt.legend(['Train', 'Validation'], loc='upper left')\n",
        "plt.show()"
      ]
    },
    {
      "cell_type": "code",
      "execution_count": 71,
      "metadata": {
        "id": "LC_bTUPLyVhf",
        "colab": {
          "base_uri": "https://localhost:8080/"
        },
        "outputId": "ae7cb820-556f-47ed-9228-f6f8a76a3d66"
      },
      "outputs": [
        {
          "output_type": "stream",
          "name": "stdout",
          "text": [
            "Downloading data from https://storage.googleapis.com/tensorflow/keras-applications/resnet/resnet50_weights_tf_dim_ordering_tf_kernels_notop.h5\n",
            "94765736/94765736 [==============================] - 5s 0us/step\n",
            "(None, 10, 10, 2048)\n",
            "(None, 10, 10, 2048)\n",
            "(None, 10, 10, 2048)\n",
            "(None, 228)\n",
            "0 input1\n",
            "1 resnet50\n",
            "2 tf.math.reduce_mean_12\n",
            "3 tf.math.reduce_max_12\n",
            "4 dense_40\n",
            "5 dense_42\n",
            "6 dense_41\n",
            "7 dense_43\n",
            "8 tf.__operators__.add_6\n",
            "9 tf.math.sigmoid_12\n",
            "10 tf.math.multiply_12\n",
            "11 tf.math.reduce_mean_13\n",
            "12 tf.math.reduce_max_13\n",
            "13 tf.concat_6\n",
            "14 conv2d_773\n",
            "15 tf.math.sigmoid_13\n",
            "16 tf.math.multiply_13\n",
            "17 max_pooling2d_34\n",
            "18 input2\n",
            "19 flatten_7\n",
            "20 dense_39\n",
            "21 concatenate_16\n",
            "22 dense_44\n",
            "23 input3\n",
            "24 dense_45\n",
            "25 flatten_8\n",
            "26 multiply_3\n",
            "27 dense_46\n",
            "Model: \"model_3\"\n",
            "__________________________________________________________________________________________________\n",
            " Layer (type)                   Output Shape         Param #     Connected to                     \n",
            "==================================================================================================\n",
            " input1 (InputLayer)            [(None, 300, 300, 3  0           []                               \n",
            "                                )]                                                                \n",
            "                                                                                                  \n",
            " resnet50 (Functional)          (None, None, None,   23587712    ['input1[0][0]']                 \n",
            "                                2048)                                                             \n",
            "                                                                                                  \n",
            " tf.math.reduce_mean_12 (TFOpLa  (None, 1, 1, 2048)  0           ['resnet50[0][0]']               \n",
            " mbda)                                                                                            \n",
            "                                                                                                  \n",
            " tf.math.reduce_max_12 (TFOpLam  (None, 1, 1, 2048)  0           ['resnet50[0][0]']               \n",
            " bda)                                                                                             \n",
            "                                                                                                  \n",
            " dense_40 (Dense)               (None, 1, 1, 256)    524544      ['tf.math.reduce_mean_12[0][0]'] \n",
            "                                                                                                  \n",
            " dense_42 (Dense)               (None, 1, 1, 256)    524544      ['tf.math.reduce_max_12[0][0]']  \n",
            "                                                                                                  \n",
            " dense_41 (Dense)               (None, 1, 1, 2048)   526336      ['dense_40[0][0]']               \n",
            "                                                                                                  \n",
            " dense_43 (Dense)               (None, 1, 1, 2048)   526336      ['dense_42[0][0]']               \n",
            "                                                                                                  \n",
            " tf.__operators__.add_6 (TFOpLa  (None, 1, 1, 2048)  0           ['dense_41[0][0]',               \n",
            " mbda)                                                            'dense_43[0][0]']               \n",
            "                                                                                                  \n",
            " tf.math.sigmoid_12 (TFOpLambda  (None, 1, 1, 2048)  0           ['tf.__operators__.add_6[0][0]'] \n",
            " )                                                                                                \n",
            "                                                                                                  \n",
            " tf.math.multiply_12 (TFOpLambd  (None, 10, 10, 2048  0          ['resnet50[0][0]',               \n",
            " a)                             )                                 'tf.math.sigmoid_12[0][0]']     \n",
            "                                                                                                  \n",
            " tf.math.reduce_mean_13 (TFOpLa  (None, 10, 10, 1)   0           ['tf.math.multiply_12[0][0]']    \n",
            " mbda)                                                                                            \n",
            "                                                                                                  \n",
            " tf.math.reduce_max_13 (TFOpLam  (None, 10, 10, 1)   0           ['tf.math.multiply_12[0][0]']    \n",
            " bda)                                                                                             \n",
            "                                                                                                  \n",
            " tf.concat_6 (TFOpLambda)       (None, 10, 10, 2)    0           ['tf.math.reduce_mean_13[0][0]', \n",
            "                                                                  'tf.math.reduce_max_13[0][0]']  \n",
            "                                                                                                  \n",
            " conv2d_773 (Conv2D)            (None, 10, 10, 1)    98          ['tf.concat_6[0][0]']            \n",
            "                                                                                                  \n",
            " tf.math.sigmoid_13 (TFOpLambda  (None, 10, 10, 1)   0           ['conv2d_773[0][0]']             \n",
            " )                                                                                                \n",
            "                                                                                                  \n",
            " tf.math.multiply_13 (TFOpLambd  (None, 10, 10, 2048  0          ['tf.math.multiply_12[0][0]',    \n",
            " a)                             )                                 'tf.math.sigmoid_13[0][0]']     \n",
            "                                                                                                  \n",
            " max_pooling2d_34 (MaxPooling2D  (None, 2, 2, 2048)  0           ['tf.math.multiply_13[0][0]']    \n",
            " )                                                                                                \n",
            "                                                                                                  \n",
            " input2 (InputLayer)            [(None, 1)]          0           []                               \n",
            "                                                                                                  \n",
            " flatten_7 (Flatten)            (None, 8192)         0           ['max_pooling2d_34[0][0]']       \n",
            "                                                                                                  \n",
            " dense_39 (Dense)               (None, 16)           32          ['input2[0][0]']                 \n",
            "                                                                                                  \n",
            " concatenate_16 (Concatenate)   (None, 8208)         0           ['flatten_7[0][0]',              \n",
            "                                                                  'dense_39[0][0]']               \n",
            "                                                                                                  \n",
            " dense_44 (Dense)               (None, 256)          2101504     ['concatenate_16[0][0]']         \n",
            "                                                                                                  \n",
            " input3 (InputLayer)            [(None, 2, 114)]     0           []                               \n",
            "                                                                                                  \n",
            " dense_45 (Dense)               (None, 228)          58596       ['dense_44[0][0]']               \n",
            "                                                                                                  \n",
            " flatten_8 (Flatten)            (None, 228)          0           ['input3[0][0]']                 \n",
            "                                                                                                  \n",
            " multiply_3 (Multiply)          (None, 228)          0           ['dense_45[0][0]',               \n",
            "                                                                  'flatten_8[0][0]']              \n",
            "                                                                                                  \n",
            " dense_46 (Dense)               (None, 1)            229         ['multiply_3[0][0]']             \n",
            "                                                                                                  \n",
            "==================================================================================================\n",
            "Total params: 27,849,931\n",
            "Trainable params: 27,796,811\n",
            "Non-trainable params: 53,120\n",
            "__________________________________________________________________________________________________\n"
          ]
        },
        {
          "output_type": "stream",
          "name": "stderr",
          "text": [
            "/usr/local/lib/python3.8/dist-packages/keras/optimizers/optimizer_v2/adam.py:110: UserWarning: The `lr` argument is deprecated, use `learning_rate` instead.\n",
            "  super(Adam, self).__init__(name, **kwargs)\n",
            "WARNING:tensorflow:`period` argument is deprecated. Please use `save_freq` to specify the frequency in number of batches seen.\n"
          ]
        },
        {
          "output_type": "stream",
          "name": "stdout",
          "text": [
            "Epoch 1/10\n",
            "840/840 [==============================] - 42s 42ms/step - loss: 53.5805 - MAE: 53.5805 - val_loss: 54.6699 - val_MAE: 54.6699\n",
            "Epoch 2/10\n",
            "840/840 [==============================] - 33s 39ms/step - loss: 30.4033 - MAE: 30.4033 - val_loss: 25.4080 - val_MAE: 25.4080\n",
            "Epoch 3/10\n",
            "840/840 [==============================] - 33s 39ms/step - loss: 22.2961 - MAE: 22.2961 - val_loss: 20.2056 - val_MAE: 20.2056\n",
            "Epoch 4/10\n",
            "840/840 [==============================] - 33s 40ms/step - loss: 18.5281 - MAE: 18.5281 - val_loss: 21.2624 - val_MAE: 21.2624\n",
            "Epoch 5/10\n",
            "840/840 [==============================] - 33s 39ms/step - loss: 16.1069 - MAE: 16.1069 - val_loss: 21.7371 - val_MAE: 21.7371\n",
            "Epoch 6/10\n",
            "840/840 [==============================] - 33s 39ms/step - loss: 15.5083 - MAE: 15.5083 - val_loss: 14.4784 - val_MAE: 14.4784\n",
            "Epoch 7/10\n",
            "840/840 [==============================] - 33s 40ms/step - loss: 14.7234 - MAE: 14.7234 - val_loss: 30.1027 - val_MAE: 30.1027\n",
            "Epoch 8/10\n",
            "840/840 [==============================] - 33s 39ms/step - loss: 14.4024 - MAE: 14.4024 - val_loss: 26.4680 - val_MAE: 26.4680\n",
            "Epoch 9/10\n",
            "840/840 [==============================] - 33s 39ms/step - loss: 14.5693 - MAE: 14.5693 - val_loss: 17.4861 - val_MAE: 17.4861\n",
            "Epoch 10/10\n",
            "840/840 [==============================] - 33s 40ms/step - loss: 13.7629 - MAE: 13.7629 - val_loss: 14.6446 - val_MAE: 14.6446\n",
            "45/45 [==============================] - 2s 46ms/step - loss: 13.7205 - MAE: 13.7205\n",
            "Test loss: 13.720459938049316\n",
            "Test MAE: 13.720459938049316\n"
          ]
        }
      ],
      "source": [
        "import tensorflow as tf\n",
        "#from tensorflow.keras.applications.inception_resnet_v2 import InceptionResNetV2\n",
        "\n",
        "base_model = ResNet50(weights='imagenet', include_top=False)\n",
        "\n",
        "input = Input(shape=(300,300,3),name='input1')\n",
        "input_gender = Input(shape=(1,),dtype='float32',name='input2')\n",
        "input_age = Input(shape=(2,114),dtype='float32',name='input3')\n",
        "output = base_model(input)\n",
        "gender_embedding=Dense(16)(input_gender)\n",
        "print (K.int_shape(output))\n",
        "x=channel_attention(output)\n",
        "print (K.int_shape(x))\n",
        "x=spatial_attention(x)\n",
        "print (K.int_shape(x))\n",
        "x = keras.layers.MaxPooling2D(pool_size=(4,4))(x)\n",
        "x=Flatten()(x)\n",
        "f = keras.layers.Concatenate(axis=1)([x,gender_embedding])\n",
        "f = Dense(256, activation='relu')(f)\n",
        "x =Dense(228,activation='linear')(f)\n",
        "y=Flatten()(input_age)\n",
        "print(y.shape)\n",
        "f = keras.layers.Multiply()([x,y])\n",
        "predictions=Dense(1)(f)\n",
        "\n",
        "model = Model(inputs=[input,input_gender,input_age], outputs=predictions)\n",
        "for i,layer in enumerate(model.layers):\n",
        "    print (i,layer.name)\n",
        "\n",
        "Adam=tf.keras.optimizers.Adam(lr=0.0001,beta_1=0.9,beta_2=0.999)\n",
        "model.compile(optimizer=Adam, loss='mean_absolute_error', metrics=['MAE'])\n",
        "model.summary()\n",
        "\n",
        "checkpoint =keras.callbacks.ModelCheckpoint(filepath='weights_res-mul_cam_aug_ndimg.{epoch:02d}-{val_loss:.2f}.hdf5',save_weights_only=True,period=10)\n",
        "#model.fit_generator(DataGen.flow([x_train,gender_train],y_train,batch_size=batch_size),steps_per_epoch=np.ceil(len(y_train)/batch_size),epochs=50,verbose=1,validation_data=([x_valid,gender_valid,agev],y_valid))\n",
        "history3=model.fit([train_x,train_gen,agetr],train_y,batch_size=4,epochs=10,verbose=1,validation_data=([valid_x,valid_gen,agev],valid_y),callbacks = [checkpoint])\n",
        "score = model.evaluate([test_x,test_gen,aget],test_y, batch_size=batch_size)\n",
        "print('Test loss:', score[0])\n",
        "print('Test MAE:', score[1])"
      ]
    },
    {
      "cell_type": "code",
      "execution_count": 72,
      "metadata": {
        "id": "trXmb0liyVhh",
        "colab": {
          "base_uri": "https://localhost:8080/",
          "height": 295
        },
        "outputId": "d428f478-bd74-40bb-8c34-3ec8be067b1b"
      },
      "outputs": [
        {
          "output_type": "display_data",
          "data": {
            "text/plain": [
              "<Figure size 432x288 with 1 Axes>"
            ],
            "image/png": "[encoded data removed]"
          },
          "metadata": {
            "needs_background": "light"
          }
        }
      ],
      "source": [
        "plt.plot(history3.history['loss'])\n",
        "plt.plot(history3.history['val_loss'])\n",
        "plt.title('Model loss')\n",
        "plt.ylabel('Loss')\n",
        "plt.xlabel('Epoch')\n",
        "plt.legend(['Train', 'Validation'], loc='upper left')\n",
        "plt.show()"
      ]
    },
    {
      "cell_type": "code",
      "source": [],
      "metadata": {
        "id": "Y5g0FOEEzcdF"
      },
      "execution_count": null,
      "outputs": []
    },
    {
      "cell_type": "markdown",
      "source": [
        "#----------------------------------------------------------------------------------------------------------------------------------------"
      ],
      "metadata": {
        "id": "j_vJYsKHzcBY"
      }
    },
    {
      "cell_type": "code",
      "execution_count": 74,
      "metadata": {
        "id": "DkBRcrgzu35d",
        "colab": {
          "base_uri": "https://localhost:8080/"
        },
        "outputId": "ca70592b-90c1-4879-c9d7-33d94cc80f0f"
      },
      "outputs": [
        {
          "output_type": "stream",
          "name": "stdout",
          "text": [
            "(None, 8, 8, 1536)\n",
            "(None, 1536)\n",
            "(None, 4, 4, 1536)\n",
            "(None, 1, 1, 1536)\n",
            "(None, 228)\n",
            "0 input1\n",
            "1 inception_resnet_v2\n",
            "2 global_average_pooling2d\n",
            "3 reshape\n",
            "4 dense_48\n",
            "5 multiply_4\n",
            "6 add\n",
            "7 batch_normalization_970\n",
            "8 activation_970\n",
            "9 block_1\n",
            "10 max_pooling2d_39\n",
            "11 input2\n",
            "12 flatten_9\n",
            "13 dense_47\n",
            "14 concatenate_17\n",
            "15 dense_49\n",
            "16 input3\n",
            "17 dense_50\n",
            "18 flatten_10\n",
            "19 multiply_5\n",
            "20 dense_51\n",
            "Model: \"model_4\"\n",
            "__________________________________________________________________________________________________\n",
            " Layer (type)                   Output Shape         Param #     Connected to                     \n",
            "==================================================================================================\n",
            " input1 (InputLayer)            [(None, 300, 300, 3  0           []                               \n",
            "                                )]                                                                \n",
            "                                                                                                  \n",
            " inception_resnet_v2 (Functiona  (None, None, None,   54336736   ['input1[0][0]']                 \n",
            " l)                             1536)                                                             \n",
            "                                                                                                  \n",
            " global_average_pooling2d (Glob  (None, 1536)        0           ['inception_resnet_v2[0][0]']    \n",
            " alAveragePooling2D)                                                                              \n",
            "                                                                                                  \n",
            " reshape (Reshape)              (None, 1, 1, 1536)   0           ['global_average_pooling2d[0][0]'\n",
            "                                                                 ]                                \n",
            "                                                                                                  \n",
            " dense_48 (Dense)               (None, 1, 1, 1536)   2360832     ['reshape[0][0]']                \n",
            "                                                                                                  \n",
            " multiply_4 (Multiply)          (None, 8, 8, 1536)   0           ['inception_resnet_v2[0][0]',    \n",
            "                                                                  'dense_48[0][0]']               \n",
            "                                                                                                  \n",
            " add (Add)                      (None, 8, 8, 1536)   0           ['inception_resnet_v2[0][0]',    \n",
            "                                                                  'multiply_4[0][0]']             \n",
            "                                                                                                  \n",
            " batch_normalization_970 (Batch  (None, 8, 8, 1536)  6144        ['add[0][0]']                    \n",
            " Normalization)                                                                                   \n",
            "                                                                                                  \n",
            " activation_970 (Activation)    (None, 8, 8, 1536)   0           ['batch_normalization_970[0][0]']\n",
            "                                                                                                  \n",
            " block_1 (MaxPooling2D)         (None, 4, 4, 1536)   0           ['activation_970[0][0]']         \n",
            "                                                                                                  \n",
            " max_pooling2d_39 (MaxPooling2D  (None, 1, 1, 1536)  0           ['block_1[0][0]']                \n",
            " )                                                                                                \n",
            "                                                                                                  \n",
            " input2 (InputLayer)            [(None, 1)]          0           []                               \n",
            "                                                                                                  \n",
            " flatten_9 (Flatten)            (None, 1536)         0           ['max_pooling2d_39[0][0]']       \n",
            "                                                                                                  \n",
            " dense_47 (Dense)               (None, 16)           32          ['input2[0][0]']                 \n",
            "                                                                                                  \n",
            " concatenate_17 (Concatenate)   (None, 1552)         0           ['flatten_9[0][0]',              \n",
            "                                                                  'dense_47[0][0]']               \n",
            "                                                                                                  \n",
            " dense_49 (Dense)               (None, 256)          397568      ['concatenate_17[0][0]']         \n",
            "                                                                                                  \n",
            " input3 (InputLayer)            [(None, 2, 114)]     0           []                               \n",
            "                                                                                                  \n",
            " dense_50 (Dense)               (None, 228)          58596       ['dense_49[0][0]']               \n",
            "                                                                                                  \n",
            " flatten_10 (Flatten)           (None, 228)          0           ['input3[0][0]']                 \n",
            "                                                                                                  \n",
            " multiply_5 (Multiply)          (None, 228)          0           ['dense_50[0][0]',               \n",
            "                                                                  'flatten_10[0][0]']             \n",
            "                                                                                                  \n",
            " dense_51 (Dense)               (None, 1)            229         ['multiply_5[0][0]']             \n",
            "                                                                                                  \n",
            "==================================================================================================\n",
            "Total params: 57,160,137\n",
            "Trainable params: 57,096,521\n",
            "Non-trainable params: 63,616\n",
            "__________________________________________________________________________________________________\n"
          ]
        },
        {
          "output_type": "stream",
          "name": "stderr",
          "text": [
            "WARNING:tensorflow:`period` argument is deprecated. Please use `save_freq` to specify the frequency in number of batches seen.\n"
          ]
        },
        {
          "output_type": "stream",
          "name": "stdout",
          "text": [
            "Epoch 1/10\n",
            "840/840 [==============================] - 120s 121ms/step - loss: 121.3329 - MAE: 121.3329 - val_loss: 33.4999 - val_MAE: 33.4999\n",
            "Epoch 2/10\n",
            "840/840 [==============================] - 98s 117ms/step - loss: 26.7674 - MAE: 26.7674 - val_loss: 77.9004 - val_MAE: 77.9004\n",
            "Epoch 3/10\n",
            "840/840 [==============================] - 99s 117ms/step - loss: 17.5045 - MAE: 17.5045 - val_loss: 27.5754 - val_MAE: 27.5754\n",
            "Epoch 4/10\n",
            "840/840 [==============================] - 100s 119ms/step - loss: 15.1603 - MAE: 15.1603 - val_loss: 17.6544 - val_MAE: 17.6544\n",
            "Epoch 5/10\n",
            "840/840 [==============================] - 100s 119ms/step - loss: 13.7838 - MAE: 13.7838 - val_loss: 17.2259 - val_MAE: 17.2259\n",
            "Epoch 6/10\n",
            "840/840 [==============================] - 100s 119ms/step - loss: 13.0907 - MAE: 13.0907 - val_loss: 15.0688 - val_MAE: 15.0688\n",
            "Epoch 7/10\n",
            "840/840 [==============================] - 99s 118ms/step - loss: 12.1798 - MAE: 12.1798 - val_loss: 23.4317 - val_MAE: 23.4317\n",
            "Epoch 8/10\n",
            "840/840 [==============================] - 99s 118ms/step - loss: 12.2342 - MAE: 12.2342 - val_loss: 42.8736 - val_MAE: 42.8736\n",
            "Epoch 9/10\n",
            "840/840 [==============================] - 99s 117ms/step - loss: 11.6267 - MAE: 11.6267 - val_loss: 12.1052 - val_MAE: 12.1052\n",
            "Epoch 10/10\n",
            "840/840 [==============================] - 99s 118ms/step - loss: 11.3669 - MAE: 11.3669 - val_loss: 11.3812 - val_MAE: 11.3812\n",
            "45/45 [==============================] - 3s 71ms/step - loss: 9.7408 - MAE: 9.7408\n",
            "Test loss: 9.740846633911133\n",
            "Test MAE: 9.740846633911133\n"
          ]
        }
      ],
      "source": [
        "import tensorflow as tf\n",
        "from tensorflow.keras.applications.inception_resnet_v2 import InceptionResNetV2\n",
        "\n",
        "base_model = InceptionResNetV2(weights='imagenet', include_top=False)\n",
        "input = Input(shape=(300,300,3),name='input1')\n",
        "input_gender = Input(shape=(1,),dtype='float32',name='input2')\n",
        "input_age = Input(shape=(2,114),dtype='float32',name='input3')\n",
        "output = base_model(input)\n",
        "gender_embedding=Dense(16)(input_gender)\n",
        "print (K.int_shape(output))\n",
        "sq = keras.layers.GlobalAveragePooling2D()(output)\n",
        "print (K.int_shape(sq))\n",
        "sq = keras.layers.Reshape((1,1,1536))(sq)\n",
        "sq = keras.layers.Dense(units=1536,activation=\"sigmoid\")(sq)\n",
        "block = keras.layers.multiply([output,sq])\n",
        "#fine Squeeze and Excitation 1\n",
        "\n",
        "net = keras.layers.add([output,block])\n",
        "net = keras.layers.BatchNormalization()(net)\n",
        "net = keras.layers.Activation(\"relu\")(net)\n",
        "net = keras.layers.MaxPooling2D(pool_size=(2, 2),name=\"block_1\")(net)\n",
        "print (K.int_shape(net))\n",
        "\n",
        "x = keras.layers.MaxPooling2D(pool_size=(4,4))(net)\n",
        "print (K.int_shape(x))\n",
        "x=Flatten()(x)\n",
        "f = keras.layers.Concatenate(axis=1)([x,gender_embedding])\n",
        "f = Dense(256, activation='relu')(f)\n",
        "x =Dense(228,activation='linear')(f)\n",
        "y=Flatten()(input_age)\n",
        "print(y.shape)\n",
        "f = keras.layers.Multiply()([x,y])\n",
        "predictions=Dense(1)(f)\n",
        "\n",
        "model = Model(inputs=[input,input_gender,input_age], outputs=predictions)\n",
        "for i,layer in enumerate(model.layers):\n",
        "    print (i,layer.name)\n",
        "\n",
        "Adam=tf.keras.optimizers.Adam(lr=0.0001,beta_1=0.9,beta_2=0.999)\n",
        "model.compile(optimizer=Adam, loss='mean_absolute_error', metrics=['MAE'])\n",
        "model.summary()\n",
        "\n",
        "checkpoint =keras.callbacks.ModelCheckpoint(filepath='weights_inres-mul_sq_aug_ndimg.{epoch:02d}-{val_loss:.2f}.hdf5',save_weights_only=True,period=10)\n",
        "#model.fit_generator(DataGen.flow([x_train,gender_train],y_train,batch_size=batch_size),steps_per_epoch=np.ceil(len(y_train)/batch_size),epochs=50,verbose=1,validation_data=([x_valid,gender_valid,agev],y_valid))\n",
        "history4=model.fit([train_x,train_gen,agetr],train_y,batch_size=4,epochs=10,verbose=1,validation_data=([valid_x,valid_gen,agev],valid_y),callbacks = [checkpoint])\n",
        "score = model.evaluate([test_x,test_gen,aget],test_y, batch_size=batch_size)\n",
        "print('Test loss:', score[0])\n",
        "print('Test MAE:', score[1])"
      ]
    },
    {
      "cell_type": "code",
      "execution_count": 75,
      "metadata": {
        "id": "3LW6M-XtvB-E",
        "colab": {
          "base_uri": "https://localhost:8080/",
          "height": 295
        },
        "outputId": "72c221dc-81f7-4448-cabc-11be4cee0d8a"
      },
      "outputs": [
        {
          "output_type": "display_data",
          "data": {
            "text/plain": [
              "<Figure size 432x288 with 1 Axes>"
            ],
            "image/png": "[encoded data removed]"
          },
          "metadata": {
            "needs_background": "light"
          }
        }
      ],
      "source": [
        "plt.plot(history4.history['loss'])\n",
        "plt.plot(history4.history['val_loss'])\n",
        "plt.title('Model loss')\n",
        "plt.ylabel('Loss')\n",
        "plt.xlabel('Epoch')\n",
        "plt.legend(['Train', 'Validation'], loc='upper left')\n",
        "plt.show()"
      ]
    },
    {
      "cell_type": "code",
      "execution_count": 76,
      "metadata": {
        "id": "UjQHE8fMJrKs",
        "colab": {
          "base_uri": "https://localhost:8080/"
        },
        "outputId": "5ddec6e9-7e56-4efd-9669-b0e3db39b949"
      },
      "outputs": [
        {
          "output_type": "stream",
          "name": "stdout",
          "text": [
            "(None, 2048)\n",
            "(None, 5, 5, 2048)\n",
            "(None, 1, 1, 2048)\n",
            "(None, 228)\n",
            "0 input1\n",
            "1 resnet50\n",
            "2 global_average_pooling2d_1\n",
            "3 reshape_1\n",
            "4 dense_53\n",
            "5 multiply_6\n",
            "6 add_1\n",
            "7 batch_normalization_971\n",
            "8 activation_971\n",
            "9 block_1\n",
            "10 max_pooling2d_40\n",
            "11 input2\n",
            "12 flatten_11\n",
            "13 dense_52\n",
            "14 concatenate_18\n",
            "15 dense_54\n",
            "16 input3\n",
            "17 dense_55\n",
            "18 flatten_12\n",
            "19 multiply_7\n",
            "20 dense_56\n",
            "Model: \"model_5\"\n",
            "__________________________________________________________________________________________________\n",
            " Layer (type)                   Output Shape         Param #     Connected to                     \n",
            "==================================================================================================\n",
            " input1 (InputLayer)            [(None, 300, 300, 3  0           []                               \n",
            "                                )]                                                                \n",
            "                                                                                                  \n",
            " resnet50 (Functional)          (None, None, None,   23587712    ['input1[0][0]']                 \n",
            "                                2048)                                                             \n",
            "                                                                                                  \n",
            " global_average_pooling2d_1 (Gl  (None, 2048)        0           ['resnet50[0][0]']               \n",
            " obalAveragePooling2D)                                                                            \n",
            "                                                                                                  \n",
            " reshape_1 (Reshape)            (None, 1, 1, 2048)   0           ['global_average_pooling2d_1[0][0\n",
            "                                                                 ]']                              \n",
            "                                                                                                  \n",
            " dense_53 (Dense)               (None, 1, 1, 2048)   4196352     ['reshape_1[0][0]']              \n",
            "                                                                                                  \n",
            " multiply_6 (Multiply)          (None, 10, 10, 2048  0           ['resnet50[0][0]',               \n",
            "                                )                                 'dense_53[0][0]']               \n",
            "                                                                                                  \n",
            " add_1 (Add)                    (None, 10, 10, 2048  0           ['resnet50[0][0]',               \n",
            "                                )                                 'multiply_6[0][0]']             \n",
            "                                                                                                  \n",
            " batch_normalization_971 (Batch  (None, 10, 10, 2048  8192       ['add_1[0][0]']                  \n",
            " Normalization)                 )                                                                 \n",
            "                                                                                                  \n",
            " activation_971 (Activation)    (None, 10, 10, 2048  0           ['batch_normalization_971[0][0]']\n",
            "                                )                                                                 \n",
            "                                                                                                  \n",
            " block_1 (MaxPooling2D)         (None, 5, 5, 2048)   0           ['activation_971[0][0]']         \n",
            "                                                                                                  \n",
            " max_pooling2d_40 (MaxPooling2D  (None, 1, 1, 2048)  0           ['block_1[0][0]']                \n",
            " )                                                                                                \n",
            "                                                                                                  \n",
            " input2 (InputLayer)            [(None, 1)]          0           []                               \n",
            "                                                                                                  \n",
            " flatten_11 (Flatten)           (None, 2048)         0           ['max_pooling2d_40[0][0]']       \n",
            "                                                                                                  \n",
            " dense_52 (Dense)               (None, 16)           32          ['input2[0][0]']                 \n",
            "                                                                                                  \n",
            " concatenate_18 (Concatenate)   (None, 2064)         0           ['flatten_11[0][0]',             \n",
            "                                                                  'dense_52[0][0]']               \n",
            "                                                                                                  \n",
            " dense_54 (Dense)               (None, 256)          528640      ['concatenate_18[0][0]']         \n",
            "                                                                                                  \n",
            " input3 (InputLayer)            [(None, 2, 114)]     0           []                               \n",
            "                                                                                                  \n",
            " dense_55 (Dense)               (None, 228)          58596       ['dense_54[0][0]']               \n",
            "                                                                                                  \n",
            " flatten_12 (Flatten)           (None, 228)          0           ['input3[0][0]']                 \n",
            "                                                                                                  \n",
            " multiply_7 (Multiply)          (None, 228)          0           ['dense_55[0][0]',               \n",
            "                                                                  'flatten_12[0][0]']             \n",
            "                                                                                                  \n",
            " dense_56 (Dense)               (None, 1)            229         ['multiply_7[0][0]']             \n",
            "                                                                                                  \n",
            "==================================================================================================\n",
            "Total params: 28,379,753\n",
            "Trainable params: 28,322,537\n",
            "Non-trainable params: 57,216\n",
            "__________________________________________________________________________________________________\n"
          ]
        },
        {
          "output_type": "stream",
          "name": "stderr",
          "text": [
            "WARNING:tensorflow:`period` argument is deprecated. Please use `save_freq` to specify the frequency in number of batches seen.\n"
          ]
        },
        {
          "output_type": "stream",
          "name": "stdout",
          "text": [
            "Epoch 1/10\n",
            "840/840 [==============================] - 39s 39ms/step - loss: 111.2518 - MAE: 111.2518 - val_loss: 148.4811 - val_MAE: 148.4811\n",
            "Epoch 2/10\n",
            "840/840 [==============================] - 31s 37ms/step - loss: 22.7380 - MAE: 22.7380 - val_loss: 17.8849 - val_MAE: 17.8849\n",
            "Epoch 3/10\n",
            "840/840 [==============================] - 32s 38ms/step - loss: 18.5039 - MAE: 18.5039 - val_loss: 19.0266 - val_MAE: 19.0266\n",
            "Epoch 4/10\n",
            "840/840 [==============================] - 31s 37ms/step - loss: 16.6202 - MAE: 16.6202 - val_loss: 20.9695 - val_MAE: 20.9695\n",
            "Epoch 5/10\n",
            "840/840 [==============================] - 31s 36ms/step - loss: 16.2887 - MAE: 16.2887 - val_loss: 126.3040 - val_MAE: 126.3040\n",
            "Epoch 6/10\n",
            "840/840 [==============================] - 31s 36ms/step - loss: 16.4792 - MAE: 16.4792 - val_loss: 18.1439 - val_MAE: 18.1439\n",
            "Epoch 7/10\n",
            "840/840 [==============================] - 31s 36ms/step - loss: 15.3784 - MAE: 15.3784 - val_loss: 23.1405 - val_MAE: 23.1405\n",
            "Epoch 8/10\n",
            "840/840 [==============================] - 32s 38ms/step - loss: 14.9157 - MAE: 14.9157 - val_loss: 28.7118 - val_MAE: 28.7118\n",
            "Epoch 9/10\n",
            "840/840 [==============================] - 31s 37ms/step - loss: 14.8185 - MAE: 14.8185 - val_loss: 16.0762 - val_MAE: 16.0762\n",
            "Epoch 10/10\n",
            "840/840 [==============================] - 32s 38ms/step - loss: 14.7709 - MAE: 14.7709 - val_loss: 13.6860 - val_MAE: 13.6860\n",
            "45/45 [==============================] - 2s 37ms/step - loss: 12.5351 - MAE: 12.5351\n",
            "Test loss: 12.535058975219727\n",
            "Test MAE: 12.535058975219727\n"
          ]
        }
      ],
      "source": [
        "import tensorflow as tf\n",
        "#from tensorflow.keras.applications.inception_resnet_v2 import InceptionResNetV2\n",
        "\n",
        "base_model = ResNet50(weights='imagenet', include_top=False)\n",
        "input = Input(shape=(300,300,3),name='input1')\n",
        "input_gender = Input(shape=(1,),dtype='float32',name='input2')\n",
        "input_age = Input(shape=(2,114),dtype='float32',name='input3')\n",
        "output = base_model(input)\n",
        "gender_embedding=Dense(16)(input_gender)\n",
        "\n",
        "sq = keras.layers.GlobalAveragePooling2D()(output)\n",
        "print (K.int_shape(sq))\n",
        "sq = keras.layers.Reshape((1,1,2048))(sq)\n",
        "sq = keras.layers.Dense(units=2048,activation=\"sigmoid\")(sq)\n",
        "block = keras.layers.multiply([output,sq])\n",
        "#fine Squeeze and Excitation 1\n",
        "\n",
        "net = keras.layers.add([output,block])\n",
        "net = keras.layers.BatchNormalization()(net)\n",
        "net = keras.layers.Activation(\"relu\")(net)\n",
        "net = keras.layers.MaxPooling2D(pool_size=(2, 2),name=\"block_1\")(net)\n",
        "print (K.int_shape(net))\n",
        "\n",
        "x = keras.layers.MaxPooling2D(pool_size=(4,4))(net)\n",
        "print (K.int_shape(x))\n",
        "x=Flatten()(x)\n",
        "f = keras.layers.Concatenate(axis=1)([x,gender_embedding])\n",
        "f = Dense(256, activation='relu')(f)\n",
        "x =Dense(228,activation='linear')(f)\n",
        "y=Flatten()(input_age)\n",
        "print(y.shape)\n",
        "f = keras.layers.Multiply()([x,y])\n",
        "predictions=Dense(1)(f)\n",
        "\n",
        "model = Model(inputs=[input,input_gender,input_age], outputs=predictions)\n",
        "for i,layer in enumerate(model.layers):\n",
        "    print (i,layer.name)\n",
        "\n",
        "Adam=tf.keras.optimizers.Adam(lr=0.0001,beta_1=0.9,beta_2=0.999)\n",
        "model.compile(optimizer=Adam, loss='mean_absolute_error', metrics=['MAE'])\n",
        "model.summary()\n",
        "\n",
        "checkpoint =keras.callbacks.ModelCheckpoint(filepath='weights_res-mul_sq_aug_ndimg.{epoch:02d}-{val_loss:.2f}.hdf5',save_weights_only=True,period=10)\n",
        "#model.fit_generator(DataGen.flow([x_train,gender_train],y_train,batch_size=batch_size),steps_per_epoch=np.ceil(len(y_train)/batch_size),epochs=50,verbose=1,validation_data=([x_valid,gender_valid,agev],y_valid))\n",
        "history5=model.fit([train_x,train_gen,agetr],train_y,batch_size=4,epochs=10,verbose=1,validation_data=([valid_x,valid_gen,agev],valid_y),callbacks = [checkpoint])\n",
        "score = model.evaluate([test_x,test_gen,aget],test_y, batch_size=batch_size)\n",
        "print('Test loss:', score[0])\n",
        "print('Test MAE:', score[1])"
      ]
    },
    {
      "cell_type": "code",
      "execution_count": 77,
      "metadata": {
        "id": "-Zt97SCwJrsN",
        "colab": {
          "base_uri": "https://localhost:8080/",
          "height": 295
        },
        "outputId": "64a8bacb-ce83-4b62-beea-9ccf3937db76"
      },
      "outputs": [
        {
          "output_type": "display_data",
          "data": {
            "text/plain": [
              "<Figure size 432x288 with 1 Axes>"
            ],
            "image/png": "[encoded data removed]"
          },
          "metadata": {
            "needs_background": "light"
          }
        }
      ],
      "source": [
        "plt.plot(history5.history['loss'])\n",
        "plt.plot(history5.history['val_loss'])\n",
        "plt.title('Model loss')\n",
        "plt.ylabel('Loss')\n",
        "plt.xlabel('Epoch')\n",
        "plt.legend(['Train', 'Validation'], loc='upper left')\n",
        "plt.show()"
      ]
    },
    {
      "cell_type": "code",
      "source": [
        "import tensorflow as tf\n",
        "#from tensorflow.keras.applications.inception_resnet_v2 import InceptionResNetV2\n",
        "\n",
        "base_model = InceptionV3(weights='imagenet', include_top=False)\n",
        "input = Input(shape=(300,300,3),name='input1')\n",
        "input_gender = Input(shape=(1,),dtype='float32',name='input2')\n",
        "input_age = Input(shape=(2,114),dtype='float32',name='input3')\n",
        "output = base_model(input)\n",
        "gender_embedding=Dense(16)(input_gender)\n",
        "\n",
        "sq = keras.layers.GlobalAveragePooling2D()(output)\n",
        "print (K.int_shape(sq))\n",
        "sq = keras.layers.Reshape((1,1,2048))(sq)\n",
        "sq = keras.layers.Dense(units=2048,activation=\"sigmoid\")(sq)\n",
        "block = keras.layers.multiply([output,sq])\n",
        "#fine Squeeze and Excitation 1\n",
        "\n",
        "net = keras.layers.add([output,block])\n",
        "net = keras.layers.BatchNormalization()(net)\n",
        "net = keras.layers.Activation(\"relu\")(net)\n",
        "net = keras.layers.MaxPooling2D(pool_size=(2, 2),name=\"block_1\")(net)\n",
        "print (K.int_shape(net))\n",
        "\n",
        "x = keras.layers.MaxPooling2D(pool_size=(4,4))(net)\n",
        "print (K.int_shape(x))\n",
        "x=Flatten()(x)\n",
        "f = keras.layers.Concatenate(axis=1)([x,gender_embedding])\n",
        "f = Dense(256, activation='relu')(f)\n",
        "x =Dense(228,activation='linear')(f)\n",
        "y=Flatten()(input_age)\n",
        "print(y.shape)\n",
        "f = keras.layers.Multiply()([x,y])\n",
        "predictions=Dense(1)(f)\n",
        "\n",
        "model = Model(inputs=[input,input_gender,input_age], outputs=predictions)\n",
        "for i,layer in enumerate(model.layers):\n",
        "    print (i,layer.name)\n",
        "\n",
        "Adam=tf.keras.optimizers.Adam(lr=0.0001,beta_1=0.9,beta_2=0.999)\n",
        "model.compile(optimizer=Adam, loss='mean_absolute_error', metrics=['MAE'])\n",
        "model.summary()\n",
        "\n",
        "checkpoint =keras.callbacks.ModelCheckpoint(filepath='weights_inres-mul_sq_aug_ndimg.{epoch:02d}-{val_loss:.2f}.hdf5',save_weights_only=True,period=10)\n",
        "#model.fit_generator(DataGen.flow([x_train,gender_train],y_train,batch_size=batch_size),steps_per_epoch=np.ceil(len(y_train)/batch_size),epochs=50,verbose=1,validation_data=([x_valid,gender_valid,agev],y_valid))\n",
        "history6=model.fit([train_x,train_gen,agetr],train_y,batch_size=4,epochs=10,verbose=1,validation_data=([valid_x,valid_gen,agev],valid_y),callbacks = [checkpoint])\n",
        "score = model.evaluate([test_x,test_gen,aget],test_y, batch_size=batch_size)\n",
        "print('Test loss:', score[0])\n",
        "print('Test MAE:', score[1])"
      ],
      "metadata": {
        "colab": {
          "base_uri": "https://localhost:8080/"
        },
        "id": "C9xryIV6znYt",
        "outputId": "2e8fdaf6-08c8-4176-b006-bd31598c2221"
      },
      "execution_count": 79,
      "outputs": [
        {
          "output_type": "stream",
          "name": "stdout",
          "text": [
            "(None, 2048)\n",
            "(None, 4, 4, 2048)\n",
            "(None, 1, 1, 2048)\n",
            "(None, 228)\n",
            "0 input1\n",
            "1 inception_v3\n",
            "2 global_average_pooling2d_3\n",
            "3 reshape_3\n",
            "4 dense_59\n",
            "5 multiply_8\n",
            "6 add_2\n",
            "7 batch_normalization_1269\n",
            "8 activation_1269\n",
            "9 block_1\n",
            "10 max_pooling2d_49\n",
            "11 input2\n",
            "12 flatten_13\n",
            "13 dense_58\n",
            "14 concatenate_21\n",
            "15 dense_60\n",
            "16 input3\n",
            "17 dense_61\n",
            "18 flatten_14\n",
            "19 multiply_9\n",
            "20 dense_62\n",
            "Model: \"model_6\"\n",
            "__________________________________________________________________________________________________\n",
            " Layer (type)                   Output Shape         Param #     Connected to                     \n",
            "==================================================================================================\n",
            " input1 (InputLayer)            [(None, 300, 300, 3  0           []                               \n",
            "                                )]                                                                \n",
            "                                                                                                  \n",
            " inception_v3 (Functional)      (None, None, None,   21802784    ['input1[0][0]']                 \n",
            "                                2048)                                                             \n",
            "                                                                                                  \n",
            " global_average_pooling2d_3 (Gl  (None, 2048)        0           ['inception_v3[0][0]']           \n",
            " obalAveragePooling2D)                                                                            \n",
            "                                                                                                  \n",
            " reshape_3 (Reshape)            (None, 1, 1, 2048)   0           ['global_average_pooling2d_3[0][0\n",
            "                                                                 ]']                              \n",
            "                                                                                                  \n",
            " dense_59 (Dense)               (None, 1, 1, 2048)   4196352     ['reshape_3[0][0]']              \n",
            "                                                                                                  \n",
            " multiply_8 (Multiply)          (None, 8, 8, 2048)   0           ['inception_v3[0][0]',           \n",
            "                                                                  'dense_59[0][0]']               \n",
            "                                                                                                  \n",
            " add_2 (Add)                    (None, 8, 8, 2048)   0           ['inception_v3[0][0]',           \n",
            "                                                                  'multiply_8[0][0]']             \n",
            "                                                                                                  \n",
            " batch_normalization_1269 (Batc  (None, 8, 8, 2048)  8192        ['add_2[0][0]']                  \n",
            " hNormalization)                                                                                  \n",
            "                                                                                                  \n",
            " activation_1269 (Activation)   (None, 8, 8, 2048)   0           ['batch_normalization_1269[0][0]'\n",
            "                                                                 ]                                \n",
            "                                                                                                  \n",
            " block_1 (MaxPooling2D)         (None, 4, 4, 2048)   0           ['activation_1269[0][0]']        \n",
            "                                                                                                  \n",
            " max_pooling2d_49 (MaxPooling2D  (None, 1, 1, 2048)  0           ['block_1[0][0]']                \n",
            " )                                                                                                \n",
            "                                                                                                  \n",
            " input2 (InputLayer)            [(None, 1)]          0           []                               \n",
            "                                                                                                  \n",
            " flatten_13 (Flatten)           (None, 2048)         0           ['max_pooling2d_49[0][0]']       \n",
            "                                                                                                  \n",
            " dense_58 (Dense)               (None, 16)           32          ['input2[0][0]']                 \n",
            "                                                                                                  \n",
            " concatenate_21 (Concatenate)   (None, 2064)         0           ['flatten_13[0][0]',             \n",
            "                                                                  'dense_58[0][0]']               \n",
            "                                                                                                  \n",
            " dense_60 (Dense)               (None, 256)          528640      ['concatenate_21[0][0]']         \n",
            "                                                                                                  \n",
            " input3 (InputLayer)            [(None, 2, 114)]     0           []                               \n",
            "                                                                                                  \n",
            " dense_61 (Dense)               (None, 228)          58596       ['dense_60[0][0]']               \n",
            "                                                                                                  \n",
            " flatten_14 (Flatten)           (None, 228)          0           ['input3[0][0]']                 \n",
            "                                                                                                  \n",
            " multiply_9 (Multiply)          (None, 228)          0           ['dense_61[0][0]',               \n",
            "                                                                  'flatten_14[0][0]']             \n",
            "                                                                                                  \n",
            " dense_62 (Dense)               (None, 1)            229         ['multiply_9[0][0]']             \n",
            "                                                                                                  \n",
            "==================================================================================================\n",
            "Total params: 26,594,825\n",
            "Trainable params: 26,556,297\n",
            "Non-trainable params: 38,528\n",
            "__________________________________________________________________________________________________\n"
          ]
        },
        {
          "output_type": "stream",
          "name": "stderr",
          "text": [
            "WARNING:tensorflow:`period` argument is deprecated. Please use `save_freq` to specify the frequency in number of batches seen.\n"
          ]
        },
        {
          "output_type": "stream",
          "name": "stdout",
          "text": [
            "Epoch 1/10\n",
            "840/840 [==============================] - 50s 51ms/step - loss: 94.4129 - MAE: 94.4129 - val_loss: 29.8716 - val_MAE: 29.8716\n",
            "Epoch 2/10\n",
            "840/840 [==============================] - 44s 52ms/step - loss: 32.2216 - MAE: 32.2216 - val_loss: 25.4747 - val_MAE: 25.4747\n",
            "Epoch 3/10\n",
            "840/840 [==============================] - 43s 51ms/step - loss: 24.9737 - MAE: 24.9737 - val_loss: 21.4570 - val_MAE: 21.4570\n",
            "Epoch 4/10\n",
            "840/840 [==============================] - 43s 51ms/step - loss: 21.1305 - MAE: 21.1305 - val_loss: 18.1664 - val_MAE: 18.1664\n",
            "Epoch 5/10\n",
            "840/840 [==============================] - 43s 51ms/step - loss: 19.4981 - MAE: 19.4981 - val_loss: 25.9727 - val_MAE: 25.9727\n",
            "Epoch 6/10\n",
            "840/840 [==============================] - 43s 51ms/step - loss: 17.8057 - MAE: 17.8057 - val_loss: 15.9990 - val_MAE: 15.9990\n",
            "Epoch 7/10\n",
            "840/840 [==============================] - 43s 51ms/step - loss: 17.0094 - MAE: 17.0094 - val_loss: 17.9008 - val_MAE: 17.9008\n",
            "Epoch 8/10\n",
            "840/840 [==============================] - 43s 51ms/step - loss: 15.9866 - MAE: 15.9866 - val_loss: 17.7551 - val_MAE: 17.7551\n",
            "Epoch 9/10\n",
            "840/840 [==============================] - 41s 49ms/step - loss: 16.0452 - MAE: 16.0452 - val_loss: 16.2072 - val_MAE: 16.2072\n",
            "Epoch 10/10\n",
            "840/840 [==============================] - 41s 49ms/step - loss: 15.7538 - MAE: 15.7538 - val_loss: 20.7735 - val_MAE: 20.7735\n",
            "45/45 [==============================] - 1s 32ms/step - loss: 17.5414 - MAE: 17.5414\n",
            "Test loss: 17.541414260864258\n",
            "Test MAE: 17.541414260864258\n"
          ]
        }
      ]
    },
    {
      "cell_type": "code",
      "source": [
        "plt.plot(history6.history['loss'])\n",
        "plt.plot(history6.history['val_loss'])\n",
        "plt.title('Model loss')\n",
        "plt.ylabel('Loss')\n",
        "plt.xlabel('Epoch')\n",
        "plt.legend(['Train', 'Validation'], loc='upper left')\n",
        "plt.show()"
      ],
      "metadata": {
        "colab": {
          "base_uri": "https://localhost:8080/",
          "height": 295
        },
        "id": "udTnUs1szzwS",
        "outputId": "690e5f19-ef95-49c1-98c3-8e8a764e8fe7"
      },
      "execution_count": 80,
      "outputs": [
        {
          "output_type": "display_data",
          "data": {
            "text/plain": [
              "<Figure size 432x288 with 1 Axes>"
            ],
            "image/png": "[encoded data removed]"
          },
          "metadata": {
            "needs_background": "light"
          }
        }
      ]
    },
    {
      "cell_type": "markdown",
      "source": [
        "#model to experiment on RSNA=========================================1"
      ],
      "metadata": {
        "id": "4PD-q9fbPb7j"
      }
    },
    {
      "cell_type": "code",
      "source": [
        "import tensorflow as tf\n",
        "from tensorflow.keras.applications.inception_resnet_v2 import InceptionResNetV2\n",
        "\n",
        "base_model = InceptionResNetV2(weights='imagenet', include_top=False)\n",
        "input = Input(shape=(300,300,3),name='input1')\n",
        "input_gender = Input(shape=(1,),dtype='float32',name='input2')\n",
        "input_age = Input(shape=(2,114),dtype='float32',name='input3')\n",
        "output = base_model(input)\n",
        "gender_embedding=Dense(16)(input_gender)\n",
        "print (K.int_shape(output))\n",
        "sq = keras.layers.GlobalAveragePooling2D()(output)\n",
        "print (K.int_shape(sq))\n",
        "sq = keras.layers.Reshape((1,1,1536))(sq)\n",
        "sq = keras.layers.Dense(units=1536,activation=\"sigmoid\")(sq)\n",
        "block = keras.layers.multiply([output,sq])\n",
        "#fine Squeeze and Excitation 1\n",
        "\n",
        "net = keras.layers.add([output,block])\n",
        "net = keras.layers.BatchNormalization()(net)\n",
        "net = keras.layers.Activation(\"relu\")(net)\n",
        "net = keras.layers.MaxPooling2D(pool_size=(2, 2),name=\"block_1\")(net)\n",
        "print (K.int_shape(net))\n",
        "\n",
        "x = keras.layers.MaxPooling2D(pool_size=(4,4))(net)\n",
        "print (K.int_shape(x))\n",
        "x=Flatten()(x)\n",
        "f = keras.layers.Concatenate(axis=1)([x,gender_embedding])\n",
        "f = Dense(256, activation='relu')(f)\n",
        "x =Dense(228,activation='linear')(f)\n",
        "y=Flatten()(input_age)\n",
        "print(y.shape)\n",
        "f = keras.layers.Multiply()([x,y])\n",
        "predictions=Dense(1)(f)\n",
        "\n",
        "model = Model(inputs=[input,input_gender,input_age], outputs=predictions)\n",
        "for i,layer in enumerate(model.layers):\n",
        "    print (i,layer.name)\n",
        "\n",
        "Adam=tf.keras.optimizers.Adam(lr=0.0001,beta_1=0.9,beta_2=0.999)\n",
        "model.compile(optimizer=Adam, loss='mean_absolute_error', metrics=['MAE'])\n",
        "model.summary()\n",
        "\n",
        "checkpoint =keras.callbacks.ModelCheckpoint(filepath='weights_inres-mul_sq_aug20_ndimg.{epoch:02d}-{val_loss:.2f}.hdf5',save_weights_only=True,period=20)\n",
        "#model.fit_generator(DataGen.flow([x_train,gender_train],y_train,batch_size=batch_size),steps_per_epoch=np.ceil(len(y_train)/batch_size),epochs=50,verbose=1,validation_data=([x_valid,gender_valid,agev],y_valid))\n",
        "history4=model.fit([train_x,train_gen,agetr],train_y,batch_size=4,epochs=20,verbose=1,validation_data=([valid_x,valid_gen,agev],valid_y),callbacks = [checkpoint])\n",
        "score = model.evaluate([test_x,test_gen,aget],test_y, batch_size=batch_size)\n",
        "print('Test loss:', score[0])\n",
        "print('Test MAE:', score[1])"
      ],
      "metadata": {
        "colab": {
          "base_uri": "https://localhost:8080/"
        },
        "id": "cM5ljFdgz3mQ",
        "outputId": "ca44cbe3-ddda-4d81-f3d4-6600df434164"
      },
      "execution_count": 81,
      "outputs": [
        {
          "output_type": "stream",
          "name": "stdout",
          "text": [
            "(None, 8, 8, 1536)\n",
            "(None, 1536)\n",
            "(None, 4, 4, 1536)\n",
            "(None, 1, 1, 1536)\n",
            "(None, 228)\n",
            "0 input1\n",
            "1 inception_resnet_v2\n",
            "2 global_average_pooling2d_4\n",
            "3 reshape_4\n",
            "4 dense_64\n",
            "5 multiply_10\n",
            "6 add_3\n",
            "7 batch_normalization_1473\n",
            "8 activation_1473\n",
            "9 block_1\n",
            "10 max_pooling2d_54\n",
            "11 input2\n",
            "12 flatten_15\n",
            "13 dense_63\n",
            "14 concatenate_22\n",
            "15 dense_65\n",
            "16 input3\n",
            "17 dense_66\n",
            "18 flatten_16\n",
            "19 multiply_11\n",
            "20 dense_67\n",
            "Model: \"model_7\"\n",
            "__________________________________________________________________________________________________\n",
            " Layer (type)                   Output Shape         Param #     Connected to                     \n",
            "==================================================================================================\n",
            " input1 (InputLayer)            [(None, 300, 300, 3  0           []                               \n",
            "                                )]                                                                \n",
            "                                                                                                  \n",
            " inception_resnet_v2 (Functiona  (None, None, None,   54336736   ['input1[0][0]']                 \n",
            " l)                             1536)                                                             \n",
            "                                                                                                  \n",
            " global_average_pooling2d_4 (Gl  (None, 1536)        0           ['inception_resnet_v2[0][0]']    \n",
            " obalAveragePooling2D)                                                                            \n",
            "                                                                                                  \n",
            " reshape_4 (Reshape)            (None, 1, 1, 1536)   0           ['global_average_pooling2d_4[0][0\n",
            "                                                                 ]']                              \n",
            "                                                                                                  \n",
            " dense_64 (Dense)               (None, 1, 1, 1536)   2360832     ['reshape_4[0][0]']              \n",
            "                                                                                                  \n",
            " multiply_10 (Multiply)         (None, 8, 8, 1536)   0           ['inception_resnet_v2[0][0]',    \n",
            "                                                                  'dense_64[0][0]']               \n",
            "                                                                                                  \n",
            " add_3 (Add)                    (None, 8, 8, 1536)   0           ['inception_resnet_v2[0][0]',    \n",
            "                                                                  'multiply_10[0][0]']            \n",
            "                                                                                                  \n",
            " batch_normalization_1473 (Batc  (None, 8, 8, 1536)  6144        ['add_3[0][0]']                  \n",
            " hNormalization)                                                                                  \n",
            "                                                                                                  \n",
            " activation_1473 (Activation)   (None, 8, 8, 1536)   0           ['batch_normalization_1473[0][0]'\n",
            "                                                                 ]                                \n",
            "                                                                                                  \n",
            " block_1 (MaxPooling2D)         (None, 4, 4, 1536)   0           ['activation_1473[0][0]']        \n",
            "                                                                                                  \n",
            " max_pooling2d_54 (MaxPooling2D  (None, 1, 1, 1536)  0           ['block_1[0][0]']                \n",
            " )                                                                                                \n",
            "                                                                                                  \n",
            " input2 (InputLayer)            [(None, 1)]          0           []                               \n",
            "                                                                                                  \n",
            " flatten_15 (Flatten)           (None, 1536)         0           ['max_pooling2d_54[0][0]']       \n",
            "                                                                                                  \n",
            " dense_63 (Dense)               (None, 16)           32          ['input2[0][0]']                 \n",
            "                                                                                                  \n",
            " concatenate_22 (Concatenate)   (None, 1552)         0           ['flatten_15[0][0]',             \n",
            "                                                                  'dense_63[0][0]']               \n",
            "                                                                                                  \n",
            " dense_65 (Dense)               (None, 256)          397568      ['concatenate_22[0][0]']         \n",
            "                                                                                                  \n",
            " input3 (InputLayer)            [(None, 2, 114)]     0           []                               \n",
            "                                                                                                  \n",
            " dense_66 (Dense)               (None, 228)          58596       ['dense_65[0][0]']               \n",
            "                                                                                                  \n",
            " flatten_16 (Flatten)           (None, 228)          0           ['input3[0][0]']                 \n",
            "                                                                                                  \n",
            " multiply_11 (Multiply)         (None, 228)          0           ['dense_66[0][0]',               \n",
            "                                                                  'flatten_16[0][0]']             \n",
            "                                                                                                  \n",
            " dense_67 (Dense)               (None, 1)            229         ['multiply_11[0][0]']            \n",
            "                                                                                                  \n",
            "==================================================================================================\n",
            "Total params: 57,160,137\n",
            "Trainable params: 57,096,521\n",
            "Non-trainable params: 63,616\n",
            "__________________________________________________________________________________________________\n"
          ]
        },
        {
          "output_type": "stream",
          "name": "stderr",
          "text": [
            "WARNING:tensorflow:`period` argument is deprecated. Please use `save_freq` to specify the frequency in number of batches seen.\n"
          ]
        },
        {
          "output_type": "stream",
          "name": "stdout",
          "text": [
            "Epoch 1/20\n",
            "840/840 [==============================] - 118s 118ms/step - loss: 91.8732 - MAE: 91.8732 - val_loss: 70.5875 - val_MAE: 70.5875\n",
            "Epoch 2/20\n",
            "840/840 [==============================] - 96s 114ms/step - loss: 25.2215 - MAE: 25.2215 - val_loss: 21.7448 - val_MAE: 21.7448\n",
            "Epoch 3/20\n",
            "840/840 [==============================] - 98s 116ms/step - loss: 17.4199 - MAE: 17.4199 - val_loss: 33.8633 - val_MAE: 33.8633\n",
            "Epoch 4/20\n",
            "840/840 [==============================] - 101s 120ms/step - loss: 13.9054 - MAE: 13.9054 - val_loss: 28.9600 - val_MAE: 28.9600\n",
            "Epoch 5/20\n",
            "840/840 [==============================] - 102s 122ms/step - loss: 13.3491 - MAE: 13.3491 - val_loss: 16.8387 - val_MAE: 16.8387\n",
            "Epoch 6/20\n",
            "840/840 [==============================] - 101s 121ms/step - loss: 12.3809 - MAE: 12.3809 - val_loss: 22.6816 - val_MAE: 22.6816\n",
            "Epoch 7/20\n",
            "840/840 [==============================] - 99s 118ms/step - loss: 11.2756 - MAE: 11.2756 - val_loss: 14.9913 - val_MAE: 14.9913\n",
            "Epoch 8/20\n",
            "840/840 [==============================] - 99s 117ms/step - loss: 11.5829 - MAE: 11.5829 - val_loss: 11.5874 - val_MAE: 11.5874\n",
            "Epoch 9/20\n",
            "840/840 [==============================] - 98s 117ms/step - loss: 10.5320 - MAE: 10.5320 - val_loss: 12.0773 - val_MAE: 12.0773\n",
            "Epoch 10/20\n",
            "840/840 [==============================] - 102s 121ms/step - loss: 10.2575 - MAE: 10.2575 - val_loss: 12.3597 - val_MAE: 12.3597\n",
            "Epoch 11/20\n",
            "840/840 [==============================] - 102s 121ms/step - loss: 10.4744 - MAE: 10.4744 - val_loss: 15.3211 - val_MAE: 15.3211\n",
            "Epoch 12/20\n",
            "840/840 [==============================] - 102s 122ms/step - loss: 9.6206 - MAE: 9.6206 - val_loss: 16.2828 - val_MAE: 16.2828\n",
            "Epoch 13/20\n",
            "840/840 [==============================] - 101s 121ms/step - loss: 9.4224 - MAE: 9.4224 - val_loss: 12.8224 - val_MAE: 12.8224\n",
            "Epoch 14/20\n",
            "840/840 [==============================] - 101s 120ms/step - loss: 8.6281 - MAE: 8.6281 - val_loss: 13.6287 - val_MAE: 13.6287\n",
            "Epoch 15/20\n",
            "840/840 [==============================] - 99s 117ms/step - loss: 8.3556 - MAE: 8.3556 - val_loss: 12.1342 - val_MAE: 12.1342\n",
            "Epoch 16/20\n",
            "840/840 [==============================] - 97s 115ms/step - loss: 8.2708 - MAE: 8.2708 - val_loss: 12.7462 - val_MAE: 12.7462\n",
            "Epoch 17/20\n",
            "840/840 [==============================] - 95s 113ms/step - loss: 8.1718 - MAE: 8.1718 - val_loss: 12.1420 - val_MAE: 12.1420\n",
            "Epoch 18/20\n",
            "840/840 [==============================] - 96s 114ms/step - loss: 7.3836 - MAE: 7.3836 - val_loss: 15.4296 - val_MAE: 15.4296\n",
            "Epoch 19/20\n",
            "840/840 [==============================] - 96s 115ms/step - loss: 7.2560 - MAE: 7.2560 - val_loss: 8.6274 - val_MAE: 8.6274\n",
            "Epoch 20/20\n",
            "840/840 [==============================] - 97s 116ms/step - loss: 6.7000 - MAE: 6.7000 - val_loss: 9.6673 - val_MAE: 9.6673\n",
            "45/45 [==============================] - 3s 70ms/step - loss: 12.0946 - MAE: 12.0946\n",
            "Test loss: 12.094635009765625\n",
            "Test MAE: 12.094635009765625\n"
          ]
        }
      ]
    },
    {
      "cell_type": "code",
      "source": [
        "plt.plot(history4.history['loss'])\n",
        "plt.plot(history4.history['val_loss'])\n",
        "plt.title('Model loss')\n",
        "plt.ylabel('Loss')\n",
        "plt.xlabel('Epoch')\n",
        "plt.legend(['Train', 'Validation'], loc='upper left')\n",
        "plt.show()"
      ],
      "metadata": {
        "colab": {
          "base_uri": "https://localhost:8080/",
          "height": 295
        },
        "id": "F8CdMcOX_Z3x",
        "outputId": "1a2e0414-288b-4ce5-c484-a51b544884c0"
      },
      "execution_count": 82,
      "outputs": [
        {
          "output_type": "display_data",
          "data": {
            "text/plain": [
              "<Figure size 432x288 with 1 Axes>"
            ],
            "image/png": "[encoded data removed]"
          },
          "metadata": {
            "needs_background": "light"
          }
        }
      ]
    },
    {
      "cell_type": "markdown",
      "source": [
        "#====================================================================================="
      ],
      "metadata": {
        "id": "QwYTjNIzPk2B"
      }
    },
    {
      "cell_type": "markdown",
      "source": [
        "#------------------------------------------------------------------------------------------------------------------------------------------------------------------------"
      ],
      "metadata": {
        "id": "FyNZMTePAktM"
      }
    },
    {
      "cell_type": "code",
      "execution_count": 83,
      "metadata": {
        "colab": {
          "base_uri": "https://localhost:8080/"
        },
        "outputId": "9eea9afb-7d12-43a6-87be-5a8b7bc20ca1",
        "id": "hsYBu8mQAqVB"
      },
      "outputs": [
        {
          "output_type": "stream",
          "name": "stdout",
          "text": [
            "(None, 8, 8, 2048)\n",
            "(None, 8, 8, 2048)\n",
            "(None, 228)\n",
            "0 input1\n",
            "1 inception_v3\n",
            "2 tf.math.reduce_mean_14\n",
            "3 tf.math.reduce_max_14\n",
            "4 dense_69\n",
            "5 dense_71\n",
            "6 dense_70\n",
            "7 dense_72\n",
            "8 tf.__operators__.add_7\n",
            "9 tf.math.sigmoid_14\n",
            "10 tf.math.multiply_14\n",
            "11 max_pooling2d_59\n",
            "12 input2\n",
            "13 flatten_17\n",
            "14 dense_68\n",
            "15 concatenate_25\n",
            "16 dense_73\n",
            "17 input3\n",
            "18 dense_74\n",
            "19 flatten_18\n",
            "20 multiply_12\n",
            "21 dense_75\n",
            "Model: \"model_8\"\n",
            "__________________________________________________________________________________________________\n",
            " Layer (type)                   Output Shape         Param #     Connected to                     \n",
            "==================================================================================================\n",
            " input1 (InputLayer)            [(None, 300, 300, 3  0           []                               \n",
            "                                )]                                                                \n",
            "                                                                                                  \n",
            " inception_v3 (Functional)      (None, None, None,   21802784    ['input1[0][0]']                 \n",
            "                                2048)                                                             \n",
            "                                                                                                  \n",
            " tf.math.reduce_mean_14 (TFOpLa  (None, 1, 1, 2048)  0           ['inception_v3[0][0]']           \n",
            " mbda)                                                                                            \n",
            "                                                                                                  \n",
            " tf.math.reduce_max_14 (TFOpLam  (None, 1, 1, 2048)  0           ['inception_v3[0][0]']           \n",
            " bda)                                                                                             \n",
            "                                                                                                  \n",
            " dense_69 (Dense)               (None, 1, 1, 256)    524544      ['tf.math.reduce_mean_14[0][0]'] \n",
            "                                                                                                  \n",
            " dense_71 (Dense)               (None, 1, 1, 256)    524544      ['tf.math.reduce_max_14[0][0]']  \n",
            "                                                                                                  \n",
            " dense_70 (Dense)               (None, 1, 1, 2048)   526336      ['dense_69[0][0]']               \n",
            "                                                                                                  \n",
            " dense_72 (Dense)               (None, 1, 1, 2048)   526336      ['dense_71[0][0]']               \n",
            "                                                                                                  \n",
            " tf.__operators__.add_7 (TFOpLa  (None, 1, 1, 2048)  0           ['dense_70[0][0]',               \n",
            " mbda)                                                            'dense_72[0][0]']               \n",
            "                                                                                                  \n",
            " tf.math.sigmoid_14 (TFOpLambda  (None, 1, 1, 2048)  0           ['tf.__operators__.add_7[0][0]'] \n",
            " )                                                                                                \n",
            "                                                                                                  \n",
            " tf.math.multiply_14 (TFOpLambd  (None, 8, 8, 2048)  0           ['inception_v3[0][0]',           \n",
            " a)                                                               'tf.math.sigmoid_14[0][0]']     \n",
            "                                                                                                  \n",
            " max_pooling2d_59 (MaxPooling2D  (None, 2, 2, 2048)  0           ['tf.math.multiply_14[0][0]']    \n",
            " )                                                                                                \n",
            "                                                                                                  \n",
            " input2 (InputLayer)            [(None, 1)]          0           []                               \n",
            "                                                                                                  \n",
            " flatten_17 (Flatten)           (None, 8192)         0           ['max_pooling2d_59[0][0]']       \n",
            "                                                                                                  \n",
            " dense_68 (Dense)               (None, 16)           32          ['input2[0][0]']                 \n",
            "                                                                                                  \n",
            " concatenate_25 (Concatenate)   (None, 8208)         0           ['flatten_17[0][0]',             \n",
            "                                                                  'dense_68[0][0]']               \n",
            "                                                                                                  \n",
            " dense_73 (Dense)               (None, 256)          2101504     ['concatenate_25[0][0]']         \n",
            "                                                                                                  \n",
            " input3 (InputLayer)            [(None, 2, 114)]     0           []                               \n",
            "                                                                                                  \n",
            " dense_74 (Dense)               (None, 228)          58596       ['dense_73[0][0]']               \n",
            "                                                                                                  \n",
            " flatten_18 (Flatten)           (None, 228)          0           ['input3[0][0]']                 \n",
            "                                                                                                  \n",
            " multiply_12 (Multiply)         (None, 228)          0           ['dense_74[0][0]',               \n",
            "                                                                  'flatten_18[0][0]']             \n",
            "                                                                                                  \n",
            " dense_75 (Dense)               (None, 1)            229         ['multiply_12[0][0]']            \n",
            "                                                                                                  \n",
            "==================================================================================================\n",
            "Total params: 26,064,905\n",
            "Trainable params: 26,030,473\n",
            "Non-trainable params: 34,432\n",
            "__________________________________________________________________________________________________\n"
          ]
        },
        {
          "output_type": "stream",
          "name": "stderr",
          "text": [
            "/usr/local/lib/python3.8/dist-packages/keras/optimizers/optimizer_v2/adam.py:110: UserWarning: The `lr` argument is deprecated, use `learning_rate` instead.\n",
            "  super(Adam, self).__init__(name, **kwargs)\n",
            "WARNING:tensorflow:`period` argument is deprecated. Please use `save_freq` to specify the frequency in number of batches seen.\n"
          ]
        },
        {
          "output_type": "stream",
          "name": "stdout",
          "text": [
            "Epoch 1/10\n",
            "840/840 [==============================] - 51s 52ms/step - loss: 37.2567 - MAE: 37.2567 - val_loss: 27.8551 - val_MAE: 27.8551\n",
            "Epoch 2/10\n",
            "840/840 [==============================] - 42s 50ms/step - loss: 19.8397 - MAE: 19.8397 - val_loss: 21.8328 - val_MAE: 21.8328\n",
            "Epoch 3/10\n",
            "840/840 [==============================] - 42s 50ms/step - loss: 16.7620 - MAE: 16.7620 - val_loss: 17.9354 - val_MAE: 17.9354\n",
            "Epoch 4/10\n",
            "840/840 [==============================] - 42s 50ms/step - loss: 14.6006 - MAE: 14.6006 - val_loss: 14.9029 - val_MAE: 14.9029\n",
            "Epoch 5/10\n",
            "840/840 [==============================] - 42s 50ms/step - loss: 13.8739 - MAE: 13.8739 - val_loss: 13.8142 - val_MAE: 13.8142\n",
            "Epoch 6/10\n",
            "840/840 [==============================] - 42s 50ms/step - loss: 12.6798 - MAE: 12.6798 - val_loss: 14.5166 - val_MAE: 14.5166\n",
            "Epoch 7/10\n",
            "840/840 [==============================] - 42s 50ms/step - loss: 12.2920 - MAE: 12.2920 - val_loss: 15.8894 - val_MAE: 15.8894\n",
            "Epoch 8/10\n",
            "840/840 [==============================] - 43s 52ms/step - loss: 11.7750 - MAE: 11.7750 - val_loss: 11.9218 - val_MAE: 11.9218\n",
            "Epoch 9/10\n",
            "840/840 [==============================] - 43s 51ms/step - loss: 11.1220 - MAE: 11.1220 - val_loss: 11.1629 - val_MAE: 11.1629\n",
            "Epoch 10/10\n",
            "840/840 [==============================] - 44s 52ms/step - loss: 10.5886 - MAE: 10.5886 - val_loss: 16.5337 - val_MAE: 16.5337\n",
            "45/45 [==============================] - 1s 33ms/step - loss: 15.0570 - MAE: 15.0570\n",
            "Test loss: 15.056994438171387\n",
            "Test MAE: 15.056994438171387\n"
          ]
        }
      ],
      "source": [
        "import tensorflow as tf\n",
        "\n",
        "base_model = InceptionV3(weights='imagenet', include_top=False)\n",
        "input = Input(shape=(300,300,3),name='input1')\n",
        "input_gender = Input(shape=(1,),dtype='float32',name='input2')\n",
        "input_age = Input(shape=(2,114),dtype='float32',name='input3')\n",
        "output = base_model(input)\n",
        "gender_embedding=Dense(16)(input_gender)\n",
        "print (K.int_shape(output))\n",
        "x=channel_attention(output)\n",
        "print (K.int_shape(x))\n",
        "#x=spatial_attention(x)\n",
        "#print (K.int_shape(x))\n",
        "x = keras.layers.MaxPooling2D(pool_size=(4,4))(x)\n",
        "x=Flatten()(x)\n",
        "f = keras.layers.Concatenate(axis=1)([x,gender_embedding])\n",
        "f = Dense(256, activation='relu')(f)\n",
        "x =Dense(228,activation='linear')(f)\n",
        "y=Flatten()(input_age)\n",
        "print(y.shape)\n",
        "f = keras.layers.Multiply()([x,y])\n",
        "predictions=Dense(1)(f)\n",
        "\n",
        "model = Model(inputs=[input,input_gender,input_age], outputs=predictions)\n",
        "for i,layer in enumerate(model.layers):\n",
        "    print (i,layer.name)\n",
        "\n",
        "Adam=tf.keras.optimizers.Adam(lr=0.0001,beta_1=0.9,beta_2=0.999)\n",
        "model.compile(optimizer=Adam, loss='mean_absolute_error', metrics=['MAE'])\n",
        "model.summary()\n",
        "\n",
        "checkpoint =keras.callbacks.ModelCheckpoint(filepath='weights_inv-mul_ch_aug_ndimg.{epoch:02d}-{val_loss:.2f}.hdf5',save_weights_only=True,period=10)\n",
        "#model.fit_generator(DataGen.flow([x_train,gender_train],y_train,batch_size=batch_size),steps_per_epoch=np.ceil(len(y_train)/batch_size),epochs=50,verbose=1,validation_data=([x_valid,gender_valid,agev],y_valid))\n",
        "history1=model.fit([train_x,train_gen,agetr],train_y,batch_size=4,epochs=10,verbose=1,validation_data=([valid_x,valid_gen,agev],valid_y),callbacks = [checkpoint])\n",
        "score = model.evaluate([test_x,test_gen,aget],test_y, batch_size=batch_size)\n",
        "print('Test loss:', score[0])\n",
        "print('Test MAE:', score[1])\n",
        "     "
      ]
    },
    {
      "cell_type": "code",
      "execution_count": 84,
      "metadata": {
        "colab": {
          "base_uri": "https://localhost:8080/",
          "height": 295
        },
        "outputId": "49600709-972e-42ff-f509-69614749ad6d",
        "id": "LEheXZq7AqVE"
      },
      "outputs": [
        {
          "output_type": "display_data",
          "data": {
            "text/plain": [
              "<Figure size 432x288 with 1 Axes>"
            ],
            "image/png": "[encoded data removed]"
          },
          "metadata": {
            "needs_background": "light"
          }
        }
      ],
      "source": [
        "plt.plot(history1.history['loss'])\n",
        "plt.plot(history1.history['val_loss']) \n",
        "plt.title('mulcam_inv aug Model loss')\n",
        "plt.ylabel('Loss')\n",
        "plt.xlabel('Epoch')\n",
        "plt.legend(['Train', 'Validation'], loc='upper left')\n",
        "plt.show()"
      ]
    },
    {
      "cell_type": "code",
      "execution_count": 85,
      "metadata": {
        "colab": {
          "base_uri": "https://localhost:8080/"
        },
        "outputId": "111b995a-29f1-46a0-ad43-f7f18fff7f9e",
        "id": "eR1uWH7aAqVF"
      },
      "outputs": [
        {
          "output_type": "stream",
          "name": "stdout",
          "text": [
            "(None, 8, 8, 1536)\n",
            "(None, 228)\n",
            "0 input1\n",
            "1 inception_resnet_v2\n",
            "2 tf.math.reduce_mean_15\n",
            "3 tf.math.reduce_max_15\n",
            "4 dense_77\n",
            "5 dense_79\n",
            "6 dense_78\n",
            "7 dense_80\n",
            "8 tf.__operators__.add_8\n",
            "9 tf.math.sigmoid_15\n",
            "10 tf.math.multiply_15\n",
            "11 max_pooling2d_64\n",
            "12 input2\n",
            "13 flatten_19\n",
            "14 dense_76\n",
            "15 concatenate_26\n",
            "16 dense_81\n",
            "17 input3\n",
            "18 dense_82\n",
            "19 flatten_20\n",
            "20 multiply_13\n",
            "21 dense_83\n",
            "Model: \"model_9\"\n",
            "__________________________________________________________________________________________________\n",
            " Layer (type)                   Output Shape         Param #     Connected to                     \n",
            "==================================================================================================\n",
            " input1 (InputLayer)            [(None, 300, 300, 3  0           []                               \n",
            "                                )]                                                                \n",
            "                                                                                                  \n",
            " inception_resnet_v2 (Functiona  (None, None, None,   54336736   ['input1[0][0]']                 \n",
            " l)                             1536)                                                             \n",
            "                                                                                                  \n",
            " tf.math.reduce_mean_15 (TFOpLa  (None, 1, 1, 1536)  0           ['inception_resnet_v2[0][0]']    \n",
            " mbda)                                                                                            \n",
            "                                                                                                  \n",
            " tf.math.reduce_max_15 (TFOpLam  (None, 1, 1, 1536)  0           ['inception_resnet_v2[0][0]']    \n",
            " bda)                                                                                             \n",
            "                                                                                                  \n",
            " dense_77 (Dense)               (None, 1, 1, 192)    295104      ['tf.math.reduce_mean_15[0][0]'] \n",
            "                                                                                                  \n",
            " dense_79 (Dense)               (None, 1, 1, 192)    295104      ['tf.math.reduce_max_15[0][0]']  \n",
            "                                                                                                  \n",
            " dense_78 (Dense)               (None, 1, 1, 1536)   296448      ['dense_77[0][0]']               \n",
            "                                                                                                  \n",
            " dense_80 (Dense)               (None, 1, 1, 1536)   296448      ['dense_79[0][0]']               \n",
            "                                                                                                  \n",
            " tf.__operators__.add_8 (TFOpLa  (None, 1, 1, 1536)  0           ['dense_78[0][0]',               \n",
            " mbda)                                                            'dense_80[0][0]']               \n",
            "                                                                                                  \n",
            " tf.math.sigmoid_15 (TFOpLambda  (None, 1, 1, 1536)  0           ['tf.__operators__.add_8[0][0]'] \n",
            " )                                                                                                \n",
            "                                                                                                  \n",
            " tf.math.multiply_15 (TFOpLambd  (None, 8, 8, 1536)  0           ['inception_resnet_v2[0][0]',    \n",
            " a)                                                               'tf.math.sigmoid_15[0][0]']     \n",
            "                                                                                                  \n",
            " max_pooling2d_64 (MaxPooling2D  (None, 2, 2, 1536)  0           ['tf.math.multiply_15[0][0]']    \n",
            " )                                                                                                \n",
            "                                                                                                  \n",
            " input2 (InputLayer)            [(None, 1)]          0           []                               \n",
            "                                                                                                  \n",
            " flatten_19 (Flatten)           (None, 6144)         0           ['max_pooling2d_64[0][0]']       \n",
            "                                                                                                  \n",
            " dense_76 (Dense)               (None, 16)           32          ['input2[0][0]']                 \n",
            "                                                                                                  \n",
            " concatenate_26 (Concatenate)   (None, 6160)         0           ['flatten_19[0][0]',             \n",
            "                                                                  'dense_76[0][0]']               \n",
            "                                                                                                  \n",
            " dense_81 (Dense)               (None, 256)          1577216     ['concatenate_26[0][0]']         \n",
            "                                                                                                  \n",
            " input3 (InputLayer)            [(None, 2, 114)]     0           []                               \n",
            "                                                                                                  \n",
            " dense_82 (Dense)               (None, 228)          58596       ['dense_81[0][0]']               \n",
            "                                                                                                  \n",
            " flatten_20 (Flatten)           (None, 228)          0           ['input3[0][0]']                 \n",
            "                                                                                                  \n",
            " multiply_13 (Multiply)         (None, 228)          0           ['dense_82[0][0]',               \n",
            "                                                                  'flatten_20[0][0]']             \n",
            "                                                                                                  \n",
            " dense_83 (Dense)               (None, 1)            229         ['multiply_13[0][0]']            \n",
            "                                                                                                  \n",
            "==================================================================================================\n",
            "Total params: 57,155,913\n",
            "Trainable params: 57,095,369\n",
            "Non-trainable params: 60,544\n",
            "__________________________________________________________________________________________________\n"
          ]
        },
        {
          "output_type": "stream",
          "name": "stderr",
          "text": [
            "WARNING:tensorflow:`period` argument is deprecated. Please use `save_freq` to specify the frequency in number of batches seen.\n"
          ]
        },
        {
          "output_type": "stream",
          "name": "stdout",
          "text": [
            "Epoch 1/10\n",
            "840/840 [==============================] - 124s 124ms/step - loss: 37.4805 - MAE: 37.4805 - val_loss: 1956.7668 - val_MAE: 1956.7668\n",
            "Epoch 2/10\n",
            "840/840 [==============================] - 98s 117ms/step - loss: 17.8476 - MAE: 17.8476 - val_loss: 138.4514 - val_MAE: 138.4514\n",
            "Epoch 3/10\n",
            "840/840 [==============================] - 101s 120ms/step - loss: 14.7037 - MAE: 14.7037 - val_loss: 577.7880 - val_MAE: 577.7880\n",
            "Epoch 4/10\n",
            "840/840 [==============================] - 101s 121ms/step - loss: 12.3078 - MAE: 12.3078 - val_loss: 93.2023 - val_MAE: 93.2023\n",
            "Epoch 5/10\n",
            "840/840 [==============================] - 101s 120ms/step - loss: 11.4208 - MAE: 11.4208 - val_loss: 95.4925 - val_MAE: 95.4925\n",
            "Epoch 6/10\n",
            "840/840 [==============================] - 100s 119ms/step - loss: 10.4482 - MAE: 10.4482 - val_loss: 677.0591 - val_MAE: 677.0591\n",
            "Epoch 7/10\n",
            "840/840 [==============================] - 100s 119ms/step - loss: 9.8747 - MAE: 9.8747 - val_loss: 50.4235 - val_MAE: 50.4235\n",
            "Epoch 8/10\n",
            "840/840 [==============================] - 101s 120ms/step - loss: 9.3990 - MAE: 9.3990 - val_loss: 38.8047 - val_MAE: 38.8047\n",
            "Epoch 9/10\n",
            "840/840 [==============================] - 101s 120ms/step - loss: 9.0365 - MAE: 9.0365 - val_loss: 33.2236 - val_MAE: 33.2236\n",
            "Epoch 10/10\n",
            "840/840 [==============================] - 102s 121ms/step - loss: 8.4868 - MAE: 8.4868 - val_loss: 330.8495 - val_MAE: 330.8495\n",
            "45/45 [==============================] - 3s 72ms/step - loss: 48.4504 - MAE: 48.4504\n",
            "Test loss: 48.450416564941406\n",
            "Test MAE: 48.450416564941406\n"
          ]
        }
      ],
      "source": [
        "import tensorflow as tf\n",
        "from tensorflow.keras.applications.inception_resnet_v2 import InceptionResNetV2\n",
        "\n",
        "base_model = InceptionResNetV2(weights='imagenet', include_top=False)\n",
        "input = Input(shape=(300,300,3),name='input1')\n",
        "input_gender = Input(shape=(1,),dtype='float32',name='input2')\n",
        "input_age = Input(shape=(2,114),dtype='float32',name='input3')\n",
        "output = base_model(input)\n",
        "gender_embedding=Dense(16)(input_gender)\n",
        "print (K.int_shape(output))\n",
        "x=channel_attention(output)\n",
        "#print (K.int_shape(x))\n",
        "#x=spatial_attention(x)\n",
        "#print (K.int_shape(x))\n",
        "x = keras.layers.MaxPooling2D(pool_size=(4,4))(x)\n",
        "x=Flatten()(x)\n",
        "f = keras.layers.Concatenate(axis=1)([x,gender_embedding])\n",
        "f = Dense(256, activation='relu')(f)\n",
        "x =Dense(228,activation='linear')(f)\n",
        "y=Flatten()(input_age)\n",
        "print(y.shape)\n",
        "f = keras.layers.Multiply()([x,y])\n",
        "predictions=Dense(1)(f)\n",
        "\n",
        "model = Model(inputs=[input,input_gender,input_age], outputs=predictions)\n",
        "for i,layer in enumerate(model.layers):\n",
        "    print (i,layer.name)\n",
        "\n",
        "Adam=tf.keras.optimizers.Adam(lr=0.0001,beta_1=0.9,beta_2=0.999)\n",
        "model.compile(optimizer=Adam, loss='mean_absolute_error', metrics=['MAE'])\n",
        "model.summary()\n",
        "\n",
        "checkpoint =keras.callbacks.ModelCheckpoint(filepath='weights_invres-mul_ch_aug_ndimg.{epoch:02d}-{val_loss:.2f}.hdf5',save_weights_only=True,period=10)\n",
        "#model.fit_generator(DataGen.flow([x_train,gender_train],y_train,batch_size=batch_size),steps_per_epoch=np.ceil(len(y_train)/batch_size),epochs=50,verbose=1,validation_data=([x_valid,gender_valid,agev],y_valid))\n",
        "history2=model.fit([train_x,train_gen,agetr],train_y,batch_size=4,epochs=10,verbose=1,validation_data=([valid_x,valid_gen,agev],valid_y),callbacks = [checkpoint])\n",
        "score = model.evaluate([test_x,test_gen,aget],test_y, batch_size=batch_size)\n",
        "print('Test loss:', score[0])\n",
        "print('Test MAE:', score[1])"
      ]
    },
    {
      "cell_type": "code",
      "execution_count": 86,
      "metadata": {
        "colab": {
          "base_uri": "https://localhost:8080/",
          "height": 295
        },
        "outputId": "99a71154-bbd8-4298-b057-4629e5a0e025",
        "id": "mI-3rRDPAqVG"
      },
      "outputs": [
        {
          "output_type": "display_data",
          "data": {
            "text/plain": [
              "<Figure size 432x288 with 1 Axes>"
            ],
            "image/png": "[encoded data removed]"
          },
          "metadata": {
            "needs_background": "light"
          }
        }
      ],
      "source": [
        "plt.plot(history2.history['loss'])\n",
        "plt.plot(history2.history['val_loss'])\n",
        "plt.title('mulcam aug inres Model loss')\n",
        "plt.ylabel('Loss')\n",
        "plt.xlabel('Epoch')\n",
        "plt.legend(['Train', 'Validation'], loc='upper left')\n",
        "plt.show()"
      ]
    },
    {
      "cell_type": "code",
      "execution_count": 87,
      "metadata": {
        "colab": {
          "base_uri": "https://localhost:8080/"
        },
        "outputId": "a6a684d5-6585-4631-9039-c1a5168cd612",
        "id": "9DuUURUqAqVH"
      },
      "outputs": [
        {
          "output_type": "stream",
          "name": "stdout",
          "text": [
            "(None, 10, 10, 2048)\n",
            "(None, 228)\n",
            "0 input1\n",
            "1 resnet50\n",
            "2 tf.math.reduce_mean_16\n",
            "3 tf.math.reduce_max_16\n",
            "4 dense_85\n",
            "5 dense_87\n",
            "6 dense_86\n",
            "7 dense_88\n",
            "8 tf.__operators__.add_9\n",
            "9 tf.math.sigmoid_16\n",
            "10 tf.math.multiply_16\n",
            "11 max_pooling2d_65\n",
            "12 input2\n",
            "13 flatten_21\n",
            "14 dense_84\n",
            "15 concatenate_27\n",
            "16 dense_89\n",
            "17 input3\n",
            "18 dense_90\n",
            "19 flatten_22\n",
            "20 multiply_14\n",
            "21 dense_91\n",
            "Model: \"model_10\"\n",
            "__________________________________________________________________________________________________\n",
            " Layer (type)                   Output Shape         Param #     Connected to                     \n",
            "==================================================================================================\n",
            " input1 (InputLayer)            [(None, 300, 300, 3  0           []                               \n",
            "                                )]                                                                \n",
            "                                                                                                  \n",
            " resnet50 (Functional)          (None, None, None,   23587712    ['input1[0][0]']                 \n",
            "                                2048)                                                             \n",
            "                                                                                                  \n",
            " tf.math.reduce_mean_16 (TFOpLa  (None, 1, 1, 2048)  0           ['resnet50[0][0]']               \n",
            " mbda)                                                                                            \n",
            "                                                                                                  \n",
            " tf.math.reduce_max_16 (TFOpLam  (None, 1, 1, 2048)  0           ['resnet50[0][0]']               \n",
            " bda)                                                                                             \n",
            "                                                                                                  \n",
            " dense_85 (Dense)               (None, 1, 1, 256)    524544      ['tf.math.reduce_mean_16[0][0]'] \n",
            "                                                                                                  \n",
            " dense_87 (Dense)               (None, 1, 1, 256)    524544      ['tf.math.reduce_max_16[0][0]']  \n",
            "                                                                                                  \n",
            " dense_86 (Dense)               (None, 1, 1, 2048)   526336      ['dense_85[0][0]']               \n",
            "                                                                                                  \n",
            " dense_88 (Dense)               (None, 1, 1, 2048)   526336      ['dense_87[0][0]']               \n",
            "                                                                                                  \n",
            " tf.__operators__.add_9 (TFOpLa  (None, 1, 1, 2048)  0           ['dense_86[0][0]',               \n",
            " mbda)                                                            'dense_88[0][0]']               \n",
            "                                                                                                  \n",
            " tf.math.sigmoid_16 (TFOpLambda  (None, 1, 1, 2048)  0           ['tf.__operators__.add_9[0][0]'] \n",
            " )                                                                                                \n",
            "                                                                                                  \n",
            " tf.math.multiply_16 (TFOpLambd  (None, 10, 10, 2048  0          ['resnet50[0][0]',               \n",
            " a)                             )                                 'tf.math.sigmoid_16[0][0]']     \n",
            "                                                                                                  \n",
            " max_pooling2d_65 (MaxPooling2D  (None, 2, 2, 2048)  0           ['tf.math.multiply_16[0][0]']    \n",
            " )                                                                                                \n",
            "                                                                                                  \n",
            " input2 (InputLayer)            [(None, 1)]          0           []                               \n",
            "                                                                                                  \n",
            " flatten_21 (Flatten)           (None, 8192)         0           ['max_pooling2d_65[0][0]']       \n",
            "                                                                                                  \n",
            " dense_84 (Dense)               (None, 16)           32          ['input2[0][0]']                 \n",
            "                                                                                                  \n",
            " concatenate_27 (Concatenate)   (None, 8208)         0           ['flatten_21[0][0]',             \n",
            "                                                                  'dense_84[0][0]']               \n",
            "                                                                                                  \n",
            " dense_89 (Dense)               (None, 256)          2101504     ['concatenate_27[0][0]']         \n",
            "                                                                                                  \n",
            " input3 (InputLayer)            [(None, 2, 114)]     0           []                               \n",
            "                                                                                                  \n",
            " dense_90 (Dense)               (None, 228)          58596       ['dense_89[0][0]']               \n",
            "                                                                                                  \n",
            " flatten_22 (Flatten)           (None, 228)          0           ['input3[0][0]']                 \n",
            "                                                                                                  \n",
            " multiply_14 (Multiply)         (None, 228)          0           ['dense_90[0][0]',               \n",
            "                                                                  'flatten_22[0][0]']             \n",
            "                                                                                                  \n",
            " dense_91 (Dense)               (None, 1)            229         ['multiply_14[0][0]']            \n",
            "                                                                                                  \n",
            "==================================================================================================\n",
            "Total params: 27,849,833\n",
            "Trainable params: 27,796,713\n",
            "Non-trainable params: 53,120\n",
            "__________________________________________________________________________________________________\n"
          ]
        },
        {
          "output_type": "stream",
          "name": "stderr",
          "text": [
            "WARNING:tensorflow:`period` argument is deprecated. Please use `save_freq` to specify the frequency in number of batches seen.\n"
          ]
        },
        {
          "output_type": "stream",
          "name": "stdout",
          "text": [
            "Epoch 1/10\n",
            "840/840 [==============================] - 40s 41ms/step - loss: 53.2961 - MAE: 53.2961 - val_loss: 50.7739 - val_MAE: 50.7739\n",
            "Epoch 2/10\n",
            "840/840 [==============================] - 33s 39ms/step - loss: 19.7858 - MAE: 19.7858 - val_loss: 19.9620 - val_MAE: 19.9620\n",
            "Epoch 3/10\n",
            "840/840 [==============================] - 33s 39ms/step - loss: 17.1527 - MAE: 17.1527 - val_loss: 16.6624 - val_MAE: 16.6624\n",
            "Epoch 4/10\n",
            "840/840 [==============================] - 33s 39ms/step - loss: 15.4013 - MAE: 15.4013 - val_loss: 22.9924 - val_MAE: 22.9924\n",
            "Epoch 5/10\n",
            "840/840 [==============================] - 33s 39ms/step - loss: 14.5363 - MAE: 14.5363 - val_loss: 18.5528 - val_MAE: 18.5528\n",
            "Epoch 6/10\n",
            "840/840 [==============================] - 32s 39ms/step - loss: 13.4653 - MAE: 13.4653 - val_loss: 18.4762 - val_MAE: 18.4762\n",
            "Epoch 7/10\n",
            "840/840 [==============================] - 33s 40ms/step - loss: 12.7013 - MAE: 12.7013 - val_loss: 18.6331 - val_MAE: 18.6331\n",
            "Epoch 8/10\n",
            "840/840 [==============================] - 33s 39ms/step - loss: 12.5059 - MAE: 12.5059 - val_loss: 21.2745 - val_MAE: 21.2745\n",
            "Epoch 9/10\n",
            "840/840 [==============================] - 33s 40ms/step - loss: 11.8962 - MAE: 11.8962 - val_loss: 16.2814 - val_MAE: 16.2814\n",
            "Epoch 10/10\n",
            "840/840 [==============================] - 34s 40ms/step - loss: 11.4857 - MAE: 11.4857 - val_loss: 19.4557 - val_MAE: 19.4557\n",
            "45/45 [==============================] - 2s 38ms/step - loss: 14.8342 - MAE: 14.8342\n",
            "Test loss: 14.834246635437012\n",
            "Test MAE: 14.834246635437012\n"
          ]
        }
      ],
      "source": [
        "import tensorflow as tf\n",
        "#from tensorflow.keras.applications.inception_resnet_v2 import InceptionResNetV2\n",
        "\n",
        "base_model = ResNet50(weights='imagenet', include_top=False)\n",
        "\n",
        "input = Input(shape=(300,300,3),name='input1')\n",
        "input_gender = Input(shape=(1,),dtype='float32',name='input2')\n",
        "input_age = Input(shape=(2,114),dtype='float32',name='input3')\n",
        "output = base_model(input)\n",
        "gender_embedding=Dense(16)(input_gender)\n",
        "print (K.int_shape(output))\n",
        "x=channel_attention(output)\n",
        "#print (K.int_shape(x))\n",
        "#x=spatial_attention(x)\n",
        "#print (K.int_shape(x))\n",
        "x = keras.layers.MaxPooling2D(pool_size=(4,4))(x)\n",
        "x=Flatten()(x)\n",
        "f = keras.layers.Concatenate(axis=1)([x,gender_embedding])\n",
        "f = Dense(256, activation='relu')(f)\n",
        "x =Dense(228,activation='linear')(f)\n",
        "y=Flatten()(input_age)\n",
        "print(y.shape)\n",
        "f = keras.layers.Multiply()([x,y])\n",
        "predictions=Dense(1)(f)\n",
        "\n",
        "model = Model(inputs=[input,input_gender,input_age], outputs=predictions)\n",
        "for i,layer in enumerate(model.layers):\n",
        "    print (i,layer.name)\n",
        "\n",
        "Adam=tf.keras.optimizers.Adam(lr=0.0001,beta_1=0.9,beta_2=0.999)\n",
        "model.compile(optimizer=Adam, loss='mean_absolute_error', metrics=['MAE'])\n",
        "model.summary()\n",
        "\n",
        "checkpoint =keras.callbacks.ModelCheckpoint(filepath='weights_res-mul_ch_aug_ndimg.{epoch:02d}-{val_loss:.2f}.hdf5',save_weights_only=True,period=10)\n",
        "#model.fit_generator(DataGen.flow([x_train,gender_train],y_train,batch_size=batch_size),steps_per_epoch=np.ceil(len(y_train)/batch_size),epochs=50,verbose=1,validation_data=([x_valid,gender_valid,agev],y_valid))\n",
        "history3=model.fit([train_x,train_gen,agetr],train_y,batch_size=4,epochs=10,verbose=1,validation_data=([valid_x,valid_gen,agev],valid_y),callbacks = [checkpoint])\n",
        "score = model.evaluate([test_x,test_gen,aget],test_y, batch_size=batch_size)\n",
        "print('Test loss:', score[0])\n",
        "print('Test MAE:', score[1])"
      ]
    },
    {
      "cell_type": "code",
      "execution_count": 88,
      "metadata": {
        "colab": {
          "base_uri": "https://localhost:8080/",
          "height": 295
        },
        "outputId": "17882c89-60cc-449b-9d13-fdf400bed519",
        "id": "Ae281xPpAqVI"
      },
      "outputs": [
        {
          "output_type": "display_data",
          "data": {
            "text/plain": [
              "<Figure size 432x288 with 1 Axes>"
            ],
            "image/png": "[encoded data removed]"
          },
          "metadata": {
            "needs_background": "light"
          }
        }
      ],
      "source": [
        "plt.plot(history3.history['loss'])\n",
        "plt.plot(history3.history['val_loss'])\n",
        "plt.title('Model loss')\n",
        "plt.ylabel('Loss')\n",
        "plt.xlabel('Epoch')\n",
        "plt.legend(['Train', 'Validation'], loc='upper left')\n",
        "plt.show()"
      ]
    },
    {
      "cell_type": "markdown",
      "source": [
        "#MOdel to experiment to RSna ===========================================2"
      ],
      "metadata": {
        "id": "5L6Ypkz5P0jE"
      }
    },
    {
      "cell_type": "code",
      "source": [
        "import tensorflow as tf\n",
        "\n",
        "base_model = InceptionV3(weights='imagenet', include_top=False)\n",
        "input = Input(shape=(300,300,3),name='input1')\n",
        "input_gender = Input(shape=(1,),dtype='float32',name='input2')\n",
        "input_age = Input(shape=(2,114),dtype='float32',name='input3')\n",
        "output = base_model(input)\n",
        "gender_embedding=Dense(16)(input_gender)\n",
        "print (K.int_shape(output))\n",
        "x=channel_attention(output)\n",
        "print (K.int_shape(x))\n",
        "#x=spatial_attention(x)\n",
        "#print (K.int_shape(x))\n",
        "x = keras.layers.MaxPooling2D(pool_size=(4,4))(x)\n",
        "x=Flatten()(x)\n",
        "f = keras.layers.Concatenate(axis=1)([x,gender_embedding])\n",
        "f = Dense(256, activation='relu')(f)\n",
        "x =Dense(228,activation='linear')(f)\n",
        "y=Flatten()(input_age)\n",
        "print(y.shape)\n",
        "f = keras.layers.Multiply()([x,y])\n",
        "predictions=Dense(1)(f)\n",
        "\n",
        "model = Model(inputs=[input,input_gender,input_age], outputs=predictions)\n",
        "for i,layer in enumerate(model.layers):\n",
        "    print (i,layer.name)\n",
        "\n",
        "Adam=tf.keras.optimizers.Adam(lr=0.0001,beta_1=0.9,beta_2=0.999)\n",
        "model.compile(optimizer=Adam, loss='mean_absolute_error', metrics=['MAE'])\n",
        "model.summary()\n",
        "\n",
        "checkpoint =keras.callbacks.ModelCheckpoint(filepath='weights_inv-mul_ch_aug_ndimg20.{epoch:02d}-{val_loss:.2f}.hdf5',save_weights_only=True,period=20)\n",
        "#model.fit_generator(DataGen.flow([x_train,gender_train],y_train,batch_size=batch_size),steps_per_epoch=np.ceil(len(y_train)/batch_size),epochs=50,verbose=1,validation_data=([x_valid,gender_valid,agev],y_valid))\n",
        "history1=model.fit([train_x,train_gen,agetr],train_y,batch_size=4,epochs=20,verbose=1,validation_data=([valid_x,valid_gen,agev],valid_y),callbacks = [checkpoint])\n",
        "score = model.evaluate([test_x,test_gen,aget],test_y, batch_size=batch_size)\n",
        "print('Test loss:', score[0])\n",
        "print('Test MAE:', score[1])\n",
        "     "
      ],
      "metadata": {
        "colab": {
          "base_uri": "https://localhost:8080/"
        },
        "id": "ZICyWwtJNHpk",
        "outputId": "3f91d67b-939c-4362-caad-81a41f60475f"
      },
      "execution_count": null,
      "outputs": [
        {
          "metadata": {
            "tags": null
          },
          "name": "stdout",
          "output_type": "stream",
          "text": [
            "(None, 8, 8, 2048)\n",
            "(None, 8, 8, 2048)\n",
            "(None, 228)\n",
            "0 input1\n",
            "1 inception_v3\n",
            "2 tf.math.reduce_mean_17\n",
            "3 tf.math.reduce_max_17\n",
            "4 dense_93\n",
            "5 dense_95\n",
            "6 dense_94\n",
            "7 dense_96\n",
            "8 tf.__operators__.add_10\n",
            "9 tf.math.sigmoid_17\n",
            "10 tf.math.multiply_17\n",
            "11 max_pooling2d_70\n",
            "12 input2\n",
            "13 flatten_23\n",
            "14 dense_92\n",
            "15 concatenate_30\n",
            "16 dense_97\n",
            "17 input3\n",
            "18 dense_98\n",
            "19 flatten_24\n",
            "20 multiply_15\n",
            "21 dense_99\n",
            "Model: \"model_11\"\n",
            "__________________________________________________________________________________________________\n",
            " Layer (type)                   Output Shape         Param #     Connected to                     \n",
            "==================================================================================================\n",
            " input1 (InputLayer)            [(None, 300, 300, 3  0           []                               \n",
            "                                )]                                                                \n",
            "                                                                                                  \n",
            " inception_v3 (Functional)      (None, None, None,   21802784    ['input1[0][0]']                 \n",
            "                                2048)                                                             \n",
            "                                                                                                  \n",
            " tf.math.reduce_mean_17 (TFOpLa  (None, 1, 1, 2048)  0           ['inception_v3[0][0]']           \n",
            " mbda)                                                                                            \n",
            "                                                                                                  \n",
            " tf.math.reduce_max_17 (TFOpLam  (None, 1, 1, 2048)  0           ['inception_v3[0][0]']           \n",
            " bda)                                                                                             \n",
            "                                                                                                  \n",
            " dense_93 (Dense)               (None, 1, 1, 256)    524544      ['tf.math.reduce_mean_17[0][0]'] \n",
            "                                                                                                  \n",
            " dense_95 (Dense)               (None, 1, 1, 256)    524544      ['tf.math.reduce_max_17[0][0]']  \n",
            "                                                                                                  \n",
            " dense_94 (Dense)               (None, 1, 1, 2048)   526336      ['dense_93[0][0]']               \n",
            "                                                                                                  \n",
            " dense_96 (Dense)               (None, 1, 1, 2048)   526336      ['dense_95[0][0]']               \n",
            "                                                                                                  \n",
            " tf.__operators__.add_10 (TFOpL  (None, 1, 1, 2048)  0           ['dense_94[0][0]',               \n",
            " ambda)                                                           'dense_96[0][0]']               \n",
            "                                                                                                  \n",
            " tf.math.sigmoid_17 (TFOpLambda  (None, 1, 1, 2048)  0           ['tf.__operators__.add_10[0][0]']\n",
            " )                                                                                                \n",
            "                                                                                                  \n",
            " tf.math.multiply_17 (TFOpLambd  (None, 8, 8, 2048)  0           ['inception_v3[0][0]',           \n",
            " a)                                                               'tf.math.sigmoid_17[0][0]']     \n",
            "                                                                                                  \n",
            " max_pooling2d_70 (MaxPooling2D  (None, 2, 2, 2048)  0           ['tf.math.multiply_17[0][0]']    \n",
            " )                                                                                                \n",
            "                                                                                                  \n",
            " input2 (InputLayer)            [(None, 1)]          0           []                               \n",
            "                                                                                                  \n",
            " flatten_23 (Flatten)           (None, 8192)         0           ['max_pooling2d_70[0][0]']       \n",
            "                                                                                                  \n",
            " dense_92 (Dense)               (None, 16)           32          ['input2[0][0]']                 \n",
            "                                                                                                  \n",
            " concatenate_30 (Concatenate)   (None, 8208)         0           ['flatten_23[0][0]',             \n",
            "                                                                  'dense_92[0][0]']               \n",
            "                                                                                                  \n",
            " dense_97 (Dense)               (None, 256)          2101504     ['concatenate_30[0][0]']         \n",
            "                                                                                                  \n",
            " input3 (InputLayer)            [(None, 2, 114)]     0           []                               \n",
            "                                                                                                  \n",
            " dense_98 (Dense)               (None, 228)          58596       ['dense_97[0][0]']               \n",
            "                                                                                                  \n",
            " flatten_24 (Flatten)           (None, 228)          0           ['input3[0][0]']                 \n",
            "                                                                                                  \n",
            " multiply_15 (Multiply)         (None, 228)          0           ['dense_98[0][0]',               \n",
            "                                                                  'flatten_24[0][0]']             \n",
            "                                                                                                  \n",
            " dense_99 (Dense)               (None, 1)            229         ['multiply_15[0][0]']            \n",
            "                                                                                                  \n",
            "==================================================================================================\n",
            "Total params: 26,064,905\n",
            "Trainable params: 26,030,473\n",
            "Non-trainable params: 34,432\n",
            "__________________________________________________________________________________________________\n"
          ]
        },
        {
          "metadata": {
            "tags": null
          },
          "name": "stderr",
          "output_type": "stream",
          "text": [
            "WARNING:tensorflow:`period` argument is deprecated. Please use `save_freq` to specify the frequency in number of batches seen.\n"
          ]
        },
        {
          "output_type": "stream",
          "name": "stdout",
          "text": [
            "Epoch 1/20\n",
            "840/840 [==============================] - 53s 54ms/step - loss: 39.1740 - MAE: 39.1740 - val_loss: 21.6757 - val_MAE: 21.6757\n",
            "Epoch 2/20\n",
            "840/840 [==============================] - 43s 51ms/step - loss: 20.2274 - MAE: 20.2274 - val_loss: 15.5431 - val_MAE: 15.5431\n",
            "Epoch 3/20\n",
            "840/840 [==============================] - 43s 51ms/step - loss: 16.4178 - MAE: 16.4178 - val_loss: 17.7789 - val_MAE: 17.7789\n",
            "Epoch 4/20\n",
            "840/840 [==============================] - 45s 53ms/step - loss: 15.2757 - MAE: 15.2757 - val_loss: 14.3333 - val_MAE: 14.3333\n",
            "Epoch 5/20\n",
            "840/840 [==============================] - 45s 54ms/step - loss: 13.7683 - MAE: 13.7683 - val_loss: 13.9659 - val_MAE: 13.9659\n",
            "Epoch 6/20\n",
            "840/840 [==============================] - 45s 54ms/step - loss: 13.3896 - MAE: 13.3896 - val_loss: 13.2844 - val_MAE: 13.2844\n",
            "Epoch 7/20\n",
            "840/840 [==============================] - 45s 54ms/step - loss: 12.8466 - MAE: 12.8466 - val_loss: 18.7166 - val_MAE: 18.7166\n",
            "Epoch 8/20\n",
            "840/840 [==============================] - 46s 55ms/step - loss: 12.1374 - MAE: 12.1374 - val_loss: 15.8333 - val_MAE: 15.8333\n",
            "Epoch 9/20\n",
            "840/840 [==============================] - 45s 54ms/step - loss: 11.3902 - MAE: 11.3902 - val_loss: 17.3208 - val_MAE: 17.3208\n",
            "Epoch 10/20\n",
            "840/840 [==============================] - 46s 54ms/step - loss: 10.9629 - MAE: 10.9629 - val_loss: 11.8676 - val_MAE: 11.8676\n",
            "Epoch 11/20\n",
            "840/840 [==============================] - 45s 54ms/step - loss: 10.1521 - MAE: 10.1521 - val_loss: 11.4438 - val_MAE: 11.4438\n",
            "Epoch 12/20\n",
            "840/840 [==============================] - 46s 55ms/step - loss: 9.7002 - MAE: 9.7002 - val_loss: 11.0143 - val_MAE: 11.0143\n",
            "Epoch 13/20\n",
            "840/840 [==============================] - 45s 54ms/step - loss: 9.0124 - MAE: 9.0124 - val_loss: 18.5502 - val_MAE: 18.5502\n",
            "Epoch 14/20\n",
            "840/840 [==============================] - 45s 54ms/step - loss: 8.8927 - MAE: 8.8927 - val_loss: 10.0476 - val_MAE: 10.0476\n",
            "Epoch 15/20\n",
            "840/840 [==============================] - 45s 54ms/step - loss: 8.2098 - MAE: 8.2098 - val_loss: 10.3856 - val_MAE: 10.3856\n",
            "Epoch 16/20\n",
            "840/840 [==============================] - 45s 53ms/step - loss: 7.9633 - MAE: 7.9633 - val_loss: 10.4738 - val_MAE: 10.4738\n",
            "Epoch 17/20\n",
            "840/840 [==============================] - 44s 53ms/step - loss: 7.6301 - MAE: 7.6301 - val_loss: 11.0171 - val_MAE: 11.0171\n",
            "Epoch 18/20\n",
            "840/840 [==============================] - 45s 53ms/step - loss: 7.7622 - MAE: 7.7622 - val_loss: 10.1891 - val_MAE: 10.1891\n",
            "Epoch 19/20\n",
            "232/840 [=======>......................] - ETA: 29s - loss: 6.8708 - MAE: 6.8708"
          ]
        }
      ]
    },
    {
      "cell_type": "code",
      "source": [
        "plt.plot(history1.history['loss'])\n",
        "plt.plot(history1.history['val_loss'])\n",
        "plt.title('Model loss')\n",
        "plt.ylabel('Loss')\n",
        "plt.xlabel('Epoch')\n",
        "plt.legend(['Train', 'Validation'], loc='upper left')\n",
        "plt.show()"
      ],
      "metadata": {
        "id": "hK4N-Px5Bet1"
      },
      "execution_count": null,
      "outputs": []
    },
    {
      "cell_type": "markdown",
      "source": [
        "#==============================================================================="
      ],
      "metadata": {
        "id": "Ln6Q3tLkP7G3"
      }
    },
    {
      "cell_type": "markdown",
      "source": [
        "#------------------------------------------------------------------------------------------------------------------------------------------------------------------------"
      ],
      "metadata": {
        "id": "uT89OaqSBfJ4"
      }
    }
  ],
  "metadata": {
    "accelerator": "GPU",
    "colab": {
      "machine_shape": "hm",
      "provenance": [],
      "authorship_tag": "ABX9TyPB/tCgKqS3tc7beUqR+tb4",
      "include_colab_link": true
    },
    "gpuClass": "premium",
    "kernelspec": {
      "display_name": "Python 3",
      "name": "python3"
    },
    "language_info": {
      "name": "python"
    }
  },
  "nbformat": 4,
  "nbformat_minor": 0
}