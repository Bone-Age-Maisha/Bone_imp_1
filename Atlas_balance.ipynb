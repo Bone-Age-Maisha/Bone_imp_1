{
  "nbformat": 4,
  "nbformat_minor": 0,
  "metadata": {
    "colab": {
      "provenance": [],
      "authorship_tag": "ABX9TyNkFEC3XhXnBhBvq2mvailu",
      "include_colab_link": true
    },
    "kernelspec": {
      "name": "python3",
      "display_name": "Python 3"
    },
    "language_info": {
      "name": "python"
    },
    "accelerator": "GPU",
    "gpuClass": "standard"
  },
  "cells": [
    {
      "cell_type": "markdown",
      "metadata": {
        "id": "view-in-github",
        "colab_type": "text"
      },
      "source": [
        "<a href=\"https://colab.research.google.com/github/Bone-Age-Maisha/Bone_imp_1/blob/main/Atlas_balance.ipynb\" target=\"_parent\"><img src=\"https://colab.research.google.com/assets/colab-badge.svg\" alt=\"Open In Colab\"/></a>"
      ]
    },
    {
      "cell_type": "code",
      "execution_count": null,
      "metadata": {
        "colab": {
          "base_uri": "https://localhost:8080/"
        },
        "id": "8LKUJy9ID0U2",
        "outputId": "d9337f96-58af-4f36-f504-476a8922ed6f"
      },
      "outputs": [
        {
          "output_type": "stream",
          "name": "stdout",
          "text": [
            "Mounted at /content/drive\n"
          ]
        }
      ],
      "source": [
        "from google.colab import drive\n",
        "drive.mount('/content/drive')"
      ]
    },
    {
      "cell_type": "code",
      "source": [
        "import numpy as np\n",
        "import cv2\n",
        "import os\n",
        "import pandas as pd\n"
      ],
      "metadata": {
        "id": "PxxRCRmoEXGv"
      },
      "execution_count": null,
      "outputs": []
    },
    {
      "cell_type": "code",
      "source": [
        "import pandas as pd\n",
        "train_dir = '/content/drive/MyDrive/hand_atlas/image'\n",
        "df = pd.read_csv('/content/drive/MyDrive/hand_atlas/data.csv')"
      ],
      "metadata": {
        "id": "-InGAyx9JYmj"
      },
      "execution_count": null,
      "outputs": []
    },
    {
      "cell_type": "code",
      "source": [
        "df.id[df.id == 7144].tolist()[0]"
      ],
      "metadata": {
        "colab": {
          "base_uri": "https://localhost:8080/"
        },
        "id": "FCEEscB06lVk",
        "outputId": "0df931b5-287c-44fa-a18f-483910bf8cbc"
      },
      "execution_count": null,
      "outputs": [
        {
          "output_type": "execute_result",
          "data": {
            "text/plain": [
              "7144"
            ]
          },
          "metadata": {},
          "execution_count": 93
        }
      ]
    },
    {
      "cell_type": "code",
      "source": [
        "#df.drop(df.id==7144,axis=1,inplace=True)\n",
        "df.drop(df[(df['id'] == 7144)].index, inplace=True)"
      ],
      "metadata": {
        "id": "bdI72k-f6z-o"
      },
      "execution_count": null,
      "outputs": []
    },
    {
      "cell_type": "code",
      "source": [
        "df.id[df.id == 7144].tolist()[0]"
      ],
      "metadata": {
        "colab": {
          "base_uri": "https://localhost:8080/",
          "height": 165
        },
        "id": "HEo_I8XYuacs",
        "outputId": "d133be75-827b-4cb9-f9d1-36f823149078"
      },
      "execution_count": null,
      "outputs": [
        {
          "output_type": "error",
          "ename": "IndexError",
          "evalue": "ignored",
          "traceback": [
            "\u001b[0;31m---------------------------------------------------------------------------\u001b[0m",
            "\u001b[0;31mIndexError\u001b[0m                                Traceback (most recent call last)",
            "\u001b[0;32m<ipython-input-99-2b0963602fd3>\u001b[0m in \u001b[0;36m<module>\u001b[0;34m\u001b[0m\n\u001b[0;32m----> 1\u001b[0;31m \u001b[0mdf\u001b[0m\u001b[0;34m.\u001b[0m\u001b[0mid\u001b[0m\u001b[0;34m[\u001b[0m\u001b[0mdf\u001b[0m\u001b[0;34m.\u001b[0m\u001b[0mid\u001b[0m \u001b[0;34m==\u001b[0m \u001b[0;36m7144\u001b[0m\u001b[0;34m]\u001b[0m\u001b[0;34m.\u001b[0m\u001b[0mtolist\u001b[0m\u001b[0;34m(\u001b[0m\u001b[0;34m)\u001b[0m\u001b[0;34m[\u001b[0m\u001b[0;36m0\u001b[0m\u001b[0;34m]\u001b[0m\u001b[0;34m\u001b[0m\u001b[0;34m\u001b[0m\u001b[0m\n\u001b[0m",
            "\u001b[0;31mIndexError\u001b[0m: list index out of range"
          ]
        }
      ]
    },
    {
      "cell_type": "code",
      "source": [
        "import tensorflow as tf\n",
        "gpus = tf.config.experimental.list_physical_devices('GPU')\n",
        "tf.config.experimental.set_visible_devices(gpus[0], 'GPU')\n",
        "tf.config.experimental.set_memory_growth(gpus[0], True)"
      ],
      "metadata": {
        "id": "S6eM4ZMoJcqG"
      },
      "execution_count": null,
      "outputs": []
    },
    {
      "cell_type": "code",
      "source": [
        "import os\n",
        "age_df = df \n",
        "age_df['path'] = age_df['id'].map(lambda x: os.path.join(train_dir,\n",
        "                                                         '{}.jpg'.format(x)))\n",
        "age_df['exists'] = age_df['path'].map(os.path.exists)"
      ],
      "metadata": {
        "id": "bvnrl-2MhxXX"
      },
      "execution_count": null,
      "outputs": []
    },
    {
      "cell_type": "code",
      "source": [
        "age_df"
      ],
      "metadata": {
        "colab": {
          "base_uri": "https://localhost:8080/",
          "height": 505
        },
        "id": "1fzYW4-AibxL",
        "outputId": "d9973b04-226d-42db-eb6a-26e4576308f5"
      },
      "execution_count": null,
      "outputs": [
        {
          "output_type": "execute_result",
          "data": {
            "text/plain": [
              "      Unnamed: 0    id  boneage  gender  \\\n",
              "0              0  5014   216.30       1   \n",
              "1              1  5059   221.10       1   \n",
              "2              2  5300   226.40       1   \n",
              "3              3  5084   227.70       1   \n",
              "4              4  5342   224.40       1   \n",
              "...          ...   ...      ...     ...   \n",
              "1382        1382  6106    32.52       0   \n",
              "1383        1383  5234    30.02       0   \n",
              "1384        1384  5334    33.70       0   \n",
              "1385        1385  6131    24.13       0   \n",
              "1386        1386  5131    31.46       0   \n",
              "\n",
              "                                                  path  exists  \n",
              "0     /content/drive/MyDrive/hand_atlas/image/5014.jpg    True  \n",
              "1     /content/drive/MyDrive/hand_atlas/image/5059.jpg    True  \n",
              "2     /content/drive/MyDrive/hand_atlas/image/5300.jpg    True  \n",
              "3     /content/drive/MyDrive/hand_atlas/image/5084.jpg    True  \n",
              "4     /content/drive/MyDrive/hand_atlas/image/5342.jpg    True  \n",
              "...                                                ...     ...  \n",
              "1382  /content/drive/MyDrive/hand_atlas/image/6106.jpg    True  \n",
              "1383  /content/drive/MyDrive/hand_atlas/image/5234.jpg    True  \n",
              "1384  /content/drive/MyDrive/hand_atlas/image/5334.jpg    True  \n",
              "1385  /content/drive/MyDrive/hand_atlas/image/6131.jpg    True  \n",
              "1386  /content/drive/MyDrive/hand_atlas/image/5131.jpg    True  \n",
              "\n",
              "[1386 rows x 6 columns]"
            ],
            "text/html": [
              "\n",
              "  <div id=\"df-ebf22643-d6b2-472f-9a49-31088d579685\">\n",
              "    <div class=\"colab-df-container\">\n",
              "      <div>\n",
              "<style scoped>\n",
              "    .dataframe tbody tr th:only-of-type {\n",
              "        vertical-align: middle;\n",
              "    }\n",
              "\n",
              "    .dataframe tbody tr th {\n",
              "        vertical-align: top;\n",
              "    }\n",
              "\n",
              "    .dataframe thead th {\n",
              "        text-align: right;\n",
              "    }\n",
              "</style>\n",
              "<table border=\"1\" class=\"dataframe\">\n",
              "  <thead>\n",
              "    <tr style=\"text-align: right;\">\n",
              "      <th></th>\n",
              "      <th>Unnamed: 0</th>\n",
              "      <th>id</th>\n",
              "      <th>boneage</th>\n",
              "      <th>gender</th>\n",
              "      <th>path</th>\n",
              "      <th>exists</th>\n",
              "    </tr>\n",
              "  </thead>\n",
              "  <tbody>\n",
              "    <tr>\n",
              "      <th>0</th>\n",
              "      <td>0</td>\n",
              "      <td>5014</td>\n",
              "      <td>216.30</td>\n",
              "      <td>1</td>\n",
              "      <td>/content/drive/MyDrive/hand_atlas/image/5014.jpg</td>\n",
              "      <td>True</td>\n",
              "    </tr>\n",
              "    <tr>\n",
              "      <th>1</th>\n",
              "      <td>1</td>\n",
              "      <td>5059</td>\n",
              "      <td>221.10</td>\n",
              "      <td>1</td>\n",
              "      <td>/content/drive/MyDrive/hand_atlas/image/5059.jpg</td>\n",
              "      <td>True</td>\n",
              "    </tr>\n",
              "    <tr>\n",
              "      <th>2</th>\n",
              "      <td>2</td>\n",
              "      <td>5300</td>\n",
              "      <td>226.40</td>\n",
              "      <td>1</td>\n",
              "      <td>/content/drive/MyDrive/hand_atlas/image/5300.jpg</td>\n",
              "      <td>True</td>\n",
              "    </tr>\n",
              "    <tr>\n",
              "      <th>3</th>\n",
              "      <td>3</td>\n",
              "      <td>5084</td>\n",
              "      <td>227.70</td>\n",
              "      <td>1</td>\n",
              "      <td>/content/drive/MyDrive/hand_atlas/image/5084.jpg</td>\n",
              "      <td>True</td>\n",
              "    </tr>\n",
              "    <tr>\n",
              "      <th>4</th>\n",
              "      <td>4</td>\n",
              "      <td>5342</td>\n",
              "      <td>224.40</td>\n",
              "      <td>1</td>\n",
              "      <td>/content/drive/MyDrive/hand_atlas/image/5342.jpg</td>\n",
              "      <td>True</td>\n",
              "    </tr>\n",
              "    <tr>\n",
              "      <th>...</th>\n",
              "      <td>...</td>\n",
              "      <td>...</td>\n",
              "      <td>...</td>\n",
              "      <td>...</td>\n",
              "      <td>...</td>\n",
              "      <td>...</td>\n",
              "    </tr>\n",
              "    <tr>\n",
              "      <th>1382</th>\n",
              "      <td>1382</td>\n",
              "      <td>6106</td>\n",
              "      <td>32.52</td>\n",
              "      <td>0</td>\n",
              "      <td>/content/drive/MyDrive/hand_atlas/image/6106.jpg</td>\n",
              "      <td>True</td>\n",
              "    </tr>\n",
              "    <tr>\n",
              "      <th>1383</th>\n",
              "      <td>1383</td>\n",
              "      <td>5234</td>\n",
              "      <td>30.02</td>\n",
              "      <td>0</td>\n",
              "      <td>/content/drive/MyDrive/hand_atlas/image/5234.jpg</td>\n",
              "      <td>True</td>\n",
              "    </tr>\n",
              "    <tr>\n",
              "      <th>1384</th>\n",
              "      <td>1384</td>\n",
              "      <td>5334</td>\n",
              "      <td>33.70</td>\n",
              "      <td>0</td>\n",
              "      <td>/content/drive/MyDrive/hand_atlas/image/5334.jpg</td>\n",
              "      <td>True</td>\n",
              "    </tr>\n",
              "    <tr>\n",
              "      <th>1385</th>\n",
              "      <td>1385</td>\n",
              "      <td>6131</td>\n",
              "      <td>24.13</td>\n",
              "      <td>0</td>\n",
              "      <td>/content/drive/MyDrive/hand_atlas/image/6131.jpg</td>\n",
              "      <td>True</td>\n",
              "    </tr>\n",
              "    <tr>\n",
              "      <th>1386</th>\n",
              "      <td>1386</td>\n",
              "      <td>5131</td>\n",
              "      <td>31.46</td>\n",
              "      <td>0</td>\n",
              "      <td>/content/drive/MyDrive/hand_atlas/image/5131.jpg</td>\n",
              "      <td>True</td>\n",
              "    </tr>\n",
              "  </tbody>\n",
              "</table>\n",
              "<p>1386 rows × 6 columns</p>\n",
              "</div>\n",
              "      <button class=\"colab-df-convert\" onclick=\"convertToInteractive('df-ebf22643-d6b2-472f-9a49-31088d579685')\"\n",
              "              title=\"Convert this dataframe to an interactive table.\"\n",
              "              style=\"display:none;\">\n",
              "        \n",
              "  <svg xmlns=\"http://www.w3.org/2000/svg\" height=\"24px\"viewBox=\"0 0 24 24\"\n",
              "       width=\"24px\">\n",
              "    <path d=\"M0 0h24v24H0V0z\" fill=\"none\"/>\n",
              "    <path d=\"M18.56 5.44l.94 2.06.94-2.06 2.06-.94-2.06-.94-.94-2.06-.94 2.06-2.06.94zm-11 1L8.5 8.5l.94-2.06 2.06-.94-2.06-.94L8.5 2.5l-.94 2.06-2.06.94zm10 10l.94 2.06.94-2.06 2.06-.94-2.06-.94-.94-2.06-.94 2.06-2.06.94z\"/><path d=\"M17.41 7.96l-1.37-1.37c-.4-.4-.92-.59-1.43-.59-.52 0-1.04.2-1.43.59L10.3 9.45l-7.72 7.72c-.78.78-.78 2.05 0 2.83L4 21.41c.39.39.9.59 1.41.59.51 0 1.02-.2 1.41-.59l7.78-7.78 2.81-2.81c.8-.78.8-2.07 0-2.86zM5.41 20L4 18.59l7.72-7.72 1.47 1.35L5.41 20z\"/>\n",
              "  </svg>\n",
              "      </button>\n",
              "      \n",
              "  <style>\n",
              "    .colab-df-container {\n",
              "      display:flex;\n",
              "      flex-wrap:wrap;\n",
              "      gap: 12px;\n",
              "    }\n",
              "\n",
              "    .colab-df-convert {\n",
              "      background-color: #E8F0FE;\n",
              "      border: none;\n",
              "      border-radius: 50%;\n",
              "      cursor: pointer;\n",
              "      display: none;\n",
              "      fill: #1967D2;\n",
              "      height: 32px;\n",
              "      padding: 0 0 0 0;\n",
              "      width: 32px;\n",
              "    }\n",
              "\n",
              "    .colab-df-convert:hover {\n",
              "      background-color: #E2EBFA;\n",
              "      box-shadow: 0px 1px 2px rgba(60, 64, 67, 0.3), 0px 1px 3px 1px rgba(60, 64, 67, 0.15);\n",
              "      fill: #174EA6;\n",
              "    }\n",
              "\n",
              "    [theme=dark] .colab-df-convert {\n",
              "      background-color: #3B4455;\n",
              "      fill: #D2E3FC;\n",
              "    }\n",
              "\n",
              "    [theme=dark] .colab-df-convert:hover {\n",
              "      background-color: #434B5C;\n",
              "      box-shadow: 0px 1px 3px 1px rgba(0, 0, 0, 0.15);\n",
              "      filter: drop-shadow(0px 1px 2px rgba(0, 0, 0, 0.3));\n",
              "      fill: #FFFFFF;\n",
              "    }\n",
              "  </style>\n",
              "\n",
              "      <script>\n",
              "        const buttonEl =\n",
              "          document.querySelector('#df-ebf22643-d6b2-472f-9a49-31088d579685 button.colab-df-convert');\n",
              "        buttonEl.style.display =\n",
              "          google.colab.kernel.accessAllowed ? 'block' : 'none';\n",
              "\n",
              "        async function convertToInteractive(key) {\n",
              "          const element = document.querySelector('#df-ebf22643-d6b2-472f-9a49-31088d579685');\n",
              "          const dataTable =\n",
              "            await google.colab.kernel.invokeFunction('convertToInteractive',\n",
              "                                                     [key], {});\n",
              "          if (!dataTable) return;\n",
              "\n",
              "          const docLinkHtml = 'Like what you see? Visit the ' +\n",
              "            '<a target=\"_blank\" href=https://colab.research.google.com/notebooks/data_table.ipynb>data table notebook</a>'\n",
              "            + ' to learn more about interactive tables.';\n",
              "          element.innerHTML = '';\n",
              "          dataTable['output_type'] = 'display_data';\n",
              "          await google.colab.output.renderOutput(dataTable, element);\n",
              "          const docLink = document.createElement('div');\n",
              "          docLink.innerHTML = docLinkHtml;\n",
              "          element.appendChild(docLink);\n",
              "        }\n",
              "      </script>\n",
              "    </div>\n",
              "  </div>\n",
              "  "
            ]
          },
          "metadata": {},
          "execution_count": 102
        }
      ]
    },
    {
      "cell_type": "code",
      "source": [
        "train_df = age_df.groupby(['boneage']).apply(lambda x: x.sample(5, replace = True)\n",
        "                                                      ).reset_index(drop = True)"
      ],
      "metadata": {
        "id": "xExwrOOEiP41"
      },
      "execution_count": null,
      "outputs": []
    },
    {
      "cell_type": "code",
      "source": [
        "train_df"
      ],
      "metadata": {
        "colab": {
          "base_uri": "https://localhost:8080/",
          "height": 505
        },
        "id": "emFKt1b5ilCH",
        "outputId": "970712d6-728f-4521-d437-496ed5cf4843"
      },
      "execution_count": null,
      "outputs": [
        {
          "output_type": "execute_result",
          "data": {
            "text/plain": [
              "      Unnamed: 0    id   boneage  gender  \\\n",
              "0            504  5574    0.3616       1   \n",
              "1            504  5574    0.3616       1   \n",
              "2            504  5574    0.3616       1   \n",
              "3            504  5574    0.3616       1   \n",
              "4            504  5574    0.3616       1   \n",
              "...          ...   ...       ...     ...   \n",
              "5235        1225  5198  228.1000       0   \n",
              "5236        1225  5198  228.1000       0   \n",
              "5237        1225  5198  228.1000       0   \n",
              "5238        1225  5198  228.1000       0   \n",
              "5239        1225  5198  228.1000       0   \n",
              "\n",
              "                                                  path  exists  \n",
              "0     /content/drive/MyDrive/hand_atlas/image/5574.jpg    True  \n",
              "1     /content/drive/MyDrive/hand_atlas/image/5574.jpg    True  \n",
              "2     /content/drive/MyDrive/hand_atlas/image/5574.jpg    True  \n",
              "3     /content/drive/MyDrive/hand_atlas/image/5574.jpg    True  \n",
              "4     /content/drive/MyDrive/hand_atlas/image/5574.jpg    True  \n",
              "...                                                ...     ...  \n",
              "5235  /content/drive/MyDrive/hand_atlas/image/5198.jpg    True  \n",
              "5236  /content/drive/MyDrive/hand_atlas/image/5198.jpg    True  \n",
              "5237  /content/drive/MyDrive/hand_atlas/image/5198.jpg    True  \n",
              "5238  /content/drive/MyDrive/hand_atlas/image/5198.jpg    True  \n",
              "5239  /content/drive/MyDrive/hand_atlas/image/5198.jpg    True  \n",
              "\n",
              "[5240 rows x 6 columns]"
            ],
            "text/html": [
              "\n",
              "  <div id=\"df-0852e636-ad20-4bff-8ae1-70669eac4142\">\n",
              "    <div class=\"colab-df-container\">\n",
              "      <div>\n",
              "<style scoped>\n",
              "    .dataframe tbody tr th:only-of-type {\n",
              "        vertical-align: middle;\n",
              "    }\n",
              "\n",
              "    .dataframe tbody tr th {\n",
              "        vertical-align: top;\n",
              "    }\n",
              "\n",
              "    .dataframe thead th {\n",
              "        text-align: right;\n",
              "    }\n",
              "</style>\n",
              "<table border=\"1\" class=\"dataframe\">\n",
              "  <thead>\n",
              "    <tr style=\"text-align: right;\">\n",
              "      <th></th>\n",
              "      <th>Unnamed: 0</th>\n",
              "      <th>id</th>\n",
              "      <th>boneage</th>\n",
              "      <th>gender</th>\n",
              "      <th>path</th>\n",
              "      <th>exists</th>\n",
              "    </tr>\n",
              "  </thead>\n",
              "  <tbody>\n",
              "    <tr>\n",
              "      <th>0</th>\n",
              "      <td>504</td>\n",
              "      <td>5574</td>\n",
              "      <td>0.3616</td>\n",
              "      <td>1</td>\n",
              "      <td>/content/drive/MyDrive/hand_atlas/image/5574.jpg</td>\n",
              "      <td>True</td>\n",
              "    </tr>\n",
              "    <tr>\n",
              "      <th>1</th>\n",
              "      <td>504</td>\n",
              "      <td>5574</td>\n",
              "      <td>0.3616</td>\n",
              "      <td>1</td>\n",
              "      <td>/content/drive/MyDrive/hand_atlas/image/5574.jpg</td>\n",
              "      <td>True</td>\n",
              "    </tr>\n",
              "    <tr>\n",
              "      <th>2</th>\n",
              "      <td>504</td>\n",
              "      <td>5574</td>\n",
              "      <td>0.3616</td>\n",
              "      <td>1</td>\n",
              "      <td>/content/drive/MyDrive/hand_atlas/image/5574.jpg</td>\n",
              "      <td>True</td>\n",
              "    </tr>\n",
              "    <tr>\n",
              "      <th>3</th>\n",
              "      <td>504</td>\n",
              "      <td>5574</td>\n",
              "      <td>0.3616</td>\n",
              "      <td>1</td>\n",
              "      <td>/content/drive/MyDrive/hand_atlas/image/5574.jpg</td>\n",
              "      <td>True</td>\n",
              "    </tr>\n",
              "    <tr>\n",
              "      <th>4</th>\n",
              "      <td>504</td>\n",
              "      <td>5574</td>\n",
              "      <td>0.3616</td>\n",
              "      <td>1</td>\n",
              "      <td>/content/drive/MyDrive/hand_atlas/image/5574.jpg</td>\n",
              "      <td>True</td>\n",
              "    </tr>\n",
              "    <tr>\n",
              "      <th>...</th>\n",
              "      <td>...</td>\n",
              "      <td>...</td>\n",
              "      <td>...</td>\n",
              "      <td>...</td>\n",
              "      <td>...</td>\n",
              "      <td>...</td>\n",
              "    </tr>\n",
              "    <tr>\n",
              "      <th>5235</th>\n",
              "      <td>1225</td>\n",
              "      <td>5198</td>\n",
              "      <td>228.1000</td>\n",
              "      <td>0</td>\n",
              "      <td>/content/drive/MyDrive/hand_atlas/image/5198.jpg</td>\n",
              "      <td>True</td>\n",
              "    </tr>\n",
              "    <tr>\n",
              "      <th>5236</th>\n",
              "      <td>1225</td>\n",
              "      <td>5198</td>\n",
              "      <td>228.1000</td>\n",
              "      <td>0</td>\n",
              "      <td>/content/drive/MyDrive/hand_atlas/image/5198.jpg</td>\n",
              "      <td>True</td>\n",
              "    </tr>\n",
              "    <tr>\n",
              "      <th>5237</th>\n",
              "      <td>1225</td>\n",
              "      <td>5198</td>\n",
              "      <td>228.1000</td>\n",
              "      <td>0</td>\n",
              "      <td>/content/drive/MyDrive/hand_atlas/image/5198.jpg</td>\n",
              "      <td>True</td>\n",
              "    </tr>\n",
              "    <tr>\n",
              "      <th>5238</th>\n",
              "      <td>1225</td>\n",
              "      <td>5198</td>\n",
              "      <td>228.1000</td>\n",
              "      <td>0</td>\n",
              "      <td>/content/drive/MyDrive/hand_atlas/image/5198.jpg</td>\n",
              "      <td>True</td>\n",
              "    </tr>\n",
              "    <tr>\n",
              "      <th>5239</th>\n",
              "      <td>1225</td>\n",
              "      <td>5198</td>\n",
              "      <td>228.1000</td>\n",
              "      <td>0</td>\n",
              "      <td>/content/drive/MyDrive/hand_atlas/image/5198.jpg</td>\n",
              "      <td>True</td>\n",
              "    </tr>\n",
              "  </tbody>\n",
              "</table>\n",
              "<p>5240 rows × 6 columns</p>\n",
              "</div>\n",
              "      <button class=\"colab-df-convert\" onclick=\"convertToInteractive('df-0852e636-ad20-4bff-8ae1-70669eac4142')\"\n",
              "              title=\"Convert this dataframe to an interactive table.\"\n",
              "              style=\"display:none;\">\n",
              "        \n",
              "  <svg xmlns=\"http://www.w3.org/2000/svg\" height=\"24px\"viewBox=\"0 0 24 24\"\n",
              "       width=\"24px\">\n",
              "    <path d=\"M0 0h24v24H0V0z\" fill=\"none\"/>\n",
              "    <path d=\"M18.56 5.44l.94 2.06.94-2.06 2.06-.94-2.06-.94-.94-2.06-.94 2.06-2.06.94zm-11 1L8.5 8.5l.94-2.06 2.06-.94-2.06-.94L8.5 2.5l-.94 2.06-2.06.94zm10 10l.94 2.06.94-2.06 2.06-.94-2.06-.94-.94-2.06-.94 2.06-2.06.94z\"/><path d=\"M17.41 7.96l-1.37-1.37c-.4-.4-.92-.59-1.43-.59-.52 0-1.04.2-1.43.59L10.3 9.45l-7.72 7.72c-.78.78-.78 2.05 0 2.83L4 21.41c.39.39.9.59 1.41.59.51 0 1.02-.2 1.41-.59l7.78-7.78 2.81-2.81c.8-.78.8-2.07 0-2.86zM5.41 20L4 18.59l7.72-7.72 1.47 1.35L5.41 20z\"/>\n",
              "  </svg>\n",
              "      </button>\n",
              "      \n",
              "  <style>\n",
              "    .colab-df-container {\n",
              "      display:flex;\n",
              "      flex-wrap:wrap;\n",
              "      gap: 12px;\n",
              "    }\n",
              "\n",
              "    .colab-df-convert {\n",
              "      background-color: #E8F0FE;\n",
              "      border: none;\n",
              "      border-radius: 50%;\n",
              "      cursor: pointer;\n",
              "      display: none;\n",
              "      fill: #1967D2;\n",
              "      height: 32px;\n",
              "      padding: 0 0 0 0;\n",
              "      width: 32px;\n",
              "    }\n",
              "\n",
              "    .colab-df-convert:hover {\n",
              "      background-color: #E2EBFA;\n",
              "      box-shadow: 0px 1px 2px rgba(60, 64, 67, 0.3), 0px 1px 3px 1px rgba(60, 64, 67, 0.15);\n",
              "      fill: #174EA6;\n",
              "    }\n",
              "\n",
              "    [theme=dark] .colab-df-convert {\n",
              "      background-color: #3B4455;\n",
              "      fill: #D2E3FC;\n",
              "    }\n",
              "\n",
              "    [theme=dark] .colab-df-convert:hover {\n",
              "      background-color: #434B5C;\n",
              "      box-shadow: 0px 1px 3px 1px rgba(0, 0, 0, 0.15);\n",
              "      filter: drop-shadow(0px 1px 2px rgba(0, 0, 0, 0.3));\n",
              "      fill: #FFFFFF;\n",
              "    }\n",
              "  </style>\n",
              "\n",
              "      <script>\n",
              "        const buttonEl =\n",
              "          document.querySelector('#df-0852e636-ad20-4bff-8ae1-70669eac4142 button.colab-df-convert');\n",
              "        buttonEl.style.display =\n",
              "          google.colab.kernel.accessAllowed ? 'block' : 'none';\n",
              "\n",
              "        async function convertToInteractive(key) {\n",
              "          const element = document.querySelector('#df-0852e636-ad20-4bff-8ae1-70669eac4142');\n",
              "          const dataTable =\n",
              "            await google.colab.kernel.invokeFunction('convertToInteractive',\n",
              "                                                     [key], {});\n",
              "          if (!dataTable) return;\n",
              "\n",
              "          const docLinkHtml = 'Like what you see? Visit the ' +\n",
              "            '<a target=\"_blank\" href=https://colab.research.google.com/notebooks/data_table.ipynb>data table notebook</a>'\n",
              "            + ' to learn more about interactive tables.';\n",
              "          element.innerHTML = '';\n",
              "          dataTable['output_type'] = 'display_data';\n",
              "          await google.colab.output.renderOutput(dataTable, element);\n",
              "          const docLink = document.createElement('div');\n",
              "          docLink.innerHTML = docLinkHtml;\n",
              "          element.appendChild(docLink);\n",
              "        }\n",
              "      </script>\n",
              "    </div>\n",
              "  </div>\n",
              "  "
            ]
          },
          "metadata": {},
          "execution_count": 104
        }
      ]
    },
    {
      "cell_type": "code",
      "source": [
        "from sklearn.model_selection import train_test_split\n",
        "train_test, valid = train_test_split(train_df, \n",
        "                                   test_size = 0.25, \n",
        "                                   random_state = 2018,\n",
        "                                   stratify = train_df['boneage'])\n",
        "#print('train', raw_train_df.shape[0], 'validation', valid_df.shape[0])\n",
        "train, test = train_test_split(train_test, \n",
        "                                   test_size = 0.45, \n",
        "                                   random_state = 2018,\n",
        "                                   stratify = train_test['boneage'])\n",
        "print('train', train.shape[0], 'validation', valid.shape[0],test.shape[0])"
      ],
      "metadata": {
        "colab": {
          "base_uri": "https://localhost:8080/"
        },
        "id": "3g-Gdjk-inAH",
        "outputId": "9e36fe94-d38a-44db-9695-7eade14ba526"
      },
      "execution_count": null,
      "outputs": [
        {
          "output_type": "stream",
          "name": "stdout",
          "text": [
            "train 2161 validation 1310 1769\n"
          ]
        }
      ]
    },
    {
      "cell_type": "code",
      "execution_count": null,
      "metadata": {
        "id": "M1JDJnDr6BGV"
      },
      "outputs": [],
      "source": [
        "from keras.preprocessing.image import ImageDataGenerator\n",
        "IMG_SIZE = (300,300)\n",
        "core_idg = ImageDataGenerator(samplewise_center=True, \n",
        "                              samplewise_std_normalization=True, \n",
        "                              horizontal_flip = True, \n",
        "                              vertical_flip = False, \n",
        "                              height_shift_range = 0.1, \n",
        "                              width_shift_range = 0.1, \n",
        "                              rotation_range = 10, \n",
        "                              shear_range = 0.05,\n",
        "                              fill_mode = 'nearest',\n",
        "                              zoom_range=0.15)"
      ]
    },
    {
      "cell_type": "code",
      "execution_count": null,
      "metadata": {
        "id": "gvplAVVz6E-T"
      },
      "outputs": [],
      "source": [
        "def flow_from_dataframe(img_data_gen, in_df, path_col, y_col, **dflow_args):\n",
        "    base_dir = os.path.dirname(in_df[path_col].values[0])\n",
        "    print('## Ignore next message from keras, values are replaced anyways')\n",
        "    df_gen = img_data_gen.flow_from_directory(base_dir, \n",
        "                                     class_mode = 'sparse',\n",
        "                                    **dflow_args)\n",
        "    df_gen.filenames = in_df[path_col].values\n",
        "    df_gen.filepaths.extend(df_gen.filenames)\n",
        "    df_gen.classes = np.stack(in_df[y_col].values)\n",
        "    df_gen.samples = in_df.shape[0]\n",
        "    df_gen.n = in_df.shape[0]\n",
        "    df_gen._set_index_array()\n",
        "    df_gen.directory = '' \n",
        "    print('Reinserting dataframe: {} images'.format(in_df.shape[0]))\n",
        "    return df_gen"
      ]
    },
    {
      "cell_type": "code",
      "execution_count": null,
      "metadata": {
        "id": "zCfVsIRE6KLF",
        "colab": {
          "base_uri": "https://localhost:8080/"
        },
        "outputId": "7f81ced7-a274-44fb-9bfa-78833f2549fb"
      },
      "outputs": [
        {
          "output_type": "stream",
          "name": "stdout",
          "text": [
            "## Ignore next message from keras, values are replaced anyways\n",
            "Found 0 images belonging to 0 classes.\n",
            "Reinserting dataframe: 2161 images\n"
          ]
        }
      ],
      "source": [
        "train_gen = flow_from_dataframe(core_idg, train, \n",
        "                             path_col = 'path',\n",
        "                            y_col = 'boneage', \n",
        "                            target_size = IMG_SIZE,\n",
        "                             color_mode = 'rgb',\n",
        "                            batch_size = 16)"
      ]
    },
    {
      "cell_type": "code",
      "execution_count": null,
      "metadata": {
        "id": "fY-oZLIfht7c"
      },
      "outputs": [],
      "source": [
        "t_x, t_y = next(train_gen)\n",
        "#/content/drive/MyDrive/hand_atlas/image/3128.jpg"
      ]
    },
    {
      "cell_type": "code",
      "execution_count": null,
      "metadata": {
        "id": "PUjq0oby_k8R"
      },
      "outputs": [],
      "source": [
        "valcore_idg = ImageDataGenerator(samplewise_center=True, \n",
        "                              samplewise_std_normalization=True, \n",
        "                              horizontal_flip = True, \n",
        "                              vertical_flip = False, \n",
        "                              height_shift_range = 0.15, \n",
        "                              width_shift_range = 0.15, \n",
        "                              rotation_range = 20, \n",
        "                              shear_range = 0.04,\n",
        "                              fill_mode = 'nearest',\n",
        "                              zoom_range=0.16)"
      ]
    },
    {
      "cell_type": "code",
      "execution_count": null,
      "metadata": {
        "id": "6Z3ehsMF6MoW",
        "colab": {
          "base_uri": "https://localhost:8080/"
        },
        "outputId": "59f44ccb-9197-478c-d08d-ca3476876c7b"
      },
      "outputs": [
        {
          "output_type": "stream",
          "name": "stdout",
          "text": [
            "## Ignore next message from keras, values are replaced anyways\n",
            "Found 0 images belonging to 0 classes.\n",
            "Reinserting dataframe: 1310 images\n"
          ]
        }
      ],
      "source": [
        "valid_gen = flow_from_dataframe(valcore_idg, valid, \n",
        "                             path_col = 'path',\n",
        "                            y_col = 'boneage', \n",
        "                            target_size = IMG_SIZE,\n",
        "                             color_mode = 'rgb',\n",
        "                            batch_size = 16) "
      ]
    },
    {
      "cell_type": "code",
      "execution_count": null,
      "metadata": {
        "id": "n0fKJw50AZIW"
      },
      "outputs": [],
      "source": [
        "\n",
        "testcore_idg = ImageDataGenerator(samplewise_center=True, \n",
        "                              samplewise_std_normalization=True, \n",
        "                              horizontal_flip = True, \n",
        "                              vertical_flip = False, \n",
        "                              height_shift_range = 0.09, \n",
        "                              width_shift_range = 0.09, \n",
        "                              rotation_range = 15, \n",
        "                              shear_range = 0.045,\n",
        "                              fill_mode = 'nearest',\n",
        "                              zoom_range=0.10)"
      ]
    },
    {
      "cell_type": "code",
      "execution_count": null,
      "metadata": {
        "id": "PqfF_Mtk6qZB",
        "colab": {
          "base_uri": "https://localhost:8080/"
        },
        "outputId": "423135fb-bc5a-454e-969e-ebfab828fe04"
      },
      "outputs": [
        {
          "output_type": "stream",
          "name": "stdout",
          "text": [
            "## Ignore next message from keras, values are replaced anyways\n",
            "Found 0 images belonging to 0 classes.\n",
            "Reinserting dataframe: 1769 images\n"
          ]
        }
      ],
      "source": [
        "test_gen = flow_from_dataframe(testcore_idg, \n",
        "                              test, \n",
        "                             path_col = 'path',\n",
        "                            y_col = 'boneage', \n",
        "                            target_size = IMG_SIZE,\n",
        "                             color_mode = 'rgb',\n",
        "                            batch_size = 16)"
      ]
    },
    {
      "cell_type": "code",
      "execution_count": null,
      "metadata": {
        "id": "amocsfsF7Xyg"
      },
      "outputs": [],
      "source": [
        "test_X, test_Y = next(test_gen)"
      ]
    },
    {
      "cell_type": "code",
      "execution_count": null,
      "metadata": {
        "id": "mfa6nrO2CZxs"
      },
      "outputs": [],
      "source": [
        "val_x,val_y=next(valid_gen)"
      ]
    },
    {
      "cell_type": "code",
      "execution_count": null,
      "metadata": {
        "id": "2A4yFegzBAzR"
      },
      "outputs": [],
      "source": [
        "from tensorflow.keras.applications.resnet50 import ResNet50\n",
        "from keras.applications.vgg19 import VGG19\n",
        "from keras.applications.inception_v3 import InceptionV3\n",
        "from keras.applications.xception import Xception\n",
        "from keras.preprocessing import image\n",
        "from keras.models import Model, load_model\n",
        "from keras.layers import Flatten, Dense, Input, Reshape, Lambda,Conv2D\n",
        "import tensorflow as tf\n",
        "from keras import backend as K\n",
        "import pickle\n",
        "import numpy as np\n",
        "import matplotlib.pyplot as plt\n",
        "import keras\n",
        "#from func_utils import *\n",
        "import os\n",
        "#os.environ[\"CUDA_VISIBLE_DEVICES\"]=\"2\"\n",
        "#os.environ['OMP_NUM_THREADS']='6'\n",
        "batch_size = 32\n",
        "epochs = 30"
      ]
    },
    {
      "cell_type": "code",
      "execution_count": null,
      "metadata": {
        "id": "xA7Uz93QJBhM"
      },
      "outputs": [],
      "source": [
        "def channel_attention(input_feature):\n",
        "  kernel_initializer = tf.keras.initializers.variance_scaling()\n",
        "  bias_initializer = tf.constant_initializer(value=0.0)\n",
        "  channel = input_feature.get_shape()[-1]\n",
        "  ratio=8\n",
        "  avg_pool = tf.reduce_mean(input_feature, axis=[1,2], keepdims=True)\n",
        "  assert avg_pool.get_shape()[1:] == (1,1,channel)\n",
        "  avg_pool =Dense(\n",
        "                                 units=channel//ratio,\n",
        "                                 activation=tf.nn.relu,\n",
        "                                 kernel_initializer=kernel_initializer,\n",
        "                                 bias_initializer=bias_initializer) (avg_pool)\n",
        "  assert avg_pool.get_shape()[1:] == (1,1,channel//ratio)\n",
        "  avg_pool = Dense(\n",
        "                                 units=channel,                             \n",
        "                                 kernel_initializer=kernel_initializer,\n",
        "                                 bias_initializer=bias_initializer)  (avg_pool)  \n",
        "  assert avg_pool.get_shape()[1:] == (1,1,channel)\n",
        "\n",
        "  max_pool = tf.reduce_max(input_feature, axis=[1,2], keepdims=True)    \n",
        "  assert max_pool.get_shape()[1:] == (1,1,channel)\n",
        "  max_pool = Dense(\n",
        "                                 units=channel//ratio,\n",
        "                                 activation=tf.nn.relu) (max_pool)  \n",
        "  assert max_pool.get_shape()[1:] == (1,1,channel//ratio)\n",
        "  max_pool = Dense(\n",
        "                                 units=channel)  (max_pool)\n",
        "  assert max_pool.get_shape()[1:] == (1,1,channel)\n",
        "\n",
        "  scale = tf.keras.activations.sigmoid(avg_pool + max_pool) \n",
        "  return input_feature * scale\n"
      ]
    },
    {
      "cell_type": "code",
      "execution_count": null,
      "metadata": {
        "id": "8ZavY92NJi21"
      },
      "outputs": [],
      "source": [
        "def spatial_attention(input_feature):\n",
        "  kernel_size = 7\n",
        "  kernel_initializer = tf.keras.initializers.variance_scaling()\n",
        "\n",
        "  avg_pool = tf.reduce_mean(input_feature, axis=[3], keepdims=True)\n",
        "  assert avg_pool.get_shape()[-1] == 1\n",
        "  max_pool = tf.reduce_max(input_feature, axis=[3], keepdims=True)\n",
        "  assert max_pool.get_shape()[-1] == 1\n",
        "  concat = tf.concat([avg_pool,max_pool], 3)\n",
        "  assert concat.get_shape()[-1] == 2\n",
        "\n",
        "  concat = Conv2D(\n",
        "                              filters=1,\n",
        "                              kernel_size=[kernel_size,kernel_size],\n",
        "                              strides=[1,1],\n",
        "                              padding=\"same\",\n",
        "                              activation=None,\n",
        "                              kernel_initializer=kernel_initializer,\n",
        "                              use_bias=False)(concat)\n",
        "  assert concat.get_shape()[-1] == 1\n",
        "  concat = tf.keras.activations.sigmoid(concat)\n",
        "    \n",
        "  return input_feature * concat"
      ]
    },
    {
      "cell_type": "code",
      "execution_count": null,
      "metadata": {
        "colab": {
          "base_uri": "https://localhost:8080/"
        },
        "id": "TCFXoW6gu6AT",
        "outputId": "c8dfb39c-64ee-4e02-8f66-211b019cb7b7"
      },
      "outputs": [
        {
          "output_type": "stream",
          "name": "stdout",
          "text": [
            "(None, 8, 8, 2048)\n",
            "(None, 8, 8, 2048)\n",
            "(None, 8, 8, 2048)\n",
            "(None, 2, 2, 2048)\n",
            "0 input1\n",
            "1 inception_v3\n",
            "2 tf.math.reduce_mean_2\n",
            "3 tf.math.reduce_max_2\n",
            "4 dense_6\n",
            "5 dense_8\n",
            "6 dense_7\n",
            "7 dense_9\n",
            "8 tf.__operators__.add_1\n",
            "9 tf.math.sigmoid_2\n",
            "10 tf.math.multiply_2\n",
            "11 tf.math.reduce_mean_3\n",
            "12 tf.math.reduce_max_3\n",
            "13 tf.concat_1\n",
            "14 conv2d_189\n",
            "15 tf.math.sigmoid_3\n",
            "16 tf.math.multiply_3\n",
            "17 max_pooling2d_9\n",
            "18 flatten_1\n",
            "19 dense_10\n",
            "20 dense_11\n",
            "Model: \"model_1\"\n",
            "__________________________________________________________________________________________________\n",
            " Layer (type)                   Output Shape         Param #     Connected to                     \n",
            "==================================================================================================\n",
            " input1 (InputLayer)            [(None, 300, 300, 3  0           []                               \n",
            "                                )]                                                                \n",
            "                                                                                                  \n",
            " inception_v3 (Functional)      (None, None, None,   21802784    ['input1[0][0]']                 \n",
            "                                2048)                                                             \n",
            "                                                                                                  \n",
            " tf.math.reduce_mean_2 (TFOpLam  (None, 1, 1, 2048)  0           ['inception_v3[0][0]']           \n",
            " bda)                                                                                             \n",
            "                                                                                                  \n",
            " tf.math.reduce_max_2 (TFOpLamb  (None, 1, 1, 2048)  0           ['inception_v3[0][0]']           \n",
            " da)                                                                                              \n",
            "                                                                                                  \n",
            " dense_6 (Dense)                (None, 1, 1, 256)    524544      ['tf.math.reduce_mean_2[0][0]']  \n",
            "                                                                                                  \n",
            " dense_8 (Dense)                (None, 1, 1, 256)    524544      ['tf.math.reduce_max_2[0][0]']   \n",
            "                                                                                                  \n",
            " dense_7 (Dense)                (None, 1, 1, 2048)   526336      ['dense_6[0][0]']                \n",
            "                                                                                                  \n",
            " dense_9 (Dense)                (None, 1, 1, 2048)   526336      ['dense_8[0][0]']                \n",
            "                                                                                                  \n",
            " tf.__operators__.add_1 (TFOpLa  (None, 1, 1, 2048)  0           ['dense_7[0][0]',                \n",
            " mbda)                                                            'dense_9[0][0]']                \n",
            "                                                                                                  \n",
            " tf.math.sigmoid_2 (TFOpLambda)  (None, 1, 1, 2048)  0           ['tf.__operators__.add_1[0][0]'] \n",
            "                                                                                                  \n",
            " tf.math.multiply_2 (TFOpLambda  (None, 8, 8, 2048)  0           ['inception_v3[0][0]',           \n",
            " )                                                                'tf.math.sigmoid_2[0][0]']      \n",
            "                                                                                                  \n",
            " tf.math.reduce_mean_3 (TFOpLam  (None, 8, 8, 1)     0           ['tf.math.multiply_2[0][0]']     \n",
            " bda)                                                                                             \n",
            "                                                                                                  \n",
            " tf.math.reduce_max_3 (TFOpLamb  (None, 8, 8, 1)     0           ['tf.math.multiply_2[0][0]']     \n",
            " da)                                                                                              \n",
            "                                                                                                  \n",
            " tf.concat_1 (TFOpLambda)       (None, 8, 8, 2)      0           ['tf.math.reduce_mean_3[0][0]',  \n",
            "                                                                  'tf.math.reduce_max_3[0][0]']   \n",
            "                                                                                                  \n",
            " conv2d_189 (Conv2D)            (None, 8, 8, 1)      98          ['tf.concat_1[0][0]']            \n",
            "                                                                                                  \n",
            " tf.math.sigmoid_3 (TFOpLambda)  (None, 8, 8, 1)     0           ['conv2d_189[0][0]']             \n",
            "                                                                                                  \n",
            " tf.math.multiply_3 (TFOpLambda  (None, 8, 8, 2048)  0           ['tf.math.multiply_2[0][0]',     \n",
            " )                                                                'tf.math.sigmoid_3[0][0]']      \n",
            "                                                                                                  \n",
            " max_pooling2d_9 (MaxPooling2D)  (None, 2, 2, 2048)  0           ['tf.math.multiply_3[0][0]']     \n",
            "                                                                                                  \n",
            " flatten_1 (Flatten)            (None, 8192)         0           ['max_pooling2d_9[0][0]']        \n",
            "                                                                                                  \n",
            " dense_10 (Dense)               (None, 256)          2097408     ['flatten_1[0][0]']              \n",
            "                                                                                                  \n",
            " dense_11 (Dense)               (None, 1)            257         ['dense_10[0][0]']               \n",
            "                                                                                                  \n",
            "==================================================================================================\n",
            "Total params: 26,002,307\n",
            "Trainable params: 25,967,875\n",
            "Non-trainable params: 34,432\n",
            "__________________________________________________________________________________________________\n"
          ]
        },
        {
          "output_type": "stream",
          "name": "stderr",
          "text": [
            "/usr/local/lib/python3.8/dist-packages/keras/optimizers/optimizer_v2/adam.py:110: UserWarning: The `lr` argument is deprecated, use `learning_rate` instead.\n",
            "  super(Adam, self).__init__(name, **kwargs)\n",
            "WARNING:tensorflow:`period` argument is deprecated. Please use `save_freq` to specify the frequency in number of batches seen.\n",
            "<ipython-input-119-97bfb08ac511>:31: UserWarning: `Model.fit_generator` is deprecated and will be removed in a future version. Please use `Model.fit`, which supports generators.\n",
            "  history=model.fit_generator(train_gen,  validation_data = (val_x, val_y), epochs = 10,  callbacks = checkpoint)\n"
          ]
        },
        {
          "output_type": "stream",
          "name": "stdout",
          "text": [
            "Epoch 1/10\n",
            "136/136 [==============================] - 124s 855ms/step - loss: 29.4889 - MAE: 29.4889 - val_loss: 27.3955 - val_MAE: 27.3955\n",
            "Epoch 2/10\n",
            "136/136 [==============================] - 116s 850ms/step - loss: 18.4856 - MAE: 18.4856 - val_loss: 28.2321 - val_MAE: 28.2321\n",
            "Epoch 3/10\n",
            "136/136 [==============================] - 114s 834ms/step - loss: 17.0746 - MAE: 17.0746 - val_loss: 19.3549 - val_MAE: 19.3549\n",
            "Epoch 4/10\n",
            "136/136 [==============================] - 114s 837ms/step - loss: 15.7052 - MAE: 15.7052 - val_loss: 23.0932 - val_MAE: 23.0932\n",
            "Epoch 5/10\n",
            "136/136 [==============================] - 116s 852ms/step - loss: 14.9906 - MAE: 14.9906 - val_loss: 13.7083 - val_MAE: 13.7083\n",
            "Epoch 6/10\n",
            "136/136 [==============================] - 113s 833ms/step - loss: 13.7639 - MAE: 13.7639 - val_loss: 17.7853 - val_MAE: 17.7853\n",
            "Epoch 7/10\n",
            "136/136 [==============================] - 113s 837ms/step - loss: 13.4094 - MAE: 13.4094 - val_loss: 19.3303 - val_MAE: 19.3303\n",
            "Epoch 8/10\n",
            "136/136 [==============================] - 116s 850ms/step - loss: 12.2038 - MAE: 12.2038 - val_loss: 13.8557 - val_MAE: 13.8557\n",
            "Epoch 9/10\n",
            "136/136 [==============================] - 113s 837ms/step - loss: 11.9605 - MAE: 11.9605 - val_loss: 24.3578 - val_MAE: 24.3578\n",
            "Epoch 10/10\n",
            "136/136 [==============================] - 116s 849ms/step - loss: 12.1504 - MAE: 12.1504 - val_loss: 14.6764 - val_MAE: 14.6764\n",
            "1/1 [==============================] - 0s 92ms/step - loss: 15.1227 - MAE: 15.1227\n",
            "Test loss: 15.122666358947754\n",
            "Test MAE: 15.122666358947754\n"
          ]
        }
      ],
      "source": [
        "import tensorflow as tf\n",
        "\n",
        "base_model = InceptionV3(weights='imagenet', include_top=False)\n",
        "input = Input(shape=(300,300,3),name='input1')\n",
        "#input_gender = Input(shape=(1,),dtype='float32',name='input2')\n",
        "output = base_model(input)\n",
        "#gender_embedding=Dense(16)(input_gender)\n",
        "print (K.int_shape(output))\n",
        "x=channel_attention(output)\n",
        "print (K.int_shape(x))\n",
        "x=spatial_attention(x)\n",
        "print (K.int_shape(x))\n",
        "x = keras.layers.MaxPooling2D(pool_size=(4,4))(x)\n",
        "print (K.int_shape(x))\n",
        "x=Flatten()(x)\n",
        "#f= keras.layers.Concatenate(axis=1)([x,gender_embedding])\n",
        "#print (K.int_shape(f)) \n",
        "x = Dense(256, activation='relu')(x)\n",
        "prediction = Dense(1)(x)\n",
        "\n",
        "model = Model(inputs=[input], outputs=prediction)\n",
        "for i,layer in enumerate(model.layers):\n",
        "    print (i,layer.name)\n",
        "\n",
        "Adam=tf.keras.optimizers.Adam(lr=0.0003,beta_1=0.9,beta_2=0.999)\n",
        "model.compile(optimizer=Adam, loss='mean_absolute_error', metrics=['MAE'])\n",
        "model.summary()\n",
        "\n",
        "checkpoint =keras.callbacks.ModelCheckpoint(filepath='weights_inv-img.{epoch:02d}-{val_loss:.2f}.hdf5',save_weights_only=True,period=10)\n",
        "#model.fit_generator(DataGen.flow([x_train,gender_train],y_train,batch_size=batch_size),steps_per_epoch=np.ceil(len(y_train)/batch_size),epochs=50,verbose=1,validation_data=([x_valid,gender_valid,agev],y_valid))\n",
        "history=model.fit_generator(train_gen,  validation_data = (val_x, val_y), epochs = 10,  callbacks = checkpoint)\n",
        "score = model.evaluate(test_X, test_Y, batch_size=batch_size)\n",
        "print('Test loss:', score[0])\n",
        "print('Test MAE:', score[1])"
      ]
    },
    {
      "cell_type": "code",
      "execution_count": null,
      "metadata": {
        "id": "Fq54GRBhu6AT",
        "colab": {
          "base_uri": "https://localhost:8080/",
          "height": 295
        },
        "outputId": "17aaab0a-414d-489e-d635-1330153d17db"
      },
      "outputs": [
        {
          "output_type": "display_data",
          "data": {
            "text/plain": [
              "<Figure size 432x288 with 1 Axes>"
            ],
            "image/png": "[encoded data removed]"
          },
          "metadata": {
            "needs_background": "light"
          }
        }
      ],
      "source": [
        "plt.plot(history.history['loss'])\n",
        "plt.plot(history.history['val_loss'])\n",
        "plt.title('Model loss')\n",
        "plt.ylabel('Loss')\n",
        "plt.xlabel('Epoch')\n",
        "plt.legend(['Train', 'Validation'], loc='upper left')\n",
        "plt.show()"
      ]
    },
    {
      "cell_type": "code",
      "execution_count": null,
      "metadata": {
        "id": "SZWTO0_Bu6AU",
        "colab": {
          "base_uri": "https://localhost:8080/"
        },
        "outputId": "60a2518e-9385-4988-f5e6-826379048267"
      },
      "outputs": [
        {
          "output_type": "stream",
          "name": "stdout",
          "text": [
            "Downloading data from https://storage.googleapis.com/tensorflow/keras-applications/inception_resnet_v2/inception_resnet_v2_weights_tf_dim_ordering_tf_kernels_notop.h5\n",
            "219055592/219055592 [==============================] - 8s 0us/step\n",
            "(None, 8, 8, 1536)\n",
            "(None, 8, 8, 1536)\n",
            "(None, 8, 8, 1536)\n",
            "(None, 2, 2, 1536)\n",
            "0 input1\n",
            "1 inception_resnet_v2\n",
            "2 tf.math.reduce_mean_4\n",
            "3 tf.math.reduce_max_4\n",
            "4 dense_12\n",
            "5 dense_14\n",
            "6 dense_13\n",
            "7 dense_15\n",
            "8 tf.__operators__.add_2\n",
            "9 tf.math.sigmoid_4\n",
            "10 tf.math.multiply_4\n",
            "11 tf.math.reduce_mean_5\n",
            "12 tf.math.reduce_max_5\n",
            "13 tf.concat_2\n",
            "14 conv2d_393\n",
            "15 tf.math.sigmoid_5\n",
            "16 tf.math.multiply_5\n",
            "17 max_pooling2d_14\n",
            "18 flatten_2\n",
            "19 dense_16\n",
            "20 dense_17\n",
            "Model: \"model_2\"\n",
            "__________________________________________________________________________________________________\n",
            " Layer (type)                   Output Shape         Param #     Connected to                     \n",
            "==================================================================================================\n",
            " input1 (InputLayer)            [(None, 300, 300, 3  0           []                               \n",
            "                                )]                                                                \n",
            "                                                                                                  \n",
            " inception_resnet_v2 (Functiona  (None, None, None,   54336736   ['input1[0][0]']                 \n",
            " l)                             1536)                                                             \n",
            "                                                                                                  \n",
            " tf.math.reduce_mean_4 (TFOpLam  (None, 1, 1, 1536)  0           ['inception_resnet_v2[0][0]']    \n",
            " bda)                                                                                             \n",
            "                                                                                                  \n",
            " tf.math.reduce_max_4 (TFOpLamb  (None, 1, 1, 1536)  0           ['inception_resnet_v2[0][0]']    \n",
            " da)                                                                                              \n",
            "                                                                                                  \n",
            " dense_12 (Dense)               (None, 1, 1, 192)    295104      ['tf.math.reduce_mean_4[0][0]']  \n",
            "                                                                                                  \n",
            " dense_14 (Dense)               (None, 1, 1, 192)    295104      ['tf.math.reduce_max_4[0][0]']   \n",
            "                                                                                                  \n",
            " dense_13 (Dense)               (None, 1, 1, 1536)   296448      ['dense_12[0][0]']               \n",
            "                                                                                                  \n",
            " dense_15 (Dense)               (None, 1, 1, 1536)   296448      ['dense_14[0][0]']               \n",
            "                                                                                                  \n",
            " tf.__operators__.add_2 (TFOpLa  (None, 1, 1, 1536)  0           ['dense_13[0][0]',               \n",
            " mbda)                                                            'dense_15[0][0]']               \n",
            "                                                                                                  \n",
            " tf.math.sigmoid_4 (TFOpLambda)  (None, 1, 1, 1536)  0           ['tf.__operators__.add_2[0][0]'] \n",
            "                                                                                                  \n",
            " tf.math.multiply_4 (TFOpLambda  (None, 8, 8, 1536)  0           ['inception_resnet_v2[0][0]',    \n",
            " )                                                                'tf.math.sigmoid_4[0][0]']      \n",
            "                                                                                                  \n",
            " tf.math.reduce_mean_5 (TFOpLam  (None, 8, 8, 1)     0           ['tf.math.multiply_4[0][0]']     \n",
            " bda)                                                                                             \n",
            "                                                                                                  \n",
            " tf.math.reduce_max_5 (TFOpLamb  (None, 8, 8, 1)     0           ['tf.math.multiply_4[0][0]']     \n",
            " da)                                                                                              \n",
            "                                                                                                  \n",
            " tf.concat_2 (TFOpLambda)       (None, 8, 8, 2)      0           ['tf.math.reduce_mean_5[0][0]',  \n",
            "                                                                  'tf.math.reduce_max_5[0][0]']   \n",
            "                                                                                                  \n",
            " conv2d_393 (Conv2D)            (None, 8, 8, 1)      98          ['tf.concat_2[0][0]']            \n",
            "                                                                                                  \n",
            " tf.math.sigmoid_5 (TFOpLambda)  (None, 8, 8, 1)     0           ['conv2d_393[0][0]']             \n",
            "                                                                                                  \n",
            " tf.math.multiply_5 (TFOpLambda  (None, 8, 8, 1536)  0           ['tf.math.multiply_4[0][0]',     \n",
            " )                                                                'tf.math.sigmoid_5[0][0]']      \n",
            "                                                                                                  \n",
            " max_pooling2d_14 (MaxPooling2D  (None, 2, 2, 1536)  0           ['tf.math.multiply_5[0][0]']     \n",
            " )                                                                                                \n",
            "                                                                                                  \n",
            " flatten_2 (Flatten)            (None, 6144)         0           ['max_pooling2d_14[0][0]']       \n",
            "                                                                                                  \n",
            " dense_16 (Dense)               (None, 256)          1573120     ['flatten_2[0][0]']              \n",
            "                                                                                                  \n",
            " dense_17 (Dense)               (None, 1)            257         ['dense_16[0][0]']               \n",
            "                                                                                                  \n",
            "==================================================================================================\n",
            "Total params: 57,093,315\n",
            "Trainable params: 57,032,771\n",
            "Non-trainable params: 60,544\n",
            "__________________________________________________________________________________________________\n"
          ]
        },
        {
          "output_type": "stream",
          "name": "stderr",
          "text": [
            "WARNING:tensorflow:`period` argument is deprecated. Please use `save_freq` to specify the frequency in number of batches seen.\n",
            "<ipython-input-121-8231ee4d4c70>:32: UserWarning: `Model.fit_generator` is deprecated and will be removed in a future version. Please use `Model.fit`, which supports generators.\n",
            "  history=model.fit_generator(train_gen,  validation_data = (val_x, val_y), epochs = 10,  callbacks = checkpoint)\n"
          ]
        },
        {
          "output_type": "stream",
          "name": "stdout",
          "text": [
            "Epoch 1/10\n",
            "136/136 [==============================] - 155s 984ms/step - loss: 29.8250 - MAE: 29.8250 - val_loss: 60.0328 - val_MAE: 60.0328\n",
            "Epoch 2/10\n",
            "136/136 [==============================] - 133s 977ms/step - loss: 19.4649 - MAE: 19.4649 - val_loss: 21.0799 - val_MAE: 21.0799\n",
            "Epoch 3/10\n",
            "136/136 [==============================] - 129s 947ms/step - loss: 16.5889 - MAE: 16.5889 - val_loss: 16.3381 - val_MAE: 16.3381\n",
            "Epoch 4/10\n",
            "136/136 [==============================] - 134s 980ms/step - loss: 15.1950 - MAE: 15.1950 - val_loss: 15.9267 - val_MAE: 15.9267\n",
            "Epoch 5/10\n",
            "136/136 [==============================] - 130s 953ms/step - loss: 14.2221 - MAE: 14.2221 - val_loss: 21.6841 - val_MAE: 21.6841\n",
            "Epoch 6/10\n",
            "136/136 [==============================] - 130s 957ms/step - loss: 12.9354 - MAE: 12.9354 - val_loss: 12.0975 - val_MAE: 12.0975\n",
            "Epoch 7/10\n",
            "136/136 [==============================] - 133s 972ms/step - loss: 13.2574 - MAE: 13.2574 - val_loss: 8.8263 - val_MAE: 8.8263\n",
            "Epoch 8/10\n",
            "136/136 [==============================] - 134s 982ms/step - loss: 12.0810 - MAE: 12.0810 - val_loss: 17.0956 - val_MAE: 17.0956\n",
            "Epoch 9/10\n",
            "136/136 [==============================] - 132s 968ms/step - loss: 12.1889 - MAE: 12.1889 - val_loss: 10.7043 - val_MAE: 10.7043\n",
            "Epoch 10/10\n",
            "136/136 [==============================] - 134s 984ms/step - loss: 11.4272 - MAE: 11.4272 - val_loss: 12.7057 - val_MAE: 12.7057\n",
            "1/1 [==============================] - 0s 255ms/step - loss: 16.8067 - MAE: 16.8067\n",
            "Test loss: 16.806747436523438\n",
            "Test MAE: 16.806747436523438\n",
            "Test MAE: 16.806747436523438\n"
          ]
        }
      ],
      "source": [
        "import tensorflow as tf\n",
        "from tensorflow.keras.applications.inception_resnet_v2 import InceptionResNetV2\n",
        "\n",
        "base_model = InceptionResNetV2(weights='imagenet', include_top=False)\n",
        "input = Input(shape=(300,300,3),name='input1')\n",
        "input_gender = Input(shape=(1,),dtype='float32',name='input2')\n",
        "output = base_model(input)\n",
        "#gender_embedding=Dense(16)(input_gender)\n",
        "print (K.int_shape(output))\n",
        "x=channel_attention(output)\n",
        "print (K.int_shape(x))\n",
        "x=spatial_attention(x)\n",
        "print (K.int_shape(x))\n",
        "x = keras.layers.MaxPooling2D(pool_size=(4,4))(x)\n",
        "print (K.int_shape(x))\n",
        "x=Flatten()(x)\n",
        "#f= keras.layers.Concatenate(axis=1)([x,gender_embedding])\n",
        "#print (K.int_shape(f)) \n",
        "x = Dense(256, activation='relu')(x)\n",
        "prediction = Dense(1)(x)\n",
        "\n",
        "model = Model(inputs=[input], outputs=prediction)\n",
        "for i,layer in enumerate(model.layers):\n",
        "    print (i,layer.name)\n",
        "\n",
        "Adam=tf.keras.optimizers.Adam(lr=0.0003,beta_1=0.9,beta_2=0.999)\n",
        "model.compile(optimizer=Adam, loss='mean_absolute_error', metrics=['MAE'])\n",
        "model.summary()\n",
        "\n",
        "checkpoint =keras.callbacks.ModelCheckpoint(filepath='weights_invres-img.{epoch:02d}-{val_loss:.2f}.hdf5',save_weights_only=True,period=10)\n",
        "#model.fit_generator(DataGen.flow([x_train,gender_train],y_train,batch_size=batch_size),steps_per_epoch=np.ceil(len(y_train)/batch_size),epochs=50,verbose=1,validation_data=([x_valid,gender_valid,agev],y_valid))\n",
        "history=model.fit_generator(train_gen,  validation_data = (val_x, val_y), epochs = 10,  callbacks = checkpoint)\n",
        "score = model.evaluate(test_X, test_Y, batch_size=batch_size)\n",
        "print('Test loss:', score[0])\n",
        "print('Test MAE:', score[1])\n",
        "print('Test MAE:', score[1])"
      ]
    },
    {
      "cell_type": "code",
      "execution_count": null,
      "metadata": {
        "id": "txFFa-mCu6AU",
        "colab": {
          "base_uri": "https://localhost:8080/",
          "height": 295
        },
        "outputId": "14b3d92f-bb76-4229-8d24-b6b4eea021f1"
      },
      "outputs": [
        {
          "output_type": "display_data",
          "data": {
            "text/plain": [
              "<Figure size 432x288 with 1 Axes>"
            ],
            "image/png": "[encoded data removed]"
          },
          "metadata": {
            "needs_background": "light"
          }
        }
      ],
      "source": [
        "plt.plot(history.history['loss'])\n",
        "plt.plot(history.history['val_loss'])\n",
        "plt.title('Model loss')\n",
        "plt.ylabel('Loss')\n",
        "plt.xlabel('Epoch')\n",
        "plt.legend(['Train', 'Validation'], loc='upper left')\n",
        "plt.show()"
      ]
    },
    {
      "cell_type": "code",
      "execution_count": null,
      "metadata": {
        "id": "LC_bTUPLyVhf",
        "colab": {
          "base_uri": "https://localhost:8080/"
        },
        "outputId": "f63b946d-4943-4bf7-d9c3-9debf7a35cb8"
      },
      "outputs": [
        {
          "output_type": "stream",
          "name": "stdout",
          "text": [
            "Downloading data from https://storage.googleapis.com/tensorflow/keras-applications/resnet/resnet50_weights_tf_dim_ordering_tf_kernels_notop.h5\n",
            "94765736/94765736 [==============================] - 3s 0us/step\n",
            "(None, 10, 10, 2048)\n",
            "(None, 10, 10, 2048)\n",
            "(None, 10, 10, 2048)\n",
            "(None, 2, 2, 2048)\n",
            "0 input1\n",
            "1 resnet50\n",
            "2 tf.math.reduce_mean_6\n",
            "3 tf.math.reduce_max_6\n",
            "4 dense_18\n",
            "5 dense_20\n",
            "6 dense_19\n",
            "7 dense_21\n",
            "8 tf.__operators__.add_3\n",
            "9 tf.math.sigmoid_6\n",
            "10 tf.math.multiply_6\n",
            "11 tf.math.reduce_mean_7\n",
            "12 tf.math.reduce_max_7\n",
            "13 tf.concat_3\n",
            "14 conv2d_394\n",
            "15 tf.math.sigmoid_7\n",
            "16 tf.math.multiply_7\n",
            "17 max_pooling2d_15\n",
            "18 flatten_3\n",
            "19 dense_22\n",
            "20 dense_23\n",
            "Model: \"model_3\"\n",
            "__________________________________________________________________________________________________\n",
            " Layer (type)                   Output Shape         Param #     Connected to                     \n",
            "==================================================================================================\n",
            " input1 (InputLayer)            [(None, 300, 300, 3  0           []                               \n",
            "                                )]                                                                \n",
            "                                                                                                  \n",
            " resnet50 (Functional)          (None, None, None,   23587712    ['input1[0][0]']                 \n",
            "                                2048)                                                             \n",
            "                                                                                                  \n",
            " tf.math.reduce_mean_6 (TFOpLam  (None, 1, 1, 2048)  0           ['resnet50[0][0]']               \n",
            " bda)                                                                                             \n",
            "                                                                                                  \n",
            " tf.math.reduce_max_6 (TFOpLamb  (None, 1, 1, 2048)  0           ['resnet50[0][0]']               \n",
            " da)                                                                                              \n",
            "                                                                                                  \n",
            " dense_18 (Dense)               (None, 1, 1, 256)    524544      ['tf.math.reduce_mean_6[0][0]']  \n",
            "                                                                                                  \n",
            " dense_20 (Dense)               (None, 1, 1, 256)    524544      ['tf.math.reduce_max_6[0][0]']   \n",
            "                                                                                                  \n",
            " dense_19 (Dense)               (None, 1, 1, 2048)   526336      ['dense_18[0][0]']               \n",
            "                                                                                                  \n",
            " dense_21 (Dense)               (None, 1, 1, 2048)   526336      ['dense_20[0][0]']               \n",
            "                                                                                                  \n",
            " tf.__operators__.add_3 (TFOpLa  (None, 1, 1, 2048)  0           ['dense_19[0][0]',               \n",
            " mbda)                                                            'dense_21[0][0]']               \n",
            "                                                                                                  \n",
            " tf.math.sigmoid_6 (TFOpLambda)  (None, 1, 1, 2048)  0           ['tf.__operators__.add_3[0][0]'] \n",
            "                                                                                                  \n",
            " tf.math.multiply_6 (TFOpLambda  (None, 10, 10, 2048  0          ['resnet50[0][0]',               \n",
            " )                              )                                 'tf.math.sigmoid_6[0][0]']      \n",
            "                                                                                                  \n",
            " tf.math.reduce_mean_7 (TFOpLam  (None, 10, 10, 1)   0           ['tf.math.multiply_6[0][0]']     \n",
            " bda)                                                                                             \n",
            "                                                                                                  \n",
            " tf.math.reduce_max_7 (TFOpLamb  (None, 10, 10, 1)   0           ['tf.math.multiply_6[0][0]']     \n",
            " da)                                                                                              \n",
            "                                                                                                  \n",
            " tf.concat_3 (TFOpLambda)       (None, 10, 10, 2)    0           ['tf.math.reduce_mean_7[0][0]',  \n",
            "                                                                  'tf.math.reduce_max_7[0][0]']   \n",
            "                                                                                                  \n",
            " conv2d_394 (Conv2D)            (None, 10, 10, 1)    98          ['tf.concat_3[0][0]']            \n",
            "                                                                                                  \n",
            " tf.math.sigmoid_7 (TFOpLambda)  (None, 10, 10, 1)   0           ['conv2d_394[0][0]']             \n",
            "                                                                                                  \n",
            " tf.math.multiply_7 (TFOpLambda  (None, 10, 10, 2048  0          ['tf.math.multiply_6[0][0]',     \n",
            " )                              )                                 'tf.math.sigmoid_7[0][0]']      \n",
            "                                                                                                  \n",
            " max_pooling2d_15 (MaxPooling2D  (None, 2, 2, 2048)  0           ['tf.math.multiply_7[0][0]']     \n",
            " )                                                                                                \n",
            "                                                                                                  \n",
            " flatten_3 (Flatten)            (None, 8192)         0           ['max_pooling2d_15[0][0]']       \n",
            "                                                                                                  \n",
            " dense_22 (Dense)               (None, 256)          2097408     ['flatten_3[0][0]']              \n",
            "                                                                                                  \n",
            " dense_23 (Dense)               (None, 1)            257         ['dense_22[0][0]']               \n",
            "                                                                                                  \n",
            "==================================================================================================\n",
            "Total params: 27,787,235\n",
            "Trainable params: 27,734,115\n",
            "Non-trainable params: 53,120\n",
            "__________________________________________________________________________________________________\n"
          ]
        },
        {
          "output_type": "stream",
          "name": "stderr",
          "text": [
            "WARNING:tensorflow:`period` argument is deprecated. Please use `save_freq` to specify the frequency in number of batches seen.\n",
            "<ipython-input-123-b095f7d97b82>:32: UserWarning: `Model.fit_generator` is deprecated and will be removed in a future version. Please use `Model.fit`, which supports generators.\n",
            "  history=model.fit_generator(train_gen,  validation_data = (val_x, val_y), epochs = 10,  callbacks = checkpoint)\n"
          ]
        },
        {
          "output_type": "stream",
          "name": "stdout",
          "text": [
            "Epoch 1/10\n",
            "136/136 [==============================] - 128s 881ms/step - loss: 27.8560 - MAE: 27.8560 - val_loss: 116.7692 - val_MAE: 116.7692\n",
            "Epoch 2/10\n",
            "136/136 [==============================] - 123s 900ms/step - loss: 21.1143 - MAE: 21.1143 - val_loss: 111.9017 - val_MAE: 111.9017\n",
            "Epoch 3/10\n",
            "136/136 [==============================] - 117s 862ms/step - loss: 18.4207 - MAE: 18.4207 - val_loss: 99.3177 - val_MAE: 99.3177\n",
            "Epoch 4/10\n",
            "136/136 [==============================] - 117s 855ms/step - loss: 17.2516 - MAE: 17.2516 - val_loss: 21.6504 - val_MAE: 21.6504\n",
            "Epoch 5/10\n",
            "136/136 [==============================] - 119s 874ms/step - loss: 15.1962 - MAE: 15.1962 - val_loss: 17.8826 - val_MAE: 17.8826\n",
            "Epoch 6/10\n",
            "136/136 [==============================] - 117s 856ms/step - loss: 15.4576 - MAE: 15.4576 - val_loss: 19.6618 - val_MAE: 19.6618\n",
            "Epoch 7/10\n",
            "136/136 [==============================] - 120s 882ms/step - loss: 15.5453 - MAE: 15.5453 - val_loss: 33.8747 - val_MAE: 33.8747\n",
            "Epoch 8/10\n",
            "136/136 [==============================] - 117s 862ms/step - loss: 14.1348 - MAE: 14.1348 - val_loss: 28.5842 - val_MAE: 28.5842\n",
            "Epoch 9/10\n",
            "136/136 [==============================] - 119s 877ms/step - loss: 13.3619 - MAE: 13.3619 - val_loss: 30.4162 - val_MAE: 30.4162\n",
            "Epoch 10/10\n",
            "136/136 [==============================] - 120s 883ms/step - loss: 13.5614 - MAE: 13.5614 - val_loss: 24.8828 - val_MAE: 24.8828\n",
            "1/1 [==============================] - 0s 115ms/step - loss: 22.9664 - MAE: 22.9664\n",
            "Test loss: 22.966419219970703\n",
            "Test MAE: 22.966419219970703\n"
          ]
        }
      ],
      "source": [
        "import tensorflow as tf\n",
        "#from tensorflow.keras.applications.inception_resnet_v2 import InceptionResNetV2\n",
        "\n",
        "base_model = ResNet50(weights='imagenet', include_top=False)\n",
        "input = Input(shape=(300,300,3),name='input1')\n",
        "input_gender = Input(shape=(1,),dtype='float32',name='input2')\n",
        "output = base_model(input)\n",
        "#gender_embedding=Dense(16)(input_gender)\n",
        "print (K.int_shape(output))\n",
        "x=channel_attention(output)\n",
        "print (K.int_shape(x))\n",
        "x=spatial_attention(x)\n",
        "print (K.int_shape(x))\n",
        "x = keras.layers.MaxPooling2D(pool_size=(4,4))(x)\n",
        "print (K.int_shape(x))\n",
        "x=Flatten()(x)\n",
        "#f= keras.layers.Concatenate(axis=1)([x,gender_embedding])\n",
        "#print (K.int_shape(f)) \n",
        "x = Dense(256, activation='relu')(x)\n",
        "prediction = Dense(1)(x)\n",
        "\n",
        "model = Model(inputs=[input], outputs=prediction)\n",
        "for i,layer in enumerate(model.layers):\n",
        "    print (i,layer.name)\n",
        "\n",
        "Adam=tf.keras.optimizers.Adam(lr=0.0003,beta_1=0.9,beta_2=0.999)\n",
        "model.compile(optimizer=Adam, loss='mean_absolute_error', metrics=['MAE'])\n",
        "model.summary()\n",
        "\n",
        "checkpoint =keras.callbacks.ModelCheckpoint(filepath='weights_res-img.{epoch:02d}-{val_loss:.2f}.hdf5',save_weights_only=True,period=10)\n",
        "#model.fit_generator(DataGen.flow([x_train,gender_train],y_train,batch_size=batch_size),steps_per_epoch=np.ceil(len(y_train)/batch_size),epochs=50,verbose=1,validation_data=([x_valid,gender_valid,agev],y_valid))\n",
        "history=model.fit_generator(train_gen,  validation_data = (val_x, val_y), epochs = 10,  callbacks = checkpoint)\n",
        "score = model.evaluate(test_X, test_Y, batch_size=batch_size)\n",
        "print('Test loss:', score[0])\n",
        "print('Test MAE:', score[1])"
      ]
    },
    {
      "cell_type": "code",
      "execution_count": null,
      "metadata": {
        "id": "trXmb0liyVhh",
        "colab": {
          "base_uri": "https://localhost:8080/",
          "height": 295
        },
        "outputId": "c8e07a48-1d6a-4d49-85bb-0c1e14e1ceef"
      },
      "outputs": [
        {
          "output_type": "display_data",
          "data": {
            "text/plain": [
              "<Figure size 432x288 with 1 Axes>"
            ],
            "image/png": "[encoded data removed]"
          },
          "metadata": {
            "needs_background": "light"
          }
        }
      ],
      "source": [
        "plt.plot(history.history['loss'])\n",
        "plt.plot(history.history['val_loss'])\n",
        "plt.title('Model loss')\n",
        "plt.ylabel('Loss')\n",
        "plt.xlabel('Epoch')\n",
        "plt.legend(['Train', 'Validation'], loc='upper left')\n",
        "plt.show()"
      ]
    },
    {
      "cell_type": "code",
      "source": [],
      "metadata": {
        "id": "hngrATKZ5v2d"
      },
      "execution_count": null,
      "outputs": []
    }
  ]
}