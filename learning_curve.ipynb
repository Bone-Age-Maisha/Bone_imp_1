{
  "cells": [
    {
      "cell_type": "markdown",
      "metadata": {
        "id": "view-in-github",
        "colab_type": "text"
      },
      "source": [
        "<a href=\"https://colab.research.google.com/github/Bone-Age-Maisha/Bone_imp_1/blob/main/learning_curve.ipynb\" target=\"_parent\"><img src=\"https://colab.research.google.com/assets/colab-badge.svg\" alt=\"Open In Colab\"/></a>"
      ]
    },
    {
      "cell_type": "code",
      "execution_count": null,
      "metadata": {
        "colab": {
          "base_uri": "https://localhost:8080/"
        },
        "id": "8LKUJy9ID0U2",
        "outputId": "6fda373e-6f7d-4b69-852e-a3d412c7ea6f"
      },
      "outputs": [
        {
          "name": "stdout",
          "output_type": "stream",
          "text": [
            "Drive already mounted at /content/drive; to attempt to forcibly remount, call drive.mount(\"/content/drive\", force_remount=True).\n"
          ]
        }
      ],
      "source": [
        "from google.colab import drive\n",
        "drive.mount('/content/drive')"
      ]
    },
    {
      "cell_type": "code",
      "execution_count": null,
      "metadata": {
        "id": "PxxRCRmoEXGv"
      },
      "outputs": [],
      "source": [
        "import numpy as np\n",
        "import cv2\n",
        "import os\n",
        "import pandas as pd\n"
      ]
    },
    {
      "cell_type": "code",
      "execution_count": null,
      "metadata": {
        "id": "-InGAyx9JYmj"
      },
      "outputs": [],
      "source": [
        "import pandas as pd\n",
        "train_dir = '/content/drive/MyDrive/hand_atlas/image'\n",
        "df = pd.read_csv('/content/drive/MyDrive/hand_atlas/data.csv')"
      ]
    },
    {
      "cell_type": "code",
      "execution_count": null,
      "metadata": {
        "colab": {
          "base_uri": "https://localhost:8080/"
        },
        "id": "FCEEscB06lVk",
        "outputId": "ac482743-c56a-4359-d514-c7dc2befe1c7"
      },
      "outputs": [
        {
          "data": {
            "text/plain": [
              "228.1"
            ]
          },
          "execution_count": 4,
          "metadata": {},
          "output_type": "execute_result"
        }
      ],
      "source": [
        "df['boneage'].max()"
      ]
    },
    {
      "cell_type": "code",
      "execution_count": null,
      "metadata": {
        "colab": {
          "base_uri": "https://localhost:8080/"
        },
        "id": "bdI72k-f6z-o",
        "outputId": "2bf7f9a5-b630-4252-e4b0-f427ea1fac24"
      },
      "outputs": [
        {
          "data": {
            "text/plain": [
              "0.3616"
            ]
          },
          "execution_count": 5,
          "metadata": {},
          "output_type": "execute_result"
        }
      ],
      "source": [
        "df['boneage'].min()"
      ]
    },
    {
      "cell_type": "code",
      "execution_count": null,
      "metadata": {
        "colab": {
          "base_uri": "https://localhost:8080/",
          "height": 217
        },
        "id": "S6eM4ZMoJcqG",
        "outputId": "14206c63-1cba-46e6-b616-bd33e7917659"
      },
      "outputs": [
        {
          "ename": "IndexError",
          "evalue": "ignored",
          "output_type": "error",
          "traceback": [
            "\u001b[0;31m---------------------------------------------------------------------------\u001b[0m",
            "\u001b[0;31mIndexError\u001b[0m                                Traceback (most recent call last)",
            "\u001b[0;32m<ipython-input-4-20aa4b446e95>\u001b[0m in \u001b[0;36m<module>\u001b[0;34m\u001b[0m\n\u001b[1;32m      1\u001b[0m \u001b[0;32mimport\u001b[0m \u001b[0mtensorflow\u001b[0m \u001b[0;32mas\u001b[0m \u001b[0mtf\u001b[0m\u001b[0;34m\u001b[0m\u001b[0;34m\u001b[0m\u001b[0m\n\u001b[1;32m      2\u001b[0m \u001b[0mgpus\u001b[0m \u001b[0;34m=\u001b[0m \u001b[0mtf\u001b[0m\u001b[0;34m.\u001b[0m\u001b[0mconfig\u001b[0m\u001b[0;34m.\u001b[0m\u001b[0mexperimental\u001b[0m\u001b[0;34m.\u001b[0m\u001b[0mlist_physical_devices\u001b[0m\u001b[0;34m(\u001b[0m\u001b[0;34m'GPU'\u001b[0m\u001b[0;34m)\u001b[0m\u001b[0;34m\u001b[0m\u001b[0;34m\u001b[0m\u001b[0m\n\u001b[0;32m----> 3\u001b[0;31m \u001b[0mtf\u001b[0m\u001b[0;34m.\u001b[0m\u001b[0mconfig\u001b[0m\u001b[0;34m.\u001b[0m\u001b[0mexperimental\u001b[0m\u001b[0;34m.\u001b[0m\u001b[0mset_visible_devices\u001b[0m\u001b[0;34m(\u001b[0m\u001b[0mgpus\u001b[0m\u001b[0;34m[\u001b[0m\u001b[0;36m0\u001b[0m\u001b[0;34m]\u001b[0m\u001b[0;34m,\u001b[0m \u001b[0;34m'GPU'\u001b[0m\u001b[0;34m)\u001b[0m\u001b[0;34m\u001b[0m\u001b[0;34m\u001b[0m\u001b[0m\n\u001b[0m\u001b[1;32m      4\u001b[0m \u001b[0mtf\u001b[0m\u001b[0;34m.\u001b[0m\u001b[0mconfig\u001b[0m\u001b[0;34m.\u001b[0m\u001b[0mexperimental\u001b[0m\u001b[0;34m.\u001b[0m\u001b[0mset_memory_growth\u001b[0m\u001b[0;34m(\u001b[0m\u001b[0mgpus\u001b[0m\u001b[0;34m[\u001b[0m\u001b[0;36m0\u001b[0m\u001b[0;34m]\u001b[0m\u001b[0;34m,\u001b[0m \u001b[0;32mTrue\u001b[0m\u001b[0;34m)\u001b[0m\u001b[0;34m\u001b[0m\u001b[0;34m\u001b[0m\u001b[0m\n",
            "\u001b[0;31mIndexError\u001b[0m: list index out of range"
          ]
        }
      ],
      "source": [
        "import tensorflow as tf\n",
        "gpus = tf.config.experimental.list_physical_devices('GPU')\n",
        "tf.config.experimental.set_visible_devices(gpus[0], 'GPU')\n",
        "tf.config.experimental.set_memory_growth(gpus[0], True)"
      ]
    },
    {
      "cell_type": "code",
      "execution_count": null,
      "metadata": {
        "colab": {
          "base_uri": "https://localhost:8080/"
        },
        "id": "v0rVqnQhJf3v",
        "outputId": "be805df4-c659-4328-964d-655986c363fa"
      },
      "outputs": [
        {
          "name": "stdout",
          "output_type": "stream",
          "text": [
            "Loading data set...\n"
          ]
        }
      ],
      "source": [
        "X_train = []\n",
        "y_age = []\n",
        "y_gender = []\n",
        "\n",
        "#df = pd.read_csv('/raid/chenchao/code/BoneAge/BoneAge/data/Training.csv')\n",
        "a = df.values\n",
        "m = a.shape[0]\n",
        "\n",
        "path = train_dir\n",
        "k = 0\n",
        "print ('Loading data set...')\n",
        "k=1\n",
        "for i in os.listdir(path):\n",
        "  #print(i)\n",
        "  if(i==\"3131.jpg\" or i==\"4520.jpg\" or i==\"3187.jpg\"):\n",
        "    continue\n",
        "  y_age.append(df.boneage[df.id == int(i[:-4])].tolist()[0])\n",
        "  y_gender.append(df.gender[df.id == int(i[:-4])].tolist()[0])\n",
        "  #print(i)\n",
        "  img_path = path + \"/\"+i\n",
        "  img = cv2.imread(img_path)\n",
        "  #print(img.shape)\n",
        "  #print (img_path)\n",
        "  img = cv2.imread(img_path)\n",
        "    #print (img_path)\n",
        "    #if(img is not None):\n",
        "  img = cv2.cvtColor(img, cv2.COLOR_BGR2RGB)\n",
        "  img = cv2.resize(img,(300,300))\n",
        "  x = np.asarray(img, dtype=np.uint8)\n",
        "  X_train.append(x)\n",
        "  k=k+1"
      ]
    },
    {
      "cell_type": "code",
      "execution_count": null,
      "metadata": {
        "id": "YbU8fbTSJlP_"
      },
      "outputs": [],
      "source": [
        "import numpy as np\n",
        "import cv2\n",
        "from keras import backend as K\n",
        "from keras.preprocessing import image\n",
        "import os\n",
        "\n",
        "def softlabel(label,num_class):\n",
        "    softlabel=np.zeros((len(label),num_class))\n",
        "    ratio = 1.0/50\n",
        "    for i in range(len(label)):\n",
        "        for j in range(num_class):\n",
        "            softlabel[i,j]=1.0 - ratio*np.abs(j-label[i])\n",
        "    softlabel = np.maximum(softlabel,0)\n",
        "    return softlabel\n",
        "\n",
        "\n",
        "def ShowAttentionV1(model,image_path):\n",
        "    file_list = os.listdir(image_path)\n",
        "    file_list.sort()\n",
        "    for filename in file_list:\n",
        "        print (filename)\n",
        "        filepath=image_path+filename\n",
        "        image=load_image(filepath)\n",
        "        image = image/255.0\n",
        "        gender=1.0\n",
        "        gender=np.asarray(gender)\n",
        "        gender=np.expand_dims(gender,axis=0)\n",
        "        layer=K.function([model.layers[0].input],[model.layers[196].output])\n",
        "        FeatureMap=layer([image,gender])[0]\n",
        "        print (FeatureMap.shape)\n",
        "        FeatureMap = np.squeeze(FeatureMap, axis=0)\n",
        "        FeatureMap = np.abs(FeatureMap)\n",
        "        heatmap = np.mean(FeatureMap,axis=2)\n",
        "        heatmap = heatmap/np.max(heatmap)\n",
        "        heatmap = np.uint8(255*heatmap)\n",
        "        print (heatmap.shape)\n",
        "        heatmap = cv2.applyColorMap(heatmap,cv2.COLORMAP_JET)\n",
        "        SaveImg(filename,filepath,heatmap)\n",
        "    print ('********** Done ***********')\n",
        "\n",
        "def GAPAttention(model,weights,image_path):\n",
        "    file_list = os.listdir(train_dir)\n",
        "    file_list.sort()\n",
        "    for filename in file_list:\n",
        "        filepath=image_path+filename\n",
        "        print (filepath)\n",
        "        image=load_image(filepath)\n",
        "        print(\"gpa\")\n",
        "        print(image.shape)\n",
        "        image = image/255.0\n",
        "        gender=1.0\n",
        "        gender=np.asarray(gender)\n",
        "        gender=np.expand_dims(gender,axis=0)\n",
        "        print(\"ok\")\n",
        "        layer=K.function([model.layers[0].input],[model.layers[1].get_output_at(-1),model.layers[-1].output])\n",
        "        print(\"ok_1\")\n",
        "        GAP,prediction=layer([image])\n",
        "        print(\"ok_2\")\n",
        "        GAP=np.squeeze(GAP,axis=0)\n",
        "        print(\"ok_3\")\n",
        "        print (GAP.shape)\n",
        "        print(\"ok_4\")\n",
        "        index = np.argmax(prediction)\n",
        "        print(\"ok_5\")\n",
        "        print (index)\n",
        "       # weight = weights[:,index]\n",
        "        weight =np.mean(weights[:,index-5:index+5],axis=1)\n",
        "        heatmap = np.zeros((GAP.shape[0],GAP.shape[1]))\n",
        "        for k in range(GAP.shape[2]):\n",
        "            heatmap = heatmap + weight[k]*GAP[:,:,k]\n",
        "        heatmap = heatmap/np.max(heatmap)\n",
        "        heatmap = np.uint8(255*heatmap)\n",
        "        print (heatmap.shape)\n",
        "        heatmap = cv2.applyColorMap(heatmap,cv2.COLORMAP_JET)\n",
        "        SaveImg(filename,filepath,heatmap)\n",
        "    print ('********** Done ***********')\n",
        "\n",
        "def SaveImg(filename,filepath,heatmap):\n",
        "    img = cv2.imread(filepath)\n",
        "    heatmap = cv2.resize(heatmap,(img.shape[1],img.shape[0]))\n",
        "    AttentionImg =0.5* heatmap + img\n",
        "    cv2.imwrite('/content/heat'+filename,heatmap)\n",
        "    cv2.imwrite('/content/attention'+filename,AttentionImg)\n",
        "\n",
        "\n",
        "def load_image(path):\n",
        "    img = cv2.imread(path)\n",
        "    print(img.shape)\n",
        "    img = cv2.resize(img,(300,300))\n",
        "    print(img.shape)\n",
        "    x = np.asarray(img, dtype=np.float32)\n",
        "   # img = image.load_img(path, target_size=(448, 448))\n",
        "   # print (img.shape)\n",
        "   # x = image.img_to_array(img)\n",
        "    x = np.expand_dims(x, axis=0)\n",
        "    return x\n",
        "\n",
        "def TestMAE(model,test_data,test_label,test_gender):\n",
        "    test_gender = np.array(test_gender)\n",
        "    test_gender = np.expand_dims(test_gender,axis=1)\n",
        "    layer=K.function([model.layers[0].input,model.layers[3].input],[model.layers[-1].output])\n",
        "    predictions=layer([test_data,test_gender])\n",
        "    predictions = np.array(predictions)\n",
        "    predictions = np.squeeze(predictions,axis=0)\n",
        "    print (predictions.shape)\n",
        "    predict_label = np.argmax(predictions,axis=1)\n",
        "    test_label = np.argmax(test_label,axis=1)\n",
        "    print (predict_label)\n",
        "    print (test_label)\n",
        "    TestMAE = np.mean(np.abs(predict_label-test_label))\n",
        "    return TestMAE\n",
        "    \n",
        "def DataAugment(x_train):\n",
        "    x_train_Aug = np.zeros(x_train.shape)\n",
        "    for i in range(x_train.shape[0]):\n",
        "        for j in range(3):\n",
        "            img = x_train[i,:,:,j]\n",
        "            img = RandomMask(img)\n",
        "            img = RandomMask(img)\n",
        "            if np.random.random()>-1:\n",
        "                x_train_Aug[i,:,:,j]=img \n",
        "            else:\n",
        "                x_train_Aug[i,:,:,j]=x_train[i,:,:,j]\n",
        "    return x_train_Aug\n",
        "\n",
        "\n",
        "def RandomMask(img):\n",
        "    m,n=img.shape\n",
        "    m=int(m/6)\n",
        "    n=int(n/6)\n",
        "    i,j = np.random.randint(0,6,2)\n",
        "    img[i*m:(i+1)*m,j*n:(j+1)*n]=np.random.random()\n",
        "    return img"
      ]
    },
    {
      "cell_type": "code",
      "execution_count": null,
      "metadata": {
        "colab": {
          "base_uri": "https://localhost:8080/"
        },
        "id": "PyB_gYSNbjjP",
        "outputId": "898bdfc5-dd6a-495d-b738-4c6a4edb3436"
      },
      "outputs": [
        {
          "name": "stdout",
          "output_type": "stream",
          "text": [
            "[ 24.2  135.7  173.4   77.13 212.8  157.5   47.87  94.82 140.2   70.29\n",
            " 123.5  127.4   96.   170.2  174.5   81.86  65.59 141.2  164.9   22.29\n",
            "  90.12  57.24 169.6  145.9  101.1   70.32 102.6  197.5  141.8  176.5\n",
            " 162.   161.4  159.5  180.6   99.78 173.6  159.7  101.6  135.5  177.6\n",
            " 212.9  204.6  221.3   13.15 128.8  191.    72.36  91.86 158.4  222.8 ]\n",
            "[-1.  1.  1. -1. -1.  1.  1.  1. -1.  1. -1. -1.  1. -1. -1.  1. -1.  1.\n",
            "  1.  1. -1. -1. -1. -1. -1. -1. -1.  1.  1. -1.  1.  1.  1. -1. -1.  1.\n",
            "  1. -1.  1. -1.  1.  1. -1.  1.  1.  1.  1.  1. -1.  1.]\n",
            "[  7.693 217.    159.3   ... 190.1    84.59  174.1  ]\n",
            "x_train shape:(1286, 300, 300, 3)\n",
            "y_train shape:(1286,)\n",
            "gender_train shape:(1286,)\n",
            "x_valid shape:(50, 300, 300, 3)\n",
            "y_valid shape:(50,)\n",
            "gender_valid shape:(50,)\n",
            "x_test shape:(50, 300, 300, 3)\n",
            "y_test shape:(50,)\n"
          ]
        }
      ],
      "source": [
        "y = np.asarray(y_age)\n",
        "gender = np.asarray(y_gender)\n",
        "x=np.asarray(X_train, dtype=np.float32)\n",
        "x=x/255\n",
        "gender =2*( gender-0.5)\n",
        "x_final = []\n",
        "y_final = []\n",
        "gender_final = []\n",
        "\n",
        "# Shuffle images and split into train, validation and test sets\n",
        "#random_no = np.random.choice(x.shape[0], size=x.shape[0], replace=False)\n",
        "random_no = np.arange(x.shape[0])\n",
        "#print(random_no)\n",
        "np.random.seed(42)\n",
        "np.random.shuffle(random_no)\n",
        "for i in random_no:\n",
        "    x_final.append(x[i,:,:,:])\n",
        "    y_final.append(y[i])\n",
        "    gender_final.append(gender[i])\n",
        "\n",
        "x_final = np.asarray(x_final)\n",
        "y_final = np.asarray(y_final)\n",
        "gender_final = np.asarray(gender_final)\n",
        "print (y_final[:50])\n",
        "print (gender_final[:50])\n",
        "k = 50 # Decides split count\n",
        "x_test = x_final[:k,:,:,:]\n",
        "y_test = y_final[:k]\n",
        "gender_test = gender_final[:k]\n",
        "x_valid = x_final[k:2*k,:,:,:]\n",
        "y_valid = y_final[k:2*k]\n",
        "gender_valid = gender_final[k:2*k]\n",
        "x_train = x_final[2*k:,:,:,:]\n",
        "y_train = y_final[2*k:]\n",
        "gender_train = gender_final[2*k:]\n",
        "\n",
        "## \n",
        "#y_test = keras.utils.to_categorical(y_test,240)\n",
        "#y_train = keras.utils.to_categorical(y_train,240)\n",
        "#y_valid = keras.utils.to_categorical(y_valid,240)\n",
        "y_trains = softlabel(y_train,240)\n",
        "y_valids = softlabel(y_valid,240)\n",
        "y_tests = softlabel(y_test,240)\n",
        "print (y_train)\n",
        "\n",
        "\n",
        "print ('x_train shape:'+ str(x_train.shape))\n",
        "print ('y_train shape:'+ str(y_train.shape))\n",
        "print ('gender_train shape:'+ str(gender_train.shape))\n",
        "print ('x_valid shape:'+ str(x_valid.shape))\n",
        "print ('y_valid shape:'+ str(y_valid.shape))\n",
        "print ('gender_valid shape:' + str(gender_valid.shape))\n",
        "print ('x_test shape:'+ str(x_test.shape))\n",
        "print ('y_test shape:'+ str(y_test.shape))"
      ]
    },
    {
      "cell_type": "code",
      "execution_count": null,
      "metadata": {
        "id": "vtOD_0s-ibug"
      },
      "outputs": [],
      "source": [
        "from tensorflow.keras.applications.resnet50 import ResNet50\n",
        "from keras.applications.vgg19 import VGG19\n",
        "from keras.applications.inception_v3 import InceptionV3\n",
        "from keras.applications.xception import Xception\n",
        "from keras.preprocessing import image\n",
        "from keras.models import Model, load_model\n",
        "from keras.layers import Flatten, Dense, Input, Reshape, Lambda, Multiply\n",
        "from keras import backend as K\n",
        "import pickle\n",
        "import numpy as np\n",
        "import matplotlib.pyplot as plt\n",
        "import keras\n",
        "\n",
        "batch_size = 16\n",
        "epochs = 30\n"
      ]
    },
    {
      "cell_type": "code",
      "execution_count": null,
      "metadata": {
        "id": "M2SH1Ihsigvm"
      },
      "outputs": [],
      "source": [
        "from keras.layers import Flatten, Dense, Input, Reshape, Lambda\n",
        "from keras import backend as K\n",
        "from keras.preprocessing.image import ImageDataGenerator\n",
        "\n",
        "DataGen = ImageDataGenerator(rotation_range=20,width_shift_range=0.15,height_shift_range=0.15,zoom_range=0.2,horizontal_flip=True)"
      ]
    },
    {
      "cell_type": "code",
      "execution_count": null,
      "metadata": {
        "colab": {
          "base_uri": "https://localhost:8080/"
        },
        "id": "k0lJM5IIikT_",
        "outputId": "718730e7-1ad2-4fe4-ee71-2484e0aea95d"
      },
      "outputs": [
        {
          "name": "stdout",
          "output_type": "stream",
          "text": [
            "(1286, 2, 114)\n"
          ]
        }
      ],
      "source": [
        "age1=[]\n",
        "for i in range(114):\n",
        "    age1.append(i)\n",
        "age2=[]\n",
        "for i in range (114,228):\n",
        "    age2.append(i)\n",
        "age=[]\n",
        "for i in range (1):\n",
        "    age.append(age1)\n",
        "    age.append(age2)\n",
        "age=np.asarray(age)\n",
        "aget=[]\n",
        "for i in range(1286):\n",
        "    aget.append(age)\n",
        "aget=np.asarray(aget)\n",
        "print(aget.shape)"
      ]
    },
    {
      "cell_type": "code",
      "execution_count": null,
      "metadata": {
        "colab": {
          "base_uri": "https://localhost:8080/"
        },
        "id": "LYrROJkminna",
        "outputId": "72a2a672-2343-4258-e54e-b70de59cdb92"
      },
      "outputs": [
        {
          "data": {
            "text/plain": [
              "(50, 2, 114)"
            ]
          },
          "execution_count": 11,
          "metadata": {},
          "output_type": "execute_result"
        }
      ],
      "source": [
        "agev=[]\n",
        "for i in range(50):\n",
        "  agev.append(age)\n",
        "agev=np.asarray(agev)\n",
        "agev.shape"
      ]
    },
    {
      "cell_type": "code",
      "execution_count": null,
      "metadata": {
        "colab": {
          "base_uri": "https://localhost:8080/",
          "height": 1000
        },
        "id": "yHGJjV-giq9_",
        "outputId": "24ac1eb7-9259-4a1a-9deb-fca09f11d604"
      },
      "outputs": [
        {
          "name": "stdout",
          "output_type": "stream",
          "text": [
            "(None, 228)\n",
            "0 input1\n",
            "1 inception_v3\n",
            "2 conv2d_189\n",
            "3 max_pooling2d_9\n",
            "4 input2\n",
            "5 flatten_2\n",
            "6 dense_4\n",
            "7 concatenate_5\n",
            "8 dense_5\n",
            "9 input3\n",
            "10 dense_6\n",
            "11 flatten_3\n",
            "12 multiply_1\n",
            "13 dense_7\n",
            "Model: \"model_1\"\n",
            "__________________________________________________________________________________________________\n",
            " Layer (type)                   Output Shape         Param #     Connected to                     \n",
            "==================================================================================================\n",
            " input1 (InputLayer)            [(None, 300, 300, 3  0           []                               \n",
            "                                )]                                                                \n",
            "                                                                                                  \n",
            " inception_v3 (Functional)      (None, None, None,   21802784    ['input1[0][0]']                 \n",
            "                                2048)                                                             \n",
            "                                                                                                  \n",
            " conv2d_189 (Conv2D)            (None, 6, 6, 256)    4718848     ['inception_v3[0][0]']           \n",
            "                                                                                                  \n",
            " max_pooling2d_9 (MaxPooling2D)  (None, 2, 2, 256)   0           ['conv2d_189[0][0]']             \n",
            "                                                                                                  \n",
            " input2 (InputLayer)            [(None, 1)]          0           []                               \n",
            "                                                                                                  \n",
            " flatten_2 (Flatten)            (None, 1024)         0           ['max_pooling2d_9[0][0]']        \n",
            "                                                                                                  \n",
            " dense_4 (Dense)                (None, 32)           64          ['input2[0][0]']                 \n",
            "                                                                                                  \n",
            " concatenate_5 (Concatenate)    (None, 1056)         0           ['flatten_2[0][0]',              \n",
            "                                                                  'dense_4[0][0]']                \n",
            "                                                                                                  \n",
            " dense_5 (Dense)                (None, 512)          541184      ['concatenate_5[0][0]']          \n",
            "                                                                                                  \n",
            " input3 (InputLayer)            [(None, 2, 114)]     0           []                               \n",
            "                                                                                                  \n",
            " dense_6 (Dense)                (None, 228)          116964      ['dense_5[0][0]']                \n",
            "                                                                                                  \n",
            " flatten_3 (Flatten)            (None, 228)          0           ['input3[0][0]']                 \n",
            "                                                                                                  \n",
            " multiply_1 (Multiply)          (None, 228)          0           ['dense_6[0][0]',                \n",
            "                                                                  'flatten_3[0][0]']              \n",
            "                                                                                                  \n",
            " dense_7 (Dense)                (None, 1)            229         ['multiply_1[0][0]']             \n",
            "                                                                                                  \n",
            "==================================================================================================\n",
            "Total params: 27,180,073\n",
            "Trainable params: 27,145,641\n",
            "Non-trainable params: 34,432\n",
            "__________________________________________________________________________________________________\n"
          ]
        },
        {
          "name": "stderr",
          "output_type": "stream",
          "text": [
            "WARNING:tensorflow:`period` argument is deprecated. Please use `save_freq` to specify the frequency in number of batches seen.\n"
          ]
        },
        {
          "name": "stdout",
          "output_type": "stream",
          "text": [
            "Epoch 1/40\n"
          ]
        },
        {
          "ename": "KeyboardInterrupt",
          "evalue": "ignored",
          "output_type": "error",
          "traceback": [
            "\u001b[0;31m---------------------------------------------------------------------------\u001b[0m",
            "\u001b[0;31mKeyboardInterrupt\u001b[0m                         Traceback (most recent call last)",
            "\u001b[0;32m<ipython-input-14-d9437f19a6b5>\u001b[0m in \u001b[0;36m<module>\u001b[0;34m\u001b[0m\n\u001b[1;32m     29\u001b[0m \u001b[0;34m\u001b[0m\u001b[0m\n\u001b[1;32m     30\u001b[0m \u001b[0mcheckpoint\u001b[0m \u001b[0;34m=\u001b[0m\u001b[0mkeras\u001b[0m\u001b[0;34m.\u001b[0m\u001b[0mcallbacks\u001b[0m\u001b[0;34m.\u001b[0m\u001b[0mModelCheckpoint\u001b[0m\u001b[0;34m(\u001b[0m\u001b[0mfilepath\u001b[0m\u001b[0;34m=\u001b[0m\u001b[0;34m'weights_inception.{epoch:02d}-{val_loss:.2f}.hdf5'\u001b[0m\u001b[0;34m,\u001b[0m\u001b[0msave_weights_only\u001b[0m\u001b[0;34m=\u001b[0m\u001b[0;32mTrue\u001b[0m\u001b[0;34m,\u001b[0m\u001b[0mperiod\u001b[0m\u001b[0;34m=\u001b[0m\u001b[0;36m40\u001b[0m\u001b[0;34m)\u001b[0m\u001b[0;34m\u001b[0m\u001b[0;34m\u001b[0m\u001b[0m\n\u001b[0;32m---> 31\u001b[0;31m \u001b[0mhistory\u001b[0m\u001b[0;34m=\u001b[0m\u001b[0mmodel\u001b[0m\u001b[0;34m.\u001b[0m\u001b[0mfit\u001b[0m\u001b[0;34m(\u001b[0m\u001b[0;34m[\u001b[0m\u001b[0mx_train\u001b[0m\u001b[0;34m,\u001b[0m\u001b[0mgender_train\u001b[0m\u001b[0;34m,\u001b[0m\u001b[0maget\u001b[0m\u001b[0;34m]\u001b[0m\u001b[0;34m,\u001b[0m\u001b[0my_train\u001b[0m\u001b[0;34m,\u001b[0m\u001b[0mbatch_size\u001b[0m\u001b[0;34m=\u001b[0m\u001b[0;36m4\u001b[0m\u001b[0;34m,\u001b[0m\u001b[0mepochs\u001b[0m\u001b[0;34m=\u001b[0m\u001b[0;36m40\u001b[0m\u001b[0;34m,\u001b[0m\u001b[0mverbose\u001b[0m\u001b[0;34m=\u001b[0m\u001b[0;36m1\u001b[0m\u001b[0;34m,\u001b[0m\u001b[0mvalidation_data\u001b[0m\u001b[0;34m=\u001b[0m\u001b[0;34m(\u001b[0m\u001b[0;34m[\u001b[0m\u001b[0mx_valid\u001b[0m\u001b[0;34m,\u001b[0m\u001b[0mgender_valid\u001b[0m\u001b[0;34m,\u001b[0m\u001b[0magev\u001b[0m\u001b[0;34m]\u001b[0m\u001b[0;34m,\u001b[0m\u001b[0my_valid\u001b[0m\u001b[0;34m)\u001b[0m\u001b[0;34m,\u001b[0m\u001b[0mcallbacks\u001b[0m \u001b[0;34m=\u001b[0m \u001b[0;34m[\u001b[0m\u001b[0mcheckpoint\u001b[0m\u001b[0;34m]\u001b[0m\u001b[0;34m)\u001b[0m\u001b[0;34m\u001b[0m\u001b[0;34m\u001b[0m\u001b[0m\n\u001b[0m\u001b[1;32m     32\u001b[0m \u001b[0;31m#history=model.fit_generator(DataGen.flow([x_train,gender_train,aget],y_train,batch_size=batch_size),steps_per_epoch=np.ceil(len(y_train)/batch_size),epochs=10,verbose=1,validation_data=([x_valid,gender_valid,agev],y_valid))\u001b[0m\u001b[0;34m\u001b[0m\u001b[0;34m\u001b[0m\u001b[0;34m\u001b[0m\u001b[0m\n\u001b[1;32m     33\u001b[0m \u001b[0mscore\u001b[0m \u001b[0;34m=\u001b[0m \u001b[0mmodel\u001b[0m\u001b[0;34m.\u001b[0m\u001b[0mevaluate\u001b[0m\u001b[0;34m(\u001b[0m\u001b[0;34m[\u001b[0m\u001b[0mx_test\u001b[0m\u001b[0;34m,\u001b[0m\u001b[0mgender_test\u001b[0m\u001b[0;34m,\u001b[0m\u001b[0magev\u001b[0m\u001b[0;34m]\u001b[0m\u001b[0;34m,\u001b[0m \u001b[0my_test\u001b[0m\u001b[0;34m,\u001b[0m \u001b[0mbatch_size\u001b[0m\u001b[0;34m=\u001b[0m\u001b[0mbatch_size\u001b[0m\u001b[0;34m)\u001b[0m\u001b[0;34m\u001b[0m\u001b[0;34m\u001b[0m\u001b[0m\n",
            "\u001b[0;32m/usr/local/lib/python3.8/dist-packages/keras/utils/traceback_utils.py\u001b[0m in \u001b[0;36merror_handler\u001b[0;34m(*args, **kwargs)\u001b[0m\n\u001b[1;32m     62\u001b[0m     \u001b[0mfiltered_tb\u001b[0m \u001b[0;34m=\u001b[0m \u001b[0;32mNone\u001b[0m\u001b[0;34m\u001b[0m\u001b[0;34m\u001b[0m\u001b[0m\n\u001b[1;32m     63\u001b[0m     \u001b[0;32mtry\u001b[0m\u001b[0;34m:\u001b[0m\u001b[0;34m\u001b[0m\u001b[0;34m\u001b[0m\u001b[0m\n\u001b[0;32m---> 64\u001b[0;31m       \u001b[0;32mreturn\u001b[0m \u001b[0mfn\u001b[0m\u001b[0;34m(\u001b[0m\u001b[0;34m*\u001b[0m\u001b[0margs\u001b[0m\u001b[0;34m,\u001b[0m \u001b[0;34m**\u001b[0m\u001b[0mkwargs\u001b[0m\u001b[0;34m)\u001b[0m\u001b[0;34m\u001b[0m\u001b[0;34m\u001b[0m\u001b[0m\n\u001b[0m\u001b[1;32m     65\u001b[0m     \u001b[0;32mexcept\u001b[0m \u001b[0mException\u001b[0m \u001b[0;32mas\u001b[0m \u001b[0me\u001b[0m\u001b[0;34m:\u001b[0m  \u001b[0;31m# pylint: disable=broad-except\u001b[0m\u001b[0;34m\u001b[0m\u001b[0;34m\u001b[0m\u001b[0m\n\u001b[1;32m     66\u001b[0m       \u001b[0mfiltered_tb\u001b[0m \u001b[0;34m=\u001b[0m \u001b[0m_process_traceback_frames\u001b[0m\u001b[0;34m(\u001b[0m\u001b[0me\u001b[0m\u001b[0;34m.\u001b[0m\u001b[0m__traceback__\u001b[0m\u001b[0;34m)\u001b[0m\u001b[0;34m\u001b[0m\u001b[0;34m\u001b[0m\u001b[0m\n",
            "\u001b[0;32m/usr/local/lib/python3.8/dist-packages/keras/engine/training.py\u001b[0m in \u001b[0;36mfit\u001b[0;34m(self, x, y, batch_size, epochs, verbose, callbacks, validation_split, validation_data, shuffle, class_weight, sample_weight, initial_epoch, steps_per_epoch, validation_steps, validation_batch_size, validation_freq, max_queue_size, workers, use_multiprocessing)\u001b[0m\n\u001b[1;32m   1407\u001b[0m                 _r=1):\n\u001b[1;32m   1408\u001b[0m               \u001b[0mcallbacks\u001b[0m\u001b[0;34m.\u001b[0m\u001b[0mon_train_batch_begin\u001b[0m\u001b[0;34m(\u001b[0m\u001b[0mstep\u001b[0m\u001b[0;34m)\u001b[0m\u001b[0;34m\u001b[0m\u001b[0;34m\u001b[0m\u001b[0m\n\u001b[0;32m-> 1409\u001b[0;31m               \u001b[0mtmp_logs\u001b[0m \u001b[0;34m=\u001b[0m \u001b[0mself\u001b[0m\u001b[0;34m.\u001b[0m\u001b[0mtrain_function\u001b[0m\u001b[0;34m(\u001b[0m\u001b[0miterator\u001b[0m\u001b[0;34m)\u001b[0m\u001b[0;34m\u001b[0m\u001b[0;34m\u001b[0m\u001b[0m\n\u001b[0m\u001b[1;32m   1410\u001b[0m               \u001b[0;32mif\u001b[0m \u001b[0mdata_handler\u001b[0m\u001b[0;34m.\u001b[0m\u001b[0mshould_sync\u001b[0m\u001b[0;34m:\u001b[0m\u001b[0;34m\u001b[0m\u001b[0;34m\u001b[0m\u001b[0m\n\u001b[1;32m   1411\u001b[0m                 \u001b[0mcontext\u001b[0m\u001b[0;34m.\u001b[0m\u001b[0masync_wait\u001b[0m\u001b[0;34m(\u001b[0m\u001b[0;34m)\u001b[0m\u001b[0;34m\u001b[0m\u001b[0;34m\u001b[0m\u001b[0m\n",
            "\u001b[0;32m/usr/local/lib/python3.8/dist-packages/tensorflow/python/util/traceback_utils.py\u001b[0m in \u001b[0;36merror_handler\u001b[0;34m(*args, **kwargs)\u001b[0m\n\u001b[1;32m    148\u001b[0m     \u001b[0mfiltered_tb\u001b[0m \u001b[0;34m=\u001b[0m \u001b[0;32mNone\u001b[0m\u001b[0;34m\u001b[0m\u001b[0;34m\u001b[0m\u001b[0m\n\u001b[1;32m    149\u001b[0m     \u001b[0;32mtry\u001b[0m\u001b[0;34m:\u001b[0m\u001b[0;34m\u001b[0m\u001b[0;34m\u001b[0m\u001b[0m\n\u001b[0;32m--> 150\u001b[0;31m       \u001b[0;32mreturn\u001b[0m \u001b[0mfn\u001b[0m\u001b[0;34m(\u001b[0m\u001b[0;34m*\u001b[0m\u001b[0margs\u001b[0m\u001b[0;34m,\u001b[0m \u001b[0;34m**\u001b[0m\u001b[0mkwargs\u001b[0m\u001b[0;34m)\u001b[0m\u001b[0;34m\u001b[0m\u001b[0;34m\u001b[0m\u001b[0m\n\u001b[0m\u001b[1;32m    151\u001b[0m     \u001b[0;32mexcept\u001b[0m \u001b[0mException\u001b[0m \u001b[0;32mas\u001b[0m \u001b[0me\u001b[0m\u001b[0;34m:\u001b[0m\u001b[0;34m\u001b[0m\u001b[0;34m\u001b[0m\u001b[0m\n\u001b[1;32m    152\u001b[0m       \u001b[0mfiltered_tb\u001b[0m \u001b[0;34m=\u001b[0m \u001b[0m_process_traceback_frames\u001b[0m\u001b[0;34m(\u001b[0m\u001b[0me\u001b[0m\u001b[0;34m.\u001b[0m\u001b[0m__traceback__\u001b[0m\u001b[0;34m)\u001b[0m\u001b[0;34m\u001b[0m\u001b[0;34m\u001b[0m\u001b[0m\n",
            "\u001b[0;32m/usr/local/lib/python3.8/dist-packages/tensorflow/python/eager/def_function.py\u001b[0m in \u001b[0;36m__call__\u001b[0;34m(self, *args, **kwds)\u001b[0m\n\u001b[1;32m    913\u001b[0m \u001b[0;34m\u001b[0m\u001b[0m\n\u001b[1;32m    914\u001b[0m       \u001b[0;32mwith\u001b[0m \u001b[0mOptionalXlaContext\u001b[0m\u001b[0;34m(\u001b[0m\u001b[0mself\u001b[0m\u001b[0;34m.\u001b[0m\u001b[0m_jit_compile\u001b[0m\u001b[0;34m)\u001b[0m\u001b[0;34m:\u001b[0m\u001b[0;34m\u001b[0m\u001b[0;34m\u001b[0m\u001b[0m\n\u001b[0;32m--> 915\u001b[0;31m         \u001b[0mresult\u001b[0m \u001b[0;34m=\u001b[0m \u001b[0mself\u001b[0m\u001b[0;34m.\u001b[0m\u001b[0m_call\u001b[0m\u001b[0;34m(\u001b[0m\u001b[0;34m*\u001b[0m\u001b[0margs\u001b[0m\u001b[0;34m,\u001b[0m \u001b[0;34m**\u001b[0m\u001b[0mkwds\u001b[0m\u001b[0;34m)\u001b[0m\u001b[0;34m\u001b[0m\u001b[0;34m\u001b[0m\u001b[0m\n\u001b[0m\u001b[1;32m    916\u001b[0m \u001b[0;34m\u001b[0m\u001b[0m\n\u001b[1;32m    917\u001b[0m       \u001b[0mnew_tracing_count\u001b[0m \u001b[0;34m=\u001b[0m \u001b[0mself\u001b[0m\u001b[0;34m.\u001b[0m\u001b[0mexperimental_get_tracing_count\u001b[0m\u001b[0;34m(\u001b[0m\u001b[0;34m)\u001b[0m\u001b[0;34m\u001b[0m\u001b[0;34m\u001b[0m\u001b[0m\n",
            "\u001b[0;32m/usr/local/lib/python3.8/dist-packages/tensorflow/python/eager/def_function.py\u001b[0m in \u001b[0;36m_call\u001b[0;34m(self, *args, **kwds)\u001b[0m\n\u001b[1;32m    978\u001b[0m         \u001b[0;31m# Lifting succeeded, so variables are initialized and we can run the\u001b[0m\u001b[0;34m\u001b[0m\u001b[0;34m\u001b[0m\u001b[0;34m\u001b[0m\u001b[0m\n\u001b[1;32m    979\u001b[0m         \u001b[0;31m# stateless function.\u001b[0m\u001b[0;34m\u001b[0m\u001b[0;34m\u001b[0m\u001b[0;34m\u001b[0m\u001b[0m\n\u001b[0;32m--> 980\u001b[0;31m         \u001b[0;32mreturn\u001b[0m \u001b[0mself\u001b[0m\u001b[0;34m.\u001b[0m\u001b[0m_stateless_fn\u001b[0m\u001b[0;34m(\u001b[0m\u001b[0;34m*\u001b[0m\u001b[0margs\u001b[0m\u001b[0;34m,\u001b[0m \u001b[0;34m**\u001b[0m\u001b[0mkwds\u001b[0m\u001b[0;34m)\u001b[0m\u001b[0;34m\u001b[0m\u001b[0;34m\u001b[0m\u001b[0m\n\u001b[0m\u001b[1;32m    981\u001b[0m     \u001b[0;32melse\u001b[0m\u001b[0;34m:\u001b[0m\u001b[0;34m\u001b[0m\u001b[0;34m\u001b[0m\u001b[0m\n\u001b[1;32m    982\u001b[0m       _, _, filtered_flat_args = (\n",
            "\u001b[0;32m/usr/local/lib/python3.8/dist-packages/tensorflow/python/eager/function.py\u001b[0m in \u001b[0;36m__call__\u001b[0;34m(self, *args, **kwargs)\u001b[0m\n\u001b[1;32m   2451\u001b[0m       (graph_function,\n\u001b[1;32m   2452\u001b[0m        filtered_flat_args) = self._maybe_define_function(args, kwargs)\n\u001b[0;32m-> 2453\u001b[0;31m     return graph_function._call_flat(\n\u001b[0m\u001b[1;32m   2454\u001b[0m         filtered_flat_args, captured_inputs=graph_function.captured_inputs)  # pylint: disable=protected-access\n\u001b[1;32m   2455\u001b[0m \u001b[0;34m\u001b[0m\u001b[0m\n",
            "\u001b[0;32m/usr/local/lib/python3.8/dist-packages/tensorflow/python/eager/function.py\u001b[0m in \u001b[0;36m_call_flat\u001b[0;34m(self, args, captured_inputs, cancellation_manager)\u001b[0m\n\u001b[1;32m   1858\u001b[0m         and executing_eagerly):\n\u001b[1;32m   1859\u001b[0m       \u001b[0;31m# No tape is watching; skip to running the function.\u001b[0m\u001b[0;34m\u001b[0m\u001b[0;34m\u001b[0m\u001b[0;34m\u001b[0m\u001b[0m\n\u001b[0;32m-> 1860\u001b[0;31m       return self._build_call_outputs(self._inference_function.call(\n\u001b[0m\u001b[1;32m   1861\u001b[0m           ctx, args, cancellation_manager=cancellation_manager))\n\u001b[1;32m   1862\u001b[0m     forward_backward = self._select_forward_and_backward_functions(\n",
            "\u001b[0;32m/usr/local/lib/python3.8/dist-packages/tensorflow/python/eager/function.py\u001b[0m in \u001b[0;36mcall\u001b[0;34m(self, ctx, args, cancellation_manager)\u001b[0m\n\u001b[1;32m    495\u001b[0m       \u001b[0;32mwith\u001b[0m \u001b[0m_InterpolateFunctionError\u001b[0m\u001b[0;34m(\u001b[0m\u001b[0mself\u001b[0m\u001b[0;34m)\u001b[0m\u001b[0;34m:\u001b[0m\u001b[0;34m\u001b[0m\u001b[0;34m\u001b[0m\u001b[0m\n\u001b[1;32m    496\u001b[0m         \u001b[0;32mif\u001b[0m \u001b[0mcancellation_manager\u001b[0m \u001b[0;32mis\u001b[0m \u001b[0;32mNone\u001b[0m\u001b[0;34m:\u001b[0m\u001b[0;34m\u001b[0m\u001b[0;34m\u001b[0m\u001b[0m\n\u001b[0;32m--> 497\u001b[0;31m           outputs = execute.execute(\n\u001b[0m\u001b[1;32m    498\u001b[0m               \u001b[0mstr\u001b[0m\u001b[0;34m(\u001b[0m\u001b[0mself\u001b[0m\u001b[0;34m.\u001b[0m\u001b[0msignature\u001b[0m\u001b[0;34m.\u001b[0m\u001b[0mname\u001b[0m\u001b[0;34m)\u001b[0m\u001b[0;34m,\u001b[0m\u001b[0;34m\u001b[0m\u001b[0;34m\u001b[0m\u001b[0m\n\u001b[1;32m    499\u001b[0m               \u001b[0mnum_outputs\u001b[0m\u001b[0;34m=\u001b[0m\u001b[0mself\u001b[0m\u001b[0;34m.\u001b[0m\u001b[0m_num_outputs\u001b[0m\u001b[0;34m,\u001b[0m\u001b[0;34m\u001b[0m\u001b[0;34m\u001b[0m\u001b[0m\n",
            "\u001b[0;32m/usr/local/lib/python3.8/dist-packages/tensorflow/python/eager/execute.py\u001b[0m in \u001b[0;36mquick_execute\u001b[0;34m(op_name, num_outputs, inputs, attrs, ctx, name)\u001b[0m\n\u001b[1;32m     52\u001b[0m   \u001b[0;32mtry\u001b[0m\u001b[0;34m:\u001b[0m\u001b[0;34m\u001b[0m\u001b[0;34m\u001b[0m\u001b[0m\n\u001b[1;32m     53\u001b[0m     \u001b[0mctx\u001b[0m\u001b[0;34m.\u001b[0m\u001b[0mensure_initialized\u001b[0m\u001b[0;34m(\u001b[0m\u001b[0;34m)\u001b[0m\u001b[0;34m\u001b[0m\u001b[0;34m\u001b[0m\u001b[0m\n\u001b[0;32m---> 54\u001b[0;31m     tensors = pywrap_tfe.TFE_Py_Execute(ctx._handle, device_name, op_name,\n\u001b[0m\u001b[1;32m     55\u001b[0m                                         inputs, attrs, num_outputs)\n\u001b[1;32m     56\u001b[0m   \u001b[0;32mexcept\u001b[0m \u001b[0mcore\u001b[0m\u001b[0;34m.\u001b[0m\u001b[0m_NotOkStatusException\u001b[0m \u001b[0;32mas\u001b[0m \u001b[0me\u001b[0m\u001b[0;34m:\u001b[0m\u001b[0;34m\u001b[0m\u001b[0;34m\u001b[0m\u001b[0m\n",
            "\u001b[0;31mKeyboardInterrupt\u001b[0m: "
          ]
        }
      ],
      "source": [
        "import tensorflow as tf\n",
        "\n",
        "base_model = InceptionV3(weights='imagenet', include_top=False)\n",
        "input = Input(shape=(300,300,3),name='input1')\n",
        "input_gender = Input(shape=(1,),dtype='float32',name='input2')\n",
        "input_age = Input(shape=(2,114),dtype='float32',name='input3')\n",
        "output = base_model(input)\n",
        "gender_embedding=Dense(32)(input_gender)\n",
        "#age_embedding=Dense(240)(input_age)\n",
        "x = keras.layers.Conv2D(256,kernel_size=(3,3))(output)\n",
        "x = keras.layers.MaxPooling2D(pool_size=(3,3))(x)\n",
        "x=Flatten()(x)\n",
        "f = keras.layers.Concatenate(axis=1)([x,gender_embedding])\n",
        "f = Dense(512, activation='relu')(f)\n",
        "x =Dense(228,activation='linear')(f)\n",
        "y=Flatten()(input_age)\n",
        "print(y.shape)\n",
        "f = keras.layers.Multiply()([x,y])\n",
        "predictions=Dense(1)(f)\n",
        "\n",
        "model = Model(inputs=[input,input_gender,input_age], outputs=predictions)\n",
        "for i,layer in enumerate(model.layers):\n",
        "    print (i,layer.name)\n",
        "\n",
        "Adam=keras.optimizers.Adam(lr=0.0001,beta_1=0.9,beta_2=0.999)\n",
        "model.compile(optimizer=Adam, loss='mean_absolute_error', metrics=['MAE'])\n",
        "\n",
        "model.summary()\n",
        "\n",
        "checkpoint =keras.callbacks.ModelCheckpoint(filepath='weights_inception.{epoch:02d}-{val_loss:.2f}.hdf5',save_weights_only=True,period=40)\n",
        "history=model.fit([x_train,gender_train,aget],y_train,batch_size=4,epochs=40,verbose=1,validation_data=([x_valid,gender_valid,agev],y_valid),callbacks = [checkpoint])\n",
        "#history=model.fit_generator(DataGen.flow([x_train,gender_train,aget],y_train,batch_size=batch_size),steps_per_epoch=np.ceil(len(y_train)/batch_size),epochs=10,verbose=1,validation_data=([x_valid,gender_valid,agev],y_valid))\n",
        "score = model.evaluate([x_test,gender_test,agev], y_test, batch_size=batch_size)\n",
        "print('Test loss:', score[0])\n",
        "print('Test MAE:', score[1])"
      ]
    },
    {
      "cell_type": "code",
      "execution_count": null,
      "metadata": {
        "colab": {
          "base_uri": "https://localhost:8080/",
          "height": 295
        },
        "id": "OWepwrpZ8thk",
        "outputId": "8f8a623a-26e5-4a55-f9de-16cbd762b41a"
      },
      "outputs": [
        {
          "data": {
            "image/png": "[encoded data removed]",
            "text/plain": [
              "<Figure size 432x288 with 1 Axes>"
            ]
          },
          "metadata": {},
          "output_type": "display_data"
        }
      ],
      "source": [
        "plt.plot(history.history['loss'])\n",
        "plt.plot(history.history['val_loss'])\n",
        "plt.title('Model loss')\n",
        "plt.ylabel('Loss')\n",
        "plt.xlabel('Epoch')\n",
        "plt.legend(['Train', 'Validation'], loc='upper left')\n",
        "plt.show()"
      ]
    },
    {
      "cell_type": "code",
      "execution_count": null,
      "metadata": {
        "colab": {
          "base_uri": "https://localhost:8080/"
        },
        "id": "dlkg2AMK8yfO",
        "outputId": "43999c4c-a3b5-428c-a51c-74394600eeca"
      },
      "outputs": [
        {
          "name": "stdout",
          "output_type": "stream",
          "text": [
            "(None, 228)\n",
            "0 input1\n",
            "1 densenet201\n",
            "2 conv2d_395\n",
            "3 max_pooling2d_16\n",
            "4 input2\n",
            "5 flatten_8\n",
            "6 dense_13\n",
            "7 concatenate_8\n",
            "8 dense_14\n",
            "9 input3\n",
            "10 dense_15\n",
            "11 flatten_9\n",
            "12 multiply_4\n",
            "13 dense_16\n",
            "Model: \"model_1\"\n",
            "__________________________________________________________________________________________________\n",
            " Layer (type)                   Output Shape         Param #     Connected to                     \n",
            "==================================================================================================\n",
            " input1 (InputLayer)            [(None, 300, 300, 3  0           []                               \n",
            "                                )]                                                                \n",
            "                                                                                                  \n",
            " densenet201 (Functional)       (None, None, None,   18321984    ['input1[0][0]']                 \n",
            "                                1920)                                                             \n",
            "                                                                                                  \n",
            " conv2d_395 (Conv2D)            (None, 7, 7, 256)    4423936     ['densenet201[0][0]']            \n",
            "                                                                                                  \n",
            " max_pooling2d_16 (MaxPooling2D  (None, 2, 2, 256)   0           ['conv2d_395[0][0]']             \n",
            " )                                                                                                \n",
            "                                                                                                  \n",
            " input2 (InputLayer)            [(None, 1)]          0           []                               \n",
            "                                                                                                  \n",
            " flatten_8 (Flatten)            (None, 1024)         0           ['max_pooling2d_16[0][0]']       \n",
            "                                                                                                  \n",
            " dense_13 (Dense)               (None, 32)           64          ['input2[0][0]']                 \n",
            "                                                                                                  \n",
            " concatenate_8 (Concatenate)    (None, 1056)         0           ['flatten_8[0][0]',              \n",
            "                                                                  'dense_13[0][0]']               \n",
            "                                                                                                  \n",
            " dense_14 (Dense)               (None, 512)          541184      ['concatenate_8[0][0]']          \n",
            "                                                                                                  \n",
            " input3 (InputLayer)            [(None, 2, 114)]     0           []                               \n",
            "                                                                                                  \n",
            " dense_15 (Dense)               (None, 228)          116964      ['dense_14[0][0]']               \n",
            "                                                                                                  \n",
            " flatten_9 (Flatten)            (None, 228)          0           ['input3[0][0]']                 \n",
            "                                                                                                  \n",
            " multiply_4 (Multiply)          (None, 228)          0           ['dense_15[0][0]',               \n",
            "                                                                  'flatten_9[0][0]']              \n",
            "                                                                                                  \n",
            " dense_16 (Dense)               (None, 1)            229         ['multiply_4[0][0]']             \n",
            "                                                                                                  \n",
            "==================================================================================================\n",
            "Total params: 23,404,361\n",
            "Trainable params: 23,175,305\n",
            "Non-trainable params: 229,056\n",
            "__________________________________________________________________________________________________\n"
          ]
        },
        {
          "name": "stderr",
          "output_type": "stream",
          "text": [
            "WARNING:tensorflow:`period` argument is deprecated. Please use `save_freq` to specify the frequency in number of batches seen.\n"
          ]
        },
        {
          "name": "stdout",
          "output_type": "stream",
          "text": [
            "Epoch 1/40\n",
            "322/322 [==============================] - 87s 192ms/step - loss: 87.8864 - MAE: 87.8864 - val_loss: 47.8169 - val_MAE: 47.8169\n",
            "Epoch 2/40\n",
            "322/322 [==============================] - 51s 158ms/step - loss: 27.4790 - MAE: 27.4790 - val_loss: 29.6434 - val_MAE: 29.6434\n",
            "Epoch 3/40\n",
            "322/322 [==============================] - 51s 157ms/step - loss: 19.9467 - MAE: 19.9467 - val_loss: 21.4519 - val_MAE: 21.4519\n",
            "Epoch 4/40\n",
            "322/322 [==============================] - 51s 158ms/step - loss: 18.2061 - MAE: 18.2061 - val_loss: 24.0744 - val_MAE: 24.0744\n",
            "Epoch 5/40\n",
            "322/322 [==============================] - 51s 158ms/step - loss: 14.7013 - MAE: 14.7013 - val_loss: 17.6353 - val_MAE: 17.6353\n",
            "Epoch 6/40\n",
            "322/322 [==============================] - 51s 158ms/step - loss: 13.7493 - MAE: 13.7493 - val_loss: 23.6998 - val_MAE: 23.6998\n",
            "Epoch 7/40\n",
            "322/322 [==============================] - 51s 158ms/step - loss: 13.6840 - MAE: 13.6840 - val_loss: 18.2164 - val_MAE: 18.2164\n",
            "Epoch 8/40\n",
            "322/322 [==============================] - 51s 157ms/step - loss: 12.0704 - MAE: 12.0704 - val_loss: 17.0285 - val_MAE: 17.0285\n",
            "Epoch 9/40\n",
            "322/322 [==============================] - 51s 158ms/step - loss: 11.6791 - MAE: 11.6791 - val_loss: 17.9384 - val_MAE: 17.9384\n",
            "Epoch 10/40\n",
            "322/322 [==============================] - 51s 159ms/step - loss: 11.9658 - MAE: 11.9658 - val_loss: 18.1910 - val_MAE: 18.1910\n",
            "Epoch 11/40\n",
            "322/322 [==============================] - 51s 158ms/step - loss: 11.0167 - MAE: 11.0167 - val_loss: 15.7499 - val_MAE: 15.7499\n",
            "Epoch 12/40\n",
            "322/322 [==============================] - 51s 159ms/step - loss: 11.0033 - MAE: 11.0033 - val_loss: 22.4336 - val_MAE: 22.4336\n",
            "Epoch 13/40\n",
            "322/322 [==============================] - 51s 159ms/step - loss: 11.2171 - MAE: 11.2171 - val_loss: 19.7117 - val_MAE: 19.7117\n",
            "Epoch 14/40\n",
            "322/322 [==============================] - 51s 158ms/step - loss: 10.1771 - MAE: 10.1771 - val_loss: 17.8446 - val_MAE: 17.8446\n",
            "Epoch 15/40\n",
            "322/322 [==============================] - 51s 158ms/step - loss: 9.7086 - MAE: 9.7086 - val_loss: 14.7751 - val_MAE: 14.7751\n",
            "Epoch 16/40\n",
            "322/322 [==============================] - 51s 158ms/step - loss: 10.6815 - MAE: 10.6815 - val_loss: 13.3492 - val_MAE: 13.3492\n",
            "Epoch 17/40\n",
            "322/322 [==============================] - 51s 158ms/step - loss: 8.6518 - MAE: 8.6518 - val_loss: 14.6888 - val_MAE: 14.6888\n",
            "Epoch 18/40\n",
            "322/322 [==============================] - 51s 157ms/step - loss: 8.8212 - MAE: 8.8212 - val_loss: 14.8692 - val_MAE: 14.8692\n",
            "Epoch 19/40\n",
            "322/322 [==============================] - 51s 159ms/step - loss: 8.5600 - MAE: 8.5600 - val_loss: 22.5145 - val_MAE: 22.5145\n",
            "Epoch 20/40\n",
            "322/322 [==============================] - 51s 159ms/step - loss: 9.0714 - MAE: 9.0714 - val_loss: 16.6505 - val_MAE: 16.6505\n",
            "Epoch 21/40\n",
            "322/322 [==============================] - 51s 158ms/step - loss: 9.0300 - MAE: 9.0300 - val_loss: 15.5992 - val_MAE: 15.5992\n",
            "Epoch 22/40\n",
            "322/322 [==============================] - 51s 159ms/step - loss: 8.8066 - MAE: 8.8066 - val_loss: 13.5752 - val_MAE: 13.5752\n",
            "Epoch 23/40\n",
            "322/322 [==============================] - 51s 158ms/step - loss: 8.1348 - MAE: 8.1348 - val_loss: 13.9626 - val_MAE: 13.9626\n",
            "Epoch 24/40\n",
            "322/322 [==============================] - 51s 159ms/step - loss: 7.9000 - MAE: 7.9000 - val_loss: 15.8091 - val_MAE: 15.8091\n",
            "Epoch 25/40\n",
            "322/322 [==============================] - 51s 158ms/step - loss: 7.6513 - MAE: 7.6513 - val_loss: 13.2188 - val_MAE: 13.2188\n",
            "Epoch 26/40\n",
            "322/322 [==============================] - 51s 158ms/step - loss: 7.5913 - MAE: 7.5913 - val_loss: 15.3049 - val_MAE: 15.3049\n",
            "Epoch 27/40\n",
            "322/322 [==============================] - 51s 158ms/step - loss: 7.4920 - MAE: 7.4920 - val_loss: 16.5173 - val_MAE: 16.5173\n",
            "Epoch 28/40\n",
            "322/322 [==============================] - 51s 157ms/step - loss: 7.8131 - MAE: 7.8131 - val_loss: 16.3158 - val_MAE: 16.3158\n",
            "Epoch 29/40\n",
            "322/322 [==============================] - 51s 157ms/step - loss: 7.4179 - MAE: 7.4179 - val_loss: 12.8792 - val_MAE: 12.8792\n",
            "Epoch 30/40\n",
            "322/322 [==============================] - 51s 158ms/step - loss: 8.0199 - MAE: 8.0199 - val_loss: 20.0165 - val_MAE: 20.0165\n",
            "Epoch 31/40\n",
            "322/322 [==============================] - 51s 157ms/step - loss: 7.1783 - MAE: 7.1783 - val_loss: 13.2037 - val_MAE: 13.2037\n",
            "Epoch 32/40\n",
            "322/322 [==============================] - 51s 157ms/step - loss: 7.3888 - MAE: 7.3888 - val_loss: 16.9897 - val_MAE: 16.9897\n",
            "Epoch 33/40\n",
            "322/322 [==============================] - 51s 158ms/step - loss: 6.9307 - MAE: 6.9307 - val_loss: 16.8056 - val_MAE: 16.8056\n",
            "Epoch 34/40\n",
            "322/322 [==============================] - 51s 158ms/step - loss: 6.9790 - MAE: 6.9790 - val_loss: 11.9004 - val_MAE: 11.9004\n",
            "Epoch 35/40\n",
            "322/322 [==============================] - 51s 158ms/step - loss: 6.0351 - MAE: 6.0351 - val_loss: 13.9174 - val_MAE: 13.9174\n",
            "Epoch 36/40\n",
            "322/322 [==============================] - 51s 158ms/step - loss: 6.1711 - MAE: 6.1711 - val_loss: 11.9453 - val_MAE: 11.9453\n",
            "Epoch 37/40\n",
            "322/322 [==============================] - 51s 157ms/step - loss: 6.5941 - MAE: 6.5941 - val_loss: 13.3923 - val_MAE: 13.3923\n",
            "Epoch 38/40\n",
            "322/322 [==============================] - 51s 157ms/step - loss: 6.6265 - MAE: 6.6265 - val_loss: 13.5483 - val_MAE: 13.5483\n",
            "Epoch 39/40\n",
            "322/322 [==============================] - 51s 158ms/step - loss: 5.8115 - MAE: 5.8115 - val_loss: 13.3251 - val_MAE: 13.3251\n",
            "Epoch 40/40\n",
            "322/322 [==============================] - 51s 159ms/step - loss: 6.4241 - MAE: 6.4241 - val_loss: 13.2135 - val_MAE: 13.2135\n",
            "4/4 [==============================] - 4s 107ms/step - loss: 11.0307 - MAE: 11.0307\n",
            "Test loss: 11.030664443969727\n",
            "Test MAE: 11.030664443969727\n"
          ]
        }
      ],
      "source": [
        "from tensorflow.keras.applications.densenet import DenseNet201\n",
        "\n",
        "base_model = DenseNet201(weights='imagenet', include_top=False)\n",
        "input = Input(shape=(300,300,3),name='input1')\n",
        "input_gender = Input(shape=(1,),dtype='float32',name='input2')\n",
        "input_age = Input(shape=(2,114),dtype='float32',name='input3')\n",
        "output = base_model(input)\n",
        "gender_embedding=Dense(32)(input_gender)\n",
        "#age_embedding=Dense(240)(input_age)\n",
        "x = keras.layers.Conv2D(256,kernel_size=(3,3))(output)\n",
        "x = keras.layers.MaxPooling2D(pool_size=(3,3))(x)\n",
        "x=Flatten()(x)\n",
        "f = keras.layers.Concatenate(axis=1)([x,gender_embedding])\n",
        "f = Dense(512, activation='relu')(f)\n",
        "x =Dense(228,activation='linear')(f)\n",
        "y=Flatten()(input_age)\n",
        "print(y.shape)\n",
        "f = keras.layers.Multiply()([x,y])\n",
        "predictions=Dense(1)(f)\n",
        "\n",
        "model = Model(inputs=[input,input_gender,input_age], outputs=predictions)\n",
        "for i,layer in enumerate(model.layers):\n",
        "    print (i,layer.name)\n",
        "\n",
        "Adam=keras.optimizers.Adam(lr=0.0001,beta_1=0.9,beta_2=0.999)\n",
        "model.compile(optimizer=Adam, loss='mean_absolute_error', metrics=['MAE'])\n",
        "\n",
        "model.summary()\n",
        "\n",
        "\n",
        "checkpoint =keras.callbacks.ModelCheckpoint(filepath='weights_densnet.{epoch:02d}-{val_loss:.2f}.hdf5',save_weights_only=True,period=40)\n",
        "history=model.fit([x_train,gender_train,aget],y_train,batch_size=4,epochs=40,verbose=1,validation_data=([x_valid,gender_valid,agev],y_valid),callbacks = [checkpoint])\n",
        "#history=model.fit_generator(DataGen.flow([x_train,gender_train,aget],y_train,batch_size=batch_size),steps_per_epoch=np.ceil(len(y_train)/batch_size),epochs=10,verbose=1,validation_data=([x_valid,gender_valid,agev],y_valid))\n",
        "score = model.evaluate([x_test,gender_test,agev], y_test, batch_size=batch_size)\n",
        "print('Test loss:', score[0])\n",
        "print('Test MAE:', score[1])"
      ]
    },
    {
      "cell_type": "code",
      "execution_count": null,
      "metadata": {
        "colab": {
          "base_uri": "https://localhost:8080/",
          "height": 295
        },
        "id": "tP5TsJB99AwR",
        "outputId": "19c63bd5-93c0-4c7d-c1a1-f0eb5c70895a"
      },
      "outputs": [
        {
          "data": {
            "image/png": "[encoded data removed]",
            "text/plain": [
              "<Figure size 432x288 with 1 Axes>"
            ]
          },
          "metadata": {},
          "output_type": "display_data"
        }
      ],
      "source": [
        "plt.plot(history.history['loss'])\n",
        "plt.plot(history.history['val_loss'])\n",
        "plt.title('Model loss')\n",
        "plt.ylabel('Loss')\n",
        "plt.xlabel('Epoch')\n",
        "plt.legend(['Train', 'Validation'], loc='upper left')\n",
        "plt.show()"
      ]
    },
    {
      "cell_type": "code",
      "execution_count": null,
      "metadata": {
        "colab": {
          "base_uri": "https://localhost:8080/"
        },
        "id": "QaAFxq8m83MC",
        "outputId": "0ca7777c-a4bc-46eb-d334-8c63e6412e0e"
      },
      "outputs": [
        {
          "name": "stdout",
          "output_type": "stream",
          "text": [
            "(None, 228)\n",
            "0 input1\n",
            "1 inception_resnet_v2\n",
            "2 conv2d_599\n",
            "3 max_pooling2d_21\n",
            "4 input2\n",
            "5 flatten_10\n",
            "6 dense_17\n",
            "7 concatenate_9\n",
            "8 dense_18\n",
            "9 input3\n",
            "10 dense_19\n",
            "11 flatten_11\n",
            "12 multiply_5\n",
            "13 dense_20\n",
            "Model: \"model_2\"\n",
            "__________________________________________________________________________________________________\n",
            " Layer (type)                   Output Shape         Param #     Connected to                     \n",
            "==================================================================================================\n",
            " input1 (InputLayer)            [(None, 300, 300, 3  0           []                               \n",
            "                                )]                                                                \n",
            "                                                                                                  \n",
            " inception_resnet_v2 (Functiona  (None, None, None,   54336736   ['input1[0][0]']                 \n",
            " l)                             1536)                                                             \n",
            "                                                                                                  \n",
            " conv2d_599 (Conv2D)            (None, 6, 6, 256)    3539200     ['inception_resnet_v2[0][0]']    \n",
            "                                                                                                  \n",
            " max_pooling2d_21 (MaxPooling2D  (None, 2, 2, 256)   0           ['conv2d_599[0][0]']             \n",
            " )                                                                                                \n",
            "                                                                                                  \n",
            " input2 (InputLayer)            [(None, 1)]          0           []                               \n",
            "                                                                                                  \n",
            " flatten_10 (Flatten)           (None, 1024)         0           ['max_pooling2d_21[0][0]']       \n",
            "                                                                                                  \n",
            " dense_17 (Dense)               (None, 32)           64          ['input2[0][0]']                 \n",
            "                                                                                                  \n",
            " concatenate_9 (Concatenate)    (None, 1056)         0           ['flatten_10[0][0]',             \n",
            "                                                                  'dense_17[0][0]']               \n",
            "                                                                                                  \n",
            " dense_18 (Dense)               (None, 512)          541184      ['concatenate_9[0][0]']          \n",
            "                                                                                                  \n",
            " input3 (InputLayer)            [(None, 2, 114)]     0           []                               \n",
            "                                                                                                  \n",
            " dense_19 (Dense)               (None, 228)          116964      ['dense_18[0][0]']               \n",
            "                                                                                                  \n",
            " flatten_11 (Flatten)           (None, 228)          0           ['input3[0][0]']                 \n",
            "                                                                                                  \n",
            " multiply_5 (Multiply)          (None, 228)          0           ['dense_19[0][0]',               \n",
            "                                                                  'flatten_11[0][0]']             \n",
            "                                                                                                  \n",
            " dense_20 (Dense)               (None, 1)            229         ['multiply_5[0][0]']             \n",
            "                                                                                                  \n",
            "==================================================================================================\n",
            "Total params: 58,534,377\n",
            "Trainable params: 58,473,833\n",
            "Non-trainable params: 60,544\n",
            "__________________________________________________________________________________________________\n"
          ]
        },
        {
          "name": "stderr",
          "output_type": "stream",
          "text": [
            "WARNING:tensorflow:`period` argument is deprecated. Please use `save_freq` to specify the frequency in number of batches seen.\n"
          ]
        },
        {
          "name": "stdout",
          "output_type": "stream",
          "text": [
            "Epoch 1/40\n",
            "322/322 [==============================] - 88s 215ms/step - loss: 64.4070 - MAE: 64.4070 - val_loss: 1113.3740 - val_MAE: 1113.3740\n",
            "Epoch 2/40\n",
            "322/322 [==============================] - 64s 197ms/step - loss: 27.0570 - MAE: 27.0570 - val_loss: 42.4018 - val_MAE: 42.4018\n",
            "Epoch 3/40\n",
            "322/322 [==============================] - 64s 198ms/step - loss: 19.5035 - MAE: 19.5035 - val_loss: 132.2687 - val_MAE: 132.2687\n",
            "Epoch 4/40\n",
            "322/322 [==============================] - 64s 199ms/step - loss: 16.1300 - MAE: 16.1300 - val_loss: 18.0157 - val_MAE: 18.0157\n",
            "Epoch 5/40\n",
            "322/322 [==============================] - 64s 198ms/step - loss: 14.3333 - MAE: 14.3333 - val_loss: 18.2466 - val_MAE: 18.2466\n",
            "Epoch 6/40\n",
            "322/322 [==============================] - 64s 198ms/step - loss: 13.7322 - MAE: 13.7322 - val_loss: 17.9353 - val_MAE: 17.9353\n",
            "Epoch 7/40\n",
            "322/322 [==============================] - 63s 197ms/step - loss: 12.9951 - MAE: 12.9951 - val_loss: 17.6895 - val_MAE: 17.6895\n",
            "Epoch 8/40\n",
            "322/322 [==============================] - 66s 206ms/step - loss: 11.1701 - MAE: 11.1701 - val_loss: 16.5928 - val_MAE: 16.5928\n",
            "Epoch 9/40\n",
            "322/322 [==============================] - 67s 208ms/step - loss: 10.6546 - MAE: 10.6546 - val_loss: 15.4655 - val_MAE: 15.4655\n",
            "Epoch 10/40\n",
            "322/322 [==============================] - 64s 199ms/step - loss: 11.3929 - MAE: 11.3929 - val_loss: 18.8493 - val_MAE: 18.8493\n",
            "Epoch 11/40\n",
            "322/322 [==============================] - 64s 199ms/step - loss: 12.3950 - MAE: 12.3950 - val_loss: 25.0748 - val_MAE: 25.0748\n",
            "Epoch 12/40\n",
            "322/322 [==============================] - 64s 197ms/step - loss: 11.2734 - MAE: 11.2734 - val_loss: 16.5923 - val_MAE: 16.5923\n",
            "Epoch 13/40\n",
            "322/322 [==============================] - 64s 199ms/step - loss: 10.1915 - MAE: 10.1915 - val_loss: 16.3468 - val_MAE: 16.3468\n",
            "Epoch 14/40\n",
            "322/322 [==============================] - 63s 197ms/step - loss: 9.8125 - MAE: 9.8125 - val_loss: 16.9393 - val_MAE: 16.9393\n",
            "Epoch 15/40\n",
            "322/322 [==============================] - 63s 197ms/step - loss: 9.0651 - MAE: 9.0651 - val_loss: 15.9066 - val_MAE: 15.9066\n",
            "Epoch 16/40\n",
            "322/322 [==============================] - 63s 197ms/step - loss: 10.7070 - MAE: 10.7070 - val_loss: 42.2641 - val_MAE: 42.2641\n",
            "Epoch 17/40\n",
            "322/322 [==============================] - 64s 199ms/step - loss: 9.0412 - MAE: 9.0412 - val_loss: 15.6200 - val_MAE: 15.6200\n",
            "Epoch 18/40\n",
            "322/322 [==============================] - 64s 199ms/step - loss: 8.8343 - MAE: 8.8343 - val_loss: 15.4339 - val_MAE: 15.4339\n",
            "Epoch 19/40\n",
            "322/322 [==============================] - 64s 199ms/step - loss: 9.3187 - MAE: 9.3187 - val_loss: 17.8339 - val_MAE: 17.8339\n",
            "Epoch 20/40\n",
            "322/322 [==============================] - 64s 199ms/step - loss: 8.4682 - MAE: 8.4682 - val_loss: 13.9421 - val_MAE: 13.9421\n",
            "Epoch 21/40\n",
            "322/322 [==============================] - 64s 198ms/step - loss: 8.5650 - MAE: 8.5650 - val_loss: 17.4064 - val_MAE: 17.4064\n",
            "Epoch 22/40\n",
            "322/322 [==============================] - 64s 199ms/step - loss: 8.2493 - MAE: 8.2493 - val_loss: 15.4359 - val_MAE: 15.4359\n",
            "Epoch 23/40\n",
            "322/322 [==============================] - 63s 197ms/step - loss: 7.6915 - MAE: 7.6915 - val_loss: 14.2987 - val_MAE: 14.2987\n",
            "Epoch 24/40\n",
            "322/322 [==============================] - 64s 198ms/step - loss: 7.5371 - MAE: 7.5371 - val_loss: 13.4156 - val_MAE: 13.4156\n",
            "Epoch 25/40\n",
            "322/322 [==============================] - 63s 197ms/step - loss: 7.5944 - MAE: 7.5944 - val_loss: 13.2768 - val_MAE: 13.2768\n",
            "Epoch 26/40\n",
            "322/322 [==============================] - 63s 197ms/step - loss: 7.5137 - MAE: 7.5137 - val_loss: 14.1579 - val_MAE: 14.1579\n",
            "Epoch 27/40\n",
            "322/322 [==============================] - 63s 197ms/step - loss: 7.2415 - MAE: 7.2415 - val_loss: 13.3500 - val_MAE: 13.3500\n",
            "Epoch 28/40\n",
            "322/322 [==============================] - 63s 197ms/step - loss: 7.8873 - MAE: 7.8873 - val_loss: 12.5921 - val_MAE: 12.5921\n",
            "Epoch 29/40\n",
            "322/322 [==============================] - 64s 199ms/step - loss: 7.8639 - MAE: 7.8639 - val_loss: 16.8186 - val_MAE: 16.8186\n",
            "Epoch 30/40\n",
            "322/322 [==============================] - 64s 198ms/step - loss: 7.5090 - MAE: 7.5090 - val_loss: 11.5891 - val_MAE: 11.5891\n",
            "Epoch 31/40\n",
            "322/322 [==============================] - 63s 197ms/step - loss: 9.6009 - MAE: 9.6009 - val_loss: 15.4738 - val_MAE: 15.4738\n",
            "Epoch 32/40\n",
            "322/322 [==============================] - 63s 197ms/step - loss: 7.0182 - MAE: 7.0182 - val_loss: 15.8181 - val_MAE: 15.8181\n",
            "Epoch 33/40\n",
            "322/322 [==============================] - 63s 197ms/step - loss: 6.2178 - MAE: 6.2178 - val_loss: 12.1996 - val_MAE: 12.1996\n",
            "Epoch 34/40\n",
            "322/322 [==============================] - 63s 197ms/step - loss: 6.0768 - MAE: 6.0768 - val_loss: 13.3338 - val_MAE: 13.3338\n",
            "Epoch 35/40\n",
            "322/322 [==============================] - 63s 196ms/step - loss: 6.0664 - MAE: 6.0664 - val_loss: 19.0866 - val_MAE: 19.0866\n",
            "Epoch 36/40\n",
            "322/322 [==============================] - 63s 197ms/step - loss: 5.8587 - MAE: 5.8587 - val_loss: 14.4333 - val_MAE: 14.4333\n",
            "Epoch 37/40\n",
            "322/322 [==============================] - 64s 197ms/step - loss: 5.6238 - MAE: 5.6238 - val_loss: 15.9490 - val_MAE: 15.9490\n",
            "Epoch 38/40\n",
            "322/322 [==============================] - 64s 197ms/step - loss: 6.1499 - MAE: 6.1499 - val_loss: 12.3154 - val_MAE: 12.3154\n",
            "Epoch 39/40\n",
            "322/322 [==============================] - 64s 198ms/step - loss: 5.3179 - MAE: 5.3179 - val_loss: 11.7769 - val_MAE: 11.7769\n",
            "Epoch 40/40\n",
            "322/322 [==============================] - 65s 201ms/step - loss: 5.7391 - MAE: 5.7391 - val_loss: 14.6753 - val_MAE: 14.6753\n",
            "4/4 [==============================] - 2s 127ms/step - loss: 11.8351 - MAE: 11.8351\n",
            "Test loss: 11.835099220275879\n",
            "Test MAE: 11.835099220275879\n"
          ]
        }
      ],
      "source": [
        "from tensorflow.keras.applications.inception_resnet_v2 import InceptionResNetV2\n",
        "\n",
        "base_model = InceptionResNetV2(weights='imagenet', include_top=False)\n",
        "input = Input(shape=(300,300,3),name='input1')\n",
        "input_gender = Input(shape=(1,),dtype='float32',name='input2')\n",
        "input_age = Input(shape=(2,114),dtype='float32',name='input3')\n",
        "output = base_model(input)\n",
        "gender_embedding=Dense(32)(input_gender)\n",
        "#age_embedding=Dense(240)(input_age)\n",
        "x = keras.layers.Conv2D(256,kernel_size=(3,3))(output)\n",
        "x = keras.layers.MaxPooling2D(pool_size=(3,3))(x)\n",
        "x=Flatten()(x)\n",
        "f = keras.layers.Concatenate(axis=1)([x,gender_embedding])\n",
        "f = Dense(512, activation='relu')(f)\n",
        "x =Dense(228,activation='linear')(f)\n",
        "y=Flatten()(input_age)\n",
        "print(y.shape)\n",
        "f = keras.layers.Multiply()([x,y])\n",
        "predictions=Dense(1)(f)\n",
        "\n",
        "model = Model(inputs=[input,input_gender,input_age], outputs=predictions)\n",
        "for i,layer in enumerate(model.layers):\n",
        "    print (i,layer.name)\n",
        "\n",
        "Adam=keras.optimizers.Adam(lr=0.0001,beta_1=0.9,beta_2=0.999)\n",
        "model.compile(optimizer=Adam, loss='mean_absolute_error', metrics=['MAE'])\n",
        "\n",
        "model.summary()\n",
        "\n",
        "\n",
        "checkpoint =keras.callbacks.ModelCheckpoint(filepath='weights_invres.{epoch:02d}-{val_loss:.2f}.hdf5',save_weights_only=True,period=40)\n",
        "history=model.fit([x_train,gender_train,aget],y_train,batch_size=4,epochs=40,verbose=1,validation_data=([x_valid,gender_valid,agev],y_valid),callbacks = [checkpoint])\n",
        "#history=model.fit_generator(DataGen.flow([x_train,gender_train,aget],y_train,batch_size=batch_size),steps_per_epoch=np.ceil(len(y_train)/batch_size),epochs=10,verbose=1,validation_data=([x_valid,gender_valid,agev],y_valid))\n",
        "score = model.evaluate([x_test,gender_test,agev], y_test, batch_size=batch_size)\n",
        "print('Test loss:', score[0])\n",
        "print('Test MAE:', score[1])"
      ]
    },
    {
      "cell_type": "code",
      "execution_count": null,
      "metadata": {
        "colab": {
          "base_uri": "https://localhost:8080/",
          "height": 295
        },
        "id": "HETPrqqH86Bn",
        "outputId": "8454149a-d41f-489a-ba5e-aff4203364fc"
      },
      "outputs": [
        {
          "data": {
            "image/png": "[encoded data removed]",
            "text/plain": [
              "<Figure size 432x288 with 1 Axes>"
            ]
          },
          "metadata": {},
          "output_type": "display_data"
        }
      ],
      "source": [
        "plt.plot(history.history['loss'])\n",
        "plt.plot(history.history['val_loss'])\n",
        "plt.title('Model loss')\n",
        "plt.ylabel('Loss')\n",
        "plt.xlabel('Epoch')\n",
        "plt.legend(['Train', 'Validation'], loc='upper left')\n",
        "plt.show()"
      ]
    },
    {
      "cell_type": "markdown",
      "metadata": {
        "id": "p0JKqIk2MIDI"
      },
      "source": [
        "#Augmentation"
      ]
    },
    {
      "cell_type": "code",
      "execution_count": null,
      "metadata": {
        "id": "QRH5RQeA9rci"
      },
      "outputs": [],
      "source": [
        "DataGen.fit(x_train)"
      ]
    },
    {
      "cell_type": "code",
      "execution_count": null,
      "metadata": {
        "id": "1ubiNeGsMRgj"
      },
      "outputs": [],
      "source": [
        "import tensorflow as tf\n",
        "\n",
        "base_model = InceptionV3(weights='imagenet', include_top=False)\n",
        "input = Input(shape=(300,300,3),name='input1')\n",
        "input_gender = Input(shape=(1,),dtype='float32',name='input2')\n",
        "input_age = Input(shape=(2,120),dtype='float32',name='input3')\n",
        "output = base_model(input)\n",
        "gender_embedding=Dense(32)(input_gender)\n",
        "#age_embedding=Dense(240)(input_age)\n",
        "x = keras.layers.Conv2D(256,kernel_size=(3,3))(output)\n",
        "x = keras.layers.MaxPooling2D(pool_size=(3,3))(x)\n",
        "x=Flatten()(x)\n",
        "f = keras.layers.Concatenate(axis=1)([x,gender_embedding])\n",
        "f = Dense(512, activation='relu')(f)\n",
        "x =Dense(240,activation='linear')(f)\n",
        "y=Flatten()(input_age)\n",
        "print(y.shape)\n",
        "f = keras.layers.Multiply()([x,y])\n",
        "predictions=Dense(1)(f)\n",
        "\n",
        "model = Model(inputs=[input,input_gender,input_age], outputs=predictions)\n",
        "for i,layer in enumerate(model.layers):\n",
        "    print (i,layer.name)\n",
        "\n",
        "Adam=keras.optimizers.Adam(lr=0.0001,beta_1=0.9,beta_2=0.999)\n",
        "model.compile(optimizer=Adam, loss='mean_absolute_error', metrics=['MAE'])\n",
        "\n",
        "model.summary()\n",
        "\n",
        "\n",
        "checkpoint =keras.callbacks.ModelCheckpoint(filepath='weights_augincep.{epoch:02d}-{val_loss:.2f}.hdf5',save_weights_only=True,period=20)\n",
        "model.fit_generator(DataGen.flow([x_train,gender_train,aget],y_train,batch_size=batch_size),steps_per_epoch=np.ceil(len(y_train)/batch_size),epochs=50,verbose=1,validation_data=([x_valid,gender_valid,agev],y_valid))\n",
        "history=model.fit([x_train,gender_train,aget],y_train,batch_size=4,epochs=20,verbose=1,validation_data=([x_valid,gender_valid,agev],y_valid),callbacks = [checkpoint])\n",
        "score = model.evaluate([x_test,gender_test,agev], y_test, batch_size=batch_size)\n",
        "print('Test loss:', score[0])\n",
        "print('Test MAE:', score[1])"
      ]
    },
    {
      "cell_type": "code",
      "execution_count": null,
      "metadata": {
        "id": "PKiqRPudttQF"
      },
      "outputs": [],
      "source": [
        "def Generator(x_train,gender_train,y_train,age,batch_size):\n",
        "    loopcount = len(y_train)//batch_size\n",
        "    i=0\n",
        "    while (True):\n",
        "        if i>loopcount:\n",
        "            i=0\n",
        "        # i=np.random.randint(0,loopcount)\n",
        "        x_train_batch = x_train[i*batch_size:(i+1)*batch_size,:,:,:]\n",
        "        #DataGen.fit(x_train_batch)\n",
        "        gender_train_batch = gender_train[i*batch_size:(i+1)*batch_size]\n",
        "        y_train_batch = y_train[i*batch_size:(i+1)*batch_size]\n",
        "        age_train_batch = age[i*batch_size:(i+1)*batch_size]\n",
        "        inputs = [x_train_batch,gender_train_batch,age_train_batch]\n",
        "        target = y_train_batch\n",
        "        yield (inputs ,target)\n",
        "        i = i+1"
      ]
    },
    {
      "cell_type": "code",
      "execution_count": null,
      "metadata": {
        "colab": {
          "background_save": true,
          "base_uri": "https://localhost:8080/"
        },
        "id": "Yxf7iE7Mtzxi",
        "outputId": "54758fbb-e0c8-49e3-a501-d81765338de7"
      },
      "outputs": [
        {
          "name": "stdout",
          "output_type": "stream",
          "text": [
            "(None, 228)\n",
            "0 input1\n",
            "1 random_flip\n",
            "2 random_rotation\n",
            "3 inception_v3\n",
            "4 conv2d_94\n",
            "5 max_pooling2d_4\n",
            "6 input2\n",
            "7 flatten\n",
            "8 dense\n",
            "9 concatenate_2\n",
            "10 dense_1\n",
            "11 input3\n",
            "12 dense_2\n",
            "13 flatten_1\n",
            "14 multiply\n",
            "15 dense_3\n",
            "Model: \"model\"\n",
            "__________________________________________________________________________________________________\n",
            " Layer (type)                   Output Shape         Param #     Connected to                     \n",
            "==================================================================================================\n",
            " input1 (InputLayer)            [(None, 300, 300, 3  0           []                               \n",
            "                                )]                                                                \n",
            "                                                                                                  \n",
            " random_flip (RandomFlip)       (None, 300, 300, 3)  0           ['input1[0][0]']                 \n",
            "                                                                                                  \n",
            " random_rotation (RandomRotatio  (None, 300, 300, 3)  0          ['random_flip[0][0]']            \n",
            " n)                                                                                               \n",
            "                                                                                                  \n",
            " inception_v3 (Functional)      (None, None, None,   21802784    ['random_rotation[0][0]']        \n",
            "                                2048)                                                             \n",
            "                                                                                                  \n",
            " conv2d_94 (Conv2D)             (None, 6, 6, 256)    4718848     ['inception_v3[0][0]']           \n",
            "                                                                                                  \n",
            " max_pooling2d_4 (MaxPooling2D)  (None, 2, 2, 256)   0           ['conv2d_94[0][0]']              \n",
            "                                                                                                  \n",
            " input2 (InputLayer)            [(None, 1)]          0           []                               \n",
            "                                                                                                  \n",
            " flatten (Flatten)              (None, 1024)         0           ['max_pooling2d_4[0][0]']        \n",
            "                                                                                                  \n",
            " dense (Dense)                  (None, 32)           64          ['input2[0][0]']                 \n",
            "                                                                                                  \n",
            " concatenate_2 (Concatenate)    (None, 1056)         0           ['flatten[0][0]',                \n",
            "                                                                  'dense[0][0]']                  \n",
            "                                                                                                  \n",
            " dense_1 (Dense)                (None, 512)          541184      ['concatenate_2[0][0]']          \n",
            "                                                                                                  \n",
            " input3 (InputLayer)            [(None, 2, 114)]     0           []                               \n",
            "                                                                                                  \n",
            " dense_2 (Dense)                (None, 228)          116964      ['dense_1[0][0]']                \n",
            "                                                                                                  \n",
            " flatten_1 (Flatten)            (None, 228)          0           ['input3[0][0]']                 \n",
            "                                                                                                  \n",
            " multiply (Multiply)            (None, 228)          0           ['dense_2[0][0]',                \n",
            "                                                                  'flatten_1[0][0]']              \n",
            "                                                                                                  \n",
            " dense_3 (Dense)                (None, 1)            229         ['multiply[0][0]']               \n",
            "                                                                                                  \n",
            "==================================================================================================\n",
            "Total params: 27,180,073\n",
            "Trainable params: 27,145,641\n",
            "Non-trainable params: 34,432\n",
            "__________________________________________________________________________________________________\n"
          ]
        },
        {
          "name": "stderr",
          "output_type": "stream",
          "text": [
            "/usr/local/lib/python3.8/dist-packages/keras/optimizers/optimizer_v2/adam.py:110: UserWarning: The `lr` argument is deprecated, use `learning_rate` instead.\n",
            "  super(Adam, self).__init__(name, **kwargs)\n",
            "WARNING:tensorflow:`period` argument is deprecated. Please use `save_freq` to specify the frequency in number of batches seen.\n"
          ]
        },
        {
          "name": "stdout",
          "output_type": "stream",
          "text": [
            "Epoch 1/20\n",
            "    248/Unknown - 3584s 14s/step - loss: 57.8841 - MAE: 57.8841"
          ]
        }
      ],
      "source": [
        "import tensorflow as tf\n",
        "\n",
        "\n",
        "base_model = InceptionV3(weights='imagenet', include_top=False)\n",
        "input = Input(shape=(300,300,3),name='input1')\n",
        "input_gender = Input(shape=(1,),dtype='float32',name='input2')\n",
        "input_age = Input(shape=(2,114),dtype='float32',name='input3')\n",
        "data_augmentation = tf.keras.layers.RandomFlip(\"horizontal\")(input)\n",
        "data_augmentation = tf.keras.layers.RandomRotation((-0.2, 0.2))(data_augmentation)\n",
        "output = base_model(data_augmentation)\n",
        "gender_embedding=Dense(32)(input_gender)\n",
        "#age_embedding=Dense(240)(input_age)\n",
        "x = keras.layers.Conv2D(256,kernel_size=(3,3))(output)\n",
        "x = keras.layers.MaxPooling2D(pool_size=(3,3))(x)\n",
        "x=Flatten()(x)\n",
        "f = keras.layers.Concatenate(axis=1)([x,gender_embedding])\n",
        "f = Dense(512, activation='relu')(f)\n",
        "x =Dense(228,activation='linear')(f)\n",
        "y=Flatten()(input_age)\n",
        "print(y.shape)\n",
        "f = keras.layers.Multiply()([x,y])\n",
        "predictions=Dense(1)(f)\n",
        "\n",
        "model = Model(inputs=[input,input_gender,input_age], outputs=predictions)\n",
        "for i,layer in enumerate(model.layers):\n",
        "    print (i,layer.name)\n",
        "\n",
        "Adam=keras.optimizers.Adam(lr=0.0001,beta_1=0.9,beta_2=0.999)\n",
        "model.compile(optimizer=Adam, loss='mean_absolute_error', metrics=['MAE'])\n",
        "\n",
        "model.summary()\n",
        "\n",
        "\n",
        "checkpoint =keras.callbacks.ModelCheckpoint(filepath='weights_augincep.{epoch:02d}-{val_loss:.2f}.hdf5',save_weights_only=True,period=20)\n",
        "#model.fit(DataGen.flow([x_train,gender_train,aget],y_train,batch_size=batch_size),steps_per_epoch=np.ceil(len(y_train)/batch_size),epochs=40,verbose=1,validation_data=([x_valid,gender_valid,agev],y_valid))\n",
        "history=model.fit(Generator(x_train,gender_train,y_train,aget,batch_size),batch_size=batch_size,epochs=20,verbose=1,validation_data=([x_valid,gender_valid,agev],y_valid),callbacks = [checkpoint])\n",
        "score = model.evaluate([x_test,gender_test,agev], y_test, batch_size=batch_size)\n",
        "print('Test loss:', score[0])\n",
        "print('Test MAE:', score[1])"
      ]
    },
    {
      "cell_type": "code",
      "execution_count": null,
      "metadata": {
        "id": "LuOpa1pct5nS"
      },
      "outputs": [],
      "source": []
    }
  ],
  "metadata": {
    "accelerator": "GPU",
    "colab": {
      "provenance": [],
      "authorship_tag": "ABX9TyN1CGQRPH5bmiNFSvRWFxdA",
      "include_colab_link": true
    },
    "gpuClass": "standard",
    "kernelspec": {
      "display_name": "Python 3",
      "name": "python3"
    },
    "language_info": {
      "name": "python"
    }
  },
  "nbformat": 4,
  "nbformat_minor": 0
}