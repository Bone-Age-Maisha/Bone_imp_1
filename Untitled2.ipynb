{
  "nbformat": 4,
  "nbformat_minor": 0,
  "metadata": {
    "colab": {
      "provenance": [],
      "authorship_tag": "ABX9TyNB6R4U+vj+Wuqx+suRAC2k",
      "include_colab_link": true
    },
    "kernelspec": {
      "name": "python3",
      "display_name": "Python 3"
    },
    "language_info": {
      "name": "python"
    },
    "accelerator": "GPU",
    "gpuClass": "standard"
  },
  "cells": [
    {
      "cell_type": "markdown",
      "metadata": {
        "id": "view-in-github",
        "colab_type": "text"
      },
      "source": [
        "<a href=\"https://colab.research.google.com/github/Bone-Age-Maisha/Bone_imp_1/blob/main/Untitled2.ipynb\" target=\"_parent\"><img src=\"https://colab.research.google.com/assets/colab-badge.svg\" alt=\"Open In Colab\"/></a>"
      ]
    },
    {
      "cell_type": "code",
      "execution_count": 1,
      "metadata": {
        "colab": {
          "base_uri": "https://localhost:8080/"
        },
        "id": "e15YoQDQcr1n",
        "outputId": "5c8ab6e0-3068-4301-ed33-7dcc567ea414"
      },
      "outputs": [
        {
          "output_type": "stream",
          "name": "stdout",
          "text": [
            "gpu\n"
          ]
        }
      ],
      "source": [
        "print(\"gpu\")"
      ]
    },
    {
      "cell_type": "code",
      "execution_count": 2,
      "metadata": {
        "colab": {
          "base_uri": "https://localhost:8080/"
        },
        "id": "ylf9lKz_Q9Ie",
        "outputId": "5c8b288e-cc71-46c0-e0bf-3c305094a5c8"
      },
      "outputs": [
        {
          "output_type": "stream",
          "name": "stdout",
          "text": [
            "hhi gpu\n"
          ]
        }
      ],
      "source": [
        "print(\"hhi gpu\")"
      ]
    },
    {
      "cell_type": "code",
      "execution_count": 3,
      "metadata": {
        "colab": {
          "base_uri": "https://localhost:8080/"
        },
        "id": "3M4lbOHZSwYx",
        "outputId": "f03cb6ca-98df-486e-b434-5e98a81a8976"
      },
      "outputs": [
        {
          "output_type": "stream",
          "name": "stdout",
          "text": [
            "Mounted at /content/drive\n"
          ]
        }
      ],
      "source": [
        "from google.colab import drive\n",
        "drive.mount('/content/drive')"
      ]
    },
    {
      "cell_type": "code",
      "source": [
        "import numpy as np\n",
        "import cv2\n",
        "import os\n",
        "import pandas as pd\n"
      ],
      "metadata": {
        "id": "PxxRCRmoEXGv"
      },
      "execution_count": 4,
      "outputs": []
    },
    {
      "cell_type": "code",
      "source": [
        "import pandas as pd\n",
        "train_dir = '/content/drive/MyDrive/hand_atlas/image'\n",
        "df = pd.read_csv('/content/drive/MyDrive/hand_atlas/data.csv')"
      ],
      "metadata": {
        "id": "-InGAyx9JYmj"
      },
      "execution_count": 5,
      "outputs": []
    },
    {
      "cell_type": "code",
      "source": [
        "df['boneage'].max()"
      ],
      "metadata": {
        "colab": {
          "base_uri": "https://localhost:8080/"
        },
        "id": "FCEEscB06lVk",
        "outputId": "6bfe5b8e-078a-4459-dc02-9ee102005c4a"
      },
      "execution_count": 6,
      "outputs": [
        {
          "output_type": "execute_result",
          "data": {
            "text/plain": [
              "228.1"
            ]
          },
          "metadata": {},
          "execution_count": 6
        }
      ]
    },
    {
      "cell_type": "code",
      "source": [
        "df['boneage'].min()"
      ],
      "metadata": {
        "colab": {
          "base_uri": "https://localhost:8080/"
        },
        "id": "bdI72k-f6z-o",
        "outputId": "f9a090f0-3821-49f0-fd7a-8134a0735ef8"
      },
      "execution_count": 7,
      "outputs": [
        {
          "output_type": "execute_result",
          "data": {
            "text/plain": [
              "0.3616"
            ]
          },
          "metadata": {},
          "execution_count": 7
        }
      ]
    },
    {
      "cell_type": "code",
      "source": [
        "import tensorflow as tf\n",
        "gpus = tf.config.experimental.list_physical_devices('GPU')\n",
        "tf.config.experimental.set_visible_devices(gpus[0], 'GPU')\n",
        "tf.config.experimental.set_memory_growth(gpus[0], True)"
      ],
      "metadata": {
        "id": "S6eM4ZMoJcqG"
      },
      "execution_count": 8,
      "outputs": []
    },
    {
      "cell_type": "code",
      "source": [
        "X_train = []\n",
        "y_age = []\n",
        "y_gender = []\n",
        "\n",
        "#df = pd.read_csv('/raid/chenchao/code/BoneAge/BoneAge/data/Training.csv')\n",
        "a = df.values\n",
        "m = a.shape[0]\n",
        "\n",
        "path = train_dir\n",
        "k = 0\n",
        "print ('Loading data set...')\n",
        "k=1\n",
        "for i in os.listdir(path):\n",
        "  #print(i)\n",
        "  if(i==\"3131.jpg\" or i==\"4520.jpg\" or i==\"3187.jpg\"):\n",
        "    continue\n",
        "  y_age.append(df.boneage[df.id == int(i[:-4])].tolist()[0])\n",
        "  y_gender.append(df.gender[df.id == int(i[:-4])].tolist()[0])\n",
        "  #print(i)\n",
        "  img_path = path + \"/\"+i\n",
        "  img = cv2.imread(img_path)\n",
        "  #print(img.shape)\n",
        "  #print (img_path)\n",
        "  img = cv2.imread(img_path)\n",
        "    #print (img_path)\n",
        "    #if(img is not None):\n",
        "  img = cv2.cvtColor(img, cv2.COLOR_BGR2RGB)\n",
        "  img = cv2.resize(img,(300,300))\n",
        "  x = np.asarray(img, dtype=np.uint8)\n",
        "  X_train.append(x)\n",
        "  k=k+1"
      ],
      "metadata": {
        "colab": {
          "base_uri": "https://localhost:8080/"
        },
        "id": "v0rVqnQhJf3v",
        "outputId": "8150f2f9-0983-479c-a0fb-7ac593f60683"
      },
      "execution_count": 9,
      "outputs": [
        {
          "output_type": "stream",
          "name": "stdout",
          "text": [
            "Loading data set...\n"
          ]
        }
      ]
    },
    {
      "cell_type": "code",
      "source": [
        "import numpy as np\n",
        "import cv2\n",
        "from keras import backend as K\n",
        "from keras.preprocessing import image\n",
        "import os\n",
        "\n",
        "def softlabel(label,num_class):\n",
        "    softlabel=np.zeros((len(label),num_class))\n",
        "    ratio = 1.0/50\n",
        "    for i in range(len(label)):\n",
        "        for j in range(num_class):\n",
        "            softlabel[i,j]=1.0 - ratio*np.abs(j-label[i])\n",
        "    softlabel = np.maximum(softlabel,0)\n",
        "    return softlabel\n",
        "\n",
        "\n",
        "def ShowAttentionV1(model,image_path):\n",
        "    file_list = os.listdir(image_path)\n",
        "    file_list.sort()\n",
        "    for filename in file_list:\n",
        "        print (filename)\n",
        "        filepath=image_path+filename\n",
        "        image=load_image(filepath)\n",
        "        image = image/255.0\n",
        "        gender=1.0\n",
        "        gender=np.asarray(gender)\n",
        "        gender=np.expand_dims(gender,axis=0)\n",
        "        layer=K.function([model.layers[0].input],[model.layers[196].output])\n",
        "        FeatureMap=layer([image,gender])[0]\n",
        "        print (FeatureMap.shape)\n",
        "        FeatureMap = np.squeeze(FeatureMap, axis=0)\n",
        "        FeatureMap = np.abs(FeatureMap)\n",
        "        heatmap = np.mean(FeatureMap,axis=2)\n",
        "        heatmap = heatmap/np.max(heatmap)\n",
        "        heatmap = np.uint8(255*heatmap)\n",
        "        print (heatmap.shape)\n",
        "        heatmap = cv2.applyColorMap(heatmap,cv2.COLORMAP_JET)\n",
        "        SaveImg(filename,filepath,heatmap)\n",
        "    print ('********** Done ***********')\n",
        "\n",
        "def GAPAttention(model,weights,image_path):\n",
        "    file_list = os.listdir(train_dir)\n",
        "    file_list.sort()\n",
        "    for filename in file_list:\n",
        "        filepath=image_path+filename\n",
        "        print (filepath)\n",
        "        image=load_image(filepath)\n",
        "        print(\"gpa\")\n",
        "        print(image.shape)\n",
        "        image = image/255.0\n",
        "        gender=1.0\n",
        "        gender=np.asarray(gender)\n",
        "        gender=np.expand_dims(gender,axis=0)\n",
        "        print(\"ok\")\n",
        "        layer=K.function([model.layers[0].input],[model.layers[1].get_output_at(-1),model.layers[-1].output])\n",
        "        print(\"ok_1\")\n",
        "        GAP,prediction=layer([image])\n",
        "        print(\"ok_2\")\n",
        "        GAP=np.squeeze(GAP,axis=0)\n",
        "        print(\"ok_3\")\n",
        "        print (GAP.shape)\n",
        "        print(\"ok_4\")\n",
        "        index = np.argmax(prediction)\n",
        "        print(\"ok_5\")\n",
        "        print (index)\n",
        "       # weight = weights[:,index]\n",
        "        weight =np.mean(weights[:,index-5:index+5],axis=1)\n",
        "        heatmap = np.zeros((GAP.shape[0],GAP.shape[1]))\n",
        "        for k in range(GAP.shape[2]):\n",
        "            heatmap = heatmap + weight[k]*GAP[:,:,k]\n",
        "        heatmap = heatmap/np.max(heatmap)\n",
        "        heatmap = np.uint8(255*heatmap)\n",
        "        print (heatmap.shape)\n",
        "        heatmap = cv2.applyColorMap(heatmap,cv2.COLORMAP_JET)\n",
        "        SaveImg(filename,filepath,heatmap)\n",
        "    print ('********** Done ***********')\n",
        "\n",
        "def SaveImg(filename,filepath,heatmap):\n",
        "    img = cv2.imread(filepath)\n",
        "    heatmap = cv2.resize(heatmap,(img.shape[1],img.shape[0]))\n",
        "    AttentionImg =0.5* heatmap + img\n",
        "    cv2.imwrite('/content/heat'+filename,heatmap)\n",
        "    cv2.imwrite('/content/attention'+filename,AttentionImg)\n",
        "\n",
        "\n",
        "def load_image(path):\n",
        "    img = cv2.imread(path)\n",
        "    print(img.shape)\n",
        "    img = cv2.resize(img,(300,300))\n",
        "    print(img.shape)\n",
        "    x = np.asarray(img, dtype=np.float32)\n",
        "   # img = image.load_img(path, target_size=(448, 448))\n",
        "   # print (img.shape)\n",
        "   # x = image.img_to_array(img)\n",
        "    x = np.expand_dims(x, axis=0)\n",
        "    return x\n",
        "\n",
        "def TestMAE(model,test_data,test_label,test_gender):\n",
        "    test_gender = np.array(test_gender)\n",
        "    test_gender = np.expand_dims(test_gender,axis=1)\n",
        "    layer=K.function([model.layers[0].input,model.layers[3].input],[model.layers[-1].output])\n",
        "    predictions=layer([test_data,test_gender])\n",
        "    predictions = np.array(predictions)\n",
        "    predictions = np.squeeze(predictions,axis=0)\n",
        "    print (predictions.shape)\n",
        "    predict_label = np.argmax(predictions,axis=1)\n",
        "    test_label = np.argmax(test_label,axis=1)\n",
        "    print (predict_label)\n",
        "    print (test_label)\n",
        "    TestMAE = np.mean(np.abs(predict_label-test_label))\n",
        "    return TestMAE\n",
        "    \n",
        "def DataAugment(x_train):\n",
        "    x_train_Aug = np.zeros(x_train.shape)\n",
        "    for i in range(x_train.shape[0]):\n",
        "        for j in range(3):\n",
        "            img = x_train[i,:,:,j]\n",
        "            img = RandomMask(img)\n",
        "            img = RandomMask(img)\n",
        "            if np.random.random()>-1:\n",
        "                x_train_Aug[i,:,:,j]=img \n",
        "            else:\n",
        "                x_train_Aug[i,:,:,j]=x_train[i,:,:,j]\n",
        "    return x_train_Aug\n",
        "\n",
        "\n",
        "def RandomMask(img):\n",
        "    m,n=img.shape\n",
        "    m=int(m/6)\n",
        "    n=int(n/6)\n",
        "    i,j = np.random.randint(0,6,2)\n",
        "    img[i*m:(i+1)*m,j*n:(j+1)*n]=np.random.random()\n",
        "    return img"
      ],
      "metadata": {
        "id": "YbU8fbTSJlP_"
      },
      "execution_count": 10,
      "outputs": []
    },
    {
      "cell_type": "code",
      "execution_count": 11,
      "metadata": {
        "colab": {
          "base_uri": "https://localhost:8080/"
        },
        "id": "PyB_gYSNbjjP",
        "outputId": "ecc1f9c1-46c8-426d-bbfa-0beb3f56942f"
      },
      "outputs": [
        {
          "output_type": "stream",
          "name": "stdout",
          "text": [
            "[185.2  218.5   75.81  22.16 124.   218.4   61.51  87.88 135.2  174.7\n",
            " 181.3  136.8  184.8   37.55 128.   181.9  105.6  136.4  126.6  201.\n",
            "  93.3  215.6  213.   214.4  131.5  132.8   90.28 161.4  138.1  136.5\n",
            "  39.75  43.99 116.8  122.3  156.3  151.4   38.66 157.6  129.1   83.57\n",
            " 114.8   73.91 142.6   60.1  158.9  103.9  119.3  147.9  165.4   43.53]\n",
            "[ 1.  1. -1. -1.  1.  1.  1. -1.  1.  1. -1. -1. -1. -1. -1. -1.  1. -1.\n",
            "  1.  1. -1. -1. -1.  1. -1.  1. -1.  1. -1.  1. -1. -1. -1. -1.  1.  1.\n",
            "  1. -1.  1. -1. -1. -1.  1.  1. -1. -1. -1.  1. -1. -1.]\n",
            "[ 97.15 120.3  151.4  ... 176.6   20.48 123.  ]\n",
            "x_train shape:(1286, 300, 300, 3)\n",
            "y_train shape:(1286,)\n",
            "gender_train shape:(1286,)\n",
            "x_valid shape:(50, 300, 300, 3)\n",
            "y_valid shape:(50,)\n",
            "gender_valid shape:(50,)\n",
            "x_test shape:(50, 300, 300, 3)\n",
            "y_test shape:(50,)\n"
          ]
        }
      ],
      "source": [
        "y = np.asarray(y_age)\n",
        "gender = np.asarray(y_gender)\n",
        "x=np.asarray(X_train, dtype=np.float32)\n",
        "x=x/255\n",
        "gender =2*( gender-0.5)\n",
        "x_final = []\n",
        "y_final = []\n",
        "gender_final = []\n",
        "\n",
        "# Shuffle images and split into train, validation and test sets\n",
        "#random_no = np.random.choice(x.shape[0], size=x.shape[0], replace=False)\n",
        "random_no = np.arange(x.shape[0])\n",
        "#print(random_no)\n",
        "np.random.seed(62)\n",
        "np.random.shuffle(random_no)\n",
        "for i in random_no:\n",
        "    x_final.append(x[i,:,:,:])\n",
        "    y_final.append(y[i])\n",
        "    gender_final.append(gender[i])\n",
        "\n",
        "x_final = np.asarray(x_final)\n",
        "y_final = np.asarray(y_final)\n",
        "gender_final = np.asarray(gender_final)\n",
        "print (y_final[:50])\n",
        "print (gender_final[:50])\n",
        "k = 50 # Decides split count\n",
        "x_test = x_final[:k,:,:,:]\n",
        "y_test = y_final[:k]\n",
        "gender_test = gender_final[:k]\n",
        "x_valid = x_final[k:2*k,:,:,:]\n",
        "y_valid = y_final[k:2*k]\n",
        "gender_valid = gender_final[k:2*k]\n",
        "x_train = x_final[2*k:,:,:,:]\n",
        "y_train = y_final[2*k:]\n",
        "gender_train = gender_final[2*k:]\n",
        "\n",
        "## \n",
        "#y_test = keras.utils.to_categorical(y_test,240)\n",
        "#y_train = keras.utils.to_categorical(y_train,240)\n",
        "#y_valid = keras.utils.to_categorical(y_valid,240)\n",
        "y_trains = softlabel(y_train,240)\n",
        "y_valids = softlabel(y_valid,240)\n",
        "y_tests = softlabel(y_test,240)\n",
        "print (y_train)\n",
        "\n",
        "\n",
        "print ('x_train shape:'+ str(x_train.shape))\n",
        "print ('y_train shape:'+ str(y_train.shape))\n",
        "print ('gender_train shape:'+ str(gender_train.shape))\n",
        "print ('x_valid shape:'+ str(x_valid.shape))\n",
        "print ('y_valid shape:'+ str(y_valid.shape))\n",
        "print ('gender_valid shape:' + str(gender_valid.shape))\n",
        "print ('x_test shape:'+ str(x_test.shape))\n",
        "print ('y_test shape:'+ str(y_test.shape))"
      ]
    },
    {
      "cell_type": "code",
      "source": [
        "from tensorflow.keras.applications.resnet50 import ResNet50\n",
        "from keras.applications.vgg19 import VGG19\n",
        "from keras.applications.inception_v3 import InceptionV3\n",
        "from keras.applications.xception import Xception\n",
        "from keras.preprocessing import image\n",
        "from keras.models import Model, load_model\n",
        "from keras.layers import Flatten, Dense, Input, Reshape, Lambda, Multiply\n",
        "from keras import backend as K\n",
        "import pickle\n",
        "import numpy as np\n",
        "import matplotlib.pyplot as plt\n",
        "import keras\n",
        "\n",
        "batch_size = 16\n",
        "epochs = 30\n"
      ],
      "metadata": {
        "id": "vtOD_0s-ibug"
      },
      "execution_count": 12,
      "outputs": []
    },
    {
      "cell_type": "code",
      "source": [
        "age1=[]\n",
        "for i in range(114):\n",
        "    age1.append(i)\n",
        "age2=[]\n",
        "for i in range (114,228):\n",
        "    age2.append(i)\n",
        "age=[]\n",
        "for i in range (1):\n",
        "    age.append(age1)\n",
        "    age.append(age2)\n",
        "age=np.asarray(age)\n",
        "aget=[]\n",
        "for i in range(1286):\n",
        "    aget.append(age)\n",
        "aget=np.asarray(aget)\n",
        "print(aget.shape)"
      ],
      "metadata": {
        "colab": {
          "base_uri": "https://localhost:8080/"
        },
        "id": "k0lJM5IIikT_",
        "outputId": "d7b6c617-efca-4f79-bfb6-0a9390b903cb"
      },
      "execution_count": 13,
      "outputs": [
        {
          "output_type": "stream",
          "name": "stdout",
          "text": [
            "(1286, 2, 114)\n"
          ]
        }
      ]
    },
    {
      "cell_type": "code",
      "source": [
        "agev=[]\n",
        "for i in range(50):\n",
        "  agev.append(age)\n",
        "agev=np.asarray(agev)\n",
        "agev.shape"
      ],
      "metadata": {
        "colab": {
          "base_uri": "https://localhost:8080/"
        },
        "id": "LYrROJkminna",
        "outputId": "c7df2447-7539-4f65-e8fd-19753866582e"
      },
      "execution_count": 14,
      "outputs": [
        {
          "output_type": "execute_result",
          "data": {
            "text/plain": [
              "(50, 2, 114)"
            ]
          },
          "metadata": {},
          "execution_count": 14
        }
      ]
    },
    {
      "cell_type": "code",
      "source": [
        "age"
      ],
      "metadata": {
        "colab": {
          "base_uri": "https://localhost:8080/"
        },
        "id": "_CMmiE46Sw0-",
        "outputId": "b7266993-f843-43da-bf6a-1115e1206384"
      },
      "execution_count": null,
      "outputs": [
        {
          "output_type": "execute_result",
          "data": {
            "text/plain": [
              "array([[  0,   1,   2,   3,   4,   5,   6,   7,   8,   9,  10,  11,  12,\n",
              "         13,  14,  15,  16,  17,  18,  19,  20,  21,  22,  23,  24,  25,\n",
              "         26,  27,  28,  29,  30,  31,  32,  33,  34,  35,  36,  37,  38,\n",
              "         39,  40,  41,  42,  43,  44,  45,  46,  47,  48,  49,  50,  51,\n",
              "         52,  53,  54,  55,  56,  57,  58,  59,  60,  61,  62,  63,  64,\n",
              "         65,  66,  67,  68,  69,  70,  71,  72,  73,  74,  75,  76,  77,\n",
              "         78,  79,  80,  81,  82,  83,  84,  85,  86,  87,  88,  89,  90,\n",
              "         91,  92,  93,  94,  95,  96,  97,  98,  99, 100, 101, 102, 103,\n",
              "        104, 105, 106, 107, 108, 109, 110, 111, 112, 113],\n",
              "       [114, 115, 116, 117, 118, 119, 120, 121, 122, 123, 124, 125, 126,\n",
              "        127, 128, 129, 130, 131, 132, 133, 134, 135, 136, 137, 138, 139,\n",
              "        140, 141, 142, 143, 144, 145, 146, 147, 148, 149, 150, 151, 152,\n",
              "        153, 154, 155, 156, 157, 158, 159, 160, 161, 162, 163, 164, 165,\n",
              "        166, 167, 168, 169, 170, 171, 172, 173, 174, 175, 176, 177, 178,\n",
              "        179, 180, 181, 182, 183, 184, 185, 186, 187, 188, 189, 190, 191,\n",
              "        192, 193, 194, 195, 196, 197, 198, 199, 200, 201, 202, 203, 204,\n",
              "        205, 206, 207, 208, 209, 210, 211, 212, 213, 214, 215, 216, 217,\n",
              "        218, 219, 220, 221, 222, 223, 224, 225, 226, 227]])"
            ]
          },
          "metadata": {},
          "execution_count": 15
        }
      ]
    },
    {
      "cell_type": "markdown",
      "source": [
        "#Augmentation"
      ],
      "metadata": {
        "id": "p0JKqIk2MIDI"
      }
    },
    {
      "cell_type": "markdown",
      "source": [
        "#INception"
      ],
      "metadata": {
        "id": "6zYC7516USwT"
      }
    },
    {
      "cell_type": "code",
      "source": [
        "import tensorflow as tf\n",
        "from keras.layers import Dropout\n",
        "\n",
        "base_model = InceptionV3(weights='imagenet', include_top=False)\n",
        "input = Input(shape=(300,300,3),name='input1')\n",
        "input_gender = Input(shape=(1,),dtype='float32',name='input2')\n",
        "input_age = Input(shape=(2,114),dtype='float32',name='input3')\n",
        "#input=data_augmentation(input)\n",
        "data_augmentation = tf.keras.layers.RandomFlip(\"horizontal\")(input)\n",
        "data_augmentation = tf.keras.layers.RandomRotation( 0.2)(data_augmentation)\n",
        "output = base_model(data_augmentation)\n",
        "gender_embedding=Dense(16)(input_gender)\n",
        "x = keras.layers.Conv2D(256,kernel_size=(3,3))(output)\n",
        "x = keras.layers.MaxPooling2D(pool_size=(3,3))(x)\n",
        "x=Flatten()(x)\n",
        "f = keras.layers.Concatenate(axis=1)([x,gender_embedding])\n",
        "f = Dropout(0.5)(Dense(512, activation='relu')(f))\n",
        "x =Dense(228,activation='linear')(f)\n",
        "y=Flatten()(input_age)\n",
        "print(y.shape)\n",
        "f = keras.layers.Multiply()([x,y])\n",
        "predictions=Dense(1)(f)\n",
        "\n",
        "model = Model(inputs=[input,input_gender,input_age], outputs=predictions)\n",
        "for i,layer in enumerate(model.layers):\n",
        "    print (i,layer.name)\n",
        "\n",
        "Adam=keras.optimizers.Adam(lr=0.0001,beta_1=0.9,beta_2=0.999)\n",
        "model.compile(optimizer=Adam, loss='mean_absolute_error', metrics=['MAE'])\n",
        "\n",
        "model.summary()\n",
        "\n",
        "\n",
        "checkpoint =keras.callbacks.ModelCheckpoint(filepath='weights_augincep.{epoch:02d}-{val_loss:.2f}.hdf5',save_weights_only=True,period=20)\n",
        "#model.fit(DataGen.flow([x_train,gender_train,aget],y_train,batch_size=batch_size),steps_per_epoch=np.ceil(len(y_train)/batch_size),epochs=40,verbose=1,validation_data=([x_valid,gender_valid,agev],y_valid))\n",
        "history=model.fit([x_train,gender_train,aget],y_train,batch_size=4,epochs=20,verbose=1,validation_data=([x_valid,gender_valid,agev],y_valid),callbacks = [checkpoint])\n",
        "score = model.evaluate([x_test,gender_test,agev], y_test, batch_size=batch_size)\n",
        "print('Test loss:', score[0])\n",
        "print('Test MAE:', score[1])"
      ],
      "metadata": {
        "id": "1ubiNeGsMRgj",
        "colab": {
          "base_uri": "https://localhost:8080/"
        },
        "outputId": "91431b2f-949b-4914-97ec-1d25105f3a00"
      },
      "execution_count": 15,
      "outputs": [
        {
          "output_type": "stream",
          "name": "stdout",
          "text": [
            "Downloading data from https://storage.googleapis.com/tensorflow/keras-applications/inception_v3/inception_v3_weights_tf_dim_ordering_tf_kernels_notop.h5\n",
            "87910968/87910968 [==============================] - 1s 0us/step\n",
            "(None, 228)\n",
            "0 input1\n",
            "1 random_flip\n",
            "2 random_rotation\n",
            "3 inception_v3\n",
            "4 conv2d_94\n",
            "5 max_pooling2d_4\n",
            "6 input2\n",
            "7 flatten\n",
            "8 dense\n",
            "9 concatenate_2\n",
            "10 dense_1\n",
            "11 dropout\n",
            "12 input3\n",
            "13 dense_2\n",
            "14 flatten_1\n",
            "15 multiply\n",
            "16 dense_3\n",
            "Model: \"model\"\n",
            "__________________________________________________________________________________________________\n",
            " Layer (type)                   Output Shape         Param #     Connected to                     \n",
            "==================================================================================================\n",
            " input1 (InputLayer)            [(None, 300, 300, 3  0           []                               \n",
            "                                )]                                                                \n",
            "                                                                                                  \n",
            " random_flip (RandomFlip)       (None, 300, 300, 3)  0           ['input1[0][0]']                 \n",
            "                                                                                                  \n",
            " random_rotation (RandomRotatio  (None, 300, 300, 3)  0          ['random_flip[0][0]']            \n",
            " n)                                                                                               \n",
            "                                                                                                  \n",
            " inception_v3 (Functional)      (None, None, None,   21802784    ['random_rotation[0][0]']        \n",
            "                                2048)                                                             \n",
            "                                                                                                  \n",
            " conv2d_94 (Conv2D)             (None, 6, 6, 256)    4718848     ['inception_v3[0][0]']           \n",
            "                                                                                                  \n",
            " max_pooling2d_4 (MaxPooling2D)  (None, 2, 2, 256)   0           ['conv2d_94[0][0]']              \n",
            "                                                                                                  \n",
            " input2 (InputLayer)            [(None, 1)]          0           []                               \n",
            "                                                                                                  \n",
            " flatten (Flatten)              (None, 1024)         0           ['max_pooling2d_4[0][0]']        \n",
            "                                                                                                  \n",
            " dense (Dense)                  (None, 16)           32          ['input2[0][0]']                 \n",
            "                                                                                                  \n",
            " concatenate_2 (Concatenate)    (None, 1040)         0           ['flatten[0][0]',                \n",
            "                                                                  'dense[0][0]']                  \n",
            "                                                                                                  \n",
            " dense_1 (Dense)                (None, 512)          532992      ['concatenate_2[0][0]']          \n",
            "                                                                                                  \n",
            " dropout (Dropout)              (None, 512)          0           ['dense_1[0][0]']                \n",
            "                                                                                                  \n",
            " input3 (InputLayer)            [(None, 2, 114)]     0           []                               \n",
            "                                                                                                  \n",
            " dense_2 (Dense)                (None, 228)          116964      ['dropout[0][0]']                \n",
            "                                                                                                  \n",
            " flatten_1 (Flatten)            (None, 228)          0           ['input3[0][0]']                 \n",
            "                                                                                                  \n",
            " multiply (Multiply)            (None, 228)          0           ['dense_2[0][0]',                \n",
            "                                                                  'flatten_1[0][0]']              \n",
            "                                                                                                  \n",
            " dense_3 (Dense)                (None, 1)            229         ['multiply[0][0]']               \n",
            "                                                                                                  \n",
            "==================================================================================================\n",
            "Total params: 27,171,849\n",
            "Trainable params: 27,137,417\n",
            "Non-trainable params: 34,432\n",
            "__________________________________________________________________________________________________\n"
          ]
        },
        {
          "output_type": "stream",
          "name": "stderr",
          "text": [
            "/usr/local/lib/python3.8/dist-packages/keras/optimizers/optimizer_v2/adam.py:110: UserWarning: The `lr` argument is deprecated, use `learning_rate` instead.\n",
            "  super(Adam, self).__init__(name, **kwargs)\n",
            "WARNING:tensorflow:`period` argument is deprecated. Please use `save_freq` to specify the frequency in number of batches seen.\n"
          ]
        },
        {
          "output_type": "stream",
          "name": "stdout",
          "text": [
            "Epoch 1/20\n",
            "322/322 [==============================] - 55s 108ms/step - loss: 106.3273 - MAE: 106.3273 - val_loss: 55.7658 - val_MAE: 55.7658\n",
            "Epoch 2/20\n",
            "322/322 [==============================] - 31s 95ms/step - loss: 46.5997 - MAE: 46.5997 - val_loss: 37.8671 - val_MAE: 37.8671\n",
            "Epoch 3/20\n",
            "322/322 [==============================] - 31s 95ms/step - loss: 35.7221 - MAE: 35.7221 - val_loss: 27.8560 - val_MAE: 27.8560\n",
            "Epoch 4/20\n",
            "322/322 [==============================] - 32s 100ms/step - loss: 33.1643 - MAE: 33.1643 - val_loss: 18.2821 - val_MAE: 18.2821\n",
            "Epoch 5/20\n",
            "322/322 [==============================] - 31s 95ms/step - loss: 30.3097 - MAE: 30.3097 - val_loss: 20.4892 - val_MAE: 20.4892\n",
            "Epoch 6/20\n",
            "322/322 [==============================] - 30s 94ms/step - loss: 27.7368 - MAE: 27.7368 - val_loss: 30.2261 - val_MAE: 30.2261\n",
            "Epoch 7/20\n",
            "322/322 [==============================] - 30s 94ms/step - loss: 23.7005 - MAE: 23.7005 - val_loss: 26.0904 - val_MAE: 26.0904\n",
            "Epoch 8/20\n",
            "322/322 [==============================] - 30s 94ms/step - loss: 23.9090 - MAE: 23.9090 - val_loss: 15.3268 - val_MAE: 15.3268\n",
            "Epoch 9/20\n",
            "322/322 [==============================] - 30s 94ms/step - loss: 23.4124 - MAE: 23.4124 - val_loss: 16.4469 - val_MAE: 16.4469\n",
            "Epoch 10/20\n",
            "322/322 [==============================] - 30s 93ms/step - loss: 21.0598 - MAE: 21.0598 - val_loss: 14.7441 - val_MAE: 14.7441\n",
            "Epoch 11/20\n",
            "322/322 [==============================] - 30s 93ms/step - loss: 21.2327 - MAE: 21.2327 - val_loss: 19.1701 - val_MAE: 19.1701\n",
            "Epoch 12/20\n",
            "322/322 [==============================] - 30s 93ms/step - loss: 19.9196 - MAE: 19.9196 - val_loss: 47.5498 - val_MAE: 47.5498\n",
            "Epoch 13/20\n",
            "322/322 [==============================] - 30s 93ms/step - loss: 22.1671 - MAE: 22.1671 - val_loss: 11.3267 - val_MAE: 11.3267\n",
            "Epoch 14/20\n",
            "322/322 [==============================] - 30s 93ms/step - loss: 20.2920 - MAE: 20.2920 - val_loss: 17.1865 - val_MAE: 17.1865\n",
            "Epoch 15/20\n",
            "322/322 [==============================] - 30s 93ms/step - loss: 19.0445 - MAE: 19.0445 - val_loss: 19.0134 - val_MAE: 19.0134\n",
            "Epoch 16/20\n",
            "322/322 [==============================] - 30s 94ms/step - loss: 19.8179 - MAE: 19.8179 - val_loss: 21.0560 - val_MAE: 21.0560\n",
            "Epoch 17/20\n",
            "322/322 [==============================] - 30s 94ms/step - loss: 18.4244 - MAE: 18.4244 - val_loss: 10.7432 - val_MAE: 10.7432\n",
            "Epoch 18/20\n",
            "322/322 [==============================] - 30s 93ms/step - loss: 17.8628 - MAE: 17.8628 - val_loss: 13.2032 - val_MAE: 13.2032\n",
            "Epoch 19/20\n",
            "322/322 [==============================] - 30s 93ms/step - loss: 17.7089 - MAE: 17.7089 - val_loss: 12.3232 - val_MAE: 12.3232\n",
            "Epoch 20/20\n",
            "322/322 [==============================] - 31s 96ms/step - loss: 16.4929 - MAE: 16.4929 - val_loss: 10.2628 - val_MAE: 10.2628\n",
            "4/4 [==============================] - 2s 57ms/step - loss: 16.3709 - MAE: 16.3709\n",
            "Test loss: 16.370933532714844\n",
            "Test MAE: 16.370933532714844\n"
          ]
        }
      ]
    },
    {
      "cell_type": "code",
      "source": [
        "plt.plot(history.history['loss'])\n",
        "plt.plot(history.history['val_loss'])\n",
        "plt.title('Model loss')\n",
        "plt.ylabel('Loss')\n",
        "plt.xlabel('Epoch')\n",
        "plt.legend(['Train', 'Validation'], loc='upper left')\n",
        "plt.show()"
      ],
      "metadata": {
        "colab": {
          "base_uri": "https://localhost:8080/",
          "height": 295
        },
        "id": "ol3EHIB1R2Vi",
        "outputId": "31d78d1f-ac2d-469b-a74e-7aa4dc58166a"
      },
      "execution_count": 16,
      "outputs": [
        {
          "output_type": "display_data",
          "data": {
            "text/plain": [
              "<Figure size 432x288 with 1 Axes>"
            ],
            "image/png": "[encoded data removed]"
          },
          "metadata": {
            "needs_background": "light"
          }
        }
      ]
    },
    {
      "cell_type": "code",
      "source": [
        "import tensorflow as tf\n",
        "from keras.layers import Dropout\n",
        " \n",
        "from tensorflow.keras.applications.inception_resnet_v2 import InceptionResNetV2\n",
        "\n",
        "base_model = InceptionResNetV2(weights='imagenet', include_top=False)\n",
        "input = Input(shape=(300,300,3),name='input1')\n",
        "input_gender = Input(shape=(1,),dtype='float32',name='input2')\n",
        "input_age = Input(shape=(2,114),dtype='float32',name='input3')\n",
        "#input=data_augmentation(input)\n",
        "data_augmentation = tf.keras.layers.RandomFlip(\"horizontal\")(input)\n",
        "data_augmentation = tf.keras.layers.RandomRotation( 0.2)(data_augmentation)\n",
        "output = base_model(data_augmentation)\n",
        "gender_embedding=Dense(16)(input_gender)\n",
        "x = keras.layers.Conv2D(256,kernel_size=(3,3))(output)\n",
        "x = keras.layers.MaxPooling2D(pool_size=(3,3))(x)\n",
        "x=Flatten()(x)\n",
        "f = keras.layers.Concatenate(axis=1)([x,gender_embedding])\n",
        "f = Dropout(0.5)(Dense(512, activation='relu')(f))\n",
        "x =Dense(228,activation='linear')(f)\n",
        "y=Flatten()(input_age)\n",
        "print(y.shape)\n",
        "f = keras.layers.Multiply()([x,y])\n",
        "predictions=Dense(1)(f)\n",
        "\n",
        "model = Model(inputs=[input,input_gender,input_age], outputs=predictions)\n",
        "for i,layer in enumerate(model.layers):\n",
        "    print (i,layer.name)\n",
        "\n",
        "Adam=keras.optimizers.Adam(lr=0.0001,beta_1=0.9,beta_2=0.999)\n",
        "model.compile(optimizer=Adam, loss='mean_absolute_error', metrics=['MAE'])\n",
        "\n",
        "model.summary()\n",
        "\n",
        "\n",
        "checkpoint =keras.callbacks.ModelCheckpoint(filepath='weights_auginres.{epoch:02d}-{val_loss:.2f}.hdf5',save_weights_only=True,period=20)\n",
        "#model.fit(DataGen.flow([x_train,gender_train,aget],y_train,batch_size=batch_size),steps_per_epoch=np.ceil(len(y_train)/batch_size),epochs=40,verbose=1,validation_data=([x_valid,gender_valid,agev],y_valid))\n",
        "history=model.fit([x_train,gender_train,aget],y_train,batch_size=4,epochs=20,verbose=1,validation_data=([x_valid,gender_valid,agev],y_valid),callbacks = [checkpoint])\n",
        "score = model.evaluate([x_test,gender_test,agev], y_test, batch_size=batch_size)\n",
        "print('Test loss:', score[0])\n",
        "print('Test MAE:', score[1])"
      ],
      "metadata": {
        "colab": {
          "base_uri": "https://localhost:8080/"
        },
        "id": "n6RgWCASbHPn",
        "outputId": "5d2aca50-2167-4b5f-e50c-32dd84ea576d"
      },
      "execution_count": 17,
      "outputs": [
        {
          "output_type": "stream",
          "name": "stdout",
          "text": [
            "Downloading data from https://storage.googleapis.com/tensorflow/keras-applications/inception_resnet_v2/inception_resnet_v2_weights_tf_dim_ordering_tf_kernels_notop.h5\n",
            "219055592/219055592 [==============================] - 3s 0us/step\n",
            "(None, 228)\n",
            "0 input1\n",
            "1 random_flip_1\n",
            "2 random_rotation_1\n",
            "3 inception_resnet_v2\n",
            "4 conv2d_298\n",
            "5 max_pooling2d_9\n",
            "6 input2\n",
            "7 flatten_2\n",
            "8 dense_4\n",
            "9 concatenate_3\n",
            "10 dense_5\n",
            "11 dropout_1\n",
            "12 input3\n",
            "13 dense_6\n",
            "14 flatten_3\n",
            "15 multiply_1\n",
            "16 dense_7\n",
            "Model: \"model_1\"\n",
            "__________________________________________________________________________________________________\n",
            " Layer (type)                   Output Shape         Param #     Connected to                     \n",
            "==================================================================================================\n",
            " input1 (InputLayer)            [(None, 300, 300, 3  0           []                               \n",
            "                                )]                                                                \n",
            "                                                                                                  \n",
            " random_flip_1 (RandomFlip)     (None, 300, 300, 3)  0           ['input1[0][0]']                 \n",
            "                                                                                                  \n",
            " random_rotation_1 (RandomRotat  (None, 300, 300, 3)  0          ['random_flip_1[0][0]']          \n",
            " ion)                                                                                             \n",
            "                                                                                                  \n",
            " inception_resnet_v2 (Functiona  (None, None, None,   54336736   ['random_rotation_1[0][0]']      \n",
            " l)                             1536)                                                             \n",
            "                                                                                                  \n",
            " conv2d_298 (Conv2D)            (None, 6, 6, 256)    3539200     ['inception_resnet_v2[0][0]']    \n",
            "                                                                                                  \n",
            " max_pooling2d_9 (MaxPooling2D)  (None, 2, 2, 256)   0           ['conv2d_298[0][0]']             \n",
            "                                                                                                  \n",
            " input2 (InputLayer)            [(None, 1)]          0           []                               \n",
            "                                                                                                  \n",
            " flatten_2 (Flatten)            (None, 1024)         0           ['max_pooling2d_9[0][0]']        \n",
            "                                                                                                  \n",
            " dense_4 (Dense)                (None, 16)           32          ['input2[0][0]']                 \n",
            "                                                                                                  \n",
            " concatenate_3 (Concatenate)    (None, 1040)         0           ['flatten_2[0][0]',              \n",
            "                                                                  'dense_4[0][0]']                \n",
            "                                                                                                  \n",
            " dense_5 (Dense)                (None, 512)          532992      ['concatenate_3[0][0]']          \n",
            "                                                                                                  \n",
            " dropout_1 (Dropout)            (None, 512)          0           ['dense_5[0][0]']                \n",
            "                                                                                                  \n",
            " input3 (InputLayer)            [(None, 2, 114)]     0           []                               \n",
            "                                                                                                  \n",
            " dense_6 (Dense)                (None, 228)          116964      ['dropout_1[0][0]']              \n",
            "                                                                                                  \n",
            " flatten_3 (Flatten)            (None, 228)          0           ['input3[0][0]']                 \n",
            "                                                                                                  \n",
            " multiply_1 (Multiply)          (None, 228)          0           ['dense_6[0][0]',                \n",
            "                                                                  'flatten_3[0][0]']              \n",
            "                                                                                                  \n",
            " dense_7 (Dense)                (None, 1)            229         ['multiply_1[0][0]']             \n",
            "                                                                                                  \n",
            "==================================================================================================\n",
            "Total params: 58,526,153\n",
            "Trainable params: 58,465,609\n",
            "Non-trainable params: 60,544\n",
            "__________________________________________________________________________________________________\n"
          ]
        },
        {
          "output_type": "stream",
          "name": "stderr",
          "text": [
            "WARNING:tensorflow:`period` argument is deprecated. Please use `save_freq` to specify the frequency in number of batches seen.\n"
          ]
        },
        {
          "output_type": "stream",
          "name": "stdout",
          "text": [
            "Epoch 1/20\n",
            "322/322 [==============================] - 93s 225ms/step - loss: 110.8844 - MAE: 110.8844 - val_loss: 883.4610 - val_MAE: 883.4610\n",
            "Epoch 2/20\n",
            "322/322 [==============================] - 67s 207ms/step - loss: 41.5903 - MAE: 41.5903 - val_loss: 439.0548 - val_MAE: 439.0548\n",
            "Epoch 3/20\n",
            "322/322 [==============================] - 67s 208ms/step - loss: 35.7776 - MAE: 35.7776 - val_loss: 435.7350 - val_MAE: 435.7350\n",
            "Epoch 4/20\n",
            "322/322 [==============================] - 67s 208ms/step - loss: 27.5422 - MAE: 27.5422 - val_loss: 41.1862 - val_MAE: 41.1862\n",
            "Epoch 5/20\n",
            "322/322 [==============================] - 66s 207ms/step - loss: 26.5118 - MAE: 26.5118 - val_loss: 145.2688 - val_MAE: 145.2688\n",
            "Epoch 6/20\n",
            "322/322 [==============================] - 67s 209ms/step - loss: 21.3603 - MAE: 21.3603 - val_loss: 23.4785 - val_MAE: 23.4785\n",
            "Epoch 7/20\n",
            "322/322 [==============================] - 67s 207ms/step - loss: 21.8635 - MAE: 21.8635 - val_loss: 27.1387 - val_MAE: 27.1387\n",
            "Epoch 8/20\n",
            "322/322 [==============================] - 66s 206ms/step - loss: 19.5471 - MAE: 19.5471 - val_loss: 17.2493 - val_MAE: 17.2493\n",
            "Epoch 9/20\n",
            "322/322 [==============================] - 67s 207ms/step - loss: 18.6728 - MAE: 18.6728 - val_loss: 27.8241 - val_MAE: 27.8241\n",
            "Epoch 10/20\n",
            "322/322 [==============================] - 66s 206ms/step - loss: 18.4300 - MAE: 18.4300 - val_loss: 14.5707 - val_MAE: 14.5707\n",
            "Epoch 11/20\n",
            "322/322 [==============================] - 66s 206ms/step - loss: 18.3462 - MAE: 18.3462 - val_loss: 16.9305 - val_MAE: 16.9305\n",
            "Epoch 12/20\n",
            "322/322 [==============================] - 67s 207ms/step - loss: 17.1183 - MAE: 17.1183 - val_loss: 21.6631 - val_MAE: 21.6631\n",
            "Epoch 13/20\n",
            "322/322 [==============================] - 67s 207ms/step - loss: 18.2454 - MAE: 18.2454 - val_loss: 620.7008 - val_MAE: 620.7008\n",
            "Epoch 14/20\n",
            "322/322 [==============================] - 66s 206ms/step - loss: 22.4614 - MAE: 22.4614 - val_loss: 144.4170 - val_MAE: 144.4170\n",
            "Epoch 15/20\n",
            "322/322 [==============================] - 66s 206ms/step - loss: 20.4473 - MAE: 20.4473 - val_loss: 62.2795 - val_MAE: 62.2795\n",
            "Epoch 16/20\n",
            "322/322 [==============================] - 67s 207ms/step - loss: 18.4390 - MAE: 18.4390 - val_loss: 111.4879 - val_MAE: 111.4879\n",
            "Epoch 17/20\n",
            "322/322 [==============================] - 67s 208ms/step - loss: 17.1173 - MAE: 17.1173 - val_loss: 169.1982 - val_MAE: 169.1982\n",
            "Epoch 18/20\n",
            "322/322 [==============================] - 66s 206ms/step - loss: 17.6609 - MAE: 17.6609 - val_loss: 16.0656 - val_MAE: 16.0656\n",
            "Epoch 19/20\n",
            "322/322 [==============================] - 67s 208ms/step - loss: 17.1925 - MAE: 17.1925 - val_loss: 38.3248 - val_MAE: 38.3248\n",
            "Epoch 20/20\n",
            "322/322 [==============================] - 68s 210ms/step - loss: 17.2848 - MAE: 17.2848 - val_loss: 71.5668 - val_MAE: 71.5668\n",
            "4/4 [==============================] - 2s 136ms/step - loss: 40.9287 - MAE: 40.9287\n",
            "Test loss: 40.928749084472656\n",
            "Test MAE: 40.928749084472656\n"
          ]
        }
      ]
    },
    {
      "cell_type": "code",
      "source": [
        "plt.plot(history.history['loss'])\n",
        "plt.plot(history.history['val_loss'])\n",
        "plt.title('Model loss')\n",
        "plt.ylabel('Loss')\n",
        "plt.xlabel('Epoch')\n",
        "plt.legend(['Train', 'Validation'], loc='upper left')\n",
        "plt.show()"
      ],
      "metadata": {
        "colab": {
          "base_uri": "https://localhost:8080/",
          "height": 295
        },
        "id": "PmNOPdu6tq7i",
        "outputId": "d63243c6-67a7-46a3-867b-0ca1047f45e9"
      },
      "execution_count": 18,
      "outputs": [
        {
          "output_type": "display_data",
          "data": {
            "text/plain": [
              "<Figure size 432x288 with 1 Axes>"
            ],
            "image/png": "[encoded data removed]"
          },
          "metadata": {
            "needs_background": "light"
          }
        }
      ]
    },
    {
      "cell_type": "code",
      "source": [
        "import tensorflow as tf\n",
        "from keras.layers import Dropout\n",
        " \n",
        "from tensorflow.keras.applications.resnet_v2 import ResNet101V2\n",
        "\n",
        "base_model = ResNet101V2(weights='imagenet', include_top=False)\n",
        "input = Input(shape=(300,300,3),name='input1')\n",
        "input_gender = Input(shape=(1,),dtype='float32',name='input2')\n",
        "input_age = Input(shape=(2,114),dtype='float32',name='input3')\n",
        "#input=data_augmentation(input)\n",
        "data_augmentation = tf.keras.layers.RandomFlip(\"horizontal\")(input)\n",
        "data_augmentation = tf.keras.layers.RandomRotation( 0.2)(data_augmentation)\n",
        "output = base_model(data_augmentation)\n",
        "gender_embedding=Dense(16)(input_gender)\n",
        "x = keras.layers.Conv2D(256,kernel_size=(3,3))(output)\n",
        "x = keras.layers.MaxPooling2D(pool_size=(3,3))(x)\n",
        "x=Flatten()(x)\n",
        "f = keras.layers.Concatenate(axis=1)([x,gender_embedding])\n",
        "f = Dropout(0.5)(Dense(512, activation='relu')(f))\n",
        "x =Dense(228,activation='linear')(f)\n",
        "y=Flatten()(input_age)\n",
        "print(y.shape)\n",
        "f = keras.layers.Multiply()([x,y])\n",
        "predictions=Dense(1)(f)\n",
        "\n",
        "model = Model(inputs=[input,input_gender,input_age], outputs=predictions)\n",
        "for i,layer in enumerate(model.layers):\n",
        "    print (i,layer.name)\n",
        "\n",
        "Adam=keras.optimizers.Adam(lr=0.0001,beta_1=0.9,beta_2=0.999)\n",
        "model.compile(optimizer=Adam, loss='mean_absolute_error', metrics=['MAE'])\n",
        "\n",
        "model.summary()\n",
        "\n",
        "\n",
        "checkpoint =keras.callbacks.ModelCheckpoint(filepath='weights_auginres.{epoch:02d}-{val_loss:.2f}.hdf5',save_weights_only=True,period=20)\n",
        "#model.fit(DataGen.flow([x_train,gender_train,aget],y_train,batch_size=batch_size),steps_per_epoch=np.ceil(len(y_train)/batch_size),epochs=40,verbose=1,validation_data=([x_valid,gender_valid,agev],y_valid))\n",
        "history=model.fit([x_train,gender_train,aget],y_train,batch_size=4,epochs=20,verbose=1,validation_data=([x_valid,gender_valid,agev],y_valid),callbacks = [checkpoint])\n",
        "score = model.evaluate([x_test,gender_test,agev], y_test, batch_size=batch_size)\n",
        "print('Test loss:', score[0])\n",
        "print('Test MAE:', score[1])"
      ],
      "metadata": {
        "id": "PDfXMfd-ekVG",
        "colab": {
          "base_uri": "https://localhost:8080/"
        },
        "outputId": "8af5a290-0da1-4762-954c-f364cdedbe79"
      },
      "execution_count": 21,
      "outputs": [
        {
          "output_type": "stream",
          "name": "stdout",
          "text": [
            "Downloading data from https://storage.googleapis.com/tensorflow/keras-applications/resnet/resnet101v2_weights_tf_dim_ordering_tf_kernels_notop.h5\n",
            "171317808/171317808 [==============================] - 3s 0us/step\n",
            "(None, 228)\n",
            "0 input1\n",
            "1 random_flip_2\n",
            "2 random_rotation_2\n",
            "3 resnet101v2\n",
            "4 conv2d_299\n",
            "5 max_pooling2d_13\n",
            "6 input2\n",
            "7 flatten_4\n",
            "8 dense_8\n",
            "9 concatenate_4\n",
            "10 dense_9\n",
            "11 dropout_2\n",
            "12 input3\n",
            "13 dense_10\n",
            "14 flatten_5\n",
            "15 multiply_2\n",
            "16 dense_11\n",
            "Model: \"model_2\"\n",
            "__________________________________________________________________________________________________\n",
            " Layer (type)                   Output Shape         Param #     Connected to                     \n",
            "==================================================================================================\n",
            " input1 (InputLayer)            [(None, 300, 300, 3  0           []                               \n",
            "                                )]                                                                \n",
            "                                                                                                  \n",
            " random_flip_2 (RandomFlip)     (None, 300, 300, 3)  0           ['input1[0][0]']                 \n",
            "                                                                                                  \n",
            " random_rotation_2 (RandomRotat  (None, 300, 300, 3)  0          ['random_flip_2[0][0]']          \n",
            " ion)                                                                                             \n",
            "                                                                                                  \n",
            " resnet101v2 (Functional)       (None, None, None,   42626560    ['random_rotation_2[0][0]']      \n",
            "                                2048)                                                             \n",
            "                                                                                                  \n",
            " conv2d_299 (Conv2D)            (None, 8, 8, 256)    4718848     ['resnet101v2[0][0]']            \n",
            "                                                                                                  \n",
            " max_pooling2d_13 (MaxPooling2D  (None, 2, 2, 256)   0           ['conv2d_299[0][0]']             \n",
            " )                                                                                                \n",
            "                                                                                                  \n",
            " input2 (InputLayer)            [(None, 1)]          0           []                               \n",
            "                                                                                                  \n",
            " flatten_4 (Flatten)            (None, 1024)         0           ['max_pooling2d_13[0][0]']       \n",
            "                                                                                                  \n",
            " dense_8 (Dense)                (None, 16)           32          ['input2[0][0]']                 \n",
            "                                                                                                  \n",
            " concatenate_4 (Concatenate)    (None, 1040)         0           ['flatten_4[0][0]',              \n",
            "                                                                  'dense_8[0][0]']                \n",
            "                                                                                                  \n",
            " dense_9 (Dense)                (None, 512)          532992      ['concatenate_4[0][0]']          \n",
            "                                                                                                  \n",
            " dropout_2 (Dropout)            (None, 512)          0           ['dense_9[0][0]']                \n",
            "                                                                                                  \n",
            " input3 (InputLayer)            [(None, 2, 114)]     0           []                               \n",
            "                                                                                                  \n",
            " dense_10 (Dense)               (None, 228)          116964      ['dropout_2[0][0]']              \n",
            "                                                                                                  \n",
            " flatten_5 (Flatten)            (None, 228)          0           ['input3[0][0]']                 \n",
            "                                                                                                  \n",
            " multiply_2 (Multiply)          (None, 228)          0           ['dense_10[0][0]',               \n",
            "                                                                  'flatten_5[0][0]']              \n",
            "                                                                                                  \n",
            " dense_11 (Dense)               (None, 1)            229         ['multiply_2[0][0]']             \n",
            "                                                                                                  \n",
            "==================================================================================================\n",
            "Total params: 47,995,625\n",
            "Trainable params: 47,897,961\n",
            "Non-trainable params: 97,664\n",
            "__________________________________________________________________________________________________\n"
          ]
        },
        {
          "output_type": "stream",
          "name": "stderr",
          "text": [
            "WARNING:tensorflow:`period` argument is deprecated. Please use `save_freq` to specify the frequency in number of batches seen.\n"
          ]
        },
        {
          "output_type": "stream",
          "name": "stdout",
          "text": [
            "Epoch 1/20\n",
            "322/322 [==============================] - 79s 204ms/step - loss: 121.5339 - MAE: 121.5339 - val_loss: 72.8918 - val_MAE: 72.8918\n",
            "Epoch 2/20\n",
            "322/322 [==============================] - 61s 188ms/step - loss: 42.4737 - MAE: 42.4737 - val_loss: 19.6534 - val_MAE: 19.6534\n",
            "Epoch 3/20\n",
            "322/322 [==============================] - 61s 188ms/step - loss: 34.8377 - MAE: 34.8377 - val_loss: 19.2653 - val_MAE: 19.2653\n",
            "Epoch 4/20\n",
            "322/322 [==============================] - 61s 189ms/step - loss: 30.6618 - MAE: 30.6618 - val_loss: 24.3509 - val_MAE: 24.3509\n",
            "Epoch 5/20\n",
            "322/322 [==============================] - 61s 190ms/step - loss: 29.6209 - MAE: 29.6209 - val_loss: 17.7024 - val_MAE: 17.7024\n",
            "Epoch 6/20\n",
            "322/322 [==============================] - 61s 188ms/step - loss: 26.1645 - MAE: 26.1645 - val_loss: 24.7353 - val_MAE: 24.7353\n",
            "Epoch 7/20\n",
            "322/322 [==============================] - 61s 188ms/step - loss: 24.1225 - MAE: 24.1225 - val_loss: 12.6728 - val_MAE: 12.6728\n",
            "Epoch 8/20\n",
            "322/322 [==============================] - 61s 188ms/step - loss: 22.9211 - MAE: 22.9211 - val_loss: 24.5127 - val_MAE: 24.5127\n",
            "Epoch 9/20\n",
            "322/322 [==============================] - 61s 189ms/step - loss: 22.5625 - MAE: 22.5625 - val_loss: 13.5201 - val_MAE: 13.5201\n",
            "Epoch 10/20\n",
            "322/322 [==============================] - 61s 190ms/step - loss: 20.9851 - MAE: 20.9851 - val_loss: 12.6014 - val_MAE: 12.6014\n",
            "Epoch 11/20\n",
            "322/322 [==============================] - 61s 188ms/step - loss: 19.8610 - MAE: 19.8610 - val_loss: 13.8375 - val_MAE: 13.8375\n",
            "Epoch 12/20\n",
            "322/322 [==============================] - 61s 190ms/step - loss: 19.4214 - MAE: 19.4214 - val_loss: 11.3803 - val_MAE: 11.3803\n",
            "Epoch 13/20\n",
            "322/322 [==============================] - 61s 188ms/step - loss: 19.4695 - MAE: 19.4695 - val_loss: 17.7271 - val_MAE: 17.7271\n",
            "Epoch 14/20\n",
            "322/322 [==============================] - 61s 189ms/step - loss: 19.1756 - MAE: 19.1756 - val_loss: 11.6566 - val_MAE: 11.6566\n",
            "Epoch 15/20\n",
            "322/322 [==============================] - 61s 190ms/step - loss: 17.7930 - MAE: 17.7930 - val_loss: 13.9601 - val_MAE: 13.9601\n",
            "Epoch 16/20\n",
            "322/322 [==============================] - 61s 190ms/step - loss: 18.6417 - MAE: 18.6417 - val_loss: 14.1230 - val_MAE: 14.1230\n",
            "Epoch 17/20\n",
            "322/322 [==============================] - 61s 188ms/step - loss: 17.8028 - MAE: 17.8028 - val_loss: 13.7526 - val_MAE: 13.7526\n",
            "Epoch 18/20\n",
            "322/322 [==============================] - 61s 188ms/step - loss: 17.2581 - MAE: 17.2581 - val_loss: 10.7741 - val_MAE: 10.7741\n",
            "Epoch 19/20\n",
            "322/322 [==============================] - 61s 189ms/step - loss: 17.7844 - MAE: 17.7844 - val_loss: 17.8620 - val_MAE: 17.8620\n",
            "Epoch 20/20\n",
            "322/322 [==============================] - 62s 192ms/step - loss: 17.4835 - MAE: 17.4835 - val_loss: 12.5434 - val_MAE: 12.5434\n",
            "4/4 [==============================] - 2s 118ms/step - loss: 14.1329 - MAE: 14.1329\n",
            "Test loss: 14.132861137390137\n",
            "Test MAE: 14.132861137390137\n"
          ]
        }
      ]
    },
    {
      "cell_type": "code",
      "source": [
        "plt.plot(history.history['loss'])\n",
        "plt.plot(history.history['val_loss'])\n",
        "plt.title('Model loss')\n",
        "plt.ylabel('Loss')\n",
        "plt.xlabel('Epoch')\n",
        "plt.legend(['Train', 'Validation'], loc='upper left')\n",
        "plt.show()"
      ],
      "metadata": {
        "colab": {
          "base_uri": "https://localhost:8080/",
          "height": 295
        },
        "id": "JkV6gM9TtsAg",
        "outputId": "cd6d50c1-8d1f-4146-f172-22c9e8eb878b"
      },
      "execution_count": 22,
      "outputs": [
        {
          "output_type": "display_data",
          "data": {
            "text/plain": [
              "<Figure size 432x288 with 1 Axes>"
            ],
            "image/png": "[encoded data removed]"
          },
          "metadata": {
            "needs_background": "light"
          }
        }
      ]
    },
    {
      "cell_type": "markdown",
      "source": [
        "#Attention"
      ],
      "metadata": {
        "id": "RzAjdYOv7A7B"
      }
    },
    {
      "cell_type": "code",
      "source": [
        "age1=[]\n",
        "for i in range(115):\n",
        "    age1.append(i)\n",
        "age2=[]\n",
        "for i in range (115,230):\n",
        "    age2.append(i)\n",
        "age=[]\n",
        "for i in range (1):\n",
        "    age.append(age1)\n",
        "    age.append(age2)\n",
        "age=np.asarray(age)\n",
        "aget=[]\n",
        "for i in range(1286):\n",
        "    aget.append(age)\n",
        "aget=np.asarray(aget)\n",
        "print(aget.shape)"
      ],
      "metadata": {
        "colab": {
          "base_uri": "https://localhost:8080/"
        },
        "id": "XVRbPaM5uaaf",
        "outputId": "401f5da5-27cf-4336-fda5-c07fc34d0a64"
      },
      "execution_count": 31,
      "outputs": [
        {
          "output_type": "stream",
          "name": "stdout",
          "text": [
            "(1286, 2, 115)\n"
          ]
        }
      ]
    },
    {
      "cell_type": "code",
      "source": [
        "agev=[]\n",
        "for i in range(50):\n",
        "  agev.append(age)\n",
        "agev=np.asarray(agev)\n",
        "agev.shape"
      ],
      "metadata": {
        "colab": {
          "base_uri": "https://localhost:8080/"
        },
        "id": "tJmuNQTT_Hse",
        "outputId": "ecca0681-202d-4250-c4c3-c4dfded4b050"
      },
      "execution_count": 32,
      "outputs": [
        {
          "output_type": "execute_result",
          "data": {
            "text/plain": [
              "(50, 2, 115)"
            ]
          },
          "metadata": {},
          "execution_count": 32
        }
      ]
    },
    {
      "cell_type": "code",
      "execution_count": 23,
      "metadata": {
        "colab": {
          "base_uri": "https://localhost:8080/"
        },
        "outputId": "da9d6d65-a9a5-4025-908b-a9ae47697dbd",
        "id": "z6hxhQKT7Huv"
      },
      "outputs": [
        {
          "output_type": "stream",
          "name": "stdout",
          "text": [
            "[ 58.16  139.    160.4    91.27    2.071 169.4    50.2   101.5   131.2\n",
            "  70.29  103.9   125.5   119.4   162.5   174.5    85.68   91.96  134.6\n",
            " 173.4    41.52  101.6    65.72  170.4   153.5    90.21   92.88  118.8\n",
            " 200.3   149.1   177.3   168.    159.    171.2   169.3    88.14  163.1\n",
            " 179.8   107.6   137.3   183.2   211.7    10.26  221.3     0.526 141.2\n",
            " 168.3   105.6   107.    166.4   214.1  ]\n",
            "[-1.  1.  1. -1.  1.  1.  1.  1. -1.  1. -1. -1.  1. -1. -1.  1. -1.  1.\n",
            "  1.  1. -1. -1. -1. -1. -1. -1. -1.  1.  1. -1.  1.  1.  1. -1. -1.  1.\n",
            "  1. -1.  1. -1.  1. -1. -1.  1.  1.  1.  1.  1. -1.  1.]\n",
            "[ 20.48 218.9  147.7  ... 170.2  100.   171.9 ]\n",
            "x_train shape:(1286, 300, 300, 3)\n",
            "y_train shape:(1286,)\n",
            "gender_train shape:(1286,)\n",
            "x_valid shape:(50, 300, 300, 3)\n",
            "y_valid shape:(50,)\n",
            "gender_valid shape:(50,)\n",
            "x_test shape:(50, 300, 300, 3)\n",
            "y_test shape:(50,)\n"
          ]
        }
      ],
      "source": [
        "y = np.asarray(y_age)\n",
        "gender = np.asarray(y_gender)\n",
        "x=np.asarray(X_train, dtype=np.float32)\n",
        "x=x/255\n",
        "gender =2*( gender-0.5)\n",
        "x_final = []\n",
        "y_final = []\n",
        "gender_final = []\n",
        "\n",
        "# Shuffle images and split into train, validation and test sets\n",
        "#random_no = np.random.choice(x.shape[0], size=x.shape[0], replace=False)\n",
        "random_no = np.arange(x.shape[0])\n",
        "#print(random_no)\n",
        "np.random.seed(42)\n",
        "np.random.shuffle(random_no)\n",
        "for i in random_no:\n",
        "    x_final.append(x[i,:,:,:])\n",
        "    y_final.append(y[i])\n",
        "    gender_final.append(gender[i])\n",
        "\n",
        "x_final = np.asarray(x_final)\n",
        "y_final = np.asarray(y_final)\n",
        "gender_final = np.asarray(gender_final)\n",
        "print (y_final[:50])\n",
        "print (gender_final[:50])\n",
        "k = 50 # Decides split count\n",
        "x_test = x_final[:k,:,:,:]\n",
        "y_test = y_final[:k]\n",
        "gender_test = gender_final[:k]\n",
        "x_valid = x_final[k:2*k,:,:,:]\n",
        "y_valid = y_final[k:2*k]\n",
        "gender_valid = gender_final[k:2*k]\n",
        "x_train = x_final[2*k:,:,:,:]\n",
        "y_train = y_final[2*k:]\n",
        "gender_train = gender_final[2*k:]\n",
        "\n",
        "## \n",
        "#y_test = keras.utils.to_categorical(y_test,240)\n",
        "#y_train = keras.utils.to_categorical(y_train,240)\n",
        "#y_valid = keras.utils.to_categorical(y_valid,240)\n",
        "y_trains = softlabel(y_train,240)\n",
        "y_valids = softlabel(y_valid,240)\n",
        "y_tests = softlabel(y_test,240)\n",
        "print (y_train)\n",
        "\n",
        "\n",
        "print ('x_train shape:'+ str(x_train.shape))\n",
        "print ('y_train shape:'+ str(y_train.shape))\n",
        "print ('gender_train shape:'+ str(gender_train.shape))\n",
        "print ('x_valid shape:'+ str(x_valid.shape))\n",
        "print ('y_valid shape:'+ str(y_valid.shape))\n",
        "print ('gender_valid shape:' + str(gender_valid.shape))\n",
        "print ('x_test shape:'+ str(x_test.shape))\n",
        "print ('y_test shape:'+ str(y_test.shape))"
      ]
    },
    {
      "cell_type": "code",
      "source": [
        "def channel_attention(input_feature):\n",
        "  kernel_initializer = tf.keras.initializers.variance_scaling()\n",
        "  bias_initializer = tf.constant_initializer(value=0.0)\n",
        "  channel = input_feature.get_shape()[-1]\n",
        "  ratio=8\n",
        "  avg_pool = tf.reduce_mean(input_feature, axis=[1,2], keepdims=True)\n",
        "  assert avg_pool.get_shape()[1:] == (1,1,channel)\n",
        "  avg_pool =Dense(\n",
        "                                 units=channel//ratio,\n",
        "                                 activation=tf.nn.relu,\n",
        "                                 kernel_initializer=kernel_initializer,\n",
        "                                 bias_initializer=bias_initializer) (avg_pool)\n",
        "  assert avg_pool.get_shape()[1:] == (1,1,channel//ratio)\n",
        "  avg_pool = Dense(\n",
        "                                 units=channel,                             \n",
        "                                 kernel_initializer=kernel_initializer,\n",
        "                                 bias_initializer=bias_initializer)  (avg_pool)  \n",
        "  assert avg_pool.get_shape()[1:] == (1,1,channel)\n",
        "\n",
        "  max_pool = tf.reduce_max(input_feature, axis=[1,2], keepdims=True)    \n",
        "  assert max_pool.get_shape()[1:] == (1,1,channel)\n",
        "  max_pool = Dense(\n",
        "                                 units=channel//ratio,\n",
        "                                 activation=tf.nn.relu) (max_pool)  \n",
        "  assert max_pool.get_shape()[1:] == (1,1,channel//ratio)\n",
        "  max_pool = Dense(\n",
        "                                 units=channel)  (max_pool)\n",
        "  assert max_pool.get_shape()[1:] == (1,1,channel)\n",
        "\n",
        "  scale = tf.keras.activations.sigmoid(avg_pool + max_pool) \n",
        "  return input_feature * scale"
      ],
      "metadata": {
        "id": "CCbcDOKV7JUk"
      },
      "execution_count": 24,
      "outputs": []
    },
    {
      "cell_type": "code",
      "source": [
        "from keras.layers import Conv2D\n",
        "def spatial_attention(input_feature):\n",
        "  kernel_size = 7\n",
        "  kernel_initializer = tf.keras.initializers.variance_scaling()\n",
        "\n",
        "  avg_pool = tf.reduce_mean(input_feature, axis=[3], keepdims=True)\n",
        "  assert avg_pool.get_shape()[-1] == 1\n",
        "  max_pool = tf.reduce_max(input_feature, axis=[3], keepdims=True)\n",
        "  assert max_pool.get_shape()[-1] == 1\n",
        "  concat = tf.concat([avg_pool,max_pool], 3)\n",
        "  assert concat.get_shape()[-1] == 2\n",
        "\n",
        "  concat = Conv2D(\n",
        "                              filters=1,\n",
        "                              kernel_size=[kernel_size,kernel_size],\n",
        "                              strides=[1,1],\n",
        "                              padding=\"same\",\n",
        "                              activation=None,\n",
        "                              kernel_initializer=kernel_initializer,\n",
        "                              use_bias=False)(concat)\n",
        "  assert concat.get_shape()[-1] == 1\n",
        "  concat = tf.keras.activations.sigmoid(concat)\n",
        "    \n",
        "  return input_feature * concat"
      ],
      "metadata": {
        "id": "wgWKvMsO7Vce"
      },
      "execution_count": 29,
      "outputs": []
    },
    {
      "cell_type": "code",
      "source": [
        "import tensorflow as tf\n",
        "\n",
        "base_model = InceptionV3(weights='imagenet', include_top=False)\n",
        "input = Input(shape=(300,300,3),name='input1')\n",
        "input_gender = Input(shape=(1,),dtype='float32',name='input2')\n",
        "input_age = Input(shape=(2,115),dtype='float32',name='input3')\n",
        "data_augmentation = tf.keras.layers.RandomFlip(\"horizontal\")(input)\n",
        "data_augmentation = tf.keras.layers.RandomRotation( 0.2)(data_augmentation)\n",
        "output = base_model(data_augmentation)\n",
        "gender_embedding=Dense(32)(input_gender)\n",
        "x=channel_attention(output)\n",
        "print (K.int_shape(x))\n",
        "x=spatial_attention(x)\n",
        "print (K.int_shape(x))\n",
        "x = keras.layers.MaxPooling2D(pool_size=(8,8))(x)\n",
        "x=Flatten()(x)\n",
        "f = keras.layers.Concatenate(axis=1)([x,gender_embedding])\n",
        "f = Dense(512, activation='relu')(f)\n",
        "x =Dense(230,activation='linear')(f)\n",
        "y=Flatten()(input_age)\n",
        "print(y.shape)\n",
        "f = keras.layers.Multiply()([x,y])\n",
        "predictions=Dense(1)(f)\n",
        "\n",
        "model = Model(inputs=[input,input_gender,input_age], outputs=predictions)\n",
        "for i,layer in enumerate(model.layers):\n",
        "    print (i,layer.name)\n",
        "\n",
        "Adam=keras.optimizers.Adam(lr=0.0001,beta_1=0.9,beta_2=0.999)\n",
        "model.compile(optimizer=Adam, loss='mean_absolute_error', metrics=['MAE'])\n",
        "\n",
        "model.summary()\n",
        "\n",
        "\n",
        "checkpoint =keras.callbacks.ModelCheckpoint(filepath='weights_invcam.{epoch:02d}-{val_loss:.2f}.hdf5',save_weights_only=True,period=20)\n",
        "#model.fit_generator(DataGen.flow([x_train,gender_train,aget],y_train,batch_size=batch_size),steps_per_epoch=np.ceil(len(y_train)/batch_size),epochs=50,verbose=1,validation_data=([x_valid,gender_valid,agev],y_valid))\n",
        "history=model.fit([x_train,gender_train,aget],y_train,batch_size=4,epochs=20,verbose=1,validation_data=([x_valid,gender_valid,agev],y_valid),callbacks = [checkpoint])\n",
        "score = model.evaluate([x_test,gender_test,agev], y_test, batch_size=batch_size)\n",
        "print('Test loss:', score[0])\n",
        "print('Test MAE:', score[1])"
      ],
      "metadata": {
        "colab": {
          "base_uri": "https://localhost:8080/"
        },
        "id": "hIlhLize9CdZ",
        "outputId": "6672f8e8-72db-4b89-acf0-1d35fa4cbd5b"
      },
      "execution_count": 33,
      "outputs": [
        {
          "output_type": "stream",
          "name": "stdout",
          "text": [
            "(None, 8, 8, 2048)\n",
            "(None, 8, 8, 2048)\n",
            "(None, 230)\n",
            "0 input1\n",
            "1 random_flip_5\n",
            "2 random_rotation_5\n",
            "3 inception_v3\n",
            "4 tf.math.reduce_mean_4\n",
            "5 tf.math.reduce_max_4\n",
            "6 dense_26\n",
            "7 dense_28\n",
            "8 dense_27\n",
            "9 dense_29\n",
            "10 tf.__operators__.add_2\n",
            "11 tf.math.sigmoid_3\n",
            "12 tf.math.multiply_3\n",
            "13 tf.math.reduce_mean_5\n",
            "14 tf.math.reduce_max_5\n",
            "15 tf.concat_2\n",
            "16 conv2d_583\n",
            "17 tf.math.sigmoid_4\n",
            "18 tf.math.multiply_4\n",
            "19 max_pooling2d_27\n",
            "20 input2\n",
            "21 flatten_8\n",
            "22 dense_25\n",
            "23 concatenate_12\n",
            "24 dense_30\n",
            "25 input3\n",
            "26 dense_31\n",
            "27 flatten_9\n",
            "28 multiply_4\n",
            "29 dense_32\n",
            "Model: \"model_4\"\n",
            "__________________________________________________________________________________________________\n",
            " Layer (type)                   Output Shape         Param #     Connected to                     \n",
            "==================================================================================================\n",
            " input1 (InputLayer)            [(None, 300, 300, 3  0           []                               \n",
            "                                )]                                                                \n",
            "                                                                                                  \n",
            " random_flip_5 (RandomFlip)     (None, 300, 300, 3)  0           ['input1[0][0]']                 \n",
            "                                                                                                  \n",
            " random_rotation_5 (RandomRotat  (None, 300, 300, 3)  0          ['random_flip_5[0][0]']          \n",
            " ion)                                                                                             \n",
            "                                                                                                  \n",
            " inception_v3 (Functional)      (None, None, None,   21802784    ['random_rotation_5[0][0]']      \n",
            "                                2048)                                                             \n",
            "                                                                                                  \n",
            " tf.math.reduce_mean_4 (TFOpLam  (None, 1, 1, 2048)  0           ['inception_v3[0][0]']           \n",
            " bda)                                                                                             \n",
            "                                                                                                  \n",
            " tf.math.reduce_max_4 (TFOpLamb  (None, 1, 1, 2048)  0           ['inception_v3[0][0]']           \n",
            " da)                                                                                              \n",
            "                                                                                                  \n",
            " dense_26 (Dense)               (None, 1, 1, 256)    524544      ['tf.math.reduce_mean_4[0][0]']  \n",
            "                                                                                                  \n",
            " dense_28 (Dense)               (None, 1, 1, 256)    524544      ['tf.math.reduce_max_4[0][0]']   \n",
            "                                                                                                  \n",
            " dense_27 (Dense)               (None, 1, 1, 2048)   526336      ['dense_26[0][0]']               \n",
            "                                                                                                  \n",
            " dense_29 (Dense)               (None, 1, 1, 2048)   526336      ['dense_28[0][0]']               \n",
            "                                                                                                  \n",
            " tf.__operators__.add_2 (TFOpLa  (None, 1, 1, 2048)  0           ['dense_27[0][0]',               \n",
            " mbda)                                                            'dense_29[0][0]']               \n",
            "                                                                                                  \n",
            " tf.math.sigmoid_3 (TFOpLambda)  (None, 1, 1, 2048)  0           ['tf.__operators__.add_2[0][0]'] \n",
            "                                                                                                  \n",
            " tf.math.multiply_3 (TFOpLambda  (None, 8, 8, 2048)  0           ['inception_v3[0][0]',           \n",
            " )                                                                'tf.math.sigmoid_3[0][0]']      \n",
            "                                                                                                  \n",
            " tf.math.reduce_mean_5 (TFOpLam  (None, 8, 8, 1)     0           ['tf.math.multiply_3[0][0]']     \n",
            " bda)                                                                                             \n",
            "                                                                                                  \n",
            " tf.math.reduce_max_5 (TFOpLamb  (None, 8, 8, 1)     0           ['tf.math.multiply_3[0][0]']     \n",
            " da)                                                                                              \n",
            "                                                                                                  \n",
            " tf.concat_2 (TFOpLambda)       (None, 8, 8, 2)      0           ['tf.math.reduce_mean_5[0][0]',  \n",
            "                                                                  'tf.math.reduce_max_5[0][0]']   \n",
            "                                                                                                  \n",
            " conv2d_583 (Conv2D)            (None, 8, 8, 1)      98          ['tf.concat_2[0][0]']            \n",
            "                                                                                                  \n",
            " tf.math.sigmoid_4 (TFOpLambda)  (None, 8, 8, 1)     0           ['conv2d_583[0][0]']             \n",
            "                                                                                                  \n",
            " tf.math.multiply_4 (TFOpLambda  (None, 8, 8, 2048)  0           ['tf.math.multiply_3[0][0]',     \n",
            " )                                                                'tf.math.sigmoid_4[0][0]']      \n",
            "                                                                                                  \n",
            " max_pooling2d_27 (MaxPooling2D  (None, 1, 1, 2048)  0           ['tf.math.multiply_4[0][0]']     \n",
            " )                                                                                                \n",
            "                                                                                                  \n",
            " input2 (InputLayer)            [(None, 1)]          0           []                               \n",
            "                                                                                                  \n",
            " flatten_8 (Flatten)            (None, 2048)         0           ['max_pooling2d_27[0][0]']       \n",
            "                                                                                                  \n",
            " dense_25 (Dense)               (None, 32)           64          ['input2[0][0]']                 \n",
            "                                                                                                  \n",
            " concatenate_12 (Concatenate)   (None, 2080)         0           ['flatten_8[0][0]',              \n",
            "                                                                  'dense_25[0][0]']               \n",
            "                                                                                                  \n",
            " dense_30 (Dense)               (None, 512)          1065472     ['concatenate_12[0][0]']         \n",
            "                                                                                                  \n",
            " input3 (InputLayer)            [(None, 2, 115)]     0           []                               \n",
            "                                                                                                  \n",
            " dense_31 (Dense)               (None, 230)          117990      ['dense_30[0][0]']               \n",
            "                                                                                                  \n",
            " flatten_9 (Flatten)            (None, 230)          0           ['input3[0][0]']                 \n",
            "                                                                                                  \n",
            " multiply_4 (Multiply)          (None, 230)          0           ['dense_31[0][0]',               \n",
            "                                                                  'flatten_9[0][0]']              \n",
            "                                                                                                  \n",
            " dense_32 (Dense)               (None, 1)            231         ['multiply_4[0][0]']             \n",
            "                                                                                                  \n",
            "==================================================================================================\n",
            "Total params: 25,088,399\n",
            "Trainable params: 25,053,967\n",
            "Non-trainable params: 34,432\n",
            "__________________________________________________________________________________________________\n"
          ]
        },
        {
          "output_type": "stream",
          "name": "stderr",
          "text": [
            "WARNING:tensorflow:`period` argument is deprecated. Please use `save_freq` to specify the frequency in number of batches seen.\n"
          ]
        },
        {
          "output_type": "stream",
          "name": "stdout",
          "text": [
            "Epoch 1/20\n",
            "322/322 [==============================] - 39s 95ms/step - loss: 46.2623 - MAE: 46.2623 - val_loss: 29.4815 - val_MAE: 29.4815\n",
            "Epoch 2/20\n",
            "322/322 [==============================] - 31s 97ms/step - loss: 31.5178 - MAE: 31.5178 - val_loss: 21.6411 - val_MAE: 21.6411\n",
            "Epoch 3/20\n",
            "322/322 [==============================] - 31s 97ms/step - loss: 27.6151 - MAE: 27.6151 - val_loss: 30.2234 - val_MAE: 30.2234\n",
            "Epoch 4/20\n",
            "322/322 [==============================] - 31s 96ms/step - loss: 24.1361 - MAE: 24.1361 - val_loss: 22.7300 - val_MAE: 22.7300\n",
            "Epoch 5/20\n",
            "322/322 [==============================] - 31s 97ms/step - loss: 21.8195 - MAE: 21.8195 - val_loss: 28.3605 - val_MAE: 28.3605\n",
            "Epoch 6/20\n",
            "322/322 [==============================] - 29s 91ms/step - loss: 20.8484 - MAE: 20.8484 - val_loss: 21.0697 - val_MAE: 21.0697\n",
            "Epoch 7/20\n",
            "322/322 [==============================] - 31s 95ms/step - loss: 18.8777 - MAE: 18.8777 - val_loss: 21.5670 - val_MAE: 21.5670\n",
            "Epoch 8/20\n",
            "322/322 [==============================] - 32s 99ms/step - loss: 19.5511 - MAE: 19.5511 - val_loss: 19.9517 - val_MAE: 19.9517\n",
            "Epoch 9/20\n",
            "322/322 [==============================] - 30s 92ms/step - loss: 17.2908 - MAE: 17.2908 - val_loss: 34.9444 - val_MAE: 34.9444\n",
            "Epoch 10/20\n",
            "322/322 [==============================] - 31s 96ms/step - loss: 16.9684 - MAE: 16.9684 - val_loss: 23.8811 - val_MAE: 23.8811\n",
            "Epoch 11/20\n",
            "322/322 [==============================] - 29s 92ms/step - loss: 16.8249 - MAE: 16.8249 - val_loss: 16.7215 - val_MAE: 16.7215\n",
            "Epoch 12/20\n",
            "322/322 [==============================] - 29s 91ms/step - loss: 15.9032 - MAE: 15.9032 - val_loss: 16.3960 - val_MAE: 16.3960\n",
            "Epoch 13/20\n",
            "322/322 [==============================] - 30s 92ms/step - loss: 15.3767 - MAE: 15.3767 - val_loss: 18.5188 - val_MAE: 18.5188\n",
            "Epoch 14/20\n",
            "322/322 [==============================] - 29s 91ms/step - loss: 15.1665 - MAE: 15.1665 - val_loss: 17.0655 - val_MAE: 17.0655\n",
            "Epoch 15/20\n",
            "322/322 [==============================] - 29s 91ms/step - loss: 15.6515 - MAE: 15.6515 - val_loss: 14.1726 - val_MAE: 14.1726\n",
            "Epoch 16/20\n",
            "322/322 [==============================] - 29s 91ms/step - loss: 15.0027 - MAE: 15.0027 - val_loss: 25.7514 - val_MAE: 25.7514\n",
            "Epoch 17/20\n",
            "322/322 [==============================] - 30s 92ms/step - loss: 15.2968 - MAE: 15.2968 - val_loss: 22.0272 - val_MAE: 22.0272\n",
            "Epoch 18/20\n",
            "322/322 [==============================] - 29s 91ms/step - loss: 14.7564 - MAE: 14.7564 - val_loss: 16.0345 - val_MAE: 16.0345\n",
            "Epoch 19/20\n",
            "322/322 [==============================] - 29s 91ms/step - loss: 13.9940 - MAE: 13.9940 - val_loss: 18.4555 - val_MAE: 18.4555\n",
            "Epoch 20/20\n",
            "322/322 [==============================] - 30s 93ms/step - loss: 14.5041 - MAE: 14.5041 - val_loss: 16.5702 - val_MAE: 16.5702\n",
            "4/4 [==============================] - 0s 69ms/step - loss: 11.9432 - MAE: 11.9432\n",
            "Test loss: 11.943199157714844\n",
            "Test MAE: 11.943199157714844\n"
          ]
        }
      ]
    },
    {
      "cell_type": "code",
      "source": [
        "plt.plot(history.history['loss'])\n",
        "plt.plot(history.history['val_loss'])\n",
        "plt.title('Model loss')\n",
        "plt.ylabel('Loss')\n",
        "plt.xlabel('Epoch')\n",
        "plt.legend(['Train', 'Validation'], loc='upper left')\n",
        "plt.show()"
      ],
      "metadata": {
        "colab": {
          "base_uri": "https://localhost:8080/",
          "height": 295
        },
        "id": "42zVoszr-GOj",
        "outputId": "1bb3577d-6578-4f15-fa00-5b165af19a69"
      },
      "execution_count": 34,
      "outputs": [
        {
          "output_type": "display_data",
          "data": {
            "text/plain": [
              "<Figure size 432x288 with 1 Axes>"
            ],
            "image/png": "[encoded data removed]"
          },
          "metadata": {
            "needs_background": "light"
          }
        }
      ]
    },
    {
      "cell_type": "code",
      "source": [
        "import tensorflow as tf\n",
        "from tensorflow.keras.applications.inception_resnet_v2 import InceptionResNetV2\n",
        "\n",
        "base_model = InceptionResNetV2(weights='imagenet', include_top=False)\n",
        "input = Input(shape=(300,300,3),name='input1')\n",
        "input_gender = Input(shape=(1,),dtype='float32',name='input2')\n",
        "input_age = Input(shape=(2,115),dtype='float32',name='input3')\n",
        "data_augmentation = tf.keras.layers.RandomFlip(\"horizontal\")(input)\n",
        "data_augmentation = tf.keras.layers.RandomRotation( 0.2)(data_augmentation)\n",
        "output = base_model(data_augmentation)\n",
        "gender_embedding=Dense(32)(input_gender)\n",
        "x=channel_attention(output)\n",
        "print (K.int_shape(x))\n",
        "x=spatial_attention(x)\n",
        "print (K.int_shape(x))\n",
        "x = keras.layers.MaxPooling2D(pool_size=(8,8))(x)\n",
        "x=Flatten()(x)\n",
        "f = keras.layers.Concatenate(axis=1)([x,gender_embedding])\n",
        "f = Dense(512, activation='relu')(f)\n",
        "x =Dense(230,activation='linear')(f)\n",
        "y=Flatten()(input_age)\n",
        "print(y.shape)\n",
        "f = keras.layers.Multiply()([x,y])\n",
        "predictions=Dense(1)(f)\n",
        "\n",
        "model = Model(inputs=[input,input_gender,input_age], outputs=predictions)\n",
        "for i,layer in enumerate(model.layers):\n",
        "    print (i,layer.name)\n",
        "\n",
        "Adam=keras.optimizers.Adam(lr=0.0001,beta_1=0.9,beta_2=0.999)\n",
        "model.compile(optimizer=Adam, loss='mean_absolute_error', metrics=['MAE'])\n",
        "\n",
        "model.summary()\n",
        "\n",
        "\n",
        "checkpoint =keras.callbacks.ModelCheckpoint(filepath='weights_invrescam.{epoch:02d}-{val_loss:.2f}.hdf5',save_weights_only=True,period=20)\n",
        "#model.fit_generator(DataGen.flow([x_train,gender_train,aget],y_train,batch_size=batch_size),steps_per_epoch=np.ceil(len(y_train)/batch_size),epochs=50,verbose=1,validation_data=([x_valid,gender_valid,agev],y_valid))\n",
        "history=model.fit([x_train,gender_train,aget],y_train,batch_size=4,epochs=20,verbose=1,validation_data=([x_valid,gender_valid,agev],y_valid),callbacks = [checkpoint])\n",
        "score = model.evaluate([x_test,gender_test,agev], y_test, batch_size=batch_size)\n",
        "print('Test loss:', score[0])\n",
        "print('Test MAE:', score[1])"
      ],
      "metadata": {
        "colab": {
          "base_uri": "https://localhost:8080/"
        },
        "id": "TXTlU5lQ_boP",
        "outputId": "d5b1c8de-1528-4d1f-e0ed-18a732eb8cfe"
      },
      "execution_count": 35,
      "outputs": [
        {
          "output_type": "stream",
          "name": "stdout",
          "text": [
            "(None, 8, 8, 1536)\n",
            "(None, 8, 8, 1536)\n",
            "(None, 230)\n",
            "0 input1\n",
            "1 random_flip_6\n",
            "2 random_rotation_6\n",
            "3 inception_resnet_v2\n",
            "4 tf.math.reduce_mean_6\n",
            "5 tf.math.reduce_max_6\n",
            "6 dense_34\n",
            "7 dense_36\n",
            "8 dense_35\n",
            "9 dense_37\n",
            "10 tf.__operators__.add_3\n",
            "11 tf.math.sigmoid_5\n",
            "12 tf.math.multiply_5\n",
            "13 tf.math.reduce_mean_7\n",
            "14 tf.math.reduce_max_7\n",
            "15 tf.concat_3\n",
            "16 conv2d_787\n",
            "17 tf.math.sigmoid_6\n",
            "18 tf.math.multiply_6\n",
            "19 max_pooling2d_32\n",
            "20 input2\n",
            "21 flatten_10\n",
            "22 dense_33\n",
            "23 concatenate_13\n",
            "24 dense_38\n",
            "25 input3\n",
            "26 dense_39\n",
            "27 flatten_11\n",
            "28 multiply_5\n",
            "29 dense_40\n",
            "Model: \"model_5\"\n",
            "__________________________________________________________________________________________________\n",
            " Layer (type)                   Output Shape         Param #     Connected to                     \n",
            "==================================================================================================\n",
            " input1 (InputLayer)            [(None, 300, 300, 3  0           []                               \n",
            "                                )]                                                                \n",
            "                                                                                                  \n",
            " random_flip_6 (RandomFlip)     (None, 300, 300, 3)  0           ['input1[0][0]']                 \n",
            "                                                                                                  \n",
            " random_rotation_6 (RandomRotat  (None, 300, 300, 3)  0          ['random_flip_6[0][0]']          \n",
            " ion)                                                                                             \n",
            "                                                                                                  \n",
            " inception_resnet_v2 (Functiona  (None, None, None,   54336736   ['random_rotation_6[0][0]']      \n",
            " l)                             1536)                                                             \n",
            "                                                                                                  \n",
            " tf.math.reduce_mean_6 (TFOpLam  (None, 1, 1, 1536)  0           ['inception_resnet_v2[0][0]']    \n",
            " bda)                                                                                             \n",
            "                                                                                                  \n",
            " tf.math.reduce_max_6 (TFOpLamb  (None, 1, 1, 1536)  0           ['inception_resnet_v2[0][0]']    \n",
            " da)                                                                                              \n",
            "                                                                                                  \n",
            " dense_34 (Dense)               (None, 1, 1, 192)    295104      ['tf.math.reduce_mean_6[0][0]']  \n",
            "                                                                                                  \n",
            " dense_36 (Dense)               (None, 1, 1, 192)    295104      ['tf.math.reduce_max_6[0][0]']   \n",
            "                                                                                                  \n",
            " dense_35 (Dense)               (None, 1, 1, 1536)   296448      ['dense_34[0][0]']               \n",
            "                                                                                                  \n",
            " dense_37 (Dense)               (None, 1, 1, 1536)   296448      ['dense_36[0][0]']               \n",
            "                                                                                                  \n",
            " tf.__operators__.add_3 (TFOpLa  (None, 1, 1, 1536)  0           ['dense_35[0][0]',               \n",
            " mbda)                                                            'dense_37[0][0]']               \n",
            "                                                                                                  \n",
            " tf.math.sigmoid_5 (TFOpLambda)  (None, 1, 1, 1536)  0           ['tf.__operators__.add_3[0][0]'] \n",
            "                                                                                                  \n",
            " tf.math.multiply_5 (TFOpLambda  (None, 8, 8, 1536)  0           ['inception_resnet_v2[0][0]',    \n",
            " )                                                                'tf.math.sigmoid_5[0][0]']      \n",
            "                                                                                                  \n",
            " tf.math.reduce_mean_7 (TFOpLam  (None, 8, 8, 1)     0           ['tf.math.multiply_5[0][0]']     \n",
            " bda)                                                                                             \n",
            "                                                                                                  \n",
            " tf.math.reduce_max_7 (TFOpLamb  (None, 8, 8, 1)     0           ['tf.math.multiply_5[0][0]']     \n",
            " da)                                                                                              \n",
            "                                                                                                  \n",
            " tf.concat_3 (TFOpLambda)       (None, 8, 8, 2)      0           ['tf.math.reduce_mean_7[0][0]',  \n",
            "                                                                  'tf.math.reduce_max_7[0][0]']   \n",
            "                                                                                                  \n",
            " conv2d_787 (Conv2D)            (None, 8, 8, 1)      98          ['tf.concat_3[0][0]']            \n",
            "                                                                                                  \n",
            " tf.math.sigmoid_6 (TFOpLambda)  (None, 8, 8, 1)     0           ['conv2d_787[0][0]']             \n",
            "                                                                                                  \n",
            " tf.math.multiply_6 (TFOpLambda  (None, 8, 8, 1536)  0           ['tf.math.multiply_5[0][0]',     \n",
            " )                                                                'tf.math.sigmoid_6[0][0]']      \n",
            "                                                                                                  \n",
            " max_pooling2d_32 (MaxPooling2D  (None, 1, 1, 1536)  0           ['tf.math.multiply_6[0][0]']     \n",
            " )                                                                                                \n",
            "                                                                                                  \n",
            " input2 (InputLayer)            [(None, 1)]          0           []                               \n",
            "                                                                                                  \n",
            " flatten_10 (Flatten)           (None, 1536)         0           ['max_pooling2d_32[0][0]']       \n",
            "                                                                                                  \n",
            " dense_33 (Dense)               (None, 32)           64          ['input2[0][0]']                 \n",
            "                                                                                                  \n",
            " concatenate_13 (Concatenate)   (None, 1568)         0           ['flatten_10[0][0]',             \n",
            "                                                                  'dense_33[0][0]']               \n",
            "                                                                                                  \n",
            " dense_38 (Dense)               (None, 512)          803328      ['concatenate_13[0][0]']         \n",
            "                                                                                                  \n",
            " input3 (InputLayer)            [(None, 2, 115)]     0           []                               \n",
            "                                                                                                  \n",
            " dense_39 (Dense)               (None, 230)          117990      ['dense_38[0][0]']               \n",
            "                                                                                                  \n",
            " flatten_11 (Flatten)           (None, 230)          0           ['input3[0][0]']                 \n",
            "                                                                                                  \n",
            " multiply_5 (Multiply)          (None, 230)          0           ['dense_39[0][0]',               \n",
            "                                                                  'flatten_11[0][0]']             \n",
            "                                                                                                  \n",
            " dense_40 (Dense)               (None, 1)            231         ['multiply_5[0][0]']             \n",
            "                                                                                                  \n",
            "==================================================================================================\n",
            "Total params: 56,441,551\n",
            "Trainable params: 56,381,007\n",
            "Non-trainable params: 60,544\n",
            "__________________________________________________________________________________________________\n"
          ]
        },
        {
          "output_type": "stream",
          "name": "stderr",
          "text": [
            "WARNING:tensorflow:`period` argument is deprecated. Please use `save_freq` to specify the frequency in number of batches seen.\n"
          ]
        },
        {
          "output_type": "stream",
          "name": "stdout",
          "text": [
            "Epoch 1/20\n",
            "322/322 [==============================] - 90s 219ms/step - loss: 49.3992 - MAE: 49.3992 - val_loss: 130633.8438 - val_MAE: 130633.8438\n",
            "Epoch 2/20\n",
            "322/322 [==============================] - 66s 206ms/step - loss: 31.4686 - MAE: 31.4686 - val_loss: 45565.7031 - val_MAE: 45565.7031\n",
            "Epoch 3/20\n",
            "322/322 [==============================] - 66s 206ms/step - loss: 27.3612 - MAE: 27.3612 - val_loss: 12661.1885 - val_MAE: 12661.1885\n",
            "Epoch 4/20\n",
            "322/322 [==============================] - 66s 206ms/step - loss: 23.3427 - MAE: 23.3427 - val_loss: 4614.7607 - val_MAE: 4614.7607\n",
            "Epoch 5/20\n",
            "322/322 [==============================] - 67s 207ms/step - loss: 20.5582 - MAE: 20.5582 - val_loss: 38405.3359 - val_MAE: 38405.3359\n",
            "Epoch 6/20\n",
            "322/322 [==============================] - 66s 206ms/step - loss: 19.4870 - MAE: 19.4870 - val_loss: 16833.3008 - val_MAE: 16833.3008\n",
            "Epoch 7/20\n",
            "322/322 [==============================] - 67s 208ms/step - loss: 18.4155 - MAE: 18.4155 - val_loss: 5248.7095 - val_MAE: 5248.7095\n",
            "Epoch 8/20\n",
            "322/322 [==============================] - 66s 206ms/step - loss: 18.0999 - MAE: 18.0999 - val_loss: 8344.5576 - val_MAE: 8344.5576\n",
            "Epoch 9/20\n",
            "322/322 [==============================] - 66s 206ms/step - loss: 17.8345 - MAE: 17.8345 - val_loss: 5142.7461 - val_MAE: 5142.7461\n",
            "Epoch 10/20\n",
            "322/322 [==============================] - 66s 206ms/step - loss: 16.5910 - MAE: 16.5910 - val_loss: 3722.7314 - val_MAE: 3722.7314\n",
            "Epoch 11/20\n",
            "322/322 [==============================] - 66s 206ms/step - loss: 16.0453 - MAE: 16.0453 - val_loss: 1451.7003 - val_MAE: 1451.7003\n",
            "Epoch 12/20\n",
            "322/322 [==============================] - 66s 206ms/step - loss: 15.6021 - MAE: 15.6021 - val_loss: 4038.6221 - val_MAE: 4038.6221\n",
            "Epoch 13/20\n",
            "322/322 [==============================] - 67s 207ms/step - loss: 15.8958 - MAE: 15.8958 - val_loss: 3094.0454 - val_MAE: 3094.0454\n",
            "Epoch 14/20\n",
            "322/322 [==============================] - 66s 206ms/step - loss: 15.3417 - MAE: 15.3417 - val_loss: 1956.2064 - val_MAE: 1956.2064\n",
            "Epoch 15/20\n",
            "322/322 [==============================] - 67s 207ms/step - loss: 14.2290 - MAE: 14.2290 - val_loss: 1150.4419 - val_MAE: 1150.4419\n",
            "Epoch 16/20\n",
            "322/322 [==============================] - 66s 205ms/step - loss: 14.5779 - MAE: 14.5779 - val_loss: 186.1077 - val_MAE: 186.1077\n",
            "Epoch 17/20\n",
            "322/322 [==============================] - 66s 206ms/step - loss: 15.4677 - MAE: 15.4677 - val_loss: 21.4358 - val_MAE: 21.4358\n",
            "Epoch 18/20\n",
            "322/322 [==============================] - 66s 206ms/step - loss: 14.9794 - MAE: 14.9794 - val_loss: 18.7941 - val_MAE: 18.7941\n",
            "Epoch 19/20\n",
            "322/322 [==============================] - 67s 207ms/step - loss: 14.7285 - MAE: 14.7285 - val_loss: 17.1125 - val_MAE: 17.1125\n",
            "Epoch 20/20\n",
            "322/322 [==============================] - 68s 210ms/step - loss: 13.9619 - MAE: 13.9619 - val_loss: 23.3878 - val_MAE: 23.3878\n",
            "4/4 [==============================] - 1s 135ms/step - loss: 18.1140 - MAE: 18.1140\n",
            "Test loss: 18.113977432250977\n",
            "Test MAE: 18.113977432250977\n"
          ]
        }
      ]
    },
    {
      "cell_type": "code",
      "source": [
        "plt.plot(history.history['loss'])\n",
        "plt.plot(history.history['val_loss'])\n",
        "plt.title('Model loss')\n",
        "plt.ylabel('Loss')\n",
        "plt.xlabel('Epoch')\n",
        "plt.legend(['Train', 'Validation'], loc='upper left')\n",
        "plt.show()"
      ],
      "metadata": {
        "id": "jwuNiUP2_-_W"
      },
      "execution_count": null,
      "outputs": []
    },
    {
      "cell_type": "code",
      "source": [
        "import tensorflow as tf\n",
        "from tensorflow.keras.applications.resnet_v2 import ResNet101V2\n",
        "\n",
        "base_model = ResNet101V2(weights='imagenet', include_top=False)\n",
        "input = Input(shape=(300,300,3),name='input1')\n",
        "input_gender = Input(shape=(1,),dtype='float32',name='input2')\n",
        "input_age = Input(shape=(2,115),dtype='float32',name='input3')\n",
        "data_augmentation = tf.keras.layers.RandomFlip(\"horizontal\")(input)\n",
        "data_augmentation = tf.keras.layers.RandomRotation( 0.2)(data_augmentation)\n",
        "output = base_model(data_augmentation)\n",
        "gender_embedding=Dense(32)(input_gender)\n",
        "x=channel_attention(output)\n",
        "print (K.int_shape(x))\n",
        "x=spatial_attention(x)\n",
        "print (K.int_shape(x))\n",
        "x = keras.layers.MaxPooling2D(pool_size=(8,8))(x)\n",
        "x=Flatten()(x)\n",
        "f = keras.layers.Concatenate(axis=1)([x,gender_embedding])\n",
        "f = Dense(512, activation='relu')(f)\n",
        "x =Dense(230,activation='linear')(f)\n",
        "y=Flatten()(input_age)\n",
        "print(y.shape)\n",
        "f = keras.layers.Multiply()([x,y])\n",
        "predictions=Dense(1)(f)\n",
        "\n",
        "model = Model(inputs=[input,input_gender,input_age], outputs=predictions)\n",
        "for i,layer in enumerate(model.layers):\n",
        "    print (i,layer.name)\n",
        "\n",
        "Adam=keras.optimizers.Adam(lr=0.0001,beta_1=0.9,beta_2=0.999)\n",
        "model.compile(optimizer=Adam, loss='mean_absolute_error', metrics=['MAE'])\n",
        "\n",
        "model.summary()\n",
        "\n",
        "\n",
        "checkpoint =keras.callbacks.ModelCheckpoint(filepath='weights_rescam.{epoch:02d}-{val_loss:.2f}.hdf5',save_weights_only=True,period=20)\n",
        "#model.fit_generator(DataGen.flow([x_train,gender_train,aget],y_train,batch_size=batch_size),steps_per_epoch=np.ceil(len(y_train)/batch_size),epochs=50,verbose=1,validation_data=([x_valid,gender_valid,agev],y_valid))\n",
        "history=model.fit([x_train,gender_train,aget],y_train,batch_size=4,epochs=20,verbose=1,validation_data=([x_valid,gender_valid,agev],y_valid),callbacks = [checkpoint])\n",
        "score = model.evaluate([x_test,gender_test,agev], y_test, batch_size=batch_size)\n",
        "print('Test loss:', score[0])\n",
        "print('Test MAE:', score[1])"
      ],
      "metadata": {
        "colab": {
          "base_uri": "https://localhost:8080/"
        },
        "id": "YX8OGNgAAGPq",
        "outputId": "f3a8ab69-8697-41ae-a14f-de64b8c2f919"
      },
      "execution_count": 36,
      "outputs": [
        {
          "output_type": "stream",
          "name": "stdout",
          "text": [
            "(None, 10, 10, 2048)\n",
            "(None, 10, 10, 2048)\n",
            "(None, 230)\n",
            "0 input1\n",
            "1 random_flip_7\n",
            "2 random_rotation_7\n",
            "3 resnet101v2\n",
            "4 tf.math.reduce_mean_8\n",
            "5 tf.math.reduce_max_8\n",
            "6 dense_42\n",
            "7 dense_44\n",
            "8 dense_43\n",
            "9 dense_45\n",
            "10 tf.__operators__.add_4\n",
            "11 tf.math.sigmoid_7\n",
            "12 tf.math.multiply_7\n",
            "13 tf.math.reduce_mean_9\n",
            "14 tf.math.reduce_max_9\n",
            "15 tf.concat_4\n",
            "16 conv2d_788\n",
            "17 tf.math.sigmoid_8\n",
            "18 tf.math.multiply_8\n",
            "19 max_pooling2d_36\n",
            "20 input2\n",
            "21 flatten_12\n",
            "22 dense_41\n",
            "23 concatenate_14\n",
            "24 dense_46\n",
            "25 input3\n",
            "26 dense_47\n",
            "27 flatten_13\n",
            "28 multiply_6\n",
            "29 dense_48\n",
            "Model: \"model_6\"\n",
            "__________________________________________________________________________________________________\n",
            " Layer (type)                   Output Shape         Param #     Connected to                     \n",
            "==================================================================================================\n",
            " input1 (InputLayer)            [(None, 300, 300, 3  0           []                               \n",
            "                                )]                                                                \n",
            "                                                                                                  \n",
            " random_flip_7 (RandomFlip)     (None, 300, 300, 3)  0           ['input1[0][0]']                 \n",
            "                                                                                                  \n",
            " random_rotation_7 (RandomRotat  (None, 300, 300, 3)  0          ['random_flip_7[0][0]']          \n",
            " ion)                                                                                             \n",
            "                                                                                                  \n",
            " resnet101v2 (Functional)       (None, None, None,   42626560    ['random_rotation_7[0][0]']      \n",
            "                                2048)                                                             \n",
            "                                                                                                  \n",
            " tf.math.reduce_mean_8 (TFOpLam  (None, 1, 1, 2048)  0           ['resnet101v2[0][0]']            \n",
            " bda)                                                                                             \n",
            "                                                                                                  \n",
            " tf.math.reduce_max_8 (TFOpLamb  (None, 1, 1, 2048)  0           ['resnet101v2[0][0]']            \n",
            " da)                                                                                              \n",
            "                                                                                                  \n",
            " dense_42 (Dense)               (None, 1, 1, 256)    524544      ['tf.math.reduce_mean_8[0][0]']  \n",
            "                                                                                                  \n",
            " dense_44 (Dense)               (None, 1, 1, 256)    524544      ['tf.math.reduce_max_8[0][0]']   \n",
            "                                                                                                  \n",
            " dense_43 (Dense)               (None, 1, 1, 2048)   526336      ['dense_42[0][0]']               \n",
            "                                                                                                  \n",
            " dense_45 (Dense)               (None, 1, 1, 2048)   526336      ['dense_44[0][0]']               \n",
            "                                                                                                  \n",
            " tf.__operators__.add_4 (TFOpLa  (None, 1, 1, 2048)  0           ['dense_43[0][0]',               \n",
            " mbda)                                                            'dense_45[0][0]']               \n",
            "                                                                                                  \n",
            " tf.math.sigmoid_7 (TFOpLambda)  (None, 1, 1, 2048)  0           ['tf.__operators__.add_4[0][0]'] \n",
            "                                                                                                  \n",
            " tf.math.multiply_7 (TFOpLambda  (None, 10, 10, 2048  0          ['resnet101v2[0][0]',            \n",
            " )                              )                                 'tf.math.sigmoid_7[0][0]']      \n",
            "                                                                                                  \n",
            " tf.math.reduce_mean_9 (TFOpLam  (None, 10, 10, 1)   0           ['tf.math.multiply_7[0][0]']     \n",
            " bda)                                                                                             \n",
            "                                                                                                  \n",
            " tf.math.reduce_max_9 (TFOpLamb  (None, 10, 10, 1)   0           ['tf.math.multiply_7[0][0]']     \n",
            " da)                                                                                              \n",
            "                                                                                                  \n",
            " tf.concat_4 (TFOpLambda)       (None, 10, 10, 2)    0           ['tf.math.reduce_mean_9[0][0]',  \n",
            "                                                                  'tf.math.reduce_max_9[0][0]']   \n",
            "                                                                                                  \n",
            " conv2d_788 (Conv2D)            (None, 10, 10, 1)    98          ['tf.concat_4[0][0]']            \n",
            "                                                                                                  \n",
            " tf.math.sigmoid_8 (TFOpLambda)  (None, 10, 10, 1)   0           ['conv2d_788[0][0]']             \n",
            "                                                                                                  \n",
            " tf.math.multiply_8 (TFOpLambda  (None, 10, 10, 2048  0          ['tf.math.multiply_7[0][0]',     \n",
            " )                              )                                 'tf.math.sigmoid_8[0][0]']      \n",
            "                                                                                                  \n",
            " max_pooling2d_36 (MaxPooling2D  (None, 1, 1, 2048)  0           ['tf.math.multiply_8[0][0]']     \n",
            " )                                                                                                \n",
            "                                                                                                  \n",
            " input2 (InputLayer)            [(None, 1)]          0           []                               \n",
            "                                                                                                  \n",
            " flatten_12 (Flatten)           (None, 2048)         0           ['max_pooling2d_36[0][0]']       \n",
            "                                                                                                  \n",
            " dense_41 (Dense)               (None, 32)           64          ['input2[0][0]']                 \n",
            "                                                                                                  \n",
            " concatenate_14 (Concatenate)   (None, 2080)         0           ['flatten_12[0][0]',             \n",
            "                                                                  'dense_41[0][0]']               \n",
            "                                                                                                  \n",
            " dense_46 (Dense)               (None, 512)          1065472     ['concatenate_14[0][0]']         \n",
            "                                                                                                  \n",
            " input3 (InputLayer)            [(None, 2, 115)]     0           []                               \n",
            "                                                                                                  \n",
            " dense_47 (Dense)               (None, 230)          117990      ['dense_46[0][0]']               \n",
            "                                                                                                  \n",
            " flatten_13 (Flatten)           (None, 230)          0           ['input3[0][0]']                 \n",
            "                                                                                                  \n",
            " multiply_6 (Multiply)          (None, 230)          0           ['dense_47[0][0]',               \n",
            "                                                                  'flatten_13[0][0]']             \n",
            "                                                                                                  \n",
            " dense_48 (Dense)               (None, 1)            231         ['multiply_6[0][0]']             \n",
            "                                                                                                  \n",
            "==================================================================================================\n",
            "Total params: 45,912,175\n",
            "Trainable params: 45,814,511\n",
            "Non-trainable params: 97,664\n",
            "__________________________________________________________________________________________________\n"
          ]
        },
        {
          "output_type": "stream",
          "name": "stderr",
          "text": [
            "WARNING:tensorflow:`period` argument is deprecated. Please use `save_freq` to specify the frequency in number of batches seen.\n"
          ]
        },
        {
          "output_type": "stream",
          "name": "stdout",
          "text": [
            "Epoch 1/20\n",
            "322/322 [==============================] - 75s 193ms/step - loss: 78.6006 - MAE: 78.6006 - val_loss: 56.6525 - val_MAE: 56.6525\n",
            "Epoch 2/20\n",
            "322/322 [==============================] - 60s 187ms/step - loss: 46.1807 - MAE: 46.1807 - val_loss: 57.0927 - val_MAE: 57.0927\n",
            "Epoch 3/20\n",
            "322/322 [==============================] - 60s 187ms/step - loss: 38.2174 - MAE: 38.2174 - val_loss: 35.8874 - val_MAE: 35.8874\n",
            "Epoch 4/20\n",
            "322/322 [==============================] - 60s 187ms/step - loss: 34.1875 - MAE: 34.1875 - val_loss: 41.6644 - val_MAE: 41.6644\n",
            "Epoch 5/20\n",
            "322/322 [==============================] - 60s 185ms/step - loss: 28.3475 - MAE: 28.3475 - val_loss: 28.6403 - val_MAE: 28.6403\n",
            "Epoch 6/20\n",
            "322/322 [==============================] - 60s 186ms/step - loss: 26.1365 - MAE: 26.1365 - val_loss: 25.8402 - val_MAE: 25.8402\n",
            "Epoch 7/20\n",
            "322/322 [==============================] - 60s 185ms/step - loss: 23.6318 - MAE: 23.6318 - val_loss: 25.6461 - val_MAE: 25.6461\n",
            "Epoch 8/20\n",
            "322/322 [==============================] - 60s 187ms/step - loss: 22.8448 - MAE: 22.8448 - val_loss: 24.2262 - val_MAE: 24.2262\n",
            "Epoch 9/20\n",
            "322/322 [==============================] - 60s 187ms/step - loss: 21.6571 - MAE: 21.6571 - val_loss: 24.4867 - val_MAE: 24.4867\n",
            "Epoch 10/20\n",
            "322/322 [==============================] - 60s 185ms/step - loss: 22.3322 - MAE: 22.3322 - val_loss: 21.2991 - val_MAE: 21.2991\n",
            "Epoch 11/20\n",
            "322/322 [==============================] - 60s 185ms/step - loss: 22.3721 - MAE: 22.3721 - val_loss: 252.1045 - val_MAE: 252.1045\n",
            "Epoch 12/20\n",
            "322/322 [==============================] - 60s 185ms/step - loss: 24.0618 - MAE: 24.0618 - val_loss: 22.4323 - val_MAE: 22.4323\n",
            "Epoch 13/20\n",
            "322/322 [==============================] - 60s 187ms/step - loss: 22.2973 - MAE: 22.2973 - val_loss: 28.6796 - val_MAE: 28.6796\n",
            "Epoch 14/20\n",
            "322/322 [==============================] - 60s 186ms/step - loss: 20.3458 - MAE: 20.3458 - val_loss: 29.0727 - val_MAE: 29.0727\n",
            "Epoch 15/20\n",
            "322/322 [==============================] - 60s 185ms/step - loss: 21.8508 - MAE: 21.8508 - val_loss: 25.7464 - val_MAE: 25.7464\n",
            "Epoch 16/20\n",
            "322/322 [==============================] - 60s 185ms/step - loss: 19.7830 - MAE: 19.7830 - val_loss: 18.1848 - val_MAE: 18.1848\n",
            "Epoch 17/20\n",
            "322/322 [==============================] - 60s 187ms/step - loss: 19.9756 - MAE: 19.9756 - val_loss: 22.2856 - val_MAE: 22.2856\n",
            "Epoch 18/20\n",
            "322/322 [==============================] - 60s 187ms/step - loss: 20.3550 - MAE: 20.3550 - val_loss: 21.8111 - val_MAE: 21.8111\n",
            "Epoch 19/20\n",
            "322/322 [==============================] - 60s 187ms/step - loss: 20.6057 - MAE: 20.6057 - val_loss: 19.7212 - val_MAE: 19.7212\n",
            "Epoch 20/20\n",
            "322/322 [==============================] - 61s 190ms/step - loss: 25.2090 - MAE: 25.2090 - val_loss: 39.2643 - val_MAE: 39.2643\n",
            "4/4 [==============================] - 1s 117ms/step - loss: 33.4257 - MAE: 33.4257\n",
            "Test loss: 33.4256706237793\n",
            "Test MAE: 33.4256706237793\n"
          ]
        }
      ]
    },
    {
      "cell_type": "code",
      "source": [
        "plt.plot(history.history['loss'])\n",
        "plt.plot(history.history['val_loss'])\n",
        "plt.title('Model loss')\n",
        "plt.ylabel('Loss')\n",
        "plt.xlabel('Epoch')\n",
        "plt.legend(['Train', 'Validation'], loc='upper left')\n",
        "plt.show()"
      ],
      "metadata": {
        "colab": {
          "base_uri": "https://localhost:8080/",
          "height": 295
        },
        "id": "IxVZTuYtACa6",
        "outputId": "9f2ccbdf-0867-4769-ba12-ce71ad374308"
      },
      "execution_count": 37,
      "outputs": [
        {
          "output_type": "display_data",
          "data": {
            "text/plain": [
              "<Figure size 432x288 with 1 Axes>"
            ],
            "image/png": "[encoded data removed]"
          },
          "metadata": {
            "needs_background": "light"
          }
        }
      ]
    },
    {
      "cell_type": "code",
      "source": [],
      "metadata": {
        "id": "W_O7IQpGASWg"
      },
      "execution_count": null,
      "outputs": []
    }
  ]
}